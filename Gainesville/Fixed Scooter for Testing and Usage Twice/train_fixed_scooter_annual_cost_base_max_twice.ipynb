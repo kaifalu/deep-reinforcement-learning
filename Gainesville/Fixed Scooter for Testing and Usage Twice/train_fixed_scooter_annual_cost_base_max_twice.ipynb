{
 "cells": [
  {
   "cell_type": "markdown",
   "id": "203270d1",
   "metadata": {},
   "source": [
    "### Import"
   ]
  },
  {
   "cell_type": "code",
   "execution_count": 1,
   "id": "3f4333d3",
   "metadata": {},
   "outputs": [
    {
     "name": "stdout",
     "output_type": "stream",
     "text": [
      "Start: 2025-07-10 20:42:29\n"
     ]
    }
   ],
   "source": [
    "import sys\n",
    "import os\n",
    "import matplotlib.pyplot as plt\n",
    "from datetime import datetime, timedelta\n",
    "import pandas as pd\n",
    "import geopandas as gpd\n",
    "import numpy as np\n",
    "import matplotlib.pyplot as plt\n",
    "from shapely.geometry import Point, shape\n",
    "import seaborn as sns\n",
    "import random\n",
    "from mpl_toolkits.axes_grid1 import make_axes_locatable\n",
    "# import datetime\n",
    "\n",
    "sys.path.insert(0, '../..')\n",
    "\n",
    "print(\"Start: \" + datetime.now().strftime('%Y-%m-%d %H:%M:%S'))\n",
    "\n",
    "from network_v11_13_max_fixed_scooter_twice import *\n",
    "from helper_v11_13_max_fixed_scooter_twice import *"
   ]
  },
  {
   "cell_type": "markdown",
   "id": "a0dd7f1e",
   "metadata": {},
   "source": [
    "### Initialization"
   ]
  },
  {
   "cell_type": "markdown",
   "id": "ac6bac25",
   "metadata": {},
   "source": [
    "#### define agent and gnv boundary"
   ]
  },
  {
   "cell_type": "code",
   "execution_count": 2,
   "id": "f7d075cd",
   "metadata": {},
   "outputs": [
    {
     "data": {
      "text/html": [
       "<div>\n",
       "<style scoped>\n",
       "    .dataframe tbody tr th:only-of-type {\n",
       "        vertical-align: middle;\n",
       "    }\n",
       "\n",
       "    .dataframe tbody tr th {\n",
       "        vertical-align: top;\n",
       "    }\n",
       "\n",
       "    .dataframe thead th {\n",
       "        text-align: right;\n",
       "    }\n",
       "</style>\n",
       "<table border=\"1\" class=\"dataframe\">\n",
       "  <thead>\n",
       "    <tr style=\"text-align: right;\">\n",
       "      <th></th>\n",
       "      <th>level_0</th>\n",
       "      <th>index</th>\n",
       "      <th>latitude</th>\n",
       "      <th>longitude</th>\n",
       "      <th>departure_rate</th>\n",
       "      <th>arrival_rate</th>\n",
       "      <th>dist_transPOI</th>\n",
       "      <th>num_transPOI</th>\n",
       "      <th>dist_bus_stop</th>\n",
       "      <th>num_bus_stop</th>\n",
       "      <th>rider_test_list</th>\n",
       "      <th>geometry</th>\n",
       "    </tr>\n",
       "  </thead>\n",
       "  <tbody>\n",
       "    <tr>\n",
       "      <th>0</th>\n",
       "      <td>0</td>\n",
       "      <td>29</td>\n",
       "      <td>29.658570</td>\n",
       "      <td>-82.415016</td>\n",
       "      <td>0.022484</td>\n",
       "      <td>0.038544</td>\n",
       "      <td>0.081538</td>\n",
       "      <td>1.0</td>\n",
       "      <td>0.030854</td>\n",
       "      <td>1.0</td>\n",
       "      <td>0</td>\n",
       "      <td>POINT (-82.41501609853275 29.65857013179353)</td>\n",
       "    </tr>\n",
       "    <tr>\n",
       "      <th>1</th>\n",
       "      <td>1</td>\n",
       "      <td>30</td>\n",
       "      <td>29.660371</td>\n",
       "      <td>-82.414990</td>\n",
       "      <td>0.002141</td>\n",
       "      <td>0.005353</td>\n",
       "      <td>1.000000</td>\n",
       "      <td>0.0</td>\n",
       "      <td>1.000000</td>\n",
       "      <td>0.0</td>\n",
       "      <td>0</td>\n",
       "      <td>POINT (-82.4149895039865 29.660371378494247)</td>\n",
       "    </tr>\n",
       "    <tr>\n",
       "      <th>2</th>\n",
       "      <td>2</td>\n",
       "      <td>47</td>\n",
       "      <td>29.654944</td>\n",
       "      <td>-82.413000</td>\n",
       "      <td>0.001071</td>\n",
       "      <td>0.002141</td>\n",
       "      <td>1.000000</td>\n",
       "      <td>0.0</td>\n",
       "      <td>1.000000</td>\n",
       "      <td>0.0</td>\n",
       "      <td>0</td>\n",
       "      <td>POINT (-82.41300040184892 29.654944475167262)</td>\n",
       "    </tr>\n",
       "    <tr>\n",
       "      <th>3</th>\n",
       "      <td>3</td>\n",
       "      <td>48</td>\n",
       "      <td>29.656746</td>\n",
       "      <td>-82.412974</td>\n",
       "      <td>0.004283</td>\n",
       "      <td>0.008565</td>\n",
       "      <td>1.000000</td>\n",
       "      <td>0.0</td>\n",
       "      <td>1.000000</td>\n",
       "      <td>0.0</td>\n",
       "      <td>0</td>\n",
       "      <td>POINT (-82.41297377438231 29.65674571873145)</td>\n",
       "    </tr>\n",
       "    <tr>\n",
       "      <th>4</th>\n",
       "      <td>4</td>\n",
       "      <td>49</td>\n",
       "      <td>29.658547</td>\n",
       "      <td>-82.412947</td>\n",
       "      <td>0.078158</td>\n",
       "      <td>0.100642</td>\n",
       "      <td>1.000000</td>\n",
       "      <td>0.0</td>\n",
       "      <td>1.000000</td>\n",
       "      <td>0.0</td>\n",
       "      <td>1</td>\n",
       "      <td>POINT (-82.41294714602218 29.6585469636598)</td>\n",
       "    </tr>\n",
       "  </tbody>\n",
       "</table>\n",
       "</div>"
      ],
      "text/plain": [
       "   level_0  index   latitude  longitude  departure_rate  arrival_rate  \\\n",
       "0        0     29  29.658570 -82.415016        0.022484      0.038544   \n",
       "1        1     30  29.660371 -82.414990        0.002141      0.005353   \n",
       "2        2     47  29.654944 -82.413000        0.001071      0.002141   \n",
       "3        3     48  29.656746 -82.412974        0.004283      0.008565   \n",
       "4        4     49  29.658547 -82.412947        0.078158      0.100642   \n",
       "\n",
       "   dist_transPOI  num_transPOI  dist_bus_stop  num_bus_stop  rider_test_list  \\\n",
       "0       0.081538           1.0       0.030854           1.0                0   \n",
       "1       1.000000           0.0       1.000000           0.0                0   \n",
       "2       1.000000           0.0       1.000000           0.0                0   \n",
       "3       1.000000           0.0       1.000000           0.0                0   \n",
       "4       1.000000           0.0       1.000000           0.0                1   \n",
       "\n",
       "                                        geometry  \n",
       "0   POINT (-82.41501609853275 29.65857013179353)  \n",
       "1   POINT (-82.4149895039865 29.660371378494247)  \n",
       "2  POINT (-82.41300040184892 29.654944475167262)  \n",
       "3   POINT (-82.41297377438231 29.65674571873145)  \n",
       "4    POINT (-82.41294714602218 29.6585469636598)  "
      ]
     },
     "execution_count": 2,
     "metadata": {},
     "output_type": "execute_result"
    }
   ],
   "source": [
    "fl_city_boundary = gpd.read_file('Map/fl_city_boundary.shp')\n",
    "Gainesville_boundary = fl_city_boundary.loc[fl_city_boundary['NAME'] == 'GAINESVILLE'].reset_index(drop=True)\n",
    "Gainesville_boundary['geometry'] = Gainesville_boundary['geometry'].to_crs('epsg:4326')\n",
    "\n",
    "grid_centroid_gdf = pd.read_csv('grid_centroid_gdf.csv')\n",
    "grid_centroid_gdf = grid_centroid_gdf.drop(columns = {'geometry'}, axis = 1)\n",
    "grid_centroid_gdf['geometry'] = grid_centroid_gdf[['longitude', 'latitude']].values.tolist()\n",
    "grid_centroid_gdf['geometry'] = grid_centroid_gdf['geometry'].apply(Point)\n",
    "\n",
    "grid_centroid_gdf = grid_centroid_gdf.loc[grid_centroid_gdf['departure_rate'] > 0].reset_index()\n",
    "\n",
    "grid_centroid_gdf.head()"
   ]
  },
  {
   "cell_type": "markdown",
   "id": "eb76019d",
   "metadata": {},
   "source": [
    "#### scooter-sharing system configure"
   ]
  },
  {
   "cell_type": "code",
   "execution_count": 3,
   "id": "380e0ff5",
   "metadata": {},
   "outputs": [],
   "source": [
    "service_areas = [] # replace stations\n",
    "for i in range (len(grid_centroid_gdf)):\n",
    "    service_areas.append((i, grid_centroid_gdf.geometry.iloc[i], grid_centroid_gdf.departure_rate.iloc[i], grid_centroid_gdf.arrival_rate.iloc[i]))\n",
    "\n",
    "# Parameter setups for the reward system and elements of the environment.\n",
    "docked_cost_per_deploy = 50/365 # each dock cost 500\n",
    "scooter_cost_per_deploy = 25/365 # each scooter 250\n",
    "no_scooter_penalty = 0.5 # 0.5\n",
    "reward_per_rider = 0.2 # 0.2\n",
    "nS = len(service_areas)\n",
    "equity_penalty = 100.0\n",
    "logistics_car_cost_per_mile = 1.0\n",
    "\n",
    "# dist_transPOI_penalty = 0.5\n",
    "# low_usage_penalty = 1\n",
    "# dist_bus_stop_penalty = 0.2\n",
    "# reward_bus_scooter_coverage = 0.2"
   ]
  },
  {
   "cell_type": "markdown",
   "id": "09b4e97b",
   "metadata": {},
   "source": [
    "#### RL model configure"
   ]
  },
  {
   "cell_type": "code",
   "execution_count": 4,
   "id": "09e74ce5",
   "metadata": {},
   "outputs": [],
   "source": [
    "# Parameter setups for the network and training process.\n",
    "learning_rate = 0.01\n",
    "n_iters = 25\n",
    "n_epochs = 500 # 2000\n",
    "display_step = 50 # 50\n",
    "batch_size = 256\n",
    "gamma = 0.9\n",
    "\n",
    "# The size of the state vector.\n",
    "nS = len(service_areas) # the number of service areas"
   ]
  },
  {
   "cell_type": "markdown",
   "id": "2ce3bd64",
   "metadata": {},
   "source": [
    "## MAX = 2"
   ]
  },
  {
   "cell_type": "code",
   "execution_count": 5,
   "id": "59b3076c",
   "metadata": {},
   "outputs": [
    {
     "name": "stdout",
     "output_type": "stream",
     "text": [
      "Starting policy gradient...\n",
      "Training in progress...\n",
      "Epoch 50, Average reward, unmet demand, met demand, scooter num, scooter loc, wANNR, moran, gini, theil, EMD, centroid change, dispersion change, kl divergence = -117.980, 106.400, 73.200, 114.000, 100.000, 0.383, 0.034, 0.936, 0.039, 1.719, 1.097, -1.351, 1.457\n",
      "Epoch 100, Average reward, unmet demand, met demand, scooter num, scooter loc, wANNR, moran, gini, theil, EMD, centroid change, dispersion change, kl divergence = -113.314, 103.400, 75.000, 104.000, 91.000, 0.365, 0.038, 0.941, 0.040, 1.807, 1.008, -1.410, 1.297\n",
      "Epoch 150, Average reward, unmet demand, met demand, scooter num, scooter loc, wANNR, moran, gini, theil, EMD, centroid change, dispersion change, kl divergence = -119.237, 109.800, 69.800, 98.000, 88.000, 0.354, 0.038, 0.942, 0.034, 1.898, 1.029, -1.608, 1.273\n",
      "Epoch 200, Average reward, unmet demand, met demand, scooter num, scooter loc, wANNR, moran, gini, theil, EMD, centroid change, dispersion change, kl divergence = -109.045, 97.800, 83.600, 120.000, 104.000, 0.392, 0.032, 0.934, 0.042, 1.658, 1.069, -1.327, 1.145\n",
      "Epoch 250, Average reward, unmet demand, met demand, scooter num, scooter loc, wANNR, moran, gini, theil, EMD, centroid change, dispersion change, kl divergence = -115.055, 105.400, 68.800, 102.000, 95.000, 0.361, 0.029, 0.936, 0.024, 1.718, 1.009, -1.485, 1.428\n",
      "Epoch 300, Average reward, unmet demand, met demand, scooter num, scooter loc, wANNR, moran, gini, theil, EMD, centroid change, dispersion change, kl divergence = -115.052, 104.600, 70.200, 100.000, 91.000, 0.358, 0.029, 0.940, 0.030, 1.801, 1.176, -1.491, 1.477\n",
      "Epoch 350, Average reward, unmet demand, met demand, scooter num, scooter loc, wANNR, moran, gini, theil, EMD, centroid change, dispersion change, kl divergence = -115.679, 105.800, 70.200, 102.000, 88.000, 0.361, 0.034, 0.944, 0.043, 1.860, 1.025, -1.592, 1.290\n",
      "Epoch 400, Average reward, unmet demand, met demand, scooter num, scooter loc, wANNR, moran, gini, theil, EMD, centroid change, dispersion change, kl divergence = -122.455, 110.200, 75.600, 113.000, 95.000, 0.380, 0.033, 0.940, 0.047, 1.763, 0.868, -1.465, 1.524\n",
      "Epoch 450, Average reward, unmet demand, met demand, scooter num, scooter loc, wANNR, moran, gini, theil, EMD, centroid change, dispersion change, kl divergence = -124.277, 114.600, 70.400, 98.000, 83.000, 0.354, 0.036, 0.948, 0.046, 1.931, 0.881, -1.688, 1.284\n",
      "Epoch 500, Average reward, unmet demand, met demand, scooter num, scooter loc, wANNR, moran, gini, theil, EMD, centroid change, dispersion change, kl divergence = -123.707, 113.200, 79.200, 108.000, 95.000, 0.372, 0.035, 0.939, 0.039, 1.740, 0.930, -1.372, 1.346\n"
     ]
    }
   ],
   "source": [
    "## tf.reset_default_graph() only works under tf 1.0\n",
    "max_scooter_per_area = 2\n",
    "\n",
    "# Set up the state-value estimator and policy estimator\n",
    "estimator_policy = PolicyEstimator(learning_rate, nS)\n",
    "estimator_value = StateValueEstimator(learning_rate, nS)\n",
    "\n",
    "# Initialize study area\n",
    "study_area = create_study_area(service_areas, max_scooter_per_area, scooter_cost_per_deploy, docked_cost_per_deploy, \\\n",
    "                   nS, no_scooter_penalty, reward_per_rider, equity_penalty, logistics_car_cost_per_mile)\n",
    "\n",
    "# Add ops to save and restore all the variables\n",
    "\n",
    "print(\"Starting policy gradient...\")\n",
    "\n",
    "# Start training\n",
    "print(\"Training in progress...\")\n",
    "avg_reward_max_2, avg_unmet_demand_max_2, avg_met_demand_max_2, avg_scooter_num_max_2, avg_scooter_loc_max_2, avg_wANNR_max_2, avg_moran_max_2, avg_gini_max_2, avg_theil_max_2, avg_EMD_max_2, avg_centroid_max_2, avg_dispersion_max_2, avg_kl_max_2, scooter_list_max_2 = reinforce(study_area, nS, estimator_policy, estimator_value, n_epochs, n_iters, batch_size, display_step)"
   ]
  },
  {
   "cell_type": "markdown",
   "id": "d19ab151",
   "metadata": {},
   "source": [
    "## MAX = 3"
   ]
  },
  {
   "cell_type": "code",
   "execution_count": 6,
   "id": "ff1854b9",
   "metadata": {},
   "outputs": [
    {
     "name": "stdout",
     "output_type": "stream",
     "text": [
      "Starting policy gradient...\n",
      "Training in progress...\n",
      "Epoch 50, Average reward, unmet demand, met demand, scooter num, scooter loc, wANNR, moran, gini, theil, EMD, centroid change, dispersion change, kl divergence = -109.776, 97.800, 76.800, 122.000, 99.000, 0.395, 0.042, 0.940, 0.078, 1.806, 0.936, -1.447, 1.213\n",
      "Epoch 100, Average reward, unmet demand, met demand, scooter num, scooter loc, wANNR, moran, gini, theil, EMD, centroid change, dispersion change, kl divergence = -113.431, 102.400, 72.000, 108.000, 98.000, 0.372, 0.037, 0.935, 0.041, 1.847, 0.966, -1.598, 1.365\n",
      "Epoch 150, Average reward, unmet demand, met demand, scooter num, scooter loc, wANNR, moran, gini, theil, EMD, centroid change, dispersion change, kl divergence = -130.636, 118.600, 85.200, 122.000, 104.000, 0.395, 0.042, 0.934, 0.049, 1.813, 1.061, -1.513, 1.209\n",
      "Epoch 200, Average reward, unmet demand, met demand, scooter num, scooter loc, wANNR, moran, gini, theil, EMD, centroid change, dispersion change, kl divergence = -119.557, 108.600, 76.200, 112.000, 96.000, 0.378, 0.033, 0.940, 0.058, 1.761, 1.103, -1.371, 1.349\n",
      "Epoch 250, Average reward, unmet demand, met demand, scooter num, scooter loc, wANNR, moran, gini, theil, EMD, centroid change, dispersion change, kl divergence = -128.459, 119.200, 64.800, 99.000, 85.000, 0.363, 0.030, 0.946, 0.049, 1.714, 0.721, -1.410, 1.501\n",
      "Epoch 300, Average reward, unmet demand, met demand, scooter num, scooter loc, wANNR, moran, gini, theil, EMD, centroid change, dispersion change, kl divergence = -113.584, 102.400, 69.400, 108.000, 92.000, 0.373, 0.038, 0.942, 0.060, 1.848, 1.044, -1.534, 1.437\n",
      "Epoch 350, Average reward, unmet demand, met demand, scooter num, scooter loc, wANNR, moran, gini, theil, EMD, centroid change, dispersion change, kl divergence = -120.302, 109.200, 77.000, 104.000, 87.000, 0.365, 0.026, 0.946, 0.063, 1.761, 1.075, -1.451, 1.419\n",
      "Epoch 400, Average reward, unmet demand, met demand, scooter num, scooter loc, wANNR, moran, gini, theil, EMD, centroid change, dispersion change, kl divergence = -122.850, 112.600, 74.200, 96.000, 81.000, 0.350, 0.036, 0.950, 0.063, 1.952, 0.966, -1.718, 1.202\n",
      "Epoch 450, Average reward, unmet demand, met demand, scooter num, scooter loc, wANNR, moran, gini, theil, EMD, centroid change, dispersion change, kl divergence = -119.163, 108.000, 71.200, 113.000, 96.000, 0.380, 0.037, 0.940, 0.078, 1.916, 1.018, -1.664, 1.231\n",
      "Epoch 500, Average reward, unmet demand, met demand, scooter num, scooter loc, wANNR, moran, gini, theil, EMD, centroid change, dispersion change, kl divergence = -124.148, 113.000, 74.800, 114.000, 96.000, 0.383, 0.034, 0.940, 0.061, 1.682, 0.927, -1.354, 1.303\n"
     ]
    }
   ],
   "source": [
    "## tf.reset_default_graph() only works under tf 1.0\n",
    "max_scooter_per_area = 3\n",
    "\n",
    "# Set up the state-value estimator and policy estimator\n",
    "estimator_policy = PolicyEstimator(learning_rate, nS)\n",
    "estimator_value = StateValueEstimator(learning_rate, nS)\n",
    "\n",
    "# Initialize study area\n",
    "study_area = create_study_area(service_areas, max_scooter_per_area, scooter_cost_per_deploy, docked_cost_per_deploy, \\\n",
    "                   nS, no_scooter_penalty, reward_per_rider, equity_penalty, logistics_car_cost_per_mile)\n",
    "\n",
    "# Add ops to save and restore all the variables\n",
    "\n",
    "print(\"Starting policy gradient...\")\n",
    "\n",
    "# Start training\n",
    "print(\"Training in progress...\")\n",
    "avg_reward_max_3, avg_unmet_demand_max_3, avg_met_demand_max_3, avg_scooter_num_max_3, avg_scooter_loc_max_3, avg_wANNR_max_3, avg_moran_max_3, avg_gini_max_3, avg_theil_max_3, avg_EMD_max_3, avg_centroid_max_3, avg_dispersion_max_3, avg_kl_max_3, scooter_list_max_3 = reinforce(study_area, nS, estimator_policy, estimator_value, n_epochs, n_iters, batch_size, display_step)"
   ]
  },
  {
   "cell_type": "markdown",
   "id": "327c6bf5",
   "metadata": {},
   "source": [
    "## MAX = 4"
   ]
  },
  {
   "cell_type": "code",
   "execution_count": 7,
   "id": "64b7497f",
   "metadata": {},
   "outputs": [
    {
     "name": "stdout",
     "output_type": "stream",
     "text": [
      "Starting policy gradient...\n",
      "Training in progress...\n",
      "Epoch 50, Average reward, unmet demand, met demand, scooter num, scooter loc, wANNR, moran, gini, theil, EMD, centroid change, dispersion change, kl divergence = -111.676, 101.200, 77.600, 100.000, 84.000, 0.362, 0.036, 0.948, 0.068, 1.871, 0.866, -1.516, 1.391\n",
      "Epoch 100, Average reward, unmet demand, met demand, scooter num, scooter loc, wANNR, moran, gini, theil, EMD, centroid change, dispersion change, kl divergence = -111.833, 100.600, 73.400, 112.000, 93.000, 0.378, 0.035, 0.943, 0.068, 1.934, 1.051, -1.659, 1.417\n",
      "Epoch 150, Average reward, unmet demand, met demand, scooter num, scooter loc, wANNR, moran, gini, theil, EMD, centroid change, dispersion change, kl divergence = -113.725, 103.800, 74.800, 109.000, 89.000, 0.373, 0.042, 0.946, 0.066, 1.988, 1.143, -1.753, 1.127\n",
      "Epoch 200, Average reward, unmet demand, met demand, scooter num, scooter loc, wANNR, moran, gini, theil, EMD, centroid change, dispersion change, kl divergence = -121.621, 111.000, 81.600, 109.000, 91.000, 0.373, 0.034, 0.944, 0.088, 1.837, 0.911, -1.553, 1.209\n",
      "Epoch 250, Average reward, unmet demand, met demand, scooter num, scooter loc, wANNR, moran, gini, theil, EMD, centroid change, dispersion change, kl divergence = -117.501, 106.600, 72.000, 98.000, 81.000, 0.354, 0.021, 0.950, 0.069, 1.679, 1.010, -1.273, 1.377\n",
      "Epoch 300, Average reward, unmet demand, met demand, scooter num, scooter loc, wANNR, moran, gini, theil, EMD, centroid change, dispersion change, kl divergence = -109.897, 97.600, 87.000, 120.000, 98.000, 0.392, 0.037, 0.940, 0.073, 1.785, 0.927, -1.529, 1.166\n",
      "Epoch 350, Average reward, unmet demand, met demand, scooter num, scooter loc, wANNR, moran, gini, theil, EMD, centroid change, dispersion change, kl divergence = -119.167, 108.400, 72.400, 108.000, 95.000, 0.372, 0.031, 0.939, 0.048, 1.661, 0.850, -1.280, 1.432\n",
      "Epoch 400, Average reward, unmet demand, met demand, scooter num, scooter loc, wANNR, moran, gini, theil, EMD, centroid change, dispersion change, kl divergence = -126.995, 115.200, 68.400, 113.000, 95.000, 0.380, 0.031, 0.941, 0.064, 1.732, 0.900, -1.423, 1.511\n",
      "Epoch 450, Average reward, unmet demand, met demand, scooter num, scooter loc, wANNR, moran, gini, theil, EMD, centroid change, dispersion change, kl divergence = -118.359, 105.800, 87.000, 124.000, 103.000, 0.398, 0.032, 0.937, 0.073, 1.742, 0.997, -1.472, 1.502\n",
      "Epoch 500, Average reward, unmet demand, met demand, scooter num, scooter loc, wANNR, moran, gini, theil, EMD, centroid change, dispersion change, kl divergence = -106.641, 94.400, 86.200, 123.000, 104.000, 0.396, 0.035, 0.935, 0.068, 1.730, 1.025, -1.474, 1.175\n"
     ]
    }
   ],
   "source": [
    "## tf.reset_default_graph() only works under tf 1.0\n",
    "max_scooter_per_area = 4\n",
    "\n",
    "# Set up the state-value estimator and policy estimator\n",
    "estimator_policy = PolicyEstimator(learning_rate, nS)\n",
    "estimator_value = StateValueEstimator(learning_rate, nS)\n",
    "\n",
    "# Initialize study area\n",
    "study_area = create_study_area(service_areas, max_scooter_per_area, scooter_cost_per_deploy, docked_cost_per_deploy, \\\n",
    "                   nS, no_scooter_penalty, reward_per_rider, equity_penalty, logistics_car_cost_per_mile)\n",
    "\n",
    "# Add ops to save and restore all the variables\n",
    "\n",
    "print(\"Starting policy gradient...\")\n",
    "\n",
    "# Start training\n",
    "print(\"Training in progress...\")\n",
    "avg_reward_max_4, avg_unmet_demand_max_4, avg_met_demand_max_4, avg_scooter_num_max_4, avg_scooter_loc_max_4, avg_wANNR_max_4, avg_moran_max_4, avg_gini_max_4, avg_theil_max_4, avg_EMD_max_4, avg_centroid_max_4, avg_dispersion_max_4, avg_kl_max_4, scooter_list_max_4 = reinforce(study_area, nS, estimator_policy, estimator_value, n_epochs, n_iters, batch_size, display_step)"
   ]
  },
  {
   "cell_type": "markdown",
   "id": "c37f7c91",
   "metadata": {},
   "source": [
    "## MAX = 5"
   ]
  },
  {
   "cell_type": "code",
   "execution_count": 8,
   "id": "88fdef7a",
   "metadata": {},
   "outputs": [
    {
     "name": "stdout",
     "output_type": "stream",
     "text": [
      "Starting policy gradient...\n",
      "Training in progress...\n",
      "Epoch 50, Average reward, unmet demand, met demand, scooter num, scooter loc, wANNR, moran, gini, theil, EMD, centroid change, dispersion change, kl divergence = -109.298, 97.600, 79.800, 115.000, 94.000, 0.383, 0.036, 0.943, 0.082, 1.939, 0.881, -1.736, 1.351\n",
      "Epoch 100, Average reward, unmet demand, met demand, scooter num, scooter loc, wANNR, moran, gini, theil, EMD, centroid change, dispersion change, kl divergence = -113.077, 103.400, 73.400, 103.000, 82.000, 0.363, 0.027, 0.952, 0.105, 1.885, 0.852, -1.681, 1.308\n",
      "Epoch 150, Average reward, unmet demand, met demand, scooter num, scooter loc, wANNR, moran, gini, theil, EMD, centroid change, dispersion change, kl divergence = -108.524, 98.400, 76.000, 103.000, 88.000, 0.363, 0.032, 0.945, 0.073, 1.879, 1.006, -1.660, 1.209\n",
      "Epoch 200, Average reward, unmet demand, met demand, scooter num, scooter loc, wANNR, moran, gini, theil, EMD, centroid change, dispersion change, kl divergence = -111.962, 100.600, 87.200, 112.000, 89.000, 0.378, 0.037, 0.947, 0.089, 1.934, 0.884, -1.705, 1.231\n",
      "Epoch 250, Average reward, unmet demand, met demand, scooter num, scooter loc, wANNR, moran, gini, theil, EMD, centroid change, dispersion change, kl divergence = -125.832, 115.800, 67.600, 100.000, 86.000, 0.358, 0.029, 0.946, 0.054, 1.776, 0.856, -1.506, 1.512\n",
      "Epoch 300, Average reward, unmet demand, met demand, scooter num, scooter loc, wANNR, moran, gini, theil, EMD, centroid change, dispersion change, kl divergence = -112.394, 102.400, 78.200, 107.000, 84.000, 0.370, 0.038, 0.950, 0.092, 1.966, 1.035, -1.672, 1.159\n",
      "Epoch 350, Average reward, unmet demand, met demand, scooter num, scooter loc, wANNR, moran, gini, theil, EMD, centroid change, dispersion change, kl divergence = -113.910, 103.600, 71.600, 104.000, 88.000, 0.365, 0.031, 0.945, 0.066, 1.823, 0.867, -1.633, 1.368\n",
      "Epoch 400, Average reward, unmet demand, met demand, scooter num, scooter loc, wANNR, moran, gini, theil, EMD, centroid change, dispersion change, kl divergence = -117.014, 107.600, 68.800, 93.000, 81.000, 0.345, 0.028, 0.948, 0.052, 1.759, 0.903, -1.483, 1.324\n",
      "Epoch 450, Average reward, unmet demand, met demand, scooter num, scooter loc, wANNR, moran, gini, theil, EMD, centroid change, dispersion change, kl divergence = -125.989, 114.000, 76.600, 112.000, 100.000, 0.380, 0.026, 0.935, 0.035, 1.544, 0.944, -1.183, 1.420\n",
      "Epoch 500, Average reward, unmet demand, met demand, scooter num, scooter loc, wANNR, moran, gini, theil, EMD, centroid change, dispersion change, kl divergence = -118.764, 108.200, 73.800, 108.000, 87.000, 0.372, 0.027, 0.948, 0.099, 1.801, 0.995, -1.486, 1.250\n"
     ]
    }
   ],
   "source": [
    "## tf.reset_default_graph() only works under tf 1.0\n",
    "max_scooter_per_area = 5\n",
    "\n",
    "# Set up the state-value estimator and policy estimator\n",
    "estimator_policy = PolicyEstimator(learning_rate, nS)\n",
    "estimator_value = StateValueEstimator(learning_rate, nS)\n",
    "\n",
    "# Initialize study area\n",
    "study_area = create_study_area(service_areas, max_scooter_per_area, scooter_cost_per_deploy, docked_cost_per_deploy, \\\n",
    "                   nS, no_scooter_penalty, reward_per_rider, equity_penalty, logistics_car_cost_per_mile)\n",
    "\n",
    "# Add ops to save and restore all the variables\n",
    "\n",
    "print(\"Starting policy gradient...\")\n",
    "\n",
    "# Start training\n",
    "print(\"Training in progress...\")\n",
    "avg_reward_max_5, avg_unmet_demand_max_5, avg_met_demand_max_5, avg_scooter_num_max_5, avg_scooter_loc_max_5, avg_wANNR_max_5, avg_moran_max_5, avg_gini_max_5, avg_theil_max_5, avg_EMD_max_5, avg_centroid_max_5, avg_dispersion_max_5, avg_kl_max_5, scooter_list_max_5 = reinforce(study_area, nS, estimator_policy, estimator_value, n_epochs, n_iters, batch_size, display_step)"
   ]
  },
  {
   "cell_type": "markdown",
   "id": "1ba3f84b",
   "metadata": {},
   "source": [
    "## MAX = 6"
   ]
  },
  {
   "cell_type": "code",
   "execution_count": 9,
   "id": "5de8377d",
   "metadata": {},
   "outputs": [
    {
     "name": "stdout",
     "output_type": "stream",
     "text": [
      "Starting policy gradient...\n",
      "Training in progress...\n",
      "Epoch 50, Average reward, unmet demand, met demand, scooter num, scooter loc, wANNR, moran, gini, theil, EMD, centroid change, dispersion change, kl divergence = -108.836, 100.000, 77.800, 97.000, 81.000, 0.356, 0.035, 0.950, 0.091, 2.002, 0.921, -1.804, 1.147\n",
      "Epoch 100, Average reward, unmet demand, met demand, scooter num, scooter loc, wANNR, moran, gini, theil, EMD, centroid change, dispersion change, kl divergence = -133.614, 124.800, 70.800, 90.000, 78.000, 0.339, 0.037, 0.950, 0.053, 1.920, 0.994, -1.646, 1.245\n",
      "Epoch 150, Average reward, unmet demand, met demand, scooter num, scooter loc, wANNR, moran, gini, theil, EMD, centroid change, dispersion change, kl divergence = -113.356, 103.400, 68.200, 103.000, 87.000, 0.363, 0.025, 0.946, 0.075, 1.739, 0.920, -1.455, 1.483\n",
      "Epoch 200, Average reward, unmet demand, met demand, scooter num, scooter loc, wANNR, moran, gini, theil, EMD, centroid change, dispersion change, kl divergence = -124.236, 113.800, 64.800, 103.000, 87.000, 0.363, 0.025, 0.946, 0.075, 1.739, 0.920, -1.455, 1.483\n",
      "Epoch 250, Average reward, unmet demand, met demand, scooter num, scooter loc, wANNR, moran, gini, theil, EMD, centroid change, dispersion change, kl divergence = -126.952, 118.200, 68.000, 97.000, 83.000, 0.354, 0.031, 0.948, 0.069, 1.742, 0.670, -1.411, 1.473\n",
      "Epoch 300, Average reward, unmet demand, met demand, scooter num, scooter loc, wANNR, moran, gini, theil, EMD, centroid change, dispersion change, kl divergence = -125.610, 116.000, 63.400, 96.000, 81.000, 0.352, 0.026, 0.950, 0.067, 1.809, 1.000, -1.582, 1.441\n",
      "Epoch 350, Average reward, unmet demand, met demand, scooter num, scooter loc, wANNR, moran, gini, theil, EMD, centroid change, dispersion change, kl divergence = -122.330, 112.800, 67.800, 96.000, 81.000, 0.352, 0.026, 0.950, 0.067, 1.809, 1.000, -1.582, 1.441\n",
      "Epoch 400, Average reward, unmet demand, met demand, scooter num, scooter loc, wANNR, moran, gini, theil, EMD, centroid change, dispersion change, kl divergence = -114.470, 104.600, 67.600, 96.000, 81.000, 0.352, 0.026, 0.950, 0.067, 1.809, 1.000, -1.582, 1.441\n",
      "Epoch 450, Average reward, unmet demand, met demand, scooter num, scooter loc, wANNR, moran, gini, theil, EMD, centroid change, dispersion change, kl divergence = -120.050, 110.000, 66.200, 96.000, 81.000, 0.352, 0.026, 0.950, 0.067, 1.809, 1.000, -1.582, 1.441\n",
      "Epoch 500, Average reward, unmet demand, met demand, scooter num, scooter loc, wANNR, moran, gini, theil, EMD, centroid change, dispersion change, kl divergence = -105.767, 96.200, 80.200, 105.000, 87.000, 0.366, 0.046, 0.947, 0.070, 2.074, 0.879, -1.916, 1.056\n"
     ]
    }
   ],
   "source": [
    "## tf.reset_default_graph() only works under tf 1.0\n",
    "max_scooter_per_area = 6\n",
    "\n",
    "# Set up the state-value estimator and policy estimator\n",
    "estimator_policy = PolicyEstimator(learning_rate, nS)\n",
    "estimator_value = StateValueEstimator(learning_rate, nS)\n",
    "\n",
    "# Initialize study area\n",
    "study_area = create_study_area(service_areas, max_scooter_per_area, scooter_cost_per_deploy, docked_cost_per_deploy, \\\n",
    "                   nS, no_scooter_penalty, reward_per_rider, equity_penalty, logistics_car_cost_per_mile)\n",
    "\n",
    "# Add ops to save and restore all the variables\n",
    "\n",
    "print(\"Starting policy gradient...\")\n",
    "\n",
    "# Start training\n",
    "print(\"Training in progress...\")\n",
    "avg_reward_max_6, avg_unmet_demand_max_6, avg_met_demand_max_6, avg_scooter_num_max_6, avg_scooter_loc_max_6, avg_wANNR_max_6, avg_moran_max_6, avg_gini_max_6, avg_theil_max_6, avg_EMD_max_6, avg_centroid_max_6, avg_dispersion_max_6, avg_kl_max_6, scooter_list_max_6 = reinforce(study_area, nS, estimator_policy, estimator_value, n_epochs, n_iters, batch_size, display_step)"
   ]
  },
  {
   "cell_type": "markdown",
   "id": "0c0df756",
   "metadata": {},
   "source": [
    "## MAX = 7"
   ]
  },
  {
   "cell_type": "code",
   "execution_count": 10,
   "id": "7927ff81",
   "metadata": {},
   "outputs": [
    {
     "name": "stdout",
     "output_type": "stream",
     "text": [
      "Starting policy gradient...\n",
      "Training in progress...\n",
      "Epoch 50, Average reward, unmet demand, met demand, scooter num, scooter loc, wANNR, moran, gini, theil, EMD, centroid change, dispersion change, kl divergence = -124.918, 114.200, 74.200, 104.000, 89.000, 0.365, 0.037, 0.944, 0.059, 1.860, 0.927, -1.620, 1.395\n",
      "Epoch 100, Average reward, unmet demand, met demand, scooter num, scooter loc, wANNR, moran, gini, theil, EMD, centroid change, dispersion change, kl divergence = -109.938, 100.400, 70.400, 96.000, 82.000, 0.350, 0.037, 0.948, 0.055, 2.031, 1.018, -1.817, 1.284\n",
      "Epoch 150, Average reward, unmet demand, met demand, scooter num, scooter loc, wANNR, moran, gini, theil, EMD, centroid change, dispersion change, kl divergence = -116.036, 105.200, 74.600, 100.000, 79.000, 0.358, 0.031, 0.953, 0.082, 1.876, 0.881, -1.659, 1.244\n",
      "Epoch 200, Average reward, unmet demand, met demand, scooter num, scooter loc, wANNR, moran, gini, theil, EMD, centroid change, dispersion change, kl divergence = -109.719, 98.000, 74.000, 113.000, 93.000, 0.380, 0.036, 0.943, 0.064, 1.909, 1.030, -1.613, 1.409\n",
      "Epoch 250, Average reward, unmet demand, met demand, scooter num, scooter loc, wANNR, moran, gini, theil, EMD, centroid change, dispersion change, kl divergence = -117.236, 106.200, 72.000, 111.000, 94.000, 0.377, 0.028, 0.941, 0.065, 1.771, 1.094, -1.491, 1.396\n",
      "Epoch 300, Average reward, unmet demand, met demand, scooter num, scooter loc, wANNR, moran, gini, theil, EMD, centroid change, dispersion change, kl divergence = -120.837, 111.000, 72.600, 101.000, 86.000, 0.359, 0.035, 0.946, 0.069, 1.873, 0.998, -1.584, 1.287\n",
      "Epoch 350, Average reward, unmet demand, met demand, scooter num, scooter loc, wANNR, moran, gini, theil, EMD, centroid change, dispersion change, kl divergence = -113.981, 103.800, 72.800, 106.000, 88.000, 0.368, 0.031, 0.946, 0.059, 1.703, 0.810, -1.445, 1.374\n",
      "Epoch 400, Average reward, unmet demand, met demand, scooter num, scooter loc, wANNR, moran, gini, theil, EMD, centroid change, dispersion change, kl divergence = -115.760, 106.000, 76.400, 100.000, 82.000, 0.359, 0.031, 0.950, 0.067, 1.888, 1.001, -1.693, 1.270\n",
      "Epoch 450, Average reward, unmet demand, met demand, scooter num, scooter loc, wANNR, moran, gini, theil, EMD, centroid change, dispersion change, kl divergence = -118.841, 110.000, 66.800, 92.000, 75.000, 0.343, 0.036, 0.954, 0.063, 1.907, 0.982, -1.573, 1.416\n",
      "Epoch 500, Average reward, unmet demand, met demand, scooter num, scooter loc, wANNR, moran, gini, theil, EMD, centroid change, dispersion change, kl divergence = -113.610, 102.400, 71.600, 115.000, 93.000, 0.383, 0.026, 0.944, 0.096, 1.765, 1.083, -1.431, 1.367\n"
     ]
    }
   ],
   "source": [
    "## tf.reset_default_graph() only works under tf 1.0\n",
    "max_scooter_per_area = 7\n",
    "\n",
    "# Set up the state-value estimator and policy estimator\n",
    "estimator_policy = PolicyEstimator(learning_rate, nS)\n",
    "estimator_value = StateValueEstimator(learning_rate, nS)\n",
    "\n",
    "# Initialize study area\n",
    "study_area = create_study_area(service_areas, max_scooter_per_area, scooter_cost_per_deploy, docked_cost_per_deploy, \\\n",
    "                   nS, no_scooter_penalty, reward_per_rider, equity_penalty, logistics_car_cost_per_mile)\n",
    "\n",
    "# Add ops to save and restore all the variables\n",
    "\n",
    "print(\"Starting policy gradient...\")\n",
    "\n",
    "# Start training\n",
    "print(\"Training in progress...\")\n",
    "avg_reward_max_7, avg_unmet_demand_max_7, avg_met_demand_max_7, avg_scooter_num_max_7, avg_scooter_loc_max_7, avg_wANNR_max_7, avg_moran_max_7, avg_gini_max_7, avg_theil_max_7, avg_EMD_max_7, avg_centroid_max_7, avg_dispersion_max_7, avg_kl_max_7, scooter_list_max_7 = reinforce(study_area, nS, estimator_policy, estimator_value, n_epochs, n_iters, batch_size, display_step)"
   ]
  },
  {
   "cell_type": "markdown",
   "id": "93e0783a",
   "metadata": {},
   "source": [
    "## MAX = 8"
   ]
  },
  {
   "cell_type": "code",
   "execution_count": 11,
   "id": "36be398b",
   "metadata": {},
   "outputs": [
    {
     "name": "stdout",
     "output_type": "stream",
     "text": [
      "Starting policy gradient...\n",
      "Training in progress...\n",
      "Epoch 50, Average reward, unmet demand, met demand, scooter num, scooter loc, wANNR, moran, gini, theil, EMD, centroid change, dispersion change, kl divergence = -118.639, 108.200, 75.200, 102.000, 83.000, 0.361, 0.039, 0.950, 0.102, 2.019, 0.827, -1.781, 1.286\n",
      "Epoch 100, Average reward, unmet demand, met demand, scooter num, scooter loc, wANNR, moran, gini, theil, EMD, centroid change, dispersion change, kl divergence = -114.006, 105.400, 70.200, 93.000, 80.000, 0.345, 0.027, 0.950, 0.091, 1.843, 0.736, -1.606, 1.354\n",
      "Epoch 150, Average reward, unmet demand, met demand, scooter num, scooter loc, wANNR, moran, gini, theil, EMD, centroid change, dispersion change, kl divergence = -109.905, 100.400, 70.200, 98.000, 79.000, 0.354, 0.035, 0.952, 0.075, 1.935, 0.650, -1.708, 1.317\n",
      "Epoch 200, Average reward, unmet demand, met demand, scooter num, scooter loc, wANNR, moran, gini, theil, EMD, centroid change, dispersion change, kl divergence = -113.280, 103.800, 70.800, 94.000, 76.000, 0.348, 0.031, 0.954, 0.070, 1.896, 1.043, -1.603, 1.352\n",
      "Epoch 250, Average reward, unmet demand, met demand, scooter num, scooter loc, wANNR, moran, gini, theil, EMD, centroid change, dispersion change, kl divergence = -116.042, 104.600, 77.000, 115.000, 97.000, 0.383, 0.031, 0.940, 0.068, 1.703, 0.875, -1.438, 1.219\n",
      "Epoch 300, Average reward, unmet demand, met demand, scooter num, scooter loc, wANNR, moran, gini, theil, EMD, centroid change, dispersion change, kl divergence = -107.824, 97.400, 71.200, 108.000, 92.000, 0.372, 0.035, 0.942, 0.063, 1.855, 1.140, -1.516, 1.157\n",
      "Epoch 350, Average reward, unmet demand, met demand, scooter num, scooter loc, wANNR, moran, gini, theil, EMD, centroid change, dispersion change, kl divergence = -116.093, 105.600, 70.800, 106.000, 92.000, 0.368, 0.037, 0.941, 0.046, 1.805, 0.924, -1.560, 1.380\n",
      "Epoch 400, Average reward, unmet demand, met demand, scooter num, scooter loc, wANNR, moran, gini, theil, EMD, centroid change, dispersion change, kl divergence = -105.722, 96.800, 71.400, 104.000, 87.000, 0.365, 0.031, 0.947, 0.090, 1.906, 1.017, -1.716, 1.133\n",
      "Epoch 450, Average reward, unmet demand, met demand, scooter num, scooter loc, wANNR, moran, gini, theil, EMD, centroid change, dispersion change, kl divergence = -119.477, 110.200, 74.400, 98.000, 83.000, 0.354, 0.039, 0.948, 0.057, 1.972, 0.847, -1.752, 1.104\n",
      "Epoch 500, Average reward, unmet demand, met demand, scooter num, scooter loc, wANNR, moran, gini, theil, EMD, centroid change, dispersion change, kl divergence = -122.204, 111.400, 66.600, 108.000, 87.000, 0.372, 0.031, 0.948, 0.078, 1.860, 1.048, -1.640, 1.233\n"
     ]
    }
   ],
   "source": [
    "## tf.reset_default_graph() only works under tf 1.0\n",
    "max_scooter_per_area = 8\n",
    "\n",
    "# Set up the state-value estimator and policy estimator\n",
    "estimator_policy = PolicyEstimator(learning_rate, nS)\n",
    "estimator_value = StateValueEstimator(learning_rate, nS)\n",
    "\n",
    "# Initialize study area\n",
    "study_area = create_study_area(service_areas, max_scooter_per_area, scooter_cost_per_deploy, docked_cost_per_deploy, \\\n",
    "                   nS, no_scooter_penalty, reward_per_rider, equity_penalty, logistics_car_cost_per_mile)\n",
    "\n",
    "# Add ops to save and restore all the variables\n",
    "\n",
    "print(\"Starting policy gradient...\")\n",
    "\n",
    "# Start training\n",
    "print(\"Training in progress...\")\n",
    "avg_reward_max_8, avg_unmet_demand_max_8, avg_met_demand_max_8, avg_scooter_num_max_8, avg_scooter_loc_max_8, avg_wANNR_max_8, avg_moran_max_8, avg_gini_max_8, avg_theil_max_8, avg_EMD_max_8, avg_centroid_max_8, avg_dispersion_max_8, avg_kl_max_8, scooter_list_max_8 = reinforce(study_area, nS, estimator_policy, estimator_value, n_epochs, n_iters, batch_size, display_step)"
   ]
  },
  {
   "cell_type": "markdown",
   "id": "e083ec22",
   "metadata": {},
   "source": [
    "## MAX = 9"
   ]
  },
  {
   "cell_type": "code",
   "execution_count": 60,
   "id": "19adfab7",
   "metadata": {},
   "outputs": [
    {
     "name": "stdout",
     "output_type": "stream",
     "text": [
      "Starting policy gradient...\n",
      "Training in progress...\n",
      "Epoch 50, Average reward, unmet demand, met demand, scooter num, scooter loc, wANNR, moran, gini, theil, EMD, centroid change, dispersion change, kl divergence = -111.120, 98.800, 72.800, 114.000, 95.000, 0.382, 0.035, 0.941, 0.062, 1.760, 0.752, -1.492, 1.467\n",
      "Epoch 100, Average reward, unmet demand, met demand, scooter num, scooter loc, wANNR, moran, gini, theil, EMD, centroid change, dispersion change, kl divergence = -122.736, 112.200, 61.800, 97.000, 81.000, 0.352, 0.024, 0.950, 0.077, 1.736, 0.825, -1.408, 1.564\n",
      "Epoch 150, Average reward, unmet demand, met demand, scooter num, scooter loc, wANNR, moran, gini, theil, EMD, centroid change, dispersion change, kl divergence = -111.739, 103.000, 75.400, 99.000, 85.000, 0.356, 0.032, 0.947, 0.065, 1.821, 0.896, -1.565, 1.146\n",
      "Epoch 200, Average reward, unmet demand, met demand, scooter num, scooter loc, wANNR, moran, gini, theil, EMD, centroid change, dispersion change, kl divergence = -123.662, 113.200, 69.200, 101.000, 84.000, 0.363, 0.029, 0.949, 0.089, 1.749, 0.783, -1.378, 1.508\n",
      "Epoch 250, Average reward, unmet demand, met demand, scooter num, scooter loc, wANNR, moran, gini, theil, EMD, centroid change, dispersion change, kl divergence = -107.179, 97.000, 75.000, 99.000, 80.000, 0.359, 0.033, 0.951, 0.069, 1.900, 1.043, -1.640, 1.256\n",
      "Epoch 300, Average reward, unmet demand, met demand, scooter num, scooter loc, wANNR, moran, gini, theil, EMD, centroid change, dispersion change, kl divergence = -122.577, 112.800, 70.200, 98.000, 78.000, 0.354, 0.032, 0.954, 0.087, 1.982, 0.962, -1.742, 1.322\n",
      "Epoch 350, Average reward, unmet demand, met demand, scooter num, scooter loc, wANNR, moran, gini, theil, EMD, centroid change, dispersion change, kl divergence = -122.113, 112.800, 67.000, 98.000, 85.000, 0.354, 0.032, 0.946, 0.063, 1.833, 0.858, -1.618, 1.418\n",
      "Epoch 400, Average reward, unmet demand, met demand, scooter num, scooter loc, wANNR, moran, gini, theil, EMD, centroid change, dispersion change, kl divergence = -122.290, 113.200, 68.000, 96.000, 81.000, 0.350, 0.028, 0.950, 0.063, 1.850, 1.068, -1.590, 1.329\n",
      "Epoch 450, Average reward, unmet demand, met demand, scooter num, scooter loc, wANNR, moran, gini, theil, EMD, centroid change, dispersion change, kl divergence = -110.163, 99.800, 68.000, 102.000, 86.000, 0.361, 0.031, 0.947, 0.071, 1.884, 1.040, -1.661, 1.361\n",
      "Epoch 500, Average reward, unmet demand, met demand, scooter num, scooter loc, wANNR, moran, gini, theil, EMD, centroid change, dispersion change, kl divergence = -111.204, 100.400, 76.600, 111.000, 90.000, 0.378, 0.040, 0.946, 0.079, 1.987, 1.060, -1.747, 1.200\n"
     ]
    }
   ],
   "source": [
    "## tf.reset_default_graph() only works under tf 1.0\n",
    "max_scooter_per_area = 9\n",
    "\n",
    "# Set up the state-value estimator and policy estimator\n",
    "estimator_policy = PolicyEstimator(learning_rate, nS)\n",
    "estimator_value = StateValueEstimator(learning_rate, nS)\n",
    "\n",
    "# Initialize study area\n",
    "study_area = create_study_area(service_areas, max_scooter_per_area, scooter_cost_per_deploy, docked_cost_per_deploy, \\\n",
    "                   nS, no_scooter_penalty, reward_per_rider, equity_penalty, logistics_car_cost_per_mile)\n",
    "\n",
    "# Add ops to save and restore all the variables\n",
    "\n",
    "print(\"Starting policy gradient...\")\n",
    "\n",
    "# Start training\n",
    "print(\"Training in progress...\")\n",
    "avg_reward_max_9, avg_unmet_demand_max_9, avg_met_demand_max_9, avg_scooter_num_max_9, avg_scooter_loc_max_9, avg_wANNR_max_9, avg_moran_max_9, avg_gini_max_9, avg_theil_max_9, avg_EMD_max_9, avg_centroid_max_9, avg_dispersion_max_9, avg_kl_max_9, scooter_list_max_9 = reinforce(study_area, nS, estimator_policy, estimator_value, n_epochs, n_iters, batch_size, display_step)"
   ]
  },
  {
   "cell_type": "markdown",
   "id": "c16ce03b",
   "metadata": {},
   "source": [
    "## MAX = 10"
   ]
  },
  {
   "cell_type": "code",
   "execution_count": 13,
   "id": "3683cc27",
   "metadata": {},
   "outputs": [
    {
     "name": "stdout",
     "output_type": "stream",
     "text": [
      "Starting policy gradient...\n",
      "Training in progress...\n",
      "Epoch 50, Average reward, unmet demand, met demand, scooter num, scooter loc, wANNR, moran, gini, theil, EMD, centroid change, dispersion change, kl divergence = -110.032, 99.800, 83.600, 111.000, 91.000, 0.377, 0.046, 0.944, 0.070, 2.028, 1.028, -1.817, 1.192\n",
      "Epoch 100, Average reward, unmet demand, met demand, scooter num, scooter loc, wANNR, moran, gini, theil, EMD, centroid change, dispersion change, kl divergence = -106.672, 96.400, 83.400, 111.000, 91.000, 0.377, 0.046, 0.944, 0.070, 2.028, 1.028, -1.817, 1.192\n",
      "Epoch 150, Average reward, unmet demand, met demand, scooter num, scooter loc, wANNR, moran, gini, theil, EMD, centroid change, dispersion change, kl divergence = -119.953, 108.200, 78.000, 117.000, 97.000, 0.387, 0.039, 0.940, 0.067, 1.938, 1.049, -1.722, 1.263\n",
      "Epoch 200, Average reward, unmet demand, met demand, scooter num, scooter loc, wANNR, moran, gini, theil, EMD, centroid change, dispersion change, kl divergence = -115.313, 103.600, 74.200, 117.000, 97.000, 0.387, 0.039, 0.940, 0.067, 1.938, 1.049, -1.722, 1.263\n",
      "Epoch 250, Average reward, unmet demand, met demand, scooter num, scooter loc, wANNR, moran, gini, theil, EMD, centroid change, dispersion change, kl divergence = -116.413, 104.800, 78.200, 117.000, 97.000, 0.387, 0.039, 0.940, 0.067, 1.938, 1.049, -1.722, 1.263\n",
      "Epoch 300, Average reward, unmet demand, met demand, scooter num, scooter loc, wANNR, moran, gini, theil, EMD, centroid change, dispersion change, kl divergence = -110.563, 99.400, 69.000, 105.000, 89.000, 0.366, 0.031, 0.944, 0.061, 1.815, 1.039, -1.534, 1.379\n",
      "Epoch 350, Average reward, unmet demand, met demand, scooter num, scooter loc, wANNR, moran, gini, theil, EMD, centroid change, dispersion change, kl divergence = -127.723, 117.000, 76.200, 105.000, 89.000, 0.366, 0.031, 0.944, 0.061, 1.815, 1.039, -1.534, 1.379\n",
      "Epoch 400, Average reward, unmet demand, met demand, scooter num, scooter loc, wANNR, moran, gini, theil, EMD, centroid change, dispersion change, kl divergence = -118.583, 108.200, 71.400, 105.000, 89.000, 0.366, 0.031, 0.944, 0.061, 1.815, 1.039, -1.534, 1.379\n",
      "Epoch 450, Average reward, unmet demand, met demand, scooter num, scooter loc, wANNR, moran, gini, theil, EMD, centroid change, dispersion change, kl divergence = -122.223, 110.800, 72.200, 105.000, 89.000, 0.366, 0.031, 0.944, 0.061, 1.815, 1.039, -1.534, 1.379\n",
      "Epoch 500, Average reward, unmet demand, met demand, scooter num, scooter loc, wANNR, moran, gini, theil, EMD, centroid change, dispersion change, kl divergence = -119.163, 109.000, 71.000, 105.000, 89.000, 0.366, 0.031, 0.944, 0.061, 1.815, 1.039, -1.534, 1.379\n"
     ]
    }
   ],
   "source": [
    "## tf.reset_default_graph() only works under tf 1.0\n",
    "max_scooter_per_area = 10\n",
    "\n",
    "# Set up the state-value estimator and policy estimator\n",
    "estimator_policy = PolicyEstimator(learning_rate, nS)\n",
    "estimator_value = StateValueEstimator(learning_rate, nS)\n",
    "\n",
    "# Initialize study area\n",
    "study_area = create_study_area(service_areas, max_scooter_per_area, scooter_cost_per_deploy, docked_cost_per_deploy, \\\n",
    "                   nS, no_scooter_penalty, reward_per_rider, equity_penalty, logistics_car_cost_per_mile)\n",
    "\n",
    "# Add ops to save and restore all the variables\n",
    "\n",
    "print(\"Starting policy gradient...\")\n",
    "\n",
    "# Start training\n",
    "print(\"Training in progress...\")\n",
    "avg_reward_max_10, avg_unmet_demand_max_10, avg_met_demand_max_10, avg_scooter_num_max_10, avg_scooter_loc_max_10, avg_wANNR_max_10, avg_moran_max_10, avg_gini_max_10, avg_theil_max_10, avg_EMD_max_10, avg_centroid_max_10, avg_dispersion_max_10, avg_kl_max_10, scooter_list_max_10 = reinforce(study_area, nS, estimator_policy, estimator_value, n_epochs, n_iters, batch_size, display_step)"
   ]
  },
  {
   "cell_type": "markdown",
   "id": "dad374e2",
   "metadata": {},
   "source": [
    "## MAX = 11"
   ]
  },
  {
   "cell_type": "code",
   "execution_count": 62,
   "id": "693564e0",
   "metadata": {},
   "outputs": [
    {
     "name": "stdout",
     "output_type": "stream",
     "text": [
      "Starting policy gradient...\n",
      "Training in progress...\n",
      "Epoch 50, Average reward, unmet demand, met demand, scooter num, scooter loc, wANNR, moran, gini, theil, EMD, centroid change, dispersion change, kl divergence = -106.694, 96.200, 84.400, 115.000, 91.000, 0.383, 0.032, 0.946, 0.090, 1.786, 0.822, -1.530, 1.109\n",
      "Epoch 100, Average reward, unmet demand, met demand, scooter num, scooter loc, wANNR, moran, gini, theil, EMD, centroid change, dispersion change, kl divergence = -113.381, 103.000, 71.800, 106.000, 88.000, 0.368, 0.029, 0.946, 0.067, 1.740, 1.004, -1.406, 1.421\n",
      "Epoch 150, Average reward, unmet demand, met demand, scooter num, scooter loc, wANNR, moran, gini, theil, EMD, centroid change, dispersion change, kl divergence = -115.327, 105.400, 74.400, 102.000, 84.000, 0.361, 0.035, 0.949, 0.088, 1.873, 0.936, -1.522, 1.459\n",
      "Epoch 200, Average reward, unmet demand, met demand, scooter num, scooter loc, wANNR, moran, gini, theil, EMD, centroid change, dispersion change, kl divergence = -106.675, 93.800, 89.000, 130.000, 106.000, 0.408, 0.040, 0.936, 0.080, 1.808, 0.816, -1.568, 1.220\n",
      "Epoch 250, Average reward, unmet demand, met demand, scooter num, scooter loc, wANNR, moran, gini, theil, EMD, centroid change, dispersion change, kl divergence = -115.140, 105.000, 71.000, 100.000, 82.000, 0.358, 0.030, 0.950, 0.081, 1.879, 1.049, -1.621, 1.367\n",
      "Epoch 300, Average reward, unmet demand, met demand, scooter num, scooter loc, wANNR, moran, gini, theil, EMD, centroid change, dispersion change, kl divergence = -115.539, 106.200, 68.200, 99.000, 80.000, 0.356, 0.028, 0.952, 0.083, 1.866, 1.017, -1.644, 1.387\n",
      "Epoch 350, Average reward, unmet demand, met demand, scooter num, scooter loc, wANNR, moran, gini, theil, EMD, centroid change, dispersion change, kl divergence = -120.268, 110.000, 67.200, 100.000, 88.000, 0.358, 0.027, 0.944, 0.063, 1.747, 1.007, -1.492, 1.432\n",
      "Epoch 400, Average reward, unmet demand, met demand, scooter num, scooter loc, wANNR, moran, gini, theil, EMD, centroid change, dispersion change, kl divergence = -112.236, 103.200, 71.800, 100.000, 84.000, 0.361, 0.029, 0.948, 0.072, 1.798, 0.741, -1.556, 1.257\n",
      "Epoch 450, Average reward, unmet demand, met demand, scooter num, scooter loc, wANNR, moran, gini, theil, EMD, centroid change, dispersion change, kl divergence = -118.719, 109.400, 73.800, 99.000, 80.000, 0.356, 0.028, 0.952, 0.079, 1.768, 0.916, -1.423, 1.233\n",
      "Epoch 500, Average reward, unmet demand, met demand, scooter num, scooter loc, wANNR, moran, gini, theil, EMD, centroid change, dispersion change, kl divergence = -108.855, 99.400, 74.400, 99.000, 82.000, 0.356, 0.039, 0.950, 0.080, 2.050, 1.030, -1.840, 1.094\n"
     ]
    }
   ],
   "source": [
    "## tf.reset_default_graph() only works under tf 1.0\n",
    "max_scooter_per_area = 11\n",
    "\n",
    "# Set up the state-value estimator and policy estimator\n",
    "estimator_policy = PolicyEstimator(learning_rate, nS)\n",
    "estimator_value = StateValueEstimator(learning_rate, nS)\n",
    "\n",
    "# Initialize study area\n",
    "study_area = create_study_area(service_areas, max_scooter_per_area, scooter_cost_per_deploy, docked_cost_per_deploy, \\\n",
    "                   nS, no_scooter_penalty, reward_per_rider, equity_penalty, logistics_car_cost_per_mile)\n",
    "\n",
    "# Add ops to save and restore all the variables\n",
    "\n",
    "print(\"Starting policy gradient...\")\n",
    "\n",
    "# Start training\n",
    "print(\"Training in progress...\")\n",
    "avg_reward_max_11, avg_unmet_demand_max_11, avg_met_demand_max_11, avg_scooter_num_max_11, avg_scooter_loc_max_11, avg_wANNR_max_11, avg_moran_max_11, avg_gini_max_11, avg_theil_max_11, avg_EMD_max_11, avg_centroid_max_11, avg_dispersion_max_11, avg_kl_max_11, scooter_list_max_11 = reinforce(study_area, nS, estimator_policy, estimator_value, n_epochs, n_iters, batch_size, display_step)"
   ]
  },
  {
   "cell_type": "markdown",
   "id": "0572be87",
   "metadata": {},
   "source": [
    "## MAX = 12"
   ]
  },
  {
   "cell_type": "code",
   "execution_count": 15,
   "id": "d93d482c",
   "metadata": {},
   "outputs": [
    {
     "name": "stdout",
     "output_type": "stream",
     "text": [
      "Starting policy gradient...\n",
      "Training in progress...\n",
      "Epoch 50, Average reward, unmet demand, met demand, scooter num, scooter loc, wANNR, moran, gini, theil, EMD, centroid change, dispersion change, kl divergence = -124.043, 113.400, 75.600, 105.000, 89.000, 0.366, 0.034, 0.945, 0.085, 1.929, 0.866, -1.794, 1.352\n",
      "Epoch 100, Average reward, unmet demand, met demand, scooter num, scooter loc, wANNR, moran, gini, theil, EMD, centroid change, dispersion change, kl divergence = -112.548, 101.000, 85.800, 114.000, 96.000, 0.382, 0.036, 0.941, 0.073, 1.942, 1.084, -1.732, 1.176\n",
      "Epoch 150, Average reward, unmet demand, met demand, scooter num, scooter loc, wANNR, moran, gini, theil, EMD, centroid change, dispersion change, kl divergence = -107.838, 96.800, 72.800, 115.000, 99.000, 0.383, 0.030, 0.938, 0.073, 1.714, 0.920, -1.387, 1.389\n",
      "Epoch 200, Average reward, unmet demand, met demand, scooter num, scooter loc, wANNR, moran, gini, theil, EMD, centroid change, dispersion change, kl divergence = -115.292, 104.600, 72.600, 100.000, 81.000, 0.358, 0.031, 0.951, 0.086, 1.932, 1.167, -1.473, 1.291\n",
      "Epoch 250, Average reward, unmet demand, met demand, scooter num, scooter loc, wANNR, moran, gini, theil, EMD, centroid change, dispersion change, kl divergence = -117.591, 107.800, 73.800, 105.000, 85.000, 0.370, 0.035, 0.949, 0.081, 1.868, 0.939, -1.629, 1.354\n",
      "Epoch 300, Average reward, unmet demand, met demand, scooter num, scooter loc, wANNR, moran, gini, theil, EMD, centroid change, dispersion change, kl divergence = -120.997, 109.800, 77.000, 117.000, 95.000, 0.387, 0.030, 0.943, 0.082, 1.732, 1.067, -1.344, 1.454\n",
      "Epoch 350, Average reward, unmet demand, met demand, scooter num, scooter loc, wANNR, moran, gini, theil, EMD, centroid change, dispersion change, kl divergence = -129.450, 120.000, 64.200, 93.000, 78.000, 0.345, 0.030, 0.952, 0.065, 1.845, 0.921, -1.569, 1.441\n",
      "Epoch 400, Average reward, unmet demand, met demand, scooter num, scooter loc, wANNR, moran, gini, theil, EMD, centroid change, dispersion change, kl divergence = -112.118, 100.800, 68.000, 107.000, 87.000, 0.370, 0.025, 0.947, 0.077, 1.717, 0.906, -1.417, 1.555\n",
      "Epoch 450, Average reward, unmet demand, met demand, scooter num, scooter loc, wANNR, moran, gini, theil, EMD, centroid change, dispersion change, kl divergence = -106.427, 94.800, 82.600, 110.000, 91.000, 0.375, 0.042, 0.944, 0.069, 2.000, 1.018, -1.778, 1.101\n",
      "Epoch 500, Average reward, unmet demand, met demand, scooter num, scooter loc, wANNR, moran, gini, theil, EMD, centroid change, dispersion change, kl divergence = -116.204, 105.800, 71.800, 111.000, 95.000, 0.380, 0.033, 0.940, 0.058, 1.742, 0.881, -1.445, 1.285\n"
     ]
    }
   ],
   "source": [
    "## tf.reset_default_graph() only works under tf 1.0\n",
    "max_scooter_per_area = 12\n",
    "\n",
    "# Set up the state-value estimator and policy estimator\n",
    "estimator_policy = PolicyEstimator(learning_rate, nS)\n",
    "estimator_value = StateValueEstimator(learning_rate, nS)\n",
    "\n",
    "# Initialize study area\n",
    "study_area = create_study_area(service_areas, max_scooter_per_area, scooter_cost_per_deploy, docked_cost_per_deploy, \\\n",
    "                   nS, no_scooter_penalty, reward_per_rider, equity_penalty, logistics_car_cost_per_mile)\n",
    "\n",
    "# Add ops to save and restore all the variables\n",
    "\n",
    "print(\"Starting policy gradient...\")\n",
    "\n",
    "# Start training\n",
    "print(\"Training in progress...\")\n",
    "avg_reward_max_12, avg_unmet_demand_max_12, avg_met_demand_max_12, avg_scooter_num_max_12, avg_scooter_loc_max_12, avg_wANNR_max_12, avg_moran_max_12, avg_gini_max_12, avg_theil_max_12, avg_EMD_max_12, avg_centroid_max_12, avg_dispersion_max_12, avg_kl_max_12, scooter_list_max_12 = reinforce(study_area, nS, estimator_policy, estimator_value, n_epochs, n_iters, batch_size, display_step)"
   ]
  },
  {
   "cell_type": "markdown",
   "id": "5308dc9b",
   "metadata": {},
   "source": [
    "## MAX = 13"
   ]
  },
  {
   "cell_type": "code",
   "execution_count": 16,
   "id": "e9e2a53d",
   "metadata": {},
   "outputs": [
    {
     "name": "stdout",
     "output_type": "stream",
     "text": [
      "Starting policy gradient...\n",
      "Training in progress...\n",
      "Epoch 50, Average reward, unmet demand, met demand, scooter num, scooter loc, wANNR, moran, gini, theil, EMD, centroid change, dispersion change, kl divergence = -118.522, 108.000, 72.200, 107.000, 85.000, 0.373, 0.024, 0.950, 0.108, 1.682, 0.978, -1.322, 1.388\n",
      "Epoch 100, Average reward, unmet demand, met demand, scooter num, scooter loc, wANNR, moran, gini, theil, EMD, centroid change, dispersion change, kl divergence = -107.179, 96.800, 78.000, 105.000, 86.000, 0.366, 0.035, 0.948, 0.084, 1.879, 0.953, -1.564, 1.181\n",
      "Epoch 150, Average reward, unmet demand, met demand, scooter num, scooter loc, wANNR, moran, gini, theil, EMD, centroid change, dispersion change, kl divergence = -120.077, 108.800, 73.800, 112.000, 101.000, 0.378, 0.035, 0.934, 0.050, 1.794, 1.008, -1.473, 1.487\n",
      "Epoch 200, Average reward, unmet demand, met demand, scooter num, scooter loc, wANNR, moran, gini, theil, EMD, centroid change, dispersion change, kl divergence = -128.148, 118.400, 71.800, 103.000, 91.000, 0.363, 0.033, 0.941, 0.043, 1.841, 1.082, -1.586, 1.349\n",
      "Epoch 250, Average reward, unmet demand, met demand, scooter num, scooter loc, wANNR, moran, gini, theil, EMD, centroid change, dispersion change, kl divergence = -112.309, 102.400, 68.600, 95.000, 79.000, 0.348, 0.032, 0.952, 0.086, 1.917, 1.149, -1.522, 1.328\n",
      "Epoch 300, Average reward, unmet demand, met demand, scooter num, scooter loc, wANNR, moran, gini, theil, EMD, centroid change, dispersion change, kl divergence = -107.436, 96.400, 76.000, 111.000, 94.000, 0.377, 0.035, 0.942, 0.085, 1.900, 1.033, -1.694, 1.267\n",
      "Epoch 350, Average reward, unmet demand, met demand, scooter num, scooter loc, wANNR, moran, gini, theil, EMD, centroid change, dispersion change, kl divergence = -107.871, 97.800, 78.600, 110.000, 89.000, 0.375, 0.029, 0.947, 0.089, 1.732, 0.853, -1.356, 1.207\n",
      "Epoch 400, Average reward, unmet demand, met demand, scooter num, scooter loc, wANNR, moran, gini, theil, EMD, centroid change, dispersion change, kl divergence = -129.926, 119.800, 76.600, 104.000, 85.000, 0.368, 0.033, 0.948, 0.067, 1.915, 0.962, -1.732, 1.184\n",
      "Epoch 450, Average reward, unmet demand, met demand, scooter num, scooter loc, wANNR, moran, gini, theil, EMD, centroid change, dispersion change, kl divergence = -108.361, 99.000, 74.200, 98.000, 81.000, 0.354, 0.030, 0.950, 0.071, 1.809, 1.090, -1.403, 1.206\n",
      "Epoch 500, Average reward, unmet demand, met demand, scooter num, scooter loc, wANNR, moran, gini, theil, EMD, centroid change, dispersion change, kl divergence = -121.283, 110.600, 81.400, 113.000, 91.000, 0.380, 0.035, 0.945, 0.084, 1.968, 1.021, -1.789, 1.175\n"
     ]
    }
   ],
   "source": [
    "## tf.reset_default_graph() only works under tf 1.0\n",
    "max_scooter_per_area = 13\n",
    "\n",
    "# Set up the state-value estimator and policy estimator\n",
    "estimator_policy = PolicyEstimator(learning_rate, nS)\n",
    "estimator_value = StateValueEstimator(learning_rate, nS)\n",
    "\n",
    "# Initialize study area\n",
    "study_area = create_study_area(service_areas, max_scooter_per_area, scooter_cost_per_deploy, docked_cost_per_deploy, \\\n",
    "                   nS, no_scooter_penalty, reward_per_rider, equity_penalty, logistics_car_cost_per_mile)\n",
    "\n",
    "# Add ops to save and restore all the variables\n",
    "\n",
    "print(\"Starting policy gradient...\")\n",
    "\n",
    "# Start training\n",
    "print(\"Training in progress...\")\n",
    "avg_reward_max_13, avg_unmet_demand_max_13, avg_met_demand_max_13, avg_scooter_num_max_13, avg_scooter_loc_max_13, avg_wANNR_max_13, avg_moran_max_13, avg_gini_max_13, avg_theil_max_13, avg_EMD_max_13, avg_centroid_max_13, avg_dispersion_max_13, avg_kl_max_13, scooter_list_max_13 = reinforce(study_area, nS, estimator_policy, estimator_value, n_epochs, n_iters, batch_size, display_step)"
   ]
  },
  {
   "cell_type": "markdown",
   "id": "3e5e37de",
   "metadata": {},
   "source": [
    "## MAX = 14"
   ]
  },
  {
   "cell_type": "code",
   "execution_count": 17,
   "id": "390b6c76",
   "metadata": {},
   "outputs": [
    {
     "name": "stdout",
     "output_type": "stream",
     "text": [
      "Starting policy gradient...\n",
      "Training in progress...\n",
      "Epoch 50, Average reward, unmet demand, met demand, scooter num, scooter loc, wANNR, moran, gini, theil, EMD, centroid change, dispersion change, kl divergence = -123.554, 113.600, 77.600, 110.000, 92.000, 0.375, 0.029, 0.943, 0.083, 1.710, 0.795, -1.400, 1.231\n",
      "Epoch 100, Average reward, unmet demand, met demand, scooter num, scooter loc, wANNR, moran, gini, theil, EMD, centroid change, dispersion change, kl divergence = -109.750, 99.000, 75.200, 107.000, 86.000, 0.370, 0.024, 0.949, 0.097, 1.747, 0.934, -1.443, 1.291\n",
      "Epoch 150, Average reward, unmet demand, met demand, scooter num, scooter loc, wANNR, moran, gini, theil, EMD, centroid change, dispersion change, kl divergence = -114.550, 104.600, 77.200, 104.000, 83.000, 0.368, 0.026, 0.950, 0.085, 1.728, 0.913, -1.480, 1.169\n",
      "Epoch 200, Average reward, unmet demand, met demand, scooter num, scooter loc, wANNR, moran, gini, theil, EMD, centroid change, dispersion change, kl divergence = -118.880, 109.600, 81.000, 100.000, 87.000, 0.361, 0.035, 0.945, 0.057, 1.861, 0.993, -1.575, 1.040\n",
      "Epoch 250, Average reward, unmet demand, met demand, scooter num, scooter loc, wANNR, moran, gini, theil, EMD, centroid change, dispersion change, kl divergence = -113.090, 101.200, 77.000, 112.000, 85.000, 0.378, 0.029, 0.951, 0.099, 1.842, 0.942, -1.594, 1.385\n",
      "Epoch 300, Average reward, unmet demand, met demand, scooter num, scooter loc, wANNR, moran, gini, theil, EMD, centroid change, dispersion change, kl divergence = -115.152, 104.200, 78.200, 119.000, 98.000, 0.390, 0.034, 0.940, 0.067, 1.795, 0.906, -1.576, 1.241\n",
      "Epoch 350, Average reward, unmet demand, met demand, scooter num, scooter loc, wANNR, moran, gini, theil, EMD, centroid change, dispersion change, kl divergence = -128.915, 119.800, 69.400, 94.000, 78.000, 0.347, 0.034, 0.952, 0.066, 1.827, 0.837, -1.481, 1.417\n",
      "Epoch 400, Average reward, unmet demand, met demand, scooter num, scooter loc, wANNR, moran, gini, theil, EMD, centroid change, dispersion change, kl divergence = -105.740, 95.600, 80.200, 108.000, 89.000, 0.372, 0.038, 0.946, 0.073, 1.915, 0.852, -1.667, 1.205\n",
      "Epoch 450, Average reward, unmet demand, met demand, scooter num, scooter loc, wANNR, moran, gini, theil, EMD, centroid change, dispersion change, kl divergence = -116.202, 104.000, 83.000, 118.000, 95.000, 0.388, 0.038, 0.943, 0.102, 1.953, 0.876, -1.755, 1.275\n",
      "Epoch 500, Average reward, unmet demand, met demand, scooter num, scooter loc, wANNR, moran, gini, theil, EMD, centroid change, dispersion change, kl divergence = -114.971, 103.400, 77.600, 113.000, 92.000, 0.380, 0.027, 0.945, 0.093, 1.823, 1.046, -1.557, 1.342\n"
     ]
    }
   ],
   "source": [
    "## tf.reset_default_graph() only works under tf 1.0\n",
    "max_scooter_per_area = 14\n",
    "\n",
    "# Set up the state-value estimator and policy estimator\n",
    "estimator_policy = PolicyEstimator(learning_rate, nS)\n",
    "estimator_value = StateValueEstimator(learning_rate, nS)\n",
    "\n",
    "# Initialize study area\n",
    "study_area = create_study_area(service_areas, max_scooter_per_area, scooter_cost_per_deploy, docked_cost_per_deploy, \\\n",
    "                   nS, no_scooter_penalty, reward_per_rider, equity_penalty, logistics_car_cost_per_mile)\n",
    "\n",
    "# Add ops to save and restore all the variables\n",
    "\n",
    "print(\"Starting policy gradient...\")\n",
    "\n",
    "# Start training\n",
    "print(\"Training in progress...\")\n",
    "avg_reward_max_14, avg_unmet_demand_max_14, avg_met_demand_max_14, avg_scooter_num_max_14, avg_scooter_loc_max_14, avg_wANNR_max_14, avg_moran_max_14, avg_gini_max_14, avg_theil_max_14, avg_EMD_max_14, avg_centroid_max_14, avg_dispersion_max_14, avg_kl_max_14, scooter_list_max_14 = reinforce(study_area, nS, estimator_policy, estimator_value, n_epochs, n_iters, batch_size, display_step)"
   ]
  },
  {
   "cell_type": "markdown",
   "id": "cd8319b4",
   "metadata": {},
   "source": [
    "## MAX = 15"
   ]
  },
  {
   "cell_type": "code",
   "execution_count": 18,
   "id": "b34bc39e",
   "metadata": {},
   "outputs": [
    {
     "name": "stdout",
     "output_type": "stream",
     "text": [
      "Starting policy gradient...\n",
      "Training in progress...\n",
      "Epoch 50, Average reward, unmet demand, met demand, scooter num, scooter loc, wANNR, moran, gini, theil, EMD, centroid change, dispersion change, kl divergence = -100.127, 90.000, 82.600, 113.000, 94.000, 0.380, 0.037, 0.942, 0.075, 1.842, 1.117, -1.561, 1.188\n",
      "Epoch 100, Average reward, unmet demand, met demand, scooter num, scooter loc, wANNR, moran, gini, theil, EMD, centroid change, dispersion change, kl divergence = -119.290, 107.600, 77.000, 112.000, 85.000, 0.378, 0.027, 0.951, 0.106, 1.782, 0.821, -1.481, 1.376\n",
      "Epoch 150, Average reward, unmet demand, met demand, scooter num, scooter loc, wANNR, moran, gini, theil, EMD, centroid change, dispersion change, kl divergence = -118.727, 108.000, 70.400, 105.000, 87.000, 0.368, 0.024, 0.947, 0.092, 1.778, 1.162, -1.437, 1.384\n",
      "Epoch 200, Average reward, unmet demand, met demand, scooter num, scooter loc, wANNR, moran, gini, theil, EMD, centroid change, dispersion change, kl divergence = -119.700, 108.400, 76.400, 108.000, 89.000, 0.372, 0.037, 0.945, 0.065, 1.905, 1.019, -1.692, 1.281\n",
      "Epoch 250, Average reward, unmet demand, met demand, scooter num, scooter loc, wANNR, moran, gini, theil, EMD, centroid change, dispersion change, kl divergence = -110.493, 100.400, 76.600, 109.000, 90.000, 0.373, 0.041, 0.945, 0.080, 2.001, 0.933, -1.772, 1.060\n",
      "Epoch 300, Average reward, unmet demand, met demand, scooter num, scooter loc, wANNR, moran, gini, theil, EMD, centroid change, dispersion change, kl divergence = -110.509, 100.800, 73.600, 103.000, 81.000, 0.363, 0.036, 0.952, 0.079, 1.980, 0.901, -1.760, 1.167\n",
      "Epoch 350, Average reward, unmet demand, met demand, scooter num, scooter loc, wANNR, moran, gini, theil, EMD, centroid change, dispersion change, kl divergence = -119.943, 108.000, 74.600, 116.000, 94.000, 0.385, 0.033, 0.944, 0.095, 1.759, 0.852, -1.457, 1.416\n",
      "Epoch 400, Average reward, unmet demand, met demand, scooter num, scooter loc, wANNR, moran, gini, theil, EMD, centroid change, dispersion change, kl divergence = -110.015, 100.000, 78.400, 102.000, 80.000, 0.365, 0.035, 0.953, 0.094, 1.853, 0.918, -1.501, 1.128\n",
      "Epoch 450, Average reward, unmet demand, met demand, scooter num, scooter loc, wANNR, moran, gini, theil, EMD, centroid change, dispersion change, kl divergence = -119.445, 108.400, 83.200, 109.000, 89.000, 0.373, 0.036, 0.946, 0.084, 1.931, 1.014, -1.678, 1.229\n",
      "Epoch 500, Average reward, unmet demand, met demand, scooter num, scooter loc, wANNR, moran, gini, theil, EMD, centroid change, dispersion change, kl divergence = -114.287, 103.000, 82.800, 116.000, 97.000, 0.386, 0.042, 0.940, 0.066, 1.900, 1.045, -1.635, 1.195\n"
     ]
    }
   ],
   "source": [
    "## tf.reset_default_graph() only works under tf 1.0\n",
    "max_scooter_per_area = 15\n",
    "\n",
    "# Set up the state-value estimator and policy estimator\n",
    "estimator_policy = PolicyEstimator(learning_rate, nS)\n",
    "estimator_value = StateValueEstimator(learning_rate, nS)\n",
    "\n",
    "# Initialize study area\n",
    "study_area = create_study_area(service_areas, max_scooter_per_area, scooter_cost_per_deploy, docked_cost_per_deploy, \\\n",
    "                   nS, no_scooter_penalty, reward_per_rider, equity_penalty, logistics_car_cost_per_mile)\n",
    "\n",
    "# Add ops to save and restore all the variables\n",
    "\n",
    "print(\"Starting policy gradient...\")\n",
    "\n",
    "# Start training\n",
    "print(\"Training in progress...\")\n",
    "avg_reward_max_15, avg_unmet_demand_max_15, avg_met_demand_max_15, avg_scooter_num_max_15, avg_scooter_loc_max_15, avg_wANNR_max_15, avg_moran_max_15, avg_gini_max_15, avg_theil_max_15, avg_EMD_max_15, avg_centroid_max_15, avg_dispersion_max_15, avg_kl_max_15, scooter_list_max_15 = reinforce(study_area, nS, estimator_policy, estimator_value, n_epochs, n_iters, batch_size, display_step)"
   ]
  },
  {
   "cell_type": "markdown",
   "id": "462300ea",
   "metadata": {},
   "source": [
    "## MAX = 16"
   ]
  },
  {
   "cell_type": "code",
   "execution_count": 19,
   "id": "c4b00b1e",
   "metadata": {},
   "outputs": [
    {
     "name": "stdout",
     "output_type": "stream",
     "text": [
      "Starting policy gradient...\n",
      "Training in progress...\n",
      "Epoch 50, Average reward, unmet demand, met demand, scooter num, scooter loc, wANNR, moran, gini, theil, EMD, centroid change, dispersion change, kl divergence = -107.179, 97.400, 76.000, 105.000, 86.000, 0.366, 0.032, 0.948, 0.088, 1.854, 0.890, -1.534, 1.158\n",
      "Epoch 100, Average reward, unmet demand, met demand, scooter num, scooter loc, wANNR, moran, gini, theil, EMD, centroid change, dispersion change, kl divergence = -110.424, 100.000, 76.200, 108.000, 92.000, 0.379, 0.035, 0.942, 0.050, 1.706, 0.872, -1.309, 1.372\n",
      "Epoch 150, Average reward, unmet demand, met demand, scooter num, scooter loc, wANNR, moran, gini, theil, EMD, centroid change, dispersion change, kl divergence = -112.052, 101.800, 70.800, 100.000, 81.000, 0.358, 0.025, 0.951, 0.074, 1.718, 1.095, -1.345, 1.379\n",
      "Epoch 200, Average reward, unmet demand, met demand, scooter num, scooter loc, wANNR, moran, gini, theil, EMD, centroid change, dispersion change, kl divergence = -118.123, 108.400, 75.000, 102.000, 81.000, 0.361, 0.035, 0.952, 0.079, 1.942, 0.790, -1.694, 1.418\n",
      "Epoch 250, Average reward, unmet demand, met demand, scooter num, scooter loc, wANNR, moran, gini, theil, EMD, centroid change, dispersion change, kl divergence = -116.894, 106.800, 77.200, 104.000, 81.000, 0.365, 0.028, 0.952, 0.077, 1.810, 0.970, -1.486, 1.175\n",
      "Epoch 300, Average reward, unmet demand, met demand, scooter num, scooter loc, wANNR, moran, gini, theil, EMD, centroid change, dispersion change, kl divergence = -119.034, 108.000, 83.000, 107.000, 84.000, 0.370, 0.033, 0.950, 0.084, 1.880, 1.059, -1.579, 1.208\n",
      "Epoch 350, Average reward, unmet demand, met demand, scooter num, scooter loc, wANNR, moran, gini, theil, EMD, centroid change, dispersion change, kl divergence = -106.926, 95.000, 77.600, 115.000, 90.000, 0.383, 0.035, 0.947, 0.087, 1.907, 0.984, -1.660, 1.164\n",
      "Epoch 400, Average reward, unmet demand, met demand, scooter num, scooter loc, wANNR, moran, gini, theil, EMD, centroid change, dispersion change, kl divergence = -109.707, 97.600, 78.200, 113.000, 94.000, 0.380, 0.031, 0.942, 0.075, 1.767, 1.090, -1.378, 1.120\n",
      "Epoch 450, Average reward, unmet demand, met demand, scooter num, scooter loc, wANNR, moran, gini, theil, EMD, centroid change, dispersion change, kl divergence = -112.105, 100.800, 81.400, 112.000, 92.000, 0.378, 0.030, 0.944, 0.082, 1.703, 0.877, -1.350, 1.306\n",
      "Epoch 500, Average reward, unmet demand, met demand, scooter num, scooter loc, wANNR, moran, gini, theil, EMD, centroid change, dispersion change, kl divergence = -122.348, 111.800, 75.600, 105.000, 82.000, 0.366, 0.029, 0.952, 0.085, 1.892, 1.110, -1.656, 1.274\n"
     ]
    }
   ],
   "source": [
    "## tf.reset_default_graph() only works under tf 1.0\n",
    "max_scooter_per_area = 16\n",
    "\n",
    "# Set up the state-value estimator and policy estimator\n",
    "estimator_policy = PolicyEstimator(learning_rate, nS)\n",
    "estimator_value = StateValueEstimator(learning_rate, nS)\n",
    "\n",
    "# Initialize study area\n",
    "study_area = create_study_area(service_areas, max_scooter_per_area, scooter_cost_per_deploy, docked_cost_per_deploy, \\\n",
    "                   nS, no_scooter_penalty, reward_per_rider, equity_penalty, logistics_car_cost_per_mile)\n",
    "\n",
    "# Add ops to save and restore all the variables\n",
    "\n",
    "print(\"Starting policy gradient...\")\n",
    "\n",
    "# Start training\n",
    "print(\"Training in progress...\")\n",
    "avg_reward_max_16, avg_unmet_demand_max_16, avg_met_demand_max_16, avg_scooter_num_max_16, avg_scooter_loc_max_16, avg_wANNR_max_16, avg_moran_max_16, avg_gini_max_16, avg_theil_max_16, avg_EMD_max_16, avg_centroid_max_16, avg_dispersion_max_16, avg_kl_max_16, scooter_list_max_16 = reinforce(study_area, nS, estimator_policy, estimator_value, n_epochs, n_iters, batch_size, display_step)"
   ]
  },
  {
   "cell_type": "markdown",
   "id": "cf6babdd",
   "metadata": {},
   "source": [
    "# Illustration"
   ]
  },
  {
   "cell_type": "code",
   "execution_count": 63,
   "id": "218b3462",
   "metadata": {},
   "outputs": [
    {
     "name": "stdout",
     "output_type": "stream",
     "text": [
      "[array([ True,  True,  True,  True,  True,  True,  True,  True,  True,\n",
      "        True]), array([ True,  True,  True,  True,  True,  True,  True,  True,  True,\n",
      "        True]), array([ True,  True,  True,  True,  True,  True,  True,  True,  True,\n",
      "        True]), array([ True,  True,  True,  True,  True,  True,  True,  True,  True,\n",
      "        True]), array([ True,  True,  True,  True,  True,  True,  True,  True,  True,\n",
      "        True]), array([ True,  True,  True,  True,  True,  True,  True,  True,  True,\n",
      "        True]), array([ True,  True,  True,  True,  True,  True,  True,  True,  True,\n",
      "        True]), array([ True,  True,  True,  True,  True,  True,  True,  True,  True,\n",
      "        True]), array([ True,  True,  True,  True,  True,  True,  True,  True,  True,\n",
      "        True]), array([ True,  True,  True,  True,  True,  True,  True,  True,  True,\n",
      "        True]), array([ True,  True,  True,  True,  True,  True,  True,  True,  True,\n",
      "        True]), array([ True,  True,  True,  True,  True,  True,  True,  True,  True,\n",
      "        True]), array([ True,  True,  True,  True,  True,  True, False,  True,  True,\n",
      "        True]), array([False,  True,  True,  True,  True,  True,  True,  True,  True,\n",
      "        True]), array([ True,  True,  True,  True,  True,  True,  True,  True,  True,\n",
      "        True])]\n"
     ]
    }
   ],
   "source": [
    "def modified_z_score(arr):\n",
    "\n",
    "    median = np.median(arr)\n",
    "    mad = np.median(np.abs(arr - median))  # Median Absolute Deviation\n",
    "\n",
    "    # Modified Z-score\n",
    "    modified_z_scores = 0.6745 * (arr - median) / mad\n",
    "    threshold = 3\n",
    "    # filtered_arr = arr[np.abs(modified_z_scores) < threshold]\n",
    "    sel_index = np.abs(modified_z_scores) < threshold\n",
    "    \n",
    "    return sel_index # filtered_arr\n",
    "\n",
    "sel_index_2 = modified_z_score(avg_reward_max_2)\n",
    "sel_index_3 = modified_z_score(avg_reward_max_3)\n",
    "sel_index_4 = modified_z_score(avg_reward_max_4)\n",
    "sel_index_5 = modified_z_score(avg_reward_max_5)\n",
    "sel_index_6 = modified_z_score(avg_reward_max_6)\n",
    "sel_index_7 = modified_z_score(avg_reward_max_7)\n",
    "sel_index_8 = modified_z_score(avg_reward_max_8)\n",
    "sel_index_9 = modified_z_score(avg_reward_max_9)\n",
    "sel_index_10 = modified_z_score(avg_reward_max_10)\n",
    "sel_index_11 = modified_z_score(avg_reward_max_11)\n",
    "sel_index_12 = modified_z_score(avg_reward_max_12)\n",
    "sel_index_13 = modified_z_score(avg_reward_max_13)\n",
    "sel_index_14 = modified_z_score(avg_reward_max_14)\n",
    "sel_index_15 = modified_z_score(avg_reward_max_15)\n",
    "sel_index_16 = modified_z_score(avg_reward_max_16)\n",
    "print([sel_index_2, sel_index_3, sel_index_4, sel_index_5, sel_index_6, sel_index_7, sel_index_8, sel_index_9, \n",
    "      sel_index_10, sel_index_11, sel_index_12, sel_index_13, sel_index_14, sel_index_15, sel_index_16])"
   ]
  },
  {
   "cell_type": "code",
   "execution_count": 64,
   "id": "91bd3d33",
   "metadata": {},
   "outputs": [
    {
     "name": "stdout",
     "output_type": "stream",
     "text": [
      "End: 2025-07-11 01:48:39\n",
      "Plotting resulting graph...\n",
      "Plotting baseline 1...\n",
      "End: 2025-07-11 01:48:39\n"
     ]
    },
    {
     "data": {
      "image/png": "[encoded data removed]",
      "text/plain": [
       "<Figure size 432x288 with 1 Axes>"
      ]
     },
     "metadata": {
      "needs_background": "light"
     },
     "output_type": "display_data"
    }
   ],
   "source": [
    "# Plot the graphs of average rewards during testing phases of the policy\n",
    "# gradient method and the hand-crafted policies\n",
    "\n",
    "print(\"End: \" + datetime.now().strftime('%Y-%m-%d %H:%M:%S'))\n",
    "\n",
    "max_scooter_per_area_list = np.arange(2,17)\n",
    "max_reward_list_grid = np.array([avg_reward_max_2,\n",
    "                                avg_reward_max_3,\n",
    "                                avg_reward_max_4,\n",
    "                                avg_reward_max_5,\n",
    "                                avg_reward_max_6,\n",
    "                                avg_reward_max_7,\n",
    "                                avg_reward_max_8,\n",
    "                                avg_reward_max_9,\n",
    "                                avg_reward_max_10,\n",
    "                                avg_reward_max_11,\n",
    "                                avg_reward_max_12,\n",
    "                                avg_reward_max_13,\n",
    "                                avg_reward_max_14,\n",
    "                                avg_reward_max_15,\n",
    "                                avg_reward_max_16])\n",
    "max_reward_mean_grid = np.mean(max_reward_list_grid, axis=1)\n",
    "max_reward_std_grid = np.std(max_reward_list_grid, axis=1)\n",
    "\n",
    "print(\"Plotting resulting graph...\")\n",
    "# plt.figure(figsize = (12, 9))\n",
    "l1 = plt.errorbar(max_scooter_per_area_list, max_reward_mean_grid, yerr=max_reward_std_grid, fmt='o-', capsize=5) # ecolor='gray', \n",
    "\n",
    "print(\"Plotting baseline 1...\")\n",
    "# plt.legend(loc='best',prop={'size': 10})\n",
    "plt.ylabel(\"Reward function value\")\n",
    "plt.xlabel(\"max_scooter_per_area\")\n",
    "\n",
    "print(\"End: \" + datetime.now().strftime('%Y-%m-%d %H:%M:%S'))"
   ]
  },
  {
   "cell_type": "code",
   "execution_count": 65,
   "id": "88cb6330",
   "metadata": {},
   "outputs": [
    {
     "data": {
      "text/plain": [
       "array([[-117.98004658, -113.31366705, -119.23692866, -109.04473886,\n",
       "        -115.05452371, -115.05174924, -115.67884647, -122.45479768,\n",
       "        -124.27715921, -123.70740042],\n",
       "       [-109.77592831, -113.43126209, -130.63569776, -119.55727212,\n",
       "        -128.45854645, -113.58353875, -120.30185149, -122.85029253,\n",
       "        -119.16275157, -124.14823102],\n",
       "       [-111.67607201, -111.83341045, -113.72515653, -121.62106431,\n",
       "        -117.50125143, -109.89701551, -119.16740042, -126.99479768,\n",
       "        -118.35870278, -106.64117721],\n",
       "       [-109.29780269, -113.07660258, -108.52432592, -111.96159488,\n",
       "        -125.83197979, -112.39442817, -113.90980538, -117.01385417,\n",
       "        -125.98908768, -118.76376929],\n",
       "       [-108.83577198, -133.61355414, -113.35637203, -124.23637203,\n",
       "        -126.95167976, -125.61029253, -122.33029253, -114.47029253,\n",
       "        -120.05029253, -105.76733094],\n",
       "       [-124.91775927, -109.93824642, -116.03630255, -109.7188899 ,\n",
       "        -117.23588488, -120.83745924, -113.98076428, -115.76016423,\n",
       "        -118.84065138, -113.6098488 ],\n",
       "       [-118.63907702, -114.00590028, -109.90534365, -113.27956417,\n",
       "        -116.04166436, -107.82353875, -116.09257984, -105.72185149,\n",
       "        -119.47715921, -122.20376929],\n",
       "       [-111.12027713, -122.73577198, -111.73854645, -123.66155146,\n",
       "        -107.17877699, -122.57738976, -122.11306699, -122.29029253,\n",
       "        -110.16293869, -111.20406932],\n",
       "       [-110.03202321, -106.67202321, -119.95262327, -115.31262327,\n",
       "        -116.41262327, -110.56323872, -127.72323872, -118.58323872,\n",
       "        -122.22323872, -119.16323872],\n",
       "       [-106.69394102, -113.38076428, -115.32703091, -106.67544116,\n",
       "        -115.14016423, -115.53877699, -120.26788757, -112.23607201,\n",
       "        -118.71877699, -108.85468477],\n",
       "       [-124.04323872, -112.54823102, -107.83757214, -115.29221034,\n",
       "        -117.59142316, -120.99671549, -129.4499925 , -112.11828984,\n",
       "        -106.42654376, -116.20383877],\n",
       "       [-118.52238206, -107.17937705, -120.07704157, -128.1481876 ,\n",
       "        -112.30890529, -107.43588488, -107.87063598, -129.92594371,\n",
       "        -108.36125143, -121.28298212],\n",
       "       [-123.55449765, -109.75033595, -114.55003592, -118.87993368,\n",
       "        -113.08977932, -115.15153606, -128.91547195, -105.73967708,\n",
       "        -116.20219494, -114.97093601],\n",
       "       [-100.12684379, -119.28977932, -118.72733094, -119.69967708,\n",
       "        -110.49311042, -110.50864869, -119.94328214, -110.01521535,\n",
       "        -119.44515653, -114.28714382],\n",
       "       [-107.17937705, -110.42353875, -112.05221034, -118.12316924,\n",
       "        -116.89412814, -119.03442817, -106.92598713, -109.70684379,\n",
       "        -112.10545656, -122.34756149]])"
      ]
     },
     "execution_count": 65,
     "metadata": {},
     "output_type": "execute_result"
    }
   ],
   "source": [
    "max_reward_list_grid"
   ]
  },
  {
   "cell_type": "code",
   "execution_count": 66,
   "id": "5be10874",
   "metadata": {},
   "outputs": [
    {
     "name": "stdout",
     "output_type": "stream",
     "text": [
      "End: 2025-07-11 01:48:39\n",
      "Plotting resulting graph...\n",
      "Plotting baseline 1...\n",
      "End: 2025-07-11 01:48:39\n"
     ]
    },
    {
     "data": {
      "image/png": "[encoded data removed]",
      "text/plain": [
       "<Figure size 432x288 with 1 Axes>"
      ]
     },
     "metadata": {
      "needs_background": "light"
     },
     "output_type": "display_data"
    }
   ],
   "source": [
    "# Plot the graphs of average rewards during testing phases of the policy\n",
    "# gradient method and the hand-crafted policies\n",
    "\n",
    "print(\"End: \" + datetime.now().strftime('%Y-%m-%d %H:%M:%S'))\n",
    "\n",
    "max_scooter_per_area_list = np.arange(2,17)\n",
    "max_reward_list_grid = [np.array(avg_reward_max_2)[sel_index_2],\n",
    "                        np.array(avg_reward_max_3)[sel_index_3],\n",
    "                        np.array(avg_reward_max_4)[sel_index_4],\n",
    "                        np.array(avg_reward_max_5)[sel_index_5],\n",
    "                        np.array(avg_reward_max_6)[sel_index_6],\n",
    "                        np.array(avg_reward_max_7)[sel_index_7],\n",
    "                        np.array(avg_reward_max_8)[sel_index_8],\n",
    "                        np.array(avg_reward_max_9)[sel_index_9],\n",
    "                        np.array(avg_reward_max_10)[sel_index_10],\n",
    "                        np.array(avg_reward_max_11)[sel_index_11],\n",
    "                        np.array(avg_reward_max_12)[sel_index_12],\n",
    "                        np.array(avg_reward_max_13)[sel_index_13],\n",
    "                        np.array(avg_reward_max_14)[sel_index_14],\n",
    "                        np.array(avg_reward_max_15)[sel_index_15],\n",
    "                        np.array(avg_reward_max_16)[sel_index_16]]\n",
    "max_reward_mean_grid = []\n",
    "max_reward_std_grid = []\n",
    "for ii in range(len(max_scooter_per_area_list)):\n",
    "    max_reward_mean_grid.append(np.mean(max_reward_list_grid[ii]))\n",
    "    max_reward_std_grid.append(np.std(max_reward_list_grid[ii]))\n",
    "\n",
    "print(\"Plotting resulting graph...\")\n",
    "# plt.figure(figsize = (12, 9))\n",
    "l1 = plt.errorbar(max_scooter_per_area_list, max_reward_mean_grid, yerr=max_reward_std_grid, fmt='o-', capsize=5) # ecolor='gray', \n",
    "\n",
    "print(\"Plotting baseline 1...\")\n",
    "# plt.legend(loc='best',prop={'size': 10})\n",
    "plt.ylabel(\"Reward function value\")\n",
    "plt.xlabel(\"max_scooter_per_area\")\n",
    "\n",
    "print(\"End: \" + datetime.now().strftime('%Y-%m-%d %H:%M:%S'))"
   ]
  },
  {
   "cell_type": "code",
   "execution_count": 67,
   "id": "29eceb93",
   "metadata": {},
   "outputs": [
    {
     "name": "stdout",
     "output_type": "stream",
     "text": [
      "End: 2025-07-11 01:48:39\n",
      "Plotting resulting graph...\n",
      "Plotting baseline 1...\n",
      "End: 2025-07-11 01:48:39\n"
     ]
    },
    {
     "data": {
      "image/png": "[encoded data removed]",
      "text/plain": [
       "<Figure size 432x288 with 1 Axes>"
      ]
     },
     "metadata": {
      "needs_background": "light"
     },
     "output_type": "display_data"
    }
   ],
   "source": [
    "# Plot the graphs of average rewards during testing phases of the policy\n",
    "# gradient method and the hand-crafted policies\n",
    "\n",
    "print(\"End: \" + datetime.now().strftime('%Y-%m-%d %H:%M:%S'))\n",
    "\n",
    "max_scooter_per_area_list = np.arange(2,17)\n",
    "max_unmet_demand_list_grid = np.array([avg_unmet_demand_max_2,\n",
    "                                avg_unmet_demand_max_3,\n",
    "                                avg_unmet_demand_max_4,\n",
    "                                avg_unmet_demand_max_5,\n",
    "                                avg_unmet_demand_max_6,\n",
    "                                avg_unmet_demand_max_7,\n",
    "                                avg_unmet_demand_max_8,\n",
    "                                avg_unmet_demand_max_9,\n",
    "                                avg_unmet_demand_max_10,\n",
    "                                avg_unmet_demand_max_11,\n",
    "                                avg_unmet_demand_max_12,\n",
    "                                avg_unmet_demand_max_13,\n",
    "                                avg_unmet_demand_max_14,\n",
    "                                avg_unmet_demand_max_15,\n",
    "                                avg_unmet_demand_max_16])\n",
    "max_unmet_demand_mean_grid = np.mean(max_unmet_demand_list_grid, axis=1)\n",
    "max_unmet_demand_std_grid = np.std(max_unmet_demand_list_grid, axis=1)\n",
    "\n",
    "print(\"Plotting resulting graph...\")\n",
    "# plt.figure(figsize = (12, 9))\n",
    "l1 = plt.errorbar(max_scooter_per_area_list, max_unmet_demand_mean_grid, yerr=max_unmet_demand_std_grid, fmt='o-', capsize=5) # ecolor='gray', \n",
    "\n",
    "print(\"Plotting baseline 1...\")\n",
    "# plt.legend(loc='best',prop={'size': 10})\n",
    "plt.ylabel(\"Count of unmet demands\")\n",
    "plt.xlabel(\"max_scooter_per_area\")\n",
    "\n",
    "print(\"End: \" + datetime.now().strftime('%Y-%m-%d %H:%M:%S'))"
   ]
  },
  {
   "cell_type": "code",
   "execution_count": 68,
   "id": "3efe0717",
   "metadata": {},
   "outputs": [
    {
     "data": {
      "text/plain": [
       "array([[106.4, 103.4, 109.8,  97.8, 105.4, 104.6, 105.8, 110.2, 114.6,\n",
       "        113.2],\n",
       "       [ 97.8, 102.4, 118.6, 108.6, 119.2, 102.4, 109.2, 112.6, 108. ,\n",
       "        113. ],\n",
       "       [101.2, 100.6, 103.8, 111. , 106.6,  97.6, 108.4, 115.2, 105.8,\n",
       "         94.4],\n",
       "       [ 97.6, 103.4,  98.4, 100.6, 115.8, 102.4, 103.6, 107.6, 114. ,\n",
       "        108.2],\n",
       "       [100. , 124.8, 103.4, 113.8, 118.2, 116. , 112.8, 104.6, 110. ,\n",
       "         96.2],\n",
       "       [114.2, 100.4, 105.2,  98. , 106.2, 111. , 103.8, 106. , 110. ,\n",
       "        102.4],\n",
       "       [108.2, 105.4, 100.4, 103.8, 104.6,  97.4, 105.6,  96.8, 110.2,\n",
       "        111.4],\n",
       "       [ 98.8, 112.2, 103. , 113.2,  97. , 112.8, 112.8, 113.2,  99.8,\n",
       "        100.4],\n",
       "       [ 99.8,  96.4, 108.2, 103.6, 104.8,  99.4, 117. , 108.2, 110.8,\n",
       "        109. ],\n",
       "       [ 96.2, 103. , 105.4,  93.8, 105. , 106.2, 110. , 103.2, 109.4,\n",
       "         99.4],\n",
       "       [113.4, 101. ,  96.8, 104.6, 107.8, 109.8, 120. , 100.8,  94.8,\n",
       "        105.8],\n",
       "       [108. ,  96.8, 108.8, 118.4, 102.4,  96.4,  97.8, 119.8,  99. ,\n",
       "        110.6],\n",
       "       [113.6,  99. , 104.6, 109.6, 101.2, 104.2, 119.8,  95.6, 104. ,\n",
       "        103.4],\n",
       "       [ 90. , 107.6, 108. , 108.4, 100.4, 100.8, 108. , 100. , 108.4,\n",
       "        103. ],\n",
       "       [ 97.4, 100. , 101.8, 108.4, 106.8, 108. ,  95. ,  97.6, 100.8,\n",
       "        111.8]])"
      ]
     },
     "execution_count": 68,
     "metadata": {},
     "output_type": "execute_result"
    }
   ],
   "source": [
    "max_unmet_demand_list_grid"
   ]
  },
  {
   "cell_type": "code",
   "execution_count": 69,
   "id": "4da57be1",
   "metadata": {},
   "outputs": [
    {
     "name": "stdout",
     "output_type": "stream",
     "text": [
      "End: 2025-07-11 01:48:39\n",
      "Plotting resulting graph...\n",
      "Plotting baseline 1...\n",
      "End: 2025-07-11 01:48:39\n"
     ]
    },
    {
     "data": {
      "image/png": "[encoded data removed]",
      "text/plain": [
       "<Figure size 432x288 with 1 Axes>"
      ]
     },
     "metadata": {
      "needs_background": "light"
     },
     "output_type": "display_data"
    }
   ],
   "source": [
    "# Plot the graphs of average rewards during testing phases of the policy\n",
    "# gradient method and the hand-crafted policies\n",
    "\n",
    "print(\"End: \" + datetime.now().strftime('%Y-%m-%d %H:%M:%S'))\n",
    "\n",
    "max_scooter_per_area_list = np.arange(2,17)\n",
    "max_unmet_demand_list_grid = [np.array(avg_unmet_demand_max_2)[sel_index_2],\n",
    "                        np.array(avg_unmet_demand_max_3)[sel_index_3],\n",
    "                        np.array(avg_unmet_demand_max_4)[sel_index_4],\n",
    "                        np.array(avg_unmet_demand_max_5)[sel_index_5],\n",
    "                        np.array(avg_unmet_demand_max_6)[sel_index_6],\n",
    "                        np.array(avg_unmet_demand_max_7)[sel_index_7],\n",
    "                        np.array(avg_unmet_demand_max_8)[sel_index_8],\n",
    "                        np.array(avg_unmet_demand_max_9)[sel_index_9],\n",
    "                        np.array(avg_unmet_demand_max_10)[sel_index_10],\n",
    "                        np.array(avg_unmet_demand_max_11)[sel_index_11],\n",
    "                        np.array(avg_unmet_demand_max_12)[sel_index_12],\n",
    "                        np.array(avg_unmet_demand_max_13)[sel_index_13],\n",
    "                        np.array(avg_unmet_demand_max_14)[sel_index_14],\n",
    "                        np.array(avg_unmet_demand_max_15)[sel_index_15],\n",
    "                        np.array(avg_unmet_demand_max_16)[sel_index_16]]\n",
    "max_unmet_demand_mean_grid = []\n",
    "max_unmet_demand_std_grid = []\n",
    "for ii in range(len(max_scooter_per_area_list)):\n",
    "    max_unmet_demand_mean_grid.append(np.mean(max_unmet_demand_list_grid[ii]))\n",
    "    max_unmet_demand_std_grid.append(np.std(max_unmet_demand_list_grid[ii]))\n",
    "\n",
    "print(\"Plotting resulting graph...\")\n",
    "# plt.figure(figsize = (12, 9))\n",
    "l1 = plt.errorbar(max_scooter_per_area_list, max_unmet_demand_mean_grid, yerr=max_unmet_demand_std_grid, fmt='o-', capsize=5) # ecolor='gray', \n",
    "\n",
    "print(\"Plotting baseline 1...\")\n",
    "# plt.legend(loc='best',prop={'size': 10})\n",
    "plt.ylabel(\"Count of unmet demands\")\n",
    "plt.xlabel(\"max_scooter_per_area\")\n",
    "\n",
    "print(\"End: \" + datetime.now().strftime('%Y-%m-%d %H:%M:%S'))"
   ]
  },
  {
   "cell_type": "code",
   "execution_count": 70,
   "id": "41ea18e5",
   "metadata": {},
   "outputs": [
    {
     "name": "stdout",
     "output_type": "stream",
     "text": [
      "End: 2025-07-11 01:48:39\n",
      "Plotting resulting graph...\n",
      "Plotting baseline 1...\n",
      "End: 2025-07-11 01:48:39\n"
     ]
    },
    {
     "data": {
      "image/png": "[encoded data removed]",
      "text/plain": [
       "<Figure size 432x288 with 1 Axes>"
      ]
     },
     "metadata": {
      "needs_background": "light"
     },
     "output_type": "display_data"
    }
   ],
   "source": [
    "# Plot the graphs of average rewards during testing phases of the policy\n",
    "# gradient method and the hand-crafted policies\n",
    "\n",
    "print(\"End: \" + datetime.now().strftime('%Y-%m-%d %H:%M:%S'))\n",
    "\n",
    "max_scooter_per_area_list = np.arange(2,17)\n",
    "max_met_demand_list_grid = np.array([avg_met_demand_max_2,\n",
    "                                avg_met_demand_max_3,\n",
    "                                avg_met_demand_max_4,\n",
    "                                avg_met_demand_max_5,\n",
    "                                avg_met_demand_max_6,\n",
    "                                avg_met_demand_max_7,\n",
    "                                avg_met_demand_max_8,\n",
    "                                avg_met_demand_max_9,\n",
    "                                avg_met_demand_max_10,\n",
    "                                avg_met_demand_max_11,\n",
    "                                avg_met_demand_max_12,\n",
    "                                avg_met_demand_max_13,\n",
    "                                avg_met_demand_max_14,\n",
    "                                avg_met_demand_max_15,\n",
    "                                avg_met_demand_max_16])\n",
    "max_met_demand_mean_grid = np.mean(max_met_demand_list_grid, axis=1)\n",
    "max_met_demand_std_grid = np.std(max_met_demand_list_grid, axis=1)\n",
    "\n",
    "print(\"Plotting resulting graph...\")\n",
    "# plt.figure(figsize = (12, 9))\n",
    "l1 = plt.errorbar(max_scooter_per_area_list, max_met_demand_mean_grid, yerr=max_met_demand_std_grid, fmt='o-', capsize=5) # ecolor='gray', \n",
    "\n",
    "print(\"Plotting baseline 1...\")\n",
    "# plt.legend(loc='best',prop={'size': 10})\n",
    "plt.ylabel(\"Count of met demands\")\n",
    "plt.xlabel(\"max_scooter_per_area\")\n",
    "\n",
    "print(\"End: \" + datetime.now().strftime('%Y-%m-%d %H:%M:%S'))"
   ]
  },
  {
   "cell_type": "code",
   "execution_count": 71,
   "id": "4e8f1897",
   "metadata": {
    "scrolled": true
   },
   "outputs": [
    {
     "data": {
      "text/plain": [
       "array([[73.2, 75. , 69.8, 83.6, 68.8, 70.2, 70.2, 75.6, 70.4, 79.2],\n",
       "       [76.8, 72. , 85.2, 76.2, 64.8, 69.4, 77. , 74.2, 71.2, 74.8],\n",
       "       [77.6, 73.4, 74.8, 81.6, 72. , 87. , 72.4, 68.4, 87. , 86.2],\n",
       "       [79.8, 73.4, 76. , 87.2, 67.6, 78.2, 71.6, 68.8, 76.6, 73.8],\n",
       "       [77.8, 70.8, 68.2, 64.8, 68. , 63.4, 67.8, 67.6, 66.2, 80.2],\n",
       "       [74.2, 70.4, 74.6, 74. , 72. , 72.6, 72.8, 76.4, 66.8, 71.6],\n",
       "       [75.2, 70.2, 70.2, 70.8, 77. , 71.2, 70.8, 71.4, 74.4, 66.6],\n",
       "       [72.8, 61.8, 75.4, 69.2, 75. , 70.2, 67. , 68. , 68. , 76.6],\n",
       "       [83.6, 83.4, 78. , 74.2, 78.2, 69. , 76.2, 71.4, 72.2, 71. ],\n",
       "       [84.4, 71.8, 74.4, 89. , 71. , 68.2, 67.2, 71.8, 73.8, 74.4],\n",
       "       [75.6, 85.8, 72.8, 72.6, 73.8, 77. , 64.2, 68. , 82.6, 71.8],\n",
       "       [72.2, 78. , 73.8, 71.8, 68.6, 76. , 78.6, 76.6, 74.2, 81.4],\n",
       "       [77.6, 75.2, 77.2, 81. , 77. , 78.2, 69.4, 80.2, 83. , 77.6],\n",
       "       [82.6, 77. , 70.4, 76.4, 76.6, 73.6, 74.6, 78.4, 83.2, 82.8],\n",
       "       [76. , 76.2, 70.8, 75. , 77.2, 83. , 77.6, 78.2, 81.4, 75.6]])"
      ]
     },
     "execution_count": 71,
     "metadata": {},
     "output_type": "execute_result"
    }
   ],
   "source": [
    "max_met_demand_list_grid"
   ]
  },
  {
   "cell_type": "code",
   "execution_count": 72,
   "id": "1947f7a4",
   "metadata": {},
   "outputs": [
    {
     "name": "stdout",
     "output_type": "stream",
     "text": [
      "End: 2025-07-11 01:48:39\n",
      "Plotting resulting graph...\n",
      "Plotting baseline 1...\n",
      "End: 2025-07-11 01:48:39\n"
     ]
    },
    {
     "data": {
      "image/png": "[encoded data removed]",
      "text/plain": [
       "<Figure size 432x288 with 1 Axes>"
      ]
     },
     "metadata": {
      "needs_background": "light"
     },
     "output_type": "display_data"
    }
   ],
   "source": [
    "# Plot the graphs of average rewards during testing phases of the policy\n",
    "# gradient method and the hand-crafted policies\n",
    "\n",
    "print(\"End: \" + datetime.now().strftime('%Y-%m-%d %H:%M:%S'))\n",
    "\n",
    "max_scooter_per_area_list = np.arange(2,17)\n",
    "max_met_demand_list_grid = [np.array(avg_met_demand_max_2)[sel_index_2],\n",
    "                        np.array(avg_met_demand_max_3)[sel_index_3],\n",
    "                        np.array(avg_met_demand_max_4)[sel_index_4],\n",
    "                        np.array(avg_met_demand_max_5)[sel_index_5],\n",
    "                        np.array(avg_met_demand_max_6)[sel_index_6],\n",
    "                        np.array(avg_met_demand_max_7)[sel_index_7],\n",
    "                        np.array(avg_met_demand_max_8)[sel_index_8],\n",
    "                        np.array(avg_met_demand_max_9)[sel_index_9],\n",
    "                        np.array(avg_met_demand_max_10)[sel_index_10],\n",
    "                        np.array(avg_met_demand_max_11)[sel_index_11],\n",
    "                        np.array(avg_met_demand_max_12)[sel_index_12],\n",
    "                        np.array(avg_met_demand_max_13)[sel_index_13],\n",
    "                        np.array(avg_met_demand_max_14)[sel_index_14],\n",
    "                        np.array(avg_met_demand_max_15)[sel_index_15],\n",
    "                        np.array(avg_met_demand_max_16)[sel_index_16]]\n",
    "max_met_demand_mean_grid = []\n",
    "max_met_demand_std_grid = []\n",
    "for ii in range(len(max_scooter_per_area_list)):\n",
    "    max_met_demand_mean_grid.append(np.mean(max_met_demand_list_grid[ii]))\n",
    "    max_met_demand_std_grid.append(np.std(max_met_demand_list_grid[ii]))\n",
    "\n",
    "print(\"Plotting resulting graph...\")\n",
    "# plt.figure(figsize = (12, 9))\n",
    "l1 = plt.errorbar(max_scooter_per_area_list, max_met_demand_mean_grid, yerr=max_met_demand_std_grid, fmt='o-', capsize=5) # ecolor='gray', \n",
    "\n",
    "print(\"Plotting baseline 1...\")\n",
    "# plt.legend(loc='best',prop={'size': 10})\n",
    "plt.ylabel(\"Count of met demands\")\n",
    "plt.xlabel(\"max_scooter_per_area\")\n",
    "\n",
    "print(\"End: \" + datetime.now().strftime('%Y-%m-%d %H:%M:%S'))"
   ]
  },
  {
   "cell_type": "code",
   "execution_count": 73,
   "id": "2f1350b0",
   "metadata": {
    "scrolled": false
   },
   "outputs": [
    {
     "name": "stdout",
     "output_type": "stream",
     "text": [
      "End: 2025-07-11 01:48:40\n",
      "Plotting resulting graph...\n",
      "Plotting baseline 1...\n",
      "End: 2025-07-11 01:48:40\n"
     ]
    },
    {
     "data": {
      "image/png": "[encoded data removed]",
      "text/plain": [
       "<Figure size 432x288 with 1 Axes>"
      ]
     },
     "metadata": {
      "needs_background": "light"
     },
     "output_type": "display_data"
    }
   ],
   "source": [
    "# Plot the graphs of average rewards during testing phases of the policy\n",
    "# gradient method and the hand-crafted policies\n",
    "\n",
    "print(\"End: \" + datetime.now().strftime('%Y-%m-%d %H:%M:%S'))\n",
    "\n",
    "max_scooter_per_area_list = np.arange(2,17)\n",
    "max_scooter_num_list_grid = np.array([avg_scooter_num_max_2,\n",
    "                                avg_scooter_num_max_3,\n",
    "                                avg_scooter_num_max_4,\n",
    "                                avg_scooter_num_max_5,\n",
    "                                avg_scooter_num_max_6,\n",
    "                                avg_scooter_num_max_7,\n",
    "                                avg_scooter_num_max_8,\n",
    "                                avg_scooter_num_max_9,\n",
    "                                avg_scooter_num_max_10,\n",
    "                                avg_scooter_num_max_11,\n",
    "                                avg_scooter_num_max_12,\n",
    "                                avg_scooter_num_max_13,\n",
    "                                avg_scooter_num_max_14,\n",
    "                                avg_scooter_num_max_15,\n",
    "                                avg_scooter_num_max_16])\n",
    "max_scooter_num_mean_grid = np.mean(max_scooter_num_list_grid, axis=1)\n",
    "max_scooter_num_std_grid = np.std(max_scooter_num_list_grid, axis=1)\n",
    "\n",
    "print(\"Plotting resulting graph...\")\n",
    "# plt.figure(figsize = (12, 9))\n",
    "l1 = plt.errorbar(max_scooter_per_area_list, max_scooter_num_mean_grid, yerr=max_scooter_num_std_grid, fmt='o-', capsize=5) # ecolor='gray', \n",
    "\n",
    "print(\"Plotting baseline 1...\")\n",
    "# plt.legend(loc='best',prop={'size': 10})\n",
    "plt.ylabel(\"Count of scooter numbers\")\n",
    "plt.xlabel(\"max_scooter_per_area\")\n",
    "\n",
    "print(\"End: \" + datetime.now().strftime('%Y-%m-%d %H:%M:%S'))"
   ]
  },
  {
   "cell_type": "code",
   "execution_count": 74,
   "id": "7134e208",
   "metadata": {},
   "outputs": [
    {
     "data": {
      "text/plain": [
       "array([[114., 104.,  98., 120., 102., 100., 102., 113.,  98., 108.],\n",
       "       [122., 108., 122., 112.,  99., 108., 104.,  96., 113., 114.],\n",
       "       [100., 112., 109., 109.,  98., 120., 108., 113., 124., 123.],\n",
       "       [115., 103., 103., 112., 100., 107., 104.,  93., 112., 108.],\n",
       "       [ 97.,  90., 103., 103.,  97.,  96.,  96.,  96.,  96., 105.],\n",
       "       [104.,  96., 100., 113., 111., 101., 106., 100.,  92., 115.],\n",
       "       [102.,  93.,  98.,  94., 115., 108., 106., 104.,  98., 108.],\n",
       "       [114.,  97.,  99., 101.,  99.,  98.,  98.,  96., 102., 111.],\n",
       "       [111., 111., 117., 117., 117., 105., 105., 105., 105., 105.],\n",
       "       [115., 106., 102., 130., 100.,  99., 100., 100.,  99.,  99.],\n",
       "       [105., 114., 115., 100., 105., 117.,  93., 107., 110., 111.],\n",
       "       [107., 105., 112., 103.,  95., 111., 110., 104.,  98., 113.],\n",
       "       [110., 107., 104., 100., 112., 119.,  94., 108., 118., 113.],\n",
       "       [113., 112., 105., 108., 109., 103., 116., 102., 109., 116.],\n",
       "       [105., 108., 100., 102., 104., 107., 115., 113., 112., 105.]])"
      ]
     },
     "execution_count": 74,
     "metadata": {},
     "output_type": "execute_result"
    }
   ],
   "source": [
    "max_scooter_num_list_grid"
   ]
  },
  {
   "cell_type": "code",
   "execution_count": 75,
   "id": "f6957f55",
   "metadata": {},
   "outputs": [
    {
     "name": "stdout",
     "output_type": "stream",
     "text": [
      "End: 2025-07-11 01:48:40\n",
      "Plotting resulting graph...\n",
      "Plotting baseline 1...\n",
      "End: 2025-07-11 01:48:40\n"
     ]
    },
    {
     "data": {
      "image/png": "[encoded data removed]",
      "text/plain": [
       "<Figure size 432x288 with 1 Axes>"
      ]
     },
     "metadata": {
      "needs_background": "light"
     },
     "output_type": "display_data"
    }
   ],
   "source": [
    "# Plot the graphs of average rewards during testing phases of the policy\n",
    "# gradient method and the hand-crafted policies\n",
    "\n",
    "print(\"End: \" + datetime.now().strftime('%Y-%m-%d %H:%M:%S'))\n",
    "\n",
    "max_scooter_per_area_list = np.arange(2,17)\n",
    "max_scooter_num_list_grid = [np.array(avg_scooter_num_max_2)[sel_index_2],\n",
    "                        np.array(avg_scooter_num_max_3)[sel_index_3],\n",
    "                        np.array(avg_scooter_num_max_4)[sel_index_4],\n",
    "                        np.array(avg_scooter_num_max_5)[sel_index_5],\n",
    "                        np.array(avg_scooter_num_max_6)[sel_index_6],\n",
    "                        np.array(avg_scooter_num_max_7)[sel_index_7],\n",
    "                        np.array(avg_scooter_num_max_8)[sel_index_8],\n",
    "                        np.array(avg_scooter_num_max_9)[sel_index_9],\n",
    "                        np.array(avg_scooter_num_max_10)[sel_index_10],\n",
    "                        np.array(avg_scooter_num_max_11)[sel_index_11],\n",
    "                        np.array(avg_scooter_num_max_12)[sel_index_12],\n",
    "                        np.array(avg_scooter_num_max_13)[sel_index_13],\n",
    "                        np.array(avg_scooter_num_max_14)[sel_index_14],\n",
    "                        np.array(avg_scooter_num_max_15)[sel_index_15],\n",
    "                        np.array(avg_scooter_num_max_16)[sel_index_16]]\n",
    "max_scooter_num_mean_grid = []\n",
    "max_scooter_num_std_grid = []\n",
    "for ii in range(len(max_scooter_per_area_list)):\n",
    "    max_scooter_num_mean_grid.append(np.mean(max_scooter_num_list_grid[ii]))\n",
    "    max_scooter_num_std_grid.append(np.std(max_scooter_num_list_grid[ii]))\n",
    "\n",
    "print(\"Plotting resulting graph...\")\n",
    "# plt.figure(figsize = (12, 9))\n",
    "l1 = plt.errorbar(max_scooter_per_area_list, max_scooter_num_mean_grid, yerr=max_scooter_num_std_grid, fmt='o-', capsize=5) # ecolor='gray', \n",
    "\n",
    "print(\"Plotting baseline 1...\")\n",
    "# plt.legend(loc='best',prop={'size': 10})\n",
    "plt.ylabel(\"Count of scooter numbers\")\n",
    "plt.xlabel(\"max_scooter_per_area\")\n",
    "\n",
    "print(\"End: \" + datetime.now().strftime('%Y-%m-%d %H:%M:%S'))"
   ]
  },
  {
   "cell_type": "code",
   "execution_count": 76,
   "id": "e1c54dee",
   "metadata": {},
   "outputs": [
    {
     "name": "stdout",
     "output_type": "stream",
     "text": [
      "End: 2025-07-11 01:48:40\n",
      "Plotting resulting graph...\n",
      "Plotting baseline 1...\n",
      "End: 2025-07-11 01:48:40\n"
     ]
    },
    {
     "data": {
      "image/png": "[encoded data removed]",
      "text/plain": [
       "<Figure size 432x288 with 1 Axes>"
      ]
     },
     "metadata": {
      "needs_background": "light"
     },
     "output_type": "display_data"
    }
   ],
   "source": [
    "# Plot the graphs of average rewards during testing phases of the policy\n",
    "# gradient method and the hand-crafted policies\n",
    "\n",
    "print(\"End: \" + datetime.now().strftime('%Y-%m-%d %H:%M:%S'))\n",
    "\n",
    "max_scooter_per_area_list = np.arange(2,17)\n",
    "max_scooter_loc_list_grid = np.array([avg_scooter_loc_max_2,\n",
    "                                avg_scooter_loc_max_3,\n",
    "                                avg_scooter_loc_max_4,\n",
    "                                avg_scooter_loc_max_5,\n",
    "                                avg_scooter_loc_max_6,\n",
    "                                avg_scooter_loc_max_7,\n",
    "                                avg_scooter_loc_max_8,\n",
    "                                avg_scooter_loc_max_9,\n",
    "                                avg_scooter_loc_max_10,\n",
    "                                avg_scooter_loc_max_11,\n",
    "                                avg_scooter_loc_max_12,\n",
    "                                avg_scooter_loc_max_13,\n",
    "                                avg_scooter_loc_max_14,\n",
    "                                avg_scooter_loc_max_15,\n",
    "                                avg_scooter_loc_max_16])\n",
    "max_scooter_loc_mean_grid = np.mean(max_scooter_loc_list_grid, axis=1)\n",
    "max_scooter_loc_std_grid = np.std(max_scooter_loc_list_grid, axis=1)\n",
    "\n",
    "print(\"Plotting resulting graph...\")\n",
    "# plt.figure(figsize = (12, 9))\n",
    "l1 = plt.errorbar(max_scooter_per_area_list, max_scooter_loc_mean_grid, yerr=max_scooter_loc_std_grid, fmt='o-', capsize=5) # ecolor='gray', \n",
    "\n",
    "print(\"Plotting baseline 1...\")\n",
    "# plt.legend(loc='best',prop={'size': 10})\n",
    "plt.ylabel(\"Count of scooter locations\")\n",
    "plt.xlabel(\"max_scooter_per_area\")\n",
    "\n",
    "print(\"End: \" + datetime.now().strftime('%Y-%m-%d %H:%M:%S'))"
   ]
  },
  {
   "cell_type": "code",
   "execution_count": 77,
   "id": "909b5738",
   "metadata": {
    "scrolled": true
   },
   "outputs": [
    {
     "data": {
      "text/plain": [
       "array([[100,  91,  88, 104,  95,  91,  88,  95,  83,  95],\n",
       "       [ 99,  98, 104,  96,  85,  92,  87,  81,  96,  96],\n",
       "       [ 84,  93,  89,  91,  81,  98,  95,  95, 103, 104],\n",
       "       [ 94,  82,  88,  89,  86,  84,  88,  81, 100,  87],\n",
       "       [ 81,  78,  87,  87,  83,  81,  81,  81,  81,  87],\n",
       "       [ 89,  82,  79,  93,  94,  86,  88,  82,  75,  93],\n",
       "       [ 83,  80,  79,  76,  97,  92,  92,  87,  83,  87],\n",
       "       [ 95,  81,  85,  84,  80,  78,  85,  81,  86,  90],\n",
       "       [ 91,  91,  97,  97,  97,  89,  89,  89,  89,  89],\n",
       "       [ 91,  88,  84, 106,  82,  80,  88,  84,  80,  82],\n",
       "       [ 89,  96,  99,  81,  85,  95,  78,  87,  91,  95],\n",
       "       [ 85,  86, 101,  91,  79,  94,  89,  85,  81,  91],\n",
       "       [ 92,  86,  83,  87,  85,  98,  78,  89,  95,  92],\n",
       "       [ 94,  85,  87,  89,  90,  81,  94,  80,  89,  97],\n",
       "       [ 86,  92,  81,  81,  81,  84,  90,  94,  92,  82]])"
      ]
     },
     "execution_count": 77,
     "metadata": {},
     "output_type": "execute_result"
    }
   ],
   "source": [
    "max_scooter_loc_list_grid"
   ]
  },
  {
   "cell_type": "code",
   "execution_count": 78,
   "id": "f4b1d750",
   "metadata": {},
   "outputs": [
    {
     "name": "stdout",
     "output_type": "stream",
     "text": [
      "End: 2025-07-11 01:48:40\n",
      "Plotting resulting graph...\n",
      "Plotting baseline 1...\n",
      "End: 2025-07-11 01:48:40\n"
     ]
    },
    {
     "data": {
      "image/png": "[encoded data removed]",
      "text/plain": [
       "<Figure size 432x288 with 1 Axes>"
      ]
     },
     "metadata": {
      "needs_background": "light"
     },
     "output_type": "display_data"
    }
   ],
   "source": [
    "# Plot the graphs of average rewards during testing phases of the policy\n",
    "# gradient method and the hand-crafted policies\n",
    "\n",
    "print(\"End: \" + datetime.now().strftime('%Y-%m-%d %H:%M:%S'))\n",
    "\n",
    "max_scooter_per_area_list = np.arange(2,17)\n",
    "max_scooter_loc_list_grid = [np.array(avg_scooter_loc_max_2)[sel_index_2],\n",
    "                        np.array(avg_scooter_loc_max_3)[sel_index_3],\n",
    "                        np.array(avg_scooter_loc_max_4)[sel_index_4],\n",
    "                        np.array(avg_scooter_loc_max_5)[sel_index_5],\n",
    "                        np.array(avg_scooter_loc_max_6)[sel_index_6],\n",
    "                        np.array(avg_scooter_loc_max_7)[sel_index_7],\n",
    "                        np.array(avg_scooter_loc_max_8)[sel_index_8],\n",
    "                        np.array(avg_scooter_loc_max_9)[sel_index_9],\n",
    "                        np.array(avg_scooter_loc_max_10)[sel_index_10],\n",
    "                        np.array(avg_scooter_loc_max_11)[sel_index_11],\n",
    "                        np.array(avg_scooter_loc_max_12)[sel_index_12],\n",
    "                        np.array(avg_scooter_loc_max_13)[sel_index_13],\n",
    "                        np.array(avg_scooter_loc_max_14)[sel_index_14],\n",
    "                        np.array(avg_scooter_loc_max_15)[sel_index_15],\n",
    "                        np.array(avg_scooter_loc_max_16)[sel_index_16]]\n",
    "max_scooter_loc_mean_grid = []\n",
    "max_scooter_loc_std_grid = []\n",
    "for ii in range(len(max_scooter_per_area_list)):\n",
    "    max_scooter_loc_mean_grid.append(np.mean(max_scooter_loc_list_grid[ii]))\n",
    "    max_scooter_loc_std_grid.append(np.std(max_scooter_loc_list_grid[ii]))\n",
    "\n",
    "print(\"Plotting resulting graph...\")\n",
    "# plt.figure(figsize = (12, 9))\n",
    "l1 = plt.errorbar(max_scooter_per_area_list, max_scooter_loc_mean_grid, yerr=max_scooter_loc_std_grid, fmt='o-', capsize=5) # ecolor='gray', \n",
    "\n",
    "print(\"Plotting baseline 1...\")\n",
    "# plt.legend(loc='best',prop={'size': 10})\n",
    "plt.ylabel(\"Count of scooter locations\")\n",
    "plt.xlabel(\"max_scooter_per_area\")\n",
    "\n",
    "print(\"End: \" + datetime.now().strftime('%Y-%m-%d %H:%M:%S'))"
   ]
  },
  {
   "cell_type": "code",
   "execution_count": 79,
   "id": "395b0814",
   "metadata": {},
   "outputs": [
    {
     "name": "stdout",
     "output_type": "stream",
     "text": [
      "End: 2025-07-11 01:48:40\n",
      "Plotting resulting graph...\n",
      "Plotting baseline 1...\n",
      "End: 2025-07-11 01:48:40\n"
     ]
    },
    {
     "data": {
      "image/png": "[encoded data removed]",
      "text/plain": [
       "<Figure size 432x288 with 1 Axes>"
      ]
     },
     "metadata": {
      "needs_background": "light"
     },
     "output_type": "display_data"
    }
   ],
   "source": [
    "# Plot the graphs of average rewards during testing phases of the policy\n",
    "# gradient method and the hand-crafted policies\n",
    "\n",
    "print(\"End: \" + datetime.now().strftime('%Y-%m-%d %H:%M:%S'))\n",
    "\n",
    "max_scooter_per_area_list = np.arange(2,17)\n",
    "max_wANNR_list_grid = np.array([avg_wANNR_max_2,\n",
    "                                avg_wANNR_max_3,\n",
    "                                avg_wANNR_max_4,\n",
    "                                avg_wANNR_max_5,\n",
    "                                avg_wANNR_max_6,\n",
    "                                avg_wANNR_max_7,\n",
    "                                avg_wANNR_max_8,\n",
    "                                avg_wANNR_max_9,\n",
    "                                avg_wANNR_max_10,\n",
    "                                avg_wANNR_max_11,\n",
    "                                avg_wANNR_max_12,\n",
    "                                avg_wANNR_max_13,\n",
    "                                avg_wANNR_max_14,\n",
    "                                avg_wANNR_max_15,\n",
    "                                avg_wANNR_max_16])\n",
    "max_wANNR_mean_grid = np.mean(max_wANNR_list_grid, axis=1)\n",
    "max_wANNR_std_grid = np.std(max_wANNR_list_grid, axis=1)\n",
    "\n",
    "print(\"Plotting resulting graph...\")\n",
    "# plt.figure(figsize = (12, 9))\n",
    "l1 = plt.errorbar(max_scooter_per_area_list, max_wANNR_mean_grid, yerr=max_wANNR_std_grid, fmt='o-', capsize=5) # ecolor='gray', \n",
    "\n",
    "print(\"Plotting baseline 1...\")\n",
    "# plt.legend(loc='best',prop={'size': 10})\n",
    "plt.ylabel(\"wANNR\")\n",
    "plt.xlabel(\"max_scooter_per_area\")\n",
    "\n",
    "print(\"End: \" + datetime.now().strftime('%Y-%m-%d %H:%M:%S'))"
   ]
  },
  {
   "cell_type": "code",
   "execution_count": 80,
   "id": "3aafeb84",
   "metadata": {},
   "outputs": [
    {
     "data": {
      "text/plain": [
       "array([[0.38311658, 0.36460861, 0.35392432, 0.3916386 , 0.36107415,\n",
       "        0.35750563, 0.36107466, 0.38006665, 0.3539243 , 0.37154245],\n",
       "       [0.39488859, 0.37153069, 0.39488812, 0.37837042, 0.36290081,\n",
       "        0.37298588, 0.36459685, 0.35029439, 0.38005522, 0.38310619],\n",
       "       [0.36195728, 0.37835954, 0.37324687, 0.37325816, 0.35392449,\n",
       "        0.39162798, 0.37154202, 0.38004481, 0.39811186, 0.39649295],\n",
       "       [0.38338235, 0.36285157, 0.36284006, 0.37838141, 0.35751754,\n",
       "        0.36981805, 0.36458571, 0.34477837, 0.3797772 , 0.37153078],\n",
       "       [0.3557442 , 0.33915992, 0.36284008, 0.36284008, 0.35362615,\n",
       "        0.35181383, 0.35181383, 0.35181383, 0.35181383, 0.36635726],\n",
       "       [0.36460855, 0.35029456, 0.35752899, 0.38004467, 0.37665524,\n",
       "        0.35928892, 0.36810875, 0.35900585, 0.34290778, 0.38339289],\n",
       "       [0.36106326, 0.34479046, 0.35392481, 0.348198  , 0.3833931 ,\n",
       "        0.37153064, 0.3680859 , 0.36459692, 0.35392448, 0.37156416],\n",
       "       [0.38171197, 0.35212589, 0.35572534, 0.36286946, 0.35931851,\n",
       "        0.35391244, 0.35391287, 0.35028257, 0.36107422, 0.37809086],\n",
       "       [0.37665559, 0.37665559, 0.38671234, 0.38671234, 0.38671234,\n",
       "        0.36634557, 0.36634557, 0.36634557, 0.36634557, 0.36634557],\n",
       "       [0.38338255, 0.36807449, 0.36106332, 0.4076295 , 0.35751724,\n",
       "        0.35572536, 0.35750561, 0.36109268, 0.35571391, 0.355725  ],\n",
       "       [0.36633434, 0.38172255, 0.38339305, 0.35750567, 0.36983481,\n",
       "        0.38670199, 0.34479002, 0.36982971, 0.37496602, 0.38007082],\n",
       "       [0.37329694, 0.36633451, 0.37835929, 0.36282845, 0.34847734,\n",
       "        0.37666654, 0.37496643, 0.36809175, 0.35392452, 0.38005561],\n",
       "       [0.3749554 , 0.36981795, 0.36811429, 0.3610925 , 0.37834869,\n",
       "        0.39000369, 0.34661518, 0.37154204, 0.38835098, 0.38005546],\n",
       "       [0.38003351, 0.37837078, 0.36779842, 0.371531  , 0.37325821,\n",
       "        0.36282876, 0.38505646, 0.36461493, 0.37324723, 0.38642834],\n",
       "       [0.36633448, 0.37902326, 0.35754038, 0.36106327, 0.36460856,\n",
       "        0.36984023, 0.38339311, 0.38004482, 0.37837081, 0.36634541]])"
      ]
     },
     "execution_count": 80,
     "metadata": {},
     "output_type": "execute_result"
    }
   ],
   "source": [
    "max_wANNR_list_grid"
   ]
  },
  {
   "cell_type": "code",
   "execution_count": 81,
   "id": "66db0af5",
   "metadata": {},
   "outputs": [
    {
     "name": "stdout",
     "output_type": "stream",
     "text": [
      "End: 2025-07-11 01:48:40\n",
      "Plotting resulting graph...\n",
      "Plotting baseline 1...\n",
      "End: 2025-07-11 01:48:40\n"
     ]
    },
    {
     "data": {
      "image/png": "[encoded data removed]",
      "text/plain": [
       "<Figure size 432x288 with 1 Axes>"
      ]
     },
     "metadata": {
      "needs_background": "light"
     },
     "output_type": "display_data"
    }
   ],
   "source": [
    "# Plot the graphs of average rewards during testing phases of the policy\n",
    "# gradient method and the hand-crafted policies\n",
    "\n",
    "print(\"End: \" + datetime.now().strftime('%Y-%m-%d %H:%M:%S'))\n",
    "\n",
    "max_scooter_per_area_list = np.arange(2,17)\n",
    "max_wANNR_list_grid = [np.array(avg_wANNR_max_2)[sel_index_2],\n",
    "                        np.array(avg_wANNR_max_3)[sel_index_3],\n",
    "                        np.array(avg_wANNR_max_4)[sel_index_4],\n",
    "                        np.array(avg_wANNR_max_5)[sel_index_5],\n",
    "                        np.array(avg_wANNR_max_6)[sel_index_6],\n",
    "                        np.array(avg_wANNR_max_7)[sel_index_7],\n",
    "                        np.array(avg_wANNR_max_8)[sel_index_8],\n",
    "                        np.array(avg_wANNR_max_9)[sel_index_9],\n",
    "                        np.array(avg_wANNR_max_10)[sel_index_10],\n",
    "                        np.array(avg_wANNR_max_11)[sel_index_11],\n",
    "                        np.array(avg_wANNR_max_12)[sel_index_12],\n",
    "                        np.array(avg_wANNR_max_13)[sel_index_13],\n",
    "                        np.array(avg_wANNR_max_14)[sel_index_14],\n",
    "                        np.array(avg_wANNR_max_15)[sel_index_15],\n",
    "                        np.array(avg_wANNR_max_16)[sel_index_16]]\n",
    "max_wANNR_mean_grid = []\n",
    "max_wANNR_std_grid = []\n",
    "for ii in range(len(max_scooter_per_area_list)):\n",
    "    max_wANNR_mean_grid.append(np.mean(max_wANNR_list_grid[ii]))\n",
    "    max_wANNR_std_grid.append(np.std(max_wANNR_list_grid[ii]))\n",
    "\n",
    "print(\"Plotting resulting graph...\")\n",
    "# plt.figure(figsize = (12, 9))\n",
    "l1 = plt.errorbar(max_scooter_per_area_list, max_wANNR_mean_grid, yerr=max_wANNR_std_grid, fmt='o-', capsize=5) # ecolor='gray', \n",
    "\n",
    "print(\"Plotting baseline 1...\")\n",
    "# plt.legend(loc='best',prop={'size': 10})\n",
    "plt.ylabel(\"wANNR\")\n",
    "plt.xlabel(\"max_scooter_per_area\")\n",
    "\n",
    "print(\"End: \" + datetime.now().strftime('%Y-%m-%d %H:%M:%S'))"
   ]
  },
  {
   "cell_type": "code",
   "execution_count": 82,
   "id": "1995c33d",
   "metadata": {},
   "outputs": [
    {
     "name": "stdout",
     "output_type": "stream",
     "text": [
      "End: 2025-07-11 01:48:40\n",
      "Plotting resulting graph...\n",
      "Plotting baseline 1...\n",
      "End: 2025-07-11 01:48:40\n"
     ]
    },
    {
     "data": {
      "image/png": "[encoded data removed]",
      "text/plain": [
       "<Figure size 432x288 with 1 Axes>"
      ]
     },
     "metadata": {
      "needs_background": "light"
     },
     "output_type": "display_data"
    }
   ],
   "source": [
    "# Plot the graphs of average rewards during testing phases of the policy\n",
    "# gradient method and the hand-crafted policies\n",
    "\n",
    "print(\"End: \" + datetime.now().strftime('%Y-%m-%d %H:%M:%S'))\n",
    "\n",
    "max_scooter_per_area_list = np.arange(2,17)\n",
    "max_moran_list_grid = np.array([avg_moran_max_2,\n",
    "                                avg_moran_max_3,\n",
    "                                avg_moran_max_4,\n",
    "                                avg_moran_max_5,\n",
    "                                avg_moran_max_6,\n",
    "                                avg_moran_max_7,\n",
    "                                avg_moran_max_8,\n",
    "                                avg_moran_max_9,\n",
    "                                avg_moran_max_10,\n",
    "                                avg_moran_max_11,\n",
    "                                avg_moran_max_12,\n",
    "                                avg_moran_max_13,\n",
    "                                avg_moran_max_14,\n",
    "                                avg_moran_max_15,\n",
    "                                avg_moran_max_16])\n",
    "max_moran_mean_grid = np.mean(max_moran_list_grid, axis=1)\n",
    "max_moran_std_grid = np.std(max_moran_list_grid, axis=1)\n",
    "\n",
    "print(\"Plotting resulting graph...\")\n",
    "# plt.figure(figsize = (12, 9))\n",
    "l1 = plt.errorbar(max_scooter_per_area_list, max_moran_mean_grid, yerr=max_moran_std_grid, fmt='o-', capsize=5) # ecolor='gray', \n",
    "\n",
    "print(\"Plotting baseline 1...\")\n",
    "# plt.legend(loc='best',prop={'size': 10})\n",
    "plt.ylabel(\"Moran's I\")\n",
    "plt.xlabel(\"max_scooter_per_area\")\n",
    "\n",
    "print(\"End: \" + datetime.now().strftime('%Y-%m-%d %H:%M:%S'))"
   ]
  },
  {
   "cell_type": "code",
   "execution_count": 83,
   "id": "c15474f8",
   "metadata": {},
   "outputs": [
    {
     "data": {
      "text/plain": [
       "array([[0.03373686, 0.03762052, 0.03794394, 0.03165344, 0.029234  ,\n",
       "        0.02947343, 0.03373018, 0.03332019, 0.03555859, 0.03468249],\n",
       "       [0.04228144, 0.03652112, 0.04155162, 0.03267132, 0.03015543,\n",
       "        0.03780386, 0.02581596, 0.03568365, 0.03725618, 0.03375057],\n",
       "       [0.03627919, 0.03459063, 0.04152439, 0.03356386, 0.0210475 ,\n",
       "        0.03652432, 0.03134561, 0.03144531, 0.03206513, 0.03467378],\n",
       "       [0.03569748, 0.02741858, 0.03222669, 0.03748749, 0.02894564,\n",
       "        0.03771414, 0.03104659, 0.02823547, 0.02627348, 0.02747968],\n",
       "       [0.03527618, 0.03719219, 0.02499033, 0.02499033, 0.0308509 ,\n",
       "        0.02608082, 0.02608082, 0.02608082, 0.02608082, 0.04608385],\n",
       "       [0.03673732, 0.03728332, 0.03074435, 0.03628422, 0.02750526,\n",
       "        0.03520248, 0.03068464, 0.03113846, 0.03554209, 0.02625632],\n",
       "       [0.03937877, 0.02684289, 0.03537052, 0.03080831, 0.03115934,\n",
       "        0.03509985, 0.03742939, 0.03137012, 0.03949057, 0.03061118],\n",
       "       [0.03490058, 0.02358462, 0.03215818, 0.02886812, 0.03262617,\n",
       "        0.03213283, 0.03223064, 0.02751455, 0.03081914, 0.04048407],\n",
       "       [0.04555721, 0.04555721, 0.03949062, 0.03949062, 0.03949062,\n",
       "        0.03132643, 0.03132643, 0.03132643, 0.03132643, 0.03132643],\n",
       "       [0.03161289, 0.02884211, 0.03526915, 0.03965318, 0.02962757,\n",
       "        0.02819166, 0.02736488, 0.02896716, 0.02790711, 0.03941267],\n",
       "       [0.03422751, 0.03613254, 0.03017107, 0.03137651, 0.03524919,\n",
       "        0.0298178 , 0.02955808, 0.02534946, 0.04198793, 0.03290819],\n",
       "       [0.02370005, 0.03452117, 0.03528081, 0.03269898, 0.03243492,\n",
       "        0.03486459, 0.0290226 , 0.03299812, 0.02975267, 0.0354039 ],\n",
       "       [0.02863546, 0.02446342, 0.02559307, 0.03544304, 0.02885384,\n",
       "        0.03400357, 0.03426497, 0.03761435, 0.03810936, 0.02717786],\n",
       "       [0.03725047, 0.02718557, 0.02356451, 0.03727509, 0.04125197,\n",
       "        0.03591782, 0.03312175, 0.03465262, 0.03558606, 0.04172406],\n",
       "       [0.03174492, 0.0347553 , 0.0249612 , 0.03537233, 0.02772255,\n",
       "        0.03321308, 0.03503685, 0.03063147, 0.03018287, 0.02917661]])"
      ]
     },
     "execution_count": 83,
     "metadata": {},
     "output_type": "execute_result"
    }
   ],
   "source": [
    "max_moran_list_grid"
   ]
  },
  {
   "cell_type": "code",
   "execution_count": 84,
   "id": "bbec88e4",
   "metadata": {},
   "outputs": [
    {
     "name": "stdout",
     "output_type": "stream",
     "text": [
      "End: 2025-07-11 01:48:40\n",
      "Plotting resulting graph...\n",
      "Plotting baseline 1...\n",
      "End: 2025-07-11 01:48:40\n"
     ]
    },
    {
     "data": {
      "image/png": "[encoded data removed]",
      "text/plain": [
       "<Figure size 432x288 with 1 Axes>"
      ]
     },
     "metadata": {
      "needs_background": "light"
     },
     "output_type": "display_data"
    }
   ],
   "source": [
    "# Plot the graphs of average rewards during testing phases of the policy\n",
    "# gradient method and the hand-crafted policies\n",
    "\n",
    "print(\"End: \" + datetime.now().strftime('%Y-%m-%d %H:%M:%S'))\n",
    "\n",
    "max_scooter_per_area_list = np.arange(2,17)\n",
    "max_moran_list_grid = [np.array(avg_moran_max_2)[sel_index_2],\n",
    "                        np.array(avg_moran_max_3)[sel_index_3],\n",
    "                        np.array(avg_moran_max_4)[sel_index_4],\n",
    "                        np.array(avg_moran_max_5)[sel_index_5],\n",
    "                        np.array(avg_moran_max_6)[sel_index_6],\n",
    "                        np.array(avg_moran_max_7)[sel_index_7],\n",
    "                        np.array(avg_moran_max_8)[sel_index_8],\n",
    "                        np.array(avg_moran_max_9)[sel_index_9],\n",
    "                        np.array(avg_moran_max_10)[sel_index_10],\n",
    "                        np.array(avg_moran_max_11)[sel_index_11],\n",
    "                        np.array(avg_moran_max_12)[sel_index_12],\n",
    "                        np.array(avg_moran_max_13)[sel_index_13],\n",
    "                        np.array(avg_moran_max_14)[sel_index_14],\n",
    "                        np.array(avg_moran_max_15)[sel_index_15],\n",
    "                        np.array(avg_moran_max_16)[sel_index_16]]\n",
    "max_moran_mean_grid = []\n",
    "max_moran_std_grid = []\n",
    "for ii in range(len(max_scooter_per_area_list)):\n",
    "    max_moran_mean_grid.append(np.mean(max_moran_list_grid[ii]))\n",
    "    max_moran_std_grid.append(np.std(max_moran_list_grid[ii]))\n",
    "\n",
    "print(\"Plotting resulting graph...\")\n",
    "# plt.figure(figsize = (12, 9))\n",
    "l1 = plt.errorbar(max_scooter_per_area_list, max_moran_mean_grid, yerr=max_moran_std_grid, fmt='o-', capsize=5) # ecolor='gray', \n",
    "\n",
    "print(\"Plotting baseline 1...\")\n",
    "# plt.legend(loc='best',prop={'size': 10})\n",
    "plt.ylabel(\"Moran's I\")\n",
    "plt.xlabel(\"max_scooter_per_area\")\n",
    "\n",
    "print(\"End: \" + datetime.now().strftime('%Y-%m-%d %H:%M:%S'))"
   ]
  },
  {
   "cell_type": "code",
   "execution_count": 85,
   "id": "622617ec",
   "metadata": {},
   "outputs": [
    {
     "name": "stdout",
     "output_type": "stream",
     "text": [
      "End: 2025-07-11 01:48:40\n",
      "Plotting resulting graph...\n",
      "Plotting baseline 1...\n",
      "End: 2025-07-11 01:48:40\n"
     ]
    },
    {
     "data": {
      "image/png": "[encoded data removed]",
      "text/plain": [
       "<Figure size 432x288 with 1 Axes>"
      ]
     },
     "metadata": {
      "needs_background": "light"
     },
     "output_type": "display_data"
    }
   ],
   "source": [
    "# Plot the graphs of average rewards during testing phases of the policy\n",
    "# gradient method and the hand-crafted policies\n",
    "\n",
    "print(\"End: \" + datetime.now().strftime('%Y-%m-%d %H:%M:%S'))\n",
    "\n",
    "max_scooter_per_area_list = np.arange(2,17)\n",
    "max_gini_list_grid = np.array([avg_gini_max_2,\n",
    "                                avg_gini_max_3,\n",
    "                                avg_gini_max_4,\n",
    "                                avg_gini_max_5,\n",
    "                                avg_gini_max_6,\n",
    "                                avg_gini_max_7,\n",
    "                                avg_gini_max_8,\n",
    "                                avg_gini_max_9,\n",
    "                                avg_gini_max_10,\n",
    "                                avg_gini_max_11,\n",
    "                                avg_gini_max_12,\n",
    "                                avg_gini_max_13,\n",
    "                                avg_gini_max_14,\n",
    "                                avg_gini_max_15,\n",
    "                                avg_gini_max_16])\n",
    "max_gini_mean_grid = np.mean(max_gini_list_grid, axis=1)\n",
    "max_gini_std_grid = np.std(max_gini_list_grid, axis=1)\n",
    "\n",
    "print(\"Plotting resulting graph...\")\n",
    "# plt.figure(figsize = (12, 9))\n",
    "l1 = plt.errorbar(max_scooter_per_area_list, max_gini_mean_grid, yerr=max_gini_std_grid, fmt='o-', capsize=5) # ecolor='gray', \n",
    "\n",
    "print(\"Plotting baseline 1...\")\n",
    "# plt.legend(loc='best',prop={'size': 10})\n",
    "plt.ylabel(\"Gini index\")\n",
    "plt.xlabel(\"max_scooter_per_area\")\n",
    "\n",
    "print(\"End: \" + datetime.now().strftime('%Y-%m-%d %H:%M:%S'))"
   ]
  },
  {
   "cell_type": "code",
   "execution_count": 86,
   "id": "b8a3ecb2",
   "metadata": {},
   "outputs": [
    {
     "data": {
      "text/plain": [
       "array([[0.93556297, 0.94146253, 0.9423337 , 0.93352546, 0.93590721,\n",
       "        0.93975504, 0.94391705, 0.940393  , 0.9477004 , 0.93866741],\n",
       "       [0.94020173, 0.93547871, 0.93441442, 0.93957132, 0.94618374,\n",
       "        0.94234977, 0.94614553, 0.94961275, 0.94029099, 0.94027757],\n",
       "       [0.94801153, 0.9428134 , 0.94567459, 0.94427332, 0.95028818,\n",
       "        0.94045389, 0.93896093, 0.94099232, 0.93677373, 0.93535179],\n",
       "       [0.94307104, 0.95154724, 0.94501413, 0.94705897, 0.94564841,\n",
       "        0.95040938, 0.94524496, 0.94836695, 0.93474681, 0.94806009],\n",
       "       [0.95039217, 0.9504643 , 0.94609132, 0.94609132, 0.94801539,\n",
       "        0.94964277, 0.94964277, 0.94964277, 0.94964277, 0.9466104 ],\n",
       "       [0.94406728, 0.94842699, 0.95301153, 0.94295606, 0.94144793,\n",
       "        0.94630781, 0.94559839, 0.94987032, 0.95415675, 0.9442739 ],\n",
       "       [0.95021755, 0.94993183, 0.95234664, 0.95393648, 0.93976319,\n",
       "        0.94237645, 0.9413164 , 0.94667202, 0.94808269, 0.94763315],\n",
       "       [0.94128874, 0.95013963, 0.94657672, 0.94867606, 0.95149623,\n",
       "        0.95356702, 0.94617126, 0.94961275, 0.94654461, 0.94565387],\n",
       "       [0.94448555, 0.94448555, 0.94038646, 0.94038646, 0.94038646,\n",
       "        0.94442843, 0.94442843, 0.94442843, 0.94442843, 0.94442843],\n",
       "       [0.94607818, 0.94580229, 0.94900265, 0.93585679, 0.95021614,\n",
       "        0.95187465, 0.94367435, 0.94792507, 0.95181643, 0.9498952 ],\n",
       "       [0.94484013, 0.94058092, 0.93780854, 0.95122478, 0.94876492,\n",
       "        0.94268947, 0.95168262, 0.94735247, 0.94418391, 0.94026663],\n",
       "       [0.94991112, 0.94791409, 0.93393629, 0.94122296, 0.95171394,\n",
       "        0.94181141, 0.94659418, 0.94811294, 0.95040581, 0.94540435],\n",
       "       [0.94348965, 0.94869913, 0.9504683 , 0.944683  , 0.95087999,\n",
       "        0.93986269, 0.95200503, 0.94559184, 0.94342549, 0.94461376],\n",
       "       [0.94230573, 0.9510987 , 0.94698092, 0.94539172, 0.94507971,\n",
       "        0.95177107, 0.94365497, 0.95284511, 0.94617693, 0.94006509],\n",
       "       [0.94784548, 0.94202956, 0.95099423, 0.95154546, 0.95193693,\n",
       "        0.95001885, 0.94682997, 0.94230573, 0.94412567, 0.95152326]])"
      ]
     },
     "execution_count": 86,
     "metadata": {},
     "output_type": "execute_result"
    }
   ],
   "source": [
    "max_gini_list_grid"
   ]
  },
  {
   "cell_type": "code",
   "execution_count": 87,
   "id": "3331d0c3",
   "metadata": {},
   "outputs": [
    {
     "name": "stdout",
     "output_type": "stream",
     "text": [
      "End: 2025-07-11 01:48:41\n",
      "Plotting resulting graph...\n",
      "Plotting baseline 1...\n",
      "End: 2025-07-11 01:48:41\n"
     ]
    },
    {
     "data": {
      "image/png": "[encoded data removed]",
      "text/plain": [
       "<Figure size 432x288 with 1 Axes>"
      ]
     },
     "metadata": {
      "needs_background": "light"
     },
     "output_type": "display_data"
    }
   ],
   "source": [
    "# Plot the graphs of average rewards during testing phases of the policy\n",
    "# gradient method and the hand-crafted policies\n",
    "\n",
    "print(\"End: \" + datetime.now().strftime('%Y-%m-%d %H:%M:%S'))\n",
    "\n",
    "max_scooter_per_area_list = np.arange(2,17)\n",
    "max_gini_list_grid = [np.array(avg_gini_max_2)[sel_index_2],\n",
    "                        np.array(avg_gini_max_3)[sel_index_3],\n",
    "                        np.array(avg_gini_max_4)[sel_index_4],\n",
    "                        np.array(avg_gini_max_5)[sel_index_5],\n",
    "                        np.array(avg_gini_max_6)[sel_index_6],\n",
    "                        np.array(avg_gini_max_7)[sel_index_7],\n",
    "                        np.array(avg_gini_max_8)[sel_index_8],\n",
    "                        np.array(avg_gini_max_9)[sel_index_9],\n",
    "                        np.array(avg_gini_max_10)[sel_index_10],\n",
    "                        np.array(avg_gini_max_11)[sel_index_11],\n",
    "                        np.array(avg_gini_max_12)[sel_index_12],\n",
    "                        np.array(avg_gini_max_13)[sel_index_13],\n",
    "                        np.array(avg_gini_max_14)[sel_index_14],\n",
    "                        np.array(avg_gini_max_15)[sel_index_15],\n",
    "                        np.array(avg_gini_max_16)[sel_index_16]]\n",
    "max_gini_mean_grid = []\n",
    "max_gini_std_grid = []\n",
    "for ii in range(len(max_scooter_per_area_list)):\n",
    "    max_gini_mean_grid.append(np.mean(max_gini_list_grid[ii]))\n",
    "    max_gini_std_grid.append(np.std(max_gini_list_grid[ii]))\n",
    "\n",
    "print(\"Plotting resulting graph...\")\n",
    "# plt.figure(figsize = (12, 9))\n",
    "l1 = plt.errorbar(max_scooter_per_area_list, max_gini_mean_grid, yerr=max_gini_std_grid, fmt='o-', capsize=5) # ecolor='gray', \n",
    "\n",
    "print(\"Plotting baseline 1...\")\n",
    "# plt.legend(loc='best',prop={'size': 10})\n",
    "plt.ylabel(\"Gini index\")\n",
    "plt.xlabel(\"max_scooter_per_area\")\n",
    "\n",
    "print(\"End: \" + datetime.now().strftime('%Y-%m-%d %H:%M:%S'))"
   ]
  },
  {
   "cell_type": "code",
   "execution_count": 88,
   "id": "9399863c",
   "metadata": {},
   "outputs": [
    {
     "name": "stdout",
     "output_type": "stream",
     "text": [
      "End: 2025-07-11 01:48:41\n",
      "Plotting resulting graph...\n",
      "Plotting baseline 1...\n",
      "End: 2025-07-11 01:48:41\n"
     ]
    },
    {
     "data": {
      "image/png": "[encoded data removed]",
      "text/plain": [
       "<Figure size 432x288 with 1 Axes>"
      ]
     },
     "metadata": {
      "needs_background": "light"
     },
     "output_type": "display_data"
    }
   ],
   "source": [
    "# Plot the graphs of average rewards during testing phases of the policy\n",
    "# gradient method and the hand-crafted policies\n",
    "\n",
    "print(\"End: \" + datetime.now().strftime('%Y-%m-%d %H:%M:%S'))\n",
    "\n",
    "max_scooter_per_area_list = np.arange(2,17)\n",
    "max_theil_list_grid = np.array([avg_theil_max_2,\n",
    "                                avg_theil_max_3,\n",
    "                                avg_theil_max_4,\n",
    "                                avg_theil_max_5,\n",
    "                                avg_theil_max_6,\n",
    "                                avg_theil_max_7,\n",
    "                                avg_theil_max_8,\n",
    "                                avg_theil_max_9,\n",
    "                                avg_theil_max_10,\n",
    "                                avg_theil_max_11,\n",
    "                                avg_theil_max_12,\n",
    "                                avg_theil_max_13,\n",
    "                                avg_theil_max_14,\n",
    "                                avg_theil_max_15,\n",
    "                                avg_theil_max_16])\n",
    "max_theil_mean_grid = np.mean(max_theil_list_grid, axis=1)\n",
    "max_theil_std_grid = np.std(max_theil_list_grid, axis=1)\n",
    "\n",
    "print(\"Plotting resulting graph...\")\n",
    "# plt.figure(figsize = (12, 9))\n",
    "l1 = plt.errorbar(max_scooter_per_area_list, max_theil_mean_grid, yerr=max_theil_std_grid, fmt='o-', capsize=5) # ecolor='gray', \n",
    "\n",
    "print(\"Plotting baseline 1...\")\n",
    "# plt.legend(loc='best',prop={'size': 10})\n",
    "plt.ylabel(\"Theil index\")\n",
    "plt.xlabel(\"max_scooter_per_area\")\n",
    "\n",
    "print(\"End: \" + datetime.now().strftime('%Y-%m-%d %H:%M:%S'))"
   ]
  },
  {
   "cell_type": "code",
   "execution_count": 89,
   "id": "18efe939",
   "metadata": {},
   "outputs": [
    {
     "data": {
      "text/plain": [
       "array([[0.03921841, 0.0397554 , 0.03382794, 0.0417384 , 0.02404193,\n",
       "        0.03045581, 0.0426397 , 0.04731472, 0.04606104, 0.03861443],\n",
       "       [0.0781829 , 0.04088662, 0.04919401, 0.05790695, 0.04885837,\n",
       "        0.05956896, 0.06321672, 0.06306096, 0.07793153, 0.06080801],\n",
       "       [0.06838364, 0.06796299, 0.06605575, 0.08827889, 0.06944644,\n",
       "        0.07343171, 0.04830421, 0.06421333, 0.0730621 , 0.06761982],\n",
       "       [0.08176673, 0.10517046, 0.07319476, 0.08892192, 0.05372328,\n",
       "        0.09166886, 0.0663469 , 0.051979  , 0.03520285, 0.09902675],\n",
       "       [0.09128037, 0.05336614, 0.07522523, 0.07522523, 0.06929367,\n",
       "        0.06660052, 0.06660052, 0.06660052, 0.06660052, 0.06953149],\n",
       "       [0.05928547, 0.05543999, 0.08156189, 0.06446505, 0.06493572,\n",
       "        0.06919912, 0.0591788 , 0.06677949, 0.06323758, 0.09578283],\n",
       "       [0.10227805, 0.0906463 , 0.0746088 , 0.06959859, 0.06791876,\n",
       "        0.06271524, 0.04638127, 0.08987623, 0.05673958, 0.07755858],\n",
       "       [0.06249719, 0.07698868, 0.06471437, 0.08934738, 0.06881928,\n",
       "        0.08669417, 0.06293704, 0.06306096, 0.07136195, 0.07918236],\n",
       "       [0.06996786, 0.06996786, 0.06739926, 0.06739926, 0.06739926,\n",
       "        0.06087082, 0.06087082, 0.06087082, 0.06087082, 0.06087082],\n",
       "       [0.09004564, 0.06732075, 0.08792618, 0.08001081, 0.08064243,\n",
       "        0.08282226, 0.06284986, 0.07247383, 0.07938995, 0.07950892],\n",
       "       [0.08469951, 0.07296849, 0.07331813, 0.08563327, 0.08089973,\n",
       "        0.08211119, 0.06458417, 0.07665057, 0.06885719, 0.05831475],\n",
       "       [0.10839348, 0.08437628, 0.04982504, 0.04272062, 0.08567619,\n",
       "        0.08520005, 0.08919888, 0.06661937, 0.07131838, 0.08415985],\n",
       "       [0.08287533, 0.09653889, 0.08456192, 0.05665364, 0.09875713,\n",
       "        0.06653074, 0.06607845, 0.0729161 , 0.10194988, 0.09269444],\n",
       "       [0.07516034, 0.1064629 , 0.09161304, 0.06492493, 0.08034646,\n",
       "        0.0794412 , 0.09456715, 0.0935005 , 0.08357449, 0.06622928],\n",
       "       [0.0882717 , 0.04987918, 0.07360482, 0.07874078, 0.07676751,\n",
       "        0.08424993, 0.08650055, 0.07516034, 0.08190733, 0.08457613]])"
      ]
     },
     "execution_count": 89,
     "metadata": {},
     "output_type": "execute_result"
    }
   ],
   "source": [
    "max_theil_list_grid"
   ]
  },
  {
   "cell_type": "code",
   "execution_count": 90,
   "id": "e57faad4",
   "metadata": {},
   "outputs": [
    {
     "name": "stdout",
     "output_type": "stream",
     "text": [
      "End: 2025-07-11 01:48:41\n",
      "Plotting resulting graph...\n",
      "Plotting baseline 1...\n",
      "End: 2025-07-11 01:48:41\n"
     ]
    },
    {
     "data": {
      "image/png": "[encoded data removed]",
      "text/plain": [
       "<Figure size 432x288 with 1 Axes>"
      ]
     },
     "metadata": {
      "needs_background": "light"
     },
     "output_type": "display_data"
    }
   ],
   "source": [
    "# Plot the graphs of average rewards during testing phases of the policy\n",
    "# gradient method and the hand-crafted policies\n",
    "\n",
    "print(\"End: \" + datetime.now().strftime('%Y-%m-%d %H:%M:%S'))\n",
    "\n",
    "max_scooter_per_area_list = np.arange(2,17)\n",
    "max_theil_list_grid = [np.array(avg_theil_max_2)[sel_index_2],\n",
    "                        np.array(avg_theil_max_3)[sel_index_3],\n",
    "                        np.array(avg_theil_max_4)[sel_index_4],\n",
    "                        np.array(avg_theil_max_5)[sel_index_5],\n",
    "                        np.array(avg_theil_max_6)[sel_index_6],\n",
    "                        np.array(avg_theil_max_7)[sel_index_7],\n",
    "                        np.array(avg_theil_max_8)[sel_index_8],\n",
    "                        np.array(avg_theil_max_9)[sel_index_9],\n",
    "                        np.array(avg_theil_max_10)[sel_index_10],\n",
    "                        np.array(avg_theil_max_11)[sel_index_11],\n",
    "                        np.array(avg_theil_max_12)[sel_index_12],\n",
    "                        np.array(avg_theil_max_13)[sel_index_13],\n",
    "                        np.array(avg_theil_max_14)[sel_index_14],\n",
    "                        np.array(avg_theil_max_15)[sel_index_15],\n",
    "                        np.array(avg_theil_max_16)[sel_index_16]]\n",
    "max_theil_mean_grid = []\n",
    "max_theil_std_grid = []\n",
    "for ii in range(len(max_scooter_per_area_list)):\n",
    "    max_theil_mean_grid.append(np.mean(max_theil_list_grid[ii]))\n",
    "    max_theil_std_grid.append(np.std(max_theil_list_grid[ii]))\n",
    "\n",
    "print(\"Plotting resulting graph...\")\n",
    "# plt.figure(figsize = (12, 9))\n",
    "l1 = plt.errorbar(max_scooter_per_area_list, max_theil_mean_grid, yerr=max_theil_std_grid, fmt='o-', capsize=5) # ecolor='gray', \n",
    "\n",
    "print(\"Plotting baseline 1...\")\n",
    "# plt.legend(loc='best',prop={'size': 10})\n",
    "plt.ylabel(\"Theil index\")\n",
    "plt.xlabel(\"max_scooter_per_area\")\n",
    "\n",
    "print(\"End: \" + datetime.now().strftime('%Y-%m-%d %H:%M:%S'))"
   ]
  },
  {
   "cell_type": "code",
   "execution_count": 91,
   "id": "5d0636e8",
   "metadata": {},
   "outputs": [
    {
     "name": "stdout",
     "output_type": "stream",
     "text": [
      "End: 2025-07-11 01:48:41\n",
      "Plotting resulting graph...\n",
      "Plotting baseline 1...\n",
      "End: 2025-07-11 01:48:41\n"
     ]
    },
    {
     "data": {
      "image/png": "[encoded data removed]",
      "text/plain": [
       "<Figure size 432x288 with 1 Axes>"
      ]
     },
     "metadata": {
      "needs_background": "light"
     },
     "output_type": "display_data"
    }
   ],
   "source": [
    "# Plot the graphs of average rewards during testing phases of the policy\n",
    "# gradient method and the hand-crafted policies\n",
    "\n",
    "print(\"End: \" + datetime.now().strftime('%Y-%m-%d %H:%M:%S'))\n",
    "\n",
    "max_scooter_per_area_list = np.arange(2,17)\n",
    "max_EMD_list_grid = np.array([avg_EMD_max_2,\n",
    "                                avg_EMD_max_3,\n",
    "                                avg_EMD_max_4,\n",
    "                                avg_EMD_max_5,\n",
    "                                avg_EMD_max_6,\n",
    "                                avg_EMD_max_7,\n",
    "                                avg_EMD_max_8,\n",
    "                                avg_EMD_max_9,\n",
    "                                avg_EMD_max_10,\n",
    "                                avg_EMD_max_11,\n",
    "                                avg_EMD_max_12,\n",
    "                                avg_EMD_max_13,\n",
    "                                avg_EMD_max_14,\n",
    "                                avg_EMD_max_15,\n",
    "                                avg_EMD_max_16])\n",
    "max_EMD_mean_grid = np.mean(max_EMD_list_grid, axis=1)\n",
    "max_EMD_std_grid = np.std(max_EMD_list_grid, axis=1)\n",
    "\n",
    "print(\"Plotting resulting graph...\")\n",
    "# plt.figure(figsize = (12, 9))\n",
    "l1 = plt.errorbar(max_scooter_per_area_list, max_EMD_mean_grid, yerr=max_EMD_std_grid, fmt='o-', capsize=5) # ecolor='gray', \n",
    "\n",
    "print(\"Plotting baseline 1...\")\n",
    "# plt.legend(loc='best',prop={'size': 10})\n",
    "plt.ylabel(\"EMD\")\n",
    "plt.xlabel(\"max_scooter_per_area\")\n",
    "\n",
    "print(\"End: \" + datetime.now().strftime('%Y-%m-%d %H:%M:%S'))"
   ]
  },
  {
   "cell_type": "code",
   "execution_count": 92,
   "id": "88c0520f",
   "metadata": {},
   "outputs": [
    {
     "data": {
      "text/plain": [
       "array([[1.71895624, 1.80695687, 1.89837158, 1.65781166, 1.71752554,\n",
       "        1.800641  , 1.86020568, 1.76260749, 1.93070148, 1.74042845],\n",
       "       [1.80575735, 1.84721037, 1.81257083, 1.76098658, 1.71424082,\n",
       "        1.84804707, 1.76086204, 1.95191827, 1.91645316, 1.68203511],\n",
       "       [1.87102379, 1.93435653, 1.98832828, 1.83658999, 1.67851298,\n",
       "        1.78482906, 1.66064375, 1.73150846, 1.74228409, 1.730084  ],\n",
       "       [1.93852938, 1.88545189, 1.87887639, 1.93400472, 1.77560116,\n",
       "        1.96557104, 1.82323735, 1.75913692, 1.54414133, 1.8014873 ],\n",
       "       [2.00186301, 1.92020253, 1.73873409, 1.73873409, 1.74182571,\n",
       "        1.80911957, 1.80911957, 1.80911957, 1.80911957, 2.07447177],\n",
       "       [1.85954852, 2.0306338 , 1.8758766 , 1.909169  , 1.77076715,\n",
       "        1.87328505, 1.70288811, 1.8881841 , 1.90689952, 1.765315  ],\n",
       "       [2.01875113, 1.8426669 , 1.9353418 , 1.89634581, 1.70261199,\n",
       "        1.85549521, 1.80457562, 1.90617699, 1.971664  , 1.85995593],\n",
       "       [1.76030453, 1.73615682, 1.82070418, 1.74853846, 1.89986929,\n",
       "        1.9821709 , 1.83339839, 1.85013519, 1.88433042, 1.98683637],\n",
       "       [2.02848644, 2.02848644, 1.9381207 , 1.9381207 , 1.9381207 ,\n",
       "        1.81512931, 1.81512931, 1.81512931, 1.81512931, 1.81512931],\n",
       "       [1.78638806, 1.73983174, 1.87317052, 1.80829113, 1.87884939,\n",
       "        1.86637386, 1.74662029, 1.79839682, 1.76754558, 2.04952069],\n",
       "       [1.92908548, 1.94201356, 1.71359941, 1.93158695, 1.86834648,\n",
       "        1.73173705, 1.84541923, 1.71691076, 2.00048394, 1.74204028],\n",
       "       [1.68184322, 1.87918573, 1.79409371, 1.8411909 , 1.91679916,\n",
       "        1.90038533, 1.73228135, 1.91487083, 1.80913305, 1.96817092],\n",
       "       [1.70959447, 1.74658037, 1.72818114, 1.8606577 , 1.84223927,\n",
       "        1.79509712, 1.82706866, 1.91537972, 1.95323292, 1.82271965],\n",
       "       [1.84238274, 1.78175034, 1.77835856, 1.90502544, 2.00123112,\n",
       "        1.98020953, 1.7592168 , 1.85250743, 1.93144088, 1.90021908],\n",
       "       [1.85405602, 1.7058147 , 1.71754775, 1.94171642, 1.80954861,\n",
       "        1.87987048, 1.90684291, 1.76658084, 1.70305628, 1.8916967 ]])"
      ]
     },
     "execution_count": 92,
     "metadata": {},
     "output_type": "execute_result"
    }
   ],
   "source": [
    "max_EMD_list_grid"
   ]
  },
  {
   "cell_type": "code",
   "execution_count": 93,
   "id": "8b10664d",
   "metadata": {},
   "outputs": [
    {
     "name": "stdout",
     "output_type": "stream",
     "text": [
      "End: 2025-07-11 01:48:41\n",
      "Plotting resulting graph...\n",
      "Plotting baseline 1...\n",
      "End: 2025-07-11 01:48:41\n"
     ]
    },
    {
     "data": {
      "image/png": "[encoded data removed]",
      "text/plain": [
       "<Figure size 432x288 with 1 Axes>"
      ]
     },
     "metadata": {
      "needs_background": "light"
     },
     "output_type": "display_data"
    }
   ],
   "source": [
    "# Plot the graphs of average rewards during testing phases of the policy\n",
    "# gradient method and the hand-crafted policies\n",
    "\n",
    "print(\"End: \" + datetime.now().strftime('%Y-%m-%d %H:%M:%S'))\n",
    "\n",
    "max_scooter_per_area_list = np.arange(2,17)\n",
    "max_EMD_list_grid = [np.array(avg_EMD_max_2)[sel_index_2],\n",
    "                        np.array(avg_EMD_max_3)[sel_index_3],\n",
    "                        np.array(avg_EMD_max_4)[sel_index_4],\n",
    "                        np.array(avg_EMD_max_5)[sel_index_5],\n",
    "                        np.array(avg_EMD_max_6)[sel_index_6],\n",
    "                        np.array(avg_EMD_max_7)[sel_index_7],\n",
    "                        np.array(avg_EMD_max_8)[sel_index_8],\n",
    "                        np.array(avg_EMD_max_9)[sel_index_9],\n",
    "                        np.array(avg_EMD_max_10)[sel_index_10],\n",
    "                        np.array(avg_EMD_max_11)[sel_index_11],\n",
    "                        np.array(avg_EMD_max_12)[sel_index_12],\n",
    "                        np.array(avg_EMD_max_13)[sel_index_13],\n",
    "                        np.array(avg_EMD_max_14)[sel_index_14],\n",
    "                        np.array(avg_EMD_max_15)[sel_index_15],\n",
    "                        np.array(avg_EMD_max_16)[sel_index_16]]\n",
    "max_EMD_mean_grid = []\n",
    "max_EMD_std_grid = []\n",
    "for ii in range(len(max_scooter_per_area_list)):\n",
    "    max_EMD_mean_grid.append(np.mean(max_EMD_list_grid[ii]))\n",
    "    max_EMD_std_grid.append(np.std(max_EMD_list_grid[ii]))\n",
    "\n",
    "print(\"Plotting resulting graph...\")\n",
    "# plt.figure(figsize = (12, 9))\n",
    "l1 = plt.errorbar(max_scooter_per_area_list, max_EMD_mean_grid, yerr=max_EMD_std_grid, fmt='o-', capsize=5) # ecolor='gray', \n",
    "\n",
    "print(\"Plotting baseline 1...\")\n",
    "# plt.legend(loc='best',prop={'size': 10})\n",
    "plt.ylabel(\"EMD\")\n",
    "plt.xlabel(\"max_scooter_per_area\")\n",
    "\n",
    "print(\"End: \" + datetime.now().strftime('%Y-%m-%d %H:%M:%S'))"
   ]
  },
  {
   "cell_type": "code",
   "execution_count": 94,
   "id": "b5f1eb35",
   "metadata": {},
   "outputs": [
    {
     "name": "stdout",
     "output_type": "stream",
     "text": [
      "End: 2025-07-11 01:48:41\n",
      "Plotting resulting graph...\n",
      "Plotting baseline 1...\n",
      "End: 2025-07-11 01:48:41\n"
     ]
    },
    {
     "data": {
      "image/png": "[encoded data removed]",
      "text/plain": [
       "<Figure size 432x288 with 1 Axes>"
      ]
     },
     "metadata": {
      "needs_background": "light"
     },
     "output_type": "display_data"
    }
   ],
   "source": [
    "# Plot the graphs of average rewards during testing phases of the policy\n",
    "# gradient method and the hand-crafted policies\n",
    "\n",
    "print(\"End: \" + datetime.now().strftime('%Y-%m-%d %H:%M:%S'))\n",
    "\n",
    "max_scooter_per_area_list = np.arange(2,17)\n",
    "max_centroid_list_grid = np.array([avg_centroid_max_2,\n",
    "                                avg_centroid_max_3,\n",
    "                                avg_centroid_max_4,\n",
    "                                avg_centroid_max_5,\n",
    "                                avg_centroid_max_6,\n",
    "                                avg_centroid_max_7,\n",
    "                                avg_centroid_max_8,\n",
    "                                avg_centroid_max_9,\n",
    "                                avg_centroid_max_10,\n",
    "                                avg_centroid_max_11,\n",
    "                                avg_centroid_max_12,\n",
    "                                avg_centroid_max_13,\n",
    "                                avg_centroid_max_14,\n",
    "                                avg_centroid_max_15,\n",
    "                                avg_centroid_max_16])\n",
    "max_centroid_mean_grid = np.mean(max_centroid_list_grid, axis=1)\n",
    "max_centroid_std_grid = np.std(max_centroid_list_grid, axis=1)\n",
    "\n",
    "print(\"Plotting resulting graph...\")\n",
    "# plt.figure(figsize = (12, 9))\n",
    "l1 = plt.errorbar(max_scooter_per_area_list, max_centroid_mean_grid, yerr=max_centroid_std_grid, fmt='o-', capsize=5) # ecolor='gray', \n",
    "\n",
    "print(\"Plotting baseline 1...\")\n",
    "# plt.legend(loc='best',prop={'size': 10})\n",
    "plt.ylabel(\"Centroid shift\")\n",
    "plt.xlabel(\"max_scooter_per_area\")\n",
    "\n",
    "print(\"End: \" + datetime.now().strftime('%Y-%m-%d %H:%M:%S'))"
   ]
  },
  {
   "cell_type": "code",
   "execution_count": 95,
   "id": "9e54b365",
   "metadata": {},
   "outputs": [
    {
     "data": {
      "text/plain": [
       "array([[1.09717937, 1.00818957, 1.02912589, 1.0687124 , 1.00872712,\n",
       "        1.17587463, 1.02512101, 0.86833426, 0.88095246, 0.93002101],\n",
       "       [0.93645037, 0.96610721, 1.06050589, 1.10261346, 0.72082154,\n",
       "        1.04440502, 1.07457415, 0.96559852, 1.01753641, 0.92695981],\n",
       "       [0.86577491, 1.05106175, 1.14272243, 0.91097698, 1.01016652,\n",
       "        0.92675959, 0.85013514, 0.89990487, 0.99742289, 1.02522989],\n",
       "       [0.88116553, 0.8517277 , 1.00569638, 0.88427564, 0.85573464,\n",
       "        1.03452003, 0.86672808, 0.9030709 , 0.94379121, 0.99514034],\n",
       "       [0.92113067, 0.99354553, 0.92010081, 0.92010081, 0.6702087 ,\n",
       "        0.99976525, 0.99976525, 0.99976525, 0.99976525, 0.87882209],\n",
       "       [0.92713805, 1.01804342, 0.88119332, 1.0301056 , 1.09365205,\n",
       "        0.99750693, 0.81038683, 1.00093707, 0.98152151, 1.08292107],\n",
       "       [0.82700827, 0.7360912 , 0.65033444, 1.04281322, 0.8748338 ,\n",
       "        1.14021357, 0.92404416, 1.01656791, 0.84670425, 1.04835437],\n",
       "       [0.75236714, 0.82515407, 0.89638286, 0.78275116, 1.04320083,\n",
       "        0.96239812, 0.85786543, 1.06798355, 1.04009215, 1.05964929],\n",
       "       [1.02846477, 1.02846477, 1.04902965, 1.04902965, 1.04902965,\n",
       "        1.03851174, 1.03851174, 1.03851174, 1.03851174, 1.03851174],\n",
       "       [0.82215178, 1.00446369, 0.93646017, 0.81567431, 1.04932216,\n",
       "        1.01722578, 1.00730355, 0.74088742, 0.91627381, 1.03035114],\n",
       "       [0.86631631, 1.08444254, 0.92021973, 1.16690876, 0.93912267,\n",
       "        1.06682969, 0.92087625, 0.90630879, 1.01758243, 0.88077477],\n",
       "       [0.97793786, 0.95290684, 1.00815311, 1.08214472, 1.14858751,\n",
       "        1.0328943 , 0.85349017, 0.9621864 , 1.09026032, 1.02085663],\n",
       "       [0.79470644, 0.93405206, 0.91283141, 0.99346145, 0.94191975,\n",
       "        0.90647576, 0.83706129, 0.85151259, 0.87648652, 1.04605596],\n",
       "       [1.11661161, 0.82137004, 1.16208982, 1.01922398, 0.93253458,\n",
       "        0.9012874 , 0.85228111, 0.91791399, 1.01400526, 1.04507743],\n",
       "       [0.8895686 , 0.87217786, 1.0954129 , 0.7899561 , 0.9704352 ,\n",
       "        1.05910974, 0.98379928, 1.09035808, 0.8765616 , 1.11014409]])"
      ]
     },
     "execution_count": 95,
     "metadata": {},
     "output_type": "execute_result"
    }
   ],
   "source": [
    "max_centroid_list_grid"
   ]
  },
  {
   "cell_type": "code",
   "execution_count": 96,
   "id": "5deb1d7c",
   "metadata": {},
   "outputs": [
    {
     "name": "stdout",
     "output_type": "stream",
     "text": [
      "End: 2025-07-11 01:48:41\n",
      "Plotting resulting graph...\n",
      "Plotting baseline 1...\n",
      "End: 2025-07-11 01:48:41\n"
     ]
    },
    {
     "data": {
      "image/png": "[encoded data removed]",
      "text/plain": [
       "<Figure size 432x288 with 1 Axes>"
      ]
     },
     "metadata": {
      "needs_background": "light"
     },
     "output_type": "display_data"
    }
   ],
   "source": [
    "# Plot the graphs of average rewards during testing phases of the policy\n",
    "# gradient method and the hand-crafted policies\n",
    "\n",
    "print(\"End: \" + datetime.now().strftime('%Y-%m-%d %H:%M:%S'))\n",
    "\n",
    "max_scooter_per_area_list = np.arange(2,17)\n",
    "max_centroid_list_grid = [np.array(avg_centroid_max_2)[sel_index_2],\n",
    "                        np.array(avg_centroid_max_3)[sel_index_3],\n",
    "                        np.array(avg_centroid_max_4)[sel_index_4],\n",
    "                        np.array(avg_centroid_max_5)[sel_index_5],\n",
    "                        np.array(avg_centroid_max_6)[sel_index_6],\n",
    "                        np.array(avg_centroid_max_7)[sel_index_7],\n",
    "                        np.array(avg_centroid_max_8)[sel_index_8],\n",
    "                        np.array(avg_centroid_max_9)[sel_index_9],\n",
    "                        np.array(avg_centroid_max_10)[sel_index_10],\n",
    "                        np.array(avg_centroid_max_11)[sel_index_11],\n",
    "                        np.array(avg_centroid_max_12)[sel_index_12],\n",
    "                        np.array(avg_centroid_max_13)[sel_index_13],\n",
    "                        np.array(avg_centroid_max_14)[sel_index_14],\n",
    "                        np.array(avg_centroid_max_15)[sel_index_15],\n",
    "                        np.array(avg_centroid_max_16)[sel_index_16]]\n",
    "max_centroid_mean_grid = []\n",
    "max_centroid_std_grid = []\n",
    "for ii in range(len(max_scooter_per_area_list)):\n",
    "    max_centroid_mean_grid.append(np.mean(max_centroid_list_grid[ii]))\n",
    "    max_centroid_std_grid.append(np.std(max_centroid_list_grid[ii]))\n",
    "\n",
    "print(\"Plotting resulting graph...\")\n",
    "# plt.figure(figsize = (12, 9))\n",
    "l1 = plt.errorbar(max_scooter_per_area_list, max_centroid_mean_grid, yerr=max_centroid_std_grid, fmt='o-', capsize=5) # ecolor='gray', \n",
    "\n",
    "print(\"Plotting baseline 1...\")\n",
    "# plt.legend(loc='best',prop={'size': 10})\n",
    "plt.ylabel(\"Centroid shift\")\n",
    "plt.xlabel(\"max_scooter_per_area\")\n",
    "\n",
    "print(\"End: \" + datetime.now().strftime('%Y-%m-%d %H:%M:%S'))"
   ]
  },
  {
   "cell_type": "code",
   "execution_count": 97,
   "id": "21e988a6",
   "metadata": {},
   "outputs": [
    {
     "name": "stdout",
     "output_type": "stream",
     "text": [
      "End: 2025-07-11 01:48:41\n",
      "Plotting resulting graph...\n",
      "Plotting baseline 1...\n",
      "End: 2025-07-11 01:48:41\n"
     ]
    },
    {
     "data": {
      "image/png": "[encoded data removed]",
      "text/plain": [
       "<Figure size 432x288 with 1 Axes>"
      ]
     },
     "metadata": {
      "needs_background": "light"
     },
     "output_type": "display_data"
    }
   ],
   "source": [
    "# Plot the graphs of average rewards during testing phases of the policy\n",
    "# gradient method and the hand-crafted policies\n",
    "\n",
    "print(\"End: \" + datetime.now().strftime('%Y-%m-%d %H:%M:%S'))\n",
    "\n",
    "max_scooter_per_area_list = np.arange(2,17)\n",
    "max_dispersion_list_grid = np.array([avg_dispersion_max_2,\n",
    "                                avg_dispersion_max_3,\n",
    "                                avg_dispersion_max_4,\n",
    "                                avg_dispersion_max_5,\n",
    "                                avg_dispersion_max_6,\n",
    "                                avg_dispersion_max_7,\n",
    "                                avg_dispersion_max_8,\n",
    "                                avg_dispersion_max_9,\n",
    "                                avg_dispersion_max_10,\n",
    "                                avg_dispersion_max_11,\n",
    "                                avg_dispersion_max_12,\n",
    "                                avg_dispersion_max_13,\n",
    "                                avg_dispersion_max_14,\n",
    "                                avg_dispersion_max_15,\n",
    "                                avg_dispersion_max_16])\n",
    "max_dispersion_mean_grid = np.mean(max_dispersion_list_grid, axis=1)\n",
    "max_dispersion_std_grid = np.std(max_dispersion_list_grid, axis=1)\n",
    "\n",
    "print(\"Plotting resulting graph...\")\n",
    "# plt.figure(figsize = (12, 9))\n",
    "l1 = plt.errorbar(max_scooter_per_area_list, max_dispersion_mean_grid, yerr=max_dispersion_std_grid, fmt='o-', capsize=5) # ecolor='gray', \n",
    "\n",
    "print(\"Plotting baseline 1...\")\n",
    "# plt.legend(loc='best',prop={'size': 10})\n",
    "plt.ylabel(\"Dispersion shift\")\n",
    "plt.xlabel(\"max_scooter_per_area\")\n",
    "\n",
    "print(\"End: \" + datetime.now().strftime('%Y-%m-%d %H:%M:%S'))"
   ]
  },
  {
   "cell_type": "code",
   "execution_count": 98,
   "id": "54f7cb21",
   "metadata": {},
   "outputs": [
    {
     "data": {
      "text/plain": [
       "array([[-1.3512747 , -1.40988754, -1.60781581, -1.32749012, -1.48478333,\n",
       "        -1.49078161, -1.59183593, -1.46526446, -1.68787566, -1.37223742],\n",
       "       [-1.44713566, -1.59815383, -1.51306127, -1.37097112, -1.41030418,\n",
       "        -1.53374814, -1.45124051, -1.71758677, -1.66438462, -1.35439942],\n",
       "       [-1.51571528, -1.65874429, -1.75347015, -1.55328768, -1.27278836,\n",
       "        -1.52935631, -1.27970273, -1.42258773, -1.47162235, -1.47422086],\n",
       "       [-1.7359745 , -1.68108148, -1.66038801, -1.70537137, -1.50591384,\n",
       "        -1.67229935, -1.63255619, -1.4826168 , -1.18272238, -1.48566457],\n",
       "       [-1.80427926, -1.64573668, -1.4550462 , -1.4550462 , -1.41127027,\n",
       "        -1.58233524, -1.58233524, -1.58233524, -1.58233524, -1.91627352],\n",
       "       [-1.6203664 , -1.81714317, -1.65945305, -1.61253534, -1.49144958,\n",
       "        -1.5835428 , -1.44496725, -1.69317974, -1.57277554, -1.43083254],\n",
       "       [-1.78093514, -1.60615405, -1.70801368, -1.60267054, -1.43801891,\n",
       "        -1.51565764, -1.55994875, -1.71597182, -1.75169659, -1.63999789],\n",
       "       [-1.49178154, -1.40809468, -1.56464203, -1.37828193, -1.6404009 ,\n",
       "        -1.74213013, -1.61781998, -1.59033166, -1.66092402, -1.74680127],\n",
       "       [-1.8165185 , -1.8165185 , -1.72168544, -1.72168544, -1.72168544,\n",
       "        -1.53445915, -1.53445915, -1.53445915, -1.53445915, -1.53445915],\n",
       "       [-1.53026409, -1.40598517, -1.52248703, -1.56762467, -1.62136127,\n",
       "        -1.64354176, -1.49204446, -1.55624739, -1.42282421, -1.84007568],\n",
       "       [-1.79407201, -1.73159261, -1.38677639, -1.47251021, -1.62903204,\n",
       "        -1.3444899 , -1.56910972, -1.41710135, -1.7782266 , -1.44450983],\n",
       "       [-1.32216896, -1.56373595, -1.47315173, -1.58587088, -1.52195283,\n",
       "        -1.69416301, -1.35585968, -1.73242943, -1.40269902, -1.78922877],\n",
       "       [-1.39968067, -1.44258337, -1.47972698, -1.57542521, -1.593703  ,\n",
       "        -1.57627473, -1.48086427, -1.6668804 , -1.75482857, -1.55698544],\n",
       "       [-1.56050584, -1.48089897, -1.43740753, -1.69150851, -1.77158704,\n",
       "        -1.76006465, -1.45717225, -1.50110435, -1.67781907, -1.63541425],\n",
       "       [-1.53393927, -1.30874542, -1.34493323, -1.69437375, -1.48605958,\n",
       "        -1.57880809, -1.66001771, -1.37806922, -1.3498072 , -1.65599865]])"
      ]
     },
     "execution_count": 98,
     "metadata": {},
     "output_type": "execute_result"
    }
   ],
   "source": [
    "max_dispersion_list_grid"
   ]
  },
  {
   "cell_type": "code",
   "execution_count": 99,
   "id": "e7eadbf8",
   "metadata": {},
   "outputs": [
    {
     "name": "stdout",
     "output_type": "stream",
     "text": [
      "End: 2025-07-11 01:48:41\n",
      "Plotting resulting graph...\n",
      "Plotting baseline 1...\n",
      "End: 2025-07-11 01:48:41\n"
     ]
    },
    {
     "data": {
      "image/png": "[encoded data removed]",
      "text/plain": [
       "<Figure size 432x288 with 1 Axes>"
      ]
     },
     "metadata": {
      "needs_background": "light"
     },
     "output_type": "display_data"
    }
   ],
   "source": [
    "# Plot the graphs of average rewards during testing phases of the policy\n",
    "# gradient method and the hand-crafted policies\n",
    "\n",
    "print(\"End: \" + datetime.now().strftime('%Y-%m-%d %H:%M:%S'))\n",
    "\n",
    "max_scooter_per_area_list = np.arange(2,17)\n",
    "max_dispersion_list_grid = [np.array(avg_dispersion_max_2)[sel_index_2],\n",
    "                        np.array(avg_dispersion_max_3)[sel_index_3],\n",
    "                        np.array(avg_dispersion_max_4)[sel_index_4],\n",
    "                        np.array(avg_dispersion_max_5)[sel_index_5],\n",
    "                        np.array(avg_dispersion_max_6)[sel_index_6],\n",
    "                        np.array(avg_dispersion_max_7)[sel_index_7],\n",
    "                        np.array(avg_dispersion_max_8)[sel_index_8],\n",
    "                        np.array(avg_dispersion_max_9)[sel_index_9],\n",
    "                        np.array(avg_dispersion_max_10)[sel_index_10],\n",
    "                        np.array(avg_dispersion_max_11)[sel_index_11],\n",
    "                        np.array(avg_dispersion_max_12)[sel_index_12],\n",
    "                        np.array(avg_dispersion_max_13)[sel_index_13],\n",
    "                        np.array(avg_dispersion_max_14)[sel_index_14],\n",
    "                        np.array(avg_dispersion_max_15)[sel_index_15],\n",
    "                        np.array(avg_dispersion_max_16)[sel_index_16]]\n",
    "max_dispersion_mean_grid = []\n",
    "max_dispersion_std_grid = []\n",
    "for ii in range(len(max_scooter_per_area_list)):\n",
    "    max_dispersion_mean_grid.append(np.mean(max_dispersion_list_grid[ii]))\n",
    "    max_dispersion_std_grid.append(np.std(max_dispersion_list_grid[ii]))\n",
    "\n",
    "print(\"Plotting resulting graph...\")\n",
    "# plt.figure(figsize = (12, 9))\n",
    "l1 = plt.errorbar(max_scooter_per_area_list, max_dispersion_mean_grid, yerr=max_dispersion_std_grid, fmt='o-', capsize=5) # ecolor='gray', \n",
    "\n",
    "print(\"Plotting baseline 1...\")\n",
    "# plt.legend(loc='best',prop={'size': 10})\n",
    "plt.ylabel(\"Dispersion shift\")\n",
    "plt.xlabel(\"max_scooter_per_area\")\n",
    "\n",
    "print(\"End: \" + datetime.now().strftime('%Y-%m-%d %H:%M:%S'))"
   ]
  },
  {
   "cell_type": "code",
   "execution_count": 100,
   "id": "3462e67e",
   "metadata": {},
   "outputs": [
    {
     "name": "stdout",
     "output_type": "stream",
     "text": [
      "End: 2025-07-11 01:48:42\n",
      "Plotting resulting graph...\n",
      "Plotting baseline 1...\n",
      "End: 2025-07-11 01:48:42\n"
     ]
    },
    {
     "data": {
      "image/png": "[encoded data removed]",
      "text/plain": [
       "<Figure size 432x288 with 1 Axes>"
      ]
     },
     "metadata": {
      "needs_background": "light"
     },
     "output_type": "display_data"
    }
   ],
   "source": [
    "# Plot the graphs of average rewards during testing phases of the policy\n",
    "# gradient method and the hand-crafted policies\n",
    "\n",
    "print(\"End: \" + datetime.now().strftime('%Y-%m-%d %H:%M:%S'))\n",
    "\n",
    "max_scooter_per_area_list = np.arange(2,17)\n",
    "max_kl_list_grid = np.array([avg_kl_max_2,\n",
    "                                avg_kl_max_3,\n",
    "                                avg_kl_max_4,\n",
    "                                avg_kl_max_5,\n",
    "                                avg_kl_max_6,\n",
    "                                avg_kl_max_7,\n",
    "                                avg_kl_max_8,\n",
    "                                avg_kl_max_9,\n",
    "                                avg_kl_max_10,\n",
    "                                avg_kl_max_11,\n",
    "                                avg_kl_max_12,\n",
    "                                avg_kl_max_13,\n",
    "                                avg_kl_max_14,\n",
    "                                avg_kl_max_15,\n",
    "                                avg_kl_max_16])\n",
    "max_kl_mean_grid = np.mean(max_kl_list_grid, axis=1)\n",
    "max_kl_std_grid = np.std(max_kl_list_grid, axis=1)\n",
    "\n",
    "print(\"Plotting resulting graph...\")\n",
    "# plt.figure(figsize = (12, 9))\n",
    "l1 = plt.errorbar(max_scooter_per_area_list, max_kl_mean_grid, yerr=max_kl_std_grid, fmt='o-', capsize=5) # ecolor='gray', \n",
    "\n",
    "print(\"Plotting baseline 1...\")\n",
    "# plt.legend(loc='best',prop={'size': 10})\n",
    "plt.ylabel(\"KL divergence\")\n",
    "plt.xlabel(\"max_scooter_per_area\")\n",
    "\n",
    "print(\"End: \" + datetime.now().strftime('%Y-%m-%d %H:%M:%S'))"
   ]
  },
  {
   "cell_type": "code",
   "execution_count": 101,
   "id": "de88d769",
   "metadata": {},
   "outputs": [
    {
     "data": {
      "text/plain": [
       "array([[1.45711065, 1.2968734 , 1.27256343, 1.14528892, 1.42827098,\n",
       "        1.47671034, 1.29006498, 1.52365938, 1.28388484, 1.34583951],\n",
       "       [1.21276415, 1.36507372, 1.20895837, 1.34935558, 1.50131658,\n",
       "        1.43693669, 1.4190799 , 1.20213953, 1.23136224, 1.30333727],\n",
       "       [1.39102796, 1.41725016, 1.12738117, 1.20888361, 1.37718477,\n",
       "        1.1660792 , 1.431671  , 1.51080152, 1.50179502, 1.17476177],\n",
       "       [1.35120735, 1.30812473, 1.20922487, 1.23053111, 1.51180727,\n",
       "        1.15852996, 1.36785978, 1.32423702, 1.42032834, 1.24988144],\n",
       "       [1.14688789, 1.2448904 , 1.48292812, 1.48292812, 1.47265311,\n",
       "        1.44115213, 1.44115213, 1.44115213, 1.44115213, 1.05568379],\n",
       "       [1.39504774, 1.283553  , 1.24417272, 1.40864314, 1.39639937,\n",
       "        1.28686594, 1.37387743, 1.2697195 , 1.41591429, 1.36737179],\n",
       "       [1.28568431, 1.35384579, 1.31685792, 1.35165244, 1.21932838,\n",
       "        1.15743695, 1.38041475, 1.13285543, 1.10367158, 1.23286199],\n",
       "       [1.46706478, 1.56400013, 1.14580078, 1.50842387, 1.25557098,\n",
       "        1.32159497, 1.41751702, 1.3292658 , 1.36141816, 1.19974782],\n",
       "       [1.19201296, 1.19201296, 1.26263911, 1.26263911, 1.26263911,\n",
       "        1.37901709, 1.37901709, 1.37901709, 1.37901709, 1.37901709],\n",
       "       [1.10948943, 1.42133641, 1.45941199, 1.21970755, 1.36679557,\n",
       "        1.38703365, 1.43193857, 1.25668402, 1.2325138 , 1.09419217],\n",
       "       [1.35165759, 1.17553987, 1.38878759, 1.29137945, 1.35409909,\n",
       "        1.45428415, 1.4412448 , 1.55480112, 1.10068639, 1.28506163],\n",
       "       [1.38808202, 1.18122374, 1.48701095, 1.34875937, 1.32830183,\n",
       "        1.26718283, 1.20713068, 1.183913  , 1.20552694, 1.1746637 ],\n",
       "       [1.23096384, 1.29111062, 1.16940786, 1.0404323 , 1.3848835 ,\n",
       "        1.24135678, 1.41736387, 1.20539866, 1.27486615, 1.34217174],\n",
       "       [1.18755042, 1.37572428, 1.38430514, 1.28138495, 1.06006883,\n",
       "        1.16716061, 1.41622193, 1.1279658 , 1.22878807, 1.19514427],\n",
       "       [1.1576709 , 1.37193377, 1.37882797, 1.41765867, 1.17543499,\n",
       "        1.20838769, 1.16379694, 1.11986146, 1.30613061, 1.27419464]])"
      ]
     },
     "execution_count": 101,
     "metadata": {},
     "output_type": "execute_result"
    }
   ],
   "source": [
    "max_kl_list_grid"
   ]
  },
  {
   "cell_type": "code",
   "execution_count": 102,
   "id": "5c7576f9",
   "metadata": {},
   "outputs": [
    {
     "name": "stdout",
     "output_type": "stream",
     "text": [
      "End: 2025-07-11 01:48:42\n",
      "Plotting resulting graph...\n",
      "Plotting baseline 1...\n",
      "End: 2025-07-11 01:48:42\n"
     ]
    },
    {
     "data": {
      "image/png": "[encoded data removed]",
      "text/plain": [
       "<Figure size 432x288 with 1 Axes>"
      ]
     },
     "metadata": {
      "needs_background": "light"
     },
     "output_type": "display_data"
    }
   ],
   "source": [
    "# Plot the graphs of average rewards during testing phases of the policy\n",
    "# gradient method and the hand-crafted policies\n",
    "\n",
    "print(\"End: \" + datetime.now().strftime('%Y-%m-%d %H:%M:%S'))\n",
    "\n",
    "max_scooter_per_area_list = np.arange(2,17)\n",
    "max_kl_list_grid = [np.array(avg_kl_max_2)[sel_index_2],\n",
    "                        np.array(avg_kl_max_3)[sel_index_3],\n",
    "                        np.array(avg_kl_max_4)[sel_index_4],\n",
    "                        np.array(avg_kl_max_5)[sel_index_5],\n",
    "                        np.array(avg_kl_max_6)[sel_index_6],\n",
    "                        np.array(avg_kl_max_7)[sel_index_7],\n",
    "                        np.array(avg_kl_max_8)[sel_index_8],\n",
    "                        np.array(avg_kl_max_9)[sel_index_9],\n",
    "                        np.array(avg_kl_max_10)[sel_index_10],\n",
    "                        np.array(avg_kl_max_11)[sel_index_11],\n",
    "                        np.array(avg_kl_max_12)[sel_index_12],\n",
    "                        np.array(avg_kl_max_13)[sel_index_13],\n",
    "                        np.array(avg_kl_max_14)[sel_index_14],\n",
    "                        np.array(avg_kl_max_15)[sel_index_15],\n",
    "                        np.array(avg_kl_max_16)[sel_index_16]]\n",
    "max_kl_mean_grid = []\n",
    "max_kl_std_grid = []\n",
    "for ii in range(len(max_scooter_per_area_list)):\n",
    "    max_kl_mean_grid.append(np.mean(max_kl_list_grid[ii]))\n",
    "    max_kl_std_grid.append(np.std(max_kl_list_grid[ii]))\n",
    "\n",
    "print(\"Plotting resulting graph...\")\n",
    "# plt.figure(figsize = (12, 9))\n",
    "l1 = plt.errorbar(max_scooter_per_area_list, max_kl_mean_grid, yerr=max_kl_std_grid, fmt='o-', capsize=5) # ecolor='gray', \n",
    "\n",
    "print(\"Plotting baseline 1...\")\n",
    "# plt.legend(loc='best',prop={'size': 10})\n",
    "plt.ylabel(\"KL divergence\")\n",
    "plt.xlabel(\"max_scooter_per_area\")\n",
    "\n",
    "print(\"End: \" + datetime.now().strftime('%Y-%m-%d %H:%M:%S'))"
   ]
  },
  {
   "cell_type": "code",
   "execution_count": null,
   "id": "85520208",
   "metadata": {},
   "outputs": [],
   "source": []
  }
 ],
 "metadata": {
  "kernelspec": {
   "display_name": "Python 3 (ipykernel)",
   "language": "python",
   "name": "python3"
  },
  "language_info": {
   "codemirror_mode": {
    "name": "ipython",
    "version": 3
   },
   "file_extension": ".py",
   "mimetype": "text/x-python",
   "name": "python",
   "nbconvert_exporter": "python",
   "pygments_lexer": "ipython3",
   "version": "3.9.12"
  }
 },
 "nbformat": 4,
 "nbformat_minor": 5
}

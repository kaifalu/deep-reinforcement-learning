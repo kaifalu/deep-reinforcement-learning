{
 "cells": [
  {
   "cell_type": "code",
   "execution_count": 1,
   "id": "fc31afef",
   "metadata": {},
   "outputs": [],
   "source": [
    "# Import packages\n",
    "import pandas as pd\n",
    "import geopandas as gpd\n",
    "import numpy as np\n",
    "import matplotlib.pyplot as plt\n",
    "import datetime\n",
    "from shapely.geometry import Point\n",
    "from shapely.geometry import shape\n",
    "import seaborn as sns\n",
    "from datetime import datetime\n",
    "import os\n",
    "from zipfile import ZipFile\n",
    "import random\n",
    "import networkx as nx\n",
    "from datetime import datetime, timedelta\n",
    "from mpl_toolkits.axes_grid1 import make_axes_locatable"
   ]
  },
  {
   "cell_type": "code",
   "execution_count": 2,
   "id": "8194fa92",
   "metadata": {},
   "outputs": [
    {
     "name": "stdout",
     "output_type": "stream",
     "text": [
      "departure_rate: 4404\n",
      "arrival_rate: 4404\n",
      "geometry: 4404\n",
      "departure_rate: 1388\n",
      "arrival_rate: 1388\n",
      "geometry: 1388\n"
     ]
    },
    {
     "data": {
      "text/html": [
       "<div>\n",
       "<style scoped>\n",
       "    .dataframe tbody tr th:only-of-type {\n",
       "        vertical-align: middle;\n",
       "    }\n",
       "\n",
       "    .dataframe tbody tr th {\n",
       "        vertical-align: top;\n",
       "    }\n",
       "\n",
       "    .dataframe thead th {\n",
       "        text-align: right;\n",
       "    }\n",
       "</style>\n",
       "<table border=\"1\" class=\"dataframe\">\n",
       "  <thead>\n",
       "    <tr style=\"text-align: right;\">\n",
       "      <th></th>\n",
       "      <th>index</th>\n",
       "      <th>latitude</th>\n",
       "      <th>longitude</th>\n",
       "      <th>departure_rate</th>\n",
       "      <th>arrival_rate</th>\n",
       "      <th>dist_transPOI</th>\n",
       "      <th>num_transPOI</th>\n",
       "      <th>dist_bus_stop</th>\n",
       "      <th>num_bus_stop</th>\n",
       "      <th>geometry</th>\n",
       "    </tr>\n",
       "  </thead>\n",
       "  <tbody>\n",
       "    <tr>\n",
       "      <th>0</th>\n",
       "      <td>29</td>\n",
       "      <td>29.658570</td>\n",
       "      <td>-82.415016</td>\n",
       "      <td>0.022484</td>\n",
       "      <td>0.038544</td>\n",
       "      <td>0.081538</td>\n",
       "      <td>1.0</td>\n",
       "      <td>0.030854</td>\n",
       "      <td>1.0</td>\n",
       "      <td>POINT (-82.41501609853275 29.65857013179353)</td>\n",
       "    </tr>\n",
       "    <tr>\n",
       "      <th>1</th>\n",
       "      <td>30</td>\n",
       "      <td>29.660371</td>\n",
       "      <td>-82.414990</td>\n",
       "      <td>0.002141</td>\n",
       "      <td>0.005353</td>\n",
       "      <td>1.000000</td>\n",
       "      <td>0.0</td>\n",
       "      <td>1.000000</td>\n",
       "      <td>0.0</td>\n",
       "      <td>POINT (-82.4149895039865 29.660371378494247)</td>\n",
       "    </tr>\n",
       "    <tr>\n",
       "      <th>2</th>\n",
       "      <td>47</td>\n",
       "      <td>29.654944</td>\n",
       "      <td>-82.413000</td>\n",
       "      <td>0.001071</td>\n",
       "      <td>0.002141</td>\n",
       "      <td>1.000000</td>\n",
       "      <td>0.0</td>\n",
       "      <td>1.000000</td>\n",
       "      <td>0.0</td>\n",
       "      <td>POINT (-82.41300040184892 29.654944475167262)</td>\n",
       "    </tr>\n",
       "    <tr>\n",
       "      <th>3</th>\n",
       "      <td>48</td>\n",
       "      <td>29.656746</td>\n",
       "      <td>-82.412974</td>\n",
       "      <td>0.004283</td>\n",
       "      <td>0.008565</td>\n",
       "      <td>1.000000</td>\n",
       "      <td>0.0</td>\n",
       "      <td>1.000000</td>\n",
       "      <td>0.0</td>\n",
       "      <td>POINT (-82.41297377438231 29.65674571873145)</td>\n",
       "    </tr>\n",
       "    <tr>\n",
       "      <th>4</th>\n",
       "      <td>49</td>\n",
       "      <td>29.658547</td>\n",
       "      <td>-82.412947</td>\n",
       "      <td>0.078158</td>\n",
       "      <td>0.100642</td>\n",
       "      <td>1.000000</td>\n",
       "      <td>0.0</td>\n",
       "      <td>1.000000</td>\n",
       "      <td>0.0</td>\n",
       "      <td>POINT (-82.41294714602218 29.6585469636598)</td>\n",
       "    </tr>\n",
       "  </tbody>\n",
       "</table>\n",
       "</div>"
      ],
      "text/plain": [
       "   index   latitude  longitude  departure_rate  arrival_rate  dist_transPOI  \\\n",
       "0     29  29.658570 -82.415016        0.022484      0.038544       0.081538   \n",
       "1     30  29.660371 -82.414990        0.002141      0.005353       1.000000   \n",
       "2     47  29.654944 -82.413000        0.001071      0.002141       1.000000   \n",
       "3     48  29.656746 -82.412974        0.004283      0.008565       1.000000   \n",
       "4     49  29.658547 -82.412947        0.078158      0.100642       1.000000   \n",
       "\n",
       "   num_transPOI  dist_bus_stop  num_bus_stop  \\\n",
       "0           1.0       0.030854           1.0   \n",
       "1           0.0       1.000000           0.0   \n",
       "2           0.0       1.000000           0.0   \n",
       "3           0.0       1.000000           0.0   \n",
       "4           0.0       1.000000           0.0   \n",
       "\n",
       "                                        geometry  \n",
       "0   POINT (-82.41501609853275 29.65857013179353)  \n",
       "1   POINT (-82.4149895039865 29.660371378494247)  \n",
       "2  POINT (-82.41300040184892 29.654944475167262)  \n",
       "3   POINT (-82.41297377438231 29.65674571873145)  \n",
       "4    POINT (-82.41294714602218 29.6585469636598)  "
      ]
     },
     "execution_count": 2,
     "metadata": {},
     "output_type": "execute_result"
    }
   ],
   "source": [
    "fl_city_boundary = gpd.read_file('Map/fl_city_boundary.shp')\n",
    "Gainesville_boundary = fl_city_boundary.loc[fl_city_boundary['NAME'] == 'GAINESVILLE'].reset_index(drop=True)\n",
    "Gainesville_boundary['geometry'] = Gainesville_boundary['geometry'].to_crs('epsg:4326')\n",
    "\n",
    "grid_centroid_gdf = pd.read_csv('grid_centroid_gdf.csv')\n",
    "grid_centroid_gdf = grid_centroid_gdf.drop(columns = {'geometry', 'centroid'}, axis = 1)\n",
    "grid_centroid_gdf['geometry'] = grid_centroid_gdf[['longitude', 'latitude']].values.tolist()\n",
    "grid_centroid_gdf['geometry'] = grid_centroid_gdf['geometry'].apply(Point)\n",
    "\n",
    "grid_centroid_gdf_old = pd.read_csv('grid_centroid_gdf_old.csv')\n",
    "grid_centroid_gdf_old = grid_centroid_gdf_old.drop(columns = {'geometry', 'centroid'}, axis = 1)\n",
    "grid_centroid_gdf_old['geometry'] = grid_centroid_gdf_old[['longitude', 'latitude']].values.tolist()\n",
    "grid_centroid_gdf_old['geometry'] = grid_centroid_gdf_old['geometry'].apply(Point)\n",
    "\n",
    "print('departure_rate:', np.sum(grid_centroid_gdf['departure_rate'] == grid_centroid_gdf_old['departure_rate']))\n",
    "print('arrival_rate:', np.sum(grid_centroid_gdf['arrival_rate'] == grid_centroid_gdf_old['arrival_rate']))\n",
    "print('geometry:', np.sum(grid_centroid_gdf['geometry'] == grid_centroid_gdf_old['geometry']))\n",
    "\n",
    "grid_centroid_gdf = grid_centroid_gdf.loc[grid_centroid_gdf['departure_rate'] > 0].reset_index()\n",
    "grid_centroid_gdf_old = grid_centroid_gdf_old.loc[grid_centroid_gdf_old['departure_rate'] > 0].reset_index()\n",
    "\n",
    "print('departure_rate:', np.sum(grid_centroid_gdf['departure_rate'] == grid_centroid_gdf_old['departure_rate']))\n",
    "print('arrival_rate:', np.sum(grid_centroid_gdf['arrival_rate'] == grid_centroid_gdf_old['arrival_rate']))\n",
    "print('geometry:', np.sum(grid_centroid_gdf['geometry'] == grid_centroid_gdf_old['geometry']))\n",
    "\n",
    "grid_centroid_gdf.head()"
   ]
  },
  {
   "cell_type": "markdown",
   "id": "f5449b68",
   "metadata": {},
   "source": [
    "### Grid-Based Analysis"
   ]
  },
  {
   "cell_type": "code",
   "execution_count": 3,
   "id": "7b8b4b99",
   "metadata": {},
   "outputs": [
    {
     "data": {
      "text/plain": [
       "Text(0, 0.5, 'Grid counts')"
      ]
     },
     "execution_count": 3,
     "metadata": {},
     "output_type": "execute_result"
    },
    {
     "data": {
      "image/png": "[encoded data removed]",
      "text/plain": [
       "<Figure size 432x288 with 1 Axes>"
      ]
     },
     "metadata": {
      "needs_background": "light"
     },
     "output_type": "display_data"
    }
   ],
   "source": [
    "l1 = plt.hist(grid_centroid_gdf['departure_rate'], bins = 50)\n",
    "plt.xlabel('Daily average ridership')\n",
    "plt.ylabel('Grid counts')"
   ]
  },
  {
   "cell_type": "code",
   "execution_count": 4,
   "id": "9578d17a",
   "metadata": {},
   "outputs": [
    {
     "data": {
      "text/plain": [
       "Text(0, 0.5, 'Grid counts')"
      ]
     },
     "execution_count": 4,
     "metadata": {},
     "output_type": "execute_result"
    },
    {
     "data": {
      "image/png": "[encoded data removed]",
      "text/plain": [
       "<Figure size 432x288 with 1 Axes>"
      ]
     },
     "metadata": {
      "needs_background": "light"
     },
     "output_type": "display_data"
    }
   ],
   "source": [
    "l1 = plt.hist(grid_centroid_gdf['arrival_rate'], bins = 50)\n",
    "plt.xlabel('Daily average ridership')\n",
    "plt.ylabel('Grid counts')"
   ]
  },
  {
   "cell_type": "code",
   "execution_count": 5,
   "id": "d195f9d5",
   "metadata": {},
   "outputs": [
    {
     "data": {
      "text/plain": [
       "Text(0, 0.5, 'Grid counts')"
      ]
     },
     "execution_count": 5,
     "metadata": {},
     "output_type": "execute_result"
    },
    {
     "data": {
      "image/png": "[encoded data removed]",
      "text/plain": [
       "<Figure size 432x288 with 1 Axes>"
      ]
     },
     "metadata": {
      "needs_background": "light"
     },
     "output_type": "display_data"
    }
   ],
   "source": [
    "l1 = plt.hist(grid_centroid_gdf['dist_transPOI'], bins = 50)\n",
    "plt.xlabel('Average distance to transPOI (km)')\n",
    "plt.ylabel('Grid counts')"
   ]
  },
  {
   "cell_type": "code",
   "execution_count": 6,
   "id": "ad074a41",
   "metadata": {},
   "outputs": [
    {
     "data": {
      "text/plain": [
       "Text(0, 0.5, 'Grid counts')"
      ]
     },
     "execution_count": 6,
     "metadata": {},
     "output_type": "execute_result"
    },
    {
     "data": {
      "image/png": "[encoded data removed]",
      "text/plain": [
       "<Figure size 432x288 with 1 Axes>"
      ]
     },
     "metadata": {
      "needs_background": "light"
     },
     "output_type": "display_data"
    }
   ],
   "source": [
    "l1 = plt.hist(grid_centroid_gdf['dist_transPOI'].loc[grid_centroid_gdf['dist_transPOI'] < 1], bins = 50)\n",
    "# l1 = plt.hist(grid_centroid_gdf['dist_transPOI'], bins = 10)\n",
    "plt.xlabel('Average distance to transPOI (km)')\n",
    "plt.ylabel('Grid counts')"
   ]
  },
  {
   "cell_type": "code",
   "execution_count": 13,
   "id": "dd2e7015",
   "metadata": {},
   "outputs": [
    {
     "data": {
      "text/plain": [
       "Text(0, 0.5, 'Grid counts')"
      ]
     },
     "execution_count": 13,
     "metadata": {},
     "output_type": "execute_result"
    },
    {
     "data": {
      "image/png": "[encoded data removed]",
      "text/plain": [
       "<Figure size 432x288 with 1 Axes>"
      ]
     },
     "metadata": {
      "needs_background": "light"
     },
     "output_type": "display_data"
    }
   ],
   "source": [
    "l1 = plt.hist(grid_centroid_gdf['num_transPOI'], bins = 50)\n",
    "plt.xlabel('No. transPOI nearby')\n",
    "plt.ylabel('Grid counts')"
   ]
  },
  {
   "cell_type": "code",
   "execution_count": 9,
   "id": "dc70f9ce",
   "metadata": {},
   "outputs": [
    {
     "data": {
      "text/plain": [
       "Text(0, 0.5, 'Grid counts')"
      ]
     },
     "execution_count": 9,
     "metadata": {},
     "output_type": "execute_result"
    },
    {
     "data": {
      "image/png": "[encoded data removed]",
      "text/plain": [
       "<Figure size 432x288 with 1 Axes>"
      ]
     },
     "metadata": {
      "needs_background": "light"
     },
     "output_type": "display_data"
    }
   ],
   "source": [
    "# l1 = plt.hist(grid_centroid_gdf['dist_transPOI'].loc[grid_centroid_gdf['dist_transPOI'] < 1], bins = 50)\n",
    "l1 = plt.hist(grid_centroid_gdf['dist_bus_stop'], bins = 50)\n",
    "plt.xlabel('Average distance to bus stop (km)')\n",
    "plt.ylabel('Grid counts')"
   ]
  },
  {
   "cell_type": "code",
   "execution_count": 10,
   "id": "8b99f7a9",
   "metadata": {},
   "outputs": [
    {
     "data": {
      "text/plain": [
       "Text(0, 0.5, 'Grid counts')"
      ]
     },
     "execution_count": 10,
     "metadata": {},
     "output_type": "execute_result"
    },
    {
     "data": {
      "image/png": "[encoded data removed]",
      "text/plain": [
       "<Figure size 432x288 with 1 Axes>"
      ]
     },
     "metadata": {
      "needs_background": "light"
     },
     "output_type": "display_data"
    }
   ],
   "source": [
    "# l1 = plt.hist(grid_centroid_gdf['dist_transPOI'].loc[grid_centroid_gdf['dist_transPOI'] < 1], bins = 50)\n",
    "l1 = plt.hist(grid_centroid_gdf['dist_bus_stop'].loc[grid_centroid_gdf['dist_bus_stop'] < 1], bins = 50)\n",
    "plt.xlabel('Average distance to bus stop (km)')\n",
    "plt.ylabel('Grid counts')"
   ]
  },
  {
   "cell_type": "code",
   "execution_count": 14,
   "id": "327b5dde",
   "metadata": {},
   "outputs": [
    {
     "data": {
      "text/plain": [
       "Text(0, 0.5, 'Grid counts')"
      ]
     },
     "execution_count": 14,
     "metadata": {},
     "output_type": "execute_result"
    },
    {
     "data": {
      "image/png": "[encoded data removed]",
      "text/plain": [
       "<Figure size 432x288 with 1 Axes>"
      ]
     },
     "metadata": {
      "needs_background": "light"
     },
     "output_type": "display_data"
    }
   ],
   "source": [
    "l1 = plt.hist(grid_centroid_gdf['num_bus_stop'], bins = 50)\n",
    "plt.xlabel('No. bus stops')\n",
    "plt.ylabel('Grid counts')"
   ]
  },
  {
   "cell_type": "markdown",
   "id": "24065684",
   "metadata": {},
   "source": [
    "### Base Scenario"
   ]
  },
  {
   "cell_type": "code",
   "execution_count": 7,
   "id": "0e23fdbb",
   "metadata": {},
   "outputs": [],
   "source": [
    "base_scenario = pd.read_csv('base_scenario_v11.csv')"
   ]
  },
  {
   "cell_type": "code",
   "execution_count": 8,
   "id": "a7e405ed",
   "metadata": {},
   "outputs": [
    {
     "name": "stdout",
     "output_type": "stream",
     "text": [
      "reward_function_value: -94.714\n",
      "total number of docked sites: 139\n",
      "total number of scooters: 283\n",
      "capital cost: 212250\n"
     ]
    }
   ],
   "source": [
    "docked_cost = 500\n",
    "scooter_cost = 250\n",
    "print('reward_function_value:', -94.714)\n",
    "print('total number of docked sites:', 139)\n",
    "print('total number of scooters:', 283)\n",
    "print('capital cost:', 283*(docked_cost + scooter_cost))"
   ]
  },
  {
   "cell_type": "markdown",
   "id": "ba0dac89",
   "metadata": {},
   "source": [
    "#### Grid-Level Evaluation"
   ]
  },
  {
   "cell_type": "code",
   "execution_count": 9,
   "id": "7358205b",
   "metadata": {},
   "outputs": [],
   "source": [
    "def gini(array):\n",
    "    array = np.array(array, dtype=np.float64)\n",
    "    if np.amin(array) < 0:\n",
    "        raise ValueError(\"Values cannot be negative\")\n",
    "\n",
    "    array += 1e-10  # Prevent division by zero\n",
    "    array = np.sort(array)\n",
    "    n = array.size\n",
    "    index = np.arange(1, n + 1)\n",
    "    return ((np.sum((2 * index - n - 1) * array)) / (n * np.sum(array)))"
   ]
  },
  {
   "cell_type": "code",
   "execution_count": 10,
   "id": "984c953d",
   "metadata": {},
   "outputs": [
    {
     "name": "stdout",
     "output_type": "stream",
     "text": [
      "daily demand in total: 181\n",
      "average usage efficency: 0.40694630010277494\n",
      "met demand in total: 99.06\n",
      "unmet_demand in total: 82.25\n",
      "equity metrics: 0.9611568880509026\n"
     ]
    }
   ],
   "source": [
    "demand_total_arr = []\n",
    "usage_efficiency_arr = []\n",
    "met_demand_total_arr = []\n",
    "unmet_demand_total_arr = []\n",
    "equity_arr = []\n",
    "for ii in range(100):\n",
    "    demand_total = 0 # replace stations\n",
    "    usage_efficiency = []\n",
    "    met_demand = []\n",
    "    unmet_demand = []\n",
    "    for i in range (len(grid_centroid_gdf)):\n",
    "        grid_level_demand = max(0, np.random.poisson(grid_centroid_gdf.departure_rate.iloc[i] * 1))\n",
    "        if base_scenario['scooter_num_per_grid'].iloc[i] > 0:\n",
    "            usage_efficiency.append(grid_level_demand / base_scenario['scooter_num_per_grid'].iloc[i])\n",
    "        met_demand.append(min(grid_level_demand, base_scenario['scooter_num_per_grid'].iloc[i]))\n",
    "        unmet_demand.append(max(0, grid_level_demand - base_scenario['scooter_num_per_grid'].iloc[i]))\n",
    "        demand_total += grid_level_demand\n",
    "    usage_efficiency_arr.append(np.mean(np.array(usage_efficiency)))\n",
    "    met_demand_total_arr.append(np.sum(np.array(met_demand)))\n",
    "    unmet_demand_total_arr.append(np.sum(np.array(unmet_demand)))\n",
    "    demand_total_arr.append(demand_total)\n",
    "    equity_arr.append(gini(np.array(unmet_demand)))\n",
    "demand_total_arr = np.array(demand_total_arr)\n",
    "usage_efficiency_arr = np.array(usage_efficiency_arr)\n",
    "met_demand_total_arr = np.array(met_demand_total_arr)\n",
    "unmet_demand_total_arr = np.array(unmet_demand_total_arr)\n",
    "equity_arr = np.array(equity_arr)\n",
    "print(\"daily demand in total:\", int(np.mean(demand_total_arr)))\n",
    "print(\"average usage efficency:\", np.mean(usage_efficiency_arr))\n",
    "print(\"met demand in total:\", np.mean(met_demand_total_arr))\n",
    "print(\"unmet_demand in total:\", np.mean(unmet_demand_total_arr))\n",
    "print(\"equity metrics:\", np.mean(equity_arr))"
   ]
  },
  {
   "cell_type": "markdown",
   "id": "7923fa13",
   "metadata": {},
   "source": [
    "### Reducing Equity"
   ]
  },
  {
   "cell_type": "code",
   "execution_count": 7,
   "id": "42cdf010",
   "metadata": {},
   "outputs": [],
   "source": [
    "equity_scenario = pd.read_csv('equity_scenario_v11.csv')"
   ]
  },
  {
   "cell_type": "code",
   "execution_count": 8,
   "id": "5cc6ff54",
   "metadata": {},
   "outputs": [
    {
     "name": "stdout",
     "output_type": "stream",
     "text": [
      "reward_function_value: -38.575\n",
      "total number of docked sites: 126\n",
      "total number of scooters: 262\n",
      "capital cost: 196500\n"
     ]
    }
   ],
   "source": [
    "docked_cost = 500\n",
    "scooter_cost = 250\n",
    "print('reward_function_value:', -38.575)\n",
    "print('total number of docked sites:', 126)\n",
    "print('total number of scooters:', 262)\n",
    "print('capital cost:', 262*(docked_cost + scooter_cost))"
   ]
  },
  {
   "cell_type": "markdown",
   "id": "4479ad41",
   "metadata": {},
   "source": [
    "#### Grid-Level Evaluation"
   ]
  },
  {
   "cell_type": "code",
   "execution_count": 9,
   "id": "a319c219",
   "metadata": {},
   "outputs": [],
   "source": [
    "def gini(array):\n",
    "    array = np.array(array, dtype=np.float64)\n",
    "    if np.amin(array) < 0:\n",
    "        raise ValueError(\"Values cannot be negative\")\n",
    "\n",
    "    array += 1e-10  # Prevent division by zero\n",
    "    array = np.sort(array)\n",
    "    n = array.size\n",
    "    index = np.arange(1, n + 1)\n",
    "    return ((np.sum((2 * index - n - 1) * array)) / (n * np.sum(array)))"
   ]
  },
  {
   "cell_type": "code",
   "execution_count": 10,
   "id": "2a0a1118",
   "metadata": {},
   "outputs": [
    {
     "name": "stdout",
     "output_type": "stream",
     "text": [
      "daily demand in total: 181\n",
      "average usage efficency: 0.4714960317460319\n",
      "met demand in total: 98.37\n",
      "unmet_demand in total: 83.26\n",
      "equity metrics: 0.961113208435161\n"
     ]
    }
   ],
   "source": [
    "demand_total_arr = []\n",
    "usage_efficiency_arr = []\n",
    "met_demand_total_arr = []\n",
    "unmet_demand_total_arr = []\n",
    "equity_arr = []\n",
    "for ii in range(100):\n",
    "    demand_total = 0 # replace stations\n",
    "    usage_efficiency = []\n",
    "    met_demand = []\n",
    "    unmet_demand = []\n",
    "    for i in range (len(grid_centroid_gdf)):\n",
    "        grid_level_demand = max(0, np.random.poisson(grid_centroid_gdf.departure_rate.iloc[i] * 1))\n",
    "        if equity_scenario['scooter_num_per_grid'].iloc[i] > 0:\n",
    "            usage_efficiency.append(grid_level_demand / equity_scenario['scooter_num_per_grid'].iloc[i])\n",
    "        met_demand.append(min(grid_level_demand, equity_scenario['scooter_num_per_grid'].iloc[i]))\n",
    "        unmet_demand.append(max(0, grid_level_demand - equity_scenario['scooter_num_per_grid'].iloc[i]))\n",
    "        demand_total += grid_level_demand\n",
    "    usage_efficiency_arr.append(np.mean(np.array(usage_efficiency)))\n",
    "    met_demand_total_arr.append(np.sum(np.array(met_demand)))\n",
    "    unmet_demand_total_arr.append(np.sum(np.array(unmet_demand)))\n",
    "    demand_total_arr.append(demand_total)\n",
    "    equity_arr.append(gini(np.array(unmet_demand)))\n",
    "demand_total_arr = np.array(demand_total_arr)\n",
    "usage_efficiency_arr = np.array(usage_efficiency_arr)\n",
    "met_demand_total_arr = np.array(met_demand_total_arr)\n",
    "unmet_demand_total_arr = np.array(unmet_demand_total_arr)\n",
    "equity_arr = np.array(equity_arr)\n",
    "print(\"daily demand in total:\", int(np.mean(demand_total_arr)))\n",
    "print(\"average usage efficency:\", np.mean(usage_efficiency_arr))\n",
    "print(\"met demand in total:\", np.mean(met_demand_total_arr))\n",
    "print(\"unmet_demand in total:\", np.mean(unmet_demand_total_arr))\n",
    "print(\"equity metrics:\", np.mean(equity_arr))"
   ]
  },
  {
   "cell_type": "markdown",
   "id": "481f104c",
   "metadata": {},
   "source": [
    "### Adding Multimodal Integration"
   ]
  },
  {
   "cell_type": "code",
   "execution_count": 11,
   "id": "f9a2e32b",
   "metadata": {},
   "outputs": [],
   "source": [
    "MMI_scenario = pd.read_csv('MMI_scenario_v12.csv')"
   ]
  },
  {
   "cell_type": "code",
   "execution_count": 12,
   "id": "50b1bff1",
   "metadata": {},
   "outputs": [
    {
     "name": "stdout",
     "output_type": "stream",
     "text": [
      "reward_function_value: -162.075\n",
      "total number of docked sites: 128\n",
      "total number of scooters: 284\n",
      "capital cost: 213000\n"
     ]
    }
   ],
   "source": [
    "docked_cost = 500\n",
    "scooter_cost = 250\n",
    "print('reward_function_value:', -162.075)\n",
    "print('total number of docked sites:', 128)\n",
    "print('total number of scooters:', 284)\n",
    "print('capital cost:', 284*(docked_cost + scooter_cost))"
   ]
  },
  {
   "cell_type": "markdown",
   "id": "cd3dc29d",
   "metadata": {},
   "source": [
    "#### Grid-Level Evaluation"
   ]
  },
  {
   "cell_type": "code",
   "execution_count": 13,
   "id": "11f496d7",
   "metadata": {},
   "outputs": [],
   "source": [
    "def gini(array):\n",
    "    array = np.array(array, dtype=np.float64)\n",
    "    if np.amin(array) < 0:\n",
    "        raise ValueError(\"Values cannot be negative\")\n",
    "\n",
    "    array += 1e-10  # Prevent division by zero\n",
    "    array = np.sort(array)\n",
    "    n = array.size\n",
    "    index = np.arange(1, n + 1)\n",
    "    return ((np.sum((2 * index - n - 1) * array)) / (n * np.sum(array)))"
   ]
  },
  {
   "cell_type": "code",
   "execution_count": 14,
   "id": "cb8691ed",
   "metadata": {},
   "outputs": [
    {
     "name": "stdout",
     "output_type": "stream",
     "text": [
      "daily demand in total: 178\n",
      "average usage efficency: 0.3964364769345238\n",
      "met demand in total: 94.08\n",
      "unmet_demand in total: 84.08\n",
      "equity metrics: 0.96064531550646\n"
     ]
    }
   ],
   "source": [
    "demand_total_arr = []\n",
    "usage_efficiency_arr = []\n",
    "met_demand_total_arr = []\n",
    "unmet_demand_total_arr = []\n",
    "equity_arr = []\n",
    "for ii in range(100):\n",
    "    demand_total = 0 # replace stations\n",
    "    usage_efficiency = []\n",
    "    met_demand = []\n",
    "    unmet_demand = []\n",
    "    for i in range (len(grid_centroid_gdf)):\n",
    "        grid_level_demand = max(0, np.random.poisson(grid_centroid_gdf.departure_rate.iloc[i] * 1))\n",
    "        if MMI_scenario['scooter_num_per_grid'].iloc[i] > 0:\n",
    "            usage_efficiency.append(grid_level_demand / MMI_scenario['scooter_num_per_grid'].iloc[i])\n",
    "        met_demand.append(min(grid_level_demand, MMI_scenario['scooter_num_per_grid'].iloc[i]))\n",
    "        unmet_demand.append(max(0, grid_level_demand - MMI_scenario['scooter_num_per_grid'].iloc[i]))\n",
    "        demand_total += grid_level_demand\n",
    "    usage_efficiency_arr.append(np.mean(np.array(usage_efficiency)))\n",
    "    met_demand_total_arr.append(np.sum(np.array(met_demand)))\n",
    "    unmet_demand_total_arr.append(np.sum(np.array(unmet_demand)))\n",
    "    demand_total_arr.append(demand_total)\n",
    "    equity_arr.append(gini(np.array(unmet_demand)))\n",
    "demand_total_arr = np.array(demand_total_arr)\n",
    "usage_efficiency_arr = np.array(usage_efficiency_arr)\n",
    "met_demand_total_arr = np.array(met_demand_total_arr)\n",
    "unmet_demand_total_arr = np.array(unmet_demand_total_arr)\n",
    "equity_arr = np.array(equity_arr)\n",
    "print(\"daily demand in total:\", int(np.mean(demand_total_arr)))\n",
    "print(\"average usage efficency:\", np.mean(usage_efficiency_arr))\n",
    "print(\"met demand in total:\", np.mean(met_demand_total_arr))\n",
    "print(\"unmet_demand in total:\", np.mean(unmet_demand_total_arr))\n",
    "print(\"equity metrics:\", np.mean(equity_arr))"
   ]
  },
  {
   "cell_type": "code",
   "execution_count": null,
   "id": "9d0bd71d",
   "metadata": {},
   "outputs": [],
   "source": []
  }
 ],
 "metadata": {
  "kernelspec": {
   "display_name": "Python 3 (ipykernel)",
   "language": "python",
   "name": "python3"
  },
  "language_info": {
   "codemirror_mode": {
    "name": "ipython",
    "version": 3
   },
   "file_extension": ".py",
   "mimetype": "text/x-python",
   "name": "python",
   "nbconvert_exporter": "python",
   "pygments_lexer": "ipython3",
   "version": "3.9.12"
  }
 },
 "nbformat": 4,
 "nbformat_minor": 5
}

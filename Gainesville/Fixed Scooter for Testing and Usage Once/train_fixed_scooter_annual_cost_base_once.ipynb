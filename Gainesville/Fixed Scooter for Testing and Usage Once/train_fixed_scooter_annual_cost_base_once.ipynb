{
 "cells": [
  {
   "cell_type": "markdown",
   "id": "203270d1",
   "metadata": {},
   "source": [
    "### Import"
   ]
  },
  {
   "cell_type": "code",
   "execution_count": 1,
   "id": "3f4333d3",
   "metadata": {},
   "outputs": [
    {
     "name": "stdout",
     "output_type": "stream",
     "text": [
      "Start: 2025-07-10 14:37:04\n"
     ]
    }
   ],
   "source": [
    "import sys\n",
    "import os\n",
    "import matplotlib.pyplot as plt\n",
    "from datetime import datetime, timedelta\n",
    "import pandas as pd\n",
    "import geopandas as gpd\n",
    "import numpy as np\n",
    "import matplotlib.pyplot as plt\n",
    "from shapely.geometry import Point, shape\n",
    "import seaborn as sns\n",
    "import random\n",
    "from mpl_toolkits.axes_grid1 import make_axes_locatable\n",
    "# import datetime\n",
    "\n",
    "sys.path.insert(0, '../..')\n",
    "\n",
    "print(\"Start: \" + datetime.now().strftime('%Y-%m-%d %H:%M:%S'))\n",
    "\n",
    "from network_v11_13_max_fixed_scooter import *\n",
    "from helper_v11_13_max_fixed_scooter import *"
   ]
  },
  {
   "cell_type": "markdown",
   "id": "a0dd7f1e",
   "metadata": {},
   "source": [
    "### Initialization"
   ]
  },
  {
   "cell_type": "markdown",
   "id": "ac6bac25",
   "metadata": {},
   "source": [
    "#### define agent and gnv boundary"
   ]
  },
  {
   "cell_type": "code",
   "execution_count": 2,
   "id": "f7d075cd",
   "metadata": {},
   "outputs": [
    {
     "data": {
      "text/html": [
       "<div>\n",
       "<style scoped>\n",
       "    .dataframe tbody tr th:only-of-type {\n",
       "        vertical-align: middle;\n",
       "    }\n",
       "\n",
       "    .dataframe tbody tr th {\n",
       "        vertical-align: top;\n",
       "    }\n",
       "\n",
       "    .dataframe thead th {\n",
       "        text-align: right;\n",
       "    }\n",
       "</style>\n",
       "<table border=\"1\" class=\"dataframe\">\n",
       "  <thead>\n",
       "    <tr style=\"text-align: right;\">\n",
       "      <th></th>\n",
       "      <th>level_0</th>\n",
       "      <th>index</th>\n",
       "      <th>latitude</th>\n",
       "      <th>longitude</th>\n",
       "      <th>departure_rate</th>\n",
       "      <th>arrival_rate</th>\n",
       "      <th>dist_transPOI</th>\n",
       "      <th>num_transPOI</th>\n",
       "      <th>dist_bus_stop</th>\n",
       "      <th>num_bus_stop</th>\n",
       "      <th>rider_test_list</th>\n",
       "      <th>geometry</th>\n",
       "    </tr>\n",
       "  </thead>\n",
       "  <tbody>\n",
       "    <tr>\n",
       "      <th>0</th>\n",
       "      <td>0</td>\n",
       "      <td>29</td>\n",
       "      <td>29.658570</td>\n",
       "      <td>-82.415016</td>\n",
       "      <td>0.022484</td>\n",
       "      <td>0.038544</td>\n",
       "      <td>0.081538</td>\n",
       "      <td>1.0</td>\n",
       "      <td>0.030854</td>\n",
       "      <td>1.0</td>\n",
       "      <td>0</td>\n",
       "      <td>POINT (-82.41501609853275 29.65857013179353)</td>\n",
       "    </tr>\n",
       "    <tr>\n",
       "      <th>1</th>\n",
       "      <td>1</td>\n",
       "      <td>30</td>\n",
       "      <td>29.660371</td>\n",
       "      <td>-82.414990</td>\n",
       "      <td>0.002141</td>\n",
       "      <td>0.005353</td>\n",
       "      <td>1.000000</td>\n",
       "      <td>0.0</td>\n",
       "      <td>1.000000</td>\n",
       "      <td>0.0</td>\n",
       "      <td>0</td>\n",
       "      <td>POINT (-82.4149895039865 29.660371378494247)</td>\n",
       "    </tr>\n",
       "    <tr>\n",
       "      <th>2</th>\n",
       "      <td>2</td>\n",
       "      <td>47</td>\n",
       "      <td>29.654944</td>\n",
       "      <td>-82.413000</td>\n",
       "      <td>0.001071</td>\n",
       "      <td>0.002141</td>\n",
       "      <td>1.000000</td>\n",
       "      <td>0.0</td>\n",
       "      <td>1.000000</td>\n",
       "      <td>0.0</td>\n",
       "      <td>0</td>\n",
       "      <td>POINT (-82.41300040184892 29.654944475167262)</td>\n",
       "    </tr>\n",
       "    <tr>\n",
       "      <th>3</th>\n",
       "      <td>3</td>\n",
       "      <td>48</td>\n",
       "      <td>29.656746</td>\n",
       "      <td>-82.412974</td>\n",
       "      <td>0.004283</td>\n",
       "      <td>0.008565</td>\n",
       "      <td>1.000000</td>\n",
       "      <td>0.0</td>\n",
       "      <td>1.000000</td>\n",
       "      <td>0.0</td>\n",
       "      <td>0</td>\n",
       "      <td>POINT (-82.41297377438231 29.65674571873145)</td>\n",
       "    </tr>\n",
       "    <tr>\n",
       "      <th>4</th>\n",
       "      <td>4</td>\n",
       "      <td>49</td>\n",
       "      <td>29.658547</td>\n",
       "      <td>-82.412947</td>\n",
       "      <td>0.078158</td>\n",
       "      <td>0.100642</td>\n",
       "      <td>1.000000</td>\n",
       "      <td>0.0</td>\n",
       "      <td>1.000000</td>\n",
       "      <td>0.0</td>\n",
       "      <td>1</td>\n",
       "      <td>POINT (-82.41294714602218 29.6585469636598)</td>\n",
       "    </tr>\n",
       "  </tbody>\n",
       "</table>\n",
       "</div>"
      ],
      "text/plain": [
       "   level_0  index   latitude  longitude  departure_rate  arrival_rate  \\\n",
       "0        0     29  29.658570 -82.415016        0.022484      0.038544   \n",
       "1        1     30  29.660371 -82.414990        0.002141      0.005353   \n",
       "2        2     47  29.654944 -82.413000        0.001071      0.002141   \n",
       "3        3     48  29.656746 -82.412974        0.004283      0.008565   \n",
       "4        4     49  29.658547 -82.412947        0.078158      0.100642   \n",
       "\n",
       "   dist_transPOI  num_transPOI  dist_bus_stop  num_bus_stop  rider_test_list  \\\n",
       "0       0.081538           1.0       0.030854           1.0                0   \n",
       "1       1.000000           0.0       1.000000           0.0                0   \n",
       "2       1.000000           0.0       1.000000           0.0                0   \n",
       "3       1.000000           0.0       1.000000           0.0                0   \n",
       "4       1.000000           0.0       1.000000           0.0                1   \n",
       "\n",
       "                                        geometry  \n",
       "0   POINT (-82.41501609853275 29.65857013179353)  \n",
       "1   POINT (-82.4149895039865 29.660371378494247)  \n",
       "2  POINT (-82.41300040184892 29.654944475167262)  \n",
       "3   POINT (-82.41297377438231 29.65674571873145)  \n",
       "4    POINT (-82.41294714602218 29.6585469636598)  "
      ]
     },
     "execution_count": 2,
     "metadata": {},
     "output_type": "execute_result"
    }
   ],
   "source": [
    "fl_city_boundary = gpd.read_file('Map/fl_city_boundary.shp')\n",
    "Gainesville_boundary = fl_city_boundary.loc[fl_city_boundary['NAME'] == 'GAINESVILLE'].reset_index(drop=True)\n",
    "Gainesville_boundary['geometry'] = Gainesville_boundary['geometry'].to_crs('epsg:4326')\n",
    "\n",
    "grid_centroid_gdf = pd.read_csv('grid_centroid_gdf.csv')\n",
    "grid_centroid_gdf = grid_centroid_gdf.drop(columns = {'geometry'}, axis = 1)\n",
    "grid_centroid_gdf['geometry'] = grid_centroid_gdf[['longitude', 'latitude']].values.tolist()\n",
    "grid_centroid_gdf['geometry'] = grid_centroid_gdf['geometry'].apply(Point)\n",
    "\n",
    "grid_centroid_gdf = grid_centroid_gdf.loc[grid_centroid_gdf['departure_rate'] > 0].reset_index()\n",
    "\n",
    "grid_centroid_gdf.head()"
   ]
  },
  {
   "cell_type": "markdown",
   "id": "eb76019d",
   "metadata": {},
   "source": [
    "#### scooter-sharing system configure"
   ]
  },
  {
   "cell_type": "code",
   "execution_count": 3,
   "id": "380e0ff5",
   "metadata": {},
   "outputs": [],
   "source": [
    "service_areas = [] # replace stations\n",
    "for i in range (len(grid_centroid_gdf)):\n",
    "    service_areas.append((i, grid_centroid_gdf.geometry.iloc[i], grid_centroid_gdf.departure_rate.iloc[i], grid_centroid_gdf.arrival_rate.iloc[i]))\n",
    "\n",
    "# Parameter setups for the reward system and elements of the environment.\n",
    "docked_cost_per_deploy = 50/365 # each dock cost 500\n",
    "scooter_cost_per_deploy = 25/365 # each scooter 250\n",
    "no_scooter_penalty = 0.5 # 0.5\n",
    "reward_per_rider = 0.2 # 0.2\n",
    "nS = len(service_areas)\n",
    "equity_penalty = 100.0\n",
    "logistics_car_cost_per_mile = 1.0\n",
    "\n",
    "# dist_transPOI_penalty = 0.5\n",
    "# low_usage_penalty = 1\n",
    "# dist_bus_stop_penalty = 0.2\n",
    "# reward_bus_scooter_coverage = 0.2"
   ]
  },
  {
   "cell_type": "markdown",
   "id": "09b4e97b",
   "metadata": {},
   "source": [
    "#### RL model configure"
   ]
  },
  {
   "cell_type": "code",
   "execution_count": 4,
   "id": "09e74ce5",
   "metadata": {},
   "outputs": [],
   "source": [
    "# Parameter setups for the network and training process.\n",
    "learning_rate = 0.01\n",
    "n_iters = 25\n",
    "n_epochs = 500 # 2000\n",
    "display_step = 50 # 50\n",
    "batch_size = 256\n",
    "gamma = 0.9\n",
    "\n",
    "# The size of the state vector.\n",
    "nS = len(service_areas) # the number of service areas"
   ]
  },
  {
   "cell_type": "markdown",
   "id": "2ce3bd64",
   "metadata": {},
   "source": [
    "## MAX = 2"
   ]
  },
  {
   "cell_type": "code",
   "execution_count": 5,
   "id": "59b3076c",
   "metadata": {},
   "outputs": [
    {
     "name": "stdout",
     "output_type": "stream",
     "text": [
      "Starting policy gradient...\n",
      "Training in progress...\n",
      "Epoch 50, Average reward, unmet demand, met demand, scooter num, scooter loc, wANNR, moran, gini, theil, EMD, centroid change, dispersion change, kl divergence = -59.372, 103.800, 68.800, 144.000, 116.000, 0.429, 0.039, 0.929, 0.053, 1.801, 1.094, -1.496, 1.048\n",
      "Epoch 100, Average reward, unmet demand, met demand, scooter num, scooter loc, wANNR, moran, gini, theil, EMD, centroid change, dispersion change, kl divergence = -60.020, 107.400, 74.200, 144.000, 117.000, 0.432, 0.050, 0.928, 0.052, 1.815, 0.936, -1.558, 1.030\n",
      "Epoch 150, Average reward, unmet demand, met demand, scooter num, scooter loc, wANNR, moran, gini, theil, EMD, centroid change, dispersion change, kl divergence = -60.663, 110.200, 67.000, 127.000, 99.000, 0.403, 0.049, 0.940, 0.057, 1.948, 0.881, -1.760, 1.111\n",
      "Epoch 200, Average reward, unmet demand, met demand, scooter num, scooter loc, wANNR, moran, gini, theil, EMD, centroid change, dispersion change, kl divergence = -68.571, 121.800, 65.800, 141.000, 113.000, 0.425, 0.043, 0.931, 0.054, 1.816, 1.001, -1.582, 1.110\n",
      "Epoch 250, Average reward, unmet demand, met demand, scooter num, scooter loc, wANNR, moran, gini, theil, EMD, centroid change, dispersion change, kl divergence = -62.782, 110.600, 68.800, 143.000, 113.000, 0.431, 0.040, 0.931, 0.055, 1.737, 0.929, -1.481, 1.041\n",
      "Epoch 300, Average reward, unmet demand, met demand, scooter num, scooter loc, wANNR, moran, gini, theil, EMD, centroid change, dispersion change, kl divergence = -61.249, 109.000, 71.800, 142.000, 112.000, 0.426, 0.043, 0.932, 0.056, 1.775, 1.059, -1.490, 1.010\n",
      "Epoch 350, Average reward, unmet demand, met demand, scooter num, scooter loc, wANNR, moran, gini, theil, EMD, centroid change, dispersion change, kl divergence = -68.051, 121.400, 65.600, 141.000, 118.000, 0.425, 0.042, 0.926, 0.048, 1.729, 1.056, -1.437, 1.146\n",
      "Epoch 400, Average reward, unmet demand, met demand, scooter num, scooter loc, wANNR, moran, gini, theil, EMD, centroid change, dispersion change, kl divergence = -63.301, 114.600, 68.400, 134.000, 109.000, 0.414, 0.050, 0.933, 0.052, 1.892, 1.145, -1.606, 1.012\n",
      "Epoch 450, Average reward, unmet demand, met demand, scooter num, scooter loc, wANNR, moran, gini, theil, EMD, centroid change, dispersion change, kl divergence = -61.745, 113.600, 72.400, 131.000, 104.000, 0.409, 0.053, 0.937, 0.055, 1.898, 0.890, -1.617, 0.928\n",
      "Epoch 500, Average reward, unmet demand, met demand, scooter num, scooter loc, wANNR, moran, gini, theil, EMD, centroid change, dispersion change, kl divergence = -58.376, 103.200, 75.000, 147.000, 117.000, 0.433, 0.048, 0.928, 0.055, 1.796, 0.882, -1.508, 1.081\n"
     ]
    }
   ],
   "source": [
    "## tf.reset_default_graph() only works under tf 1.0\n",
    "max_scooter_per_area = 2\n",
    "\n",
    "# Set up the state-value estimator and policy estimator\n",
    "estimator_policy = PolicyEstimator(learning_rate, nS)\n",
    "estimator_value = StateValueEstimator(learning_rate, nS)\n",
    "\n",
    "# Initialize study area\n",
    "study_area = create_study_area(service_areas, max_scooter_per_area, scooter_cost_per_deploy, docked_cost_per_deploy, \\\n",
    "                   nS, no_scooter_penalty, reward_per_rider, equity_penalty, logistics_car_cost_per_mile)\n",
    "\n",
    "# Add ops to save and restore all the variables\n",
    "\n",
    "print(\"Starting policy gradient...\")\n",
    "\n",
    "# Start training\n",
    "print(\"Training in progress...\")\n",
    "avg_reward_max_2, avg_unmet_demand_max_2, avg_met_demand_max_2, avg_scooter_num_max_2, avg_scooter_loc_max_2, avg_wANNR_max_2, avg_moran_max_2, avg_gini_max_2, avg_theil_max_2, avg_EMD_max_2, avg_centroid_max_2, avg_dispersion_max_2, avg_kl_max_2, scooter_list_max_2 = reinforce(study_area, nS, estimator_policy, estimator_value, n_epochs, n_iters, batch_size, display_step)"
   ]
  },
  {
   "cell_type": "markdown",
   "id": "d19ab151",
   "metadata": {},
   "source": [
    "## MAX = 3"
   ]
  },
  {
   "cell_type": "code",
   "execution_count": 6,
   "id": "ff1854b9",
   "metadata": {},
   "outputs": [
    {
     "name": "stdout",
     "output_type": "stream",
     "text": [
      "Starting policy gradient...\n",
      "Training in progress...\n",
      "Epoch 50, Average reward, unmet demand, met demand, scooter num, scooter loc, wANNR, moran, gini, theil, EMD, centroid change, dispersion change, kl divergence = -55.435, 94.600, 81.000, 157.000, 110.000, 0.448, 0.050, 0.939, 0.106, 1.933, 0.962, -1.716, 0.875\n",
      "Epoch 100, Average reward, unmet demand, met demand, scooter num, scooter loc, wANNR, moran, gini, theil, EMD, centroid change, dispersion change, kl divergence = -54.277, 95.400, 83.600, 153.000, 113.000, 0.442, 0.047, 0.936, 0.104, 1.902, 0.893, -1.659, 0.897\n",
      "Epoch 150, Average reward, unmet demand, met demand, scooter num, scooter loc, wANNR, moran, gini, theil, EMD, centroid change, dispersion change, kl divergence = -50.583, 85.600, 82.200, 154.000, 103.000, 0.444, 0.041, 0.944, 0.115, 1.874, 0.970, -1.621, 0.867\n",
      "Epoch 200, Average reward, unmet demand, met demand, scooter num, scooter loc, wANNR, moran, gini, theil, EMD, centroid change, dispersion change, kl divergence = -58.743, 101.200, 82.600, 160.000, 114.000, 0.452, 0.046, 0.936, 0.109, 1.942, 1.005, -1.711, 0.873\n",
      "Epoch 250, Average reward, unmet demand, met demand, scooter num, scooter loc, wANNR, moran, gini, theil, EMD, centroid change, dispersion change, kl divergence = -58.441, 103.200, 83.000, 153.000, 111.000, 0.442, 0.051, 0.936, 0.090, 1.933, 1.018, -1.660, 0.920\n",
      "Epoch 300, Average reward, unmet demand, met demand, scooter num, scooter loc, wANNR, moran, gini, theil, EMD, centroid change, dispersion change, kl divergence = -59.413, 103.600, 70.000, 142.000, 105.000, 0.430, 0.047, 0.939, 0.085, 1.864, 0.980, -1.543, 1.110\n",
      "Epoch 350, Average reward, unmet demand, met demand, scooter num, scooter loc, wANNR, moran, gini, theil, EMD, centroid change, dispersion change, kl divergence = -55.080, 92.400, 81.800, 160.000, 106.000, 0.452, 0.060, 0.941, 0.102, 2.077, 0.921, -1.844, 0.892\n",
      "Epoch 400, Average reward, unmet demand, met demand, scooter num, scooter loc, wANNR, moran, gini, theil, EMD, centroid change, dispersion change, kl divergence = -61.157, 106.800, 83.000, 155.000, 104.000, 0.445, 0.052, 0.943, 0.108, 2.030, 0.975, -1.832, 0.803\n",
      "Epoch 450, Average reward, unmet demand, met demand, scooter num, scooter loc, wANNR, moran, gini, theil, EMD, centroid change, dispersion change, kl divergence = -61.436, 105.000, 81.000, 163.000, 116.000, 0.459, 0.047, 0.935, 0.105, 1.859, 1.021, -1.584, 0.897\n",
      "Epoch 500, Average reward, unmet demand, met demand, scooter num, scooter loc, wANNR, moran, gini, theil, EMD, centroid change, dispersion change, kl divergence = -66.534, 115.600, 72.400, 154.000, 117.000, 0.444, 0.036, 0.932, 0.096, 1.690, 0.909, -1.432, 1.054\n"
     ]
    }
   ],
   "source": [
    "## tf.reset_default_graph() only works under tf 1.0\n",
    "max_scooter_per_area = 3\n",
    "\n",
    "# Set up the state-value estimator and policy estimator\n",
    "estimator_policy = PolicyEstimator(learning_rate, nS)\n",
    "estimator_value = StateValueEstimator(learning_rate, nS)\n",
    "\n",
    "# Initialize study area\n",
    "study_area = create_study_area(service_areas, max_scooter_per_area, scooter_cost_per_deploy, docked_cost_per_deploy, \\\n",
    "                   nS, no_scooter_penalty, reward_per_rider, equity_penalty, logistics_car_cost_per_mile)\n",
    "\n",
    "# Add ops to save and restore all the variables\n",
    "\n",
    "print(\"Starting policy gradient...\")\n",
    "\n",
    "# Start training\n",
    "print(\"Training in progress...\")\n",
    "avg_reward_max_3, avg_unmet_demand_max_3, avg_met_demand_max_3, avg_scooter_num_max_3, avg_scooter_loc_max_3, avg_wANNR_max_3, avg_moran_max_3, avg_gini_max_3, avg_theil_max_3, avg_EMD_max_3, avg_centroid_max_3, avg_dispersion_max_3, avg_kl_max_3, scooter_list_max_3 = reinforce(study_area, nS, estimator_policy, estimator_value, n_epochs, n_iters, batch_size, display_step)"
   ]
  },
  {
   "cell_type": "markdown",
   "id": "327c6bf5",
   "metadata": {},
   "source": [
    "## MAX = 4"
   ]
  },
  {
   "cell_type": "code",
   "execution_count": 7,
   "id": "64b7497f",
   "metadata": {},
   "outputs": [
    {
     "name": "stdout",
     "output_type": "stream",
     "text": [
      "Starting policy gradient...\n",
      "Training in progress...\n",
      "Epoch 50, Average reward, unmet demand, met demand, scooter num, scooter loc, wANNR, moran, gini, theil, EMD, centroid change, dispersion change, kl divergence = -56.447, 94.200, 82.800, 165.000, 111.000, 0.459, 0.045, 0.941, 0.145, 1.858, 0.914, -1.532, 0.870\n",
      "Epoch 100, Average reward, unmet demand, met demand, scooter num, scooter loc, wANNR, moran, gini, theil, EMD, centroid change, dispersion change, kl divergence = -58.136, 95.000, 85.800, 177.000, 119.000, 0.478, 0.045, 0.936, 0.135, 1.919, 1.088, -1.681, 0.960\n",
      "Epoch 150, Average reward, unmet demand, met demand, scooter num, scooter loc, wANNR, moran, gini, theil, EMD, centroid change, dispersion change, kl divergence = -58.978, 106.600, 88.000, 148.000, 99.000, 0.435, 0.034, 0.948, 0.154, 1.850, 0.867, -1.641, 0.803\n",
      "Epoch 200, Average reward, unmet demand, met demand, scooter num, scooter loc, wANNR, moran, gini, theil, EMD, centroid change, dispersion change, kl divergence = -57.877, 103.600, 91.400, 155.000, 104.000, 0.445, 0.045, 0.944, 0.146, 2.031, 1.041, -1.825, 0.796\n",
      "Epoch 250, Average reward, unmet demand, met demand, scooter num, scooter loc, wANNR, moran, gini, theil, EMD, centroid change, dispersion change, kl divergence = -52.811, 88.000, 84.400, 165.000, 114.000, 0.459, 0.055, 0.937, 0.118, 2.024, 0.875, -1.839, 0.807\n",
      "Epoch 300, Average reward, unmet demand, met demand, scooter num, scooter loc, wANNR, moran, gini, theil, EMD, centroid change, dispersion change, kl divergence = -54.710, 93.800, 85.400, 159.000, 108.000, 0.451, 0.040, 0.942, 0.144, 1.873, 0.995, -1.654, 0.845\n",
      "Epoch 350, Average reward, unmet demand, met demand, scooter num, scooter loc, wANNR, moran, gini, theil, EMD, centroid change, dispersion change, kl divergence = -56.880, 99.400, 81.000, 152.000, 109.000, 0.441, 0.040, 0.940, 0.133, 1.821, 0.885, -1.533, 0.895\n",
      "Epoch 400, Average reward, unmet demand, met demand, scooter num, scooter loc, wANNR, moran, gini, theil, EMD, centroid change, dispersion change, kl divergence = -58.467, 100.000, 87.000, 162.000, 103.000, 0.455, 0.045, 0.946, 0.157, 1.992, 0.952, -1.761, 0.833\n",
      "Epoch 450, Average reward, unmet demand, met demand, scooter num, scooter loc, wANNR, moran, gini, theil, EMD, centroid change, dispersion change, kl divergence = -60.160, 105.200, 86.600, 160.000, 111.000, 0.452, 0.041, 0.939, 0.123, 1.866, 1.013, -1.662, 0.854\n",
      "Epoch 500, Average reward, unmet demand, met demand, scooter num, scooter loc, wANNR, moran, gini, theil, EMD, centroid change, dispersion change, kl divergence = -55.514, 95.000, 88.800, 164.000, 110.000, 0.458, 0.041, 0.941, 0.142, 1.904, 1.022, -1.650, 0.741\n"
     ]
    }
   ],
   "source": [
    "## tf.reset_default_graph() only works under tf 1.0\n",
    "max_scooter_per_area = 4\n",
    "\n",
    "# Set up the state-value estimator and policy estimator\n",
    "estimator_policy = PolicyEstimator(learning_rate, nS)\n",
    "estimator_value = StateValueEstimator(learning_rate, nS)\n",
    "\n",
    "# Initialize study area\n",
    "study_area = create_study_area(service_areas, max_scooter_per_area, scooter_cost_per_deploy, docked_cost_per_deploy, \\\n",
    "                   nS, no_scooter_penalty, reward_per_rider, equity_penalty, logistics_car_cost_per_mile)\n",
    "\n",
    "# Add ops to save and restore all the variables\n",
    "\n",
    "print(\"Starting policy gradient...\")\n",
    "\n",
    "# Start training\n",
    "print(\"Training in progress...\")\n",
    "avg_reward_max_4, avg_unmet_demand_max_4, avg_met_demand_max_4, avg_scooter_num_max_4, avg_scooter_loc_max_4, avg_wANNR_max_4, avg_moran_max_4, avg_gini_max_4, avg_theil_max_4, avg_EMD_max_4, avg_centroid_max_4, avg_dispersion_max_4, avg_kl_max_4, scooter_list_max_4 = reinforce(study_area, nS, estimator_policy, estimator_value, n_epochs, n_iters, batch_size, display_step)"
   ]
  },
  {
   "cell_type": "markdown",
   "id": "c37f7c91",
   "metadata": {},
   "source": [
    "## MAX = 5"
   ]
  },
  {
   "cell_type": "code",
   "execution_count": 8,
   "id": "88fdef7a",
   "metadata": {},
   "outputs": [
    {
     "name": "stdout",
     "output_type": "stream",
     "text": [
      "Starting policy gradient...\n",
      "Training in progress...\n",
      "Epoch 50, Average reward, unmet demand, met demand, scooter num, scooter loc, wANNR, moran, gini, theil, EMD, centroid change, dispersion change, kl divergence = -57.758, 92.600, 81.800, 175.000, 113.000, 0.474, 0.037, 0.941, 0.151, 1.822, 0.844, -1.583, 0.951\n",
      "Epoch 100, Average reward, unmet demand, met demand, scooter num, scooter loc, wANNR, moran, gini, theil, EMD, centroid change, dispersion change, kl divergence = -54.870, 92.000, 85.600, 164.000, 107.000, 0.458, 0.043, 0.944, 0.174, 1.902, 1.016, -1.569, 0.829\n",
      "Epoch 150, Average reward, unmet demand, met demand, scooter num, scooter loc, wANNR, moran, gini, theil, EMD, centroid change, dispersion change, kl divergence = -62.874, 108.600, 87.800, 164.000, 105.000, 0.458, 0.045, 0.945, 0.154, 2.047, 0.952, -1.847, 0.823\n",
      "Epoch 200, Average reward, unmet demand, met demand, scooter num, scooter loc, wANNR, moran, gini, theil, EMD, centroid change, dispersion change, kl divergence = -62.006, 106.400, 91.000, 170.000, 110.000, 0.467, 0.042, 0.943, 0.172, 1.939, 0.966, -1.697, 0.885\n",
      "Epoch 250, Average reward, unmet demand, met demand, scooter num, scooter loc, wANNR, moran, gini, theil, EMD, centroid change, dispersion change, kl divergence = -58.636, 97.200, 88.600, 174.000, 111.000, 0.472, 0.051, 0.942, 0.157, 2.046, 0.972, -1.802, 0.748\n",
      "Epoch 300, Average reward, unmet demand, met demand, scooter num, scooter loc, wANNR, moran, gini, theil, EMD, centroid change, dispersion change, kl divergence = -50.493, 83.800, 87.800, 169.000, 119.000, 0.465, 0.045, 0.935, 0.142, 1.880, 0.977, -1.622, 0.854\n",
      "Epoch 350, Average reward, unmet demand, met demand, scooter num, scooter loc, wANNR, moran, gini, theil, EMD, centroid change, dispersion change, kl divergence = -53.304, 90.400, 90.000, 160.000, 94.000, 0.452, 0.043, 0.953, 0.179, 2.085, 1.034, -1.852, 0.797\n",
      "Epoch 400, Average reward, unmet demand, met demand, scooter num, scooter loc, wANNR, moran, gini, theil, EMD, centroid change, dispersion change, kl divergence = -54.310, 91.800, 80.400, 156.000, 105.000, 0.447, 0.049, 0.943, 0.136, 2.095, 0.925, -1.956, 0.859\n",
      "Epoch 450, Average reward, unmet demand, met demand, scooter num, scooter loc, wANNR, moran, gini, theil, EMD, centroid change, dispersion change, kl divergence = -60.074, 103.600, 80.000, 156.000, 108.000, 0.447, 0.042, 0.942, 0.168, 1.951, 1.025, -1.671, 0.865\n",
      "Epoch 500, Average reward, unmet demand, met demand, scooter num, scooter loc, wANNR, moran, gini, theil, EMD, centroid change, dispersion change, kl divergence = -55.564, 96.600, 88.600, 157.000, 101.000, 0.448, 0.046, 0.948, 0.175, 2.135, 0.927, -1.981, 0.795\n"
     ]
    }
   ],
   "source": [
    "## tf.reset_default_graph() only works under tf 1.0\n",
    "max_scooter_per_area = 5\n",
    "\n",
    "# Set up the state-value estimator and policy estimator\n",
    "estimator_policy = PolicyEstimator(learning_rate, nS)\n",
    "estimator_value = StateValueEstimator(learning_rate, nS)\n",
    "\n",
    "# Initialize study area\n",
    "study_area = create_study_area(service_areas, max_scooter_per_area, scooter_cost_per_deploy, docked_cost_per_deploy, \\\n",
    "                   nS, no_scooter_penalty, reward_per_rider, equity_penalty, logistics_car_cost_per_mile)\n",
    "\n",
    "# Add ops to save and restore all the variables\n",
    "\n",
    "print(\"Starting policy gradient...\")\n",
    "\n",
    "# Start training\n",
    "print(\"Training in progress...\")\n",
    "avg_reward_max_5, avg_unmet_demand_max_5, avg_met_demand_max_5, avg_scooter_num_max_5, avg_scooter_loc_max_5, avg_wANNR_max_5, avg_moran_max_5, avg_gini_max_5, avg_theil_max_5, avg_EMD_max_5, avg_centroid_max_5, avg_dispersion_max_5, avg_kl_max_5, scooter_list_max_5 = reinforce(study_area, nS, estimator_policy, estimator_value, n_epochs, n_iters, batch_size, display_step)"
   ]
  },
  {
   "cell_type": "markdown",
   "id": "1ba3f84b",
   "metadata": {},
   "source": [
    "## MAX = 6"
   ]
  },
  {
   "cell_type": "code",
   "execution_count": 9,
   "id": "5de8377d",
   "metadata": {},
   "outputs": [
    {
     "name": "stdout",
     "output_type": "stream",
     "text": [
      "Starting policy gradient...\n",
      "Training in progress...\n",
      "Epoch 50, Average reward, unmet demand, met demand, scooter num, scooter loc, wANNR, moran, gini, theil, EMD, centroid change, dispersion change, kl divergence = -54.310, 86.400, 95.200, 186.000, 112.000, 0.488, 0.043, 0.943, 0.172, 1.909, 0.912, -1.636, 0.884\n",
      "Epoch 100, Average reward, unmet demand, met demand, scooter num, scooter loc, wANNR, moran, gini, theil, EMD, centroid change, dispersion change, kl divergence = -55.498, 90.800, 92.600, 181.000, 119.000, 0.484, 0.046, 0.938, 0.176, 1.959, 0.946, -1.751, 0.774\n",
      "Epoch 150, Average reward, unmet demand, met demand, scooter num, scooter loc, wANNR, moran, gini, theil, EMD, centroid change, dispersion change, kl divergence = -53.595, 86.600, 85.200, 173.000, 114.000, 0.470, 0.043, 0.939, 0.148, 1.899, 0.837, -1.619, 0.829\n",
      "Epoch 200, Average reward, unmet demand, met demand, scooter num, scooter loc, wANNR, moran, gini, theil, EMD, centroid change, dispersion change, kl divergence = -58.640, 98.200, 90.000, 174.000, 114.000, 0.473, 0.040, 0.940, 0.160, 1.877, 0.919, -1.625, 0.845\n",
      "Epoch 250, Average reward, unmet demand, met demand, scooter num, scooter loc, wANNR, moran, gini, theil, EMD, centroid change, dispersion change, kl divergence = -53.773, 87.400, 84.200, 172.000, 117.000, 0.469, 0.048, 0.938, 0.171, 1.998, 0.974, -1.750, 0.776\n",
      "Epoch 300, Average reward, unmet demand, met demand, scooter num, scooter loc, wANNR, moran, gini, theil, EMD, centroid change, dispersion change, kl divergence = -55.678, 96.400, 92.200, 164.000, 108.000, 0.461, 0.040, 0.944, 0.177, 1.935, 0.899, -1.696, 0.897\n",
      "Epoch 350, Average reward, unmet demand, met demand, scooter num, scooter loc, wANNR, moran, gini, theil, EMD, centroid change, dispersion change, kl divergence = -54.416, 92.000, 83.400, 160.000, 108.000, 0.452, 0.045, 0.943, 0.155, 1.908, 0.788, -1.591, 0.775\n",
      "Epoch 400, Average reward, unmet demand, met demand, scooter num, scooter loc, wANNR, moran, gini, theil, EMD, centroid change, dispersion change, kl divergence = -54.704, 93.200, 84.400, 157.000, 101.000, 0.448, 0.034, 0.949, 0.195, 1.901, 1.003, -1.671, 0.869\n",
      "Epoch 450, Average reward, unmet demand, met demand, scooter num, scooter loc, wANNR, moran, gini, theil, EMD, centroid change, dispersion change, kl divergence = -59.288, 100.600, 77.000, 152.000, 95.000, 0.441, 0.039, 0.950, 0.152, 2.064, 0.991, -1.919, 0.961\n",
      "Epoch 500, Average reward, unmet demand, met demand, scooter num, scooter loc, wANNR, moran, gini, theil, EMD, centroid change, dispersion change, kl divergence = -56.364, 94.000, 89.600, 171.000, 109.000, 0.467, 0.049, 0.943, 0.157, 1.977, 1.064, -1.700, 0.778\n"
     ]
    }
   ],
   "source": [
    "## tf.reset_default_graph() only works under tf 1.0\n",
    "max_scooter_per_area = 6\n",
    "\n",
    "# Set up the state-value estimator and policy estimator\n",
    "estimator_policy = PolicyEstimator(learning_rate, nS)\n",
    "estimator_value = StateValueEstimator(learning_rate, nS)\n",
    "\n",
    "# Initialize study area\n",
    "study_area = create_study_area(service_areas, max_scooter_per_area, scooter_cost_per_deploy, docked_cost_per_deploy, \\\n",
    "                   nS, no_scooter_penalty, reward_per_rider, equity_penalty, logistics_car_cost_per_mile)\n",
    "\n",
    "# Add ops to save and restore all the variables\n",
    "\n",
    "print(\"Starting policy gradient...\")\n",
    "\n",
    "# Start training\n",
    "print(\"Training in progress...\")\n",
    "avg_reward_max_6, avg_unmet_demand_max_6, avg_met_demand_max_6, avg_scooter_num_max_6, avg_scooter_loc_max_6, avg_wANNR_max_6, avg_moran_max_6, avg_gini_max_6, avg_theil_max_6, avg_EMD_max_6, avg_centroid_max_6, avg_dispersion_max_6, avg_kl_max_6, scooter_list_max_6 = reinforce(study_area, nS, estimator_policy, estimator_value, n_epochs, n_iters, batch_size, display_step)"
   ]
  },
  {
   "cell_type": "markdown",
   "id": "0c0df756",
   "metadata": {},
   "source": [
    "## MAX = 7"
   ]
  },
  {
   "cell_type": "code",
   "execution_count": 10,
   "id": "7927ff81",
   "metadata": {},
   "outputs": [
    {
     "name": "stdout",
     "output_type": "stream",
     "text": [
      "Starting policy gradient...\n",
      "Training in progress...\n",
      "Epoch 50, Average reward, unmet demand, met demand, scooter num, scooter loc, wANNR, moran, gini, theil, EMD, centroid change, dispersion change, kl divergence = -56.501, 92.800, 93.000, 180.000, 115.000, 0.480, 0.043, 0.941, 0.191, 1.893, 0.945, -1.644, 0.856\n",
      "Epoch 100, Average reward, unmet demand, met demand, scooter num, scooter loc, wANNR, moran, gini, theil, EMD, centroid change, dispersion change, kl divergence = -56.238, 93.200, 87.200, 170.000, 109.000, 0.466, 0.041, 0.944, 0.185, 1.938, 1.003, -1.706, 0.863\n",
      "Epoch 150, Average reward, unmet demand, met demand, scooter num, scooter loc, wANNR, moran, gini, theil, EMD, centroid change, dispersion change, kl divergence = -58.999, 96.200, 90.400, 181.000, 114.000, 0.481, 0.036, 0.943, 0.223, 1.832, 0.888, -1.546, 0.867\n",
      "Epoch 200, Average reward, unmet demand, met demand, scooter num, scooter loc, wANNR, moran, gini, theil, EMD, centroid change, dispersion change, kl divergence = -53.906, 88.400, 89.800, 169.000, 98.000, 0.465, 0.040, 0.951, 0.195, 2.072, 0.969, -1.891, 0.755\n",
      "Epoch 250, Average reward, unmet demand, met demand, scooter num, scooter loc, wANNR, moran, gini, theil, EMD, centroid change, dispersion change, kl divergence = -55.627, 94.800, 90.400, 168.000, 114.000, 0.463, 0.040, 0.940, 0.192, 1.876, 0.932, -1.571, 0.934\n",
      "Epoch 300, Average reward, unmet demand, met demand, scooter num, scooter loc, wANNR, moran, gini, theil, EMD, centroid change, dispersion change, kl divergence = -56.724, 97.600, 79.600, 149.000, 94.000, 0.436, 0.034, 0.952, 0.192, 2.052, 1.113, -1.808, 0.868\n",
      "Epoch 350, Average reward, unmet demand, met demand, scooter num, scooter loc, wANNR, moran, gini, theil, EMD, centroid change, dispersion change, kl divergence = -55.435, 91.000, 92.600, 176.000, 107.000, 0.474, 0.047, 0.946, 0.180, 2.051, 0.957, -1.803, 0.815\n",
      "Epoch 400, Average reward, unmet demand, met demand, scooter num, scooter loc, wANNR, moran, gini, theil, EMD, centroid change, dispersion change, kl divergence = -56.555, 94.000, 85.000, 165.000, 102.000, 0.459, 0.038, 0.950, 0.225, 2.049, 0.960, -1.827, 0.833\n",
      "Epoch 450, Average reward, unmet demand, met demand, scooter num, scooter loc, wANNR, moran, gini, theil, EMD, centroid change, dispersion change, kl divergence = -55.795, 89.200, 90.000, 181.000, 111.000, 0.481, 0.040, 0.945, 0.206, 1.995, 0.942, -1.786, 0.805\n",
      "Epoch 500, Average reward, unmet demand, met demand, scooter num, scooter loc, wANNR, moran, gini, theil, EMD, centroid change, dispersion change, kl divergence = -56.513, 92.600, 90.800, 177.000, 111.000, 0.476, 0.038, 0.942, 0.154, 1.914, 1.033, -1.673, 0.844\n"
     ]
    }
   ],
   "source": [
    "## tf.reset_default_graph() only works under tf 1.0\n",
    "max_scooter_per_area = 7\n",
    "\n",
    "# Set up the state-value estimator and policy estimator\n",
    "estimator_policy = PolicyEstimator(learning_rate, nS)\n",
    "estimator_value = StateValueEstimator(learning_rate, nS)\n",
    "\n",
    "# Initialize study area\n",
    "study_area = create_study_area(service_areas, max_scooter_per_area, scooter_cost_per_deploy, docked_cost_per_deploy, \\\n",
    "                   nS, no_scooter_penalty, reward_per_rider, equity_penalty, logistics_car_cost_per_mile)\n",
    "\n",
    "# Add ops to save and restore all the variables\n",
    "\n",
    "print(\"Starting policy gradient...\")\n",
    "\n",
    "# Start training\n",
    "print(\"Training in progress...\")\n",
    "avg_reward_max_7, avg_unmet_demand_max_7, avg_met_demand_max_7, avg_scooter_num_max_7, avg_scooter_loc_max_7, avg_wANNR_max_7, avg_moran_max_7, avg_gini_max_7, avg_theil_max_7, avg_EMD_max_7, avg_centroid_max_7, avg_dispersion_max_7, avg_kl_max_7, scooter_list_max_7 = reinforce(study_area, nS, estimator_policy, estimator_value, n_epochs, n_iters, batch_size, display_step)"
   ]
  },
  {
   "cell_type": "markdown",
   "id": "93e0783a",
   "metadata": {},
   "source": [
    "## MAX = 8"
   ]
  },
  {
   "cell_type": "code",
   "execution_count": 60,
   "id": "36be398b",
   "metadata": {},
   "outputs": [
    {
     "name": "stdout",
     "output_type": "stream",
     "text": [
      "Starting policy gradient...\n",
      "Training in progress...\n",
      "Epoch 50, Average reward, unmet demand, met demand, scooter num, scooter loc, wANNR, moran, gini, theil, EMD, centroid change, dispersion change, kl divergence = -52.095, 82.600, 97.800, 187.000, 112.000, 0.495, 0.046, 0.945, 0.216, 2.118, 0.853, -1.888, 0.690\n",
      "Epoch 100, Average reward, unmet demand, met demand, scooter num, scooter loc, wANNR, moran, gini, theil, EMD, centroid change, dispersion change, kl divergence = -56.789, 92.800, 89.200, 177.000, 113.000, 0.476, 0.042, 0.942, 0.175, 1.944, 0.939, -1.718, 0.783\n",
      "Epoch 150, Average reward, unmet demand, met demand, scooter num, scooter loc, wANNR, moran, gini, theil, EMD, centroid change, dispersion change, kl divergence = -55.306, 94.000, 84.000, 159.000, 105.000, 0.451, 0.035, 0.945, 0.172, 1.955, 1.001, -1.719, 0.942\n",
      "Epoch 200, Average reward, unmet demand, met demand, scooter num, scooter loc, wANNR, moran, gini, theil, EMD, centroid change, dispersion change, kl divergence = -57.999, 98.000, 92.400, 173.000, 112.000, 0.470, 0.042, 0.943, 0.195, 1.913, 1.013, -1.563, 0.897\n",
      "Epoch 250, Average reward, unmet demand, met demand, scooter num, scooter loc, wANNR, moran, gini, theil, EMD, centroid change, dispersion change, kl divergence = -57.617, 96.000, 86.800, 166.000, 99.000, 0.464, 0.038, 0.952, 0.234, 2.107, 0.740, -1.948, 0.852\n",
      "Epoch 300, Average reward, unmet demand, met demand, scooter num, scooter loc, wANNR, moran, gini, theil, EMD, centroid change, dispersion change, kl divergence = -55.304, 88.400, 88.400, 179.000, 111.000, 0.478, 0.034, 0.945, 0.220, 1.906, 1.007, -1.697, 0.767\n",
      "Epoch 350, Average reward, unmet demand, met demand, scooter num, scooter loc, wANNR, moran, gini, theil, EMD, centroid change, dispersion change, kl divergence = -54.819, 89.000, 84.000, 173.000, 117.000, 0.470, 0.042, 0.939, 0.183, 1.934, 1.013, -1.703, 0.780\n",
      "Epoch 400, Average reward, unmet demand, met demand, scooter num, scooter loc, wANNR, moran, gini, theil, EMD, centroid change, dispersion change, kl divergence = -55.855, 96.000, 82.200, 154.000, 102.000, 0.447, 0.035, 0.947, 0.176, 1.952, 0.972, -1.748, 0.758\n",
      "Epoch 450, Average reward, unmet demand, met demand, scooter num, scooter loc, wANNR, moran, gini, theil, EMD, centroid change, dispersion change, kl divergence = -53.874, 88.800, 92.800, 175.000, 110.000, 0.473, 0.041, 0.945, 0.204, 2.013, 0.988, -1.808, 0.795\n",
      "Epoch 500, Average reward, unmet demand, met demand, scooter num, scooter loc, wANNR, moran, gini, theil, EMD, centroid change, dispersion change, kl divergence = -54.431, 88.800, 89.400, 173.000, 106.000, 0.470, 0.038, 0.947, 0.202, 1.900, 1.020, -1.605, 0.815\n"
     ]
    }
   ],
   "source": [
    "## tf.reset_default_graph() only works under tf 1.0\n",
    "max_scooter_per_area = 8\n",
    "\n",
    "# Set up the state-value estimator and policy estimator\n",
    "estimator_policy = PolicyEstimator(learning_rate, nS)\n",
    "estimator_value = StateValueEstimator(learning_rate, nS)\n",
    "\n",
    "# Initialize study area\n",
    "study_area = create_study_area(service_areas, max_scooter_per_area, scooter_cost_per_deploy, docked_cost_per_deploy, \\\n",
    "                   nS, no_scooter_penalty, reward_per_rider, equity_penalty, logistics_car_cost_per_mile)\n",
    "\n",
    "# Add ops to save and restore all the variables\n",
    "\n",
    "print(\"Starting policy gradient...\")\n",
    "\n",
    "# Start training\n",
    "print(\"Training in progress...\")\n",
    "avg_reward_max_8, avg_unmet_demand_max_8, avg_met_demand_max_8, avg_scooter_num_max_8, avg_scooter_loc_max_8, avg_wANNR_max_8, avg_moran_max_8, avg_gini_max_8, avg_theil_max_8, avg_EMD_max_8, avg_centroid_max_8, avg_dispersion_max_8, avg_kl_max_8, scooter_list_max_8 = reinforce(study_area, nS, estimator_policy, estimator_value, n_epochs, n_iters, batch_size, display_step)"
   ]
  },
  {
   "cell_type": "markdown",
   "id": "e083ec22",
   "metadata": {},
   "source": [
    "## MAX = 9"
   ]
  },
  {
   "cell_type": "code",
   "execution_count": 12,
   "id": "19adfab7",
   "metadata": {},
   "outputs": [
    {
     "name": "stdout",
     "output_type": "stream",
     "text": [
      "Starting policy gradient...\n",
      "Training in progress...\n",
      "Epoch 50, Average reward, unmet demand, met demand, scooter num, scooter loc, wANNR, moran, gini, theil, EMD, centroid change, dispersion change, kl divergence = -57.948, 95.600, 82.600, 168.000, 109.000, 0.466, 0.039, 0.944, 0.180, 2.002, 1.062, -1.754, 0.825\n",
      "Epoch 100, Average reward, unmet demand, met demand, scooter num, scooter loc, wANNR, moran, gini, theil, EMD, centroid change, dispersion change, kl divergence = -54.239, 88.000, 90.000, 176.000, 110.000, 0.474, 0.044, 0.944, 0.192, 2.057, 1.030, -1.889, 0.714\n",
      "Epoch 150, Average reward, unmet demand, met demand, scooter num, scooter loc, wANNR, moran, gini, theil, EMD, centroid change, dispersion change, kl divergence = -53.827, 91.000, 82.000, 154.000, 96.000, 0.444, 0.046, 0.951, 0.180, 2.132, 0.918, -1.923, 0.904\n",
      "Epoch 200, Average reward, unmet demand, met demand, scooter num, scooter loc, wANNR, moran, gini, theil, EMD, centroid change, dispersion change, kl divergence = -57.601, 94.400, 99.000, 188.000, 117.000, 0.490, 0.040, 0.942, 0.213, 1.945, 0.874, -1.719, 0.788\n",
      "Epoch 250, Average reward, unmet demand, met demand, scooter num, scooter loc, wANNR, moran, gini, theil, EMD, centroid change, dispersion change, kl divergence = -57.078, 96.800, 88.000, 164.000, 103.000, 0.461, 0.037, 0.948, 0.187, 1.978, 0.931, -1.796, 0.815\n",
      "Epoch 300, Average reward, unmet demand, met demand, scooter num, scooter loc, wANNR, moran, gini, theil, EMD, centroid change, dispersion change, kl divergence = -57.168, 94.600, 87.800, 171.000, 107.000, 0.468, 0.041, 0.946, 0.197, 2.125, 1.012, -1.963, 0.801\n",
      "Epoch 350, Average reward, unmet demand, met demand, scooter num, scooter loc, wANNR, moran, gini, theil, EMD, centroid change, dispersion change, kl divergence = -56.396, 94.000, 89.800, 171.000, 108.000, 0.469, 0.034, 0.945, 0.188, 1.877, 0.908, -1.614, 0.892\n",
      "Epoch 400, Average reward, unmet demand, met demand, scooter num, scooter loc, wANNR, moran, gini, theil, EMD, centroid change, dispersion change, kl divergence = -56.238, 96.600, 84.200, 156.000, 101.000, 0.447, 0.035, 0.949, 0.204, 2.011, 1.074, -1.775, 0.819\n",
      "Epoch 450, Average reward, unmet demand, met demand, scooter num, scooter loc, wANNR, moran, gini, theil, EMD, centroid change, dispersion change, kl divergence = -54.460, 90.000, 90.200, 171.000, 106.000, 0.468, 0.040, 0.946, 0.179, 1.956, 0.968, -1.716, 0.764\n",
      "Epoch 500, Average reward, unmet demand, met demand, scooter num, scooter loc, wANNR, moran, gini, theil, EMD, centroid change, dispersion change, kl divergence = -54.644, 92.200, 86.000, 160.000, 99.000, 0.452, 0.037, 0.949, 0.169, 1.964, 1.061, -1.696, 0.794\n"
     ]
    }
   ],
   "source": [
    "## tf.reset_default_graph() only works under tf 1.0\n",
    "max_scooter_per_area = 9\n",
    "\n",
    "# Set up the state-value estimator and policy estimator\n",
    "estimator_policy = PolicyEstimator(learning_rate, nS)\n",
    "estimator_value = StateValueEstimator(learning_rate, nS)\n",
    "\n",
    "# Initialize study area\n",
    "study_area = create_study_area(service_areas, max_scooter_per_area, scooter_cost_per_deploy, docked_cost_per_deploy, \\\n",
    "                   nS, no_scooter_penalty, reward_per_rider, equity_penalty, logistics_car_cost_per_mile)\n",
    "\n",
    "# Add ops to save and restore all the variables\n",
    "\n",
    "print(\"Starting policy gradient...\")\n",
    "\n",
    "# Start training\n",
    "print(\"Training in progress...\")\n",
    "avg_reward_max_9, avg_unmet_demand_max_9, avg_met_demand_max_9, avg_scooter_num_max_9, avg_scooter_loc_max_9, avg_wANNR_max_9, avg_moran_max_9, avg_gini_max_9, avg_theil_max_9, avg_EMD_max_9, avg_centroid_max_9, avg_dispersion_max_9, avg_kl_max_9, scooter_list_max_9 = reinforce(study_area, nS, estimator_policy, estimator_value, n_epochs, n_iters, batch_size, display_step)"
   ]
  },
  {
   "cell_type": "markdown",
   "id": "c16ce03b",
   "metadata": {},
   "source": [
    "## MAX = 10"
   ]
  },
  {
   "cell_type": "code",
   "execution_count": 13,
   "id": "3683cc27",
   "metadata": {},
   "outputs": [
    {
     "name": "stdout",
     "output_type": "stream",
     "text": [
      "Starting policy gradient...\n",
      "Training in progress...\n",
      "Epoch 50, Average reward, unmet demand, met demand, scooter num, scooter loc, wANNR, moran, gini, theil, EMD, centroid change, dispersion change, kl divergence = -55.834, 89.400, 92.200, 186.000, 120.000, 0.488, 0.044, 0.939, 0.213, 2.032, 0.960, -1.836, 0.787\n",
      "Epoch 100, Average reward, unmet demand, met demand, scooter num, scooter loc, wANNR, moran, gini, theil, EMD, centroid change, dispersion change, kl divergence = -56.416, 94.400, 98.400, 182.000, 118.000, 0.485, 0.044, 0.938, 0.160, 1.855, 0.934, -1.561, 0.784\n",
      "Epoch 150, Average reward, unmet demand, met demand, scooter num, scooter loc, wANNR, moran, gini, theil, EMD, centroid change, dispersion change, kl divergence = -53.260, 87.600, 92.000, 171.000, 101.000, 0.470, 0.042, 0.950, 0.211, 2.089, 0.912, -1.843, 0.749\n",
      "Epoch 200, Average reward, unmet demand, met demand, scooter num, scooter loc, wANNR, moran, gini, theil, EMD, centroid change, dispersion change, kl divergence = -56.944, 93.800, 88.000, 171.000, 104.000, 0.468, 0.037, 0.949, 0.227, 1.981, 0.941, -1.723, 0.925\n",
      "Epoch 250, Average reward, unmet demand, met demand, scooter num, scooter loc, wANNR, moran, gini, theil, EMD, centroid change, dispersion change, kl divergence = -55.258, 94.000, 78.800, 153.000, 103.000, 0.442, 0.035, 0.946, 0.189, 1.829, 0.806, -1.505, 1.007\n",
      "Epoch 300, Average reward, unmet demand, met demand, scooter num, scooter loc, wANNR, moran, gini, theil, EMD, centroid change, dispersion change, kl divergence = -61.052, 100.000, 82.800, 174.000, 113.000, 0.472, 0.033, 0.942, 0.182, 1.797, 0.882, -1.542, 0.981\n",
      "Epoch 350, Average reward, unmet demand, met demand, scooter num, scooter loc, wANNR, moran, gini, theil, EMD, centroid change, dispersion change, kl divergence = -52.574, 86.000, 100.000, 186.000, 120.000, 0.488, 0.045, 0.939, 0.190, 2.024, 0.880, -1.842, 0.727\n",
      "Epoch 400, Average reward, unmet demand, met demand, scooter num, scooter loc, wANNR, moran, gini, theil, EMD, centroid change, dispersion change, kl divergence = -59.304, 96.600, 83.200, 171.000, 104.000, 0.470, 0.034, 0.948, 0.194, 1.836, 1.001, -1.546, 0.914\n",
      "Epoch 450, Average reward, unmet demand, met demand, scooter num, scooter loc, wANNR, moran, gini, theil, EMD, centroid change, dispersion change, kl divergence = -55.741, 94.200, 92.400, 166.000, 97.000, 0.461, 0.037, 0.952, 0.208, 2.022, 0.900, -1.796, 0.696\n",
      "Epoch 500, Average reward, unmet demand, met demand, scooter num, scooter loc, wANNR, moran, gini, theil, EMD, centroid change, dispersion change, kl divergence = -54.787, 90.600, 91.400, 173.000, 108.000, 0.470, 0.040, 0.947, 0.236, 2.055, 0.914, -1.821, 0.794\n"
     ]
    }
   ],
   "source": [
    "## tf.reset_default_graph() only works under tf 1.0\n",
    "max_scooter_per_area = 10\n",
    "\n",
    "# Set up the state-value estimator and policy estimator\n",
    "estimator_policy = PolicyEstimator(learning_rate, nS)\n",
    "estimator_value = StateValueEstimator(learning_rate, nS)\n",
    "\n",
    "# Initialize study area\n",
    "study_area = create_study_area(service_areas, max_scooter_per_area, scooter_cost_per_deploy, docked_cost_per_deploy, \\\n",
    "                   nS, no_scooter_penalty, reward_per_rider, equity_penalty, logistics_car_cost_per_mile)\n",
    "\n",
    "# Add ops to save and restore all the variables\n",
    "\n",
    "print(\"Starting policy gradient...\")\n",
    "\n",
    "# Start training\n",
    "print(\"Training in progress...\")\n",
    "avg_reward_max_10, avg_unmet_demand_max_10, avg_met_demand_max_10, avg_scooter_num_max_10, avg_scooter_loc_max_10, avg_wANNR_max_10, avg_moran_max_10, avg_gini_max_10, avg_theil_max_10, avg_EMD_max_10, avg_centroid_max_10, avg_dispersion_max_10, avg_kl_max_10, scooter_list_max_10 = reinforce(study_area, nS, estimator_policy, estimator_value, n_epochs, n_iters, batch_size, display_step)"
   ]
  },
  {
   "cell_type": "markdown",
   "id": "dad374e2",
   "metadata": {},
   "source": [
    "## MAX = 11"
   ]
  },
  {
   "cell_type": "code",
   "execution_count": 14,
   "id": "693564e0",
   "metadata": {},
   "outputs": [
    {
     "name": "stdout",
     "output_type": "stream",
     "text": [
      "Starting policy gradient...\n",
      "Training in progress...\n",
      "Epoch 50, Average reward, unmet demand, met demand, scooter num, scooter loc, wANNR, moran, gini, theil, EMD, centroid change, dispersion change, kl divergence = -49.972, 83.200, 92.400, 171.000, 115.000, 0.467, 0.039, 0.940, 0.182, 1.918, 0.999, -1.652, 0.804\n",
      "Epoch 100, Average reward, unmet demand, met demand, scooter num, scooter loc, wANNR, moran, gini, theil, EMD, centroid change, dispersion change, kl divergence = -52.271, 87.400, 87.200, 162.000, 101.000, 0.455, 0.046, 0.948, 0.183, 2.148, 0.969, -1.973, 0.760\n",
      "Epoch 150, Average reward, unmet demand, met demand, scooter num, scooter loc, wANNR, moran, gini, theil, EMD, centroid change, dispersion change, kl divergence = -55.863, 91.800, 95.800, 181.000, 112.000, 0.484, 0.041, 0.943, 0.190, 1.958, 0.951, -1.713, 0.770\n",
      "Epoch 200, Average reward, unmet demand, met demand, scooter num, scooter loc, wANNR, moran, gini, theil, EMD, centroid change, dispersion change, kl divergence = -56.961, 96.000, 89.000, 166.000, 102.000, 0.461, 0.040, 0.949, 0.215, 2.061, 1.061, -1.794, 0.748\n",
      "Epoch 250, Average reward, unmet demand, met demand, scooter num, scooter loc, wANNR, moran, gini, theil, EMD, centroid change, dispersion change, kl divergence = -54.898, 89.600, 88.600, 175.000, 113.000, 0.473, 0.037, 0.943, 0.210, 1.919, 0.790, -1.717, 0.797\n",
      "Epoch 300, Average reward, unmet demand, met demand, scooter num, scooter loc, wANNR, moran, gini, theil, EMD, centroid change, dispersion change, kl divergence = -50.582, 84.000, 91.200, 167.000, 104.000, 0.462, 0.045, 0.946, 0.161, 2.047, 0.948, -1.872, 0.776\n",
      "Epoch 350, Average reward, unmet demand, met demand, scooter num, scooter loc, wANNR, moran, gini, theil, EMD, centroid change, dispersion change, kl divergence = -57.071, 97.200, 93.400, 170.000, 108.000, 0.469, 0.044, 0.944, 0.158, 1.983, 1.027, -1.750, 0.698\n",
      "Epoch 400, Average reward, unmet demand, met demand, scooter num, scooter loc, wANNR, moran, gini, theil, EMD, centroid change, dispersion change, kl divergence = -55.728, 94.200, 92.200, 171.000, 112.000, 0.468, 0.049, 0.942, 0.184, 2.029, 0.918, -1.741, 0.774\n",
      "Epoch 450, Average reward, unmet demand, met demand, scooter num, scooter loc, wANNR, moran, gini, theil, EMD, centroid change, dispersion change, kl divergence = -54.385, 89.000, 97.000, 186.000, 124.000, 0.488, 0.042, 0.936, 0.194, 1.901, 0.786, -1.655, 0.770\n",
      "Epoch 500, Average reward, unmet demand, met demand, scooter num, scooter loc, wANNR, moran, gini, theil, EMD, centroid change, dispersion change, kl divergence = -55.001, 87.400, 86.800, 177.000, 107.000, 0.477, 0.044, 0.946, 0.177, 1.955, 0.909, -1.745, 0.790\n"
     ]
    }
   ],
   "source": [
    "## tf.reset_default_graph() only works under tf 1.0\n",
    "max_scooter_per_area = 11\n",
    "\n",
    "# Set up the state-value estimator and policy estimator\n",
    "estimator_policy = PolicyEstimator(learning_rate, nS)\n",
    "estimator_value = StateValueEstimator(learning_rate, nS)\n",
    "\n",
    "# Initialize study area\n",
    "study_area = create_study_area(service_areas, max_scooter_per_area, scooter_cost_per_deploy, docked_cost_per_deploy, \\\n",
    "                   nS, no_scooter_penalty, reward_per_rider, equity_penalty, logistics_car_cost_per_mile)\n",
    "\n",
    "# Add ops to save and restore all the variables\n",
    "\n",
    "print(\"Starting policy gradient...\")\n",
    "\n",
    "# Start training\n",
    "print(\"Training in progress...\")\n",
    "avg_reward_max_11, avg_unmet_demand_max_11, avg_met_demand_max_11, avg_scooter_num_max_11, avg_scooter_loc_max_11, avg_wANNR_max_11, avg_moran_max_11, avg_gini_max_11, avg_theil_max_11, avg_EMD_max_11, avg_centroid_max_11, avg_dispersion_max_11, avg_kl_max_11, scooter_list_max_11 = reinforce(study_area, nS, estimator_policy, estimator_value, n_epochs, n_iters, batch_size, display_step)"
   ]
  },
  {
   "cell_type": "markdown",
   "id": "0572be87",
   "metadata": {},
   "source": [
    "## MAX = 12"
   ]
  },
  {
   "cell_type": "code",
   "execution_count": 106,
   "id": "d93d482c",
   "metadata": {},
   "outputs": [
    {
     "name": "stdout",
     "output_type": "stream",
     "text": [
      "Starting policy gradient...\n",
      "Training in progress...\n",
      "Epoch 50, Average reward, unmet demand, met demand, scooter num, scooter loc, wANNR, moran, gini, theil, EMD, centroid change, dispersion change, kl divergence = -54.208, 91.800, 97.400, 171.000, 102.000, 0.468, 0.047, 0.949, 0.185, 2.101, 0.895, -1.964, 0.691\n",
      "Epoch 100, Average reward, unmet demand, met demand, scooter num, scooter loc, wANNR, moran, gini, theil, EMD, centroid change, dispersion change, kl divergence = -48.088, 79.000, 96.000, 171.000, 102.000, 0.468, 0.047, 0.949, 0.185, 2.101, 0.895, -1.964, 0.691\n",
      "Epoch 150, Average reward, unmet demand, met demand, scooter num, scooter loc, wANNR, moran, gini, theil, EMD, centroid change, dispersion change, kl divergence = -53.925, 87.400, 81.600, 166.000, 105.000, 0.461, 0.034, 0.947, 0.192, 1.914, 0.860, -1.695, 0.879\n",
      "Epoch 200, Average reward, unmet demand, met demand, scooter num, scooter loc, wANNR, moran, gini, theil, EMD, centroid change, dispersion change, kl divergence = -58.258, 94.400, 83.600, 172.000, 105.000, 0.469, 0.040, 0.948, 0.207, 2.055, 0.934, -1.826, 0.854\n",
      "Epoch 250, Average reward, unmet demand, met demand, scooter num, scooter loc, wANNR, moran, gini, theil, EMD, centroid change, dispersion change, kl divergence = -56.629, 95.400, 88.800, 166.000, 103.000, 0.461, 0.042, 0.948, 0.205, 2.060, 0.897, -1.860, 0.788\n",
      "Epoch 300, Average reward, unmet demand, met demand, scooter num, scooter loc, wANNR, moran, gini, theil, EMD, centroid change, dispersion change, kl divergence = -53.569, 91.000, 87.400, 158.000, 96.000, 0.449, 0.041, 0.952, 0.198, 2.133, 0.854, -1.976, 0.865\n",
      "Epoch 350, Average reward, unmet demand, met demand, scooter num, scooter loc, wANNR, moran, gini, theil, EMD, centroid change, dispersion change, kl divergence = -54.665, 90.800, 86.400, 166.000, 105.000, 0.461, 0.042, 0.946, 0.172, 2.035, 0.924, -1.835, 0.831\n",
      "Epoch 400, Average reward, unmet demand, met demand, scooter num, scooter loc, wANNR, moran, gini, theil, EMD, centroid change, dispersion change, kl divergence = -55.965, 93.400, 88.400, 169.000, 108.000, 0.465, 0.040, 0.944, 0.179, 1.960, 0.951, -1.700, 0.787\n",
      "Epoch 450, Average reward, unmet demand, met demand, scooter num, scooter loc, wANNR, moran, gini, theil, EMD, centroid change, dispersion change, kl divergence = -50.016, 80.800, 94.400, 179.000, 115.000, 0.478, 0.046, 0.942, 0.201, 2.060, 0.948, -1.871, 0.765\n",
      "Epoch 500, Average reward, unmet demand, met demand, scooter num, scooter loc, wANNR, moran, gini, theil, EMD, centroid change, dispersion change, kl divergence = -48.198, 75.000, 91.200, 178.000, 106.000, 0.477, 0.043, 0.947, 0.201, 2.034, 0.968, -1.781, 0.756\n"
     ]
    }
   ],
   "source": [
    "## tf.reset_default_graph() only works under tf 1.0\n",
    "max_scooter_per_area = 12\n",
    "\n",
    "# Set up the state-value estimator and policy estimator\n",
    "estimator_policy = PolicyEstimator(learning_rate, nS)\n",
    "estimator_value = StateValueEstimator(learning_rate, nS)\n",
    "\n",
    "# Initialize study area\n",
    "study_area = create_study_area(service_areas, max_scooter_per_area, scooter_cost_per_deploy, docked_cost_per_deploy, \\\n",
    "                   nS, no_scooter_penalty, reward_per_rider, equity_penalty, logistics_car_cost_per_mile)\n",
    "\n",
    "# Add ops to save and restore all the variables\n",
    "\n",
    "print(\"Starting policy gradient...\")\n",
    "\n",
    "# Start training\n",
    "print(\"Training in progress...\")\n",
    "avg_reward_max_12, avg_unmet_demand_max_12, avg_met_demand_max_12, avg_scooter_num_max_12, avg_scooter_loc_max_12, avg_wANNR_max_12, avg_moran_max_12, avg_gini_max_12, avg_theil_max_12, avg_EMD_max_12, avg_centroid_max_12, avg_dispersion_max_12, avg_kl_max_12, scooter_list_max_12 = reinforce(study_area, nS, estimator_policy, estimator_value, n_epochs, n_iters, batch_size, display_step)"
   ]
  },
  {
   "cell_type": "markdown",
   "id": "5308dc9b",
   "metadata": {},
   "source": [
    "## MAX = 13"
   ]
  },
  {
   "cell_type": "code",
   "execution_count": 65,
   "id": "e9e2a53d",
   "metadata": {},
   "outputs": [
    {
     "name": "stdout",
     "output_type": "stream",
     "text": [
      "Starting policy gradient...\n",
      "Training in progress...\n",
      "Epoch 50, Average reward, unmet demand, met demand, scooter num, scooter loc, wANNR, moran, gini, theil, EMD, centroid change, dispersion change, kl divergence = -53.306, 85.000, 93.800, 180.000, 103.000, 0.480, 0.042, 0.950, 0.212, 2.067, 0.861, -1.833, 0.668\n",
      "Epoch 100, Average reward, unmet demand, met demand, scooter num, scooter loc, wANNR, moran, gini, theil, EMD, centroid change, dispersion change, kl divergence = -57.693, 100.600, 95.400, 166.000, 106.000, 0.462, 0.036, 0.946, 0.200, 1.906, 0.986, -1.633, 0.797\n",
      "Epoch 150, Average reward, unmet demand, met demand, scooter num, scooter loc, wANNR, moran, gini, theil, EMD, centroid change, dispersion change, kl divergence = -56.051, 91.400, 87.800, 173.000, 106.000, 0.470, 0.044, 0.946, 0.185, 2.108, 0.905, -1.947, 0.762\n",
      "Epoch 200, Average reward, unmet demand, met demand, scooter num, scooter loc, wANNR, moran, gini, theil, EMD, centroid change, dispersion change, kl divergence = -56.546, 94.600, 88.800, 170.000, 110.000, 0.469, 0.051, 0.942, 0.157, 2.041, 0.935, -1.801, 0.828\n",
      "Epoch 250, Average reward, unmet demand, met demand, scooter num, scooter loc, wANNR, moran, gini, theil, EMD, centroid change, dispersion change, kl divergence = -54.848, 89.000, 85.400, 171.000, 107.000, 0.468, 0.042, 0.946, 0.193, 2.020, 0.923, -1.795, 0.830\n",
      "Epoch 300, Average reward, unmet demand, met demand, scooter num, scooter loc, wANNR, moran, gini, theil, EMD, centroid change, dispersion change, kl divergence = -55.211, 91.800, 93.000, 173.000, 106.000, 0.470, 0.049, 0.946, 0.176, 2.020, 0.915, -1.720, 0.770\n",
      "Epoch 350, Average reward, unmet demand, met demand, scooter num, scooter loc, wANNR, moran, gini, theil, EMD, centroid change, dispersion change, kl divergence = -55.110, 86.600, 97.600, 197.000, 127.000, 0.502, 0.041, 0.935, 0.201, 1.945, 0.969, -1.751, 0.814\n",
      "Epoch 400, Average reward, unmet demand, met demand, scooter num, scooter loc, wANNR, moran, gini, theil, EMD, centroid change, dispersion change, kl divergence = -56.943, 92.400, 88.200, 176.000, 108.000, 0.474, 0.039, 0.946, 0.190, 1.914, 0.962, -1.704, 0.848\n",
      "Epoch 450, Average reward, unmet demand, met demand, scooter num, scooter loc, wANNR, moran, gini, theil, EMD, centroid change, dispersion change, kl divergence = -52.817, 90.400, 93.200, 166.000, 109.000, 0.461, 0.044, 0.943, 0.179, 1.999, 0.816, -1.742, 0.735\n",
      "Epoch 500, Average reward, unmet demand, met demand, scooter num, scooter loc, wANNR, moran, gini, theil, EMD, centroid change, dispersion change, kl divergence = -55.272, 92.600, 91.200, 171.000, 110.000, 0.468, 0.039, 0.943, 0.177, 1.937, 0.942, -1.665, 0.857\n"
     ]
    }
   ],
   "source": [
    "## tf.reset_default_graph() only works under tf 1.0\n",
    "max_scooter_per_area = 13\n",
    "\n",
    "# Set up the state-value estimator and policy estimator\n",
    "estimator_policy = PolicyEstimator(learning_rate, nS)\n",
    "estimator_value = StateValueEstimator(learning_rate, nS)\n",
    "\n",
    "# Initialize study area\n",
    "study_area = create_study_area(service_areas, max_scooter_per_area, scooter_cost_per_deploy, docked_cost_per_deploy, \\\n",
    "                   nS, no_scooter_penalty, reward_per_rider, equity_penalty, logistics_car_cost_per_mile)\n",
    "\n",
    "# Add ops to save and restore all the variables\n",
    "\n",
    "print(\"Starting policy gradient...\")\n",
    "\n",
    "# Start training\n",
    "print(\"Training in progress...\")\n",
    "avg_reward_max_13, avg_unmet_demand_max_13, avg_met_demand_max_13, avg_scooter_num_max_13, avg_scooter_loc_max_13, avg_wANNR_max_13, avg_moran_max_13, avg_gini_max_13, avg_theil_max_13, avg_EMD_max_13, avg_centroid_max_13, avg_dispersion_max_13, avg_kl_max_13, scooter_list_max_13 = reinforce(study_area, nS, estimator_policy, estimator_value, n_epochs, n_iters, batch_size, display_step)"
   ]
  },
  {
   "cell_type": "markdown",
   "id": "3e5e37de",
   "metadata": {},
   "source": [
    "## MAX = 14"
   ]
  },
  {
   "cell_type": "code",
   "execution_count": 17,
   "id": "390b6c76",
   "metadata": {},
   "outputs": [
    {
     "name": "stdout",
     "output_type": "stream",
     "text": [
      "Starting policy gradient...\n",
      "Training in progress...\n",
      "Epoch 50, Average reward, unmet demand, met demand, scooter num, scooter loc, wANNR, moran, gini, theil, EMD, centroid change, dispersion change, kl divergence = -58.646, 96.600, 91.000, 181.000, 120.000, 0.481, 0.042, 0.938, 0.199, 1.954, 1.029, -1.714, 0.860\n",
      "Epoch 100, Average reward, unmet demand, met demand, scooter num, scooter loc, wANNR, moran, gini, theil, EMD, centroid change, dispersion change, kl divergence = -53.006, 82.800, 90.000, 183.000, 111.000, 0.484, 0.039, 0.945, 0.202, 2.009, 0.951, -1.825, 0.731\n",
      "Epoch 150, Average reward, unmet demand, met demand, scooter num, scooter loc, wANNR, moran, gini, theil, EMD, centroid change, dispersion change, kl divergence = -53.355, 89.600, 86.200, 162.000, 104.000, 0.455, 0.044, 0.946, 0.159, 2.004, 0.938, -1.775, 0.776\n",
      "Epoch 200, Average reward, unmet demand, met demand, scooter num, scooter loc, wANNR, moran, gini, theil, EMD, centroid change, dispersion change, kl divergence = -55.956, 95.800, 86.800, 157.000, 95.000, 0.452, 0.035, 0.952, 0.174, 1.945, 0.927, -1.701, 0.807\n",
      "Epoch 250, Average reward, unmet demand, met demand, scooter num, scooter loc, wANNR, moran, gini, theil, EMD, centroid change, dispersion change, kl divergence = -57.188, 97.200, 92.400, 171.000, 112.000, 0.467, 0.042, 0.943, 0.205, 1.990, 0.848, -1.771, 0.868\n",
      "Epoch 300, Average reward, unmet demand, met demand, scooter num, scooter loc, wANNR, moran, gini, theil, EMD, centroid change, dispersion change, kl divergence = -59.923, 102.000, 84.000, 162.000, 105.000, 0.455, 0.032, 0.946, 0.182, 1.893, 0.944, -1.682, 0.862\n",
      "Epoch 350, Average reward, unmet demand, met demand, scooter num, scooter loc, wANNR, moran, gini, theil, EMD, centroid change, dispersion change, kl divergence = -53.802, 86.800, 91.800, 181.000, 117.000, 0.481, 0.037, 0.941, 0.211, 1.851, 0.954, -1.603, 0.875\n",
      "Epoch 400, Average reward, unmet demand, met demand, scooter num, scooter loc, wANNR, moran, gini, theil, EMD, centroid change, dispersion change, kl divergence = -54.995, 91.000, 89.200, 173.000, 114.000, 0.470, 0.038, 0.942, 0.204, 1.929, 0.862, -1.763, 0.826\n",
      "Epoch 450, Average reward, unmet demand, met demand, scooter num, scooter loc, wANNR, moran, gini, theil, EMD, centroid change, dispersion change, kl divergence = -54.752, 89.000, 88.600, 174.000, 108.000, 0.472, 0.044, 0.946, 0.202, 2.012, 0.881, -1.763, 0.795\n",
      "Epoch 500, Average reward, unmet demand, met demand, scooter num, scooter loc, wANNR, moran, gini, theil, EMD, centroid change, dispersion change, kl divergence = -60.696, 101.000, 84.000, 171.000, 113.000, 0.467, 0.042, 0.942, 0.204, 1.966, 0.832, -1.716, 0.955\n"
     ]
    }
   ],
   "source": [
    "## tf.reset_default_graph() only works under tf 1.0\n",
    "max_scooter_per_area = 14\n",
    "\n",
    "# Set up the state-value estimator and policy estimator\n",
    "estimator_policy = PolicyEstimator(learning_rate, nS)\n",
    "estimator_value = StateValueEstimator(learning_rate, nS)\n",
    "\n",
    "# Initialize study area\n",
    "study_area = create_study_area(service_areas, max_scooter_per_area, scooter_cost_per_deploy, docked_cost_per_deploy, \\\n",
    "                   nS, no_scooter_penalty, reward_per_rider, equity_penalty, logistics_car_cost_per_mile)\n",
    "\n",
    "# Add ops to save and restore all the variables\n",
    "\n",
    "print(\"Starting policy gradient...\")\n",
    "\n",
    "# Start training\n",
    "print(\"Training in progress...\")\n",
    "avg_reward_max_14, avg_unmet_demand_max_14, avg_met_demand_max_14, avg_scooter_num_max_14, avg_scooter_loc_max_14, avg_wANNR_max_14, avg_moran_max_14, avg_gini_max_14, avg_theil_max_14, avg_EMD_max_14, avg_centroid_max_14, avg_dispersion_max_14, avg_kl_max_14, scooter_list_max_14 = reinforce(study_area, nS, estimator_policy, estimator_value, n_epochs, n_iters, batch_size, display_step)"
   ]
  },
  {
   "cell_type": "markdown",
   "id": "cd8319b4",
   "metadata": {},
   "source": [
    "## MAX = 15"
   ]
  },
  {
   "cell_type": "code",
   "execution_count": 18,
   "id": "b34bc39e",
   "metadata": {},
   "outputs": [
    {
     "name": "stdout",
     "output_type": "stream",
     "text": [
      "Starting policy gradient...\n",
      "Training in progress...\n",
      "Epoch 50, Average reward, unmet demand, met demand, scooter num, scooter loc, wANNR, moran, gini, theil, EMD, centroid change, dispersion change, kl divergence = -52.977, 85.000, 90.200, 177.000, 109.000, 0.476, 0.043, 0.945, 0.202, 2.023, 0.862, -1.734, 0.780\n",
      "Epoch 100, Average reward, unmet demand, met demand, scooter num, scooter loc, wANNR, moran, gini, theil, EMD, centroid change, dispersion change, kl divergence = -57.861, 96.800, 94.200, 177.000, 112.000, 0.477, 0.045, 0.943, 0.178, 2.010, 1.094, -1.753, 0.848\n",
      "Epoch 150, Average reward, unmet demand, met demand, scooter num, scooter loc, wANNR, moran, gini, theil, EMD, centroid change, dispersion change, kl divergence = -59.146, 100.800, 77.800, 153.000, 99.000, 0.442, 0.036, 0.949, 0.187, 1.987, 0.964, -1.776, 0.973\n",
      "Epoch 200, Average reward, unmet demand, met demand, scooter num, scooter loc, wANNR, moran, gini, theil, EMD, centroid change, dispersion change, kl divergence = -56.588, 92.600, 93.200, 179.000, 109.000, 0.478, 0.039, 0.946, 0.222, 2.094, 0.927, -1.943, 0.824\n",
      "Epoch 250, Average reward, unmet demand, met demand, scooter num, scooter loc, wANNR, moran, gini, theil, EMD, centroid change, dispersion change, kl divergence = -54.971, 90.200, 92.400, 179.000, 117.000, 0.478, 0.039, 0.940, 0.206, 1.921, 0.986, -1.674, 0.753\n",
      "Epoch 300, Average reward, unmet demand, met demand, scooter num, scooter loc, wANNR, moran, gini, theil, EMD, centroid change, dispersion change, kl divergence = -58.670, 95.600, 98.400, 189.000, 115.000, 0.492, 0.045, 0.943, 0.209, 2.048, 0.927, -1.894, 0.800\n",
      "Epoch 350, Average reward, unmet demand, met demand, scooter num, scooter loc, wANNR, moran, gini, theil, EMD, centroid change, dispersion change, kl divergence = -58.494, 97.000, 90.600, 181.000, 126.000, 0.481, 0.043, 0.932, 0.169, 1.876, 0.939, -1.592, 0.830\n",
      "Epoch 400, Average reward, unmet demand, met demand, scooter num, scooter loc, wANNR, moran, gini, theil, EMD, centroid change, dispersion change, kl divergence = -58.870, 97.600, 81.600, 167.000, 110.000, 0.462, 0.042, 0.944, 0.216, 2.037, 0.893, -1.837, 0.816\n",
      "Epoch 450, Average reward, unmet demand, met demand, scooter num, scooter loc, wANNR, moran, gini, theil, EMD, centroid change, dispersion change, kl divergence = -53.639, 91.400, 93.800, 165.000, 100.000, 0.459, 0.039, 0.950, 0.210, 2.105, 0.971, -1.940, 0.700\n",
      "Epoch 500, Average reward, unmet demand, met demand, scooter num, scooter loc, wANNR, moran, gini, theil, EMD, centroid change, dispersion change, kl divergence = -60.330, 101.400, 85.800, 170.000, 113.000, 0.466, 0.044, 0.940, 0.165, 1.989, 1.016, -1.739, 0.787\n"
     ]
    }
   ],
   "source": [
    "## tf.reset_default_graph() only works under tf 1.0\n",
    "max_scooter_per_area = 15\n",
    "\n",
    "# Set up the state-value estimator and policy estimator\n",
    "estimator_policy = PolicyEstimator(learning_rate, nS)\n",
    "estimator_value = StateValueEstimator(learning_rate, nS)\n",
    "\n",
    "# Initialize study area\n",
    "study_area = create_study_area(service_areas, max_scooter_per_area, scooter_cost_per_deploy, docked_cost_per_deploy, \\\n",
    "                   nS, no_scooter_penalty, reward_per_rider, equity_penalty, logistics_car_cost_per_mile)\n",
    "\n",
    "# Add ops to save and restore all the variables\n",
    "\n",
    "print(\"Starting policy gradient...\")\n",
    "\n",
    "# Start training\n",
    "print(\"Training in progress...\")\n",
    "avg_reward_max_15, avg_unmet_demand_max_15, avg_met_demand_max_15, avg_scooter_num_max_15, avg_scooter_loc_max_15, avg_wANNR_max_15, avg_moran_max_15, avg_gini_max_15, avg_theil_max_15, avg_EMD_max_15, avg_centroid_max_15, avg_dispersion_max_15, avg_kl_max_15, scooter_list_max_15 = reinforce(study_area, nS, estimator_policy, estimator_value, n_epochs, n_iters, batch_size, display_step)"
   ]
  },
  {
   "cell_type": "markdown",
   "id": "462300ea",
   "metadata": {},
   "source": [
    "## MAX = 16"
   ]
  },
  {
   "cell_type": "code",
   "execution_count": 19,
   "id": "c4b00b1e",
   "metadata": {},
   "outputs": [
    {
     "name": "stdout",
     "output_type": "stream",
     "text": [
      "Starting policy gradient...\n",
      "Training in progress...\n",
      "Epoch 50, Average reward, unmet demand, met demand, scooter num, scooter loc, wANNR, moran, gini, theil, EMD, centroid change, dispersion change, kl divergence = -57.843, 97.400, 90.600, 173.000, 115.000, 0.476, 0.034, 0.940, 0.187, 1.858, 0.876, -1.649, 0.930\n",
      "Epoch 100, Average reward, unmet demand, met demand, scooter num, scooter loc, wANNR, moran, gini, theil, EMD, centroid change, dispersion change, kl divergence = -54.857, 91.600, 88.000, 169.000, 112.000, 0.465, 0.038, 0.942, 0.180, 1.875, 0.850, -1.636, 0.884\n",
      "Epoch 150, Average reward, unmet demand, met demand, scooter num, scooter loc, wANNR, moran, gini, theil, EMD, centroid change, dispersion change, kl divergence = -52.911, 88.800, 97.200, 176.000, 114.000, 0.474, 0.043, 0.942, 0.195, 1.994, 0.840, -1.741, 0.808\n",
      "Epoch 200, Average reward, unmet demand, met demand, scooter num, scooter loc, wANNR, moran, gini, theil, EMD, centroid change, dispersion change, kl divergence = -54.808, 91.000, 92.400, 171.000, 102.000, 0.468, 0.039, 0.949, 0.199, 2.053, 0.945, -1.829, 0.775\n",
      "Epoch 250, Average reward, unmet demand, met demand, scooter num, scooter loc, wANNR, moran, gini, theil, EMD, centroid change, dispersion change, kl divergence = -57.968, 99.000, 92.600, 165.000, 96.000, 0.459, 0.039, 0.953, 0.202, 2.046, 0.991, -1.803, 0.747\n",
      "Epoch 300, Average reward, unmet demand, met demand, scooter num, scooter loc, wANNR, moran, gini, theil, EMD, centroid change, dispersion change, kl divergence = -58.257, 96.800, 82.000, 166.000, 109.000, 0.461, 0.039, 0.944, 0.184, 1.965, 0.995, -1.759, 0.890\n",
      "Epoch 350, Average reward, unmet demand, met demand, scooter num, scooter loc, wANNR, moran, gini, theil, EMD, centroid change, dispersion change, kl divergence = -50.970, 81.200, 91.800, 184.000, 126.000, 0.485, 0.045, 0.933, 0.178, 1.955, 1.018, -1.720, 0.788\n",
      "Epoch 400, Average reward, unmet demand, met demand, scooter num, scooter loc, wANNR, moran, gini, theil, EMD, centroid change, dispersion change, kl divergence = -56.518, 96.400, 87.800, 161.000, 100.000, 0.454, 0.038, 0.949, 0.190, 2.024, 1.018, -1.847, 0.862\n",
      "Epoch 450, Average reward, unmet demand, met demand, scooter num, scooter loc, wANNR, moran, gini, theil, EMD, centroid change, dispersion change, kl divergence = -58.049, 95.400, 91.000, 174.000, 100.000, 0.472, 0.045, 0.951, 0.192, 2.071, 1.016, -1.882, 0.892\n",
      "Epoch 500, Average reward, unmet demand, met demand, scooter num, scooter loc, wANNR, moran, gini, theil, EMD, centroid change, dispersion change, kl divergence = -60.303, 100.000, 84.400, 167.000, 99.000, 0.462, 0.033, 0.952, 0.219, 1.855, 0.813, -1.541, 0.879\n"
     ]
    }
   ],
   "source": [
    "## tf.reset_default_graph() only works under tf 1.0\n",
    "max_scooter_per_area = 16\n",
    "\n",
    "# Set up the state-value estimator and policy estimator\n",
    "estimator_policy = PolicyEstimator(learning_rate, nS)\n",
    "estimator_value = StateValueEstimator(learning_rate, nS)\n",
    "\n",
    "# Initialize study area\n",
    "study_area = create_study_area(service_areas, max_scooter_per_area, scooter_cost_per_deploy, docked_cost_per_deploy, \\\n",
    "                   nS, no_scooter_penalty, reward_per_rider, equity_penalty, logistics_car_cost_per_mile)\n",
    "\n",
    "# Add ops to save and restore all the variables\n",
    "\n",
    "print(\"Starting policy gradient...\")\n",
    "\n",
    "# Start training\n",
    "print(\"Training in progress...\")\n",
    "avg_reward_max_16, avg_unmet_demand_max_16, avg_met_demand_max_16, avg_scooter_num_max_16, avg_scooter_loc_max_16, avg_wANNR_max_16, avg_moran_max_16, avg_gini_max_16, avg_theil_max_16, avg_EMD_max_16, avg_centroid_max_16, avg_dispersion_max_16, avg_kl_max_16, scooter_list_max_16 = reinforce(study_area, nS, estimator_policy, estimator_value, n_epochs, n_iters, batch_size, display_step)"
   ]
  },
  {
   "cell_type": "markdown",
   "id": "cf6babdd",
   "metadata": {},
   "source": [
    "# Illustration"
   ]
  },
  {
   "cell_type": "code",
   "execution_count": 107,
   "id": "218b3462",
   "metadata": {},
   "outputs": [
    {
     "name": "stdout",
     "output_type": "stream",
     "text": [
      "[array([ True,  True,  True,  True,  True,  True,  True,  True,  True,\n",
      "        True]), array([ True,  True,  True,  True,  True,  True,  True,  True,  True,\n",
      "        True]), array([ True,  True,  True,  True,  True,  True,  True,  True,  True,\n",
      "        True]), array([ True,  True,  True,  True,  True,  True,  True,  True,  True,\n",
      "        True]), array([ True,  True,  True,  True,  True,  True,  True,  True,  True,\n",
      "        True]), array([ True,  True, False, False,  True,  True,  True,  True,  True,\n",
      "        True]), array([ True,  True,  True,  True,  True,  True,  True,  True,  True,\n",
      "        True]), array([ True,  True,  True,  True,  True,  True,  True,  True,  True,\n",
      "        True]), array([ True,  True,  True,  True,  True, False,  True,  True,  True,\n",
      "        True]), array([ True,  True,  True,  True,  True,  True,  True,  True,  True,\n",
      "        True]), array([ True,  True,  True,  True,  True,  True,  True,  True,  True,\n",
      "        True]), array([ True,  True,  True,  True,  True,  True,  True,  True,  True,\n",
      "        True]), array([ True,  True,  True,  True,  True,  True,  True,  True,  True,\n",
      "        True]), array([ True,  True,  True,  True,  True,  True,  True,  True,  True,\n",
      "        True]), array([ True,  True,  True,  True,  True,  True,  True,  True,  True,\n",
      "        True])]\n"
     ]
    }
   ],
   "source": [
    "def modified_z_score(arr):\n",
    "\n",
    "    median = np.median(arr)\n",
    "    mad = np.median(np.abs(arr - median))  # Median Absolute Deviation\n",
    "\n",
    "    # Modified Z-score\n",
    "    modified_z_scores = 0.6745 * (arr - median) / mad\n",
    "    threshold = 3\n",
    "    # filtered_arr = arr[np.abs(modified_z_scores) < threshold]\n",
    "    sel_index = np.abs(modified_z_scores) < threshold\n",
    "    \n",
    "    return sel_index # filtered_arr\n",
    "\n",
    "sel_index_2 = modified_z_score(avg_reward_max_2)\n",
    "sel_index_3 = modified_z_score(avg_reward_max_3)\n",
    "sel_index_4 = modified_z_score(avg_reward_max_4)\n",
    "sel_index_5 = modified_z_score(avg_reward_max_5)\n",
    "sel_index_6 = modified_z_score(avg_reward_max_6)\n",
    "sel_index_7 = modified_z_score(avg_reward_max_7)\n",
    "sel_index_8 = modified_z_score(avg_reward_max_8)\n",
    "sel_index_9 = modified_z_score(avg_reward_max_9)\n",
    "sel_index_10 = modified_z_score(avg_reward_max_10)\n",
    "sel_index_11 = modified_z_score(avg_reward_max_11)\n",
    "sel_index_12 = modified_z_score(avg_reward_max_12)\n",
    "sel_index_13 = modified_z_score(avg_reward_max_13)\n",
    "sel_index_14 = modified_z_score(avg_reward_max_14)\n",
    "sel_index_15 = modified_z_score(avg_reward_max_15)\n",
    "sel_index_16 = modified_z_score(avg_reward_max_16)\n",
    "print([sel_index_2, sel_index_3, sel_index_4, sel_index_5, sel_index_6, sel_index_7, sel_index_8, sel_index_9, \n",
    "      sel_index_10, sel_index_11, sel_index_12, sel_index_13, sel_index_14, sel_index_15, sel_index_16])"
   ]
  },
  {
   "cell_type": "code",
   "execution_count": 108,
   "id": "91bd3d33",
   "metadata": {},
   "outputs": [
    {
     "name": "stdout",
     "output_type": "stream",
     "text": [
      "End: 2025-07-10 20:25:22\n",
      "Plotting resulting graph...\n",
      "Plotting baseline 1...\n",
      "End: 2025-07-10 20:25:22\n"
     ]
    },
    {
     "data": {
      "image/png": "[encoded data removed]",
      "text/plain": [
       "<Figure size 432x288 with 1 Axes>"
      ]
     },
     "metadata": {
      "needs_background": "light"
     },
     "output_type": "display_data"
    }
   ],
   "source": [
    "# Plot the graphs of average rewards during testing phases of the policy\n",
    "# gradient method and the hand-crafted policies\n",
    "\n",
    "print(\"End: \" + datetime.now().strftime('%Y-%m-%d %H:%M:%S'))\n",
    "\n",
    "max_scooter_per_area_list = np.arange(2,17)\n",
    "max_reward_list_grid = np.array([avg_reward_max_2,\n",
    "                                avg_reward_max_3,\n",
    "                                avg_reward_max_4,\n",
    "                                avg_reward_max_5,\n",
    "                                avg_reward_max_6,\n",
    "                                avg_reward_max_7,\n",
    "                                avg_reward_max_8,\n",
    "                                avg_reward_max_9,\n",
    "                                avg_reward_max_10,\n",
    "                                avg_reward_max_11,\n",
    "                                avg_reward_max_12,\n",
    "                                avg_reward_max_13,\n",
    "                                avg_reward_max_14,\n",
    "                                avg_reward_max_15,\n",
    "                                avg_reward_max_16])\n",
    "max_reward_mean_grid = np.mean(max_reward_list_grid, axis=1)\n",
    "max_reward_std_grid = np.std(max_reward_list_grid, axis=1)\n",
    "\n",
    "print(\"Plotting resulting graph...\")\n",
    "# plt.figure(figsize = (12, 9))\n",
    "l1 = plt.errorbar(max_scooter_per_area_list, max_reward_mean_grid, yerr=max_reward_std_grid, fmt='o-', capsize=5) # ecolor='gray', \n",
    "\n",
    "print(\"Plotting baseline 1...\")\n",
    "# plt.legend(loc='best',prop={'size': 10})\n",
    "plt.ylabel(\"Reward function value\")\n",
    "plt.xlabel(\"max_scooter_per_area\")\n",
    "\n",
    "print(\"End: \" + datetime.now().strftime('%Y-%m-%d %H:%M:%S'))"
   ]
  },
  {
   "cell_type": "code",
   "execution_count": 109,
   "id": "88cb6330",
   "metadata": {},
   "outputs": [
    {
     "data": {
      "text/plain": [
       "array([[-59.37169239, -60.01964628, -60.66332557, -68.57139237,\n",
       "        -62.78235127, -61.24891793, -68.05116182, -63.30122064,\n",
       "        -61.74501283, -58.37608464],\n",
       "       [-55.43520193, -54.27714579, -50.58308634, -58.74345584,\n",
       "        -58.44123801, -59.41324069, -55.07982472, -61.15651968,\n",
       "        -61.43580198, -66.5344408 ],\n",
       "       [-56.44699143, -58.13637598, -58.97839406, -57.87651968,\n",
       "        -52.8108531 , -54.71025305, -56.87985078, -58.46692195,\n",
       "        -60.15959417, -55.51355809],\n",
       "       [-57.75769373, -54.86969642, -62.87378864, -62.0064348 ,\n",
       "        -58.6363065 , -50.49254037, -53.30437803, -54.30995302,\n",
       "        -60.07381469, -55.56361691],\n",
       "       [-54.31001382, -55.49829379, -53.59468872, -58.64016817,\n",
       "        -53.77307094, -55.67765031, -54.4157325 , -54.70361691,\n",
       "        -59.28849631, -56.36396036],\n",
       "       [-56.50099878, -56.23848091, -58.99852434, -53.90550867,\n",
       "        -55.62729146, -56.72410406, -55.43544984, -56.55540642,\n",
       "        -55.79466267, -56.51274486],\n",
       "       [-52.09549327, -56.78865264, -55.30639138, -57.99878094,\n",
       "        -57.6170242 , -55.30370376, -54.81855039, -55.85513245,\n",
       "        -53.87383206, -54.4310576 ],\n",
       "       [-57.94752201, -54.23931152, -53.8274091 , -57.60074217,\n",
       "        -57.07788086, -57.16805258, -56.39600647, -56.23813746,\n",
       "        -54.46009869, -54.64414749],\n",
       "       [-55.83364494, -56.41581935, -53.26032924, -56.94419091,\n",
       "        -55.25760688, -61.05221428, -52.57364494, -59.30419091,\n",
       "        -55.74111642, -54.78696538],\n",
       "       [-49.97168371, -52.27101417, -55.86261656, -56.96088587,\n",
       "        -54.89769373, -50.5822731 , -57.07052702, -55.72782204,\n",
       "        -54.3854605 , -55.0009293 ],\n",
       "       [-54.20828313, -48.08828313, -53.92474754, -58.25762425,\n",
       "        -56.62883976, -53.56932691, -54.66474754, -55.96504757,\n",
       "        -50.01551932, -48.19845486],\n",
       "       [-53.30555209, -57.69270143, -56.0510576 , -56.5464348 ,\n",
       "        -54.84805258, -55.2110576 , -55.10959615, -56.94340373,\n",
       "        -52.8165631 , -55.27191426],\n",
       "       [-58.64624768, -53.00562157, -53.35487584, -55.95589357,\n",
       "        -57.18782204, -59.92282973, -53.80238601, -54.99468872,\n",
       "        -54.75244483, -60.69577593],\n",
       "       [-52.97683708, -57.86069875, -59.14579132, -56.58779598,\n",
       "        -54.97142711, -58.67031384, -58.49397102, -58.86999645,\n",
       "        -53.63949864, -60.33029647],\n",
       "       [-57.84264261, -54.85686313, -52.91112708, -54.80828313,\n",
       "        -57.96768308, -58.2565631 , -50.97040938, -56.51758083,\n",
       "        -58.04881371, -60.30250365]])"
      ]
     },
     "execution_count": 109,
     "metadata": {},
     "output_type": "execute_result"
    }
   ],
   "source": [
    "max_reward_list_grid"
   ]
  },
  {
   "cell_type": "code",
   "execution_count": 110,
   "id": "5be10874",
   "metadata": {},
   "outputs": [
    {
     "name": "stdout",
     "output_type": "stream",
     "text": [
      "End: 2025-07-10 20:25:24\n",
      "Plotting resulting graph...\n",
      "Plotting baseline 1...\n",
      "End: 2025-07-10 20:25:24\n"
     ]
    },
    {
     "data": {
      "image/png": "[encoded data removed]",
      "text/plain": [
       "<Figure size 432x288 with 1 Axes>"
      ]
     },
     "metadata": {
      "needs_background": "light"
     },
     "output_type": "display_data"
    }
   ],
   "source": [
    "# Plot the graphs of average rewards during testing phases of the policy\n",
    "# gradient method and the hand-crafted policies\n",
    "\n",
    "print(\"End: \" + datetime.now().strftime('%Y-%m-%d %H:%M:%S'))\n",
    "\n",
    "max_scooter_per_area_list = np.arange(2,17)\n",
    "max_reward_list_grid = [np.array(avg_reward_max_2)[sel_index_2],\n",
    "                        np.array(avg_reward_max_3)[sel_index_3],\n",
    "                        np.array(avg_reward_max_4)[sel_index_4],\n",
    "                        np.array(avg_reward_max_5)[sel_index_5],\n",
    "                        np.array(avg_reward_max_6)[sel_index_6],\n",
    "                        np.array(avg_reward_max_7)[sel_index_7],\n",
    "                        np.array(avg_reward_max_8)[sel_index_8],\n",
    "                        np.array(avg_reward_max_9)[sel_index_9],\n",
    "                        np.array(avg_reward_max_10)[sel_index_10],\n",
    "                        np.array(avg_reward_max_11)[sel_index_11],\n",
    "                        np.array(avg_reward_max_12)[sel_index_12],\n",
    "                        np.array(avg_reward_max_13)[sel_index_13],\n",
    "                        np.array(avg_reward_max_14)[sel_index_14],\n",
    "                        np.array(avg_reward_max_15)[sel_index_15],\n",
    "                        np.array(avg_reward_max_16)[sel_index_16]]\n",
    "max_reward_mean_grid = []\n",
    "max_reward_std_grid = []\n",
    "for ii in range(len(max_scooter_per_area_list)):\n",
    "    max_reward_mean_grid.append(np.mean(max_reward_list_grid[ii]))\n",
    "    max_reward_std_grid.append(np.std(max_reward_list_grid[ii]))\n",
    "\n",
    "print(\"Plotting resulting graph...\")\n",
    "# plt.figure(figsize = (12, 9))\n",
    "l1 = plt.errorbar(max_scooter_per_area_list, max_reward_mean_grid, yerr=max_reward_std_grid, fmt='o-', capsize=5) # ecolor='gray', \n",
    "\n",
    "print(\"Plotting baseline 1...\")\n",
    "# plt.legend(loc='best',prop={'size': 10})\n",
    "plt.ylabel(\"Reward function value\")\n",
    "plt.xlabel(\"max_scooter_per_area\")\n",
    "\n",
    "print(\"End: \" + datetime.now().strftime('%Y-%m-%d %H:%M:%S'))"
   ]
  },
  {
   "cell_type": "code",
   "execution_count": 111,
   "id": "29eceb93",
   "metadata": {},
   "outputs": [
    {
     "name": "stdout",
     "output_type": "stream",
     "text": [
      "End: 2025-07-10 20:25:37\n",
      "Plotting resulting graph...\n",
      "Plotting baseline 1...\n",
      "End: 2025-07-10 20:25:37\n"
     ]
    },
    {
     "data": {
      "image/png": "[encoded data removed]",
      "text/plain": [
       "<Figure size 432x288 with 1 Axes>"
      ]
     },
     "metadata": {
      "needs_background": "light"
     },
     "output_type": "display_data"
    }
   ],
   "source": [
    "# Plot the graphs of average rewards during testing phases of the policy\n",
    "# gradient method and the hand-crafted policies\n",
    "\n",
    "print(\"End: \" + datetime.now().strftime('%Y-%m-%d %H:%M:%S'))\n",
    "\n",
    "max_scooter_per_area_list = np.arange(2,17)\n",
    "max_unmet_demand_list_grid = np.array([avg_unmet_demand_max_2,\n",
    "                                avg_unmet_demand_max_3,\n",
    "                                avg_unmet_demand_max_4,\n",
    "                                avg_unmet_demand_max_5,\n",
    "                                avg_unmet_demand_max_6,\n",
    "                                avg_unmet_demand_max_7,\n",
    "                                avg_unmet_demand_max_8,\n",
    "                                avg_unmet_demand_max_9,\n",
    "                                avg_unmet_demand_max_10,\n",
    "                                avg_unmet_demand_max_11,\n",
    "                                avg_unmet_demand_max_12,\n",
    "                                avg_unmet_demand_max_13,\n",
    "                                avg_unmet_demand_max_14,\n",
    "                                avg_unmet_demand_max_15,\n",
    "                                avg_unmet_demand_max_16])\n",
    "max_unmet_demand_mean_grid = np.mean(max_unmet_demand_list_grid, axis=1)\n",
    "max_unmet_demand_std_grid = np.std(max_unmet_demand_list_grid, axis=1)\n",
    "\n",
    "print(\"Plotting resulting graph...\")\n",
    "# plt.figure(figsize = (12, 9))\n",
    "l1 = plt.errorbar(max_scooter_per_area_list, max_unmet_demand_mean_grid, yerr=max_unmet_demand_std_grid, fmt='o-', capsize=5) # ecolor='gray', \n",
    "\n",
    "print(\"Plotting baseline 1...\")\n",
    "# plt.legend(loc='best',prop={'size': 10})\n",
    "plt.ylabel(\"Count of unmet demands\")\n",
    "plt.xlabel(\"max_scooter_per_area\")\n",
    "\n",
    "print(\"End: \" + datetime.now().strftime('%Y-%m-%d %H:%M:%S'))"
   ]
  },
  {
   "cell_type": "code",
   "execution_count": 112,
   "id": "3efe0717",
   "metadata": {},
   "outputs": [
    {
     "data": {
      "text/plain": [
       "array([[103.8, 107.4, 110.2, 121.8, 110.6, 109. , 121.4, 114.6, 113.6,\n",
       "        103.2],\n",
       "       [ 94.6,  95.4,  85.6, 101.2, 103.2, 103.6,  92.4, 106.8, 105. ,\n",
       "        115.6],\n",
       "       [ 94.2,  95. , 106.6, 103.6,  88. ,  93.8,  99.4, 100. , 105.2,\n",
       "         95. ],\n",
       "       [ 92.6,  92. , 108.6, 106.4,  97.2,  83.8,  90.4,  91.8, 103.6,\n",
       "         96.6],\n",
       "       [ 86.4,  90.8,  86.6,  98.2,  87.4,  96.4,  92. ,  93.2, 100.6,\n",
       "         94. ],\n",
       "       [ 92.8,  93.2,  96.2,  88.4,  94.8,  97.6,  91. ,  94. ,  89.2,\n",
       "         92.6],\n",
       "       [ 82.6,  92.8,  94. ,  98. ,  96. ,  88.4,  89. ,  96. ,  88.8,\n",
       "         88.8],\n",
       "       [ 95.6,  88. ,  91. ,  94.4,  96.8,  94.6,  94. ,  96.6,  90. ,\n",
       "         92.2],\n",
       "       [ 89.4,  94.4,  87.6,  93.8,  94. , 100. ,  86. ,  96.6,  94.2,\n",
       "         90.6],\n",
       "       [ 83.2,  87.4,  91.8,  96. ,  89.6,  84. ,  97.2,  94.2,  89. ,\n",
       "         87.4],\n",
       "       [ 91.8,  79. ,  87.4,  94.4,  95.4,  91. ,  90.8,  93.4,  80.8,\n",
       "         75. ],\n",
       "       [ 85. , 100.6,  91.4,  94.6,  89. ,  91.8,  86.6,  92.4,  90.4,\n",
       "         92.6],\n",
       "       [ 96.6,  82.8,  89.6,  95.8,  97.2, 102. ,  86.8,  91. ,  89. ,\n",
       "        101. ],\n",
       "       [ 85. ,  96.8, 100.8,  92.6,  90.2,  95.6,  97. ,  97.6,  91.4,\n",
       "        101.4],\n",
       "       [ 97.4,  91.6,  88.8,  91. ,  99. ,  96.8,  81.2,  96.4,  95.4,\n",
       "        100. ]])"
      ]
     },
     "execution_count": 112,
     "metadata": {},
     "output_type": "execute_result"
    }
   ],
   "source": [
    "max_unmet_demand_list_grid"
   ]
  },
  {
   "cell_type": "code",
   "execution_count": 113,
   "id": "4da57be1",
   "metadata": {},
   "outputs": [
    {
     "name": "stdout",
     "output_type": "stream",
     "text": [
      "End: 2025-07-10 20:25:45\n",
      "Plotting resulting graph...\n",
      "Plotting baseline 1...\n",
      "End: 2025-07-10 20:25:45\n"
     ]
    },
    {
     "data": {
      "image/png": "[encoded data removed]",
      "text/plain": [
       "<Figure size 432x288 with 1 Axes>"
      ]
     },
     "metadata": {
      "needs_background": "light"
     },
     "output_type": "display_data"
    }
   ],
   "source": [
    "# Plot the graphs of average rewards during testing phases of the policy\n",
    "# gradient method and the hand-crafted policies\n",
    "\n",
    "print(\"End: \" + datetime.now().strftime('%Y-%m-%d %H:%M:%S'))\n",
    "\n",
    "max_scooter_per_area_list = np.arange(2,17)\n",
    "max_unmet_demand_list_grid = [np.array(avg_unmet_demand_max_2)[sel_index_2],\n",
    "                        np.array(avg_unmet_demand_max_3)[sel_index_3],\n",
    "                        np.array(avg_unmet_demand_max_4)[sel_index_4],\n",
    "                        np.array(avg_unmet_demand_max_5)[sel_index_5],\n",
    "                        np.array(avg_unmet_demand_max_6)[sel_index_6],\n",
    "                        np.array(avg_unmet_demand_max_7)[sel_index_7],\n",
    "                        np.array(avg_unmet_demand_max_8)[sel_index_8],\n",
    "                        np.array(avg_unmet_demand_max_9)[sel_index_9],\n",
    "                        np.array(avg_unmet_demand_max_10)[sel_index_10],\n",
    "                        np.array(avg_unmet_demand_max_11)[sel_index_11],\n",
    "                        np.array(avg_unmet_demand_max_12)[sel_index_12],\n",
    "                        np.array(avg_unmet_demand_max_13)[sel_index_13],\n",
    "                        np.array(avg_unmet_demand_max_14)[sel_index_14],\n",
    "                        np.array(avg_unmet_demand_max_15)[sel_index_15],\n",
    "                        np.array(avg_unmet_demand_max_16)[sel_index_16]]\n",
    "max_unmet_demand_mean_grid = []\n",
    "max_unmet_demand_std_grid = []\n",
    "for ii in range(len(max_scooter_per_area_list)):\n",
    "    max_unmet_demand_mean_grid.append(np.mean(max_unmet_demand_list_grid[ii]))\n",
    "    max_unmet_demand_std_grid.append(np.std(max_unmet_demand_list_grid[ii]))\n",
    "\n",
    "print(\"Plotting resulting graph...\")\n",
    "# plt.figure(figsize = (12, 9))\n",
    "l1 = plt.errorbar(max_scooter_per_area_list, max_unmet_demand_mean_grid, yerr=max_unmet_demand_std_grid, fmt='o-', capsize=5) # ecolor='gray', \n",
    "\n",
    "print(\"Plotting baseline 1...\")\n",
    "# plt.legend(loc='best',prop={'size': 10})\n",
    "plt.ylabel(\"Count of unmet demands\")\n",
    "plt.xlabel(\"max_scooter_per_area\")\n",
    "\n",
    "print(\"End: \" + datetime.now().strftime('%Y-%m-%d %H:%M:%S'))"
   ]
  },
  {
   "cell_type": "code",
   "execution_count": 114,
   "id": "41ea18e5",
   "metadata": {},
   "outputs": [
    {
     "name": "stdout",
     "output_type": "stream",
     "text": [
      "End: 2025-07-10 20:25:51\n",
      "Plotting resulting graph...\n",
      "Plotting baseline 1...\n",
      "End: 2025-07-10 20:25:51\n"
     ]
    },
    {
     "data": {
      "image/png": "[encoded data removed]",
      "text/plain": [
       "<Figure size 432x288 with 1 Axes>"
      ]
     },
     "metadata": {
      "needs_background": "light"
     },
     "output_type": "display_data"
    }
   ],
   "source": [
    "# Plot the graphs of average rewards during testing phases of the policy\n",
    "# gradient method and the hand-crafted policies\n",
    "\n",
    "print(\"End: \" + datetime.now().strftime('%Y-%m-%d %H:%M:%S'))\n",
    "\n",
    "max_scooter_per_area_list = np.arange(2,17)\n",
    "max_met_demand_list_grid = np.array([avg_met_demand_max_2,\n",
    "                                avg_met_demand_max_3,\n",
    "                                avg_met_demand_max_4,\n",
    "                                avg_met_demand_max_5,\n",
    "                                avg_met_demand_max_6,\n",
    "                                avg_met_demand_max_7,\n",
    "                                avg_met_demand_max_8,\n",
    "                                avg_met_demand_max_9,\n",
    "                                avg_met_demand_max_10,\n",
    "                                avg_met_demand_max_11,\n",
    "                                avg_met_demand_max_12,\n",
    "                                avg_met_demand_max_13,\n",
    "                                avg_met_demand_max_14,\n",
    "                                avg_met_demand_max_15,\n",
    "                                avg_met_demand_max_16])\n",
    "max_met_demand_mean_grid = np.mean(max_met_demand_list_grid, axis=1)\n",
    "max_met_demand_std_grid = np.std(max_met_demand_list_grid, axis=1)\n",
    "\n",
    "print(\"Plotting resulting graph...\")\n",
    "# plt.figure(figsize = (12, 9))\n",
    "l1 = plt.errorbar(max_scooter_per_area_list, max_met_demand_mean_grid, yerr=max_met_demand_std_grid, fmt='o-', capsize=5) # ecolor='gray', \n",
    "\n",
    "print(\"Plotting baseline 1...\")\n",
    "# plt.legend(loc='best',prop={'size': 10})\n",
    "plt.ylabel(\"Count of met demands\")\n",
    "plt.xlabel(\"max_scooter_per_area\")\n",
    "\n",
    "print(\"End: \" + datetime.now().strftime('%Y-%m-%d %H:%M:%S'))"
   ]
  },
  {
   "cell_type": "code",
   "execution_count": 115,
   "id": "4e8f1897",
   "metadata": {
    "scrolled": true
   },
   "outputs": [
    {
     "data": {
      "text/plain": [
       "array([[ 68.8,  74.2,  67. ,  65.8,  68.8,  71.8,  65.6,  68.4,  72.4,\n",
       "         75. ],\n",
       "       [ 81. ,  83.6,  82.2,  82.6,  83. ,  70. ,  81.8,  83. ,  81. ,\n",
       "         72.4],\n",
       "       [ 82.8,  85.8,  88. ,  91.4,  84.4,  85.4,  81. ,  87. ,  86.6,\n",
       "         88.8],\n",
       "       [ 81.8,  85.6,  87.8,  91. ,  88.6,  87.8,  90. ,  80.4,  80. ,\n",
       "         88.6],\n",
       "       [ 95.2,  92.6,  85.2,  90. ,  84.2,  92.2,  83.4,  84.4,  77. ,\n",
       "         89.6],\n",
       "       [ 93. ,  87.2,  90.4,  89.8,  90.4,  79.6,  92.6,  85. ,  90. ,\n",
       "         90.8],\n",
       "       [ 97.8,  89.2,  84. ,  92.4,  86.8,  88.4,  84. ,  82.2,  92.8,\n",
       "         89.4],\n",
       "       [ 82.6,  90. ,  82. ,  99. ,  88. ,  87.8,  89.8,  84.2,  90.2,\n",
       "         86. ],\n",
       "       [ 92.2,  98.4,  92. ,  88. ,  78.8,  82.8, 100. ,  83.2,  92.4,\n",
       "         91.4],\n",
       "       [ 92.4,  87.2,  95.8,  89. ,  88.6,  91.2,  93.4,  92.2,  97. ,\n",
       "         86.8],\n",
       "       [ 97.4,  96. ,  81.6,  83.6,  88.8,  87.4,  86.4,  88.4,  94.4,\n",
       "         91.2],\n",
       "       [ 93.8,  95.4,  87.8,  88.8,  85.4,  93. ,  97.6,  88.2,  93.2,\n",
       "         91.2],\n",
       "       [ 91. ,  90. ,  86.2,  86.8,  92.4,  84. ,  91.8,  89.2,  88.6,\n",
       "         84. ],\n",
       "       [ 90.2,  94.2,  77.8,  93.2,  92.4,  98.4,  90.6,  81.6,  93.8,\n",
       "         85.8],\n",
       "       [ 90.6,  88. ,  97.2,  92.4,  92.6,  82. ,  91.8,  87.8,  91. ,\n",
       "         84.4]])"
      ]
     },
     "execution_count": 115,
     "metadata": {},
     "output_type": "execute_result"
    }
   ],
   "source": [
    "max_met_demand_list_grid"
   ]
  },
  {
   "cell_type": "code",
   "execution_count": 116,
   "id": "1947f7a4",
   "metadata": {},
   "outputs": [
    {
     "name": "stdout",
     "output_type": "stream",
     "text": [
      "End: 2025-07-10 20:25:55\n",
      "Plotting resulting graph...\n",
      "Plotting baseline 1...\n",
      "End: 2025-07-10 20:25:55\n"
     ]
    },
    {
     "data": {
      "image/png": "[encoded data removed]",
      "text/plain": [
       "<Figure size 432x288 with 1 Axes>"
      ]
     },
     "metadata": {
      "needs_background": "light"
     },
     "output_type": "display_data"
    }
   ],
   "source": [
    "# Plot the graphs of average rewards during testing phases of the policy\n",
    "# gradient method and the hand-crafted policies\n",
    "\n",
    "print(\"End: \" + datetime.now().strftime('%Y-%m-%d %H:%M:%S'))\n",
    "\n",
    "max_scooter_per_area_list = np.arange(2,17)\n",
    "max_met_demand_list_grid = [np.array(avg_met_demand_max_2)[sel_index_2],\n",
    "                        np.array(avg_met_demand_max_3)[sel_index_3],\n",
    "                        np.array(avg_met_demand_max_4)[sel_index_4],\n",
    "                        np.array(avg_met_demand_max_5)[sel_index_5],\n",
    "                        np.array(avg_met_demand_max_6)[sel_index_6],\n",
    "                        np.array(avg_met_demand_max_7)[sel_index_7],\n",
    "                        np.array(avg_met_demand_max_8)[sel_index_8],\n",
    "                        np.array(avg_met_demand_max_9)[sel_index_9],\n",
    "                        np.array(avg_met_demand_max_10)[sel_index_10],\n",
    "                        np.array(avg_met_demand_max_11)[sel_index_11],\n",
    "                        np.array(avg_met_demand_max_12)[sel_index_12],\n",
    "                        np.array(avg_met_demand_max_13)[sel_index_13],\n",
    "                        np.array(avg_met_demand_max_14)[sel_index_14],\n",
    "                        np.array(avg_met_demand_max_15)[sel_index_15],\n",
    "                        np.array(avg_met_demand_max_16)[sel_index_16]]\n",
    "max_met_demand_mean_grid = []\n",
    "max_met_demand_std_grid = []\n",
    "for ii in range(len(max_scooter_per_area_list)):\n",
    "    max_met_demand_mean_grid.append(np.mean(max_met_demand_list_grid[ii]))\n",
    "    max_met_demand_std_grid.append(np.std(max_met_demand_list_grid[ii]))\n",
    "\n",
    "print(\"Plotting resulting graph...\")\n",
    "# plt.figure(figsize = (12, 9))\n",
    "l1 = plt.errorbar(max_scooter_per_area_list, max_met_demand_mean_grid, yerr=max_met_demand_std_grid, fmt='o-', capsize=5) # ecolor='gray', \n",
    "\n",
    "print(\"Plotting baseline 1...\")\n",
    "# plt.legend(loc='best',prop={'size': 10})\n",
    "plt.ylabel(\"Count of met demands\")\n",
    "plt.xlabel(\"max_scooter_per_area\")\n",
    "\n",
    "print(\"End: \" + datetime.now().strftime('%Y-%m-%d %H:%M:%S'))"
   ]
  },
  {
   "cell_type": "code",
   "execution_count": 117,
   "id": "2f1350b0",
   "metadata": {
    "scrolled": false
   },
   "outputs": [
    {
     "name": "stdout",
     "output_type": "stream",
     "text": [
      "End: 2025-07-10 20:26:00\n",
      "Plotting resulting graph...\n",
      "Plotting baseline 1...\n",
      "End: 2025-07-10 20:26:01\n"
     ]
    },
    {
     "data": {
      "image/png": "[encoded data removed]",
      "text/plain": [
       "<Figure size 432x288 with 1 Axes>"
      ]
     },
     "metadata": {
      "needs_background": "light"
     },
     "output_type": "display_data"
    }
   ],
   "source": [
    "# Plot the graphs of average rewards during testing phases of the policy\n",
    "# gradient method and the hand-crafted policies\n",
    "\n",
    "print(\"End: \" + datetime.now().strftime('%Y-%m-%d %H:%M:%S'))\n",
    "\n",
    "max_scooter_per_area_list = np.arange(2,17)\n",
    "max_scooter_num_list_grid = np.array([avg_scooter_num_max_2,\n",
    "                                avg_scooter_num_max_3,\n",
    "                                avg_scooter_num_max_4,\n",
    "                                avg_scooter_num_max_5,\n",
    "                                avg_scooter_num_max_6,\n",
    "                                avg_scooter_num_max_7,\n",
    "                                avg_scooter_num_max_8,\n",
    "                                avg_scooter_num_max_9,\n",
    "                                avg_scooter_num_max_10,\n",
    "                                avg_scooter_num_max_11,\n",
    "                                avg_scooter_num_max_12,\n",
    "                                avg_scooter_num_max_13,\n",
    "                                avg_scooter_num_max_14,\n",
    "                                avg_scooter_num_max_15,\n",
    "                                avg_scooter_num_max_16])\n",
    "max_scooter_num_mean_grid = np.mean(max_scooter_num_list_grid, axis=1)\n",
    "max_scooter_num_std_grid = np.std(max_scooter_num_list_grid, axis=1)\n",
    "\n",
    "print(\"Plotting resulting graph...\")\n",
    "# plt.figure(figsize = (12, 9))\n",
    "l1 = plt.errorbar(max_scooter_per_area_list, max_scooter_num_mean_grid, yerr=max_scooter_num_std_grid, fmt='o-', capsize=5) # ecolor='gray', \n",
    "\n",
    "print(\"Plotting baseline 1...\")\n",
    "# plt.legend(loc='best',prop={'size': 10})\n",
    "plt.ylabel(\"Count of scooter numbers\")\n",
    "plt.xlabel(\"max_scooter_per_area\")\n",
    "\n",
    "print(\"End: \" + datetime.now().strftime('%Y-%m-%d %H:%M:%S'))"
   ]
  },
  {
   "cell_type": "code",
   "execution_count": 118,
   "id": "7134e208",
   "metadata": {},
   "outputs": [
    {
     "data": {
      "text/plain": [
       "array([[144., 144., 127., 141., 143., 142., 141., 134., 131., 147.],\n",
       "       [157., 153., 154., 160., 153., 142., 160., 155., 163., 154.],\n",
       "       [165., 177., 148., 155., 165., 159., 152., 162., 160., 164.],\n",
       "       [175., 164., 164., 170., 174., 169., 160., 156., 156., 157.],\n",
       "       [186., 181., 173., 174., 172., 164., 160., 157., 152., 171.],\n",
       "       [180., 170., 181., 169., 168., 149., 176., 165., 181., 177.],\n",
       "       [187., 177., 159., 173., 166., 179., 173., 154., 175., 173.],\n",
       "       [168., 176., 154., 188., 164., 171., 171., 156., 171., 160.],\n",
       "       [186., 182., 171., 171., 153., 174., 186., 171., 166., 173.],\n",
       "       [171., 162., 181., 166., 175., 167., 170., 171., 186., 177.],\n",
       "       [171., 171., 166., 172., 166., 158., 166., 169., 179., 178.],\n",
       "       [180., 166., 173., 170., 171., 173., 197., 176., 166., 171.],\n",
       "       [181., 183., 162., 157., 171., 162., 181., 173., 174., 171.],\n",
       "       [177., 177., 153., 179., 179., 189., 181., 167., 165., 170.],\n",
       "       [173., 169., 176., 171., 165., 166., 184., 161., 174., 167.]])"
      ]
     },
     "execution_count": 118,
     "metadata": {},
     "output_type": "execute_result"
    }
   ],
   "source": [
    "max_scooter_num_list_grid"
   ]
  },
  {
   "cell_type": "code",
   "execution_count": 119,
   "id": "f6957f55",
   "metadata": {},
   "outputs": [
    {
     "name": "stdout",
     "output_type": "stream",
     "text": [
      "End: 2025-07-10 20:26:04\n",
      "Plotting resulting graph...\n",
      "Plotting baseline 1...\n",
      "End: 2025-07-10 20:26:04\n"
     ]
    },
    {
     "data": {
      "image/png": "[encoded data removed]",
      "text/plain": [
       "<Figure size 432x288 with 1 Axes>"
      ]
     },
     "metadata": {
      "needs_background": "light"
     },
     "output_type": "display_data"
    }
   ],
   "source": [
    "# Plot the graphs of average rewards during testing phases of the policy\n",
    "# gradient method and the hand-crafted policies\n",
    "\n",
    "print(\"End: \" + datetime.now().strftime('%Y-%m-%d %H:%M:%S'))\n",
    "\n",
    "max_scooter_per_area_list = np.arange(2,17)\n",
    "max_scooter_num_list_grid = [np.array(avg_scooter_num_max_2)[sel_index_2],\n",
    "                        np.array(avg_scooter_num_max_3)[sel_index_3],\n",
    "                        np.array(avg_scooter_num_max_4)[sel_index_4],\n",
    "                        np.array(avg_scooter_num_max_5)[sel_index_5],\n",
    "                        np.array(avg_scooter_num_max_6)[sel_index_6],\n",
    "                        np.array(avg_scooter_num_max_7)[sel_index_7],\n",
    "                        np.array(avg_scooter_num_max_8)[sel_index_8],\n",
    "                        np.array(avg_scooter_num_max_9)[sel_index_9],\n",
    "                        np.array(avg_scooter_num_max_10)[sel_index_10],\n",
    "                        np.array(avg_scooter_num_max_11)[sel_index_11],\n",
    "                        np.array(avg_scooter_num_max_12)[sel_index_12],\n",
    "                        np.array(avg_scooter_num_max_13)[sel_index_13],\n",
    "                        np.array(avg_scooter_num_max_14)[sel_index_14],\n",
    "                        np.array(avg_scooter_num_max_15)[sel_index_15],\n",
    "                        np.array(avg_scooter_num_max_16)[sel_index_16]]\n",
    "max_scooter_num_mean_grid = []\n",
    "max_scooter_num_std_grid = []\n",
    "for ii in range(len(max_scooter_per_area_list)):\n",
    "    max_scooter_num_mean_grid.append(np.mean(max_scooter_num_list_grid[ii]))\n",
    "    max_scooter_num_std_grid.append(np.std(max_scooter_num_list_grid[ii]))\n",
    "\n",
    "print(\"Plotting resulting graph...\")\n",
    "# plt.figure(figsize = (12, 9))\n",
    "l1 = plt.errorbar(max_scooter_per_area_list, max_scooter_num_mean_grid, yerr=max_scooter_num_std_grid, fmt='o-', capsize=5) # ecolor='gray', \n",
    "\n",
    "print(\"Plotting baseline 1...\")\n",
    "# plt.legend(loc='best',prop={'size': 10})\n",
    "plt.ylabel(\"Count of scooter numbers\")\n",
    "plt.xlabel(\"max_scooter_per_area\")\n",
    "\n",
    "print(\"End: \" + datetime.now().strftime('%Y-%m-%d %H:%M:%S'))"
   ]
  },
  {
   "cell_type": "code",
   "execution_count": 120,
   "id": "e1c54dee",
   "metadata": {},
   "outputs": [
    {
     "name": "stdout",
     "output_type": "stream",
     "text": [
      "End: 2025-07-10 20:26:11\n",
      "Plotting resulting graph...\n",
      "Plotting baseline 1...\n",
      "End: 2025-07-10 20:26:11\n"
     ]
    },
    {
     "data": {
      "image/png": "[encoded data removed]",
      "text/plain": [
       "<Figure size 432x288 with 1 Axes>"
      ]
     },
     "metadata": {
      "needs_background": "light"
     },
     "output_type": "display_data"
    }
   ],
   "source": [
    "# Plot the graphs of average rewards during testing phases of the policy\n",
    "# gradient method and the hand-crafted policies\n",
    "\n",
    "print(\"End: \" + datetime.now().strftime('%Y-%m-%d %H:%M:%S'))\n",
    "\n",
    "max_scooter_per_area_list = np.arange(2,17)\n",
    "max_scooter_loc_list_grid = np.array([avg_scooter_loc_max_2,\n",
    "                                avg_scooter_loc_max_3,\n",
    "                                avg_scooter_loc_max_4,\n",
    "                                avg_scooter_loc_max_5,\n",
    "                                avg_scooter_loc_max_6,\n",
    "                                avg_scooter_loc_max_7,\n",
    "                                avg_scooter_loc_max_8,\n",
    "                                avg_scooter_loc_max_9,\n",
    "                                avg_scooter_loc_max_10,\n",
    "                                avg_scooter_loc_max_11,\n",
    "                                avg_scooter_loc_max_12,\n",
    "                                avg_scooter_loc_max_13,\n",
    "                                avg_scooter_loc_max_14,\n",
    "                                avg_scooter_loc_max_15,\n",
    "                                avg_scooter_loc_max_16])\n",
    "max_scooter_loc_mean_grid = np.mean(max_scooter_loc_list_grid, axis=1)\n",
    "max_scooter_loc_std_grid = np.std(max_scooter_loc_list_grid, axis=1)\n",
    "\n",
    "print(\"Plotting resulting graph...\")\n",
    "# plt.figure(figsize = (12, 9))\n",
    "l1 = plt.errorbar(max_scooter_per_area_list, max_scooter_loc_mean_grid, yerr=max_scooter_loc_std_grid, fmt='o-', capsize=5) # ecolor='gray', \n",
    "\n",
    "print(\"Plotting baseline 1...\")\n",
    "# plt.legend(loc='best',prop={'size': 10})\n",
    "plt.ylabel(\"Count of scooter locations\")\n",
    "plt.xlabel(\"max_scooter_per_area\")\n",
    "\n",
    "print(\"End: \" + datetime.now().strftime('%Y-%m-%d %H:%M:%S'))"
   ]
  },
  {
   "cell_type": "code",
   "execution_count": 121,
   "id": "909b5738",
   "metadata": {
    "scrolled": true
   },
   "outputs": [
    {
     "data": {
      "text/plain": [
       "array([[116, 117,  99, 113, 113, 112, 118, 109, 104, 117],\n",
       "       [110, 113, 103, 114, 111, 105, 106, 104, 116, 117],\n",
       "       [111, 119,  99, 104, 114, 108, 109, 103, 111, 110],\n",
       "       [113, 107, 105, 110, 111, 119,  94, 105, 108, 101],\n",
       "       [112, 119, 114, 114, 117, 108, 108, 101,  95, 109],\n",
       "       [115, 109, 114,  98, 114,  94, 107, 102, 111, 111],\n",
       "       [112, 113, 105, 112,  99, 111, 117, 102, 110, 106],\n",
       "       [109, 110,  96, 117, 103, 107, 108, 101, 106,  99],\n",
       "       [120, 118, 101, 104, 103, 113, 120, 104,  97, 108],\n",
       "       [115, 101, 112, 102, 113, 104, 108, 112, 124, 107],\n",
       "       [102, 102, 105, 105, 103,  96, 105, 108, 115, 106],\n",
       "       [103, 106, 106, 110, 107, 106, 127, 108, 109, 110],\n",
       "       [120, 111, 104,  95, 112, 105, 117, 114, 108, 113],\n",
       "       [109, 112,  99, 109, 117, 115, 126, 110, 100, 113],\n",
       "       [115, 112, 114, 102,  96, 109, 126, 100, 100,  99]])"
      ]
     },
     "execution_count": 121,
     "metadata": {},
     "output_type": "execute_result"
    }
   ],
   "source": [
    "max_scooter_loc_list_grid"
   ]
  },
  {
   "cell_type": "code",
   "execution_count": 122,
   "id": "f4b1d750",
   "metadata": {},
   "outputs": [
    {
     "name": "stdout",
     "output_type": "stream",
     "text": [
      "End: 2025-07-10 20:26:13\n",
      "Plotting resulting graph...\n",
      "Plotting baseline 1...\n",
      "End: 2025-07-10 20:26:13\n"
     ]
    },
    {
     "data": {
      "image/png": "[encoded data removed]",
      "text/plain": [
       "<Figure size 432x288 with 1 Axes>"
      ]
     },
     "metadata": {
      "needs_background": "light"
     },
     "output_type": "display_data"
    }
   ],
   "source": [
    "# Plot the graphs of average rewards during testing phases of the policy\n",
    "# gradient method and the hand-crafted policies\n",
    "\n",
    "print(\"End: \" + datetime.now().strftime('%Y-%m-%d %H:%M:%S'))\n",
    "\n",
    "max_scooter_per_area_list = np.arange(2,17)\n",
    "max_scooter_loc_list_grid = [np.array(avg_scooter_loc_max_2)[sel_index_2],\n",
    "                        np.array(avg_scooter_loc_max_3)[sel_index_3],\n",
    "                        np.array(avg_scooter_loc_max_4)[sel_index_4],\n",
    "                        np.array(avg_scooter_loc_max_5)[sel_index_5],\n",
    "                        np.array(avg_scooter_loc_max_6)[sel_index_6],\n",
    "                        np.array(avg_scooter_loc_max_7)[sel_index_7],\n",
    "                        np.array(avg_scooter_loc_max_8)[sel_index_8],\n",
    "                        np.array(avg_scooter_loc_max_9)[sel_index_9],\n",
    "                        np.array(avg_scooter_loc_max_10)[sel_index_10],\n",
    "                        np.array(avg_scooter_loc_max_11)[sel_index_11],\n",
    "                        np.array(avg_scooter_loc_max_12)[sel_index_12],\n",
    "                        np.array(avg_scooter_loc_max_13)[sel_index_13],\n",
    "                        np.array(avg_scooter_loc_max_14)[sel_index_14],\n",
    "                        np.array(avg_scooter_loc_max_15)[sel_index_15],\n",
    "                        np.array(avg_scooter_loc_max_16)[sel_index_16]]\n",
    "max_scooter_loc_mean_grid = []\n",
    "max_scooter_loc_std_grid = []\n",
    "for ii in range(len(max_scooter_per_area_list)):\n",
    "    max_scooter_loc_mean_grid.append(np.mean(max_scooter_loc_list_grid[ii]))\n",
    "    max_scooter_loc_std_grid.append(np.std(max_scooter_loc_list_grid[ii]))\n",
    "\n",
    "print(\"Plotting resulting graph...\")\n",
    "# plt.figure(figsize = (12, 9))\n",
    "l1 = plt.errorbar(max_scooter_per_area_list, max_scooter_loc_mean_grid, yerr=max_scooter_loc_std_grid, fmt='o-', capsize=5) # ecolor='gray', \n",
    "\n",
    "print(\"Plotting baseline 1...\")\n",
    "# plt.legend(loc='best',prop={'size': 10})\n",
    "plt.ylabel(\"Count of scooter locations\")\n",
    "plt.xlabel(\"max_scooter_per_area\")\n",
    "\n",
    "print(\"End: \" + datetime.now().strftime('%Y-%m-%d %H:%M:%S'))"
   ]
  },
  {
   "cell_type": "code",
   "execution_count": 123,
   "id": "395b0814",
   "metadata": {},
   "outputs": [
    {
     "name": "stdout",
     "output_type": "stream",
     "text": [
      "End: 2025-07-10 20:26:14\n",
      "Plotting resulting graph...\n",
      "Plotting baseline 1...\n",
      "End: 2025-07-10 20:26:14\n"
     ]
    },
    {
     "data": {
      "image/png": "[encoded data removed]",
      "text/plain": [
       "<Figure size 432x288 with 1 Axes>"
      ]
     },
     "metadata": {
      "needs_background": "light"
     },
     "output_type": "display_data"
    }
   ],
   "source": [
    "# Plot the graphs of average rewards during testing phases of the policy\n",
    "# gradient method and the hand-crafted policies\n",
    "\n",
    "print(\"End: \" + datetime.now().strftime('%Y-%m-%d %H:%M:%S'))\n",
    "\n",
    "max_scooter_per_area_list = np.arange(2,17)\n",
    "max_wANNR_list_grid = np.array([avg_wANNR_max_2,\n",
    "                                avg_wANNR_max_3,\n",
    "                                avg_wANNR_max_4,\n",
    "                                avg_wANNR_max_5,\n",
    "                                avg_wANNR_max_6,\n",
    "                                avg_wANNR_max_7,\n",
    "                                avg_wANNR_max_8,\n",
    "                                avg_wANNR_max_9,\n",
    "                                avg_wANNR_max_10,\n",
    "                                avg_wANNR_max_11,\n",
    "                                avg_wANNR_max_12,\n",
    "                                avg_wANNR_max_13,\n",
    "                                avg_wANNR_max_14,\n",
    "                                avg_wANNR_max_15,\n",
    "                                avg_wANNR_max_16])\n",
    "max_wANNR_mean_grid = np.mean(max_wANNR_list_grid, axis=1)\n",
    "max_wANNR_std_grid = np.std(max_wANNR_list_grid, axis=1)\n",
    "\n",
    "print(\"Plotting resulting graph...\")\n",
    "# plt.figure(figsize = (12, 9))\n",
    "l1 = plt.errorbar(max_scooter_per_area_list, max_wANNR_mean_grid, yerr=max_wANNR_std_grid, fmt='o-', capsize=5) # ecolor='gray', \n",
    "\n",
    "print(\"Plotting baseline 1...\")\n",
    "# plt.legend(loc='best',prop={'size': 10})\n",
    "plt.ylabel(\"wANNR\")\n",
    "plt.xlabel(\"max_scooter_per_area\")\n",
    "\n",
    "print(\"End: \" + datetime.now().strftime('%Y-%m-%d %H:%M:%S'))"
   ]
  },
  {
   "cell_type": "code",
   "execution_count": 124,
   "id": "3aafeb84",
   "metadata": {},
   "outputs": [
    {
     "data": {
      "text/plain": [
       "array([[0.42904554, 0.43200572, 0.40288858, 0.42451425, 0.43052415,\n",
       "        0.42602692, 0.42452385, 0.41386264, 0.40919423, 0.43349077],\n",
       "       [0.44796264, 0.44221976, 0.44367153, 0.45222222, 0.44222901,\n",
       "        0.43029643, 0.45222236, 0.44510047, 0.45924215, 0.4436904 ],\n",
       "       [0.45922452, 0.4783353 , 0.4349438 , 0.44509084, 0.45922461,\n",
       "        0.45081588, 0.44076313, 0.45503992, 0.45221269, 0.45783966],\n",
       "       [0.47406124, 0.45784901, 0.45784885, 0.46729033, 0.47158259,\n",
       "        0.4647667 , 0.4522222 , 0.4465523 , 0.44653394, 0.44797211],\n",
       "       [0.48759839, 0.48364936, 0.47025209, 0.47271117, 0.46888222,\n",
       "        0.46130688, 0.45223156, 0.44795339, 0.44079044, 0.46749941],\n",
       "       [0.47967869, 0.46613938, 0.48099217, 0.46476645, 0.4633986 ,\n",
       "        0.43640078, 0.47429395, 0.45922442, 0.48098338, 0.47565672],\n",
       "       [0.49456754, 0.47565643, 0.45081589, 0.47023429, 0.46404863,\n",
       "        0.47830998, 0.47023418, 0.44654336, 0.47294455, 0.47023401],\n",
       "       [0.46613862, 0.47430251, 0.44367204, 0.49018743, 0.4606224 ,\n",
       "        0.46750812, 0.46865562, 0.44654294, 0.46751689, 0.45224021],\n",
       "       [0.4875814 , 0.48495178, 0.47024244, 0.4675084 , 0.44221981,\n",
       "        0.47159146, 0.48758993, 0.47024231, 0.46062296, 0.47022563],\n",
       "       [0.4674993 , 0.45503067, 0.48363218, 0.46061427, 0.47295331,\n",
       "        0.46200813, 0.46888133, 0.46750874, 0.48760707, 0.47675834],\n",
       "       [0.4675085 , 0.4675085 , 0.46062317, 0.46889127, 0.46062304,\n",
       "        0.44938712, 0.46062316, 0.46475752, 0.47833623, 0.47698078],\n",
       "       [0.47964451, 0.46176992, 0.47023452, 0.46889919, 0.46750847,\n",
       "        0.47023446, 0.50179133, 0.47429381, 0.46061432, 0.4675085 ],\n",
       "       [0.48099207, 0.48365049, 0.4550306 , 0.451995  , 0.46749964,\n",
       "        0.45503969, 0.48097497, 0.47023439, 0.47160033, 0.46749988],\n",
       "       [0.4756481 , 0.47674919, 0.44220991, 0.47831012, 0.47832758,\n",
       "        0.49150619, 0.48099205, 0.46201745, 0.45923351, 0.46613922],\n",
       "       [0.47567065, 0.46476662, 0.47430267, 0.46753488, 0.45923353,\n",
       "        0.46064987, 0.48495295, 0.45363322, 0.47159128, 0.46202642]])"
      ]
     },
     "execution_count": 124,
     "metadata": {},
     "output_type": "execute_result"
    }
   ],
   "source": [
    "max_wANNR_list_grid"
   ]
  },
  {
   "cell_type": "code",
   "execution_count": 125,
   "id": "66db0af5",
   "metadata": {},
   "outputs": [
    {
     "name": "stdout",
     "output_type": "stream",
     "text": [
      "End: 2025-07-10 20:26:16\n",
      "Plotting resulting graph...\n",
      "Plotting baseline 1...\n",
      "End: 2025-07-10 20:26:16\n"
     ]
    },
    {
     "data": {
      "image/png": "[encoded data removed]",
      "text/plain": [
       "<Figure size 432x288 with 1 Axes>"
      ]
     },
     "metadata": {
      "needs_background": "light"
     },
     "output_type": "display_data"
    }
   ],
   "source": [
    "# Plot the graphs of average rewards during testing phases of the policy\n",
    "# gradient method and the hand-crafted policies\n",
    "\n",
    "print(\"End: \" + datetime.now().strftime('%Y-%m-%d %H:%M:%S'))\n",
    "\n",
    "max_scooter_per_area_list = np.arange(2,17)\n",
    "max_wANNR_list_grid = [np.array(avg_wANNR_max_2)[sel_index_2],\n",
    "                        np.array(avg_wANNR_max_3)[sel_index_3],\n",
    "                        np.array(avg_wANNR_max_4)[sel_index_4],\n",
    "                        np.array(avg_wANNR_max_5)[sel_index_5],\n",
    "                        np.array(avg_wANNR_max_6)[sel_index_6],\n",
    "                        np.array(avg_wANNR_max_7)[sel_index_7],\n",
    "                        np.array(avg_wANNR_max_8)[sel_index_8],\n",
    "                        np.array(avg_wANNR_max_9)[sel_index_9],\n",
    "                        np.array(avg_wANNR_max_10)[sel_index_10],\n",
    "                        np.array(avg_wANNR_max_11)[sel_index_11],\n",
    "                        np.array(avg_wANNR_max_12)[sel_index_12],\n",
    "                        np.array(avg_wANNR_max_13)[sel_index_13],\n",
    "                        np.array(avg_wANNR_max_14)[sel_index_14],\n",
    "                        np.array(avg_wANNR_max_15)[sel_index_15],\n",
    "                        np.array(avg_wANNR_max_16)[sel_index_16]]\n",
    "max_wANNR_mean_grid = []\n",
    "max_wANNR_std_grid = []\n",
    "for ii in range(len(max_scooter_per_area_list)):\n",
    "    max_wANNR_mean_grid.append(np.mean(max_wANNR_list_grid[ii]))\n",
    "    max_wANNR_std_grid.append(np.std(max_wANNR_list_grid[ii]))\n",
    "\n",
    "print(\"Plotting resulting graph...\")\n",
    "# plt.figure(figsize = (12, 9))\n",
    "l1 = plt.errorbar(max_scooter_per_area_list, max_wANNR_mean_grid, yerr=max_wANNR_std_grid, fmt='o-', capsize=5) # ecolor='gray', \n",
    "\n",
    "print(\"Plotting baseline 1...\")\n",
    "# plt.legend(loc='best',prop={'size': 10})\n",
    "plt.ylabel(\"wANNR\")\n",
    "plt.xlabel(\"max_scooter_per_area\")\n",
    "\n",
    "print(\"End: \" + datetime.now().strftime('%Y-%m-%d %H:%M:%S'))"
   ]
  },
  {
   "cell_type": "code",
   "execution_count": 126,
   "id": "1995c33d",
   "metadata": {},
   "outputs": [
    {
     "name": "stdout",
     "output_type": "stream",
     "text": [
      "End: 2025-07-10 20:26:17\n",
      "Plotting resulting graph...\n",
      "Plotting baseline 1...\n",
      "End: 2025-07-10 20:26:17\n"
     ]
    },
    {
     "data": {
      "image/png": "[encoded data removed]",
      "text/plain": [
       "<Figure size 432x288 with 1 Axes>"
      ]
     },
     "metadata": {
      "needs_background": "light"
     },
     "output_type": "display_data"
    }
   ],
   "source": [
    "# Plot the graphs of average rewards during testing phases of the policy\n",
    "# gradient method and the hand-crafted policies\n",
    "\n",
    "print(\"End: \" + datetime.now().strftime('%Y-%m-%d %H:%M:%S'))\n",
    "\n",
    "max_scooter_per_area_list = np.arange(2,17)\n",
    "max_moran_list_grid = np.array([avg_moran_max_2,\n",
    "                                avg_moran_max_3,\n",
    "                                avg_moran_max_4,\n",
    "                                avg_moran_max_5,\n",
    "                                avg_moran_max_6,\n",
    "                                avg_moran_max_7,\n",
    "                                avg_moran_max_8,\n",
    "                                avg_moran_max_9,\n",
    "                                avg_moran_max_10,\n",
    "                                avg_moran_max_11,\n",
    "                                avg_moran_max_12,\n",
    "                                avg_moran_max_13,\n",
    "                                avg_moran_max_14,\n",
    "                                avg_moran_max_15,\n",
    "                                avg_moran_max_16])\n",
    "max_moran_mean_grid = np.mean(max_moran_list_grid, axis=1)\n",
    "max_moran_std_grid = np.std(max_moran_list_grid, axis=1)\n",
    "\n",
    "print(\"Plotting resulting graph...\")\n",
    "# plt.figure(figsize = (12, 9))\n",
    "l1 = plt.errorbar(max_scooter_per_area_list, max_moran_mean_grid, yerr=max_moran_std_grid, fmt='o-', capsize=5) # ecolor='gray', \n",
    "\n",
    "print(\"Plotting baseline 1...\")\n",
    "# plt.legend(loc='best',prop={'size': 10})\n",
    "plt.ylabel(\"Moran's I\")\n",
    "plt.xlabel(\"max_scooter_per_area\")\n",
    "\n",
    "print(\"End: \" + datetime.now().strftime('%Y-%m-%d %H:%M:%S'))"
   ]
  },
  {
   "cell_type": "code",
   "execution_count": 127,
   "id": "c15474f8",
   "metadata": {},
   "outputs": [
    {
     "data": {
      "text/plain": [
       "array([[0.03908873, 0.05016423, 0.04895985, 0.04252772, 0.04038227,\n",
       "        0.04283018, 0.04216709, 0.0498676 , 0.05316354, 0.04776984],\n",
       "       [0.0497532 , 0.04664626, 0.04074337, 0.04636129, 0.05051295,\n",
       "        0.04676432, 0.06005879, 0.05186824, 0.04741855, 0.03643094],\n",
       "       [0.04489472, 0.04481497, 0.03381759, 0.04458004, 0.05545456,\n",
       "        0.03953116, 0.04027139, 0.04471465, 0.04087256, 0.04079137],\n",
       "       [0.03683324, 0.04271287, 0.04536076, 0.0422825 , 0.05079894,\n",
       "        0.04540319, 0.04333504, 0.04889541, 0.0416526 , 0.04580121],\n",
       "       [0.04333674, 0.04620379, 0.04283057, 0.04041687, 0.04847364,\n",
       "        0.03996586, 0.04492318, 0.03422933, 0.03894288, 0.0491414 ],\n",
       "       [0.04261037, 0.04078781, 0.03599222, 0.03982483, 0.0395591 ,\n",
       "        0.03441101, 0.04701624, 0.03830945, 0.04031807, 0.03826775],\n",
       "       [0.04634444, 0.04196458, 0.03465327, 0.0421148 , 0.03779774,\n",
       "        0.03435668, 0.04170517, 0.03530735, 0.04082313, 0.03821105],\n",
       "       [0.03935572, 0.04436228, 0.04583113, 0.04016149, 0.03714142,\n",
       "        0.0414255 , 0.03438917, 0.03509045, 0.04010069, 0.03716761],\n",
       "       [0.04358348, 0.04411268, 0.04169528, 0.03652875, 0.03527358,\n",
       "        0.03283962, 0.04529589, 0.03397133, 0.03687243, 0.04028997],\n",
       "       [0.03857624, 0.04639627, 0.04134427, 0.04002798, 0.03686287,\n",
       "        0.04501601, 0.04396945, 0.04887856, 0.04169858, 0.04393714],\n",
       "       [0.04733834, 0.04733834, 0.03391361, 0.03954649, 0.04213329,\n",
       "        0.04134439, 0.04155692, 0.04001227, 0.04629775, 0.04284017],\n",
       "       [0.04221555, 0.03572925, 0.0444323 , 0.05052507, 0.04153939,\n",
       "        0.04867739, 0.04122487, 0.03921951, 0.04440716, 0.03882381],\n",
       "       [0.04210925, 0.0392144 , 0.04399959, 0.03536716, 0.04174875,\n",
       "        0.03229407, 0.03652641, 0.03768255, 0.04424207, 0.04188273],\n",
       "       [0.04315193, 0.04505621, 0.03610435, 0.03928789, 0.0387422 ,\n",
       "        0.04493168, 0.04268524, 0.04196645, 0.03890714, 0.04408285],\n",
       "       [0.03429423, 0.03810373, 0.04281493, 0.03869827, 0.03907377,\n",
       "        0.03906629, 0.04488607, 0.03764263, 0.04459149, 0.03339624]])"
      ]
     },
     "execution_count": 127,
     "metadata": {},
     "output_type": "execute_result"
    }
   ],
   "source": [
    "max_moran_list_grid"
   ]
  },
  {
   "cell_type": "code",
   "execution_count": 128,
   "id": "bbec88e4",
   "metadata": {},
   "outputs": [
    {
     "name": "stdout",
     "output_type": "stream",
     "text": [
      "End: 2025-07-10 20:26:26\n",
      "Plotting resulting graph...\n",
      "Plotting baseline 1...\n",
      "End: 2025-07-10 20:26:26\n"
     ]
    },
    {
     "data": {
      "image/png": "[encoded data removed]",
      "text/plain": [
       "<Figure size 432x288 with 1 Axes>"
      ]
     },
     "metadata": {
      "needs_background": "light"
     },
     "output_type": "display_data"
    }
   ],
   "source": [
    "# Plot the graphs of average rewards during testing phases of the policy\n",
    "# gradient method and the hand-crafted policies\n",
    "\n",
    "print(\"End: \" + datetime.now().strftime('%Y-%m-%d %H:%M:%S'))\n",
    "\n",
    "max_scooter_per_area_list = np.arange(2,17)\n",
    "max_moran_list_grid = [np.array(avg_moran_max_2)[sel_index_2],\n",
    "                        np.array(avg_moran_max_3)[sel_index_3],\n",
    "                        np.array(avg_moran_max_4)[sel_index_4],\n",
    "                        np.array(avg_moran_max_5)[sel_index_5],\n",
    "                        np.array(avg_moran_max_6)[sel_index_6],\n",
    "                        np.array(avg_moran_max_7)[sel_index_7],\n",
    "                        np.array(avg_moran_max_8)[sel_index_8],\n",
    "                        np.array(avg_moran_max_9)[sel_index_9],\n",
    "                        np.array(avg_moran_max_10)[sel_index_10],\n",
    "                        np.array(avg_moran_max_11)[sel_index_11],\n",
    "                        np.array(avg_moran_max_12)[sel_index_12],\n",
    "                        np.array(avg_moran_max_13)[sel_index_13],\n",
    "                        np.array(avg_moran_max_14)[sel_index_14],\n",
    "                        np.array(avg_moran_max_15)[sel_index_15],\n",
    "                        np.array(avg_moran_max_16)[sel_index_16]]\n",
    "max_moran_mean_grid = []\n",
    "max_moran_std_grid = []\n",
    "for ii in range(len(max_scooter_per_area_list)):\n",
    "    max_moran_mean_grid.append(np.mean(max_moran_list_grid[ii]))\n",
    "    max_moran_std_grid.append(np.std(max_moran_list_grid[ii]))\n",
    "\n",
    "print(\"Plotting resulting graph...\")\n",
    "# plt.figure(figsize = (12, 9))\n",
    "l1 = plt.errorbar(max_scooter_per_area_list, max_moran_mean_grid, yerr=max_moran_std_grid, fmt='o-', capsize=5) # ecolor='gray', \n",
    "\n",
    "print(\"Plotting baseline 1...\")\n",
    "# plt.legend(loc='best',prop={'size': 10})\n",
    "plt.ylabel(\"Moran's I\")\n",
    "plt.xlabel(\"max_scooter_per_area\")\n",
    "\n",
    "print(\"End: \" + datetime.now().strftime('%Y-%m-%d %H:%M:%S'))"
   ]
  },
  {
   "cell_type": "code",
   "execution_count": 129,
   "id": "622617ec",
   "metadata": {},
   "outputs": [
    {
     "name": "stdout",
     "output_type": "stream",
     "text": [
      "End: 2025-07-10 20:26:30\n",
      "Plotting resulting graph...\n",
      "Plotting baseline 1...\n",
      "End: 2025-07-10 20:26:30\n"
     ]
    },
    {
     "data": {
      "image/png": "[encoded data removed]",
      "text/plain": [
       "<Figure size 432x288 with 1 Axes>"
      ]
     },
     "metadata": {
      "needs_background": "light"
     },
     "output_type": "display_data"
    }
   ],
   "source": [
    "# Plot the graphs of average rewards during testing phases of the policy\n",
    "# gradient method and the hand-crafted policies\n",
    "\n",
    "print(\"End: \" + datetime.now().strftime('%Y-%m-%d %H:%M:%S'))\n",
    "\n",
    "max_scooter_per_area_list = np.arange(2,17)\n",
    "max_gini_list_grid = np.array([avg_gini_max_2,\n",
    "                                avg_gini_max_3,\n",
    "                                avg_gini_max_4,\n",
    "                                avg_gini_max_5,\n",
    "                                avg_gini_max_6,\n",
    "                                avg_gini_max_7,\n",
    "                                avg_gini_max_8,\n",
    "                                avg_gini_max_9,\n",
    "                                avg_gini_max_10,\n",
    "                                avg_gini_max_11,\n",
    "                                avg_gini_max_12,\n",
    "                                avg_gini_max_13,\n",
    "                                avg_gini_max_14,\n",
    "                                avg_gini_max_15,\n",
    "                                avg_gini_max_16])\n",
    "max_gini_mean_grid = np.mean(max_gini_list_grid, axis=1)\n",
    "max_gini_std_grid = np.std(max_gini_list_grid, axis=1)\n",
    "\n",
    "print(\"Plotting resulting graph...\")\n",
    "# plt.figure(figsize = (12, 9))\n",
    "l1 = plt.errorbar(max_scooter_per_area_list, max_gini_mean_grid, yerr=max_gini_std_grid, fmt='o-', capsize=5) # ecolor='gray', \n",
    "\n",
    "print(\"Plotting baseline 1...\")\n",
    "# plt.legend(loc='best',prop={'size': 10})\n",
    "plt.ylabel(\"Gini index\")\n",
    "plt.xlabel(\"max_scooter_per_area\")\n",
    "\n",
    "print(\"End: \" + datetime.now().strftime('%Y-%m-%d %H:%M:%S'))"
   ]
  },
  {
   "cell_type": "code",
   "execution_count": 130,
   "id": "b8a3ecb2",
   "metadata": {},
   "outputs": [
    {
     "data": {
      "text/plain": [
       "array([[0.9287544 , 0.92786383, 0.93995212, 0.93074887, 0.93113299,\n",
       "        0.93178958, 0.92615018, 0.93276055, 0.93650593, 0.92849791],\n",
       "       [0.93857725, 0.93564352, 0.94360754, 0.93614013, 0.93647228,\n",
       "        0.93924788, 0.94131844, 0.94265594, 0.93484468, 0.93222987],\n",
       "       [0.9406733 , 0.93595223, 0.94751343, 0.94445942, 0.93720636,\n",
       "        0.94201421, 0.93980358, 0.94639236, 0.93907601, 0.94114184],\n",
       "       [0.94058872, 0.94446299, 0.94513074, 0.94304119, 0.94218093,\n",
       "        0.93503487, 0.95291787, 0.94345304, 0.94235387, 0.94792948],\n",
       "       [0.94323851, 0.93806821, 0.93949376, 0.94015204, 0.93809061,\n",
       "        0.94380403, 0.94257024, 0.94851686, 0.9504209 , 0.94322682],\n",
       "       [0.94132245, 0.9441346 , 0.94312338, 0.95149037, 0.94034754,\n",
       "        0.95189351, 0.94586717, 0.94955462, 0.94455634, 0.94198456],\n",
       "       [0.9449483 , 0.94182989, 0.94491418, 0.94266712, 0.95192007,\n",
       "        0.94474184, 0.93855258, 0.94654553, 0.94458213, 0.94715647],\n",
       "       [0.94367538, 0.94438531, 0.95113964, 0.94154301, 0.94750299,\n",
       "        0.94578846, 0.94492896, 0.94852398, 0.94592328, 0.94935158],\n",
       "       [0.93922562, 0.93799284, 0.95031346, 0.94885569, 0.94619144,\n",
       "        0.94165921, 0.93851291, 0.94797091, 0.95243221, 0.9466484 ],\n",
       "       [0.93971299, 0.94839364, 0.94343385, 0.94941148, 0.94260601,\n",
       "        0.9461725 , 0.94376165, 0.94206397, 0.9356698 , 0.94582702],\n",
       "       [0.94899051, 0.94899051, 0.94659908, 0.9476828 , 0.94847401,\n",
       "        0.95213038, 0.9459307 , 0.94444776, 0.9415541 , 0.94749539],\n",
       "       [0.94979987, 0.94600882, 0.9462486 , 0.94210036, 0.94593171,\n",
       "        0.94616531, 0.93514753, 0.94570343, 0.94345682, 0.94314256],\n",
       "       [0.93796472, 0.94476071, 0.94573416, 0.95180253, 0.94271281,\n",
       "        0.94570747, 0.9406555 , 0.94151772, 0.9456673 , 0.94188702],\n",
       "       [0.94535486, 0.94262769, 0.94910154, 0.94634376, 0.94018563,\n",
       "        0.94274812, 0.93247966, 0.94385149, 0.95026199, 0.94022716],\n",
       "       [0.94017674, 0.94171939, 0.94155259, 0.9492433 , 0.95292551,\n",
       "        0.94350022, 0.93326337, 0.94949165, 0.95066912, 0.95162557]])"
      ]
     },
     "execution_count": 130,
     "metadata": {},
     "output_type": "execute_result"
    }
   ],
   "source": [
    "max_gini_list_grid"
   ]
  },
  {
   "cell_type": "code",
   "execution_count": 131,
   "id": "3331d0c3",
   "metadata": {},
   "outputs": [
    {
     "name": "stdout",
     "output_type": "stream",
     "text": [
      "End: 2025-07-10 20:26:32\n",
      "Plotting resulting graph...\n",
      "Plotting baseline 1...\n",
      "End: 2025-07-10 20:26:32\n"
     ]
    },
    {
     "data": {
      "image/png": "[encoded data removed]",
      "text/plain": [
       "<Figure size 432x288 with 1 Axes>"
      ]
     },
     "metadata": {
      "needs_background": "light"
     },
     "output_type": "display_data"
    }
   ],
   "source": [
    "# Plot the graphs of average rewards during testing phases of the policy\n",
    "# gradient method and the hand-crafted policies\n",
    "\n",
    "print(\"End: \" + datetime.now().strftime('%Y-%m-%d %H:%M:%S'))\n",
    "\n",
    "max_scooter_per_area_list = np.arange(2,17)\n",
    "max_gini_list_grid = [np.array(avg_gini_max_2)[sel_index_2],\n",
    "                        np.array(avg_gini_max_3)[sel_index_3],\n",
    "                        np.array(avg_gini_max_4)[sel_index_4],\n",
    "                        np.array(avg_gini_max_5)[sel_index_5],\n",
    "                        np.array(avg_gini_max_6)[sel_index_6],\n",
    "                        np.array(avg_gini_max_7)[sel_index_7],\n",
    "                        np.array(avg_gini_max_8)[sel_index_8],\n",
    "                        np.array(avg_gini_max_9)[sel_index_9],\n",
    "                        np.array(avg_gini_max_10)[sel_index_10],\n",
    "                        np.array(avg_gini_max_11)[sel_index_11],\n",
    "                        np.array(avg_gini_max_12)[sel_index_12],\n",
    "                        np.array(avg_gini_max_13)[sel_index_13],\n",
    "                        np.array(avg_gini_max_14)[sel_index_14],\n",
    "                        np.array(avg_gini_max_15)[sel_index_15],\n",
    "                        np.array(avg_gini_max_16)[sel_index_16]]\n",
    "max_gini_mean_grid = []\n",
    "max_gini_std_grid = []\n",
    "for ii in range(len(max_scooter_per_area_list)):\n",
    "    max_gini_mean_grid.append(np.mean(max_gini_list_grid[ii]))\n",
    "    max_gini_std_grid.append(np.std(max_gini_list_grid[ii]))\n",
    "\n",
    "print(\"Plotting resulting graph...\")\n",
    "# plt.figure(figsize = (12, 9))\n",
    "l1 = plt.errorbar(max_scooter_per_area_list, max_gini_mean_grid, yerr=max_gini_std_grid, fmt='o-', capsize=5) # ecolor='gray', \n",
    "\n",
    "print(\"Plotting baseline 1...\")\n",
    "# plt.legend(loc='best',prop={'size': 10})\n",
    "plt.ylabel(\"Gini index\")\n",
    "plt.xlabel(\"max_scooter_per_area\")\n",
    "\n",
    "print(\"End: \" + datetime.now().strftime('%Y-%m-%d %H:%M:%S'))"
   ]
  },
  {
   "cell_type": "code",
   "execution_count": 132,
   "id": "9399863c",
   "metadata": {},
   "outputs": [
    {
     "name": "stdout",
     "output_type": "stream",
     "text": [
      "End: 2025-07-10 20:26:32\n",
      "Plotting resulting graph...\n",
      "Plotting baseline 1...\n",
      "End: 2025-07-10 20:26:32\n"
     ]
    },
    {
     "data": {
      "image/png": "[encoded data removed]",
      "text/plain": [
       "<Figure size 432x288 with 1 Axes>"
      ]
     },
     "metadata": {
      "needs_background": "light"
     },
     "output_type": "display_data"
    }
   ],
   "source": [
    "# Plot the graphs of average rewards during testing phases of the policy\n",
    "# gradient method and the hand-crafted policies\n",
    "\n",
    "print(\"End: \" + datetime.now().strftime('%Y-%m-%d %H:%M:%S'))\n",
    "\n",
    "max_scooter_per_area_list = np.arange(2,17)\n",
    "max_theil_list_grid = np.array([avg_theil_max_2,\n",
    "                                avg_theil_max_3,\n",
    "                                avg_theil_max_4,\n",
    "                                avg_theil_max_5,\n",
    "                                avg_theil_max_6,\n",
    "                                avg_theil_max_7,\n",
    "                                avg_theil_max_8,\n",
    "                                avg_theil_max_9,\n",
    "                                avg_theil_max_10,\n",
    "                                avg_theil_max_11,\n",
    "                                avg_theil_max_12,\n",
    "                                avg_theil_max_13,\n",
    "                                avg_theil_max_14,\n",
    "                                avg_theil_max_15,\n",
    "                                avg_theil_max_16])\n",
    "max_theil_mean_grid = np.mean(max_theil_list_grid, axis=1)\n",
    "max_theil_std_grid = np.std(max_theil_list_grid, axis=1)\n",
    "\n",
    "print(\"Plotting resulting graph...\")\n",
    "# plt.figure(figsize = (12, 9))\n",
    "l1 = plt.errorbar(max_scooter_per_area_list, max_theil_mean_grid, yerr=max_theil_std_grid, fmt='o-', capsize=5) # ecolor='gray', \n",
    "\n",
    "print(\"Plotting baseline 1...\")\n",
    "# plt.legend(loc='best',prop={'size': 10})\n",
    "plt.ylabel(\"Theil index\")\n",
    "plt.xlabel(\"max_scooter_per_area\")\n",
    "\n",
    "print(\"End: \" + datetime.now().strftime('%Y-%m-%d %H:%M:%S'))"
   ]
  },
  {
   "cell_type": "code",
   "execution_count": 133,
   "id": "18efe939",
   "metadata": {},
   "outputs": [
    {
     "data": {
      "text/plain": [
       "array([[0.05333413, 0.05229083, 0.05657247, 0.05392043, 0.05537417,\n",
       "        0.0555509 , 0.04805786, 0.05214509, 0.05491837, 0.05465856],\n",
       "       [0.10589895, 0.10383879, 0.11463503, 0.10863878, 0.09042298,\n",
       "        0.08514476, 0.10192384, 0.10773826, 0.1045106 , 0.09566692],\n",
       "       [0.14463436, 0.13483122, 0.15427053, 0.145531  , 0.1177207 ,\n",
       "        0.14409248, 0.1327839 , 0.15697092, 0.1229991 , 0.14177212],\n",
       "       [0.15080058, 0.17402667, 0.15431402, 0.17166692, 0.15748778,\n",
       "        0.14186431, 0.17897504, 0.13573375, 0.16814623, 0.1753029 ],\n",
       "       [0.17249715, 0.17620856, 0.14847695, 0.15985657, 0.17126509,\n",
       "        0.17680034, 0.15499204, 0.19512702, 0.15202131, 0.15725244],\n",
       "       [0.19102811, 0.18459246, 0.22252322, 0.19531949, 0.19193447,\n",
       "        0.19212806, 0.17985399, 0.22465646, 0.20602249, 0.15425761],\n",
       "       [0.21643394, 0.17490756, 0.17213128, 0.1945475 , 0.23444271,\n",
       "        0.21982604, 0.18252986, 0.17578733, 0.20376268, 0.20226227],\n",
       "       [0.18015698, 0.19214548, 0.18029815, 0.21274328, 0.18724385,\n",
       "        0.19673583, 0.18833552, 0.20423274, 0.17866469, 0.16939636],\n",
       "       [0.2127232 , 0.15974828, 0.21141595, 0.22736268, 0.18949995,\n",
       "        0.18152643, 0.18973925, 0.19443636, 0.20838891, 0.23592052],\n",
       "       [0.18157339, 0.18284142, 0.19029745, 0.21460564, 0.20980363,\n",
       "        0.16116923, 0.15758016, 0.18390504, 0.19380908, 0.17676517],\n",
       "       [0.18510126, 0.18510126, 0.19231417, 0.20749255, 0.20460378,\n",
       "        0.19771881, 0.1716926 , 0.17887107, 0.20149145, 0.20083197],\n",
       "       [0.21198677, 0.19998752, 0.18517534, 0.15654202, 0.19299677,\n",
       "        0.17585821, 0.20139894, 0.19013565, 0.17906982, 0.17674223],\n",
       "       [0.19942412, 0.20196442, 0.15867005, 0.17370426, 0.20476126,\n",
       "        0.18159824, 0.21137769, 0.20406617, 0.20156255, 0.2035561 ],\n",
       "       [0.20168887, 0.17848879, 0.18658623, 0.22195453, 0.20591567,\n",
       "        0.20872018, 0.16936366, 0.21611943, 0.21026089, 0.16531193],\n",
       "       [0.18696356, 0.1803507 , 0.19501217, 0.19943281, 0.20209847,\n",
       "        0.18426889, 0.17755435, 0.19008328, 0.19237314, 0.2185962 ]])"
      ]
     },
     "execution_count": 133,
     "metadata": {},
     "output_type": "execute_result"
    }
   ],
   "source": [
    "max_theil_list_grid"
   ]
  },
  {
   "cell_type": "code",
   "execution_count": 134,
   "id": "e57faad4",
   "metadata": {},
   "outputs": [
    {
     "name": "stdout",
     "output_type": "stream",
     "text": [
      "End: 2025-07-10 20:26:34\n",
      "Plotting resulting graph...\n",
      "Plotting baseline 1...\n",
      "End: 2025-07-10 20:26:34\n"
     ]
    },
    {
     "data": {
      "image/png": "[encoded data removed]",
      "text/plain": [
       "<Figure size 432x288 with 1 Axes>"
      ]
     },
     "metadata": {
      "needs_background": "light"
     },
     "output_type": "display_data"
    }
   ],
   "source": [
    "# Plot the graphs of average rewards during testing phases of the policy\n",
    "# gradient method and the hand-crafted policies\n",
    "\n",
    "print(\"End: \" + datetime.now().strftime('%Y-%m-%d %H:%M:%S'))\n",
    "\n",
    "max_scooter_per_area_list = np.arange(2,17)\n",
    "max_theil_list_grid = [np.array(avg_theil_max_2)[sel_index_2],\n",
    "                        np.array(avg_theil_max_3)[sel_index_3],\n",
    "                        np.array(avg_theil_max_4)[sel_index_4],\n",
    "                        np.array(avg_theil_max_5)[sel_index_5],\n",
    "                        np.array(avg_theil_max_6)[sel_index_6],\n",
    "                        np.array(avg_theil_max_7)[sel_index_7],\n",
    "                        np.array(avg_theil_max_8)[sel_index_8],\n",
    "                        np.array(avg_theil_max_9)[sel_index_9],\n",
    "                        np.array(avg_theil_max_10)[sel_index_10],\n",
    "                        np.array(avg_theil_max_11)[sel_index_11],\n",
    "                        np.array(avg_theil_max_12)[sel_index_12],\n",
    "                        np.array(avg_theil_max_13)[sel_index_13],\n",
    "                        np.array(avg_theil_max_14)[sel_index_14],\n",
    "                        np.array(avg_theil_max_15)[sel_index_15],\n",
    "                        np.array(avg_theil_max_16)[sel_index_16]]\n",
    "max_theil_mean_grid = []\n",
    "max_theil_std_grid = []\n",
    "for ii in range(len(max_scooter_per_area_list)):\n",
    "    max_theil_mean_grid.append(np.mean(max_theil_list_grid[ii]))\n",
    "    max_theil_std_grid.append(np.std(max_theil_list_grid[ii]))\n",
    "\n",
    "print(\"Plotting resulting graph...\")\n",
    "# plt.figure(figsize = (12, 9))\n",
    "l1 = plt.errorbar(max_scooter_per_area_list, max_theil_mean_grid, yerr=max_theil_std_grid, fmt='o-', capsize=5) # ecolor='gray', \n",
    "\n",
    "print(\"Plotting baseline 1...\")\n",
    "# plt.legend(loc='best',prop={'size': 10})\n",
    "plt.ylabel(\"Theil index\")\n",
    "plt.xlabel(\"max_scooter_per_area\")\n",
    "\n",
    "print(\"End: \" + datetime.now().strftime('%Y-%m-%d %H:%M:%S'))"
   ]
  },
  {
   "cell_type": "code",
   "execution_count": 135,
   "id": "5d0636e8",
   "metadata": {},
   "outputs": [
    {
     "name": "stdout",
     "output_type": "stream",
     "text": [
      "End: 2025-07-10 20:26:34\n",
      "Plotting resulting graph...\n",
      "Plotting baseline 1...\n",
      "End: 2025-07-10 20:26:34\n"
     ]
    },
    {
     "data": {
      "image/png": "[encoded data removed]",
      "text/plain": [
       "<Figure size 432x288 with 1 Axes>"
      ]
     },
     "metadata": {
      "needs_background": "light"
     },
     "output_type": "display_data"
    }
   ],
   "source": [
    "# Plot the graphs of average rewards during testing phases of the policy\n",
    "# gradient method and the hand-crafted policies\n",
    "\n",
    "print(\"End: \" + datetime.now().strftime('%Y-%m-%d %H:%M:%S'))\n",
    "\n",
    "max_scooter_per_area_list = np.arange(2,17)\n",
    "max_EMD_list_grid = np.array([avg_EMD_max_2,\n",
    "                                avg_EMD_max_3,\n",
    "                                avg_EMD_max_4,\n",
    "                                avg_EMD_max_5,\n",
    "                                avg_EMD_max_6,\n",
    "                                avg_EMD_max_7,\n",
    "                                avg_EMD_max_8,\n",
    "                                avg_EMD_max_9,\n",
    "                                avg_EMD_max_10,\n",
    "                                avg_EMD_max_11,\n",
    "                                avg_EMD_max_12,\n",
    "                                avg_EMD_max_13,\n",
    "                                avg_EMD_max_14,\n",
    "                                avg_EMD_max_15,\n",
    "                                avg_EMD_max_16])\n",
    "max_EMD_mean_grid = np.mean(max_EMD_list_grid, axis=1)\n",
    "max_EMD_std_grid = np.std(max_EMD_list_grid, axis=1)\n",
    "\n",
    "print(\"Plotting resulting graph...\")\n",
    "# plt.figure(figsize = (12, 9))\n",
    "l1 = plt.errorbar(max_scooter_per_area_list, max_EMD_mean_grid, yerr=max_EMD_std_grid, fmt='o-', capsize=5) # ecolor='gray', \n",
    "\n",
    "print(\"Plotting baseline 1...\")\n",
    "# plt.legend(loc='best',prop={'size': 10})\n",
    "plt.ylabel(\"EMD\")\n",
    "plt.xlabel(\"max_scooter_per_area\")\n",
    "\n",
    "print(\"End: \" + datetime.now().strftime('%Y-%m-%d %H:%M:%S'))"
   ]
  },
  {
   "cell_type": "code",
   "execution_count": 136,
   "id": "88c0520f",
   "metadata": {},
   "outputs": [
    {
     "data": {
      "text/plain": [
       "array([[1.80131333, 1.81521323, 1.94771839, 1.81604299, 1.73681595,\n",
       "        1.77509093, 1.72908498, 1.89244783, 1.89773247, 1.79573657],\n",
       "       [1.933131  , 1.90209019, 1.87364167, 1.94169329, 1.93335353,\n",
       "        1.86448151, 2.07745156, 2.03010455, 1.85888418, 1.68959683],\n",
       "       [1.85780979, 1.91887534, 1.85007959, 2.03060736, 2.02351565,\n",
       "        1.87340129, 1.82102541, 1.99249653, 1.86558115, 1.90424156],\n",
       "       [1.82190123, 1.9017564 , 2.04677601, 1.9394366 , 2.04606269,\n",
       "        1.88049621, 2.08513996, 2.09479903, 1.95054584, 2.13464447],\n",
       "       [1.9091764 , 1.95947795, 1.89893869, 1.87715365, 1.99827872,\n",
       "        1.93513269, 1.90829678, 1.9006635 , 2.06449899, 1.97721192],\n",
       "       [1.89293138, 1.93821494, 1.83249708, 2.07150885, 1.87559162,\n",
       "        2.05216038, 2.05102132, 2.04903642, 1.99501678, 1.91395617],\n",
       "       [2.11831075, 1.94438709, 1.95478347, 1.91278322, 2.10670609,\n",
       "        1.90610848, 1.93382812, 1.95186956, 2.01262353, 1.89955724],\n",
       "       [2.00160431, 2.05708251, 2.13180767, 1.94524364, 1.97754729,\n",
       "        2.12453123, 1.87681437, 2.01132485, 1.95625099, 1.96443458],\n",
       "       [2.03157063, 1.85533321, 2.08861238, 1.98123215, 1.82862422,\n",
       "        1.79662555, 2.02374368, 1.83624645, 2.02200811, 2.05470436],\n",
       "       [1.91798175, 2.14750401, 1.95772397, 2.06050696, 1.91901701,\n",
       "        2.04712751, 1.98335409, 2.02947228, 1.90136388, 1.95537057],\n",
       "       [2.100865  , 2.100865  , 1.91372857, 2.0549796 , 2.0598172 ,\n",
       "        2.13327409, 2.03522815, 1.95962593, 2.06038931, 2.03362318],\n",
       "       [2.06726287, 1.90572175, 2.10786036, 2.04080613, 2.01975866,\n",
       "        2.02022269, 1.94544821, 1.91383205, 1.99901793, 1.93683482],\n",
       "       [1.95350177, 2.00857245, 2.00433304, 1.94490389, 1.99025549,\n",
       "        1.89287323, 1.85082531, 1.92946138, 2.01218133, 1.96566664],\n",
       "       [2.02276532, 2.01003684, 1.98680218, 2.09445946, 1.92147199,\n",
       "        2.04836772, 1.87574177, 2.03713627, 2.10548915, 1.98901763],\n",
       "       [1.8577881 , 1.87546478, 1.99446143, 2.05304367, 2.04584211,\n",
       "        1.96488517, 1.95537838, 2.02413816, 2.07083638, 1.85534278]])"
      ]
     },
     "execution_count": 136,
     "metadata": {},
     "output_type": "execute_result"
    }
   ],
   "source": [
    "max_EMD_list_grid"
   ]
  },
  {
   "cell_type": "code",
   "execution_count": 137,
   "id": "8b10664d",
   "metadata": {},
   "outputs": [
    {
     "name": "stdout",
     "output_type": "stream",
     "text": [
      "End: 2025-07-10 20:26:35\n",
      "Plotting resulting graph...\n",
      "Plotting baseline 1...\n",
      "End: 2025-07-10 20:26:35\n"
     ]
    },
    {
     "data": {
      "image/png": "[encoded data removed]",
      "text/plain": [
       "<Figure size 432x288 with 1 Axes>"
      ]
     },
     "metadata": {
      "needs_background": "light"
     },
     "output_type": "display_data"
    }
   ],
   "source": [
    "# Plot the graphs of average rewards during testing phases of the policy\n",
    "# gradient method and the hand-crafted policies\n",
    "\n",
    "print(\"End: \" + datetime.now().strftime('%Y-%m-%d %H:%M:%S'))\n",
    "\n",
    "max_scooter_per_area_list = np.arange(2,17)\n",
    "max_EMD_list_grid = [np.array(avg_EMD_max_2)[sel_index_2],\n",
    "                        np.array(avg_EMD_max_3)[sel_index_3],\n",
    "                        np.array(avg_EMD_max_4)[sel_index_4],\n",
    "                        np.array(avg_EMD_max_5)[sel_index_5],\n",
    "                        np.array(avg_EMD_max_6)[sel_index_6],\n",
    "                        np.array(avg_EMD_max_7)[sel_index_7],\n",
    "                        np.array(avg_EMD_max_8)[sel_index_8],\n",
    "                        np.array(avg_EMD_max_9)[sel_index_9],\n",
    "                        np.array(avg_EMD_max_10)[sel_index_10],\n",
    "                        np.array(avg_EMD_max_11)[sel_index_11],\n",
    "                        np.array(avg_EMD_max_12)[sel_index_12],\n",
    "                        np.array(avg_EMD_max_13)[sel_index_13],\n",
    "                        np.array(avg_EMD_max_14)[sel_index_14],\n",
    "                        np.array(avg_EMD_max_15)[sel_index_15],\n",
    "                        np.array(avg_EMD_max_16)[sel_index_16]]\n",
    "max_EMD_mean_grid = []\n",
    "max_EMD_std_grid = []\n",
    "for ii in range(len(max_scooter_per_area_list)):\n",
    "    max_EMD_mean_grid.append(np.mean(max_EMD_list_grid[ii]))\n",
    "    max_EMD_std_grid.append(np.std(max_EMD_list_grid[ii]))\n",
    "\n",
    "print(\"Plotting resulting graph...\")\n",
    "# plt.figure(figsize = (12, 9))\n",
    "l1 = plt.errorbar(max_scooter_per_area_list, max_EMD_mean_grid, yerr=max_EMD_std_grid, fmt='o-', capsize=5) # ecolor='gray', \n",
    "\n",
    "print(\"Plotting baseline 1...\")\n",
    "# plt.legend(loc='best',prop={'size': 10})\n",
    "plt.ylabel(\"EMD\")\n",
    "plt.xlabel(\"max_scooter_per_area\")\n",
    "\n",
    "print(\"End: \" + datetime.now().strftime('%Y-%m-%d %H:%M:%S'))"
   ]
  },
  {
   "cell_type": "code",
   "execution_count": 138,
   "id": "b5f1eb35",
   "metadata": {},
   "outputs": [
    {
     "name": "stdout",
     "output_type": "stream",
     "text": [
      "End: 2025-07-10 20:26:36\n",
      "Plotting resulting graph...\n",
      "Plotting baseline 1...\n",
      "End: 2025-07-10 20:26:36\n"
     ]
    },
    {
     "data": {
      "image/png": "[encoded data removed]",
      "text/plain": [
       "<Figure size 432x288 with 1 Axes>"
      ]
     },
     "metadata": {
      "needs_background": "light"
     },
     "output_type": "display_data"
    }
   ],
   "source": [
    "# Plot the graphs of average rewards during testing phases of the policy\n",
    "# gradient method and the hand-crafted policies\n",
    "\n",
    "print(\"End: \" + datetime.now().strftime('%Y-%m-%d %H:%M:%S'))\n",
    "\n",
    "max_scooter_per_area_list = np.arange(2,17)\n",
    "max_centroid_list_grid = np.array([avg_centroid_max_2,\n",
    "                                avg_centroid_max_3,\n",
    "                                avg_centroid_max_4,\n",
    "                                avg_centroid_max_5,\n",
    "                                avg_centroid_max_6,\n",
    "                                avg_centroid_max_7,\n",
    "                                avg_centroid_max_8,\n",
    "                                avg_centroid_max_9,\n",
    "                                avg_centroid_max_10,\n",
    "                                avg_centroid_max_11,\n",
    "                                avg_centroid_max_12,\n",
    "                                avg_centroid_max_13,\n",
    "                                avg_centroid_max_14,\n",
    "                                avg_centroid_max_15,\n",
    "                                avg_centroid_max_16])\n",
    "max_centroid_mean_grid = np.mean(max_centroid_list_grid, axis=1)\n",
    "max_centroid_std_grid = np.std(max_centroid_list_grid, axis=1)\n",
    "\n",
    "print(\"Plotting resulting graph...\")\n",
    "# plt.figure(figsize = (12, 9))\n",
    "l1 = plt.errorbar(max_scooter_per_area_list, max_centroid_mean_grid, yerr=max_centroid_std_grid, fmt='o-', capsize=5) # ecolor='gray', \n",
    "\n",
    "print(\"Plotting baseline 1...\")\n",
    "# plt.legend(loc='best',prop={'size': 10})\n",
    "plt.ylabel(\"Centroid shift\")\n",
    "plt.xlabel(\"max_scooter_per_area\")\n",
    "\n",
    "print(\"End: \" + datetime.now().strftime('%Y-%m-%d %H:%M:%S'))"
   ]
  },
  {
   "cell_type": "code",
   "execution_count": 139,
   "id": "9e54b365",
   "metadata": {},
   "outputs": [
    {
     "data": {
      "text/plain": [
       "array([[1.09442818, 0.93609505, 0.88138104, 1.00119744, 0.92892512,\n",
       "        1.05900872, 1.05573336, 1.14528691, 0.89017735, 0.88210995],\n",
       "       [0.96178415, 0.89258413, 0.96965933, 1.00513055, 1.01797678,\n",
       "        0.979919  , 0.92053909, 0.97538425, 1.02082097, 0.90879336],\n",
       "       [0.91357373, 1.08790049, 0.86666374, 1.04129798, 0.8746907 ,\n",
       "        0.99493739, 0.88492675, 0.9522297 , 1.01293527, 1.02150702],\n",
       "       [0.84393017, 1.01558974, 0.95174704, 0.96633433, 0.97159567,\n",
       "        0.97703665, 1.03361201, 0.92465975, 1.02457158, 0.92712873],\n",
       "       [0.91240384, 0.94607763, 0.83665812, 0.91887384, 0.97377245,\n",
       "        0.89930788, 0.78848375, 1.00317358, 0.99065584, 1.06359204],\n",
       "       [0.94458974, 1.00337838, 0.88807326, 0.96861009, 0.93181724,\n",
       "        1.11323954, 0.95731522, 0.95959492, 0.94172181, 1.03322463],\n",
       "       [0.8532398 , 0.93856889, 1.00076229, 1.01302043, 0.73987256,\n",
       "        1.00699728, 1.01295399, 0.97171856, 0.98771724, 1.01956007],\n",
       "       [1.06245607, 1.02982073, 0.91767592, 0.87398877, 0.93069142,\n",
       "        1.01166274, 0.90833708, 1.07357193, 0.96789534, 1.06127978],\n",
       "       [0.96031188, 0.93419547, 0.91176148, 0.94056189, 0.80602933,\n",
       "        0.88206804, 0.88037194, 1.00103643, 0.90017531, 0.91422485],\n",
       "       [0.99906499, 0.96862311, 0.95085913, 1.0610817 , 0.78973686,\n",
       "        0.94788332, 1.02665668, 0.91801799, 0.7862466 , 0.90883397],\n",
       "       [0.89524952, 0.89524952, 0.86000675, 0.93352414, 0.89703466,\n",
       "        0.85380103, 0.92387721, 0.95109099, 0.94839053, 0.96804735],\n",
       "       [0.86058595, 0.98580729, 0.90547765, 0.93547275, 0.92298384,\n",
       "        0.91464597, 0.96860443, 0.96170361, 0.81611925, 0.94155757],\n",
       "       [1.02939484, 0.9510382 , 0.93788926, 0.92725246, 0.8476973 ,\n",
       "        0.94444349, 0.95370971, 0.86211597, 0.8814955 , 0.83239525],\n",
       "       [0.86153113, 1.09373997, 0.96429976, 0.92653553, 0.98584306,\n",
       "        0.9273809 , 0.93894358, 0.89293116, 0.97132333, 1.01600782],\n",
       "       [0.87607634, 0.84952679, 0.84013887, 0.94477125, 0.9908865 ,\n",
       "        0.99528527, 1.01770801, 1.01783405, 1.01557341, 0.81342414]])"
      ]
     },
     "execution_count": 139,
     "metadata": {},
     "output_type": "execute_result"
    }
   ],
   "source": [
    "max_centroid_list_grid"
   ]
  },
  {
   "cell_type": "code",
   "execution_count": 140,
   "id": "5deb1d7c",
   "metadata": {},
   "outputs": [
    {
     "name": "stdout",
     "output_type": "stream",
     "text": [
      "End: 2025-07-10 20:26:37\n",
      "Plotting resulting graph...\n",
      "Plotting baseline 1...\n",
      "End: 2025-07-10 20:26:37\n"
     ]
    },
    {
     "data": {
      "image/png": "[encoded data removed]",
      "text/plain": [
       "<Figure size 432x288 with 1 Axes>"
      ]
     },
     "metadata": {
      "needs_background": "light"
     },
     "output_type": "display_data"
    }
   ],
   "source": [
    "# Plot the graphs of average rewards during testing phases of the policy\n",
    "# gradient method and the hand-crafted policies\n",
    "\n",
    "print(\"End: \" + datetime.now().strftime('%Y-%m-%d %H:%M:%S'))\n",
    "\n",
    "max_scooter_per_area_list = np.arange(2,17)\n",
    "max_centroid_list_grid = [np.array(avg_centroid_max_2)[sel_index_2],\n",
    "                        np.array(avg_centroid_max_3)[sel_index_3],\n",
    "                        np.array(avg_centroid_max_4)[sel_index_4],\n",
    "                        np.array(avg_centroid_max_5)[sel_index_5],\n",
    "                        np.array(avg_centroid_max_6)[sel_index_6],\n",
    "                        np.array(avg_centroid_max_7)[sel_index_7],\n",
    "                        np.array(avg_centroid_max_8)[sel_index_8],\n",
    "                        np.array(avg_centroid_max_9)[sel_index_9],\n",
    "                        np.array(avg_centroid_max_10)[sel_index_10],\n",
    "                        np.array(avg_centroid_max_11)[sel_index_11],\n",
    "                        np.array(avg_centroid_max_12)[sel_index_12],\n",
    "                        np.array(avg_centroid_max_13)[sel_index_13],\n",
    "                        np.array(avg_centroid_max_14)[sel_index_14],\n",
    "                        np.array(avg_centroid_max_15)[sel_index_15],\n",
    "                        np.array(avg_centroid_max_16)[sel_index_16]]\n",
    "max_centroid_mean_grid = []\n",
    "max_centroid_std_grid = []\n",
    "for ii in range(len(max_scooter_per_area_list)):\n",
    "    max_centroid_mean_grid.append(np.mean(max_centroid_list_grid[ii]))\n",
    "    max_centroid_std_grid.append(np.std(max_centroid_list_grid[ii]))\n",
    "\n",
    "print(\"Plotting resulting graph...\")\n",
    "# plt.figure(figsize = (12, 9))\n",
    "l1 = plt.errorbar(max_scooter_per_area_list, max_centroid_mean_grid, yerr=max_centroid_std_grid, fmt='o-', capsize=5) # ecolor='gray', \n",
    "\n",
    "print(\"Plotting baseline 1...\")\n",
    "# plt.legend(loc='best',prop={'size': 10})\n",
    "plt.ylabel(\"Centroid shift\")\n",
    "plt.xlabel(\"max_scooter_per_area\")\n",
    "\n",
    "print(\"End: \" + datetime.now().strftime('%Y-%m-%d %H:%M:%S'))"
   ]
  },
  {
   "cell_type": "code",
   "execution_count": 141,
   "id": "21e988a6",
   "metadata": {},
   "outputs": [
    {
     "name": "stdout",
     "output_type": "stream",
     "text": [
      "End: 2025-07-10 20:26:38\n",
      "Plotting resulting graph...\n",
      "Plotting baseline 1...\n",
      "End: 2025-07-10 20:26:38\n"
     ]
    },
    {
     "data": {
      "image/png": "[encoded data removed]",
      "text/plain": [
       "<Figure size 432x288 with 1 Axes>"
      ]
     },
     "metadata": {
      "needs_background": "light"
     },
     "output_type": "display_data"
    }
   ],
   "source": [
    "# Plot the graphs of average rewards during testing phases of the policy\n",
    "# gradient method and the hand-crafted policies\n",
    "\n",
    "print(\"End: \" + datetime.now().strftime('%Y-%m-%d %H:%M:%S'))\n",
    "\n",
    "max_scooter_per_area_list = np.arange(2,17)\n",
    "max_dispersion_list_grid = np.array([avg_dispersion_max_2,\n",
    "                                avg_dispersion_max_3,\n",
    "                                avg_dispersion_max_4,\n",
    "                                avg_dispersion_max_5,\n",
    "                                avg_dispersion_max_6,\n",
    "                                avg_dispersion_max_7,\n",
    "                                avg_dispersion_max_8,\n",
    "                                avg_dispersion_max_9,\n",
    "                                avg_dispersion_max_10,\n",
    "                                avg_dispersion_max_11,\n",
    "                                avg_dispersion_max_12,\n",
    "                                avg_dispersion_max_13,\n",
    "                                avg_dispersion_max_14,\n",
    "                                avg_dispersion_max_15,\n",
    "                                avg_dispersion_max_16])\n",
    "max_dispersion_mean_grid = np.mean(max_dispersion_list_grid, axis=1)\n",
    "max_dispersion_std_grid = np.std(max_dispersion_list_grid, axis=1)\n",
    "\n",
    "print(\"Plotting resulting graph...\")\n",
    "# plt.figure(figsize = (12, 9))\n",
    "l1 = plt.errorbar(max_scooter_per_area_list, max_dispersion_mean_grid, yerr=max_dispersion_std_grid, fmt='o-', capsize=5) # ecolor='gray', \n",
    "\n",
    "print(\"Plotting baseline 1...\")\n",
    "# plt.legend(loc='best',prop={'size': 10})\n",
    "plt.ylabel(\"Dispersion shift\")\n",
    "plt.xlabel(\"max_scooter_per_area\")\n",
    "\n",
    "print(\"End: \" + datetime.now().strftime('%Y-%m-%d %H:%M:%S'))"
   ]
  },
  {
   "cell_type": "code",
   "execution_count": 142,
   "id": "54f7cb21",
   "metadata": {},
   "outputs": [
    {
     "data": {
      "text/plain": [
       "array([[-1.49619492, -1.55841575, -1.75970256, -1.58216042, -1.48118   ,\n",
       "        -1.49008151, -1.43663611, -1.60648922, -1.61670367, -1.50849923],\n",
       "       [-1.71617167, -1.65879169, -1.62122727, -1.71074899, -1.66046475,\n",
       "        -1.54305144, -1.84431688, -1.83228774, -1.58369627, -1.43201742],\n",
       "       [-1.53199949, -1.68070685, -1.6407886 , -1.82507384, -1.83916914,\n",
       "        -1.65415131, -1.5328796 , -1.76066555, -1.66192819, -1.64996746],\n",
       "       [-1.58299018, -1.56902939, -1.84736069, -1.69673888, -1.80151016,\n",
       "        -1.62189536, -1.85150344, -1.95649858, -1.67121376, -1.98083946],\n",
       "       [-1.63609629, -1.75098303, -1.61888663, -1.62536281, -1.74978449,\n",
       "        -1.69570554, -1.59052417, -1.67121214, -1.91896694, -1.70030398],\n",
       "       [-1.64382108, -1.70621922, -1.54552345, -1.89101942, -1.5711436 ,\n",
       "        -1.807821  , -1.80295194, -1.82668135, -1.78596471, -1.6731755 ],\n",
       "       [-1.88844536, -1.71782594, -1.71944178, -1.56251153, -1.94790503,\n",
       "        -1.69673886, -1.70276163, -1.74752481, -1.8079478 , -1.60478952],\n",
       "       [-1.75421832, -1.8885761 , -1.92288062, -1.71881422, -1.79587859,\n",
       "        -1.96296331, -1.61371102, -1.77459205, -1.71553312, -1.69551075],\n",
       "       [-1.83570052, -1.56128788, -1.84343548, -1.72344128, -1.5053803 ,\n",
       "        -1.54246293, -1.84244958, -1.54623348, -1.79617133, -1.82060144],\n",
       "       [-1.65205522, -1.97260842, -1.71279369, -1.79431388, -1.7170199 ,\n",
       "        -1.87228324, -1.7500481 , -1.74136274, -1.65452291, -1.74549695],\n",
       "       [-1.96370959, -1.96370959, -1.69459141, -1.82615286, -1.85975824,\n",
       "        -1.97610603, -1.83539486, -1.69992987, -1.87107718, -1.78129571],\n",
       "       [-1.83282025, -1.63296185, -1.94725504, -1.80090562, -1.79473572,\n",
       "        -1.72005635, -1.7506436 , -1.70362676, -1.7420909 , -1.66511339],\n",
       "       [-1.71386146, -1.82548   , -1.77459114, -1.70098686, -1.77143134,\n",
       "        -1.68213471, -1.60285858, -1.7632382 , -1.76254072, -1.71603906],\n",
       "       [-1.73448408, -1.75329257, -1.77617555, -1.9427802 , -1.67447876,\n",
       "        -1.89440531, -1.59171301, -1.83736236, -1.93952175, -1.73856584],\n",
       "       [-1.6487892 , -1.63638134, -1.74090593, -1.82897287, -1.80333384,\n",
       "        -1.75866949, -1.72021007, -1.84670124, -1.88232882, -1.5407264 ]])"
      ]
     },
     "execution_count": 142,
     "metadata": {},
     "output_type": "execute_result"
    }
   ],
   "source": [
    "max_dispersion_list_grid"
   ]
  },
  {
   "cell_type": "code",
   "execution_count": 143,
   "id": "e7eadbf8",
   "metadata": {},
   "outputs": [
    {
     "name": "stdout",
     "output_type": "stream",
     "text": [
      "End: 2025-07-10 20:26:40\n",
      "Plotting resulting graph...\n",
      "Plotting baseline 1...\n",
      "End: 2025-07-10 20:26:40\n"
     ]
    },
    {
     "data": {
      "image/png": "[encoded data removed]",
      "text/plain": [
       "<Figure size 432x288 with 1 Axes>"
      ]
     },
     "metadata": {
      "needs_background": "light"
     },
     "output_type": "display_data"
    }
   ],
   "source": [
    "# Plot the graphs of average rewards during testing phases of the policy\n",
    "# gradient method and the hand-crafted policies\n",
    "\n",
    "print(\"End: \" + datetime.now().strftime('%Y-%m-%d %H:%M:%S'))\n",
    "\n",
    "max_scooter_per_area_list = np.arange(2,17)\n",
    "max_dispersion_list_grid = [np.array(avg_dispersion_max_2)[sel_index_2],\n",
    "                        np.array(avg_dispersion_max_3)[sel_index_3],\n",
    "                        np.array(avg_dispersion_max_4)[sel_index_4],\n",
    "                        np.array(avg_dispersion_max_5)[sel_index_5],\n",
    "                        np.array(avg_dispersion_max_6)[sel_index_6],\n",
    "                        np.array(avg_dispersion_max_7)[sel_index_7],\n",
    "                        np.array(avg_dispersion_max_8)[sel_index_8],\n",
    "                        np.array(avg_dispersion_max_9)[sel_index_9],\n",
    "                        np.array(avg_dispersion_max_10)[sel_index_10],\n",
    "                        np.array(avg_dispersion_max_11)[sel_index_11],\n",
    "                        np.array(avg_dispersion_max_12)[sel_index_12],\n",
    "                        np.array(avg_dispersion_max_13)[sel_index_13],\n",
    "                        np.array(avg_dispersion_max_14)[sel_index_14],\n",
    "                        np.array(avg_dispersion_max_15)[sel_index_15],\n",
    "                        np.array(avg_dispersion_max_16)[sel_index_16]]\n",
    "max_dispersion_mean_grid = []\n",
    "max_dispersion_std_grid = []\n",
    "for ii in range(len(max_scooter_per_area_list)):\n",
    "    max_dispersion_mean_grid.append(np.mean(max_dispersion_list_grid[ii]))\n",
    "    max_dispersion_std_grid.append(np.std(max_dispersion_list_grid[ii]))\n",
    "\n",
    "print(\"Plotting resulting graph...\")\n",
    "# plt.figure(figsize = (12, 9))\n",
    "l1 = plt.errorbar(max_scooter_per_area_list, max_dispersion_mean_grid, yerr=max_dispersion_std_grid, fmt='o-', capsize=5) # ecolor='gray', \n",
    "\n",
    "print(\"Plotting baseline 1...\")\n",
    "# plt.legend(loc='best',prop={'size': 10})\n",
    "plt.ylabel(\"Dispersion shift\")\n",
    "plt.xlabel(\"max_scooter_per_area\")\n",
    "\n",
    "print(\"End: \" + datetime.now().strftime('%Y-%m-%d %H:%M:%S'))"
   ]
  },
  {
   "cell_type": "code",
   "execution_count": 144,
   "id": "3462e67e",
   "metadata": {},
   "outputs": [
    {
     "name": "stdout",
     "output_type": "stream",
     "text": [
      "End: 2025-07-10 20:26:41\n",
      "Plotting resulting graph...\n",
      "Plotting baseline 1...\n",
      "End: 2025-07-10 20:26:41\n"
     ]
    },
    {
     "data": {
      "image/png": "[encoded data removed]",
      "text/plain": [
       "<Figure size 432x288 with 1 Axes>"
      ]
     },
     "metadata": {
      "needs_background": "light"
     },
     "output_type": "display_data"
    }
   ],
   "source": [
    "# Plot the graphs of average rewards during testing phases of the policy\n",
    "# gradient method and the hand-crafted policies\n",
    "\n",
    "print(\"End: \" + datetime.now().strftime('%Y-%m-%d %H:%M:%S'))\n",
    "\n",
    "max_scooter_per_area_list = np.arange(2,17)\n",
    "max_kl_list_grid = np.array([avg_kl_max_2,\n",
    "                                avg_kl_max_3,\n",
    "                                avg_kl_max_4,\n",
    "                                avg_kl_max_5,\n",
    "                                avg_kl_max_6,\n",
    "                                avg_kl_max_7,\n",
    "                                avg_kl_max_8,\n",
    "                                avg_kl_max_9,\n",
    "                                avg_kl_max_10,\n",
    "                                avg_kl_max_11,\n",
    "                                avg_kl_max_12,\n",
    "                                avg_kl_max_13,\n",
    "                                avg_kl_max_14,\n",
    "                                avg_kl_max_15,\n",
    "                                avg_kl_max_16])\n",
    "max_kl_mean_grid = np.mean(max_kl_list_grid, axis=1)\n",
    "max_kl_std_grid = np.std(max_kl_list_grid, axis=1)\n",
    "\n",
    "print(\"Plotting resulting graph...\")\n",
    "# plt.figure(figsize = (12, 9))\n",
    "l1 = plt.errorbar(max_scooter_per_area_list, max_kl_mean_grid, yerr=max_kl_std_grid, fmt='o-', capsize=5) # ecolor='gray', \n",
    "\n",
    "print(\"Plotting baseline 1...\")\n",
    "# plt.legend(loc='best',prop={'size': 10})\n",
    "plt.ylabel(\"KL divergence\")\n",
    "plt.xlabel(\"max_scooter_per_area\")\n",
    "\n",
    "print(\"End: \" + datetime.now().strftime('%Y-%m-%d %H:%M:%S'))"
   ]
  },
  {
   "cell_type": "code",
   "execution_count": 145,
   "id": "de88d769",
   "metadata": {},
   "outputs": [
    {
     "data": {
      "text/plain": [
       "array([[1.04759408, 1.03003256, 1.11075272, 1.10986238, 1.0411308 ,\n",
       "        1.01032443, 1.14606148, 1.01207606, 0.92816996, 1.08143724],\n",
       "       [0.8752298 , 0.89739432, 0.86693791, 0.87259716, 0.9197469 ,\n",
       "        1.10987643, 0.89220487, 0.80266781, 0.89727476, 1.0544293 ],\n",
       "       [0.86979059, 0.9596001 , 0.80328953, 0.79557635, 0.80700386,\n",
       "        0.84488068, 0.89477385, 0.83335833, 0.8540729 , 0.74054871],\n",
       "       [0.95068442, 0.82938179, 0.82309827, 0.88474735, 0.74835224,\n",
       "        0.85417723, 0.79745039, 0.85882051, 0.86503997, 0.79505835],\n",
       "       [0.88356476, 0.77426662, 0.82875008, 0.84541829, 0.77559547,\n",
       "        0.8971921 , 0.77527944, 0.86910556, 0.96059094, 0.77844792],\n",
       "       [0.85588128, 0.86260648, 0.86730765, 0.75507648, 0.93409447,\n",
       "        0.86808276, 0.81475798, 0.83277979, 0.80475669, 0.84408999],\n",
       "       [0.6901979 , 0.78302224, 0.94171644, 0.89739906, 0.85173552,\n",
       "        0.76689161, 0.78009155, 0.75828947, 0.79506969, 0.81463226],\n",
       "       [0.82495846, 0.71400386, 0.90380752, 0.78806896, 0.81541016,\n",
       "        0.80139294, 0.8918696 , 0.81874207, 0.76364993, 0.79393939],\n",
       "       [0.78724238, 0.78399532, 0.74854122, 0.92525598, 1.00658778,\n",
       "        0.98081422, 0.72727503, 0.91440723, 0.69632024, 0.79410959],\n",
       "       [0.80417736, 0.75976135, 0.76993488, 0.74833285, 0.79721391,\n",
       "        0.77559065, 0.69753891, 0.77408272, 0.76977425, 0.78967364],\n",
       "       [0.69132605, 0.69132605, 0.87854762, 0.85390943, 0.78756655,\n",
       "        0.86520494, 0.83120527, 0.78711668, 0.76515614, 0.75639659],\n",
       "       [0.66830078, 0.79661589, 0.76235953, 0.8279513 , 0.82991962,\n",
       "        0.76989968, 0.81402786, 0.8475311 , 0.73534243, 0.85680855],\n",
       "       [0.85959975, 0.73078507, 0.77626144, 0.80720647, 0.86785535,\n",
       "        0.86150467, 0.87547475, 0.82623874, 0.79534512, 0.95481163],\n",
       "       [0.77971651, 0.84842079, 0.97271955, 0.82376485, 0.75293909,\n",
       "        0.80026269, 0.82980001, 0.81599192, 0.69976887, 0.78701411],\n",
       "       [0.92991171, 0.88386457, 0.80777717, 0.77505142, 0.74698808,\n",
       "        0.89003448, 0.78845591, 0.86212071, 0.89181187, 0.87910825]])"
      ]
     },
     "execution_count": 145,
     "metadata": {},
     "output_type": "execute_result"
    }
   ],
   "source": [
    "max_kl_list_grid"
   ]
  },
  {
   "cell_type": "code",
   "execution_count": 146,
   "id": "5c7576f9",
   "metadata": {},
   "outputs": [
    {
     "name": "stdout",
     "output_type": "stream",
     "text": [
      "End: 2025-07-10 20:26:43\n",
      "Plotting resulting graph...\n",
      "Plotting baseline 1...\n",
      "End: 2025-07-10 20:26:43\n"
     ]
    },
    {
     "data": {
      "image/png": "[encoded data removed]",
      "text/plain": [
       "<Figure size 432x288 with 1 Axes>"
      ]
     },
     "metadata": {
      "needs_background": "light"
     },
     "output_type": "display_data"
    }
   ],
   "source": [
    "# Plot the graphs of average rewards during testing phases of the policy\n",
    "# gradient method and the hand-crafted policies\n",
    "\n",
    "print(\"End: \" + datetime.now().strftime('%Y-%m-%d %H:%M:%S'))\n",
    "\n",
    "max_scooter_per_area_list = np.arange(2,17)\n",
    "max_kl_list_grid = [np.array(avg_kl_max_2)[sel_index_2],\n",
    "                        np.array(avg_kl_max_3)[sel_index_3],\n",
    "                        np.array(avg_kl_max_4)[sel_index_4],\n",
    "                        np.array(avg_kl_max_5)[sel_index_5],\n",
    "                        np.array(avg_kl_max_6)[sel_index_6],\n",
    "                        np.array(avg_kl_max_7)[sel_index_7],\n",
    "                        np.array(avg_kl_max_8)[sel_index_8],\n",
    "                        np.array(avg_kl_max_9)[sel_index_9],\n",
    "                        np.array(avg_kl_max_10)[sel_index_10],\n",
    "                        np.array(avg_kl_max_11)[sel_index_11],\n",
    "                        np.array(avg_kl_max_12)[sel_index_12],\n",
    "                        np.array(avg_kl_max_13)[sel_index_13],\n",
    "                        np.array(avg_kl_max_14)[sel_index_14],\n",
    "                        np.array(avg_kl_max_15)[sel_index_15],\n",
    "                        np.array(avg_kl_max_16)[sel_index_16]]\n",
    "max_kl_mean_grid = []\n",
    "max_kl_std_grid = []\n",
    "for ii in range(len(max_scooter_per_area_list)):\n",
    "    max_kl_mean_grid.append(np.mean(max_kl_list_grid[ii]))\n",
    "    max_kl_std_grid.append(np.std(max_kl_list_grid[ii]))\n",
    "\n",
    "print(\"Plotting resulting graph...\")\n",
    "# plt.figure(figsize = (12, 9))\n",
    "l1 = plt.errorbar(max_scooter_per_area_list, max_kl_mean_grid, yerr=max_kl_std_grid, fmt='o-', capsize=5) # ecolor='gray', \n",
    "\n",
    "print(\"Plotting baseline 1...\")\n",
    "# plt.legend(loc='best',prop={'size': 10})\n",
    "plt.ylabel(\"KL divergence\")\n",
    "plt.xlabel(\"max_scooter_per_area\")\n",
    "\n",
    "print(\"End: \" + datetime.now().strftime('%Y-%m-%d %H:%M:%S'))"
   ]
  },
  {
   "cell_type": "code",
   "execution_count": null,
   "id": "85520208",
   "metadata": {},
   "outputs": [],
   "source": []
  }
 ],
 "metadata": {
  "kernelspec": {
   "display_name": "Python 3 (ipykernel)",
   "language": "python",
   "name": "python3"
  },
  "language_info": {
   "codemirror_mode": {
    "name": "ipython",
    "version": 3
   },
   "file_extension": ".py",
   "mimetype": "text/x-python",
   "name": "python",
   "nbconvert_exporter": "python",
   "pygments_lexer": "ipython3",
   "version": "3.9.12"
  }
 },
 "nbformat": 4,
 "nbformat_minor": 5
}

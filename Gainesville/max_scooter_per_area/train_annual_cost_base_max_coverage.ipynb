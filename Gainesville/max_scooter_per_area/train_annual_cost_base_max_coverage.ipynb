{
 "cells": [
  {
   "cell_type": "markdown",
   "id": "203270d1",
   "metadata": {},
   "source": [
    "### Import"
   ]
  },
  {
   "cell_type": "code",
   "execution_count": 1,
   "id": "3f4333d3",
   "metadata": {},
   "outputs": [
    {
     "name": "stdout",
     "output_type": "stream",
     "text": [
      "Start: 2025-07-11 13:02:55\n"
     ]
    }
   ],
   "source": [
    "import sys\n",
    "import os\n",
    "import matplotlib.pyplot as plt\n",
    "from datetime import datetime, timedelta\n",
    "import pandas as pd\n",
    "import geopandas as gpd\n",
    "import numpy as np\n",
    "import matplotlib.pyplot as plt\n",
    "from shapely.geometry import Point, shape\n",
    "import seaborn as sns\n",
    "import random\n",
    "from mpl_toolkits.axes_grid1 import make_axes_locatable\n",
    "# import datetime\n",
    "\n",
    "sys.path.insert(0, '../..')\n",
    "\n",
    "print(\"Start: \" + datetime.now().strftime('%Y-%m-%d %H:%M:%S'))\n",
    "\n",
    "from network_v11_13_max import *\n",
    "from helper_v11_13_max import *"
   ]
  },
  {
   "cell_type": "markdown",
   "id": "a0dd7f1e",
   "metadata": {},
   "source": [
    "### Initialization"
   ]
  },
  {
   "cell_type": "markdown",
   "id": "ac6bac25",
   "metadata": {},
   "source": [
    "#### define agent and gnv boundary"
   ]
  },
  {
   "cell_type": "code",
   "execution_count": 2,
   "id": "f7d075cd",
   "metadata": {},
   "outputs": [
    {
     "data": {
      "text/html": [
       "<div>\n",
       "<style scoped>\n",
       "    .dataframe tbody tr th:only-of-type {\n",
       "        vertical-align: middle;\n",
       "    }\n",
       "\n",
       "    .dataframe tbody tr th {\n",
       "        vertical-align: top;\n",
       "    }\n",
       "\n",
       "    .dataframe thead th {\n",
       "        text-align: right;\n",
       "    }\n",
       "</style>\n",
       "<table border=\"1\" class=\"dataframe\">\n",
       "  <thead>\n",
       "    <tr style=\"text-align: right;\">\n",
       "      <th></th>\n",
       "      <th>level_0</th>\n",
       "      <th>index</th>\n",
       "      <th>latitude</th>\n",
       "      <th>longitude</th>\n",
       "      <th>departure_rate</th>\n",
       "      <th>arrival_rate</th>\n",
       "      <th>dist_transPOI</th>\n",
       "      <th>num_transPOI</th>\n",
       "      <th>dist_bus_stop</th>\n",
       "      <th>num_bus_stop</th>\n",
       "      <th>rider_test_list</th>\n",
       "      <th>geometry</th>\n",
       "    </tr>\n",
       "  </thead>\n",
       "  <tbody>\n",
       "    <tr>\n",
       "      <th>0</th>\n",
       "      <td>0</td>\n",
       "      <td>29</td>\n",
       "      <td>29.658570</td>\n",
       "      <td>-82.415016</td>\n",
       "      <td>0.022484</td>\n",
       "      <td>0.038544</td>\n",
       "      <td>0.081538</td>\n",
       "      <td>1.0</td>\n",
       "      <td>0.030854</td>\n",
       "      <td>1.0</td>\n",
       "      <td>0</td>\n",
       "      <td>POINT (-82.41501609853275 29.65857013179353)</td>\n",
       "    </tr>\n",
       "    <tr>\n",
       "      <th>1</th>\n",
       "      <td>1</td>\n",
       "      <td>30</td>\n",
       "      <td>29.660371</td>\n",
       "      <td>-82.414990</td>\n",
       "      <td>0.002141</td>\n",
       "      <td>0.005353</td>\n",
       "      <td>1.000000</td>\n",
       "      <td>0.0</td>\n",
       "      <td>1.000000</td>\n",
       "      <td>0.0</td>\n",
       "      <td>0</td>\n",
       "      <td>POINT (-82.4149895039865 29.660371378494247)</td>\n",
       "    </tr>\n",
       "    <tr>\n",
       "      <th>2</th>\n",
       "      <td>2</td>\n",
       "      <td>47</td>\n",
       "      <td>29.654944</td>\n",
       "      <td>-82.413000</td>\n",
       "      <td>0.001071</td>\n",
       "      <td>0.002141</td>\n",
       "      <td>1.000000</td>\n",
       "      <td>0.0</td>\n",
       "      <td>1.000000</td>\n",
       "      <td>0.0</td>\n",
       "      <td>0</td>\n",
       "      <td>POINT (-82.41300040184892 29.654944475167262)</td>\n",
       "    </tr>\n",
       "    <tr>\n",
       "      <th>3</th>\n",
       "      <td>3</td>\n",
       "      <td>48</td>\n",
       "      <td>29.656746</td>\n",
       "      <td>-82.412974</td>\n",
       "      <td>0.004283</td>\n",
       "      <td>0.008565</td>\n",
       "      <td>1.000000</td>\n",
       "      <td>0.0</td>\n",
       "      <td>1.000000</td>\n",
       "      <td>0.0</td>\n",
       "      <td>0</td>\n",
       "      <td>POINT (-82.41297377438231 29.65674571873145)</td>\n",
       "    </tr>\n",
       "    <tr>\n",
       "      <th>4</th>\n",
       "      <td>4</td>\n",
       "      <td>49</td>\n",
       "      <td>29.658547</td>\n",
       "      <td>-82.412947</td>\n",
       "      <td>0.078158</td>\n",
       "      <td>0.100642</td>\n",
       "      <td>1.000000</td>\n",
       "      <td>0.0</td>\n",
       "      <td>1.000000</td>\n",
       "      <td>0.0</td>\n",
       "      <td>1</td>\n",
       "      <td>POINT (-82.41294714602218 29.6585469636598)</td>\n",
       "    </tr>\n",
       "  </tbody>\n",
       "</table>\n",
       "</div>"
      ],
      "text/plain": [
       "   level_0  index   latitude  longitude  departure_rate  arrival_rate  \\\n",
       "0        0     29  29.658570 -82.415016        0.022484      0.038544   \n",
       "1        1     30  29.660371 -82.414990        0.002141      0.005353   \n",
       "2        2     47  29.654944 -82.413000        0.001071      0.002141   \n",
       "3        3     48  29.656746 -82.412974        0.004283      0.008565   \n",
       "4        4     49  29.658547 -82.412947        0.078158      0.100642   \n",
       "\n",
       "   dist_transPOI  num_transPOI  dist_bus_stop  num_bus_stop  rider_test_list  \\\n",
       "0       0.081538           1.0       0.030854           1.0                0   \n",
       "1       1.000000           0.0       1.000000           0.0                0   \n",
       "2       1.000000           0.0       1.000000           0.0                0   \n",
       "3       1.000000           0.0       1.000000           0.0                0   \n",
       "4       1.000000           0.0       1.000000           0.0                1   \n",
       "\n",
       "                                        geometry  \n",
       "0   POINT (-82.41501609853275 29.65857013179353)  \n",
       "1   POINT (-82.4149895039865 29.660371378494247)  \n",
       "2  POINT (-82.41300040184892 29.654944475167262)  \n",
       "3   POINT (-82.41297377438231 29.65674571873145)  \n",
       "4    POINT (-82.41294714602218 29.6585469636598)  "
      ]
     },
     "execution_count": 2,
     "metadata": {},
     "output_type": "execute_result"
    }
   ],
   "source": [
    "fl_city_boundary = gpd.read_file('Map/fl_city_boundary.shp')\n",
    "Gainesville_boundary = fl_city_boundary.loc[fl_city_boundary['NAME'] == 'GAINESVILLE'].reset_index(drop=True)\n",
    "Gainesville_boundary['geometry'] = Gainesville_boundary['geometry'].to_crs('epsg:4326')\n",
    "\n",
    "grid_centroid_gdf = pd.read_csv('grid_centroid_gdf.csv')\n",
    "grid_centroid_gdf = grid_centroid_gdf.drop(columns = {'geometry'}, axis = 1)\n",
    "grid_centroid_gdf['geometry'] = grid_centroid_gdf[['longitude', 'latitude']].values.tolist()\n",
    "grid_centroid_gdf['geometry'] = grid_centroid_gdf['geometry'].apply(Point)\n",
    "\n",
    "grid_centroid_gdf = grid_centroid_gdf.loc[grid_centroid_gdf['departure_rate'] > 0].reset_index()\n",
    "\n",
    "grid_centroid_gdf.head()"
   ]
  },
  {
   "cell_type": "markdown",
   "id": "eb76019d",
   "metadata": {},
   "source": [
    "#### scooter-sharing system configure"
   ]
  },
  {
   "cell_type": "code",
   "execution_count": 3,
   "id": "380e0ff5",
   "metadata": {},
   "outputs": [],
   "source": [
    "service_areas = [] # replace stations\n",
    "for i in range (len(grid_centroid_gdf)):\n",
    "    service_areas.append((i, grid_centroid_gdf.geometry.iloc[i], grid_centroid_gdf.departure_rate.iloc[i], grid_centroid_gdf.arrival_rate.iloc[i]))\n",
    "\n",
    "# Parameter setups for the reward system and elements of the environment.\n",
    "docked_cost_per_deploy = 50/365 # each dock cost 500\n",
    "scooter_cost_per_deploy = 25/365 # each scooter 250\n",
    "no_scooter_penalty = 0.5 # 0.5\n",
    "reward_per_rider = 0.2 # 0.2\n",
    "max_scooter_per_area = 8\n",
    "nS = len(service_areas)\n",
    "# equity_penalty = 100.0\n",
    "logistics_car_cost_per_mile = 1.0\n",
    "\n",
    "# dist_transPOI_penalty = 0.5\n",
    "# low_usage_penalty = 1\n",
    "# dist_bus_stop_penalty = 0.2\n",
    "# reward_bus_scooter_coverage = 0.2"
   ]
  },
  {
   "cell_type": "markdown",
   "id": "09b4e97b",
   "metadata": {},
   "source": [
    "#### RL model configure"
   ]
  },
  {
   "cell_type": "code",
   "execution_count": 4,
   "id": "09e74ce5",
   "metadata": {},
   "outputs": [],
   "source": [
    "# Parameter setups for the network and training process.\n",
    "learning_rate = 0.01\n",
    "n_iters = 25\n",
    "n_epochs = 500 # 2000\n",
    "display_step = 50 # 50\n",
    "batch_size = 256\n",
    "gamma = 0.9\n",
    "\n",
    "# The size of the state vector.\n",
    "nS = len(service_areas) # the number of service areas"
   ]
  },
  {
   "cell_type": "markdown",
   "id": "2ce3bd64",
   "metadata": {},
   "source": [
    "## equity_penalty = 0.0"
   ]
  },
  {
   "cell_type": "code",
   "execution_count": 338,
   "id": "59b3076c",
   "metadata": {},
   "outputs": [
    {
     "name": "stdout",
     "output_type": "stream",
     "text": [
      "Starting policy gradient...\n",
      "Training in progress...\n",
      "Epoch 50, Average reward, unmet demand, met demand, scooter num, scooter loc, gini index unmet, gini index met, wANNR, moran, gini, theil, EMD, centroid change, dispersion change, kl divergence = -29.891, 44.200, 146.800, 180.800, 104.200, 0.982, 0.960, 0.489, 0.040, 0.949, 0.222, 2.058, 0.978, -1.787, 0.809\n",
      "Epoch 100, Average reward, unmet demand, met demand, scooter num, scooter loc, gini index unmet, gini index met, wANNR, moran, gini, theil, EMD, centroid change, dispersion change, kl divergence = -38.331, 61.600, 129.400, 162.600, 105.600, 0.979, 0.959, 0.456, 0.038, 0.946, 0.200, 2.010, 1.013, -1.774, 0.856\n",
      "Epoch 150, Average reward, unmet demand, met demand, scooter num, scooter loc, gini index unmet, gini index met, wANNR, moran, gini, theil, EMD, centroid change, dispersion change, kl divergence = -20.620, 32.600, 158.400, 175.200, 104.400, 0.989, 0.954, 0.473, 0.038, 0.948, 0.200, 1.979, 0.949, -1.701, 0.840\n",
      "Epoch 200, Average reward, unmet demand, met demand, scooter num, scooter loc, gini index unmet, gini index met, wANNR, moran, gini, theil, EMD, centroid change, dispersion change, kl divergence = -22.944, 36.800, 154.200, 172.200, 104.200, 0.987, 0.953, 0.469, 0.039, 0.947, 0.186, 1.968, 0.972, -1.671, 0.826\n",
      "Epoch 250, Average reward, unmet demand, met demand, scooter num, scooter loc, gini index unmet, gini index met, wANNR, moran, gini, theil, EMD, centroid change, dispersion change, kl divergence = -19.276, 29.800, 161.200, 178.200, 105.800, 0.987, 0.954, 0.477, 0.042, 0.948, 0.208, 2.039, 0.949, -1.759, 0.790\n",
      "Epoch 300, Average reward, unmet demand, met demand, scooter num, scooter loc, gini index unmet, gini index met, wANNR, moran, gini, theil, EMD, centroid change, dispersion change, kl divergence = -28.807, 45.000, 146.000, 172.800, 105.000, 0.982, 0.954, 0.470, 0.040, 0.948, 0.210, 2.010, 0.959, -1.748, 0.732\n",
      "Epoch 350, Average reward, unmet demand, met demand, scooter num, scooter loc, gini index unmet, gini index met, wANNR, moran, gini, theil, EMD, centroid change, dispersion change, kl divergence = -16.285, 24.000, 167.000, 183.400, 106.000, 0.989, 0.955, 0.484, 0.039, 0.948, 0.223, 2.016, 0.938, -1.747, 0.822\n",
      "Epoch 400, Average reward, unmet demand, met demand, scooter num, scooter loc, gini index unmet, gini index met, wANNR, moran, gini, theil, EMD, centroid change, dispersion change, kl divergence = -20.298, 31.200, 159.800, 178.400, 103.800, 0.989, 0.954, 0.477, 0.039, 0.949, 0.215, 2.017, 0.926, -1.745, 0.818\n",
      "Epoch 450, Average reward, unmet demand, met demand, scooter num, scooter loc, gini index unmet, gini index met, wANNR, moran, gini, theil, EMD, centroid change, dispersion change, kl divergence = -53.067, 85.000, 106.000, 154.600, 95.600, 0.968, 0.969, 0.444, 0.035, 0.952, 0.204, 1.946, 0.931, -1.645, 0.809\n",
      "Epoch 500, Average reward, unmet demand, met demand, scooter num, scooter loc, gini index unmet, gini index met, wANNR, moran, gini, theil, EMD, centroid change, dispersion change, kl divergence = -32.695, 51.200, 139.800, 170.600, 106.200, 0.981, 0.959, 0.467, 0.037, 0.946, 0.200, 1.949, 0.935, -1.668, 0.895\n"
     ]
    }
   ],
   "source": [
    "## tf.reset_default_graph() only works under tf 1.0\n",
    "equity_penalty = 0.0\n",
    "\n",
    "# Set up the state-value estimator and policy estimator\n",
    "estimator_policy = PolicyEstimator(learning_rate, nS)\n",
    "estimator_value = StateValueEstimator(learning_rate, nS)\n",
    "\n",
    "rider_test_list = np.array(grid_centroid_gdf['rider_test_list'])\n",
    "\n",
    "# Initialize study area\n",
    "study_area = create_study_area(service_areas, max_scooter_per_area, scooter_cost_per_deploy, docked_cost_per_deploy, \\\n",
    "                   nS, no_scooter_penalty, reward_per_rider, equity_penalty, rider_test_list, logistics_car_cost_per_mile)\n",
    "\n",
    "# Add ops to save and restore all the variables\n",
    "\n",
    "print(\"Starting policy gradient...\")\n",
    "\n",
    "# Start training\n",
    "print(\"Training in progress...\")\n",
    "avg_reward_max_2, avg_unmet_demand_max_2, avg_met_demand_max_2, avg_scooter_num_max_2, avg_scooter_loc_max_2, avg_wANNR_max_2, avg_moran_max_2, avg_gini_max_2, avg_theil_max_2, avg_EMD_max_2, avg_centroid_max_2, avg_dispersion_max_2, avg_kl_max_2, scooter_list_max_2 = reinforce(study_area, nS, estimator_policy, estimator_value, n_epochs, n_iters, batch_size, display_step)"
   ]
  },
  {
   "cell_type": "markdown",
   "id": "0c0df756",
   "metadata": {},
   "source": [
    "## equity_penalty = 100.0"
   ]
  },
  {
   "cell_type": "code",
   "execution_count": 274,
   "id": "7927ff81",
   "metadata": {},
   "outputs": [
    {
     "name": "stdout",
     "output_type": "stream",
     "text": [
      "Starting policy gradient...\n",
      "Training in progress...\n",
      "Epoch 50, Average reward, unmet demand, met demand, scooter num, scooter loc, gini index unmet, gini index met, wANNR, moran, gini, theil, EMD, centroid change, dispersion change, kl divergence = -14.904, 35.400, 155.600, 174.800, 105.400, 0.987, 0.953, 0.473, 0.042, 0.947, 0.187, 1.965, 0.943, -1.672, 0.829\n",
      "Epoch 100, Average reward, unmet demand, met demand, scooter num, scooter loc, gini index unmet, gini index met, wANNR, moran, gini, theil, EMD, centroid change, dispersion change, kl divergence = -11.291, 29.000, 162.000, 178.600, 104.200, 0.989, 0.955, 0.478, 0.040, 0.949, 0.210, 2.027, 0.942, -1.742, 0.823\n",
      "Epoch 150, Average reward, unmet demand, met demand, scooter num, scooter loc, gini index unmet, gini index met, wANNR, moran, gini, theil, EMD, centroid change, dispersion change, kl divergence = -10.563, 26.800, 164.200, 183.600, 107.200, 0.990, 0.954, 0.484, 0.039, 0.947, 0.213, 2.003, 0.915, -1.730, 0.834\n",
      "Epoch 200, Average reward, unmet demand, met demand, scooter num, scooter loc, gini index unmet, gini index met, wANNR, moran, gini, theil, EMD, centroid change, dispersion change, kl divergence = -10.563, 28.400, 162.600, 176.400, 102.200, 0.989, 0.955, 0.475, 0.038, 0.950, 0.218, 1.997, 0.916, -1.704, 0.853\n",
      "Epoch 250, Average reward, unmet demand, met demand, scooter num, scooter loc, gini index unmet, gini index met, wANNR, moran, gini, theil, EMD, centroid change, dispersion change, kl divergence = -10.295, 26.400, 164.600, 182.400, 103.600, 0.989, 0.955, 0.483, 0.039, 0.950, 0.220, 2.029, 0.938, -1.758, 0.833\n",
      "Epoch 300, Average reward, unmet demand, met demand, scooter num, scooter loc, gini index unmet, gini index met, wANNR, moran, gini, theil, EMD, centroid change, dispersion change, kl divergence = -12.024, 31.000, 160.000, 175.000, 103.200, 0.988, 0.954, 0.473, 0.038, 0.949, 0.207, 2.004, 0.958, -1.718, 0.819\n",
      "Epoch 350, Average reward, unmet demand, met demand, scooter num, scooter loc, gini index unmet, gini index met, wANNR, moran, gini, theil, EMD, centroid change, dispersion change, kl divergence = -50.091, 85.800, 105.200, 176.800, 112.400, 0.966, 0.970, 0.475, 0.038, 0.942, 0.190, 1.866, 0.981, -1.596, 0.797\n",
      "Epoch 400, Average reward, unmet demand, met demand, scooter num, scooter loc, gini index unmet, gini index met, wANNR, moran, gini, theil, EMD, centroid change, dispersion change, kl divergence = -14.532, 33.800, 157.200, 179.000, 107.000, 0.987, 0.955, 0.478, 0.036, 0.948, 0.226, 1.988, 0.943, -1.717, 0.826\n",
      "Epoch 450, Average reward, unmet demand, met demand, scooter num, scooter loc, gini index unmet, gini index met, wANNR, moran, gini, theil, EMD, centroid change, dispersion change, kl divergence = -35.424, 64.800, 126.200, 175.000, 106.800, 0.972, 0.965, 0.473, 0.040, 0.946, 0.201, 2.025, 0.914, -1.810, 0.767\n",
      "Epoch 500, Average reward, unmet demand, met demand, scooter num, scooter loc, gini index unmet, gini index met, wANNR, moran, gini, theil, EMD, centroid change, dispersion change, kl divergence = -13.572, 32.400, 158.600, 179.800, 109.000, 0.988, 0.954, 0.480, 0.038, 0.945, 0.212, 1.974, 0.939, -1.686, 0.841\n"
     ]
    }
   ],
   "source": [
    "## tf.reset_default_graph() only works under tf 1.0\n",
    "equity_penalty = 100.0\n",
    "\n",
    "# Set up the state-value estimator and policy estimator\n",
    "estimator_policy = PolicyEstimator(learning_rate, nS)\n",
    "estimator_value = StateValueEstimator(learning_rate, nS)\n",
    "\n",
    "rider_test_list = np.array(grid_centroid_gdf['rider_test_list'])\n",
    "\n",
    "# Initialize study area\n",
    "study_area = create_study_area(service_areas, max_scooter_per_area, scooter_cost_per_deploy, docked_cost_per_deploy, \\\n",
    "                   nS, no_scooter_penalty, reward_per_rider, equity_penalty, rider_test_list, logistics_car_cost_per_mile)\n",
    "\n",
    "# Add ops to save and restore all the variables\n",
    "\n",
    "print(\"Starting policy gradient...\")\n",
    "\n",
    "# Start training\n",
    "print(\"Training in progress...\")\n",
    "avg_reward_max_7, avg_unmet_demand_max_7, avg_met_demand_max_7, avg_scooter_num_max_7, avg_scooter_loc_max_7, avg_wANNR_max_7, avg_moran_max_7, avg_gini_max_7, avg_theil_max_7, avg_EMD_max_7, avg_centroid_max_7, avg_dispersion_max_7, avg_kl_max_7, scooter_list_max_7 = reinforce(study_area, nS, estimator_policy, estimator_value, n_epochs, n_iters, batch_size, display_step)"
   ]
  },
  {
   "cell_type": "markdown",
   "id": "93e0783a",
   "metadata": {},
   "source": [
    "## equity_penalty = 200.0"
   ]
  },
  {
   "cell_type": "code",
   "execution_count": 331,
   "id": "36be398b",
   "metadata": {},
   "outputs": [
    {
     "name": "stdout",
     "output_type": "stream",
     "text": [
      "Starting policy gradient...\n",
      "Training in progress...\n",
      "Epoch 50, Average reward, unmet demand, met demand, scooter num, scooter loc, gini index unmet, gini index met, wANNR, moran, gini, theil, EMD, centroid change, dispersion change, kl divergence = -4.259, 30.400, 160.600, 176.000, 104.000, 0.989, 0.955, 0.475, 0.036, 0.949, 0.218, 1.967, 0.936, -1.679, 0.860\n",
      "Epoch 100, Average reward, unmet demand, met demand, scooter num, scooter loc, gini index unmet, gini index met, wANNR, moran, gini, theil, EMD, centroid change, dispersion change, kl divergence = -1.542, 24.600, 166.400, 185.200, 107.800, 0.990, 0.955, 0.487, 0.039, 0.947, 0.223, 1.990, 0.937, -1.704, 0.818\n",
      "Epoch 150, Average reward, unmet demand, met demand, scooter num, scooter loc, gini index unmet, gini index met, wANNR, moran, gini, theil, EMD, centroid change, dispersion change, kl divergence = -4.068, 29.000, 162.000, 179.000, 102.800, 0.989, 0.955, 0.479, 0.039, 0.950, 0.219, 2.026, 0.906, -1.749, 0.820\n",
      "Epoch 200, Average reward, unmet demand, met demand, scooter num, scooter loc, gini index unmet, gini index met, wANNR, moran, gini, theil, EMD, centroid change, dispersion change, kl divergence = -6.602, 34.400, 156.600, 174.200, 104.600, 0.987, 0.955, 0.472, 0.038, 0.948, 0.209, 1.987, 0.954, -1.710, 0.810\n",
      "Epoch 250, Average reward, unmet demand, met demand, scooter num, scooter loc, gini index unmet, gini index met, wANNR, moran, gini, theil, EMD, centroid change, dispersion change, kl divergence = -6.731, 35.400, 155.600, 171.000, 104.000, 0.989, 0.953, 0.468, 0.037, 0.947, 0.190, 1.968, 0.946, -1.704, 0.859\n",
      "Epoch 300, Average reward, unmet demand, met demand, scooter num, scooter loc, gini index unmet, gini index met, wANNR, moran, gini, theil, EMD, centroid change, dispersion change, kl divergence = -4.118, 29.800, 161.200, 176.800, 103.200, 0.989, 0.955, 0.476, 0.037, 0.949, 0.213, 1.976, 0.944, -1.694, 0.842\n",
      "Epoch 350, Average reward, unmet demand, met demand, scooter num, scooter loc, gini index unmet, gini index met, wANNR, moran, gini, theil, EMD, centroid change, dispersion change, kl divergence = -1.032, 23.800, 167.200, 183.200, 104.600, 0.989, 0.956, 0.484, 0.037, 0.949, 0.227, 2.014, 0.957, -1.730, 0.834\n",
      "Epoch 400, Average reward, unmet demand, met demand, scooter num, scooter loc, gini index unmet, gini index met, wANNR, moran, gini, theil, EMD, centroid change, dispersion change, kl divergence = -2.581, 26.600, 164.400, 181.200, 104.600, 0.989, 0.955, 0.481, 0.039, 0.949, 0.221, 2.026, 0.920, -1.730, 0.821\n",
      "Epoch 450, Average reward, unmet demand, met demand, scooter num, scooter loc, gini index unmet, gini index met, wANNR, moran, gini, theil, EMD, centroid change, dispersion change, kl divergence = -18.097, 52.600, 138.400, 168.000, 104.400, 0.981, 0.959, 0.463, 0.039, 0.947, 0.179, 1.953, 0.930, -1.687, 0.854\n",
      "Epoch 500, Average reward, unmet demand, met demand, scooter num, scooter loc, gini index unmet, gini index met, wANNR, moran, gini, theil, EMD, centroid change, dispersion change, kl divergence = -3.914, 28.200, 162.800, 182.800, 105.400, 0.989, 0.956, 0.484, 0.038, 0.949, 0.228, 2.025, 0.939, -1.755, 0.799\n"
     ]
    }
   ],
   "source": [
    "## tf.reset_default_graph() only works under tf 1.0\n",
    "equity_penalty = 200.0\n",
    "\n",
    "# Set up the state-value estimator and policy estimator\n",
    "estimator_policy = PolicyEstimator(learning_rate, nS)\n",
    "estimator_value = StateValueEstimator(learning_rate, nS)\n",
    "\n",
    "rider_test_list = np.array(grid_centroid_gdf['rider_test_list'])\n",
    "\n",
    "# Initialize study area\n",
    "study_area = create_study_area(service_areas, max_scooter_per_area, scooter_cost_per_deploy, docked_cost_per_deploy, \\\n",
    "                   nS, no_scooter_penalty, reward_per_rider, equity_penalty, rider_test_list, logistics_car_cost_per_mile)\n",
    "\n",
    "# Add ops to save and restore all the variables\n",
    "\n",
    "print(\"Starting policy gradient...\")\n",
    "\n",
    "# Start training\n",
    "print(\"Training in progress...\")\n",
    "avg_reward_max_8, avg_unmet_demand_max_8, avg_met_demand_max_8, avg_scooter_num_max_8, avg_scooter_loc_max_8, avg_wANNR_max_8, avg_moran_max_8, avg_gini_max_8, avg_theil_max_8, avg_EMD_max_8, avg_centroid_max_8, avg_dispersion_max_8, avg_kl_max_8, scooter_list_max_8 = reinforce(study_area, nS, estimator_policy, estimator_value, n_epochs, n_iters, batch_size, display_step)"
   ]
  },
  {
   "cell_type": "markdown",
   "id": "e083ec22",
   "metadata": {},
   "source": [
    "## equity_penalty = 300.0"
   ]
  },
  {
   "cell_type": "code",
   "execution_count": 215,
   "id": "19adfab7",
   "metadata": {},
   "outputs": [
    {
     "name": "stdout",
     "output_type": "stream",
     "text": [
      "Starting policy gradient...\n",
      "Training in progress...\n",
      "Epoch 50, Average reward, unmet demand, met demand, scooter num, scooter loc, gini index unmet, gini index met, wANNR, moran, gini, theil, EMD, centroid change, dispersion change, kl divergence = 2.993, 29.600, 161.400, 182.000, 106.000, 0.989, 0.956, 0.482, 0.036, 0.948, 0.220, 1.968, 0.920, -1.693, 0.839\n",
      "Epoch 100, Average reward, unmet demand, met demand, scooter num, scooter loc, gini index unmet, gini index met, wANNR, moran, gini, theil, EMD, centroid change, dispersion change, kl divergence = 4.635, 28.000, 163.000, 178.200, 104.800, 0.989, 0.955, 0.477, 0.037, 0.949, 0.223, 1.991, 0.919, -1.706, 0.851\n",
      "Epoch 150, Average reward, unmet demand, met demand, scooter num, scooter loc, gini index unmet, gini index met, wANNR, moran, gini, theil, EMD, centroid change, dispersion change, kl divergence = 0.612, 34.800, 156.200, 178.400, 108.400, 0.988, 0.954, 0.477, 0.040, 0.946, 0.198, 1.977, 0.953, -1.701, 0.826\n",
      "Epoch 200, Average reward, unmet demand, met demand, scooter num, scooter loc, gini index unmet, gini index met, wANNR, moran, gini, theil, EMD, centroid change, dispersion change, kl divergence = 2.422, 31.600, 159.400, 178.600, 106.600, 0.989, 0.954, 0.478, 0.039, 0.947, 0.202, 1.972, 0.910, -1.701, 0.841\n",
      "Epoch 250, Average reward, unmet demand, met demand, scooter num, scooter loc, gini index unmet, gini index met, wANNR, moran, gini, theil, EMD, centroid change, dispersion change, kl divergence = 3.342, 29.800, 161.200, 179.200, 105.600, 0.989, 0.954, 0.479, 0.039, 0.948, 0.214, 2.022, 0.939, -1.750, 0.841\n",
      "Epoch 300, Average reward, unmet demand, met demand, scooter num, scooter loc, gini index unmet, gini index met, wANNR, moran, gini, theil, EMD, centroid change, dispersion change, kl divergence = 4.021, 28.200, 162.800, 182.400, 106.600, 0.989, 0.955, 0.484, 0.038, 0.948, 0.225, 1.999, 0.931, -1.706, 0.860\n",
      "Epoch 350, Average reward, unmet demand, met demand, scooter num, scooter loc, gini index unmet, gini index met, wANNR, moran, gini, theil, EMD, centroid change, dispersion change, kl divergence = 4.854, 27.600, 163.400, 180.600, 106.800, 0.989, 0.955, 0.480, 0.037, 0.947, 0.220, 1.980, 0.948, -1.699, 0.866\n",
      "Epoch 400, Average reward, unmet demand, met demand, scooter num, scooter loc, gini index unmet, gini index met, wANNR, moran, gini, theil, EMD, centroid change, dispersion change, kl divergence = 0.259, 35.200, 155.800, 175.600, 105.400, 0.987, 0.954, 0.474, 0.043, 0.948, 0.202, 2.040, 0.921, -1.779, 0.809\n",
      "Epoch 450, Average reward, unmet demand, met demand, scooter num, scooter loc, gini index unmet, gini index met, wANNR, moran, gini, theil, EMD, centroid change, dispersion change, kl divergence = 4.286, 27.800, 163.200, 181.000, 105.200, 0.989, 0.955, 0.481, 0.039, 0.949, 0.218, 2.021, 0.929, -1.754, 0.831\n",
      "Epoch 500, Average reward, unmet demand, met demand, scooter num, scooter loc, gini index unmet, gini index met, wANNR, moran, gini, theil, EMD, centroid change, dispersion change, kl divergence = 3.612, 29.600, 161.400, 179.200, 106.200, 0.989, 0.954, 0.478, 0.037, 0.947, 0.211, 1.983, 0.945, -1.710, 0.850\n"
     ]
    }
   ],
   "source": [
    "## tf.reset_default_graph() only works under tf 1.0\n",
    "equity_penalty = 300.0\n",
    "\n",
    "# Set up the state-value estimator and policy estimator\n",
    "estimator_policy = PolicyEstimator(learning_rate, nS)\n",
    "estimator_value = StateValueEstimator(learning_rate, nS)\n",
    "\n",
    "rider_test_list = np.array(grid_centroid_gdf['rider_test_list'])\n",
    "\n",
    "# Initialize study area\n",
    "study_area = create_study_area(service_areas, max_scooter_per_area, scooter_cost_per_deploy, docked_cost_per_deploy, \\\n",
    "                   nS, no_scooter_penalty, reward_per_rider, equity_penalty, rider_test_list, logistics_car_cost_per_mile)\n",
    "\n",
    "# Add ops to save and restore all the variables\n",
    "\n",
    "print(\"Starting policy gradient...\")\n",
    "\n",
    "# Start training\n",
    "print(\"Training in progress...\")\n",
    "avg_reward_max_9, avg_unmet_demand_max_9, avg_met_demand_max_9, avg_scooter_num_max_9, avg_scooter_loc_max_9, avg_wANNR_max_9, avg_moran_max_9, avg_gini_max_9, avg_theil_max_9, avg_EMD_max_9, avg_centroid_max_9, avg_dispersion_max_9, avg_kl_max_9, scooter_list_max_9 = reinforce(study_area, nS, estimator_policy, estimator_value, n_epochs, n_iters, batch_size, display_step)"
   ]
  },
  {
   "cell_type": "markdown",
   "id": "c16ce03b",
   "metadata": {},
   "source": [
    "## equity_penalty = 400.0"
   ]
  },
  {
   "cell_type": "code",
   "execution_count": 21,
   "id": "3683cc27",
   "metadata": {},
   "outputs": [
    {
     "name": "stdout",
     "output_type": "stream",
     "text": [
      "Starting policy gradient...\n",
      "Training in progress...\n",
      "Epoch 50, Average reward, unmet demand, met demand, scooter num, scooter loc, gini index unmet, gini index met, wANNR, moran, gini, theil, EMD, centroid change, dispersion change, kl divergence = 14.797, 23.600, 167.400, 180.200, 104.600, 0.990, 0.955, 0.480, 0.035, 0.949, 0.230, 1.985, 0.893, -1.721, 0.852\n",
      "Epoch 100, Average reward, unmet demand, met demand, scooter num, scooter loc, gini index unmet, gini index met, wANNR, moran, gini, theil, EMD, centroid change, dispersion change, kl divergence = -11.079, 62.000, 129.000, 179.800, 107.800, 0.973, 0.965, 0.479, 0.040, 0.947, 0.221, 2.032, 0.943, -1.816, 0.792\n",
      "Epoch 150, Average reward, unmet demand, met demand, scooter num, scooter loc, gini index unmet, gini index met, wANNR, moran, gini, theil, EMD, centroid change, dispersion change, kl divergence = 8.728, 32.800, 158.200, 181.200, 106.600, 0.987, 0.954, 0.482, 0.039, 0.947, 0.206, 1.985, 0.961, -1.698, 0.816\n",
      "Epoch 200, Average reward, unmet demand, met demand, scooter num, scooter loc, gini index unmet, gini index met, wANNR, moran, gini, theil, EMD, centroid change, dispersion change, kl divergence = 12.135, 28.000, 163.000, 176.200, 103.200, 0.989, 0.955, 0.474, 0.037, 0.949, 0.217, 1.991, 0.932, -1.701, 0.829\n",
      "Epoch 250, Average reward, unmet demand, met demand, scooter num, scooter loc, gini index unmet, gini index met, wANNR, moran, gini, theil, EMD, centroid change, dispersion change, kl divergence = 10.104, 29.600, 161.400, 182.600, 104.600, 0.987, 0.956, 0.483, 0.039, 0.949, 0.218, 2.021, 0.930, -1.745, 0.836\n",
      "Epoch 300, Average reward, unmet demand, met demand, scooter num, scooter loc, gini index unmet, gini index met, wANNR, moran, gini, theil, EMD, centroid change, dispersion change, kl divergence = 13.315, 25.800, 165.200, 181.600, 105.800, 0.988, 0.955, 0.482, 0.037, 0.948, 0.228, 2.010, 0.913, -1.728, 0.824\n",
      "Epoch 350, Average reward, unmet demand, met demand, scooter num, scooter loc, gini index unmet, gini index met, wANNR, moran, gini, theil, EMD, centroid change, dispersion change, kl divergence = 12.112, 28.000, 163.000, 179.400, 105.400, 0.989, 0.955, 0.479, 0.038, 0.948, 0.212, 1.991, 0.920, -1.708, 0.834\n",
      "Epoch 400, Average reward, unmet demand, met demand, scooter num, scooter loc, gini index unmet, gini index met, wANNR, moran, gini, theil, EMD, centroid change, dispersion change, kl divergence = -4.569, 54.200, 136.800, 170.200, 104.600, 0.981, 0.960, 0.467, 0.036, 0.947, 0.208, 1.958, 0.998, -1.655, 0.832\n",
      "Epoch 450, Average reward, unmet demand, met demand, scooter num, scooter loc, gini index unmet, gini index met, wANNR, moran, gini, theil, EMD, centroid change, dispersion change, kl divergence = 10.061, 31.600, 159.400, 178.800, 106.600, 0.989, 0.955, 0.478, 0.037, 0.947, 0.211, 1.981, 0.933, -1.716, 0.853\n",
      "Epoch 500, Average reward, unmet demand, met demand, scooter num, scooter loc, gini index unmet, gini index met, wANNR, moran, gini, theil, EMD, centroid change, dispersion change, kl divergence = 11.858, 27.200, 163.800, 182.800, 105.000, 0.988, 0.955, 0.484, 0.039, 0.949, 0.217, 2.014, 0.923, -1.746, 0.848\n"
     ]
    }
   ],
   "source": [
    "## tf.reset_default_graph() only works under tf 1.0\n",
    "equity_penalty = 400.0\n",
    "\n",
    "# Set up the state-value estimator and policy estimator\n",
    "estimator_policy = PolicyEstimator(learning_rate, nS)\n",
    "estimator_value = StateValueEstimator(learning_rate, nS)\n",
    "\n",
    "rider_test_list = np.array(grid_centroid_gdf['rider_test_list'])\n",
    "\n",
    "# Initialize study area\n",
    "study_area = create_study_area(service_areas, max_scooter_per_area, scooter_cost_per_deploy, docked_cost_per_deploy, \\\n",
    "                   nS, no_scooter_penalty, reward_per_rider, equity_penalty, rider_test_list, logistics_car_cost_per_mile)\n",
    "\n",
    "# Add ops to save and restore all the variables\n",
    "\n",
    "print(\"Starting policy gradient...\")\n",
    "\n",
    "# Start training\n",
    "print(\"Training in progress...\")\n",
    "avg_reward_max_10, avg_unmet_demand_max_10, avg_met_demand_max_10, avg_scooter_num_max_10, avg_scooter_loc_max_10, avg_wANNR_max_10, avg_moran_max_10, avg_gini_max_10, avg_theil_max_10, avg_EMD_max_10, avg_centroid_max_10, avg_dispersion_max_10, avg_kl_max_10, scooter_list_max_10 = reinforce(study_area, nS, estimator_policy, estimator_value, n_epochs, n_iters, batch_size, display_step)"
   ]
  },
  {
   "cell_type": "markdown",
   "id": "dad374e2",
   "metadata": {},
   "source": [
    "## equity_penalty = 500.0"
   ]
  },
  {
   "cell_type": "code",
   "execution_count": 175,
   "id": "693564e0",
   "metadata": {},
   "outputs": [
    {
     "name": "stdout",
     "output_type": "stream",
     "text": [
      "Starting policy gradient...\n",
      "Training in progress...\n",
      "Epoch 50, Average reward, unmet demand, met demand, scooter num, scooter loc, gini index unmet, gini index met, wANNR, moran, gini, theil, EMD, centroid change, dispersion change, kl divergence = 18.734, 28.800, 162.200, 180.000, 104.600, 0.989, 0.955, 0.480, 0.039, 0.949, 0.215, 2.016, 0.945, -1.743, 0.831\n",
      "Epoch 100, Average reward, unmet demand, met demand, scooter num, scooter loc, gini index unmet, gini index met, wANNR, moran, gini, theil, EMD, centroid change, dispersion change, kl divergence = 18.457, 29.400, 161.600, 178.600, 104.200, 0.988, 0.955, 0.478, 0.038, 0.949, 0.221, 2.027, 0.959, -1.758, 0.815\n",
      "Epoch 150, Average reward, unmet demand, met demand, scooter num, scooter loc, gini index unmet, gini index met, wANNR, moran, gini, theil, EMD, centroid change, dispersion change, kl divergence = -4.022, 63.000, 128.000, 181.600, 108.800, 0.973, 0.965, 0.482, 0.038, 0.946, 0.216, 1.982, 0.904, -1.736, 0.837\n",
      "Epoch 200, Average reward, unmet demand, met demand, scooter num, scooter loc, gini index unmet, gini index met, wANNR, moran, gini, theil, EMD, centroid change, dispersion change, kl divergence = 17.213, 32.000, 159.000, 175.800, 104.200, 0.988, 0.954, 0.474, 0.037, 0.949, 0.222, 2.017, 0.955, -1.746, 0.854\n",
      "Epoch 250, Average reward, unmet demand, met demand, scooter num, scooter loc, gini index unmet, gini index met, wANNR, moran, gini, theil, EMD, centroid change, dispersion change, kl divergence = 6.799, 46.200, 144.800, 176.000, 103.000, 0.981, 0.959, 0.474, 0.036, 0.950, 0.217, 1.996, 0.930, -1.747, 0.825\n",
      "Epoch 300, Average reward, unmet demand, met demand, scooter num, scooter loc, gini index unmet, gini index met, wANNR, moran, gini, theil, EMD, centroid change, dispersion change, kl divergence = 18.518, 29.800, 161.200, 180.800, 106.400, 0.989, 0.955, 0.481, 0.040, 0.948, 0.215, 2.027, 0.935, -1.761, 0.840\n",
      "Epoch 350, Average reward, unmet demand, met demand, scooter num, scooter loc, gini index unmet, gini index met, wANNR, moran, gini, theil, EMD, centroid change, dispersion change, kl divergence = 18.730, 28.600, 162.400, 181.400, 105.000, 0.989, 0.955, 0.481, 0.038, 0.949, 0.219, 2.003, 0.947, -1.718, 0.845\n",
      "Epoch 400, Average reward, unmet demand, met demand, scooter num, scooter loc, gini index unmet, gini index met, wANNR, moran, gini, theil, EMD, centroid change, dispersion change, kl divergence = 18.646, 30.000, 161.000, 181.600, 107.600, 0.989, 0.954, 0.482, 0.041, 0.947, 0.212, 2.034, 0.950, -1.753, 0.844\n",
      "Epoch 450, Average reward, unmet demand, met demand, scooter num, scooter loc, gini index unmet, gini index met, wANNR, moran, gini, theil, EMD, centroid change, dispersion change, kl divergence = 12.886, 40.000, 151.000, 168.200, 103.400, 0.986, 0.953, 0.464, 0.040, 0.948, 0.189, 2.007, 0.942, -1.746, 0.823\n",
      "Epoch 500, Average reward, unmet demand, met demand, scooter num, scooter loc, gini index unmet, gini index met, wANNR, moran, gini, theil, EMD, centroid change, dispersion change, kl divergence = 18.434, 28.800, 162.200, 177.600, 102.400, 0.989, 0.955, 0.476, 0.037, 0.950, 0.218, 1.997, 0.922, -1.723, 0.827\n"
     ]
    }
   ],
   "source": [
    "## tf.reset_default_graph() only works under tf 1.0\n",
    "equity_penalty = 500.0\n",
    "\n",
    "# Set up the state-value estimator and policy estimator\n",
    "estimator_policy = PolicyEstimator(learning_rate, nS)\n",
    "estimator_value = StateValueEstimator(learning_rate, nS)\n",
    "\n",
    "rider_test_list = np.array(grid_centroid_gdf['rider_test_list'])\n",
    "\n",
    "# Initialize study area\n",
    "study_area = create_study_area(service_areas, max_scooter_per_area, scooter_cost_per_deploy, docked_cost_per_deploy, \\\n",
    "                   nS, no_scooter_penalty, reward_per_rider, equity_penalty, rider_test_list, logistics_car_cost_per_mile)\n",
    "\n",
    "# Add ops to save and restore all the variables\n",
    "\n",
    "print(\"Starting policy gradient...\")\n",
    "\n",
    "# Start training\n",
    "print(\"Training in progress...\")\n",
    "avg_reward_max_11, avg_unmet_demand_max_11, avg_met_demand_max_11, avg_scooter_num_max_11, avg_scooter_loc_max_11, avg_wANNR_max_11, avg_moran_max_11, avg_gini_max_11, avg_theil_max_11, avg_EMD_max_11, avg_centroid_max_11, avg_dispersion_max_11, avg_kl_max_11, scooter_list_max_11 = reinforce(study_area, nS, estimator_policy, estimator_value, n_epochs, n_iters, batch_size, display_step)"
   ]
  },
  {
   "cell_type": "markdown",
   "id": "0572be87",
   "metadata": {},
   "source": [
    "## equity_penalty = 600.0"
   ]
  },
  {
   "cell_type": "code",
   "execution_count": 180,
   "id": "d93d482c",
   "metadata": {},
   "outputs": [
    {
     "name": "stdout",
     "output_type": "stream",
     "text": [
      "Starting policy gradient...\n",
      "Training in progress...\n",
      "Epoch 50, Average reward, unmet demand, met demand, scooter num, scooter loc, gini index unmet, gini index met, wANNR, moran, gini, theil, EMD, centroid change, dispersion change, kl divergence = 15.441, 48.200, 142.800, 182.600, 112.200, 0.982, 0.958, 0.483, 0.043, 0.943, 0.187, 2.000, 0.967, -1.754, 0.825\n",
      "Epoch 100, Average reward, unmet demand, met demand, scooter num, scooter loc, gini index unmet, gini index met, wANNR, moran, gini, theil, EMD, centroid change, dispersion change, kl divergence = 27.436, 26.800, 164.200, 182.400, 105.200, 0.989, 0.955, 0.483, 0.037, 0.949, 0.228, 2.018, 0.948, -1.755, 0.819\n",
      "Epoch 150, Average reward, unmet demand, met demand, scooter num, scooter loc, gini index unmet, gini index met, wANNR, moran, gini, theil, EMD, centroid change, dispersion change, kl divergence = 25.185, 31.400, 159.600, 176.000, 104.400, 0.989, 0.954, 0.474, 0.039, 0.948, 0.207, 1.992, 0.922, -1.706, 0.851\n",
      "Epoch 200, Average reward, unmet demand, met demand, scooter num, scooter loc, gini index unmet, gini index met, wANNR, moran, gini, theil, EMD, centroid change, dispersion change, kl divergence = 26.365, 29.000, 162.000, 181.800, 106.000, 0.989, 0.954, 0.482, 0.037, 0.948, 0.207, 1.979, 0.966, -1.690, 0.830\n",
      "Epoch 250, Average reward, unmet demand, met demand, scooter num, scooter loc, gini index unmet, gini index met, wANNR, moran, gini, theil, EMD, centroid change, dispersion change, kl divergence = 25.153, 32.600, 158.400, 178.800, 107.600, 0.989, 0.954, 0.479, 0.039, 0.946, 0.207, 1.986, 0.910, -1.708, 0.855\n",
      "Epoch 300, Average reward, unmet demand, met demand, scooter num, scooter loc, gini index unmet, gini index met, wANNR, moran, gini, theil, EMD, centroid change, dispersion change, kl divergence = 27.205, 27.800, 163.200, 181.800, 106.000, 0.990, 0.955, 0.482, 0.036, 0.948, 0.215, 1.968, 0.942, -1.699, 0.833\n",
      "Epoch 350, Average reward, unmet demand, met demand, scooter num, scooter loc, gini index unmet, gini index met, wANNR, moran, gini, theil, EMD, centroid change, dispersion change, kl divergence = 26.239, 28.200, 162.800, 186.400, 106.600, 0.989, 0.956, 0.489, 0.038, 0.948, 0.226, 2.006, 0.952, -1.733, 0.804\n",
      "Epoch 400, Average reward, unmet demand, met demand, scooter num, scooter loc, gini index unmet, gini index met, wANNR, moran, gini, theil, EMD, centroid change, dispersion change, kl divergence = 27.398, 27.600, 163.400, 178.600, 104.600, 0.989, 0.954, 0.478, 0.038, 0.948, 0.211, 2.019, 0.954, -1.746, 0.829\n",
      "Epoch 450, Average reward, unmet demand, met demand, scooter num, scooter loc, gini index unmet, gini index met, wANNR, moran, gini, theil, EMD, centroid change, dispersion change, kl divergence = 25.689, 30.000, 161.000, 180.000, 105.200, 0.989, 0.955, 0.480, 0.038, 0.948, 0.218, 2.007, 0.949, -1.726, 0.838\n",
      "Epoch 500, Average reward, unmet demand, met demand, scooter num, scooter loc, gini index unmet, gini index met, wANNR, moran, gini, theil, EMD, centroid change, dispersion change, kl divergence = 25.984, 31.800, 159.200, 175.800, 106.800, 0.988, 0.954, 0.474, 0.038, 0.946, 0.199, 1.971, 0.942, -1.698, 0.879\n"
     ]
    }
   ],
   "source": [
    "## tf.reset_default_graph() only works under tf 1.0\n",
    "equity_penalty = 600.0\n",
    "\n",
    "# Set up the state-value estimator and policy estimator\n",
    "estimator_policy = PolicyEstimator(learning_rate, nS)\n",
    "estimator_value = StateValueEstimator(learning_rate, nS)\n",
    "\n",
    "rider_test_list = np.array(grid_centroid_gdf['rider_test_list'])\n",
    "\n",
    "# Initialize study area\n",
    "study_area = create_study_area(service_areas, max_scooter_per_area, scooter_cost_per_deploy, docked_cost_per_deploy, \\\n",
    "                   nS, no_scooter_penalty, reward_per_rider, equity_penalty, rider_test_list, logistics_car_cost_per_mile)\n",
    "\n",
    "# Add ops to save and restore all the variables\n",
    "\n",
    "print(\"Starting policy gradient...\")\n",
    "\n",
    "# Start training\n",
    "print(\"Training in progress...\")\n",
    "avg_reward_max_12, avg_unmet_demand_max_12, avg_met_demand_max_12, avg_scooter_num_max_12, avg_scooter_loc_max_12, avg_wANNR_max_12, avg_moran_max_12, avg_gini_max_12, avg_theil_max_12, avg_EMD_max_12, avg_centroid_max_12, avg_dispersion_max_12, avg_kl_max_12, scooter_list_max_12 = reinforce(study_area, nS, estimator_policy, estimator_value, n_epochs, n_iters, batch_size, display_step)"
   ]
  },
  {
   "cell_type": "markdown",
   "id": "5308dc9b",
   "metadata": {},
   "source": [
    "## equity_penalty = 700.0"
   ]
  },
  {
   "cell_type": "code",
   "execution_count": 26,
   "id": "e9e2a53d",
   "metadata": {},
   "outputs": [
    {
     "name": "stdout",
     "output_type": "stream",
     "text": [
      "Starting policy gradient...\n",
      "Training in progress...\n",
      "Epoch 50, Average reward, unmet demand, met demand, scooter num, scooter loc, gini index unmet, gini index met, wANNR, moran, gini, theil, EMD, centroid change, dispersion change, kl divergence = 32.418, 32.800, 158.200, 174.600, 105.200, 0.989, 0.954, 0.472, 0.039, 0.947, 0.195, 1.974, 0.974, -1.686, 0.857\n",
      "Epoch 100, Average reward, unmet demand, met demand, scooter num, scooter loc, gini index unmet, gini index met, wANNR, moran, gini, theil, EMD, centroid change, dispersion change, kl divergence = 35.265, 26.400, 164.600, 179.600, 104.000, 0.989, 0.955, 0.479, 0.039, 0.949, 0.223, 2.032, 0.940, -1.756, 0.813\n",
      "Epoch 150, Average reward, unmet demand, met demand, scooter num, scooter loc, gini index unmet, gini index met, wANNR, moran, gini, theil, EMD, centroid change, dispersion change, kl divergence = 34.013, 29.000, 162.000, 178.800, 104.800, 0.989, 0.955, 0.478, 0.040, 0.949, 0.222, 2.037, 0.900, -1.761, 0.852\n",
      "Epoch 200, Average reward, unmet demand, met demand, scooter num, scooter loc, gini index unmet, gini index met, wANNR, moran, gini, theil, EMD, centroid change, dispersion change, kl divergence = 35.594, 25.200, 165.800, 181.600, 103.800, 0.989, 0.955, 0.482, 0.037, 0.950, 0.237, 2.040, 0.911, -1.798, 0.809\n",
      "Epoch 250, Average reward, unmet demand, met demand, scooter num, scooter loc, gini index unmet, gini index met, wANNR, moran, gini, theil, EMD, centroid change, dispersion change, kl divergence = 34.028, 27.400, 163.600, 177.800, 102.200, 0.989, 0.955, 0.476, 0.038, 0.950, 0.215, 2.019, 0.925, -1.736, 0.847\n",
      "Epoch 300, Average reward, unmet demand, met demand, scooter num, scooter loc, gini index unmet, gini index met, wANNR, moran, gini, theil, EMD, centroid change, dispersion change, kl divergence = 35.982, 29.000, 162.000, 181.000, 109.600, 0.989, 0.954, 0.481, 0.039, 0.945, 0.205, 1.985, 0.945, -1.708, 0.868\n",
      "Epoch 350, Average reward, unmet demand, met demand, scooter num, scooter loc, gini index unmet, gini index met, wANNR, moran, gini, theil, EMD, centroid change, dispersion change, kl divergence = 32.518, 30.800, 160.200, 177.000, 103.600, 0.988, 0.954, 0.475, 0.039, 0.949, 0.207, 2.037, 0.970, -1.777, 0.817\n",
      "Epoch 400, Average reward, unmet demand, met demand, scooter num, scooter loc, gini index unmet, gini index met, wANNR, moran, gini, theil, EMD, centroid change, dispersion change, kl divergence = 36.244, 25.200, 165.800, 185.800, 106.800, 0.990, 0.955, 0.487, 0.036, 0.949, 0.239, 1.982, 0.901, -1.704, 0.842\n",
      "Epoch 450, Average reward, unmet demand, met demand, scooter num, scooter loc, gini index unmet, gini index met, wANNR, moran, gini, theil, EMD, centroid change, dispersion change, kl divergence = 34.934, 28.000, 163.000, 184.600, 107.600, 0.989, 0.955, 0.486, 0.037, 0.947, 0.221, 1.963, 0.925, -1.667, 0.818\n",
      "Epoch 500, Average reward, unmet demand, met demand, scooter num, scooter loc, gini index unmet, gini index met, wANNR, moran, gini, theil, EMD, centroid change, dispersion change, kl divergence = 33.409, 31.800, 159.200, 177.600, 107.000, 0.988, 0.954, 0.476, 0.038, 0.946, 0.205, 1.979, 0.950, -1.695, 0.878\n"
     ]
    }
   ],
   "source": [
    "## tf.reset_default_graph() only works under tf 1.0\n",
    "equity_penalty = 700.0\n",
    "\n",
    "# Set up the state-value estimator and policy estimator\n",
    "estimator_policy = PolicyEstimator(learning_rate, nS)\n",
    "estimator_value = StateValueEstimator(learning_rate, nS)\n",
    "\n",
    "rider_test_list = np.array(grid_centroid_gdf['rider_test_list'])\n",
    "\n",
    "# Initialize study area\n",
    "study_area = create_study_area(service_areas, max_scooter_per_area, scooter_cost_per_deploy, docked_cost_per_deploy, \\\n",
    "                   nS, no_scooter_penalty, reward_per_rider, equity_penalty, rider_test_list, logistics_car_cost_per_mile)\n",
    "\n",
    "# Add ops to save and restore all the variables\n",
    "\n",
    "print(\"Starting policy gradient...\")\n",
    "\n",
    "# Start training\n",
    "print(\"Training in progress...\")\n",
    "avg_reward_max_13, avg_unmet_demand_max_13, avg_met_demand_max_13, avg_scooter_num_max_13, avg_scooter_loc_max_13, avg_wANNR_max_13, avg_moran_max_13, avg_gini_max_13, avg_theil_max_13, avg_EMD_max_13, avg_centroid_max_13, avg_dispersion_max_13, avg_kl_max_13, scooter_list_max_13 = reinforce(study_area, nS, estimator_policy, estimator_value, n_epochs, n_iters, batch_size, display_step)"
   ]
  },
  {
   "cell_type": "markdown",
   "id": "3e5e37de",
   "metadata": {},
   "source": [
    "## equity_penalty = 800.0"
   ]
  },
  {
   "cell_type": "code",
   "execution_count": 196,
   "id": "390b6c76",
   "metadata": {},
   "outputs": [
    {
     "name": "stdout",
     "output_type": "stream",
     "text": [
      "Starting policy gradient...\n",
      "Training in progress...\n",
      "Epoch 50, Average reward, unmet demand, met demand, scooter num, scooter loc, gini index unmet, gini index met, wANNR, moran, gini, theil, EMD, centroid change, dispersion change, kl divergence = 25.608, 52.400, 138.600, 167.200, 101.400, 0.980, 0.959, 0.462, 0.038, 0.949, 0.180, 1.971, 0.929, -1.689, 0.828\n",
      "Epoch 100, Average reward, unmet demand, met demand, scooter num, scooter loc, gini index unmet, gini index met, wANNR, moran, gini, theil, EMD, centroid change, dispersion change, kl divergence = 17.480, 71.600, 119.400, 172.200, 112.400, 0.974, 0.963, 0.469, 0.040, 0.941, 0.173, 1.932, 0.993, -1.672, 0.836\n",
      "Epoch 150, Average reward, unmet demand, met demand, scooter num, scooter loc, gini index unmet, gini index met, wANNR, moran, gini, theil, EMD, centroid change, dispersion change, kl divergence = 40.936, 29.000, 162.000, 174.000, 102.000, 0.988, 0.955, 0.471, 0.037, 0.950, 0.217, 2.023, 0.932, -1.742, 0.853\n",
      "Epoch 200, Average reward, unmet demand, met demand, scooter num, scooter loc, gini index unmet, gini index met, wANNR, moran, gini, theil, EMD, centroid change, dispersion change, kl divergence = 43.049, 26.600, 164.400, 187.600, 107.600, 0.990, 0.955, 0.490, 0.039, 0.948, 0.220, 1.989, 0.904, -1.709, 0.817\n",
      "Epoch 250, Average reward, unmet demand, met demand, scooter num, scooter loc, gini index unmet, gini index met, wANNR, moran, gini, theil, EMD, centroid change, dispersion change, kl divergence = 43.007, 28.400, 162.600, 185.600, 109.000, 0.988, 0.954, 0.487, 0.041, 0.946, 0.217, 2.010, 0.923, -1.743, 0.832\n",
      "Epoch 300, Average reward, unmet demand, met demand, scooter num, scooter loc, gini index unmet, gini index met, wANNR, moran, gini, theil, EMD, centroid change, dispersion change, kl divergence = 39.635, 34.600, 156.400, 176.400, 107.400, 0.987, 0.955, 0.475, 0.035, 0.947, 0.221, 1.949, 0.930, -1.669, 0.827\n",
      "Epoch 350, Average reward, unmet demand, met demand, scooter num, scooter loc, gini index unmet, gini index met, wANNR, moran, gini, theil, EMD, centroid change, dispersion change, kl divergence = 44.917, 25.400, 165.600, 182.600, 107.600, 0.990, 0.955, 0.484, 0.039, 0.947, 0.216, 2.008, 0.934, -1.734, 0.837\n",
      "Epoch 400, Average reward, unmet demand, met demand, scooter num, scooter loc, gini index unmet, gini index met, wANNR, moran, gini, theil, EMD, centroid change, dispersion change, kl divergence = 39.537, 31.800, 159.200, 175.200, 103.400, 0.988, 0.955, 0.473, 0.038, 0.949, 0.209, 2.011, 0.927, -1.738, 0.833\n",
      "Epoch 450, Average reward, unmet demand, met demand, scooter num, scooter loc, gini index unmet, gini index met, wANNR, moran, gini, theil, EMD, centroid change, dispersion change, kl divergence = 40.254, 30.000, 161.000, 178.400, 103.600, 0.988, 0.955, 0.477, 0.038, 0.949, 0.222, 2.028, 0.911, -1.749, 0.875\n",
      "Epoch 500, Average reward, unmet demand, met demand, scooter num, scooter loc, gini index unmet, gini index met, wANNR, moran, gini, theil, EMD, centroid change, dispersion change, kl divergence = 41.687, 26.600, 164.400, 177.400, 101.600, 0.988, 0.955, 0.476, 0.037, 0.951, 0.226, 2.052, 0.947, -1.791, 0.820\n"
     ]
    }
   ],
   "source": [
    "## tf.reset_default_graph() only works under tf 1.0\n",
    "equity_penalty = 800.0\n",
    "\n",
    "# Set up the state-value estimator and policy estimator\n",
    "estimator_policy = PolicyEstimator(learning_rate, nS)\n",
    "estimator_value = StateValueEstimator(learning_rate, nS)\n",
    "\n",
    "rider_test_list = np.array(grid_centroid_gdf['rider_test_list'])\n",
    "\n",
    "# Initialize study area\n",
    "study_area = create_study_area(service_areas, max_scooter_per_area, scooter_cost_per_deploy, docked_cost_per_deploy, \\\n",
    "                   nS, no_scooter_penalty, reward_per_rider, equity_penalty, rider_test_list, logistics_car_cost_per_mile)\n",
    "\n",
    "# Add ops to save and restore all the variables\n",
    "\n",
    "print(\"Starting policy gradient...\")\n",
    "\n",
    "# Start training\n",
    "print(\"Training in progress...\")\n",
    "avg_reward_max_14, avg_unmet_demand_max_14, avg_met_demand_max_14, avg_scooter_num_max_14, avg_scooter_loc_max_14, avg_wANNR_max_14, avg_moran_max_14, avg_gini_max_14, avg_theil_max_14, avg_EMD_max_14, avg_centroid_max_14, avg_dispersion_max_14, avg_kl_max_14, scooter_list_max_14 = reinforce(study_area, nS, estimator_policy, estimator_value, n_epochs, n_iters, batch_size, display_step)"
   ]
  },
  {
   "cell_type": "markdown",
   "id": "cd8319b4",
   "metadata": {},
   "source": [
    "## equity_penalty = 900.0"
   ]
  },
  {
   "cell_type": "code",
   "execution_count": 198,
   "id": "b34bc39e",
   "metadata": {},
   "outputs": [
    {
     "name": "stdout",
     "output_type": "stream",
     "text": [
      "Starting policy gradient...\n",
      "Training in progress...\n",
      "Epoch 50, Average reward, unmet demand, met demand, scooter num, scooter loc, gini index unmet, gini index met, wANNR, moran, gini, theil, EMD, centroid change, dispersion change, kl divergence = 44.914, 35.600, 155.400, 173.600, 103.800, 0.987, 0.955, 0.471, 0.036, 0.949, 0.226, 2.003, 0.928, -1.728, 0.825\n",
      "Epoch 100, Average reward, unmet demand, met demand, scooter num, scooter loc, gini index unmet, gini index met, wANNR, moran, gini, theil, EMD, centroid change, dispersion change, kl divergence = 49.138, 30.200, 160.800, 182.800, 107.400, 0.990, 0.954, 0.484, 0.041, 0.947, 0.205, 1.993, 0.912, -1.730, 0.832\n",
      "Epoch 150, Average reward, unmet demand, met demand, scooter num, scooter loc, gini index unmet, gini index met, wANNR, moran, gini, theil, EMD, centroid change, dispersion change, kl divergence = 36.279, 50.200, 140.800, 172.200, 105.800, 0.980, 0.959, 0.470, 0.042, 0.947, 0.208, 2.012, 0.915, -1.732, 0.802\n",
      "Epoch 200, Average reward, unmet demand, met demand, scooter num, scooter loc, gini index unmet, gini index met, wANNR, moran, gini, theil, EMD, centroid change, dispersion change, kl divergence = 53.861, 24.200, 166.800, 187.200, 109.600, 0.990, 0.956, 0.491, 0.038, 0.947, 0.233, 2.003, 0.918, -1.718, 0.834\n",
      "Epoch 250, Average reward, unmet demand, met demand, scooter num, scooter loc, gini index unmet, gini index met, wANNR, moran, gini, theil, EMD, centroid change, dispersion change, kl divergence = 50.153, 28.000, 163.000, 182.200, 106.400, 0.990, 0.954, 0.483, 0.039, 0.948, 0.216, 2.000, 0.926, -1.715, 0.839\n",
      "Epoch 300, Average reward, unmet demand, met demand, scooter num, scooter loc, gini index unmet, gini index met, wANNR, moran, gini, theil, EMD, centroid change, dispersion change, kl divergence = 51.066, 25.200, 165.800, 185.400, 105.800, 0.989, 0.955, 0.487, 0.037, 0.949, 0.234, 2.012, 0.911, -1.739, 0.817\n",
      "Epoch 350, Average reward, unmet demand, met demand, scooter num, scooter loc, gini index unmet, gini index met, wANNR, moran, gini, theil, EMD, centroid change, dispersion change, kl divergence = 46.284, 31.800, 159.200, 174.200, 102.000, 0.988, 0.955, 0.471, 0.036, 0.950, 0.214, 1.973, 0.972, -1.687, 0.857\n",
      "Epoch 400, Average reward, unmet demand, met demand, scooter num, scooter loc, gini index unmet, gini index met, wANNR, moran, gini, theil, EMD, centroid change, dispersion change, kl divergence = 32.649, 54.400, 136.600, 172.400, 104.800, 0.981, 0.960, 0.472, 0.037, 0.947, 0.202, 1.987, 0.972, -1.742, 0.833\n",
      "Epoch 450, Average reward, unmet demand, met demand, scooter num, scooter loc, gini index unmet, gini index met, wANNR, moran, gini, theil, EMD, centroid change, dispersion change, kl divergence = 48.865, 28.000, 163.000, 179.000, 103.400, 0.989, 0.955, 0.478, 0.038, 0.949, 0.217, 2.032, 0.918, -1.756, 0.829\n",
      "Epoch 500, Average reward, unmet demand, met demand, scooter num, scooter loc, gini index unmet, gini index met, wANNR, moran, gini, theil, EMD, centroid change, dispersion change, kl divergence = 47.605, 30.600, 160.400, 178.800, 104.200, 0.989, 0.955, 0.478, 0.040, 0.948, 0.202, 2.029, 0.932, -1.767, 0.828\n"
     ]
    }
   ],
   "source": [
    "## tf.reset_default_graph() only works under tf 1.0\n",
    "equity_penalty = 900.0\n",
    "\n",
    "# Set up the state-value estimator and policy estimator\n",
    "estimator_policy = PolicyEstimator(learning_rate, nS)\n",
    "estimator_value = StateValueEstimator(learning_rate, nS)\n",
    "\n",
    "rider_test_list = np.array(grid_centroid_gdf['rider_test_list'])\n",
    "\n",
    "# Initialize study area\n",
    "study_area = create_study_area(service_areas, max_scooter_per_area, scooter_cost_per_deploy, docked_cost_per_deploy, \\\n",
    "                   nS, no_scooter_penalty, reward_per_rider, equity_penalty, rider_test_list, logistics_car_cost_per_mile)\n",
    "\n",
    "# Add ops to save and restore all the variables\n",
    "\n",
    "print(\"Starting policy gradient...\")\n",
    "\n",
    "# Start training\n",
    "print(\"Training in progress...\")\n",
    "avg_reward_max_15, avg_unmet_demand_max_15, avg_met_demand_max_15, avg_scooter_num_max_15, avg_scooter_loc_max_15, avg_wANNR_max_15, avg_moran_max_15, avg_gini_max_15, avg_theil_max_15, avg_EMD_max_15, avg_centroid_max_15, avg_dispersion_max_15, avg_kl_max_15, scooter_list_max_15 = reinforce(study_area, nS, estimator_policy, estimator_value, n_epochs, n_iters, batch_size, display_step)"
   ]
  },
  {
   "cell_type": "markdown",
   "id": "462300ea",
   "metadata": {},
   "source": [
    "## equity_penalty = 1000.0"
   ]
  },
  {
   "cell_type": "code",
   "execution_count": 205,
   "id": "c4b00b1e",
   "metadata": {
    "scrolled": false
   },
   "outputs": [
    {
     "name": "stdout",
     "output_type": "stream",
     "text": [
      "Starting policy gradient...\n",
      "Training in progress...\n",
      "Epoch 50, Average reward, unmet demand, met demand, scooter num, scooter loc, gini index unmet, gini index met, wANNR, moran, gini, theil, EMD, centroid change, dispersion change, kl divergence = 58.094, 27.400, 163.600, 179.400, 105.400, 0.989, 0.954, 0.479, 0.038, 0.948, 0.212, 1.989, 0.909, -1.704, 0.852\n",
      "Epoch 100, Average reward, unmet demand, met demand, scooter num, scooter loc, gini index unmet, gini index met, wANNR, moran, gini, theil, EMD, centroid change, dispersion change, kl divergence = 57.885, 27.200, 163.800, 181.800, 105.600, 0.990, 0.955, 0.482, 0.041, 0.948, 0.216, 2.033, 0.950, -1.766, 0.822\n",
      "Epoch 150, Average reward, unmet demand, met demand, scooter num, scooter loc, gini index unmet, gini index met, wANNR, moran, gini, theil, EMD, centroid change, dispersion change, kl divergence = 45.483, 45.000, 146.000, 173.800, 103.400, 0.981, 0.960, 0.471, 0.039, 0.949, 0.220, 2.032, 0.908, -1.761, 0.818\n",
      "Epoch 200, Average reward, unmet demand, met demand, scooter num, scooter loc, gini index unmet, gini index met, wANNR, moran, gini, theil, EMD, centroid change, dispersion change, kl divergence = 56.681, 29.800, 161.200, 178.800, 105.600, 0.988, 0.955, 0.478, 0.038, 0.948, 0.210, 2.000, 0.926, -1.738, 0.824\n",
      "Epoch 250, Average reward, unmet demand, met demand, scooter num, scooter loc, gini index unmet, gini index met, wANNR, moran, gini, theil, EMD, centroid change, dispersion change, kl divergence = 54.663, 29.800, 161.200, 176.000, 102.000, 0.988, 0.955, 0.474, 0.037, 0.950, 0.222, 2.012, 0.921, -1.728, 0.835\n",
      "Epoch 300, Average reward, unmet demand, met demand, scooter num, scooter loc, gini index unmet, gini index met, wANNR, moran, gini, theil, EMD, centroid change, dispersion change, kl divergence = 58.413, 26.800, 164.200, 184.800, 106.800, 0.989, 0.955, 0.486, 0.038, 0.948, 0.230, 2.021, 0.940, -1.753, 0.823\n",
      "Epoch 350, Average reward, unmet demand, met demand, scooter num, scooter loc, gini index unmet, gini index met, wANNR, moran, gini, theil, EMD, centroid change, dispersion change, kl divergence = 55.648, 28.600, 162.400, 178.800, 103.000, 0.989, 0.955, 0.478, 0.038, 0.950, 0.224, 2.040, 0.946, -1.782, 0.813\n",
      "Epoch 400, Average reward, unmet demand, met demand, scooter num, scooter loc, gini index unmet, gini index met, wANNR, moran, gini, theil, EMD, centroid change, dispersion change, kl divergence = 57.369, 27.200, 163.800, 179.400, 104.200, 0.989, 0.955, 0.479, 0.038, 0.949, 0.219, 2.030, 0.924, -1.762, 0.816\n",
      "Epoch 450, Average reward, unmet demand, met demand, scooter num, scooter loc, gini index unmet, gini index met, wANNR, moran, gini, theil, EMD, centroid change, dispersion change, kl divergence = 44.155, 49.600, 141.400, 168.800, 104.600, 0.982, 0.958, 0.467, 0.037, 0.947, 0.188, 1.926, 0.881, -1.634, 0.881\n",
      "Epoch 500, Average reward, unmet demand, met demand, scooter num, scooter loc, gini index unmet, gini index met, wANNR, moran, gini, theil, EMD, centroid change, dispersion change, kl divergence = 56.017, 33.600, 157.400, 178.200, 108.200, 0.988, 0.954, 0.477, 0.038, 0.946, 0.209, 1.977, 0.938, -1.694, 0.811\n"
     ]
    }
   ],
   "source": [
    "## tf.reset_default_graph() only works under tf 1.0\n",
    "equity_penalty = 1000.0\n",
    "\n",
    "# Set up the state-value estimator and policy estimator\n",
    "estimator_policy = PolicyEstimator(learning_rate, nS)\n",
    "estimator_value = StateValueEstimator(learning_rate, nS)\n",
    "\n",
    "rider_test_list = np.array(grid_centroid_gdf['rider_test_list'])\n",
    "\n",
    "# Initialize study area\n",
    "study_area = create_study_area(service_areas, max_scooter_per_area, scooter_cost_per_deploy, docked_cost_per_deploy, \\\n",
    "                   nS, no_scooter_penalty, reward_per_rider, equity_penalty, rider_test_list, logistics_car_cost_per_mile)\n",
    "\n",
    "# Add ops to save and restore all the variables\n",
    "\n",
    "print(\"Starting policy gradient...\")\n",
    "\n",
    "# Start training\n",
    "print(\"Training in progress...\")\n",
    "avg_reward_max_16, avg_unmet_demand_max_16, avg_met_demand_max_16, avg_scooter_num_max_16, avg_scooter_loc_max_16, avg_wANNR_max_16, avg_moran_max_16, avg_gini_max_16, avg_theil_max_16, avg_EMD_max_16, avg_centroid_max_16, avg_dispersion_max_16, avg_kl_max_16, scooter_list_max_16 = reinforce(study_area, nS, estimator_policy, estimator_value, n_epochs, n_iters, batch_size, display_step)"
   ]
  },
  {
   "cell_type": "markdown",
   "id": "cf6babdd",
   "metadata": {},
   "source": [
    "# Illustration"
   ]
  },
  {
   "cell_type": "code",
   "execution_count": 339,
   "id": "218b3462",
   "metadata": {},
   "outputs": [
    {
     "name": "stdout",
     "output_type": "stream",
     "text": [
      "[array([ True,  True,  True,  True,  True,  True,  True,  True, False,\n",
      "        True]), array([ True,  True,  True,  True,  True,  True, False,  True, False,\n",
      "        True]), array([ True,  True,  True,  True,  True,  True,  True,  True, False,\n",
      "        True]), array([ True,  True,  True,  True,  True,  True,  True,  True,  True,\n",
      "        True]), array([ True, False,  True,  True,  True,  True,  True, False,  True,\n",
      "        True]), array([ True,  True, False,  True, False,  True,  True,  True, False,\n",
      "        True]), array([False,  True,  True,  True,  True,  True,  True,  True,  True,\n",
      "        True]), array([ True,  True,  True,  True,  True,  True,  True,  True,  True,\n",
      "        True]), array([False, False,  True,  True,  True,  True,  True,  True,  True,\n",
      "        True]), array([ True,  True, False,  True,  True,  True,  True, False,  True,\n",
      "        True]), array([ True,  True, False,  True,  True,  True,  True,  True, False,\n",
      "        True])]\n"
     ]
    }
   ],
   "source": [
    "def modified_z_score(arr):\n",
    "\n",
    "    median = np.median(arr)\n",
    "    mad = np.median(np.abs(arr - median))  # Median Absolute Deviation\n",
    "\n",
    "    # Modified Z-score\n",
    "    modified_z_scores = 0.6745 * (arr - median) / mad\n",
    "    threshold = 3\n",
    "    # filtered_arr = arr[np.abs(modified_z_scores) < threshold]\n",
    "    sel_index = np.abs(modified_z_scores) < threshold\n",
    "    \n",
    "    return sel_index # filtered_arr\n",
    "\n",
    "sel_index_2 = modified_z_score(avg_reward_max_2)\n",
    "sel_index_7 = modified_z_score(avg_reward_max_7)\n",
    "sel_index_8 = modified_z_score(avg_reward_max_8)\n",
    "sel_index_9 = modified_z_score(avg_reward_max_9)\n",
    "sel_index_10 = modified_z_score(avg_reward_max_10)\n",
    "sel_index_11 = modified_z_score(avg_reward_max_11)\n",
    "sel_index_12 = modified_z_score(avg_reward_max_12)\n",
    "sel_index_13 = modified_z_score(avg_reward_max_13)\n",
    "sel_index_14 = modified_z_score(avg_reward_max_14)\n",
    "sel_index_15 = modified_z_score(avg_reward_max_15)\n",
    "sel_index_16 = modified_z_score(avg_reward_max_16)\n",
    "print([sel_index_2, sel_index_7, sel_index_8, sel_index_9, \n",
    "      sel_index_10, sel_index_11, sel_index_12, sel_index_13, sel_index_14, sel_index_15, sel_index_16])"
   ]
  },
  {
   "cell_type": "code",
   "execution_count": 340,
   "id": "91bd3d33",
   "metadata": {},
   "outputs": [
    {
     "name": "stdout",
     "output_type": "stream",
     "text": [
      "End: 2025-07-14 18:13:16\n",
      "Plotting resulting graph...\n",
      "Plotting baseline 1...\n",
      "End: 2025-07-14 18:13:16\n"
     ]
    },
    {
     "data": {
      "image/png": "[encoded data removed]",
      "text/plain": [
       "<Figure size 432x288 with 1 Axes>"
      ]
     },
     "metadata": {
      "needs_background": "light"
     },
     "output_type": "display_data"
    }
   ],
   "source": [
    "# Plot the graphs of average rewards during testing phases of the policy\n",
    "# gradient method and the hand-crafted policies\n",
    "\n",
    "print(\"End: \" + datetime.now().strftime('%Y-%m-%d %H:%M:%S'))\n",
    "\n",
    "location_reward_unit_list = np.array([0.0,100.0,200.0,300.0,400.0,500.0,600.0,700.0,800.0,900.0,1000.0])\n",
    "max_reward_list_grid = np.array([avg_reward_max_2,\n",
    "                                avg_reward_max_7,\n",
    "                                avg_reward_max_8,\n",
    "                                avg_reward_max_9,\n",
    "                                avg_reward_max_10,\n",
    "                                avg_reward_max_11,\n",
    "                                avg_reward_max_12,\n",
    "                                avg_reward_max_13,\n",
    "                                avg_reward_max_14,\n",
    "                                avg_reward_max_15,\n",
    "                                avg_reward_max_16])\n",
    "max_reward_mean_grid = np.mean(max_reward_list_grid, axis=1)\n",
    "max_reward_std_grid = np.std(max_reward_list_grid, axis=1)\n",
    "\n",
    "print(\"Plotting resulting graph...\")\n",
    "# plt.figure(figsize = (12, 9))\n",
    "l1 = plt.errorbar(location_reward_unit_list, max_reward_mean_grid, yerr=max_reward_std_grid, fmt='o-', capsize=5) # ecolor='gray', \n",
    "\n",
    "print(\"Plotting baseline 1...\")\n",
    "# plt.legend(loc='best',prop={'size': 10})\n",
    "plt.ylabel(\"Reward function value\")\n",
    "plt.xlabel(\"location_reward_unit\")\n",
    "\n",
    "print(\"End: \" + datetime.now().strftime('%Y-%m-%d %H:%M:%S'))"
   ]
  },
  {
   "cell_type": "code",
   "execution_count": 341,
   "id": "88cb6330",
   "metadata": {},
   "outputs": [
    {
     "data": {
      "text/plain": [
       "array([[-29.89068493, -38.3309589 , -20.62      , -22.94356164,\n",
       "        -19.27643836, -28.80684932, -16.28493151, -20.29753425,\n",
       "        -53.06712329, -32.69479452],\n",
       "       [-14.90414828, -11.29142553, -10.56268446, -10.56346295,\n",
       "        -10.29547511, -12.02374561, -50.09078441, -14.5318882 ,\n",
       "        -35.42437961, -13.57217954],\n",
       "       [ -4.25879278,  -1.54165331,  -4.0681418 ,  -6.60247444,\n",
       "         -6.73139552,  -4.11845012,  -1.03178951,  -2.5808306 ,\n",
       "        -18.09732028,  -3.91432395],\n",
       "       [  2.99340255,   4.63485847,   0.61186057,   2.42171568,\n",
       "          3.34228968,   4.02089377,   4.85398445,   0.25878805,\n",
       "          4.28597134,   3.61197268],\n",
       "       [ 14.79669496, -11.07892306,   8.72758438,  12.13515455,\n",
       "         10.10354427,  13.31484505,  12.11162607,  -4.56851052,\n",
       "         10.06073507,  11.85772216],\n",
       "       [ 18.7338139 ,  18.45739292,  -4.02198492,  17.21273538,\n",
       "          6.79936284,  18.51784533,  18.73023489,  18.64573842,\n",
       "         12.88619478,  18.43445738],\n",
       "       [ 15.44089298,  27.43605227,  25.18529944,  26.36516126,\n",
       "         25.15324227,  27.20516126,  26.23932178,  27.39750819,\n",
       "         25.68920295,  25.9838593 ],\n",
       "       [ 32.41804271,  35.26545813,  34.01329991,  35.59363468,\n",
       "         34.02754017,  35.98199439,  32.5179756 ,  36.24358928,\n",
       "         34.93362283,  33.40938534],\n",
       "       [ 25.60763965,  17.48030003,  40.9362007 ,  43.04934586,\n",
       "         43.00722119,  39.63544195,  44.91674312,  39.53654179,\n",
       "         40.25428132,  41.68702302],\n",
       "       [ 44.91424263,  49.13812562,  36.27874383,  53.860529  ,\n",
       "         50.1529983 ,  51.06641506,  46.28380798,  32.64923296,\n",
       "         48.86528759,  47.60511547],\n",
       "       [ 58.09358573,  57.88452726,  45.48334847,  56.68096562,\n",
       "         54.66264814,  58.41264222,  55.64776677,  57.36903241,\n",
       "         44.15529904,  56.01745213]])"
      ]
     },
     "execution_count": 341,
     "metadata": {},
     "output_type": "execute_result"
    }
   ],
   "source": [
    "max_reward_list_grid"
   ]
  },
  {
   "cell_type": "code",
   "execution_count": 342,
   "id": "5be10874",
   "metadata": {},
   "outputs": [
    {
     "name": "stdout",
     "output_type": "stream",
     "text": [
      "End: 2025-07-14 18:13:18\n",
      "Plotting resulting graph...\n",
      "Plotting baseline 1...\n",
      "End: 2025-07-14 18:13:18\n"
     ]
    },
    {
     "data": {
      "image/png": "[encoded data removed]",
      "text/plain": [
       "<Figure size 432x288 with 1 Axes>"
      ]
     },
     "metadata": {
      "needs_background": "light"
     },
     "output_type": "display_data"
    }
   ],
   "source": [
    "# Plot the graphs of average rewards during testing phases of the policy\n",
    "# gradient method and the hand-crafted policies\n",
    "\n",
    "print(\"End: \" + datetime.now().strftime('%Y-%m-%d %H:%M:%S'))\n",
    "\n",
    "max_reward_list_grid = [np.array(avg_reward_max_2)[sel_index_2],\n",
    "                        np.array(avg_reward_max_7)[sel_index_7],\n",
    "                        np.array(avg_reward_max_8)[sel_index_8],\n",
    "                        np.array(avg_reward_max_9)[sel_index_9],\n",
    "                        np.array(avg_reward_max_10)[sel_index_10],\n",
    "                        np.array(avg_reward_max_11)[sel_index_11],\n",
    "                        np.array(avg_reward_max_12)[sel_index_12],\n",
    "                        np.array(avg_reward_max_13)[sel_index_13],\n",
    "                        np.array(avg_reward_max_14)[sel_index_14],\n",
    "                        np.array(avg_reward_max_15)[sel_index_15],\n",
    "                        np.array(avg_reward_max_16)[sel_index_16]]\n",
    "max_reward_mean_grid = []\n",
    "max_reward_std_grid = []\n",
    "for ii in range(len(location_reward_unit_list)):\n",
    "    max_reward_mean_grid.append(np.mean(max_reward_list_grid[ii]))\n",
    "    max_reward_std_grid.append(np.std(max_reward_list_grid[ii]))\n",
    "\n",
    "print(\"Plotting resulting graph...\")\n",
    "# plt.figure(figsize = (12, 9))\n",
    "l1 = plt.errorbar(location_reward_unit_list, max_reward_mean_grid, yerr=max_reward_std_grid, fmt='o-', capsize=5) # ecolor='gray', \n",
    "\n",
    "print(\"Plotting baseline 1...\")\n",
    "# plt.legend(loc='best',prop={'size': 10})\n",
    "plt.ylabel(\"Reward function value\")\n",
    "plt.xlabel(\"location_reward_unit\")\n",
    "\n",
    "print(\"End: \" + datetime.now().strftime('%Y-%m-%d %H:%M:%S'))"
   ]
  },
  {
   "cell_type": "code",
   "execution_count": 343,
   "id": "29eceb93",
   "metadata": {},
   "outputs": [
    {
     "name": "stdout",
     "output_type": "stream",
     "text": [
      "End: 2025-07-14 18:13:19\n",
      "Plotting resulting graph...\n",
      "Plotting baseline 1...\n",
      "End: 2025-07-14 18:13:19\n"
     ]
    },
    {
     "data": {
      "image/png": "[encoded data removed]",
      "text/plain": [
       "<Figure size 432x288 with 1 Axes>"
      ]
     },
     "metadata": {
      "needs_background": "light"
     },
     "output_type": "display_data"
    }
   ],
   "source": [
    "# Plot the graphs of average rewards during testing phases of the policy\n",
    "# gradient method and the hand-crafted policies\n",
    "\n",
    "print(\"End: \" + datetime.now().strftime('%Y-%m-%d %H:%M:%S'))\n",
    "\n",
    "max_unmet_demand_list_grid = np.array([avg_unmet_demand_max_2,\n",
    "                                avg_unmet_demand_max_7,\n",
    "                                avg_unmet_demand_max_8,\n",
    "                                avg_unmet_demand_max_9,\n",
    "                                avg_unmet_demand_max_10,\n",
    "                                avg_unmet_demand_max_11,\n",
    "                                avg_unmet_demand_max_12,\n",
    "                                avg_unmet_demand_max_13,\n",
    "                                avg_unmet_demand_max_14,\n",
    "                                avg_unmet_demand_max_15,\n",
    "                                avg_unmet_demand_max_16])\n",
    "max_unmet_demand_mean_grid = np.mean(max_unmet_demand_list_grid, axis=1)\n",
    "max_unmet_demand_std_grid = np.std(max_unmet_demand_list_grid, axis=1)\n",
    "\n",
    "print(\"Plotting resulting graph...\")\n",
    "# plt.figure(figsize = (12, 9))\n",
    "l1 = plt.errorbar(location_reward_unit_list, max_unmet_demand_mean_grid, yerr=max_unmet_demand_std_grid, fmt='o-', capsize=5) # ecolor='gray', \n",
    "\n",
    "print(\"Plotting baseline 1...\")\n",
    "# plt.legend(loc='best',prop={'size': 10})\n",
    "plt.ylabel(\"Count of unmet demands\")\n",
    "plt.xlabel(\"location_reward_unit\")\n",
    "\n",
    "print(\"End: \" + datetime.now().strftime('%Y-%m-%d %H:%M:%S'))"
   ]
  },
  {
   "cell_type": "code",
   "execution_count": 344,
   "id": "3efe0717",
   "metadata": {},
   "outputs": [
    {
     "data": {
      "text/plain": [
       "array([[44.2, 61.6, 32.6, 36.8, 29.8, 45. , 24. , 31.2, 85. , 51.2],\n",
       "       [35.4, 29. , 26.8, 28.4, 26.4, 31. , 85.8, 33.8, 64.8, 32.4],\n",
       "       [30.4, 24.6, 29. , 34.4, 35.4, 29.8, 23.8, 26.6, 52.6, 28.2],\n",
       "       [29.6, 28. , 34.8, 31.6, 29.8, 28.2, 27.6, 35.2, 27.8, 29.6],\n",
       "       [23.6, 62. , 32.8, 28. , 29.6, 25.8, 28. , 54.2, 31.6, 27.2],\n",
       "       [28.8, 29.4, 63. , 32. , 46.2, 29.8, 28.6, 30. , 40. , 28.8],\n",
       "       [48.2, 26.8, 31.4, 29. , 32.6, 27.8, 28.2, 27.6, 30. , 31.8],\n",
       "       [32.8, 26.4, 29. , 25.2, 27.4, 29. , 30.8, 25.2, 28. , 31.8],\n",
       "       [52.4, 71.6, 29. , 26.6, 28.4, 34.6, 25.4, 31.8, 30. , 26.6],\n",
       "       [35.6, 30.2, 50.2, 24.2, 28. , 25.2, 31.8, 54.4, 28. , 30.6],\n",
       "       [27.4, 27.2, 45. , 29.8, 29.8, 26.8, 28.6, 27.2, 49.6, 33.6]])"
      ]
     },
     "execution_count": 344,
     "metadata": {},
     "output_type": "execute_result"
    }
   ],
   "source": [
    "max_unmet_demand_list_grid"
   ]
  },
  {
   "cell_type": "code",
   "execution_count": 345,
   "id": "4da57be1",
   "metadata": {},
   "outputs": [
    {
     "name": "stdout",
     "output_type": "stream",
     "text": [
      "End: 2025-07-14 18:13:33\n",
      "Plotting resulting graph...\n",
      "Plotting baseline 1...\n",
      "End: 2025-07-14 18:13:33\n"
     ]
    },
    {
     "data": {
      "image/png": "[encoded data removed]",
      "text/plain": [
       "<Figure size 432x288 with 1 Axes>"
      ]
     },
     "metadata": {
      "needs_background": "light"
     },
     "output_type": "display_data"
    }
   ],
   "source": [
    "# Plot the graphs of average rewards during testing phases of the policy\n",
    "# gradient method and the hand-crafted policies\n",
    "\n",
    "print(\"End: \" + datetime.now().strftime('%Y-%m-%d %H:%M:%S'))\n",
    "\n",
    "max_unmet_demand_list_grid = [np.array(avg_unmet_demand_max_2)[sel_index_2],\n",
    "                        np.array(avg_unmet_demand_max_7)[sel_index_7],\n",
    "                        np.array(avg_unmet_demand_max_8)[sel_index_8],\n",
    "                        np.array(avg_unmet_demand_max_9)[sel_index_9],\n",
    "                        np.array(avg_unmet_demand_max_10)[sel_index_10],\n",
    "                        np.array(avg_unmet_demand_max_11)[sel_index_11],\n",
    "                        np.array(avg_unmet_demand_max_12)[sel_index_12],\n",
    "                        np.array(avg_unmet_demand_max_13)[sel_index_13],\n",
    "                        np.array(avg_unmet_demand_max_14)[sel_index_14],\n",
    "                        np.array(avg_unmet_demand_max_15)[sel_index_15],\n",
    "                        np.array(avg_unmet_demand_max_16)[sel_index_16]]\n",
    "max_unmet_demand_mean_grid = []\n",
    "max_unmet_demand_std_grid = []\n",
    "for ii in range(len(location_reward_unit_list)):\n",
    "    max_unmet_demand_mean_grid.append(np.mean(max_unmet_demand_list_grid[ii]))\n",
    "    max_unmet_demand_std_grid.append(np.std(max_unmet_demand_list_grid[ii]))\n",
    "\n",
    "print(\"Plotting resulting graph...\")\n",
    "# plt.figure(figsize = (12, 9))\n",
    "l1 = plt.errorbar(location_reward_unit_list, max_unmet_demand_mean_grid, yerr=max_unmet_demand_std_grid, fmt='o-', capsize=5) # ecolor='gray', \n",
    "\n",
    "print(\"Plotting baseline 1...\")\n",
    "# plt.legend(loc='best',prop={'size': 10})\n",
    "plt.ylabel(\"Count of unmet demands\")\n",
    "plt.xlabel(\"location_reward_unit\")\n",
    "\n",
    "print(\"End: \" + datetime.now().strftime('%Y-%m-%d %H:%M:%S'))"
   ]
  },
  {
   "cell_type": "code",
   "execution_count": 346,
   "id": "41ea18e5",
   "metadata": {},
   "outputs": [
    {
     "name": "stdout",
     "output_type": "stream",
     "text": [
      "End: 2025-07-14 18:13:40\n",
      "Plotting resulting graph...\n",
      "Plotting baseline 1...\n",
      "End: 2025-07-14 18:13:40\n"
     ]
    },
    {
     "data": {
      "image/png": "[encoded data removed]",
      "text/plain": [
       "<Figure size 432x288 with 1 Axes>"
      ]
     },
     "metadata": {
      "needs_background": "light"
     },
     "output_type": "display_data"
    }
   ],
   "source": [
    "# Plot the graphs of average rewards during testing phases of the policy\n",
    "# gradient method and the hand-crafted policies\n",
    "\n",
    "print(\"End: \" + datetime.now().strftime('%Y-%m-%d %H:%M:%S'))\n",
    "\n",
    "max_met_demand_list_grid = np.array([avg_met_demand_max_2,\n",
    "                                avg_met_demand_max_7,\n",
    "                                avg_met_demand_max_8,\n",
    "                                avg_met_demand_max_9,\n",
    "                                avg_met_demand_max_10,\n",
    "                                avg_met_demand_max_11,\n",
    "                                avg_met_demand_max_12,\n",
    "                                avg_met_demand_max_13,\n",
    "                                avg_met_demand_max_14,\n",
    "                                avg_met_demand_max_15,\n",
    "                                avg_met_demand_max_16])\n",
    "max_met_demand_mean_grid = np.mean(max_met_demand_list_grid, axis=1)\n",
    "max_met_demand_std_grid = np.std(max_met_demand_list_grid, axis=1)\n",
    "\n",
    "print(\"Plotting resulting graph...\")\n",
    "# plt.figure(figsize = (12, 9))\n",
    "l1 = plt.errorbar(location_reward_unit_list, max_met_demand_mean_grid, yerr=max_met_demand_std_grid, fmt='o-', capsize=5) # ecolor='gray', \n",
    "\n",
    "print(\"Plotting baseline 1...\")\n",
    "# plt.legend(loc='best',prop={'size': 10})\n",
    "plt.ylabel(\"Count of met demands\")\n",
    "plt.xlabel(\"location_reward_unit\")\n",
    "\n",
    "print(\"End: \" + datetime.now().strftime('%Y-%m-%d %H:%M:%S'))"
   ]
  },
  {
   "cell_type": "code",
   "execution_count": 347,
   "id": "4e8f1897",
   "metadata": {
    "scrolled": true
   },
   "outputs": [
    {
     "data": {
      "text/plain": [
       "array([[146.8, 129.4, 158.4, 154.2, 161.2, 146. , 167. , 159.8, 106. ,\n",
       "        139.8],\n",
       "       [155.6, 162. , 164.2, 162.6, 164.6, 160. , 105.2, 157.2, 126.2,\n",
       "        158.6],\n",
       "       [160.6, 166.4, 162. , 156.6, 155.6, 161.2, 167.2, 164.4, 138.4,\n",
       "        162.8],\n",
       "       [161.4, 163. , 156.2, 159.4, 161.2, 162.8, 163.4, 155.8, 163.2,\n",
       "        161.4],\n",
       "       [167.4, 129. , 158.2, 163. , 161.4, 165.2, 163. , 136.8, 159.4,\n",
       "        163.8],\n",
       "       [162.2, 161.6, 128. , 159. , 144.8, 161.2, 162.4, 161. , 151. ,\n",
       "        162.2],\n",
       "       [142.8, 164.2, 159.6, 162. , 158.4, 163.2, 162.8, 163.4, 161. ,\n",
       "        159.2],\n",
       "       [158.2, 164.6, 162. , 165.8, 163.6, 162. , 160.2, 165.8, 163. ,\n",
       "        159.2],\n",
       "       [138.6, 119.4, 162. , 164.4, 162.6, 156.4, 165.6, 159.2, 161. ,\n",
       "        164.4],\n",
       "       [155.4, 160.8, 140.8, 166.8, 163. , 165.8, 159.2, 136.6, 163. ,\n",
       "        160.4],\n",
       "       [163.6, 163.8, 146. , 161.2, 161.2, 164.2, 162.4, 163.8, 141.4,\n",
       "        157.4]])"
      ]
     },
     "execution_count": 347,
     "metadata": {},
     "output_type": "execute_result"
    }
   ],
   "source": [
    "max_met_demand_list_grid"
   ]
  },
  {
   "cell_type": "code",
   "execution_count": 348,
   "id": "1947f7a4",
   "metadata": {},
   "outputs": [
    {
     "name": "stdout",
     "output_type": "stream",
     "text": [
      "End: 2025-07-14 18:13:43\n",
      "Plotting resulting graph...\n",
      "Plotting baseline 1...\n",
      "End: 2025-07-14 18:13:43\n"
     ]
    },
    {
     "data": {
      "image/png": "[encoded data removed]",
      "text/plain": [
       "<Figure size 432x288 with 1 Axes>"
      ]
     },
     "metadata": {
      "needs_background": "light"
     },
     "output_type": "display_data"
    }
   ],
   "source": [
    "# Plot the graphs of average rewards during testing phases of the policy\n",
    "# gradient method and the hand-crafted policies\n",
    "\n",
    "print(\"End: \" + datetime.now().strftime('%Y-%m-%d %H:%M:%S'))\n",
    "\n",
    "max_met_demand_list_grid = [np.array(avg_met_demand_max_2)[sel_index_2],\n",
    "                        np.array(avg_met_demand_max_7)[sel_index_7],\n",
    "                        np.array(avg_met_demand_max_8)[sel_index_8],\n",
    "                        np.array(avg_met_demand_max_9)[sel_index_9],\n",
    "                        np.array(avg_met_demand_max_10)[sel_index_10],\n",
    "                        np.array(avg_met_demand_max_11)[sel_index_11],\n",
    "                        np.array(avg_met_demand_max_12)[sel_index_12],\n",
    "                        np.array(avg_met_demand_max_13)[sel_index_13],\n",
    "                        np.array(avg_met_demand_max_14)[sel_index_14],\n",
    "                        np.array(avg_met_demand_max_15)[sel_index_15],\n",
    "                        np.array(avg_met_demand_max_16)[sel_index_16]]\n",
    "max_met_demand_mean_grid = []\n",
    "max_met_demand_std_grid = []\n",
    "for ii in range(len(location_reward_unit_list)):\n",
    "    max_met_demand_mean_grid.append(np.mean(max_met_demand_list_grid[ii]))\n",
    "    max_met_demand_std_grid.append(np.std(max_met_demand_list_grid[ii]))\n",
    "\n",
    "print(\"Plotting resulting graph...\")\n",
    "# plt.figure(figsize = (12, 9))\n",
    "l1 = plt.errorbar(location_reward_unit_list, max_met_demand_mean_grid, yerr=max_met_demand_std_grid, fmt='o-', capsize=5) # ecolor='gray', \n",
    "\n",
    "print(\"Plotting baseline 1...\")\n",
    "# plt.legend(loc='best',prop={'size': 10})\n",
    "plt.ylabel(\"Count of met demands\")\n",
    "plt.xlabel(\"location_reward_unit\")\n",
    "\n",
    "print(\"End: \" + datetime.now().strftime('%Y-%m-%d %H:%M:%S'))"
   ]
  },
  {
   "cell_type": "code",
   "execution_count": 349,
   "id": "2f1350b0",
   "metadata": {
    "scrolled": false
   },
   "outputs": [
    {
     "name": "stdout",
     "output_type": "stream",
     "text": [
      "End: 2025-07-14 18:13:46\n",
      "Plotting resulting graph...\n",
      "Plotting baseline 1...\n",
      "End: 2025-07-14 18:13:47\n"
     ]
    },
    {
     "data": {
      "image/png": "[encoded data removed]",
      "text/plain": [
       "<Figure size 432x288 with 1 Axes>"
      ]
     },
     "metadata": {
      "needs_background": "light"
     },
     "output_type": "display_data"
    }
   ],
   "source": [
    "# Plot the graphs of average rewards during testing phases of the policy\n",
    "# gradient method and the hand-crafted policies\n",
    "\n",
    "print(\"End: \" + datetime.now().strftime('%Y-%m-%d %H:%M:%S'))\n",
    "\n",
    "max_scooter_num_list_grid = np.array([avg_scooter_num_max_2,\n",
    "                                avg_scooter_num_max_7,\n",
    "                                avg_scooter_num_max_8,\n",
    "                                avg_scooter_num_max_9,\n",
    "                                avg_scooter_num_max_10,\n",
    "                                avg_scooter_num_max_11,\n",
    "                                avg_scooter_num_max_12,\n",
    "                                avg_scooter_num_max_13,\n",
    "                                avg_scooter_num_max_14,\n",
    "                                avg_scooter_num_max_15,\n",
    "                                avg_scooter_num_max_16])\n",
    "max_scooter_num_mean_grid = np.mean(max_scooter_num_list_grid, axis=1)\n",
    "max_scooter_num_std_grid = np.std(max_scooter_num_list_grid, axis=1)\n",
    "\n",
    "print(\"Plotting resulting graph...\")\n",
    "# plt.figure(figsize = (12, 9))\n",
    "l1 = plt.errorbar(location_reward_unit_list, max_scooter_num_mean_grid, yerr=max_scooter_num_std_grid, fmt='o-', capsize=5) # ecolor='gray', \n",
    "\n",
    "print(\"Plotting baseline 1...\")\n",
    "# plt.legend(loc='best',prop={'size': 10})\n",
    "plt.ylabel(\"Count of scooter numbers\")\n",
    "plt.xlabel(\"location_reward_unit\")\n",
    "\n",
    "print(\"End: \" + datetime.now().strftime('%Y-%m-%d %H:%M:%S'))"
   ]
  },
  {
   "cell_type": "code",
   "execution_count": 350,
   "id": "7134e208",
   "metadata": {},
   "outputs": [
    {
     "data": {
      "text/plain": [
       "array([[180.8, 162.6, 175.2, 172.2, 178.2, 172.8, 183.4, 178.4, 154.6,\n",
       "        170.6],\n",
       "       [174.8, 178.6, 183.6, 176.4, 182.4, 175. , 176.8, 179. , 175. ,\n",
       "        179.8],\n",
       "       [176. , 185.2, 179. , 174.2, 171. , 176.8, 183.2, 181.2, 168. ,\n",
       "        182.8],\n",
       "       [182. , 178.2, 178.4, 178.6, 179.2, 182.4, 180.6, 175.6, 181. ,\n",
       "        179.2],\n",
       "       [180.2, 179.8, 181.2, 176.2, 182.6, 181.6, 179.4, 170.2, 178.8,\n",
       "        182.8],\n",
       "       [180. , 178.6, 181.6, 175.8, 176. , 180.8, 181.4, 181.6, 168.2,\n",
       "        177.6],\n",
       "       [182.6, 182.4, 176. , 181.8, 178.8, 181.8, 186.4, 178.6, 180. ,\n",
       "        175.8],\n",
       "       [174.6, 179.6, 178.8, 181.6, 177.8, 181. , 177. , 185.8, 184.6,\n",
       "        177.6],\n",
       "       [167.2, 172.2, 174. , 187.6, 185.6, 176.4, 182.6, 175.2, 178.4,\n",
       "        177.4],\n",
       "       [173.6, 182.8, 172.2, 187.2, 182.2, 185.4, 174.2, 172.4, 179. ,\n",
       "        178.8],\n",
       "       [179.4, 181.8, 173.8, 178.8, 176. , 184.8, 178.8, 179.4, 168.8,\n",
       "        178.2]])"
      ]
     },
     "execution_count": 350,
     "metadata": {},
     "output_type": "execute_result"
    }
   ],
   "source": [
    "max_scooter_num_list_grid"
   ]
  },
  {
   "cell_type": "code",
   "execution_count": 351,
   "id": "f6957f55",
   "metadata": {},
   "outputs": [
    {
     "name": "stdout",
     "output_type": "stream",
     "text": [
      "End: 2025-07-14 18:13:59\n",
      "Plotting resulting graph...\n",
      "Plotting baseline 1...\n",
      "End: 2025-07-14 18:13:59\n"
     ]
    },
    {
     "data": {
      "image/png": "[encoded data removed]",
      "text/plain": [
       "<Figure size 432x288 with 1 Axes>"
      ]
     },
     "metadata": {
      "needs_background": "light"
     },
     "output_type": "display_data"
    }
   ],
   "source": [
    "# Plot the graphs of average rewards during testing phases of the policy\n",
    "# gradient method and the hand-crafted policies\n",
    "\n",
    "print(\"End: \" + datetime.now().strftime('%Y-%m-%d %H:%M:%S'))\n",
    "\n",
    "max_scooter_num_list_grid = [np.array(avg_scooter_num_max_2)[sel_index_2],\n",
    "                        np.array(avg_scooter_num_max_7)[sel_index_7],\n",
    "                        np.array(avg_scooter_num_max_8)[sel_index_8],\n",
    "                        np.array(avg_scooter_num_max_9)[sel_index_9],\n",
    "                        np.array(avg_scooter_num_max_10)[sel_index_10],\n",
    "                        np.array(avg_scooter_num_max_11)[sel_index_11],\n",
    "                        np.array(avg_scooter_num_max_12)[sel_index_12],\n",
    "                        np.array(avg_scooter_num_max_13)[sel_index_13],\n",
    "                        np.array(avg_scooter_num_max_14)[sel_index_14],\n",
    "                        np.array(avg_scooter_num_max_15)[sel_index_15],\n",
    "                        np.array(avg_scooter_num_max_16)[sel_index_16]]\n",
    "max_scooter_num_mean_grid = []\n",
    "max_scooter_num_std_grid = []\n",
    "for ii in range(len(location_reward_unit_list)):\n",
    "    max_scooter_num_mean_grid.append(np.mean(max_scooter_num_list_grid[ii]))\n",
    "    max_scooter_num_std_grid.append(np.std(max_scooter_num_list_grid[ii]))\n",
    "\n",
    "print(\"Plotting resulting graph...\")\n",
    "# plt.figure(figsize = (12, 9))\n",
    "l1 = plt.errorbar(location_reward_unit_list, max_scooter_num_mean_grid, yerr=max_scooter_num_std_grid, fmt='o-', capsize=5) # ecolor='gray', \n",
    "\n",
    "print(\"Plotting baseline 1...\")\n",
    "# plt.legend(loc='best',prop={'size': 10})\n",
    "plt.ylabel(\"Count of scooter numbers\")\n",
    "plt.xlabel(\"location_reward_unit\")\n",
    "\n",
    "print(\"End: \" + datetime.now().strftime('%Y-%m-%d %H:%M:%S'))"
   ]
  },
  {
   "cell_type": "code",
   "execution_count": 352,
   "id": "e1c54dee",
   "metadata": {},
   "outputs": [
    {
     "name": "stdout",
     "output_type": "stream",
     "text": [
      "End: 2025-07-14 18:14:02\n",
      "Plotting resulting graph...\n",
      "Plotting baseline 1...\n",
      "End: 2025-07-14 18:14:02\n"
     ]
    },
    {
     "data": {
      "image/png": "[encoded data removed]",
      "text/plain": [
       "<Figure size 432x288 with 1 Axes>"
      ]
     },
     "metadata": {
      "needs_background": "light"
     },
     "output_type": "display_data"
    }
   ],
   "source": [
    "# Plot the graphs of average rewards during testing phases of the policy\n",
    "# gradient method and the hand-crafted policies\n",
    "\n",
    "print(\"End: \" + datetime.now().strftime('%Y-%m-%d %H:%M:%S'))\n",
    "\n",
    "max_scooter_loc_list_grid = np.array([avg_scooter_loc_max_2,\n",
    "                                avg_scooter_loc_max_7,\n",
    "                                avg_scooter_loc_max_8,\n",
    "                                avg_scooter_loc_max_9,\n",
    "                                avg_scooter_loc_max_10,\n",
    "                                avg_scooter_loc_max_11,\n",
    "                                avg_scooter_loc_max_12,\n",
    "                                avg_scooter_loc_max_13,\n",
    "                                avg_scooter_loc_max_14,\n",
    "                                avg_scooter_loc_max_15,\n",
    "                                avg_scooter_loc_max_16])\n",
    "max_scooter_loc_mean_grid = np.mean(max_scooter_loc_list_grid, axis=1)\n",
    "max_scooter_loc_std_grid = np.std(max_scooter_loc_list_grid, axis=1)\n",
    "\n",
    "print(\"Plotting resulting graph...\")\n",
    "# plt.figure(figsize = (12, 9))\n",
    "l1 = plt.errorbar(location_reward_unit_list, max_scooter_loc_mean_grid, yerr=max_scooter_loc_std_grid, fmt='o-', capsize=5) # ecolor='gray', \n",
    "\n",
    "print(\"Plotting baseline 1...\")\n",
    "# plt.legend(loc='best',prop={'size': 10})\n",
    "plt.ylabel(\"Count of scooter locations\")\n",
    "plt.xlabel(\"location_reward_unit\")\n",
    "\n",
    "print(\"End: \" + datetime.now().strftime('%Y-%m-%d %H:%M:%S'))"
   ]
  },
  {
   "cell_type": "code",
   "execution_count": 353,
   "id": "909b5738",
   "metadata": {
    "scrolled": true
   },
   "outputs": [
    {
     "data": {
      "text/plain": [
       "array([[104.2, 105.6, 104.4, 104.2, 105.8, 105. , 106. , 103.8,  95.6,\n",
       "        106.2],\n",
       "       [105.4, 104.2, 107.2, 102.2, 103.6, 103.2, 112.4, 107. , 106.8,\n",
       "        109. ],\n",
       "       [104. , 107.8, 102.8, 104.6, 104. , 103.2, 104.6, 104.6, 104.4,\n",
       "        105.4],\n",
       "       [106. , 104.8, 108.4, 106.6, 105.6, 106.6, 106.8, 105.4, 105.2,\n",
       "        106.2],\n",
       "       [104.6, 107.8, 106.6, 103.2, 104.6, 105.8, 105.4, 104.6, 106.6,\n",
       "        105. ],\n",
       "       [104.6, 104.2, 108.8, 104.2, 103. , 106.4, 105. , 107.6, 103.4,\n",
       "        102.4],\n",
       "       [112.2, 105.2, 104.4, 106. , 107.6, 106. , 106.6, 104.6, 105.2,\n",
       "        106.8],\n",
       "       [105.2, 104. , 104.8, 103.8, 102.2, 109.6, 103.6, 106.8, 107.6,\n",
       "        107. ],\n",
       "       [101.4, 112.4, 102. , 107.6, 109. , 107.4, 107.6, 103.4, 103.6,\n",
       "        101.6],\n",
       "       [103.8, 107.4, 105.8, 109.6, 106.4, 105.8, 102. , 104.8, 103.4,\n",
       "        104.2],\n",
       "       [105.4, 105.6, 103.4, 105.6, 102. , 106.8, 103. , 104.2, 104.6,\n",
       "        108.2]])"
      ]
     },
     "execution_count": 353,
     "metadata": {},
     "output_type": "execute_result"
    }
   ],
   "source": [
    "max_scooter_loc_list_grid"
   ]
  },
  {
   "cell_type": "code",
   "execution_count": 354,
   "id": "f4b1d750",
   "metadata": {},
   "outputs": [
    {
     "name": "stdout",
     "output_type": "stream",
     "text": [
      "End: 2025-07-14 18:14:06\n",
      "Plotting resulting graph...\n",
      "Plotting baseline 1...\n",
      "End: 2025-07-14 18:14:06\n"
     ]
    },
    {
     "data": {
      "image/png": "[encoded data removed]",
      "text/plain": [
       "<Figure size 432x288 with 1 Axes>"
      ]
     },
     "metadata": {
      "needs_background": "light"
     },
     "output_type": "display_data"
    }
   ],
   "source": [
    "# Plot the graphs of average rewards during testing phases of the policy\n",
    "# gradient method and the hand-crafted policies\n",
    "\n",
    "print(\"End: \" + datetime.now().strftime('%Y-%m-%d %H:%M:%S'))\n",
    "\n",
    "max_scooter_loc_list_grid = [np.array(avg_scooter_loc_max_2)[sel_index_2],\n",
    "                        np.array(avg_scooter_loc_max_7)[sel_index_7],\n",
    "                        np.array(avg_scooter_loc_max_8)[sel_index_8],\n",
    "                        np.array(avg_scooter_loc_max_9)[sel_index_9],\n",
    "                        np.array(avg_scooter_loc_max_10)[sel_index_10],\n",
    "                        np.array(avg_scooter_loc_max_11)[sel_index_11],\n",
    "                        np.array(avg_scooter_loc_max_12)[sel_index_12],\n",
    "                        np.array(avg_scooter_loc_max_13)[sel_index_13],\n",
    "                        np.array(avg_scooter_loc_max_14)[sel_index_14],\n",
    "                        np.array(avg_scooter_loc_max_15)[sel_index_15],\n",
    "                        np.array(avg_scooter_loc_max_16)[sel_index_16]]\n",
    "max_scooter_loc_mean_grid = []\n",
    "max_scooter_loc_std_grid = []\n",
    "for ii in range(len(location_reward_unit_list)):\n",
    "    max_scooter_loc_mean_grid.append(np.mean(max_scooter_loc_list_grid[ii]))\n",
    "    max_scooter_loc_std_grid.append(np.std(max_scooter_loc_list_grid[ii]))\n",
    "\n",
    "print(\"Plotting resulting graph...\")\n",
    "# plt.figure(figsize = (12, 9))\n",
    "l1 = plt.errorbar(location_reward_unit_list, max_scooter_loc_mean_grid, yerr=max_scooter_loc_std_grid, fmt='o-', capsize=5) # ecolor='gray', \n",
    "\n",
    "print(\"Plotting baseline 1...\")\n",
    "# plt.legend(loc='best',prop={'size': 10})\n",
    "plt.ylabel(\"Count of scooter locations\")\n",
    "plt.xlabel(\"location_reward_unit\")\n",
    "\n",
    "print(\"End: \" + datetime.now().strftime('%Y-%m-%d %H:%M:%S'))"
   ]
  },
  {
   "cell_type": "code",
   "execution_count": 355,
   "id": "395b0814",
   "metadata": {},
   "outputs": [
    {
     "name": "stdout",
     "output_type": "stream",
     "text": [
      "End: 2025-07-14 18:14:50\n",
      "Plotting resulting graph...\n",
      "Plotting baseline 1...\n",
      "End: 2025-07-14 18:14:50\n"
     ]
    },
    {
     "data": {
      "image/png": "[encoded data removed]",
      "text/plain": [
       "<Figure size 432x288 with 1 Axes>"
      ]
     },
     "metadata": {
      "needs_background": "light"
     },
     "output_type": "display_data"
    }
   ],
   "source": [
    "# Plot the graphs of average rewards during testing phases of the policy\n",
    "# gradient method and the hand-crafted policies\n",
    "\n",
    "print(\"End: \" + datetime.now().strftime('%Y-%m-%d %H:%M:%S'))\n",
    "\n",
    "max_wANNR_list_grid = np.array([avg_wANNR_max_2,\n",
    "                                avg_wANNR_max_7,\n",
    "                                avg_wANNR_max_8,\n",
    "                                avg_wANNR_max_9,\n",
    "                                avg_wANNR_max_10,\n",
    "                                avg_wANNR_max_11,\n",
    "                                avg_wANNR_max_12,\n",
    "                                avg_wANNR_max_13,\n",
    "                                avg_wANNR_max_14,\n",
    "                                avg_wANNR_max_15,\n",
    "                                avg_wANNR_max_16])\n",
    "max_wANNR_mean_grid = np.mean(max_wANNR_list_grid, axis=1)\n",
    "max_wANNR_std_grid = np.std(max_wANNR_list_grid, axis=1)\n",
    "\n",
    "print(\"Plotting resulting graph...\")\n",
    "# plt.figure(figsize = (12, 9))\n",
    "l1 = plt.errorbar(location_reward_unit_list, max_wANNR_mean_grid, yerr=max_wANNR_std_grid, fmt='o-', capsize=5) # ecolor='gray', \n",
    "\n",
    "print(\"Plotting baseline 1...\")\n",
    "# plt.legend(loc='best',prop={'size': 10})\n",
    "plt.ylabel(\"wANNR\")\n",
    "plt.xlabel(\"location_reward_unit\")\n",
    "\n",
    "print(\"End: \" + datetime.now().strftime('%Y-%m-%d %H:%M:%S'))"
   ]
  },
  {
   "cell_type": "code",
   "execution_count": 356,
   "id": "3aafeb84",
   "metadata": {},
   "outputs": [
    {
     "data": {
      "text/plain": [
       "array([[0.48891124, 0.45585922, 0.47303214, 0.46889791, 0.4771651 ,\n",
       "        0.46992364, 0.48412213, 0.47744662, 0.44441676, 0.46684035],\n",
       "       [0.47264661, 0.47763892, 0.48440279, 0.47521381, 0.48278274,\n",
       "        0.47282035, 0.47537683, 0.47826033, 0.47285075, 0.47983726],\n",
       "       [0.47462854, 0.48651239, 0.47870633, 0.47171474, 0.46759223,\n",
       "        0.47568184, 0.48385177, 0.48109507, 0.46311094, 0.48386094],\n",
       "       [0.48248257, 0.47708441, 0.47744027, 0.47819955, 0.47851255,\n",
       "        0.4839546 , 0.48037231, 0.4736292 , 0.48088982, 0.47847605],\n",
       "       [0.47977448, 0.47937289, 0.48198121, 0.47429056, 0.48300919,\n",
       "        0.48172878, 0.47870837, 0.46736355, 0.47796274, 0.48408668],\n",
       "       [0.47955557, 0.47776312, 0.48176126, 0.47442245, 0.4740819 ,\n",
       "        0.4806368 , 0.48147986, 0.48169673, 0.46391767, 0.47624357],\n",
       "       [0.48306112, 0.48279033, 0.47404455, 0.48200996, 0.47851938,\n",
       "        0.48199461, 0.4891318 , 0.47770417, 0.47956154, 0.47392172],\n",
       "       [0.47219837, 0.47894096, 0.47796135, 0.48168343, 0.47645475,\n",
       "        0.48094538, 0.47542779, 0.48729646, 0.48571751, 0.47626446],\n",
       "       [0.46195228, 0.46911651, 0.4710281 , 0.49016964, 0.48701286,\n",
       "        0.47476131, 0.48358318, 0.47290525, 0.47731257, 0.47577743],\n",
       "       [0.47091976, 0.48388594, 0.47018613, 0.49061805, 0.48255791,\n",
       "        0.48675957, 0.47147311, 0.4715229 , 0.47817628, 0.47791286],\n",
       "       [0.47928639, 0.4819973 , 0.47112986, 0.4784572 , 0.47398084,\n",
       "        0.4860042 , 0.47785119, 0.47868521, 0.46650261, 0.4771875 ]])"
      ]
     },
     "execution_count": 356,
     "metadata": {},
     "output_type": "execute_result"
    }
   ],
   "source": [
    "max_wANNR_list_grid"
   ]
  },
  {
   "cell_type": "code",
   "execution_count": 357,
   "id": "66db0af5",
   "metadata": {},
   "outputs": [
    {
     "name": "stdout",
     "output_type": "stream",
     "text": [
      "End: 2025-07-14 18:15:04\n",
      "Plotting resulting graph...\n",
      "Plotting baseline 1...\n",
      "End: 2025-07-14 18:15:04\n"
     ]
    },
    {
     "data": {
      "image/png": "[encoded data removed]",
      "text/plain": [
       "<Figure size 432x288 with 1 Axes>"
      ]
     },
     "metadata": {
      "needs_background": "light"
     },
     "output_type": "display_data"
    }
   ],
   "source": [
    "# Plot the graphs of average rewards during testing phases of the policy\n",
    "# gradient method and the hand-crafted policies\n",
    "\n",
    "print(\"End: \" + datetime.now().strftime('%Y-%m-%d %H:%M:%S'))\n",
    "\n",
    "max_wANNR_list_grid = [np.array(avg_wANNR_max_2)[sel_index_2],\n",
    "                        np.array(avg_wANNR_max_7)[sel_index_7],\n",
    "                        np.array(avg_wANNR_max_8)[sel_index_8],\n",
    "                        np.array(avg_wANNR_max_9)[sel_index_9],\n",
    "                        np.array(avg_wANNR_max_10)[sel_index_10],\n",
    "                        np.array(avg_wANNR_max_11)[sel_index_11],\n",
    "                        np.array(avg_wANNR_max_12)[sel_index_12],\n",
    "                        np.array(avg_wANNR_max_13)[sel_index_13],\n",
    "                        np.array(avg_wANNR_max_14)[sel_index_14],\n",
    "                        np.array(avg_wANNR_max_15)[sel_index_15],\n",
    "                        np.array(avg_wANNR_max_16)[sel_index_16]]\n",
    "max_wANNR_mean_grid = []\n",
    "max_wANNR_std_grid = []\n",
    "for ii in range(len(location_reward_unit_list)):\n",
    "    max_wANNR_mean_grid.append(np.mean(max_wANNR_list_grid[ii]))\n",
    "    max_wANNR_std_grid.append(np.std(max_wANNR_list_grid[ii]))\n",
    "\n",
    "print(\"Plotting resulting graph...\")\n",
    "# plt.figure(figsize = (12, 9))\n",
    "l1 = plt.errorbar(location_reward_unit_list, max_wANNR_mean_grid, yerr=max_wANNR_std_grid, fmt='o-', capsize=5) # ecolor='gray', \n",
    "\n",
    "print(\"Plotting baseline 1...\")\n",
    "# plt.legend(loc='best',prop={'size': 10})\n",
    "plt.ylabel(\"wANNR\")\n",
    "plt.xlabel(\"location_reward_unit\")\n",
    "\n",
    "print(\"End: \" + datetime.now().strftime('%Y-%m-%d %H:%M:%S'))"
   ]
  },
  {
   "cell_type": "code",
   "execution_count": 358,
   "id": "1995c33d",
   "metadata": {},
   "outputs": [
    {
     "name": "stdout",
     "output_type": "stream",
     "text": [
      "End: 2025-07-14 18:15:05\n",
      "Plotting resulting graph...\n",
      "Plotting baseline 1...\n",
      "End: 2025-07-14 18:15:05\n"
     ]
    },
    {
     "data": {
      "image/png": "[encoded data removed]",
      "text/plain": [
       "<Figure size 432x288 with 1 Axes>"
      ]
     },
     "metadata": {
      "needs_background": "light"
     },
     "output_type": "display_data"
    }
   ],
   "source": [
    "# Plot the graphs of average rewards during testing phases of the policy\n",
    "# gradient method and the hand-crafted policies\n",
    "\n",
    "print(\"End: \" + datetime.now().strftime('%Y-%m-%d %H:%M:%S'))\n",
    "\n",
    "max_moran_list_grid = np.array([avg_moran_max_2,\n",
    "                                avg_moran_max_7,\n",
    "                                avg_moran_max_8,\n",
    "                                avg_moran_max_9,\n",
    "                                avg_moran_max_10,\n",
    "                                avg_moran_max_11,\n",
    "                                avg_moran_max_12,\n",
    "                                avg_moran_max_13,\n",
    "                                avg_moran_max_14,\n",
    "                                avg_moran_max_15,\n",
    "                                avg_moran_max_16])\n",
    "max_moran_mean_grid = np.mean(max_moran_list_grid, axis=1)\n",
    "max_moran_std_grid = np.std(max_moran_list_grid, axis=1)\n",
    "\n",
    "print(\"Plotting resulting graph...\")\n",
    "# plt.figure(figsize = (12, 9))\n",
    "l1 = plt.errorbar(location_reward_unit_list, max_moran_mean_grid, yerr=max_moran_std_grid, fmt='o-', capsize=5) # ecolor='gray', \n",
    "\n",
    "print(\"Plotting baseline 1...\")\n",
    "# plt.legend(loc='best',prop={'size': 10})\n",
    "plt.ylabel(\"Moran's I\")\n",
    "plt.xlabel(\"location_reward_unit\")\n",
    "\n",
    "print(\"End: \" + datetime.now().strftime('%Y-%m-%d %H:%M:%S'))"
   ]
  },
  {
   "cell_type": "code",
   "execution_count": 359,
   "id": "c15474f8",
   "metadata": {},
   "outputs": [
    {
     "data": {
      "text/plain": [
       "array([[0.03996255, 0.03773631, 0.03813252, 0.03883827, 0.04190868,\n",
       "        0.03961366, 0.03896805, 0.03858907, 0.03455271, 0.03730916],\n",
       "       [0.04150804, 0.04003996, 0.03883485, 0.03751384, 0.0393169 ,\n",
       "        0.03837117, 0.03757799, 0.03631911, 0.04021283, 0.03801867],\n",
       "       [0.03551379, 0.03850713, 0.0385641 , 0.03770517, 0.03685615,\n",
       "        0.03671085, 0.03707659, 0.03892952, 0.03910618, 0.0380636 ],\n",
       "       [0.0364277 , 0.03670364, 0.03982752, 0.03886421, 0.03858535,\n",
       "        0.03838931, 0.0369291 , 0.0434093 , 0.03916173, 0.03721678],\n",
       "       [0.03545768, 0.04002702, 0.03883675, 0.03704562, 0.0391722 ,\n",
       "        0.03742989, 0.0380465 , 0.03583097, 0.03744372, 0.03937992],\n",
       "       [0.03854774, 0.0375532 , 0.03772568, 0.03689439, 0.03633865,\n",
       "        0.03959352, 0.03802596, 0.04085435, 0.03984036, 0.03670446],\n",
       "       [0.04262358, 0.03749264, 0.03904916, 0.03741004, 0.03940765,\n",
       "        0.03625877, 0.03765987, 0.03816618, 0.03769133, 0.03783193],\n",
       "       [0.03858921, 0.03876675, 0.0399973 , 0.03681437, 0.03800968,\n",
       "        0.03905444, 0.03902588, 0.03586006, 0.03734276, 0.03821659],\n",
       "       [0.03833842, 0.04005525, 0.03748009, 0.03926578, 0.04065065,\n",
       "        0.03500556, 0.03860013, 0.03842   , 0.03825388, 0.03733469],\n",
       "       [0.036305  , 0.04128784, 0.0416534 , 0.03805004, 0.0386478 ,\n",
       "        0.03722561, 0.03556055, 0.03655069, 0.03834013, 0.04007103],\n",
       "       [0.03840546, 0.04069477, 0.03896584, 0.03802893, 0.03694433,\n",
       "        0.03804559, 0.03804982, 0.03784623, 0.03690814, 0.0378441 ]])"
      ]
     },
     "execution_count": 359,
     "metadata": {},
     "output_type": "execute_result"
    }
   ],
   "source": [
    "max_moran_list_grid"
   ]
  },
  {
   "cell_type": "code",
   "execution_count": 360,
   "id": "bbec88e4",
   "metadata": {},
   "outputs": [
    {
     "name": "stdout",
     "output_type": "stream",
     "text": [
      "End: 2025-07-14 18:15:08\n",
      "Plotting resulting graph...\n",
      "Plotting baseline 1...\n",
      "End: 2025-07-14 18:15:08\n"
     ]
    },
    {
     "data": {
      "image/png": "[encoded data removed]",
      "text/plain": [
       "<Figure size 432x288 with 1 Axes>"
      ]
     },
     "metadata": {
      "needs_background": "light"
     },
     "output_type": "display_data"
    }
   ],
   "source": [
    "# Plot the graphs of average rewards during testing phases of the policy\n",
    "# gradient method and the hand-crafted policies\n",
    "\n",
    "print(\"End: \" + datetime.now().strftime('%Y-%m-%d %H:%M:%S'))\n",
    "\n",
    "max_moran_list_grid = [np.array(avg_moran_max_2)[sel_index_2],\n",
    "                        np.array(avg_moran_max_7)[sel_index_7],\n",
    "                        np.array(avg_moran_max_8)[sel_index_8],\n",
    "                        np.array(avg_moran_max_9)[sel_index_9],\n",
    "                        np.array(avg_moran_max_10)[sel_index_10],\n",
    "                        np.array(avg_moran_max_11)[sel_index_11],\n",
    "                        np.array(avg_moran_max_12)[sel_index_12],\n",
    "                        np.array(avg_moran_max_13)[sel_index_13],\n",
    "                        np.array(avg_moran_max_14)[sel_index_14],\n",
    "                        np.array(avg_moran_max_15)[sel_index_15],\n",
    "                        np.array(avg_moran_max_16)[sel_index_16]]\n",
    "max_moran_mean_grid = []\n",
    "max_moran_std_grid = []\n",
    "for ii in range(len(location_reward_unit_list)):\n",
    "    max_moran_mean_grid.append(np.mean(max_moran_list_grid[ii]))\n",
    "    max_moran_std_grid.append(np.std(max_moran_list_grid[ii]))\n",
    "\n",
    "print(\"Plotting resulting graph...\")\n",
    "# plt.figure(figsize = (12, 9))\n",
    "l1 = plt.errorbar(location_reward_unit_list, max_moran_mean_grid, yerr=max_moran_std_grid, fmt='o-', capsize=5) # ecolor='gray', \n",
    "\n",
    "print(\"Plotting baseline 1...\")\n",
    "# plt.legend(loc='best',prop={'size': 10})\n",
    "plt.ylabel(\"Moran's I\")\n",
    "plt.xlabel(\"location_reward_unit\")\n",
    "\n",
    "print(\"End: \" + datetime.now().strftime('%Y-%m-%d %H:%M:%S'))"
   ]
  },
  {
   "cell_type": "code",
   "execution_count": 361,
   "id": "622617ec",
   "metadata": {},
   "outputs": [
    {
     "name": "stdout",
     "output_type": "stream",
     "text": [
      "End: 2025-07-14 18:15:10\n",
      "Plotting resulting graph...\n",
      "Plotting baseline 1...\n",
      "End: 2025-07-14 18:15:10\n"
     ]
    },
    {
     "data": {
      "image/png": "[encoded data removed]",
      "text/plain": [
       "<Figure size 432x288 with 1 Axes>"
      ]
     },
     "metadata": {
      "needs_background": "light"
     },
     "output_type": "display_data"
    }
   ],
   "source": [
    "# Plot the graphs of average rewards during testing phases of the policy\n",
    "# gradient method and the hand-crafted policies\n",
    "\n",
    "print(\"End: \" + datetime.now().strftime('%Y-%m-%d %H:%M:%S'))\n",
    "\n",
    "max_gini_list_grid = np.array([avg_gini_max_2,\n",
    "                                avg_gini_max_7,\n",
    "                                avg_gini_max_8,\n",
    "                                avg_gini_max_9,\n",
    "                                avg_gini_max_10,\n",
    "                                avg_gini_max_11,\n",
    "                                avg_gini_max_12,\n",
    "                                avg_gini_max_13,\n",
    "                                avg_gini_max_14,\n",
    "                                avg_gini_max_15,\n",
    "                                avg_gini_max_16])\n",
    "max_gini_mean_grid = np.mean(max_gini_list_grid, axis=1)\n",
    "max_gini_std_grid = np.std(max_gini_list_grid, axis=1)\n",
    "\n",
    "print(\"Plotting resulting graph...\")\n",
    "# plt.figure(figsize = (12, 9))\n",
    "l1 = plt.errorbar(location_reward_unit_list, max_gini_mean_grid, yerr=max_gini_std_grid, fmt='o-', capsize=5) # ecolor='gray', \n",
    "\n",
    "print(\"Plotting baseline 1...\")\n",
    "# plt.legend(loc='best',prop={'size': 10})\n",
    "plt.ylabel(\"Gini index\")\n",
    "plt.xlabel(\"location_reward_unit\")\n",
    "\n",
    "print(\"End: \" + datetime.now().strftime('%Y-%m-%d %H:%M:%S'))"
   ]
  },
  {
   "cell_type": "code",
   "execution_count": 362,
   "id": "b8a3ecb2",
   "metadata": {},
   "outputs": [
    {
     "data": {
      "text/plain": [
       "array([[0.94931923, 0.94587015, 0.94788218, 0.94728074, 0.94754531,\n",
       "        0.94781325, 0.94840268, 0.94918504, 0.9522058 , 0.94617508],\n",
       "       [0.94705229, 0.9487483 , 0.94730685, 0.95009911, 0.94986459,\n",
       "        0.94897653, 0.94249312, 0.94751143, 0.94645161, 0.94536129],\n",
       "       [0.94878262, 0.94735333, 0.95003899, 0.94798284, 0.94737646,\n",
       "        0.94932431, 0.949423  , 0.94897389, 0.9465748 , 0.94893925],\n",
       "       [0.94818858, 0.94862523, 0.94563356, 0.94682587, 0.94802275,\n",
       "        0.94790164, 0.94737498, 0.94751999, 0.9485293 , 0.94746077],\n",
       "       [0.94906328, 0.94700781, 0.9472027 , 0.94931432, 0.94923996,\n",
       "        0.94848331, 0.94801689, 0.94748839, 0.94710883, 0.94882411],\n",
       "       [0.94878737, 0.94898315, 0.94647451, 0.94871433, 0.94958486,\n",
       "        0.94766269, 0.9488085 , 0.94680244, 0.94759335, 0.95014476],\n",
       "       [0.94298996, 0.9489437 , 0.94820325, 0.94772845, 0.94635014,\n",
       "        0.94801509, 0.94841435, 0.94848892, 0.94841374, 0.94614053],\n",
       "       [0.94707017, 0.94940532, 0.94868357, 0.95014061, 0.95017705,\n",
       "        0.94492503, 0.94884119, 0.94857501, 0.94739074, 0.94638093],\n",
       "       [0.94857598, 0.94125583, 0.94984552, 0.94768788, 0.94638514,\n",
       "        0.94664093, 0.94693668, 0.94884886, 0.94946294, 0.95079668],\n",
       "       [0.94892386, 0.94689729, 0.94711054, 0.94662889, 0.94786773,\n",
       "        0.94909188, 0.94988375, 0.94746397, 0.9494367 , 0.94847531],\n",
       "       [0.94802942, 0.94826458, 0.949148  , 0.9477127 , 0.95023994,\n",
       "        0.9482394 , 0.94998211, 0.94907622, 0.94676679, 0.94600687]])"
      ]
     },
     "execution_count": 362,
     "metadata": {},
     "output_type": "execute_result"
    }
   ],
   "source": [
    "max_gini_list_grid"
   ]
  },
  {
   "cell_type": "code",
   "execution_count": 363,
   "id": "3331d0c3",
   "metadata": {},
   "outputs": [
    {
     "name": "stdout",
     "output_type": "stream",
     "text": [
      "End: 2025-07-14 18:15:12\n",
      "Plotting resulting graph...\n",
      "Plotting baseline 1...\n",
      "End: 2025-07-14 18:15:12\n"
     ]
    },
    {
     "data": {
      "image/png": "[encoded data removed]",
      "text/plain": [
       "<Figure size 432x288 with 1 Axes>"
      ]
     },
     "metadata": {
      "needs_background": "light"
     },
     "output_type": "display_data"
    }
   ],
   "source": [
    "# Plot the graphs of average rewards during testing phases of the policy\n",
    "# gradient method and the hand-crafted policies\n",
    "\n",
    "print(\"End: \" + datetime.now().strftime('%Y-%m-%d %H:%M:%S'))\n",
    "\n",
    "max_gini_list_grid = [np.array(avg_gini_max_2)[sel_index_2],\n",
    "                        np.array(avg_gini_max_7)[sel_index_7],\n",
    "                        np.array(avg_gini_max_8)[sel_index_8],\n",
    "                        np.array(avg_gini_max_9)[sel_index_9],\n",
    "                        np.array(avg_gini_max_10)[sel_index_10],\n",
    "                        np.array(avg_gini_max_11)[sel_index_11],\n",
    "                        np.array(avg_gini_max_12)[sel_index_12],\n",
    "                        np.array(avg_gini_max_13)[sel_index_13],\n",
    "                        np.array(avg_gini_max_14)[sel_index_14],\n",
    "                        np.array(avg_gini_max_15)[sel_index_15],\n",
    "                        np.array(avg_gini_max_16)[sel_index_16]]\n",
    "max_gini_mean_grid = []\n",
    "max_gini_std_grid = []\n",
    "for ii in range(len(location_reward_unit_list)):\n",
    "    max_gini_mean_grid.append(np.mean(max_gini_list_grid[ii]))\n",
    "    max_gini_std_grid.append(np.std(max_gini_list_grid[ii]))\n",
    "\n",
    "print(\"Plotting resulting graph...\")\n",
    "# plt.figure(figsize = (12, 9))\n",
    "l1 = plt.errorbar(location_reward_unit_list, max_gini_mean_grid, yerr=max_gini_std_grid, fmt='o-', capsize=5) # ecolor='gray', \n",
    "\n",
    "print(\"Plotting baseline 1...\")\n",
    "# plt.legend(loc='best',prop={'size': 10})\n",
    "plt.ylabel(\"Gini index\")\n",
    "plt.xlabel(\"location_reward_unit\")\n",
    "\n",
    "print(\"End: \" + datetime.now().strftime('%Y-%m-%d %H:%M:%S'))"
   ]
  },
  {
   "cell_type": "code",
   "execution_count": 364,
   "id": "9399863c",
   "metadata": {},
   "outputs": [
    {
     "name": "stdout",
     "output_type": "stream",
     "text": [
      "End: 2025-07-14 18:15:13\n",
      "Plotting resulting graph...\n",
      "Plotting baseline 1...\n",
      "End: 2025-07-14 18:15:13\n"
     ]
    },
    {
     "data": {
      "image/png": "[encoded data removed]",
      "text/plain": [
       "<Figure size 432x288 with 1 Axes>"
      ]
     },
     "metadata": {
      "needs_background": "light"
     },
     "output_type": "display_data"
    }
   ],
   "source": [
    "# Plot the graphs of average rewards during testing phases of the policy\n",
    "# gradient method and the hand-crafted policies\n",
    "\n",
    "print(\"End: \" + datetime.now().strftime('%Y-%m-%d %H:%M:%S'))\n",
    "\n",
    "max_theil_list_grid = np.array([avg_theil_max_2,\n",
    "                                avg_theil_max_7,\n",
    "                                avg_theil_max_8,\n",
    "                                avg_theil_max_9,\n",
    "                                avg_theil_max_10,\n",
    "                                avg_theil_max_11,\n",
    "                                avg_theil_max_12,\n",
    "                                avg_theil_max_13,\n",
    "                                avg_theil_max_14,\n",
    "                                avg_theil_max_15,\n",
    "                                avg_theil_max_16])\n",
    "max_theil_mean_grid = np.mean(max_theil_list_grid, axis=1)\n",
    "max_theil_std_grid = np.std(max_theil_list_grid, axis=1)\n",
    "\n",
    "print(\"Plotting resulting graph...\")\n",
    "# plt.figure(figsize = (12, 9))\n",
    "l1 = plt.errorbar(location_reward_unit_list, max_theil_mean_grid, yerr=max_theil_std_grid, fmt='o-', capsize=5) # ecolor='gray', \n",
    "\n",
    "print(\"Plotting baseline 1...\")\n",
    "# plt.legend(loc='best',prop={'size': 10})\n",
    "plt.ylabel(\"Theil index\")\n",
    "plt.xlabel(\"location_reward_unit\")\n",
    "\n",
    "print(\"End: \" + datetime.now().strftime('%Y-%m-%d %H:%M:%S'))"
   ]
  },
  {
   "cell_type": "code",
   "execution_count": 365,
   "id": "18efe939",
   "metadata": {},
   "outputs": [
    {
     "data": {
      "text/plain": [
       "array([[0.22200094, 0.199831  , 0.19970652, 0.18649077, 0.20755005,\n",
       "        0.20962835, 0.22280481, 0.21480136, 0.20402102, 0.19995627],\n",
       "       [0.18726494, 0.20986022, 0.21267131, 0.21780866, 0.22017931,\n",
       "        0.20734326, 0.18956556, 0.22578497, 0.20115943, 0.21201289],\n",
       "       [0.21834622, 0.22338731, 0.21902593, 0.2092741 , 0.18954579,\n",
       "        0.21274756, 0.22691497, 0.22087199, 0.17892256, 0.22829728],\n",
       "       [0.22006342, 0.22304568, 0.1981187 , 0.20210712, 0.21398621,\n",
       "        0.22503829, 0.2196719 , 0.20239654, 0.21760221, 0.21102536],\n",
       "       [0.22951458, 0.22086922, 0.20599563, 0.2168744 , 0.21836642,\n",
       "        0.22828007, 0.21208724, 0.20798385, 0.21133635, 0.21743386],\n",
       "       [0.21492006, 0.22081246, 0.21642732, 0.22195668, 0.21676368,\n",
       "        0.21513307, 0.21917427, 0.21186134, 0.18945888, 0.21810884],\n",
       "       [0.18678594, 0.22767841, 0.20674564, 0.20655904, 0.20698203,\n",
       "        0.21539061, 0.22595376, 0.2108865 , 0.21787315, 0.19923922],\n",
       "       [0.19475541, 0.22334789, 0.22225625, 0.23718514, 0.21513847,\n",
       "        0.20502914, 0.20678246, 0.2389452 , 0.22056617, 0.20506237],\n",
       "       [0.17995097, 0.17293128, 0.21709621, 0.21987041, 0.2166534 ,\n",
       "        0.22085356, 0.21643999, 0.20865982, 0.22227774, 0.22623134],\n",
       "       [0.22554467, 0.20476806, 0.20843224, 0.23272728, 0.21619179,\n",
       "        0.2337478 , 0.2136173 , 0.2021788 , 0.21669017, 0.20232108],\n",
       "       [0.21171515, 0.21558862, 0.21951643, 0.21023656, 0.22184781,\n",
       "        0.23013546, 0.22409036, 0.21942822, 0.18804537, 0.20898853]])"
      ]
     },
     "execution_count": 365,
     "metadata": {},
     "output_type": "execute_result"
    }
   ],
   "source": [
    "max_theil_list_grid"
   ]
  },
  {
   "cell_type": "code",
   "execution_count": 366,
   "id": "e57faad4",
   "metadata": {},
   "outputs": [
    {
     "name": "stdout",
     "output_type": "stream",
     "text": [
      "End: 2025-07-14 18:15:17\n",
      "Plotting resulting graph...\n",
      "Plotting baseline 1...\n",
      "End: 2025-07-14 18:15:17\n"
     ]
    },
    {
     "data": {
      "image/png": "[encoded data removed]",
      "text/plain": [
       "<Figure size 432x288 with 1 Axes>"
      ]
     },
     "metadata": {
      "needs_background": "light"
     },
     "output_type": "display_data"
    }
   ],
   "source": [
    "# Plot the graphs of average rewards during testing phases of the policy\n",
    "# gradient method and the hand-crafted policies\n",
    "\n",
    "print(\"End: \" + datetime.now().strftime('%Y-%m-%d %H:%M:%S'))\n",
    "\n",
    "max_theil_list_grid = [np.array(avg_theil_max_2)[sel_index_2],\n",
    "                        np.array(avg_theil_max_7)[sel_index_7],\n",
    "                        np.array(avg_theil_max_8)[sel_index_8],\n",
    "                        np.array(avg_theil_max_9)[sel_index_9],\n",
    "                        np.array(avg_theil_max_10)[sel_index_10],\n",
    "                        np.array(avg_theil_max_11)[sel_index_11],\n",
    "                        np.array(avg_theil_max_12)[sel_index_12],\n",
    "                        np.array(avg_theil_max_13)[sel_index_13],\n",
    "                        np.array(avg_theil_max_14)[sel_index_14],\n",
    "                        np.array(avg_theil_max_15)[sel_index_15],\n",
    "                        np.array(avg_theil_max_16)[sel_index_16]]\n",
    "max_theil_mean_grid = []\n",
    "max_theil_std_grid = []\n",
    "for ii in range(len(location_reward_unit_list)):\n",
    "    max_theil_mean_grid.append(np.mean(max_theil_list_grid[ii]))\n",
    "    max_theil_std_grid.append(np.std(max_theil_list_grid[ii]))\n",
    "\n",
    "print(\"Plotting resulting graph...\")\n",
    "# plt.figure(figsize = (12, 9))\n",
    "l1 = plt.errorbar(location_reward_unit_list, max_theil_mean_grid, yerr=max_theil_std_grid, fmt='o-', capsize=5) # ecolor='gray', \n",
    "\n",
    "print(\"Plotting baseline 1...\")\n",
    "# plt.legend(loc='best',prop={'size': 10})\n",
    "plt.ylabel(\"Theil index\")\n",
    "plt.xlabel(\"location_reward_unit\")\n",
    "\n",
    "print(\"End: \" + datetime.now().strftime('%Y-%m-%d %H:%M:%S'))"
   ]
  },
  {
   "cell_type": "code",
   "execution_count": 367,
   "id": "5d0636e8",
   "metadata": {},
   "outputs": [
    {
     "name": "stdout",
     "output_type": "stream",
     "text": [
      "End: 2025-07-14 18:15:18\n",
      "Plotting resulting graph...\n",
      "Plotting baseline 1...\n",
      "End: 2025-07-14 18:15:18\n"
     ]
    },
    {
     "data": {
      "image/png": "[encoded data removed]",
      "text/plain": [
       "<Figure size 432x288 with 1 Axes>"
      ]
     },
     "metadata": {
      "needs_background": "light"
     },
     "output_type": "display_data"
    }
   ],
   "source": [
    "# Plot the graphs of average rewards during testing phases of the policy\n",
    "# gradient method and the hand-crafted policies\n",
    "\n",
    "print(\"End: \" + datetime.now().strftime('%Y-%m-%d %H:%M:%S'))\n",
    "\n",
    "max_EMD_list_grid = np.array([avg_EMD_max_2,\n",
    "                                avg_EMD_max_7,\n",
    "                                avg_EMD_max_8,\n",
    "                                avg_EMD_max_9,\n",
    "                                avg_EMD_max_10,\n",
    "                                avg_EMD_max_11,\n",
    "                                avg_EMD_max_12,\n",
    "                                avg_EMD_max_13,\n",
    "                                avg_EMD_max_14,\n",
    "                                avg_EMD_max_15,\n",
    "                                avg_EMD_max_16])\n",
    "max_EMD_mean_grid = np.mean(max_EMD_list_grid, axis=1)\n",
    "max_EMD_std_grid = np.std(max_EMD_list_grid, axis=1)\n",
    "\n",
    "print(\"Plotting resulting graph...\")\n",
    "# plt.figure(figsize = (12, 9))\n",
    "l1 = plt.errorbar(location_reward_unit_list, max_EMD_mean_grid, yerr=max_EMD_std_grid, fmt='o-', capsize=5) # ecolor='gray', \n",
    "\n",
    "print(\"Plotting baseline 1...\")\n",
    "# plt.legend(loc='best',prop={'size': 10})\n",
    "plt.ylabel(\"EMD\")\n",
    "plt.xlabel(\"location_reward_unit\")\n",
    "\n",
    "print(\"End: \" + datetime.now().strftime('%Y-%m-%d %H:%M:%S'))"
   ]
  },
  {
   "cell_type": "code",
   "execution_count": 368,
   "id": "88c0520f",
   "metadata": {},
   "outputs": [
    {
     "data": {
      "text/plain": [
       "array([[2.05781523, 2.00978864, 1.9789331 , 1.96830605, 2.03873767,\n",
       "        2.00952198, 2.01568062, 2.01662245, 1.94577457, 1.94920887],\n",
       "       [1.96505534, 2.02739621, 2.00332649, 1.99655078, 2.02906252,\n",
       "        2.00357413, 1.86556854, 1.98771844, 2.02495624, 1.9744408 ],\n",
       "       [1.96683183, 1.98978704, 2.02619956, 1.98692297, 1.96814456,\n",
       "        1.9764927 , 2.01440332, 2.02634771, 1.95287658, 2.02501592],\n",
       "       [1.96809161, 1.99086354, 1.97686996, 1.97229332, 2.02187496,\n",
       "        1.99885417, 1.98040865, 2.03965449, 2.02122998, 1.98281888],\n",
       "       [1.98508914, 2.03184649, 1.98493161, 1.99063414, 2.02128797,\n",
       "        2.01044657, 1.99097487, 1.95818989, 1.98147046, 2.01439119],\n",
       "       [2.01552211, 2.02672603, 1.98196529, 2.01722685, 1.9961638 ,\n",
       "        2.02655352, 2.00259684, 2.0340628 , 2.00662343, 1.99660338],\n",
       "       [1.99988016, 2.01783652, 1.99199165, 1.97935669, 1.98554791,\n",
       "        1.96811077, 2.00599344, 2.01885624, 2.007291  , 1.97124362],\n",
       "       [1.97358294, 2.03155376, 2.03737984, 2.03959336, 2.01888111,\n",
       "        1.98540477, 2.03730759, 1.98218846, 1.96324118, 1.97863853],\n",
       "       [1.97118703, 1.9320809 , 2.0226347 , 1.98936395, 2.01047556,\n",
       "        1.94948037, 2.00786872, 2.0112686 , 2.02794323, 2.05248269],\n",
       "       [2.00272524, 1.99323117, 2.01172206, 2.00329139, 1.99963364,\n",
       "        2.01166117, 1.97332047, 1.98672002, 2.03183342, 2.02854887],\n",
       "       [1.98862074, 2.03315084, 2.0319306 , 2.00022382, 2.01209847,\n",
       "        2.02061743, 2.04019151, 2.03048661, 1.9262171 , 1.97743242]])"
      ]
     },
     "execution_count": 368,
     "metadata": {},
     "output_type": "execute_result"
    }
   ],
   "source": [
    "max_EMD_list_grid"
   ]
  },
  {
   "cell_type": "code",
   "execution_count": 369,
   "id": "8b10664d",
   "metadata": {},
   "outputs": [
    {
     "name": "stdout",
     "output_type": "stream",
     "text": [
      "End: 2025-07-14 18:15:20\n",
      "Plotting resulting graph...\n",
      "Plotting baseline 1...\n",
      "End: 2025-07-14 18:15:20\n"
     ]
    },
    {
     "data": {
      "image/png": "[encoded data removed]",
      "text/plain": [
       "<Figure size 432x288 with 1 Axes>"
      ]
     },
     "metadata": {
      "needs_background": "light"
     },
     "output_type": "display_data"
    }
   ],
   "source": [
    "# Plot the graphs of average rewards during testing phases of the policy\n",
    "# gradient method and the hand-crafted policies\n",
    "\n",
    "print(\"End: \" + datetime.now().strftime('%Y-%m-%d %H:%M:%S'))\n",
    "\n",
    "max_EMD_list_grid = [np.array(avg_EMD_max_2)[sel_index_2],\n",
    "                        np.array(avg_EMD_max_7)[sel_index_7],\n",
    "                        np.array(avg_EMD_max_8)[sel_index_8],\n",
    "                        np.array(avg_EMD_max_9)[sel_index_9],\n",
    "                        np.array(avg_EMD_max_10)[sel_index_10],\n",
    "                        np.array(avg_EMD_max_11)[sel_index_11],\n",
    "                        np.array(avg_EMD_max_12)[sel_index_12],\n",
    "                        np.array(avg_EMD_max_13)[sel_index_13],\n",
    "                        np.array(avg_EMD_max_14)[sel_index_14],\n",
    "                        np.array(avg_EMD_max_15)[sel_index_15],\n",
    "                        np.array(avg_EMD_max_16)[sel_index_16]]\n",
    "max_EMD_mean_grid = []\n",
    "max_EMD_std_grid = []\n",
    "for ii in range(len(location_reward_unit_list)):\n",
    "    max_EMD_mean_grid.append(np.mean(max_EMD_list_grid[ii]))\n",
    "    max_EMD_std_grid.append(np.std(max_EMD_list_grid[ii]))\n",
    "\n",
    "print(\"Plotting resulting graph...\")\n",
    "# plt.figure(figsize = (12, 9))\n",
    "l1 = plt.errorbar(location_reward_unit_list, max_EMD_mean_grid, yerr=max_EMD_std_grid, fmt='o-', capsize=5) # ecolor='gray', \n",
    "\n",
    "print(\"Plotting baseline 1...\")\n",
    "# plt.legend(loc='best',prop={'size': 10})\n",
    "plt.ylabel(\"EMD\")\n",
    "plt.xlabel(\"location_reward_unit\")\n",
    "\n",
    "print(\"End: \" + datetime.now().strftime('%Y-%m-%d %H:%M:%S'))"
   ]
  },
  {
   "cell_type": "code",
   "execution_count": 370,
   "id": "b5f1eb35",
   "metadata": {},
   "outputs": [
    {
     "name": "stdout",
     "output_type": "stream",
     "text": [
      "End: 2025-07-14 18:15:20\n",
      "Plotting resulting graph...\n",
      "Plotting baseline 1...\n",
      "End: 2025-07-14 18:15:20\n"
     ]
    },
    {
     "data": {
      "image/png": "[encoded data removed]",
      "text/plain": [
       "<Figure size 432x288 with 1 Axes>"
      ]
     },
     "metadata": {
      "needs_background": "light"
     },
     "output_type": "display_data"
    }
   ],
   "source": [
    "# Plot the graphs of average rewards during testing phases of the policy\n",
    "# gradient method and the hand-crafted policies\n",
    "\n",
    "print(\"End: \" + datetime.now().strftime('%Y-%m-%d %H:%M:%S'))\n",
    "\n",
    "max_centroid_list_grid = np.array([avg_centroid_max_2,\n",
    "                                avg_centroid_max_7,\n",
    "                                avg_centroid_max_8,\n",
    "                                avg_centroid_max_9,\n",
    "                                avg_centroid_max_10,\n",
    "                                avg_centroid_max_11,\n",
    "                                avg_centroid_max_12,\n",
    "                                avg_centroid_max_13,\n",
    "                                avg_centroid_max_14,\n",
    "                                avg_centroid_max_15,\n",
    "                                avg_centroid_max_16])\n",
    "max_centroid_mean_grid = np.mean(max_centroid_list_grid, axis=1)\n",
    "max_centroid_std_grid = np.std(max_centroid_list_grid, axis=1)\n",
    "\n",
    "print(\"Plotting resulting graph...\")\n",
    "# plt.figure(figsize = (12, 9))\n",
    "l1 = plt.errorbar(location_reward_unit_list, max_centroid_mean_grid, yerr=max_centroid_std_grid, fmt='o-', capsize=5) # ecolor='gray', \n",
    "\n",
    "print(\"Plotting baseline 1...\")\n",
    "# plt.legend(loc='best',prop={'size': 10})\n",
    "plt.ylabel(\"Centroid shift\")\n",
    "plt.xlabel(\"location_reward_unit\")\n",
    "\n",
    "print(\"End: \" + datetime.now().strftime('%Y-%m-%d %H:%M:%S'))"
   ]
  },
  {
   "cell_type": "code",
   "execution_count": 371,
   "id": "9e54b365",
   "metadata": {},
   "outputs": [
    {
     "data": {
      "text/plain": [
       "array([[0.97758117, 1.01327741, 0.94936009, 0.97187178, 0.94854234,\n",
       "        0.95934617, 0.9377616 , 0.92598269, 0.93130779, 0.93504668],\n",
       "       [0.94253028, 0.94164143, 0.91521846, 0.91589856, 0.93832722,\n",
       "        0.9582103 , 0.98124976, 0.9432786 , 0.91419366, 0.93908724],\n",
       "       [0.93593677, 0.93690993, 0.90570727, 0.95354508, 0.94601436,\n",
       "        0.94356452, 0.95726787, 0.92012001, 0.93020721, 0.93910258],\n",
       "       [0.92018168, 0.91873459, 0.95311422, 0.91002868, 0.93907102,\n",
       "        0.93133529, 0.94809213, 0.92134773, 0.92875073, 0.94525855],\n",
       "       [0.893219  , 0.94257702, 0.96099436, 0.93237124, 0.93031531,\n",
       "        0.91312965, 0.91957621, 0.99789152, 0.93333444, 0.92334903],\n",
       "       [0.94495436, 0.9592738 , 0.90387631, 0.95527558, 0.92957544,\n",
       "        0.934544  , 0.94674659, 0.95047202, 0.94158766, 0.92163312],\n",
       "       [0.96679204, 0.948391  , 0.92161818, 0.96601082, 0.91028957,\n",
       "        0.94227425, 0.9523909 , 0.95403844, 0.94865986, 0.9416869 ],\n",
       "       [0.97364732, 0.93958764, 0.90014152, 0.91073742, 0.92469872,\n",
       "        0.94456582, 0.97021449, 0.90086937, 0.92508956, 0.95007379],\n",
       "       [0.92893084, 0.99321904, 0.93165431, 0.90435162, 0.92317131,\n",
       "        0.92999748, 0.93414959, 0.9266171 , 0.91079291, 0.94742107],\n",
       "       [0.9280556 , 0.9122784 , 0.91485005, 0.9178646 , 0.92631957,\n",
       "        0.9111906 , 0.97236748, 0.97160691, 0.91792725, 0.93235825],\n",
       "       [0.90861532, 0.95005668, 0.90832459, 0.92567559, 0.92099124,\n",
       "        0.94025418, 0.94620574, 0.92396726, 0.88106207, 0.93804159]])"
      ]
     },
     "execution_count": 371,
     "metadata": {},
     "output_type": "execute_result"
    }
   ],
   "source": [
    "max_centroid_list_grid"
   ]
  },
  {
   "cell_type": "code",
   "execution_count": 372,
   "id": "5deb1d7c",
   "metadata": {},
   "outputs": [
    {
     "name": "stdout",
     "output_type": "stream",
     "text": [
      "End: 2025-07-14 18:15:27\n",
      "Plotting resulting graph...\n",
      "Plotting baseline 1...\n",
      "End: 2025-07-14 18:15:27\n"
     ]
    },
    {
     "data": {
      "image/png": "[encoded data removed]",
      "text/plain": [
       "<Figure size 432x288 with 1 Axes>"
      ]
     },
     "metadata": {
      "needs_background": "light"
     },
     "output_type": "display_data"
    }
   ],
   "source": [
    "# Plot the graphs of average rewards during testing phases of the policy\n",
    "# gradient method and the hand-crafted policies\n",
    "\n",
    "print(\"End: \" + datetime.now().strftime('%Y-%m-%d %H:%M:%S'))\n",
    "\n",
    "max_centroid_list_grid = [np.array(avg_centroid_max_2)[sel_index_2],\n",
    "                        np.array(avg_centroid_max_7)[sel_index_7],\n",
    "                        np.array(avg_centroid_max_8)[sel_index_8],\n",
    "                        np.array(avg_centroid_max_9)[sel_index_9],\n",
    "                        np.array(avg_centroid_max_10)[sel_index_10],\n",
    "                        np.array(avg_centroid_max_11)[sel_index_11],\n",
    "                        np.array(avg_centroid_max_12)[sel_index_12],\n",
    "                        np.array(avg_centroid_max_13)[sel_index_13],\n",
    "                        np.array(avg_centroid_max_14)[sel_index_14],\n",
    "                        np.array(avg_centroid_max_15)[sel_index_15],\n",
    "                        np.array(avg_centroid_max_16)[sel_index_16]]\n",
    "max_centroid_mean_grid = []\n",
    "max_centroid_std_grid = []\n",
    "for ii in range(len(location_reward_unit_list)):\n",
    "    max_centroid_mean_grid.append(np.mean(max_centroid_list_grid[ii]))\n",
    "    max_centroid_std_grid.append(np.std(max_centroid_list_grid[ii]))\n",
    "\n",
    "print(\"Plotting resulting graph...\")\n",
    "# plt.figure(figsize = (12, 9))\n",
    "l1 = plt.errorbar(location_reward_unit_list, max_centroid_mean_grid, yerr=max_centroid_std_grid, fmt='o-', capsize=5) # ecolor='gray', \n",
    "\n",
    "print(\"Plotting baseline 1...\")\n",
    "# plt.legend(loc='best',prop={'size': 10})\n",
    "plt.ylabel(\"Centroid shift\")\n",
    "plt.xlabel(\"location_reward_unit\")\n",
    "\n",
    "print(\"End: \" + datetime.now().strftime('%Y-%m-%d %H:%M:%S'))"
   ]
  },
  {
   "cell_type": "code",
   "execution_count": 373,
   "id": "21e988a6",
   "metadata": {},
   "outputs": [
    {
     "name": "stdout",
     "output_type": "stream",
     "text": [
      "End: 2025-07-14 18:15:28\n",
      "Plotting resulting graph...\n",
      "Plotting baseline 1...\n",
      "End: 2025-07-14 18:15:28\n"
     ]
    },
    {
     "data": {
      "image/png": "[encoded data removed]",
      "text/plain": [
       "<Figure size 432x288 with 1 Axes>"
      ]
     },
     "metadata": {
      "needs_background": "light"
     },
     "output_type": "display_data"
    }
   ],
   "source": [
    "# Plot the graphs of average rewards during testing phases of the policy\n",
    "# gradient method and the hand-crafted policies\n",
    "\n",
    "print(\"End: \" + datetime.now().strftime('%Y-%m-%d %H:%M:%S'))\n",
    "\n",
    "max_dispersion_list_grid = np.array([avg_dispersion_max_2,\n",
    "                                avg_dispersion_max_7,\n",
    "                                avg_dispersion_max_8,\n",
    "                                avg_dispersion_max_9,\n",
    "                                avg_dispersion_max_10,\n",
    "                                avg_dispersion_max_11,\n",
    "                                avg_dispersion_max_12,\n",
    "                                avg_dispersion_max_13,\n",
    "                                avg_dispersion_max_14,\n",
    "                                avg_dispersion_max_15,\n",
    "                                avg_dispersion_max_16])\n",
    "max_dispersion_mean_grid = np.mean(max_dispersion_list_grid, axis=1)\n",
    "max_dispersion_std_grid = np.std(max_dispersion_list_grid, axis=1)\n",
    "\n",
    "print(\"Plotting resulting graph...\")\n",
    "# plt.figure(figsize = (12, 9))\n",
    "l1 = plt.errorbar(location_reward_unit_list, max_dispersion_mean_grid, yerr=max_dispersion_std_grid, fmt='o-', capsize=5) # ecolor='gray', \n",
    "\n",
    "print(\"Plotting baseline 1...\")\n",
    "# plt.legend(loc='best',prop={'size': 10})\n",
    "plt.ylabel(\"Dispersion shift\")\n",
    "plt.xlabel(\"location_reward_unit\")\n",
    "\n",
    "print(\"End: \" + datetime.now().strftime('%Y-%m-%d %H:%M:%S'))"
   ]
  },
  {
   "cell_type": "code",
   "execution_count": 374,
   "id": "54f7cb21",
   "metadata": {},
   "outputs": [
    {
     "data": {
      "text/plain": [
       "array([[-1.7873192 , -1.77377116, -1.70122935, -1.67115769, -1.75943148,\n",
       "        -1.74824309, -1.74683597, -1.74491501, -1.64486783, -1.668427  ],\n",
       "       [-1.67211372, -1.74171181, -1.72950219, -1.70436603, -1.75785353,\n",
       "        -1.71758514, -1.59569373, -1.71667855, -1.81021724, -1.68579839],\n",
       "       [-1.67911795, -1.70434698, -1.7492162 , -1.7102576 , -1.70386589,\n",
       "        -1.6939704 , -1.72993498, -1.7296936 , -1.68735628, -1.75459932],\n",
       "       [-1.69262701, -1.70589504, -1.70088233, -1.7009624 , -1.74970176,\n",
       "        -1.7056744 , -1.69947716, -1.77873093, -1.75375022, -1.71009948],\n",
       "       [-1.72074098, -1.81597776, -1.69753018, -1.70102752, -1.74485068,\n",
       "        -1.72772071, -1.70816969, -1.65538695, -1.71573999, -1.74630371],\n",
       "       [-1.74335214, -1.75826283, -1.73621105, -1.74588473, -1.74654848,\n",
       "        -1.76095201, -1.71828031, -1.75262693, -1.7456648 , -1.72296527],\n",
       "       [-1.75406356, -1.75501439, -1.70594736, -1.68997711, -1.70781728,\n",
       "        -1.69854564, -1.73320582, -1.74637066, -1.72621126, -1.69770571],\n",
       "       [-1.68593572, -1.75606665, -1.76149769, -1.79763188, -1.73592562,\n",
       "        -1.70833809, -1.77659399, -1.7039023 , -1.66707376, -1.69506565],\n",
       "       [-1.68927657, -1.67186   , -1.74151916, -1.70864833, -1.74251602,\n",
       "        -1.66929942, -1.73364831, -1.73836863, -1.74910015, -1.7912931 ],\n",
       "       [-1.72802494, -1.73019025, -1.73189471, -1.71820457, -1.7148874 ,\n",
       "        -1.73904503, -1.68676875, -1.7418048 , -1.75641688, -1.76724799],\n",
       "       [-1.70360683, -1.76638557, -1.76101253, -1.7384615 , -1.72849532,\n",
       "        -1.75291289, -1.78249125, -1.7616628 , -1.63354237, -1.69395777]])"
      ]
     },
     "execution_count": 374,
     "metadata": {},
     "output_type": "execute_result"
    }
   ],
   "source": [
    "max_dispersion_list_grid"
   ]
  },
  {
   "cell_type": "code",
   "execution_count": 375,
   "id": "e7eadbf8",
   "metadata": {},
   "outputs": [
    {
     "name": "stdout",
     "output_type": "stream",
     "text": [
      "End: 2025-07-14 18:15:31\n",
      "Plotting resulting graph...\n",
      "Plotting baseline 1...\n",
      "End: 2025-07-14 18:15:31\n"
     ]
    },
    {
     "data": {
      "image/png": "[encoded data removed]",
      "text/plain": [
       "<Figure size 432x288 with 1 Axes>"
      ]
     },
     "metadata": {
      "needs_background": "light"
     },
     "output_type": "display_data"
    }
   ],
   "source": [
    "# Plot the graphs of average rewards during testing phases of the policy\n",
    "# gradient method and the hand-crafted policies\n",
    "\n",
    "print(\"End: \" + datetime.now().strftime('%Y-%m-%d %H:%M:%S'))\n",
    "\n",
    "max_dispersion_list_grid = [np.array(avg_dispersion_max_2)[sel_index_2],\n",
    "                        np.array(avg_dispersion_max_7)[sel_index_7],\n",
    "                        np.array(avg_dispersion_max_8)[sel_index_8],\n",
    "                        np.array(avg_dispersion_max_9)[sel_index_9],\n",
    "                        np.array(avg_dispersion_max_10)[sel_index_10],\n",
    "                        np.array(avg_dispersion_max_11)[sel_index_11],\n",
    "                        np.array(avg_dispersion_max_12)[sel_index_12],\n",
    "                        np.array(avg_dispersion_max_13)[sel_index_13],\n",
    "                        np.array(avg_dispersion_max_14)[sel_index_14],\n",
    "                        np.array(avg_dispersion_max_15)[sel_index_15],\n",
    "                        np.array(avg_dispersion_max_16)[sel_index_16]]\n",
    "max_dispersion_mean_grid = []\n",
    "max_dispersion_std_grid = []\n",
    "for ii in range(len(location_reward_unit_list)):\n",
    "    max_dispersion_mean_grid.append(np.mean(max_dispersion_list_grid[ii]))\n",
    "    max_dispersion_std_grid.append(np.std(max_dispersion_list_grid[ii]))\n",
    "\n",
    "print(\"Plotting resulting graph...\")\n",
    "# plt.figure(figsize = (12, 9))\n",
    "l1 = plt.errorbar(location_reward_unit_list, max_dispersion_mean_grid, yerr=max_dispersion_std_grid, fmt='o-', capsize=5) # ecolor='gray', \n",
    "\n",
    "print(\"Plotting baseline 1...\")\n",
    "# plt.legend(loc='best',prop={'size': 10})\n",
    "plt.ylabel(\"Dispersion shift\")\n",
    "plt.xlabel(\"location_reward_unit\")\n",
    "\n",
    "print(\"End: \" + datetime.now().strftime('%Y-%m-%d %H:%M:%S'))"
   ]
  },
  {
   "cell_type": "code",
   "execution_count": 376,
   "id": "3462e67e",
   "metadata": {},
   "outputs": [
    {
     "name": "stdout",
     "output_type": "stream",
     "text": [
      "End: 2025-07-14 18:15:32\n",
      "Plotting resulting graph...\n",
      "Plotting baseline 1...\n",
      "End: 2025-07-14 18:15:32\n"
     ]
    },
    {
     "data": {
      "image/png": "[encoded data removed]",
      "text/plain": [
       "<Figure size 432x288 with 1 Axes>"
      ]
     },
     "metadata": {
      "needs_background": "light"
     },
     "output_type": "display_data"
    }
   ],
   "source": [
    "# Plot the graphs of average rewards during testing phases of the policy\n",
    "# gradient method and the hand-crafted policies\n",
    "\n",
    "print(\"End: \" + datetime.now().strftime('%Y-%m-%d %H:%M:%S'))\n",
    "\n",
    "max_kl_list_grid = np.array([avg_kl_max_2,\n",
    "                                avg_kl_max_7,\n",
    "                                avg_kl_max_8,\n",
    "                                avg_kl_max_9,\n",
    "                                avg_kl_max_10,\n",
    "                                avg_kl_max_11,\n",
    "                                avg_kl_max_12,\n",
    "                                avg_kl_max_13,\n",
    "                                avg_kl_max_14,\n",
    "                                avg_kl_max_15,\n",
    "                                avg_kl_max_16])\n",
    "max_kl_mean_grid = np.mean(max_kl_list_grid, axis=1)\n",
    "max_kl_std_grid = np.std(max_kl_list_grid, axis=1)\n",
    "\n",
    "print(\"Plotting resulting graph...\")\n",
    "# plt.figure(figsize = (12, 9))\n",
    "l1 = plt.errorbar(location_reward_unit_list, max_kl_mean_grid, yerr=max_kl_std_grid, fmt='o-', capsize=5) # ecolor='gray', \n",
    "\n",
    "print(\"Plotting baseline 1...\")\n",
    "# plt.legend(loc='best',prop={'size': 10})\n",
    "plt.ylabel(\"KL divergence\")\n",
    "plt.xlabel(\"location_reward_unit\")\n",
    "\n",
    "print(\"End: \" + datetime.now().strftime('%Y-%m-%d %H:%M:%S'))"
   ]
  },
  {
   "cell_type": "code",
   "execution_count": 377,
   "id": "de88d769",
   "metadata": {},
   "outputs": [
    {
     "data": {
      "text/plain": [
       "array([[0.8090154 , 0.85568598, 0.83974411, 0.82605285, 0.78962662,\n",
       "        0.73209374, 0.82185253, 0.81756196, 0.80934473, 0.89508359],\n",
       "       [0.82932909, 0.82308971, 0.83367491, 0.85345288, 0.8326606 ,\n",
       "        0.81890215, 0.79669574, 0.8258867 , 0.76737184, 0.84085975],\n",
       "       [0.85986419, 0.81775554, 0.82007693, 0.81000081, 0.85860427,\n",
       "        0.84159595, 0.83444486, 0.82103836, 0.85429003, 0.7987419 ],\n",
       "       [0.83897954, 0.8509263 , 0.82566847, 0.84136486, 0.84147453,\n",
       "        0.86003304, 0.86618692, 0.8086348 , 0.83148302, 0.85030181],\n",
       "       [0.85205872, 0.79234903, 0.81622035, 0.82927123, 0.83622108,\n",
       "        0.82350257, 0.83357532, 0.83224862, 0.8533896 , 0.84843209],\n",
       "       [0.83126716, 0.81456123, 0.83693473, 0.85408231, 0.82529061,\n",
       "        0.83968931, 0.844555  , 0.84397156, 0.82280098, 0.82659422],\n",
       "       [0.82512743, 0.81927682, 0.85089569, 0.82998887, 0.85493967,\n",
       "        0.83340408, 0.80387128, 0.82925671, 0.83780507, 0.87857949],\n",
       "       [0.85726544, 0.81261182, 0.8524155 , 0.80939619, 0.84743114,\n",
       "        0.8681365 , 0.81748448, 0.84211526, 0.81754213, 0.87765405],\n",
       "       [0.82767003, 0.8363243 , 0.85309062, 0.81651522, 0.83215674,\n",
       "        0.82699123, 0.83677168, 0.83298519, 0.87463942, 0.81963804],\n",
       "       [0.8246088 , 0.83217969, 0.80215842, 0.83418904, 0.83879515,\n",
       "        0.81684961, 0.85736027, 0.83336223, 0.829324  , 0.82803833],\n",
       "       [0.85150237, 0.82217735, 0.81815032, 0.82439355, 0.83490933,\n",
       "        0.82276972, 0.81252726, 0.81559238, 0.88089161, 0.81142294]])"
      ]
     },
     "execution_count": 377,
     "metadata": {},
     "output_type": "execute_result"
    }
   ],
   "source": [
    "max_kl_list_grid"
   ]
  },
  {
   "cell_type": "code",
   "execution_count": 378,
   "id": "5c7576f9",
   "metadata": {},
   "outputs": [
    {
     "name": "stdout",
     "output_type": "stream",
     "text": [
      "End: 2025-07-14 18:15:34\n",
      "Plotting resulting graph...\n",
      "Plotting baseline 1...\n",
      "End: 2025-07-14 18:15:34\n"
     ]
    },
    {
     "data": {
      "image/png": "[encoded data removed]",
      "text/plain": [
       "<Figure size 432x288 with 1 Axes>"
      ]
     },
     "metadata": {
      "needs_background": "light"
     },
     "output_type": "display_data"
    }
   ],
   "source": [
    "# Plot the graphs of average rewards during testing phases of the policy\n",
    "# gradient method and the hand-crafted policies\n",
    "\n",
    "print(\"End: \" + datetime.now().strftime('%Y-%m-%d %H:%M:%S'))\n",
    "\n",
    "max_kl_list_grid = [np.array(avg_kl_max_2)[sel_index_2],\n",
    "                        np.array(avg_kl_max_7)[sel_index_7],\n",
    "                        np.array(avg_kl_max_8)[sel_index_8],\n",
    "                        np.array(avg_kl_max_9)[sel_index_9],\n",
    "                        np.array(avg_kl_max_10)[sel_index_10],\n",
    "                        np.array(avg_kl_max_11)[sel_index_11],\n",
    "                        np.array(avg_kl_max_12)[sel_index_12],\n",
    "                        np.array(avg_kl_max_13)[sel_index_13],\n",
    "                        np.array(avg_kl_max_14)[sel_index_14],\n",
    "                        np.array(avg_kl_max_15)[sel_index_15],\n",
    "                        np.array(avg_kl_max_16)[sel_index_16]]\n",
    "max_kl_mean_grid = []\n",
    "max_kl_std_grid = []\n",
    "for ii in range(len(location_reward_unit_list)):\n",
    "    max_kl_mean_grid.append(np.mean(max_kl_list_grid[ii]))\n",
    "    max_kl_std_grid.append(np.std(max_kl_list_grid[ii]))\n",
    "\n",
    "print(\"Plotting resulting graph...\")\n",
    "# plt.figure(figsize = (12, 9))\n",
    "l1 = plt.errorbar(location_reward_unit_list, max_kl_mean_grid, yerr=max_kl_std_grid, fmt='o-', capsize=5) # ecolor='gray', \n",
    "\n",
    "print(\"Plotting baseline 1...\")\n",
    "# plt.legend(loc='best',prop={'size': 10})\n",
    "plt.ylabel(\"KL divergence\")\n",
    "plt.xlabel(\"location_reward_unit\")\n",
    "\n",
    "print(\"End: \" + datetime.now().strftime('%Y-%m-%d %H:%M:%S'))"
   ]
  },
  {
   "cell_type": "code",
   "execution_count": null,
   "id": "85520208",
   "metadata": {},
   "outputs": [],
   "source": []
  }
 ],
 "metadata": {
  "kernelspec": {
   "display_name": "Python 3 (ipykernel)",
   "language": "python",
   "name": "python3"
  },
  "language_info": {
   "codemirror_mode": {
    "name": "ipython",
    "version": 3
   },
   "file_extension": ".py",
   "mimetype": "text/x-python",
   "name": "python",
   "nbconvert_exporter": "python",
   "pygments_lexer": "ipython3",
   "version": "3.9.12"
  }
 },
 "nbformat": 4,
 "nbformat_minor": 5
}

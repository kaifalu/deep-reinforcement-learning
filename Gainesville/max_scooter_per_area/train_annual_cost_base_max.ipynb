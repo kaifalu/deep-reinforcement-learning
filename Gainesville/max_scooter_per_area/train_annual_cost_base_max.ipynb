{
 "cells": [
  {
   "cell_type": "markdown",
   "id": "203270d1",
   "metadata": {},
   "source": [
    "### Import"
   ]
  },
  {
   "cell_type": "code",
   "execution_count": 1,
   "id": "3f4333d3",
   "metadata": {},
   "outputs": [
    {
     "name": "stdout",
     "output_type": "stream",
     "text": [
      "Start: 2025-07-09 14:31:37\n"
     ]
    }
   ],
   "source": [
    "import sys\n",
    "import os\n",
    "import matplotlib.pyplot as plt\n",
    "from datetime import datetime, timedelta\n",
    "import pandas as pd\n",
    "import geopandas as gpd\n",
    "import numpy as np\n",
    "import matplotlib.pyplot as plt\n",
    "from shapely.geometry import Point, shape\n",
    "import seaborn as sns\n",
    "import random\n",
    "from mpl_toolkits.axes_grid1 import make_axes_locatable\n",
    "# import datetime\n",
    "\n",
    "sys.path.insert(0, '../..')\n",
    "\n",
    "print(\"Start: \" + datetime.now().strftime('%Y-%m-%d %H:%M:%S'))\n",
    "\n",
    "from network_v11_13_max import *\n",
    "from helper_v11_13_max import *"
   ]
  },
  {
   "cell_type": "markdown",
   "id": "a0dd7f1e",
   "metadata": {},
   "source": [
    "### Initialization"
   ]
  },
  {
   "cell_type": "markdown",
   "id": "ac6bac25",
   "metadata": {},
   "source": [
    "#### define agent and gnv boundary"
   ]
  },
  {
   "cell_type": "code",
   "execution_count": 2,
   "id": "f7d075cd",
   "metadata": {},
   "outputs": [
    {
     "data": {
      "text/html": [
       "<div>\n",
       "<style scoped>\n",
       "    .dataframe tbody tr th:only-of-type {\n",
       "        vertical-align: middle;\n",
       "    }\n",
       "\n",
       "    .dataframe tbody tr th {\n",
       "        vertical-align: top;\n",
       "    }\n",
       "\n",
       "    .dataframe thead th {\n",
       "        text-align: right;\n",
       "    }\n",
       "</style>\n",
       "<table border=\"1\" class=\"dataframe\">\n",
       "  <thead>\n",
       "    <tr style=\"text-align: right;\">\n",
       "      <th></th>\n",
       "      <th>level_0</th>\n",
       "      <th>index</th>\n",
       "      <th>latitude</th>\n",
       "      <th>longitude</th>\n",
       "      <th>departure_rate</th>\n",
       "      <th>arrival_rate</th>\n",
       "      <th>dist_transPOI</th>\n",
       "      <th>num_transPOI</th>\n",
       "      <th>dist_bus_stop</th>\n",
       "      <th>num_bus_stop</th>\n",
       "      <th>rider_test_list</th>\n",
       "      <th>geometry</th>\n",
       "    </tr>\n",
       "  </thead>\n",
       "  <tbody>\n",
       "    <tr>\n",
       "      <th>0</th>\n",
       "      <td>0</td>\n",
       "      <td>29</td>\n",
       "      <td>29.658570</td>\n",
       "      <td>-82.415016</td>\n",
       "      <td>0.022484</td>\n",
       "      <td>0.038544</td>\n",
       "      <td>0.081538</td>\n",
       "      <td>1.0</td>\n",
       "      <td>0.030854</td>\n",
       "      <td>1.0</td>\n",
       "      <td>0</td>\n",
       "      <td>POINT (-82.41501609853275 29.65857013179353)</td>\n",
       "    </tr>\n",
       "    <tr>\n",
       "      <th>1</th>\n",
       "      <td>1</td>\n",
       "      <td>30</td>\n",
       "      <td>29.660371</td>\n",
       "      <td>-82.414990</td>\n",
       "      <td>0.002141</td>\n",
       "      <td>0.005353</td>\n",
       "      <td>1.000000</td>\n",
       "      <td>0.0</td>\n",
       "      <td>1.000000</td>\n",
       "      <td>0.0</td>\n",
       "      <td>0</td>\n",
       "      <td>POINT (-82.4149895039865 29.660371378494247)</td>\n",
       "    </tr>\n",
       "    <tr>\n",
       "      <th>2</th>\n",
       "      <td>2</td>\n",
       "      <td>47</td>\n",
       "      <td>29.654944</td>\n",
       "      <td>-82.413000</td>\n",
       "      <td>0.001071</td>\n",
       "      <td>0.002141</td>\n",
       "      <td>1.000000</td>\n",
       "      <td>0.0</td>\n",
       "      <td>1.000000</td>\n",
       "      <td>0.0</td>\n",
       "      <td>0</td>\n",
       "      <td>POINT (-82.41300040184892 29.654944475167262)</td>\n",
       "    </tr>\n",
       "    <tr>\n",
       "      <th>3</th>\n",
       "      <td>3</td>\n",
       "      <td>48</td>\n",
       "      <td>29.656746</td>\n",
       "      <td>-82.412974</td>\n",
       "      <td>0.004283</td>\n",
       "      <td>0.008565</td>\n",
       "      <td>1.000000</td>\n",
       "      <td>0.0</td>\n",
       "      <td>1.000000</td>\n",
       "      <td>0.0</td>\n",
       "      <td>0</td>\n",
       "      <td>POINT (-82.41297377438231 29.65674571873145)</td>\n",
       "    </tr>\n",
       "    <tr>\n",
       "      <th>4</th>\n",
       "      <td>4</td>\n",
       "      <td>49</td>\n",
       "      <td>29.658547</td>\n",
       "      <td>-82.412947</td>\n",
       "      <td>0.078158</td>\n",
       "      <td>0.100642</td>\n",
       "      <td>1.000000</td>\n",
       "      <td>0.0</td>\n",
       "      <td>1.000000</td>\n",
       "      <td>0.0</td>\n",
       "      <td>1</td>\n",
       "      <td>POINT (-82.41294714602218 29.6585469636598)</td>\n",
       "    </tr>\n",
       "  </tbody>\n",
       "</table>\n",
       "</div>"
      ],
      "text/plain": [
       "   level_0  index   latitude  longitude  departure_rate  arrival_rate  \\\n",
       "0        0     29  29.658570 -82.415016        0.022484      0.038544   \n",
       "1        1     30  29.660371 -82.414990        0.002141      0.005353   \n",
       "2        2     47  29.654944 -82.413000        0.001071      0.002141   \n",
       "3        3     48  29.656746 -82.412974        0.004283      0.008565   \n",
       "4        4     49  29.658547 -82.412947        0.078158      0.100642   \n",
       "\n",
       "   dist_transPOI  num_transPOI  dist_bus_stop  num_bus_stop  rider_test_list  \\\n",
       "0       0.081538           1.0       0.030854           1.0                0   \n",
       "1       1.000000           0.0       1.000000           0.0                0   \n",
       "2       1.000000           0.0       1.000000           0.0                0   \n",
       "3       1.000000           0.0       1.000000           0.0                0   \n",
       "4       1.000000           0.0       1.000000           0.0                1   \n",
       "\n",
       "                                        geometry  \n",
       "0   POINT (-82.41501609853275 29.65857013179353)  \n",
       "1   POINT (-82.4149895039865 29.660371378494247)  \n",
       "2  POINT (-82.41300040184892 29.654944475167262)  \n",
       "3   POINT (-82.41297377438231 29.65674571873145)  \n",
       "4    POINT (-82.41294714602218 29.6585469636598)  "
      ]
     },
     "execution_count": 2,
     "metadata": {},
     "output_type": "execute_result"
    }
   ],
   "source": [
    "fl_city_boundary = gpd.read_file('Map/fl_city_boundary.shp')\n",
    "Gainesville_boundary = fl_city_boundary.loc[fl_city_boundary['NAME'] == 'GAINESVILLE'].reset_index(drop=True)\n",
    "Gainesville_boundary['geometry'] = Gainesville_boundary['geometry'].to_crs('epsg:4326')\n",
    "\n",
    "grid_centroid_gdf = pd.read_csv('grid_centroid_gdf.csv')\n",
    "grid_centroid_gdf = grid_centroid_gdf.drop(columns = {'geometry'}, axis = 1)\n",
    "grid_centroid_gdf['geometry'] = grid_centroid_gdf[['longitude', 'latitude']].values.tolist()\n",
    "grid_centroid_gdf['geometry'] = grid_centroid_gdf['geometry'].apply(Point)\n",
    "\n",
    "grid_centroid_gdf = grid_centroid_gdf.loc[grid_centroid_gdf['departure_rate'] > 0].reset_index()\n",
    "\n",
    "grid_centroid_gdf.head()"
   ]
  },
  {
   "cell_type": "markdown",
   "id": "eb76019d",
   "metadata": {},
   "source": [
    "#### scooter-sharing system configure"
   ]
  },
  {
   "cell_type": "code",
   "execution_count": 3,
   "id": "380e0ff5",
   "metadata": {},
   "outputs": [],
   "source": [
    "service_areas = [] # replace stations\n",
    "for i in range (len(grid_centroid_gdf)):\n",
    "    service_areas.append((i, grid_centroid_gdf.geometry.iloc[i], grid_centroid_gdf.departure_rate.iloc[i], grid_centroid_gdf.arrival_rate.iloc[i]))\n",
    "\n",
    "# Parameter setups for the reward system and elements of the environment.\n",
    "docked_cost_per_deploy = 50/365 # each dock cost 500\n",
    "scooter_cost_per_deploy = 25/365 # each scooter 250\n",
    "no_scooter_penalty = 0.5 # 0.5\n",
    "reward_per_rider = 0.2 # 0.2\n",
    "nS = len(service_areas)\n",
    "equity_penalty = 100.0\n",
    "logistics_car_cost_per_mile = 1.0\n",
    "\n",
    "# dist_transPOI_penalty = 0.5\n",
    "# low_usage_penalty = 1\n",
    "# dist_bus_stop_penalty = 0.2\n",
    "# reward_bus_scooter_coverage = 0.2"
   ]
  },
  {
   "cell_type": "markdown",
   "id": "09b4e97b",
   "metadata": {},
   "source": [
    "#### RL model configure"
   ]
  },
  {
   "cell_type": "code",
   "execution_count": 4,
   "id": "09e74ce5",
   "metadata": {},
   "outputs": [],
   "source": [
    "# Parameter setups for the network and training process.\n",
    "learning_rate = 0.01\n",
    "n_iters = 25\n",
    "n_epochs = 500 # 2000\n",
    "display_step = 50 # 50\n",
    "batch_size = 256\n",
    "gamma = 0.9\n",
    "\n",
    "# The size of the state vector.\n",
    "nS = len(service_areas) # the number of service areas"
   ]
  },
  {
   "cell_type": "markdown",
   "id": "2ce3bd64",
   "metadata": {},
   "source": [
    "## MAX = 2"
   ]
  },
  {
   "cell_type": "code",
   "execution_count": 5,
   "id": "59b3076c",
   "metadata": {},
   "outputs": [
    {
     "name": "stdout",
     "output_type": "stream",
     "text": [
      "Starting policy gradient...\n",
      "Training in progress...\n",
      "Epoch 50, Average reward, unmet demand, met demand, scooter num, scooter loc, gini index unmet, gini index met, wANNR, moran, gini, theil, EMD, centroid change, dispersion change, kl divergence = -27.956, 63.800, 127.200, 142.200, 107.200, 0.986, 0.944, 0.426, 0.046, 0.935, 0.057, 1.842, 1.041, -1.526, 1.046\n",
      "Epoch 100, Average reward, unmet demand, met demand, scooter num, scooter loc, gini index unmet, gini index met, wANNR, moran, gini, theil, EMD, centroid change, dispersion change, kl divergence = -27.943, 63.600, 127.400, 142.400, 106.000, 0.986, 0.945, 0.427, 0.044, 0.936, 0.058, 1.826, 1.001, -1.516, 1.057\n",
      "Epoch 150, Average reward, unmet demand, met demand, scooter num, scooter loc, gini index unmet, gini index met, wANNR, moran, gini, theil, EMD, centroid change, dispersion change, kl divergence = -30.718, 68.800, 122.200, 138.400, 106.600, 0.985, 0.944, 0.421, 0.043, 0.935, 0.056, 1.796, 1.029, -1.481, 1.028\n",
      "Epoch 200, Average reward, unmet demand, met demand, scooter num, scooter loc, gini index unmet, gini index met, wANNR, moran, gini, theil, EMD, centroid change, dispersion change, kl divergence = -38.387, 78.200, 112.800, 144.400, 108.600, 0.980, 0.951, 0.430, 0.048, 0.935, 0.058, 1.851, 1.015, -1.551, 1.042\n",
      "Epoch 250, Average reward, unmet demand, met demand, scooter num, scooter loc, gini index unmet, gini index met, wANNR, moran, gini, theil, EMD, centroid change, dispersion change, kl divergence = -29.875, 66.800, 124.200, 141.600, 108.000, 0.985, 0.944, 0.425, 0.042, 0.935, 0.057, 1.774, 0.995, -1.436, 1.055\n",
      "Epoch 300, Average reward, unmet demand, met demand, scooter num, scooter loc, gini index unmet, gini index met, wANNR, moran, gini, theil, EMD, centroid change, dispersion change, kl divergence = -37.750, 78.400, 112.600, 140.200, 107.400, 0.980, 0.951, 0.423, 0.045, 0.935, 0.056, 1.810, 1.016, -1.480, 1.056\n",
      "Epoch 350, Average reward, unmet demand, met demand, scooter num, scooter loc, gini index unmet, gini index met, wANNR, moran, gini, theil, EMD, centroid change, dispersion change, kl divergence = -27.998, 64.000, 127.000, 140.600, 104.000, 0.985, 0.945, 0.424, 0.044, 0.938, 0.059, 1.845, 1.006, -1.530, 1.047\n",
      "Epoch 400, Average reward, unmet demand, met demand, scooter num, scooter loc, gini index unmet, gini index met, wANNR, moran, gini, theil, EMD, centroid change, dispersion change, kl divergence = -28.238, 65.200, 125.800, 137.400, 103.200, 0.986, 0.944, 0.419, 0.043, 0.938, 0.057, 1.845, 1.002, -1.542, 1.040\n",
      "Epoch 450, Average reward, unmet demand, met demand, scooter num, scooter loc, gini index unmet, gini index met, wANNR, moran, gini, theil, EMD, centroid change, dispersion change, kl divergence = -28.872, 65.400, 125.600, 141.000, 106.600, 0.985, 0.945, 0.425, 0.046, 0.936, 0.058, 1.855, 1.014, -1.549, 1.024\n",
      "Epoch 500, Average reward, unmet demand, met demand, scooter num, scooter loc, gini index unmet, gini index met, wANNR, moran, gini, theil, EMD, centroid change, dispersion change, kl divergence = -27.539, 63.600, 127.400, 139.800, 104.200, 0.986, 0.944, 0.423, 0.046, 0.937, 0.058, 1.855, 0.996, -1.536, 1.064\n"
     ]
    }
   ],
   "source": [
    "## tf.reset_default_graph() only works under tf 1.0\n",
    "max_scooter_per_area = 2\n",
    "\n",
    "# Set up the state-value estimator and policy estimator\n",
    "estimator_policy = PolicyEstimator(learning_rate, nS)\n",
    "estimator_value = StateValueEstimator(learning_rate, nS)\n",
    "\n",
    "rider_test_list = np.array(grid_centroid_gdf['rider_test_list'])\n",
    "\n",
    "# Initialize study area\n",
    "study_area = create_study_area(service_areas, max_scooter_per_area, scooter_cost_per_deploy, docked_cost_per_deploy, \\\n",
    "                   nS, no_scooter_penalty, reward_per_rider, equity_penalty, rider_test_list, logistics_car_cost_per_mile)\n",
    "\n",
    "# Add ops to save and restore all the variables\n",
    "\n",
    "print(\"Starting policy gradient...\")\n",
    "\n",
    "# Start training\n",
    "print(\"Training in progress...\")\n",
    "avg_reward_max_2, avg_unmet_demand_max_2, avg_met_demand_max_2, avg_scooter_num_max_2, avg_scooter_loc_max_2, avg_wANNR_max_2, avg_moran_max_2, avg_gini_max_2, avg_theil_max_2, avg_EMD_max_2, avg_centroid_max_2, avg_dispersion_max_2, avg_kl_max_2, scooter_list_max_2 = reinforce(study_area, nS, estimator_policy, estimator_value, n_epochs, n_iters, batch_size, display_step)"
   ]
  },
  {
   "cell_type": "markdown",
   "id": "d19ab151",
   "metadata": {},
   "source": [
    "## MAX = 3"
   ]
  },
  {
   "cell_type": "code",
   "execution_count": 6,
   "id": "ff1854b9",
   "metadata": {},
   "outputs": [
    {
     "name": "stdout",
     "output_type": "stream",
     "text": [
      "Starting policy gradient...\n",
      "Training in progress...\n",
      "Epoch 50, Average reward, unmet demand, met demand, scooter num, scooter loc, gini index unmet, gini index met, wANNR, moran, gini, theil, EMD, centroid change, dispersion change, kl divergence = -19.269, 46.400, 144.600, 157.800, 103.200, 0.988, 0.949, 0.449, 0.045, 0.943, 0.109, 1.936, 0.982, -1.652, 0.928\n",
      "Epoch 100, Average reward, unmet demand, met demand, scooter num, scooter loc, gini index unmet, gini index met, wANNR, moran, gini, theil, EMD, centroid change, dispersion change, kl divergence = -21.049, 49.400, 141.600, 156.800, 104.800, 0.988, 0.949, 0.448, 0.045, 0.942, 0.107, 1.902, 0.946, -1.591, 0.962\n",
      "Epoch 150, Average reward, unmet demand, met demand, scooter num, scooter loc, gini index unmet, gini index met, wANNR, moran, gini, theil, EMD, centroid change, dispersion change, kl divergence = -22.879, 52.200, 138.800, 156.800, 106.600, 0.986, 0.949, 0.448, 0.047, 0.941, 0.107, 1.914, 0.937, -1.630, 0.923\n",
      "Epoch 200, Average reward, unmet demand, met demand, scooter num, scooter loc, gini index unmet, gini index met, wANNR, moran, gini, theil, EMD, centroid change, dispersion change, kl divergence = -20.698, 47.200, 143.800, 164.200, 109.400, 0.989, 0.948, 0.458, 0.048, 0.940, 0.108, 1.905, 0.958, -1.602, 0.930\n",
      "Epoch 250, Average reward, unmet demand, met demand, scooter num, scooter loc, gini index unmet, gini index met, wANNR, moran, gini, theil, EMD, centroid change, dispersion change, kl divergence = -22.333, 52.400, 138.600, 152.200, 103.000, 0.987, 0.949, 0.441, 0.043, 0.943, 0.104, 1.897, 0.970, -1.603, 0.978\n",
      "Epoch 300, Average reward, unmet demand, met demand, scooter num, scooter loc, gini index unmet, gini index met, wANNR, moran, gini, theil, EMD, centroid change, dispersion change, kl divergence = -21.111, 49.800, 141.200, 155.600, 104.400, 0.988, 0.949, 0.446, 0.045, 0.942, 0.107, 1.902, 0.949, -1.616, 0.955\n",
      "Epoch 350, Average reward, unmet demand, met demand, scooter num, scooter loc, gini index unmet, gini index met, wANNR, moran, gini, theil, EMD, centroid change, dispersion change, kl divergence = -21.825, 50.800, 140.200, 155.600, 104.200, 0.987, 0.949, 0.446, 0.045, 0.942, 0.108, 1.918, 0.990, -1.622, 0.911\n",
      "Epoch 400, Average reward, unmet demand, met demand, scooter num, scooter loc, gini index unmet, gini index met, wANNR, moran, gini, theil, EMD, centroid change, dispersion change, kl divergence = -21.464, 49.800, 141.200, 157.600, 105.200, 0.988, 0.949, 0.449, 0.044, 0.942, 0.107, 1.899, 0.984, -1.606, 0.963\n",
      "Epoch 450, Average reward, unmet demand, met demand, scooter num, scooter loc, gini index unmet, gini index met, wANNR, moran, gini, theil, EMD, centroid change, dispersion change, kl divergence = -34.029, 69.000, 122.000, 153.200, 104.800, 0.980, 0.956, 0.442, 0.044, 0.942, 0.109, 1.918, 0.955, -1.637, 1.000\n",
      "Epoch 500, Average reward, unmet demand, met demand, scooter num, scooter loc, gini index unmet, gini index met, wANNR, moran, gini, theil, EMD, centroid change, dispersion change, kl divergence = -21.583, 49.600, 141.400, 159.000, 105.600, 0.988, 0.949, 0.451, 0.046, 0.942, 0.109, 1.915, 0.995, -1.623, 0.944\n"
     ]
    }
   ],
   "source": [
    "## tf.reset_default_graph() only works under tf 1.0\n",
    "max_scooter_per_area = 3\n",
    "\n",
    "# Set up the state-value estimator and policy estimator\n",
    "estimator_policy = PolicyEstimator(learning_rate, nS)\n",
    "estimator_value = StateValueEstimator(learning_rate, nS)\n",
    "\n",
    "rider_test_list = np.array(grid_centroid_gdf['rider_test_list'])\n",
    "\n",
    "# Initialize study area\n",
    "study_area = create_study_area(service_areas, max_scooter_per_area, scooter_cost_per_deploy, docked_cost_per_deploy, \\\n",
    "                   nS, no_scooter_penalty, reward_per_rider, equity_penalty, rider_test_list, logistics_car_cost_per_mile)\n",
    "\n",
    "# Add ops to save and restore all the variables\n",
    "\n",
    "print(\"Starting policy gradient...\")\n",
    "\n",
    "# Start training\n",
    "print(\"Training in progress...\")\n",
    "avg_reward_max_3, avg_unmet_demand_max_3, avg_met_demand_max_3, avg_scooter_num_max_3, avg_scooter_loc_max_3, avg_wANNR_max_3, avg_moran_max_3, avg_gini_max_3, avg_theil_max_3, avg_EMD_max_3, avg_centroid_max_3, avg_dispersion_max_3, avg_kl_max_3, scooter_list_max_3 = reinforce(study_area, nS, estimator_policy, estimator_value, n_epochs, n_iters, batch_size, display_step)"
   ]
  },
  {
   "cell_type": "markdown",
   "id": "327c6bf5",
   "metadata": {},
   "source": [
    "## MAX = 4"
   ]
  },
  {
   "cell_type": "code",
   "execution_count": 26,
   "id": "64b7497f",
   "metadata": {},
   "outputs": [
    {
     "name": "stdout",
     "output_type": "stream",
     "text": [
      "Starting policy gradient...\n",
      "Training in progress...\n",
      "Epoch 50, Average reward, unmet demand, met demand, scooter num, scooter loc, gini index unmet, gini index met, wANNR, moran, gini, theil, EMD, centroid change, dispersion change, kl divergence = -17.028, 40.600, 150.400, 167.000, 104.200, 0.988, 0.951, 0.463, 0.044, 0.946, 0.147, 1.987, 0.960, -1.724, 0.877\n",
      "Epoch 100, Average reward, unmet demand, met demand, scooter num, scooter loc, gini index unmet, gini index met, wANNR, moran, gini, theil, EMD, centroid change, dispersion change, kl divergence = -16.326, 39.600, 151.400, 167.200, 104.800, 0.988, 0.951, 0.463, 0.044, 0.945, 0.148, 1.958, 0.968, -1.661, 0.898\n",
      "Epoch 150, Average reward, unmet demand, met demand, scooter num, scooter loc, gini index unmet, gini index met, wANNR, moran, gini, theil, EMD, centroid change, dispersion change, kl divergence = -27.937, 56.400, 134.600, 167.600, 108.000, 0.982, 0.956, 0.463, 0.044, 0.943, 0.142, 1.929, 1.029, -1.614, 0.907\n",
      "Epoch 200, Average reward, unmet demand, met demand, scooter num, scooter loc, gini index unmet, gini index met, wANNR, moran, gini, theil, EMD, centroid change, dispersion change, kl divergence = -29.808, 59.600, 131.400, 165.800, 108.000, 0.982, 0.957, 0.460, 0.042, 0.943, 0.143, 1.884, 0.972, -1.586, 0.889\n",
      "Epoch 250, Average reward, unmet demand, met demand, scooter num, scooter loc, gini index unmet, gini index met, wANNR, moran, gini, theil, EMD, centroid change, dispersion change, kl divergence = -31.833, 63.600, 127.400, 161.400, 106.200, 0.981, 0.957, 0.454, 0.043, 0.943, 0.136, 1.919, 1.004, -1.626, 0.889\n",
      "Epoch 300, Average reward, unmet demand, met demand, scooter num, scooter loc, gini index unmet, gini index met, wANNR, moran, gini, theil, EMD, centroid change, dispersion change, kl divergence = -21.752, 50.000, 141.000, 158.600, 106.000, 0.986, 0.950, 0.450, 0.040, 0.943, 0.129, 1.889, 0.974, -1.587, 0.913\n",
      "Epoch 350, Average reward, unmet demand, met demand, scooter num, scooter loc, gini index unmet, gini index met, wANNR, moran, gini, theil, EMD, centroid change, dispersion change, kl divergence = -17.312, 41.400, 149.600, 165.800, 104.600, 0.989, 0.951, 0.460, 0.043, 0.945, 0.144, 1.933, 0.961, -1.649, 0.896\n",
      "Epoch 400, Average reward, unmet demand, met demand, scooter num, scooter loc, gini index unmet, gini index met, wANNR, moran, gini, theil, EMD, centroid change, dispersion change, kl divergence = -17.206, 40.400, 150.600, 169.600, 107.200, 0.988, 0.952, 0.466, 0.046, 0.944, 0.143, 1.956, 0.926, -1.671, 0.892\n",
      "Epoch 450, Average reward, unmet demand, met demand, scooter num, scooter loc, gini index unmet, gini index met, wANNR, moran, gini, theil, EMD, centroid change, dispersion change, kl divergence = -16.208, 38.800, 152.200, 169.000, 103.800, 0.988, 0.952, 0.465, 0.043, 0.946, 0.149, 1.960, 0.976, -1.669, 0.885\n",
      "Epoch 500, Average reward, unmet demand, met demand, scooter num, scooter loc, gini index unmet, gini index met, wANNR, moran, gini, theil, EMD, centroid change, dispersion change, kl divergence = -16.639, 40.400, 150.600, 166.000, 104.800, 0.988, 0.952, 0.461, 0.043, 0.945, 0.145, 1.943, 0.972, -1.663, 0.897\n"
     ]
    }
   ],
   "source": [
    "## tf.reset_default_graph() only works under tf 1.0\n",
    "max_scooter_per_area = 4\n",
    "\n",
    "# Set up the state-value estimator and policy estimator\n",
    "estimator_policy = PolicyEstimator(learning_rate, nS)\n",
    "estimator_value = StateValueEstimator(learning_rate, nS)\n",
    "\n",
    "rider_test_list = np.array(grid_centroid_gdf['rider_test_list'])\n",
    "\n",
    "# Initialize study area\n",
    "study_area = create_study_area(service_areas, max_scooter_per_area, scooter_cost_per_deploy, docked_cost_per_deploy, \\\n",
    "                   nS, no_scooter_penalty, reward_per_rider, equity_penalty, rider_test_list, logistics_car_cost_per_mile)\n",
    "\n",
    "# Add ops to save and restore all the variables\n",
    "\n",
    "print(\"Starting policy gradient...\")\n",
    "\n",
    "# Start training\n",
    "print(\"Training in progress...\")\n",
    "avg_reward_max_4, avg_unmet_demand_max_4, avg_met_demand_max_4, avg_scooter_num_max_4, avg_scooter_loc_max_4, avg_wANNR_max_4, avg_moran_max_4, avg_gini_max_4, avg_theil_max_4, avg_EMD_max_4, avg_centroid_max_4, avg_dispersion_max_4, avg_kl_max_4, scooter_list_max_4 = reinforce(study_area, nS, estimator_policy, estimator_value, n_epochs, n_iters, batch_size, display_step)"
   ]
  },
  {
   "cell_type": "markdown",
   "id": "c37f7c91",
   "metadata": {},
   "source": [
    "## MAX = 5"
   ]
  },
  {
   "cell_type": "code",
   "execution_count": 8,
   "id": "88fdef7a",
   "metadata": {},
   "outputs": [
    {
     "name": "stdout",
     "output_type": "stream",
     "text": [
      "Starting policy gradient...\n",
      "Training in progress...\n",
      "Epoch 50, Average reward, unmet demand, met demand, scooter num, scooter loc, gini index unmet, gini index met, wANNR, moran, gini, theil, EMD, centroid change, dispersion change, kl divergence = -22.986, 49.400, 141.600, 168.400, 111.000, 0.984, 0.952, 0.464, 0.041, 0.942, 0.164, 1.915, 0.986, -1.627, 0.824\n",
      "Epoch 100, Average reward, unmet demand, met demand, scooter num, scooter loc, gini index unmet, gini index met, wANNR, moran, gini, theil, EMD, centroid change, dispersion change, kl divergence = -14.668, 35.400, 155.600, 174.000, 106.400, 0.989, 0.953, 0.472, 0.043, 0.946, 0.170, 1.984, 0.931, -1.716, 0.881\n",
      "Epoch 150, Average reward, unmet demand, met demand, scooter num, scooter loc, gini index unmet, gini index met, wANNR, moran, gini, theil, EMD, centroid change, dispersion change, kl divergence = -15.178, 35.800, 155.200, 175.400, 107.200, 0.989, 0.952, 0.473, 0.044, 0.945, 0.170, 1.987, 0.961, -1.706, 0.846\n",
      "Epoch 200, Average reward, unmet demand, met demand, scooter num, scooter loc, gini index unmet, gini index met, wANNR, moran, gini, theil, EMD, centroid change, dispersion change, kl divergence = -23.655, 49.800, 141.200, 168.400, 105.600, 0.983, 0.957, 0.464, 0.040, 0.946, 0.168, 1.945, 0.960, -1.653, 0.842\n",
      "Epoch 250, Average reward, unmet demand, met demand, scooter num, scooter loc, gini index unmet, gini index met, wANNR, moran, gini, theil, EMD, centroid change, dispersion change, kl divergence = -17.630, 40.800, 150.200, 169.600, 105.200, 0.987, 0.952, 0.466, 0.043, 0.946, 0.169, 2.001, 0.935, -1.721, 0.838\n",
      "Epoch 300, Average reward, unmet demand, met demand, scooter num, scooter loc, gini index unmet, gini index met, wANNR, moran, gini, theil, EMD, centroid change, dispersion change, kl divergence = -15.703, 36.800, 154.200, 174.200, 106.200, 0.989, 0.953, 0.472, 0.041, 0.946, 0.172, 1.962, 0.954, -1.687, 0.865\n",
      "Epoch 350, Average reward, unmet demand, met demand, scooter num, scooter loc, gini index unmet, gini index met, wANNR, moran, gini, theil, EMD, centroid change, dispersion change, kl divergence = -15.097, 36.600, 154.400, 172.000, 106.400, 0.989, 0.952, 0.469, 0.040, 0.945, 0.167, 1.941, 0.975, -1.668, 0.883\n",
      "Epoch 400, Average reward, unmet demand, met demand, scooter num, scooter loc, gini index unmet, gini index met, wANNR, moran, gini, theil, EMD, centroid change, dispersion change, kl divergence = -18.522, 42.400, 148.600, 169.400, 107.800, 0.987, 0.951, 0.465, 0.045, 0.943, 0.153, 1.961, 0.934, -1.686, 0.856\n",
      "Epoch 450, Average reward, unmet demand, met demand, scooter num, scooter loc, gini index unmet, gini index met, wANNR, moran, gini, theil, EMD, centroid change, dispersion change, kl divergence = -14.408, 35.800, 155.200, 170.600, 104.200, 0.988, 0.953, 0.467, 0.040, 0.947, 0.173, 1.965, 0.938, -1.696, 0.868\n",
      "Epoch 500, Average reward, unmet demand, met demand, scooter num, scooter loc, gini index unmet, gini index met, wANNR, moran, gini, theil, EMD, centroid change, dispersion change, kl divergence = -16.014, 38.800, 152.200, 168.200, 104.200, 0.988, 0.953, 0.464, 0.041, 0.946, 0.167, 1.962, 0.956, -1.686, 0.888\n"
     ]
    }
   ],
   "source": [
    "## tf.reset_default_graph() only works under tf 1.0\n",
    "max_scooter_per_area = 5\n",
    "\n",
    "# Set up the state-value estimator and policy estimator\n",
    "estimator_policy = PolicyEstimator(learning_rate, nS)\n",
    "estimator_value = StateValueEstimator(learning_rate, nS)\n",
    "\n",
    "rider_test_list = np.array(grid_centroid_gdf['rider_test_list'])\n",
    "\n",
    "# Initialize study area\n",
    "study_area = create_study_area(service_areas, max_scooter_per_area, scooter_cost_per_deploy, docked_cost_per_deploy, \\\n",
    "                   nS, no_scooter_penalty, reward_per_rider, equity_penalty, rider_test_list, logistics_car_cost_per_mile)\n",
    "\n",
    "# Add ops to save and restore all the variables\n",
    "\n",
    "print(\"Starting policy gradient...\")\n",
    "\n",
    "# Start training\n",
    "print(\"Training in progress...\")\n",
    "avg_reward_max_5, avg_unmet_demand_max_5, avg_met_demand_max_5, avg_scooter_num_max_5, avg_scooter_loc_max_5, avg_wANNR_max_5, avg_moran_max_5, avg_gini_max_5, avg_theil_max_5, avg_EMD_max_5, avg_centroid_max_5, avg_dispersion_max_5, avg_kl_max_5, scooter_list_max_5 = reinforce(study_area, nS, estimator_policy, estimator_value, n_epochs, n_iters, batch_size, display_step)"
   ]
  },
  {
   "cell_type": "markdown",
   "id": "1ba3f84b",
   "metadata": {},
   "source": [
    "## MAX = 6"
   ]
  },
  {
   "cell_type": "code",
   "execution_count": 9,
   "id": "5de8377d",
   "metadata": {},
   "outputs": [
    {
     "name": "stdout",
     "output_type": "stream",
     "text": [
      "Starting policy gradient...\n",
      "Training in progress...\n",
      "Epoch 50, Average reward, unmet demand, met demand, scooter num, scooter loc, gini index unmet, gini index met, wANNR, moran, gini, theil, EMD, centroid change, dispersion change, kl divergence = -13.317, 33.400, 157.600, 173.400, 104.000, 0.988, 0.954, 0.471, 0.042, 0.948, 0.194, 2.030, 0.939, -1.758, 0.842\n",
      "Epoch 100, Average reward, unmet demand, met demand, scooter num, scooter loc, gini index unmet, gini index met, wANNR, moran, gini, theil, EMD, centroid change, dispersion change, kl divergence = -14.144, 35.400, 155.600, 170.400, 103.400, 0.988, 0.953, 0.466, 0.041, 0.948, 0.182, 1.990, 0.934, -1.704, 0.877\n",
      "Epoch 150, Average reward, unmet demand, met demand, scooter num, scooter loc, gini index unmet, gini index met, wANNR, moran, gini, theil, EMD, centroid change, dispersion change, kl divergence = -12.984, 31.400, 159.600, 178.800, 104.600, 0.989, 0.954, 0.478, 0.041, 0.948, 0.197, 2.014, 0.965, -1.740, 0.810\n",
      "Epoch 200, Average reward, unmet demand, met demand, scooter num, scooter loc, gini index unmet, gini index met, wANNR, moran, gini, theil, EMD, centroid change, dispersion change, kl divergence = -13.377, 33.000, 158.000, 174.000, 101.000, 0.988, 0.954, 0.472, 0.038, 0.950, 0.205, 1.977, 0.890, -1.686, 0.866\n",
      "Epoch 250, Average reward, unmet demand, met demand, scooter num, scooter loc, gini index unmet, gini index met, wANNR, moran, gini, theil, EMD, centroid change, dispersion change, kl divergence = -26.010, 53.200, 137.800, 169.400, 108.800, 0.982, 0.957, 0.465, 0.041, 0.943, 0.157, 1.934, 0.955, -1.667, 0.844\n",
      "Epoch 300, Average reward, unmet demand, met demand, scooter num, scooter loc, gini index unmet, gini index met, wANNR, moran, gini, theil, EMD, centroid change, dispersion change, kl divergence = -13.032, 33.400, 157.600, 171.800, 103.400, 0.989, 0.954, 0.469, 0.040, 0.948, 0.185, 1.970, 0.939, -1.689, 0.851\n",
      "Epoch 350, Average reward, unmet demand, met demand, scooter num, scooter loc, gini index unmet, gini index met, wANNR, moran, gini, theil, EMD, centroid change, dispersion change, kl divergence = -13.887, 33.800, 157.200, 174.600, 103.400, 0.987, 0.954, 0.472, 0.038, 0.948, 0.193, 1.976, 0.929, -1.717, 0.837\n",
      "Epoch 400, Average reward, unmet demand, met demand, scooter num, scooter loc, gini index unmet, gini index met, wANNR, moran, gini, theil, EMD, centroid change, dispersion change, kl divergence = -12.653, 31.400, 159.600, 177.400, 105.200, 0.988, 0.954, 0.476, 0.041, 0.948, 0.194, 1.998, 0.968, -1.729, 0.838\n",
      "Epoch 450, Average reward, unmet demand, met demand, scooter num, scooter loc, gini index unmet, gini index met, wANNR, moran, gini, theil, EMD, centroid change, dispersion change, kl divergence = -13.326, 32.200, 158.800, 177.600, 104.200, 0.988, 0.954, 0.476, 0.041, 0.948, 0.190, 1.996, 0.919, -1.720, 0.841\n",
      "Epoch 500, Average reward, unmet demand, met demand, scooter num, scooter loc, gini index unmet, gini index met, wANNR, moran, gini, theil, EMD, centroid change, dispersion change, kl divergence = -12.984, 31.400, 159.600, 178.800, 104.600, 0.988, 0.954, 0.478, 0.041, 0.948, 0.197, 1.996, 0.935, -1.725, 0.840\n"
     ]
    }
   ],
   "source": [
    "## tf.reset_default_graph() only works under tf 1.0\n",
    "max_scooter_per_area = 6\n",
    "\n",
    "# Set up the state-value estimator and policy estimator\n",
    "estimator_policy = PolicyEstimator(learning_rate, nS)\n",
    "estimator_value = StateValueEstimator(learning_rate, nS)\n",
    "\n",
    "rider_test_list = np.array(grid_centroid_gdf['rider_test_list'])\n",
    "\n",
    "# Initialize study area\n",
    "study_area = create_study_area(service_areas, max_scooter_per_area, scooter_cost_per_deploy, docked_cost_per_deploy, \\\n",
    "                   nS, no_scooter_penalty, reward_per_rider, equity_penalty, rider_test_list, logistics_car_cost_per_mile)\n",
    "\n",
    "# Add ops to save and restore all the variables\n",
    "\n",
    "print(\"Starting policy gradient...\")\n",
    "\n",
    "# Start training\n",
    "print(\"Training in progress...\")\n",
    "avg_reward_max_6, avg_unmet_demand_max_6, avg_met_demand_max_6, avg_scooter_num_max_6, avg_scooter_loc_max_6, avg_wANNR_max_6, avg_moran_max_6, avg_gini_max_6, avg_theil_max_6, avg_EMD_max_6, avg_centroid_max_6, avg_dispersion_max_6, avg_kl_max_6, scooter_list_max_6 = reinforce(study_area, nS, estimator_policy, estimator_value, n_epochs, n_iters, batch_size, display_step)"
   ]
  },
  {
   "cell_type": "markdown",
   "id": "0c0df756",
   "metadata": {},
   "source": [
    "## MAX = 7"
   ]
  },
  {
   "cell_type": "code",
   "execution_count": 10,
   "id": "7927ff81",
   "metadata": {},
   "outputs": [
    {
     "name": "stdout",
     "output_type": "stream",
     "text": [
      "Starting policy gradient...\n",
      "Training in progress...\n",
      "Epoch 50, Average reward, unmet demand, met demand, scooter num, scooter loc, gini index unmet, gini index met, wANNR, moran, gini, theil, EMD, centroid change, dispersion change, kl divergence = -10.463, 27.000, 164.000, 181.800, 105.400, 0.989, 0.955, 0.482, 0.041, 0.948, 0.215, 2.037, 0.912, -1.773, 0.825\n",
      "Epoch 100, Average reward, unmet demand, met demand, scooter num, scooter loc, gini index unmet, gini index met, wANNR, moran, gini, theil, EMD, centroid change, dispersion change, kl divergence = -22.618, 45.800, 145.200, 176.000, 102.800, 0.982, 0.960, 0.474, 0.038, 0.950, 0.218, 2.031, 0.912, -1.779, 0.869\n",
      "Epoch 150, Average reward, unmet demand, met demand, scooter num, scooter loc, gini index unmet, gini index met, wANNR, moran, gini, theil, EMD, centroid change, dispersion change, kl divergence = -14.836, 34.200, 156.800, 179.400, 107.800, 0.987, 0.953, 0.480, 0.040, 0.946, 0.197, 1.984, 0.938, -1.704, 0.830\n",
      "Epoch 200, Average reward, unmet demand, met demand, scooter num, scooter loc, gini index unmet, gini index met, wANNR, moran, gini, theil, EMD, centroid change, dispersion change, kl divergence = -11.129, 29.000, 162.000, 177.600, 103.600, 0.988, 0.955, 0.476, 0.039, 0.949, 0.212, 2.017, 0.909, -1.749, 0.831\n",
      "Epoch 250, Average reward, unmet demand, met demand, scooter num, scooter loc, gini index unmet, gini index met, wANNR, moran, gini, theil, EMD, centroid change, dispersion change, kl divergence = -10.847, 27.200, 163.800, 183.200, 106.000, 0.989, 0.954, 0.484, 0.038, 0.948, 0.213, 1.981, 0.918, -1.713, 0.812\n",
      "Epoch 300, Average reward, unmet demand, met demand, scooter num, scooter loc, gini index unmet, gini index met, wANNR, moran, gini, theil, EMD, centroid change, dispersion change, kl divergence = -9.797, 25.800, 165.200, 183.000, 106.400, 0.989, 0.955, 0.484, 0.038, 0.948, 0.221, 2.016, 0.931, -1.760, 0.831\n",
      "Epoch 350, Average reward, unmet demand, met demand, scooter num, scooter loc, gini index unmet, gini index met, wANNR, moran, gini, theil, EMD, centroid change, dispersion change, kl divergence = -12.034, 30.200, 160.800, 179.600, 108.400, 0.989, 0.954, 0.479, 0.039, 0.946, 0.203, 1.972, 0.931, -1.700, 0.852\n",
      "Epoch 400, Average reward, unmet demand, met demand, scooter num, scooter loc, gini index unmet, gini index met, wANNR, moran, gini, theil, EMD, centroid change, dispersion change, kl divergence = -13.788, 33.800, 157.200, 174.400, 104.200, 0.988, 0.954, 0.472, 0.038, 0.948, 0.201, 1.972, 0.918, -1.699, 0.881\n",
      "Epoch 450, Average reward, unmet demand, met demand, scooter num, scooter loc, gini index unmet, gini index met, wANNR, moran, gini, theil, EMD, centroid change, dispersion change, kl divergence = -10.894, 28.000, 163.000, 180.000, 104.000, 0.989, 0.955, 0.480, 0.038, 0.949, 0.213, 2.009, 0.947, -1.723, 0.835\n",
      "Epoch 500, Average reward, unmet demand, met demand, scooter num, scooter loc, gini index unmet, gini index met, wANNR, moran, gini, theil, EMD, centroid change, dispersion change, kl divergence = -13.654, 33.400, 157.600, 175.600, 105.600, 0.989, 0.953, 0.475, 0.039, 0.947, 0.193, 1.981, 0.940, -1.697, 0.854\n"
     ]
    }
   ],
   "source": [
    "## tf.reset_default_graph() only works under tf 1.0\n",
    "max_scooter_per_area = 7\n",
    "\n",
    "# Set up the state-value estimator and policy estimator\n",
    "estimator_policy = PolicyEstimator(learning_rate, nS)\n",
    "estimator_value = StateValueEstimator(learning_rate, nS)\n",
    "\n",
    "rider_test_list = np.array(grid_centroid_gdf['rider_test_list'])\n",
    "\n",
    "# Initialize study area\n",
    "study_area = create_study_area(service_areas, max_scooter_per_area, scooter_cost_per_deploy, docked_cost_per_deploy, \\\n",
    "                   nS, no_scooter_penalty, reward_per_rider, equity_penalty, rider_test_list, logistics_car_cost_per_mile)\n",
    "\n",
    "# Add ops to save and restore all the variables\n",
    "\n",
    "print(\"Starting policy gradient...\")\n",
    "\n",
    "# Start training\n",
    "print(\"Training in progress...\")\n",
    "avg_reward_max_7, avg_unmet_demand_max_7, avg_met_demand_max_7, avg_scooter_num_max_7, avg_scooter_loc_max_7, avg_wANNR_max_7, avg_moran_max_7, avg_gini_max_7, avg_theil_max_7, avg_EMD_max_7, avg_centroid_max_7, avg_dispersion_max_7, avg_kl_max_7, scooter_list_max_7 = reinforce(study_area, nS, estimator_policy, estimator_value, n_epochs, n_iters, batch_size, display_step)"
   ]
  },
  {
   "cell_type": "markdown",
   "id": "93e0783a",
   "metadata": {},
   "source": [
    "## MAX = 8"
   ]
  },
  {
   "cell_type": "code",
   "execution_count": 11,
   "id": "36be398b",
   "metadata": {},
   "outputs": [
    {
     "name": "stdout",
     "output_type": "stream",
     "text": [
      "Starting policy gradient...\n",
      "Training in progress...\n",
      "Epoch 50, Average reward, unmet demand, met demand, scooter num, scooter loc, gini index unmet, gini index met, wANNR, moran, gini, theil, EMD, centroid change, dispersion change, kl divergence = -10.278, 27.200, 163.800, 179.800, 104.200, 0.989, 0.955, 0.479, 0.038, 0.949, 0.216, 2.007, 0.921, -1.739, 0.831\n",
      "Epoch 100, Average reward, unmet demand, met demand, scooter num, scooter loc, gini index unmet, gini index met, wANNR, moran, gini, theil, EMD, centroid change, dispersion change, kl divergence = -10.318, 26.400, 164.600, 183.000, 105.000, 0.989, 0.955, 0.484, 0.041, 0.949, 0.222, 2.043, 0.915, -1.771, 0.816\n",
      "Epoch 150, Average reward, unmet demand, met demand, scooter num, scooter loc, gini index unmet, gini index met, wANNR, moran, gini, theil, EMD, centroid change, dispersion change, kl divergence = -16.311, 36.800, 154.200, 178.000, 108.600, 0.986, 0.955, 0.477, 0.035, 0.946, 0.219, 1.980, 0.922, -1.726, 0.841\n",
      "Epoch 200, Average reward, unmet demand, met demand, scooter num, scooter loc, gini index unmet, gini index met, wANNR, moran, gini, theil, EMD, centroid change, dispersion change, kl divergence = -9.782, 26.600, 164.400, 178.800, 102.400, 0.989, 0.955, 0.478, 0.039, 0.951, 0.227, 2.038, 0.891, -1.772, 0.835\n",
      "Epoch 250, Average reward, unmet demand, met demand, scooter num, scooter loc, gini index unmet, gini index met, wANNR, moran, gini, theil, EMD, centroid change, dispersion change, kl divergence = -10.507, 27.800, 163.200, 178.800, 104.000, 0.989, 0.955, 0.478, 0.038, 0.949, 0.213, 2.010, 0.929, -1.744, 0.832\n",
      "Epoch 300, Average reward, unmet demand, met demand, scooter num, scooter loc, gini index unmet, gini index met, wANNR, moran, gini, theil, EMD, centroid change, dispersion change, kl divergence = -11.642, 29.800, 161.200, 178.000, 105.400, 0.988, 0.955, 0.477, 0.037, 0.948, 0.214, 1.997, 0.945, -1.710, 0.846\n",
      "Epoch 350, Average reward, unmet demand, met demand, scooter num, scooter loc, gini index unmet, gini index met, wANNR, moran, gini, theil, EMD, centroid change, dispersion change, kl divergence = -10.973, 27.800, 163.200, 181.000, 103.800, 0.989, 0.956, 0.481, 0.036, 0.950, 0.228, 1.988, 0.926, -1.720, 0.833\n",
      "Epoch 400, Average reward, unmet demand, met demand, scooter num, scooter loc, gini index unmet, gini index met, wANNR, moran, gini, theil, EMD, centroid change, dispersion change, kl divergence = -11.173, 26.800, 164.200, 185.800, 105.000, 0.989, 0.955, 0.488, 0.037, 0.950, 0.231, 2.008, 0.929, -1.745, 0.818\n",
      "Epoch 450, Average reward, unmet demand, met demand, scooter num, scooter loc, gini index unmet, gini index met, wANNR, moran, gini, theil, EMD, centroid change, dispersion change, kl divergence = -28.249, 56.200, 134.800, 169.800, 108.000, 0.979, 0.959, 0.466, 0.043, 0.945, 0.184, 2.000, 0.902, -1.745, 0.797\n",
      "Epoch 500, Average reward, unmet demand, met demand, scooter num, scooter loc, gini index unmet, gini index met, wANNR, moran, gini, theil, EMD, centroid change, dispersion change, kl divergence = -21.608, 45.200, 145.800, 174.600, 107.000, 0.981, 0.959, 0.472, 0.041, 0.946, 0.193, 1.968, 0.917, -1.676, 0.868\n"
     ]
    }
   ],
   "source": [
    "## tf.reset_default_graph() only works under tf 1.0\n",
    "max_scooter_per_area = 8\n",
    "\n",
    "# Set up the state-value estimator and policy estimator\n",
    "estimator_policy = PolicyEstimator(learning_rate, nS)\n",
    "estimator_value = StateValueEstimator(learning_rate, nS)\n",
    "\n",
    "rider_test_list = np.array(grid_centroid_gdf['rider_test_list'])\n",
    "\n",
    "# Initialize study area\n",
    "study_area = create_study_area(service_areas, max_scooter_per_area, scooter_cost_per_deploy, docked_cost_per_deploy, \\\n",
    "                   nS, no_scooter_penalty, reward_per_rider, equity_penalty, rider_test_list, logistics_car_cost_per_mile)\n",
    "\n",
    "# Add ops to save and restore all the variables\n",
    "\n",
    "print(\"Starting policy gradient...\")\n",
    "\n",
    "# Start training\n",
    "print(\"Training in progress...\")\n",
    "avg_reward_max_8, avg_unmet_demand_max_8, avg_met_demand_max_8, avg_scooter_num_max_8, avg_scooter_loc_max_8, avg_wANNR_max_8, avg_moran_max_8, avg_gini_max_8, avg_theil_max_8, avg_EMD_max_8, avg_centroid_max_8, avg_dispersion_max_8, avg_kl_max_8, scooter_list_max_8 = reinforce(study_area, nS, estimator_policy, estimator_value, n_epochs, n_iters, batch_size, display_step)"
   ]
  },
  {
   "cell_type": "markdown",
   "id": "e083ec22",
   "metadata": {},
   "source": [
    "## MAX = 9"
   ]
  },
  {
   "cell_type": "code",
   "execution_count": 25,
   "id": "19adfab7",
   "metadata": {},
   "outputs": [
    {
     "name": "stdout",
     "output_type": "stream",
     "text": [
      "Starting policy gradient...\n",
      "Training in progress...\n",
      "Epoch 50, Average reward, unmet demand, met demand, scooter num, scooter loc, gini index unmet, gini index met, wANNR, moran, gini, theil, EMD, centroid change, dispersion change, kl divergence = -23.360, 46.400, 144.600, 179.600, 108.600, 0.983, 0.959, 0.480, 0.039, 0.946, 0.203, 1.966, 0.922, -1.714, 0.783\n",
      "Epoch 100, Average reward, unmet demand, met demand, scooter num, scooter loc, gini index unmet, gini index met, wANNR, moran, gini, theil, EMD, centroid change, dispersion change, kl divergence = -13.107, 31.800, 159.200, 178.600, 106.200, 0.988, 0.954, 0.478, 0.036, 0.948, 0.215, 1.951, 0.910, -1.666, 0.836\n",
      "Epoch 150, Average reward, unmet demand, met demand, scooter num, scooter loc, gini index unmet, gini index met, wANNR, moran, gini, theil, EMD, centroid change, dispersion change, kl divergence = -10.952, 28.600, 162.400, 178.800, 105.600, 0.989, 0.955, 0.478, 0.037, 0.948, 0.219, 1.985, 0.933, -1.706, 0.860\n",
      "Epoch 200, Average reward, unmet demand, met demand, scooter num, scooter loc, gini index unmet, gini index met, wANNR, moran, gini, theil, EMD, centroid change, dispersion change, kl divergence = -11.719, 29.400, 161.600, 179.600, 105.000, 0.990, 0.954, 0.479, 0.038, 0.948, 0.205, 1.990, 0.935, -1.714, 0.812\n",
      "Epoch 250, Average reward, unmet demand, met demand, scooter num, scooter loc, gini index unmet, gini index met, wANNR, moran, gini, theil, EMD, centroid change, dispersion change, kl divergence = -20.203, 41.400, 149.600, 181.200, 108.400, 0.983, 0.960, 0.481, 0.036, 0.947, 0.234, 1.986, 0.924, -1.732, 0.812\n",
      "Epoch 300, Average reward, unmet demand, met demand, scooter num, scooter loc, gini index unmet, gini index met, wANNR, moran, gini, theil, EMD, centroid change, dispersion change, kl divergence = -14.304, 32.800, 158.200, 182.000, 109.000, 0.989, 0.954, 0.482, 0.038, 0.946, 0.201, 1.963, 0.940, -1.700, 0.853\n",
      "Epoch 350, Average reward, unmet demand, met demand, scooter num, scooter loc, gini index unmet, gini index met, wANNR, moran, gini, theil, EMD, centroid change, dispersion change, kl divergence = -11.148, 29.400, 161.600, 176.400, 103.800, 0.989, 0.955, 0.475, 0.038, 0.949, 0.216, 2.028, 0.945, -1.765, 0.836\n",
      "Epoch 400, Average reward, unmet demand, met demand, scooter num, scooter loc, gini index unmet, gini index met, wANNR, moran, gini, theil, EMD, centroid change, dispersion change, kl divergence = -15.926, 36.200, 154.800, 177.400, 106.400, 0.987, 0.953, 0.476, 0.041, 0.947, 0.201, 2.012, 0.939, -1.748, 0.811\n",
      "Epoch 450, Average reward, unmet demand, met demand, scooter num, scooter loc, gini index unmet, gini index met, wANNR, moran, gini, theil, EMD, centroid change, dispersion change, kl divergence = -10.937, 28.400, 162.600, 179.200, 105.000, 0.989, 0.955, 0.478, 0.038, 0.948, 0.216, 1.997, 0.903, -1.732, 0.834\n",
      "Epoch 500, Average reward, unmet demand, met demand, scooter num, scooter loc, gini index unmet, gini index met, wANNR, moran, gini, theil, EMD, centroid change, dispersion change, kl divergence = -10.220, 26.800, 164.200, 180.600, 103.400, 0.989, 0.955, 0.480, 0.039, 0.950, 0.230, 2.044, 0.929, -1.769, 0.804\n"
     ]
    }
   ],
   "source": [
    "## tf.reset_default_graph() only works under tf 1.0\n",
    "max_scooter_per_area = 9\n",
    "\n",
    "# Set up the state-value estimator and policy estimator\n",
    "estimator_policy = PolicyEstimator(learning_rate, nS)\n",
    "estimator_value = StateValueEstimator(learning_rate, nS)\n",
    "\n",
    "rider_test_list = np.array(grid_centroid_gdf['rider_test_list'])\n",
    "\n",
    "# Initialize study area\n",
    "study_area = create_study_area(service_areas, max_scooter_per_area, scooter_cost_per_deploy, docked_cost_per_deploy, \\\n",
    "                   nS, no_scooter_penalty, reward_per_rider, equity_penalty, rider_test_list, logistics_car_cost_per_mile)\n",
    "\n",
    "# Add ops to save and restore all the variables\n",
    "\n",
    "print(\"Starting policy gradient...\")\n",
    "\n",
    "# Start training\n",
    "print(\"Training in progress...\")\n",
    "avg_reward_max_9, avg_unmet_demand_max_9, avg_met_demand_max_9, avg_scooter_num_max_9, avg_scooter_loc_max_9, avg_wANNR_max_9, avg_moran_max_9, avg_gini_max_9, avg_theil_max_9, avg_EMD_max_9, avg_centroid_max_9, avg_dispersion_max_9, avg_kl_max_9, scooter_list_max_9 = reinforce(study_area, nS, estimator_policy, estimator_value, n_epochs, n_iters, batch_size, display_step)"
   ]
  },
  {
   "cell_type": "markdown",
   "id": "c16ce03b",
   "metadata": {},
   "source": [
    "## MAX = 10"
   ]
  },
  {
   "cell_type": "code",
   "execution_count": 13,
   "id": "3683cc27",
   "metadata": {},
   "outputs": [
    {
     "name": "stdout",
     "output_type": "stream",
     "text": [
      "Starting policy gradient...\n",
      "Training in progress...\n",
      "Epoch 50, Average reward, unmet demand, met demand, scooter num, scooter loc, gini index unmet, gini index met, wANNR, moran, gini, theil, EMD, centroid change, dispersion change, kl divergence = -35.550, 68.800, 122.200, 159.600, 100.000, 0.974, 0.964, 0.451, 0.038, 0.949, 0.195, 2.012, 0.971, -1.749, 0.788\n",
      "Epoch 100, Average reward, unmet demand, met demand, scooter num, scooter loc, gini index unmet, gini index met, wANNR, moran, gini, theil, EMD, centroid change, dispersion change, kl divergence = -10.767, 28.400, 162.600, 177.600, 102.800, 0.789, 0.956, 0.476, 0.036, 0.950, 0.229, 2.018, 0.926, -1.753, 0.842\n",
      "Epoch 150, Average reward, unmet demand, met demand, scooter num, scooter loc, gini index unmet, gini index met, wANNR, moran, gini, theil, EMD, centroid change, dispersion change, kl divergence = -13.104, 31.000, 160.000, 181.800, 107.600, 0.987, 0.954, 0.482, 0.037, 0.947, 0.207, 1.974, 0.993, -1.693, 0.799\n",
      "Epoch 200, Average reward, unmet demand, met demand, scooter num, scooter loc, gini index unmet, gini index met, wANNR, moran, gini, theil, EMD, centroid change, dispersion change, kl divergence = -11.983, 30.000, 161.000, 179.400, 106.600, 0.987, 0.954, 0.479, 0.038, 0.947, 0.212, 2.018, 0.934, -1.750, 0.824\n",
      "Epoch 250, Average reward, unmet demand, met demand, scooter num, scooter loc, gini index unmet, gini index met, wANNR, moran, gini, theil, EMD, centroid change, dispersion change, kl divergence = -11.111, 29.200, 161.800, 176.200, 101.800, 0.988, 0.956, 0.474, 0.039, 0.950, 0.215, 2.034, 0.929, -1.763, 0.828\n",
      "Epoch 300, Average reward, unmet demand, met demand, scooter num, scooter loc, gini index unmet, gini index met, wANNR, moran, gini, theil, EMD, centroid change, dispersion change, kl divergence = -13.492, 33.000, 158.000, 175.400, 103.400, 0.988, 0.955, 0.474, 0.037, 0.949, 0.205, 1.962, 0.902, -1.673, 0.855\n",
      "Epoch 350, Average reward, unmet demand, met demand, scooter num, scooter loc, gini index unmet, gini index met, wANNR, moran, gini, theil, EMD, centroid change, dispersion change, kl divergence = -10.735, 27.800, 163.200, 180.400, 105.400, 0.989, 0.955, 0.480, 0.038, 0.948, 0.217, 1.993, 0.925, -1.719, 0.838\n",
      "Epoch 400, Average reward, unmet demand, met demand, scooter num, scooter loc, gini index unmet, gini index met, wANNR, moran, gini, theil, EMD, centroid change, dispersion change, kl divergence = -12.094, 29.600, 161.400, 180.600, 104.600, 0.989, 0.955, 0.480, 0.037, 0.949, 0.223, 2.010, 0.942, -1.739, 0.811\n",
      "Epoch 450, Average reward, unmet demand, met demand, scooter num, scooter loc, gini index unmet, gini index met, wANNR, moran, gini, theil, EMD, centroid change, dispersion change, kl divergence = -10.322, 26.600, 164.400, 182.200, 104.600, 0.989, 0.956, 0.482, 0.038, 0.949, 0.228, 2.036, 0.936, -1.751, 0.821\n",
      "Epoch 500, Average reward, unmet demand, met demand, scooter num, scooter loc, gini index unmet, gini index met, wANNR, moran, gini, theil, EMD, centroid change, dispersion change, kl divergence = -11.626, 29.000, 162.000, 181.000, 106.400, 0.789, 0.955, 0.481, 0.037, 0.948, 0.224, 1.997, 0.958, -1.705, 0.833\n"
     ]
    }
   ],
   "source": [
    "## tf.reset_default_graph() only works under tf 1.0\n",
    "max_scooter_per_area = 10\n",
    "\n",
    "# Set up the state-value estimator and policy estimator\n",
    "estimator_policy = PolicyEstimator(learning_rate, nS)\n",
    "estimator_value = StateValueEstimator(learning_rate, nS)\n",
    "\n",
    "rider_test_list = np.array(grid_centroid_gdf['rider_test_list'])\n",
    "\n",
    "# Initialize study area\n",
    "study_area = create_study_area(service_areas, max_scooter_per_area, scooter_cost_per_deploy, docked_cost_per_deploy, \\\n",
    "                   nS, no_scooter_penalty, reward_per_rider, equity_penalty, rider_test_list, logistics_car_cost_per_mile)\n",
    "\n",
    "# Add ops to save and restore all the variables\n",
    "\n",
    "print(\"Starting policy gradient...\")\n",
    "\n",
    "# Start training\n",
    "print(\"Training in progress...\")\n",
    "avg_reward_max_10, avg_unmet_demand_max_10, avg_met_demand_max_10, avg_scooter_num_max_10, avg_scooter_loc_max_10, avg_wANNR_max_10, avg_moran_max_10, avg_gini_max_10, avg_theil_max_10, avg_EMD_max_10, avg_centroid_max_10, avg_dispersion_max_10, avg_kl_max_10, scooter_list_max_10 = reinforce(study_area, nS, estimator_policy, estimator_value, n_epochs, n_iters, batch_size, display_step)"
   ]
  },
  {
   "cell_type": "markdown",
   "id": "dad374e2",
   "metadata": {},
   "source": [
    "## MAX = 11"
   ]
  },
  {
   "cell_type": "code",
   "execution_count": 31,
   "id": "693564e0",
   "metadata": {},
   "outputs": [
    {
     "name": "stdout",
     "output_type": "stream",
     "text": [
      "Starting policy gradient...\n",
      "Training in progress...\n",
      "Epoch 50, Average reward, unmet demand, met demand, scooter num, scooter loc, gini index unmet, gini index met, wANNR, moran, gini, theil, EMD, centroid change, dispersion change, kl divergence = -10.900, 28.200, 162.800, 180.400, 107.000, 0.789, 0.954, 0.482, 0.037, 0.947, 0.219, 1.993, 0.918, -1.716, 0.850\n",
      "Epoch 100, Average reward, unmet demand, met demand, scooter num, scooter loc, gini index unmet, gini index met, wANNR, moran, gini, theil, EMD, centroid change, dispersion change, kl divergence = -11.304, 29.200, 161.800, 178.400, 105.400, 0.989, 0.955, 0.477, 0.039, 0.948, 0.217, 2.016, 0.929, -1.734, 0.852\n",
      "Epoch 150, Average reward, unmet demand, met demand, scooter num, scooter loc, gini index unmet, gini index met, wANNR, moran, gini, theil, EMD, centroid change, dispersion change, kl divergence = -10.454, 28.200, 162.800, 177.600, 105.200, 0.990, 0.953, 0.476, 0.038, 0.948, 0.205, 1.981, 0.941, -1.702, 0.850\n",
      "Epoch 200, Average reward, unmet demand, met demand, scooter num, scooter loc, gini index unmet, gini index met, wANNR, moran, gini, theil, EMD, centroid change, dispersion change, kl divergence = -13.240, 32.600, 158.400, 175.400, 103.000, 0.987, 0.955, 0.473, 0.041, 0.949, 0.211, 2.045, 0.926, -1.788, 0.834\n",
      "Epoch 250, Average reward, unmet demand, met demand, scooter num, scooter loc, gini index unmet, gini index met, wANNR, moran, gini, theil, EMD, centroid change, dispersion change, kl divergence = -10.607, 28.600, 162.400, 176.000, 102.400, 0.989, 0.955, 0.475, 0.036, 0.950, 0.222, 2.015, 0.908, -1.739, 0.846\n",
      "Epoch 300, Average reward, unmet demand, met demand, scooter num, scooter loc, gini index unmet, gini index met, wANNR, moran, gini, theil, EMD, centroid change, dispersion change, kl divergence = -10.979, 28.800, 162.200, 177.200, 102.600, 0.789, 0.955, 0.476, 0.037, 0.950, 0.222, 2.041, 0.911, -1.790, 0.833\n",
      "Epoch 350, Average reward, unmet demand, met demand, scooter num, scooter loc, gini index unmet, gini index met, wANNR, moran, gini, theil, EMD, centroid change, dispersion change, kl divergence = -11.353, 27.400, 163.600, 185.400, 107.200, 0.990, 0.955, 0.487, 0.038, 0.948, 0.220, 1.996, 0.935, -1.730, 0.819\n",
      "Epoch 400, Average reward, unmet demand, met demand, scooter num, scooter loc, gini index unmet, gini index met, wANNR, moran, gini, theil, EMD, centroid change, dispersion change, kl divergence = -11.449, 28.800, 162.200, 180.400, 105.200, 0.989, 0.956, 0.480, 0.036, 0.949, 0.226, 1.989, 0.932, -1.717, 0.833\n",
      "Epoch 450, Average reward, unmet demand, met demand, scooter num, scooter loc, gini index unmet, gini index met, wANNR, moran, gini, theil, EMD, centroid change, dispersion change, kl divergence = -10.541, 27.400, 163.600, 180.400, 104.200, 0.588, 0.956, 0.480, 0.035, 0.950, 0.244, 2.002, 0.913, -1.719, 0.859\n",
      "Epoch 500, Average reward, unmet demand, met demand, scooter num, scooter loc, gini index unmet, gini index met, wANNR, moran, gini, theil, EMD, centroid change, dispersion change, kl divergence = -12.443, 31.200, 159.800, 177.200, 105.600, 0.789, 0.955, 0.476, 0.040, 0.947, 0.210, 2.020, 0.951, -1.735, 0.838\n"
     ]
    }
   ],
   "source": [
    "## tf.reset_default_graph() only works under tf 1.0\n",
    "max_scooter_per_area = 11\n",
    "\n",
    "# Set up the state-value estimator and policy estimator\n",
    "estimator_policy = PolicyEstimator(learning_rate, nS)\n",
    "estimator_value = StateValueEstimator(learning_rate, nS)\n",
    "\n",
    "rider_test_list = np.array(grid_centroid_gdf['rider_test_list'])\n",
    "\n",
    "# Initialize study area\n",
    "study_area = create_study_area(service_areas, max_scooter_per_area, scooter_cost_per_deploy, docked_cost_per_deploy, \\\n",
    "                   nS, no_scooter_penalty, reward_per_rider, equity_penalty, rider_test_list, logistics_car_cost_per_mile)\n",
    "\n",
    "# Add ops to save and restore all the variables\n",
    "\n",
    "print(\"Starting policy gradient...\")\n",
    "\n",
    "# Start training\n",
    "print(\"Training in progress...\")\n",
    "avg_reward_max_11, avg_unmet_demand_max_11, avg_met_demand_max_11, avg_scooter_num_max_11, avg_scooter_loc_max_11, avg_wANNR_max_11, avg_moran_max_11, avg_gini_max_11, avg_theil_max_11, avg_EMD_max_11, avg_centroid_max_11, avg_dispersion_max_11, avg_kl_max_11, scooter_list_max_11 = reinforce(study_area, nS, estimator_policy, estimator_value, n_epochs, n_iters, batch_size, display_step)"
   ]
  },
  {
   "cell_type": "markdown",
   "id": "0572be87",
   "metadata": {},
   "source": [
    "## MAX = 12"
   ]
  },
  {
   "cell_type": "code",
   "execution_count": 33,
   "id": "d93d482c",
   "metadata": {},
   "outputs": [
    {
     "name": "stdout",
     "output_type": "stream",
     "text": [
      "Starting policy gradient...\n",
      "Training in progress...\n",
      "Epoch 50, Average reward, unmet demand, met demand, scooter num, scooter loc, gini index unmet, gini index met, wANNR, moran, gini, theil, EMD, centroid change, dispersion change, kl divergence = -10.264, 27.400, 163.600, 179.400, 105.200, 0.989, 0.955, 0.479, 0.037, 0.948, 0.219, 2.000, 0.892, -1.714, 0.844\n",
      "Epoch 100, Average reward, unmet demand, met demand, scooter num, scooter loc, gini index unmet, gini index met, wANNR, moran, gini, theil, EMD, centroid change, dispersion change, kl divergence = -10.119, 26.200, 164.800, 181.800, 102.400, 0.789, 0.956, 0.482, 0.037, 0.951, 0.228, 2.029, 0.922, -1.765, 0.820\n",
      "Epoch 150, Average reward, unmet demand, met demand, scooter num, scooter loc, gini index unmet, gini index met, wANNR, moran, gini, theil, EMD, centroid change, dispersion change, kl divergence = -8.955, 24.200, 166.800, 184.000, 105.400, 0.789, 0.956, 0.485, 0.037, 0.949, 0.231, 2.008, 0.947, -1.733, 0.819\n",
      "Epoch 200, Average reward, unmet demand, met demand, scooter num, scooter loc, gini index unmet, gini index met, wANNR, moran, gini, theil, EMD, centroid change, dispersion change, kl divergence = -11.324, 28.600, 162.400, 180.400, 105.000, 0.989, 0.955, 0.480, 0.037, 0.949, 0.219, 1.996, 0.927, -1.723, 0.839\n",
      "Epoch 250, Average reward, unmet demand, met demand, scooter num, scooter loc, gini index unmet, gini index met, wANNR, moran, gini, theil, EMD, centroid change, dispersion change, kl divergence = -10.183, 25.600, 165.400, 185.000, 104.800, 0.789, 0.955, 0.486, 0.036, 0.950, 0.239, 1.993, 0.949, -1.721, 0.830\n",
      "Epoch 300, Average reward, unmet demand, met demand, scooter num, scooter loc, gini index unmet, gini index met, wANNR, moran, gini, theil, EMD, centroid change, dispersion change, kl divergence = -9.413, 25.600, 165.400, 180.200, 101.800, 0.790, 0.956, 0.480, 0.035, 0.952, 0.249, 2.042, 0.925, -1.770, 0.820\n",
      "Epoch 350, Average reward, unmet demand, met demand, scooter num, scooter loc, gini index unmet, gini index met, wANNR, moran, gini, theil, EMD, centroid change, dispersion change, kl divergence = -9.544, 25.200, 165.800, 183.600, 105.800, 0.790, 0.955, 0.484, 0.037, 0.949, 0.224, 1.994, 0.949, -1.715, 0.855\n",
      "Epoch 400, Average reward, unmet demand, met demand, scooter num, scooter loc, gini index unmet, gini index met, wANNR, moran, gini, theil, EMD, centroid change, dispersion change, kl divergence = -29.087, 56.800, 134.200, 171.200, 106.200, 0.977, 0.961, 0.470, 0.041, 0.947, 0.206, 2.056, 0.927, -1.831, 0.833\n",
      "Epoch 450, Average reward, unmet demand, met demand, scooter num, scooter loc, gini index unmet, gini index met, wANNR, moran, gini, theil, EMD, centroid change, dispersion change, kl divergence = -9.343, 24.400, 166.600, 185.000, 104.800, 0.589, 0.956, 0.486, 0.038, 0.950, 0.237, 2.022, 0.918, -1.739, 0.819\n",
      "Epoch 500, Average reward, unmet demand, met demand, scooter num, scooter loc, gini index unmet, gini index met, wANNR, moran, gini, theil, EMD, centroid change, dispersion change, kl divergence = -9.124, 24.600, 166.400, 183.600, 105.800, 0.790, 0.955, 0.485, 0.037, 0.949, 0.231, 1.999, 0.922, -1.712, 0.833\n"
     ]
    }
   ],
   "source": [
    "## tf.reset_default_graph() only works under tf 1.0\n",
    "max_scooter_per_area = 12\n",
    "\n",
    "# Set up the state-value estimator and policy estimator\n",
    "estimator_policy = PolicyEstimator(learning_rate, nS)\n",
    "estimator_value = StateValueEstimator(learning_rate, nS)\n",
    "\n",
    "rider_test_list = np.array(grid_centroid_gdf['rider_test_list'])\n",
    "\n",
    "# Initialize study area\n",
    "study_area = create_study_area(service_areas, max_scooter_per_area, scooter_cost_per_deploy, docked_cost_per_deploy, \\\n",
    "                   nS, no_scooter_penalty, reward_per_rider, equity_penalty, rider_test_list, logistics_car_cost_per_mile)\n",
    "\n",
    "# Add ops to save and restore all the variables\n",
    "\n",
    "print(\"Starting policy gradient...\")\n",
    "\n",
    "# Start training\n",
    "print(\"Training in progress...\")\n",
    "avg_reward_max_12, avg_unmet_demand_max_12, avg_met_demand_max_12, avg_scooter_num_max_12, avg_scooter_loc_max_12, avg_wANNR_max_12, avg_moran_max_12, avg_gini_max_12, avg_theil_max_12, avg_EMD_max_12, avg_centroid_max_12, avg_dispersion_max_12, avg_kl_max_12, scooter_list_max_12 = reinforce(study_area, nS, estimator_policy, estimator_value, n_epochs, n_iters, batch_size, display_step)"
   ]
  },
  {
   "cell_type": "markdown",
   "id": "5308dc9b",
   "metadata": {},
   "source": [
    "## MAX = 13"
   ]
  },
  {
   "cell_type": "code",
   "execution_count": 24,
   "id": "e9e2a53d",
   "metadata": {},
   "outputs": [
    {
     "name": "stdout",
     "output_type": "stream",
     "text": [
      "Starting policy gradient...\n",
      "Training in progress...\n",
      "Epoch 50, Average reward, unmet demand, met demand, scooter num, scooter loc, gini index unmet, gini index met, wANNR, moran, gini, theil, EMD, centroid change, dispersion change, kl divergence = -23.915, 44.200, 146.800, 191.200, 112.600, 0.981, 0.960, 0.494, 0.038, 0.945, 0.219, 1.941, 0.920, -1.664, 0.831\n",
      "Epoch 100, Average reward, unmet demand, met demand, scooter num, scooter loc, gini index unmet, gini index met, wANNR, moran, gini, theil, EMD, centroid change, dispersion change, kl divergence = -11.149, 28.800, 162.200, 178.800, 104.800, 0.788, 0.956, 0.478, 0.036, 0.949, 0.227, 1.995, 0.919, -1.706, 0.834\n",
      "Epoch 150, Average reward, unmet demand, met demand, scooter num, scooter loc, gini index unmet, gini index met, wANNR, moran, gini, theil, EMD, centroid change, dispersion change, kl divergence = -10.894, 27.200, 163.800, 182.800, 104.200, 0.990, 0.955, 0.483, 0.036, 0.950, 0.227, 1.981, 0.954, -1.714, 0.798\n",
      "Epoch 200, Average reward, unmet demand, met demand, scooter num, scooter loc, gini index unmet, gini index met, wANNR, moran, gini, theil, EMD, centroid change, dispersion change, kl divergence = -11.386, 30.200, 160.800, 174.200, 102.000, 0.989, 0.955, 0.471, 0.038, 0.950, 0.212, 2.029, 0.936, -1.750, 0.857\n",
      "Epoch 250, Average reward, unmet demand, met demand, scooter num, scooter loc, gini index unmet, gini index met, wANNR, moran, gini, theil, EMD, centroid change, dispersion change, kl divergence = -10.851, 27.400, 163.600, 182.400, 105.600, 0.989, 0.955, 0.483, 0.039, 0.949, 0.221, 1.998, 0.922, -1.722, 0.828\n",
      "Epoch 300, Average reward, unmet demand, met demand, scooter num, scooter loc, gini index unmet, gini index met, wANNR, moran, gini, theil, EMD, centroid change, dispersion change, kl divergence = -12.249, 30.600, 160.400, 177.600, 103.600, 0.989, 0.954, 0.476, 0.038, 0.949, 0.209, 1.987, 0.957, -1.699, 0.846\n",
      "Epoch 350, Average reward, unmet demand, met demand, scooter num, scooter loc, gini index unmet, gini index met, wANNR, moran, gini, theil, EMD, centroid change, dispersion change, kl divergence = -10.237, 26.000, 165.000, 184.600, 106.800, 0.789, 0.955, 0.486, 0.040, 0.948, 0.228, 2.032, 0.907, -1.753, 0.801\n",
      "Epoch 400, Average reward, unmet demand, met demand, scooter num, scooter loc, gini index unmet, gini index met, wANNR, moran, gini, theil, EMD, centroid change, dispersion change, kl divergence = -10.496, 27.000, 164.000, 181.400, 103.800, 0.990, 0.955, 0.481, 0.038, 0.950, 0.224, 2.037, 0.936, -1.762, 0.826\n",
      "Epoch 450, Average reward, unmet demand, met demand, scooter num, scooter loc, gini index unmet, gini index met, wANNR, moran, gini, theil, EMD, centroid change, dispersion change, kl divergence = -12.244, 31.600, 159.400, 174.800, 105.400, 0.988, 0.954, 0.473, 0.039, 0.947, 0.207, 2.027, 0.946, -1.764, 0.824\n",
      "Epoch 500, Average reward, unmet demand, met demand, scooter num, scooter loc, gini index unmet, gini index met, wANNR, moran, gini, theil, EMD, centroid change, dispersion change, kl divergence = -11.749, 29.000, 162.000, 181.600, 106.400, 0.988, 0.955, 0.482, 0.036, 0.948, 0.233, 1.999, 0.933, -1.708, 0.836\n"
     ]
    }
   ],
   "source": [
    "## tf.reset_default_graph() only works under tf 1.0\n",
    "max_scooter_per_area = 13\n",
    "\n",
    "# Set up the state-value estimator and policy estimator\n",
    "estimator_policy = PolicyEstimator(learning_rate, nS)\n",
    "estimator_value = StateValueEstimator(learning_rate, nS)\n",
    "\n",
    "rider_test_list = np.array(grid_centroid_gdf['rider_test_list'])\n",
    "\n",
    "# Initialize study area\n",
    "study_area = create_study_area(service_areas, max_scooter_per_area, scooter_cost_per_deploy, docked_cost_per_deploy, \\\n",
    "                   nS, no_scooter_penalty, reward_per_rider, equity_penalty, rider_test_list, logistics_car_cost_per_mile)\n",
    "\n",
    "# Add ops to save and restore all the variables\n",
    "\n",
    "print(\"Starting policy gradient...\")\n",
    "\n",
    "# Start training\n",
    "print(\"Training in progress...\")\n",
    "avg_reward_max_13, avg_unmet_demand_max_13, avg_met_demand_max_13, avg_scooter_num_max_13, avg_scooter_loc_max_13, avg_wANNR_max_13, avg_moran_max_13, avg_gini_max_13, avg_theil_max_13, avg_EMD_max_13, avg_centroid_max_13, avg_dispersion_max_13, avg_kl_max_13, scooter_list_max_13 = reinforce(study_area, nS, estimator_policy, estimator_value, n_epochs, n_iters, batch_size, display_step)"
   ]
  },
  {
   "cell_type": "markdown",
   "id": "3e5e37de",
   "metadata": {},
   "source": [
    "## MAX = 14"
   ]
  },
  {
   "cell_type": "code",
   "execution_count": 17,
   "id": "390b6c76",
   "metadata": {},
   "outputs": [
    {
     "name": "stdout",
     "output_type": "stream",
     "text": [
      "Starting policy gradient...\n",
      "Training in progress...\n",
      "Epoch 50, Average reward, unmet demand, met demand, scooter num, scooter loc, gini index unmet, gini index met, wANNR, moran, gini, theil, EMD, centroid change, dispersion change, kl divergence = -8.228, 23.200, 167.800, 183.800, 105.200, 0.790, 0.956, 0.485, 0.038, 0.949, 0.235, 2.039, 0.925, -1.778, 0.837\n",
      "Epoch 100, Average reward, unmet demand, met demand, scooter num, scooter loc, gini index unmet, gini index met, wANNR, moran, gini, theil, EMD, centroid change, dispersion change, kl divergence = -12.096, 30.200, 160.800, 179.200, 106.400, 0.989, 0.954, 0.478, 0.038, 0.947, 0.206, 1.990, 0.992, -1.698, 0.847\n",
      "Epoch 150, Average reward, unmet demand, met demand, scooter num, scooter loc, gini index unmet, gini index met, wANNR, moran, gini, theil, EMD, centroid change, dispersion change, kl divergence = -11.549, 29.800, 161.200, 177.200, 104.400, 0.989, 0.955, 0.476, 0.041, 0.948, 0.209, 2.036, 0.946, -1.766, 0.837\n",
      "Epoch 200, Average reward, unmet demand, met demand, scooter num, scooter loc, gini index unmet, gini index met, wANNR, moran, gini, theil, EMD, centroid change, dispersion change, kl divergence = -11.923, 29.800, 161.200, 180.000, 107.200, 0.989, 0.954, 0.481, 0.039, 0.947, 0.202, 1.974, 0.918, -1.711, 0.857\n",
      "Epoch 250, Average reward, unmet demand, met demand, scooter num, scooter loc, gini index unmet, gini index met, wANNR, moran, gini, theil, EMD, centroid change, dispersion change, kl divergence = -11.407, 29.400, 161.600, 177.800, 104.200, 0.990, 0.954, 0.478, 0.036, 0.949, 0.211, 1.967, 0.933, -1.690, 0.856\n",
      "Epoch 300, Average reward, unmet demand, met demand, scooter num, scooter loc, gini index unmet, gini index met, wANNR, moran, gini, theil, EMD, centroid change, dispersion change, kl divergence = -11.256, 29.200, 161.800, 178.800, 107.200, 0.989, 0.954, 0.478, 0.038, 0.946, 0.196, 1.974, 0.942, -1.696, 0.840\n",
      "Epoch 350, Average reward, unmet demand, met demand, scooter num, scooter loc, gini index unmet, gini index met, wANNR, moran, gini, theil, EMD, centroid change, dispersion change, kl divergence = -12.813, 31.000, 160.000, 179.400, 104.800, 0.987, 0.955, 0.479, 0.036, 0.949, 0.226, 1.991, 0.949, -1.713, 0.830\n",
      "Epoch 400, Average reward, unmet demand, met demand, scooter num, scooter loc, gini index unmet, gini index met, wANNR, moran, gini, theil, EMD, centroid change, dispersion change, kl divergence = -11.340, 28.600, 162.400, 180.200, 104.200, 0.989, 0.955, 0.480, 0.037, 0.949, 0.219, 2.004, 0.918, -1.741, 0.839\n",
      "Epoch 450, Average reward, unmet demand, met demand, scooter num, scooter loc, gini index unmet, gini index met, wANNR, moran, gini, theil, EMD, centroid change, dispersion change, kl divergence = -11.848, 29.200, 161.800, 181.400, 106.400, 0.989, 0.954, 0.481, 0.040, 0.948, 0.215, 2.046, 0.951, -1.782, 0.822\n",
      "Epoch 500, Average reward, unmet demand, met demand, scooter num, scooter loc, gini index unmet, gini index met, wANNR, moran, gini, theil, EMD, centroid change, dispersion change, kl divergence = -11.798, 29.600, 161.400, 178.600, 103.000, 0.788, 0.956, 0.478, 0.037, 0.950, 0.229, 2.011, 0.908, -1.726, 0.850\n"
     ]
    }
   ],
   "source": [
    "## tf.reset_default_graph() only works under tf 1.0\n",
    "max_scooter_per_area = 14\n",
    "\n",
    "# Set up the state-value estimator and policy estimator\n",
    "estimator_policy = PolicyEstimator(learning_rate, nS)\n",
    "estimator_value = StateValueEstimator(learning_rate, nS)\n",
    "\n",
    "rider_test_list = np.array(grid_centroid_gdf['rider_test_list'])\n",
    "\n",
    "# Initialize study area\n",
    "study_area = create_study_area(service_areas, max_scooter_per_area, scooter_cost_per_deploy, docked_cost_per_deploy, \\\n",
    "                   nS, no_scooter_penalty, reward_per_rider, equity_penalty, rider_test_list, logistics_car_cost_per_mile)\n",
    "\n",
    "# Add ops to save and restore all the variables\n",
    "\n",
    "print(\"Starting policy gradient...\")\n",
    "\n",
    "# Start training\n",
    "print(\"Training in progress...\")\n",
    "avg_reward_max_14, avg_unmet_demand_max_14, avg_met_demand_max_14, avg_scooter_num_max_14, avg_scooter_loc_max_14, avg_wANNR_max_14, avg_moran_max_14, avg_gini_max_14, avg_theil_max_14, avg_EMD_max_14, avg_centroid_max_14, avg_dispersion_max_14, avg_kl_max_14, scooter_list_max_14 = reinforce(study_area, nS, estimator_policy, estimator_value, n_epochs, n_iters, batch_size, display_step)"
   ]
  },
  {
   "cell_type": "markdown",
   "id": "cd8319b4",
   "metadata": {},
   "source": [
    "## MAX = 15"
   ]
  },
  {
   "cell_type": "code",
   "execution_count": 38,
   "id": "b34bc39e",
   "metadata": {},
   "outputs": [
    {
     "name": "stdout",
     "output_type": "stream",
     "text": [
      "Starting policy gradient...\n",
      "Training in progress...\n",
      "Epoch 50, Average reward, unmet demand, met demand, scooter num, scooter loc, gini index unmet, gini index met, wANNR, moran, gini, theil, EMD, centroid change, dispersion change, kl divergence = -12.016, 30.000, 161.000, 179.000, 105.000, 0.989, 0.954, 0.479, 0.040, 0.948, 0.213, 2.029, 0.978, -1.730, 0.823\n",
      "Epoch 100, Average reward, unmet demand, met demand, scooter num, scooter loc, gini index unmet, gini index met, wANNR, moran, gini, theil, EMD, centroid change, dispersion change, kl divergence = -9.601, 25.400, 165.600, 183.200, 105.800, 0.990, 0.955, 0.484, 0.037, 0.948, 0.221, 2.009, 0.937, -1.732, 0.814\n",
      "Epoch 150, Average reward, unmet demand, met demand, scooter num, scooter loc, gini index unmet, gini index met, wANNR, moran, gini, theil, EMD, centroid change, dispersion change, kl divergence = -12.340, 30.000, 161.000, 181.000, 106.200, 0.988, 0.956, 0.481, 0.037, 0.948, 0.224, 1.984, 0.896, -1.707, 0.851\n",
      "Epoch 200, Average reward, unmet demand, met demand, scooter num, scooter loc, gini index unmet, gini index met, wANNR, moran, gini, theil, EMD, centroid change, dispersion change, kl divergence = -7.890, 22.600, 168.400, 184.200, 105.200, 0.790, 0.955, 0.486, 0.037, 0.949, 0.238, 2.039, 0.957, -1.757, 0.804\n",
      "Epoch 250, Average reward, unmet demand, met demand, scooter num, scooter loc, gini index unmet, gini index met, wANNR, moran, gini, theil, EMD, centroid change, dispersion change, kl divergence = -9.884, 26.200, 164.800, 182.200, 106.800, 0.989, 0.955, 0.483, 0.037, 0.948, 0.223, 2.003, 0.931, -1.719, 0.831\n",
      "Epoch 300, Average reward, unmet demand, met demand, scooter num, scooter loc, gini index unmet, gini index met, wANNR, moran, gini, theil, EMD, centroid change, dispersion change, kl divergence = -11.181, 29.200, 161.800, 177.800, 105.400, 0.988, 0.955, 0.477, 0.037, 0.948, 0.208, 1.976, 0.955, -1.682, 0.848\n",
      "Epoch 350, Average reward, unmet demand, met demand, scooter num, scooter loc, gini index unmet, gini index met, wANNR, moran, gini, theil, EMD, centroid change, dispersion change, kl divergence = -9.577, 25.400, 165.600, 182.800, 105.000, 0.588, 0.956, 0.484, 0.038, 0.949, 0.235, 2.032, 0.930, -1.752, 0.828\n",
      "Epoch 400, Average reward, unmet demand, met demand, scooter num, scooter loc, gini index unmet, gini index met, wANNR, moran, gini, theil, EMD, centroid change, dispersion change, kl divergence = -9.549, 26.200, 164.800, 179.800, 104.600, 0.989, 0.955, 0.479, 0.038, 0.949, 0.227, 2.030, 0.902, -1.769, 0.832\n",
      "Epoch 450, Average reward, unmet demand, met demand, scooter num, scooter loc, gini index unmet, gini index met, wANNR, moran, gini, theil, EMD, centroid change, dispersion change, kl divergence = -10.992, 26.600, 164.400, 187.000, 109.000, 0.989, 0.955, 0.489, 0.037, 0.947, 0.225, 1.973, 0.962, -1.687, 0.833\n",
      "Epoch 500, Average reward, unmet demand, met demand, scooter num, scooter loc, gini index unmet, gini index met, wANNR, moran, gini, theil, EMD, centroid change, dispersion change, kl divergence = -9.831, 26.600, 164.400, 179.600, 104.000, 0.989, 0.955, 0.479, 0.037, 0.949, 0.225, 2.009, 0.957, -1.725, 0.853\n"
     ]
    }
   ],
   "source": [
    "## tf.reset_default_graph() only works under tf 1.0\n",
    "max_scooter_per_area = 15\n",
    "\n",
    "# Set up the state-value estimator and policy estimator\n",
    "estimator_policy = PolicyEstimator(learning_rate, nS)\n",
    "estimator_value = StateValueEstimator(learning_rate, nS)\n",
    "\n",
    "rider_test_list = np.array(grid_centroid_gdf['rider_test_list'])\n",
    "\n",
    "# Initialize study area\n",
    "study_area = create_study_area(service_areas, max_scooter_per_area, scooter_cost_per_deploy, docked_cost_per_deploy, \\\n",
    "                   nS, no_scooter_penalty, reward_per_rider, equity_penalty, rider_test_list, logistics_car_cost_per_mile)\n",
    "\n",
    "# Add ops to save and restore all the variables\n",
    "\n",
    "print(\"Starting policy gradient...\")\n",
    "\n",
    "# Start training\n",
    "print(\"Training in progress...\")\n",
    "avg_reward_max_15, avg_unmet_demand_max_15, avg_met_demand_max_15, avg_scooter_num_max_15, avg_scooter_loc_max_15, avg_wANNR_max_15, avg_moran_max_15, avg_gini_max_15, avg_theil_max_15, avg_EMD_max_15, avg_centroid_max_15, avg_dispersion_max_15, avg_kl_max_15, scooter_list_max_15 = reinforce(study_area, nS, estimator_policy, estimator_value, n_epochs, n_iters, batch_size, display_step)"
   ]
  },
  {
   "cell_type": "markdown",
   "id": "462300ea",
   "metadata": {},
   "source": [
    "## MAX = 16"
   ]
  },
  {
   "cell_type": "code",
   "execution_count": 23,
   "id": "c4b00b1e",
   "metadata": {},
   "outputs": [
    {
     "name": "stdout",
     "output_type": "stream",
     "text": [
      "Starting policy gradient...\n",
      "Training in progress...\n",
      "Epoch 50, Average reward, unmet demand, met demand, scooter num, scooter loc, gini index unmet, gini index met, wANNR, moran, gini, theil, EMD, centroid change, dispersion change, kl divergence = -10.986, 28.200, 162.800, 180.400, 105.800, 0.989, 0.955, 0.480, 0.038, 0.948, 0.216, 1.998, 0.926, -1.724, 0.844\n",
      "Epoch 100, Average reward, unmet demand, met demand, scooter num, scooter loc, gini index unmet, gini index met, wANNR, moran, gini, theil, EMD, centroid change, dispersion change, kl divergence = -10.443, 27.800, 163.200, 178.000, 102.600, 0.789, 0.956, 0.477, 0.037, 0.950, 0.225, 2.014, 0.922, -1.728, 0.845\n",
      "Epoch 150, Average reward, unmet demand, met demand, scooter num, scooter loc, gini index unmet, gini index met, wANNR, moran, gini, theil, EMD, centroid change, dispersion change, kl divergence = -10.845, 27.600, 163.400, 182.600, 108.200, 0.789, 0.955, 0.483, 0.037, 0.947, 0.231, 1.989, 0.913, -1.709, 0.839\n",
      "Epoch 200, Average reward, unmet demand, met demand, scooter num, scooter loc, gini index unmet, gini index met, wANNR, moran, gini, theil, EMD, centroid change, dispersion change, kl divergence = -9.360, 24.600, 166.400, 184.400, 104.800, 0.790, 0.956, 0.485, 0.035, 0.950, 0.243, 2.004, 0.909, -1.738, 0.813\n",
      "Epoch 250, Average reward, unmet demand, met demand, scooter num, scooter loc, gini index unmet, gini index met, wANNR, moran, gini, theil, EMD, centroid change, dispersion change, kl divergence = -26.180, 50.000, 141.000, 181.200, 109.000, 0.980, 0.961, 0.481, 0.038, 0.946, 0.208, 1.993, 0.951, -1.731, 0.828\n",
      "Epoch 300, Average reward, unmet demand, met demand, scooter num, scooter loc, gini index unmet, gini index met, wANNR, moran, gini, theil, EMD, centroid change, dispersion change, kl divergence = -10.364, 28.000, 163.000, 177.000, 102.800, 0.989, 0.955, 0.475, 0.041, 0.949, 0.208, 2.055, 0.915, -1.792, 0.831\n",
      "Epoch 350, Average reward, unmet demand, met demand, scooter num, scooter loc, gini index unmet, gini index met, wANNR, moran, gini, theil, EMD, centroid change, dispersion change, kl divergence = -11.417, 27.600, 163.400, 184.400, 105.400, 0.788, 0.956, 0.487, 0.035, 0.949, 0.237, 2.000, 0.942, -1.728, 0.815\n",
      "Epoch 400, Average reward, unmet demand, met demand, scooter num, scooter loc, gini index unmet, gini index met, wANNR, moran, gini, theil, EMD, centroid change, dispersion change, kl divergence = -10.678, 27.000, 164.000, 183.200, 106.400, 0.989, 0.956, 0.484, 0.035, 0.949, 0.244, 1.999, 0.928, -1.715, 0.842\n",
      "Epoch 450, Average reward, unmet demand, met demand, scooter num, scooter loc, gini index unmet, gini index met, wANNR, moran, gini, theil, EMD, centroid change, dispersion change, kl divergence = -12.112, 31.000, 160.000, 176.200, 105.400, 0.989, 0.954, 0.474, 0.037, 0.947, 0.207, 1.976, 0.928, -1.691, 0.844\n",
      "Epoch 500, Average reward, unmet demand, met demand, scooter num, scooter loc, gini index unmet, gini index met, wANNR, moran, gini, theil, EMD, centroid change, dispersion change, kl divergence = -22.497, 45.000, 146.000, 179.400, 106.400, 0.982, 0.959, 0.479, 0.038, 0.947, 0.200, 1.987, 1.025, -1.731, 0.774\n"
     ]
    }
   ],
   "source": [
    "## tf.reset_default_graph() only works under tf 1.0\n",
    "max_scooter_per_area = 16\n",
    "\n",
    "# Set up the state-value estimator and policy estimator\n",
    "estimator_policy = PolicyEstimator(learning_rate, nS)\n",
    "estimator_value = StateValueEstimator(learning_rate, nS)\n",
    "\n",
    "rider_test_list = np.array(grid_centroid_gdf['rider_test_list'])\n",
    "\n",
    "# Initialize study area\n",
    "study_area = create_study_area(service_areas, max_scooter_per_area, scooter_cost_per_deploy, docked_cost_per_deploy, \\\n",
    "                   nS, no_scooter_penalty, reward_per_rider, equity_penalty, rider_test_list, logistics_car_cost_per_mile)\n",
    "\n",
    "# Add ops to save and restore all the variables\n",
    "\n",
    "print(\"Starting policy gradient...\")\n",
    "\n",
    "# Start training\n",
    "print(\"Training in progress...\")\n",
    "avg_reward_max_16, avg_unmet_demand_max_16, avg_met_demand_max_16, avg_scooter_num_max_16, avg_scooter_loc_max_16, avg_wANNR_max_16, avg_moran_max_16, avg_gini_max_16, avg_theil_max_16, avg_EMD_max_16, avg_centroid_max_16, avg_dispersion_max_16, avg_kl_max_16, scooter_list_max_16 = reinforce(study_area, nS, estimator_policy, estimator_value, n_epochs, n_iters, batch_size, display_step)"
   ]
  },
  {
   "cell_type": "markdown",
   "id": "cf6babdd",
   "metadata": {},
   "source": [
    "# Illustration"
   ]
  },
  {
   "cell_type": "code",
   "execution_count": 39,
   "id": "218b3462",
   "metadata": {},
   "outputs": [
    {
     "name": "stdout",
     "output_type": "stream",
     "text": [
      "[array([ True,  True,  True, False,  True, False,  True,  True,  True,\n",
      "        True]), array([ True,  True,  True,  True,  True,  True,  True,  True, False,\n",
      "        True]), array([ True,  True, False, False, False, False,  True,  True,  True,\n",
      "        True]), array([False,  True,  True, False,  True,  True,  True,  True,  True,\n",
      "        True]), array([ True,  True,  True,  True, False,  True,  True,  True,  True,\n",
      "        True]), array([ True, False,  True,  True,  True,  True,  True,  True,  True,\n",
      "        True]), array([ True,  True, False,  True,  True,  True,  True,  True, False,\n",
      "       False]), array([False,  True,  True,  True, False,  True,  True,  True,  True,\n",
      "        True]), array([False,  True,  True,  True,  True,  True,  True,  True,  True,\n",
      "        True]), array([ True,  True,  True, False,  True,  True,  True,  True,  True,\n",
      "        True]), array([ True,  True,  True,  True,  True,  True,  True, False,  True,\n",
      "        True]), array([False,  True,  True,  True,  True,  True,  True,  True,  True,\n",
      "        True]), array([False,  True,  True,  True,  True,  True,  True,  True,  True,\n",
      "        True]), array([ True,  True,  True,  True,  True,  True,  True,  True,  True,\n",
      "        True]), array([ True,  True,  True,  True, False,  True,  True,  True,  True,\n",
      "       False])]\n"
     ]
    }
   ],
   "source": [
    "def modified_z_score(arr):\n",
    "\n",
    "    median = np.median(arr)\n",
    "    mad = np.median(np.abs(arr - median))  # Median Absolute Deviation\n",
    "\n",
    "    # Modified Z-score\n",
    "    modified_z_scores = 0.6745 * (arr - median) / mad\n",
    "    threshold = 3\n",
    "    # filtered_arr = arr[np.abs(modified_z_scores) < threshold]\n",
    "    sel_index = np.abs(modified_z_scores) < threshold\n",
    "    \n",
    "    return sel_index # filtered_arr\n",
    "\n",
    "sel_index_2 = modified_z_score(avg_reward_max_2)\n",
    "sel_index_3 = modified_z_score(avg_reward_max_3)\n",
    "sel_index_4 = modified_z_score(avg_reward_max_4)\n",
    "sel_index_5 = modified_z_score(avg_reward_max_5)\n",
    "sel_index_6 = modified_z_score(avg_reward_max_6)\n",
    "sel_index_7 = modified_z_score(avg_reward_max_7)\n",
    "sel_index_8 = modified_z_score(avg_reward_max_8)\n",
    "sel_index_9 = modified_z_score(avg_reward_max_9)\n",
    "sel_index_10 = modified_z_score(avg_reward_max_10)\n",
    "sel_index_11 = modified_z_score(avg_reward_max_11)\n",
    "sel_index_12 = modified_z_score(avg_reward_max_12)\n",
    "sel_index_13 = modified_z_score(avg_reward_max_13)\n",
    "sel_index_14 = modified_z_score(avg_reward_max_14)\n",
    "sel_index_15 = modified_z_score(avg_reward_max_15)\n",
    "sel_index_16 = modified_z_score(avg_reward_max_16)\n",
    "print([sel_index_2, sel_index_3, sel_index_4, sel_index_5, sel_index_6, sel_index_7, sel_index_8, sel_index_9, \n",
    "      sel_index_10, sel_index_11, sel_index_12, sel_index_13, sel_index_14, sel_index_15, sel_index_16])"
   ]
  },
  {
   "cell_type": "code",
   "execution_count": 40,
   "id": "91bd3d33",
   "metadata": {},
   "outputs": [
    {
     "name": "stdout",
     "output_type": "stream",
     "text": [
      "End: 2025-07-09 22:07:59\n",
      "Plotting resulting graph...\n",
      "Plotting baseline 1...\n",
      "End: 2025-07-09 22:07:59\n"
     ]
    },
    {
     "data": {
      "image/png": "[encoded data removed]",
      "text/plain": [
       "<Figure size 432x288 with 1 Axes>"
      ]
     },
     "metadata": {
      "needs_background": "light"
     },
     "output_type": "display_data"
    }
   ],
   "source": [
    "# Plot the graphs of average rewards during testing phases of the policy\n",
    "# gradient method and the hand-crafted policies\n",
    "\n",
    "print(\"End: \" + datetime.now().strftime('%Y-%m-%d %H:%M:%S'))\n",
    "\n",
    "max_scooter_per_area_list = np.arange(2,17)\n",
    "max_reward_list_grid = np.array([avg_reward_max_2,\n",
    "                                avg_reward_max_3,\n",
    "                                avg_reward_max_4,\n",
    "                                avg_reward_max_5,\n",
    "                                avg_reward_max_6,\n",
    "                                avg_reward_max_7,\n",
    "                                avg_reward_max_8,\n",
    "                                avg_reward_max_9,\n",
    "                                avg_reward_max_10,\n",
    "                                avg_reward_max_11,\n",
    "                                avg_reward_max_12,\n",
    "                                avg_reward_max_13,\n",
    "                                avg_reward_max_14,\n",
    "                                avg_reward_max_15,\n",
    "                                avg_reward_max_16])\n",
    "max_reward_mean_grid = np.mean(max_reward_list_grid, axis=1)\n",
    "max_reward_std_grid = np.std(max_reward_list_grid, axis=1)\n",
    "\n",
    "print(\"Plotting resulting graph...\")\n",
    "# plt.figure(figsize = (12, 9))\n",
    "l1 = plt.errorbar(max_scooter_per_area_list, max_reward_mean_grid, yerr=max_reward_std_grid, fmt='o-', capsize=5) # ecolor='gray', \n",
    "\n",
    "print(\"Plotting baseline 1...\")\n",
    "# plt.legend(loc='best',prop={'size': 10})\n",
    "plt.ylabel(\"Reward function value\")\n",
    "plt.xlabel(\"max_scooter_per_area\")\n",
    "\n",
    "print(\"End: \" + datetime.now().strftime('%Y-%m-%d %H:%M:%S'))"
   ]
  },
  {
   "cell_type": "code",
   "execution_count": 41,
   "id": "88cb6330",
   "metadata": {},
   "outputs": [
    {
     "data": {
      "text/plain": [
       "array([[-27.95583514, -27.94338636, -30.71824089, -38.38702538,\n",
       "        -29.87491058, -37.75046702, -27.99761557, -28.23771821,\n",
       "        -28.87248747, -27.53882279],\n",
       "       [-19.26949903, -21.04874581, -22.87906281, -20.69788165,\n",
       "        -22.33322332, -21.11098891, -21.82539813, -21.46431092,\n",
       "        -34.02901978, -21.58316371],\n",
       "       [-17.02786388, -16.32573211, -27.93737634, -29.80751332,\n",
       "        -31.83308673, -21.75215349, -17.3124701 , -17.20597213,\n",
       "        -16.20764123, -16.63915676],\n",
       "       [-22.98562157, -14.66771861, -15.17775295, -23.65467056,\n",
       "        -17.63006435, -15.70322372, -15.0967597 , -18.52164857,\n",
       "        -14.40758991, -16.01443922],\n",
       "       [-13.3173416 , -14.14413091, -12.98370297, -13.3767676 ,\n",
       "        -26.00960246, -13.03180214, -13.88714461, -12.65280407,\n",
       "        -13.32594607, -12.98370297],\n",
       "       [-10.46250444, -22.6180435 , -14.83644309, -11.12917374,\n",
       "        -10.84694801,  -9.79703367, -12.03431132, -13.78841183,\n",
       "        -10.89350598, -13.65412262],\n",
       "       [-10.27800087, -10.31789823, -16.31113497,  -9.78220441,\n",
       "        -10.50693064, -11.64168252, -10.97339465, -11.17324069,\n",
       "        -28.24943113, -21.60777861],\n",
       "       [-23.3599021 , -13.10733331, -10.95165686, -11.71926809,\n",
       "        -20.20307844, -14.30423434, -11.14818918, -15.92634874,\n",
       "        -10.93707631, -10.22002132],\n",
       "       [-35.5499096 , -10.76681063, -13.104003  , -11.98289842,\n",
       "        -11.1111855 , -13.49152817, -10.73483321, -12.09356599,\n",
       "        -10.32233311, -11.62607477],\n",
       "       [-10.89955943, -11.3038743 , -10.45389996, -13.24034661,\n",
       "        -10.60686195, -10.97902807, -11.35254747, -11.44924243,\n",
       "        -10.54128854, -12.44288974],\n",
       "       [-10.26376298, -10.11864277,  -8.95455924, -11.32365165,\n",
       "        -10.18326635,  -9.41310331,  -9.54354901, -29.08678536,\n",
       "         -9.34326635,  -9.12354901],\n",
       "       [-23.9152793 , -11.14929375, -10.89443922, -11.38581738,\n",
       "        -10.85138289, -12.24917374, -10.23698235, -10.49558644,\n",
       "        -12.24414828, -11.74936244],\n",
       "       [ -8.22787257, -12.09621176, -11.54934507, -11.92295843,\n",
       "        -11.40704196, -11.25638309, -12.81258142, -11.34019265,\n",
       "        -11.84826655, -11.79788086],\n",
       "       [-12.01598042,  -9.60135723, -12.34048399,  -7.89006435,\n",
       "         -9.88383167, -11.18058663,  -9.57680234,  -9.54918242,\n",
       "        -10.9916316 ,  -9.8313142 ],\n",
       "       [-10.98601476, -10.44341163, -10.8451589 ,  -9.35997868,\n",
       "        -26.17985078, -10.36352296, -11.41675102, -10.67812956,\n",
       "        -12.11181951, -22.49730765]])"
      ]
     },
     "execution_count": 41,
     "metadata": {},
     "output_type": "execute_result"
    }
   ],
   "source": [
    "max_reward_list_grid"
   ]
  },
  {
   "cell_type": "code",
   "execution_count": 42,
   "id": "5be10874",
   "metadata": {},
   "outputs": [
    {
     "name": "stdout",
     "output_type": "stream",
     "text": [
      "End: 2025-07-09 22:08:04\n",
      "Plotting resulting graph...\n",
      "Plotting baseline 1...\n",
      "End: 2025-07-09 22:08:04\n"
     ]
    },
    {
     "data": {
      "image/png": "[encoded data removed]",
      "text/plain": [
       "<Figure size 432x288 with 1 Axes>"
      ]
     },
     "metadata": {
      "needs_background": "light"
     },
     "output_type": "display_data"
    }
   ],
   "source": [
    "# Plot the graphs of average rewards during testing phases of the policy\n",
    "# gradient method and the hand-crafted policies\n",
    "\n",
    "print(\"End: \" + datetime.now().strftime('%Y-%m-%d %H:%M:%S'))\n",
    "\n",
    "max_scooter_per_area_list = np.arange(2,17)\n",
    "max_reward_list_grid = [np.array(avg_reward_max_2)[sel_index_2],\n",
    "                        np.array(avg_reward_max_3)[sel_index_3],\n",
    "                        np.array(avg_reward_max_4)[sel_index_4],\n",
    "                        np.array(avg_reward_max_5)[sel_index_5],\n",
    "                        np.array(avg_reward_max_6)[sel_index_6],\n",
    "                        np.array(avg_reward_max_7)[sel_index_7],\n",
    "                        np.array(avg_reward_max_8)[sel_index_8],\n",
    "                        np.array(avg_reward_max_9)[sel_index_9],\n",
    "                        np.array(avg_reward_max_10)[sel_index_10],\n",
    "                        np.array(avg_reward_max_11)[sel_index_11],\n",
    "                        np.array(avg_reward_max_12)[sel_index_12],\n",
    "                        np.array(avg_reward_max_13)[sel_index_13],\n",
    "                        np.array(avg_reward_max_14)[sel_index_14],\n",
    "                        np.array(avg_reward_max_15)[sel_index_15],\n",
    "                        np.array(avg_reward_max_16)[sel_index_16]]\n",
    "max_reward_mean_grid = []\n",
    "max_reward_std_grid = []\n",
    "for ii in range(len(max_scooter_per_area_list)):\n",
    "    max_reward_mean_grid.append(np.mean(max_reward_list_grid[ii]))\n",
    "    max_reward_std_grid.append(np.std(max_reward_list_grid[ii]))\n",
    "\n",
    "print(\"Plotting resulting graph...\")\n",
    "# plt.figure(figsize = (12, 9))\n",
    "l1 = plt.errorbar(max_scooter_per_area_list, max_reward_mean_grid, yerr=max_reward_std_grid, fmt='o-', capsize=5) # ecolor='gray', \n",
    "\n",
    "print(\"Plotting baseline 1...\")\n",
    "# plt.legend(loc='best',prop={'size': 10})\n",
    "plt.ylabel(\"Reward function value\")\n",
    "plt.xlabel(\"max_scooter_per_area\")\n",
    "\n",
    "print(\"End: \" + datetime.now().strftime('%Y-%m-%d %H:%M:%S'))"
   ]
  },
  {
   "cell_type": "code",
   "execution_count": 43,
   "id": "29eceb93",
   "metadata": {},
   "outputs": [
    {
     "name": "stdout",
     "output_type": "stream",
     "text": [
      "End: 2025-07-09 22:08:38\n",
      "Plotting resulting graph...\n",
      "Plotting baseline 1...\n",
      "End: 2025-07-09 22:08:38\n"
     ]
    },
    {
     "data": {
      "image/png": "[encoded data removed]",
      "text/plain": [
       "<Figure size 432x288 with 1 Axes>"
      ]
     },
     "metadata": {
      "needs_background": "light"
     },
     "output_type": "display_data"
    }
   ],
   "source": [
    "# Plot the graphs of average rewards during testing phases of the policy\n",
    "# gradient method and the hand-crafted policies\n",
    "\n",
    "print(\"End: \" + datetime.now().strftime('%Y-%m-%d %H:%M:%S'))\n",
    "\n",
    "max_scooter_per_area_list = np.arange(2,17)\n",
    "max_unmet_demand_list_grid = np.array([avg_unmet_demand_max_2,\n",
    "                                avg_unmet_demand_max_3,\n",
    "                                avg_unmet_demand_max_4,\n",
    "                                avg_unmet_demand_max_5,\n",
    "                                avg_unmet_demand_max_6,\n",
    "                                avg_unmet_demand_max_7,\n",
    "                                avg_unmet_demand_max_8,\n",
    "                                avg_unmet_demand_max_9,\n",
    "                                avg_unmet_demand_max_10,\n",
    "                                avg_unmet_demand_max_11,\n",
    "                                avg_unmet_demand_max_12,\n",
    "                                avg_unmet_demand_max_13,\n",
    "                                avg_unmet_demand_max_14,\n",
    "                                avg_unmet_demand_max_15,\n",
    "                                avg_unmet_demand_max_16])\n",
    "max_unmet_demand_mean_grid = np.mean(max_unmet_demand_list_grid, axis=1)\n",
    "max_unmet_demand_std_grid = np.std(max_unmet_demand_list_grid, axis=1)\n",
    "\n",
    "print(\"Plotting resulting graph...\")\n",
    "# plt.figure(figsize = (12, 9))\n",
    "l1 = plt.errorbar(max_scooter_per_area_list, max_unmet_demand_mean_grid, yerr=max_unmet_demand_std_grid, fmt='o-', capsize=5) # ecolor='gray', \n",
    "\n",
    "print(\"Plotting baseline 1...\")\n",
    "# plt.legend(loc='best',prop={'size': 10})\n",
    "plt.ylabel(\"Count of unmet demands\")\n",
    "plt.xlabel(\"max_scooter_per_area\")\n",
    "\n",
    "print(\"End: \" + datetime.now().strftime('%Y-%m-%d %H:%M:%S'))"
   ]
  },
  {
   "cell_type": "code",
   "execution_count": 44,
   "id": "3efe0717",
   "metadata": {},
   "outputs": [
    {
     "data": {
      "text/plain": [
       "array([[63.8, 63.6, 68.8, 78.2, 66.8, 78.4, 64. , 65.2, 65.4, 63.6],\n",
       "       [46.4, 49.4, 52.2, 47.2, 52.4, 49.8, 50.8, 49.8, 69. , 49.6],\n",
       "       [40.6, 39.6, 56.4, 59.6, 63.6, 50. , 41.4, 40.4, 38.8, 40.4],\n",
       "       [49.4, 35.4, 35.8, 49.8, 40.8, 36.8, 36.6, 42.4, 35.8, 38.8],\n",
       "       [33.4, 35.4, 31.4, 33. , 53.2, 33.4, 33.8, 31.4, 32.2, 31.4],\n",
       "       [27. , 45.8, 34.2, 29. , 27.2, 25.8, 30.2, 33.8, 28. , 33.4],\n",
       "       [27.2, 26.4, 36.8, 26.6, 27.8, 29.8, 27.8, 26.8, 56.2, 45.2],\n",
       "       [46.4, 31.8, 28.6, 29.4, 41.4, 32.8, 29.4, 36.2, 28.4, 26.8],\n",
       "       [68.8, 28.4, 31. , 30. , 29.2, 33. , 27.8, 29.6, 26.6, 29. ],\n",
       "       [28.2, 29.2, 28.2, 32.6, 28.6, 28.8, 27.4, 28.8, 27.4, 31.2],\n",
       "       [27.4, 26.2, 24.2, 28.6, 25.6, 25.6, 25.2, 56.8, 24.4, 24.6],\n",
       "       [44.2, 28.8, 27.2, 30.2, 27.4, 30.6, 26. , 27. , 31.6, 29. ],\n",
       "       [23.2, 30.2, 29.8, 29.8, 29.4, 29.2, 31. , 28.6, 29.2, 29.6],\n",
       "       [30. , 25.4, 30. , 22.6, 26.2, 29.2, 25.4, 26.2, 26.6, 26.6],\n",
       "       [28.2, 27.8, 27.6, 24.6, 50. , 28. , 27.6, 27. , 31. , 45. ]])"
      ]
     },
     "execution_count": 44,
     "metadata": {},
     "output_type": "execute_result"
    }
   ],
   "source": [
    "max_unmet_demand_list_grid"
   ]
  },
  {
   "cell_type": "code",
   "execution_count": 45,
   "id": "4da57be1",
   "metadata": {},
   "outputs": [
    {
     "name": "stdout",
     "output_type": "stream",
     "text": [
      "End: 2025-07-09 22:08:52\n",
      "Plotting resulting graph...\n",
      "Plotting baseline 1...\n",
      "End: 2025-07-09 22:08:52\n"
     ]
    },
    {
     "data": {
      "image/png": "[encoded data removed]",
      "text/plain": [
       "<Figure size 432x288 with 1 Axes>"
      ]
     },
     "metadata": {
      "needs_background": "light"
     },
     "output_type": "display_data"
    }
   ],
   "source": [
    "# Plot the graphs of average rewards during testing phases of the policy\n",
    "# gradient method and the hand-crafted policies\n",
    "\n",
    "print(\"End: \" + datetime.now().strftime('%Y-%m-%d %H:%M:%S'))\n",
    "\n",
    "max_scooter_per_area_list = np.arange(2,17)\n",
    "max_unmet_demand_list_grid = [np.array(avg_unmet_demand_max_2)[sel_index_2],\n",
    "                        np.array(avg_unmet_demand_max_3)[sel_index_3],\n",
    "                        np.array(avg_unmet_demand_max_4)[sel_index_4],\n",
    "                        np.array(avg_unmet_demand_max_5)[sel_index_5],\n",
    "                        np.array(avg_unmet_demand_max_6)[sel_index_6],\n",
    "                        np.array(avg_unmet_demand_max_7)[sel_index_7],\n",
    "                        np.array(avg_unmet_demand_max_8)[sel_index_8],\n",
    "                        np.array(avg_unmet_demand_max_9)[sel_index_9],\n",
    "                        np.array(avg_unmet_demand_max_10)[sel_index_10],\n",
    "                        np.array(avg_unmet_demand_max_11)[sel_index_11],\n",
    "                        np.array(avg_unmet_demand_max_12)[sel_index_12],\n",
    "                        np.array(avg_unmet_demand_max_13)[sel_index_13],\n",
    "                        np.array(avg_unmet_demand_max_14)[sel_index_14],\n",
    "                        np.array(avg_unmet_demand_max_15)[sel_index_15],\n",
    "                        np.array(avg_unmet_demand_max_16)[sel_index_16]]\n",
    "max_unmet_demand_mean_grid = []\n",
    "max_unmet_demand_std_grid = []\n",
    "for ii in range(len(max_scooter_per_area_list)):\n",
    "    max_unmet_demand_mean_grid.append(np.mean(max_unmet_demand_list_grid[ii]))\n",
    "    max_unmet_demand_std_grid.append(np.std(max_unmet_demand_list_grid[ii]))\n",
    "\n",
    "print(\"Plotting resulting graph...\")\n",
    "# plt.figure(figsize = (12, 9))\n",
    "l1 = plt.errorbar(max_scooter_per_area_list, max_unmet_demand_mean_grid, yerr=max_unmet_demand_std_grid, fmt='o-', capsize=5) # ecolor='gray', \n",
    "\n",
    "print(\"Plotting baseline 1...\")\n",
    "# plt.legend(loc='best',prop={'size': 10})\n",
    "plt.ylabel(\"Count of unmet demands\")\n",
    "plt.xlabel(\"max_scooter_per_area\")\n",
    "\n",
    "print(\"End: \" + datetime.now().strftime('%Y-%m-%d %H:%M:%S'))"
   ]
  },
  {
   "cell_type": "code",
   "execution_count": 46,
   "id": "41ea18e5",
   "metadata": {},
   "outputs": [
    {
     "name": "stdout",
     "output_type": "stream",
     "text": [
      "End: 2025-07-09 22:08:57\n",
      "Plotting resulting graph...\n",
      "Plotting baseline 1...\n",
      "End: 2025-07-09 22:08:57\n"
     ]
    },
    {
     "data": {
      "image/png": "[encoded data removed]",
      "text/plain": [
       "<Figure size 432x288 with 1 Axes>"
      ]
     },
     "metadata": {
      "needs_background": "light"
     },
     "output_type": "display_data"
    }
   ],
   "source": [
    "# Plot the graphs of average rewards during testing phases of the policy\n",
    "# gradient method and the hand-crafted policies\n",
    "\n",
    "print(\"End: \" + datetime.now().strftime('%Y-%m-%d %H:%M:%S'))\n",
    "\n",
    "max_scooter_per_area_list = np.arange(2,17)\n",
    "max_met_demand_list_grid = np.array([avg_met_demand_max_2,\n",
    "                                avg_met_demand_max_3,\n",
    "                                avg_met_demand_max_4,\n",
    "                                avg_met_demand_max_5,\n",
    "                                avg_met_demand_max_6,\n",
    "                                avg_met_demand_max_7,\n",
    "                                avg_met_demand_max_8,\n",
    "                                avg_met_demand_max_9,\n",
    "                                avg_met_demand_max_10,\n",
    "                                avg_met_demand_max_11,\n",
    "                                avg_met_demand_max_12,\n",
    "                                avg_met_demand_max_13,\n",
    "                                avg_met_demand_max_14,\n",
    "                                avg_met_demand_max_15,\n",
    "                                avg_met_demand_max_16])\n",
    "max_met_demand_mean_grid = np.mean(max_met_demand_list_grid, axis=1)\n",
    "max_met_demand_std_grid = np.std(max_met_demand_list_grid, axis=1)\n",
    "\n",
    "print(\"Plotting resulting graph...\")\n",
    "# plt.figure(figsize = (12, 9))\n",
    "l1 = plt.errorbar(max_scooter_per_area_list, max_met_demand_mean_grid, yerr=max_met_demand_std_grid, fmt='o-', capsize=5) # ecolor='gray', \n",
    "\n",
    "print(\"Plotting baseline 1...\")\n",
    "# plt.legend(loc='best',prop={'size': 10})\n",
    "plt.ylabel(\"Count of met demands\")\n",
    "plt.xlabel(\"max_scooter_per_area\")\n",
    "\n",
    "print(\"End: \" + datetime.now().strftime('%Y-%m-%d %H:%M:%S'))"
   ]
  },
  {
   "cell_type": "code",
   "execution_count": 47,
   "id": "4e8f1897",
   "metadata": {
    "scrolled": true
   },
   "outputs": [
    {
     "data": {
      "text/plain": [
       "array([[127.2, 127.4, 122.2, 112.8, 124.2, 112.6, 127. , 125.8, 125.6,\n",
       "        127.4],\n",
       "       [144.6, 141.6, 138.8, 143.8, 138.6, 141.2, 140.2, 141.2, 122. ,\n",
       "        141.4],\n",
       "       [150.4, 151.4, 134.6, 131.4, 127.4, 141. , 149.6, 150.6, 152.2,\n",
       "        150.6],\n",
       "       [141.6, 155.6, 155.2, 141.2, 150.2, 154.2, 154.4, 148.6, 155.2,\n",
       "        152.2],\n",
       "       [157.6, 155.6, 159.6, 158. , 137.8, 157.6, 157.2, 159.6, 158.8,\n",
       "        159.6],\n",
       "       [164. , 145.2, 156.8, 162. , 163.8, 165.2, 160.8, 157.2, 163. ,\n",
       "        157.6],\n",
       "       [163.8, 164.6, 154.2, 164.4, 163.2, 161.2, 163.2, 164.2, 134.8,\n",
       "        145.8],\n",
       "       [144.6, 159.2, 162.4, 161.6, 149.6, 158.2, 161.6, 154.8, 162.6,\n",
       "        164.2],\n",
       "       [122.2, 162.6, 160. , 161. , 161.8, 158. , 163.2, 161.4, 164.4,\n",
       "        162. ],\n",
       "       [162.8, 161.8, 162.8, 158.4, 162.4, 162.2, 163.6, 162.2, 163.6,\n",
       "        159.8],\n",
       "       [163.6, 164.8, 166.8, 162.4, 165.4, 165.4, 165.8, 134.2, 166.6,\n",
       "        166.4],\n",
       "       [146.8, 162.2, 163.8, 160.8, 163.6, 160.4, 165. , 164. , 159.4,\n",
       "        162. ],\n",
       "       [167.8, 160.8, 161.2, 161.2, 161.6, 161.8, 160. , 162.4, 161.8,\n",
       "        161.4],\n",
       "       [161. , 165.6, 161. , 168.4, 164.8, 161.8, 165.6, 164.8, 164.4,\n",
       "        164.4],\n",
       "       [162.8, 163.2, 163.4, 166.4, 141. , 163. , 163.4, 164. , 160. ,\n",
       "        146. ]])"
      ]
     },
     "execution_count": 47,
     "metadata": {},
     "output_type": "execute_result"
    }
   ],
   "source": [
    "max_met_demand_list_grid"
   ]
  },
  {
   "cell_type": "code",
   "execution_count": 48,
   "id": "1947f7a4",
   "metadata": {},
   "outputs": [
    {
     "name": "stdout",
     "output_type": "stream",
     "text": [
      "End: 2025-07-09 22:09:12\n",
      "Plotting resulting graph...\n",
      "Plotting baseline 1...\n",
      "End: 2025-07-09 22:09:12\n"
     ]
    },
    {
     "data": {
      "image/png": "[encoded data removed]",
      "text/plain": [
       "<Figure size 432x288 with 1 Axes>"
      ]
     },
     "metadata": {
      "needs_background": "light"
     },
     "output_type": "display_data"
    }
   ],
   "source": [
    "# Plot the graphs of average rewards during testing phases of the policy\n",
    "# gradient method and the hand-crafted policies\n",
    "\n",
    "print(\"End: \" + datetime.now().strftime('%Y-%m-%d %H:%M:%S'))\n",
    "\n",
    "max_scooter_per_area_list = np.arange(2,17)\n",
    "max_met_demand_list_grid = [np.array(avg_met_demand_max_2)[sel_index_2],\n",
    "                        np.array(avg_met_demand_max_3)[sel_index_3],\n",
    "                        np.array(avg_met_demand_max_4)[sel_index_4],\n",
    "                        np.array(avg_met_demand_max_5)[sel_index_5],\n",
    "                        np.array(avg_met_demand_max_6)[sel_index_6],\n",
    "                        np.array(avg_met_demand_max_7)[sel_index_7],\n",
    "                        np.array(avg_met_demand_max_8)[sel_index_8],\n",
    "                        np.array(avg_met_demand_max_9)[sel_index_9],\n",
    "                        np.array(avg_met_demand_max_10)[sel_index_10],\n",
    "                        np.array(avg_met_demand_max_11)[sel_index_11],\n",
    "                        np.array(avg_met_demand_max_12)[sel_index_12],\n",
    "                        np.array(avg_met_demand_max_13)[sel_index_13],\n",
    "                        np.array(avg_met_demand_max_14)[sel_index_14],\n",
    "                        np.array(avg_met_demand_max_15)[sel_index_15],\n",
    "                        np.array(avg_met_demand_max_16)[sel_index_16]]\n",
    "max_met_demand_mean_grid = []\n",
    "max_met_demand_std_grid = []\n",
    "for ii in range(len(max_scooter_per_area_list)):\n",
    "    max_met_demand_mean_grid.append(np.mean(max_met_demand_list_grid[ii]))\n",
    "    max_met_demand_std_grid.append(np.std(max_met_demand_list_grid[ii]))\n",
    "\n",
    "print(\"Plotting resulting graph...\")\n",
    "# plt.figure(figsize = (12, 9))\n",
    "l1 = plt.errorbar(max_scooter_per_area_list, max_met_demand_mean_grid, yerr=max_met_demand_std_grid, fmt='o-', capsize=5) # ecolor='gray', \n",
    "\n",
    "print(\"Plotting baseline 1...\")\n",
    "# plt.legend(loc='best',prop={'size': 10})\n",
    "plt.ylabel(\"Count of met demands\")\n",
    "plt.xlabel(\"max_scooter_per_area\")\n",
    "\n",
    "print(\"End: \" + datetime.now().strftime('%Y-%m-%d %H:%M:%S'))"
   ]
  },
  {
   "cell_type": "code",
   "execution_count": 49,
   "id": "2f1350b0",
   "metadata": {
    "scrolled": false
   },
   "outputs": [
    {
     "name": "stdout",
     "output_type": "stream",
     "text": [
      "End: 2025-07-09 22:09:17\n",
      "Plotting resulting graph...\n",
      "Plotting baseline 1...\n",
      "End: 2025-07-09 22:09:17\n"
     ]
    },
    {
     "data": {
      "image/png": "[encoded data removed]",
      "text/plain": [
       "<Figure size 432x288 with 1 Axes>"
      ]
     },
     "metadata": {
      "needs_background": "light"
     },
     "output_type": "display_data"
    }
   ],
   "source": [
    "# Plot the graphs of average rewards during testing phases of the policy\n",
    "# gradient method and the hand-crafted policies\n",
    "\n",
    "print(\"End: \" + datetime.now().strftime('%Y-%m-%d %H:%M:%S'))\n",
    "\n",
    "max_scooter_per_area_list = np.arange(2,17)\n",
    "max_scooter_num_list_grid = np.array([avg_scooter_num_max_2,\n",
    "                                avg_scooter_num_max_3,\n",
    "                                avg_scooter_num_max_4,\n",
    "                                avg_scooter_num_max_5,\n",
    "                                avg_scooter_num_max_6,\n",
    "                                avg_scooter_num_max_7,\n",
    "                                avg_scooter_num_max_8,\n",
    "                                avg_scooter_num_max_9,\n",
    "                                avg_scooter_num_max_10,\n",
    "                                avg_scooter_num_max_11,\n",
    "                                avg_scooter_num_max_12,\n",
    "                                avg_scooter_num_max_13,\n",
    "                                avg_scooter_num_max_14,\n",
    "                                avg_scooter_num_max_15,\n",
    "                                avg_scooter_num_max_16])\n",
    "max_scooter_num_mean_grid = np.mean(max_scooter_num_list_grid, axis=1)\n",
    "max_scooter_num_std_grid = np.std(max_scooter_num_list_grid, axis=1)\n",
    "\n",
    "print(\"Plotting resulting graph...\")\n",
    "# plt.figure(figsize = (12, 9))\n",
    "l1 = plt.errorbar(max_scooter_per_area_list, max_scooter_num_mean_grid, yerr=max_scooter_num_std_grid, fmt='o-', capsize=5) # ecolor='gray', \n",
    "\n",
    "print(\"Plotting baseline 1...\")\n",
    "# plt.legend(loc='best',prop={'size': 10})\n",
    "plt.ylabel(\"Count of scooter numbers\")\n",
    "plt.xlabel(\"max_scooter_per_area\")\n",
    "\n",
    "print(\"End: \" + datetime.now().strftime('%Y-%m-%d %H:%M:%S'))"
   ]
  },
  {
   "cell_type": "code",
   "execution_count": 50,
   "id": "7134e208",
   "metadata": {},
   "outputs": [
    {
     "data": {
      "text/plain": [
       "array([[142.2, 142.4, 138.4, 144.4, 141.6, 140.2, 140.6, 137.4, 141. ,\n",
       "        139.8],\n",
       "       [157.8, 156.8, 156.8, 164.2, 152.2, 155.6, 155.6, 157.6, 153.2,\n",
       "        159. ],\n",
       "       [167. , 167.2, 167.6, 165.8, 161.4, 158.6, 165.8, 169.6, 169. ,\n",
       "        166. ],\n",
       "       [168.4, 174. , 175.4, 168.4, 169.6, 174.2, 172. , 169.4, 170.6,\n",
       "        168.2],\n",
       "       [173.4, 170.4, 178.8, 174. , 169.4, 171.8, 174.6, 177.4, 177.6,\n",
       "        178.8],\n",
       "       [181.8, 176. , 179.4, 177.6, 183.2, 183. , 179.6, 174.4, 180. ,\n",
       "        175.6],\n",
       "       [179.8, 183. , 178. , 178.8, 178.8, 178. , 181. , 185.8, 169.8,\n",
       "        174.6],\n",
       "       [179.6, 178.6, 178.8, 179.6, 181.2, 182. , 176.4, 177.4, 179.2,\n",
       "        180.6],\n",
       "       [159.6, 177.6, 181.8, 179.4, 176.2, 175.4, 180.4, 180.6, 182.2,\n",
       "        181. ],\n",
       "       [180.4, 178.4, 177.6, 175.4, 176. , 177.2, 185.4, 180.4, 180.4,\n",
       "        177.2],\n",
       "       [179.4, 181.8, 184. , 180.4, 185. , 180.2, 183.6, 171.2, 185. ,\n",
       "        183.6],\n",
       "       [191.2, 178.8, 182.8, 174.2, 182.4, 177.6, 184.6, 181.4, 174.8,\n",
       "        181.6],\n",
       "       [183.8, 179.2, 177.2, 180. , 177.8, 178.8, 179.4, 180.2, 181.4,\n",
       "        178.6],\n",
       "       [179. , 183.2, 181. , 184.2, 182.2, 177.8, 182.8, 179.8, 187. ,\n",
       "        179.6],\n",
       "       [180.4, 178. , 182.6, 184.4, 181.2, 177. , 184.4, 183.2, 176.2,\n",
       "        179.4]])"
      ]
     },
     "execution_count": 50,
     "metadata": {},
     "output_type": "execute_result"
    }
   ],
   "source": [
    "max_scooter_num_list_grid"
   ]
  },
  {
   "cell_type": "code",
   "execution_count": 51,
   "id": "f6957f55",
   "metadata": {},
   "outputs": [
    {
     "name": "stdout",
     "output_type": "stream",
     "text": [
      "End: 2025-07-09 22:09:28\n",
      "Plotting resulting graph...\n",
      "Plotting baseline 1...\n",
      "End: 2025-07-09 22:09:28\n"
     ]
    },
    {
     "data": {
      "image/png": "[encoded data removed]",
      "text/plain": [
       "<Figure size 432x288 with 1 Axes>"
      ]
     },
     "metadata": {
      "needs_background": "light"
     },
     "output_type": "display_data"
    }
   ],
   "source": [
    "# Plot the graphs of average rewards during testing phases of the policy\n",
    "# gradient method and the hand-crafted policies\n",
    "\n",
    "print(\"End: \" + datetime.now().strftime('%Y-%m-%d %H:%M:%S'))\n",
    "\n",
    "max_scooter_per_area_list = np.arange(2,17)\n",
    "max_scooter_num_list_grid = [np.array(avg_scooter_num_max_2)[sel_index_2],\n",
    "                        np.array(avg_scooter_num_max_3)[sel_index_3],\n",
    "                        np.array(avg_scooter_num_max_4)[sel_index_4],\n",
    "                        np.array(avg_scooter_num_max_5)[sel_index_5],\n",
    "                        np.array(avg_scooter_num_max_6)[sel_index_6],\n",
    "                        np.array(avg_scooter_num_max_7)[sel_index_7],\n",
    "                        np.array(avg_scooter_num_max_8)[sel_index_8],\n",
    "                        np.array(avg_scooter_num_max_9)[sel_index_9],\n",
    "                        np.array(avg_scooter_num_max_10)[sel_index_10],\n",
    "                        np.array(avg_scooter_num_max_11)[sel_index_11],\n",
    "                        np.array(avg_scooter_num_max_12)[sel_index_12],\n",
    "                        np.array(avg_scooter_num_max_13)[sel_index_13],\n",
    "                        np.array(avg_scooter_num_max_14)[sel_index_14],\n",
    "                        np.array(avg_scooter_num_max_15)[sel_index_15],\n",
    "                        np.array(avg_scooter_num_max_16)[sel_index_16]]\n",
    "max_scooter_num_mean_grid = []\n",
    "max_scooter_num_std_grid = []\n",
    "for ii in range(len(max_scooter_per_area_list)):\n",
    "    max_scooter_num_mean_grid.append(np.mean(max_scooter_num_list_grid[ii]))\n",
    "    max_scooter_num_std_grid.append(np.std(max_scooter_num_list_grid[ii]))\n",
    "\n",
    "print(\"Plotting resulting graph...\")\n",
    "# plt.figure(figsize = (12, 9))\n",
    "l1 = plt.errorbar(max_scooter_per_area_list, max_scooter_num_mean_grid, yerr=max_scooter_num_std_grid, fmt='o-', capsize=5) # ecolor='gray', \n",
    "\n",
    "print(\"Plotting baseline 1...\")\n",
    "# plt.legend(loc='best',prop={'size': 10})\n",
    "plt.ylabel(\"Count of scooter numbers\")\n",
    "plt.xlabel(\"max_scooter_per_area\")\n",
    "\n",
    "print(\"End: \" + datetime.now().strftime('%Y-%m-%d %H:%M:%S'))"
   ]
  },
  {
   "cell_type": "code",
   "execution_count": 52,
   "id": "e1c54dee",
   "metadata": {},
   "outputs": [
    {
     "name": "stdout",
     "output_type": "stream",
     "text": [
      "End: 2025-07-09 22:09:33\n",
      "Plotting resulting graph...\n",
      "Plotting baseline 1...\n",
      "End: 2025-07-09 22:09:33\n"
     ]
    },
    {
     "data": {
      "image/png": "[encoded data removed]",
      "text/plain": [
       "<Figure size 432x288 with 1 Axes>"
      ]
     },
     "metadata": {
      "needs_background": "light"
     },
     "output_type": "display_data"
    }
   ],
   "source": [
    "# Plot the graphs of average rewards during testing phases of the policy\n",
    "# gradient method and the hand-crafted policies\n",
    "\n",
    "print(\"End: \" + datetime.now().strftime('%Y-%m-%d %H:%M:%S'))\n",
    "\n",
    "max_scooter_per_area_list = np.arange(2,17)\n",
    "max_scooter_loc_list_grid = np.array([avg_scooter_loc_max_2,\n",
    "                                avg_scooter_loc_max_3,\n",
    "                                avg_scooter_loc_max_4,\n",
    "                                avg_scooter_loc_max_5,\n",
    "                                avg_scooter_loc_max_6,\n",
    "                                avg_scooter_loc_max_7,\n",
    "                                avg_scooter_loc_max_8,\n",
    "                                avg_scooter_loc_max_9,\n",
    "                                avg_scooter_loc_max_10,\n",
    "                                avg_scooter_loc_max_11,\n",
    "                                avg_scooter_loc_max_12,\n",
    "                                avg_scooter_loc_max_13,\n",
    "                                avg_scooter_loc_max_14,\n",
    "                                avg_scooter_loc_max_15,\n",
    "                                avg_scooter_loc_max_16])\n",
    "max_scooter_loc_mean_grid = np.mean(max_scooter_loc_list_grid, axis=1)\n",
    "max_scooter_loc_std_grid = np.std(max_scooter_loc_list_grid, axis=1)\n",
    "\n",
    "print(\"Plotting resulting graph...\")\n",
    "# plt.figure(figsize = (12, 9))\n",
    "l1 = plt.errorbar(max_scooter_per_area_list, max_scooter_loc_mean_grid, yerr=max_scooter_loc_std_grid, fmt='o-', capsize=5) # ecolor='gray', \n",
    "\n",
    "print(\"Plotting baseline 1...\")\n",
    "# plt.legend(loc='best',prop={'size': 10})\n",
    "plt.ylabel(\"Count of scooter locations\")\n",
    "plt.xlabel(\"max_scooter_per_area\")\n",
    "\n",
    "print(\"End: \" + datetime.now().strftime('%Y-%m-%d %H:%M:%S'))"
   ]
  },
  {
   "cell_type": "code",
   "execution_count": 53,
   "id": "909b5738",
   "metadata": {
    "scrolled": true
   },
   "outputs": [
    {
     "data": {
      "text/plain": [
       "array([[107.2, 106. , 106.6, 108.6, 108. , 107.4, 104. , 103.2, 106.6,\n",
       "        104.2],\n",
       "       [103.2, 104.8, 106.6, 109.4, 103. , 104.4, 104.2, 105.2, 104.8,\n",
       "        105.6],\n",
       "       [104.2, 104.8, 108. , 108. , 106.2, 106. , 104.6, 107.2, 103.8,\n",
       "        104.8],\n",
       "       [111. , 106.4, 107.2, 105.6, 105.2, 106.2, 106.4, 107.8, 104.2,\n",
       "        104.2],\n",
       "       [104. , 103.4, 104.6, 101. , 108.8, 103.4, 103.4, 105.2, 104.2,\n",
       "        104.6],\n",
       "       [105.4, 102.8, 107.8, 103.6, 106. , 106.4, 108.4, 104.2, 104. ,\n",
       "        105.6],\n",
       "       [104.2, 105. , 108.6, 102.4, 104. , 105.4, 103.8, 105. , 108. ,\n",
       "        107. ],\n",
       "       [108.6, 106.2, 105.6, 105. , 108.4, 109. , 103.8, 106.4, 105. ,\n",
       "        103.4],\n",
       "       [100. , 102.8, 107.6, 106.6, 101.8, 103.4, 105.4, 104.6, 104.6,\n",
       "        106.4],\n",
       "       [107. , 105.4, 105.2, 103. , 102.4, 102.6, 107.2, 105.2, 104.2,\n",
       "        105.6],\n",
       "       [105.2, 102.4, 105.4, 105. , 104.8, 101.8, 105.8, 106.2, 104.8,\n",
       "        105.8],\n",
       "       [112.6, 104.8, 104.2, 102. , 105.6, 103.6, 106.8, 103.8, 105.4,\n",
       "        106.4],\n",
       "       [105.2, 106.4, 104.4, 107.2, 104.2, 107.2, 104.8, 104.2, 106.4,\n",
       "        103. ],\n",
       "       [105. , 105.8, 106.2, 105.2, 106.8, 105.4, 105. , 104.6, 109. ,\n",
       "        104. ],\n",
       "       [105.8, 102.6, 108.2, 104.8, 109. , 102.8, 105.4, 106.4, 105.4,\n",
       "        106.4]])"
      ]
     },
     "execution_count": 53,
     "metadata": {},
     "output_type": "execute_result"
    }
   ],
   "source": [
    "max_scooter_loc_list_grid"
   ]
  },
  {
   "cell_type": "code",
   "execution_count": 54,
   "id": "f4b1d750",
   "metadata": {},
   "outputs": [
    {
     "name": "stdout",
     "output_type": "stream",
     "text": [
      "End: 2025-07-09 22:09:40\n",
      "Plotting resulting graph...\n",
      "Plotting baseline 1...\n",
      "End: 2025-07-09 22:09:40\n"
     ]
    },
    {
     "data": {
      "image/png": "[encoded data removed]",
      "text/plain": [
       "<Figure size 432x288 with 1 Axes>"
      ]
     },
     "metadata": {
      "needs_background": "light"
     },
     "output_type": "display_data"
    }
   ],
   "source": [
    "# Plot the graphs of average rewards during testing phases of the policy\n",
    "# gradient method and the hand-crafted policies\n",
    "\n",
    "print(\"End: \" + datetime.now().strftime('%Y-%m-%d %H:%M:%S'))\n",
    "\n",
    "max_scooter_per_area_list = np.arange(2,17)\n",
    "max_scooter_loc_list_grid = [np.array(avg_scooter_loc_max_2)[sel_index_2],\n",
    "                        np.array(avg_scooter_loc_max_3)[sel_index_3],\n",
    "                        np.array(avg_scooter_loc_max_4)[sel_index_4],\n",
    "                        np.array(avg_scooter_loc_max_5)[sel_index_5],\n",
    "                        np.array(avg_scooter_loc_max_6)[sel_index_6],\n",
    "                        np.array(avg_scooter_loc_max_7)[sel_index_7],\n",
    "                        np.array(avg_scooter_loc_max_8)[sel_index_8],\n",
    "                        np.array(avg_scooter_loc_max_9)[sel_index_9],\n",
    "                        np.array(avg_scooter_loc_max_10)[sel_index_10],\n",
    "                        np.array(avg_scooter_loc_max_11)[sel_index_11],\n",
    "                        np.array(avg_scooter_loc_max_12)[sel_index_12],\n",
    "                        np.array(avg_scooter_loc_max_13)[sel_index_13],\n",
    "                        np.array(avg_scooter_loc_max_14)[sel_index_14],\n",
    "                        np.array(avg_scooter_loc_max_15)[sel_index_15],\n",
    "                        np.array(avg_scooter_loc_max_16)[sel_index_16]]\n",
    "max_scooter_loc_mean_grid = []\n",
    "max_scooter_loc_std_grid = []\n",
    "for ii in range(len(max_scooter_per_area_list)):\n",
    "    max_scooter_loc_mean_grid.append(np.mean(max_scooter_loc_list_grid[ii]))\n",
    "    max_scooter_loc_std_grid.append(np.std(max_scooter_loc_list_grid[ii]))\n",
    "\n",
    "print(\"Plotting resulting graph...\")\n",
    "# plt.figure(figsize = (12, 9))\n",
    "l1 = plt.errorbar(max_scooter_per_area_list, max_scooter_loc_mean_grid, yerr=max_scooter_loc_std_grid, fmt='o-', capsize=5) # ecolor='gray', \n",
    "\n",
    "print(\"Plotting baseline 1...\")\n",
    "# plt.legend(loc='best',prop={'size': 10})\n",
    "plt.ylabel(\"Count of scooter locations\")\n",
    "plt.xlabel(\"max_scooter_per_area\")\n",
    "\n",
    "print(\"End: \" + datetime.now().strftime('%Y-%m-%d %H:%M:%S'))"
   ]
  },
  {
   "cell_type": "code",
   "execution_count": 55,
   "id": "395b0814",
   "metadata": {},
   "outputs": [
    {
     "name": "stdout",
     "output_type": "stream",
     "text": [
      "End: 2025-07-09 22:09:47\n",
      "Plotting resulting graph...\n",
      "Plotting baseline 1...\n",
      "End: 2025-07-09 22:09:47\n"
     ]
    },
    {
     "data": {
      "image/png": "[encoded data removed]",
      "text/plain": [
       "<Figure size 432x288 with 1 Axes>"
      ]
     },
     "metadata": {
      "needs_background": "light"
     },
     "output_type": "display_data"
    }
   ],
   "source": [
    "# Plot the graphs of average rewards during testing phases of the policy\n",
    "# gradient method and the hand-crafted policies\n",
    "\n",
    "print(\"End: \" + datetime.now().strftime('%Y-%m-%d %H:%M:%S'))\n",
    "\n",
    "max_scooter_per_area_list = np.arange(2,17)\n",
    "max_wANNR_list_grid = np.array([avg_wANNR_max_2,\n",
    "                                avg_wANNR_max_3,\n",
    "                                avg_wANNR_max_4,\n",
    "                                avg_wANNR_max_5,\n",
    "                                avg_wANNR_max_6,\n",
    "                                avg_wANNR_max_7,\n",
    "                                avg_wANNR_max_8,\n",
    "                                avg_wANNR_max_9,\n",
    "                                avg_wANNR_max_10,\n",
    "                                avg_wANNR_max_11,\n",
    "                                avg_wANNR_max_12,\n",
    "                                avg_wANNR_max_13,\n",
    "                                avg_wANNR_max_14,\n",
    "                                avg_wANNR_max_15,\n",
    "                                avg_wANNR_max_16])\n",
    "max_wANNR_mean_grid = np.mean(max_wANNR_list_grid, axis=1)\n",
    "max_wANNR_std_grid = np.std(max_wANNR_list_grid, axis=1)\n",
    "\n",
    "print(\"Plotting resulting graph...\")\n",
    "# plt.figure(figsize = (12, 9))\n",
    "l1 = plt.errorbar(max_scooter_per_area_list, max_wANNR_mean_grid, yerr=max_wANNR_std_grid, fmt='o-', capsize=5) # ecolor='gray', \n",
    "\n",
    "print(\"Plotting baseline 1...\")\n",
    "# plt.legend(loc='best',prop={'size': 10})\n",
    "plt.ylabel(\"wANNR\")\n",
    "plt.xlabel(\"max_scooter_per_area\")\n",
    "\n",
    "print(\"End: \" + datetime.now().strftime('%Y-%m-%d %H:%M:%S'))"
   ]
  },
  {
   "cell_type": "code",
   "execution_count": 56,
   "id": "3aafeb84",
   "metadata": {},
   "outputs": [
    {
     "data": {
      "text/plain": [
       "array([[0.42630915, 0.42662277, 0.4205373 , 0.4296034 , 0.42528705,\n",
       "        0.42329515, 0.42388851, 0.41891853, 0.42451377, 0.42267223],\n",
       "       [0.4490684 , 0.44834794, 0.44763689, 0.45796918, 0.44088803,\n",
       "        0.44586946, 0.44591689, 0.44878726, 0.44238382, 0.45136313],\n",
       "       [0.46252153, 0.46294552, 0.46280588, 0.46032553, 0.45416092,\n",
       "        0.45013189, 0.46029548, 0.4655634 , 0.46475755, 0.46057452],\n",
       "       [0.46392494, 0.4715566 , 0.47346622, 0.46384521, 0.46577251,\n",
       "        0.47180472, 0.46884755, 0.46528408, 0.46693467, 0.4635162 ],\n",
       "       [0.47067994, 0.46642837, 0.4780107 , 0.47207212, 0.46520666,\n",
       "        0.46893248, 0.47229306, 0.47614879, 0.47640272, 0.47801627],\n",
       "       [0.48202096, 0.47417949, 0.4798827 , 0.47630773, 0.48441358,\n",
       "        0.48357761, 0.47905997, 0.47218657, 0.47958705, 0.47475689],\n",
       "       [0.47923227, 0.48358819, 0.4769471 , 0.47784184, 0.47785565,\n",
       "        0.47682792, 0.4808793 , 0.48752776, 0.46580539, 0.47224303],\n",
       "       [0.48015235, 0.47823044, 0.47788463, 0.47905327, 0.48120957,\n",
       "        0.48223273, 0.47451945, 0.47610648, 0.47844299, 0.48015246],\n",
       "       [0.45135658, 0.47617657, 0.48202893, 0.47881588, 0.47418708,\n",
       "        0.47393569, 0.48004842, 0.48035226, 0.48245804, 0.48130857],\n",
       "       [0.48168489, 0.47733655, 0.47626926, 0.47328865, 0.47451573,\n",
       "        0.47609329, 0.48676369, 0.48008569, 0.47996197, 0.47568997],\n",
       "       [0.47867772, 0.4821467 , 0.48488806, 0.48008204, 0.48623337,\n",
       "        0.48028972, 0.48434036, 0.46986398, 0.48620403, 0.48548332],\n",
       "       [0.49430449, 0.477856  , 0.48330749, 0.47146978, 0.48275509,\n",
       "        0.47629056, 0.48623814, 0.48143399, 0.47254982, 0.48228197],\n",
       "       [0.48460834, 0.47849401, 0.47565054, 0.48064177, 0.47822749,\n",
       "        0.47792822, 0.47872483, 0.48005257, 0.48142913, 0.47751508],\n",
       "       [0.47869081, 0.48382917, 0.48086715, 0.4856767 , 0.48303194,\n",
       "        0.47714275, 0.48379324, 0.47926515, 0.48881732, 0.4789261 ],\n",
       "       [0.48007277, 0.47668763, 0.48297047, 0.48542153, 0.48120132,\n",
       "        0.47535401, 0.48663477, 0.48383327, 0.474336  , 0.47881127]])"
      ]
     },
     "execution_count": 56,
     "metadata": {},
     "output_type": "execute_result"
    }
   ],
   "source": [
    "max_wANNR_list_grid"
   ]
  },
  {
   "cell_type": "code",
   "execution_count": 57,
   "id": "66db0af5",
   "metadata": {},
   "outputs": [
    {
     "name": "stdout",
     "output_type": "stream",
     "text": [
      "End: 2025-07-09 22:09:57\n",
      "Plotting resulting graph...\n",
      "Plotting baseline 1...\n",
      "End: 2025-07-09 22:09:57\n"
     ]
    },
    {
     "data": {
      "image/png": "[encoded data removed]",
      "text/plain": [
       "<Figure size 432x288 with 1 Axes>"
      ]
     },
     "metadata": {
      "needs_background": "light"
     },
     "output_type": "display_data"
    }
   ],
   "source": [
    "# Plot the graphs of average rewards during testing phases of the policy\n",
    "# gradient method and the hand-crafted policies\n",
    "\n",
    "print(\"End: \" + datetime.now().strftime('%Y-%m-%d %H:%M:%S'))\n",
    "\n",
    "max_scooter_per_area_list = np.arange(2,17)\n",
    "max_wANNR_list_grid = [np.array(avg_wANNR_max_2)[sel_index_2],\n",
    "                        np.array(avg_wANNR_max_3)[sel_index_3],\n",
    "                        np.array(avg_wANNR_max_4)[sel_index_4],\n",
    "                        np.array(avg_wANNR_max_5)[sel_index_5],\n",
    "                        np.array(avg_wANNR_max_6)[sel_index_6],\n",
    "                        np.array(avg_wANNR_max_7)[sel_index_7],\n",
    "                        np.array(avg_wANNR_max_8)[sel_index_8],\n",
    "                        np.array(avg_wANNR_max_9)[sel_index_9],\n",
    "                        np.array(avg_wANNR_max_10)[sel_index_10],\n",
    "                        np.array(avg_wANNR_max_11)[sel_index_11],\n",
    "                        np.array(avg_wANNR_max_12)[sel_index_12],\n",
    "                        np.array(avg_wANNR_max_13)[sel_index_13],\n",
    "                        np.array(avg_wANNR_max_14)[sel_index_14],\n",
    "                        np.array(avg_wANNR_max_15)[sel_index_15],\n",
    "                        np.array(avg_wANNR_max_16)[sel_index_16]]\n",
    "max_wANNR_mean_grid = []\n",
    "max_wANNR_std_grid = []\n",
    "for ii in range(len(max_scooter_per_area_list)):\n",
    "    max_wANNR_mean_grid.append(np.mean(max_wANNR_list_grid[ii]))\n",
    "    max_wANNR_std_grid.append(np.std(max_wANNR_list_grid[ii]))\n",
    "\n",
    "print(\"Plotting resulting graph...\")\n",
    "# plt.figure(figsize = (12, 9))\n",
    "l1 = plt.errorbar(max_scooter_per_area_list, max_wANNR_mean_grid, yerr=max_wANNR_std_grid, fmt='o-', capsize=5) # ecolor='gray', \n",
    "\n",
    "print(\"Plotting baseline 1...\")\n",
    "# plt.legend(loc='best',prop={'size': 10})\n",
    "plt.ylabel(\"wANNR\")\n",
    "plt.xlabel(\"max_scooter_per_area\")\n",
    "\n",
    "print(\"End: \" + datetime.now().strftime('%Y-%m-%d %H:%M:%S'))"
   ]
  },
  {
   "cell_type": "code",
   "execution_count": 58,
   "id": "1995c33d",
   "metadata": {},
   "outputs": [
    {
     "name": "stdout",
     "output_type": "stream",
     "text": [
      "End: 2025-07-09 22:10:06\n",
      "Plotting resulting graph...\n",
      "Plotting baseline 1...\n",
      "End: 2025-07-09 22:10:06\n"
     ]
    },
    {
     "data": {
      "image/png": "[encoded data removed]",
      "text/plain": [
       "<Figure size 432x288 with 1 Axes>"
      ]
     },
     "metadata": {
      "needs_background": "light"
     },
     "output_type": "display_data"
    }
   ],
   "source": [
    "# Plot the graphs of average rewards during testing phases of the policy\n",
    "# gradient method and the hand-crafted policies\n",
    "\n",
    "print(\"End: \" + datetime.now().strftime('%Y-%m-%d %H:%M:%S'))\n",
    "\n",
    "max_scooter_per_area_list = np.arange(2,17)\n",
    "max_moran_list_grid = np.array([avg_moran_max_2,\n",
    "                                avg_moran_max_3,\n",
    "                                avg_moran_max_4,\n",
    "                                avg_moran_max_5,\n",
    "                                avg_moran_max_6,\n",
    "                                avg_moran_max_7,\n",
    "                                avg_moran_max_8,\n",
    "                                avg_moran_max_9,\n",
    "                                avg_moran_max_10,\n",
    "                                avg_moran_max_11,\n",
    "                                avg_moran_max_12,\n",
    "                                avg_moran_max_13,\n",
    "                                avg_moran_max_14,\n",
    "                                avg_moran_max_15,\n",
    "                                avg_moran_max_16])\n",
    "max_moran_mean_grid = np.mean(max_moran_list_grid, axis=1)\n",
    "max_moran_std_grid = np.std(max_moran_list_grid, axis=1)\n",
    "\n",
    "print(\"Plotting resulting graph...\")\n",
    "# plt.figure(figsize = (12, 9))\n",
    "l1 = plt.errorbar(max_scooter_per_area_list, max_moran_mean_grid, yerr=max_moran_std_grid, fmt='o-', capsize=5) # ecolor='gray', \n",
    "\n",
    "print(\"Plotting baseline 1...\")\n",
    "# plt.legend(loc='best',prop={'size': 10})\n",
    "plt.ylabel(\"Moran's I\")\n",
    "plt.xlabel(\"max_scooter_per_area\")\n",
    "\n",
    "print(\"End: \" + datetime.now().strftime('%Y-%m-%d %H:%M:%S'))"
   ]
  },
  {
   "cell_type": "code",
   "execution_count": 59,
   "id": "c15474f8",
   "metadata": {},
   "outputs": [
    {
     "data": {
      "text/plain": [
       "array([[0.04561468, 0.04361595, 0.04263406, 0.04783694, 0.04244752,\n",
       "        0.04532318, 0.04383265, 0.0434926 , 0.04646906, 0.04553408],\n",
       "       [0.04487134, 0.04513436, 0.04726375, 0.04832049, 0.04296621,\n",
       "        0.04478206, 0.04487177, 0.04397032, 0.04444369, 0.04598176],\n",
       "       [0.04425198, 0.04371188, 0.04407318, 0.04219044, 0.04266075,\n",
       "        0.04003418, 0.0427092 , 0.04569282, 0.04280449, 0.04283975],\n",
       "       [0.04108376, 0.04251112, 0.04427557, 0.04017264, 0.04293217,\n",
       "        0.04069886, 0.04032302, 0.04482239, 0.04035288, 0.04074884],\n",
       "       [0.041947  , 0.04052226, 0.04123598, 0.03760284, 0.04055792,\n",
       "        0.04031668, 0.03828591, 0.04105024, 0.0411217 , 0.04053983],\n",
       "       [0.04136234, 0.03807281, 0.03977377, 0.03915206, 0.03781222,\n",
       "        0.03841417, 0.03911615, 0.0376104 , 0.03803219, 0.03948247],\n",
       "       [0.03801364, 0.04109012, 0.03542373, 0.03925258, 0.03828862,\n",
       "        0.03668059, 0.03592952, 0.03703228, 0.04335354, 0.04051822],\n",
       "       [0.03881974, 0.03635249, 0.03677588, 0.03810902, 0.03575454,\n",
       "        0.03839408, 0.03795275, 0.04138324, 0.03839033, 0.03928172],\n",
       "       [0.03815952, 0.03573389, 0.03725282, 0.03849527, 0.03947606,\n",
       "        0.03679072, 0.03817749, 0.03670542, 0.03841361, 0.0371793 ],\n",
       "       [0.03735251, 0.03859575, 0.03830878, 0.04106707, 0.03631305,\n",
       "        0.03744503, 0.03843845, 0.03617602, 0.03472757, 0.03973775],\n",
       "       [0.03740522, 0.03705528, 0.03678046, 0.03727703, 0.03582076,\n",
       "        0.03548392, 0.03653482, 0.04087112, 0.03756932, 0.03669118],\n",
       "       [0.03761119, 0.03610795, 0.03574492, 0.03832383, 0.0388954 ,\n",
       "        0.03752401, 0.03953051, 0.03831868, 0.03910473, 0.03617176],\n",
       "       [0.03838022, 0.03828219, 0.04067973, 0.03925282, 0.03619524,\n",
       "        0.03849117, 0.03604445, 0.0373019 , 0.03995584, 0.03694188],\n",
       "       [0.03962096, 0.03715621, 0.03723695, 0.03704559, 0.03690055,\n",
       "        0.03704085, 0.03758009, 0.03818372, 0.03670346, 0.03663308],\n",
       "       [0.03836153, 0.03726841, 0.03718562, 0.03542912, 0.0382609 ,\n",
       "        0.04102037, 0.03503546, 0.03521062, 0.03687087, 0.03764462]])"
      ]
     },
     "execution_count": 59,
     "metadata": {},
     "output_type": "execute_result"
    }
   ],
   "source": [
    "max_moran_list_grid"
   ]
  },
  {
   "cell_type": "code",
   "execution_count": 60,
   "id": "bbec88e4",
   "metadata": {},
   "outputs": [
    {
     "name": "stdout",
     "output_type": "stream",
     "text": [
      "End: 2025-07-09 22:10:12\n",
      "Plotting resulting graph...\n",
      "Plotting baseline 1...\n",
      "End: 2025-07-09 22:10:12\n"
     ]
    },
    {
     "data": {
      "image/png": "[encoded data removed]",
      "text/plain": [
       "<Figure size 432x288 with 1 Axes>"
      ]
     },
     "metadata": {
      "needs_background": "light"
     },
     "output_type": "display_data"
    }
   ],
   "source": [
    "# Plot the graphs of average rewards during testing phases of the policy\n",
    "# gradient method and the hand-crafted policies\n",
    "\n",
    "print(\"End: \" + datetime.now().strftime('%Y-%m-%d %H:%M:%S'))\n",
    "\n",
    "max_scooter_per_area_list = np.arange(2,17)\n",
    "max_moran_list_grid = [np.array(avg_moran_max_2)[sel_index_2],\n",
    "                        np.array(avg_moran_max_3)[sel_index_3],\n",
    "                        np.array(avg_moran_max_4)[sel_index_4],\n",
    "                        np.array(avg_moran_max_5)[sel_index_5],\n",
    "                        np.array(avg_moran_max_6)[sel_index_6],\n",
    "                        np.array(avg_moran_max_7)[sel_index_7],\n",
    "                        np.array(avg_moran_max_8)[sel_index_8],\n",
    "                        np.array(avg_moran_max_9)[sel_index_9],\n",
    "                        np.array(avg_moran_max_10)[sel_index_10],\n",
    "                        np.array(avg_moran_max_11)[sel_index_11],\n",
    "                        np.array(avg_moran_max_12)[sel_index_12],\n",
    "                        np.array(avg_moran_max_13)[sel_index_13],\n",
    "                        np.array(avg_moran_max_14)[sel_index_14],\n",
    "                        np.array(avg_moran_max_15)[sel_index_15],\n",
    "                        np.array(avg_moran_max_16)[sel_index_16]]\n",
    "max_moran_mean_grid = []\n",
    "max_moran_std_grid = []\n",
    "for ii in range(len(max_scooter_per_area_list)):\n",
    "    max_moran_mean_grid.append(np.mean(max_moran_list_grid[ii]))\n",
    "    max_moran_std_grid.append(np.std(max_moran_list_grid[ii]))\n",
    "\n",
    "print(\"Plotting resulting graph...\")\n",
    "# plt.figure(figsize = (12, 9))\n",
    "l1 = plt.errorbar(max_scooter_per_area_list, max_moran_mean_grid, yerr=max_moran_std_grid, fmt='o-', capsize=5) # ecolor='gray', \n",
    "\n",
    "print(\"Plotting baseline 1...\")\n",
    "# plt.legend(loc='best',prop={'size': 10})\n",
    "plt.ylabel(\"Moran's I\")\n",
    "plt.xlabel(\"max_scooter_per_area\")\n",
    "\n",
    "print(\"End: \" + datetime.now().strftime('%Y-%m-%d %H:%M:%S'))"
   ]
  },
  {
   "cell_type": "code",
   "execution_count": 61,
   "id": "622617ec",
   "metadata": {},
   "outputs": [
    {
     "name": "stdout",
     "output_type": "stream",
     "text": [
      "End: 2025-07-09 22:10:18\n",
      "Plotting resulting graph...\n",
      "Plotting baseline 1...\n",
      "End: 2025-07-09 22:10:18\n"
     ]
    },
    {
     "data": {
      "image/png": "[encoded data removed]",
      "text/plain": [
       "<Figure size 432x288 with 1 Axes>"
      ]
     },
     "metadata": {
      "needs_background": "light"
     },
     "output_type": "display_data"
    }
   ],
   "source": [
    "# Plot the graphs of average rewards during testing phases of the policy\n",
    "# gradient method and the hand-crafted policies\n",
    "\n",
    "print(\"End: \" + datetime.now().strftime('%Y-%m-%d %H:%M:%S'))\n",
    "\n",
    "max_scooter_per_area_list = np.arange(2,17)\n",
    "max_gini_list_grid = np.array([avg_gini_max_2,\n",
    "                                avg_gini_max_3,\n",
    "                                avg_gini_max_4,\n",
    "                                avg_gini_max_5,\n",
    "                                avg_gini_max_6,\n",
    "                                avg_gini_max_7,\n",
    "                                avg_gini_max_8,\n",
    "                                avg_gini_max_9,\n",
    "                                avg_gini_max_10,\n",
    "                                avg_gini_max_11,\n",
    "                                avg_gini_max_12,\n",
    "                                avg_gini_max_13,\n",
    "                                avg_gini_max_14,\n",
    "                                avg_gini_max_15,\n",
    "                                avg_gini_max_16])\n",
    "max_gini_mean_grid = np.mean(max_gini_list_grid, axis=1)\n",
    "max_gini_std_grid = np.std(max_gini_list_grid, axis=1)\n",
    "\n",
    "print(\"Plotting resulting graph...\")\n",
    "# plt.figure(figsize = (12, 9))\n",
    "l1 = plt.errorbar(max_scooter_per_area_list, max_gini_mean_grid, yerr=max_gini_std_grid, fmt='o-', capsize=5) # ecolor='gray', \n",
    "\n",
    "print(\"Plotting baseline 1...\")\n",
    "# plt.legend(loc='best',prop={'size': 10})\n",
    "plt.ylabel(\"Gini index\")\n",
    "plt.xlabel(\"max_scooter_per_area\")\n",
    "\n",
    "print(\"End: \" + datetime.now().strftime('%Y-%m-%d %H:%M:%S'))"
   ]
  },
  {
   "cell_type": "code",
   "execution_count": 62,
   "id": "b8a3ecb2",
   "metadata": {},
   "outputs": [
    {
     "data": {
      "text/plain": [
       "array([[0.9351431 , 0.93626097, 0.93522096, 0.93461474, 0.93464726,\n",
       "        0.93488225, 0.93759037, 0.93767673, 0.93568538, 0.93730821],\n",
       "       [0.94343522, 0.94210769, 0.94086278, 0.9397143 , 0.94271891,\n",
       "        0.94224756, 0.94249074, 0.94192817, 0.94179204, 0.94186589],\n",
       "       [0.9455163 , 0.94515409, 0.94280494, 0.94260292, 0.94311555,\n",
       "        0.94260265, 0.9450128 , 0.94352347, 0.94601964, 0.94492531],\n",
       "       [0.94179325, 0.94558517, 0.9452163 , 0.94552713, 0.94602519,\n",
       "        0.94585443, 0.94526366, 0.94347098, 0.94685578, 0.94635618],\n",
       "       [0.9479489 , 0.94756008, 0.94828906, 0.95044591, 0.94275403,\n",
       "        0.94791154, 0.94846103, 0.94752917, 0.94807011, 0.9482368 ],\n",
       "       [0.94846988, 0.94983234, 0.94619   , 0.94917554, 0.94816573,\n",
       "        0.94812284, 0.94564954, 0.9479576 , 0.94914894, 0.94683318],\n",
       "       [0.94901532, 0.94903609, 0.94591283, 0.9505191 , 0.94893585,\n",
       "        0.94789061, 0.94981543, 0.94963753, 0.94452006, 0.94590453],\n",
       "       [0.94578665, 0.94767427, 0.94800579, 0.94812129, 0.94690416,\n",
       "        0.94552992, 0.94887062, 0.94701797, 0.94837873, 0.95013756],\n",
       "       [0.94922897, 0.95004545, 0.94679992, 0.9471539 , 0.95019125,\n",
       "        0.94877879, 0.94823019, 0.94893486, 0.94934079, 0.94778293],\n",
       "       [0.94713519, 0.94808326, 0.94770689, 0.94940953, 0.94995457,\n",
       "        0.94994069, 0.94771233, 0.94867571, 0.94976079, 0.9474837 ],\n",
       "       [0.94826258, 0.95072327, 0.94913317, 0.94866475, 0.94991519,\n",
       "        0.9515546 , 0.94856405, 0.94666075, 0.9497635 , 0.94873494],\n",
       "       [0.94481187, 0.94874969, 0.94970113, 0.94978185, 0.9485203 ,\n",
       "        0.94901896, 0.94805929, 0.9496712 , 0.94747715, 0.94802889],\n",
       "       [0.94934758, 0.94708409, 0.94841573, 0.94656958, 0.94867637,\n",
       "        0.94616527, 0.94887804, 0.94916477, 0.94761807, 0.95000929],\n",
       "       [0.94826369, 0.94845524, 0.9480249 , 0.94940948, 0.94754461,\n",
       "        0.94766733, 0.94923515, 0.94901339, 0.94675719, 0.94939263],\n",
       "       [0.94801499, 0.95020626, 0.94687631, 0.94988326, 0.94587713,\n",
       "        0.94944553, 0.9492841 , 0.94862013, 0.94740436, 0.94708702]])"
      ]
     },
     "execution_count": 62,
     "metadata": {},
     "output_type": "execute_result"
    }
   ],
   "source": [
    "max_gini_list_grid"
   ]
  },
  {
   "cell_type": "code",
   "execution_count": 63,
   "id": "3331d0c3",
   "metadata": {},
   "outputs": [
    {
     "name": "stdout",
     "output_type": "stream",
     "text": [
      "End: 2025-07-09 22:10:28\n",
      "Plotting resulting graph...\n",
      "Plotting baseline 1...\n",
      "End: 2025-07-09 22:10:28\n"
     ]
    },
    {
     "data": {
      "image/png": "[encoded data removed]",
      "text/plain": [
       "<Figure size 432x288 with 1 Axes>"
      ]
     },
     "metadata": {
      "needs_background": "light"
     },
     "output_type": "display_data"
    }
   ],
   "source": [
    "# Plot the graphs of average rewards during testing phases of the policy\n",
    "# gradient method and the hand-crafted policies\n",
    "\n",
    "print(\"End: \" + datetime.now().strftime('%Y-%m-%d %H:%M:%S'))\n",
    "\n",
    "max_scooter_per_area_list = np.arange(2,17)\n",
    "max_gini_list_grid = [np.array(avg_gini_max_2)[sel_index_2],\n",
    "                        np.array(avg_gini_max_3)[sel_index_3],\n",
    "                        np.array(avg_gini_max_4)[sel_index_4],\n",
    "                        np.array(avg_gini_max_5)[sel_index_5],\n",
    "                        np.array(avg_gini_max_6)[sel_index_6],\n",
    "                        np.array(avg_gini_max_7)[sel_index_7],\n",
    "                        np.array(avg_gini_max_8)[sel_index_8],\n",
    "                        np.array(avg_gini_max_9)[sel_index_9],\n",
    "                        np.array(avg_gini_max_10)[sel_index_10],\n",
    "                        np.array(avg_gini_max_11)[sel_index_11],\n",
    "                        np.array(avg_gini_max_12)[sel_index_12],\n",
    "                        np.array(avg_gini_max_13)[sel_index_13],\n",
    "                        np.array(avg_gini_max_14)[sel_index_14],\n",
    "                        np.array(avg_gini_max_15)[sel_index_15],\n",
    "                        np.array(avg_gini_max_16)[sel_index_16]]\n",
    "max_gini_mean_grid = []\n",
    "max_gini_std_grid = []\n",
    "for ii in range(len(max_scooter_per_area_list)):\n",
    "    max_gini_mean_grid.append(np.mean(max_gini_list_grid[ii]))\n",
    "    max_gini_std_grid.append(np.std(max_gini_list_grid[ii]))\n",
    "\n",
    "print(\"Plotting resulting graph...\")\n",
    "# plt.figure(figsize = (12, 9))\n",
    "l1 = plt.errorbar(max_scooter_per_area_list, max_gini_mean_grid, yerr=max_gini_std_grid, fmt='o-', capsize=5) # ecolor='gray', \n",
    "\n",
    "print(\"Plotting baseline 1...\")\n",
    "# plt.legend(loc='best',prop={'size': 10})\n",
    "plt.ylabel(\"Gini index\")\n",
    "plt.xlabel(\"max_scooter_per_area\")\n",
    "\n",
    "print(\"End: \" + datetime.now().strftime('%Y-%m-%d %H:%M:%S'))"
   ]
  },
  {
   "cell_type": "code",
   "execution_count": 64,
   "id": "9399863c",
   "metadata": {},
   "outputs": [
    {
     "name": "stdout",
     "output_type": "stream",
     "text": [
      "End: 2025-07-09 22:10:31\n",
      "Plotting resulting graph...\n",
      "Plotting baseline 1...\n",
      "End: 2025-07-09 22:10:31\n"
     ]
    },
    {
     "data": {
      "image/png": "[encoded data removed]",
      "text/plain": [
       "<Figure size 432x288 with 1 Axes>"
      ]
     },
     "metadata": {
      "needs_background": "light"
     },
     "output_type": "display_data"
    }
   ],
   "source": [
    "# Plot the graphs of average rewards during testing phases of the policy\n",
    "# gradient method and the hand-crafted policies\n",
    "\n",
    "print(\"End: \" + datetime.now().strftime('%Y-%m-%d %H:%M:%S'))\n",
    "\n",
    "max_scooter_per_area_list = np.arange(2,17)\n",
    "max_theil_list_grid = np.array([avg_theil_max_2,\n",
    "                                avg_theil_max_3,\n",
    "                                avg_theil_max_4,\n",
    "                                avg_theil_max_5,\n",
    "                                avg_theil_max_6,\n",
    "                                avg_theil_max_7,\n",
    "                                avg_theil_max_8,\n",
    "                                avg_theil_max_9,\n",
    "                                avg_theil_max_10,\n",
    "                                avg_theil_max_11,\n",
    "                                avg_theil_max_12,\n",
    "                                avg_theil_max_13,\n",
    "                                avg_theil_max_14,\n",
    "                                avg_theil_max_15,\n",
    "                                avg_theil_max_16])\n",
    "max_theil_mean_grid = np.mean(max_theil_list_grid, axis=1)\n",
    "max_theil_std_grid = np.std(max_theil_list_grid, axis=1)\n",
    "\n",
    "print(\"Plotting resulting graph...\")\n",
    "# plt.figure(figsize = (12, 9))\n",
    "l1 = plt.errorbar(max_scooter_per_area_list, max_theil_mean_grid, yerr=max_theil_std_grid, fmt='o-', capsize=5) # ecolor='gray', \n",
    "\n",
    "print(\"Plotting baseline 1...\")\n",
    "# plt.legend(loc='best',prop={'size': 10})\n",
    "plt.ylabel(\"Theil index\")\n",
    "plt.xlabel(\"max_scooter_per_area\")\n",
    "\n",
    "print(\"End: \" + datetime.now().strftime('%Y-%m-%d %H:%M:%S'))"
   ]
  },
  {
   "cell_type": "code",
   "execution_count": 65,
   "id": "18efe939",
   "metadata": {},
   "outputs": [
    {
     "data": {
      "text/plain": [
       "array([[0.05692693, 0.05834145, 0.05581885, 0.05815735, 0.05699665,\n",
       "        0.05645467, 0.05876966, 0.05713931, 0.05764841, 0.05816195],\n",
       "       [0.10901988, 0.10736534, 0.10669685, 0.10849949, 0.1040079 ,\n",
       "        0.10712611, 0.10794563, 0.10735211, 0.10876473, 0.10873105],\n",
       "       [0.14667883, 0.14751571, 0.14201436, 0.14272615, 0.13618161,\n",
       "        0.12903901, 0.14445548, 0.14287496, 0.1492531 , 0.14516511],\n",
       "       [0.16446812, 0.16999016, 0.17042425, 0.16803971, 0.16894805,\n",
       "        0.1718318 , 0.16710298, 0.15296699, 0.17287474, 0.16734204],\n",
       "       [0.19389771, 0.18161075, 0.19741537, 0.20541711, 0.15673245,\n",
       "        0.18501649, 0.19322327, 0.19352237, 0.1899963 , 0.19733964],\n",
       "       [0.21537347, 0.21835852, 0.1974568 , 0.21235138, 0.21329421,\n",
       "        0.22117446, 0.20347755, 0.2009356 , 0.21343595, 0.19327328],\n",
       "       [0.21602542, 0.22177662, 0.21867293, 0.22681495, 0.2125399 ,\n",
       "        0.21362824, 0.22812893, 0.23122109, 0.18417693, 0.19270397],\n",
       "       [0.20275749, 0.21523597, 0.2193255 , 0.20479118, 0.23391874,\n",
       "        0.20069905, 0.21597802, 0.20067656, 0.21589128, 0.22991397],\n",
       "       [0.19544713, 0.22899931, 0.20692792, 0.21150113, 0.21502034,\n",
       "        0.20455243, 0.21655932, 0.22284822, 0.22788548, 0.22370434],\n",
       "       [0.21892985, 0.21700943, 0.20514101, 0.2106596 , 0.22211906,\n",
       "        0.22248936, 0.22035971, 0.22558515, 0.24407932, 0.2097798 ],\n",
       "       [0.21892524, 0.22843536, 0.23117542, 0.21864247, 0.23926932,\n",
       "        0.24850359, 0.22426177, 0.20599729, 0.23705594, 0.23067665],\n",
       "       [0.21860683, 0.22745495, 0.22689045, 0.21208766, 0.22097376,\n",
       "        0.20875764, 0.22763191, 0.22363056, 0.20741728, 0.23323417],\n",
       "       [0.23479445, 0.20581609, 0.20861772, 0.20223377, 0.2107463 ,\n",
       "        0.19604406, 0.22592554, 0.21909641, 0.21494948, 0.22894609],\n",
       "       [0.21309888, 0.2213916 , 0.22395245, 0.23782821, 0.22251978,\n",
       "        0.2082169 , 0.2346047 , 0.22700388, 0.22454107, 0.22481202],\n",
       "       [0.21578475, 0.22539539, 0.2306376 , 0.24274755, 0.2082861 ,\n",
       "        0.20754327, 0.23745616, 0.24407298, 0.20741671, 0.20013065]])"
      ]
     },
     "execution_count": 65,
     "metadata": {},
     "output_type": "execute_result"
    }
   ],
   "source": [
    "max_theil_list_grid"
   ]
  },
  {
   "cell_type": "code",
   "execution_count": 66,
   "id": "e57faad4",
   "metadata": {},
   "outputs": [
    {
     "name": "stdout",
     "output_type": "stream",
     "text": [
      "End: 2025-07-09 22:10:37\n",
      "Plotting resulting graph...\n",
      "Plotting baseline 1...\n",
      "End: 2025-07-09 22:10:37\n"
     ]
    },
    {
     "data": {
      "image/png": "[encoded data removed]",
      "text/plain": [
       "<Figure size 432x288 with 1 Axes>"
      ]
     },
     "metadata": {
      "needs_background": "light"
     },
     "output_type": "display_data"
    }
   ],
   "source": [
    "# Plot the graphs of average rewards during testing phases of the policy\n",
    "# gradient method and the hand-crafted policies\n",
    "\n",
    "print(\"End: \" + datetime.now().strftime('%Y-%m-%d %H:%M:%S'))\n",
    "\n",
    "max_scooter_per_area_list = np.arange(2,17)\n",
    "max_theil_list_grid = [np.array(avg_theil_max_2)[sel_index_2],\n",
    "                        np.array(avg_theil_max_3)[sel_index_3],\n",
    "                        np.array(avg_theil_max_4)[sel_index_4],\n",
    "                        np.array(avg_theil_max_5)[sel_index_5],\n",
    "                        np.array(avg_theil_max_6)[sel_index_6],\n",
    "                        np.array(avg_theil_max_7)[sel_index_7],\n",
    "                        np.array(avg_theil_max_8)[sel_index_8],\n",
    "                        np.array(avg_theil_max_9)[sel_index_9],\n",
    "                        np.array(avg_theil_max_10)[sel_index_10],\n",
    "                        np.array(avg_theil_max_11)[sel_index_11],\n",
    "                        np.array(avg_theil_max_12)[sel_index_12],\n",
    "                        np.array(avg_theil_max_13)[sel_index_13],\n",
    "                        np.array(avg_theil_max_14)[sel_index_14],\n",
    "                        np.array(avg_theil_max_15)[sel_index_15],\n",
    "                        np.array(avg_theil_max_16)[sel_index_16]]\n",
    "max_theil_mean_grid = []\n",
    "max_theil_std_grid = []\n",
    "for ii in range(len(max_scooter_per_area_list)):\n",
    "    max_theil_mean_grid.append(np.mean(max_theil_list_grid[ii]))\n",
    "    max_theil_std_grid.append(np.std(max_theil_list_grid[ii]))\n",
    "\n",
    "print(\"Plotting resulting graph...\")\n",
    "# plt.figure(figsize = (12, 9))\n",
    "l1 = plt.errorbar(max_scooter_per_area_list, max_theil_mean_grid, yerr=max_theil_std_grid, fmt='o-', capsize=5) # ecolor='gray', \n",
    "\n",
    "print(\"Plotting baseline 1...\")\n",
    "# plt.legend(loc='best',prop={'size': 10})\n",
    "plt.ylabel(\"Theil index\")\n",
    "plt.xlabel(\"max_scooter_per_area\")\n",
    "\n",
    "print(\"End: \" + datetime.now().strftime('%Y-%m-%d %H:%M:%S'))"
   ]
  },
  {
   "cell_type": "code",
   "execution_count": 67,
   "id": "5d0636e8",
   "metadata": {},
   "outputs": [
    {
     "name": "stdout",
     "output_type": "stream",
     "text": [
      "End: 2025-07-09 22:10:41\n",
      "Plotting resulting graph...\n",
      "Plotting baseline 1...\n",
      "End: 2025-07-09 22:10:41\n"
     ]
    },
    {
     "data": {
      "image/png": "[encoded data removed]",
      "text/plain": [
       "<Figure size 432x288 with 1 Axes>"
      ]
     },
     "metadata": {
      "needs_background": "light"
     },
     "output_type": "display_data"
    }
   ],
   "source": [
    "# Plot the graphs of average rewards during testing phases of the policy\n",
    "# gradient method and the hand-crafted policies\n",
    "\n",
    "print(\"End: \" + datetime.now().strftime('%Y-%m-%d %H:%M:%S'))\n",
    "\n",
    "max_scooter_per_area_list = np.arange(2,17)\n",
    "max_EMD_list_grid = np.array([avg_EMD_max_2,\n",
    "                                avg_EMD_max_3,\n",
    "                                avg_EMD_max_4,\n",
    "                                avg_EMD_max_5,\n",
    "                                avg_EMD_max_6,\n",
    "                                avg_EMD_max_7,\n",
    "                                avg_EMD_max_8,\n",
    "                                avg_EMD_max_9,\n",
    "                                avg_EMD_max_10,\n",
    "                                avg_EMD_max_11,\n",
    "                                avg_EMD_max_12,\n",
    "                                avg_EMD_max_13,\n",
    "                                avg_EMD_max_14,\n",
    "                                avg_EMD_max_15,\n",
    "                                avg_EMD_max_16])\n",
    "max_EMD_mean_grid = np.mean(max_EMD_list_grid, axis=1)\n",
    "max_EMD_std_grid = np.std(max_EMD_list_grid, axis=1)\n",
    "\n",
    "print(\"Plotting resulting graph...\")\n",
    "# plt.figure(figsize = (12, 9))\n",
    "l1 = plt.errorbar(max_scooter_per_area_list, max_EMD_mean_grid, yerr=max_EMD_std_grid, fmt='o-', capsize=5) # ecolor='gray', \n",
    "\n",
    "print(\"Plotting baseline 1...\")\n",
    "# plt.legend(loc='best',prop={'size': 10})\n",
    "plt.ylabel(\"EMD\")\n",
    "plt.xlabel(\"max_scooter_per_area\")\n",
    "\n",
    "print(\"End: \" + datetime.now().strftime('%Y-%m-%d %H:%M:%S'))"
   ]
  },
  {
   "cell_type": "code",
   "execution_count": 68,
   "id": "88c0520f",
   "metadata": {},
   "outputs": [
    {
     "data": {
      "text/plain": [
       "array([[1.84190052, 1.82604965, 1.79640185, 1.85145856, 1.77396779,\n",
       "        1.80990146, 1.84531584, 1.84462533, 1.85527302, 1.8548528 ],\n",
       "       [1.93561687, 1.90222719, 1.91371868, 1.90477514, 1.89733066,\n",
       "        1.90238358, 1.91783578, 1.89874509, 1.917925  , 1.91453439],\n",
       "       [1.98746627, 1.95761685, 1.92854216, 1.88424717, 1.91934814,\n",
       "        1.88944632, 1.93338356, 1.95604013, 1.96023896, 1.94297913],\n",
       "       [1.91505286, 1.98434906, 1.98662621, 1.94454588, 2.00147221,\n",
       "        1.96247461, 1.94069014, 1.96145818, 1.96475574, 1.96249258],\n",
       "       [2.03048903, 1.99020689, 2.01447995, 1.97686633, 1.93413018,\n",
       "        1.96969125, 1.97614062, 1.99846411, 1.99575209, 1.99564976],\n",
       "       [2.03723451, 2.03137197, 1.98376867, 2.01689162, 1.98101692,\n",
       "        2.01640236, 1.97211776, 1.97238704, 2.00896096, 1.9814631 ],\n",
       "       [2.00672152, 2.04281584, 1.97983627, 2.03753128, 2.00998798,\n",
       "        1.9966972 , 1.9884767 , 2.00844649, 2.00029224, 1.96839717],\n",
       "       [1.96611002, 1.95072679, 1.98536241, 1.98972906, 1.98640975,\n",
       "        1.96327111, 2.02752335, 2.0118009 , 1.99714353, 2.04368461],\n",
       "       [2.0115125 , 2.01805571, 1.97424634, 2.01836036, 2.03391459,\n",
       "        1.9621441 , 1.99348672, 2.0100237 , 2.03566836, 1.99692194],\n",
       "       [1.9927731 , 2.01589184, 1.98099353, 2.04496933, 2.0146624 ,\n",
       "        2.04108223, 1.99589408, 1.98854186, 2.00204366, 2.01998641],\n",
       "       [1.999936  , 2.02943547, 2.00761651, 1.99551135, 1.9928888 ,\n",
       "        2.0423247 , 1.9940648 , 2.05642977, 2.02248021, 1.99869856],\n",
       "       [1.94134841, 1.99513051, 1.98117476, 2.02882897, 1.99773336,\n",
       "        1.98729268, 2.03163731, 2.03696121, 2.02698339, 1.99936012],\n",
       "       [2.03867622, 1.99022477, 2.03552251, 1.9738418 , 1.96707146,\n",
       "        1.97372482, 1.99086128, 2.00391543, 2.04562502, 2.01059429],\n",
       "       [2.0285458 , 2.0094839 , 1.98426571, 2.03926209, 2.00338728,\n",
       "        1.97647974, 2.03212217, 2.03016697, 1.97346034, 2.00865861],\n",
       "       [1.99786249, 2.01386662, 1.98896826, 2.00435487, 1.99311624,\n",
       "        2.05472267, 1.99979313, 1.99866417, 1.97645512, 1.9867224 ]])"
      ]
     },
     "execution_count": 68,
     "metadata": {},
     "output_type": "execute_result"
    }
   ],
   "source": [
    "max_EMD_list_grid"
   ]
  },
  {
   "cell_type": "code",
   "execution_count": 69,
   "id": "8b10664d",
   "metadata": {},
   "outputs": [
    {
     "name": "stdout",
     "output_type": "stream",
     "text": [
      "End: 2025-07-09 22:10:46\n",
      "Plotting resulting graph...\n",
      "Plotting baseline 1...\n",
      "End: 2025-07-09 22:10:46\n"
     ]
    },
    {
     "data": {
      "image/png": "[encoded data removed]",
      "text/plain": [
       "<Figure size 432x288 with 1 Axes>"
      ]
     },
     "metadata": {
      "needs_background": "light"
     },
     "output_type": "display_data"
    }
   ],
   "source": [
    "# Plot the graphs of average rewards during testing phases of the policy\n",
    "# gradient method and the hand-crafted policies\n",
    "\n",
    "print(\"End: \" + datetime.now().strftime('%Y-%m-%d %H:%M:%S'))\n",
    "\n",
    "max_scooter_per_area_list = np.arange(2,17)\n",
    "max_EMD_list_grid = [np.array(avg_EMD_max_2)[sel_index_2],\n",
    "                        np.array(avg_EMD_max_3)[sel_index_3],\n",
    "                        np.array(avg_EMD_max_4)[sel_index_4],\n",
    "                        np.array(avg_EMD_max_5)[sel_index_5],\n",
    "                        np.array(avg_EMD_max_6)[sel_index_6],\n",
    "                        np.array(avg_EMD_max_7)[sel_index_7],\n",
    "                        np.array(avg_EMD_max_8)[sel_index_8],\n",
    "                        np.array(avg_EMD_max_9)[sel_index_9],\n",
    "                        np.array(avg_EMD_max_10)[sel_index_10],\n",
    "                        np.array(avg_EMD_max_11)[sel_index_11],\n",
    "                        np.array(avg_EMD_max_12)[sel_index_12],\n",
    "                        np.array(avg_EMD_max_13)[sel_index_13],\n",
    "                        np.array(avg_EMD_max_14)[sel_index_14],\n",
    "                        np.array(avg_EMD_max_15)[sel_index_15],\n",
    "                        np.array(avg_EMD_max_16)[sel_index_16]]\n",
    "max_EMD_mean_grid = []\n",
    "max_EMD_std_grid = []\n",
    "for ii in range(len(max_scooter_per_area_list)):\n",
    "    max_EMD_mean_grid.append(np.mean(max_EMD_list_grid[ii]))\n",
    "    max_EMD_std_grid.append(np.std(max_EMD_list_grid[ii]))\n",
    "\n",
    "print(\"Plotting resulting graph...\")\n",
    "# plt.figure(figsize = (12, 9))\n",
    "l1 = plt.errorbar(max_scooter_per_area_list, max_EMD_mean_grid, yerr=max_EMD_std_grid, fmt='o-', capsize=5) # ecolor='gray', \n",
    "\n",
    "print(\"Plotting baseline 1...\")\n",
    "# plt.legend(loc='best',prop={'size': 10})\n",
    "plt.ylabel(\"EMD\")\n",
    "plt.xlabel(\"max_scooter_per_area\")\n",
    "\n",
    "print(\"End: \" + datetime.now().strftime('%Y-%m-%d %H:%M:%S'))"
   ]
  },
  {
   "cell_type": "code",
   "execution_count": 70,
   "id": "b5f1eb35",
   "metadata": {},
   "outputs": [
    {
     "name": "stdout",
     "output_type": "stream",
     "text": [
      "End: 2025-07-09 22:11:07\n",
      "Plotting resulting graph...\n",
      "Plotting baseline 1...\n",
      "End: 2025-07-09 22:11:08\n"
     ]
    },
    {
     "data": {
      "image/png": "[encoded data removed]",
      "text/plain": [
       "<Figure size 432x288 with 1 Axes>"
      ]
     },
     "metadata": {
      "needs_background": "light"
     },
     "output_type": "display_data"
    }
   ],
   "source": [
    "# Plot the graphs of average rewards during testing phases of the policy\n",
    "# gradient method and the hand-crafted policies\n",
    "\n",
    "print(\"End: \" + datetime.now().strftime('%Y-%m-%d %H:%M:%S'))\n",
    "\n",
    "max_scooter_per_area_list = np.arange(2,17)\n",
    "max_centroid_list_grid = np.array([avg_centroid_max_2,\n",
    "                                avg_centroid_max_3,\n",
    "                                avg_centroid_max_4,\n",
    "                                avg_centroid_max_5,\n",
    "                                avg_centroid_max_6,\n",
    "                                avg_centroid_max_7,\n",
    "                                avg_centroid_max_8,\n",
    "                                avg_centroid_max_9,\n",
    "                                avg_centroid_max_10,\n",
    "                                avg_centroid_max_11,\n",
    "                                avg_centroid_max_12,\n",
    "                                avg_centroid_max_13,\n",
    "                                avg_centroid_max_14,\n",
    "                                avg_centroid_max_15,\n",
    "                                avg_centroid_max_16])\n",
    "max_centroid_mean_grid = np.mean(max_centroid_list_grid, axis=1)\n",
    "max_centroid_std_grid = np.std(max_centroid_list_grid, axis=1)\n",
    "\n",
    "print(\"Plotting resulting graph...\")\n",
    "# plt.figure(figsize = (12, 9))\n",
    "l1 = plt.errorbar(max_scooter_per_area_list, max_centroid_mean_grid, yerr=max_centroid_std_grid, fmt='o-', capsize=5) # ecolor='gray', \n",
    "\n",
    "print(\"Plotting baseline 1...\")\n",
    "# plt.legend(loc='best',prop={'size': 10})\n",
    "plt.ylabel(\"Centroid shift\")\n",
    "plt.xlabel(\"max_scooter_per_area\")\n",
    "\n",
    "print(\"End: \" + datetime.now().strftime('%Y-%m-%d %H:%M:%S'))"
   ]
  },
  {
   "cell_type": "code",
   "execution_count": 71,
   "id": "9e54b365",
   "metadata": {},
   "outputs": [
    {
     "data": {
      "text/plain": [
       "array([[1.04111764, 1.00130384, 1.02920542, 1.01455971, 0.99500464,\n",
       "        1.0163023 , 1.00605852, 1.0016916 , 1.0144855 , 0.99626384],\n",
       "       [0.98152982, 0.94614958, 0.93719889, 0.95807161, 0.96964716,\n",
       "        0.94856135, 0.99033029, 0.98435286, 0.9554754 , 0.99467806],\n",
       "       [0.9597581 , 0.96775583, 1.02875101, 0.97191487, 1.00416756,\n",
       "        0.97388246, 0.96082262, 0.92553444, 0.97557183, 0.97222746],\n",
       "       [0.98603939, 0.93094158, 0.96086737, 0.95999667, 0.93500463,\n",
       "        0.95350422, 0.97548162, 0.93356247, 0.93810739, 0.95581385],\n",
       "       [0.93903058, 0.93444686, 0.96536494, 0.8898354 , 0.95466351,\n",
       "        0.93902228, 0.92869062, 0.96782223, 0.91860244, 0.93500676],\n",
       "       [0.91248432, 0.91235539, 0.93825422, 0.90909417, 0.91822662,\n",
       "        0.9305679 , 0.93139653, 0.91821165, 0.94749597, 0.93981045],\n",
       "       [0.92098198, 0.91503553, 0.9218997 , 0.89120134, 0.92944738,\n",
       "        0.94523075, 0.92639983, 0.92867395, 0.90249215, 0.91716966],\n",
       "       [0.92168192, 0.91049065, 0.93289307, 0.93495716, 0.92399663,\n",
       "        0.94034906, 0.94466161, 0.93858237, 0.90272877, 0.92901822],\n",
       "       [0.97112811, 0.92581355, 0.99323823, 0.93357505, 0.92900078,\n",
       "        0.90248303, 0.9251744 , 0.94160806, 0.93606186, 0.95812836],\n",
       "       [0.91831174, 0.92938508, 0.9406909 , 0.92601455, 0.90801439,\n",
       "        0.91076162, 0.93459649, 0.93202803, 0.91287276, 0.95140323],\n",
       "       [0.89247374, 0.92223736, 0.94730344, 0.92749701, 0.94856695,\n",
       "        0.92499431, 0.94895312, 0.92721193, 0.9179221 , 0.92238543],\n",
       "       [0.91968805, 0.91896671, 0.95401696, 0.93575897, 0.92237124,\n",
       "        0.95657728, 0.90682144, 0.93553894, 0.94632614, 0.93345689],\n",
       "       [0.92546923, 0.99188606, 0.94577651, 0.9178954 , 0.9333283 ,\n",
       "        0.94248673, 0.94916173, 0.91762889, 0.95051481, 0.90822201],\n",
       "       [0.97809742, 0.93690585, 0.89588676, 0.95679159, 0.9309303 ,\n",
       "        0.95537929, 0.92958827, 0.90210056, 0.96243332, 0.9568765 ],\n",
       "       [0.92600604, 0.92219146, 0.912618  , 0.90876396, 0.95094386,\n",
       "        0.91491401, 0.94183796, 0.92760214, 0.92769267, 1.02492964]])"
      ]
     },
     "execution_count": 71,
     "metadata": {},
     "output_type": "execute_result"
    }
   ],
   "source": [
    "max_centroid_list_grid"
   ]
  },
  {
   "cell_type": "code",
   "execution_count": 72,
   "id": "5deb1d7c",
   "metadata": {},
   "outputs": [
    {
     "name": "stdout",
     "output_type": "stream",
     "text": [
      "End: 2025-07-09 22:11:16\n",
      "Plotting resulting graph...\n",
      "Plotting baseline 1...\n",
      "End: 2025-07-09 22:11:16\n"
     ]
    },
    {
     "data": {
      "image/png": "[encoded data removed]",
      "text/plain": [
       "<Figure size 432x288 with 1 Axes>"
      ]
     },
     "metadata": {
      "needs_background": "light"
     },
     "output_type": "display_data"
    }
   ],
   "source": [
    "# Plot the graphs of average rewards during testing phases of the policy\n",
    "# gradient method and the hand-crafted policies\n",
    "\n",
    "print(\"End: \" + datetime.now().strftime('%Y-%m-%d %H:%M:%S'))\n",
    "\n",
    "max_scooter_per_area_list = np.arange(2,17)\n",
    "max_centroid_list_grid = [np.array(avg_centroid_max_2)[sel_index_2],\n",
    "                        np.array(avg_centroid_max_3)[sel_index_3],\n",
    "                        np.array(avg_centroid_max_4)[sel_index_4],\n",
    "                        np.array(avg_centroid_max_5)[sel_index_5],\n",
    "                        np.array(avg_centroid_max_6)[sel_index_6],\n",
    "                        np.array(avg_centroid_max_7)[sel_index_7],\n",
    "                        np.array(avg_centroid_max_8)[sel_index_8],\n",
    "                        np.array(avg_centroid_max_9)[sel_index_9],\n",
    "                        np.array(avg_centroid_max_10)[sel_index_10],\n",
    "                        np.array(avg_centroid_max_11)[sel_index_11],\n",
    "                        np.array(avg_centroid_max_12)[sel_index_12],\n",
    "                        np.array(avg_centroid_max_13)[sel_index_13],\n",
    "                        np.array(avg_centroid_max_14)[sel_index_14],\n",
    "                        np.array(avg_centroid_max_15)[sel_index_15],\n",
    "                        np.array(avg_centroid_max_16)[sel_index_16]]\n",
    "max_centroid_mean_grid = []\n",
    "max_centroid_std_grid = []\n",
    "for ii in range(len(max_scooter_per_area_list)):\n",
    "    max_centroid_mean_grid.append(np.mean(max_centroid_list_grid[ii]))\n",
    "    max_centroid_std_grid.append(np.std(max_centroid_list_grid[ii]))\n",
    "\n",
    "print(\"Plotting resulting graph...\")\n",
    "# plt.figure(figsize = (12, 9))\n",
    "l1 = plt.errorbar(max_scooter_per_area_list, max_centroid_mean_grid, yerr=max_centroid_std_grid, fmt='o-', capsize=5) # ecolor='gray', \n",
    "\n",
    "print(\"Plotting baseline 1...\")\n",
    "# plt.legend(loc='best',prop={'size': 10})\n",
    "plt.ylabel(\"Centroid shift\")\n",
    "plt.xlabel(\"max_scooter_per_area\")\n",
    "\n",
    "print(\"End: \" + datetime.now().strftime('%Y-%m-%d %H:%M:%S'))"
   ]
  },
  {
   "cell_type": "code",
   "execution_count": 73,
   "id": "21e988a6",
   "metadata": {},
   "outputs": [
    {
     "name": "stdout",
     "output_type": "stream",
     "text": [
      "End: 2025-07-09 22:11:20\n",
      "Plotting resulting graph...\n",
      "Plotting baseline 1...\n",
      "End: 2025-07-09 22:11:20\n"
     ]
    },
    {
     "data": {
      "image/png": "[encoded data removed]",
      "text/plain": [
       "<Figure size 432x288 with 1 Axes>"
      ]
     },
     "metadata": {
      "needs_background": "light"
     },
     "output_type": "display_data"
    }
   ],
   "source": [
    "# Plot the graphs of average rewards during testing phases of the policy\n",
    "# gradient method and the hand-crafted policies\n",
    "\n",
    "print(\"End: \" + datetime.now().strftime('%Y-%m-%d %H:%M:%S'))\n",
    "\n",
    "max_scooter_per_area_list = np.arange(2,17)\n",
    "max_dispersion_list_grid = np.array([avg_dispersion_max_2,\n",
    "                                avg_dispersion_max_3,\n",
    "                                avg_dispersion_max_4,\n",
    "                                avg_dispersion_max_5,\n",
    "                                avg_dispersion_max_6,\n",
    "                                avg_dispersion_max_7,\n",
    "                                avg_dispersion_max_8,\n",
    "                                avg_dispersion_max_9,\n",
    "                                avg_dispersion_max_10,\n",
    "                                avg_dispersion_max_11,\n",
    "                                avg_dispersion_max_12,\n",
    "                                avg_dispersion_max_13,\n",
    "                                avg_dispersion_max_14,\n",
    "                                avg_dispersion_max_15,\n",
    "                                avg_dispersion_max_16])\n",
    "max_dispersion_mean_grid = np.mean(max_dispersion_list_grid, axis=1)\n",
    "max_dispersion_std_grid = np.std(max_dispersion_list_grid, axis=1)\n",
    "\n",
    "print(\"Plotting resulting graph...\")\n",
    "# plt.figure(figsize = (12, 9))\n",
    "l1 = plt.errorbar(max_scooter_per_area_list, max_dispersion_mean_grid, yerr=max_dispersion_std_grid, fmt='o-', capsize=5) # ecolor='gray', \n",
    "\n",
    "print(\"Plotting baseline 1...\")\n",
    "# plt.legend(loc='best',prop={'size': 10})\n",
    "plt.ylabel(\"Dispersion shift\")\n",
    "plt.xlabel(\"max_scooter_per_area\")\n",
    "\n",
    "print(\"End: \" + datetime.now().strftime('%Y-%m-%d %H:%M:%S'))"
   ]
  },
  {
   "cell_type": "code",
   "execution_count": 74,
   "id": "54f7cb21",
   "metadata": {},
   "outputs": [
    {
     "data": {
      "text/plain": [
       "array([[-1.52593576, -1.51584661, -1.48056591, -1.55067733, -1.43566294,\n",
       "        -1.47950557, -1.52950933, -1.5423912 , -1.54911549, -1.5360205 ],\n",
       "       [-1.65197562, -1.5912258 , -1.63023857, -1.60241673, -1.6030918 ,\n",
       "        -1.61559528, -1.62155498, -1.60620456, -1.63663986, -1.62311575],\n",
       "       [-1.72400316, -1.66117669, -1.61418386, -1.58623378, -1.62649944,\n",
       "        -1.5874443 , -1.64939211, -1.67087346, -1.66899199, -1.66343991],\n",
       "       [-1.62665023, -1.71631697, -1.70563586, -1.65265203, -1.72121186,\n",
       "        -1.68706341, -1.66804394, -1.68637177, -1.69598884, -1.68631543],\n",
       "       [-1.75797572, -1.70388128, -1.74030744, -1.68602535, -1.66653853,\n",
       "        -1.68855862, -1.71661886, -1.72930233, -1.72018099, -1.72543143],\n",
       "       [-1.77259054, -1.77939553, -1.70396344, -1.74947447, -1.71300054,\n",
       "        -1.7596082 , -1.69951015, -1.69865374, -1.72273228, -1.6967802 ],\n",
       "       [-1.7386389 , -1.77071196, -1.72625935, -1.77249214, -1.74411875,\n",
       "        -1.71016699, -1.72002091, -1.74482108, -1.74522163, -1.67594537],\n",
       "       [-1.71375933, -1.66648687, -1.70583604, -1.71367756, -1.73248796,\n",
       "        -1.69967177, -1.7650559 , -1.74791542, -1.7321198 , -1.76853601],\n",
       "       [-1.74905164, -1.75298658, -1.6933751 , -1.74988984, -1.76322966,\n",
       "        -1.67343921, -1.71866245, -1.7386038 , -1.75069917, -1.70492334],\n",
       "       [-1.71555347, -1.73446474, -1.70184529, -1.7878278 , -1.73917538,\n",
       "        -1.79013069, -1.73040145, -1.71743288, -1.7185325 , -1.73476231],\n",
       "       [-1.71405504, -1.76496567, -1.73320523, -1.72309776, -1.72050905,\n",
       "        -1.76953682, -1.7148959 , -1.83113429, -1.73903104, -1.71201647],\n",
       "       [-1.66428247, -1.70620239, -1.71445468, -1.75036846, -1.72203594,\n",
       "        -1.6994838 , -1.7528432 , -1.76216839, -1.76404924, -1.7077171 ],\n",
       "       [-1.77844997, -1.69781959, -1.76649305, -1.71130356, -1.68967649,\n",
       "        -1.69647944, -1.71288336, -1.74074016, -1.78239748, -1.72558921],\n",
       "       [-1.73037597, -1.73227707, -1.70686871, -1.75707193, -1.71904017,\n",
       "        -1.68192077, -1.75227402, -1.76921355, -1.6865485 , -1.72483545],\n",
       "       [-1.72421124, -1.72827016, -1.70879931, -1.73825603, -1.73098709,\n",
       "        -1.7921166 , -1.72769164, -1.71549954, -1.69094916, -1.7306551 ]])"
      ]
     },
     "execution_count": 74,
     "metadata": {},
     "output_type": "execute_result"
    }
   ],
   "source": [
    "max_dispersion_list_grid"
   ]
  },
  {
   "cell_type": "code",
   "execution_count": 75,
   "id": "e7eadbf8",
   "metadata": {},
   "outputs": [
    {
     "name": "stdout",
     "output_type": "stream",
     "text": [
      "End: 2025-07-09 22:11:25\n",
      "Plotting resulting graph...\n",
      "Plotting baseline 1...\n",
      "End: 2025-07-09 22:11:25\n"
     ]
    },
    {
     "data": {
      "image/png": "[encoded data removed]",
      "text/plain": [
       "<Figure size 432x288 with 1 Axes>"
      ]
     },
     "metadata": {
      "needs_background": "light"
     },
     "output_type": "display_data"
    }
   ],
   "source": [
    "# Plot the graphs of average rewards during testing phases of the policy\n",
    "# gradient method and the hand-crafted policies\n",
    "\n",
    "print(\"End: \" + datetime.now().strftime('%Y-%m-%d %H:%M:%S'))\n",
    "\n",
    "max_scooter_per_area_list = np.arange(2,17)\n",
    "max_dispersion_list_grid = [np.array(avg_dispersion_max_2)[sel_index_2],\n",
    "                        np.array(avg_dispersion_max_3)[sel_index_3],\n",
    "                        np.array(avg_dispersion_max_4)[sel_index_4],\n",
    "                        np.array(avg_dispersion_max_5)[sel_index_5],\n",
    "                        np.array(avg_dispersion_max_6)[sel_index_6],\n",
    "                        np.array(avg_dispersion_max_7)[sel_index_7],\n",
    "                        np.array(avg_dispersion_max_8)[sel_index_8],\n",
    "                        np.array(avg_dispersion_max_9)[sel_index_9],\n",
    "                        np.array(avg_dispersion_max_10)[sel_index_10],\n",
    "                        np.array(avg_dispersion_max_11)[sel_index_11],\n",
    "                        np.array(avg_dispersion_max_12)[sel_index_12],\n",
    "                        np.array(avg_dispersion_max_13)[sel_index_13],\n",
    "                        np.array(avg_dispersion_max_14)[sel_index_14],\n",
    "                        np.array(avg_dispersion_max_15)[sel_index_15],\n",
    "                        np.array(avg_dispersion_max_16)[sel_index_16]]\n",
    "max_dispersion_mean_grid = []\n",
    "max_dispersion_std_grid = []\n",
    "for ii in range(len(max_scooter_per_area_list)):\n",
    "    max_dispersion_mean_grid.append(np.mean(max_dispersion_list_grid[ii]))\n",
    "    max_dispersion_std_grid.append(np.std(max_dispersion_list_grid[ii]))\n",
    "\n",
    "print(\"Plotting resulting graph...\")\n",
    "# plt.figure(figsize = (12, 9))\n",
    "l1 = plt.errorbar(max_scooter_per_area_list, max_dispersion_mean_grid, yerr=max_dispersion_std_grid, fmt='o-', capsize=5) # ecolor='gray', \n",
    "\n",
    "print(\"Plotting baseline 1...\")\n",
    "# plt.legend(loc='best',prop={'size': 10})\n",
    "plt.ylabel(\"Dispersion shift\")\n",
    "plt.xlabel(\"max_scooter_per_area\")\n",
    "\n",
    "print(\"End: \" + datetime.now().strftime('%Y-%m-%d %H:%M:%S'))"
   ]
  },
  {
   "cell_type": "code",
   "execution_count": 76,
   "id": "3462e67e",
   "metadata": {},
   "outputs": [
    {
     "name": "stdout",
     "output_type": "stream",
     "text": [
      "End: 2025-07-09 22:11:26\n",
      "Plotting resulting graph...\n",
      "Plotting baseline 1...\n",
      "End: 2025-07-09 22:11:26\n"
     ]
    },
    {
     "data": {
      "image/png": "[encoded data removed]",
      "text/plain": [
       "<Figure size 432x288 with 1 Axes>"
      ]
     },
     "metadata": {
      "needs_background": "light"
     },
     "output_type": "display_data"
    }
   ],
   "source": [
    "# Plot the graphs of average rewards during testing phases of the policy\n",
    "# gradient method and the hand-crafted policies\n",
    "\n",
    "print(\"End: \" + datetime.now().strftime('%Y-%m-%d %H:%M:%S'))\n",
    "\n",
    "max_scooter_per_area_list = np.arange(2,17)\n",
    "max_kl_list_grid = np.array([avg_kl_max_2,\n",
    "                                avg_kl_max_3,\n",
    "                                avg_kl_max_4,\n",
    "                                avg_kl_max_5,\n",
    "                                avg_kl_max_6,\n",
    "                                avg_kl_max_7,\n",
    "                                avg_kl_max_8,\n",
    "                                avg_kl_max_9,\n",
    "                                avg_kl_max_10,\n",
    "                                avg_kl_max_11,\n",
    "                                avg_kl_max_12,\n",
    "                                avg_kl_max_13,\n",
    "                                avg_kl_max_14,\n",
    "                                avg_kl_max_15,\n",
    "                                avg_kl_max_16])\n",
    "max_kl_mean_grid = np.mean(max_kl_list_grid, axis=1)\n",
    "max_kl_std_grid = np.std(max_kl_list_grid, axis=1)\n",
    "\n",
    "print(\"Plotting resulting graph...\")\n",
    "# plt.figure(figsize = (12, 9))\n",
    "l1 = plt.errorbar(max_scooter_per_area_list, max_kl_mean_grid, yerr=max_kl_std_grid, fmt='o-', capsize=5) # ecolor='gray', \n",
    "\n",
    "print(\"Plotting baseline 1...\")\n",
    "# plt.legend(loc='best',prop={'size': 10})\n",
    "plt.ylabel(\"KL divergence\")\n",
    "plt.xlabel(\"max_scooter_per_area\")\n",
    "\n",
    "print(\"End: \" + datetime.now().strftime('%Y-%m-%d %H:%M:%S'))"
   ]
  },
  {
   "cell_type": "code",
   "execution_count": 77,
   "id": "de88d769",
   "metadata": {},
   "outputs": [
    {
     "data": {
      "text/plain": [
       "array([[1.04624606, 1.05666712, 1.02789315, 1.04162458, 1.05482432,\n",
       "        1.05593982, 1.04675722, 1.03971584, 1.02429966, 1.06364707],\n",
       "       [0.92779944, 0.96228227, 0.92338039, 0.93022652, 0.97825567,\n",
       "        0.95543853, 0.91144741, 0.96283106, 0.99955913, 0.94369086],\n",
       "       [0.87722689, 0.8984852 , 0.90732484, 0.88867683, 0.88870886,\n",
       "        0.91307052, 0.89560093, 0.8915337 , 0.88510889, 0.89670895],\n",
       "       [0.82425691, 0.8808434 , 0.84554579, 0.84199742, 0.83752705,\n",
       "        0.86547467, 0.88344662, 0.85584697, 0.86821253, 0.88752157],\n",
       "       [0.8418086 , 0.87726782, 0.80975468, 0.8662917 , 0.84392874,\n",
       "        0.85061179, 0.83686456, 0.83781854, 0.841359  , 0.84011905],\n",
       "       [0.82484644, 0.86856009, 0.8301837 , 0.83138156, 0.81181995,\n",
       "        0.83134415, 0.85218038, 0.8806315 , 0.83452   , 0.85353261],\n",
       "       [0.8307152 , 0.81600083, 0.8406893 , 0.83488994, 0.83210005,\n",
       "        0.84578281, 0.83305779, 0.8178857 , 0.79713656, 0.86753169],\n",
       "       [0.78277207, 0.83605161, 0.85956987, 0.81239028, 0.81160004,\n",
       "        0.85258096, 0.83555498, 0.81109657, 0.83413083, 0.80441932],\n",
       "       [0.78830568, 0.8416922 , 0.79934348, 0.82383492, 0.82783251,\n",
       "        0.85535805, 0.83779882, 0.81123243, 0.82132192, 0.83258509],\n",
       "       [0.84992559, 0.85226455, 0.85024532, 0.83416007, 0.84607751,\n",
       "        0.8327246 , 0.81871729, 0.83257136, 0.85930482, 0.83776729],\n",
       "       [0.84405904, 0.82024222, 0.81943749, 0.83943564, 0.82988185,\n",
       "        0.8195748 , 0.85540657, 0.83326588, 0.81873171, 0.83305274],\n",
       "       [0.83101614, 0.83396184, 0.79777722, 0.85691043, 0.82802711,\n",
       "        0.84575417, 0.80063508, 0.82588018, 0.82357752, 0.83645212],\n",
       "       [0.83674565, 0.84740623, 0.83707775, 0.85711019, 0.85562529,\n",
       "        0.84013868, 0.8297857 , 0.83893344, 0.82164084, 0.84993785],\n",
       "       [0.82300673, 0.81432253, 0.85078682, 0.80365312, 0.83147809,\n",
       "        0.84782288, 0.828449  , 0.83242314, 0.83281903, 0.85293512],\n",
       "       [0.84418819, 0.84491707, 0.83862727, 0.81301404, 0.82818275,\n",
       "        0.83104434, 0.8148992 , 0.84195152, 0.84387111, 0.77421843]])"
      ]
     },
     "execution_count": 77,
     "metadata": {},
     "output_type": "execute_result"
    }
   ],
   "source": [
    "max_kl_list_grid"
   ]
  },
  {
   "cell_type": "code",
   "execution_count": 78,
   "id": "5c7576f9",
   "metadata": {},
   "outputs": [
    {
     "name": "stdout",
     "output_type": "stream",
     "text": [
      "End: 2025-07-09 22:11:34\n",
      "Plotting resulting graph...\n",
      "Plotting baseline 1...\n",
      "End: 2025-07-09 22:11:34\n"
     ]
    },
    {
     "data": {
      "image/png": "[encoded data removed]",
      "text/plain": [
       "<Figure size 432x288 with 1 Axes>"
      ]
     },
     "metadata": {
      "needs_background": "light"
     },
     "output_type": "display_data"
    }
   ],
   "source": [
    "# Plot the graphs of average rewards during testing phases of the policy\n",
    "# gradient method and the hand-crafted policies\n",
    "\n",
    "print(\"End: \" + datetime.now().strftime('%Y-%m-%d %H:%M:%S'))\n",
    "\n",
    "max_scooter_per_area_list = np.arange(2,17)\n",
    "max_kl_list_grid = [np.array(avg_kl_max_2)[sel_index_2],\n",
    "                        np.array(avg_kl_max_3)[sel_index_3],\n",
    "                        np.array(avg_kl_max_4)[sel_index_4],\n",
    "                        np.array(avg_kl_max_5)[sel_index_5],\n",
    "                        np.array(avg_kl_max_6)[sel_index_6],\n",
    "                        np.array(avg_kl_max_7)[sel_index_7],\n",
    "                        np.array(avg_kl_max_8)[sel_index_8],\n",
    "                        np.array(avg_kl_max_9)[sel_index_9],\n",
    "                        np.array(avg_kl_max_10)[sel_index_10],\n",
    "                        np.array(avg_kl_max_11)[sel_index_11],\n",
    "                        np.array(avg_kl_max_12)[sel_index_12],\n",
    "                        np.array(avg_kl_max_13)[sel_index_13],\n",
    "                        np.array(avg_kl_max_14)[sel_index_14],\n",
    "                        np.array(avg_kl_max_15)[sel_index_15],\n",
    "                        np.array(avg_kl_max_16)[sel_index_16]]\n",
    "max_kl_mean_grid = []\n",
    "max_kl_std_grid = []\n",
    "for ii in range(len(max_scooter_per_area_list)):\n",
    "    max_kl_mean_grid.append(np.mean(max_kl_list_grid[ii]))\n",
    "    max_kl_std_grid.append(np.std(max_kl_list_grid[ii]))\n",
    "\n",
    "print(\"Plotting resulting graph...\")\n",
    "# plt.figure(figsize = (12, 9))\n",
    "l1 = plt.errorbar(max_scooter_per_area_list, max_kl_mean_grid, yerr=max_kl_std_grid, fmt='o-', capsize=5) # ecolor='gray', \n",
    "\n",
    "print(\"Plotting baseline 1...\")\n",
    "# plt.legend(loc='best',prop={'size': 10})\n",
    "plt.ylabel(\"KL divergence\")\n",
    "plt.xlabel(\"max_scooter_per_area\")\n",
    "\n",
    "print(\"End: \" + datetime.now().strftime('%Y-%m-%d %H:%M:%S'))"
   ]
  },
  {
   "cell_type": "code",
   "execution_count": null,
   "id": "85520208",
   "metadata": {},
   "outputs": [],
   "source": []
  }
 ],
 "metadata": {
  "kernelspec": {
   "display_name": "Python 3 (ipykernel)",
   "language": "python",
   "name": "python3"
  },
  "language_info": {
   "codemirror_mode": {
    "name": "ipython",
    "version": 3
   },
   "file_extension": ".py",
   "mimetype": "text/x-python",
   "name": "python",
   "nbconvert_exporter": "python",
   "pygments_lexer": "ipython3",
   "version": "3.9.12"
  }
 },
 "nbformat": 4,
 "nbformat_minor": 5
}

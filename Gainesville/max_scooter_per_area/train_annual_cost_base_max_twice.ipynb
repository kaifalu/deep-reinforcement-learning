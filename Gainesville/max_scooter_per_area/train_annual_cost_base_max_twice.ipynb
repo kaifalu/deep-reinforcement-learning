{
 "cells": [
  {
   "cell_type": "markdown",
   "id": "203270d1",
   "metadata": {},
   "source": [
    "### Import"
   ]
  },
  {
   "cell_type": "code",
   "execution_count": 1,
   "id": "3f4333d3",
   "metadata": {},
   "outputs": [
    {
     "name": "stdout",
     "output_type": "stream",
     "text": [
      "Start: 2025-07-09 22:13:20\n"
     ]
    }
   ],
   "source": [
    "import sys\n",
    "import os\n",
    "import matplotlib.pyplot as plt\n",
    "from datetime import datetime, timedelta\n",
    "import pandas as pd\n",
    "import geopandas as gpd\n",
    "import numpy as np\n",
    "import matplotlib.pyplot as plt\n",
    "from shapely.geometry import Point, shape\n",
    "import seaborn as sns\n",
    "import random\n",
    "from mpl_toolkits.axes_grid1 import make_axes_locatable\n",
    "# import datetime\n",
    "\n",
    "sys.path.insert(0, '../..')\n",
    "\n",
    "print(\"Start: \" + datetime.now().strftime('%Y-%m-%d %H:%M:%S'))\n",
    "\n",
    "from network_v11_13_max_twice import *\n",
    "from helper_v11_13_max_twice import *"
   ]
  },
  {
   "cell_type": "markdown",
   "id": "a0dd7f1e",
   "metadata": {},
   "source": [
    "### Initialization"
   ]
  },
  {
   "cell_type": "markdown",
   "id": "ac6bac25",
   "metadata": {},
   "source": [
    "#### define agent and gnv boundary"
   ]
  },
  {
   "cell_type": "code",
   "execution_count": 2,
   "id": "f7d075cd",
   "metadata": {},
   "outputs": [
    {
     "data": {
      "text/html": [
       "<div>\n",
       "<style scoped>\n",
       "    .dataframe tbody tr th:only-of-type {\n",
       "        vertical-align: middle;\n",
       "    }\n",
       "\n",
       "    .dataframe tbody tr th {\n",
       "        vertical-align: top;\n",
       "    }\n",
       "\n",
       "    .dataframe thead th {\n",
       "        text-align: right;\n",
       "    }\n",
       "</style>\n",
       "<table border=\"1\" class=\"dataframe\">\n",
       "  <thead>\n",
       "    <tr style=\"text-align: right;\">\n",
       "      <th></th>\n",
       "      <th>level_0</th>\n",
       "      <th>index</th>\n",
       "      <th>latitude</th>\n",
       "      <th>longitude</th>\n",
       "      <th>departure_rate</th>\n",
       "      <th>arrival_rate</th>\n",
       "      <th>dist_transPOI</th>\n",
       "      <th>num_transPOI</th>\n",
       "      <th>dist_bus_stop</th>\n",
       "      <th>num_bus_stop</th>\n",
       "      <th>rider_test_list</th>\n",
       "      <th>geometry</th>\n",
       "    </tr>\n",
       "  </thead>\n",
       "  <tbody>\n",
       "    <tr>\n",
       "      <th>0</th>\n",
       "      <td>0</td>\n",
       "      <td>29</td>\n",
       "      <td>29.658570</td>\n",
       "      <td>-82.415016</td>\n",
       "      <td>0.022484</td>\n",
       "      <td>0.038544</td>\n",
       "      <td>0.081538</td>\n",
       "      <td>1.0</td>\n",
       "      <td>0.030854</td>\n",
       "      <td>1.0</td>\n",
       "      <td>0</td>\n",
       "      <td>POINT (-82.41501609853275 29.65857013179353)</td>\n",
       "    </tr>\n",
       "    <tr>\n",
       "      <th>1</th>\n",
       "      <td>1</td>\n",
       "      <td>30</td>\n",
       "      <td>29.660371</td>\n",
       "      <td>-82.414990</td>\n",
       "      <td>0.002141</td>\n",
       "      <td>0.005353</td>\n",
       "      <td>1.000000</td>\n",
       "      <td>0.0</td>\n",
       "      <td>1.000000</td>\n",
       "      <td>0.0</td>\n",
       "      <td>0</td>\n",
       "      <td>POINT (-82.4149895039865 29.660371378494247)</td>\n",
       "    </tr>\n",
       "    <tr>\n",
       "      <th>2</th>\n",
       "      <td>2</td>\n",
       "      <td>47</td>\n",
       "      <td>29.654944</td>\n",
       "      <td>-82.413000</td>\n",
       "      <td>0.001071</td>\n",
       "      <td>0.002141</td>\n",
       "      <td>1.000000</td>\n",
       "      <td>0.0</td>\n",
       "      <td>1.000000</td>\n",
       "      <td>0.0</td>\n",
       "      <td>0</td>\n",
       "      <td>POINT (-82.41300040184892 29.654944475167262)</td>\n",
       "    </tr>\n",
       "    <tr>\n",
       "      <th>3</th>\n",
       "      <td>3</td>\n",
       "      <td>48</td>\n",
       "      <td>29.656746</td>\n",
       "      <td>-82.412974</td>\n",
       "      <td>0.004283</td>\n",
       "      <td>0.008565</td>\n",
       "      <td>1.000000</td>\n",
       "      <td>0.0</td>\n",
       "      <td>1.000000</td>\n",
       "      <td>0.0</td>\n",
       "      <td>0</td>\n",
       "      <td>POINT (-82.41297377438231 29.65674571873145)</td>\n",
       "    </tr>\n",
       "    <tr>\n",
       "      <th>4</th>\n",
       "      <td>4</td>\n",
       "      <td>49</td>\n",
       "      <td>29.658547</td>\n",
       "      <td>-82.412947</td>\n",
       "      <td>0.078158</td>\n",
       "      <td>0.100642</td>\n",
       "      <td>1.000000</td>\n",
       "      <td>0.0</td>\n",
       "      <td>1.000000</td>\n",
       "      <td>0.0</td>\n",
       "      <td>1</td>\n",
       "      <td>POINT (-82.41294714602218 29.6585469636598)</td>\n",
       "    </tr>\n",
       "  </tbody>\n",
       "</table>\n",
       "</div>"
      ],
      "text/plain": [
       "   level_0  index   latitude  longitude  departure_rate  arrival_rate  \\\n",
       "0        0     29  29.658570 -82.415016        0.022484      0.038544   \n",
       "1        1     30  29.660371 -82.414990        0.002141      0.005353   \n",
       "2        2     47  29.654944 -82.413000        0.001071      0.002141   \n",
       "3        3     48  29.656746 -82.412974        0.004283      0.008565   \n",
       "4        4     49  29.658547 -82.412947        0.078158      0.100642   \n",
       "\n",
       "   dist_transPOI  num_transPOI  dist_bus_stop  num_bus_stop  rider_test_list  \\\n",
       "0       0.081538           1.0       0.030854           1.0                0   \n",
       "1       1.000000           0.0       1.000000           0.0                0   \n",
       "2       1.000000           0.0       1.000000           0.0                0   \n",
       "3       1.000000           0.0       1.000000           0.0                0   \n",
       "4       1.000000           0.0       1.000000           0.0                1   \n",
       "\n",
       "                                        geometry  \n",
       "0   POINT (-82.41501609853275 29.65857013179353)  \n",
       "1   POINT (-82.4149895039865 29.660371378494247)  \n",
       "2  POINT (-82.41300040184892 29.654944475167262)  \n",
       "3   POINT (-82.41297377438231 29.65674571873145)  \n",
       "4    POINT (-82.41294714602218 29.6585469636598)  "
      ]
     },
     "execution_count": 2,
     "metadata": {},
     "output_type": "execute_result"
    }
   ],
   "source": [
    "fl_city_boundary = gpd.read_file('Map/fl_city_boundary.shp')\n",
    "Gainesville_boundary = fl_city_boundary.loc[fl_city_boundary['NAME'] == 'GAINESVILLE'].reset_index(drop=True)\n",
    "Gainesville_boundary['geometry'] = Gainesville_boundary['geometry'].to_crs('epsg:4326')\n",
    "\n",
    "grid_centroid_gdf = pd.read_csv('grid_centroid_gdf.csv')\n",
    "grid_centroid_gdf = grid_centroid_gdf.drop(columns = {'geometry'}, axis = 1)\n",
    "grid_centroid_gdf['geometry'] = grid_centroid_gdf[['longitude', 'latitude']].values.tolist()\n",
    "grid_centroid_gdf['geometry'] = grid_centroid_gdf['geometry'].apply(Point)\n",
    "\n",
    "grid_centroid_gdf = grid_centroid_gdf.loc[grid_centroid_gdf['departure_rate'] > 0].reset_index()\n",
    "\n",
    "grid_centroid_gdf.head()"
   ]
  },
  {
   "cell_type": "markdown",
   "id": "eb76019d",
   "metadata": {},
   "source": [
    "#### scooter-sharing system configure"
   ]
  },
  {
   "cell_type": "code",
   "execution_count": 3,
   "id": "380e0ff5",
   "metadata": {},
   "outputs": [],
   "source": [
    "service_areas = [] # replace stations\n",
    "for i in range (len(grid_centroid_gdf)):\n",
    "    service_areas.append((i, grid_centroid_gdf.geometry.iloc[i], grid_centroid_gdf.departure_rate.iloc[i], grid_centroid_gdf.arrival_rate.iloc[i]))\n",
    "\n",
    "# Parameter setups for the reward system and elements of the environment.\n",
    "docked_cost_per_deploy = 50/365 # each dock cost 500\n",
    "scooter_cost_per_deploy = 25/365 # each scooter 250\n",
    "no_scooter_penalty = 0.5 # 0.5\n",
    "reward_per_rider = 0.2 # 0.2\n",
    "nS = len(service_areas)\n",
    "equity_penalty = 100.0\n",
    "logistics_car_cost_per_mile = 1.0\n",
    "\n",
    "# dist_transPOI_penalty = 0.5\n",
    "# low_usage_penalty = 1\n",
    "# dist_bus_stop_penalty = 0.2\n",
    "# reward_bus_scooter_coverage = 0.2"
   ]
  },
  {
   "cell_type": "markdown",
   "id": "09b4e97b",
   "metadata": {},
   "source": [
    "#### RL model configure"
   ]
  },
  {
   "cell_type": "code",
   "execution_count": 4,
   "id": "09e74ce5",
   "metadata": {},
   "outputs": [],
   "source": [
    "# Parameter setups for the network and training process.\n",
    "learning_rate = 0.01\n",
    "n_iters = 25\n",
    "n_epochs = 500 # 2000\n",
    "display_step = 50 # 50\n",
    "batch_size = 256\n",
    "gamma = 0.9\n",
    "\n",
    "# The size of the state vector.\n",
    "nS = len(service_areas) # the number of service areas"
   ]
  },
  {
   "cell_type": "markdown",
   "id": "2ce3bd64",
   "metadata": {},
   "source": [
    "## MAX = 2"
   ]
  },
  {
   "cell_type": "code",
   "execution_count": 89,
   "id": "59b3076c",
   "metadata": {},
   "outputs": [
    {
     "name": "stdout",
     "output_type": "stream",
     "text": [
      "Starting policy gradient...\n",
      "Training in progress...\n",
      "Epoch 50, Average reward, unmet demand, met demand, scooter num, scooter loc, gini index unmet, gini index met, wANNR, moran, gini, theil, EMD, centroid change, dispersion change, kl divergence = -33.783, 84.600, 106.400, 88.200, 74.400, 0.969, 0.962, 0.334, 0.034, 0.953, 0.047, 1.983, 0.956, -1.707, 1.182\n",
      "Epoch 100, Average reward, unmet demand, met demand, scooter num, scooter loc, gini index unmet, gini index met, wANNR, moran, gini, theil, EMD, centroid change, dispersion change, kl divergence = -35.737, 86.600, 104.400, 93.000, 80.400, 0.970, 0.962, 0.344, 0.033, 0.949, 0.042, 1.868, 0.945, -1.569, 1.261\n",
      "Epoch 150, Average reward, unmet demand, met demand, scooter num, scooter loc, gini index unmet, gini index met, wANNR, moran, gini, theil, EMD, centroid change, dispersion change, kl divergence = -37.271, 88.600, 102.400, 94.000, 81.400, 0.971, 0.962, 0.346, 0.033, 0.948, 0.042, 1.848, 0.980, -1.555, 1.327\n",
      "Epoch 200, Average reward, unmet demand, met demand, scooter num, scooter loc, gini index unmet, gini index met, wANNR, moran, gini, theil, EMD, centroid change, dispersion change, kl divergence = -38.873, 91.400, 99.600, 91.000, 77.800, 0.968, 0.963, 0.339, 0.035, 0.951, 0.045, 1.942, 0.991, -1.675, 1.252\n",
      "Epoch 250, Average reward, unmet demand, met demand, scooter num, scooter loc, gini index unmet, gini index met, wANNR, moran, gini, theil, EMD, centroid change, dispersion change, kl divergence = -38.009, 88.200, 102.800, 101.200, 87.800, 0.970, 0.963, 0.358, 0.038, 0.944, 0.042, 1.913, 1.018, -1.613, 1.212\n",
      "Epoch 300, Average reward, unmet demand, met demand, scooter num, scooter loc, gini index unmet, gini index met, wANNR, moran, gini, theil, EMD, centroid change, dispersion change, kl divergence = -27.818, 74.800, 116.200, 94.800, 80.800, 0.973, 0.958, 0.347, 0.035, 0.949, 0.045, 1.885, 0.957, -1.557, 1.246\n",
      "Epoch 350, Average reward, unmet demand, met demand, scooter num, scooter loc, gini index unmet, gini index met, wANNR, moran, gini, theil, EMD, centroid change, dispersion change, kl divergence = -33.309, 83.600, 107.400, 90.000, 76.400, 0.970, 0.962, 0.337, 0.036, 0.952, 0.046, 2.003, 0.931, -1.724, 1.167\n",
      "Epoch 400, Average reward, unmet demand, met demand, scooter num, scooter loc, gini index unmet, gini index met, wANNR, moran, gini, theil, EMD, centroid change, dispersion change, kl divergence = -33.490, 84.600, 106.400, 86.000, 72.200, 0.970, 0.961, 0.330, 0.036, 0.955, 0.048, 2.026, 0.943, -1.783, 1.171\n",
      "Epoch 450, Average reward, unmet demand, met demand, scooter num, scooter loc, gini index unmet, gini index met, wANNR, moran, gini, theil, EMD, centroid change, dispersion change, kl divergence = -34.064, 84.600, 106.400, 90.200, 76.200, 0.970, 0.962, 0.339, 0.036, 0.952, 0.047, 1.987, 0.948, -1.713, 1.173\n",
      "Epoch 500, Average reward, unmet demand, met demand, scooter num, scooter loc, gini index unmet, gini index met, wANNR, moran, gini, theil, EMD, centroid change, dispersion change, kl divergence = -32.996, 83.400, 107.600, 88.600, 74.800, 0.969, 0.963, 0.335, 0.037, 0.953, 0.047, 2.049, 0.921, -1.804, 1.126\n"
     ]
    }
   ],
   "source": [
    "## tf.reset_default_graph() only works under tf 1.0\n",
    "max_scooter_per_area = 2\n",
    "\n",
    "# Set up the state-value estimator and policy estimator\n",
    "estimator_policy = PolicyEstimator(learning_rate, nS)\n",
    "estimator_value = StateValueEstimator(learning_rate, nS)\n",
    "\n",
    "rider_test_list = np.array(grid_centroid_gdf['rider_test_list'])\n",
    "\n",
    "# Initialize study area\n",
    "study_area = create_study_area(service_areas, max_scooter_per_area, scooter_cost_per_deploy, docked_cost_per_deploy, \\\n",
    "                   nS, no_scooter_penalty, reward_per_rider, equity_penalty, rider_test_list, logistics_car_cost_per_mile)\n",
    "\n",
    "# Add ops to save and restore all the variables\n",
    "\n",
    "print(\"Starting policy gradient...\")\n",
    "\n",
    "# Start training\n",
    "print(\"Training in progress...\")\n",
    "avg_reward_max_2, avg_unmet_demand_max_2, avg_met_demand_max_2, avg_scooter_num_max_2, avg_scooter_loc_max_2, avg_wANNR_max_2, avg_moran_max_2, avg_gini_max_2, avg_theil_max_2, avg_EMD_max_2, avg_centroid_max_2, avg_dispersion_max_2, avg_kl_max_2, scooter_list_max_2 = reinforce(study_area, nS, estimator_policy, estimator_value, n_epochs, n_iters, batch_size, display_step)"
   ]
  },
  {
   "cell_type": "markdown",
   "id": "d19ab151",
   "metadata": {},
   "source": [
    "## MAX = 3"
   ]
  },
  {
   "cell_type": "code",
   "execution_count": 67,
   "id": "ff1854b9",
   "metadata": {},
   "outputs": [
    {
     "name": "stdout",
     "output_type": "stream",
     "text": [
      "Starting policy gradient...\n",
      "Training in progress...\n",
      "Epoch 50, Average reward, unmet demand, met demand, scooter num, scooter loc, gini index unmet, gini index met, wANNR, moran, gini, theil, EMD, centroid change, dispersion change, kl divergence = -29.967, 77.000, 114.000, 95.800, 75.200, 0.969, 0.962, 0.348, 0.034, 0.955, 0.087, 2.015, 0.909, -1.736, 1.126\n",
      "Epoch 100, Average reward, unmet demand, met demand, scooter num, scooter loc, gini index unmet, gini index met, wANNR, moran, gini, theil, EMD, centroid change, dispersion change, kl divergence = -27.932, 74.800, 116.200, 93.600, 75.800, 0.970, 0.963, 0.344, 0.034, 0.954, 0.079, 1.998, 0.880, -1.731, 1.103\n",
      "Epoch 150, Average reward, unmet demand, met demand, scooter num, scooter loc, gini index unmet, gini index met, wANNR, moran, gini, theil, EMD, centroid change, dispersion change, kl divergence = -30.427, 78.200, 112.800, 93.600, 74.200, 0.970, 0.962, 0.345, 0.033, 0.956, 0.086, 1.994, 0.945, -1.699, 1.131\n",
      "Epoch 200, Average reward, unmet demand, met demand, scooter num, scooter loc, gini index unmet, gini index met, wANNR, moran, gini, theil, EMD, centroid change, dispersion change, kl divergence = -28.738, 75.600, 115.400, 94.800, 75.800, 0.968, 0.963, 0.347, 0.036, 0.954, 0.083, 2.060, 0.951, -1.822, 1.070\n",
      "Epoch 250, Average reward, unmet demand, met demand, scooter num, scooter loc, gini index unmet, gini index met, wANNR, moran, gini, theil, EMD, centroid change, dispersion change, kl divergence = -28.596, 76.400, 114.600, 90.400, 73.000, 0.969, 0.963, 0.339, 0.035, 0.956, 0.079, 2.047, 0.889, -1.778, 1.136\n",
      "Epoch 300, Average reward, unmet demand, met demand, scooter num, scooter loc, gini index unmet, gini index met, wANNR, moran, gini, theil, EMD, centroid change, dispersion change, kl divergence = -28.737, 75.000, 116.000, 97.400, 77.400, 0.969, 0.962, 0.351, 0.034, 0.953, 0.083, 2.010, 0.954, -1.728, 1.110\n",
      "Epoch 350, Average reward, unmet demand, met demand, scooter num, scooter loc, gini index unmet, gini index met, wANNR, moran, gini, theil, EMD, centroid change, dispersion change, kl divergence = -32.449, 81.400, 109.600, 92.400, 73.800, 0.969, 0.962, 0.341, 0.034, 0.956, 0.083, 2.088, 0.954, -1.872, 1.104\n",
      "Epoch 400, Average reward, unmet demand, met demand, scooter num, scooter loc, gini index unmet, gini index met, wANNR, moran, gini, theil, EMD, centroid change, dispersion change, kl divergence = -30.557, 78.600, 112.400, 92.800, 74.000, 0.968, 0.962, 0.343, 0.033, 0.955, 0.083, 2.013, 0.914, -1.759, 1.143\n",
      "Epoch 450, Average reward, unmet demand, met demand, scooter num, scooter loc, gini index unmet, gini index met, wANNR, moran, gini, theil, EMD, centroid change, dispersion change, kl divergence = -24.460, 68.600, 122.400, 100.000, 82.000, 0.974, 0.959, 0.357, 0.033, 0.950, 0.074, 1.926, 0.972, -1.622, 1.218\n",
      "Epoch 500, Average reward, unmet demand, met demand, scooter num, scooter loc, gini index unmet, gini index met, wANNR, moran, gini, theil, EMD, centroid change, dispersion change, kl divergence = -26.459, 71.400, 119.600, 100.400, 82.600, 0.971, 0.960, 0.357, 0.033, 0.949, 0.073, 1.892, 0.982, -1.580, 1.219\n"
     ]
    }
   ],
   "source": [
    "## tf.reset_default_graph() only works under tf 1.0\n",
    "max_scooter_per_area = 3\n",
    "\n",
    "# Set up the state-value estimator and policy estimator\n",
    "estimator_policy = PolicyEstimator(learning_rate, nS)\n",
    "estimator_value = StateValueEstimator(learning_rate, nS)\n",
    "\n",
    "rider_test_list = np.array(grid_centroid_gdf['rider_test_list'])\n",
    "\n",
    "# Initialize study area\n",
    "study_area = create_study_area(service_areas, max_scooter_per_area, scooter_cost_per_deploy, docked_cost_per_deploy, \\\n",
    "                   nS, no_scooter_penalty, reward_per_rider, equity_penalty, rider_test_list, logistics_car_cost_per_mile)\n",
    "\n",
    "# Add ops to save and restore all the variables\n",
    "\n",
    "print(\"Starting policy gradient...\")\n",
    "\n",
    "# Start training\n",
    "print(\"Training in progress...\")\n",
    "avg_reward_max_3, avg_unmet_demand_max_3, avg_met_demand_max_3, avg_scooter_num_max_3, avg_scooter_loc_max_3, avg_wANNR_max_3, avg_moran_max_3, avg_gini_max_3, avg_theil_max_3, avg_EMD_max_3, avg_centroid_max_3, avg_dispersion_max_3, avg_kl_max_3, scooter_list_max_3 = reinforce(study_area, nS, estimator_policy, estimator_value, n_epochs, n_iters, batch_size, display_step)"
   ]
  },
  {
   "cell_type": "markdown",
   "id": "327c6bf5",
   "metadata": {},
   "source": [
    "## MAX = 4"
   ]
  },
  {
   "cell_type": "code",
   "execution_count": 9,
   "id": "64b7497f",
   "metadata": {},
   "outputs": [
    {
     "name": "stdout",
     "output_type": "stream",
     "text": [
      "Starting policy gradient...\n",
      "Training in progress...\n",
      "Epoch 50, Average reward, unmet demand, met demand, scooter num, scooter loc, gini index unmet, gini index met, wANNR, moran, gini, theil, EMD, centroid change, dispersion change, kl divergence = -26.493, 71.400, 119.600, 98.600, 77.000, 0.968, 0.963, 0.355, 0.034, 0.955, 0.109, 2.058, 0.937, -1.807, 1.103\n",
      "Epoch 100, Average reward, unmet demand, met demand, scooter num, scooter loc, gini index unmet, gini index met, wANNR, moran, gini, theil, EMD, centroid change, dispersion change, kl divergence = -26.150, 70.600, 120.400, 99.800, 77.400, 0.969, 0.963, 0.356, 0.033, 0.955, 0.110, 2.029, 0.960, -1.724, 1.088\n",
      "Epoch 150, Average reward, unmet demand, met demand, scooter num, scooter loc, gini index unmet, gini index met, wANNR, moran, gini, theil, EMD, centroid change, dispersion change, kl divergence = -26.509, 71.600, 119.400, 98.000, 77.000, 0.970, 0.963, 0.353, 0.032, 0.955, 0.103, 1.988, 0.923, -1.728, 1.109\n",
      "Epoch 200, Average reward, unmet demand, met demand, scooter num, scooter loc, gini index unmet, gini index met, wANNR, moran, gini, theil, EMD, centroid change, dispersion change, kl divergence = -28.818, 75.200, 115.800, 96.200, 74.800, 0.969, 0.963, 0.349, 0.033, 0.956, 0.111, 2.078, 0.867, -1.858, 1.080\n",
      "Epoch 250, Average reward, unmet demand, met demand, scooter num, scooter loc, gini index unmet, gini index met, wANNR, moran, gini, theil, EMD, centroid change, dispersion change, kl divergence = -29.422, 75.200, 115.800, 100.400, 78.400, 0.968, 0.964, 0.358, 0.033, 0.954, 0.108, 2.030, 0.907, -1.739, 1.096\n",
      "Epoch 300, Average reward, unmet demand, met demand, scooter num, scooter loc, gini index unmet, gini index met, wANNR, moran, gini, theil, EMD, centroid change, dispersion change, kl divergence = -29.003, 75.000, 116.000, 98.200, 76.000, 0.967, 0.963, 0.353, 0.032, 0.955, 0.111, 2.052, 0.900, -1.823, 1.090\n",
      "Epoch 350, Average reward, unmet demand, met demand, scooter num, scooter loc, gini index unmet, gini index met, wANNR, moran, gini, theil, EMD, centroid change, dispersion change, kl divergence = -25.397, 68.600, 122.400, 105.400, 84.400, 0.972, 0.961, 0.366, 0.032, 0.950, 0.103, 1.926, 0.926, -1.634, 1.197\n",
      "Epoch 400, Average reward, unmet demand, met demand, scooter num, scooter loc, gini index unmet, gini index met, wANNR, moran, gini, theil, EMD, centroid change, dispersion change, kl divergence = -28.010, 73.800, 117.200, 97.600, 76.400, 0.968, 0.964, 0.352, 0.034, 0.955, 0.107, 2.069, 0.919, -1.835, 1.075\n",
      "Epoch 450, Average reward, unmet demand, met demand, scooter num, scooter loc, gini index unmet, gini index met, wANNR, moran, gini, theil, EMD, centroid change, dispersion change, kl divergence = -20.693, 62.200, 128.800, 103.400, 81.800, 0.974, 0.960, 0.363, 0.031, 0.952, 0.104, 1.937, 0.960, -1.644, 1.140\n",
      "Epoch 500, Average reward, unmet demand, met demand, scooter num, scooter loc, gini index unmet, gini index met, wANNR, moran, gini, theil, EMD, centroid change, dispersion change, kl divergence = -28.322, 74.400, 116.600, 97.000, 76.200, 0.969, 0.964, 0.350, 0.033, 0.955, 0.108, 2.059, 0.892, -1.823, 1.090\n"
     ]
    }
   ],
   "source": [
    "## tf.reset_default_graph() only works under tf 1.0\n",
    "max_scooter_per_area = 4\n",
    "\n",
    "# Set up the state-value estimator and policy estimator\n",
    "estimator_policy = PolicyEstimator(learning_rate, nS)\n",
    "estimator_value = StateValueEstimator(learning_rate, nS)\n",
    "\n",
    "rider_test_list = np.array(grid_centroid_gdf['rider_test_list'])\n",
    "\n",
    "# Initialize study area\n",
    "study_area = create_study_area(service_areas, max_scooter_per_area, scooter_cost_per_deploy, docked_cost_per_deploy, \\\n",
    "                   nS, no_scooter_penalty, reward_per_rider, equity_penalty, rider_test_list, logistics_car_cost_per_mile)\n",
    "\n",
    "# Add ops to save and restore all the variables\n",
    "\n",
    "print(\"Starting policy gradient...\")\n",
    "\n",
    "# Start training\n",
    "print(\"Training in progress...\")\n",
    "avg_reward_max_4, avg_unmet_demand_max_4, avg_met_demand_max_4, avg_scooter_num_max_4, avg_scooter_loc_max_4, avg_wANNR_max_4, avg_moran_max_4, avg_gini_max_4, avg_theil_max_4, avg_EMD_max_4, avg_centroid_max_4, avg_dispersion_max_4, avg_kl_max_4, scooter_list_max_4 = reinforce(study_area, nS, estimator_policy, estimator_value, n_epochs, n_iters, batch_size, display_step)"
   ]
  },
  {
   "cell_type": "markdown",
   "id": "c37f7c91",
   "metadata": {},
   "source": [
    "## MAX = 5"
   ]
  },
  {
   "cell_type": "code",
   "execution_count": 10,
   "id": "88fdef7a",
   "metadata": {},
   "outputs": [
    {
     "name": "stdout",
     "output_type": "stream",
     "text": [
      "Starting policy gradient...\n",
      "Training in progress...\n",
      "Epoch 50, Average reward, unmet demand, met demand, scooter num, scooter loc, gini index unmet, gini index met, wANNR, moran, gini, theil, EMD, centroid change, dispersion change, kl divergence = -28.396, 74.600, 116.400, 96.400, 75.400, 0.968, 0.963, 0.350, 0.031, 0.956, 0.110, 2.035, 0.960, -1.752, 1.117\n",
      "Epoch 100, Average reward, unmet demand, met demand, scooter num, scooter loc, gini index unmet, gini index met, wANNR, moran, gini, theil, EMD, centroid change, dispersion change, kl divergence = -26.681, 72.200, 118.800, 95.600, 73.600, 0.967, 0.964, 0.348, 0.033, 0.957, 0.119, 2.105, 0.947, -1.847, 1.081\n",
      "Epoch 150, Average reward, unmet demand, met demand, scooter num, scooter loc, gini index unmet, gini index met, wANNR, moran, gini, theil, EMD, centroid change, dispersion change, kl divergence = -30.760, 77.000, 114.000, 101.200, 79.600, 0.969, 0.965, 0.359, 0.032, 0.953, 0.104, 1.971, 0.912, -1.706, 1.147\n",
      "Epoch 200, Average reward, unmet demand, met demand, scooter num, scooter loc, gini index unmet, gini index met, wANNR, moran, gini, theil, EMD, centroid change, dispersion change, kl divergence = -24.705, 67.600, 123.400, 104.600, 82.000, 0.972, 0.960, 0.365, 0.033, 0.952, 0.112, 1.977, 0.932, -1.687, 1.130\n",
      "Epoch 250, Average reward, unmet demand, met demand, scooter num, scooter loc, gini index unmet, gini index met, wANNR, moran, gini, theil, EMD, centroid change, dispersion change, kl divergence = -27.478, 73.200, 117.800, 96.000, 73.400, 0.968, 0.964, 0.348, 0.031, 0.958, 0.121, 2.079, 0.911, -1.815, 1.071\n",
      "Epoch 300, Average reward, unmet demand, met demand, scooter num, scooter loc, gini index unmet, gini index met, wANNR, moran, gini, theil, EMD, centroid change, dispersion change, kl divergence = -24.672, 67.600, 123.400, 105.000, 83.600, 0.972, 0.960, 0.365, 0.032, 0.950, 0.105, 1.931, 0.947, -1.627, 1.191\n",
      "Epoch 350, Average reward, unmet demand, met demand, scooter num, scooter loc, gini index unmet, gini index met, wANNR, moran, gini, theil, EMD, centroid change, dispersion change, kl divergence = -27.652, 72.800, 118.200, 99.400, 76.800, 0.968, 0.963, 0.355, 0.033, 0.955, 0.115, 2.070, 0.896, -1.821, 1.076\n",
      "Epoch 400, Average reward, unmet demand, met demand, scooter num, scooter loc, gini index unmet, gini index met, wANNR, moran, gini, theil, EMD, centroid change, dispersion change, kl divergence = -26.946, 72.000, 119.000, 98.200, 75.400, 0.968, 0.963, 0.354, 0.033, 0.956, 0.119, 2.065, 0.980, -1.805, 1.088\n",
      "Epoch 450, Average reward, unmet demand, met demand, scooter num, scooter loc, gini index unmet, gini index met, wANNR, moran, gini, theil, EMD, centroid change, dispersion change, kl divergence = -22.398, 64.400, 126.600, 104.200, 81.800, 0.974, 0.959, 0.364, 0.033, 0.952, 0.108, 1.972, 0.931, -1.692, 1.121\n",
      "Epoch 500, Average reward, unmet demand, met demand, scooter num, scooter loc, gini index unmet, gini index met, wANNR, moran, gini, theil, EMD, centroid change, dispersion change, kl divergence = -27.515, 73.200, 117.800, 96.600, 74.600, 0.968, 0.964, 0.350, 0.032, 0.957, 0.116, 2.048, 0.903, -1.774, 1.117\n"
     ]
    }
   ],
   "source": [
    "## tf.reset_default_graph() only works under tf 1.0\n",
    "max_scooter_per_area = 5\n",
    "\n",
    "# Set up the state-value estimator and policy estimator\n",
    "estimator_policy = PolicyEstimator(learning_rate, nS)\n",
    "estimator_value = StateValueEstimator(learning_rate, nS)\n",
    "\n",
    "rider_test_list = np.array(grid_centroid_gdf['rider_test_list'])\n",
    "\n",
    "# Initialize study area\n",
    "study_area = create_study_area(service_areas, max_scooter_per_area, scooter_cost_per_deploy, docked_cost_per_deploy, \\\n",
    "                   nS, no_scooter_penalty, reward_per_rider, equity_penalty, rider_test_list, logistics_car_cost_per_mile)\n",
    "\n",
    "# Add ops to save and restore all the variables\n",
    "\n",
    "print(\"Starting policy gradient...\")\n",
    "\n",
    "# Start training\n",
    "print(\"Training in progress...\")\n",
    "avg_reward_max_5, avg_unmet_demand_max_5, avg_met_demand_max_5, avg_scooter_num_max_5, avg_scooter_loc_max_5, avg_wANNR_max_5, avg_moran_max_5, avg_gini_max_5, avg_theil_max_5, avg_EMD_max_5, avg_centroid_max_5, avg_dispersion_max_5, avg_kl_max_5, scooter_list_max_5 = reinforce(study_area, nS, estimator_policy, estimator_value, n_epochs, n_iters, batch_size, display_step)"
   ]
  },
  {
   "cell_type": "markdown",
   "id": "1ba3f84b",
   "metadata": {},
   "source": [
    "## MAX = 6"
   ]
  },
  {
   "cell_type": "code",
   "execution_count": 12,
   "id": "5de8377d",
   "metadata": {},
   "outputs": [
    {
     "name": "stdout",
     "output_type": "stream",
     "text": [
      "Starting policy gradient...\n",
      "Training in progress...\n",
      "Epoch 50, Average reward, unmet demand, met demand, scooter num, scooter loc, gini index unmet, gini index met, wANNR, moran, gini, theil, EMD, centroid change, dispersion change, kl divergence = -29.666, 76.200, 114.800, 97.200, 75.600, 0.968, 0.964, 0.351, 0.032, 0.956, 0.118, 2.092, 0.944, -1.856, 1.089\n",
      "Epoch 100, Average reward, unmet demand, met demand, scooter num, scooter loc, gini index unmet, gini index met, wANNR, moran, gini, theil, EMD, centroid change, dispersion change, kl divergence = -33.146, 80.400, 110.600, 102.000, 81.800, 0.967, 0.964, 0.361, 0.032, 0.951, 0.103, 1.951, 0.912, -1.654, 1.201\n",
      "Epoch 150, Average reward, unmet demand, met demand, scooter num, scooter loc, gini index unmet, gini index met, wANNR, moran, gini, theil, EMD, centroid change, dispersion change, kl divergence = -25.090, 69.200, 121.800, 99.200, 76.800, 0.969, 0.963, 0.355, 0.033, 0.955, 0.109, 2.049, 0.944, -1.808, 1.073\n",
      "Epoch 200, Average reward, unmet demand, met demand, scooter num, scooter loc, gini index unmet, gini index met, wANNR, moran, gini, theil, EMD, centroid change, dispersion change, kl divergence = -27.369, 73.400, 117.600, 95.000, 74.000, 0.969, 0.964, 0.347, 0.031, 0.957, 0.113, 2.044, 0.927, -1.800, 1.091\n",
      "Epoch 250, Average reward, unmet demand, met demand, scooter num, scooter loc, gini index unmet, gini index met, wANNR, moran, gini, theil, EMD, centroid change, dispersion change, kl divergence = -33.381, 80.000, 111.000, 105.000, 83.200, 0.970, 0.964, 0.365, 0.032, 0.951, 0.101, 1.962, 0.935, -1.711, 1.124\n",
      "Epoch 300, Average reward, unmet demand, met demand, scooter num, scooter loc, gini index unmet, gini index met, wANNR, moran, gini, theil, EMD, centroid change, dispersion change, kl divergence = -23.970, 67.400, 123.600, 99.600, 76.000, 0.968, 0.964, 0.356, 0.033, 0.956, 0.121, 2.061, 0.930, -1.772, 1.065\n",
      "Epoch 350, Average reward, unmet demand, met demand, scooter num, scooter loc, gini index unmet, gini index met, wANNR, moran, gini, theil, EMD, centroid change, dispersion change, kl divergence = -20.157, 60.800, 130.200, 105.000, 80.200, 0.972, 0.961, 0.366, 0.033, 0.954, 0.127, 1.993, 0.929, -1.669, 1.141\n",
      "Epoch 400, Average reward, unmet demand, met demand, scooter num, scooter loc, gini index unmet, gini index met, wANNR, moran, gini, theil, EMD, centroid change, dispersion change, kl divergence = -26.176, 70.800, 120.200, 98.400, 75.000, 0.970, 0.963, 0.354, 0.031, 0.956, 0.118, 2.014, 0.899, -1.732, 1.112\n",
      "Epoch 450, Average reward, unmet demand, met demand, scooter num, scooter loc, gini index unmet, gini index met, wANNR, moran, gini, theil, EMD, centroid change, dispersion change, kl divergence = -28.720, 75.600, 115.400, 93.800, 73.200, 0.968, 0.963, 0.346, 0.033, 0.957, 0.114, 2.060, 0.965, -1.771, 1.101\n",
      "Epoch 500, Average reward, unmet demand, met demand, scooter num, scooter loc, gini index unmet, gini index met, wANNR, moran, gini, theil, EMD, centroid change, dispersion change, kl divergence = -25.041, 69.200, 121.800, 98.400, 75.200, 0.968, 0.963, 0.354, 0.033, 0.957, 0.120, 2.040, 0.914, -1.728, 1.109\n"
     ]
    }
   ],
   "source": [
    "## tf.reset_default_graph() only works under tf 1.0\n",
    "max_scooter_per_area = 6\n",
    "\n",
    "# Set up the state-value estimator and policy estimator\n",
    "estimator_policy = PolicyEstimator(learning_rate, nS)\n",
    "estimator_value = StateValueEstimator(learning_rate, nS)\n",
    "\n",
    "rider_test_list = np.array(grid_centroid_gdf['rider_test_list'])\n",
    "\n",
    "# Initialize study area\n",
    "study_area = create_study_area(service_areas, max_scooter_per_area, scooter_cost_per_deploy, docked_cost_per_deploy, \\\n",
    "                   nS, no_scooter_penalty, reward_per_rider, equity_penalty, rider_test_list, logistics_car_cost_per_mile)\n",
    "\n",
    "# Add ops to save and restore all the variables\n",
    "\n",
    "print(\"Starting policy gradient...\")\n",
    "\n",
    "# Start training\n",
    "print(\"Training in progress...\")\n",
    "avg_reward_max_6, avg_unmet_demand_max_6, avg_met_demand_max_6, avg_scooter_num_max_6, avg_scooter_loc_max_6, avg_wANNR_max_6, avg_moran_max_6, avg_gini_max_6, avg_theil_max_6, avg_EMD_max_6, avg_centroid_max_6, avg_dispersion_max_6, avg_kl_max_6, scooter_list_max_6 = reinforce(study_area, nS, estimator_policy, estimator_value, n_epochs, n_iters, batch_size, display_step)"
   ]
  },
  {
   "cell_type": "markdown",
   "id": "0c0df756",
   "metadata": {},
   "source": [
    "## MAX = 7"
   ]
  },
  {
   "cell_type": "code",
   "execution_count": 15,
   "id": "7927ff81",
   "metadata": {},
   "outputs": [
    {
     "name": "stdout",
     "output_type": "stream",
     "text": [
      "Starting policy gradient...\n",
      "Training in progress...\n",
      "Epoch 50, Average reward, unmet demand, met demand, scooter num, scooter loc, gini index unmet, gini index met, wANNR, moran, gini, theil, EMD, centroid change, dispersion change, kl divergence = -25.996, 70.600, 120.400, 100.800, 82.400, 0.973, 0.959, 0.358, 0.034, 0.950, 0.087, 1.951, 0.964, -1.644, 1.162\n",
      "Epoch 100, Average reward, unmet demand, met demand, scooter num, scooter loc, gini index unmet, gini index met, wANNR, moran, gini, theil, EMD, centroid change, dispersion change, kl divergence = -22.090, 63.400, 127.600, 106.600, 83.200, 0.973, 0.960, 0.368, 0.031, 0.951, 0.111, 1.939, 0.952, -1.658, 1.160\n",
      "Epoch 150, Average reward, unmet demand, met demand, scooter num, scooter loc, gini index unmet, gini index met, wANNR, moran, gini, theil, EMD, centroid change, dispersion change, kl divergence = -29.528, 76.000, 115.000, 97.000, 75.000, 0.968, 0.963, 0.351, 0.034, 0.956, 0.106, 2.084, 0.890, -1.859, 1.058\n",
      "Epoch 200, Average reward, unmet demand, met demand, scooter num, scooter loc, gini index unmet, gini index met, wANNR, moran, gini, theil, EMD, centroid change, dispersion change, kl divergence = -28.121, 73.600, 117.400, 98.400, 75.200, 0.966, 0.964, 0.353, 0.033, 0.956, 0.118, 2.076, 0.890, -1.811, 1.089\n",
      "Epoch 250, Average reward, unmet demand, met demand, scooter num, scooter loc, gini index unmet, gini index met, wANNR, moran, gini, theil, EMD, centroid change, dispersion change, kl divergence = -23.912, 67.200, 123.800, 101.400, 80.000, 0.973, 0.960, 0.360, 0.032, 0.953, 0.106, 1.939, 0.940, -1.636, 1.198\n",
      "Epoch 300, Average reward, unmet demand, met demand, scooter num, scooter loc, gini index unmet, gini index met, wANNR, moran, gini, theil, EMD, centroid change, dispersion change, kl divergence = -26.670, 72.000, 119.000, 97.000, 75.800, 0.969, 0.963, 0.351, 0.032, 0.955, 0.112, 2.064, 0.939, -1.813, 1.140\n",
      "Epoch 350, Average reward, unmet demand, met demand, scooter num, scooter loc, gini index unmet, gini index met, wANNR, moran, gini, theil, EMD, centroid change, dispersion change, kl divergence = -29.588, 76.200, 114.800, 96.400, 74.400, 0.968, 0.965, 0.350, 0.032, 0.957, 0.109, 2.073, 0.897, -1.854, 1.075\n",
      "Epoch 400, Average reward, unmet demand, met demand, scooter num, scooter loc, gini index unmet, gini index met, wANNR, moran, gini, theil, EMD, centroid change, dispersion change, kl divergence = -25.681, 70.200, 120.800, 100.000, 80.600, 0.974, 0.958, 0.357, 0.033, 0.952, 0.098, 1.974, 0.998, -1.651, 1.194\n",
      "Epoch 450, Average reward, unmet demand, met demand, scooter num, scooter loc, gini index unmet, gini index met, wANNR, moran, gini, theil, EMD, centroid change, dispersion change, kl divergence = -36.412, 85.400, 105.600, 99.600, 78.200, 0.965, 0.967, 0.356, 0.032, 0.954, 0.106, 2.032, 1.002, -1.736, 1.093\n",
      "Epoch 500, Average reward, unmet demand, met demand, scooter num, scooter loc, gini index unmet, gini index met, wANNR, moran, gini, theil, EMD, centroid change, dispersion change, kl divergence = -28.394, 74.400, 116.600, 97.000, 75.200, 0.967, 0.964, 0.350, 0.032, 0.956, 0.115, 2.070, 0.920, -1.840, 1.109\n"
     ]
    }
   ],
   "source": [
    "## tf.reset_default_graph() only works under tf 1.0\n",
    "max_scooter_per_area = 7\n",
    "\n",
    "# Set up the state-value estimator and policy estimator\n",
    "estimator_policy = PolicyEstimator(learning_rate, nS)\n",
    "estimator_value = StateValueEstimator(learning_rate, nS)\n",
    "\n",
    "rider_test_list = np.array(grid_centroid_gdf['rider_test_list'])\n",
    "\n",
    "# Initialize study area\n",
    "study_area = create_study_area(service_areas, max_scooter_per_area, scooter_cost_per_deploy, docked_cost_per_deploy, \\\n",
    "                   nS, no_scooter_penalty, reward_per_rider, equity_penalty, rider_test_list, logistics_car_cost_per_mile)\n",
    "\n",
    "# Add ops to save and restore all the variables\n",
    "\n",
    "print(\"Starting policy gradient...\")\n",
    "\n",
    "# Start training\n",
    "print(\"Training in progress...\")\n",
    "avg_reward_max_7, avg_unmet_demand_max_7, avg_met_demand_max_7, avg_scooter_num_max_7, avg_scooter_loc_max_7, avg_wANNR_max_7, avg_moran_max_7, avg_gini_max_7, avg_theil_max_7, avg_EMD_max_7, avg_centroid_max_7, avg_dispersion_max_7, avg_kl_max_7, scooter_list_max_7 = reinforce(study_area, nS, estimator_policy, estimator_value, n_epochs, n_iters, batch_size, display_step)"
   ]
  },
  {
   "cell_type": "markdown",
   "id": "93e0783a",
   "metadata": {},
   "source": [
    "## MAX = 8"
   ]
  },
  {
   "cell_type": "code",
   "execution_count": 72,
   "id": "36be398b",
   "metadata": {},
   "outputs": [
    {
     "name": "stdout",
     "output_type": "stream",
     "text": [
      "Starting policy gradient...\n",
      "Training in progress...\n",
      "Epoch 50, Average reward, unmet demand, met demand, scooter num, scooter loc, gini index unmet, gini index met, wANNR, moran, gini, theil, EMD, centroid change, dispersion change, kl divergence = -24.222, 68.400, 122.600, 97.000, 74.800, 0.970, 0.963, 0.351, 0.032, 0.956, 0.120, 2.083, 0.948, -1.845, 1.057\n",
      "Epoch 100, Average reward, unmet demand, met demand, scooter num, scooter loc, gini index unmet, gini index met, wANNR, moran, gini, theil, EMD, centroid change, dispersion change, kl divergence = -27.659, 72.600, 118.400, 100.400, 77.600, 0.970, 0.962, 0.359, 0.036, 0.955, 0.105, 2.074, 0.911, -1.822, 1.090\n",
      "Epoch 150, Average reward, unmet demand, met demand, scooter num, scooter loc, gini index unmet, gini index met, wANNR, moran, gini, theil, EMD, centroid change, dispersion change, kl divergence = -29.938, 76.800, 114.200, 96.200, 74.800, 0.967, 0.964, 0.349, 0.033, 0.956, 0.112, 2.115, 0.944, -1.894, 1.095\n",
      "Epoch 200, Average reward, unmet demand, met demand, scooter num, scooter loc, gini index unmet, gini index met, wANNR, moran, gini, theil, EMD, centroid change, dispersion change, kl divergence = -28.842, 74.600, 116.400, 97.800, 73.200, 0.968, 0.964, 0.352, 0.033, 0.958, 0.120, 2.102, 0.899, -1.883, 1.064\n",
      "Epoch 250, Average reward, unmet demand, met demand, scooter num, scooter loc, gini index unmet, gini index met, wANNR, moran, gini, theil, EMD, centroid change, dispersion change, kl divergence = -24.525, 67.800, 123.200, 103.600, 83.600, 0.972, 0.960, 0.363, 0.032, 0.950, 0.098, 1.932, 0.960, -1.642, 1.178\n",
      "Epoch 300, Average reward, unmet demand, met demand, scooter num, scooter loc, gini index unmet, gini index met, wANNR, moran, gini, theil, EMD, centroid change, dispersion change, kl divergence = -26.348, 71.000, 120.000, 99.400, 77.400, 0.969, 0.963, 0.355, 0.033, 0.955, 0.111, 2.037, 0.913, -1.766, 1.085\n",
      "Epoch 350, Average reward, unmet demand, met demand, scooter num, scooter loc, gini index unmet, gini index met, wANNR, moran, gini, theil, EMD, centroid change, dispersion change, kl divergence = -27.282, 71.400, 119.600, 103.000, 78.600, 0.969, 0.963, 0.362, 0.035, 0.954, 0.118, 2.074, 0.930, -1.818, 1.056\n",
      "Epoch 400, Average reward, unmet demand, met demand, scooter num, scooter loc, gini index unmet, gini index met, wANNR, moran, gini, theil, EMD, centroid change, dispersion change, kl divergence = -27.325, 72.800, 118.200, 97.600, 76.200, 0.969, 0.963, 0.352, 0.032, 0.955, 0.116, 2.049, 0.922, -1.819, 1.117\n",
      "Epoch 450, Average reward, unmet demand, met demand, scooter num, scooter loc, gini index unmet, gini index met, wANNR, moran, gini, theil, EMD, centroid change, dispersion change, kl divergence = -29.193, 75.600, 115.400, 96.800, 75.200, 0.967, 0.964, 0.350, 0.032, 0.956, 0.122, 2.103, 0.938, -1.894, 1.091\n",
      "Epoch 500, Average reward, unmet demand, met demand, scooter num, scooter loc, gini index unmet, gini index met, wANNR, moran, gini, theil, EMD, centroid change, dispersion change, kl divergence = -26.499, 71.600, 119.400, 97.600, 76.000, 0.969, 0.963, 0.353, 0.032, 0.955, 0.110, 2.011, 0.935, -1.736, 1.106\n"
     ]
    }
   ],
   "source": [
    "## tf.reset_default_graph() only works under tf 1.0\n",
    "max_scooter_per_area = 8\n",
    "\n",
    "# Set up the state-value estimator and policy estimator\n",
    "estimator_policy = PolicyEstimator(learning_rate, nS)\n",
    "estimator_value = StateValueEstimator(learning_rate, nS)\n",
    "\n",
    "rider_test_list = np.array(grid_centroid_gdf['rider_test_list'])\n",
    "\n",
    "# Initialize study area\n",
    "study_area = create_study_area(service_areas, max_scooter_per_area, scooter_cost_per_deploy, docked_cost_per_deploy, \\\n",
    "                   nS, no_scooter_penalty, reward_per_rider, equity_penalty, rider_test_list, logistics_car_cost_per_mile)\n",
    "\n",
    "# Add ops to save and restore all the variables\n",
    "\n",
    "print(\"Starting policy gradient...\")\n",
    "\n",
    "# Start training\n",
    "print(\"Training in progress...\")\n",
    "avg_reward_max_8, avg_unmet_demand_max_8, avg_met_demand_max_8, avg_scooter_num_max_8, avg_scooter_loc_max_8, avg_wANNR_max_8, avg_moran_max_8, avg_gini_max_8, avg_theil_max_8, avg_EMD_max_8, avg_centroid_max_8, avg_dispersion_max_8, avg_kl_max_8, scooter_list_max_8 = reinforce(study_area, nS, estimator_policy, estimator_value, n_epochs, n_iters, batch_size, display_step)"
   ]
  },
  {
   "cell_type": "markdown",
   "id": "e083ec22",
   "metadata": {},
   "source": [
    "## MAX = 9"
   ]
  },
  {
   "cell_type": "code",
   "execution_count": 163,
   "id": "19adfab7",
   "metadata": {},
   "outputs": [
    {
     "name": "stdout",
     "output_type": "stream",
     "text": [
      "Starting policy gradient...\n",
      "Training in progress...\n",
      "Epoch 50, Average reward, unmet demand, met demand, scooter num, scooter loc, gini index unmet, gini index met, wANNR, moran, gini, theil, EMD, centroid change, dispersion change, kl divergence = -27.491, 72.800, 118.200, 98.200, 75.600, 0.967, 0.964, 0.353, 0.031, 0.956, 0.120, 2.051, 0.875, -1.832, 1.102\n",
      "Epoch 100, Average reward, unmet demand, met demand, scooter num, scooter loc, gini index unmet, gini index met, wANNR, moran, gini, theil, EMD, centroid change, dispersion change, kl divergence = -27.484, 73.000, 118.000, 97.200, 74.800, 0.967, 0.963, 0.351, 0.034, 0.957, 0.118, 2.088, 0.906, -1.846, 1.080\n",
      "Epoch 150, Average reward, unmet demand, met demand, scooter num, scooter loc, gini index unmet, gini index met, wANNR, moran, gini, theil, EMD, centroid change, dispersion change, kl divergence = -26.078, 70.200, 120.800, 100.600, 76.800, 0.969, 0.962, 0.358, 0.034, 0.956, 0.118, 2.082, 0.942, -1.829, 1.054\n",
      "Epoch 200, Average reward, unmet demand, met demand, scooter num, scooter loc, gini index unmet, gini index met, wANNR, moran, gini, theil, EMD, centroid change, dispersion change, kl divergence = -26.877, 71.600, 119.400, 100.000, 77.600, 0.969, 0.963, 0.356, 0.033, 0.955, 0.114, 2.070, 0.930, -1.825, 1.098\n",
      "Epoch 250, Average reward, unmet demand, met demand, scooter num, scooter loc, gini index unmet, gini index met, wANNR, moran, gini, theil, EMD, centroid change, dispersion change, kl divergence = -28.983, 74.200, 116.800, 101.600, 78.200, 0.966, 0.964, 0.358, 0.033, 0.955, 0.116, 2.071, 0.949, -1.840, 1.064\n",
      "Epoch 300, Average reward, unmet demand, met demand, scooter num, scooter loc, gini index unmet, gini index met, wANNR, moran, gini, theil, EMD, centroid change, dispersion change, kl divergence = -26.784, 72.000, 119.000, 97.200, 74.800, 0.969, 0.964, 0.351, 0.031, 0.957, 0.121, 2.075, 0.879, -1.860, 1.079\n",
      "Epoch 350, Average reward, unmet demand, met demand, scooter num, scooter loc, gini index unmet, gini index met, wANNR, moran, gini, theil, EMD, centroid change, dispersion change, kl divergence = -28.015, 74.000, 117.000, 96.800, 76.000, 0.968, 0.963, 0.351, 0.035, 0.955, 0.109, 2.070, 0.948, -1.813, 1.064\n",
      "Epoch 400, Average reward, unmet demand, met demand, scooter num, scooter loc, gini index unmet, gini index met, wANNR, moran, gini, theil, EMD, centroid change, dispersion change, kl divergence = -29.652, 76.400, 114.600, 96.800, 76.600, 0.968, 0.962, 0.351, 0.034, 0.954, 0.091, 1.998, 0.912, -1.727, 1.133\n",
      "Epoch 450, Average reward, unmet demand, met demand, scooter num, scooter loc, gini index unmet, gini index met, wANNR, moran, gini, theil, EMD, centroid change, dispersion change, kl divergence = -26.188, 70.800, 120.200, 98.600, 75.400, 0.968, 0.964, 0.354, 0.032, 0.957, 0.125, 2.073, 0.907, -1.831, 1.078\n",
      "Epoch 500, Average reward, unmet demand, met demand, scooter num, scooter loc, gini index unmet, gini index met, wANNR, moran, gini, theil, EMD, centroid change, dispersion change, kl divergence = -26.030, 70.600, 120.400, 97.600, 72.800, 0.969, 0.963, 0.351, 0.032, 0.959, 0.127, 2.120, 0.947, -1.887, 1.028\n"
     ]
    }
   ],
   "source": [
    "## tf.reset_default_graph() only works under tf 1.0\n",
    "max_scooter_per_area = 9\n",
    "\n",
    "# Set up the state-value estimator and policy estimator\n",
    "estimator_policy = PolicyEstimator(learning_rate, nS)\n",
    "estimator_value = StateValueEstimator(learning_rate, nS)\n",
    "\n",
    "rider_test_list = np.array(grid_centroid_gdf['rider_test_list'])\n",
    "\n",
    "# Initialize study area\n",
    "study_area = create_study_area(service_areas, max_scooter_per_area, scooter_cost_per_deploy, docked_cost_per_deploy, \\\n",
    "                   nS, no_scooter_penalty, reward_per_rider, equity_penalty, rider_test_list, logistics_car_cost_per_mile)\n",
    "\n",
    "# Add ops to save and restore all the variables\n",
    "\n",
    "print(\"Starting policy gradient...\")\n",
    "\n",
    "# Start training\n",
    "print(\"Training in progress...\")\n",
    "avg_reward_max_9, avg_unmet_demand_max_9, avg_met_demand_max_9, avg_scooter_num_max_9, avg_scooter_loc_max_9, avg_wANNR_max_9, avg_moran_max_9, avg_gini_max_9, avg_theil_max_9, avg_EMD_max_9, avg_centroid_max_9, avg_dispersion_max_9, avg_kl_max_9, scooter_list_max_9 = reinforce(study_area, nS, estimator_policy, estimator_value, n_epochs, n_iters, batch_size, display_step)"
   ]
  },
  {
   "cell_type": "markdown",
   "id": "c16ce03b",
   "metadata": {},
   "source": [
    "## MAX = 10"
   ]
  },
  {
   "cell_type": "code",
   "execution_count": 18,
   "id": "3683cc27",
   "metadata": {},
   "outputs": [
    {
     "name": "stdout",
     "output_type": "stream",
     "text": [
      "Starting policy gradient...\n",
      "Training in progress...\n",
      "Epoch 50, Average reward, unmet demand, met demand, scooter num, scooter loc, gini index unmet, gini index met, wANNR, moran, gini, theil, EMD, centroid change, dispersion change, kl divergence = -28.025, 73.800, 117.200, 97.600, 76.200, 0.970, 0.963, 0.352, 0.030, 0.955, 0.106, 1.996, 0.998, -1.684, 1.103\n",
      "Epoch 100, Average reward, unmet demand, met demand, scooter num, scooter loc, gini index unmet, gini index met, wANNR, moran, gini, theil, EMD, centroid change, dispersion change, kl divergence = -27.795, 73.800, 117.200, 96.200, 75.400, 0.968, 0.963, 0.350, 0.033, 0.956, 0.108, 2.076, 0.956, -1.821, 1.089\n",
      "Epoch 150, Average reward, unmet demand, met demand, scooter num, scooter loc, gini index unmet, gini index met, wANNR, moran, gini, theil, EMD, centroid change, dispersion change, kl divergence = -28.061, 73.400, 117.600, 99.000, 75.800, 0.968, 0.963, 0.354, 0.033, 0.956, 0.117, 2.087, 0.866, -1.855, 1.087\n",
      "Epoch 200, Average reward, unmet demand, met demand, scooter num, scooter loc, gini index unmet, gini index met, wANNR, moran, gini, theil, EMD, centroid change, dispersion change, kl divergence = -27.253, 73.800, 117.200, 93.000, 73.800, 0.970, 0.963, 0.344, 0.032, 0.956, 0.105, 2.042, 0.902, -1.812, 1.127\n",
      "Epoch 250, Average reward, unmet demand, met demand, scooter num, scooter loc, gini index unmet, gini index met, wANNR, moran, gini, theil, EMD, centroid change, dispersion change, kl divergence = -28.681, 74.600, 116.400, 98.000, 76.000, 0.966, 0.966, 0.352, 0.031, 0.955, 0.119, 2.040, 0.909, -1.771, 1.121\n",
      "Epoch 300, Average reward, unmet demand, met demand, scooter num, scooter loc, gini index unmet, gini index met, wANNR, moran, gini, theil, EMD, centroid change, dispersion change, kl divergence = -25.033, 68.600, 122.400, 103.000, 82.600, 0.972, 0.960, 0.364, 0.031, 0.951, 0.105, 1.951, 0.963, -1.650, 1.180\n",
      "Epoch 350, Average reward, unmet demand, met demand, scooter num, scooter loc, gini index unmet, gini index met, wANNR, moran, gini, theil, EMD, centroid change, dispersion change, kl divergence = -25.549, 70.800, 120.200, 95.000, 74.000, 0.969, 0.963, 0.348, 0.031, 0.956, 0.111, 2.042, 0.946, -1.737, 1.122\n",
      "Epoch 400, Average reward, unmet demand, met demand, scooter num, scooter loc, gini index unmet, gini index met, wANNR, moran, gini, theil, EMD, centroid change, dispersion change, kl divergence = -24.123, 68.000, 123.000, 97.600, 74.000, 0.968, 0.964, 0.352, 0.032, 0.957, 0.120, 2.093, 0.938, -1.846, 1.075\n",
      "Epoch 450, Average reward, unmet demand, met demand, scooter num, scooter loc, gini index unmet, gini index met, wANNR, moran, gini, theil, EMD, centroid change, dispersion change, kl divergence = -24.710, 68.000, 123.000, 103.400, 82.400, 0.973, 0.958, 0.362, 0.033, 0.951, 0.103, 1.981, 0.963, -1.693, 1.113\n",
      "Epoch 500, Average reward, unmet demand, met demand, scooter num, scooter loc, gini index unmet, gini index met, wANNR, moran, gini, theil, EMD, centroid change, dispersion change, kl divergence = -27.056, 72.400, 118.600, 96.600, 73.200, 0.968, 0.964, 0.350, 0.031, 0.958, 0.120, 2.070, 0.942, -1.817, 1.095\n"
     ]
    }
   ],
   "source": [
    "## tf.reset_default_graph() only works under tf 1.0\n",
    "max_scooter_per_area = 10\n",
    "\n",
    "# Set up the state-value estimator and policy estimator\n",
    "estimator_policy = PolicyEstimator(learning_rate, nS)\n",
    "estimator_value = StateValueEstimator(learning_rate, nS)\n",
    "\n",
    "rider_test_list = np.array(grid_centroid_gdf['rider_test_list'])\n",
    "\n",
    "# Initialize study area\n",
    "study_area = create_study_area(service_areas, max_scooter_per_area, scooter_cost_per_deploy, docked_cost_per_deploy, \\\n",
    "                   nS, no_scooter_penalty, reward_per_rider, equity_penalty, rider_test_list, logistics_car_cost_per_mile)\n",
    "\n",
    "# Add ops to save and restore all the variables\n",
    "\n",
    "print(\"Starting policy gradient...\")\n",
    "\n",
    "# Start training\n",
    "print(\"Training in progress...\")\n",
    "avg_reward_max_10, avg_unmet_demand_max_10, avg_met_demand_max_10, avg_scooter_num_max_10, avg_scooter_loc_max_10, avg_wANNR_max_10, avg_moran_max_10, avg_gini_max_10, avg_theil_max_10, avg_EMD_max_10, avg_centroid_max_10, avg_dispersion_max_10, avg_kl_max_10, scooter_list_max_10 = reinforce(study_area, nS, estimator_policy, estimator_value, n_epochs, n_iters, batch_size, display_step)"
   ]
  },
  {
   "cell_type": "markdown",
   "id": "dad374e2",
   "metadata": {},
   "source": [
    "## MAX = 11"
   ]
  },
  {
   "cell_type": "code",
   "execution_count": 92,
   "id": "693564e0",
   "metadata": {},
   "outputs": [
    {
     "name": "stdout",
     "output_type": "stream",
     "text": [
      "Starting policy gradient...\n",
      "Training in progress...\n",
      "Epoch 50, Average reward, unmet demand, met demand, scooter num, scooter loc, gini index unmet, gini index met, wANNR, moran, gini, theil, EMD, centroid change, dispersion change, kl divergence = -21.995, 63.400, 127.600, 106.000, 82.800, 0.974, 0.959, 0.367, 0.032, 0.952, 0.114, 1.968, 0.960, -1.673, 1.129\n",
      "Epoch 100, Average reward, unmet demand, met demand, scooter num, scooter loc, gini index unmet, gini index met, wANNR, moran, gini, theil, EMD, centroid change, dispersion change, kl divergence = -26.976, 72.600, 118.400, 95.600, 73.400, 0.970, 0.963, 0.349, 0.032, 0.957, 0.111, 2.074, 0.924, -1.843, 1.121\n",
      "Epoch 150, Average reward, unmet demand, met demand, scooter num, scooter loc, gini index unmet, gini index met, wANNR, moran, gini, theil, EMD, centroid change, dispersion change, kl divergence = -27.448, 72.800, 118.200, 98.200, 76.200, 0.967, 0.964, 0.353, 0.032, 0.955, 0.116, 2.055, 0.879, -1.813, 1.099\n",
      "Epoch 200, Average reward, unmet demand, met demand, scooter num, scooter loc, gini index unmet, gini index met, wANNR, moran, gini, theil, EMD, centroid change, dispersion change, kl divergence = -27.961, 73.400, 117.600, 99.000, 77.200, 0.968, 0.964, 0.353, 0.034, 0.954, 0.101, 2.054, 0.893, -1.806, 1.087\n",
      "Epoch 250, Average reward, unmet demand, met demand, scooter num, scooter loc, gini index unmet, gini index met, wANNR, moran, gini, theil, EMD, centroid change, dispersion change, kl divergence = -29.355, 75.800, 115.200, 97.400, 76.600, 0.967, 0.963, 0.351, 0.035, 0.955, 0.109, 2.095, 0.912, -1.852, 1.116\n",
      "Epoch 300, Average reward, unmet demand, met demand, scooter num, scooter loc, gini index unmet, gini index met, wANNR, moran, gini, theil, EMD, centroid change, dispersion change, kl divergence = -20.570, 62.200, 128.800, 102.800, 81.800, 0.973, 0.959, 0.362, 0.031, 0.951, 0.108, 1.949, 0.961, -1.635, 1.182\n",
      "Epoch 350, Average reward, unmet demand, met demand, scooter num, scooter loc, gini index unmet, gini index met, wANNR, moran, gini, theil, EMD, centroid change, dispersion change, kl divergence = -23.003, 65.400, 125.600, 103.600, 81.400, 0.972, 0.961, 0.363, 0.032, 0.952, 0.106, 1.966, 0.957, -1.649, 1.148\n",
      "Epoch 400, Average reward, unmet demand, met demand, scooter num, scooter loc, gini index unmet, gini index met, wANNR, moran, gini, theil, EMD, centroid change, dispersion change, kl divergence = -26.720, 72.000, 119.000, 96.400, 73.400, 0.968, 0.964, 0.350, 0.032, 0.958, 0.126, 2.058, 0.915, -1.786, 1.093\n",
      "Epoch 450, Average reward, unmet demand, met demand, scooter num, scooter loc, gini index unmet, gini index met, wANNR, moran, gini, theil, EMD, centroid change, dispersion change, kl divergence = -28.561, 75.200, 115.800, 94.600, 73.800, 0.968, 0.963, 0.347, 0.032, 0.956, 0.106, 2.044, 0.939, -1.779, 1.153\n",
      "Epoch 500, Average reward, unmet demand, met demand, scooter num, scooter loc, gini index unmet, gini index met, wANNR, moran, gini, theil, EMD, centroid change, dispersion change, kl divergence = -27.855, 74.200, 116.800, 93.800, 71.600, 0.967, 0.965, 0.344, 0.030, 0.959, 0.119, 2.069, 0.938, -1.768, 1.088\n"
     ]
    }
   ],
   "source": [
    "## tf.reset_default_graph() only works under tf 1.0\n",
    "max_scooter_per_area = 11\n",
    "\n",
    "# Set up the state-value estimator and policy estimator\n",
    "estimator_policy = PolicyEstimator(learning_rate, nS)\n",
    "estimator_value = StateValueEstimator(learning_rate, nS)\n",
    "\n",
    "rider_test_list = np.array(grid_centroid_gdf['rider_test_list'])\n",
    "\n",
    "# Initialize study area\n",
    "study_area = create_study_area(service_areas, max_scooter_per_area, scooter_cost_per_deploy, docked_cost_per_deploy, \\\n",
    "                   nS, no_scooter_penalty, reward_per_rider, equity_penalty, rider_test_list, logistics_car_cost_per_mile)\n",
    "\n",
    "# Add ops to save and restore all the variables\n",
    "\n",
    "print(\"Starting policy gradient...\")\n",
    "\n",
    "# Start training\n",
    "print(\"Training in progress...\")\n",
    "avg_reward_max_11, avg_unmet_demand_max_11, avg_met_demand_max_11, avg_scooter_num_max_11, avg_scooter_loc_max_11, avg_wANNR_max_11, avg_moran_max_11, avg_gini_max_11, avg_theil_max_11, avg_EMD_max_11, avg_centroid_max_11, avg_dispersion_max_11, avg_kl_max_11, scooter_list_max_11 = reinforce(study_area, nS, estimator_policy, estimator_value, n_epochs, n_iters, batch_size, display_step)"
   ]
  },
  {
   "cell_type": "markdown",
   "id": "0572be87",
   "metadata": {},
   "source": [
    "## MAX = 12"
   ]
  },
  {
   "cell_type": "code",
   "execution_count": 20,
   "id": "d93d482c",
   "metadata": {},
   "outputs": [
    {
     "name": "stdout",
     "output_type": "stream",
     "text": [
      "Starting policy gradient...\n",
      "Training in progress...\n",
      "Epoch 50, Average reward, unmet demand, met demand, scooter num, scooter loc, gini index unmet, gini index met, wANNR, moran, gini, theil, EMD, centroid change, dispersion change, kl divergence = -28.178, 74.400, 116.600, 95.600, 74.200, 0.968, 0.963, 0.348, 0.033, 0.957, 0.112, 2.077, 0.914, -1.831, 1.060\n",
      "Epoch 100, Average reward, unmet demand, met demand, scooter num, scooter loc, gini index unmet, gini index met, wANNR, moran, gini, theil, EMD, centroid change, dispersion change, kl divergence = -26.349, 71.200, 119.800, 97.600, 74.200, 0.968, 0.964, 0.353, 0.029, 0.957, 0.122, 1.997, 0.909, -1.707, 1.130\n",
      "Epoch 150, Average reward, unmet demand, met demand, scooter num, scooter loc, gini index unmet, gini index met, wANNR, moran, gini, theil, EMD, centroid change, dispersion change, kl divergence = -28.798, 73.000, 118.000, 106.400, 82.800, 0.969, 0.964, 0.381, 0.036, 0.952, 0.115, 2.025, 0.857, -1.720, 1.177\n",
      "Epoch 200, Average reward, unmet demand, met demand, scooter num, scooter loc, gini index unmet, gini index met, wANNR, moran, gini, theil, EMD, centroid change, dispersion change, kl divergence = -27.609, 74.000, 117.000, 93.000, 70.800, 0.967, 0.964, 0.343, 0.032, 0.959, 0.112, 2.112, 0.938, -1.869, 1.082\n",
      "Epoch 250, Average reward, unmet demand, met demand, scooter num, scooter loc, gini index unmet, gini index met, wANNR, moran, gini, theil, EMD, centroid change, dispersion change, kl divergence = -26.675, 72.000, 119.000, 96.600, 74.600, 0.968, 0.964, 0.350, 0.032, 0.957, 0.115, 2.057, 0.900, -1.804, 1.074\n",
      "Epoch 300, Average reward, unmet demand, met demand, scooter num, scooter loc, gini index unmet, gini index met, wANNR, moran, gini, theil, EMD, centroid change, dispersion change, kl divergence = -27.165, 72.600, 118.400, 96.800, 74.200, 0.968, 0.964, 0.351, 0.032, 0.957, 0.116, 2.065, 0.879, -1.812, 1.070\n",
      "Epoch 350, Average reward, unmet demand, met demand, scooter num, scooter loc, gini index unmet, gini index met, wANNR, moran, gini, theil, EMD, centroid change, dispersion change, kl divergence = -26.597, 71.000, 120.000, 100.400, 76.800, 0.970, 0.963, 0.358, 0.033, 0.956, 0.122, 2.052, 0.888, -1.797, 1.051\n",
      "Epoch 400, Average reward, unmet demand, met demand, scooter num, scooter loc, gini index unmet, gini index met, wANNR, moran, gini, theil, EMD, centroid change, dispersion change, kl divergence = -26.522, 71.800, 119.200, 96.400, 74.200, 0.969, 0.964, 0.350, 0.033, 0.957, 0.117, 2.074, 0.911, -1.801, 1.059\n",
      "Epoch 450, Average reward, unmet demand, met demand, scooter num, scooter loc, gini index unmet, gini index met, wANNR, moran, gini, theil, EMD, centroid change, dispersion change, kl divergence = -25.632, 70.200, 120.800, 97.800, 75.000, 0.969, 0.964, 0.352, 0.032, 0.957, 0.124, 2.092, 0.908, -1.866, 1.062\n",
      "Epoch 500, Average reward, unmet demand, met demand, scooter num, scooter loc, gini index unmet, gini index met, wANNR, moran, gini, theil, EMD, centroid change, dispersion change, kl divergence = -29.628, 75.800, 115.200, 98.800, 76.800, 0.966, 0.964, 0.354, 0.033, 0.955, 0.116, 2.060, 0.919, -1.832, 1.060\n"
     ]
    }
   ],
   "source": [
    "## tf.reset_default_graph() only works under tf 1.0\n",
    "max_scooter_per_area = 12\n",
    "\n",
    "# Set up the state-value estimator and policy estimator\n",
    "estimator_policy = PolicyEstimator(learning_rate, nS)\n",
    "estimator_value = StateValueEstimator(learning_rate, nS)\n",
    "\n",
    "rider_test_list = np.array(grid_centroid_gdf['rider_test_list'])\n",
    "\n",
    "# Initialize study area\n",
    "study_area = create_study_area(service_areas, max_scooter_per_area, scooter_cost_per_deploy, docked_cost_per_deploy, \\\n",
    "                   nS, no_scooter_penalty, reward_per_rider, equity_penalty, rider_test_list, logistics_car_cost_per_mile)\n",
    "\n",
    "# Add ops to save and restore all the variables\n",
    "\n",
    "print(\"Starting policy gradient...\")\n",
    "\n",
    "# Start training\n",
    "print(\"Training in progress...\")\n",
    "avg_reward_max_12, avg_unmet_demand_max_12, avg_met_demand_max_12, avg_scooter_num_max_12, avg_scooter_loc_max_12, avg_wANNR_max_12, avg_moran_max_12, avg_gini_max_12, avg_theil_max_12, avg_EMD_max_12, avg_centroid_max_12, avg_dispersion_max_12, avg_kl_max_12, scooter_list_max_12 = reinforce(study_area, nS, estimator_policy, estimator_value, n_epochs, n_iters, batch_size, display_step)"
   ]
  },
  {
   "cell_type": "markdown",
   "id": "5308dc9b",
   "metadata": {},
   "source": [
    "## MAX = 13"
   ]
  },
  {
   "cell_type": "code",
   "execution_count": 80,
   "id": "e9e2a53d",
   "metadata": {},
   "outputs": [
    {
     "name": "stdout",
     "output_type": "stream",
     "text": [
      "Starting policy gradient...\n",
      "Training in progress...\n",
      "Epoch 50, Average reward, unmet demand, met demand, scooter num, scooter loc, gini index unmet, gini index met, wANNR, moran, gini, theil, EMD, centroid change, dispersion change, kl divergence = -26.740, 71.800, 119.200, 97.600, 74.600, 0.967, 0.965, 0.351, 0.031, 0.957, 0.125, 2.101, 0.921, -1.891, 1.059\n",
      "Epoch 100, Average reward, unmet demand, met demand, scooter num, scooter loc, gini index unmet, gini index met, wANNR, moran, gini, theil, EMD, centroid change, dispersion change, kl divergence = -26.887, 72.400, 118.600, 96.200, 74.400, 0.969, 0.964, 0.351, 0.034, 0.956, 0.109, 2.057, 0.881, -1.824, 1.097\n",
      "Epoch 150, Average reward, unmet demand, met demand, scooter num, scooter loc, gini index unmet, gini index met, wANNR, moran, gini, theil, EMD, centroid change, dispersion change, kl divergence = -32.980, 80.600, 110.400, 99.600, 79.200, 0.971, 0.963, 0.356, 0.032, 0.953, 0.093, 1.895, 0.873, -1.557, 1.139\n",
      "Epoch 200, Average reward, unmet demand, met demand, scooter num, scooter loc, gini index unmet, gini index met, wANNR, moran, gini, theil, EMD, centroid change, dispersion change, kl divergence = -28.347, 74.800, 116.200, 95.200, 74.600, 0.969, 0.963, 0.348, 0.032, 0.956, 0.111, 2.038, 0.902, -1.750, 1.131\n",
      "Epoch 250, Average reward, unmet demand, met demand, scooter num, scooter loc, gini index unmet, gini index met, wANNR, moran, gini, theil, EMD, centroid change, dispersion change, kl divergence = -26.773, 71.600, 119.400, 99.000, 76.200, 0.967, 0.964, 0.355, 0.032, 0.956, 0.117, 2.061, 0.913, -1.816, 1.089\n",
      "Epoch 300, Average reward, unmet demand, met demand, scooter num, scooter loc, gini index unmet, gini index met, wANNR, moran, gini, theil, EMD, centroid change, dispersion change, kl divergence = -23.594, 66.400, 124.600, 103.000, 81.200, 0.973, 0.959, 0.362, 0.031, 0.952, 0.113, 1.948, 0.947, -1.643, 1.166\n",
      "Epoch 350, Average reward, unmet demand, met demand, scooter num, scooter loc, gini index unmet, gini index met, wANNR, moran, gini, theil, EMD, centroid change, dispersion change, kl divergence = -27.667, 71.200, 119.800, 107.800, 85.000, 0.968, 0.964, 0.370, 0.033, 0.950, 0.109, 1.924, 0.963, -1.594, 1.156\n",
      "Epoch 400, Average reward, unmet demand, met demand, scooter num, scooter loc, gini index unmet, gini index met, wANNR, moran, gini, theil, EMD, centroid change, dispersion change, kl divergence = -29.524, 76.000, 115.000, 97.400, 76.200, 0.968, 0.963, 0.353, 0.032, 0.955, 0.113, 2.022, 0.909, -1.739, 1.107\n",
      "Epoch 450, Average reward, unmet demand, met demand, scooter num, scooter loc, gini index unmet, gini index met, wANNR, moran, gini, theil, EMD, centroid change, dispersion change, kl divergence = -29.058, 73.800, 117.200, 104.800, 82.400, 0.967, 0.965, 0.365, 0.034, 0.952, 0.119, 2.008, 0.929, -1.724, 1.135\n",
      "Epoch 500, Average reward, unmet demand, met demand, scooter num, scooter loc, gini index unmet, gini index met, wANNR, moran, gini, theil, EMD, centroid change, dispersion change, kl divergence = -25.981, 71.200, 119.800, 95.600, 73.600, 0.967, 0.964, 0.349, 0.031, 0.957, 0.118, 2.071, 0.941, -1.813, 1.086\n"
     ]
    }
   ],
   "source": [
    "## tf.reset_default_graph() only works under tf 1.0\n",
    "max_scooter_per_area = 13\n",
    "\n",
    "# Set up the state-value estimator and policy estimator\n",
    "estimator_policy = PolicyEstimator(learning_rate, nS)\n",
    "estimator_value = StateValueEstimator(learning_rate, nS)\n",
    "\n",
    "rider_test_list = np.array(grid_centroid_gdf['rider_test_list'])\n",
    "\n",
    "# Initialize study area\n",
    "study_area = create_study_area(service_areas, max_scooter_per_area, scooter_cost_per_deploy, docked_cost_per_deploy, \\\n",
    "                   nS, no_scooter_penalty, reward_per_rider, equity_penalty, rider_test_list, logistics_car_cost_per_mile)\n",
    "\n",
    "# Add ops to save and restore all the variables\n",
    "\n",
    "print(\"Starting policy gradient...\")\n",
    "\n",
    "# Start training\n",
    "print(\"Training in progress...\")\n",
    "avg_reward_max_13, avg_unmet_demand_max_13, avg_met_demand_max_13, avg_scooter_num_max_13, avg_scooter_loc_max_13, avg_wANNR_max_13, avg_moran_max_13, avg_gini_max_13, avg_theil_max_13, avg_EMD_max_13, avg_centroid_max_13, avg_dispersion_max_13, avg_kl_max_13, scooter_list_max_13 = reinforce(study_area, nS, estimator_policy, estimator_value, n_epochs, n_iters, batch_size, display_step)"
   ]
  },
  {
   "cell_type": "markdown",
   "id": "3e5e37de",
   "metadata": {},
   "source": [
    "## MAX = 14"
   ]
  },
  {
   "cell_type": "code",
   "execution_count": 79,
   "id": "390b6c76",
   "metadata": {},
   "outputs": [
    {
     "name": "stdout",
     "output_type": "stream",
     "text": [
      "Starting policy gradient...\n",
      "Training in progress...\n",
      "Epoch 50, Average reward, unmet demand, met demand, scooter num, scooter loc, gini index unmet, gini index met, wANNR, moran, gini, theil, EMD, centroid change, dispersion change, kl divergence = -21.282, 62.000, 129.000, 108.000, 84.800, 0.973, 0.960, 0.370, 0.032, 0.950, 0.114, 1.950, 0.965, -1.636, 1.130\n",
      "Epoch 100, Average reward, unmet demand, met demand, scooter num, scooter loc, gini index unmet, gini index met, wANNR, moran, gini, theil, EMD, centroid change, dispersion change, kl divergence = -37.008, 86.800, 104.200, 96.400, 74.400, 0.964, 0.967, 0.350, 0.034, 0.957, 0.108, 2.064, 0.934, -1.828, 1.043\n",
      "Epoch 150, Average reward, unmet demand, met demand, scooter num, scooter loc, gini index unmet, gini index met, wANNR, moran, gini, theil, EMD, centroid change, dispersion change, kl divergence = -26.265, 70.400, 120.600, 101.600, 79.000, 0.968, 0.963, 0.359, 0.032, 0.954, 0.118, 2.030, 0.943, -1.745, 1.095\n",
      "Epoch 200, Average reward, unmet demand, met demand, scooter num, scooter loc, gini index unmet, gini index met, wANNR, moran, gini, theil, EMD, centroid change, dispersion change, kl divergence = -23.437, 65.800, 125.200, 105.400, 84.400, 0.973, 0.959, 0.366, 0.034, 0.949, 0.099, 1.964, 0.955, -1.679, 1.155\n",
      "Epoch 250, Average reward, unmet demand, met demand, scooter num, scooter loc, gini index unmet, gini index met, wANNR, moran, gini, theil, EMD, centroid change, dispersion change, kl divergence = -26.931, 72.000, 119.000, 98.200, 75.600, 0.970, 0.962, 0.352, 0.035, 0.956, 0.118, 2.130, 0.915, -1.928, 1.051\n",
      "Epoch 300, Average reward, unmet demand, met demand, scooter num, scooter loc, gini index unmet, gini index met, wANNR, moran, gini, theil, EMD, centroid change, dispersion change, kl divergence = -33.005, 81.200, 109.800, 97.400, 78.400, 0.970, 0.964, 0.353, 0.033, 0.953, 0.090, 2.004, 1.007, -1.730, 1.223\n",
      "Epoch 350, Average reward, unmet demand, met demand, scooter num, scooter loc, gini index unmet, gini index met, wANNR, moran, gini, theil, EMD, centroid change, dispersion change, kl divergence = -27.379, 73.400, 117.600, 95.400, 75.000, 0.969, 0.964, 0.348, 0.033, 0.956, 0.105, 2.053, 0.970, -1.780, 1.147\n",
      "Epoch 400, Average reward, unmet demand, met demand, scooter num, scooter loc, gini index unmet, gini index met, wANNR, moran, gini, theil, EMD, centroid change, dispersion change, kl divergence = -27.505, 73.200, 117.800, 96.200, 73.600, 0.968, 0.963, 0.350, 0.031, 0.957, 0.118, 2.044, 0.901, -1.731, 1.115\n",
      "Epoch 450, Average reward, unmet demand, met demand, scooter num, scooter loc, gini index unmet, gini index met, wANNR, moran, gini, theil, EMD, centroid change, dispersion change, kl divergence = -29.960, 76.600, 114.400, 97.200, 75.400, 0.967, 0.965, 0.350, 0.032, 0.956, 0.113, 2.060, 0.893, -1.820, 1.097\n",
      "Epoch 500, Average reward, unmet demand, met demand, scooter num, scooter loc, gini index unmet, gini index met, wANNR, moran, gini, theil, EMD, centroid change, dispersion change, kl divergence = -27.771, 73.200, 117.800, 98.200, 75.600, 0.970, 0.963, 0.356, 0.033, 0.956, 0.117, 2.054, 0.913, -1.774, 1.075\n"
     ]
    }
   ],
   "source": [
    "## tf.reset_default_graph() only works under tf 1.0\n",
    "max_scooter_per_area = 14\n",
    "\n",
    "# Set up the state-value estimator and policy estimator\n",
    "estimator_policy = PolicyEstimator(learning_rate, nS)\n",
    "estimator_value = StateValueEstimator(learning_rate, nS)\n",
    "\n",
    "rider_test_list = np.array(grid_centroid_gdf['rider_test_list'])\n",
    "\n",
    "# Initialize study area\n",
    "study_area = create_study_area(service_areas, max_scooter_per_area, scooter_cost_per_deploy, docked_cost_per_deploy, \\\n",
    "                   nS, no_scooter_penalty, reward_per_rider, equity_penalty, rider_test_list, logistics_car_cost_per_mile)\n",
    "\n",
    "# Add ops to save and restore all the variables\n",
    "\n",
    "print(\"Starting policy gradient...\")\n",
    "\n",
    "# Start training\n",
    "print(\"Training in progress...\")\n",
    "avg_reward_max_14, avg_unmet_demand_max_14, avg_met_demand_max_14, avg_scooter_num_max_14, avg_scooter_loc_max_14, avg_wANNR_max_14, avg_moran_max_14, avg_gini_max_14, avg_theil_max_14, avg_EMD_max_14, avg_centroid_max_14, avg_dispersion_max_14, avg_kl_max_14, scooter_list_max_14 = reinforce(study_area, nS, estimator_policy, estimator_value, n_epochs, n_iters, batch_size, display_step)"
   ]
  },
  {
   "cell_type": "markdown",
   "id": "cd8319b4",
   "metadata": {},
   "source": [
    "## MAX = 15"
   ]
  },
  {
   "cell_type": "code",
   "execution_count": 122,
   "id": "b34bc39e",
   "metadata": {},
   "outputs": [
    {
     "name": "stdout",
     "output_type": "stream",
     "text": [
      "Starting policy gradient...\n",
      "Training in progress...\n",
      "Epoch 50, Average reward, unmet demand, met demand, scooter num, scooter loc, gini index unmet, gini index met, wANNR, moran, gini, theil, EMD, centroid change, dispersion change, kl divergence = -28.489, 73.800, 117.200, 100.000, 76.600, 0.967, 0.964, 0.356, 0.032, 0.955, 0.116, 2.063, 0.939, -1.786, 1.092\n",
      "Epoch 100, Average reward, unmet demand, met demand, scooter num, scooter loc, gini index unmet, gini index met, wANNR, moran, gini, theil, EMD, centroid change, dispersion change, kl divergence = -27.054, 71.800, 119.200, 100.600, 78.800, 0.967, 0.964, 0.358, 0.033, 0.954, 0.110, 2.016, 0.872, -1.744, 1.081\n",
      "Epoch 150, Average reward, unmet demand, met demand, scooter num, scooter loc, gini index unmet, gini index met, wANNR, moran, gini, theil, EMD, centroid change, dispersion change, kl divergence = -23.702, 65.800, 125.200, 106.200, 83.000, 0.973, 0.960, 0.367, 0.033, 0.951, 0.111, 1.965, 0.975, -1.657, 1.139\n",
      "Epoch 200, Average reward, unmet demand, met demand, scooter num, scooter loc, gini index unmet, gini index met, wANNR, moran, gini, theil, EMD, centroid change, dispersion change, kl divergence = -28.566, 75.400, 115.600, 93.800, 73.400, 0.970, 0.962, 0.345, 0.033, 0.957, 0.107, 2.058, 0.894, -1.803, 1.131\n",
      "Epoch 250, Average reward, unmet demand, met demand, scooter num, scooter loc, gini index unmet, gini index met, wANNR, moran, gini, theil, EMD, centroid change, dispersion change, kl divergence = -33.359, 80.400, 110.600, 103.600, 83.400, 0.969, 0.965, 0.363, 0.033, 0.950, 0.096, 1.955, 0.960, -1.687, 1.221\n",
      "Epoch 300, Average reward, unmet demand, met demand, scooter num, scooter loc, gini index unmet, gini index met, wANNR, moran, gini, theil, EMD, centroid change, dispersion change, kl divergence = -27.654, 72.800, 118.200, 99.200, 76.200, 0.970, 0.963, 0.355, 0.034, 0.956, 0.118, 2.064, 0.930, -1.797, 1.057\n",
      "Epoch 350, Average reward, unmet demand, met demand, scooter num, scooter loc, gini index unmet, gini index met, wANNR, moran, gini, theil, EMD, centroid change, dispersion change, kl divergence = -27.090, 72.200, 118.800, 97.800, 74.200, 0.968, 0.964, 0.353, 0.031, 0.957, 0.124, 2.074, 0.948, -1.800, 1.073\n",
      "Epoch 400, Average reward, unmet demand, met demand, scooter num, scooter loc, gini index unmet, gini index met, wANNR, moran, gini, theil, EMD, centroid change, dispersion change, kl divergence = -25.095, 69.200, 121.800, 98.800, 75.600, 0.967, 0.964, 0.354, 0.034, 0.956, 0.118, 2.066, 0.896, -1.817, 1.077\n",
      "Epoch 450, Average reward, unmet demand, met demand, scooter num, scooter loc, gini index unmet, gini index met, wANNR, moran, gini, theil, EMD, centroid change, dispersion change, kl divergence = -24.621, 67.600, 123.400, 104.400, 82.600, 0.972, 0.960, 0.365, 0.033, 0.951, 0.104, 1.942, 0.929, -1.648, 1.171\n",
      "Epoch 500, Average reward, unmet demand, met demand, scooter num, scooter loc, gini index unmet, gini index met, wANNR, moran, gini, theil, EMD, centroid change, dispersion change, kl divergence = -28.255, 73.800, 117.200, 99.000, 77.000, 0.967, 0.964, 0.354, 0.034, 0.955, 0.117, 2.074, 0.936, -1.817, 1.051\n"
     ]
    }
   ],
   "source": [
    "## tf.reset_default_graph() only works under tf 1.0\n",
    "max_scooter_per_area = 15\n",
    "\n",
    "# Set up the state-value estimator and policy estimator\n",
    "estimator_policy = PolicyEstimator(learning_rate, nS)\n",
    "estimator_value = StateValueEstimator(learning_rate, nS)\n",
    "\n",
    "rider_test_list = np.array(grid_centroid_gdf['rider_test_list'])\n",
    "\n",
    "# Initialize study area\n",
    "study_area = create_study_area(service_areas, max_scooter_per_area, scooter_cost_per_deploy, docked_cost_per_deploy, \\\n",
    "                   nS, no_scooter_penalty, reward_per_rider, equity_penalty, rider_test_list, logistics_car_cost_per_mile)\n",
    "\n",
    "# Add ops to save and restore all the variables\n",
    "\n",
    "print(\"Starting policy gradient...\")\n",
    "\n",
    "# Start training\n",
    "print(\"Training in progress...\")\n",
    "avg_reward_max_15, avg_unmet_demand_max_15, avg_met_demand_max_15, avg_scooter_num_max_15, avg_scooter_loc_max_15, avg_wANNR_max_15, avg_moran_max_15, avg_gini_max_15, avg_theil_max_15, avg_EMD_max_15, avg_centroid_max_15, avg_dispersion_max_15, avg_kl_max_15, scooter_list_max_15 = reinforce(study_area, nS, estimator_policy, estimator_value, n_epochs, n_iters, batch_size, display_step)"
   ]
  },
  {
   "cell_type": "markdown",
   "id": "462300ea",
   "metadata": {},
   "source": [
    "## MAX = 16"
   ]
  },
  {
   "cell_type": "code",
   "execution_count": 24,
   "id": "c4b00b1e",
   "metadata": {},
   "outputs": [
    {
     "name": "stdout",
     "output_type": "stream",
     "text": [
      "Starting policy gradient...\n",
      "Training in progress...\n",
      "Epoch 50, Average reward, unmet demand, met demand, scooter num, scooter loc, gini index unmet, gini index met, wANNR, moran, gini, theil, EMD, centroid change, dispersion change, kl divergence = -25.291, 69.200, 121.800, 102.000, 82.000, 0.973, 0.960, 0.361, 0.032, 0.951, 0.101, 1.951, 0.970, -1.654, 1.210\n",
      "Epoch 100, Average reward, unmet demand, met demand, scooter num, scooter loc, gini index unmet, gini index met, wANNR, moran, gini, theil, EMD, centroid change, dispersion change, kl divergence = -26.774, 72.200, 118.800, 96.400, 74.600, 0.969, 0.965, 0.349, 0.032, 0.957, 0.115, 2.045, 0.932, -1.791, 1.128\n",
      "Epoch 150, Average reward, unmet demand, met demand, scooter num, scooter loc, gini index unmet, gini index met, wANNR, moran, gini, theil, EMD, centroid change, dispersion change, kl divergence = -26.758, 71.600, 119.400, 99.000, 76.400, 0.969, 0.963, 0.355, 0.032, 0.956, 0.121, 2.045, 0.936, -1.764, 1.101\n",
      "Epoch 200, Average reward, unmet demand, met demand, scooter num, scooter loc, gini index unmet, gini index met, wANNR, moran, gini, theil, EMD, centroid change, dispersion change, kl divergence = -24.589, 67.800, 123.200, 103.000, 81.000, 0.973, 0.961, 0.362, 0.030, 0.952, 0.113, 1.949, 0.975, -1.637, 1.163\n",
      "Epoch 250, Average reward, unmet demand, met demand, scooter num, scooter loc, gini index unmet, gini index met, wANNR, moran, gini, theil, EMD, centroid change, dispersion change, kl divergence = -24.533, 68.400, 122.600, 99.000, 76.200, 0.967, 0.965, 0.355, 0.031, 0.956, 0.122, 2.051, 0.899, -1.791, 1.094\n",
      "Epoch 300, Average reward, unmet demand, met demand, scooter num, scooter loc, gini index unmet, gini index met, wANNR, moran, gini, theil, EMD, centroid change, dispersion change, kl divergence = -27.037, 72.600, 118.400, 96.600, 75.400, 0.968, 0.964, 0.350, 0.031, 0.956, 0.112, 2.045, 0.917, -1.791, 1.090\n",
      "Epoch 350, Average reward, unmet demand, met demand, scooter num, scooter loc, gini index unmet, gini index met, wANNR, moran, gini, theil, EMD, centroid change, dispersion change, kl divergence = -39.883, 88.400, 102.600, 110.200, 89.400, 0.965, 0.967, 0.374, 0.034, 0.946, 0.096, 1.907, 0.917, -1.581, 1.215\n",
      "Epoch 400, Average reward, unmet demand, met demand, scooter num, scooter loc, gini index unmet, gini index met, wANNR, moran, gini, theil, EMD, centroid change, dispersion change, kl divergence = -28.220, 74.000, 117.000, 97.800, 76.000, 0.969, 0.963, 0.352, 0.033, 0.956, 0.115, 2.067, 0.930, -1.807, 1.065\n",
      "Epoch 450, Average reward, unmet demand, met demand, scooter num, scooter loc, gini index unmet, gini index met, wANNR, moran, gini, theil, EMD, centroid change, dispersion change, kl divergence = -25.000, 69.200, 121.800, 98.200, 75.200, 0.968, 0.963, 0.353, 0.034, 0.957, 0.119, 2.089, 0.915, -1.834, 1.071\n",
      "Epoch 500, Average reward, unmet demand, met demand, scooter num, scooter loc, gini index unmet, gini index met, wANNR, moran, gini, theil, EMD, centroid change, dispersion change, kl divergence = -25.248, 70.000, 121.000, 96.400, 74.400, 0.969, 0.964, 0.350, 0.033, 0.957, 0.122, 2.095, 1.001, -1.817, 1.056\n"
     ]
    }
   ],
   "source": [
    "## tf.reset_default_graph() only works under tf 1.0\n",
    "max_scooter_per_area = 16\n",
    "\n",
    "# Set up the state-value estimator and policy estimator\n",
    "estimator_policy = PolicyEstimator(learning_rate, nS)\n",
    "estimator_value = StateValueEstimator(learning_rate, nS)\n",
    "\n",
    "rider_test_list = np.array(grid_centroid_gdf['rider_test_list'])\n",
    "\n",
    "# Initialize study area\n",
    "study_area = create_study_area(service_areas, max_scooter_per_area, scooter_cost_per_deploy, docked_cost_per_deploy, \\\n",
    "                   nS, no_scooter_penalty, reward_per_rider, equity_penalty, rider_test_list, logistics_car_cost_per_mile)\n",
    "\n",
    "# Add ops to save and restore all the variables\n",
    "\n",
    "print(\"Starting policy gradient...\")\n",
    "\n",
    "# Start training\n",
    "print(\"Training in progress...\")\n",
    "avg_reward_max_16, avg_unmet_demand_max_16, avg_met_demand_max_16, avg_scooter_num_max_16, avg_scooter_loc_max_16, avg_wANNR_max_16, avg_moran_max_16, avg_gini_max_16, avg_theil_max_16, avg_EMD_max_16, avg_centroid_max_16, avg_dispersion_max_16, avg_kl_max_16, scooter_list_max_16 = reinforce(study_area, nS, estimator_policy, estimator_value, n_epochs, n_iters, batch_size, display_step)"
   ]
  },
  {
   "cell_type": "markdown",
   "id": "cf6babdd",
   "metadata": {},
   "source": [
    "# Illustration"
   ]
  },
  {
   "cell_type": "code",
   "execution_count": 164,
   "id": "218b3462",
   "metadata": {},
   "outputs": [
    {
     "name": "stdout",
     "output_type": "stream",
     "text": [
      "[array([ True,  True,  True,  True,  True, False,  True,  True,  True,\n",
      "        True]), array([ True,  True,  True,  True,  True,  True,  True,  True,  True,\n",
      "        True]), array([ True,  True,  True,  True,  True,  True,  True,  True, False,\n",
      "        True]), array([ True,  True,  True,  True,  True,  True,  True,  True, False,\n",
      "        True]), array([ True,  True,  True,  True,  True,  True,  True,  True,  True,\n",
      "        True]), array([ True,  True,  True,  True,  True,  True,  True,  True, False,\n",
      "        True]), array([ True,  True,  True,  True,  True,  True,  True,  True,  True,\n",
      "        True]), array([ True,  True,  True,  True,  True,  True,  True,  True,  True,\n",
      "        True]), array([ True,  True,  True,  True,  True,  True,  True,  True,  True,\n",
      "        True]), array([False,  True,  True,  True,  True, False,  True,  True,  True,\n",
      "        True]), array([ True,  True,  True,  True,  True,  True,  True,  True,  True,\n",
      "        True]), array([ True,  True, False,  True,  True,  True,  True,  True,  True,\n",
      "        True]), array([ True, False,  True,  True,  True,  True,  True,  True,  True,\n",
      "        True]), array([ True,  True,  True,  True, False,  True,  True,  True,  True,\n",
      "        True]), array([ True,  True,  True,  True,  True,  True, False,  True,  True,\n",
      "        True])]\n"
     ]
    }
   ],
   "source": [
    "def modified_z_score(arr):\n",
    "\n",
    "    median = np.median(arr)\n",
    "    mad = np.median(np.abs(arr - median))  # Median Absolute Deviation\n",
    "\n",
    "    # Modified Z-score\n",
    "    modified_z_scores = 0.6745 * (arr - median) / mad\n",
    "    threshold = 3\n",
    "    # filtered_arr = arr[np.abs(modified_z_scores) < threshold]\n",
    "    sel_index = np.abs(modified_z_scores) < threshold\n",
    "    \n",
    "    return sel_index # filtered_arr\n",
    "\n",
    "sel_index_2 = modified_z_score(avg_reward_max_2)\n",
    "sel_index_3 = modified_z_score(avg_reward_max_3)\n",
    "sel_index_4 = modified_z_score(avg_reward_max_4)\n",
    "sel_index_5 = modified_z_score(avg_reward_max_5)\n",
    "sel_index_6 = modified_z_score(avg_reward_max_6)\n",
    "sel_index_7 = modified_z_score(avg_reward_max_7)\n",
    "sel_index_8 = modified_z_score(avg_reward_max_8)\n",
    "sel_index_9 = modified_z_score(avg_reward_max_9)\n",
    "sel_index_10 = modified_z_score(avg_reward_max_10)\n",
    "sel_index_11 = modified_z_score(avg_reward_max_11)\n",
    "sel_index_12 = modified_z_score(avg_reward_max_12)\n",
    "sel_index_13 = modified_z_score(avg_reward_max_13)\n",
    "sel_index_14 = modified_z_score(avg_reward_max_14)\n",
    "sel_index_15 = modified_z_score(avg_reward_max_15)\n",
    "sel_index_16 = modified_z_score(avg_reward_max_16)\n",
    "print([sel_index_2, sel_index_3, sel_index_4, sel_index_5, sel_index_6, sel_index_7, sel_index_8, sel_index_9, \n",
    "      sel_index_10, sel_index_11, sel_index_12, sel_index_13, sel_index_14, sel_index_15, sel_index_16])"
   ]
  },
  {
   "cell_type": "code",
   "execution_count": 165,
   "id": "91bd3d33",
   "metadata": {},
   "outputs": [
    {
     "name": "stdout",
     "output_type": "stream",
     "text": [
      "End: 2025-07-10 14:27:50\n",
      "Plotting resulting graph...\n",
      "Plotting baseline 1...\n",
      "End: 2025-07-10 14:27:50\n"
     ]
    },
    {
     "data": {
      "image/png": "[encoded data removed]",
      "text/plain": [
       "<Figure size 432x288 with 1 Axes>"
      ]
     },
     "metadata": {
      "needs_background": "light"
     },
     "output_type": "display_data"
    }
   ],
   "source": [
    "# Plot the graphs of average rewards during testing phases of the policy\n",
    "# gradient method and the hand-crafted policies\n",
    "\n",
    "print(\"End: \" + datetime.now().strftime('%Y-%m-%d %H:%M:%S'))\n",
    "\n",
    "max_scooter_per_area_list = np.arange(2,17)\n",
    "max_reward_list_grid = np.array([avg_reward_max_2,\n",
    "                                avg_reward_max_3,\n",
    "                                avg_reward_max_4,\n",
    "                                avg_reward_max_5,\n",
    "                                avg_reward_max_6,\n",
    "                                avg_reward_max_7,\n",
    "                                avg_reward_max_8,\n",
    "                                avg_reward_max_9,\n",
    "                                avg_reward_max_10,\n",
    "                                avg_reward_max_11,\n",
    "                                avg_reward_max_12,\n",
    "                                avg_reward_max_13,\n",
    "                                avg_reward_max_14,\n",
    "                                avg_reward_max_15,\n",
    "                                avg_reward_max_16])\n",
    "max_reward_mean_grid = np.mean(max_reward_list_grid, axis=1)\n",
    "max_reward_std_grid = np.std(max_reward_list_grid, axis=1)\n",
    "\n",
    "print(\"Plotting resulting graph...\")\n",
    "# plt.figure(figsize = (12, 9))\n",
    "l1 = plt.errorbar(max_scooter_per_area_list, max_reward_mean_grid, yerr=max_reward_std_grid, fmt='o-', capsize=5) # ecolor='gray', \n",
    "\n",
    "print(\"Plotting baseline 1...\")\n",
    "# plt.legend(loc='best',prop={'size': 10})\n",
    "plt.ylabel(\"Reward function value\")\n",
    "plt.xlabel(\"max_scooter_per_area\")\n",
    "\n",
    "print(\"End: \" + datetime.now().strftime('%Y-%m-%d %H:%M:%S'))"
   ]
  },
  {
   "cell_type": "code",
   "execution_count": 166,
   "id": "88cb6330",
   "metadata": {},
   "outputs": [
    {
     "data": {
      "text/plain": [
       "array([[-33.78305712, -35.73708184, -37.27051518, -38.87344282,\n",
       "        -38.00887213, -27.81812641, -33.30882792, -33.48950377,\n",
       "        -34.06433303, -32.99643046],\n",
       "       [-29.96706407, -27.93178161, -30.42705539, -28.73835695,\n",
       "        -28.59597647, -28.73732975, -32.44929849, -30.55708105,\n",
       "        -24.46016423, -26.45912834],\n",
       "       [-26.49272354, -26.15048044, -26.50943587, -28.8180743 ,\n",
       "        -29.421722  , -29.00257787, -25.3968426 , -28.01047175,\n",
       "        -20.69320358, -28.3215933 ],\n",
       "       [-28.39594252, -26.68124196, -30.75965023, -24.70536971,\n",
       "        -27.47784296, -24.67228771, -27.65151632, -26.94580553,\n",
       "        -22.39758715, -27.5146753 ],\n",
       "       [-29.66591686, -33.14553235, -25.09042043, -27.36913584,\n",
       "        -33.38110615, -23.9702491 , -20.15724448, -26.17571987,\n",
       "        -28.72019739, -25.04131065],\n",
       "       [-25.99572934, -22.08987328, -29.52804864, -28.12131065,\n",
       "        -23.91192768, -26.67041175, -29.58798863, -25.68102878,\n",
       "        -36.41174766, -28.39363941],\n",
       "       [-24.22245786, -27.65935889, -29.9380743 , -28.84211519,\n",
       "        -24.52461648, -26.34828866, -27.28155935, -27.32488098,\n",
       "        -29.19254352, -26.4992902 ],\n",
       "       [-27.49139631, -27.48355375, -26.07809167, -26.87716711,\n",
       "        -28.98270657, -26.78355375, -28.01490664, -29.65167897,\n",
       "        -26.18799732, -26.02983775],\n",
       "       [-28.02488098, -27.79484663, -28.06137065, -27.25258616,\n",
       "        -28.68148198, -25.03337492, -25.54913584, -24.12338242,\n",
       "        -24.70997592, -27.05553985],\n",
       "       [-21.99540405, -26.97565118, -27.44816865, -27.9605061 ,\n",
       "        -29.35496664, -20.56991591, -23.00311792, -26.72003474,\n",
       "        -28.56135328, -27.85547116],\n",
       "       [-28.17801429, -26.34897319, -28.79759583, -27.60872449,\n",
       "        -26.6746753 , -27.16458963, -26.59699578, -26.52239785,\n",
       "        -25.6324322 , -29.62822865],\n",
       "       [-26.74015475, -26.88689274, -32.97970155, -28.34700407,\n",
       "        -26.77255221, -23.59423947, -27.66676562, -29.52378509,\n",
       "        -29.05764715, -25.98124196],\n",
       "       [-21.28227074, -37.00798863, -26.26506968, -23.4368426 ,\n",
       "        -26.93139631, -33.00528364, -27.37928151, -27.50452963,\n",
       "        -29.96032608, -27.77139631],\n",
       "       [-28.48921322, -27.05399945, -23.70209072, -28.56578816,\n",
       "        -33.3590257 , -27.6536481 , -27.09006909, -25.09468398,\n",
       "        -24.62104615, -28.25491532],\n",
       "       [-25.29112313, -26.77357941, -26.75814299, -24.58864869,\n",
       "        -24.53255221, -27.03703841, -39.88291343, -28.22038609,\n",
       "        -25.00021476, -25.24798863]])"
      ]
     },
     "execution_count": 166,
     "metadata": {},
     "output_type": "execute_result"
    }
   ],
   "source": [
    "max_reward_list_grid"
   ]
  },
  {
   "cell_type": "code",
   "execution_count": 167,
   "id": "5be10874",
   "metadata": {},
   "outputs": [
    {
     "name": "stdout",
     "output_type": "stream",
     "text": [
      "End: 2025-07-10 14:28:07\n",
      "Plotting resulting graph...\n",
      "Plotting baseline 1...\n",
      "End: 2025-07-10 14:28:07\n"
     ]
    },
    {
     "data": {
      "image/png": "[encoded data removed]",
      "text/plain": [
       "<Figure size 432x288 with 1 Axes>"
      ]
     },
     "metadata": {
      "needs_background": "light"
     },
     "output_type": "display_data"
    }
   ],
   "source": [
    "# Plot the graphs of average rewards during testing phases of the policy\n",
    "# gradient method and the hand-crafted policies\n",
    "\n",
    "print(\"End: \" + datetime.now().strftime('%Y-%m-%d %H:%M:%S'))\n",
    "\n",
    "max_scooter_per_area_list = np.arange(2,17)\n",
    "max_reward_list_grid = [np.array(avg_reward_max_2)[sel_index_2],\n",
    "                        np.array(avg_reward_max_3)[sel_index_3],\n",
    "                        np.array(avg_reward_max_4)[sel_index_4],\n",
    "                        np.array(avg_reward_max_5)[sel_index_5],\n",
    "                        np.array(avg_reward_max_6)[sel_index_6],\n",
    "                        np.array(avg_reward_max_7)[sel_index_7],\n",
    "                        np.array(avg_reward_max_8)[sel_index_8],\n",
    "                        np.array(avg_reward_max_9)[sel_index_9],\n",
    "                        np.array(avg_reward_max_10)[sel_index_10],\n",
    "                        np.array(avg_reward_max_11)[sel_index_11],\n",
    "                        np.array(avg_reward_max_12)[sel_index_12],\n",
    "                        np.array(avg_reward_max_13)[sel_index_13],\n",
    "                        np.array(avg_reward_max_14)[sel_index_14],\n",
    "                        np.array(avg_reward_max_15)[sel_index_15],\n",
    "                        np.array(avg_reward_max_16)[sel_index_16]]\n",
    "max_reward_mean_grid = []\n",
    "max_reward_std_grid = []\n",
    "for ii in range(len(max_scooter_per_area_list)):\n",
    "    max_reward_mean_grid.append(np.mean(max_reward_list_grid[ii]))\n",
    "    max_reward_std_grid.append(np.std(max_reward_list_grid[ii]))\n",
    "\n",
    "print(\"Plotting resulting graph...\")\n",
    "# plt.figure(figsize = (12, 9))\n",
    "l1 = plt.errorbar(max_scooter_per_area_list, max_reward_mean_grid, yerr=max_reward_std_grid, fmt='o-', capsize=5) # ecolor='gray', \n",
    "\n",
    "print(\"Plotting baseline 1...\")\n",
    "# plt.legend(loc='best',prop={'size': 10})\n",
    "plt.ylabel(\"Reward function value\")\n",
    "plt.xlabel(\"max_scooter_per_area\")\n",
    "\n",
    "print(\"End: \" + datetime.now().strftime('%Y-%m-%d %H:%M:%S'))"
   ]
  },
  {
   "cell_type": "code",
   "execution_count": 168,
   "id": "29eceb93",
   "metadata": {},
   "outputs": [
    {
     "name": "stdout",
     "output_type": "stream",
     "text": [
      "End: 2025-07-10 14:28:17\n",
      "Plotting resulting graph...\n",
      "Plotting baseline 1...\n",
      "End: 2025-07-10 14:28:17\n"
     ]
    },
    {
     "data": {
      "image/png": "[encoded data removed]",
      "text/plain": [
       "<Figure size 432x288 with 1 Axes>"
      ]
     },
     "metadata": {
      "needs_background": "light"
     },
     "output_type": "display_data"
    }
   ],
   "source": [
    "# Plot the graphs of average rewards during testing phases of the policy\n",
    "# gradient method and the hand-crafted policies\n",
    "\n",
    "print(\"End: \" + datetime.now().strftime('%Y-%m-%d %H:%M:%S'))\n",
    "\n",
    "max_scooter_per_area_list = np.arange(2,17)\n",
    "max_unmet_demand_list_grid = np.array([avg_unmet_demand_max_2,\n",
    "                                avg_unmet_demand_max_3,\n",
    "                                avg_unmet_demand_max_4,\n",
    "                                avg_unmet_demand_max_5,\n",
    "                                avg_unmet_demand_max_6,\n",
    "                                avg_unmet_demand_max_7,\n",
    "                                avg_unmet_demand_max_8,\n",
    "                                avg_unmet_demand_max_9,\n",
    "                                avg_unmet_demand_max_10,\n",
    "                                avg_unmet_demand_max_11,\n",
    "                                avg_unmet_demand_max_12,\n",
    "                                avg_unmet_demand_max_13,\n",
    "                                avg_unmet_demand_max_14,\n",
    "                                avg_unmet_demand_max_15,\n",
    "                                avg_unmet_demand_max_16])\n",
    "max_unmet_demand_mean_grid = np.mean(max_unmet_demand_list_grid, axis=1)\n",
    "max_unmet_demand_std_grid = np.std(max_unmet_demand_list_grid, axis=1)\n",
    "\n",
    "print(\"Plotting resulting graph...\")\n",
    "# plt.figure(figsize = (12, 9))\n",
    "l1 = plt.errorbar(max_scooter_per_area_list, max_unmet_demand_mean_grid, yerr=max_unmet_demand_std_grid, fmt='o-', capsize=5) # ecolor='gray', \n",
    "\n",
    "print(\"Plotting baseline 1...\")\n",
    "# plt.legend(loc='best',prop={'size': 10})\n",
    "plt.ylabel(\"Count of unmet demands\")\n",
    "plt.xlabel(\"max_scooter_per_area\")\n",
    "\n",
    "print(\"End: \" + datetime.now().strftime('%Y-%m-%d %H:%M:%S'))"
   ]
  },
  {
   "cell_type": "code",
   "execution_count": 169,
   "id": "3efe0717",
   "metadata": {},
   "outputs": [
    {
     "data": {
      "text/plain": [
       "array([[84.6, 86.6, 88.6, 91.4, 88.2, 74.8, 83.6, 84.6, 84.6, 83.4],\n",
       "       [77. , 74.8, 78.2, 75.6, 76.4, 75. , 81.4, 78.6, 68.6, 71.4],\n",
       "       [71.4, 70.6, 71.6, 75.2, 75.2, 75. , 68.6, 73.8, 62.2, 74.4],\n",
       "       [74.6, 72.2, 77. , 67.6, 73.2, 67.6, 72.8, 72. , 64.4, 73.2],\n",
       "       [76.2, 80.4, 69.2, 73.4, 80. , 67.4, 60.8, 70.8, 75.6, 69.2],\n",
       "       [70.6, 63.4, 76. , 73.6, 67.2, 72. , 76.2, 70.2, 85.4, 74.4],\n",
       "       [68.4, 72.6, 76.8, 74.6, 67.8, 71. , 71.4, 72.8, 75.6, 71.6],\n",
       "       [72.8, 73. , 70.2, 71.6, 74.2, 72. , 74. , 76.4, 70.8, 70.6],\n",
       "       [73.8, 73.8, 73.4, 73.8, 74.6, 68.6, 70.8, 68. , 68. , 72.4],\n",
       "       [63.4, 72.6, 72.8, 73.4, 75.8, 62.2, 65.4, 72. , 75.2, 74.2],\n",
       "       [74.4, 71.2, 73. , 74. , 72. , 72.6, 71. , 71.8, 70.2, 75.8],\n",
       "       [71.8, 72.4, 80.6, 74.8, 71.6, 66.4, 71.2, 76. , 73.8, 71.2],\n",
       "       [62. , 86.8, 70.4, 65.8, 72. , 81.2, 73.4, 73.2, 76.6, 73.2],\n",
       "       [73.8, 71.8, 65.8, 75.4, 80.4, 72.8, 72.2, 69.2, 67.6, 73.8],\n",
       "       [69.2, 72.2, 71.6, 67.8, 68.4, 72.6, 88.4, 74. , 69.2, 70. ]])"
      ]
     },
     "execution_count": 169,
     "metadata": {},
     "output_type": "execute_result"
    }
   ],
   "source": [
    "max_unmet_demand_list_grid"
   ]
  },
  {
   "cell_type": "code",
   "execution_count": 170,
   "id": "4da57be1",
   "metadata": {},
   "outputs": [
    {
     "name": "stdout",
     "output_type": "stream",
     "text": [
      "End: 2025-07-10 14:28:19\n",
      "Plotting resulting graph...\n",
      "Plotting baseline 1...\n",
      "End: 2025-07-10 14:28:19\n"
     ]
    },
    {
     "data": {
      "image/png": "[encoded data removed]",
      "text/plain": [
       "<Figure size 432x288 with 1 Axes>"
      ]
     },
     "metadata": {
      "needs_background": "light"
     },
     "output_type": "display_data"
    }
   ],
   "source": [
    "# Plot the graphs of average rewards during testing phases of the policy\n",
    "# gradient method and the hand-crafted policies\n",
    "\n",
    "print(\"End: \" + datetime.now().strftime('%Y-%m-%d %H:%M:%S'))\n",
    "\n",
    "max_scooter_per_area_list = np.arange(2,17)\n",
    "max_unmet_demand_list_grid = [np.array(avg_unmet_demand_max_2)[sel_index_2],\n",
    "                        np.array(avg_unmet_demand_max_3)[sel_index_3],\n",
    "                        np.array(avg_unmet_demand_max_4)[sel_index_4],\n",
    "                        np.array(avg_unmet_demand_max_5)[sel_index_5],\n",
    "                        np.array(avg_unmet_demand_max_6)[sel_index_6],\n",
    "                        np.array(avg_unmet_demand_max_7)[sel_index_7],\n",
    "                        np.array(avg_unmet_demand_max_8)[sel_index_8],\n",
    "                        np.array(avg_unmet_demand_max_9)[sel_index_9],\n",
    "                        np.array(avg_unmet_demand_max_10)[sel_index_10],\n",
    "                        np.array(avg_unmet_demand_max_11)[sel_index_11],\n",
    "                        np.array(avg_unmet_demand_max_12)[sel_index_12],\n",
    "                        np.array(avg_unmet_demand_max_13)[sel_index_13],\n",
    "                        np.array(avg_unmet_demand_max_14)[sel_index_14],\n",
    "                        np.array(avg_unmet_demand_max_15)[sel_index_15],\n",
    "                        np.array(avg_unmet_demand_max_16)[sel_index_16]]\n",
    "max_unmet_demand_mean_grid = []\n",
    "max_unmet_demand_std_grid = []\n",
    "for ii in range(len(max_scooter_per_area_list)):\n",
    "    max_unmet_demand_mean_grid.append(np.mean(max_unmet_demand_list_grid[ii]))\n",
    "    max_unmet_demand_std_grid.append(np.std(max_unmet_demand_list_grid[ii]))\n",
    "\n",
    "print(\"Plotting resulting graph...\")\n",
    "# plt.figure(figsize = (12, 9))\n",
    "l1 = plt.errorbar(max_scooter_per_area_list, max_unmet_demand_mean_grid, yerr=max_unmet_demand_std_grid, fmt='o-', capsize=5) # ecolor='gray', \n",
    "\n",
    "print(\"Plotting baseline 1...\")\n",
    "# plt.legend(loc='best',prop={'size': 10})\n",
    "plt.ylabel(\"Count of unmet demands\")\n",
    "plt.xlabel(\"max_scooter_per_area\")\n",
    "\n",
    "print(\"End: \" + datetime.now().strftime('%Y-%m-%d %H:%M:%S'))"
   ]
  },
  {
   "cell_type": "code",
   "execution_count": 171,
   "id": "41ea18e5",
   "metadata": {},
   "outputs": [
    {
     "name": "stdout",
     "output_type": "stream",
     "text": [
      "End: 2025-07-10 14:28:24\n",
      "Plotting resulting graph...\n",
      "Plotting baseline 1...\n",
      "End: 2025-07-10 14:28:24\n"
     ]
    },
    {
     "data": {
      "image/png": "[encoded data removed]",
      "text/plain": [
       "<Figure size 432x288 with 1 Axes>"
      ]
     },
     "metadata": {
      "needs_background": "light"
     },
     "output_type": "display_data"
    }
   ],
   "source": [
    "# Plot the graphs of average rewards during testing phases of the policy\n",
    "# gradient method and the hand-crafted policies\n",
    "\n",
    "print(\"End: \" + datetime.now().strftime('%Y-%m-%d %H:%M:%S'))\n",
    "\n",
    "max_scooter_per_area_list = np.arange(2,17)\n",
    "max_met_demand_list_grid = np.array([avg_met_demand_max_2,\n",
    "                                avg_met_demand_max_3,\n",
    "                                avg_met_demand_max_4,\n",
    "                                avg_met_demand_max_5,\n",
    "                                avg_met_demand_max_6,\n",
    "                                avg_met_demand_max_7,\n",
    "                                avg_met_demand_max_8,\n",
    "                                avg_met_demand_max_9,\n",
    "                                avg_met_demand_max_10,\n",
    "                                avg_met_demand_max_11,\n",
    "                                avg_met_demand_max_12,\n",
    "                                avg_met_demand_max_13,\n",
    "                                avg_met_demand_max_14,\n",
    "                                avg_met_demand_max_15,\n",
    "                                avg_met_demand_max_16])\n",
    "max_met_demand_mean_grid = np.mean(max_met_demand_list_grid, axis=1)\n",
    "max_met_demand_std_grid = np.std(max_met_demand_list_grid, axis=1)\n",
    "\n",
    "print(\"Plotting resulting graph...\")\n",
    "# plt.figure(figsize = (12, 9))\n",
    "l1 = plt.errorbar(max_scooter_per_area_list, max_met_demand_mean_grid, yerr=max_met_demand_std_grid, fmt='o-', capsize=5) # ecolor='gray', \n",
    "\n",
    "print(\"Plotting baseline 1...\")\n",
    "# plt.legend(loc='best',prop={'size': 10})\n",
    "plt.ylabel(\"Count of met demands\")\n",
    "plt.xlabel(\"max_scooter_per_area\")\n",
    "\n",
    "print(\"End: \" + datetime.now().strftime('%Y-%m-%d %H:%M:%S'))"
   ]
  },
  {
   "cell_type": "code",
   "execution_count": 172,
   "id": "4e8f1897",
   "metadata": {
    "scrolled": true
   },
   "outputs": [
    {
     "data": {
      "text/plain": [
       "array([[106.4, 104.4, 102.4,  99.6, 102.8, 116.2, 107.4, 106.4, 106.4,\n",
       "        107.6],\n",
       "       [114. , 116.2, 112.8, 115.4, 114.6, 116. , 109.6, 112.4, 122.4,\n",
       "        119.6],\n",
       "       [119.6, 120.4, 119.4, 115.8, 115.8, 116. , 122.4, 117.2, 128.8,\n",
       "        116.6],\n",
       "       [116.4, 118.8, 114. , 123.4, 117.8, 123.4, 118.2, 119. , 126.6,\n",
       "        117.8],\n",
       "       [114.8, 110.6, 121.8, 117.6, 111. , 123.6, 130.2, 120.2, 115.4,\n",
       "        121.8],\n",
       "       [120.4, 127.6, 115. , 117.4, 123.8, 119. , 114.8, 120.8, 105.6,\n",
       "        116.6],\n",
       "       [122.6, 118.4, 114.2, 116.4, 123.2, 120. , 119.6, 118.2, 115.4,\n",
       "        119.4],\n",
       "       [118.2, 118. , 120.8, 119.4, 116.8, 119. , 117. , 114.6, 120.2,\n",
       "        120.4],\n",
       "       [117.2, 117.2, 117.6, 117.2, 116.4, 122.4, 120.2, 123. , 123. ,\n",
       "        118.6],\n",
       "       [127.6, 118.4, 118.2, 117.6, 115.2, 128.8, 125.6, 119. , 115.8,\n",
       "        116.8],\n",
       "       [116.6, 119.8, 118. , 117. , 119. , 118.4, 120. , 119.2, 120.8,\n",
       "        115.2],\n",
       "       [119.2, 118.6, 110.4, 116.2, 119.4, 124.6, 119.8, 115. , 117.2,\n",
       "        119.8],\n",
       "       [129. , 104.2, 120.6, 125.2, 119. , 109.8, 117.6, 117.8, 114.4,\n",
       "        117.8],\n",
       "       [117.2, 119.2, 125.2, 115.6, 110.6, 118.2, 118.8, 121.8, 123.4,\n",
       "        117.2],\n",
       "       [121.8, 118.8, 119.4, 123.2, 122.6, 118.4, 102.6, 117. , 121.8,\n",
       "        121. ]])"
      ]
     },
     "execution_count": 172,
     "metadata": {},
     "output_type": "execute_result"
    }
   ],
   "source": [
    "max_met_demand_list_grid"
   ]
  },
  {
   "cell_type": "code",
   "execution_count": 173,
   "id": "1947f7a4",
   "metadata": {},
   "outputs": [
    {
     "name": "stdout",
     "output_type": "stream",
     "text": [
      "End: 2025-07-10 14:28:27\n",
      "Plotting resulting graph...\n",
      "Plotting baseline 1...\n",
      "End: 2025-07-10 14:28:27\n"
     ]
    },
    {
     "data": {
      "image/png": "[encoded data removed]",
      "text/plain": [
       "<Figure size 432x288 with 1 Axes>"
      ]
     },
     "metadata": {
      "needs_background": "light"
     },
     "output_type": "display_data"
    }
   ],
   "source": [
    "# Plot the graphs of average rewards during testing phases of the policy\n",
    "# gradient method and the hand-crafted policies\n",
    "\n",
    "print(\"End: \" + datetime.now().strftime('%Y-%m-%d %H:%M:%S'))\n",
    "\n",
    "max_scooter_per_area_list = np.arange(2,17)\n",
    "max_met_demand_list_grid = [np.array(avg_met_demand_max_2)[sel_index_2],\n",
    "                        np.array(avg_met_demand_max_3)[sel_index_3],\n",
    "                        np.array(avg_met_demand_max_4)[sel_index_4],\n",
    "                        np.array(avg_met_demand_max_5)[sel_index_5],\n",
    "                        np.array(avg_met_demand_max_6)[sel_index_6],\n",
    "                        np.array(avg_met_demand_max_7)[sel_index_7],\n",
    "                        np.array(avg_met_demand_max_8)[sel_index_8],\n",
    "                        np.array(avg_met_demand_max_9)[sel_index_9],\n",
    "                        np.array(avg_met_demand_max_10)[sel_index_10],\n",
    "                        np.array(avg_met_demand_max_11)[sel_index_11],\n",
    "                        np.array(avg_met_demand_max_12)[sel_index_12],\n",
    "                        np.array(avg_met_demand_max_13)[sel_index_13],\n",
    "                        np.array(avg_met_demand_max_14)[sel_index_14],\n",
    "                        np.array(avg_met_demand_max_15)[sel_index_15],\n",
    "                        np.array(avg_met_demand_max_16)[sel_index_16]]\n",
    "max_met_demand_mean_grid = []\n",
    "max_met_demand_std_grid = []\n",
    "for ii in range(len(max_scooter_per_area_list)):\n",
    "    max_met_demand_mean_grid.append(np.mean(max_met_demand_list_grid[ii]))\n",
    "    max_met_demand_std_grid.append(np.std(max_met_demand_list_grid[ii]))\n",
    "\n",
    "print(\"Plotting resulting graph...\")\n",
    "# plt.figure(figsize = (12, 9))\n",
    "l1 = plt.errorbar(max_scooter_per_area_list, max_met_demand_mean_grid, yerr=max_met_demand_std_grid, fmt='o-', capsize=5) # ecolor='gray', \n",
    "\n",
    "print(\"Plotting baseline 1...\")\n",
    "# plt.legend(loc='best',prop={'size': 10})\n",
    "plt.ylabel(\"Count of met demands\")\n",
    "plt.xlabel(\"max_scooter_per_area\")\n",
    "\n",
    "print(\"End: \" + datetime.now().strftime('%Y-%m-%d %H:%M:%S'))"
   ]
  },
  {
   "cell_type": "code",
   "execution_count": 174,
   "id": "2f1350b0",
   "metadata": {
    "scrolled": false
   },
   "outputs": [
    {
     "name": "stdout",
     "output_type": "stream",
     "text": [
      "End: 2025-07-10 14:28:39\n",
      "Plotting resulting graph...\n",
      "Plotting baseline 1...\n",
      "End: 2025-07-10 14:28:39\n"
     ]
    },
    {
     "data": {
      "image/png": "[encoded data removed]",
      "text/plain": [
       "<Figure size 432x288 with 1 Axes>"
      ]
     },
     "metadata": {
      "needs_background": "light"
     },
     "output_type": "display_data"
    }
   ],
   "source": [
    "# Plot the graphs of average rewards during testing phases of the policy\n",
    "# gradient method and the hand-crafted policies\n",
    "\n",
    "print(\"End: \" + datetime.now().strftime('%Y-%m-%d %H:%M:%S'))\n",
    "\n",
    "max_scooter_per_area_list = np.arange(2,17)\n",
    "max_scooter_num_list_grid = np.array([avg_scooter_num_max_2,\n",
    "                                avg_scooter_num_max_3,\n",
    "                                avg_scooter_num_max_4,\n",
    "                                avg_scooter_num_max_5,\n",
    "                                avg_scooter_num_max_6,\n",
    "                                avg_scooter_num_max_7,\n",
    "                                avg_scooter_num_max_8,\n",
    "                                avg_scooter_num_max_9,\n",
    "                                avg_scooter_num_max_10,\n",
    "                                avg_scooter_num_max_11,\n",
    "                                avg_scooter_num_max_12,\n",
    "                                avg_scooter_num_max_13,\n",
    "                                avg_scooter_num_max_14,\n",
    "                                avg_scooter_num_max_15,\n",
    "                                avg_scooter_num_max_16])\n",
    "max_scooter_num_mean_grid = np.mean(max_scooter_num_list_grid, axis=1)\n",
    "max_scooter_num_std_grid = np.std(max_scooter_num_list_grid, axis=1)\n",
    "\n",
    "print(\"Plotting resulting graph...\")\n",
    "# plt.figure(figsize = (12, 9))\n",
    "l1 = plt.errorbar(max_scooter_per_area_list, max_scooter_num_mean_grid, yerr=max_scooter_num_std_grid, fmt='o-', capsize=5) # ecolor='gray', \n",
    "\n",
    "print(\"Plotting baseline 1...\")\n",
    "# plt.legend(loc='best',prop={'size': 10})\n",
    "plt.ylabel(\"Count of scooter numbers\")\n",
    "plt.xlabel(\"max_scooter_per_area\")\n",
    "\n",
    "print(\"End: \" + datetime.now().strftime('%Y-%m-%d %H:%M:%S'))"
   ]
  },
  {
   "cell_type": "code",
   "execution_count": 175,
   "id": "7134e208",
   "metadata": {},
   "outputs": [
    {
     "data": {
      "text/plain": [
       "array([[ 88.2,  93. ,  94. ,  91. , 101.2,  94.8,  90. ,  86. ,  90.2,\n",
       "         88.6],\n",
       "       [ 95.8,  93.6,  93.6,  94.8,  90.4,  97.4,  92.4,  92.8, 100. ,\n",
       "        100.4],\n",
       "       [ 98.6,  99.8,  98. ,  96.2, 100.4,  98.2, 105.4,  97.6, 103.4,\n",
       "         97. ],\n",
       "       [ 96.4,  95.6, 101.2, 104.6,  96. , 105. ,  99.4,  98.2, 104.2,\n",
       "         96.6],\n",
       "       [ 97.2, 102. ,  99.2,  95. , 105. ,  99.6, 105. ,  98.4,  93.8,\n",
       "         98.4],\n",
       "       [100.8, 106.6,  97. ,  98.4, 101.4,  97. ,  96.4, 100. ,  99.6,\n",
       "         97. ],\n",
       "       [ 97. , 100.4,  96.2,  97.8, 103.6,  99.4, 103. ,  97.6,  96.8,\n",
       "         97.6],\n",
       "       [ 98.2,  97.2, 100.6, 100. , 101.6,  97.2,  96.8,  96.8,  98.6,\n",
       "         97.6],\n",
       "       [ 97.6,  96.2,  99. ,  93. ,  98. , 103. ,  95. ,  97.6, 103.4,\n",
       "         96.6],\n",
       "       [106. ,  95.6,  98.2,  99. ,  97.4, 102.8, 103.6,  96.4,  94.6,\n",
       "         93.8],\n",
       "       [ 95.6,  97.6, 106.4,  93. ,  96.6,  96.8, 100.4,  96.4,  97.8,\n",
       "         98.8],\n",
       "       [ 97.6,  96.2,  99.6,  95.2,  99. , 103. , 107.8,  97.4, 104.8,\n",
       "         95.6],\n",
       "       [108. ,  96.4, 101.6, 105.4,  98.2,  97.4,  95.4,  96.2,  97.2,\n",
       "         98.2],\n",
       "       [100. , 100.6, 106.2,  93.8, 103.6,  99.2,  97.8,  98.8, 104.4,\n",
       "         99. ],\n",
       "       [102. ,  96.4,  99. , 103. ,  99. ,  96.6, 110.2,  97.8,  98.2,\n",
       "         96.4]])"
      ]
     },
     "execution_count": 175,
     "metadata": {},
     "output_type": "execute_result"
    }
   ],
   "source": [
    "max_scooter_num_list_grid"
   ]
  },
  {
   "cell_type": "code",
   "execution_count": 176,
   "id": "f6957f55",
   "metadata": {},
   "outputs": [
    {
     "name": "stdout",
     "output_type": "stream",
     "text": [
      "End: 2025-07-10 14:28:50\n",
      "Plotting resulting graph...\n",
      "Plotting baseline 1...\n",
      "End: 2025-07-10 14:28:50\n"
     ]
    },
    {
     "data": {
      "image/png": "[encoded data removed]",
      "text/plain": [
       "<Figure size 432x288 with 1 Axes>"
      ]
     },
     "metadata": {
      "needs_background": "light"
     },
     "output_type": "display_data"
    }
   ],
   "source": [
    "# Plot the graphs of average rewards during testing phases of the policy\n",
    "# gradient method and the hand-crafted policies\n",
    "\n",
    "print(\"End: \" + datetime.now().strftime('%Y-%m-%d %H:%M:%S'))\n",
    "\n",
    "max_scooter_per_area_list = np.arange(2,17)\n",
    "max_scooter_num_list_grid = [np.array(avg_scooter_num_max_2)[sel_index_2],\n",
    "                        np.array(avg_scooter_num_max_3)[sel_index_3],\n",
    "                        np.array(avg_scooter_num_max_4)[sel_index_4],\n",
    "                        np.array(avg_scooter_num_max_5)[sel_index_5],\n",
    "                        np.array(avg_scooter_num_max_6)[sel_index_6],\n",
    "                        np.array(avg_scooter_num_max_7)[sel_index_7],\n",
    "                        np.array(avg_scooter_num_max_8)[sel_index_8],\n",
    "                        np.array(avg_scooter_num_max_9)[sel_index_9],\n",
    "                        np.array(avg_scooter_num_max_10)[sel_index_10],\n",
    "                        np.array(avg_scooter_num_max_11)[sel_index_11],\n",
    "                        np.array(avg_scooter_num_max_12)[sel_index_12],\n",
    "                        np.array(avg_scooter_num_max_13)[sel_index_13],\n",
    "                        np.array(avg_scooter_num_max_14)[sel_index_14],\n",
    "                        np.array(avg_scooter_num_max_15)[sel_index_15],\n",
    "                        np.array(avg_scooter_num_max_16)[sel_index_16]]\n",
    "max_scooter_num_mean_grid = []\n",
    "max_scooter_num_std_grid = []\n",
    "for ii in range(len(max_scooter_per_area_list)):\n",
    "    max_scooter_num_mean_grid.append(np.mean(max_scooter_num_list_grid[ii]))\n",
    "    max_scooter_num_std_grid.append(np.std(max_scooter_num_list_grid[ii]))\n",
    "\n",
    "print(\"Plotting resulting graph...\")\n",
    "# plt.figure(figsize = (12, 9))\n",
    "l1 = plt.errorbar(max_scooter_per_area_list, max_scooter_num_mean_grid, yerr=max_scooter_num_std_grid, fmt='o-', capsize=5) # ecolor='gray', \n",
    "\n",
    "print(\"Plotting baseline 1...\")\n",
    "# plt.legend(loc='best',prop={'size': 10})\n",
    "plt.ylabel(\"Count of scooter numbers\")\n",
    "plt.xlabel(\"max_scooter_per_area\")\n",
    "\n",
    "print(\"End: \" + datetime.now().strftime('%Y-%m-%d %H:%M:%S'))"
   ]
  },
  {
   "cell_type": "code",
   "execution_count": 177,
   "id": "e1c54dee",
   "metadata": {},
   "outputs": [
    {
     "name": "stdout",
     "output_type": "stream",
     "text": [
      "End: 2025-07-10 14:29:18\n",
      "Plotting resulting graph...\n",
      "Plotting baseline 1...\n",
      "End: 2025-07-10 14:29:18\n"
     ]
    },
    {
     "data": {
      "image/png": "[encoded data removed]",
      "text/plain": [
       "<Figure size 432x288 with 1 Axes>"
      ]
     },
     "metadata": {
      "needs_background": "light"
     },
     "output_type": "display_data"
    }
   ],
   "source": [
    "# Plot the graphs of average rewards during testing phases of the policy\n",
    "# gradient method and the hand-crafted policies\n",
    "\n",
    "print(\"End: \" + datetime.now().strftime('%Y-%m-%d %H:%M:%S'))\n",
    "\n",
    "max_scooter_per_area_list = np.arange(2,17)\n",
    "max_scooter_loc_list_grid = np.array([avg_scooter_loc_max_2,\n",
    "                                avg_scooter_loc_max_3,\n",
    "                                avg_scooter_loc_max_4,\n",
    "                                avg_scooter_loc_max_5,\n",
    "                                avg_scooter_loc_max_6,\n",
    "                                avg_scooter_loc_max_7,\n",
    "                                avg_scooter_loc_max_8,\n",
    "                                avg_scooter_loc_max_9,\n",
    "                                avg_scooter_loc_max_10,\n",
    "                                avg_scooter_loc_max_11,\n",
    "                                avg_scooter_loc_max_12,\n",
    "                                avg_scooter_loc_max_13,\n",
    "                                avg_scooter_loc_max_14,\n",
    "                                avg_scooter_loc_max_15,\n",
    "                                avg_scooter_loc_max_16])\n",
    "max_scooter_loc_mean_grid = np.mean(max_scooter_loc_list_grid, axis=1)\n",
    "max_scooter_loc_std_grid = np.std(max_scooter_loc_list_grid, axis=1)\n",
    "\n",
    "print(\"Plotting resulting graph...\")\n",
    "# plt.figure(figsize = (12, 9))\n",
    "l1 = plt.errorbar(max_scooter_per_area_list, max_scooter_loc_mean_grid, yerr=max_scooter_loc_std_grid, fmt='o-', capsize=5) # ecolor='gray', \n",
    "\n",
    "print(\"Plotting baseline 1...\")\n",
    "# plt.legend(loc='best',prop={'size': 10})\n",
    "plt.ylabel(\"Count of scooter locations\")\n",
    "plt.xlabel(\"max_scooter_per_area\")\n",
    "\n",
    "print(\"End: \" + datetime.now().strftime('%Y-%m-%d %H:%M:%S'))"
   ]
  },
  {
   "cell_type": "code",
   "execution_count": 178,
   "id": "909b5738",
   "metadata": {
    "scrolled": true
   },
   "outputs": [
    {
     "data": {
      "text/plain": [
       "array([[74.4, 80.4, 81.4, 77.8, 87.8, 80.8, 76.4, 72.2, 76.2, 74.8],\n",
       "       [75.2, 75.8, 74.2, 75.8, 73. , 77.4, 73.8, 74. , 82. , 82.6],\n",
       "       [77. , 77.4, 77. , 74.8, 78.4, 76. , 84.4, 76.4, 81.8, 76.2],\n",
       "       [75.4, 73.6, 79.6, 82. , 73.4, 83.6, 76.8, 75.4, 81.8, 74.6],\n",
       "       [75.6, 81.8, 76.8, 74. , 83.2, 76. , 80.2, 75. , 73.2, 75.2],\n",
       "       [82.4, 83.2, 75. , 75.2, 80. , 75.8, 74.4, 80.6, 78.2, 75.2],\n",
       "       [74.8, 77.6, 74.8, 73.2, 83.6, 77.4, 78.6, 76.2, 75.2, 76. ],\n",
       "       [75.6, 74.8, 76.8, 77.6, 78.2, 74.8, 76. , 76.6, 75.4, 72.8],\n",
       "       [76.2, 75.4, 75.8, 73.8, 76. , 82.6, 74. , 74. , 82.4, 73.2],\n",
       "       [82.8, 73.4, 76.2, 77.2, 76.6, 81.8, 81.4, 73.4, 73.8, 71.6],\n",
       "       [74.2, 74.2, 82.8, 70.8, 74.6, 74.2, 76.8, 74.2, 75. , 76.8],\n",
       "       [74.6, 74.4, 79.2, 74.6, 76.2, 81.2, 85. , 76.2, 82.4, 73.6],\n",
       "       [84.8, 74.4, 79. , 84.4, 75.6, 78.4, 75. , 73.6, 75.4, 75.6],\n",
       "       [76.6, 78.8, 83. , 73.4, 83.4, 76.2, 74.2, 75.6, 82.6, 77. ],\n",
       "       [82. , 74.6, 76.4, 81. , 76.2, 75.4, 89.4, 76. , 75.2, 74.4]])"
      ]
     },
     "execution_count": 178,
     "metadata": {},
     "output_type": "execute_result"
    }
   ],
   "source": [
    "max_scooter_loc_list_grid"
   ]
  },
  {
   "cell_type": "code",
   "execution_count": 179,
   "id": "f4b1d750",
   "metadata": {},
   "outputs": [
    {
     "name": "stdout",
     "output_type": "stream",
     "text": [
      "End: 2025-07-10 14:29:20\n",
      "Plotting resulting graph...\n",
      "Plotting baseline 1...\n",
      "End: 2025-07-10 14:29:20\n"
     ]
    },
    {
     "data": {
      "image/png": "[encoded data removed]",
      "text/plain": [
       "<Figure size 432x288 with 1 Axes>"
      ]
     },
     "metadata": {
      "needs_background": "light"
     },
     "output_type": "display_data"
    }
   ],
   "source": [
    "# Plot the graphs of average rewards during testing phases of the policy\n",
    "# gradient method and the hand-crafted policies\n",
    "\n",
    "print(\"End: \" + datetime.now().strftime('%Y-%m-%d %H:%M:%S'))\n",
    "\n",
    "max_scooter_per_area_list = np.arange(2,17)\n",
    "max_scooter_loc_list_grid = [np.array(avg_scooter_loc_max_2)[sel_index_2],\n",
    "                        np.array(avg_scooter_loc_max_3)[sel_index_3],\n",
    "                        np.array(avg_scooter_loc_max_4)[sel_index_4],\n",
    "                        np.array(avg_scooter_loc_max_5)[sel_index_5],\n",
    "                        np.array(avg_scooter_loc_max_6)[sel_index_6],\n",
    "                        np.array(avg_scooter_loc_max_7)[sel_index_7],\n",
    "                        np.array(avg_scooter_loc_max_8)[sel_index_8],\n",
    "                        np.array(avg_scooter_loc_max_9)[sel_index_9],\n",
    "                        np.array(avg_scooter_loc_max_10)[sel_index_10],\n",
    "                        np.array(avg_scooter_loc_max_11)[sel_index_11],\n",
    "                        np.array(avg_scooter_loc_max_12)[sel_index_12],\n",
    "                        np.array(avg_scooter_loc_max_13)[sel_index_13],\n",
    "                        np.array(avg_scooter_loc_max_14)[sel_index_14],\n",
    "                        np.array(avg_scooter_loc_max_15)[sel_index_15],\n",
    "                        np.array(avg_scooter_loc_max_16)[sel_index_16]]\n",
    "max_scooter_loc_mean_grid = []\n",
    "max_scooter_loc_std_grid = []\n",
    "for ii in range(len(max_scooter_per_area_list)):\n",
    "    max_scooter_loc_mean_grid.append(np.mean(max_scooter_loc_list_grid[ii]))\n",
    "    max_scooter_loc_std_grid.append(np.std(max_scooter_loc_list_grid[ii]))\n",
    "\n",
    "print(\"Plotting resulting graph...\")\n",
    "# plt.figure(figsize = (12, 9))\n",
    "l1 = plt.errorbar(max_scooter_per_area_list, max_scooter_loc_mean_grid, yerr=max_scooter_loc_std_grid, fmt='o-', capsize=5) # ecolor='gray', \n",
    "\n",
    "print(\"Plotting baseline 1...\")\n",
    "# plt.legend(loc='best',prop={'size': 10})\n",
    "plt.ylabel(\"Count of scooter locations\")\n",
    "plt.xlabel(\"max_scooter_per_area\")\n",
    "\n",
    "print(\"End: \" + datetime.now().strftime('%Y-%m-%d %H:%M:%S'))"
   ]
  },
  {
   "cell_type": "code",
   "execution_count": 180,
   "id": "395b0814",
   "metadata": {},
   "outputs": [
    {
     "name": "stdout",
     "output_type": "stream",
     "text": [
      "End: 2025-07-10 14:29:28\n",
      "Plotting resulting graph...\n",
      "Plotting baseline 1...\n",
      "End: 2025-07-10 14:29:28\n"
     ]
    },
    {
     "data": {
      "image/png": "[encoded data removed]",
      "text/plain": [
       "<Figure size 432x288 with 1 Axes>"
      ]
     },
     "metadata": {
      "needs_background": "light"
     },
     "output_type": "display_data"
    }
   ],
   "source": [
    "# Plot the graphs of average rewards during testing phases of the policy\n",
    "# gradient method and the hand-crafted policies\n",
    "\n",
    "print(\"End: \" + datetime.now().strftime('%Y-%m-%d %H:%M:%S'))\n",
    "\n",
    "max_scooter_per_area_list = np.arange(2,17)\n",
    "max_wANNR_list_grid = np.array([avg_wANNR_max_2,\n",
    "                                avg_wANNR_max_3,\n",
    "                                avg_wANNR_max_4,\n",
    "                                avg_wANNR_max_5,\n",
    "                                avg_wANNR_max_6,\n",
    "                                avg_wANNR_max_7,\n",
    "                                avg_wANNR_max_8,\n",
    "                                avg_wANNR_max_9,\n",
    "                                avg_wANNR_max_10,\n",
    "                                avg_wANNR_max_11,\n",
    "                                avg_wANNR_max_12,\n",
    "                                avg_wANNR_max_13,\n",
    "                                avg_wANNR_max_14,\n",
    "                                avg_wANNR_max_15,\n",
    "                                avg_wANNR_max_16])\n",
    "max_wANNR_mean_grid = np.mean(max_wANNR_list_grid, axis=1)\n",
    "max_wANNR_std_grid = np.std(max_wANNR_list_grid, axis=1)\n",
    "\n",
    "print(\"Plotting resulting graph...\")\n",
    "# plt.figure(figsize = (12, 9))\n",
    "l1 = plt.errorbar(max_scooter_per_area_list, max_wANNR_mean_grid, yerr=max_wANNR_std_grid, fmt='o-', capsize=5) # ecolor='gray', \n",
    "\n",
    "print(\"Plotting baseline 1...\")\n",
    "# plt.legend(loc='best',prop={'size': 10})\n",
    "plt.ylabel(\"wANNR\")\n",
    "plt.xlabel(\"max_scooter_per_area\")\n",
    "\n",
    "print(\"End: \" + datetime.now().strftime('%Y-%m-%d %H:%M:%S'))"
   ]
  },
  {
   "cell_type": "code",
   "execution_count": 181,
   "id": "3aafeb84",
   "metadata": {},
   "outputs": [
    {
     "data": {
      "text/plain": [
       "array([[0.33386998, 0.34416315, 0.34576026, 0.33909473, 0.35844803,\n",
       "        0.3471827 , 0.33683504, 0.3297563 , 0.33886356, 0.33508921],\n",
       "       [0.34784577, 0.34426056, 0.34481311, 0.34662314, 0.33866036,\n",
       "        0.35104892, 0.34081438, 0.34328461, 0.35663185, 0.35726801],\n",
       "       [0.35496225, 0.3558639 , 0.35297232, 0.34941847, 0.35757991,\n",
       "        0.35283169, 0.36586491, 0.35175247, 0.36253398, 0.35027084],\n",
       "       [0.34982724, 0.34826278, 0.35892037, 0.36487186, 0.34841644,\n",
       "        0.36525788, 0.35498935, 0.35408644, 0.36418459, 0.35046051],\n",
       "       [0.35099984, 0.36073934, 0.35484208, 0.34685826, 0.3650038 ,\n",
       "        0.35581553, 0.36615421, 0.35368263, 0.34592652, 0.35418787],\n",
       "       [0.35816858, 0.36828036, 0.35132045, 0.35301711, 0.35958492,\n",
       "        0.35142669, 0.34982273, 0.35714903, 0.35559065, 0.35030777],\n",
       "       [0.35137855, 0.35861315, 0.34910878, 0.35235458, 0.36324077,\n",
       "        0.35540371, 0.36153729, 0.35181288, 0.35029346, 0.35323283],\n",
       "       [0.35253288, 0.35149874, 0.35770116, 0.35596832, 0.35758042,\n",
       "        0.35050654, 0.35086578, 0.35068217, 0.35412614, 0.35140334],\n",
       "       [0.35194588, 0.34955338, 0.35403649, 0.34385184, 0.35233924,\n",
       "        0.36358551, 0.34832454, 0.35205418, 0.36248797, 0.3498052 ],\n",
       "       [0.36671419, 0.34858706, 0.35309881, 0.35335418, 0.3514726 ,\n",
       "        0.36186445, 0.3631821 , 0.35016087, 0.34687524, 0.3444431 ],\n",
       "       [0.34829407, 0.35250473, 0.38053061, 0.34329758, 0.35000895,\n",
       "        0.35097994, 0.35772231, 0.3504197 , 0.35168802, 0.35436034],\n",
       "       [0.35099658, 0.3513239 , 0.35600093, 0.34821266, 0.35457875,\n",
       "        0.36210973, 0.3703666 , 0.35266608, 0.36491055, 0.34866133],\n",
       "       [0.37028959, 0.34977274, 0.35883173, 0.36623477, 0.35237202,\n",
       "        0.35260168, 0.34848336, 0.34986795, 0.35013201, 0.35640043],\n",
       "       [0.35597568, 0.35789213, 0.36718332, 0.34514806, 0.36253285,\n",
       "        0.35477972, 0.35252548, 0.35440492, 0.36464146, 0.35438815],\n",
       "       [0.36123144, 0.34935108, 0.35508433, 0.36191025, 0.35468909,\n",
       "        0.35017243, 0.37443885, 0.35241471, 0.3528371 , 0.35020477]])"
      ]
     },
     "execution_count": 181,
     "metadata": {},
     "output_type": "execute_result"
    }
   ],
   "source": [
    "max_wANNR_list_grid"
   ]
  },
  {
   "cell_type": "code",
   "execution_count": 182,
   "id": "66db0af5",
   "metadata": {},
   "outputs": [
    {
     "name": "stdout",
     "output_type": "stream",
     "text": [
      "End: 2025-07-10 14:29:31\n",
      "Plotting resulting graph...\n",
      "Plotting baseline 1...\n",
      "End: 2025-07-10 14:29:31\n"
     ]
    },
    {
     "data": {
      "image/png": "[encoded data removed]",
      "text/plain": [
       "<Figure size 432x288 with 1 Axes>"
      ]
     },
     "metadata": {
      "needs_background": "light"
     },
     "output_type": "display_data"
    }
   ],
   "source": [
    "# Plot the graphs of average rewards during testing phases of the policy\n",
    "# gradient method and the hand-crafted policies\n",
    "\n",
    "print(\"End: \" + datetime.now().strftime('%Y-%m-%d %H:%M:%S'))\n",
    "\n",
    "max_scooter_per_area_list = np.arange(2,17)\n",
    "max_wANNR_list_grid = [np.array(avg_wANNR_max_2)[sel_index_2],\n",
    "                        np.array(avg_wANNR_max_3)[sel_index_3],\n",
    "                        np.array(avg_wANNR_max_4)[sel_index_4],\n",
    "                        np.array(avg_wANNR_max_5)[sel_index_5],\n",
    "                        np.array(avg_wANNR_max_6)[sel_index_6],\n",
    "                        np.array(avg_wANNR_max_7)[sel_index_7],\n",
    "                        np.array(avg_wANNR_max_8)[sel_index_8],\n",
    "                        np.array(avg_wANNR_max_9)[sel_index_9],\n",
    "                        np.array(avg_wANNR_max_10)[sel_index_10],\n",
    "                        np.array(avg_wANNR_max_11)[sel_index_11],\n",
    "                        np.array(avg_wANNR_max_12)[sel_index_12],\n",
    "                        np.array(avg_wANNR_max_13)[sel_index_13],\n",
    "                        np.array(avg_wANNR_max_14)[sel_index_14],\n",
    "                        np.array(avg_wANNR_max_15)[sel_index_15],\n",
    "                        np.array(avg_wANNR_max_16)[sel_index_16]]\n",
    "max_wANNR_mean_grid = []\n",
    "max_wANNR_std_grid = []\n",
    "for ii in range(len(max_scooter_per_area_list)):\n",
    "    max_wANNR_mean_grid.append(np.mean(max_wANNR_list_grid[ii]))\n",
    "    max_wANNR_std_grid.append(np.std(max_wANNR_list_grid[ii]))\n",
    "\n",
    "print(\"Plotting resulting graph...\")\n",
    "# plt.figure(figsize = (12, 9))\n",
    "l1 = plt.errorbar(max_scooter_per_area_list, max_wANNR_mean_grid, yerr=max_wANNR_std_grid, fmt='o-', capsize=5) # ecolor='gray', \n",
    "\n",
    "print(\"Plotting baseline 1...\")\n",
    "# plt.legend(loc='best',prop={'size': 10})\n",
    "plt.ylabel(\"wANNR\")\n",
    "plt.xlabel(\"max_scooter_per_area\")\n",
    "\n",
    "print(\"End: \" + datetime.now().strftime('%Y-%m-%d %H:%M:%S'))"
   ]
  },
  {
   "cell_type": "code",
   "execution_count": 183,
   "id": "1995c33d",
   "metadata": {},
   "outputs": [
    {
     "name": "stdout",
     "output_type": "stream",
     "text": [
      "End: 2025-07-10 14:29:35\n",
      "Plotting resulting graph...\n",
      "Plotting baseline 1...\n",
      "End: 2025-07-10 14:29:35\n"
     ]
    },
    {
     "data": {
      "image/png": "[encoded data removed]",
      "text/plain": [
       "<Figure size 432x288 with 1 Axes>"
      ]
     },
     "metadata": {
      "needs_background": "light"
     },
     "output_type": "display_data"
    }
   ],
   "source": [
    "# Plot the graphs of average rewards during testing phases of the policy\n",
    "# gradient method and the hand-crafted policies\n",
    "\n",
    "print(\"End: \" + datetime.now().strftime('%Y-%m-%d %H:%M:%S'))\n",
    "\n",
    "max_scooter_per_area_list = np.arange(2,17)\n",
    "max_moran_list_grid = np.array([avg_moran_max_2,\n",
    "                                avg_moran_max_3,\n",
    "                                avg_moran_max_4,\n",
    "                                avg_moran_max_5,\n",
    "                                avg_moran_max_6,\n",
    "                                avg_moran_max_7,\n",
    "                                avg_moran_max_8,\n",
    "                                avg_moran_max_9,\n",
    "                                avg_moran_max_10,\n",
    "                                avg_moran_max_11,\n",
    "                                avg_moran_max_12,\n",
    "                                avg_moran_max_13,\n",
    "                                avg_moran_max_14,\n",
    "                                avg_moran_max_15,\n",
    "                                avg_moran_max_16])\n",
    "max_moran_mean_grid = np.mean(max_moran_list_grid, axis=1)\n",
    "max_moran_std_grid = np.std(max_moran_list_grid, axis=1)\n",
    "\n",
    "print(\"Plotting resulting graph...\")\n",
    "# plt.figure(figsize = (12, 9))\n",
    "l1 = plt.errorbar(max_scooter_per_area_list, max_moran_mean_grid, yerr=max_moran_std_grid, fmt='o-', capsize=5) # ecolor='gray', \n",
    "\n",
    "print(\"Plotting baseline 1...\")\n",
    "# plt.legend(loc='best',prop={'size': 10})\n",
    "plt.ylabel(\"Moran's I\")\n",
    "plt.xlabel(\"max_scooter_per_area\")\n",
    "\n",
    "print(\"End: \" + datetime.now().strftime('%Y-%m-%d %H:%M:%S'))"
   ]
  },
  {
   "cell_type": "code",
   "execution_count": 184,
   "id": "c15474f8",
   "metadata": {},
   "outputs": [
    {
     "data": {
      "text/plain": [
       "array([[0.03428142, 0.03307891, 0.03278494, 0.03502377, 0.03841737,\n",
       "        0.03541488, 0.03628332, 0.03566185, 0.03552268, 0.03727016],\n",
       "       [0.03352966, 0.03430019, 0.03296767, 0.03551119, 0.03544872,\n",
       "        0.033509  , 0.03446714, 0.0329429 , 0.0333423 , 0.0328983 ],\n",
       "       [0.03423974, 0.0325904 , 0.03159435, 0.03311454, 0.0333429 ,\n",
       "        0.03210214, 0.03161885, 0.03355094, 0.03105473, 0.03298868],\n",
       "       [0.03121018, 0.03297396, 0.0317633 , 0.03318731, 0.03123085,\n",
       "        0.0316415 , 0.03310372, 0.03314449, 0.03297778, 0.03221318],\n",
       "       [0.03199011, 0.03178111, 0.0325938 , 0.03073245, 0.03204216,\n",
       "        0.03343695, 0.03270516, 0.03074435, 0.03265912, 0.03267054],\n",
       "       [0.0339329 , 0.03141741, 0.03375099, 0.03300703, 0.03231496,\n",
       "        0.03246189, 0.03249324, 0.03300104, 0.03151896, 0.03158156],\n",
       "       [0.03212539, 0.03589997, 0.03349789, 0.03254911, 0.03245296,\n",
       "        0.03330835, 0.03453105, 0.03153289, 0.0317843 , 0.03158755],\n",
       "       [0.03074449, 0.03417381, 0.03364701, 0.03295829, 0.03302577,\n",
       "        0.0313994 , 0.03463093, 0.03402834, 0.03239668, 0.03212305],\n",
       "       [0.03042579, 0.03322099, 0.03317934, 0.03184203, 0.03108099,\n",
       "        0.03106779, 0.0312569 , 0.03200686, 0.03298665, 0.0308636 ],\n",
       "       [0.032208  , 0.03173192, 0.03226182, 0.03411783, 0.03483888,\n",
       "        0.03118949, 0.03229256, 0.03161915, 0.03194475, 0.03033685],\n",
       "       [0.03263911, 0.02947494, 0.0355715 , 0.03236198, 0.03177987,\n",
       "        0.03180682, 0.03280397, 0.03300591, 0.03174014, 0.03253627],\n",
       "       [0.03144442, 0.03358591, 0.03242657, 0.0316612 , 0.03237143,\n",
       "        0.03147108, 0.03307476, 0.03219798, 0.03369288, 0.03143192],\n",
       "       [0.03158375, 0.03399484, 0.0324406 , 0.03400034, 0.035081  ,\n",
       "        0.03302726, 0.03267387, 0.03077419, 0.03175618, 0.03277338],\n",
       "       [0.03195926, 0.03349167, 0.03348394, 0.03268693, 0.03290397,\n",
       "        0.03360248, 0.03139784, 0.0335326 , 0.0330838 , 0.03429087],\n",
       "       [0.03201598, 0.03156781, 0.03218161, 0.03015793, 0.03145938,\n",
       "        0.03096069, 0.03384064, 0.03316435, 0.03389764, 0.0327859 ]])"
      ]
     },
     "execution_count": 184,
     "metadata": {},
     "output_type": "execute_result"
    }
   ],
   "source": [
    "max_moran_list_grid"
   ]
  },
  {
   "cell_type": "code",
   "execution_count": 185,
   "id": "bbec88e4",
   "metadata": {},
   "outputs": [
    {
     "name": "stdout",
     "output_type": "stream",
     "text": [
      "End: 2025-07-10 14:29:43\n",
      "Plotting resulting graph...\n",
      "Plotting baseline 1...\n",
      "End: 2025-07-10 14:29:43\n"
     ]
    },
    {
     "data": {
      "image/png": "[encoded data removed]",
      "text/plain": [
       "<Figure size 432x288 with 1 Axes>"
      ]
     },
     "metadata": {
      "needs_background": "light"
     },
     "output_type": "display_data"
    }
   ],
   "source": [
    "# Plot the graphs of average rewards during testing phases of the policy\n",
    "# gradient method and the hand-crafted policies\n",
    "\n",
    "print(\"End: \" + datetime.now().strftime('%Y-%m-%d %H:%M:%S'))\n",
    "\n",
    "max_scooter_per_area_list = np.arange(2,17)\n",
    "max_moran_list_grid = [np.array(avg_moran_max_2)[sel_index_2],\n",
    "                        np.array(avg_moran_max_3)[sel_index_3],\n",
    "                        np.array(avg_moran_max_4)[sel_index_4],\n",
    "                        np.array(avg_moran_max_5)[sel_index_5],\n",
    "                        np.array(avg_moran_max_6)[sel_index_6],\n",
    "                        np.array(avg_moran_max_7)[sel_index_7],\n",
    "                        np.array(avg_moran_max_8)[sel_index_8],\n",
    "                        np.array(avg_moran_max_9)[sel_index_9],\n",
    "                        np.array(avg_moran_max_10)[sel_index_10],\n",
    "                        np.array(avg_moran_max_11)[sel_index_11],\n",
    "                        np.array(avg_moran_max_12)[sel_index_12],\n",
    "                        np.array(avg_moran_max_13)[sel_index_13],\n",
    "                        np.array(avg_moran_max_14)[sel_index_14],\n",
    "                        np.array(avg_moran_max_15)[sel_index_15],\n",
    "                        np.array(avg_moran_max_16)[sel_index_16]]\n",
    "max_moran_mean_grid = []\n",
    "max_moran_std_grid = []\n",
    "for ii in range(len(max_scooter_per_area_list)):\n",
    "    max_moran_mean_grid.append(np.mean(max_moran_list_grid[ii]))\n",
    "    max_moran_std_grid.append(np.std(max_moran_list_grid[ii]))\n",
    "\n",
    "print(\"Plotting resulting graph...\")\n",
    "# plt.figure(figsize = (12, 9))\n",
    "l1 = plt.errorbar(max_scooter_per_area_list, max_moran_mean_grid, yerr=max_moran_std_grid, fmt='o-', capsize=5) # ecolor='gray', \n",
    "\n",
    "print(\"Plotting baseline 1...\")\n",
    "# plt.legend(loc='best',prop={'size': 10})\n",
    "plt.ylabel(\"Moran's I\")\n",
    "plt.xlabel(\"max_scooter_per_area\")\n",
    "\n",
    "print(\"End: \" + datetime.now().strftime('%Y-%m-%d %H:%M:%S'))"
   ]
  },
  {
   "cell_type": "code",
   "execution_count": 186,
   "id": "622617ec",
   "metadata": {},
   "outputs": [
    {
     "name": "stdout",
     "output_type": "stream",
     "text": [
      "End: 2025-07-10 14:29:44\n",
      "Plotting resulting graph...\n",
      "Plotting baseline 1...\n",
      "End: 2025-07-10 14:29:44\n"
     ]
    },
    {
     "data": {
      "image/png": "[encoded data removed]",
      "text/plain": [
       "<Figure size 432x288 with 1 Axes>"
      ]
     },
     "metadata": {
      "needs_background": "light"
     },
     "output_type": "display_data"
    }
   ],
   "source": [
    "# Plot the graphs of average rewards during testing phases of the policy\n",
    "# gradient method and the hand-crafted policies\n",
    "\n",
    "print(\"End: \" + datetime.now().strftime('%Y-%m-%d %H:%M:%S'))\n",
    "\n",
    "max_scooter_per_area_list = np.arange(2,17)\n",
    "max_gini_list_grid = np.array([avg_gini_max_2,\n",
    "                                avg_gini_max_3,\n",
    "                                avg_gini_max_4,\n",
    "                                avg_gini_max_5,\n",
    "                                avg_gini_max_6,\n",
    "                                avg_gini_max_7,\n",
    "                                avg_gini_max_8,\n",
    "                                avg_gini_max_9,\n",
    "                                avg_gini_max_10,\n",
    "                                avg_gini_max_11,\n",
    "                                avg_gini_max_12,\n",
    "                                avg_gini_max_13,\n",
    "                                avg_gini_max_14,\n",
    "                                avg_gini_max_15,\n",
    "                                avg_gini_max_16])\n",
    "max_gini_mean_grid = np.mean(max_gini_list_grid, axis=1)\n",
    "max_gini_std_grid = np.std(max_gini_list_grid, axis=1)\n",
    "\n",
    "print(\"Plotting resulting graph...\")\n",
    "# plt.figure(figsize = (12, 9))\n",
    "l1 = plt.errorbar(max_scooter_per_area_list, max_gini_mean_grid, yerr=max_gini_std_grid, fmt='o-', capsize=5) # ecolor='gray', \n",
    "\n",
    "print(\"Plotting baseline 1...\")\n",
    "# plt.legend(loc='best',prop={'size': 10})\n",
    "plt.ylabel(\"Gini index\")\n",
    "plt.xlabel(\"max_scooter_per_area\")\n",
    "\n",
    "print(\"End: \" + datetime.now().strftime('%Y-%m-%d %H:%M:%S'))"
   ]
  },
  {
   "cell_type": "code",
   "execution_count": 187,
   "id": "b8a3ecb2",
   "metadata": {},
   "outputs": [
    {
     "data": {
      "text/plain": [
       "array([[0.95294746, 0.9485542 , 0.94774637, 0.95059485, 0.94373065,\n",
       "        0.94885096, 0.95157378, 0.95466016, 0.9518625 , 0.95284887],\n",
       "       [0.95548794, 0.95410395, 0.95573316, 0.95449893, 0.95579403,\n",
       "        0.95346726, 0.95584689, 0.95549304, 0.94970963, 0.94939113],\n",
       "       [0.95489633, 0.95484515, 0.95454775, 0.95625926, 0.9540003 ,\n",
       "        0.95544897, 0.94966419, 0.95505496, 0.95167219, 0.95500133],\n",
       "       [0.95573205, 0.95722784, 0.95308514, 0.95186207, 0.95756423,\n",
       "        0.95032466, 0.95520322, 0.95637593, 0.9518882 , 0.95650175],\n",
       "       [0.9557654 , 0.95111362, 0.95516499, 0.95663641, 0.95075554,\n",
       "        0.95609277, 0.95398588, 0.95648272, 0.95700179, 0.95662846],\n",
       "       [0.94994179, 0.95134307, 0.95590265, 0.95636965, 0.95282167,\n",
       "        0.9552705 , 0.95664897, 0.9516252 , 0.95367331, 0.95592273],\n",
       "       [0.95625671, 0.95457851, 0.95600293, 0.95784098, 0.94955216,\n",
       "        0.95476729, 0.95443693, 0.95530729, 0.95603049, 0.95542341],\n",
       "       [0.95594585, 0.95651068, 0.95551724, 0.95455819, 0.95466166,\n",
       "        0.95672118, 0.95526415, 0.95423031, 0.9565061 , 0.95859297],\n",
       "       [0.95526505, 0.95559645, 0.95590833, 0.95616282, 0.95548958,\n",
       "        0.95065408, 0.95642436, 0.95730266, 0.95070734, 0.95776998],\n",
       "       [0.95150024, 0.95714439, 0.95547086, 0.95433407, 0.95461027,\n",
       "        0.95145733, 0.95202471, 0.95797651, 0.95643722, 0.95853756],\n",
       "       [0.95674131, 0.9573729 , 0.95174034, 0.95854806, 0.95658807,\n",
       "        0.9569298 , 0.95576808, 0.95677394, 0.95677593, 0.9550674 ],\n",
       "       [0.95698408, 0.95645705, 0.95275361, 0.95611169, 0.95559773,\n",
       "        0.95219639, 0.94994322, 0.95537137, 0.95171626, 0.95737607],\n",
       "       [0.95025398, 0.95653797, 0.9539214 , 0.94942491, 0.95618805,\n",
       "        0.95281217, 0.95560675, 0.95728127, 0.95576356, 0.95625907],\n",
       "       [0.95535192, 0.95352298, 0.95141219, 0.95674674, 0.95000813,\n",
       "        0.9559382 , 0.95744784, 0.95614161, 0.95105503, 0.95493558],\n",
       "       [0.95069579, 0.95652932, 0.95570998, 0.95244684, 0.9558236 ,\n",
       "        0.95559226, 0.94610817, 0.95557456, 0.9565289 , 0.95695812]])"
      ]
     },
     "execution_count": 187,
     "metadata": {},
     "output_type": "execute_result"
    }
   ],
   "source": [
    "max_gini_list_grid"
   ]
  },
  {
   "cell_type": "code",
   "execution_count": 188,
   "id": "3331d0c3",
   "metadata": {},
   "outputs": [
    {
     "name": "stdout",
     "output_type": "stream",
     "text": [
      "End: 2025-07-10 14:29:45\n",
      "Plotting resulting graph...\n",
      "Plotting baseline 1...\n",
      "End: 2025-07-10 14:29:45\n"
     ]
    },
    {
     "data": {
      "image/png": "[encoded data removed]",
      "text/plain": [
       "<Figure size 432x288 with 1 Axes>"
      ]
     },
     "metadata": {
      "needs_background": "light"
     },
     "output_type": "display_data"
    }
   ],
   "source": [
    "# Plot the graphs of average rewards during testing phases of the policy\n",
    "# gradient method and the hand-crafted policies\n",
    "\n",
    "print(\"End: \" + datetime.now().strftime('%Y-%m-%d %H:%M:%S'))\n",
    "\n",
    "max_scooter_per_area_list = np.arange(2,17)\n",
    "max_gini_list_grid = [np.array(avg_gini_max_2)[sel_index_2],\n",
    "                        np.array(avg_gini_max_3)[sel_index_3],\n",
    "                        np.array(avg_gini_max_4)[sel_index_4],\n",
    "                        np.array(avg_gini_max_5)[sel_index_5],\n",
    "                        np.array(avg_gini_max_6)[sel_index_6],\n",
    "                        np.array(avg_gini_max_7)[sel_index_7],\n",
    "                        np.array(avg_gini_max_8)[sel_index_8],\n",
    "                        np.array(avg_gini_max_9)[sel_index_9],\n",
    "                        np.array(avg_gini_max_10)[sel_index_10],\n",
    "                        np.array(avg_gini_max_11)[sel_index_11],\n",
    "                        np.array(avg_gini_max_12)[sel_index_12],\n",
    "                        np.array(avg_gini_max_13)[sel_index_13],\n",
    "                        np.array(avg_gini_max_14)[sel_index_14],\n",
    "                        np.array(avg_gini_max_15)[sel_index_15],\n",
    "                        np.array(avg_gini_max_16)[sel_index_16]]\n",
    "max_gini_mean_grid = []\n",
    "max_gini_std_grid = []\n",
    "for ii in range(len(max_scooter_per_area_list)):\n",
    "    max_gini_mean_grid.append(np.mean(max_gini_list_grid[ii]))\n",
    "    max_gini_std_grid.append(np.std(max_gini_list_grid[ii]))\n",
    "\n",
    "print(\"Plotting resulting graph...\")\n",
    "# plt.figure(figsize = (12, 9))\n",
    "l1 = plt.errorbar(max_scooter_per_area_list, max_gini_mean_grid, yerr=max_gini_std_grid, fmt='o-', capsize=5) # ecolor='gray', \n",
    "\n",
    "print(\"Plotting baseline 1...\")\n",
    "# plt.legend(loc='best',prop={'size': 10})\n",
    "plt.ylabel(\"Gini index\")\n",
    "plt.xlabel(\"max_scooter_per_area\")\n",
    "\n",
    "print(\"End: \" + datetime.now().strftime('%Y-%m-%d %H:%M:%S'))"
   ]
  },
  {
   "cell_type": "code",
   "execution_count": 189,
   "id": "9399863c",
   "metadata": {},
   "outputs": [
    {
     "name": "stdout",
     "output_type": "stream",
     "text": [
      "End: 2025-07-10 14:29:46\n",
      "Plotting resulting graph...\n",
      "Plotting baseline 1...\n",
      "End: 2025-07-10 14:29:46\n"
     ]
    },
    {
     "data": {
      "image/png": "[encoded data removed]",
      "text/plain": [
       "<Figure size 432x288 with 1 Axes>"
      ]
     },
     "metadata": {
      "needs_background": "light"
     },
     "output_type": "display_data"
    }
   ],
   "source": [
    "# Plot the graphs of average rewards during testing phases of the policy\n",
    "# gradient method and the hand-crafted policies\n",
    "\n",
    "print(\"End: \" + datetime.now().strftime('%Y-%m-%d %H:%M:%S'))\n",
    "\n",
    "max_scooter_per_area_list = np.arange(2,17)\n",
    "max_theil_list_grid = np.array([avg_theil_max_2,\n",
    "                                avg_theil_max_3,\n",
    "                                avg_theil_max_4,\n",
    "                                avg_theil_max_5,\n",
    "                                avg_theil_max_6,\n",
    "                                avg_theil_max_7,\n",
    "                                avg_theil_max_8,\n",
    "                                avg_theil_max_9,\n",
    "                                avg_theil_max_10,\n",
    "                                avg_theil_max_11,\n",
    "                                avg_theil_max_12,\n",
    "                                avg_theil_max_13,\n",
    "                                avg_theil_max_14,\n",
    "                                avg_theil_max_15,\n",
    "                                avg_theil_max_16])\n",
    "max_theil_mean_grid = np.mean(max_theil_list_grid, axis=1)\n",
    "max_theil_std_grid = np.std(max_theil_list_grid, axis=1)\n",
    "\n",
    "print(\"Plotting resulting graph...\")\n",
    "# plt.figure(figsize = (12, 9))\n",
    "l1 = plt.errorbar(max_scooter_per_area_list, max_theil_mean_grid, yerr=max_theil_std_grid, fmt='o-', capsize=5) # ecolor='gray', \n",
    "\n",
    "print(\"Plotting baseline 1...\")\n",
    "# plt.legend(loc='best',prop={'size': 10})\n",
    "plt.ylabel(\"Theil index\")\n",
    "plt.xlabel(\"max_scooter_per_area\")\n",
    "\n",
    "print(\"End: \" + datetime.now().strftime('%Y-%m-%d %H:%M:%S'))"
   ]
  },
  {
   "cell_type": "code",
   "execution_count": 190,
   "id": "18efe939",
   "metadata": {},
   "outputs": [
    {
     "data": {
      "text/plain": [
       "array([[0.04691066, 0.04222174, 0.04164085, 0.04484264, 0.04182454,\n",
       "        0.04503469, 0.04625734, 0.04803605, 0.04665825, 0.04724761],\n",
       "       [0.08652017, 0.07861059, 0.08589127, 0.08329217, 0.07918443,\n",
       "        0.08323311, 0.08344503, 0.08262635, 0.07376214, 0.07289772],\n",
       "       [0.10936305, 0.10978568, 0.10307834, 0.11147966, 0.10759241,\n",
       "        0.11134521, 0.10319494, 0.10687312, 0.10442253, 0.1077149 ],\n",
       "       [0.1099353 , 0.11851909, 0.10366597, 0.11167855, 0.12096096,\n",
       "        0.10490591, 0.11534688, 0.11892103, 0.10761995, 0.11613794],\n",
       "       [0.11831064, 0.10316654, 0.10892953, 0.11256117, 0.1014649 ,\n",
       "        0.12068877, 0.12678932, 0.11807893, 0.11429758, 0.12011911],\n",
       "       [0.08682555, 0.11132931, 0.1058149 , 0.11828664, 0.1056214 ,\n",
       "        0.11249621, 0.10907951, 0.09757911, 0.10628112, 0.11463301],\n",
       "       [0.11976281, 0.10525591, 0.1119003 , 0.11965665, 0.09819154,\n",
       "        0.11058074, 0.11846732, 0.11621098, 0.12178713, 0.11005783],\n",
       "       [0.12012866, 0.11771704, 0.11849333, 0.11395283, 0.11630216,\n",
       "        0.12149755, 0.108615  , 0.09105561, 0.12459209, 0.12725508],\n",
       "       [0.10565514, 0.10769404, 0.11686578, 0.10451036, 0.11925259,\n",
       "        0.10465114, 0.11082491, 0.1201032 , 0.10270443, 0.12044339],\n",
       "       [0.1141616 , 0.11121549, 0.11625063, 0.10147466, 0.10939183,\n",
       "        0.10756429, 0.10581144, 0.1256606 , 0.10590233, 0.11883735],\n",
       "       [0.1117785 , 0.12222587, 0.11532402, 0.11161976, 0.11488575,\n",
       "        0.1163197 , 0.12191256, 0.11701858, 0.12418845, 0.11605641],\n",
       "       [0.12476235, 0.10932104, 0.0928531 , 0.11075073, 0.1171049 ,\n",
       "        0.11263553, 0.10869033, 0.1130231 , 0.11857908, 0.11768888],\n",
       "       [0.11440524, 0.10812353, 0.1175962 , 0.09884977, 0.1184329 ,\n",
       "        0.08982118, 0.10519628, 0.11766426, 0.11254052, 0.11737195],\n",
       "       [0.11635629, 0.11000294, 0.11083388, 0.10722395, 0.09610231,\n",
       "        0.11762573, 0.12385367, 0.11758414, 0.10398037, 0.11665653],\n",
       "       [0.10135327, 0.11454641, 0.1212617 , 0.11332421, 0.12186465,\n",
       "        0.11235842, 0.09566944, 0.11517254, 0.11863952, 0.12166246]])"
      ]
     },
     "execution_count": 190,
     "metadata": {},
     "output_type": "execute_result"
    }
   ],
   "source": [
    "max_theil_list_grid"
   ]
  },
  {
   "cell_type": "code",
   "execution_count": 191,
   "id": "e57faad4",
   "metadata": {},
   "outputs": [
    {
     "name": "stdout",
     "output_type": "stream",
     "text": [
      "End: 2025-07-10 14:29:48\n",
      "Plotting resulting graph...\n",
      "Plotting baseline 1...\n",
      "End: 2025-07-10 14:29:48\n"
     ]
    },
    {
     "data": {
      "image/png": "[encoded data removed]",
      "text/plain": [
       "<Figure size 432x288 with 1 Axes>"
      ]
     },
     "metadata": {
      "needs_background": "light"
     },
     "output_type": "display_data"
    }
   ],
   "source": [
    "# Plot the graphs of average rewards during testing phases of the policy\n",
    "# gradient method and the hand-crafted policies\n",
    "\n",
    "print(\"End: \" + datetime.now().strftime('%Y-%m-%d %H:%M:%S'))\n",
    "\n",
    "max_scooter_per_area_list = np.arange(2,17)\n",
    "max_theil_list_grid = [np.array(avg_theil_max_2)[sel_index_2],\n",
    "                        np.array(avg_theil_max_3)[sel_index_3],\n",
    "                        np.array(avg_theil_max_4)[sel_index_4],\n",
    "                        np.array(avg_theil_max_5)[sel_index_5],\n",
    "                        np.array(avg_theil_max_6)[sel_index_6],\n",
    "                        np.array(avg_theil_max_7)[sel_index_7],\n",
    "                        np.array(avg_theil_max_8)[sel_index_8],\n",
    "                        np.array(avg_theil_max_9)[sel_index_9],\n",
    "                        np.array(avg_theil_max_10)[sel_index_10],\n",
    "                        np.array(avg_theil_max_11)[sel_index_11],\n",
    "                        np.array(avg_theil_max_12)[sel_index_12],\n",
    "                        np.array(avg_theil_max_13)[sel_index_13],\n",
    "                        np.array(avg_theil_max_14)[sel_index_14],\n",
    "                        np.array(avg_theil_max_15)[sel_index_15],\n",
    "                        np.array(avg_theil_max_16)[sel_index_16]]\n",
    "max_theil_mean_grid = []\n",
    "max_theil_std_grid = []\n",
    "for ii in range(len(max_scooter_per_area_list)):\n",
    "    max_theil_mean_grid.append(np.mean(max_theil_list_grid[ii]))\n",
    "    max_theil_std_grid.append(np.std(max_theil_list_grid[ii]))\n",
    "\n",
    "print(\"Plotting resulting graph...\")\n",
    "# plt.figure(figsize = (12, 9))\n",
    "l1 = plt.errorbar(max_scooter_per_area_list, max_theil_mean_grid, yerr=max_theil_std_grid, fmt='o-', capsize=5) # ecolor='gray', \n",
    "\n",
    "print(\"Plotting baseline 1...\")\n",
    "# plt.legend(loc='best',prop={'size': 10})\n",
    "plt.ylabel(\"Theil index\")\n",
    "plt.xlabel(\"max_scooter_per_area\")\n",
    "\n",
    "print(\"End: \" + datetime.now().strftime('%Y-%m-%d %H:%M:%S'))"
   ]
  },
  {
   "cell_type": "code",
   "execution_count": 192,
   "id": "5d0636e8",
   "metadata": {},
   "outputs": [
    {
     "name": "stdout",
     "output_type": "stream",
     "text": [
      "End: 2025-07-10 14:29:49\n",
      "Plotting resulting graph...\n",
      "Plotting baseline 1...\n",
      "End: 2025-07-10 14:29:49\n"
     ]
    },
    {
     "data": {
      "image/png": "[encoded data removed]",
      "text/plain": [
       "<Figure size 432x288 with 1 Axes>"
      ]
     },
     "metadata": {
      "needs_background": "light"
     },
     "output_type": "display_data"
    }
   ],
   "source": [
    "# Plot the graphs of average rewards during testing phases of the policy\n",
    "# gradient method and the hand-crafted policies\n",
    "\n",
    "print(\"End: \" + datetime.now().strftime('%Y-%m-%d %H:%M:%S'))\n",
    "\n",
    "max_scooter_per_area_list = np.arange(2,17)\n",
    "max_EMD_list_grid = np.array([avg_EMD_max_2,\n",
    "                                avg_EMD_max_3,\n",
    "                                avg_EMD_max_4,\n",
    "                                avg_EMD_max_5,\n",
    "                                avg_EMD_max_6,\n",
    "                                avg_EMD_max_7,\n",
    "                                avg_EMD_max_8,\n",
    "                                avg_EMD_max_9,\n",
    "                                avg_EMD_max_10,\n",
    "                                avg_EMD_max_11,\n",
    "                                avg_EMD_max_12,\n",
    "                                avg_EMD_max_13,\n",
    "                                avg_EMD_max_14,\n",
    "                                avg_EMD_max_15,\n",
    "                                avg_EMD_max_16])\n",
    "max_EMD_mean_grid = np.mean(max_EMD_list_grid, axis=1)\n",
    "max_EMD_std_grid = np.std(max_EMD_list_grid, axis=1)\n",
    "\n",
    "print(\"Plotting resulting graph...\")\n",
    "# plt.figure(figsize = (12, 9))\n",
    "l1 = plt.errorbar(max_scooter_per_area_list, max_EMD_mean_grid, yerr=max_EMD_std_grid, fmt='o-', capsize=5) # ecolor='gray', \n",
    "\n",
    "print(\"Plotting baseline 1...\")\n",
    "# plt.legend(loc='best',prop={'size': 10})\n",
    "plt.ylabel(\"EMD\")\n",
    "plt.xlabel(\"max_scooter_per_area\")\n",
    "\n",
    "print(\"End: \" + datetime.now().strftime('%Y-%m-%d %H:%M:%S'))"
   ]
  },
  {
   "cell_type": "code",
   "execution_count": 193,
   "id": "88c0520f",
   "metadata": {},
   "outputs": [
    {
     "data": {
      "text/plain": [
       "array([[1.98278141, 1.86789117, 1.84763138, 1.94213509, 1.91335854,\n",
       "        1.88529003, 2.00262829, 2.02595859, 1.98689354, 2.049272  ],\n",
       "       [2.01538163, 1.99772058, 1.9941164 , 2.06026938, 2.04710625,\n",
       "        2.01048428, 2.08827015, 2.01342149, 1.92582535, 1.89189827],\n",
       "       [2.05787572, 2.02882606, 1.98759808, 2.07786875, 2.02976673,\n",
       "        2.0523883 , 1.92594646, 2.06896807, 1.93680338, 2.05860655],\n",
       "       [2.03471319, 2.1045923 , 1.97056677, 1.97745426, 2.07889446,\n",
       "        1.93144614, 2.07010922, 2.0654395 , 1.9718367 , 2.04846539],\n",
       "       [2.0916254 , 1.95082238, 2.04878512, 2.04446507, 1.96243643,\n",
       "        2.06056778, 1.9925295 , 2.0136347 , 2.06028951, 2.03976532],\n",
       "       [1.95104107, 1.93864324, 2.08395677, 2.07604997, 1.93873817,\n",
       "        2.06421986, 2.07256423, 1.97373353, 2.03154734, 2.06967768],\n",
       "       [2.08325456, 2.0737651 , 2.11513955, 2.10229314, 1.93205117,\n",
       "        2.03685362, 2.07433894, 2.04882806, 2.10323195, 2.01106466],\n",
       "       [2.05107556, 2.08832211, 2.08200135, 2.06966716, 2.07067744,\n",
       "        2.07498215, 2.06975079, 1.99825729, 2.07254071, 2.11952055],\n",
       "       [1.99618838, 2.07614984, 2.08664951, 2.04164804, 2.04017549,\n",
       "        1.95076609, 2.04181962, 2.09320354, 1.98144717, 2.07014717],\n",
       "       [1.96777578, 2.0736152 , 2.05480807, 2.05442971, 2.09532926,\n",
       "        1.94877723, 1.96577284, 2.05814683, 2.04365047, 2.06903547],\n",
       "       [2.07702388, 1.99714853, 2.02498361, 2.11249484, 2.05741442,\n",
       "        2.06455219, 2.0518106 , 2.07359469, 2.09165195, 2.06010925],\n",
       "       [2.10133951, 2.05687215, 1.89453055, 2.03764829, 2.06113297,\n",
       "        1.94797649, 1.92379408, 2.02243119, 2.0078685 , 2.07051661],\n",
       "       [1.95046765, 2.06446151, 2.02954883, 1.96395477, 2.13024765,\n",
       "        2.00418735, 2.05279126, 2.04442651, 2.06039663, 2.05408197],\n",
       "       [2.0633149 , 2.0156386 , 1.96472915, 2.05779085, 1.95486586,\n",
       "        2.0638512 , 2.07439102, 2.06635106, 1.94236922, 2.07413316],\n",
       "       [1.95103132, 2.0453749 , 2.04530717, 1.9490039 , 2.05063803,\n",
       "        2.04457146, 1.90650773, 2.06672625, 2.0891224 , 2.09527338]])"
      ]
     },
     "execution_count": 193,
     "metadata": {},
     "output_type": "execute_result"
    }
   ],
   "source": [
    "max_EMD_list_grid"
   ]
  },
  {
   "cell_type": "code",
   "execution_count": 194,
   "id": "8b10664d",
   "metadata": {},
   "outputs": [
    {
     "name": "stdout",
     "output_type": "stream",
     "text": [
      "End: 2025-07-10 14:29:52\n",
      "Plotting resulting graph...\n",
      "Plotting baseline 1...\n",
      "End: 2025-07-10 14:29:52\n"
     ]
    },
    {
     "data": {
      "image/png": "[encoded data removed]",
      "text/plain": [
       "<Figure size 432x288 with 1 Axes>"
      ]
     },
     "metadata": {
      "needs_background": "light"
     },
     "output_type": "display_data"
    }
   ],
   "source": [
    "# Plot the graphs of average rewards during testing phases of the policy\n",
    "# gradient method and the hand-crafted policies\n",
    "\n",
    "print(\"End: \" + datetime.now().strftime('%Y-%m-%d %H:%M:%S'))\n",
    "\n",
    "max_scooter_per_area_list = np.arange(2,17)\n",
    "max_EMD_list_grid = [np.array(avg_EMD_max_2)[sel_index_2],\n",
    "                        np.array(avg_EMD_max_3)[sel_index_3],\n",
    "                        np.array(avg_EMD_max_4)[sel_index_4],\n",
    "                        np.array(avg_EMD_max_5)[sel_index_5],\n",
    "                        np.array(avg_EMD_max_6)[sel_index_6],\n",
    "                        np.array(avg_EMD_max_7)[sel_index_7],\n",
    "                        np.array(avg_EMD_max_8)[sel_index_8],\n",
    "                        np.array(avg_EMD_max_9)[sel_index_9],\n",
    "                        np.array(avg_EMD_max_10)[sel_index_10],\n",
    "                        np.array(avg_EMD_max_11)[sel_index_11],\n",
    "                        np.array(avg_EMD_max_12)[sel_index_12],\n",
    "                        np.array(avg_EMD_max_13)[sel_index_13],\n",
    "                        np.array(avg_EMD_max_14)[sel_index_14],\n",
    "                        np.array(avg_EMD_max_15)[sel_index_15],\n",
    "                        np.array(avg_EMD_max_16)[sel_index_16]]\n",
    "max_EMD_mean_grid = []\n",
    "max_EMD_std_grid = []\n",
    "for ii in range(len(max_scooter_per_area_list)):\n",
    "    max_EMD_mean_grid.append(np.mean(max_EMD_list_grid[ii]))\n",
    "    max_EMD_std_grid.append(np.std(max_EMD_list_grid[ii]))\n",
    "\n",
    "print(\"Plotting resulting graph...\")\n",
    "# plt.figure(figsize = (12, 9))\n",
    "l1 = plt.errorbar(max_scooter_per_area_list, max_EMD_mean_grid, yerr=max_EMD_std_grid, fmt='o-', capsize=5) # ecolor='gray', \n",
    "\n",
    "print(\"Plotting baseline 1...\")\n",
    "# plt.legend(loc='best',prop={'size': 10})\n",
    "plt.ylabel(\"EMD\")\n",
    "plt.xlabel(\"max_scooter_per_area\")\n",
    "\n",
    "print(\"End: \" + datetime.now().strftime('%Y-%m-%d %H:%M:%S'))"
   ]
  },
  {
   "cell_type": "code",
   "execution_count": 195,
   "id": "b5f1eb35",
   "metadata": {},
   "outputs": [
    {
     "name": "stdout",
     "output_type": "stream",
     "text": [
      "End: 2025-07-10 14:29:56\n",
      "Plotting resulting graph...\n",
      "Plotting baseline 1...\n",
      "End: 2025-07-10 14:29:56\n"
     ]
    },
    {
     "data": {
      "image/png": "[encoded data removed]",
      "text/plain": [
       "<Figure size 432x288 with 1 Axes>"
      ]
     },
     "metadata": {
      "needs_background": "light"
     },
     "output_type": "display_data"
    }
   ],
   "source": [
    "# Plot the graphs of average rewards during testing phases of the policy\n",
    "# gradient method and the hand-crafted policies\n",
    "\n",
    "print(\"End: \" + datetime.now().strftime('%Y-%m-%d %H:%M:%S'))\n",
    "\n",
    "max_scooter_per_area_list = np.arange(2,17)\n",
    "max_centroid_list_grid = np.array([avg_centroid_max_2,\n",
    "                                avg_centroid_max_3,\n",
    "                                avg_centroid_max_4,\n",
    "                                avg_centroid_max_5,\n",
    "                                avg_centroid_max_6,\n",
    "                                avg_centroid_max_7,\n",
    "                                avg_centroid_max_8,\n",
    "                                avg_centroid_max_9,\n",
    "                                avg_centroid_max_10,\n",
    "                                avg_centroid_max_11,\n",
    "                                avg_centroid_max_12,\n",
    "                                avg_centroid_max_13,\n",
    "                                avg_centroid_max_14,\n",
    "                                avg_centroid_max_15,\n",
    "                                avg_centroid_max_16])\n",
    "max_centroid_mean_grid = np.mean(max_centroid_list_grid, axis=1)\n",
    "max_centroid_std_grid = np.std(max_centroid_list_grid, axis=1)\n",
    "\n",
    "print(\"Plotting resulting graph...\")\n",
    "# plt.figure(figsize = (12, 9))\n",
    "l1 = plt.errorbar(max_scooter_per_area_list, max_centroid_mean_grid, yerr=max_centroid_std_grid, fmt='o-', capsize=5) # ecolor='gray', \n",
    "\n",
    "print(\"Plotting baseline 1...\")\n",
    "# plt.legend(loc='best',prop={'size': 10})\n",
    "plt.ylabel(\"Centroid shift\")\n",
    "plt.xlabel(\"max_scooter_per_area\")\n",
    "\n",
    "print(\"End: \" + datetime.now().strftime('%Y-%m-%d %H:%M:%S'))"
   ]
  },
  {
   "cell_type": "code",
   "execution_count": 196,
   "id": "9e54b365",
   "metadata": {},
   "outputs": [
    {
     "data": {
      "text/plain": [
       "array([[0.95643069, 0.94478904, 0.98030822, 0.9912446 , 1.01797553,\n",
       "        0.95664142, 0.93073115, 0.94265468, 0.94826317, 0.92051979],\n",
       "       [0.90921431, 0.87984511, 0.94543485, 0.95069283, 0.88941945,\n",
       "        0.9542983 , 0.95352965, 0.91380125, 0.9721007 , 0.98210676],\n",
       "       [0.93713606, 0.9602435 , 0.92316351, 0.86705799, 0.90665903,\n",
       "        0.89958859, 0.92558708, 0.91925646, 0.95957605, 0.89159194],\n",
       "       [0.95984265, 0.94701587, 0.91162776, 0.93158604, 0.9105555 ,\n",
       "        0.94700948, 0.89600086, 0.97978498, 0.93126813, 0.9025113 ],\n",
       "       [0.94390994, 0.91211225, 0.94385076, 0.9265541 , 0.93477117,\n",
       "        0.93042007, 0.92864812, 0.89853775, 0.96468412, 0.91446389],\n",
       "       [0.96380276, 0.9522706 , 0.89017752, 0.89036319, 0.93964128,\n",
       "        0.93933265, 0.89721759, 0.99828544, 1.00164543, 0.92029252],\n",
       "       [0.94823099, 0.91122243, 0.94412155, 0.89897408, 0.9595235 ,\n",
       "        0.9134057 , 0.92977247, 0.92237215, 0.93843976, 0.93533916],\n",
       "       [0.87515383, 0.90594786, 0.94214185, 0.93004926, 0.94898775,\n",
       "        0.87870642, 0.94840317, 0.911809  , 0.90679223, 0.94689002],\n",
       "       [0.99801629, 0.95572288, 0.86619677, 0.90229218, 0.90875297,\n",
       "        0.96252528, 0.94577809, 0.93761864, 0.96281726, 0.94203069],\n",
       "       [0.95953896, 0.92427427, 0.87866963, 0.89277673, 0.91224451,\n",
       "        0.96069578, 0.95743604, 0.9147565 , 0.93930393, 0.93847121],\n",
       "       [0.91426063, 0.90870124, 0.85744575, 0.93794442, 0.89955404,\n",
       "        0.87887682, 0.88798106, 0.91093989, 0.90751324, 0.91884761],\n",
       "       [0.92055327, 0.88105434, 0.87263921, 0.90169943, 0.91280356,\n",
       "        0.94698153, 0.96340544, 0.90935261, 0.92862328, 0.9412763 ],\n",
       "       [0.96489666, 0.93361567, 0.94280147, 0.95506105, 0.91542424,\n",
       "        1.00651076, 0.97029372, 0.9010084 , 0.89300392, 0.91341064],\n",
       "       [0.93867053, 0.87167723, 0.97477266, 0.89443932, 0.96016124,\n",
       "        0.93036116, 0.94848358, 0.89633286, 0.92857533, 0.93592519],\n",
       "       [0.97043062, 0.9323966 , 0.93603067, 0.97469359, 0.89889686,\n",
       "        0.91655687, 0.91745187, 0.93004755, 0.91464038, 1.00084903]])"
      ]
     },
     "execution_count": 196,
     "metadata": {},
     "output_type": "execute_result"
    }
   ],
   "source": [
    "max_centroid_list_grid"
   ]
  },
  {
   "cell_type": "code",
   "execution_count": 197,
   "id": "5deb1d7c",
   "metadata": {},
   "outputs": [
    {
     "name": "stdout",
     "output_type": "stream",
     "text": [
      "End: 2025-07-10 14:29:58\n",
      "Plotting resulting graph...\n",
      "Plotting baseline 1...\n",
      "End: 2025-07-10 14:29:58\n"
     ]
    },
    {
     "data": {
      "image/png": "[encoded data removed]",
      "text/plain": [
       "<Figure size 432x288 with 1 Axes>"
      ]
     },
     "metadata": {
      "needs_background": "light"
     },
     "output_type": "display_data"
    }
   ],
   "source": [
    "# Plot the graphs of average rewards during testing phases of the policy\n",
    "# gradient method and the hand-crafted policies\n",
    "\n",
    "print(\"End: \" + datetime.now().strftime('%Y-%m-%d %H:%M:%S'))\n",
    "\n",
    "max_scooter_per_area_list = np.arange(2,17)\n",
    "max_centroid_list_grid = [np.array(avg_centroid_max_2)[sel_index_2],\n",
    "                        np.array(avg_centroid_max_3)[sel_index_3],\n",
    "                        np.array(avg_centroid_max_4)[sel_index_4],\n",
    "                        np.array(avg_centroid_max_5)[sel_index_5],\n",
    "                        np.array(avg_centroid_max_6)[sel_index_6],\n",
    "                        np.array(avg_centroid_max_7)[sel_index_7],\n",
    "                        np.array(avg_centroid_max_8)[sel_index_8],\n",
    "                        np.array(avg_centroid_max_9)[sel_index_9],\n",
    "                        np.array(avg_centroid_max_10)[sel_index_10],\n",
    "                        np.array(avg_centroid_max_11)[sel_index_11],\n",
    "                        np.array(avg_centroid_max_12)[sel_index_12],\n",
    "                        np.array(avg_centroid_max_13)[sel_index_13],\n",
    "                        np.array(avg_centroid_max_14)[sel_index_14],\n",
    "                        np.array(avg_centroid_max_15)[sel_index_15],\n",
    "                        np.array(avg_centroid_max_16)[sel_index_16]]\n",
    "max_centroid_mean_grid = []\n",
    "max_centroid_std_grid = []\n",
    "for ii in range(len(max_scooter_per_area_list)):\n",
    "    max_centroid_mean_grid.append(np.mean(max_centroid_list_grid[ii]))\n",
    "    max_centroid_std_grid.append(np.std(max_centroid_list_grid[ii]))\n",
    "\n",
    "print(\"Plotting resulting graph...\")\n",
    "# plt.figure(figsize = (12, 9))\n",
    "l1 = plt.errorbar(max_scooter_per_area_list, max_centroid_mean_grid, yerr=max_centroid_std_grid, fmt='o-', capsize=5) # ecolor='gray', \n",
    "\n",
    "print(\"Plotting baseline 1...\")\n",
    "# plt.legend(loc='best',prop={'size': 10})\n",
    "plt.ylabel(\"Centroid shift\")\n",
    "plt.xlabel(\"max_scooter_per_area\")\n",
    "\n",
    "print(\"End: \" + datetime.now().strftime('%Y-%m-%d %H:%M:%S'))"
   ]
  },
  {
   "cell_type": "code",
   "execution_count": 198,
   "id": "21e988a6",
   "metadata": {},
   "outputs": [
    {
     "name": "stdout",
     "output_type": "stream",
     "text": [
      "End: 2025-07-10 14:30:03\n",
      "Plotting resulting graph...\n",
      "Plotting baseline 1...\n",
      "End: 2025-07-10 14:30:03\n"
     ]
    },
    {
     "data": {
      "image/png": "[encoded data removed]",
      "text/plain": [
       "<Figure size 432x288 with 1 Axes>"
      ]
     },
     "metadata": {
      "needs_background": "light"
     },
     "output_type": "display_data"
    }
   ],
   "source": [
    "# Plot the graphs of average rewards during testing phases of the policy\n",
    "# gradient method and the hand-crafted policies\n",
    "\n",
    "print(\"End: \" + datetime.now().strftime('%Y-%m-%d %H:%M:%S'))\n",
    "\n",
    "max_scooter_per_area_list = np.arange(2,17)\n",
    "max_dispersion_list_grid = np.array([avg_dispersion_max_2,\n",
    "                                avg_dispersion_max_3,\n",
    "                                avg_dispersion_max_4,\n",
    "                                avg_dispersion_max_5,\n",
    "                                avg_dispersion_max_6,\n",
    "                                avg_dispersion_max_7,\n",
    "                                avg_dispersion_max_8,\n",
    "                                avg_dispersion_max_9,\n",
    "                                avg_dispersion_max_10,\n",
    "                                avg_dispersion_max_11,\n",
    "                                avg_dispersion_max_12,\n",
    "                                avg_dispersion_max_13,\n",
    "                                avg_dispersion_max_14,\n",
    "                                avg_dispersion_max_15,\n",
    "                                avg_dispersion_max_16])\n",
    "max_dispersion_mean_grid = np.mean(max_dispersion_list_grid, axis=1)\n",
    "max_dispersion_std_grid = np.std(max_dispersion_list_grid, axis=1)\n",
    "\n",
    "print(\"Plotting resulting graph...\")\n",
    "# plt.figure(figsize = (12, 9))\n",
    "l1 = plt.errorbar(max_scooter_per_area_list, max_dispersion_mean_grid, yerr=max_dispersion_std_grid, fmt='o-', capsize=5) # ecolor='gray', \n",
    "\n",
    "print(\"Plotting baseline 1...\")\n",
    "# plt.legend(loc='best',prop={'size': 10})\n",
    "plt.ylabel(\"Dispersion shift\")\n",
    "plt.xlabel(\"max_scooter_per_area\")\n",
    "\n",
    "print(\"End: \" + datetime.now().strftime('%Y-%m-%d %H:%M:%S'))"
   ]
  },
  {
   "cell_type": "code",
   "execution_count": 199,
   "id": "54f7cb21",
   "metadata": {},
   "outputs": [
    {
     "data": {
      "text/plain": [
       "array([[-1.70728499, -1.56914036, -1.55485208, -1.67496026, -1.61277701,\n",
       "        -1.5565817 , -1.72368653, -1.78305481, -1.71324082, -1.80396169],\n",
       "       [-1.73625567, -1.73109841, -1.69949558, -1.82216879, -1.77757475,\n",
       "        -1.72783827, -1.87166113, -1.75863566, -1.62245898, -1.58024757],\n",
       "       [-1.80720859, -1.72362796, -1.72779188, -1.85822938, -1.73883107,\n",
       "        -1.8232849 , -1.63430307, -1.83500817, -1.64442713, -1.82273399],\n",
       "       [-1.75204664, -1.84698573, -1.70593144, -1.68695268, -1.81503077,\n",
       "        -1.6272397 , -1.82059577, -1.80531459, -1.69186014, -1.77416312],\n",
       "       [-1.85612098, -1.65394749, -1.80780503, -1.80037097, -1.71063113,\n",
       "        -1.77233508, -1.66851573, -1.73240021, -1.77124257, -1.728201  ],\n",
       "       [-1.64391108, -1.65778669, -1.85866485, -1.8109666 , -1.63553991,\n",
       "        -1.8126274 , -1.85350602, -1.65134307, -1.73572668, -1.83966447],\n",
       "       [-1.84538469, -1.82195283, -1.89371784, -1.88343905, -1.64163061,\n",
       "        -1.76586987, -1.81837042, -1.81913453, -1.89356883, -1.73553364],\n",
       "       [-1.83189386, -1.84644483, -1.82938627, -1.82461123, -1.83995705,\n",
       "        -1.8596256 , -1.81308501, -1.72656417, -1.83125636, -1.88722137],\n",
       "       [-1.68370221, -1.82135343, -1.85488442, -1.81229307, -1.7707001 ,\n",
       "        -1.64994982, -1.73733077, -1.84552724, -1.69334368, -1.81703703],\n",
       "       [-1.67327513, -1.84334389, -1.81282271, -1.80600461, -1.85156657,\n",
       "        -1.63495244, -1.64913134, -1.78580456, -1.77912671, -1.76804705],\n",
       "       [-1.83149508, -1.70669024, -1.71997078, -1.86851823, -1.80432018,\n",
       "        -1.81240683, -1.79740457, -1.8012366 , -1.8657414 , -1.83164576],\n",
       "       [-1.89072266, -1.82363006, -1.55727399, -1.74951812, -1.81647588,\n",
       "        -1.64295535, -1.59442564, -1.73869756, -1.72418189, -1.81324556],\n",
       "       [-1.63633083, -1.82757028, -1.74546846, -1.67945251, -1.92765591,\n",
       "        -1.7304027 , -1.78023399, -1.73139636, -1.81976144, -1.77360176],\n",
       "       [-1.78627599, -1.74413224, -1.6567101 , -1.80262953, -1.68706724,\n",
       "        -1.79657979, -1.80033254, -1.81711925, -1.64754674, -1.81723556],\n",
       "       [-1.65376031, -1.7905831 , -1.76427328, -1.63665902, -1.790777  ,\n",
       "        -1.79107614, -1.58127686, -1.80652006, -1.83360299, -1.81712865]])"
      ]
     },
     "execution_count": 199,
     "metadata": {},
     "output_type": "execute_result"
    }
   ],
   "source": [
    "max_dispersion_list_grid"
   ]
  },
  {
   "cell_type": "code",
   "execution_count": 200,
   "id": "e7eadbf8",
   "metadata": {},
   "outputs": [
    {
     "name": "stdout",
     "output_type": "stream",
     "text": [
      "End: 2025-07-10 14:30:06\n",
      "Plotting resulting graph...\n",
      "Plotting baseline 1...\n",
      "End: 2025-07-10 14:30:06\n"
     ]
    },
    {
     "data": {
      "image/png": "[encoded data removed]",
      "text/plain": [
       "<Figure size 432x288 with 1 Axes>"
      ]
     },
     "metadata": {
      "needs_background": "light"
     },
     "output_type": "display_data"
    }
   ],
   "source": [
    "# Plot the graphs of average rewards during testing phases of the policy\n",
    "# gradient method and the hand-crafted policies\n",
    "\n",
    "print(\"End: \" + datetime.now().strftime('%Y-%m-%d %H:%M:%S'))\n",
    "\n",
    "max_scooter_per_area_list = np.arange(2,17)\n",
    "max_dispersion_list_grid = [np.array(avg_dispersion_max_2)[sel_index_2],\n",
    "                        np.array(avg_dispersion_max_3)[sel_index_3],\n",
    "                        np.array(avg_dispersion_max_4)[sel_index_4],\n",
    "                        np.array(avg_dispersion_max_5)[sel_index_5],\n",
    "                        np.array(avg_dispersion_max_6)[sel_index_6],\n",
    "                        np.array(avg_dispersion_max_7)[sel_index_7],\n",
    "                        np.array(avg_dispersion_max_8)[sel_index_8],\n",
    "                        np.array(avg_dispersion_max_9)[sel_index_9],\n",
    "                        np.array(avg_dispersion_max_10)[sel_index_10],\n",
    "                        np.array(avg_dispersion_max_11)[sel_index_11],\n",
    "                        np.array(avg_dispersion_max_12)[sel_index_12],\n",
    "                        np.array(avg_dispersion_max_13)[sel_index_13],\n",
    "                        np.array(avg_dispersion_max_14)[sel_index_14],\n",
    "                        np.array(avg_dispersion_max_15)[sel_index_15],\n",
    "                        np.array(avg_dispersion_max_16)[sel_index_16]]\n",
    "max_dispersion_mean_grid = []\n",
    "max_dispersion_std_grid = []\n",
    "for ii in range(len(max_scooter_per_area_list)):\n",
    "    max_dispersion_mean_grid.append(np.mean(max_dispersion_list_grid[ii]))\n",
    "    max_dispersion_std_grid.append(np.std(max_dispersion_list_grid[ii]))\n",
    "\n",
    "print(\"Plotting resulting graph...\")\n",
    "# plt.figure(figsize = (12, 9))\n",
    "l1 = plt.errorbar(max_scooter_per_area_list, max_dispersion_mean_grid, yerr=max_dispersion_std_grid, fmt='o-', capsize=5) # ecolor='gray', \n",
    "\n",
    "print(\"Plotting baseline 1...\")\n",
    "# plt.legend(loc='best',prop={'size': 10})\n",
    "plt.ylabel(\"Dispersion shift\")\n",
    "plt.xlabel(\"max_scooter_per_area\")\n",
    "\n",
    "print(\"End: \" + datetime.now().strftime('%Y-%m-%d %H:%M:%S'))"
   ]
  },
  {
   "cell_type": "code",
   "execution_count": 201,
   "id": "3462e67e",
   "metadata": {},
   "outputs": [
    {
     "name": "stdout",
     "output_type": "stream",
     "text": [
      "End: 2025-07-10 14:30:12\n",
      "Plotting resulting graph...\n",
      "Plotting baseline 1...\n",
      "End: 2025-07-10 14:30:13\n"
     ]
    },
    {
     "data": {
      "image/png": "[encoded data removed]",
      "text/plain": [
       "<Figure size 432x288 with 1 Axes>"
      ]
     },
     "metadata": {
      "needs_background": "light"
     },
     "output_type": "display_data"
    }
   ],
   "source": [
    "# Plot the graphs of average rewards during testing phases of the policy\n",
    "# gradient method and the hand-crafted policies\n",
    "\n",
    "print(\"End: \" + datetime.now().strftime('%Y-%m-%d %H:%M:%S'))\n",
    "\n",
    "max_scooter_per_area_list = np.arange(2,17)\n",
    "max_kl_list_grid = np.array([avg_kl_max_2,\n",
    "                                avg_kl_max_3,\n",
    "                                avg_kl_max_4,\n",
    "                                avg_kl_max_5,\n",
    "                                avg_kl_max_6,\n",
    "                                avg_kl_max_7,\n",
    "                                avg_kl_max_8,\n",
    "                                avg_kl_max_9,\n",
    "                                avg_kl_max_10,\n",
    "                                avg_kl_max_11,\n",
    "                                avg_kl_max_12,\n",
    "                                avg_kl_max_13,\n",
    "                                avg_kl_max_14,\n",
    "                                avg_kl_max_15,\n",
    "                                avg_kl_max_16])\n",
    "max_kl_mean_grid = np.mean(max_kl_list_grid, axis=1)\n",
    "max_kl_std_grid = np.std(max_kl_list_grid, axis=1)\n",
    "\n",
    "print(\"Plotting resulting graph...\")\n",
    "# plt.figure(figsize = (12, 9))\n",
    "l1 = plt.errorbar(max_scooter_per_area_list, max_kl_mean_grid, yerr=max_kl_std_grid, fmt='o-', capsize=5) # ecolor='gray', \n",
    "\n",
    "print(\"Plotting baseline 1...\")\n",
    "# plt.legend(loc='best',prop={'size': 10})\n",
    "plt.ylabel(\"KL divergence\")\n",
    "plt.xlabel(\"max_scooter_per_area\")\n",
    "\n",
    "print(\"End: \" + datetime.now().strftime('%Y-%m-%d %H:%M:%S'))"
   ]
  },
  {
   "cell_type": "code",
   "execution_count": 202,
   "id": "de88d769",
   "metadata": {},
   "outputs": [
    {
     "data": {
      "text/plain": [
       "array([[1.18154983, 1.26109811, 1.32667812, 1.25168944, 1.21249652,\n",
       "        1.24562062, 1.16737699, 1.17070134, 1.17294457, 1.12570484],\n",
       "       [1.12565434, 1.10297162, 1.13060902, 1.06959849, 1.13561009,\n",
       "        1.11001841, 1.10431064, 1.14346692, 1.21814147, 1.2185859 ],\n",
       "       [1.10321231, 1.08810703, 1.1090042 , 1.07963399, 1.09633756,\n",
       "        1.09001373, 1.19655546, 1.07464275, 1.14046529, 1.09020855],\n",
       "       [1.11650682, 1.08121069, 1.14720768, 1.1301597 , 1.07079914,\n",
       "        1.19086386, 1.07601827, 1.08808844, 1.1209154 , 1.11651506],\n",
       "       [1.08934978, 1.20113167, 1.07256141, 1.09127209, 1.12426878,\n",
       "        1.06512059, 1.14115914, 1.11176072, 1.10136631, 1.10864031],\n",
       "       [1.1617084 , 1.15982911, 1.0584721 , 1.08920241, 1.19781785,\n",
       "        1.13995636, 1.07545333, 1.19373762, 1.09345066, 1.10936001],\n",
       "       [1.05742888, 1.08997317, 1.09461725, 1.06435985, 1.17762785,\n",
       "        1.08460879, 1.05642188, 1.11747919, 1.09117844, 1.10618883],\n",
       "       [1.10203506, 1.0796647 , 1.05428187, 1.09779918, 1.06368886,\n",
       "        1.07862345, 1.06409401, 1.1325708 , 1.07817057, 1.02814345],\n",
       "       [1.10338377, 1.08944093, 1.08728467, 1.12698322, 1.12102038,\n",
       "        1.1804412 , 1.12244478, 1.0748621 , 1.11344963, 1.09454014],\n",
       "       [1.12865606, 1.12081537, 1.09876298, 1.08747377, 1.11602993,\n",
       "        1.18175769, 1.14750841, 1.09275417, 1.15332246, 1.08792596],\n",
       "       [1.06021269, 1.12995882, 1.17701171, 1.08213103, 1.07388651,\n",
       "        1.07032346, 1.05120086, 1.05914303, 1.06238206, 1.05970998],\n",
       "       [1.05880181, 1.09706224, 1.13905126, 1.13144863, 1.0885843 ,\n",
       "        1.16619706, 1.15608675, 1.1066327 , 1.13513668, 1.08567239],\n",
       "       [1.12956902, 1.04346583, 1.09516539, 1.15488622, 1.05098271,\n",
       "        1.2229614 , 1.14728706, 1.11498726, 1.09711287, 1.07478442],\n",
       "       [1.09152145, 1.08140815, 1.13928316, 1.13097705, 1.22103792,\n",
       "        1.05656064, 1.07341479, 1.07732991, 1.17118905, 1.05102078],\n",
       "       [1.2097439 , 1.12832672, 1.10078043, 1.16346067, 1.09429772,\n",
       "        1.09021818, 1.2147285 , 1.06548556, 1.07108323, 1.05610867]])"
      ]
     },
     "execution_count": 202,
     "metadata": {},
     "output_type": "execute_result"
    }
   ],
   "source": [
    "max_kl_list_grid"
   ]
  },
  {
   "cell_type": "code",
   "execution_count": 203,
   "id": "5c7576f9",
   "metadata": {},
   "outputs": [
    {
     "name": "stdout",
     "output_type": "stream",
     "text": [
      "End: 2025-07-10 14:30:18\n",
      "Plotting resulting graph...\n",
      "Plotting baseline 1...\n",
      "End: 2025-07-10 14:30:18\n"
     ]
    },
    {
     "data": {
      "image/png": "[encoded data removed]",
      "text/plain": [
       "<Figure size 432x288 with 1 Axes>"
      ]
     },
     "metadata": {
      "needs_background": "light"
     },
     "output_type": "display_data"
    }
   ],
   "source": [
    "# Plot the graphs of average rewards during testing phases of the policy\n",
    "# gradient method and the hand-crafted policies\n",
    "\n",
    "print(\"End: \" + datetime.now().strftime('%Y-%m-%d %H:%M:%S'))\n",
    "\n",
    "max_scooter_per_area_list = np.arange(2,17)\n",
    "max_kl_list_grid = [np.array(avg_kl_max_2)[sel_index_2],\n",
    "                        np.array(avg_kl_max_3)[sel_index_3],\n",
    "                        np.array(avg_kl_max_4)[sel_index_4],\n",
    "                        np.array(avg_kl_max_5)[sel_index_5],\n",
    "                        np.array(avg_kl_max_6)[sel_index_6],\n",
    "                        np.array(avg_kl_max_7)[sel_index_7],\n",
    "                        np.array(avg_kl_max_8)[sel_index_8],\n",
    "                        np.array(avg_kl_max_9)[sel_index_9],\n",
    "                        np.array(avg_kl_max_10)[sel_index_10],\n",
    "                        np.array(avg_kl_max_11)[sel_index_11],\n",
    "                        np.array(avg_kl_max_12)[sel_index_12],\n",
    "                        np.array(avg_kl_max_13)[sel_index_13],\n",
    "                        np.array(avg_kl_max_14)[sel_index_14],\n",
    "                        np.array(avg_kl_max_15)[sel_index_15],\n",
    "                        np.array(avg_kl_max_16)[sel_index_16]]\n",
    "max_kl_mean_grid = []\n",
    "max_kl_std_grid = []\n",
    "for ii in range(len(max_scooter_per_area_list)):\n",
    "    max_kl_mean_grid.append(np.mean(max_kl_list_grid[ii]))\n",
    "    max_kl_std_grid.append(np.std(max_kl_list_grid[ii]))\n",
    "\n",
    "print(\"Plotting resulting graph...\")\n",
    "# plt.figure(figsize = (12, 9))\n",
    "l1 = plt.errorbar(max_scooter_per_area_list, max_kl_mean_grid, yerr=max_kl_std_grid, fmt='o-', capsize=5) # ecolor='gray', \n",
    "\n",
    "print(\"Plotting baseline 1...\")\n",
    "# plt.legend(loc='best',prop={'size': 10})\n",
    "plt.ylabel(\"KL divergence\")\n",
    "plt.xlabel(\"max_scooter_per_area\")\n",
    "\n",
    "print(\"End: \" + datetime.now().strftime('%Y-%m-%d %H:%M:%S'))"
   ]
  },
  {
   "cell_type": "code",
   "execution_count": null,
   "id": "85520208",
   "metadata": {},
   "outputs": [],
   "source": []
  }
 ],
 "metadata": {
  "kernelspec": {
   "display_name": "Python 3 (ipykernel)",
   "language": "python",
   "name": "python3"
  },
  "language_info": {
   "codemirror_mode": {
    "name": "ipython",
    "version": 3
   },
   "file_extension": ".py",
   "mimetype": "text/x-python",
   "name": "python",
   "nbconvert_exporter": "python",
   "pygments_lexer": "ipython3",
   "version": "3.9.12"
  }
 },
 "nbformat": 4,
 "nbformat_minor": 5
}

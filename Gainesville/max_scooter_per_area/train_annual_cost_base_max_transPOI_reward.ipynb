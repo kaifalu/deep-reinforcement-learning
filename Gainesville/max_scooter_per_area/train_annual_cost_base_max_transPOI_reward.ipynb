{
 "cells": [
  {
   "cell_type": "markdown",
   "id": "203270d1",
   "metadata": {},
   "source": [
    "### Import"
   ]
  },
  {
   "cell_type": "code",
   "execution_count": 1,
   "id": "3f4333d3",
   "metadata": {},
   "outputs": [
    {
     "name": "stdout",
     "output_type": "stream",
     "text": [
      "Start: 2025-07-13 05:12:56\n"
     ]
    }
   ],
   "source": [
    "import sys\n",
    "import os\n",
    "import matplotlib.pyplot as plt\n",
    "from datetime import datetime, timedelta\n",
    "import pandas as pd\n",
    "import geopandas as gpd\n",
    "import numpy as np\n",
    "import matplotlib.pyplot as plt\n",
    "from shapely.geometry import Point, shape\n",
    "import seaborn as sns\n",
    "import random\n",
    "from mpl_toolkits.axes_grid1 import make_axes_locatable\n",
    "# import datetime\n",
    "\n",
    "sys.path.insert(0, '../..')\n",
    "\n",
    "print(\"Start: \" + datetime.now().strftime('%Y-%m-%d %H:%M:%S'))\n",
    "\n",
    "from network_v12_13_max import *\n",
    "from helper_v12_13_max import *"
   ]
  },
  {
   "cell_type": "markdown",
   "id": "a0dd7f1e",
   "metadata": {},
   "source": [
    "### Initialization"
   ]
  },
  {
   "cell_type": "markdown",
   "id": "ac6bac25",
   "metadata": {},
   "source": [
    "#### define agent and gnv boundary"
   ]
  },
  {
   "cell_type": "code",
   "execution_count": 2,
   "id": "f7d075cd",
   "metadata": {},
   "outputs": [
    {
     "data": {
      "text/html": [
       "<div>\n",
       "<style scoped>\n",
       "    .dataframe tbody tr th:only-of-type {\n",
       "        vertical-align: middle;\n",
       "    }\n",
       "\n",
       "    .dataframe tbody tr th {\n",
       "        vertical-align: top;\n",
       "    }\n",
       "\n",
       "    .dataframe thead th {\n",
       "        text-align: right;\n",
       "    }\n",
       "</style>\n",
       "<table border=\"1\" class=\"dataframe\">\n",
       "  <thead>\n",
       "    <tr style=\"text-align: right;\">\n",
       "      <th></th>\n",
       "      <th>level_0</th>\n",
       "      <th>index</th>\n",
       "      <th>latitude</th>\n",
       "      <th>longitude</th>\n",
       "      <th>departure_rate</th>\n",
       "      <th>arrival_rate</th>\n",
       "      <th>dist_transPOI</th>\n",
       "      <th>num_transPOI</th>\n",
       "      <th>dist_bus_stop</th>\n",
       "      <th>num_bus_stop</th>\n",
       "      <th>rider_test_list</th>\n",
       "      <th>geometry</th>\n",
       "    </tr>\n",
       "  </thead>\n",
       "  <tbody>\n",
       "    <tr>\n",
       "      <th>0</th>\n",
       "      <td>0</td>\n",
       "      <td>29</td>\n",
       "      <td>29.658570</td>\n",
       "      <td>-82.415016</td>\n",
       "      <td>0.022484</td>\n",
       "      <td>0.038544</td>\n",
       "      <td>0.081538</td>\n",
       "      <td>1.0</td>\n",
       "      <td>0.030854</td>\n",
       "      <td>1.0</td>\n",
       "      <td>0</td>\n",
       "      <td>POINT (-82.41501609853275 29.65857013179353)</td>\n",
       "    </tr>\n",
       "    <tr>\n",
       "      <th>1</th>\n",
       "      <td>1</td>\n",
       "      <td>30</td>\n",
       "      <td>29.660371</td>\n",
       "      <td>-82.414990</td>\n",
       "      <td>0.002141</td>\n",
       "      <td>0.005353</td>\n",
       "      <td>1.000000</td>\n",
       "      <td>0.0</td>\n",
       "      <td>1.000000</td>\n",
       "      <td>0.0</td>\n",
       "      <td>0</td>\n",
       "      <td>POINT (-82.4149895039865 29.660371378494247)</td>\n",
       "    </tr>\n",
       "    <tr>\n",
       "      <th>2</th>\n",
       "      <td>2</td>\n",
       "      <td>47</td>\n",
       "      <td>29.654944</td>\n",
       "      <td>-82.413000</td>\n",
       "      <td>0.001071</td>\n",
       "      <td>0.002141</td>\n",
       "      <td>1.000000</td>\n",
       "      <td>0.0</td>\n",
       "      <td>1.000000</td>\n",
       "      <td>0.0</td>\n",
       "      <td>0</td>\n",
       "      <td>POINT (-82.41300040184892 29.654944475167262)</td>\n",
       "    </tr>\n",
       "    <tr>\n",
       "      <th>3</th>\n",
       "      <td>3</td>\n",
       "      <td>48</td>\n",
       "      <td>29.656746</td>\n",
       "      <td>-82.412974</td>\n",
       "      <td>0.004283</td>\n",
       "      <td>0.008565</td>\n",
       "      <td>1.000000</td>\n",
       "      <td>0.0</td>\n",
       "      <td>1.000000</td>\n",
       "      <td>0.0</td>\n",
       "      <td>0</td>\n",
       "      <td>POINT (-82.41297377438231 29.65674571873145)</td>\n",
       "    </tr>\n",
       "    <tr>\n",
       "      <th>4</th>\n",
       "      <td>4</td>\n",
       "      <td>49</td>\n",
       "      <td>29.658547</td>\n",
       "      <td>-82.412947</td>\n",
       "      <td>0.078158</td>\n",
       "      <td>0.100642</td>\n",
       "      <td>1.000000</td>\n",
       "      <td>0.0</td>\n",
       "      <td>1.000000</td>\n",
       "      <td>0.0</td>\n",
       "      <td>1</td>\n",
       "      <td>POINT (-82.41294714602218 29.6585469636598)</td>\n",
       "    </tr>\n",
       "  </tbody>\n",
       "</table>\n",
       "</div>"
      ],
      "text/plain": [
       "   level_0  index   latitude  longitude  departure_rate  arrival_rate  \\\n",
       "0        0     29  29.658570 -82.415016        0.022484      0.038544   \n",
       "1        1     30  29.660371 -82.414990        0.002141      0.005353   \n",
       "2        2     47  29.654944 -82.413000        0.001071      0.002141   \n",
       "3        3     48  29.656746 -82.412974        0.004283      0.008565   \n",
       "4        4     49  29.658547 -82.412947        0.078158      0.100642   \n",
       "\n",
       "   dist_transPOI  num_transPOI  dist_bus_stop  num_bus_stop  rider_test_list  \\\n",
       "0       0.081538           1.0       0.030854           1.0                0   \n",
       "1       1.000000           0.0       1.000000           0.0                0   \n",
       "2       1.000000           0.0       1.000000           0.0                0   \n",
       "3       1.000000           0.0       1.000000           0.0                0   \n",
       "4       1.000000           0.0       1.000000           0.0                1   \n",
       "\n",
       "                                        geometry  \n",
       "0   POINT (-82.41501609853275 29.65857013179353)  \n",
       "1   POINT (-82.4149895039865 29.660371378494247)  \n",
       "2  POINT (-82.41300040184892 29.654944475167262)  \n",
       "3   POINT (-82.41297377438231 29.65674571873145)  \n",
       "4    POINT (-82.41294714602218 29.6585469636598)  "
      ]
     },
     "execution_count": 2,
     "metadata": {},
     "output_type": "execute_result"
    }
   ],
   "source": [
    "fl_city_boundary = gpd.read_file('Map/fl_city_boundary.shp')\n",
    "Gainesville_boundary = fl_city_boundary.loc[fl_city_boundary['NAME'] == 'GAINESVILLE'].reset_index(drop=True)\n",
    "Gainesville_boundary['geometry'] = Gainesville_boundary['geometry'].to_crs('epsg:4326')\n",
    "\n",
    "grid_centroid_gdf = pd.read_csv('grid_centroid_gdf.csv')\n",
    "grid_centroid_gdf = grid_centroid_gdf.drop(columns = {'geometry'}, axis = 1)\n",
    "grid_centroid_gdf['geometry'] = grid_centroid_gdf[['longitude', 'latitude']].values.tolist()\n",
    "grid_centroid_gdf['geometry'] = grid_centroid_gdf['geometry'].apply(Point)\n",
    "\n",
    "grid_centroid_gdf = grid_centroid_gdf.loc[grid_centroid_gdf['departure_rate'] > 0].reset_index()\n",
    "\n",
    "grid_centroid_gdf.head()"
   ]
  },
  {
   "cell_type": "markdown",
   "id": "eb76019d",
   "metadata": {},
   "source": [
    "#### scooter-sharing system configure"
   ]
  },
  {
   "cell_type": "code",
   "execution_count": 3,
   "id": "380e0ff5",
   "metadata": {},
   "outputs": [],
   "source": [
    "service_areas = [] # replace stations\n",
    "for i in range (len(grid_centroid_gdf)):\n",
    "    service_areas.append((i, grid_centroid_gdf.geometry.iloc[i], grid_centroid_gdf.departure_rate.iloc[i], grid_centroid_gdf.arrival_rate.iloc[i], grid_centroid_gdf.dist_transPOI.iloc[i], grid_centroid_gdf.num_transPOI.iloc[i]))\n",
    "\n",
    "# Parameter setups for the reward system and elements of the environment.\n",
    "docked_cost_per_deploy = 50/365 # each dock cost 500\n",
    "scooter_cost_per_deploy = 25/365 # each scooter 250\n",
    "no_scooter_penalty = 0.5 # 0.5\n",
    "reward_per_rider = 0.2 # 0.2\n",
    "max_scooter_per_area = 8\n",
    "nS = len(service_areas)\n",
    "equity_penalty = 100.0\n",
    "logistics_car_cost_per_mile = 1.0\n",
    "\n",
    "# reward_num_transPOI = 0.01\n",
    "penalty_dist_transPOI = 0.1\n",
    "\n",
    "# dist_transPOI_penalty = 0.5\n",
    "# low_usage_penalty = 1\n",
    "# dist_bus_stop_penalty = 0.2\n",
    "# reward_bus_scooter_coverage = 0.2"
   ]
  },
  {
   "cell_type": "markdown",
   "id": "09b4e97b",
   "metadata": {},
   "source": [
    "#### RL model configure"
   ]
  },
  {
   "cell_type": "code",
   "execution_count": 4,
   "id": "09e74ce5",
   "metadata": {},
   "outputs": [],
   "source": [
    "# Parameter setups for the network and training process.\n",
    "learning_rate = 0.01\n",
    "n_iters = 25\n",
    "n_epochs = 500 # 2000\n",
    "display_step = 50 # 50\n",
    "batch_size = 256\n",
    "gamma = 0.9\n",
    "\n",
    "# The size of the state vector.\n",
    "nS = len(service_areas) # the number of service areas"
   ]
  },
  {
   "cell_type": "markdown",
   "id": "2ce3bd64",
   "metadata": {},
   "source": [
    "## reward_num_transPOI = 0.0"
   ]
  },
  {
   "cell_type": "code",
   "execution_count": 5,
   "id": "59b3076c",
   "metadata": {},
   "outputs": [
    {
     "name": "stdout",
     "output_type": "stream",
     "text": [
      "Starting policy gradient...\n",
      "Training in progress...\n",
      "Epoch 50, Average reward, unmet demand, met demand, scooter num, scooter loc, gini index unmet, gini index met, wANNR, moran, gini, theil, EMD, centroid change, dispersion change, kl divergence = -172.255, 97.000, 94.000, 178.000, 108.000, 0.960, 0.975, 0.477, 0.037, 0.947, 0.222, 2.012, 0.934, -1.842, 0.760\n",
      "Epoch 100, Average reward, unmet demand, met demand, scooter num, scooter loc, gini index unmet, gini index met, wANNR, moran, gini, theil, EMD, centroid change, dispersion change, kl divergence = -170.945, 100.000, 91.000, 160.000, 104.000, 0.962, 0.974, 0.452, 0.039, 0.946, 0.174, 2.058, 0.924, -1.914, 0.858\n",
      "Epoch 150, Average reward, unmet demand, met demand, scooter num, scooter loc, gini index unmet, gini index met, wANNR, moran, gini, theil, EMD, centroid change, dispersion change, kl divergence = -125.233, 29.000, 162.000, 180.600, 107.400, 0.988, 0.955, 0.481, 0.039, 0.947, 0.209, 2.005, 0.981, -1.723, 0.823\n",
      "Epoch 200, Average reward, unmet demand, met demand, scooter num, scooter loc, gini index unmet, gini index met, wANNR, moran, gini, theil, EMD, centroid change, dispersion change, kl divergence = -145.217, 60.000, 131.000, 172.600, 108.400, 0.978, 0.959, 0.470, 0.036, 0.945, 0.201, 1.950, 1.015, -1.701, 0.797\n",
      "Epoch 250, Average reward, unmet demand, met demand, scooter num, scooter loc, gini index unmet, gini index met, wANNR, moran, gini, theil, EMD, centroid change, dispersion change, kl divergence = -125.854, 29.600, 161.400, 182.000, 108.600, 0.989, 0.954, 0.482, 0.038, 0.946, 0.210, 1.963, 0.939, -1.681, 0.847\n",
      "Epoch 300, Average reward, unmet demand, met demand, scooter num, scooter loc, gini index unmet, gini index met, wANNR, moran, gini, theil, EMD, centroid change, dispersion change, kl divergence = -126.321, 31.400, 159.600, 176.600, 104.200, 0.988, 0.954, 0.475, 0.039, 0.948, 0.200, 2.005, 0.939, -1.728, 0.845\n",
      "Epoch 350, Average reward, unmet demand, met demand, scooter num, scooter loc, gini index unmet, gini index met, wANNR, moran, gini, theil, EMD, centroid change, dispersion change, kl divergence = -128.049, 34.600, 156.400, 174.600, 105.600, 0.987, 0.954, 0.472, 0.036, 0.947, 0.208, 1.976, 0.966, -1.698, 0.812\n",
      "Epoch 400, Average reward, unmet demand, met demand, scooter num, scooter loc, gini index unmet, gini index met, wANNR, moran, gini, theil, EMD, centroid change, dispersion change, kl divergence = -126.996, 32.200, 158.800, 178.000, 106.600, 0.987, 0.955, 0.477, 0.037, 0.948, 0.226, 2.009, 0.939, -1.747, 0.825\n",
      "Epoch 450, Average reward, unmet demand, met demand, scooter num, scooter loc, gini index unmet, gini index met, wANNR, moran, gini, theil, EMD, centroid change, dispersion change, kl divergence = -142.053, 58.400, 132.600, 160.200, 101.400, 0.976, 0.959, 0.452, 0.036, 0.949, 0.200, 1.974, 0.922, -1.732, 0.824\n",
      "Epoch 500, Average reward, unmet demand, met demand, scooter num, scooter loc, gini index unmet, gini index met, wANNR, moran, gini, theil, EMD, centroid change, dispersion change, kl divergence = -124.546, 28.400, 162.600, 178.600, 105.400, 0.989, 0.954, 0.478, 0.040, 0.948, 0.207, 2.025, 0.933, -1.751, 0.821\n"
     ]
    }
   ],
   "source": [
    "## tf.reset_default_graph() only works under tf 1.0\n",
    "reward_num_transPOI = 0.0\n",
    "\n",
    "# Set up the state-value estimator and policy estimator\n",
    "estimator_policy = PolicyEstimator(learning_rate, nS)\n",
    "estimator_value = StateValueEstimator(learning_rate, nS)\n",
    "\n",
    "rider_test_list = np.array(grid_centroid_gdf['rider_test_list'])\n",
    "\n",
    "# Initialize study area\n",
    "study_area = create_study_area(service_areas, max_scooter_per_area, scooter_cost_per_deploy, docked_cost_per_deploy, \\\n",
    "                   nS, no_scooter_penalty, reward_per_rider, equity_penalty, rider_test_list, logistics_car_cost_per_mile, \\\n",
    "                              penalty_dist_transPOI, reward_num_transPOI)\n",
    "\n",
    "# Add ops to save and restore all the variables\n",
    "\n",
    "print(\"Starting policy gradient...\")\n",
    "\n",
    "# Start training\n",
    "print(\"Training in progress...\")\n",
    "avg_reward_max_2, avg_unmet_demand_max_2, avg_met_demand_max_2, avg_scooter_num_max_2, avg_scooter_loc_max_2, avg_wANNR_max_2, avg_moran_max_2, avg_gini_max_2, avg_theil_max_2, avg_EMD_max_2, avg_centroid_max_2, avg_dispersion_max_2, avg_kl_max_2, scooter_list_max_2 = reinforce(study_area, nS, estimator_policy, estimator_value, n_epochs, n_iters, batch_size, display_step)"
   ]
  },
  {
   "cell_type": "markdown",
   "id": "d19ab151",
   "metadata": {},
   "source": [
    "## reward_num_transPOI = 0.1"
   ]
  },
  {
   "cell_type": "code",
   "execution_count": 6,
   "id": "ff1854b9",
   "metadata": {},
   "outputs": [
    {
     "name": "stdout",
     "output_type": "stream",
     "text": [
      "Starting policy gradient...\n",
      "Training in progress...\n",
      "Epoch 50, Average reward, unmet demand, met demand, scooter num, scooter loc, gini index unmet, gini index met, wANNR, moran, gini, theil, EMD, centroid change, dispersion change, kl divergence = 10.369, 28.000, 163.000, 179.200, 106.200, 0.989, 0.954, 0.478, 0.038, 0.948, 0.216, 1.993, 0.901, -1.721, 0.852\n",
      "Epoch 100, Average reward, unmet demand, met demand, scooter num, scooter loc, gini index unmet, gini index met, wANNR, moran, gini, theil, EMD, centroid change, dispersion change, kl divergence = 10.770, 27.200, 163.800, 179.200, 104.000, 0.988, 0.956, 0.478, 0.037, 0.949, 0.225, 2.000, 0.929, -1.728, 0.845\n",
      "Epoch 150, Average reward, unmet demand, met demand, scooter num, scooter loc, gini index unmet, gini index met, wANNR, moran, gini, theil, EMD, centroid change, dispersion change, kl divergence = 10.264, 28.800, 162.200, 176.000, 103.400, 0.989, 0.955, 0.474, 0.038, 0.949, 0.213, 1.994, 0.945, -1.712, 0.842\n",
      "Epoch 200, Average reward, unmet demand, met demand, scooter num, scooter loc, gini index unmet, gini index met, wANNR, moran, gini, theil, EMD, centroid change, dispersion change, kl divergence = 10.634, 27.800, 163.200, 177.400, 102.800, 0.989, 0.956, 0.476, 0.036, 0.950, 0.224, 1.983, 0.930, -1.691, 0.847\n",
      "Epoch 250, Average reward, unmet demand, met demand, scooter num, scooter loc, gini index unmet, gini index met, wANNR, moran, gini, theil, EMD, centroid change, dispersion change, kl divergence = 9.674, 29.200, 161.800, 178.000, 104.800, 0.988, 0.955, 0.477, 0.037, 0.949, 0.223, 1.995, 0.904, -1.724, 0.847\n",
      "Epoch 300, Average reward, unmet demand, met demand, scooter num, scooter loc, gini index unmet, gini index met, wANNR, moran, gini, theil, EMD, centroid change, dispersion change, kl divergence = 9.781, 29.200, 161.800, 177.200, 104.000, 0.990, 0.954, 0.476, 0.039, 0.949, 0.205, 2.021, 0.947, -1.749, 0.843\n",
      "Epoch 350, Average reward, unmet demand, met demand, scooter num, scooter loc, gini index unmet, gini index met, wANNR, moran, gini, theil, EMD, centroid change, dispersion change, kl divergence = -3.154, 48.600, 142.400, 174.200, 104.400, 0.981, 0.960, 0.472, 0.037, 0.948, 0.203, 1.982, 0.946, -1.732, 0.826\n",
      "Epoch 400, Average reward, unmet demand, met demand, scooter num, scooter loc, gini index unmet, gini index met, wANNR, moran, gini, theil, EMD, centroid change, dispersion change, kl divergence = 9.871, 28.000, 163.000, 181.200, 105.000, 0.989, 0.955, 0.481, 0.038, 0.949, 0.216, 2.015, 0.916, -1.767, 0.829\n",
      "Epoch 450, Average reward, unmet demand, met demand, scooter num, scooter loc, gini index unmet, gini index met, wANNR, moran, gini, theil, EMD, centroid change, dispersion change, kl divergence = 9.022, 30.200, 160.800, 178.400, 106.600, 0.988, 0.955, 0.478, 0.037, 0.947, 0.214, 1.984, 0.926, -1.694, 0.850\n",
      "Epoch 500, Average reward, unmet demand, met demand, scooter num, scooter loc, gini index unmet, gini index met, wANNR, moran, gini, theil, EMD, centroid change, dispersion change, kl divergence = 9.205, 28.600, 162.400, 182.400, 105.000, 0.989, 0.955, 0.483, 0.039, 0.949, 0.223, 2.025, 0.923, -1.747, 0.823\n"
     ]
    }
   ],
   "source": [
    "## tf.reset_default_graph() only works under tf 1.0\n",
    "reward_num_transPOI = 0.1\n",
    "\n",
    "# Set up the state-value estimator and policy estimator\n",
    "estimator_policy = PolicyEstimator(learning_rate, nS)\n",
    "estimator_value = StateValueEstimator(learning_rate, nS)\n",
    "\n",
    "rider_test_list = np.array(grid_centroid_gdf['rider_test_list'])\n",
    "\n",
    "# Initialize study area\n",
    "study_area = create_study_area(service_areas, max_scooter_per_area, scooter_cost_per_deploy, docked_cost_per_deploy, \\\n",
    "                   nS, no_scooter_penalty, reward_per_rider, equity_penalty, rider_test_list, logistics_car_cost_per_mile, \\\n",
    "                              penalty_dist_transPOI, reward_num_transPOI)\n",
    "\n",
    "# Add ops to save and restore all the variables\n",
    "\n",
    "print(\"Starting policy gradient...\")\n",
    "\n",
    "# Start training\n",
    "print(\"Training in progress...\")\n",
    "avg_reward_max_3, avg_unmet_demand_max_3, avg_met_demand_max_3, avg_scooter_num_max_3, avg_scooter_loc_max_3, avg_wANNR_max_3, avg_moran_max_3, avg_gini_max_3, avg_theil_max_3, avg_EMD_max_3, avg_centroid_max_3, avg_dispersion_max_3, avg_kl_max_3, scooter_list_max_3 = reinforce(study_area, nS, estimator_policy, estimator_value, n_epochs, n_iters, batch_size, display_step)"
   ]
  },
  {
   "cell_type": "markdown",
   "id": "327c6bf5",
   "metadata": {},
   "source": [
    "## reward_num_transPOI = 0.2"
   ]
  },
  {
   "cell_type": "code",
   "execution_count": 7,
   "id": "64b7497f",
   "metadata": {},
   "outputs": [
    {
     "name": "stdout",
     "output_type": "stream",
     "text": [
      "Starting policy gradient...\n",
      "Training in progress...\n",
      "Epoch 50, Average reward, unmet demand, met demand, scooter num, scooter loc, gini index unmet, gini index met, wANNR, moran, gini, theil, EMD, centroid change, dispersion change, kl divergence = 103.167, 89.000, 102.000, 177.000, 111.000, 0.960, 0.974, 0.476, 0.042, 0.944, 0.204, 2.031, 0.787, -1.854, 0.749\n",
      "Epoch 100, Average reward, unmet demand, met demand, scooter num, scooter loc, gini index unmet, gini index met, wANNR, moran, gini, theil, EMD, centroid change, dispersion change, kl divergence = 97.840, 99.000, 92.000, 165.000, 100.000, 0.960, 0.976, 0.459, 0.039, 0.950, 0.189, 2.017, 0.923, -1.786, 0.741\n",
      "Epoch 150, Average reward, unmet demand, met demand, scooter num, scooter loc, gini index unmet, gini index met, wANNR, moran, gini, theil, EMD, centroid change, dispersion change, kl divergence = 125.459, 56.800, 134.200, 176.800, 107.000, 0.978, 0.959, 0.475, 0.038, 0.947, 0.198, 1.935, 0.907, -1.675, 0.808\n",
      "Epoch 200, Average reward, unmet demand, met demand, scooter num, scooter loc, gini index unmet, gini index met, wANNR, moran, gini, theil, EMD, centroid change, dispersion change, kl divergence = 98.817, 98.000, 93.000, 164.000, 101.000, 0.960, 0.974, 0.458, 0.049, 0.948, 0.168, 2.138, 0.989, -1.964, 0.648\n",
      "Epoch 250, Average reward, unmet demand, met demand, scooter num, scooter loc, gini index unmet, gini index met, wANNR, moran, gini, theil, EMD, centroid change, dispersion change, kl divergence = 132.627, 46.200, 144.800, 177.400, 105.200, 0.980, 0.961, 0.477, 0.035, 0.949, 0.226, 1.971, 0.931, -1.710, 0.831\n",
      "Epoch 300, Average reward, unmet demand, met demand, scooter num, scooter loc, gini index unmet, gini index met, wANNR, moran, gini, theil, EMD, centroid change, dispersion change, kl divergence = 146.830, 24.600, 166.400, 182.000, 105.600, 0.990, 0.955, 0.482, 0.038, 0.949, 0.226, 2.005, 0.924, -1.732, 0.839\n",
      "Epoch 350, Average reward, unmet demand, met demand, scooter num, scooter loc, gini index unmet, gini index met, wANNR, moran, gini, theil, EMD, centroid change, dispersion change, kl divergence = 142.901, 32.400, 158.600, 174.200, 104.600, 0.988, 0.954, 0.472, 0.039, 0.948, 0.201, 2.000, 0.924, -1.733, 0.831\n",
      "Epoch 400, Average reward, unmet demand, met demand, scooter num, scooter loc, gini index unmet, gini index met, wANNR, moran, gini, theil, EMD, centroid change, dispersion change, kl divergence = 144.747, 28.600, 162.400, 177.600, 103.000, 0.989, 0.955, 0.476, 0.036, 0.950, 0.233, 2.008, 0.900, -1.719, 0.846\n",
      "Epoch 450, Average reward, unmet demand, met demand, scooter num, scooter loc, gini index unmet, gini index met, wANNR, moran, gini, theil, EMD, centroid change, dispersion change, kl divergence = 145.751, 26.000, 165.000, 182.200, 104.800, 0.989, 0.955, 0.483, 0.037, 0.949, 0.232, 2.017, 0.906, -1.757, 0.821\n",
      "Epoch 500, Average reward, unmet demand, met demand, scooter num, scooter loc, gini index unmet, gini index met, wANNR, moran, gini, theil, EMD, centroid change, dispersion change, kl divergence = 144.862, 28.400, 162.600, 178.000, 103.800, 0.988, 0.955, 0.477, 0.037, 0.949, 0.223, 2.030, 0.982, -1.755, 0.830\n"
     ]
    }
   ],
   "source": [
    "## tf.reset_default_graph() only works under tf 1.0\n",
    "reward_num_transPOI = 0.2\n",
    "\n",
    "# Set up the state-value estimator and policy estimator\n",
    "estimator_policy = PolicyEstimator(learning_rate, nS)\n",
    "estimator_value = StateValueEstimator(learning_rate, nS)\n",
    "\n",
    "rider_test_list = np.array(grid_centroid_gdf['rider_test_list'])\n",
    "\n",
    "# Initialize study area\n",
    "study_area = create_study_area(service_areas, max_scooter_per_area, scooter_cost_per_deploy, docked_cost_per_deploy, \\\n",
    "                   nS, no_scooter_penalty, reward_per_rider, equity_penalty, rider_test_list, logistics_car_cost_per_mile, \\\n",
    "                              penalty_dist_transPOI, reward_num_transPOI)\n",
    "\n",
    "# Add ops to save and restore all the variables\n",
    "\n",
    "print(\"Starting policy gradient...\")\n",
    "\n",
    "# Start training\n",
    "print(\"Training in progress...\")\n",
    "avg_reward_max_4, avg_unmet_demand_max_4, avg_met_demand_max_4, avg_scooter_num_max_4, avg_scooter_loc_max_4, avg_wANNR_max_4, avg_moran_max_4, avg_gini_max_4, avg_theil_max_4, avg_EMD_max_4, avg_centroid_max_4, avg_dispersion_max_4, avg_kl_max_4, scooter_list_max_4 = reinforce(study_area, nS, estimator_policy, estimator_value, n_epochs, n_iters, batch_size, display_step)"
   ]
  },
  {
   "cell_type": "markdown",
   "id": "c37f7c91",
   "metadata": {},
   "source": [
    "## reward_num_transPOI = 0.3"
   ]
  },
  {
   "cell_type": "code",
   "execution_count": 8,
   "id": "88fdef7a",
   "metadata": {
    "scrolled": false
   },
   "outputs": [
    {
     "name": "stdout",
     "output_type": "stream",
     "text": [
      "Starting policy gradient...\n",
      "Training in progress...\n",
      "Epoch 50, Average reward, unmet demand, met demand, scooter num, scooter loc, gini index unmet, gini index met, wANNR, moran, gini, theil, EMD, centroid change, dispersion change, kl divergence = 233.672, 98.000, 93.000, 165.000, 106.000, 0.959, 0.975, 0.459, 0.041, 0.946, 0.187, 2.077, 1.062, -1.857, 0.795\n",
      "Epoch 100, Average reward, unmet demand, met demand, scooter num, scooter loc, gini index unmet, gini index met, wANNR, moran, gini, theil, EMD, centroid change, dispersion change, kl divergence = 234.474, 96.000, 95.000, 163.000, 92.000, 0.959, 0.977, 0.456, 0.035, 0.955, 0.209, 2.029, 0.870, -1.840, 0.720\n",
      "Epoch 150, Average reward, unmet demand, met demand, scooter num, scooter loc, gini index unmet, gini index met, wANNR, moran, gini, theil, EMD, centroid change, dispersion change, kl divergence = 230.966, 101.000, 90.000, 169.000, 109.000, 0.964, 0.972, 0.465, 0.042, 0.943, 0.165, 1.937, 0.964, -1.665, 0.813\n",
      "Epoch 200, Average reward, unmet demand, met demand, scooter num, scooter loc, gini index unmet, gini index met, wANNR, moran, gini, theil, EMD, centroid change, dispersion change, kl divergence = 230.966, 101.000, 90.000, 169.000, 109.000, 0.964, 0.972, 0.465, 0.042, 0.943, 0.165, 1.937, 0.964, -1.665, 0.813\n",
      "Epoch 250, Average reward, unmet demand, met demand, scooter num, scooter loc, gini index unmet, gini index met, wANNR, moran, gini, theil, EMD, centroid change, dispersion change, kl divergence = 230.966, 101.000, 90.000, 169.000, 109.000, 0.964, 0.972, 0.465, 0.042, 0.943, 0.165, 1.937, 0.964, -1.665, 0.813\n",
      "Epoch 300, Average reward, unmet demand, met demand, scooter num, scooter loc, gini index unmet, gini index met, wANNR, moran, gini, theil, EMD, centroid change, dispersion change, kl divergence = 230.966, 101.000, 90.000, 169.000, 109.000, 0.964, 0.972, 0.465, 0.042, 0.943, 0.165, 1.937, 0.964, -1.665, 0.813\n",
      "Epoch 350, Average reward, unmet demand, met demand, scooter num, scooter loc, gini index unmet, gini index met, wANNR, moran, gini, theil, EMD, centroid change, dispersion change, kl divergence = 230.966, 101.000, 90.000, 169.000, 109.000, 0.964, 0.972, 0.465, 0.042, 0.943, 0.165, 1.937, 0.964, -1.665, 0.813\n",
      "Epoch 400, Average reward, unmet demand, met demand, scooter num, scooter loc, gini index unmet, gini index met, wANNR, moran, gini, theil, EMD, centroid change, dispersion change, kl divergence = 230.966, 101.000, 90.000, 169.000, 109.000, 0.964, 0.972, 0.465, 0.042, 0.943, 0.165, 1.937, 0.964, -1.665, 0.813\n",
      "Epoch 450, Average reward, unmet demand, met demand, scooter num, scooter loc, gini index unmet, gini index met, wANNR, moran, gini, theil, EMD, centroid change, dispersion change, kl divergence = 230.966, 101.000, 90.000, 169.000, 109.000, 0.964, 0.972, 0.465, 0.042, 0.943, 0.165, 1.937, 0.964, -1.665, 0.813\n",
      "Epoch 500, Average reward, unmet demand, met demand, scooter num, scooter loc, gini index unmet, gini index met, wANNR, moran, gini, theil, EMD, centroid change, dispersion change, kl divergence = 230.966, 101.000, 90.000, 169.000, 109.000, 0.964, 0.972, 0.465, 0.042, 0.943, 0.165, 1.937, 0.964, -1.665, 0.813\n"
     ]
    }
   ],
   "source": [
    "## tf.reset_default_graph() only works under tf 1.0\n",
    "reward_num_transPOI = 0.3\n",
    "\n",
    "# Set up the state-value estimator and policy estimator\n",
    "estimator_policy = PolicyEstimator(learning_rate, nS)\n",
    "estimator_value = StateValueEstimator(learning_rate, nS)\n",
    "\n",
    "rider_test_list = np.array(grid_centroid_gdf['rider_test_list'])\n",
    "\n",
    "# Initialize study area\n",
    "study_area = create_study_area(service_areas, max_scooter_per_area, scooter_cost_per_deploy, docked_cost_per_deploy, \\\n",
    "                   nS, no_scooter_penalty, reward_per_rider, equity_penalty, rider_test_list, logistics_car_cost_per_mile, \\\n",
    "                              penalty_dist_transPOI, reward_num_transPOI)\n",
    "\n",
    "# Add ops to save and restore all the variables\n",
    "\n",
    "print(\"Starting policy gradient...\")\n",
    "\n",
    "# Start training\n",
    "print(\"Training in progress...\")\n",
    "avg_reward_max_5, avg_unmet_demand_max_5, avg_met_demand_max_5, avg_scooter_num_max_5, avg_scooter_loc_max_5, avg_wANNR_max_5, avg_moran_max_5, avg_gini_max_5, avg_theil_max_5, avg_EMD_max_5, avg_centroid_max_5, avg_dispersion_max_5, avg_kl_max_5, scooter_list_max_5 = reinforce(study_area, nS, estimator_policy, estimator_value, n_epochs, n_iters, batch_size, display_step)"
   ]
  },
  {
   "cell_type": "markdown",
   "id": "1ba3f84b",
   "metadata": {},
   "source": [
    "## reward_num_transPOI = 0.4"
   ]
  },
  {
   "cell_type": "code",
   "execution_count": 9,
   "id": "5de8377d",
   "metadata": {},
   "outputs": [
    {
     "name": "stdout",
     "output_type": "stream",
     "text": [
      "Starting policy gradient...\n",
      "Training in progress...\n",
      "Epoch 50, Average reward, unmet demand, met demand, scooter num, scooter loc, gini index unmet, gini index met, wANNR, moran, gini, theil, EMD, centroid change, dispersion change, kl divergence = 414.113, 28.200, 162.800, 179.200, 103.200, 0.989, 0.955, 0.478, 0.039, 0.950, 0.217, 2.026, 0.939, -1.755, 0.836\n",
      "Epoch 100, Average reward, unmet demand, met demand, scooter num, scooter loc, gini index unmet, gini index met, wANNR, moran, gini, theil, EMD, centroid change, dispersion change, kl divergence = 413.051, 29.400, 161.600, 181.400, 106.400, 0.989, 0.955, 0.481, 0.039, 0.948, 0.216, 2.007, 0.945, -1.724, 0.830\n",
      "Epoch 150, Average reward, unmet demand, met demand, scooter num, scooter loc, gini index unmet, gini index met, wANNR, moran, gini, theil, EMD, centroid change, dispersion change, kl divergence = 401.550, 47.200, 143.800, 175.400, 102.600, 0.983, 0.958, 0.473, 0.040, 0.950, 0.215, 2.046, 0.921, -1.796, 0.802\n",
      "Epoch 200, Average reward, unmet demand, met demand, scooter num, scooter loc, gini index unmet, gini index met, wANNR, moran, gini, theil, EMD, centroid change, dispersion change, kl divergence = 409.482, 36.600, 154.400, 174.800, 108.000, 0.986, 0.955, 0.473, 0.037, 0.945, 0.207, 1.967, 0.991, -1.667, 0.847\n",
      "Epoch 250, Average reward, unmet demand, met demand, scooter num, scooter loc, gini index unmet, gini index met, wANNR, moran, gini, theil, EMD, centroid change, dispersion change, kl divergence = 414.495, 26.800, 164.200, 184.000, 108.600, 0.989, 0.955, 0.485, 0.037, 0.947, 0.221, 1.984, 0.958, -1.698, 0.859\n",
      "Epoch 300, Average reward, unmet demand, met demand, scooter num, scooter loc, gini index unmet, gini index met, wANNR, moran, gini, theil, EMD, centroid change, dispersion change, kl divergence = 401.975, 46.600, 144.400, 177.200, 107.800, 0.981, 0.960, 0.476, 0.041, 0.946, 0.196, 2.026, 0.931, -1.785, 0.811\n",
      "Epoch 350, Average reward, unmet demand, met demand, scooter num, scooter loc, gini index unmet, gini index met, wANNR, moran, gini, theil, EMD, centroid change, dispersion change, kl divergence = 414.474, 25.800, 165.200, 186.600, 106.000, 0.989, 0.956, 0.488, 0.039, 0.949, 0.230, 2.027, 0.912, -1.766, 0.798\n",
      "Epoch 400, Average reward, unmet demand, met demand, scooter num, scooter loc, gini index unmet, gini index met, wANNR, moran, gini, theil, EMD, centroid change, dispersion change, kl divergence = 414.014, 28.400, 162.600, 180.400, 107.200, 0.990, 0.953, 0.480, 0.039, 0.947, 0.204, 1.977, 0.920, -1.693, 0.869\n",
      "Epoch 450, Average reward, unmet demand, met demand, scooter num, scooter loc, gini index unmet, gini index met, wANNR, moran, gini, theil, EMD, centroid change, dispersion change, kl divergence = 413.998, 28.200, 162.800, 180.600, 105.600, 0.989, 0.955, 0.480, 0.039, 0.948, 0.220, 2.009, 0.944, -1.737, 0.845\n",
      "Epoch 500, Average reward, unmet demand, met demand, scooter num, scooter loc, gini index unmet, gini index met, wANNR, moran, gini, theil, EMD, centroid change, dispersion change, kl divergence = 412.433, 30.400, 160.600, 181.000, 106.400, 0.990, 0.954, 0.481, 0.039, 0.947, 0.202, 1.983, 0.938, -1.710, 0.833\n"
     ]
    }
   ],
   "source": [
    "## tf.reset_default_graph() only works under tf 1.0\n",
    "reward_num_transPOI = 0.4\n",
    "\n",
    "# Set up the state-value estimator and policy estimator\n",
    "estimator_policy = PolicyEstimator(learning_rate, nS)\n",
    "estimator_value = StateValueEstimator(learning_rate, nS)\n",
    "\n",
    "rider_test_list = np.array(grid_centroid_gdf['rider_test_list'])\n",
    "\n",
    "# Initialize study area\n",
    "study_area = create_study_area(service_areas, max_scooter_per_area, scooter_cost_per_deploy, docked_cost_per_deploy, \\\n",
    "                   nS, no_scooter_penalty, reward_per_rider, equity_penalty, rider_test_list, logistics_car_cost_per_mile, \\\n",
    "                              penalty_dist_transPOI, reward_num_transPOI)\n",
    "\n",
    "# Add ops to save and restore all the variables\n",
    "\n",
    "print(\"Starting policy gradient...\")\n",
    "\n",
    "# Start training\n",
    "print(\"Training in progress...\")\n",
    "avg_reward_max_6, avg_unmet_demand_max_6, avg_met_demand_max_6, avg_scooter_num_max_6, avg_scooter_loc_max_6, avg_wANNR_max_6, avg_moran_max_6, avg_gini_max_6, avg_theil_max_6, avg_EMD_max_6, avg_centroid_max_6, avg_dispersion_max_6, avg_kl_max_6, scooter_list_max_6 = reinforce(study_area, nS, estimator_policy, estimator_value, n_epochs, n_iters, batch_size, display_step)"
   ]
  },
  {
   "cell_type": "markdown",
   "id": "0c0df756",
   "metadata": {},
   "source": [
    "## reward_num_transPOI = 0.5"
   ]
  },
  {
   "cell_type": "code",
   "execution_count": 10,
   "id": "7927ff81",
   "metadata": {},
   "outputs": [
    {
     "name": "stdout",
     "output_type": "stream",
     "text": [
      "Starting policy gradient...\n",
      "Training in progress...\n",
      "Epoch 50, Average reward, unmet demand, met demand, scooter num, scooter loc, gini index unmet, gini index met, wANNR, moran, gini, theil, EMD, centroid change, dispersion change, kl divergence = 538.197, 41.000, 150.000, 188.800, 107.600, 0.982, 0.960, 0.491, 0.042, 0.948, 0.220, 2.042, 0.921, -1.800, 0.776\n",
      "Epoch 100, Average reward, unmet demand, met demand, scooter num, scooter loc, gini index unmet, gini index met, wANNR, moran, gini, theil, EMD, centroid change, dispersion change, kl divergence = 546.883, 31.600, 159.400, 178.200, 106.600, 0.988, 0.954, 0.477, 0.040, 0.947, 0.197, 1.995, 0.925, -1.727, 0.867\n",
      "Epoch 150, Average reward, unmet demand, met demand, scooter num, scooter loc, gini index unmet, gini index met, wANNR, moran, gini, theil, EMD, centroid change, dispersion change, kl divergence = 548.886, 27.600, 163.400, 181.800, 105.800, 0.990, 0.955, 0.482, 0.036, 0.948, 0.213, 1.979, 0.964, -1.713, 0.830\n",
      "Epoch 200, Average reward, unmet demand, met demand, scooter num, scooter loc, gini index unmet, gini index met, wANNR, moran, gini, theil, EMD, centroid change, dispersion change, kl divergence = 545.654, 34.400, 156.600, 173.800, 104.200, 0.989, 0.953, 0.471, 0.039, 0.948, 0.191, 1.991, 0.940, -1.707, 0.841\n",
      "Epoch 250, Average reward, unmet demand, met demand, scooter num, scooter loc, gini index unmet, gini index met, wANNR, moran, gini, theil, EMD, centroid change, dispersion change, kl divergence = 545.899, 33.200, 157.800, 177.400, 106.200, 0.988, 0.954, 0.477, 0.038, 0.947, 0.198, 1.978, 0.956, -1.703, 0.829\n",
      "Epoch 300, Average reward, unmet demand, met demand, scooter num, scooter loc, gini index unmet, gini index met, wANNR, moran, gini, theil, EMD, centroid change, dispersion change, kl divergence = 547.275, 31.600, 159.400, 175.800, 105.200, 0.989, 0.954, 0.474, 0.039, 0.947, 0.196, 1.977, 0.954, -1.696, 0.838\n",
      "Epoch 350, Average reward, unmet demand, met demand, scooter num, scooter loc, gini index unmet, gini index met, wANNR, moran, gini, theil, EMD, centroid change, dispersion change, kl divergence = 548.828, 27.800, 163.200, 181.400, 105.800, 0.989, 0.955, 0.481, 0.040, 0.948, 0.213, 2.028, 0.939, -1.747, 0.821\n",
      "Epoch 400, Average reward, unmet demand, met demand, scooter num, scooter loc, gini index unmet, gini index met, wANNR, moran, gini, theil, EMD, centroid change, dispersion change, kl divergence = 549.064, 26.600, 164.400, 184.200, 105.400, 0.988, 0.956, 0.485, 0.035, 0.949, 0.239, 1.981, 0.901, -1.709, 0.826\n",
      "Epoch 450, Average reward, unmet demand, met demand, scooter num, scooter loc, gini index unmet, gini index met, wANNR, moran, gini, theil, EMD, centroid change, dispersion change, kl divergence = 546.580, 32.600, 158.400, 176.200, 106.400, 0.988, 0.953, 0.475, 0.039, 0.947, 0.200, 1.991, 0.933, -1.723, 0.828\n",
      "Epoch 500, Average reward, unmet demand, met demand, scooter num, scooter loc, gini index unmet, gini index met, wANNR, moran, gini, theil, EMD, centroid change, dispersion change, kl divergence = 537.752, 45.000, 146.000, 177.200, 107.200, 0.981, 0.960, 0.476, 0.037, 0.947, 0.210, 1.961, 0.958, -1.709, 0.786\n"
     ]
    }
   ],
   "source": [
    "## tf.reset_default_graph() only works under tf 1.0\n",
    "reward_num_transPOI = 0.5\n",
    "\n",
    "# Set up the state-value estimator and policy estimator\n",
    "estimator_policy = PolicyEstimator(learning_rate, nS)\n",
    "estimator_value = StateValueEstimator(learning_rate, nS)\n",
    "\n",
    "rider_test_list = np.array(grid_centroid_gdf['rider_test_list'])\n",
    "\n",
    "# Initialize study area\n",
    "study_area = create_study_area(service_areas, max_scooter_per_area, scooter_cost_per_deploy, docked_cost_per_deploy, \\\n",
    "                   nS, no_scooter_penalty, reward_per_rider, equity_penalty, rider_test_list, logistics_car_cost_per_mile, \\\n",
    "                              penalty_dist_transPOI, reward_num_transPOI)\n",
    "\n",
    "# Add ops to save and restore all the variables\n",
    "\n",
    "print(\"Starting policy gradient...\")\n",
    "\n",
    "# Start training\n",
    "print(\"Training in progress...\")\n",
    "avg_reward_max_7, avg_unmet_demand_max_7, avg_met_demand_max_7, avg_scooter_num_max_7, avg_scooter_loc_max_7, avg_wANNR_max_7, avg_moran_max_7, avg_gini_max_7, avg_theil_max_7, avg_EMD_max_7, avg_centroid_max_7, avg_dispersion_max_7, avg_kl_max_7, scooter_list_max_7 = reinforce(study_area, nS, estimator_policy, estimator_value, n_epochs, n_iters, batch_size, display_step)"
   ]
  },
  {
   "cell_type": "markdown",
   "id": "93e0783a",
   "metadata": {},
   "source": [
    "## reward_num_transPOI = 0.6"
   ]
  },
  {
   "cell_type": "code",
   "execution_count": 11,
   "id": "36be398b",
   "metadata": {},
   "outputs": [
    {
     "name": "stdout",
     "output_type": "stream",
     "text": [
      "Starting policy gradient...\n",
      "Training in progress...\n",
      "Epoch 50, Average reward, unmet demand, met demand, scooter num, scooter loc, gini index unmet, gini index met, wANNR, moran, gini, theil, EMD, centroid change, dispersion change, kl divergence = 659.612, 63.400, 127.600, 175.600, 103.200, 0.972, 0.967, 0.474, 0.037, 0.950, 0.220, 2.007, 0.996, -1.733, 0.794\n",
      "Epoch 100, Average reward, unmet demand, met demand, scooter num, scooter loc, gini index unmet, gini index met, wANNR, moran, gini, theil, EMD, centroid change, dispersion change, kl divergence = 683.521, 28.000, 163.000, 180.400, 104.800, 0.989, 0.955, 0.480, 0.038, 0.949, 0.213, 2.018, 0.968, -1.749, 0.809\n",
      "Epoch 150, Average reward, unmet demand, met demand, scooter num, scooter loc, gini index unmet, gini index met, wANNR, moran, gini, theil, EMD, centroid change, dispersion change, kl divergence = 673.763, 41.600, 149.400, 182.400, 107.200, 0.982, 0.959, 0.483, 0.041, 0.947, 0.211, 2.042, 0.947, -1.797, 0.772\n",
      "Epoch 200, Average reward, unmet demand, met demand, scooter num, scooter loc, gini index unmet, gini index met, wANNR, moran, gini, theil, EMD, centroid change, dispersion change, kl divergence = 672.515, 45.200, 145.800, 176.000, 106.600, 0.982, 0.959, 0.474, 0.039, 0.947, 0.208, 1.987, 0.913, -1.735, 0.852\n",
      "Epoch 250, Average reward, unmet demand, met demand, scooter num, scooter loc, gini index unmet, gini index met, wANNR, moran, gini, theil, EMD, centroid change, dispersion change, kl divergence = 677.858, 37.400, 153.600, 177.200, 108.400, 0.985, 0.954, 0.476, 0.041, 0.946, 0.208, 2.023, 0.933, -1.752, 0.784\n",
      "Epoch 300, Average reward, unmet demand, met demand, scooter num, scooter loc, gini index unmet, gini index met, wANNR, moran, gini, theil, EMD, centroid change, dispersion change, kl divergence = 682.142, 31.000, 160.000, 176.400, 103.400, 0.988, 0.955, 0.475, 0.038, 0.949, 0.209, 2.010, 0.939, -1.733, 0.840\n",
      "Epoch 350, Average reward, unmet demand, met demand, scooter num, scooter loc, gini index unmet, gini index met, wANNR, moran, gini, theil, EMD, centroid change, dispersion change, kl divergence = 657.174, 68.600, 122.400, 169.400, 102.200, 0.969, 0.967, 0.465, 0.042, 0.950, 0.214, 2.028, 0.863, -1.775, 0.793\n",
      "Epoch 400, Average reward, unmet demand, met demand, scooter num, scooter loc, gini index unmet, gini index met, wANNR, moran, gini, theil, EMD, centroid change, dispersion change, kl divergence = 681.431, 33.000, 158.000, 173.400, 104.400, 0.989, 0.953, 0.471, 0.040, 0.948, 0.197, 1.994, 0.927, -1.719, 0.818\n",
      "Epoch 450, Average reward, unmet demand, met demand, scooter num, scooter loc, gini index unmet, gini index met, wANNR, moran, gini, theil, EMD, centroid change, dispersion change, kl divergence = 666.576, 55.200, 135.800, 171.400, 108.200, 0.979, 0.959, 0.468, 0.038, 0.945, 0.193, 1.956, 0.986, -1.674, 0.860\n",
      "Epoch 500, Average reward, unmet demand, met demand, scooter num, scooter loc, gini index unmet, gini index met, wANNR, moran, gini, theil, EMD, centroid change, dispersion change, kl divergence = 671.219, 46.600, 144.400, 177.400, 106.200, 0.982, 0.959, 0.476, 0.039, 0.948, 0.226, 2.035, 0.924, -1.781, 0.822\n"
     ]
    }
   ],
   "source": [
    "## tf.reset_default_graph() only works under tf 1.0\n",
    "reward_num_transPOI = 0.6\n",
    "\n",
    "# Set up the state-value estimator and policy estimator\n",
    "estimator_policy = PolicyEstimator(learning_rate, nS)\n",
    "estimator_value = StateValueEstimator(learning_rate, nS)\n",
    "\n",
    "rider_test_list = np.array(grid_centroid_gdf['rider_test_list'])\n",
    "\n",
    "# Initialize study area\n",
    "study_area = create_study_area(service_areas, max_scooter_per_area, scooter_cost_per_deploy, docked_cost_per_deploy, \\\n",
    "                   nS, no_scooter_penalty, reward_per_rider, equity_penalty, rider_test_list, logistics_car_cost_per_mile, \\\n",
    "                              penalty_dist_transPOI, reward_num_transPOI)\n",
    "\n",
    "# Add ops to save and restore all the variables\n",
    "\n",
    "print(\"Starting policy gradient...\")\n",
    "\n",
    "# Start training\n",
    "print(\"Training in progress...\")\n",
    "avg_reward_max_8, avg_unmet_demand_max_8, avg_met_demand_max_8, avg_scooter_num_max_8, avg_scooter_loc_max_8, avg_wANNR_max_8, avg_moran_max_8, avg_gini_max_8, avg_theil_max_8, avg_EMD_max_8, avg_centroid_max_8, avg_dispersion_max_8, avg_kl_max_8, scooter_list_max_8 = reinforce(study_area, nS, estimator_policy, estimator_value, n_epochs, n_iters, batch_size, display_step)"
   ]
  },
  {
   "cell_type": "markdown",
   "id": "e083ec22",
   "metadata": {},
   "source": [
    "## reward_num_transPOI = 0.7"
   ]
  },
  {
   "cell_type": "code",
   "execution_count": 12,
   "id": "19adfab7",
   "metadata": {},
   "outputs": [
    {
     "name": "stdout",
     "output_type": "stream",
     "text": [
      "Starting policy gradient...\n",
      "Training in progress...\n",
      "Epoch 50, Average reward, unmet demand, met demand, scooter num, scooter loc, gini index unmet, gini index met, wANNR, moran, gini, theil, EMD, centroid change, dispersion change, kl divergence = 770.917, 100.000, 91.000, 164.000, 101.000, 0.961, 0.974, 0.458, 0.041, 0.949, 0.183, 2.035, 0.998, -1.778, 0.711\n",
      "Epoch 100, Average reward, unmet demand, met demand, scooter num, scooter loc, gini index unmet, gini index met, wANNR, moran, gini, theil, EMD, centroid change, dispersion change, kl divergence = 775.929, 94.000, 97.000, 159.000, 98.000, 0.962, 0.973, 0.451, 0.037, 0.951, 0.193, 1.995, 0.877, -1.783, 0.808\n",
      "Epoch 150, Average reward, unmet demand, met demand, scooter num, scooter loc, gini index unmet, gini index met, wANNR, moran, gini, theil, EMD, centroid change, dispersion change, kl divergence = 773.271, 94.000, 97.000, 180.000, 121.000, 0.967, 0.971, 0.480, 0.044, 0.937, 0.181, 1.988, 0.963, -1.771, 0.846\n",
      "Epoch 200, Average reward, unmet demand, met demand, scooter num, scooter loc, gini index unmet, gini index met, wANNR, moran, gini, theil, EMD, centroid change, dispersion change, kl divergence = 773.271, 94.000, 97.000, 180.000, 121.000, 0.967, 0.971, 0.480, 0.044, 0.937, 0.181, 1.988, 0.963, -1.771, 0.846\n",
      "Epoch 250, Average reward, unmet demand, met demand, scooter num, scooter loc, gini index unmet, gini index met, wANNR, moran, gini, theil, EMD, centroid change, dispersion change, kl divergence = 773.271, 94.000, 97.000, 180.000, 121.000, 0.967, 0.971, 0.480, 0.044, 0.937, 0.181, 1.988, 0.963, -1.771, 0.846\n",
      "Epoch 300, Average reward, unmet demand, met demand, scooter num, scooter loc, gini index unmet, gini index met, wANNR, moran, gini, theil, EMD, centroid change, dispersion change, kl divergence = 773.271, 94.000, 97.000, 180.000, 121.000, 0.967, 0.971, 0.480, 0.044, 0.937, 0.181, 1.988, 0.963, -1.771, 0.846\n",
      "Epoch 350, Average reward, unmet demand, met demand, scooter num, scooter loc, gini index unmet, gini index met, wANNR, moran, gini, theil, EMD, centroid change, dispersion change, kl divergence = 773.271, 94.000, 97.000, 180.000, 121.000, 0.967, 0.971, 0.480, 0.044, 0.937, 0.181, 1.988, 0.963, -1.771, 0.846\n",
      "Epoch 400, Average reward, unmet demand, met demand, scooter num, scooter loc, gini index unmet, gini index met, wANNR, moran, gini, theil, EMD, centroid change, dispersion change, kl divergence = 773.271, 94.000, 97.000, 180.000, 121.000, 0.967, 0.971, 0.480, 0.044, 0.937, 0.181, 1.988, 0.963, -1.771, 0.846\n",
      "Epoch 450, Average reward, unmet demand, met demand, scooter num, scooter loc, gini index unmet, gini index met, wANNR, moran, gini, theil, EMD, centroid change, dispersion change, kl divergence = 773.271, 94.000, 97.000, 180.000, 121.000, 0.967, 0.971, 0.480, 0.044, 0.937, 0.181, 1.988, 0.963, -1.771, 0.846\n",
      "Epoch 500, Average reward, unmet demand, met demand, scooter num, scooter loc, gini index unmet, gini index met, wANNR, moran, gini, theil, EMD, centroid change, dispersion change, kl divergence = 773.271, 94.000, 97.000, 180.000, 121.000, 0.967, 0.971, 0.480, 0.044, 0.937, 0.181, 1.988, 0.963, -1.771, 0.846\n"
     ]
    }
   ],
   "source": [
    "## tf.reset_default_graph() only works under tf 1.0\n",
    "reward_num_transPOI = 0.7\n",
    "\n",
    "# Set up the state-value estimator and policy estimator\n",
    "estimator_policy = PolicyEstimator(learning_rate, nS)\n",
    "estimator_value = StateValueEstimator(learning_rate, nS)\n",
    "\n",
    "rider_test_list = np.array(grid_centroid_gdf['rider_test_list'])\n",
    "\n",
    "# Initialize study area\n",
    "study_area = create_study_area(service_areas, max_scooter_per_area, scooter_cost_per_deploy, docked_cost_per_deploy, \\\n",
    "                   nS, no_scooter_penalty, reward_per_rider, equity_penalty, rider_test_list, logistics_car_cost_per_mile, \\\n",
    "                              penalty_dist_transPOI, reward_num_transPOI)\n",
    "\n",
    "# Add ops to save and restore all the variables\n",
    "\n",
    "print(\"Starting policy gradient...\")\n",
    "\n",
    "# Start training\n",
    "print(\"Training in progress...\")\n",
    "avg_reward_max_9, avg_unmet_demand_max_9, avg_met_demand_max_9, avg_scooter_num_max_9, avg_scooter_loc_max_9, avg_wANNR_max_9, avg_moran_max_9, avg_gini_max_9, avg_theil_max_9, avg_EMD_max_9, avg_centroid_max_9, avg_dispersion_max_9, avg_kl_max_9, scooter_list_max_9 = reinforce(study_area, nS, estimator_policy, estimator_value, n_epochs, n_iters, batch_size, display_step)"
   ]
  },
  {
   "cell_type": "markdown",
   "id": "c16ce03b",
   "metadata": {},
   "source": [
    "## reward_num_transPOI = 0.8"
   ]
  },
  {
   "cell_type": "code",
   "execution_count": 13,
   "id": "3683cc27",
   "metadata": {},
   "outputs": [
    {
     "name": "stdout",
     "output_type": "stream",
     "text": [
      "Starting policy gradient...\n",
      "Training in progress...\n",
      "Epoch 50, Average reward, unmet demand, met demand, scooter num, scooter loc, gini index unmet, gini index met, wANNR, moran, gini, theil, EMD, centroid change, dispersion change, kl divergence = 950.058, 33.200, 157.800, 177.600, 107.600, 0.987, 0.954, 0.477, 0.039, 0.946, 0.213, 1.989, 0.950, -1.702, 0.845\n",
      "Epoch 100, Average reward, unmet demand, met demand, scooter num, scooter loc, gini index unmet, gini index met, wANNR, moran, gini, theil, EMD, centroid change, dispersion change, kl divergence = 952.283, 30.400, 160.600, 174.000, 101.000, 0.988, 0.955, 0.472, 0.036, 0.951, 0.219, 1.984, 0.930, -1.685, 0.881\n",
      "Epoch 150, Average reward, unmet demand, met demand, scooter num, scooter loc, gini index unmet, gini index met, wANNR, moran, gini, theil, EMD, centroid change, dispersion change, kl divergence = 953.069, 28.600, 162.400, 178.200, 106.400, 0.990, 0.954, 0.478, 0.040, 0.947, 0.202, 1.985, 0.928, -1.686, 0.858\n",
      "Epoch 200, Average reward, unmet demand, met demand, scooter num, scooter loc, gini index unmet, gini index met, wANNR, moran, gini, theil, EMD, centroid change, dispersion change, kl divergence = 950.998, 31.400, 159.600, 178.600, 106.000, 0.989, 0.955, 0.478, 0.038, 0.947, 0.207, 1.976, 0.946, -1.697, 0.845\n",
      "Epoch 250, Average reward, unmet demand, met demand, scooter num, scooter loc, gini index unmet, gini index met, wANNR, moran, gini, theil, EMD, centroid change, dispersion change, kl divergence = 954.058, 25.000, 166.000, 186.000, 107.400, 0.989, 0.955, 0.488, 0.038, 0.948, 0.226, 2.008, 0.921, -1.729, 0.828\n",
      "Epoch 300, Average reward, unmet demand, met demand, scooter num, scooter loc, gini index unmet, gini index met, wANNR, moran, gini, theil, EMD, centroid change, dispersion change, kl divergence = 952.987, 28.000, 163.000, 179.800, 104.000, 0.989, 0.954, 0.479, 0.038, 0.949, 0.212, 2.028, 0.964, -1.765, 0.828\n",
      "Epoch 350, Average reward, unmet demand, met demand, scooter num, scooter loc, gini index unmet, gini index met, wANNR, moran, gini, theil, EMD, centroid change, dispersion change, kl divergence = 955.716, 23.200, 167.800, 182.800, 103.800, 0.990, 0.955, 0.483, 0.038, 0.950, 0.232, 2.034, 0.913, -1.774, 0.853\n",
      "Epoch 400, Average reward, unmet demand, met demand, scooter num, scooter loc, gini index unmet, gini index met, wANNR, moran, gini, theil, EMD, centroid change, dispersion change, kl divergence = 953.615, 27.200, 163.800, 179.400, 103.800, 0.989, 0.955, 0.479, 0.038, 0.949, 0.222, 2.028, 0.921, -1.767, 0.828\n",
      "Epoch 450, Average reward, unmet demand, met demand, scooter num, scooter loc, gini index unmet, gini index met, wANNR, moran, gini, theil, EMD, centroid change, dispersion change, kl divergence = 951.556, 29.200, 161.800, 183.800, 107.200, 0.989, 0.955, 0.485, 0.039, 0.948, 0.223, 2.012, 0.923, -1.749, 0.822\n",
      "Epoch 500, Average reward, unmet demand, met demand, scooter num, scooter loc, gini index unmet, gini index met, wANNR, moran, gini, theil, EMD, centroid change, dispersion change, kl divergence = 953.830, 26.200, 164.800, 182.600, 106.200, 0.989, 0.955, 0.483, 0.037, 0.948, 0.224, 1.989, 0.933, -1.697, 0.839\n"
     ]
    }
   ],
   "source": [
    "## tf.reset_default_graph() only works under tf 1.0\n",
    "reward_num_transPOI = 0.8\n",
    "\n",
    "# Set up the state-value estimator and policy estimator\n",
    "estimator_policy = PolicyEstimator(learning_rate, nS)\n",
    "estimator_value = StateValueEstimator(learning_rate, nS)\n",
    "\n",
    "rider_test_list = np.array(grid_centroid_gdf['rider_test_list'])\n",
    "\n",
    "# Initialize study area\n",
    "study_area = create_study_area(service_areas, max_scooter_per_area, scooter_cost_per_deploy, docked_cost_per_deploy, \\\n",
    "                   nS, no_scooter_penalty, reward_per_rider, equity_penalty, rider_test_list, logistics_car_cost_per_mile, \\\n",
    "                              penalty_dist_transPOI, reward_num_transPOI)\n",
    "\n",
    "# Add ops to save and restore all the variables\n",
    "\n",
    "print(\"Starting policy gradient...\")\n",
    "\n",
    "# Start training\n",
    "print(\"Training in progress...\")\n",
    "avg_reward_max_10, avg_unmet_demand_max_10, avg_met_demand_max_10, avg_scooter_num_max_10, avg_scooter_loc_max_10, avg_wANNR_max_10, avg_moran_max_10, avg_gini_max_10, avg_theil_max_10, avg_EMD_max_10, avg_centroid_max_10, avg_dispersion_max_10, avg_kl_max_10, scooter_list_max_10 = reinforce(study_area, nS, estimator_policy, estimator_value, n_epochs, n_iters, batch_size, display_step)"
   ]
  },
  {
   "cell_type": "markdown",
   "id": "dad374e2",
   "metadata": {},
   "source": [
    "## reward_num_transPOI = 0.9"
   ]
  },
  {
   "cell_type": "code",
   "execution_count": 14,
   "id": "693564e0",
   "metadata": {},
   "outputs": [
    {
     "name": "stdout",
     "output_type": "stream",
     "text": [
      "Starting policy gradient...\n",
      "Training in progress...\n",
      "Epoch 50, Average reward, unmet demand, met demand, scooter num, scooter loc, gini index unmet, gini index met, wANNR, moran, gini, theil, EMD, centroid change, dispersion change, kl divergence = 1042.122, 96.000, 95.000, 172.000, 110.000, 0.963, 0.973, 0.472, 0.041, 0.943, 0.187, 1.947, 1.053, -1.682, 0.864\n",
      "Epoch 100, Average reward, unmet demand, met demand, scooter num, scooter loc, gini index unmet, gini index met, wANNR, moran, gini, theil, EMD, centroid change, dispersion change, kl divergence = 1042.122, 96.000, 95.000, 172.000, 110.000, 0.963, 0.973, 0.472, 0.041, 0.943, 0.187, 1.947, 1.053, -1.682, 0.864\n",
      "Epoch 150, Average reward, unmet demand, met demand, scooter num, scooter loc, gini index unmet, gini index met, wANNR, moran, gini, theil, EMD, centroid change, dispersion change, kl divergence = 1042.122, 96.000, 95.000, 172.000, 110.000, 0.963, 0.973, 0.472, 0.041, 0.943, 0.187, 1.947, 1.053, -1.682, 0.864\n",
      "Epoch 200, Average reward, unmet demand, met demand, scooter num, scooter loc, gini index unmet, gini index met, wANNR, moran, gini, theil, EMD, centroid change, dispersion change, kl divergence = 1042.122, 96.000, 95.000, 172.000, 110.000, 0.963, 0.973, 0.472, 0.041, 0.943, 0.187, 1.947, 1.053, -1.682, 0.864\n",
      "Epoch 250, Average reward, unmet demand, met demand, scooter num, scooter loc, gini index unmet, gini index met, wANNR, moran, gini, theil, EMD, centroid change, dispersion change, kl divergence = 1042.122, 96.000, 95.000, 172.000, 110.000, 0.963, 0.973, 0.472, 0.041, 0.943, 0.187, 1.947, 1.053, -1.682, 0.864\n",
      "Epoch 300, Average reward, unmet demand, met demand, scooter num, scooter loc, gini index unmet, gini index met, wANNR, moran, gini, theil, EMD, centroid change, dispersion change, kl divergence = 1042.122, 96.000, 95.000, 172.000, 110.000, 0.963, 0.973, 0.472, 0.041, 0.943, 0.187, 1.947, 1.053, -1.682, 0.864\n",
      "Epoch 350, Average reward, unmet demand, met demand, scooter num, scooter loc, gini index unmet, gini index met, wANNR, moran, gini, theil, EMD, centroid change, dispersion change, kl divergence = 1042.122, 96.000, 95.000, 172.000, 110.000, 0.963, 0.973, 0.472, 0.041, 0.943, 0.187, 1.947, 1.053, -1.682, 0.864\n",
      "Epoch 400, Average reward, unmet demand, met demand, scooter num, scooter loc, gini index unmet, gini index met, wANNR, moran, gini, theil, EMD, centroid change, dispersion change, kl divergence = 1042.122, 96.000, 95.000, 172.000, 110.000, 0.963, 0.973, 0.472, 0.041, 0.943, 0.187, 1.947, 1.053, -1.682, 0.864\n",
      "Epoch 450, Average reward, unmet demand, met demand, scooter num, scooter loc, gini index unmet, gini index met, wANNR, moran, gini, theil, EMD, centroid change, dispersion change, kl divergence = 1042.122, 96.000, 95.000, 172.000, 110.000, 0.963, 0.973, 0.472, 0.041, 0.943, 0.187, 1.947, 1.053, -1.682, 0.864\n",
      "Epoch 500, Average reward, unmet demand, met demand, scooter num, scooter loc, gini index unmet, gini index met, wANNR, moran, gini, theil, EMD, centroid change, dispersion change, kl divergence = 1042.122, 96.000, 95.000, 172.000, 110.000, 0.963, 0.973, 0.472, 0.041, 0.943, 0.187, 1.947, 1.053, -1.682, 0.864\n"
     ]
    }
   ],
   "source": [
    "## tf.reset_default_graph() only works under tf 1.0\n",
    "reward_num_transPOI = 0.9\n",
    "\n",
    "# Set up the state-value estimator and policy estimator\n",
    "estimator_policy = PolicyEstimator(learning_rate, nS)\n",
    "estimator_value = StateValueEstimator(learning_rate, nS)\n",
    "\n",
    "rider_test_list = np.array(grid_centroid_gdf['rider_test_list'])\n",
    "\n",
    "# Initialize study area\n",
    "study_area = create_study_area(service_areas, max_scooter_per_area, scooter_cost_per_deploy, docked_cost_per_deploy, \\\n",
    "                   nS, no_scooter_penalty, reward_per_rider, equity_penalty, rider_test_list, logistics_car_cost_per_mile, \\\n",
    "                              penalty_dist_transPOI, reward_num_transPOI)\n",
    "\n",
    "# Add ops to save and restore all the variables\n",
    "\n",
    "print(\"Starting policy gradient...\")\n",
    "\n",
    "# Start training\n",
    "print(\"Training in progress...\")\n",
    "avg_reward_max_11, avg_unmet_demand_max_11, avg_met_demand_max_11, avg_scooter_num_max_11, avg_scooter_loc_max_11, avg_wANNR_max_11, avg_moran_max_11, avg_gini_max_11, avg_theil_max_11, avg_EMD_max_11, avg_centroid_max_11, avg_dispersion_max_11, avg_kl_max_11, scooter_list_max_11 = reinforce(study_area, nS, estimator_policy, estimator_value, n_epochs, n_iters, batch_size, display_step)"
   ]
  },
  {
   "cell_type": "markdown",
   "id": "0572be87",
   "metadata": {},
   "source": [
    "## reward_num_transPOI = 1.0"
   ]
  },
  {
   "cell_type": "code",
   "execution_count": 15,
   "id": "d93d482c",
   "metadata": {},
   "outputs": [
    {
     "name": "stdout",
     "output_type": "stream",
     "text": [
      "Starting policy gradient...\n",
      "Training in progress...\n",
      "Epoch 50, Average reward, unmet demand, met demand, scooter num, scooter loc, gini index unmet, gini index met, wANNR, moran, gini, theil, EMD, centroid change, dispersion change, kl divergence = 1206.525, 54.400, 136.600, 167.200, 104.400, 0.981, 0.957, 0.462, 0.040, 0.947, 0.178, 1.979, 0.981, -1.720, 0.827\n",
      "Epoch 100, Average reward, unmet demand, met demand, scooter num, scooter loc, gini index unmet, gini index met, wANNR, moran, gini, theil, EMD, centroid change, dispersion change, kl divergence = 1207.741, 51.800, 139.200, 170.000, 104.000, 0.980, 0.959, 0.466, 0.040, 0.948, 0.195, 1.998, 0.929, -1.741, 0.807\n",
      "Epoch 150, Average reward, unmet demand, met demand, scooter num, scooter loc, gini index unmet, gini index met, wANNR, moran, gini, theil, EMD, centroid change, dispersion change, kl divergence = 1223.048, 25.800, 165.200, 185.200, 107.200, 0.989, 0.955, 0.487, 0.038, 0.948, 0.226, 1.999, 0.919, -1.719, 0.838\n",
      "Epoch 200, Average reward, unmet demand, met demand, scooter num, scooter loc, gini index unmet, gini index met, wANNR, moran, gini, theil, EMD, centroid change, dispersion change, kl divergence = 1197.227, 63.200, 127.800, 187.800, 119.600, 0.973, 0.964, 0.492, 0.042, 0.939, 0.192, 1.948, 0.896, -1.673, 0.827\n",
      "Epoch 250, Average reward, unmet demand, met demand, scooter num, scooter loc, gini index unmet, gini index met, wANNR, moran, gini, theil, EMD, centroid change, dispersion change, kl divergence = 1186.508, 80.600, 110.400, 180.200, 118.200, 0.967, 0.970, 0.480, 0.038, 0.939, 0.188, 1.889, 0.980, -1.637, 0.807\n",
      "Epoch 300, Average reward, unmet demand, met demand, scooter num, scooter loc, gini index unmet, gini index met, wANNR, moran, gini, theil, EMD, centroid change, dispersion change, kl divergence = 1205.218, 56.200, 134.800, 168.200, 106.600, 0.979, 0.958, 0.464, 0.037, 0.945, 0.185, 1.931, 0.909, -1.662, 0.854\n",
      "Epoch 350, Average reward, unmet demand, met demand, scooter num, scooter loc, gini index unmet, gini index met, wANNR, moran, gini, theil, EMD, centroid change, dispersion change, kl divergence = 1209.550, 47.800, 143.200, 174.400, 102.800, 0.981, 0.960, 0.472, 0.036, 0.949, 0.213, 1.985, 0.949, -1.717, 0.792\n",
      "Epoch 400, Average reward, unmet demand, met demand, scooter num, scooter loc, gini index unmet, gini index met, wANNR, moran, gini, theil, EMD, centroid change, dispersion change, kl divergence = 1220.028, 32.600, 158.400, 176.800, 107.400, 0.988, 0.954, 0.475, 0.039, 0.946, 0.209, 1.979, 0.939, -1.705, 0.818\n",
      "Epoch 450, Average reward, unmet demand, met demand, scooter num, scooter loc, gini index unmet, gini index met, wANNR, moran, gini, theil, EMD, centroid change, dispersion change, kl divergence = 1209.554, 47.000, 144.000, 179.000, 108.200, 0.981, 0.958, 0.479, 0.039, 0.946, 0.213, 1.979, 0.938, -1.686, 0.810\n",
      "Epoch 500, Average reward, unmet demand, met demand, scooter num, scooter loc, gini index unmet, gini index met, wANNR, moran, gini, theil, EMD, centroid change, dispersion change, kl divergence = 1219.988, 33.200, 157.800, 174.600, 106.400, 0.987, 0.953, 0.472, 0.040, 0.947, 0.199, 2.005, 0.973, -1.705, 0.839\n"
     ]
    }
   ],
   "source": [
    "## tf.reset_default_graph() only works under tf 1.0\n",
    "reward_num_transPOI = 1.0\n",
    "\n",
    "# Set up the state-value estimator and policy estimator\n",
    "estimator_policy = PolicyEstimator(learning_rate, nS)\n",
    "estimator_value = StateValueEstimator(learning_rate, nS)\n",
    "\n",
    "rider_test_list = np.array(grid_centroid_gdf['rider_test_list'])\n",
    "\n",
    "# Initialize study area\n",
    "study_area = create_study_area(service_areas, max_scooter_per_area, scooter_cost_per_deploy, docked_cost_per_deploy, \\\n",
    "                   nS, no_scooter_penalty, reward_per_rider, equity_penalty, rider_test_list, logistics_car_cost_per_mile, \\\n",
    "                              penalty_dist_transPOI, reward_num_transPOI)\n",
    "\n",
    "# Add ops to save and restore all the variables\n",
    "\n",
    "print(\"Starting policy gradient...\")\n",
    "\n",
    "# Start training\n",
    "print(\"Training in progress...\")\n",
    "avg_reward_max_12, avg_unmet_demand_max_12, avg_met_demand_max_12, avg_scooter_num_max_12, avg_scooter_loc_max_12, avg_wANNR_max_12, avg_moran_max_12, avg_gini_max_12, avg_theil_max_12, avg_EMD_max_12, avg_centroid_max_12, avg_dispersion_max_12, avg_kl_max_12, scooter_list_max_12 = reinforce(study_area, nS, estimator_policy, estimator_value, n_epochs, n_iters, batch_size, display_step)"
   ]
  },
  {
   "cell_type": "markdown",
   "id": "cf6babdd",
   "metadata": {},
   "source": [
    "# Illustration"
   ]
  },
  {
   "cell_type": "code",
   "execution_count": 16,
   "id": "218b3462",
   "metadata": {},
   "outputs": [
    {
     "name": "stdout",
     "output_type": "stream",
     "text": [
      "[array([False, False,  True, False,  True,  True,  True,  True, False,\n",
      "        True]), array([ True,  True,  True,  True,  True,  True, False,  True,  True,\n",
      "        True]), array([ True, False,  True, False,  True,  True,  True,  True,  True,\n",
      "        True]), array([False, False, False, False, False, False, False, False, False,\n",
      "       False]), array([ True,  True, False,  True,  True, False,  True,  True,  True,\n",
      "        True]), array([False,  True,  True,  True,  True,  True,  True,  True,  True,\n",
      "       False]), array([ True,  True,  True,  True,  True,  True,  True,  True,  True,\n",
      "        True]), array([False, False, False, False, False, False, False, False, False,\n",
      "       False]), array([ True,  True,  True,  True,  True,  True,  True,  True,  True,\n",
      "        True]), array([False, False, False, False, False, False, False, False, False,\n",
      "       False]), array([ True,  True,  True,  True,  True,  True,  True,  True,  True,\n",
      "        True])]\n"
     ]
    },
    {
     "name": "stderr",
     "output_type": "stream",
     "text": [
      "C:\\Users\\Kaifa Lu\\AppData\\Local\\Temp\\ipykernel_20508\\3902648579.py:7: RuntimeWarning: divide by zero encountered in divide\n",
      "  modified_z_scores = 0.6745 * (arr - median) / mad\n",
      "C:\\Users\\Kaifa Lu\\AppData\\Local\\Temp\\ipykernel_20508\\3902648579.py:7: RuntimeWarning: invalid value encountered in divide\n",
      "  modified_z_scores = 0.6745 * (arr - median) / mad\n"
     ]
    }
   ],
   "source": [
    "def modified_z_score(arr):\n",
    "\n",
    "    median = np.median(arr)\n",
    "    mad = np.median(np.abs(arr - median))  # Median Absolute Deviation\n",
    "\n",
    "    # Modified Z-score\n",
    "    modified_z_scores = 0.6745 * (arr - median) / mad\n",
    "    threshold = 3\n",
    "    # filtered_arr = arr[np.abs(modified_z_scores) < threshold]\n",
    "    sel_index = np.abs(modified_z_scores) < threshold\n",
    "    \n",
    "    return sel_index # filtered_arr\n",
    "\n",
    "sel_index_2 = modified_z_score(avg_reward_max_2)\n",
    "sel_index_3 = modified_z_score(avg_reward_max_3)\n",
    "sel_index_4 = modified_z_score(avg_reward_max_4)\n",
    "sel_index_5 = modified_z_score(avg_reward_max_5)\n",
    "sel_index_6 = modified_z_score(avg_reward_max_6)\n",
    "sel_index_7 = modified_z_score(avg_reward_max_7)\n",
    "sel_index_8 = modified_z_score(avg_reward_max_8)\n",
    "sel_index_9 = modified_z_score(avg_reward_max_9)\n",
    "sel_index_10 = modified_z_score(avg_reward_max_10)\n",
    "sel_index_11 = modified_z_score(avg_reward_max_11)\n",
    "sel_index_12 = modified_z_score(avg_reward_max_12)\n",
    "print([sel_index_2, sel_index_3, sel_index_4, sel_index_5, sel_index_6, sel_index_7, sel_index_8, sel_index_9, \n",
    "      sel_index_10, sel_index_11, sel_index_12])"
   ]
  },
  {
   "cell_type": "code",
   "execution_count": 17,
   "id": "91bd3d33",
   "metadata": {},
   "outputs": [
    {
     "name": "stdout",
     "output_type": "stream",
     "text": [
      "End: 2025-07-13 08:23:13\n",
      "Plotting resulting graph...\n",
      "Plotting baseline 1...\n",
      "End: 2025-07-13 08:23:13\n"
     ]
    },
    {
     "data": {
      "image/png": "[encoded data removed]",
      "text/plain": [
       "<Figure size 432x288 with 1 Axes>"
      ]
     },
     "metadata": {
      "needs_background": "light"
     },
     "output_type": "display_data"
    }
   ],
   "source": [
    "# Plot the graphs of average rewards during testing phases of the policy\n",
    "# gradient method and the hand-crafted policies\n",
    "\n",
    "print(\"End: \" + datetime.now().strftime('%Y-%m-%d %H:%M:%S'))\n",
    "\n",
    "num_transPOI_reward_unit_list = np.array([0.0,0.1,0.2,0.3,0.4,0.5,0.6,0.7,0.8,0.9,1.0])\n",
    "max_reward_list_grid = np.array([avg_reward_max_2,\n",
    "                                avg_reward_max_3,\n",
    "                                avg_reward_max_4,\n",
    "                                avg_reward_max_5,\n",
    "                                avg_reward_max_6,\n",
    "                                avg_reward_max_7,\n",
    "                                avg_reward_max_8,\n",
    "                                avg_reward_max_9,\n",
    "                                avg_reward_max_10,\n",
    "                                avg_reward_max_11,\n",
    "                                avg_reward_max_12])\n",
    "max_reward_mean_grid = np.mean(max_reward_list_grid, axis=1)\n",
    "max_reward_std_grid = np.std(max_reward_list_grid, axis=1)\n",
    "\n",
    "print(\"Plotting resulting graph...\")\n",
    "# plt.figure(figsize = (12, 9))\n",
    "l1 = plt.errorbar(num_transPOI_reward_unit_list, max_reward_mean_grid, yerr=max_reward_std_grid, fmt='o-', capsize=5) # ecolor='gray', \n",
    "\n",
    "print(\"Plotting baseline 1...\")\n",
    "# plt.legend(loc='best',prop={'size': 10})\n",
    "plt.ylabel(\"Reward function value\")\n",
    "plt.xlabel(\"num_transPOI_reward_unit\")\n",
    "\n",
    "print(\"End: \" + datetime.now().strftime('%Y-%m-%d %H:%M:%S'))"
   ]
  },
  {
   "cell_type": "code",
   "execution_count": 18,
   "id": "88cb6330",
   "metadata": {},
   "outputs": [
    {
     "data": {
      "text/plain": [
       "array([[-172.25505751, -170.94461181, -125.23253175, -145.21665003,\n",
       "        -125.85374765, -126.32116149, -128.04933804, -126.99592206,\n",
       "        -142.05302759, -124.54566507],\n",
       "       [  10.36868415,   10.77018271,   10.26448929,   10.63359039,\n",
       "           9.67439494,    9.78114161,   -3.15360159,    9.87126991,\n",
       "           9.02188615,    9.20469457],\n",
       "       [ 103.16656027,   97.83980649,  125.45947172,   98.81733205,\n",
       "         132.62650105,  146.83011402,  142.90080763,  144.74690372,\n",
       "         145.75138124,  144.86234883],\n",
       "       [ 233.67208315,  234.47439652,  230.96630367,  230.96630367,\n",
       "         230.96630367,  230.96630367,  230.96630367,  230.96630367,\n",
       "         230.96630367,  230.96630367],\n",
       "       [ 414.11254582,  413.05103858,  401.55014007,  409.48247674,\n",
       "         414.49529344,  401.97491683,  414.47372698,  414.01415492,\n",
       "         413.99778525,  412.43323036],\n",
       "       [ 538.19694596,  546.88298205,  548.88561913,  545.65418097,\n",
       "         545.89854716,  547.27526818,  548.82781091,  549.06365   ,\n",
       "         546.57953173,  537.75168916],\n",
       "       [ 659.61227185,  683.52124425,  673.76319601,  672.51503684,\n",
       "         677.85814449,  682.14229751,  657.17419834,  681.43078197,\n",
       "         666.57551609,  671.21854716],\n",
       "       [ 770.91733205,  775.92859098,  773.27058301,  773.27058301,\n",
       "         773.27058301,  773.27058301,  773.27058301,  773.27058301,\n",
       "         773.27058301,  773.27058301],\n",
       "       [ 950.05831583,  952.28253753,  953.06857282,  950.9975626 ,\n",
       "         954.05787921,  952.98689504,  955.71604746,  953.6146776 ,\n",
       "         951.55552478,  953.83005401],\n",
       "       [1042.12191142, 1042.12191142, 1042.12191142, 1042.12191142,\n",
       "        1042.12191142, 1042.12191142, 1042.12191142, 1042.12191142,\n",
       "        1042.12191142, 1042.12191142],\n",
       "       [1206.52475458, 1207.74059367, 1223.04785355, 1197.22697873,\n",
       "        1186.50775801, 1205.21777657, 1209.55002875, 1220.02829017,\n",
       "        1209.55387226, 1219.98829885]])"
      ]
     },
     "execution_count": 18,
     "metadata": {},
     "output_type": "execute_result"
    }
   ],
   "source": [
    "max_reward_list_grid"
   ]
  },
  {
   "cell_type": "code",
   "execution_count": 19,
   "id": "5be10874",
   "metadata": {},
   "outputs": [
    {
     "name": "stdout",
     "output_type": "stream",
     "text": [
      "End: 2025-07-13 08:23:13\n",
      "Plotting resulting graph...\n",
      "Plotting baseline 1...\n",
      "End: 2025-07-13 08:23:13\n"
     ]
    },
    {
     "name": "stderr",
     "output_type": "stream",
     "text": [
      "D:\\Software\\Anaconda\\Install\\envs\\gpd_env\\lib\\site-packages\\numpy\\core\\fromnumeric.py:3464: RuntimeWarning: Mean of empty slice.\n",
      "  return _methods._mean(a, axis=axis, dtype=dtype,\n",
      "D:\\Software\\Anaconda\\Install\\envs\\gpd_env\\lib\\site-packages\\numpy\\core\\_methods.py:192: RuntimeWarning: invalid value encountered in scalar divide\n",
      "  ret = ret.dtype.type(ret / rcount)\n",
      "D:\\Software\\Anaconda\\Install\\envs\\gpd_env\\lib\\site-packages\\numpy\\core\\_methods.py:269: RuntimeWarning: Degrees of freedom <= 0 for slice\n",
      "  ret = _var(a, axis=axis, dtype=dtype, out=out, ddof=ddof,\n",
      "D:\\Software\\Anaconda\\Install\\envs\\gpd_env\\lib\\site-packages\\numpy\\core\\_methods.py:226: RuntimeWarning: invalid value encountered in divide\n",
      "  arrmean = um.true_divide(arrmean, div, out=arrmean,\n",
      "D:\\Software\\Anaconda\\Install\\envs\\gpd_env\\lib\\site-packages\\numpy\\core\\_methods.py:261: RuntimeWarning: invalid value encountered in scalar divide\n",
      "  ret = ret.dtype.type(ret / rcount)\n"
     ]
    },
    {
     "data": {
      "image/png": "[encoded data removed]",
      "text/plain": [
       "<Figure size 432x288 with 1 Axes>"
      ]
     },
     "metadata": {
      "needs_background": "light"
     },
     "output_type": "display_data"
    }
   ],
   "source": [
    "# Plot the graphs of average rewards during testing phases of the policy\n",
    "# gradient method and the hand-crafted policies\n",
    "\n",
    "print(\"End: \" + datetime.now().strftime('%Y-%m-%d %H:%M:%S'))\n",
    "\n",
    "max_reward_list_grid = [np.array(avg_reward_max_2)[sel_index_2],\n",
    "                        np.array(avg_reward_max_3)[sel_index_3],\n",
    "                        np.array(avg_reward_max_4)[sel_index_4],\n",
    "                        np.array(avg_reward_max_5)[sel_index_5],\n",
    "                        np.array(avg_reward_max_6)[sel_index_6],\n",
    "                        np.array(avg_reward_max_7)[sel_index_7],\n",
    "                        np.array(avg_reward_max_8)[sel_index_8],\n",
    "                        np.array(avg_reward_max_9)[sel_index_9],\n",
    "                        np.array(avg_reward_max_10)[sel_index_10],\n",
    "                        np.array(avg_reward_max_11)[sel_index_11],\n",
    "                        np.array(avg_reward_max_12)[sel_index_12]]\n",
    "max_reward_mean_grid = []\n",
    "max_reward_std_grid = []\n",
    "for ii in range(len(num_transPOI_reward_unit_list)):\n",
    "    max_reward_mean_grid.append(np.mean(max_reward_list_grid[ii]))\n",
    "    max_reward_std_grid.append(np.std(max_reward_list_grid[ii]))\n",
    "\n",
    "print(\"Plotting resulting graph...\")\n",
    "# plt.figure(figsize = (12, 9))\n",
    "l1 = plt.errorbar(num_transPOI_reward_unit_list, max_reward_mean_grid, yerr=max_reward_std_grid, fmt='o-', capsize=5) # ecolor='gray', \n",
    "\n",
    "print(\"Plotting baseline 1...\")\n",
    "# plt.legend(loc='best',prop={'size': 10})\n",
    "plt.ylabel(\"Reward function value\")\n",
    "plt.xlabel(\"num_transPOI_reward_unit\")\n",
    "\n",
    "print(\"End: \" + datetime.now().strftime('%Y-%m-%d %H:%M:%S'))"
   ]
  },
  {
   "cell_type": "code",
   "execution_count": 20,
   "id": "29eceb93",
   "metadata": {},
   "outputs": [
    {
     "name": "stdout",
     "output_type": "stream",
     "text": [
      "End: 2025-07-13 08:23:13\n",
      "Plotting resulting graph...\n",
      "Plotting baseline 1...\n",
      "End: 2025-07-13 08:23:13\n"
     ]
    },
    {
     "data": {
      "image/png": "[encoded data removed]",
      "text/plain": [
       "<Figure size 432x288 with 1 Axes>"
      ]
     },
     "metadata": {
      "needs_background": "light"
     },
     "output_type": "display_data"
    }
   ],
   "source": [
    "# Plot the graphs of average rewards during testing phases of the policy\n",
    "# gradient method and the hand-crafted policies\n",
    "\n",
    "print(\"End: \" + datetime.now().strftime('%Y-%m-%d %H:%M:%S'))\n",
    "\n",
    "max_unmet_demand_list_grid = np.array([avg_unmet_demand_max_2,\n",
    "                                avg_unmet_demand_max_3,\n",
    "                                avg_unmet_demand_max_4,\n",
    "                                avg_unmet_demand_max_5,\n",
    "                                avg_unmet_demand_max_6,\n",
    "                                avg_unmet_demand_max_7,\n",
    "                                avg_unmet_demand_max_8,\n",
    "                                avg_unmet_demand_max_9,\n",
    "                                avg_unmet_demand_max_10,\n",
    "                                avg_unmet_demand_max_11,\n",
    "                                avg_unmet_demand_max_12])\n",
    "max_unmet_demand_mean_grid = np.mean(max_unmet_demand_list_grid, axis=1)\n",
    "max_unmet_demand_std_grid = np.std(max_unmet_demand_list_grid, axis=1)\n",
    "\n",
    "print(\"Plotting resulting graph...\")\n",
    "# plt.figure(figsize = (12, 9))\n",
    "l1 = plt.errorbar(num_transPOI_reward_unit_list, max_unmet_demand_mean_grid, yerr=max_unmet_demand_std_grid, fmt='o-', capsize=5) # ecolor='gray', \n",
    "\n",
    "print(\"Plotting baseline 1...\")\n",
    "# plt.legend(loc='best',prop={'size': 10})\n",
    "plt.ylabel(\"Count of unmet demands\")\n",
    "plt.xlabel(\"num_transPOI_reward_unit\")\n",
    "\n",
    "print(\"End: \" + datetime.now().strftime('%Y-%m-%d %H:%M:%S'))"
   ]
  },
  {
   "cell_type": "code",
   "execution_count": 21,
   "id": "3efe0717",
   "metadata": {},
   "outputs": [
    {
     "data": {
      "text/plain": [
       "array([[ 97. , 100. ,  29. ,  60. ,  29.6,  31.4,  34.6,  32.2,  58.4,\n",
       "         28.4],\n",
       "       [ 28. ,  27.2,  28.8,  27.8,  29.2,  29.2,  48.6,  28. ,  30.2,\n",
       "         28.6],\n",
       "       [ 89. ,  99. ,  56.8,  98. ,  46.2,  24.6,  32.4,  28.6,  26. ,\n",
       "         28.4],\n",
       "       [ 98. ,  96. , 101. , 101. , 101. , 101. , 101. , 101. , 101. ,\n",
       "        101. ],\n",
       "       [ 28.2,  29.4,  47.2,  36.6,  26.8,  46.6,  25.8,  28.4,  28.2,\n",
       "         30.4],\n",
       "       [ 41. ,  31.6,  27.6,  34.4,  33.2,  31.6,  27.8,  26.6,  32.6,\n",
       "         45. ],\n",
       "       [ 63.4,  28. ,  41.6,  45.2,  37.4,  31. ,  68.6,  33. ,  55.2,\n",
       "         46.6],\n",
       "       [100. ,  94. ,  94. ,  94. ,  94. ,  94. ,  94. ,  94. ,  94. ,\n",
       "         94. ],\n",
       "       [ 33.2,  30.4,  28.6,  31.4,  25. ,  28. ,  23.2,  27.2,  29.2,\n",
       "         26.2],\n",
       "       [ 96. ,  96. ,  96. ,  96. ,  96. ,  96. ,  96. ,  96. ,  96. ,\n",
       "         96. ],\n",
       "       [ 54.4,  51.8,  25.8,  63.2,  80.6,  56.2,  47.8,  32.6,  47. ,\n",
       "         33.2]])"
      ]
     },
     "execution_count": 21,
     "metadata": {},
     "output_type": "execute_result"
    }
   ],
   "source": [
    "max_unmet_demand_list_grid"
   ]
  },
  {
   "cell_type": "code",
   "execution_count": 22,
   "id": "4da57be1",
   "metadata": {},
   "outputs": [
    {
     "name": "stdout",
     "output_type": "stream",
     "text": [
      "End: 2025-07-13 08:23:13\n",
      "Plotting resulting graph...\n",
      "Plotting baseline 1...\n",
      "End: 2025-07-13 08:23:13\n"
     ]
    },
    {
     "data": {
      "image/png": "[encoded data removed]",
      "text/plain": [
       "<Figure size 432x288 with 1 Axes>"
      ]
     },
     "metadata": {
      "needs_background": "light"
     },
     "output_type": "display_data"
    }
   ],
   "source": [
    "# Plot the graphs of average rewards during testing phases of the policy\n",
    "# gradient method and the hand-crafted policies\n",
    "\n",
    "print(\"End: \" + datetime.now().strftime('%Y-%m-%d %H:%M:%S'))\n",
    "\n",
    "max_unmet_demand_list_grid = [np.array(avg_unmet_demand_max_2)[sel_index_2],\n",
    "                        np.array(avg_unmet_demand_max_3)[sel_index_3],\n",
    "                        np.array(avg_unmet_demand_max_4)[sel_index_4],\n",
    "                        np.array(avg_unmet_demand_max_5)[sel_index_5],\n",
    "                        np.array(avg_unmet_demand_max_6)[sel_index_6],\n",
    "                        np.array(avg_unmet_demand_max_7)[sel_index_7],\n",
    "                        np.array(avg_unmet_demand_max_8)[sel_index_8],\n",
    "                        np.array(avg_unmet_demand_max_9)[sel_index_9],\n",
    "                        np.array(avg_unmet_demand_max_10)[sel_index_10],\n",
    "                        np.array(avg_unmet_demand_max_11)[sel_index_11],\n",
    "                        np.array(avg_unmet_demand_max_12)[sel_index_12]]\n",
    "max_unmet_demand_mean_grid = []\n",
    "max_unmet_demand_std_grid = []\n",
    "for ii in range(len(num_transPOI_reward_unit_list)):\n",
    "    max_unmet_demand_mean_grid.append(np.mean(max_unmet_demand_list_grid[ii]))\n",
    "    max_unmet_demand_std_grid.append(np.std(max_unmet_demand_list_grid[ii]))\n",
    "\n",
    "print(\"Plotting resulting graph...\")\n",
    "# plt.figure(figsize = (12, 9))\n",
    "l1 = plt.errorbar(num_transPOI_reward_unit_list, max_unmet_demand_mean_grid, yerr=max_unmet_demand_std_grid, fmt='o-', capsize=5) # ecolor='gray', \n",
    "\n",
    "print(\"Plotting baseline 1...\")\n",
    "# plt.legend(loc='best',prop={'size': 10})\n",
    "plt.ylabel(\"Count of unmet demands\")\n",
    "plt.xlabel(\"num_transPOI_reward_unit\")\n",
    "\n",
    "print(\"End: \" + datetime.now().strftime('%Y-%m-%d %H:%M:%S'))"
   ]
  },
  {
   "cell_type": "code",
   "execution_count": 23,
   "id": "41ea18e5",
   "metadata": {},
   "outputs": [
    {
     "name": "stdout",
     "output_type": "stream",
     "text": [
      "End: 2025-07-13 08:23:13\n",
      "Plotting resulting graph...\n",
      "Plotting baseline 1...\n",
      "End: 2025-07-13 08:23:13\n"
     ]
    },
    {
     "data": {
      "image/png": "[encoded data removed]",
      "text/plain": [
       "<Figure size 432x288 with 1 Axes>"
      ]
     },
     "metadata": {
      "needs_background": "light"
     },
     "output_type": "display_data"
    }
   ],
   "source": [
    "# Plot the graphs of average rewards during testing phases of the policy\n",
    "# gradient method and the hand-crafted policies\n",
    "\n",
    "print(\"End: \" + datetime.now().strftime('%Y-%m-%d %H:%M:%S'))\n",
    "\n",
    "max_met_demand_list_grid = np.array([avg_met_demand_max_2,\n",
    "                                avg_met_demand_max_3,\n",
    "                                avg_met_demand_max_4,\n",
    "                                avg_met_demand_max_5,\n",
    "                                avg_met_demand_max_6,\n",
    "                                avg_met_demand_max_7,\n",
    "                                avg_met_demand_max_8,\n",
    "                                avg_met_demand_max_9,\n",
    "                                avg_met_demand_max_10,\n",
    "                                avg_met_demand_max_11,\n",
    "                                avg_met_demand_max_12])\n",
    "max_met_demand_mean_grid = np.mean(max_met_demand_list_grid, axis=1)\n",
    "max_met_demand_std_grid = np.std(max_met_demand_list_grid, axis=1)\n",
    "\n",
    "print(\"Plotting resulting graph...\")\n",
    "# plt.figure(figsize = (12, 9))\n",
    "l1 = plt.errorbar(num_transPOI_reward_unit_list, max_met_demand_mean_grid, yerr=max_met_demand_std_grid, fmt='o-', capsize=5) # ecolor='gray', \n",
    "\n",
    "print(\"Plotting baseline 1...\")\n",
    "# plt.legend(loc='best',prop={'size': 10})\n",
    "plt.ylabel(\"Count of met demands\")\n",
    "plt.xlabel(\"num_transPOI_reward_unit\")\n",
    "\n",
    "print(\"End: \" + datetime.now().strftime('%Y-%m-%d %H:%M:%S'))"
   ]
  },
  {
   "cell_type": "code",
   "execution_count": 24,
   "id": "4e8f1897",
   "metadata": {
    "scrolled": true
   },
   "outputs": [
    {
     "data": {
      "text/plain": [
       "array([[ 94. ,  91. , 162. , 131. , 161.4, 159.6, 156.4, 158.8, 132.6,\n",
       "        162.6],\n",
       "       [163. , 163.8, 162.2, 163.2, 161.8, 161.8, 142.4, 163. , 160.8,\n",
       "        162.4],\n",
       "       [102. ,  92. , 134.2,  93. , 144.8, 166.4, 158.6, 162.4, 165. ,\n",
       "        162.6],\n",
       "       [ 93. ,  95. ,  90. ,  90. ,  90. ,  90. ,  90. ,  90. ,  90. ,\n",
       "         90. ],\n",
       "       [162.8, 161.6, 143.8, 154.4, 164.2, 144.4, 165.2, 162.6, 162.8,\n",
       "        160.6],\n",
       "       [150. , 159.4, 163.4, 156.6, 157.8, 159.4, 163.2, 164.4, 158.4,\n",
       "        146. ],\n",
       "       [127.6, 163. , 149.4, 145.8, 153.6, 160. , 122.4, 158. , 135.8,\n",
       "        144.4],\n",
       "       [ 91. ,  97. ,  97. ,  97. ,  97. ,  97. ,  97. ,  97. ,  97. ,\n",
       "         97. ],\n",
       "       [157.8, 160.6, 162.4, 159.6, 166. , 163. , 167.8, 163.8, 161.8,\n",
       "        164.8],\n",
       "       [ 95. ,  95. ,  95. ,  95. ,  95. ,  95. ,  95. ,  95. ,  95. ,\n",
       "         95. ],\n",
       "       [136.6, 139.2, 165.2, 127.8, 110.4, 134.8, 143.2, 158.4, 144. ,\n",
       "        157.8]])"
      ]
     },
     "execution_count": 24,
     "metadata": {},
     "output_type": "execute_result"
    }
   ],
   "source": [
    "max_met_demand_list_grid"
   ]
  },
  {
   "cell_type": "code",
   "execution_count": 25,
   "id": "1947f7a4",
   "metadata": {},
   "outputs": [
    {
     "name": "stdout",
     "output_type": "stream",
     "text": [
      "End: 2025-07-13 08:23:13\n",
      "Plotting resulting graph...\n",
      "Plotting baseline 1...\n",
      "End: 2025-07-13 08:23:13\n"
     ]
    },
    {
     "data": {
      "image/png": "[encoded data removed]",
      "text/plain": [
       "<Figure size 432x288 with 1 Axes>"
      ]
     },
     "metadata": {
      "needs_background": "light"
     },
     "output_type": "display_data"
    }
   ],
   "source": [
    "# Plot the graphs of average rewards during testing phases of the policy\n",
    "# gradient method and the hand-crafted policies\n",
    "\n",
    "print(\"End: \" + datetime.now().strftime('%Y-%m-%d %H:%M:%S'))\n",
    "\n",
    "max_met_demand_list_grid = [np.array(avg_met_demand_max_2)[sel_index_2],\n",
    "                        np.array(avg_met_demand_max_3)[sel_index_3],\n",
    "                        np.array(avg_met_demand_max_4)[sel_index_4],\n",
    "                        np.array(avg_met_demand_max_5)[sel_index_5],\n",
    "                        np.array(avg_met_demand_max_6)[sel_index_6],\n",
    "                        np.array(avg_met_demand_max_7)[sel_index_7],\n",
    "                        np.array(avg_met_demand_max_8)[sel_index_8],\n",
    "                        np.array(avg_met_demand_max_9)[sel_index_9],\n",
    "                        np.array(avg_met_demand_max_10)[sel_index_10],\n",
    "                        np.array(avg_met_demand_max_11)[sel_index_11],\n",
    "                        np.array(avg_met_demand_max_12)[sel_index_12]]\n",
    "max_met_demand_mean_grid = []\n",
    "max_met_demand_std_grid = []\n",
    "for ii in range(len(num_transPOI_reward_unit_list)):\n",
    "    max_met_demand_mean_grid.append(np.mean(max_met_demand_list_grid[ii]))\n",
    "    max_met_demand_std_grid.append(np.std(max_met_demand_list_grid[ii]))\n",
    "\n",
    "print(\"Plotting resulting graph...\")\n",
    "# plt.figure(figsize = (12, 9))\n",
    "l1 = plt.errorbar(num_transPOI_reward_unit_list, max_met_demand_mean_grid, yerr=max_met_demand_std_grid, fmt='o-', capsize=5) # ecolor='gray', \n",
    "\n",
    "print(\"Plotting baseline 1...\")\n",
    "# plt.legend(loc='best',prop={'size': 10})\n",
    "plt.ylabel(\"Count of met demands\")\n",
    "plt.xlabel(\"num_transPOI_reward_unit\")\n",
    "\n",
    "print(\"End: \" + datetime.now().strftime('%Y-%m-%d %H:%M:%S'))"
   ]
  },
  {
   "cell_type": "code",
   "execution_count": 26,
   "id": "2f1350b0",
   "metadata": {
    "scrolled": false
   },
   "outputs": [
    {
     "name": "stdout",
     "output_type": "stream",
     "text": [
      "End: 2025-07-13 08:23:14\n",
      "Plotting resulting graph...\n",
      "Plotting baseline 1...\n",
      "End: 2025-07-13 08:23:14\n"
     ]
    },
    {
     "data": {
      "image/png": "[encoded data removed]",
      "text/plain": [
       "<Figure size 432x288 with 1 Axes>"
      ]
     },
     "metadata": {
      "needs_background": "light"
     },
     "output_type": "display_data"
    }
   ],
   "source": [
    "# Plot the graphs of average rewards during testing phases of the policy\n",
    "# gradient method and the hand-crafted policies\n",
    "\n",
    "print(\"End: \" + datetime.now().strftime('%Y-%m-%d %H:%M:%S'))\n",
    "\n",
    "max_scooter_num_list_grid = np.array([avg_scooter_num_max_2,\n",
    "                                avg_scooter_num_max_3,\n",
    "                                avg_scooter_num_max_4,\n",
    "                                avg_scooter_num_max_5,\n",
    "                                avg_scooter_num_max_6,\n",
    "                                avg_scooter_num_max_7,\n",
    "                                avg_scooter_num_max_8,\n",
    "                                avg_scooter_num_max_9,\n",
    "                                avg_scooter_num_max_10,\n",
    "                                avg_scooter_num_max_11,\n",
    "                                avg_scooter_num_max_12])\n",
    "max_scooter_num_mean_grid = np.mean(max_scooter_num_list_grid, axis=1)\n",
    "max_scooter_num_std_grid = np.std(max_scooter_num_list_grid, axis=1)\n",
    "\n",
    "print(\"Plotting resulting graph...\")\n",
    "# plt.figure(figsize = (12, 9))\n",
    "l1 = plt.errorbar(num_transPOI_reward_unit_list, max_scooter_num_mean_grid, yerr=max_scooter_num_std_grid, fmt='o-', capsize=5) # ecolor='gray', \n",
    "\n",
    "print(\"Plotting baseline 1...\")\n",
    "# plt.legend(loc='best',prop={'size': 10})\n",
    "plt.ylabel(\"Count of scooter numbers\")\n",
    "plt.xlabel(\"num_transPOI_reward_unit\")\n",
    "\n",
    "print(\"End: \" + datetime.now().strftime('%Y-%m-%d %H:%M:%S'))"
   ]
  },
  {
   "cell_type": "code",
   "execution_count": 27,
   "id": "7134e208",
   "metadata": {},
   "outputs": [
    {
     "data": {
      "text/plain": [
       "array([[178. , 160. , 180.6, 172.6, 182. , 176.6, 174.6, 178. , 160.2,\n",
       "        178.6],\n",
       "       [179.2, 179.2, 176. , 177.4, 178. , 177.2, 174.2, 181.2, 178.4,\n",
       "        182.4],\n",
       "       [177. , 165. , 176.8, 164. , 177.4, 182. , 174.2, 177.6, 182.2,\n",
       "        178. ],\n",
       "       [165. , 163. , 169. , 169. , 169. , 169. , 169. , 169. , 169. ,\n",
       "        169. ],\n",
       "       [179.2, 181.4, 175.4, 174.8, 184. , 177.2, 186.6, 180.4, 180.6,\n",
       "        181. ],\n",
       "       [188.8, 178.2, 181.8, 173.8, 177.4, 175.8, 181.4, 184.2, 176.2,\n",
       "        177.2],\n",
       "       [175.6, 180.4, 182.4, 176. , 177.2, 176.4, 169.4, 173.4, 171.4,\n",
       "        177.4],\n",
       "       [164. , 159. , 180. , 180. , 180. , 180. , 180. , 180. , 180. ,\n",
       "        180. ],\n",
       "       [177.6, 174. , 178.2, 178.6, 186. , 179.8, 182.8, 179.4, 183.8,\n",
       "        182.6],\n",
       "       [172. , 172. , 172. , 172. , 172. , 172. , 172. , 172. , 172. ,\n",
       "        172. ],\n",
       "       [167.2, 170. , 185.2, 187.8, 180.2, 168.2, 174.4, 176.8, 179. ,\n",
       "        174.6]])"
      ]
     },
     "execution_count": 27,
     "metadata": {},
     "output_type": "execute_result"
    }
   ],
   "source": [
    "max_scooter_num_list_grid"
   ]
  },
  {
   "cell_type": "code",
   "execution_count": 28,
   "id": "f6957f55",
   "metadata": {},
   "outputs": [
    {
     "name": "stdout",
     "output_type": "stream",
     "text": [
      "End: 2025-07-13 08:23:14\n",
      "Plotting resulting graph...\n",
      "Plotting baseline 1...\n",
      "End: 2025-07-13 08:23:14\n"
     ]
    },
    {
     "data": {
      "image/png": "[encoded data removed]",
      "text/plain": [
       "<Figure size 432x288 with 1 Axes>"
      ]
     },
     "metadata": {
      "needs_background": "light"
     },
     "output_type": "display_data"
    }
   ],
   "source": [
    "# Plot the graphs of average rewards during testing phases of the policy\n",
    "# gradient method and the hand-crafted policies\n",
    "\n",
    "print(\"End: \" + datetime.now().strftime('%Y-%m-%d %H:%M:%S'))\n",
    "\n",
    "max_scooter_num_list_grid = [np.array(avg_scooter_num_max_2)[sel_index_2],\n",
    "                        np.array(avg_scooter_num_max_3)[sel_index_3],\n",
    "                        np.array(avg_scooter_num_max_4)[sel_index_4],\n",
    "                        np.array(avg_scooter_num_max_5)[sel_index_5],\n",
    "                        np.array(avg_scooter_num_max_6)[sel_index_6],\n",
    "                        np.array(avg_scooter_num_max_7)[sel_index_7],\n",
    "                        np.array(avg_scooter_num_max_8)[sel_index_8],\n",
    "                        np.array(avg_scooter_num_max_9)[sel_index_9],\n",
    "                        np.array(avg_scooter_num_max_10)[sel_index_10],\n",
    "                        np.array(avg_scooter_num_max_11)[sel_index_11],\n",
    "                        np.array(avg_scooter_num_max_12)[sel_index_12]]\n",
    "max_scooter_num_mean_grid = []\n",
    "max_scooter_num_std_grid = []\n",
    "for ii in range(len(num_transPOI_reward_unit_list)):\n",
    "    max_scooter_num_mean_grid.append(np.mean(max_scooter_num_list_grid[ii]))\n",
    "    max_scooter_num_std_grid.append(np.std(max_scooter_num_list_grid[ii]))\n",
    "\n",
    "print(\"Plotting resulting graph...\")\n",
    "# plt.figure(figsize = (12, 9))\n",
    "l1 = plt.errorbar(num_transPOI_reward_unit_list, max_scooter_num_mean_grid, yerr=max_scooter_num_std_grid, fmt='o-', capsize=5) # ecolor='gray', \n",
    "\n",
    "print(\"Plotting baseline 1...\")\n",
    "# plt.legend(loc='best',prop={'size': 10})\n",
    "plt.ylabel(\"Count of scooter numbers\")\n",
    "plt.xlabel(\"num_transPOI_reward_unit\")\n",
    "\n",
    "print(\"End: \" + datetime.now().strftime('%Y-%m-%d %H:%M:%S'))"
   ]
  },
  {
   "cell_type": "code",
   "execution_count": 29,
   "id": "e1c54dee",
   "metadata": {},
   "outputs": [
    {
     "name": "stdout",
     "output_type": "stream",
     "text": [
      "End: 2025-07-13 08:23:14\n",
      "Plotting resulting graph...\n",
      "Plotting baseline 1...\n",
      "End: 2025-07-13 08:23:14\n"
     ]
    },
    {
     "data": {
      "image/png": "[encoded data removed]",
      "text/plain": [
       "<Figure size 432x288 with 1 Axes>"
      ]
     },
     "metadata": {
      "needs_background": "light"
     },
     "output_type": "display_data"
    }
   ],
   "source": [
    "# Plot the graphs of average rewards during testing phases of the policy\n",
    "# gradient method and the hand-crafted policies\n",
    "\n",
    "print(\"End: \" + datetime.now().strftime('%Y-%m-%d %H:%M:%S'))\n",
    "\n",
    "max_scooter_loc_list_grid = np.array([avg_scooter_loc_max_2,\n",
    "                                avg_scooter_loc_max_3,\n",
    "                                avg_scooter_loc_max_4,\n",
    "                                avg_scooter_loc_max_5,\n",
    "                                avg_scooter_loc_max_6,\n",
    "                                avg_scooter_loc_max_7,\n",
    "                                avg_scooter_loc_max_8,\n",
    "                                avg_scooter_loc_max_9,\n",
    "                                avg_scooter_loc_max_10,\n",
    "                                avg_scooter_loc_max_11,\n",
    "                                avg_scooter_loc_max_12])\n",
    "max_scooter_loc_mean_grid = np.mean(max_scooter_loc_list_grid, axis=1)\n",
    "max_scooter_loc_std_grid = np.std(max_scooter_loc_list_grid, axis=1)\n",
    "\n",
    "print(\"Plotting resulting graph...\")\n",
    "# plt.figure(figsize = (12, 9))\n",
    "l1 = plt.errorbar(num_transPOI_reward_unit_list, max_scooter_loc_mean_grid, yerr=max_scooter_loc_std_grid, fmt='o-', capsize=5) # ecolor='gray', \n",
    "\n",
    "print(\"Plotting baseline 1...\")\n",
    "# plt.legend(loc='best',prop={'size': 10})\n",
    "plt.ylabel(\"Count of scooter locations\")\n",
    "plt.xlabel(\"num_transPOI_reward_unit\")\n",
    "\n",
    "print(\"End: \" + datetime.now().strftime('%Y-%m-%d %H:%M:%S'))"
   ]
  },
  {
   "cell_type": "code",
   "execution_count": 30,
   "id": "909b5738",
   "metadata": {
    "scrolled": true
   },
   "outputs": [
    {
     "data": {
      "text/plain": [
       "array([[108. , 104. , 107.4, 108.4, 108.6, 104.2, 105.6, 106.6, 101.4,\n",
       "        105.4],\n",
       "       [106.2, 104. , 103.4, 102.8, 104.8, 104. , 104.4, 105. , 106.6,\n",
       "        105. ],\n",
       "       [111. , 100. , 107. , 101. , 105.2, 105.6, 104.6, 103. , 104.8,\n",
       "        103.8],\n",
       "       [106. ,  92. , 109. , 109. , 109. , 109. , 109. , 109. , 109. ,\n",
       "        109. ],\n",
       "       [103.2, 106.4, 102.6, 108. , 108.6, 107.8, 106. , 107.2, 105.6,\n",
       "        106.4],\n",
       "       [107.6, 106.6, 105.8, 104.2, 106.2, 105.2, 105.8, 105.4, 106.4,\n",
       "        107.2],\n",
       "       [103.2, 104.8, 107.2, 106.6, 108.4, 103.4, 102.2, 104.4, 108.2,\n",
       "        106.2],\n",
       "       [101. ,  98. , 121. , 121. , 121. , 121. , 121. , 121. , 121. ,\n",
       "        121. ],\n",
       "       [107.6, 101. , 106.4, 106. , 107.4, 104. , 103.8, 103.8, 107.2,\n",
       "        106.2],\n",
       "       [110. , 110. , 110. , 110. , 110. , 110. , 110. , 110. , 110. ,\n",
       "        110. ],\n",
       "       [104.4, 104. , 107.2, 119.6, 118.2, 106.6, 102.8, 107.4, 108.2,\n",
       "        106.4]])"
      ]
     },
     "execution_count": 30,
     "metadata": {},
     "output_type": "execute_result"
    }
   ],
   "source": [
    "max_scooter_loc_list_grid"
   ]
  },
  {
   "cell_type": "code",
   "execution_count": 31,
   "id": "f4b1d750",
   "metadata": {},
   "outputs": [
    {
     "name": "stdout",
     "output_type": "stream",
     "text": [
      "End: 2025-07-13 08:23:14\n",
      "Plotting resulting graph...\n",
      "Plotting baseline 1...\n",
      "End: 2025-07-13 08:23:14\n"
     ]
    },
    {
     "data": {
      "image/png": "[encoded data removed]",
      "text/plain": [
       "<Figure size 432x288 with 1 Axes>"
      ]
     },
     "metadata": {
      "needs_background": "light"
     },
     "output_type": "display_data"
    }
   ],
   "source": [
    "# Plot the graphs of average rewards during testing phases of the policy\n",
    "# gradient method and the hand-crafted policies\n",
    "\n",
    "print(\"End: \" + datetime.now().strftime('%Y-%m-%d %H:%M:%S'))\n",
    "\n",
    "max_scooter_loc_list_grid = [np.array(avg_scooter_loc_max_2)[sel_index_2],\n",
    "                        np.array(avg_scooter_loc_max_3)[sel_index_3],\n",
    "                        np.array(avg_scooter_loc_max_4)[sel_index_4],\n",
    "                        np.array(avg_scooter_loc_max_5)[sel_index_5],\n",
    "                        np.array(avg_scooter_loc_max_6)[sel_index_6],\n",
    "                        np.array(avg_scooter_loc_max_7)[sel_index_7],\n",
    "                        np.array(avg_scooter_loc_max_8)[sel_index_8],\n",
    "                        np.array(avg_scooter_loc_max_9)[sel_index_9],\n",
    "                        np.array(avg_scooter_loc_max_10)[sel_index_10],\n",
    "                        np.array(avg_scooter_loc_max_11)[sel_index_11],\n",
    "                        np.array(avg_scooter_loc_max_12)[sel_index_12]]\n",
    "max_scooter_loc_mean_grid = []\n",
    "max_scooter_loc_std_grid = []\n",
    "for ii in range(len(num_transPOI_reward_unit_list)):\n",
    "    max_scooter_loc_mean_grid.append(np.mean(max_scooter_loc_list_grid[ii]))\n",
    "    max_scooter_loc_std_grid.append(np.std(max_scooter_loc_list_grid[ii]))\n",
    "\n",
    "print(\"Plotting resulting graph...\")\n",
    "# plt.figure(figsize = (12, 9))\n",
    "l1 = plt.errorbar(num_transPOI_reward_unit_list, max_scooter_loc_mean_grid, yerr=max_scooter_loc_std_grid, fmt='o-', capsize=5) # ecolor='gray', \n",
    "\n",
    "print(\"Plotting baseline 1...\")\n",
    "# plt.legend(loc='best',prop={'size': 10})\n",
    "plt.ylabel(\"Count of scooter locations\")\n",
    "plt.xlabel(\"num_transPOI_reward_unit\")\n",
    "\n",
    "print(\"End: \" + datetime.now().strftime('%Y-%m-%d %H:%M:%S'))"
   ]
  },
  {
   "cell_type": "code",
   "execution_count": 32,
   "id": "395b0814",
   "metadata": {},
   "outputs": [
    {
     "name": "stdout",
     "output_type": "stream",
     "text": [
      "End: 2025-07-13 08:23:14\n",
      "Plotting resulting graph...\n",
      "Plotting baseline 1...\n",
      "End: 2025-07-13 08:23:14\n"
     ]
    },
    {
     "data": {
      "image/png": "[encoded data removed]",
      "text/plain": [
       "<Figure size 432x288 with 1 Axes>"
      ]
     },
     "metadata": {
      "needs_background": "light"
     },
     "output_type": "display_data"
    }
   ],
   "source": [
    "# Plot the graphs of average rewards during testing phases of the policy\n",
    "# gradient method and the hand-crafted policies\n",
    "\n",
    "print(\"End: \" + datetime.now().strftime('%Y-%m-%d %H:%M:%S'))\n",
    "\n",
    "max_wANNR_list_grid = np.array([avg_wANNR_max_2,\n",
    "                                avg_wANNR_max_3,\n",
    "                                avg_wANNR_max_4,\n",
    "                                avg_wANNR_max_5,\n",
    "                                avg_wANNR_max_6,\n",
    "                                avg_wANNR_max_7,\n",
    "                                avg_wANNR_max_8,\n",
    "                                avg_wANNR_max_9,\n",
    "                                avg_wANNR_max_10,\n",
    "                                avg_wANNR_max_11,\n",
    "                                avg_wANNR_max_12])\n",
    "max_wANNR_mean_grid = np.mean(max_wANNR_list_grid, axis=1)\n",
    "max_wANNR_std_grid = np.std(max_wANNR_list_grid, axis=1)\n",
    "\n",
    "print(\"Plotting resulting graph...\")\n",
    "# plt.figure(figsize = (12, 9))\n",
    "l1 = plt.errorbar(num_transPOI_reward_unit_list, max_wANNR_mean_grid, yerr=max_wANNR_std_grid, fmt='o-', capsize=5) # ecolor='gray', \n",
    "\n",
    "print(\"Plotting baseline 1...\")\n",
    "# plt.legend(loc='best',prop={'size': 10})\n",
    "plt.ylabel(\"wANNR\")\n",
    "plt.xlabel(\"num_transPOI_reward_unit\")\n",
    "\n",
    "print(\"End: \" + datetime.now().strftime('%Y-%m-%d %H:%M:%S'))"
   ]
  },
  {
   "cell_type": "code",
   "execution_count": 33,
   "id": "3aafeb84",
   "metadata": {},
   "outputs": [
    {
     "data": {
      "text/plain": [
       "array([[0.47697236, 0.45222211, 0.48092157, 0.46968629, 0.48227645,\n",
       "        0.47501255, 0.47231197, 0.47693703, 0.45224485, 0.47766905],\n",
       "       [0.47844558, 0.47835625, 0.47413098, 0.47590799, 0.47746689,\n",
       "        0.47570769, 0.47170466, 0.48115671, 0.47798031, 0.48303431],\n",
       "       [0.47563949, 0.45924286, 0.47533787, 0.45783971, 0.47652158,\n",
       "        0.4822087 , 0.47160291, 0.47621048, 0.48250647, 0.47679417],\n",
       "       [0.45922445, 0.45643296, 0.46478426, 0.46478426, 0.46478426,\n",
       "        0.46478426, 0.46478426, 0.46478426, 0.46478426, 0.46478426],\n",
       "       [0.4784314 , 0.48143754, 0.47341146, 0.47258919, 0.4849058 ,\n",
       "        0.47582324, 0.48836054, 0.48013334, 0.48035898, 0.48095   ],\n",
       "       [0.49123868, 0.47716769, 0.48199675, 0.47106779, 0.47661043,\n",
       "        0.47380982, 0.48144406, 0.48518157, 0.4745204 , 0.47583488],\n",
       "       [0.47365319, 0.48006129, 0.48282372, 0.47418987, 0.47589019,\n",
       "        0.47459028, 0.46526342, 0.47068525, 0.46800474, 0.47610428],\n",
       "       [0.45783984, 0.45080705, 0.47965286, 0.47965286, 0.47965286,\n",
       "        0.47965286, 0.47965286, 0.47965286, 0.47965286, 0.47965286],\n",
       "       [0.4768973 , 0.47229125, 0.47768184, 0.47770421, 0.48757151,\n",
       "        0.4793026 , 0.4832994 , 0.47926023, 0.48466089, 0.48327881],\n",
       "       [0.4716085 , 0.4716085 , 0.4716085 , 0.4716085 , 0.4716085 ,\n",
       "        0.4716085 , 0.4716085 , 0.4716085 , 0.4716085 , 0.4716085 ],\n",
       "       [0.46214118, 0.4659933 , 0.48652642, 0.4917799 , 0.47985985,\n",
       "        0.46357686, 0.47196561, 0.47530355, 0.47936432, 0.47233688]])"
      ]
     },
     "execution_count": 33,
     "metadata": {},
     "output_type": "execute_result"
    }
   ],
   "source": [
    "max_wANNR_list_grid"
   ]
  },
  {
   "cell_type": "code",
   "execution_count": 34,
   "id": "66db0af5",
   "metadata": {},
   "outputs": [
    {
     "name": "stdout",
     "output_type": "stream",
     "text": [
      "End: 2025-07-13 08:23:14\n",
      "Plotting resulting graph...\n",
      "Plotting baseline 1...\n",
      "End: 2025-07-13 08:23:14\n"
     ]
    },
    {
     "data": {
      "image/png": "[encoded data removed]",
      "text/plain": [
       "<Figure size 432x288 with 1 Axes>"
      ]
     },
     "metadata": {
      "needs_background": "light"
     },
     "output_type": "display_data"
    }
   ],
   "source": [
    "# Plot the graphs of average rewards during testing phases of the policy\n",
    "# gradient method and the hand-crafted policies\n",
    "\n",
    "print(\"End: \" + datetime.now().strftime('%Y-%m-%d %H:%M:%S'))\n",
    "\n",
    "max_wANNR_list_grid = [np.array(avg_wANNR_max_2)[sel_index_2],\n",
    "                        np.array(avg_wANNR_max_3)[sel_index_3],\n",
    "                        np.array(avg_wANNR_max_4)[sel_index_4],\n",
    "                        np.array(avg_wANNR_max_5)[sel_index_5],\n",
    "                        np.array(avg_wANNR_max_6)[sel_index_6],\n",
    "                        np.array(avg_wANNR_max_7)[sel_index_7],\n",
    "                        np.array(avg_wANNR_max_8)[sel_index_8],\n",
    "                        np.array(avg_wANNR_max_9)[sel_index_9],\n",
    "                        np.array(avg_wANNR_max_10)[sel_index_10],\n",
    "                        np.array(avg_wANNR_max_11)[sel_index_11],\n",
    "                        np.array(avg_wANNR_max_12)[sel_index_12]]\n",
    "max_wANNR_mean_grid = []\n",
    "max_wANNR_std_grid = []\n",
    "for ii in range(len(num_transPOI_reward_unit_list)):\n",
    "    max_wANNR_mean_grid.append(np.mean(max_wANNR_list_grid[ii]))\n",
    "    max_wANNR_std_grid.append(np.std(max_wANNR_list_grid[ii]))\n",
    "\n",
    "print(\"Plotting resulting graph...\")\n",
    "# plt.figure(figsize = (12, 9))\n",
    "l1 = plt.errorbar(num_transPOI_reward_unit_list, max_wANNR_mean_grid, yerr=max_wANNR_std_grid, fmt='o-', capsize=5) # ecolor='gray', \n",
    "\n",
    "print(\"Plotting baseline 1...\")\n",
    "# plt.legend(loc='best',prop={'size': 10})\n",
    "plt.ylabel(\"wANNR\")\n",
    "plt.xlabel(\"num_transPOI_reward_unit\")\n",
    "\n",
    "print(\"End: \" + datetime.now().strftime('%Y-%m-%d %H:%M:%S'))"
   ]
  },
  {
   "cell_type": "code",
   "execution_count": 35,
   "id": "1995c33d",
   "metadata": {},
   "outputs": [
    {
     "name": "stdout",
     "output_type": "stream",
     "text": [
      "End: 2025-07-13 08:23:14\n",
      "Plotting resulting graph...\n",
      "Plotting baseline 1...\n",
      "End: 2025-07-13 08:23:14\n"
     ]
    },
    {
     "data": {
      "image/png": "[encoded data removed]",
      "text/plain": [
       "<Figure size 432x288 with 1 Axes>"
      ]
     },
     "metadata": {
      "needs_background": "light"
     },
     "output_type": "display_data"
    }
   ],
   "source": [
    "# Plot the graphs of average rewards during testing phases of the policy\n",
    "# gradient method and the hand-crafted policies\n",
    "\n",
    "print(\"End: \" + datetime.now().strftime('%Y-%m-%d %H:%M:%S'))\n",
    "\n",
    "max_moran_list_grid = np.array([avg_moran_max_2,\n",
    "                                avg_moran_max_3,\n",
    "                                avg_moran_max_4,\n",
    "                                avg_moran_max_5,\n",
    "                                avg_moran_max_6,\n",
    "                                avg_moran_max_7,\n",
    "                                avg_moran_max_8,\n",
    "                                avg_moran_max_9,\n",
    "                                avg_moran_max_10,\n",
    "                                avg_moran_max_11,\n",
    "                                avg_moran_max_12])\n",
    "max_moran_mean_grid = np.mean(max_moran_list_grid, axis=1)\n",
    "max_moran_std_grid = np.std(max_moran_list_grid, axis=1)\n",
    "\n",
    "print(\"Plotting resulting graph...\")\n",
    "# plt.figure(figsize = (12, 9))\n",
    "l1 = plt.errorbar(num_transPOI_reward_unit_list, max_moran_mean_grid, yerr=max_moran_std_grid, fmt='o-', capsize=5) # ecolor='gray', \n",
    "\n",
    "print(\"Plotting baseline 1...\")\n",
    "# plt.legend(loc='best',prop={'size': 10})\n",
    "plt.ylabel(\"Moran's I\")\n",
    "plt.xlabel(\"num_transPOI_reward_unit\")\n",
    "\n",
    "print(\"End: \" + datetime.now().strftime('%Y-%m-%d %H:%M:%S'))"
   ]
  },
  {
   "cell_type": "code",
   "execution_count": 36,
   "id": "c15474f8",
   "metadata": {},
   "outputs": [
    {
     "data": {
      "text/plain": [
       "array([[0.03733134, 0.03945138, 0.03917717, 0.03560641, 0.037637  ,\n",
       "        0.03918271, 0.03639812, 0.0367349 , 0.036419  , 0.04002887],\n",
       "       [0.03833962, 0.03658601, 0.03775325, 0.03597327, 0.03672589,\n",
       "        0.03930207, 0.03704781, 0.03840166, 0.03720744, 0.03911596],\n",
       "       [0.0424034 , 0.03860811, 0.03826193, 0.04912958, 0.03535851,\n",
       "        0.03763784, 0.0388914 , 0.03615174, 0.03732143, 0.03687828],\n",
       "       [0.040559  , 0.03511436, 0.04210967, 0.04210967, 0.04210967,\n",
       "        0.04210967, 0.04210967, 0.04210967, 0.04210967, 0.04210967],\n",
       "       [0.03860643, 0.03931921, 0.04015126, 0.0365444 , 0.03717925,\n",
       "        0.04110921, 0.03870841, 0.03859846, 0.03866237, 0.03894482],\n",
       "       [0.04205718, 0.04012042, 0.03623591, 0.03900353, 0.0383537 ,\n",
       "        0.03859157, 0.04022809, 0.03494867, 0.03938209, 0.03724498],\n",
       "       [0.03684165, 0.03769397, 0.04133698, 0.03920966, 0.04118933,\n",
       "        0.03827917, 0.0416795 , 0.04015669, 0.03788206, 0.0392773 ],\n",
       "       [0.04102007, 0.03712024, 0.04414364, 0.04414364, 0.04414364,\n",
       "        0.04414364, 0.04414364, 0.04414364, 0.04414364, 0.04414364],\n",
       "       [0.03910378, 0.03569183, 0.04043019, 0.03831398, 0.03831141,\n",
       "        0.0379164 , 0.0377446 , 0.03822276, 0.03867469, 0.03723516],\n",
       "       [0.0409365 , 0.0409365 , 0.0409365 , 0.0409365 , 0.0409365 ,\n",
       "        0.0409365 , 0.0409365 , 0.0409365 , 0.0409365 , 0.0409365 ],\n",
       "       [0.03996224, 0.03992228, 0.03797126, 0.04228688, 0.03816932,\n",
       "        0.03730737, 0.03621599, 0.0386083 , 0.03879173, 0.04031328]])"
      ]
     },
     "execution_count": 36,
     "metadata": {},
     "output_type": "execute_result"
    }
   ],
   "source": [
    "max_moran_list_grid"
   ]
  },
  {
   "cell_type": "code",
   "execution_count": 37,
   "id": "bbec88e4",
   "metadata": {},
   "outputs": [
    {
     "name": "stdout",
     "output_type": "stream",
     "text": [
      "End: 2025-07-13 08:23:14\n",
      "Plotting resulting graph...\n",
      "Plotting baseline 1...\n",
      "End: 2025-07-13 08:23:14\n"
     ]
    },
    {
     "data": {
      "image/png": "[encoded data removed]",
      "text/plain": [
       "<Figure size 432x288 with 1 Axes>"
      ]
     },
     "metadata": {
      "needs_background": "light"
     },
     "output_type": "display_data"
    }
   ],
   "source": [
    "# Plot the graphs of average rewards during testing phases of the policy\n",
    "# gradient method and the hand-crafted policies\n",
    "\n",
    "print(\"End: \" + datetime.now().strftime('%Y-%m-%d %H:%M:%S'))\n",
    "\n",
    "max_moran_list_grid = [np.array(avg_moran_max_2)[sel_index_2],\n",
    "                        np.array(avg_moran_max_3)[sel_index_3],\n",
    "                        np.array(avg_moran_max_4)[sel_index_4],\n",
    "                        np.array(avg_moran_max_5)[sel_index_5],\n",
    "                        np.array(avg_moran_max_6)[sel_index_6],\n",
    "                        np.array(avg_moran_max_7)[sel_index_7],\n",
    "                        np.array(avg_moran_max_8)[sel_index_8],\n",
    "                        np.array(avg_moran_max_9)[sel_index_9],\n",
    "                        np.array(avg_moran_max_10)[sel_index_10],\n",
    "                        np.array(avg_moran_max_11)[sel_index_11],\n",
    "                        np.array(avg_moran_max_12)[sel_index_12]]\n",
    "max_moran_mean_grid = []\n",
    "max_moran_std_grid = []\n",
    "for ii in range(len(num_transPOI_reward_unit_list)):\n",
    "    max_moran_mean_grid.append(np.mean(max_moran_list_grid[ii]))\n",
    "    max_moran_std_grid.append(np.std(max_moran_list_grid[ii]))\n",
    "\n",
    "print(\"Plotting resulting graph...\")\n",
    "# plt.figure(figsize = (12, 9))\n",
    "l1 = plt.errorbar(num_transPOI_reward_unit_list, max_moran_mean_grid, yerr=max_moran_std_grid, fmt='o-', capsize=5) # ecolor='gray', \n",
    "\n",
    "print(\"Plotting baseline 1...\")\n",
    "# plt.legend(loc='best',prop={'size': 10})\n",
    "plt.ylabel(\"Moran's I\")\n",
    "plt.xlabel(\"num_transPOI_reward_unit\")\n",
    "\n",
    "print(\"End: \" + datetime.now().strftime('%Y-%m-%d %H:%M:%S'))"
   ]
  },
  {
   "cell_type": "code",
   "execution_count": 38,
   "id": "622617ec",
   "metadata": {},
   "outputs": [
    {
     "name": "stdout",
     "output_type": "stream",
     "text": [
      "End: 2025-07-13 08:23:14\n",
      "Plotting resulting graph...\n",
      "Plotting baseline 1...\n",
      "End: 2025-07-13 08:23:14\n"
     ]
    },
    {
     "data": {
      "image/png": "[encoded data removed]",
      "text/plain": [
       "<Figure size 432x288 with 1 Axes>"
      ]
     },
     "metadata": {
      "needs_background": "light"
     },
     "output_type": "display_data"
    }
   ],
   "source": [
    "# Plot the graphs of average rewards during testing phases of the policy\n",
    "# gradient method and the hand-crafted policies\n",
    "\n",
    "print(\"End: \" + datetime.now().strftime('%Y-%m-%d %H:%M:%S'))\n",
    "\n",
    "max_gini_list_grid = np.array([avg_gini_max_2,\n",
    "                                avg_gini_max_3,\n",
    "                                avg_gini_max_4,\n",
    "                                avg_gini_max_5,\n",
    "                                avg_gini_max_6,\n",
    "                                avg_gini_max_7,\n",
    "                                avg_gini_max_8,\n",
    "                                avg_gini_max_9,\n",
    "                                avg_gini_max_10,\n",
    "                                avg_gini_max_11,\n",
    "                                avg_gini_max_12])\n",
    "max_gini_mean_grid = np.mean(max_gini_list_grid, axis=1)\n",
    "max_gini_std_grid = np.std(max_gini_list_grid, axis=1)\n",
    "\n",
    "print(\"Plotting resulting graph...\")\n",
    "# plt.figure(figsize = (12, 9))\n",
    "l1 = plt.errorbar(num_transPOI_reward_unit_list, max_gini_mean_grid, yerr=max_gini_std_grid, fmt='o-', capsize=5) # ecolor='gray', \n",
    "\n",
    "print(\"Plotting baseline 1...\")\n",
    "# plt.legend(loc='best',prop={'size': 10})\n",
    "plt.ylabel(\"Gini index\")\n",
    "plt.xlabel(\"num_transPOI_reward_unit\")\n",
    "\n",
    "print(\"End: \" + datetime.now().strftime('%Y-%m-%d %H:%M:%S'))"
   ]
  },
  {
   "cell_type": "code",
   "execution_count": 39,
   "id": "b8a3ecb2",
   "metadata": {},
   "outputs": [
    {
     "data": {
      "text/plain": [
       "array([[0.9468154 , 0.94606448, 0.94661586, 0.94514827, 0.94603534,\n",
       "        0.94827982, 0.94731677, 0.94751049, 0.94864463, 0.94773379],\n",
       "       [0.94751694, 0.94935856, 0.94903972, 0.94996329, 0.94855727,\n",
       "        0.94852584, 0.94803404, 0.94862624, 0.9471093 , 0.94903279],\n",
       "       [0.94422329, 0.94964195, 0.94652693, 0.94821466, 0.94853443,\n",
       "        0.94858099, 0.94770425, 0.95005237, 0.94938226, 0.949267  ],\n",
       "       [0.9455899 , 0.95542423, 0.94332231, 0.94332231, 0.94332231,\n",
       "        0.94332231, 0.94332231, 0.94332231, 0.94332231, 0.94332231],\n",
       "       [0.94970891, 0.94770923, 0.94982763, 0.94547734, 0.94662957,\n",
       "        0.94566654, 0.94895063, 0.94672511, 0.9483374 , 0.94733137],\n",
       "       [0.94788231, 0.94661875, 0.94811817, 0.94765698, 0.94679034,\n",
       "        0.94733654, 0.94803444, 0.94940491, 0.94669968, 0.94657806],\n",
       "       [0.94952799, 0.94857322, 0.94716141, 0.94679715, 0.94565587,\n",
       "        0.94892778, 0.94962143, 0.94784067, 0.94474407, 0.94778699],\n",
       "       [0.94895269, 0.95079568, 0.93666346, 0.93666346, 0.93666346,\n",
       "        0.93666346, 0.93666346, 0.93666346, 0.93666346, 0.93666346],\n",
       "       [0.94638193, 0.95064929, 0.94688462, 0.94739847, 0.94784649,\n",
       "        0.94905284, 0.95003914, 0.94948986, 0.94763416, 0.9481869 ],\n",
       "       [0.94349407, 0.94349407, 0.94349407, 0.94349407, 0.94349407,\n",
       "        0.94349407, 0.94349407, 0.94349407, 0.94349407, 0.94349407],\n",
       "       [0.94650482, 0.94781462, 0.94775579, 0.93893304, 0.93873348,\n",
       "        0.94527708, 0.94937576, 0.94633388, 0.94637818, 0.94654275]])"
      ]
     },
     "execution_count": 39,
     "metadata": {},
     "output_type": "execute_result"
    }
   ],
   "source": [
    "max_gini_list_grid"
   ]
  },
  {
   "cell_type": "code",
   "execution_count": 40,
   "id": "3331d0c3",
   "metadata": {},
   "outputs": [
    {
     "name": "stdout",
     "output_type": "stream",
     "text": [
      "End: 2025-07-13 08:23:15\n",
      "Plotting resulting graph...\n",
      "Plotting baseline 1...\n",
      "End: 2025-07-13 08:23:15\n"
     ]
    },
    {
     "data": {
      "image/png": "[encoded data removed]",
      "text/plain": [
       "<Figure size 432x288 with 1 Axes>"
      ]
     },
     "metadata": {
      "needs_background": "light"
     },
     "output_type": "display_data"
    }
   ],
   "source": [
    "# Plot the graphs of average rewards during testing phases of the policy\n",
    "# gradient method and the hand-crafted policies\n",
    "\n",
    "print(\"End: \" + datetime.now().strftime('%Y-%m-%d %H:%M:%S'))\n",
    "\n",
    "max_gini_list_grid = [np.array(avg_gini_max_2)[sel_index_2],\n",
    "                        np.array(avg_gini_max_3)[sel_index_3],\n",
    "                        np.array(avg_gini_max_4)[sel_index_4],\n",
    "                        np.array(avg_gini_max_5)[sel_index_5],\n",
    "                        np.array(avg_gini_max_6)[sel_index_6],\n",
    "                        np.array(avg_gini_max_7)[sel_index_7],\n",
    "                        np.array(avg_gini_max_8)[sel_index_8],\n",
    "                        np.array(avg_gini_max_9)[sel_index_9],\n",
    "                        np.array(avg_gini_max_10)[sel_index_10],\n",
    "                        np.array(avg_gini_max_11)[sel_index_11],\n",
    "                        np.array(avg_gini_max_12)[sel_index_12]]\n",
    "max_gini_mean_grid = []\n",
    "max_gini_std_grid = []\n",
    "for ii in range(len(num_transPOI_reward_unit_list)):\n",
    "    max_gini_mean_grid.append(np.mean(max_gini_list_grid[ii]))\n",
    "    max_gini_std_grid.append(np.std(max_gini_list_grid[ii]))\n",
    "\n",
    "print(\"Plotting resulting graph...\")\n",
    "# plt.figure(figsize = (12, 9))\n",
    "l1 = plt.errorbar(num_transPOI_reward_unit_list, max_gini_mean_grid, yerr=max_gini_std_grid, fmt='o-', capsize=5) # ecolor='gray', \n",
    "\n",
    "print(\"Plotting baseline 1...\")\n",
    "# plt.legend(loc='best',prop={'size': 10})\n",
    "plt.ylabel(\"Gini index\")\n",
    "plt.xlabel(\"num_transPOI_reward_unit\")\n",
    "\n",
    "print(\"End: \" + datetime.now().strftime('%Y-%m-%d %H:%M:%S'))"
   ]
  },
  {
   "cell_type": "code",
   "execution_count": 41,
   "id": "9399863c",
   "metadata": {},
   "outputs": [
    {
     "name": "stdout",
     "output_type": "stream",
     "text": [
      "End: 2025-07-13 08:23:15\n",
      "Plotting resulting graph...\n",
      "Plotting baseline 1...\n",
      "End: 2025-07-13 08:23:15\n"
     ]
    },
    {
     "data": {
      "image/png": "[encoded data removed]",
      "text/plain": [
       "<Figure size 432x288 with 1 Axes>"
      ]
     },
     "metadata": {
      "needs_background": "light"
     },
     "output_type": "display_data"
    }
   ],
   "source": [
    "# Plot the graphs of average rewards during testing phases of the policy\n",
    "# gradient method and the hand-crafted policies\n",
    "\n",
    "print(\"End: \" + datetime.now().strftime('%Y-%m-%d %H:%M:%S'))\n",
    "\n",
    "max_theil_list_grid = np.array([avg_theil_max_2,\n",
    "                                avg_theil_max_3,\n",
    "                                avg_theil_max_4,\n",
    "                                avg_theil_max_5,\n",
    "                                avg_theil_max_6,\n",
    "                                avg_theil_max_7,\n",
    "                                avg_theil_max_8,\n",
    "                                avg_theil_max_9,\n",
    "                                avg_theil_max_10,\n",
    "                                avg_theil_max_11,\n",
    "                                avg_theil_max_12])\n",
    "max_theil_mean_grid = np.mean(max_theil_list_grid, axis=1)\n",
    "max_theil_std_grid = np.std(max_theil_list_grid, axis=1)\n",
    "\n",
    "print(\"Plotting resulting graph...\")\n",
    "# plt.figure(figsize = (12, 9))\n",
    "l1 = plt.errorbar(num_transPOI_reward_unit_list, max_theil_mean_grid, yerr=max_theil_std_grid, fmt='o-', capsize=5) # ecolor='gray', \n",
    "\n",
    "print(\"Plotting baseline 1...\")\n",
    "# plt.legend(loc='best',prop={'size': 10})\n",
    "plt.ylabel(\"Theil index\")\n",
    "plt.xlabel(\"num_transPOI_reward_unit\")\n",
    "\n",
    "print(\"End: \" + datetime.now().strftime('%Y-%m-%d %H:%M:%S'))"
   ]
  },
  {
   "cell_type": "code",
   "execution_count": 42,
   "id": "18efe939",
   "metadata": {},
   "outputs": [
    {
     "data": {
      "text/plain": [
       "array([[0.22214785, 0.17408724, 0.20879123, 0.20054324, 0.21031961,\n",
       "        0.19959737, 0.20794868, 0.226233  , 0.20025253, 0.20651311],\n",
       "       [0.21595112, 0.22481906, 0.21270699, 0.22402908, 0.22325268,\n",
       "        0.20502119, 0.20290457, 0.21582177, 0.21383719, 0.22317488],\n",
       "       [0.2037146 , 0.18864626, 0.19819921, 0.16773296, 0.22608049,\n",
       "        0.22604432, 0.20116571, 0.23315532, 0.23245171, 0.22260992],\n",
       "       [0.18674712, 0.20895126, 0.16460472, 0.16460472, 0.16460472,\n",
       "        0.16460472, 0.16460472, 0.16460472, 0.16460472, 0.16460472],\n",
       "       [0.21652539, 0.21646735, 0.21455379, 0.20739957, 0.2214314 ,\n",
       "        0.19631705, 0.2297452 , 0.20424878, 0.22009143, 0.20246076],\n",
       "       [0.21984593, 0.19705236, 0.21337649, 0.19100052, 0.19821837,\n",
       "        0.19616348, 0.21300048, 0.23933034, 0.19977238, 0.20954002],\n",
       "       [0.21997347, 0.21259394, 0.21142042, 0.20843989, 0.20758767,\n",
       "        0.20859063, 0.21392885, 0.19682814, 0.19343592, 0.22620693],\n",
       "       [0.18298913, 0.19322193, 0.180892  , 0.180892  , 0.180892  ,\n",
       "        0.180892  , 0.180892  , 0.180892  , 0.180892  , 0.180892  ],\n",
       "       [0.21345951, 0.21895223, 0.20217332, 0.20726506, 0.22594037,\n",
       "        0.21204768, 0.23187552, 0.22242587, 0.22322767, 0.22392496],\n",
       "       [0.18689407, 0.18689407, 0.18689407, 0.18689407, 0.18689407,\n",
       "        0.18689407, 0.18689407, 0.18689407, 0.18689407, 0.18689407],\n",
       "       [0.17776201, 0.19519276, 0.22580517, 0.19197758, 0.18799582,\n",
       "        0.18519866, 0.21336672, 0.20856951, 0.21282578, 0.19901096]])"
      ]
     },
     "execution_count": 42,
     "metadata": {},
     "output_type": "execute_result"
    }
   ],
   "source": [
    "max_theil_list_grid"
   ]
  },
  {
   "cell_type": "code",
   "execution_count": 43,
   "id": "e57faad4",
   "metadata": {
    "scrolled": true
   },
   "outputs": [
    {
     "name": "stdout",
     "output_type": "stream",
     "text": [
      "End: 2025-07-13 08:23:15\n",
      "Plotting resulting graph...\n",
      "Plotting baseline 1...\n",
      "End: 2025-07-13 08:23:15\n"
     ]
    },
    {
     "data": {
      "image/png": "[encoded data removed]",
      "text/plain": [
       "<Figure size 432x288 with 1 Axes>"
      ]
     },
     "metadata": {
      "needs_background": "light"
     },
     "output_type": "display_data"
    }
   ],
   "source": [
    "# Plot the graphs of average rewards during testing phases of the policy\n",
    "# gradient method and the hand-crafted policies\n",
    "\n",
    "print(\"End: \" + datetime.now().strftime('%Y-%m-%d %H:%M:%S'))\n",
    "\n",
    "max_theil_list_grid = [np.array(avg_theil_max_2)[sel_index_2],\n",
    "                        np.array(avg_theil_max_3)[sel_index_3],\n",
    "                        np.array(avg_theil_max_4)[sel_index_4],\n",
    "                        np.array(avg_theil_max_5)[sel_index_5],\n",
    "                        np.array(avg_theil_max_6)[sel_index_6],\n",
    "                        np.array(avg_theil_max_7)[sel_index_7],\n",
    "                        np.array(avg_theil_max_8)[sel_index_8],\n",
    "                        np.array(avg_theil_max_9)[sel_index_9],\n",
    "                        np.array(avg_theil_max_10)[sel_index_10],\n",
    "                        np.array(avg_theil_max_11)[sel_index_11],\n",
    "                        np.array(avg_theil_max_12)[sel_index_12]]\n",
    "max_theil_mean_grid = []\n",
    "max_theil_std_grid = []\n",
    "for ii in range(len(num_transPOI_reward_unit_list)):\n",
    "    max_theil_mean_grid.append(np.mean(max_theil_list_grid[ii]))\n",
    "    max_theil_std_grid.append(np.std(max_theil_list_grid[ii]))\n",
    "\n",
    "print(\"Plotting resulting graph...\")\n",
    "# plt.figure(figsize = (12, 9))\n",
    "l1 = plt.errorbar(num_transPOI_reward_unit_list, max_theil_mean_grid, yerr=max_theil_std_grid, fmt='o-', capsize=5) # ecolor='gray', \n",
    "\n",
    "print(\"Plotting baseline 1...\")\n",
    "# plt.legend(loc='best',prop={'size': 10})\n",
    "plt.ylabel(\"Theil index\")\n",
    "plt.xlabel(\"num_transPOI_reward_unit\")\n",
    "\n",
    "print(\"End: \" + datetime.now().strftime('%Y-%m-%d %H:%M:%S'))"
   ]
  },
  {
   "cell_type": "code",
   "execution_count": 44,
   "id": "5d0636e8",
   "metadata": {},
   "outputs": [
    {
     "name": "stdout",
     "output_type": "stream",
     "text": [
      "End: 2025-07-13 08:23:15\n",
      "Plotting resulting graph...\n",
      "Plotting baseline 1...\n",
      "End: 2025-07-13 08:23:15\n"
     ]
    },
    {
     "data": {
      "image/png": "[encoded data removed]",
      "text/plain": [
       "<Figure size 432x288 with 1 Axes>"
      ]
     },
     "metadata": {
      "needs_background": "light"
     },
     "output_type": "display_data"
    }
   ],
   "source": [
    "# Plot the graphs of average rewards during testing phases of the policy\n",
    "# gradient method and the hand-crafted policies\n",
    "\n",
    "print(\"End: \" + datetime.now().strftime('%Y-%m-%d %H:%M:%S'))\n",
    "\n",
    "max_EMD_list_grid = np.array([avg_EMD_max_2,\n",
    "                                avg_EMD_max_3,\n",
    "                                avg_EMD_max_4,\n",
    "                                avg_EMD_max_5,\n",
    "                                avg_EMD_max_6,\n",
    "                                avg_EMD_max_7,\n",
    "                                avg_EMD_max_8,\n",
    "                                avg_EMD_max_9,\n",
    "                                avg_EMD_max_10,\n",
    "                                avg_EMD_max_11,\n",
    "                                avg_EMD_max_12])\n",
    "max_EMD_mean_grid = np.mean(max_EMD_list_grid, axis=1)\n",
    "max_EMD_std_grid = np.std(max_EMD_list_grid, axis=1)\n",
    "\n",
    "print(\"Plotting resulting graph...\")\n",
    "# plt.figure(figsize = (12, 9))\n",
    "l1 = plt.errorbar(num_transPOI_reward_unit_list, max_EMD_mean_grid, yerr=max_EMD_std_grid, fmt='o-', capsize=5) # ecolor='gray', \n",
    "\n",
    "print(\"Plotting baseline 1...\")\n",
    "# plt.legend(loc='best',prop={'size': 10})\n",
    "plt.ylabel(\"EMD\")\n",
    "plt.xlabel(\"num_transPOI_reward_unit\")\n",
    "\n",
    "print(\"End: \" + datetime.now().strftime('%Y-%m-%d %H:%M:%S'))"
   ]
  },
  {
   "cell_type": "code",
   "execution_count": 45,
   "id": "88c0520f",
   "metadata": {},
   "outputs": [
    {
     "data": {
      "text/plain": [
       "array([[2.01218791, 2.05775537, 2.0048856 , 1.94982273, 1.96311855,\n",
       "        2.00465266, 1.9760607 , 2.00886505, 1.97387655, 2.02516906],\n",
       "       [1.99334518, 1.99994236, 1.99447296, 1.98312844, 1.99547584,\n",
       "        2.02104644, 1.98246641, 2.01515226, 1.98428092, 2.02497288],\n",
       "       [2.03107952, 2.01704142, 1.93469698, 2.13757371, 1.97129799,\n",
       "        2.00532208, 2.00003233, 2.00753796, 2.01712927, 2.02970743],\n",
       "       [2.0765682 , 2.02891977, 1.93688531, 1.93688531, 1.93688531,\n",
       "        1.93688531, 1.93688531, 1.93688531, 1.93688531, 1.93688531],\n",
       "       [2.02580643, 2.00651632, 2.04576467, 1.96691045, 1.98363937,\n",
       "        2.0259076 , 2.02666341, 1.97659877, 2.00884963, 1.98284866],\n",
       "       [2.0423262 , 1.99513029, 1.97923319, 1.99126412, 1.97823412,\n",
       "        1.976653  , 2.02847937, 1.9806494 , 1.99116627, 1.96105595],\n",
       "       [2.00691184, 2.01829339, 2.04191817, 1.98677713, 2.02262576,\n",
       "        2.00988334, 2.02819542, 1.99394964, 1.95645946, 2.0350667 ],\n",
       "       [2.0346762 , 1.99525073, 1.98816747, 1.98816747, 1.98816747,\n",
       "        1.98816747, 1.98816747, 1.98816747, 1.98816747, 1.98816747],\n",
       "       [1.9893995 , 1.9844732 , 1.98461841, 1.97559801, 2.00817092,\n",
       "        2.02764601, 2.03421739, 2.02833507, 2.0124275 , 1.98923626],\n",
       "       [1.94686401, 1.94686401, 1.94686401, 1.94686401, 1.94686401,\n",
       "        1.94686401, 1.94686401, 1.94686401, 1.94686401, 1.94686401],\n",
       "       [1.97941413, 1.9981478 , 1.99901285, 1.94805163, 1.88914615,\n",
       "        1.93138223, 1.98495733, 1.97928373, 1.97850717, 2.00498715]])"
      ]
     },
     "execution_count": 45,
     "metadata": {},
     "output_type": "execute_result"
    }
   ],
   "source": [
    "max_EMD_list_grid"
   ]
  },
  {
   "cell_type": "code",
   "execution_count": 46,
   "id": "8b10664d",
   "metadata": {},
   "outputs": [
    {
     "name": "stdout",
     "output_type": "stream",
     "text": [
      "End: 2025-07-13 08:23:15\n",
      "Plotting resulting graph...\n",
      "Plotting baseline 1...\n",
      "End: 2025-07-13 08:23:15\n"
     ]
    },
    {
     "data": {
      "image/png": "[encoded data removed]",
      "text/plain": [
       "<Figure size 432x288 with 1 Axes>"
      ]
     },
     "metadata": {
      "needs_background": "light"
     },
     "output_type": "display_data"
    }
   ],
   "source": [
    "# Plot the graphs of average rewards during testing phases of the policy\n",
    "# gradient method and the hand-crafted policies\n",
    "\n",
    "print(\"End: \" + datetime.now().strftime('%Y-%m-%d %H:%M:%S'))\n",
    "\n",
    "max_EMD_list_grid = [np.array(avg_EMD_max_2)[sel_index_2],\n",
    "                        np.array(avg_EMD_max_3)[sel_index_3],\n",
    "                        np.array(avg_EMD_max_4)[sel_index_4],\n",
    "                        np.array(avg_EMD_max_5)[sel_index_5],\n",
    "                        np.array(avg_EMD_max_6)[sel_index_6],\n",
    "                        np.array(avg_EMD_max_7)[sel_index_7],\n",
    "                        np.array(avg_EMD_max_8)[sel_index_8],\n",
    "                        np.array(avg_EMD_max_9)[sel_index_9],\n",
    "                        np.array(avg_EMD_max_10)[sel_index_10],\n",
    "                        np.array(avg_EMD_max_11)[sel_index_11],\n",
    "                        np.array(avg_EMD_max_12)[sel_index_12]]\n",
    "max_EMD_mean_grid = []\n",
    "max_EMD_std_grid = []\n",
    "for ii in range(len(num_transPOI_reward_unit_list)):\n",
    "    max_EMD_mean_grid.append(np.mean(max_EMD_list_grid[ii]))\n",
    "    max_EMD_std_grid.append(np.std(max_EMD_list_grid[ii]))\n",
    "\n",
    "print(\"Plotting resulting graph...\")\n",
    "# plt.figure(figsize = (12, 9))\n",
    "l1 = plt.errorbar(num_transPOI_reward_unit_list, max_EMD_mean_grid, yerr=max_EMD_std_grid, fmt='o-', capsize=5) # ecolor='gray', \n",
    "\n",
    "print(\"Plotting baseline 1...\")\n",
    "# plt.legend(loc='best',prop={'size': 10})\n",
    "plt.ylabel(\"EMD\")\n",
    "plt.xlabel(\"num_transPOI_reward_unit\")\n",
    "\n",
    "print(\"End: \" + datetime.now().strftime('%Y-%m-%d %H:%M:%S'))"
   ]
  },
  {
   "cell_type": "code",
   "execution_count": 47,
   "id": "b5f1eb35",
   "metadata": {},
   "outputs": [
    {
     "name": "stdout",
     "output_type": "stream",
     "text": [
      "End: 2025-07-13 08:23:15\n",
      "Plotting resulting graph...\n",
      "Plotting baseline 1...\n",
      "End: 2025-07-13 08:23:15\n"
     ]
    },
    {
     "data": {
      "image/png": "[encoded data removed]",
      "text/plain": [
       "<Figure size 432x288 with 1 Axes>"
      ]
     },
     "metadata": {
      "needs_background": "light"
     },
     "output_type": "display_data"
    }
   ],
   "source": [
    "# Plot the graphs of average rewards during testing phases of the policy\n",
    "# gradient method and the hand-crafted policies\n",
    "\n",
    "print(\"End: \" + datetime.now().strftime('%Y-%m-%d %H:%M:%S'))\n",
    "\n",
    "max_centroid_list_grid = np.array([avg_centroid_max_2,\n",
    "                                avg_centroid_max_3,\n",
    "                                avg_centroid_max_4,\n",
    "                                avg_centroid_max_5,\n",
    "                                avg_centroid_max_6,\n",
    "                                avg_centroid_max_7,\n",
    "                                avg_centroid_max_8,\n",
    "                                avg_centroid_max_9,\n",
    "                                avg_centroid_max_10,\n",
    "                                avg_centroid_max_11,\n",
    "                                avg_centroid_max_12])\n",
    "max_centroid_mean_grid = np.mean(max_centroid_list_grid, axis=1)\n",
    "max_centroid_std_grid = np.std(max_centroid_list_grid, axis=1)\n",
    "\n",
    "print(\"Plotting resulting graph...\")\n",
    "# plt.figure(figsize = (12, 9))\n",
    "l1 = plt.errorbar(num_transPOI_reward_unit_list, max_centroid_mean_grid, yerr=max_centroid_std_grid, fmt='o-', capsize=5) # ecolor='gray', \n",
    "\n",
    "print(\"Plotting baseline 1...\")\n",
    "# plt.legend(loc='best',prop={'size': 10})\n",
    "plt.ylabel(\"Centroid shift\")\n",
    "plt.xlabel(\"num_transPOI_reward_unit\")\n",
    "\n",
    "print(\"End: \" + datetime.now().strftime('%Y-%m-%d %H:%M:%S'))"
   ]
  },
  {
   "cell_type": "code",
   "execution_count": 48,
   "id": "9e54b365",
   "metadata": {},
   "outputs": [
    {
     "data": {
      "text/plain": [
       "array([[0.93398203, 0.92423452, 0.98115048, 1.01462023, 0.93931078,\n",
       "        0.93852551, 0.96571134, 0.93884327, 0.92162864, 0.93292194],\n",
       "       [0.9009073 , 0.92859602, 0.94497375, 0.9297859 , 0.9035801 ,\n",
       "        0.94714482, 0.94637349, 0.9162791 , 0.92641284, 0.92251572],\n",
       "       [0.78732023, 0.92326984, 0.90658657, 0.98922986, 0.93055194,\n",
       "        0.92398758, 0.92442504, 0.89974368, 0.90596621, 0.9822489 ],\n",
       "       [1.06246718, 0.86963127, 0.9639908 , 0.9639908 , 0.9639908 ,\n",
       "        0.9639908 , 0.9639908 , 0.9639908 , 0.9639908 , 0.9639908 ],\n",
       "       [0.93935794, 0.94506635, 0.92101912, 0.99088998, 0.95760779,\n",
       "        0.93074411, 0.91233974, 0.9197087 , 0.9441144 , 0.93844161],\n",
       "       [0.9212047 , 0.92497558, 0.96425672, 0.93953513, 0.955883  ,\n",
       "        0.95429721, 0.93887379, 0.90114745, 0.93334161, 0.95768027],\n",
       "       [0.99635393, 0.96757742, 0.94663286, 0.91302979, 0.93272402,\n",
       "        0.93872497, 0.86256147, 0.926673  , 0.98585203, 0.9237173 ],\n",
       "       [0.99823075, 0.87678192, 0.96254583, 0.96254583, 0.96254583,\n",
       "        0.96254583, 0.96254583, 0.96254583, 0.96254583, 0.96254583],\n",
       "       [0.94968969, 0.93048771, 0.9278884 , 0.94629758, 0.92066112,\n",
       "        0.96375196, 0.91277319, 0.9208933 , 0.92261542, 0.9330283 ],\n",
       "       [1.05253407, 1.05253407, 1.05253407, 1.05253407, 1.05253407,\n",
       "        1.05253407, 1.05253407, 1.05253407, 1.05253407, 1.05253407],\n",
       "       [0.98093043, 0.92945344, 0.91885597, 0.89558712, 0.97997455,\n",
       "        0.90865074, 0.94930858, 0.93947254, 0.93755308, 0.9734311 ]])"
      ]
     },
     "execution_count": 48,
     "metadata": {},
     "output_type": "execute_result"
    }
   ],
   "source": [
    "max_centroid_list_grid"
   ]
  },
  {
   "cell_type": "code",
   "execution_count": 49,
   "id": "5deb1d7c",
   "metadata": {},
   "outputs": [
    {
     "name": "stdout",
     "output_type": "stream",
     "text": [
      "End: 2025-07-13 08:23:15\n",
      "Plotting resulting graph...\n",
      "Plotting baseline 1...\n",
      "End: 2025-07-13 08:23:15\n"
     ]
    },
    {
     "data": {
      "image/png": "[encoded data removed]",
      "text/plain": [
       "<Figure size 432x288 with 1 Axes>"
      ]
     },
     "metadata": {
      "needs_background": "light"
     },
     "output_type": "display_data"
    }
   ],
   "source": [
    "# Plot the graphs of average rewards during testing phases of the policy\n",
    "# gradient method and the hand-crafted policies\n",
    "\n",
    "print(\"End: \" + datetime.now().strftime('%Y-%m-%d %H:%M:%S'))\n",
    "\n",
    "max_centroid_list_grid = [np.array(avg_centroid_max_2)[sel_index_2],\n",
    "                        np.array(avg_centroid_max_3)[sel_index_3],\n",
    "                        np.array(avg_centroid_max_4)[sel_index_4],\n",
    "                        np.array(avg_centroid_max_5)[sel_index_5],\n",
    "                        np.array(avg_centroid_max_6)[sel_index_6],\n",
    "                        np.array(avg_centroid_max_7)[sel_index_7],\n",
    "                        np.array(avg_centroid_max_8)[sel_index_8],\n",
    "                        np.array(avg_centroid_max_9)[sel_index_9],\n",
    "                        np.array(avg_centroid_max_10)[sel_index_10],\n",
    "                        np.array(avg_centroid_max_11)[sel_index_11],\n",
    "                        np.array(avg_centroid_max_12)[sel_index_12]]\n",
    "max_centroid_mean_grid = []\n",
    "max_centroid_std_grid = []\n",
    "for ii in range(len(num_transPOI_reward_unit_list)):\n",
    "    max_centroid_mean_grid.append(np.mean(max_centroid_list_grid[ii]))\n",
    "    max_centroid_std_grid.append(np.std(max_centroid_list_grid[ii]))\n",
    "\n",
    "print(\"Plotting resulting graph...\")\n",
    "# plt.figure(figsize = (12, 9))\n",
    "l1 = plt.errorbar(num_transPOI_reward_unit_list, max_centroid_mean_grid, yerr=max_centroid_std_grid, fmt='o-', capsize=5) # ecolor='gray', \n",
    "\n",
    "print(\"Plotting baseline 1...\")\n",
    "# plt.legend(loc='best',prop={'size': 10})\n",
    "plt.ylabel(\"Centroid shift\")\n",
    "plt.xlabel(\"num_transPOI_reward_unit\")\n",
    "\n",
    "print(\"End: \" + datetime.now().strftime('%Y-%m-%d %H:%M:%S'))"
   ]
  },
  {
   "cell_type": "code",
   "execution_count": 50,
   "id": "21e988a6",
   "metadata": {},
   "outputs": [
    {
     "name": "stdout",
     "output_type": "stream",
     "text": [
      "End: 2025-07-13 08:23:15\n",
      "Plotting resulting graph...\n",
      "Plotting baseline 1...\n",
      "End: 2025-07-13 08:23:15\n"
     ]
    },
    {
     "data": {
      "image/png": "[encoded data removed]",
      "text/plain": [
       "<Figure size 432x288 with 1 Axes>"
      ]
     },
     "metadata": {
      "needs_background": "light"
     },
     "output_type": "display_data"
    }
   ],
   "source": [
    "# Plot the graphs of average rewards during testing phases of the policy\n",
    "# gradient method and the hand-crafted policies\n",
    "\n",
    "print(\"End: \" + datetime.now().strftime('%Y-%m-%d %H:%M:%S'))\n",
    "\n",
    "max_dispersion_list_grid = np.array([avg_dispersion_max_2,\n",
    "                                avg_dispersion_max_3,\n",
    "                                avg_dispersion_max_4,\n",
    "                                avg_dispersion_max_5,\n",
    "                                avg_dispersion_max_6,\n",
    "                                avg_dispersion_max_7,\n",
    "                                avg_dispersion_max_8,\n",
    "                                avg_dispersion_max_9,\n",
    "                                avg_dispersion_max_10,\n",
    "                                avg_dispersion_max_11,\n",
    "                                avg_dispersion_max_12])\n",
    "max_dispersion_mean_grid = np.mean(max_dispersion_list_grid, axis=1)\n",
    "max_dispersion_std_grid = np.std(max_dispersion_list_grid, axis=1)\n",
    "\n",
    "print(\"Plotting resulting graph...\")\n",
    "# plt.figure(figsize = (12, 9))\n",
    "l1 = plt.errorbar(num_transPOI_reward_unit_list, max_dispersion_mean_grid, yerr=max_dispersion_std_grid, fmt='o-', capsize=5) # ecolor='gray', \n",
    "\n",
    "print(\"Plotting baseline 1...\")\n",
    "# plt.legend(loc='best',prop={'size': 10})\n",
    "plt.ylabel(\"Dispersion shift\")\n",
    "plt.xlabel(\"num_transPOI_reward_unit\")\n",
    "\n",
    "print(\"End: \" + datetime.now().strftime('%Y-%m-%d %H:%M:%S'))"
   ]
  },
  {
   "cell_type": "code",
   "execution_count": 51,
   "id": "54f7cb21",
   "metadata": {},
   "outputs": [
    {
     "data": {
      "text/plain": [
       "array([[-1.8417921 , -1.91439427, -1.72288538, -1.70065871, -1.68091173,\n",
       "        -1.72787115, -1.69757369, -1.74685628, -1.73166513, -1.75089378],\n",
       "       [-1.72094751, -1.72843474, -1.71219876, -1.69070403, -1.72374995,\n",
       "        -1.74883669, -1.73156641, -1.76686324, -1.6937263 , -1.74697593],\n",
       "       [-1.85421586, -1.78608943, -1.67452761, -1.96359421, -1.71044772,\n",
       "        -1.7324237 , -1.73322517, -1.71875616, -1.7570315 , -1.75525846],\n",
       "       [-1.85709197, -1.84029965, -1.66493821, -1.66493821, -1.66493821,\n",
       "        -1.66493821, -1.66493821, -1.66493821, -1.66493821, -1.66493821],\n",
       "       [-1.7554681 , -1.72362426, -1.79587261, -1.66724064, -1.69765974,\n",
       "        -1.78508349, -1.76623442, -1.69336016, -1.73665325, -1.70977153],\n",
       "       [-1.79995491, -1.72696861, -1.71296969, -1.70724846, -1.70325856,\n",
       "        -1.69560876, -1.74733758, -1.70904634, -1.72283107, -1.70899739],\n",
       "       [-1.73324908, -1.74874936, -1.79706568, -1.73477521, -1.7524245 ,\n",
       "        -1.73346711, -1.77461574, -1.71906644, -1.6735614 , -1.78142973],\n",
       "       [-1.77824462, -1.7831332 , -1.77053774, -1.77053774, -1.77053774,\n",
       "        -1.77053774, -1.77053774, -1.77053774, -1.77053774, -1.77053774],\n",
       "       [-1.70179995, -1.68501303, -1.68603346, -1.697392  , -1.72901659,\n",
       "        -1.76461005, -1.77380698, -1.76745792, -1.74906071, -1.69740686],\n",
       "       [-1.68200999, -1.68200999, -1.68200999, -1.68200999, -1.68200999,\n",
       "        -1.68200999, -1.68200999, -1.68200999, -1.68200999, -1.68200999],\n",
       "       [-1.71978685, -1.74107978, -1.7189178 , -1.67324611, -1.63688999,\n",
       "        -1.66246513, -1.71657442, -1.7050117 , -1.68613664, -1.70459601]])"
      ]
     },
     "execution_count": 51,
     "metadata": {},
     "output_type": "execute_result"
    }
   ],
   "source": [
    "max_dispersion_list_grid"
   ]
  },
  {
   "cell_type": "code",
   "execution_count": 52,
   "id": "e7eadbf8",
   "metadata": {},
   "outputs": [
    {
     "name": "stdout",
     "output_type": "stream",
     "text": [
      "End: 2025-07-13 08:23:15\n",
      "Plotting resulting graph...\n",
      "Plotting baseline 1...\n",
      "End: 2025-07-13 08:23:15\n"
     ]
    },
    {
     "data": {
      "image/png": "[encoded data removed]",
      "text/plain": [
       "<Figure size 432x288 with 1 Axes>"
      ]
     },
     "metadata": {
      "needs_background": "light"
     },
     "output_type": "display_data"
    }
   ],
   "source": [
    "# Plot the graphs of average rewards during testing phases of the policy\n",
    "# gradient method and the hand-crafted policies\n",
    "\n",
    "print(\"End: \" + datetime.now().strftime('%Y-%m-%d %H:%M:%S'))\n",
    "\n",
    "max_dispersion_list_grid = [np.array(avg_dispersion_max_2)[sel_index_2],\n",
    "                        np.array(avg_dispersion_max_3)[sel_index_3],\n",
    "                        np.array(avg_dispersion_max_4)[sel_index_4],\n",
    "                        np.array(avg_dispersion_max_5)[sel_index_5],\n",
    "                        np.array(avg_dispersion_max_6)[sel_index_6],\n",
    "                        np.array(avg_dispersion_max_7)[sel_index_7],\n",
    "                        np.array(avg_dispersion_max_8)[sel_index_8],\n",
    "                        np.array(avg_dispersion_max_9)[sel_index_9],\n",
    "                        np.array(avg_dispersion_max_10)[sel_index_10],\n",
    "                        np.array(avg_dispersion_max_11)[sel_index_11],\n",
    "                        np.array(avg_dispersion_max_12)[sel_index_12]]\n",
    "max_dispersion_mean_grid = []\n",
    "max_dispersion_std_grid = []\n",
    "for ii in range(len(num_transPOI_reward_unit_list)):\n",
    "    max_dispersion_mean_grid.append(np.mean(max_dispersion_list_grid[ii]))\n",
    "    max_dispersion_std_grid.append(np.std(max_dispersion_list_grid[ii]))\n",
    "\n",
    "print(\"Plotting resulting graph...\")\n",
    "# plt.figure(figsize = (12, 9))\n",
    "l1 = plt.errorbar(num_transPOI_reward_unit_list, max_dispersion_mean_grid, yerr=max_dispersion_std_grid, fmt='o-', capsize=5) # ecolor='gray', \n",
    "\n",
    "print(\"Plotting baseline 1...\")\n",
    "# plt.legend(loc='best',prop={'size': 10})\n",
    "plt.ylabel(\"Dispersion shift\")\n",
    "plt.xlabel(\"num_transPOI_reward_unit\")\n",
    "\n",
    "print(\"End: \" + datetime.now().strftime('%Y-%m-%d %H:%M:%S'))"
   ]
  },
  {
   "cell_type": "code",
   "execution_count": 53,
   "id": "3462e67e",
   "metadata": {},
   "outputs": [
    {
     "name": "stdout",
     "output_type": "stream",
     "text": [
      "End: 2025-07-13 08:23:15\n",
      "Plotting resulting graph...\n",
      "Plotting baseline 1...\n",
      "End: 2025-07-13 08:23:15\n"
     ]
    },
    {
     "data": {
      "image/png": "[encoded data removed]",
      "text/plain": [
       "<Figure size 432x288 with 1 Axes>"
      ]
     },
     "metadata": {
      "needs_background": "light"
     },
     "output_type": "display_data"
    }
   ],
   "source": [
    "# Plot the graphs of average rewards during testing phases of the policy\n",
    "# gradient method and the hand-crafted policies\n",
    "\n",
    "print(\"End: \" + datetime.now().strftime('%Y-%m-%d %H:%M:%S'))\n",
    "\n",
    "max_kl_list_grid = np.array([avg_kl_max_2,\n",
    "                                avg_kl_max_3,\n",
    "                                avg_kl_max_4,\n",
    "                                avg_kl_max_5,\n",
    "                                avg_kl_max_6,\n",
    "                                avg_kl_max_7,\n",
    "                                avg_kl_max_8,\n",
    "                                avg_kl_max_9,\n",
    "                                avg_kl_max_10,\n",
    "                                avg_kl_max_11,\n",
    "                                avg_kl_max_12])\n",
    "max_kl_mean_grid = np.mean(max_kl_list_grid, axis=1)\n",
    "max_kl_std_grid = np.std(max_kl_list_grid, axis=1)\n",
    "\n",
    "print(\"Plotting resulting graph...\")\n",
    "# plt.figure(figsize = (12, 9))\n",
    "l1 = plt.errorbar(num_transPOI_reward_unit_list, max_kl_mean_grid, yerr=max_kl_std_grid, fmt='o-', capsize=5) # ecolor='gray', \n",
    "\n",
    "print(\"Plotting baseline 1...\")\n",
    "# plt.legend(loc='best',prop={'size': 10})\n",
    "plt.ylabel(\"KL divergence\")\n",
    "plt.xlabel(\"num_transPOI_reward_unit\")\n",
    "\n",
    "print(\"End: \" + datetime.now().strftime('%Y-%m-%d %H:%M:%S'))"
   ]
  },
  {
   "cell_type": "code",
   "execution_count": 54,
   "id": "de88d769",
   "metadata": {},
   "outputs": [
    {
     "data": {
      "text/plain": [
       "array([[0.76038267, 0.85846406, 0.82301244, 0.79727598, 0.84722008,\n",
       "        0.84471644, 0.81176055, 0.82491965, 0.82443899, 0.82108851],\n",
       "       [0.85183259, 0.84533871, 0.84159154, 0.84710359, 0.84727958,\n",
       "        0.84293682, 0.82613253, 0.82916099, 0.85041869, 0.82257051],\n",
       "       [0.74911929, 0.74078086, 0.8083161 , 0.64792915, 0.83051664,\n",
       "        0.83892385, 0.83133859, 0.84588252, 0.82089635, 0.83008871],\n",
       "       [0.79538961, 0.72024064, 0.81305338, 0.81305338, 0.81305338,\n",
       "        0.81305338, 0.81305338, 0.81305338, 0.81305338, 0.81305338],\n",
       "       [0.8361573 , 0.82999029, 0.8015823 , 0.84745734, 0.85932713,\n",
       "        0.81097686, 0.79782637, 0.86896478, 0.845362  , 0.83304263],\n",
       "       [0.77590648, 0.86702713, 0.82997463, 0.84051004, 0.82900083,\n",
       "        0.8376646 , 0.82064021, 0.8264999 , 0.82844193, 0.78609656],\n",
       "       [0.7942098 , 0.80920151, 0.77226751, 0.85206136, 0.78424207,\n",
       "        0.84033668, 0.7925197 , 0.81839951, 0.86038856, 0.8222785 ],\n",
       "       [0.71140262, 0.80797971, 0.84550374, 0.84550374, 0.84550374,\n",
       "        0.84550374, 0.84550374, 0.84550374, 0.84550374, 0.84550374],\n",
       "       [0.84460876, 0.88106975, 0.85812756, 0.84455203, 0.82766625,\n",
       "        0.82774109, 0.85341166, 0.82788424, 0.82199041, 0.83936154],\n",
       "       [0.86415795, 0.86415795, 0.86415795, 0.86415795, 0.86415795,\n",
       "        0.86415795, 0.86415795, 0.86415795, 0.86415795, 0.86415795],\n",
       "       [0.82693507, 0.8069098 , 0.83781838, 0.82740246, 0.80746816,\n",
       "        0.85373571, 0.79215858, 0.81752868, 0.80970554, 0.83888485]])"
      ]
     },
     "execution_count": 54,
     "metadata": {},
     "output_type": "execute_result"
    }
   ],
   "source": [
    "max_kl_list_grid"
   ]
  },
  {
   "cell_type": "code",
   "execution_count": 55,
   "id": "5c7576f9",
   "metadata": {},
   "outputs": [
    {
     "name": "stdout",
     "output_type": "stream",
     "text": [
      "End: 2025-07-13 08:23:15\n",
      "Plotting resulting graph...\n",
      "Plotting baseline 1...\n",
      "End: 2025-07-13 08:23:16\n"
     ]
    },
    {
     "data": {
      "image/png": "[encoded data removed]",
      "text/plain": [
       "<Figure size 432x288 with 1 Axes>"
      ]
     },
     "metadata": {
      "needs_background": "light"
     },
     "output_type": "display_data"
    }
   ],
   "source": [
    "# Plot the graphs of average rewards during testing phases of the policy\n",
    "# gradient method and the hand-crafted policies\n",
    "\n",
    "print(\"End: \" + datetime.now().strftime('%Y-%m-%d %H:%M:%S'))\n",
    "\n",
    "max_kl_list_grid = [np.array(avg_kl_max_2)[sel_index_2],\n",
    "                        np.array(avg_kl_max_3)[sel_index_3],\n",
    "                        np.array(avg_kl_max_4)[sel_index_4],\n",
    "                        np.array(avg_kl_max_5)[sel_index_5],\n",
    "                        np.array(avg_kl_max_6)[sel_index_6],\n",
    "                        np.array(avg_kl_max_7)[sel_index_7],\n",
    "                        np.array(avg_kl_max_8)[sel_index_8],\n",
    "                        np.array(avg_kl_max_9)[sel_index_9],\n",
    "                        np.array(avg_kl_max_10)[sel_index_10],\n",
    "                        np.array(avg_kl_max_11)[sel_index_11],\n",
    "                        np.array(avg_kl_max_12)[sel_index_12]]\n",
    "max_kl_mean_grid = []\n",
    "max_kl_std_grid = []\n",
    "for ii in range(len(num_transPOI_reward_unit_list)):\n",
    "    max_kl_mean_grid.append(np.mean(max_kl_list_grid[ii]))\n",
    "    max_kl_std_grid.append(np.std(max_kl_list_grid[ii]))\n",
    "\n",
    "print(\"Plotting resulting graph...\")\n",
    "# plt.figure(figsize = (12, 9))\n",
    "l1 = plt.errorbar(num_transPOI_reward_unit_list, max_kl_mean_grid, yerr=max_kl_std_grid, fmt='o-', capsize=5) # ecolor='gray', \n",
    "\n",
    "print(\"Plotting baseline 1...\")\n",
    "# plt.legend(loc='best',prop={'size': 10})\n",
    "plt.ylabel(\"KL divergence\")\n",
    "plt.xlabel(\"num_transPOI_reward_unit\")\n",
    "\n",
    "print(\"End: \" + datetime.now().strftime('%Y-%m-%d %H:%M:%S'))"
   ]
  },
  {
   "cell_type": "code",
   "execution_count": null,
   "id": "c153d57c",
   "metadata": {},
   "outputs": [],
   "source": []
  }
 ],
 "metadata": {
  "kernelspec": {
   "display_name": "Python 3 (ipykernel)",
   "language": "python",
   "name": "python3"
  },
  "language_info": {
   "codemirror_mode": {
    "name": "ipython",
    "version": 3
   },
   "file_extension": ".py",
   "mimetype": "text/x-python",
   "name": "python",
   "nbconvert_exporter": "python",
   "pygments_lexer": "ipython3",
   "version": "3.9.12"
  }
 },
 "nbformat": 4,
 "nbformat_minor": 5
}

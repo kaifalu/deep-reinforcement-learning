{
 "cells": [
  {
   "cell_type": "markdown",
   "id": "203270d1",
   "metadata": {},
   "source": [
    "### Import"
   ]
  },
  {
   "cell_type": "code",
   "execution_count": 1,
   "id": "3f4333d3",
   "metadata": {},
   "outputs": [
    {
     "name": "stdout",
     "output_type": "stream",
     "text": [
      "Start: 2025-07-11 02:13:25\n"
     ]
    }
   ],
   "source": [
    "import sys\n",
    "import os\n",
    "import matplotlib.pyplot as plt\n",
    "from datetime import datetime, timedelta\n",
    "import pandas as pd\n",
    "import geopandas as gpd\n",
    "import numpy as np\n",
    "import matplotlib.pyplot as plt\n",
    "from shapely.geometry import Point, shape\n",
    "import seaborn as sns\n",
    "import random\n",
    "from mpl_toolkits.axes_grid1 import make_axes_locatable\n",
    "# import datetime\n",
    "\n",
    "sys.path.insert(0, '../..')\n",
    "\n",
    "print(\"Start: \" + datetime.now().strftime('%Y-%m-%d %H:%M:%S'))\n",
    "\n",
    "from network_v11_13_max import *\n",
    "from helper_v11_13_max import *"
   ]
  },
  {
   "cell_type": "markdown",
   "id": "a0dd7f1e",
   "metadata": {},
   "source": [
    "### Initialization"
   ]
  },
  {
   "cell_type": "markdown",
   "id": "ac6bac25",
   "metadata": {},
   "source": [
    "#### define agent and gnv boundary"
   ]
  },
  {
   "cell_type": "code",
   "execution_count": 2,
   "id": "f7d075cd",
   "metadata": {},
   "outputs": [
    {
     "data": {
      "text/html": [
       "<div>\n",
       "<style scoped>\n",
       "    .dataframe tbody tr th:only-of-type {\n",
       "        vertical-align: middle;\n",
       "    }\n",
       "\n",
       "    .dataframe tbody tr th {\n",
       "        vertical-align: top;\n",
       "    }\n",
       "\n",
       "    .dataframe thead th {\n",
       "        text-align: right;\n",
       "    }\n",
       "</style>\n",
       "<table border=\"1\" class=\"dataframe\">\n",
       "  <thead>\n",
       "    <tr style=\"text-align: right;\">\n",
       "      <th></th>\n",
       "      <th>level_0</th>\n",
       "      <th>index</th>\n",
       "      <th>latitude</th>\n",
       "      <th>longitude</th>\n",
       "      <th>departure_rate</th>\n",
       "      <th>arrival_rate</th>\n",
       "      <th>dist_transPOI</th>\n",
       "      <th>num_transPOI</th>\n",
       "      <th>dist_bus_stop</th>\n",
       "      <th>num_bus_stop</th>\n",
       "      <th>rider_test_list</th>\n",
       "      <th>geometry</th>\n",
       "    </tr>\n",
       "  </thead>\n",
       "  <tbody>\n",
       "    <tr>\n",
       "      <th>0</th>\n",
       "      <td>0</td>\n",
       "      <td>29</td>\n",
       "      <td>29.658570</td>\n",
       "      <td>-82.415016</td>\n",
       "      <td>0.022484</td>\n",
       "      <td>0.038544</td>\n",
       "      <td>0.081538</td>\n",
       "      <td>1.0</td>\n",
       "      <td>0.030854</td>\n",
       "      <td>1.0</td>\n",
       "      <td>0</td>\n",
       "      <td>POINT (-82.41501609853275 29.65857013179353)</td>\n",
       "    </tr>\n",
       "    <tr>\n",
       "      <th>1</th>\n",
       "      <td>1</td>\n",
       "      <td>30</td>\n",
       "      <td>29.660371</td>\n",
       "      <td>-82.414990</td>\n",
       "      <td>0.002141</td>\n",
       "      <td>0.005353</td>\n",
       "      <td>1.000000</td>\n",
       "      <td>0.0</td>\n",
       "      <td>1.000000</td>\n",
       "      <td>0.0</td>\n",
       "      <td>0</td>\n",
       "      <td>POINT (-82.4149895039865 29.660371378494247)</td>\n",
       "    </tr>\n",
       "    <tr>\n",
       "      <th>2</th>\n",
       "      <td>2</td>\n",
       "      <td>47</td>\n",
       "      <td>29.654944</td>\n",
       "      <td>-82.413000</td>\n",
       "      <td>0.001071</td>\n",
       "      <td>0.002141</td>\n",
       "      <td>1.000000</td>\n",
       "      <td>0.0</td>\n",
       "      <td>1.000000</td>\n",
       "      <td>0.0</td>\n",
       "      <td>0</td>\n",
       "      <td>POINT (-82.41300040184892 29.654944475167262)</td>\n",
       "    </tr>\n",
       "    <tr>\n",
       "      <th>3</th>\n",
       "      <td>3</td>\n",
       "      <td>48</td>\n",
       "      <td>29.656746</td>\n",
       "      <td>-82.412974</td>\n",
       "      <td>0.004283</td>\n",
       "      <td>0.008565</td>\n",
       "      <td>1.000000</td>\n",
       "      <td>0.0</td>\n",
       "      <td>1.000000</td>\n",
       "      <td>0.0</td>\n",
       "      <td>0</td>\n",
       "      <td>POINT (-82.41297377438231 29.65674571873145)</td>\n",
       "    </tr>\n",
       "    <tr>\n",
       "      <th>4</th>\n",
       "      <td>4</td>\n",
       "      <td>49</td>\n",
       "      <td>29.658547</td>\n",
       "      <td>-82.412947</td>\n",
       "      <td>0.078158</td>\n",
       "      <td>0.100642</td>\n",
       "      <td>1.000000</td>\n",
       "      <td>0.0</td>\n",
       "      <td>1.000000</td>\n",
       "      <td>0.0</td>\n",
       "      <td>1</td>\n",
       "      <td>POINT (-82.41294714602218 29.6585469636598)</td>\n",
       "    </tr>\n",
       "  </tbody>\n",
       "</table>\n",
       "</div>"
      ],
      "text/plain": [
       "   level_0  index   latitude  longitude  departure_rate  arrival_rate  \\\n",
       "0        0     29  29.658570 -82.415016        0.022484      0.038544   \n",
       "1        1     30  29.660371 -82.414990        0.002141      0.005353   \n",
       "2        2     47  29.654944 -82.413000        0.001071      0.002141   \n",
       "3        3     48  29.656746 -82.412974        0.004283      0.008565   \n",
       "4        4     49  29.658547 -82.412947        0.078158      0.100642   \n",
       "\n",
       "   dist_transPOI  num_transPOI  dist_bus_stop  num_bus_stop  rider_test_list  \\\n",
       "0       0.081538           1.0       0.030854           1.0                0   \n",
       "1       1.000000           0.0       1.000000           0.0                0   \n",
       "2       1.000000           0.0       1.000000           0.0                0   \n",
       "3       1.000000           0.0       1.000000           0.0                0   \n",
       "4       1.000000           0.0       1.000000           0.0                1   \n",
       "\n",
       "                                        geometry  \n",
       "0   POINT (-82.41501609853275 29.65857013179353)  \n",
       "1   POINT (-82.4149895039865 29.660371378494247)  \n",
       "2  POINT (-82.41300040184892 29.654944475167262)  \n",
       "3   POINT (-82.41297377438231 29.65674571873145)  \n",
       "4    POINT (-82.41294714602218 29.6585469636598)  "
      ]
     },
     "execution_count": 2,
     "metadata": {},
     "output_type": "execute_result"
    }
   ],
   "source": [
    "fl_city_boundary = gpd.read_file('Map/fl_city_boundary.shp')\n",
    "Gainesville_boundary = fl_city_boundary.loc[fl_city_boundary['NAME'] == 'GAINESVILLE'].reset_index(drop=True)\n",
    "Gainesville_boundary['geometry'] = Gainesville_boundary['geometry'].to_crs('epsg:4326')\n",
    "\n",
    "grid_centroid_gdf = pd.read_csv('grid_centroid_gdf.csv')\n",
    "grid_centroid_gdf = grid_centroid_gdf.drop(columns = {'geometry'}, axis = 1)\n",
    "grid_centroid_gdf['geometry'] = grid_centroid_gdf[['longitude', 'latitude']].values.tolist()\n",
    "grid_centroid_gdf['geometry'] = grid_centroid_gdf['geometry'].apply(Point)\n",
    "\n",
    "grid_centroid_gdf = grid_centroid_gdf.loc[grid_centroid_gdf['departure_rate'] > 0].reset_index()\n",
    "\n",
    "grid_centroid_gdf.head()"
   ]
  },
  {
   "cell_type": "markdown",
   "id": "eb76019d",
   "metadata": {},
   "source": [
    "#### scooter-sharing system configure"
   ]
  },
  {
   "cell_type": "code",
   "execution_count": 3,
   "id": "380e0ff5",
   "metadata": {},
   "outputs": [],
   "source": [
    "service_areas = [] # replace stations\n",
    "for i in range (len(grid_centroid_gdf)):\n",
    "    service_areas.append((i, grid_centroid_gdf.geometry.iloc[i], grid_centroid_gdf.departure_rate.iloc[i], grid_centroid_gdf.arrival_rate.iloc[i]))\n",
    "\n",
    "# Parameter setups for the reward system and elements of the environment.\n",
    "docked_cost_per_deploy = 50/365 # each dock cost 500\n",
    "scooter_cost_per_deploy = 25/365 # each scooter 250\n",
    "no_scooter_penalty = 0.5 # 0.5\n",
    "# reward_per_rider = 0.2 # 0.2\n",
    "max_scooter_per_area = 8\n",
    "nS = len(service_areas)\n",
    "equity_penalty = 100.0\n",
    "logistics_car_cost_per_mile = 1.0\n",
    "\n",
    "# dist_transPOI_penalty = 0.5\n",
    "# low_usage_penalty = 1\n",
    "# dist_bus_stop_penalty = 0.2\n",
    "# reward_bus_scooter_coverage = 0.2"
   ]
  },
  {
   "cell_type": "markdown",
   "id": "09b4e97b",
   "metadata": {},
   "source": [
    "#### RL model configure"
   ]
  },
  {
   "cell_type": "code",
   "execution_count": 4,
   "id": "09e74ce5",
   "metadata": {},
   "outputs": [],
   "source": [
    "# Parameter setups for the network and training process.\n",
    "learning_rate = 0.01\n",
    "n_iters = 25\n",
    "n_epochs = 500 # 2000\n",
    "display_step = 50 # 50\n",
    "batch_size = 256\n",
    "gamma = 0.9\n",
    "\n",
    "# The size of the state vector.\n",
    "nS = len(service_areas) # the number of service areas"
   ]
  },
  {
   "cell_type": "markdown",
   "id": "2ce3bd64",
   "metadata": {},
   "source": [
    "## reward_per_rider = 0.0"
   ]
  },
  {
   "cell_type": "code",
   "execution_count": 5,
   "id": "59b3076c",
   "metadata": {},
   "outputs": [
    {
     "name": "stdout",
     "output_type": "stream",
     "text": [
      "Starting policy gradient...\n",
      "Training in progress...\n",
      "Epoch 50, Average reward, unmet demand, met demand, scooter num, scooter loc, gini index unmet, gini index met, wANNR, moran, gini, theil, EMD, centroid change, dispersion change, kl divergence = -48.922, 41.200, 149.800, 176.400, 110.000, 0.985, 0.952, 0.475, 0.042, 0.944, 0.185, 1.978, 0.975, -1.707, 0.748\n",
      "Epoch 100, Average reward, unmet demand, met demand, scooter num, scooter loc, gini index unmet, gini index met, wANNR, moran, gini, theil, EMD, centroid change, dispersion change, kl divergence = -45.545, 34.800, 156.200, 174.000, 105.600, 0.986, 0.954, 0.471, 0.037, 0.947, 0.211, 1.988, 0.942, -1.725, 0.830\n",
      "Epoch 150, Average reward, unmet demand, met demand, scooter num, scooter loc, gini index unmet, gini index met, wANNR, moran, gini, theil, EMD, centroid change, dispersion change, kl divergence = -55.918, 56.200, 134.800, 173.600, 109.000, 0.981, 0.958, 0.471, 0.039, 0.944, 0.185, 1.915, 0.923, -1.644, 0.812\n",
      "Epoch 200, Average reward, unmet demand, met demand, scooter num, scooter loc, gini index unmet, gini index met, wANNR, moran, gini, theil, EMD, centroid change, dispersion change, kl divergence = -74.957, 86.000, 105.000, 199.000, 124.000, 0.963, 0.974, 0.504, 0.043, 0.938, 0.206, 1.913, 0.948, -1.668, 0.781\n",
      "Epoch 250, Average reward, unmet demand, met demand, scooter num, scooter loc, gini index unmet, gini index met, wANNR, moran, gini, theil, EMD, centroid change, dispersion change, kl divergence = -69.966, 86.000, 105.000, 167.000, 102.000, 0.964, 0.972, 0.463, 0.040, 0.950, 0.214, 2.079, 0.848, -1.936, 0.706\n",
      "Epoch 300, Average reward, unmet demand, met demand, scooter num, scooter loc, gini index unmet, gini index met, wANNR, moran, gini, theil, EMD, centroid change, dispersion change, kl divergence = -77.106, 98.000, 93.000, 175.000, 109.000, 0.961, 0.975, 0.473, 0.043, 0.945, 0.194, 2.048, 0.987, -1.848, 0.837\n",
      "Epoch 350, Average reward, unmet demand, met demand, scooter num, scooter loc, gini index unmet, gini index met, wANNR, moran, gini, theil, EMD, centroid change, dispersion change, kl divergence = -75.840, 102.000, 89.000, 157.000, 103.000, 0.960, 0.977, 0.448, 0.035, 0.946, 0.177, 1.945, 0.955, -1.716, 0.837\n",
      "Epoch 400, Average reward, unmet demand, met demand, scooter num, scooter loc, gini index unmet, gini index met, wANNR, moran, gini, theil, EMD, centroid change, dispersion change, kl divergence = -74.100, 97.000, 94.000, 160.000, 101.000, 0.960, 0.975, 0.452, 0.049, 0.948, 0.172, 2.072, 0.822, -1.832, 0.817\n",
      "Epoch 450, Average reward, unmet demand, met demand, scooter num, scooter loc, gini index unmet, gini index met, wANNR, moran, gini, theil, EMD, centroid change, dispersion change, kl divergence = -74.100, 97.000, 94.000, 160.000, 101.000, 0.960, 0.975, 0.452, 0.049, 0.948, 0.172, 2.072, 0.822, -1.832, 0.817\n",
      "Epoch 500, Average reward, unmet demand, met demand, scooter num, scooter loc, gini index unmet, gini index met, wANNR, moran, gini, theil, EMD, centroid change, dispersion change, kl divergence = -77.680, 101.000, 90.000, 174.000, 119.000, 0.959, 0.976, 0.472, 0.043, 0.937, 0.170, 1.962, 0.934, -1.744, 0.880\n"
     ]
    }
   ],
   "source": [
    "## tf.reset_default_graph() only works under tf 1.0\n",
    "reward_per_rider = 0.0\n",
    "\n",
    "# Set up the state-value estimator and policy estimator\n",
    "estimator_policy = PolicyEstimator(learning_rate, nS)\n",
    "estimator_value = StateValueEstimator(learning_rate, nS)\n",
    "\n",
    "rider_test_list = np.array(grid_centroid_gdf['rider_test_list'])\n",
    "\n",
    "# Initialize study area\n",
    "study_area = create_study_area(service_areas, max_scooter_per_area, scooter_cost_per_deploy, docked_cost_per_deploy, \\\n",
    "                   nS, no_scooter_penalty, reward_per_rider, equity_penalty, rider_test_list, logistics_car_cost_per_mile)\n",
    "\n",
    "# Add ops to save and restore all the variables\n",
    "\n",
    "print(\"Starting policy gradient...\")\n",
    "\n",
    "# Start training\n",
    "print(\"Training in progress...\")\n",
    "avg_reward_max_2, avg_unmet_demand_max_2, avg_met_demand_max_2, avg_scooter_num_max_2, avg_scooter_loc_max_2, avg_wANNR_max_2, avg_moran_max_2, avg_gini_max_2, avg_theil_max_2, avg_EMD_max_2, avg_centroid_max_2, avg_dispersion_max_2, avg_kl_max_2, scooter_list_max_2 = reinforce(study_area, nS, estimator_policy, estimator_value, n_epochs, n_iters, batch_size, display_step)"
   ]
  },
  {
   "cell_type": "markdown",
   "id": "d19ab151",
   "metadata": {},
   "source": [
    "## reward_per_rider = 0.1"
   ]
  },
  {
   "cell_type": "code",
   "execution_count": 6,
   "id": "ff1854b9",
   "metadata": {},
   "outputs": [
    {
     "name": "stdout",
     "output_type": "stream",
     "text": [
      "Starting policy gradient...\n",
      "Training in progress...\n",
      "Epoch 50, Average reward, unmet demand, met demand, scooter num, scooter loc, gini index unmet, gini index met, wANNR, moran, gini, theil, EMD, centroid change, dispersion change, kl divergence = -39.519, 50.200, 140.800, 174.600, 102.400, 0.980, 0.960, 0.472, 0.037, 0.950, 0.211, 2.016, 0.967, -1.767, 0.797\n",
      "Epoch 100, Average reward, unmet demand, met demand, scooter num, scooter loc, gini index unmet, gini index met, wANNR, moran, gini, theil, EMD, centroid change, dispersion change, kl divergence = -36.456, 44.800, 146.200, 175.600, 102.800, 0.982, 0.959, 0.474, 0.037, 0.950, 0.220, 2.000, 0.879, -1.768, 0.802\n",
      "Epoch 150, Average reward, unmet demand, met demand, scooter num, scooter loc, gini index unmet, gini index met, wANNR, moran, gini, theil, EMD, centroid change, dispersion change, kl divergence = -45.069, 61.200, 129.800, 170.400, 105.000, 0.978, 0.959, 0.467, 0.036, 0.947, 0.208, 1.930, 1.052, -1.611, 0.806\n",
      "Epoch 200, Average reward, unmet demand, met demand, scooter num, scooter loc, gini index unmet, gini index met, wANNR, moran, gini, theil, EMD, centroid change, dispersion change, kl divergence = -31.034, 37.600, 153.400, 170.800, 104.400, 0.985, 0.954, 0.468, 0.041, 0.948, 0.205, 2.031, 0.909, -1.760, 0.826\n",
      "Epoch 250, Average reward, unmet demand, met demand, scooter num, scooter loc, gini index unmet, gini index met, wANNR, moran, gini, theil, EMD, centroid change, dispersion change, kl divergence = -27.605, 30.200, 160.800, 176.000, 105.200, 0.988, 0.955, 0.474, 0.038, 0.948, 0.211, 1.995, 0.929, -1.707, 0.865\n",
      "Epoch 300, Average reward, unmet demand, met demand, scooter num, scooter loc, gini index unmet, gini index met, wANNR, moran, gini, theil, EMD, centroid change, dispersion change, kl divergence = -63.906, 94.000, 97.000, 167.000, 107.000, 0.960, 0.976, 0.462, 0.042, 0.945, 0.189, 1.977, 0.847, -1.739, 0.801\n",
      "Epoch 350, Average reward, unmet demand, met demand, scooter num, scooter loc, gini index unmet, gini index met, wANNR, moran, gini, theil, EMD, centroid change, dispersion change, kl divergence = -38.745, 50.600, 140.400, 172.400, 110.200, 0.980, 0.956, 0.469, 0.036, 0.944, 0.205, 1.943, 0.951, -1.668, 0.859\n",
      "Epoch 400, Average reward, unmet demand, met demand, scooter num, scooter loc, gini index unmet, gini index met, wANNR, moran, gini, theil, EMD, centroid change, dispersion change, kl divergence = -35.294, 47.200, 143.800, 164.200, 106.400, 0.983, 0.953, 0.458, 0.034, 0.946, 0.215, 1.947, 0.942, -1.680, 0.837\n",
      "Epoch 450, Average reward, unmet demand, met demand, scooter num, scooter loc, gini index unmet, gini index met, wANNR, moran, gini, theil, EMD, centroid change, dispersion change, kl divergence = -45.957, 57.800, 133.200, 189.000, 117.400, 0.977, 0.961, 0.491, 0.038, 0.941, 0.191, 1.869, 0.867, -1.620, 0.828\n",
      "Epoch 500, Average reward, unmet demand, met demand, scooter num, scooter loc, gini index unmet, gini index met, wANNR, moran, gini, theil, EMD, centroid change, dispersion change, kl divergence = -27.847, 28.600, 162.400, 182.200, 106.200, 0.988, 0.955, 0.483, 0.040, 0.948, 0.220, 2.000, 0.915, -1.714, 0.854\n"
     ]
    }
   ],
   "source": [
    "## tf.reset_default_graph() only works under tf 1.0\n",
    "reward_per_rider = 0.1\n",
    "\n",
    "# Set up the state-value estimator and policy estimator\n",
    "estimator_policy = PolicyEstimator(learning_rate, nS)\n",
    "estimator_value = StateValueEstimator(learning_rate, nS)\n",
    "\n",
    "rider_test_list = np.array(grid_centroid_gdf['rider_test_list'])\n",
    "\n",
    "# Initialize study area\n",
    "study_area = create_study_area(service_areas, max_scooter_per_area, scooter_cost_per_deploy, docked_cost_per_deploy, \\\n",
    "                   nS, no_scooter_penalty, reward_per_rider, equity_penalty, rider_test_list, logistics_car_cost_per_mile)\n",
    "\n",
    "# Add ops to save and restore all the variables\n",
    "\n",
    "print(\"Starting policy gradient...\")\n",
    "\n",
    "# Start training\n",
    "print(\"Training in progress...\")\n",
    "avg_reward_max_3, avg_unmet_demand_max_3, avg_met_demand_max_3, avg_scooter_num_max_3, avg_scooter_loc_max_3, avg_wANNR_max_3, avg_moran_max_3, avg_gini_max_3, avg_theil_max_3, avg_EMD_max_3, avg_centroid_max_3, avg_dispersion_max_3, avg_kl_max_3, scooter_list_max_3 = reinforce(study_area, nS, estimator_policy, estimator_value, n_epochs, n_iters, batch_size, display_step)"
   ]
  },
  {
   "cell_type": "markdown",
   "id": "327c6bf5",
   "metadata": {},
   "source": [
    "## reward_per_rider = 0.2"
   ]
  },
  {
   "cell_type": "code",
   "execution_count": 63,
   "id": "64b7497f",
   "metadata": {},
   "outputs": [
    {
     "name": "stdout",
     "output_type": "stream",
     "text": [
      "Starting policy gradient...\n",
      "Training in progress...\n",
      "Epoch 50, Average reward, unmet demand, met demand, scooter num, scooter loc, gini index unmet, gini index met, wANNR, moran, gini, theil, EMD, centroid change, dispersion change, kl divergence = -12.495, 30.400, 160.600, 180.600, 106.800, 0.990, 0.953, 0.480, 0.040, 0.947, 0.207, 1.997, 0.918, -1.727, 0.835\n",
      "Epoch 100, Average reward, unmet demand, met demand, scooter num, scooter loc, gini index unmet, gini index met, wANNR, moran, gini, theil, EMD, centroid change, dispersion change, kl divergence = -23.444, 47.600, 143.400, 174.800, 105.400, 0.981, 0.960, 0.473, 0.037, 0.948, 0.211, 1.978, 0.948, -1.700, 0.788\n",
      "Epoch 150, Average reward, unmet demand, met demand, scooter num, scooter loc, gini index unmet, gini index met, wANNR, moran, gini, theil, EMD, centroid change, dispersion change, kl divergence = -12.138, 32.000, 159.000, 171.800, 102.200, 0.989, 0.955, 0.468, 0.036, 0.949, 0.215, 1.989, 0.928, -1.710, 0.855\n",
      "Epoch 200, Average reward, unmet demand, met demand, scooter num, scooter loc, gini index unmet, gini index met, wANNR, moran, gini, theil, EMD, centroid change, dispersion change, kl divergence = -11.967, 30.200, 160.800, 177.800, 104.200, 0.988, 0.955, 0.476, 0.036, 0.949, 0.221, 1.998, 0.944, -1.722, 0.834\n",
      "Epoch 250, Average reward, unmet demand, met demand, scooter num, scooter loc, gini index unmet, gini index met, wANNR, moran, gini, theil, EMD, centroid change, dispersion change, kl divergence = -11.873, 30.200, 160.800, 177.200, 103.800, 0.988, 0.956, 0.476, 0.037, 0.949, 0.218, 2.010, 0.919, -1.748, 0.863\n",
      "Epoch 300, Average reward, unmet demand, met demand, scooter num, scooter loc, gini index unmet, gini index met, wANNR, moran, gini, theil, EMD, centroid change, dispersion change, kl divergence = -11.151, 27.400, 163.600, 184.000, 106.000, 0.989, 0.955, 0.485, 0.038, 0.949, 0.223, 1.995, 0.917, -1.725, 0.816\n",
      "Epoch 350, Average reward, unmet demand, met demand, scooter num, scooter loc, gini index unmet, gini index met, wANNR, moran, gini, theil, EMD, centroid change, dispersion change, kl divergence = -25.033, 49.600, 141.400, 176.000, 106.200, 0.981, 0.957, 0.474, 0.041, 0.947, 0.191, 2.003, 1.002, -1.755, 0.779\n",
      "Epoch 400, Average reward, unmet demand, met demand, scooter num, scooter loc, gini index unmet, gini index met, wANNR, moran, gini, theil, EMD, centroid change, dispersion change, kl divergence = -26.777, 53.200, 137.800, 171.800, 105.000, 0.981, 0.959, 0.469, 0.038, 0.947, 0.190, 1.936, 0.937, -1.632, 0.856\n",
      "Epoch 450, Average reward, unmet demand, met demand, scooter num, scooter loc, gini index unmet, gini index met, wANNR, moran, gini, theil, EMD, centroid change, dispersion change, kl divergence = -10.774, 26.400, 164.600, 186.200, 107.800, 0.989, 0.955, 0.488, 0.039, 0.947, 0.222, 2.007, 0.937, -1.727, 0.825\n",
      "Epoch 500, Average reward, unmet demand, met demand, scooter num, scooter loc, gini index unmet, gini index met, wANNR, moran, gini, theil, EMD, centroid change, dispersion change, kl divergence = -13.853, 33.600, 157.400, 176.800, 108.200, 0.987, 0.953, 0.475, 0.037, 0.946, 0.202, 1.942, 0.975, -1.655, 0.829\n"
     ]
    }
   ],
   "source": [
    "## tf.reset_default_graph() only works under tf 1.0\n",
    "reward_per_rider = 0.2\n",
    "\n",
    "# Set up the state-value estimator and policy estimator\n",
    "estimator_policy = PolicyEstimator(learning_rate, nS)\n",
    "estimator_value = StateValueEstimator(learning_rate, nS)\n",
    "\n",
    "rider_test_list = np.array(grid_centroid_gdf['rider_test_list'])\n",
    "\n",
    "# Initialize study area\n",
    "study_area = create_study_area(service_areas, max_scooter_per_area, scooter_cost_per_deploy, docked_cost_per_deploy, \\\n",
    "                   nS, no_scooter_penalty, reward_per_rider, equity_penalty, rider_test_list, logistics_car_cost_per_mile)\n",
    "\n",
    "# Add ops to save and restore all the variables\n",
    "\n",
    "print(\"Starting policy gradient...\")\n",
    "\n",
    "# Start training\n",
    "print(\"Training in progress...\")\n",
    "avg_reward_max_4, avg_unmet_demand_max_4, avg_met_demand_max_4, avg_scooter_num_max_4, avg_scooter_loc_max_4, avg_wANNR_max_4, avg_moran_max_4, avg_gini_max_4, avg_theil_max_4, avg_EMD_max_4, avg_centroid_max_4, avg_dispersion_max_4, avg_kl_max_4, scooter_list_max_4 = reinforce(study_area, nS, estimator_policy, estimator_value, n_epochs, n_iters, batch_size, display_step)"
   ]
  },
  {
   "cell_type": "markdown",
   "id": "c37f7c91",
   "metadata": {},
   "source": [
    "## reward_per_rider = 0.3"
   ]
  },
  {
   "cell_type": "code",
   "execution_count": 8,
   "id": "88fdef7a",
   "metadata": {
    "scrolled": false
   },
   "outputs": [
    {
     "name": "stdout",
     "output_type": "stream",
     "text": [
      "Starting policy gradient...\n",
      "Training in progress...\n",
      "Epoch 50, Average reward, unmet demand, met demand, scooter num, scooter loc, gini index unmet, gini index met, wANNR, moran, gini, theil, EMD, centroid change, dispersion change, kl divergence = 6.747, 25.200, 165.800, 184.800, 105.200, 0.989, 0.956, 0.486, 0.037, 0.950, 0.239, 2.024, 0.916, -1.757, 0.828\n",
      "Epoch 100, Average reward, unmet demand, met demand, scooter num, scooter loc, gini index unmet, gini index met, wANNR, moran, gini, theil, EMD, centroid change, dispersion change, kl divergence = 6.815, 25.400, 165.600, 183.200, 103.800, 0.990, 0.955, 0.484, 0.037, 0.950, 0.230, 2.003, 0.951, -1.712, 0.838\n",
      "Epoch 150, Average reward, unmet demand, met demand, scooter num, scooter loc, gini index unmet, gini index met, wANNR, moran, gini, theil, EMD, centroid change, dispersion change, kl divergence = 7.051, 25.200, 165.800, 183.600, 106.000, 0.990, 0.954, 0.484, 0.038, 0.949, 0.226, 1.988, 0.954, -1.692, 0.839\n",
      "Epoch 200, Average reward, unmet demand, met demand, scooter num, scooter loc, gini index unmet, gini index met, wANNR, moran, gini, theil, EMD, centroid change, dispersion change, kl divergence = 6.116, 27.000, 164.000, 181.000, 105.600, 0.988, 0.955, 0.481, 0.038, 0.948, 0.219, 2.006, 0.949, -1.727, 0.837\n",
      "Epoch 250, Average reward, unmet demand, met demand, scooter num, scooter loc, gini index unmet, gini index met, wANNR, moran, gini, theil, EMD, centroid change, dispersion change, kl divergence = -10.323, 48.400, 142.600, 178.600, 108.200, 0.981, 0.960, 0.478, 0.040, 0.946, 0.208, 1.997, 0.987, -1.728, 0.833\n",
      "Epoch 300, Average reward, unmet demand, met demand, scooter num, scooter loc, gini index unmet, gini index met, wANNR, moran, gini, theil, EMD, centroid change, dispersion change, kl divergence = 3.624, 29.800, 161.200, 183.000, 107.800, 0.987, 0.955, 0.484, 0.039, 0.948, 0.230, 2.001, 0.904, -1.726, 0.806\n",
      "Epoch 350, Average reward, unmet demand, met demand, scooter num, scooter loc, gini index unmet, gini index met, wANNR, moran, gini, theil, EMD, centroid change, dispersion change, kl divergence = 3.395, 31.200, 159.800, 177.400, 104.200, 0.989, 0.955, 0.476, 0.037, 0.949, 0.215, 1.982, 0.928, -1.703, 0.842\n",
      "Epoch 400, Average reward, unmet demand, met demand, scooter num, scooter loc, gini index unmet, gini index met, wANNR, moran, gini, theil, EMD, centroid change, dispersion change, kl divergence = 3.918, 30.600, 160.400, 177.400, 104.800, 0.989, 0.955, 0.476, 0.039, 0.948, 0.211, 2.020, 0.923, -1.759, 0.842\n",
      "Epoch 450, Average reward, unmet demand, met demand, scooter num, scooter loc, gini index unmet, gini index met, wANNR, moran, gini, theil, EMD, centroid change, dispersion change, kl divergence = 4.285, 29.800, 161.200, 178.800, 105.000, 0.988, 0.955, 0.478, 0.039, 0.948, 0.218, 2.032, 0.894, -1.782, 0.848\n",
      "Epoch 500, Average reward, unmet demand, met demand, scooter num, scooter loc, gini index unmet, gini index met, wANNR, moran, gini, theil, EMD, centroid change, dispersion change, kl divergence = 5.734, 27.400, 163.600, 180.600, 103.600, 0.988, 0.956, 0.480, 0.037, 0.950, 0.228, 2.004, 0.903, -1.712, 0.837\n"
     ]
    }
   ],
   "source": [
    "## tf.reset_default_graph() only works under tf 1.0\n",
    "reward_per_rider = 0.3\n",
    "\n",
    "# Set up the state-value estimator and policy estimator\n",
    "estimator_policy = PolicyEstimator(learning_rate, nS)\n",
    "estimator_value = StateValueEstimator(learning_rate, nS)\n",
    "\n",
    "rider_test_list = np.array(grid_centroid_gdf['rider_test_list'])\n",
    "\n",
    "# Initialize study area\n",
    "study_area = create_study_area(service_areas, max_scooter_per_area, scooter_cost_per_deploy, docked_cost_per_deploy, \\\n",
    "                   nS, no_scooter_penalty, reward_per_rider, equity_penalty, rider_test_list, logistics_car_cost_per_mile)\n",
    "\n",
    "# Add ops to save and restore all the variables\n",
    "\n",
    "print(\"Starting policy gradient...\")\n",
    "\n",
    "# Start training\n",
    "print(\"Training in progress...\")\n",
    "avg_reward_max_5, avg_unmet_demand_max_5, avg_met_demand_max_5, avg_scooter_num_max_5, avg_scooter_loc_max_5, avg_wANNR_max_5, avg_moran_max_5, avg_gini_max_5, avg_theil_max_5, avg_EMD_max_5, avg_centroid_max_5, avg_dispersion_max_5, avg_kl_max_5, scooter_list_max_5 = reinforce(study_area, nS, estimator_policy, estimator_value, n_epochs, n_iters, batch_size, display_step)"
   ]
  },
  {
   "cell_type": "markdown",
   "id": "1ba3f84b",
   "metadata": {},
   "source": [
    "## reward_per_rider = 0.4"
   ]
  },
  {
   "cell_type": "code",
   "execution_count": 74,
   "id": "5de8377d",
   "metadata": {},
   "outputs": [
    {
     "name": "stdout",
     "output_type": "stream",
     "text": [
      "Starting policy gradient...\n",
      "Training in progress...\n",
      "Epoch 50, Average reward, unmet demand, met demand, scooter num, scooter loc, gini index unmet, gini index met, wANNR, moran, gini, theil, EMD, centroid change, dispersion change, kl divergence = 18.767, 32.200, 158.800, 176.400, 105.400, 0.988, 0.954, 0.475, 0.039, 0.948, 0.206, 1.992, 0.901, -1.705, 0.859\n",
      "Epoch 100, Average reward, unmet demand, met demand, scooter num, scooter loc, gini index unmet, gini index met, wANNR, moran, gini, theil, EMD, centroid change, dispersion change, kl divergence = 19.178, 31.600, 159.400, 177.800, 107.600, 0.989, 0.953, 0.477, 0.038, 0.946, 0.202, 1.979, 0.977, -1.671, 0.846\n",
      "Epoch 150, Average reward, unmet demand, met demand, scooter num, scooter loc, gini index unmet, gini index met, wANNR, moran, gini, theil, EMD, centroid change, dispersion change, kl divergence = 20.831, 29.000, 162.000, 179.600, 103.200, 0.989, 0.955, 0.479, 0.038, 0.950, 0.219, 2.011, 0.924, -1.739, 0.859\n",
      "Epoch 200, Average reward, unmet demand, met demand, scooter num, scooter loc, gini index unmet, gini index met, wANNR, moran, gini, theil, EMD, centroid change, dispersion change, kl divergence = 12.008, 41.600, 149.400, 167.000, 102.200, 0.984, 0.954, 0.462, 0.035, 0.949, 0.205, 1.942, 0.919, -1.653, 0.885\n",
      "Epoch 250, Average reward, unmet demand, met demand, scooter num, scooter loc, gini index unmet, gini index met, wANNR, moran, gini, theil, EMD, centroid change, dispersion change, kl divergence = 25.115, 23.400, 167.600, 184.400, 106.400, 0.989, 0.956, 0.485, 0.038, 0.949, 0.234, 2.036, 0.931, -1.772, 0.825\n",
      "Epoch 300, Average reward, unmet demand, met demand, scooter num, scooter loc, gini index unmet, gini index met, wANNR, moran, gini, theil, EMD, centroid change, dispersion change, kl divergence = 23.252, 25.600, 165.400, 183.200, 104.600, 0.988, 0.956, 0.484, 0.037, 0.950, 0.236, 2.027, 0.930, -1.758, 0.840\n",
      "Epoch 350, Average reward, unmet demand, met demand, scooter num, scooter loc, gini index unmet, gini index met, wANNR, moran, gini, theil, EMD, centroid change, dispersion change, kl divergence = 21.524, 27.400, 163.600, 185.200, 108.800, 0.990, 0.954, 0.486, 0.039, 0.946, 0.208, 1.979, 0.965, -1.687, 0.823\n",
      "Epoch 400, Average reward, unmet demand, met demand, scooter num, scooter loc, gini index unmet, gini index met, wANNR, moran, gini, theil, EMD, centroid change, dispersion change, kl divergence = 17.064, 34.200, 156.800, 176.000, 105.600, 0.987, 0.953, 0.474, 0.040, 0.947, 0.196, 2.000, 0.977, -1.717, 0.799\n",
      "Epoch 450, Average reward, unmet demand, met demand, scooter num, scooter loc, gini index unmet, gini index met, wANNR, moran, gini, theil, EMD, centroid change, dispersion change, kl divergence = 22.451, 27.800, 163.200, 176.200, 101.000, 0.988, 0.956, 0.474, 0.037, 0.951, 0.228, 2.043, 0.916, -1.778, 0.845\n",
      "Epoch 500, Average reward, unmet demand, met demand, scooter num, scooter loc, gini index unmet, gini index met, wANNR, moran, gini, theil, EMD, centroid change, dispersion change, kl divergence = 23.122, 26.600, 164.400, 178.400, 101.600, 0.989, 0.955, 0.477, 0.038, 0.951, 0.225, 2.045, 0.923, -1.786, 0.809\n"
     ]
    }
   ],
   "source": [
    "## tf.reset_default_graph() only works under tf 1.0\n",
    "reward_per_rider = 0.4\n",
    "\n",
    "# Set up the state-value estimator and policy estimator\n",
    "estimator_policy = PolicyEstimator(learning_rate, nS)\n",
    "estimator_value = StateValueEstimator(learning_rate, nS)\n",
    "\n",
    "rider_test_list = np.array(grid_centroid_gdf['rider_test_list'])\n",
    "\n",
    "# Initialize study area\n",
    "study_area = create_study_area(service_areas, max_scooter_per_area, scooter_cost_per_deploy, docked_cost_per_deploy, \\\n",
    "                   nS, no_scooter_penalty, reward_per_rider, equity_penalty, rider_test_list, logistics_car_cost_per_mile)\n",
    "\n",
    "# Add ops to save and restore all the variables\n",
    "\n",
    "print(\"Starting policy gradient...\")\n",
    "\n",
    "# Start training\n",
    "print(\"Training in progress...\")\n",
    "avg_reward_max_6, avg_unmet_demand_max_6, avg_met_demand_max_6, avg_scooter_num_max_6, avg_scooter_loc_max_6, avg_wANNR_max_6, avg_moran_max_6, avg_gini_max_6, avg_theil_max_6, avg_EMD_max_6, avg_centroid_max_6, avg_dispersion_max_6, avg_kl_max_6, scooter_list_max_6 = reinforce(study_area, nS, estimator_policy, estimator_value, n_epochs, n_iters, batch_size, display_step)"
   ]
  },
  {
   "cell_type": "markdown",
   "id": "0c0df756",
   "metadata": {},
   "source": [
    "## reward_per_rider = 0.5"
   ]
  },
  {
   "cell_type": "code",
   "execution_count": 10,
   "id": "7927ff81",
   "metadata": {},
   "outputs": [
    {
     "name": "stdout",
     "output_type": "stream",
     "text": [
      "Starting policy gradient...\n",
      "Training in progress...\n",
      "Epoch 50, Average reward, unmet demand, met demand, scooter num, scooter loc, gini index unmet, gini index met, wANNR, moran, gini, theil, EMD, centroid change, dispersion change, kl divergence = 38.080, 27.600, 163.400, 181.800, 104.600, 0.989, 0.956, 0.482, 0.038, 0.949, 0.218, 2.012, 0.926, -1.743, 0.819\n",
      "Epoch 100, Average reward, unmet demand, met demand, scooter num, scooter loc, gini index unmet, gini index met, wANNR, moran, gini, theil, EMD, centroid change, dispersion change, kl divergence = 35.448, 30.600, 160.400, 179.800, 104.000, 0.988, 0.955, 0.480, 0.038, 0.949, 0.223, 2.027, 0.937, -1.755, 0.845\n",
      "Epoch 150, Average reward, unmet demand, met demand, scooter num, scooter loc, gini index unmet, gini index met, wANNR, moran, gini, theil, EMD, centroid change, dispersion change, kl divergence = 37.629, 28.400, 162.600, 180.800, 106.600, 0.990, 0.954, 0.481, 0.039, 0.947, 0.208, 1.991, 0.904, -1.720, 0.853\n",
      "Epoch 200, Average reward, unmet demand, met demand, scooter num, scooter loc, gini index unmet, gini index met, wANNR, moran, gini, theil, EMD, centroid change, dispersion change, kl divergence = 37.709, 28.400, 162.600, 180.200, 106.000, 0.989, 0.955, 0.480, 0.038, 0.948, 0.211, 1.983, 0.926, -1.705, 0.848\n",
      "Epoch 250, Average reward, unmet demand, met demand, scooter num, scooter loc, gini index unmet, gini index met, wANNR, moran, gini, theil, EMD, centroid change, dispersion change, kl divergence = 39.871, 26.000, 165.000, 180.800, 104.400, 0.990, 0.954, 0.481, 0.040, 0.949, 0.215, 2.034, 0.905, -1.776, 0.815\n",
      "Epoch 300, Average reward, unmet demand, met demand, scooter num, scooter loc, gini index unmet, gini index met, wANNR, moran, gini, theil, EMD, centroid change, dispersion change, kl divergence = 38.074, 28.000, 163.000, 179.600, 103.800, 0.990, 0.955, 0.479, 0.038, 0.949, 0.220, 2.023, 0.938, -1.753, 0.807\n",
      "Epoch 350, Average reward, unmet demand, met demand, scooter num, scooter loc, gini index unmet, gini index met, wANNR, moran, gini, theil, EMD, centroid change, dispersion change, kl divergence = 19.801, 46.600, 144.400, 179.200, 107.200, 0.982, 0.959, 0.479, 0.038, 0.947, 0.211, 1.988, 0.959, -1.716, 0.814\n",
      "Epoch 400, Average reward, unmet demand, met demand, scooter num, scooter loc, gini index unmet, gini index met, wANNR, moran, gini, theil, EMD, centroid change, dispersion change, kl divergence = 36.586, 30.000, 161.000, 177.600, 105.200, 0.989, 0.954, 0.476, 0.037, 0.948, 0.214, 1.981, 0.940, -1.685, 0.865\n",
      "Epoch 450, Average reward, unmet demand, met demand, scooter num, scooter loc, gini index unmet, gini index met, wANNR, moran, gini, theil, EMD, centroid change, dispersion change, kl divergence = 39.880, 25.800, 165.200, 183.200, 108.600, 0.990, 0.954, 0.484, 0.039, 0.946, 0.210, 1.972, 0.953, -1.676, 0.843\n",
      "Epoch 500, Average reward, unmet demand, met demand, scooter num, scooter loc, gini index unmet, gini index met, wANNR, moran, gini, theil, EMD, centroid change, dispersion change, kl divergence = 35.467, 31.000, 160.000, 178.600, 106.400, 0.988, 0.955, 0.478, 0.039, 0.947, 0.209, 1.999, 0.954, -1.708, 0.853\n"
     ]
    }
   ],
   "source": [
    "## tf.reset_default_graph() only works under tf 1.0\n",
    "reward_per_rider = 0.5\n",
    "\n",
    "# Set up the state-value estimator and policy estimator\n",
    "estimator_policy = PolicyEstimator(learning_rate, nS)\n",
    "estimator_value = StateValueEstimator(learning_rate, nS)\n",
    "\n",
    "rider_test_list = np.array(grid_centroid_gdf['rider_test_list'])\n",
    "\n",
    "# Initialize study area\n",
    "study_area = create_study_area(service_areas, max_scooter_per_area, scooter_cost_per_deploy, docked_cost_per_deploy, \\\n",
    "                   nS, no_scooter_penalty, reward_per_rider, equity_penalty, rider_test_list, logistics_car_cost_per_mile)\n",
    "\n",
    "# Add ops to save and restore all the variables\n",
    "\n",
    "print(\"Starting policy gradient...\")\n",
    "\n",
    "# Start training\n",
    "print(\"Training in progress...\")\n",
    "avg_reward_max_7, avg_unmet_demand_max_7, avg_met_demand_max_7, avg_scooter_num_max_7, avg_scooter_loc_max_7, avg_wANNR_max_7, avg_moran_max_7, avg_gini_max_7, avg_theil_max_7, avg_EMD_max_7, avg_centroid_max_7, avg_dispersion_max_7, avg_kl_max_7, scooter_list_max_7 = reinforce(study_area, nS, estimator_policy, estimator_value, n_epochs, n_iters, batch_size, display_step)"
   ]
  },
  {
   "cell_type": "markdown",
   "id": "93e0783a",
   "metadata": {},
   "source": [
    "## reward_per_rider = 0.6"
   ]
  },
  {
   "cell_type": "code",
   "execution_count": 72,
   "id": "36be398b",
   "metadata": {},
   "outputs": [
    {
     "name": "stdout",
     "output_type": "stream",
     "text": [
      "Starting policy gradient...\n",
      "Training in progress...\n",
      "Epoch 50, Average reward, unmet demand, met demand, scooter num, scooter loc, gini index unmet, gini index met, wANNR, moran, gini, theil, EMD, centroid change, dispersion change, kl divergence = 57.141, 25.000, 166.000, 183.600, 107.800, 0.990, 0.954, 0.484, 0.039, 0.947, 0.210, 1.993, 0.924, -1.728, 0.862\n",
      "Epoch 100, Average reward, unmet demand, met demand, scooter num, scooter loc, gini index unmet, gini index met, wANNR, moran, gini, theil, EMD, centroid change, dispersion change, kl divergence = 55.099, 27.000, 164.000, 182.200, 106.000, 0.989, 0.956, 0.483, 0.037, 0.948, 0.227, 1.983, 0.944, -1.700, 0.823\n",
      "Epoch 150, Average reward, unmet demand, met demand, scooter num, scooter loc, gini index unmet, gini index met, wANNR, moran, gini, theil, EMD, centroid change, dispersion change, kl divergence = 35.082, 46.200, 144.800, 177.600, 108.200, 0.982, 0.959, 0.476, 0.039, 0.946, 0.195, 1.962, 0.915, -1.700, 0.834\n",
      "Epoch 200, Average reward, unmet demand, met demand, scooter num, scooter loc, gini index unmet, gini index met, wANNR, moran, gini, theil, EMD, centroid change, dispersion change, kl divergence = 50.023, 32.600, 158.400, 175.800, 102.800, 0.988, 0.955, 0.474, 0.040, 0.949, 0.208, 2.038, 0.938, -1.755, 0.831\n",
      "Epoch 250, Average reward, unmet demand, met demand, scooter num, scooter loc, gini index unmet, gini index met, wANNR, moran, gini, theil, EMD, centroid change, dispersion change, kl divergence = 54.243, 28.400, 162.600, 178.800, 105.800, 0.990, 0.954, 0.478, 0.040, 0.948, 0.206, 2.015, 0.948, -1.741, 0.816\n",
      "Epoch 300, Average reward, unmet demand, met demand, scooter num, scooter loc, gini index unmet, gini index met, wANNR, moran, gini, theil, EMD, centroid change, dispersion change, kl divergence = 54.774, 27.000, 164.000, 184.200, 107.200, 0.989, 0.955, 0.485, 0.037, 0.948, 0.222, 2.002, 0.942, -1.736, 0.822\n",
      "Epoch 350, Average reward, unmet demand, met demand, scooter num, scooter loc, gini index unmet, gini index met, wANNR, moran, gini, theil, EMD, centroid change, dispersion change, kl divergence = 52.378, 29.800, 161.200, 180.800, 107.000, 0.989, 0.955, 0.481, 0.038, 0.947, 0.213, 1.980, 0.907, -1.710, 0.858\n",
      "Epoch 400, Average reward, unmet demand, met demand, scooter num, scooter loc, gini index unmet, gini index met, wANNR, moran, gini, theil, EMD, centroid change, dispersion change, kl divergence = 54.928, 27.400, 163.600, 180.400, 104.600, 0.988, 0.956, 0.480, 0.039, 0.949, 0.222, 2.047, 0.937, -1.784, 0.812\n",
      "Epoch 450, Average reward, unmet demand, met demand, scooter num, scooter loc, gini index unmet, gini index met, wANNR, moran, gini, theil, EMD, centroid change, dispersion change, kl divergence = 52.248, 30.200, 160.800, 178.800, 105.600, 0.988, 0.955, 0.478, 0.037, 0.948, 0.212, 1.993, 0.944, -1.707, 0.863\n",
      "Epoch 500, Average reward, unmet demand, met demand, scooter num, scooter loc, gini index unmet, gini index met, wANNR, moran, gini, theil, EMD, centroid change, dispersion change, kl divergence = 53.566, 29.000, 162.000, 178.600, 105.000, 0.989, 0.954, 0.478, 0.039, 0.948, 0.219, 2.008, 0.907, -1.734, 0.836\n"
     ]
    }
   ],
   "source": [
    "## tf.reset_default_graph() only works under tf 1.0\n",
    "reward_per_rider = 0.6\n",
    "\n",
    "# Set up the state-value estimator and policy estimator\n",
    "estimator_policy = PolicyEstimator(learning_rate, nS)\n",
    "estimator_value = StateValueEstimator(learning_rate, nS)\n",
    "\n",
    "rider_test_list = np.array(grid_centroid_gdf['rider_test_list'])\n",
    "\n",
    "# Initialize study area\n",
    "study_area = create_study_area(service_areas, max_scooter_per_area, scooter_cost_per_deploy, docked_cost_per_deploy, \\\n",
    "                   nS, no_scooter_penalty, reward_per_rider, equity_penalty, rider_test_list, logistics_car_cost_per_mile)\n",
    "\n",
    "# Add ops to save and restore all the variables\n",
    "\n",
    "print(\"Starting policy gradient...\")\n",
    "\n",
    "# Start training\n",
    "print(\"Training in progress...\")\n",
    "avg_reward_max_8, avg_unmet_demand_max_8, avg_met_demand_max_8, avg_scooter_num_max_8, avg_scooter_loc_max_8, avg_wANNR_max_8, avg_moran_max_8, avg_gini_max_8, avg_theil_max_8, avg_EMD_max_8, avg_centroid_max_8, avg_dispersion_max_8, avg_kl_max_8, scooter_list_max_8 = reinforce(study_area, nS, estimator_policy, estimator_value, n_epochs, n_iters, batch_size, display_step)"
   ]
  },
  {
   "cell_type": "markdown",
   "id": "e083ec22",
   "metadata": {},
   "source": [
    "## reward_per_rider = 0.7"
   ]
  },
  {
   "cell_type": "code",
   "execution_count": 12,
   "id": "19adfab7",
   "metadata": {},
   "outputs": [
    {
     "name": "stdout",
     "output_type": "stream",
     "text": [
      "Starting policy gradient...\n",
      "Training in progress...\n",
      "Epoch 50, Average reward, unmet demand, met demand, scooter num, scooter loc, gini index unmet, gini index met, wANNR, moran, gini, theil, EMD, centroid change, dispersion change, kl divergence = 70.711, 27.800, 163.200, 180.800, 104.400, 0.989, 0.955, 0.481, 0.037, 0.949, 0.231, 2.031, 0.926, -1.775, 0.824\n",
      "Epoch 100, Average reward, unmet demand, met demand, scooter num, scooter loc, gini index unmet, gini index met, wANNR, moran, gini, theil, EMD, centroid change, dispersion change, kl divergence = 67.086, 30.800, 160.200, 181.200, 105.200, 0.987, 0.954, 0.481, 0.039, 0.949, 0.234, 2.024, 0.941, -1.730, 0.817\n",
      "Epoch 150, Average reward, unmet demand, met demand, scooter num, scooter loc, gini index unmet, gini index met, wANNR, moran, gini, theil, EMD, centroid change, dispersion change, kl divergence = 68.034, 31.000, 160.000, 175.000, 104.000, 0.989, 0.954, 0.473, 0.039, 0.948, 0.197, 1.986, 0.918, -1.714, 0.843\n",
      "Epoch 200, Average reward, unmet demand, met demand, scooter num, scooter loc, gini index unmet, gini index met, wANNR, moran, gini, theil, EMD, centroid change, dispersion change, kl divergence = 65.583, 33.000, 158.000, 175.600, 105.000, 0.988, 0.955, 0.474, 0.037, 0.948, 0.210, 1.965, 0.927, -1.668, 0.859\n",
      "Epoch 250, Average reward, unmet demand, met demand, scooter num, scooter loc, gini index unmet, gini index met, wANNR, moran, gini, theil, EMD, centroid change, dispersion change, kl divergence = 69.446, 29.000, 162.000, 181.000, 107.400, 0.989, 0.955, 0.481, 0.040, 0.947, 0.211, 1.980, 0.931, -1.689, 0.851\n",
      "Epoch 300, Average reward, unmet demand, met demand, scooter num, scooter loc, gini index unmet, gini index met, wANNR, moran, gini, theil, EMD, centroid change, dispersion change, kl divergence = 69.281, 29.800, 161.200, 175.800, 103.600, 0.988, 0.955, 0.474, 0.035, 0.950, 0.233, 1.993, 0.930, -1.711, 0.850\n",
      "Epoch 350, Average reward, unmet demand, met demand, scooter num, scooter loc, gini index unmet, gini index met, wANNR, moran, gini, theil, EMD, centroid change, dispersion change, kl divergence = 65.668, 32.800, 158.200, 176.000, 104.000, 0.988, 0.955, 0.474, 0.039, 0.948, 0.203, 1.991, 0.914, -1.709, 0.849\n",
      "Epoch 400, Average reward, unmet demand, met demand, scooter num, scooter loc, gini index unmet, gini index met, wANNR, moran, gini, theil, EMD, centroid change, dispersion change, kl divergence = 69.107, 29.200, 161.800, 181.200, 106.600, 0.988, 0.955, 0.481, 0.039, 0.947, 0.216, 1.996, 0.931, -1.729, 0.837\n",
      "Epoch 450, Average reward, unmet demand, met demand, scooter num, scooter loc, gini index unmet, gini index met, wANNR, moran, gini, theil, EMD, centroid change, dispersion change, kl divergence = 74.732, 23.800, 167.200, 184.800, 105.000, 0.990, 0.956, 0.486, 0.037, 0.950, 0.233, 2.009, 0.919, -1.732, 0.806\n",
      "Epoch 500, Average reward, unmet demand, met demand, scooter num, scooter loc, gini index unmet, gini index met, wANNR, moran, gini, theil, EMD, centroid change, dispersion change, kl divergence = 72.061, 26.800, 164.200, 180.000, 104.200, 0.989, 0.955, 0.479, 0.038, 0.949, 0.227, 2.025, 0.935, -1.748, 0.830\n"
     ]
    }
   ],
   "source": [
    "## tf.reset_default_graph() only works under tf 1.0\n",
    "reward_per_rider = 0.7\n",
    "\n",
    "# Set up the state-value estimator and policy estimator\n",
    "estimator_policy = PolicyEstimator(learning_rate, nS)\n",
    "estimator_value = StateValueEstimator(learning_rate, nS)\n",
    "\n",
    "rider_test_list = np.array(grid_centroid_gdf['rider_test_list'])\n",
    "\n",
    "# Initialize study area\n",
    "study_area = create_study_area(service_areas, max_scooter_per_area, scooter_cost_per_deploy, docked_cost_per_deploy, \\\n",
    "                   nS, no_scooter_penalty, reward_per_rider, equity_penalty, rider_test_list, logistics_car_cost_per_mile)\n",
    "\n",
    "# Add ops to save and restore all the variables\n",
    "\n",
    "print(\"Starting policy gradient...\")\n",
    "\n",
    "# Start training\n",
    "print(\"Training in progress...\")\n",
    "avg_reward_max_9, avg_unmet_demand_max_9, avg_met_demand_max_9, avg_scooter_num_max_9, avg_scooter_loc_max_9, avg_wANNR_max_9, avg_moran_max_9, avg_gini_max_9, avg_theil_max_9, avg_EMD_max_9, avg_centroid_max_9, avg_dispersion_max_9, avg_kl_max_9, scooter_list_max_9 = reinforce(study_area, nS, estimator_policy, estimator_value, n_epochs, n_iters, batch_size, display_step)"
   ]
  },
  {
   "cell_type": "markdown",
   "id": "c16ce03b",
   "metadata": {},
   "source": [
    "## reward_per_rider = 0.8"
   ]
  },
  {
   "cell_type": "code",
   "execution_count": 66,
   "id": "3683cc27",
   "metadata": {},
   "outputs": [
    {
     "name": "stdout",
     "output_type": "stream",
     "text": [
      "Starting policy gradient...\n",
      "Training in progress...\n",
      "Epoch 50, Average reward, unmet demand, met demand, scooter num, scooter loc, gini index unmet, gini index met, wANNR, moran, gini, theil, EMD, centroid change, dispersion change, kl divergence = 85.367, 29.200, 161.800, 180.600, 106.000, 0.989, 0.954, 0.480, 0.037, 0.948, 0.216, 1.965, 0.920, -1.680, 0.850\n",
      "Epoch 100, Average reward, unmet demand, met demand, scooter num, scooter loc, gini index unmet, gini index met, wANNR, moran, gini, theil, EMD, centroid change, dispersion change, kl divergence = 84.895, 29.600, 161.400, 181.000, 107.800, 0.989, 0.954, 0.482, 0.038, 0.946, 0.206, 1.971, 0.942, -1.697, 0.865\n",
      "Epoch 150, Average reward, unmet demand, met demand, scooter num, scooter loc, gini index unmet, gini index met, wANNR, moran, gini, theil, EMD, centroid change, dispersion change, kl divergence = 85.636, 29.200, 161.800, 178.800, 104.600, 0.989, 0.955, 0.478, 0.038, 0.949, 0.222, 2.020, 0.915, -1.748, 0.839\n",
      "Epoch 200, Average reward, unmet demand, met demand, scooter num, scooter loc, gini index unmet, gini index met, wANNR, moran, gini, theil, EMD, centroid change, dispersion change, kl divergence = 83.294, 31.400, 159.600, 176.000, 103.800, 0.987, 0.954, 0.474, 0.036, 0.949, 0.220, 1.993, 0.935, -1.707, 0.832\n",
      "Epoch 250, Average reward, unmet demand, met demand, scooter num, scooter loc, gini index unmet, gini index met, wANNR, moran, gini, theil, EMD, centroid change, dispersion change, kl divergence = 58.163, 51.400, 139.600, 171.000, 101.600, 0.981, 0.961, 0.467, 0.037, 0.950, 0.214, 2.013, 0.930, -1.763, 0.860\n",
      "Epoch 300, Average reward, unmet demand, met demand, scooter num, scooter loc, gini index unmet, gini index met, wANNR, moran, gini, theil, EMD, centroid change, dispersion change, kl divergence = 91.151, 23.800, 167.200, 187.600, 108.800, 0.989, 0.955, 0.490, 0.037, 0.947, 0.228, 2.004, 0.924, -1.738, 0.825\n",
      "Epoch 350, Average reward, unmet demand, met demand, scooter num, scooter loc, gini index unmet, gini index met, wANNR, moran, gini, theil, EMD, centroid change, dispersion change, kl divergence = 84.323, 30.000, 161.000, 180.200, 104.800, 0.990, 0.954, 0.480, 0.039, 0.949, 0.211, 1.993, 0.906, -1.732, 0.851\n",
      "Epoch 400, Average reward, unmet demand, met demand, scooter num, scooter loc, gini index unmet, gini index met, wANNR, moran, gini, theil, EMD, centroid change, dispersion change, kl divergence = 87.679, 27.000, 164.000, 183.200, 105.800, 0.988, 0.956, 0.484, 0.038, 0.949, 0.231, 2.019, 0.905, -1.743, 0.831\n",
      "Epoch 450, Average reward, unmet demand, met demand, scooter num, scooter loc, gini index unmet, gini index met, wANNR, moran, gini, theil, EMD, centroid change, dispersion change, kl divergence = 87.314, 27.200, 163.800, 184.200, 107.200, 0.989, 0.955, 0.485, 0.038, 0.948, 0.224, 1.996, 0.941, -1.723, 0.842\n",
      "Epoch 500, Average reward, unmet demand, met demand, scooter num, scooter loc, gini index unmet, gini index met, wANNR, moran, gini, theil, EMD, centroid change, dispersion change, kl divergence = 87.177, 27.400, 163.600, 183.600, 107.200, 0.989, 0.956, 0.484, 0.038, 0.948, 0.222, 2.004, 0.939, -1.733, 0.832\n"
     ]
    }
   ],
   "source": [
    "## tf.reset_default_graph() only works under tf 1.0\n",
    "reward_per_rider = 0.8\n",
    "\n",
    "# Set up the state-value estimator and policy estimator\n",
    "estimator_policy = PolicyEstimator(learning_rate, nS)\n",
    "estimator_value = StateValueEstimator(learning_rate, nS)\n",
    "\n",
    "rider_test_list = np.array(grid_centroid_gdf['rider_test_list'])\n",
    "\n",
    "# Initialize study area\n",
    "study_area = create_study_area(service_areas, max_scooter_per_area, scooter_cost_per_deploy, docked_cost_per_deploy, \\\n",
    "                   nS, no_scooter_penalty, reward_per_rider, equity_penalty, rider_test_list, logistics_car_cost_per_mile)\n",
    "\n",
    "# Add ops to save and restore all the variables\n",
    "\n",
    "print(\"Starting policy gradient...\")\n",
    "\n",
    "# Start training\n",
    "print(\"Training in progress...\")\n",
    "avg_reward_max_10, avg_unmet_demand_max_10, avg_met_demand_max_10, avg_scooter_num_max_10, avg_scooter_loc_max_10, avg_wANNR_max_10, avg_moran_max_10, avg_gini_max_10, avg_theil_max_10, avg_EMD_max_10, avg_centroid_max_10, avg_dispersion_max_10, avg_kl_max_10, scooter_list_max_10 = reinforce(study_area, nS, estimator_policy, estimator_value, n_epochs, n_iters, batch_size, display_step)"
   ]
  },
  {
   "cell_type": "markdown",
   "id": "dad374e2",
   "metadata": {},
   "source": [
    "## reward_per_rider = 0.9"
   ]
  },
  {
   "cell_type": "code",
   "execution_count": 76,
   "id": "693564e0",
   "metadata": {},
   "outputs": [
    {
     "name": "stdout",
     "output_type": "stream",
     "text": [
      "Starting policy gradient...\n",
      "Training in progress...\n",
      "Epoch 50, Average reward, unmet demand, met demand, scooter num, scooter loc, gini index unmet, gini index met, wANNR, moran, gini, theil, EMD, centroid change, dispersion change, kl divergence = 100.582, 29.800, 161.200, 181.000, 105.400, 0.989, 0.955, 0.481, 0.038, 0.948, 0.214, 1.970, 0.950, -1.681, 0.843\n",
      "Epoch 100, Average reward, unmet demand, met demand, scooter num, scooter loc, gini index unmet, gini index met, wANNR, moran, gini, theil, EMD, centroid change, dispersion change, kl divergence = 103.780, 27.400, 163.600, 182.000, 106.000, 0.990, 0.954, 0.482, 0.039, 0.948, 0.215, 2.005, 0.927, -1.721, 0.851\n",
      "Epoch 150, Average reward, unmet demand, met demand, scooter num, scooter loc, gini index unmet, gini index met, wANNR, moran, gini, theil, EMD, centroid change, dispersion change, kl divergence = 101.116, 29.200, 161.800, 183.400, 108.000, 0.990, 0.955, 0.484, 0.039, 0.947, 0.210, 1.971, 0.935, -1.698, 0.812\n",
      "Epoch 200, Average reward, unmet demand, met demand, scooter num, scooter loc, gini index unmet, gini index met, wANNR, moran, gini, theil, EMD, centroid change, dispersion change, kl divergence = 103.929, 27.000, 164.000, 184.000, 106.000, 0.989, 0.955, 0.485, 0.041, 0.949, 0.226, 2.028, 0.914, -1.753, 0.831\n",
      "Epoch 250, Average reward, unmet demand, met demand, scooter num, scooter loc, gini index unmet, gini index met, wANNR, moran, gini, theil, EMD, centroid change, dispersion change, kl divergence = 98.778, 32.000, 159.000, 175.000, 106.000, 0.989, 0.954, 0.473, 0.037, 0.947, 0.198, 1.968, 0.960, -1.674, 0.856\n",
      "Epoch 300, Average reward, unmet demand, met demand, scooter num, scooter loc, gini index unmet, gini index met, wANNR, moran, gini, theil, EMD, centroid change, dispersion change, kl divergence = 103.362, 28.200, 162.800, 177.600, 103.200, 0.989, 0.955, 0.476, 0.036, 0.950, 0.218, 1.985, 0.928, -1.709, 0.847\n",
      "Epoch 350, Average reward, unmet demand, met demand, scooter num, scooter loc, gini index unmet, gini index met, wANNR, moran, gini, theil, EMD, centroid change, dispersion change, kl divergence = 76.696, 47.000, 144.000, 181.600, 109.800, 0.980, 0.960, 0.482, 0.040, 0.945, 0.214, 2.009, 0.898, -1.756, 0.832\n",
      "Epoch 400, Average reward, unmet demand, met demand, scooter num, scooter loc, gini index unmet, gini index met, wANNR, moran, gini, theil, EMD, centroid change, dispersion change, kl divergence = 100.254, 30.200, 160.800, 179.800, 105.200, 0.988, 0.955, 0.481, 0.036, 0.948, 0.218, 1.950, 0.945, -1.660, 0.838\n",
      "Epoch 450, Average reward, unmet demand, met demand, scooter num, scooter loc, gini index unmet, gini index met, wANNR, moran, gini, theil, EMD, centroid change, dispersion change, kl divergence = 101.321, 29.400, 161.600, 180.200, 105.600, 0.989, 0.955, 0.480, 0.040, 0.948, 0.211, 2.010, 0.947, -1.733, 0.823\n",
      "Epoch 500, Average reward, unmet demand, met demand, scooter num, scooter loc, gini index unmet, gini index met, wANNR, moran, gini, theil, EMD, centroid change, dispersion change, kl divergence = 60.630, 59.600, 131.400, 175.200, 113.400, 0.978, 0.958, 0.473, 0.036, 0.941, 0.184, 1.869, 0.912, -1.580, 0.861\n"
     ]
    }
   ],
   "source": [
    "## tf.reset_default_graph() only works under tf 1.0\n",
    "reward_per_rider = 0.9\n",
    "\n",
    "# Set up the state-value estimator and policy estimator\n",
    "estimator_policy = PolicyEstimator(learning_rate, nS)\n",
    "estimator_value = StateValueEstimator(learning_rate, nS)\n",
    "\n",
    "rider_test_list = np.array(grid_centroid_gdf['rider_test_list'])\n",
    "\n",
    "# Initialize study area\n",
    "study_area = create_study_area(service_areas, max_scooter_per_area, scooter_cost_per_deploy, docked_cost_per_deploy, \\\n",
    "                   nS, no_scooter_penalty, reward_per_rider, equity_penalty, rider_test_list, logistics_car_cost_per_mile)\n",
    "\n",
    "# Add ops to save and restore all the variables\n",
    "\n",
    "print(\"Starting policy gradient...\")\n",
    "\n",
    "# Start training\n",
    "print(\"Training in progress...\")\n",
    "avg_reward_max_11, avg_unmet_demand_max_11, avg_met_demand_max_11, avg_scooter_num_max_11, avg_scooter_loc_max_11, avg_wANNR_max_11, avg_moran_max_11, avg_gini_max_11, avg_theil_max_11, avg_EMD_max_11, avg_centroid_max_11, avg_dispersion_max_11, avg_kl_max_11, scooter_list_max_11 = reinforce(study_area, nS, estimator_policy, estimator_value, n_epochs, n_iters, batch_size, display_step)"
   ]
  },
  {
   "cell_type": "markdown",
   "id": "0572be87",
   "metadata": {},
   "source": [
    "## reward_per_rider = 1.0"
   ]
  },
  {
   "cell_type": "code",
   "execution_count": 68,
   "id": "d93d482c",
   "metadata": {},
   "outputs": [
    {
     "name": "stdout",
     "output_type": "stream",
     "text": [
      "Starting policy gradient...\n",
      "Training in progress...\n",
      "Epoch 50, Average reward, unmet demand, met demand, scooter num, scooter loc, gini index unmet, gini index met, wANNR, moran, gini, theil, EMD, centroid change, dispersion change, kl divergence = 112.017, 34.200, 156.800, 171.400, 104.600, 0.988, 0.952, 0.468, 0.041, 0.947, 0.180, 1.996, 0.943, -1.704, 0.842\n",
      "Epoch 100, Average reward, unmet demand, met demand, scooter num, scooter loc, gini index unmet, gini index met, wANNR, moran, gini, theil, EMD, centroid change, dispersion change, kl divergence = 118.473, 29.200, 161.800, 176.200, 103.800, 0.989, 0.955, 0.474, 0.038, 0.949, 0.215, 2.008, 0.926, -1.738, 0.843\n",
      "Epoch 150, Average reward, unmet demand, met demand, scooter num, scooter loc, gini index unmet, gini index met, wANNR, moran, gini, theil, EMD, centroid change, dispersion change, kl divergence = 117.193, 29.800, 161.200, 178.400, 104.800, 0.989, 0.955, 0.477, 0.035, 0.949, 0.227, 1.994, 0.945, -1.722, 0.847\n",
      "Epoch 200, Average reward, unmet demand, met demand, scooter num, scooter loc, gini index unmet, gini index met, wANNR, moran, gini, theil, EMD, centroid change, dispersion change, kl divergence = 116.560, 30.400, 160.600, 177.800, 106.800, 0.988, 0.954, 0.477, 0.040, 0.947, 0.200, 2.031, 0.972, -1.758, 0.817\n",
      "Epoch 250, Average reward, unmet demand, met demand, scooter num, scooter loc, gini index unmet, gini index met, wANNR, moran, gini, theil, EMD, centroid change, dispersion change, kl divergence = 120.238, 27.800, 163.200, 177.200, 102.000, 0.988, 0.956, 0.476, 0.037, 0.950, 0.216, 2.022, 0.943, -1.762, 0.850\n",
      "Epoch 300, Average reward, unmet demand, met demand, scooter num, scooter loc, gini index unmet, gini index met, wANNR, moran, gini, theil, EMD, centroid change, dispersion change, kl divergence = 121.904, 26.000, 165.000, 183.000, 104.200, 0.988, 0.956, 0.484, 0.037, 0.950, 0.234, 2.009, 0.918, -1.733, 0.821\n",
      "Epoch 350, Average reward, unmet demand, met demand, scooter num, scooter loc, gini index unmet, gini index met, wANNR, moran, gini, theil, EMD, centroid change, dispersion change, kl divergence = 116.763, 30.200, 160.800, 176.800, 102.600, 0.988, 0.955, 0.475, 0.037, 0.950, 0.220, 2.013, 0.903, -1.750, 0.857\n",
      "Epoch 400, Average reward, unmet demand, met demand, scooter num, scooter loc, gini index unmet, gini index met, wANNR, moran, gini, theil, EMD, centroid change, dispersion change, kl divergence = 113.772, 32.400, 158.600, 176.000, 104.600, 0.985, 0.955, 0.474, 0.037, 0.949, 0.231, 2.012, 0.904, -1.727, 0.807\n",
      "Epoch 450, Average reward, unmet demand, met demand, scooter num, scooter loc, gini index unmet, gini index met, wANNR, moran, gini, theil, EMD, centroid change, dispersion change, kl divergence = 117.495, 28.800, 162.200, 185.000, 107.000, 0.989, 0.954, 0.486, 0.038, 0.948, 0.224, 1.989, 0.952, -1.717, 0.787\n",
      "Epoch 500, Average reward, unmet demand, met demand, scooter num, scooter loc, gini index unmet, gini index met, wANNR, moran, gini, theil, EMD, centroid change, dispersion change, kl divergence = 120.306, 27.400, 163.600, 181.400, 106.600, 0.988, 0.954, 0.481, 0.041, 0.947, 0.207, 2.032, 0.959, -1.755, 0.792\n"
     ]
    }
   ],
   "source": [
    "## tf.reset_default_graph() only works under tf 1.0\n",
    "reward_per_rider = 1.0\n",
    "\n",
    "# Set up the state-value estimator and policy estimator\n",
    "estimator_policy = PolicyEstimator(learning_rate, nS)\n",
    "estimator_value = StateValueEstimator(learning_rate, nS)\n",
    "\n",
    "rider_test_list = np.array(grid_centroid_gdf['rider_test_list'])\n",
    "\n",
    "# Initialize study area\n",
    "study_area = create_study_area(service_areas, max_scooter_per_area, scooter_cost_per_deploy, docked_cost_per_deploy, \\\n",
    "                   nS, no_scooter_penalty, reward_per_rider, equity_penalty, rider_test_list, logistics_car_cost_per_mile)\n",
    "\n",
    "# Add ops to save and restore all the variables\n",
    "\n",
    "print(\"Starting policy gradient...\")\n",
    "\n",
    "# Start training\n",
    "print(\"Training in progress...\")\n",
    "avg_reward_max_12, avg_unmet_demand_max_12, avg_met_demand_max_12, avg_scooter_num_max_12, avg_scooter_loc_max_12, avg_wANNR_max_12, avg_moran_max_12, avg_gini_max_12, avg_theil_max_12, avg_EMD_max_12, avg_centroid_max_12, avg_dispersion_max_12, avg_kl_max_12, scooter_list_max_12 = reinforce(study_area, nS, estimator_policy, estimator_value, n_epochs, n_iters, batch_size, display_step)"
   ]
  },
  {
   "cell_type": "markdown",
   "id": "cf6babdd",
   "metadata": {},
   "source": [
    "# Illustration"
   ]
  },
  {
   "cell_type": "code",
   "execution_count": 131,
   "id": "218b3462",
   "metadata": {},
   "outputs": [
    {
     "name": "stdout",
     "output_type": "stream",
     "text": [
      "[array([False, False, False,  True,  True,  True,  True,  True,  True,\n",
      "        True]), array([ True,  True,  True,  True,  True,  True,  True,  True,  True,\n",
      "        True]), array([ True, False,  True,  True,  True,  True, False, False,  True,\n",
      "        True]), array([ True,  True,  True,  True, False,  True,  True,  True,  True,\n",
      "        True]), array([ True,  True,  True, False,  True,  True,  True,  True,  True,\n",
      "        True]), array([ True,  True,  True,  True,  True,  True, False,  True,  True,\n",
      "        True]), array([ True,  True, False,  True,  True,  True,  True,  True,  True,\n",
      "        True]), array([ True,  True,  True,  True,  True,  True,  True,  True,  True,\n",
      "        True]), array([ True,  True,  True,  True, False,  True,  True,  True,  True,\n",
      "        True]), array([ True,  True,  True,  True,  True,  True, False,  True,  True,\n",
      "       False]), array([ True,  True,  True,  True,  True,  True,  True,  True,  True,\n",
      "        True])]\n"
     ]
    }
   ],
   "source": [
    "def modified_z_score(arr):\n",
    "\n",
    "    median = np.median(arr)\n",
    "    mad = np.median(np.abs(arr - median))  # Median Absolute Deviation\n",
    "\n",
    "    # Modified Z-score\n",
    "    modified_z_scores = 0.6745 * (arr - median) / mad\n",
    "    threshold = 3\n",
    "    # filtered_arr = arr[np.abs(modified_z_scores) < threshold]\n",
    "    sel_index = np.abs(modified_z_scores) < threshold\n",
    "    \n",
    "    return sel_index # filtered_arr\n",
    "\n",
    "sel_index_2 = modified_z_score(avg_reward_max_2)\n",
    "sel_index_3 = modified_z_score(avg_reward_max_3)\n",
    "sel_index_4 = modified_z_score(avg_reward_max_4)\n",
    "sel_index_5 = modified_z_score(avg_reward_max_5)\n",
    "sel_index_6 = modified_z_score(avg_reward_max_6)\n",
    "sel_index_7 = modified_z_score(avg_reward_max_7)\n",
    "sel_index_8 = modified_z_score(avg_reward_max_8)\n",
    "sel_index_9 = modified_z_score(avg_reward_max_9)\n",
    "sel_index_10 = modified_z_score(avg_reward_max_10)\n",
    "sel_index_11 = modified_z_score(avg_reward_max_11)\n",
    "sel_index_12 = modified_z_score(avg_reward_max_12)\n",
    "print([sel_index_2, sel_index_3, sel_index_4, sel_index_5, sel_index_6, sel_index_7, sel_index_8, sel_index_9, \n",
    "      sel_index_10, sel_index_11, sel_index_12])"
   ]
  },
  {
   "cell_type": "code",
   "execution_count": 132,
   "id": "91bd3d33",
   "metadata": {},
   "outputs": [
    {
     "name": "stdout",
     "output_type": "stream",
     "text": [
      "End: 2025-07-12 20:39:21\n",
      "Plotting resulting graph...\n",
      "Plotting baseline 1...\n",
      "End: 2025-07-12 20:39:21\n"
     ]
    },
    {
     "data": {
      "image/png": "[encoded data removed]",
      "text/plain": [
       "<Figure size 432x288 with 1 Axes>"
      ]
     },
     "metadata": {
      "needs_background": "light"
     },
     "output_type": "display_data"
    }
   ],
   "source": [
    "# Plot the graphs of average rewards during testing phases of the policy\n",
    "# gradient method and the hand-crafted policies\n",
    "\n",
    "print(\"End: \" + datetime.now().strftime('%Y-%m-%d %H:%M:%S'))\n",
    "\n",
    "trip_reward_unit_list = np.array([0.0,0.1,0.2,0.3,0.4,0.5,0.6,0.7,0.8,0.9,1.0])\n",
    "max_reward_list_grid = np.array([avg_reward_max_2,\n",
    "                                avg_reward_max_3,\n",
    "                                avg_reward_max_4,\n",
    "                                avg_reward_max_5,\n",
    "                                avg_reward_max_6,\n",
    "                                avg_reward_max_7,\n",
    "                                avg_reward_max_8,\n",
    "                                avg_reward_max_9,\n",
    "                                avg_reward_max_10,\n",
    "                                avg_reward_max_11,\n",
    "                                avg_reward_max_12])\n",
    "max_reward_mean_grid = np.mean(max_reward_list_grid, axis=1)\n",
    "max_reward_std_grid = np.std(max_reward_list_grid, axis=1)\n",
    "\n",
    "print(\"Plotting resulting graph...\")\n",
    "# plt.figure(figsize = (12, 9))\n",
    "l1 = plt.errorbar(trip_reward_unit_list, max_reward_mean_grid, yerr=max_reward_std_grid, fmt='o-', capsize=5) # ecolor='gray', \n",
    "\n",
    "print(\"Plotting baseline 1...\")\n",
    "# plt.legend(loc='best',prop={'size': 10})\n",
    "plt.ylabel(\"Reward function value\")\n",
    "plt.xlabel(\"trip_reward_unit\")\n",
    "\n",
    "print(\"End: \" + datetime.now().strftime('%Y-%m-%d %H:%M:%S'))"
   ]
  },
  {
   "cell_type": "code",
   "execution_count": 133,
   "id": "88cb6330",
   "metadata": {},
   "outputs": [
    {
     "data": {
      "text/plain": [
       "array([[-48.9215033 , -45.54535549, -55.91820694, -74.95669338,\n",
       "        -69.96636532, -77.10587817, -75.83952469, -74.10005527,\n",
       "        -74.10005527, -77.67993763],\n",
       "       [-39.51919071, -36.45585172, -45.06885713, -31.03427658,\n",
       "        -27.60513284, -63.90613478, -38.74517627, -35.29401998,\n",
       "        -45.95740318, -27.84705933],\n",
       "       [-12.49506455, -23.44414828, -12.13825747, -11.96704196,\n",
       "        -11.87257274, -11.15133157, -25.03308673, -26.77652836,\n",
       "        -10.77370337, -13.85337807],\n",
       "       [  6.74664798,   6.81455055,   7.05086021,   6.11628834,\n",
       "        -10.32324109,   3.62383088,   3.39514982,   3.91837748,\n",
       "          4.28511547,   5.7343879 ],\n",
       "       [ 18.7670846 ,  19.17791481,  20.83104891,  12.0080439 ,\n",
       "         25.11529509,  23.25218744,  21.52382219,  17.0636856 ,\n",
       "         22.45117761,  23.12235048],\n",
       "       [ 38.07985867,  35.44758991,  37.62943034,  37.70949035,\n",
       "         39.8709289 ,  38.07427658,  19.80142513,  36.58610004,\n",
       "         39.88037188,  35.46707591],\n",
       "       [ 57.14054321,  55.09853144,  35.08223836,  50.02305239,\n",
       "         54.24275236,  54.77402787,  52.37824879,  54.9275299 ,\n",
       "         52.24834314,  53.56621136],\n",
       "       [ 70.7109289 ,  67.08637401,  68.03389128,  65.58264972,\n",
       "         69.44597134,  69.28068927,  65.66841183,  69.10723856,\n",
       "         74.73223876,  72.06090324],\n",
       "       [ 85.36729857,  84.89478978,  85.63629703,  83.29400261,\n",
       "         58.16289842,  91.15067151,  84.32303502,  87.67864277,\n",
       "         87.31402787,  87.17731554],\n",
       "       [100.58187912, 103.77962733, 101.11604832, 103.92866843,\n",
       "         98.7779835 , 103.36200782,  76.69559433, 100.25404524,\n",
       "        101.3206719 ,  60.63002882],\n",
       "       [112.01684497, 118.47290672, 117.19289803, 116.56027792,\n",
       "        120.23774427, 121.90446488, 116.76316371, 113.77163949,\n",
       "        117.49523509, 120.30614267]])"
      ]
     },
     "execution_count": 133,
     "metadata": {},
     "output_type": "execute_result"
    }
   ],
   "source": [
    "max_reward_list_grid"
   ]
  },
  {
   "cell_type": "code",
   "execution_count": 134,
   "id": "5be10874",
   "metadata": {},
   "outputs": [
    {
     "name": "stdout",
     "output_type": "stream",
     "text": [
      "End: 2025-07-12 20:39:27\n",
      "Plotting resulting graph...\n",
      "Plotting baseline 1...\n",
      "End: 2025-07-12 20:39:27\n"
     ]
    },
    {
     "data": {
      "image/png": "[encoded data removed]",
      "text/plain": [
       "<Figure size 432x288 with 1 Axes>"
      ]
     },
     "metadata": {
      "needs_background": "light"
     },
     "output_type": "display_data"
    }
   ],
   "source": [
    "# Plot the graphs of average rewards during testing phases of the policy\n",
    "# gradient method and the hand-crafted policies\n",
    "\n",
    "print(\"End: \" + datetime.now().strftime('%Y-%m-%d %H:%M:%S'))\n",
    "\n",
    "max_reward_list_grid = [np.array(avg_reward_max_2)[sel_index_2],\n",
    "                        np.array(avg_reward_max_3)[sel_index_3],\n",
    "                        np.array(avg_reward_max_4)[sel_index_4],\n",
    "                        np.array(avg_reward_max_5)[sel_index_5],\n",
    "                        np.array(avg_reward_max_6)[sel_index_6],\n",
    "                        np.array(avg_reward_max_7)[sel_index_7],\n",
    "                        np.array(avg_reward_max_8)[sel_index_8],\n",
    "                        np.array(avg_reward_max_9)[sel_index_9],\n",
    "                        np.array(avg_reward_max_10)[sel_index_10],\n",
    "                        np.array(avg_reward_max_11)[sel_index_11],\n",
    "                        np.array(avg_reward_max_12)[sel_index_12]]\n",
    "max_reward_mean_grid = []\n",
    "max_reward_std_grid = []\n",
    "for ii in range(len(trip_reward_unit_list)):\n",
    "    max_reward_mean_grid.append(np.mean(max_reward_list_grid[ii]))\n",
    "    max_reward_std_grid.append(np.std(max_reward_list_grid[ii]))\n",
    "\n",
    "print(\"Plotting resulting graph...\")\n",
    "# plt.figure(figsize = (12, 9))\n",
    "l1 = plt.errorbar(trip_reward_unit_list, max_reward_mean_grid, yerr=max_reward_std_grid, fmt='o-', capsize=5) # ecolor='gray', \n",
    "\n",
    "print(\"Plotting baseline 1...\")\n",
    "# plt.legend(loc='best',prop={'size': 10})\n",
    "plt.ylabel(\"Reward function value\")\n",
    "plt.xlabel(\"trip_reward_unit\")\n",
    "\n",
    "print(\"End: \" + datetime.now().strftime('%Y-%m-%d %H:%M:%S'))"
   ]
  },
  {
   "cell_type": "code",
   "execution_count": 135,
   "id": "29eceb93",
   "metadata": {},
   "outputs": [
    {
     "name": "stdout",
     "output_type": "stream",
     "text": [
      "End: 2025-07-12 20:39:28\n",
      "Plotting resulting graph...\n",
      "Plotting baseline 1...\n",
      "End: 2025-07-12 20:39:28\n"
     ]
    },
    {
     "data": {
      "image/png": "[encoded data removed]",
      "text/plain": [
       "<Figure size 432x288 with 1 Axes>"
      ]
     },
     "metadata": {
      "needs_background": "light"
     },
     "output_type": "display_data"
    }
   ],
   "source": [
    "# Plot the graphs of average rewards during testing phases of the policy\n",
    "# gradient method and the hand-crafted policies\n",
    "\n",
    "print(\"End: \" + datetime.now().strftime('%Y-%m-%d %H:%M:%S'))\n",
    "\n",
    "max_unmet_demand_list_grid = np.array([avg_unmet_demand_max_2,\n",
    "                                avg_unmet_demand_max_3,\n",
    "                                avg_unmet_demand_max_4,\n",
    "                                avg_unmet_demand_max_5,\n",
    "                                avg_unmet_demand_max_6,\n",
    "                                avg_unmet_demand_max_7,\n",
    "                                avg_unmet_demand_max_8,\n",
    "                                avg_unmet_demand_max_9,\n",
    "                                avg_unmet_demand_max_10,\n",
    "                                avg_unmet_demand_max_11,\n",
    "                                avg_unmet_demand_max_12])\n",
    "max_unmet_demand_mean_grid = np.mean(max_unmet_demand_list_grid, axis=1)\n",
    "max_unmet_demand_std_grid = np.std(max_unmet_demand_list_grid, axis=1)\n",
    "\n",
    "print(\"Plotting resulting graph...\")\n",
    "# plt.figure(figsize = (12, 9))\n",
    "l1 = plt.errorbar(trip_reward_unit_list, max_unmet_demand_mean_grid, yerr=max_unmet_demand_std_grid, fmt='o-', capsize=5) # ecolor='gray', \n",
    "\n",
    "print(\"Plotting baseline 1...\")\n",
    "# plt.legend(loc='best',prop={'size': 10})\n",
    "plt.ylabel(\"Count of unmet demands\")\n",
    "plt.xlabel(\"trip_reward_unit\")\n",
    "\n",
    "print(\"End: \" + datetime.now().strftime('%Y-%m-%d %H:%M:%S'))"
   ]
  },
  {
   "cell_type": "code",
   "execution_count": 136,
   "id": "3efe0717",
   "metadata": {},
   "outputs": [
    {
     "data": {
      "text/plain": [
       "array([[ 41.2,  34.8,  56.2,  86. ,  86. ,  98. , 102. ,  97. ,  97. ,\n",
       "        101. ],\n",
       "       [ 50.2,  44.8,  61.2,  37.6,  30.2,  94. ,  50.6,  47.2,  57.8,\n",
       "         28.6],\n",
       "       [ 30.4,  47.6,  32. ,  30.2,  30.2,  27.4,  49.6,  53.2,  26.4,\n",
       "         33.6],\n",
       "       [ 25.2,  25.4,  25.2,  27. ,  48.4,  29.8,  31.2,  30.6,  29.8,\n",
       "         27.4],\n",
       "       [ 32.2,  31.6,  29. ,  41.6,  23.4,  25.6,  27.4,  34.2,  27.8,\n",
       "         26.6],\n",
       "       [ 27.6,  30.6,  28.4,  28.4,  26. ,  28. ,  46.6,  30. ,  25.8,\n",
       "         31. ],\n",
       "       [ 25. ,  27. ,  46.2,  32.6,  28.4,  27. ,  29.8,  27.4,  30.2,\n",
       "         29. ],\n",
       "       [ 27.8,  30.8,  31. ,  33. ,  29. ,  29.8,  32.8,  29.2,  23.8,\n",
       "         26.8],\n",
       "       [ 29.2,  29.6,  29.2,  31.4,  51.4,  23.8,  30. ,  27. ,  27.2,\n",
       "         27.4],\n",
       "       [ 29.8,  27.4,  29.2,  27. ,  32. ,  28.2,  47. ,  30.2,  29.4,\n",
       "         59.6],\n",
       "       [ 34.2,  29.2,  29.8,  30.4,  27.8,  26. ,  30.2,  32.4,  28.8,\n",
       "         27.4]])"
      ]
     },
     "execution_count": 136,
     "metadata": {},
     "output_type": "execute_result"
    }
   ],
   "source": [
    "max_unmet_demand_list_grid"
   ]
  },
  {
   "cell_type": "code",
   "execution_count": 137,
   "id": "4da57be1",
   "metadata": {},
   "outputs": [
    {
     "name": "stdout",
     "output_type": "stream",
     "text": [
      "End: 2025-07-12 20:39:30\n",
      "Plotting resulting graph...\n",
      "Plotting baseline 1...\n",
      "End: 2025-07-12 20:39:30\n"
     ]
    },
    {
     "data": {
      "image/png": "[encoded data removed]",
      "text/plain": [
       "<Figure size 432x288 with 1 Axes>"
      ]
     },
     "metadata": {
      "needs_background": "light"
     },
     "output_type": "display_data"
    }
   ],
   "source": [
    "# Plot the graphs of average rewards during testing phases of the policy\n",
    "# gradient method and the hand-crafted policies\n",
    "\n",
    "print(\"End: \" + datetime.now().strftime('%Y-%m-%d %H:%M:%S'))\n",
    "\n",
    "max_unmet_demand_list_grid = [np.array(avg_unmet_demand_max_2)[sel_index_2],\n",
    "                        np.array(avg_unmet_demand_max_3)[sel_index_3],\n",
    "                        np.array(avg_unmet_demand_max_4)[sel_index_4],\n",
    "                        np.array(avg_unmet_demand_max_5)[sel_index_5],\n",
    "                        np.array(avg_unmet_demand_max_6)[sel_index_6],\n",
    "                        np.array(avg_unmet_demand_max_7)[sel_index_7],\n",
    "                        np.array(avg_unmet_demand_max_8)[sel_index_8],\n",
    "                        np.array(avg_unmet_demand_max_9)[sel_index_9],\n",
    "                        np.array(avg_unmet_demand_max_10)[sel_index_10],\n",
    "                        np.array(avg_unmet_demand_max_11)[sel_index_11],\n",
    "                        np.array(avg_unmet_demand_max_12)[sel_index_12]]\n",
    "max_unmet_demand_mean_grid = []\n",
    "max_unmet_demand_std_grid = []\n",
    "for ii in range(len(trip_reward_unit_list)):\n",
    "    max_unmet_demand_mean_grid.append(np.mean(max_unmet_demand_list_grid[ii]))\n",
    "    max_unmet_demand_std_grid.append(np.std(max_unmet_demand_list_grid[ii]))\n",
    "\n",
    "print(\"Plotting resulting graph...\")\n",
    "# plt.figure(figsize = (12, 9))\n",
    "l1 = plt.errorbar(trip_reward_unit_list, max_unmet_demand_mean_grid, yerr=max_unmet_demand_std_grid, fmt='o-', capsize=5) # ecolor='gray', \n",
    "\n",
    "print(\"Plotting baseline 1...\")\n",
    "# plt.legend(loc='best',prop={'size': 10})\n",
    "plt.ylabel(\"Count of unmet demands\")\n",
    "plt.xlabel(\"trip_reward_unit\")\n",
    "\n",
    "print(\"End: \" + datetime.now().strftime('%Y-%m-%d %H:%M:%S'))"
   ]
  },
  {
   "cell_type": "code",
   "execution_count": 138,
   "id": "41ea18e5",
   "metadata": {},
   "outputs": [
    {
     "name": "stdout",
     "output_type": "stream",
     "text": [
      "End: 2025-07-12 20:39:30\n",
      "Plotting resulting graph...\n",
      "Plotting baseline 1...\n",
      "End: 2025-07-12 20:39:30\n"
     ]
    },
    {
     "data": {
      "image/png": "[encoded data removed]",
      "text/plain": [
       "<Figure size 432x288 with 1 Axes>"
      ]
     },
     "metadata": {
      "needs_background": "light"
     },
     "output_type": "display_data"
    }
   ],
   "source": [
    "# Plot the graphs of average rewards during testing phases of the policy\n",
    "# gradient method and the hand-crafted policies\n",
    "\n",
    "print(\"End: \" + datetime.now().strftime('%Y-%m-%d %H:%M:%S'))\n",
    "\n",
    "max_met_demand_list_grid = np.array([avg_met_demand_max_2,\n",
    "                                avg_met_demand_max_3,\n",
    "                                avg_met_demand_max_4,\n",
    "                                avg_met_demand_max_5,\n",
    "                                avg_met_demand_max_6,\n",
    "                                avg_met_demand_max_7,\n",
    "                                avg_met_demand_max_8,\n",
    "                                avg_met_demand_max_9,\n",
    "                                avg_met_demand_max_10,\n",
    "                                avg_met_demand_max_11,\n",
    "                                avg_met_demand_max_12])\n",
    "max_met_demand_mean_grid = np.mean(max_met_demand_list_grid, axis=1)\n",
    "max_met_demand_std_grid = np.std(max_met_demand_list_grid, axis=1)\n",
    "\n",
    "print(\"Plotting resulting graph...\")\n",
    "# plt.figure(figsize = (12, 9))\n",
    "l1 = plt.errorbar(trip_reward_unit_list, max_met_demand_mean_grid, yerr=max_met_demand_std_grid, fmt='o-', capsize=5) # ecolor='gray', \n",
    "\n",
    "print(\"Plotting baseline 1...\")\n",
    "# plt.legend(loc='best',prop={'size': 10})\n",
    "plt.ylabel(\"Count of met demands\")\n",
    "plt.xlabel(\"trip_reward_unit\")\n",
    "\n",
    "print(\"End: \" + datetime.now().strftime('%Y-%m-%d %H:%M:%S'))"
   ]
  },
  {
   "cell_type": "code",
   "execution_count": 139,
   "id": "4e8f1897",
   "metadata": {
    "scrolled": true
   },
   "outputs": [
    {
     "data": {
      "text/plain": [
       "array([[149.8, 156.2, 134.8, 105. , 105. ,  93. ,  89. ,  94. ,  94. ,\n",
       "         90. ],\n",
       "       [140.8, 146.2, 129.8, 153.4, 160.8,  97. , 140.4, 143.8, 133.2,\n",
       "        162.4],\n",
       "       [160.6, 143.4, 159. , 160.8, 160.8, 163.6, 141.4, 137.8, 164.6,\n",
       "        157.4],\n",
       "       [165.8, 165.6, 165.8, 164. , 142.6, 161.2, 159.8, 160.4, 161.2,\n",
       "        163.6],\n",
       "       [158.8, 159.4, 162. , 149.4, 167.6, 165.4, 163.6, 156.8, 163.2,\n",
       "        164.4],\n",
       "       [163.4, 160.4, 162.6, 162.6, 165. , 163. , 144.4, 161. , 165.2,\n",
       "        160. ],\n",
       "       [166. , 164. , 144.8, 158.4, 162.6, 164. , 161.2, 163.6, 160.8,\n",
       "        162. ],\n",
       "       [163.2, 160.2, 160. , 158. , 162. , 161.2, 158.2, 161.8, 167.2,\n",
       "        164.2],\n",
       "       [161.8, 161.4, 161.8, 159.6, 139.6, 167.2, 161. , 164. , 163.8,\n",
       "        163.6],\n",
       "       [161.2, 163.6, 161.8, 164. , 159. , 162.8, 144. , 160.8, 161.6,\n",
       "        131.4],\n",
       "       [156.8, 161.8, 161.2, 160.6, 163.2, 165. , 160.8, 158.6, 162.2,\n",
       "        163.6]])"
      ]
     },
     "execution_count": 139,
     "metadata": {},
     "output_type": "execute_result"
    }
   ],
   "source": [
    "max_met_demand_list_grid"
   ]
  },
  {
   "cell_type": "code",
   "execution_count": 140,
   "id": "1947f7a4",
   "metadata": {},
   "outputs": [
    {
     "name": "stdout",
     "output_type": "stream",
     "text": [
      "End: 2025-07-12 20:39:32\n",
      "Plotting resulting graph...\n",
      "Plotting baseline 1...\n",
      "End: 2025-07-12 20:39:32\n"
     ]
    },
    {
     "data": {
      "image/png": "[encoded data removed]",
      "text/plain": [
       "<Figure size 432x288 with 1 Axes>"
      ]
     },
     "metadata": {
      "needs_background": "light"
     },
     "output_type": "display_data"
    }
   ],
   "source": [
    "# Plot the graphs of average rewards during testing phases of the policy\n",
    "# gradient method and the hand-crafted policies\n",
    "\n",
    "print(\"End: \" + datetime.now().strftime('%Y-%m-%d %H:%M:%S'))\n",
    "\n",
    "max_met_demand_list_grid = [np.array(avg_met_demand_max_2)[sel_index_2],\n",
    "                        np.array(avg_met_demand_max_3)[sel_index_3],\n",
    "                        np.array(avg_met_demand_max_4)[sel_index_4],\n",
    "                        np.array(avg_met_demand_max_5)[sel_index_5],\n",
    "                        np.array(avg_met_demand_max_6)[sel_index_6],\n",
    "                        np.array(avg_met_demand_max_7)[sel_index_7],\n",
    "                        np.array(avg_met_demand_max_8)[sel_index_8],\n",
    "                        np.array(avg_met_demand_max_9)[sel_index_9],\n",
    "                        np.array(avg_met_demand_max_10)[sel_index_10],\n",
    "                        np.array(avg_met_demand_max_11)[sel_index_11],\n",
    "                        np.array(avg_met_demand_max_12)[sel_index_12]]\n",
    "max_met_demand_mean_grid = []\n",
    "max_met_demand_std_grid = []\n",
    "for ii in range(len(trip_reward_unit_list)):\n",
    "    max_met_demand_mean_grid.append(np.mean(max_met_demand_list_grid[ii]))\n",
    "    max_met_demand_std_grid.append(np.std(max_met_demand_list_grid[ii]))\n",
    "\n",
    "print(\"Plotting resulting graph...\")\n",
    "# plt.figure(figsize = (12, 9))\n",
    "l1 = plt.errorbar(trip_reward_unit_list, max_met_demand_mean_grid, yerr=max_met_demand_std_grid, fmt='o-', capsize=5) # ecolor='gray', \n",
    "\n",
    "print(\"Plotting baseline 1...\")\n",
    "# plt.legend(loc='best',prop={'size': 10})\n",
    "plt.ylabel(\"Count of met demands\")\n",
    "plt.xlabel(\"trip_reward_unit\")\n",
    "\n",
    "print(\"End: \" + datetime.now().strftime('%Y-%m-%d %H:%M:%S'))"
   ]
  },
  {
   "cell_type": "code",
   "execution_count": 141,
   "id": "2f1350b0",
   "metadata": {
    "scrolled": false
   },
   "outputs": [
    {
     "name": "stdout",
     "output_type": "stream",
     "text": [
      "End: 2025-07-12 20:39:32\n",
      "Plotting resulting graph...\n",
      "Plotting baseline 1...\n",
      "End: 2025-07-12 20:39:32\n"
     ]
    },
    {
     "data": {
      "image/png": "[encoded data removed]",
      "text/plain": [
       "<Figure size 432x288 with 1 Axes>"
      ]
     },
     "metadata": {
      "needs_background": "light"
     },
     "output_type": "display_data"
    }
   ],
   "source": [
    "# Plot the graphs of average rewards during testing phases of the policy\n",
    "# gradient method and the hand-crafted policies\n",
    "\n",
    "print(\"End: \" + datetime.now().strftime('%Y-%m-%d %H:%M:%S'))\n",
    "\n",
    "max_scooter_num_list_grid = np.array([avg_scooter_num_max_2,\n",
    "                                avg_scooter_num_max_3,\n",
    "                                avg_scooter_num_max_4,\n",
    "                                avg_scooter_num_max_5,\n",
    "                                avg_scooter_num_max_6,\n",
    "                                avg_scooter_num_max_7,\n",
    "                                avg_scooter_num_max_8,\n",
    "                                avg_scooter_num_max_9,\n",
    "                                avg_scooter_num_max_10,\n",
    "                                avg_scooter_num_max_11,\n",
    "                                avg_scooter_num_max_12])\n",
    "max_scooter_num_mean_grid = np.mean(max_scooter_num_list_grid, axis=1)\n",
    "max_scooter_num_std_grid = np.std(max_scooter_num_list_grid, axis=1)\n",
    "\n",
    "print(\"Plotting resulting graph...\")\n",
    "# plt.figure(figsize = (12, 9))\n",
    "l1 = plt.errorbar(trip_reward_unit_list, max_scooter_num_mean_grid, yerr=max_scooter_num_std_grid, fmt='o-', capsize=5) # ecolor='gray', \n",
    "\n",
    "print(\"Plotting baseline 1...\")\n",
    "# plt.legend(loc='best',prop={'size': 10})\n",
    "plt.ylabel(\"Count of scooter numbers\")\n",
    "plt.xlabel(\"trip_reward_unit\")\n",
    "\n",
    "print(\"End: \" + datetime.now().strftime('%Y-%m-%d %H:%M:%S'))"
   ]
  },
  {
   "cell_type": "code",
   "execution_count": 142,
   "id": "7134e208",
   "metadata": {},
   "outputs": [
    {
     "data": {
      "text/plain": [
       "array([[176.4, 174. , 173.6, 199. , 167. , 175. , 157. , 160. , 160. ,\n",
       "        174. ],\n",
       "       [174.6, 175.6, 170.4, 170.8, 176. , 167. , 172.4, 164.2, 189. ,\n",
       "        182.2],\n",
       "       [180.6, 174.8, 171.8, 177.8, 177.2, 184. , 176. , 171.8, 186.2,\n",
       "        176.8],\n",
       "       [184.8, 183.2, 183.6, 181. , 178.6, 183. , 177.4, 177.4, 178.8,\n",
       "        180.6],\n",
       "       [176.4, 177.8, 179.6, 167. , 184.4, 183.2, 185.2, 176. , 176.2,\n",
       "        178.4],\n",
       "       [181.8, 179.8, 180.8, 180.2, 180.8, 179.6, 179.2, 177.6, 183.2,\n",
       "        178.6],\n",
       "       [183.6, 182.2, 177.6, 175.8, 178.8, 184.2, 180.8, 180.4, 178.8,\n",
       "        178.6],\n",
       "       [180.8, 181.2, 175. , 175.6, 181. , 175.8, 176. , 181.2, 184.8,\n",
       "        180. ],\n",
       "       [180.6, 181. , 178.8, 176. , 171. , 187.6, 180.2, 183.2, 184.2,\n",
       "        183.6],\n",
       "       [181. , 182. , 183.4, 184. , 175. , 177.6, 181.6, 179.8, 180.2,\n",
       "        175.2],\n",
       "       [171.4, 176.2, 178.4, 177.8, 177.2, 183. , 176.8, 176. , 185. ,\n",
       "        181.4]])"
      ]
     },
     "execution_count": 142,
     "metadata": {},
     "output_type": "execute_result"
    }
   ],
   "source": [
    "max_scooter_num_list_grid"
   ]
  },
  {
   "cell_type": "code",
   "execution_count": 143,
   "id": "f6957f55",
   "metadata": {},
   "outputs": [
    {
     "name": "stdout",
     "output_type": "stream",
     "text": [
      "End: 2025-07-12 20:39:34\n",
      "Plotting resulting graph...\n",
      "Plotting baseline 1...\n",
      "End: 2025-07-12 20:39:34\n"
     ]
    },
    {
     "data": {
      "image/png": "[encoded data removed]",
      "text/plain": [
       "<Figure size 432x288 with 1 Axes>"
      ]
     },
     "metadata": {
      "needs_background": "light"
     },
     "output_type": "display_data"
    }
   ],
   "source": [
    "# Plot the graphs of average rewards during testing phases of the policy\n",
    "# gradient method and the hand-crafted policies\n",
    "\n",
    "print(\"End: \" + datetime.now().strftime('%Y-%m-%d %H:%M:%S'))\n",
    "\n",
    "max_scooter_num_list_grid = [np.array(avg_scooter_num_max_2)[sel_index_2],\n",
    "                        np.array(avg_scooter_num_max_3)[sel_index_3],\n",
    "                        np.array(avg_scooter_num_max_4)[sel_index_4],\n",
    "                        np.array(avg_scooter_num_max_5)[sel_index_5],\n",
    "                        np.array(avg_scooter_num_max_6)[sel_index_6],\n",
    "                        np.array(avg_scooter_num_max_7)[sel_index_7],\n",
    "                        np.array(avg_scooter_num_max_8)[sel_index_8],\n",
    "                        np.array(avg_scooter_num_max_9)[sel_index_9],\n",
    "                        np.array(avg_scooter_num_max_10)[sel_index_10],\n",
    "                        np.array(avg_scooter_num_max_11)[sel_index_11],\n",
    "                        np.array(avg_scooter_num_max_12)[sel_index_12]]\n",
    "max_scooter_num_mean_grid = []\n",
    "max_scooter_num_std_grid = []\n",
    "for ii in range(len(trip_reward_unit_list)):\n",
    "    max_scooter_num_mean_grid.append(np.mean(max_scooter_num_list_grid[ii]))\n",
    "    max_scooter_num_std_grid.append(np.std(max_scooter_num_list_grid[ii]))\n",
    "\n",
    "print(\"Plotting resulting graph...\")\n",
    "# plt.figure(figsize = (12, 9))\n",
    "l1 = plt.errorbar(trip_reward_unit_list, max_scooter_num_mean_grid, yerr=max_scooter_num_std_grid, fmt='o-', capsize=5) # ecolor='gray', \n",
    "\n",
    "print(\"Plotting baseline 1...\")\n",
    "# plt.legend(loc='best',prop={'size': 10})\n",
    "plt.ylabel(\"Count of scooter numbers\")\n",
    "plt.xlabel(\"trip_reward_unit\")\n",
    "\n",
    "print(\"End: \" + datetime.now().strftime('%Y-%m-%d %H:%M:%S'))"
   ]
  },
  {
   "cell_type": "code",
   "execution_count": 144,
   "id": "e1c54dee",
   "metadata": {},
   "outputs": [
    {
     "name": "stdout",
     "output_type": "stream",
     "text": [
      "End: 2025-07-12 20:39:34\n",
      "Plotting resulting graph...\n",
      "Plotting baseline 1...\n",
      "End: 2025-07-12 20:39:34\n"
     ]
    },
    {
     "data": {
      "image/png": "[encoded data removed]",
      "text/plain": [
       "<Figure size 432x288 with 1 Axes>"
      ]
     },
     "metadata": {
      "needs_background": "light"
     },
     "output_type": "display_data"
    }
   ],
   "source": [
    "# Plot the graphs of average rewards during testing phases of the policy\n",
    "# gradient method and the hand-crafted policies\n",
    "\n",
    "print(\"End: \" + datetime.now().strftime('%Y-%m-%d %H:%M:%S'))\n",
    "\n",
    "max_scooter_loc_list_grid = np.array([avg_scooter_loc_max_2,\n",
    "                                avg_scooter_loc_max_3,\n",
    "                                avg_scooter_loc_max_4,\n",
    "                                avg_scooter_loc_max_5,\n",
    "                                avg_scooter_loc_max_6,\n",
    "                                avg_scooter_loc_max_7,\n",
    "                                avg_scooter_loc_max_8,\n",
    "                                avg_scooter_loc_max_9,\n",
    "                                avg_scooter_loc_max_10,\n",
    "                                avg_scooter_loc_max_11,\n",
    "                                avg_scooter_loc_max_12])\n",
    "max_scooter_loc_mean_grid = np.mean(max_scooter_loc_list_grid, axis=1)\n",
    "max_scooter_loc_std_grid = np.std(max_scooter_loc_list_grid, axis=1)\n",
    "\n",
    "print(\"Plotting resulting graph...\")\n",
    "# plt.figure(figsize = (12, 9))\n",
    "l1 = plt.errorbar(trip_reward_unit_list, max_scooter_loc_mean_grid, yerr=max_scooter_loc_std_grid, fmt='o-', capsize=5) # ecolor='gray', \n",
    "\n",
    "print(\"Plotting baseline 1...\")\n",
    "# plt.legend(loc='best',prop={'size': 10})\n",
    "plt.ylabel(\"Count of scooter locations\")\n",
    "plt.xlabel(\"trip_reward_unit\")\n",
    "\n",
    "print(\"End: \" + datetime.now().strftime('%Y-%m-%d %H:%M:%S'))"
   ]
  },
  {
   "cell_type": "code",
   "execution_count": 145,
   "id": "909b5738",
   "metadata": {
    "scrolled": true
   },
   "outputs": [
    {
     "data": {
      "text/plain": [
       "array([[110. , 105.6, 109. , 124. , 102. , 109. , 103. , 101. , 101. ,\n",
       "        119. ],\n",
       "       [102.4, 102.8, 105. , 104.4, 105.2, 107. , 110.2, 106.4, 117.4,\n",
       "        106.2],\n",
       "       [106.8, 105.4, 102.2, 104.2, 103.8, 106. , 106.2, 105. , 107.8,\n",
       "        108.2],\n",
       "       [105.2, 103.8, 106. , 105.6, 108.2, 107.8, 104.2, 104.8, 105. ,\n",
       "        103.6],\n",
       "       [105.4, 107.6, 103.2, 102.2, 106.4, 104.6, 108.8, 105.6, 101. ,\n",
       "        101.6],\n",
       "       [104.6, 104. , 106.6, 106. , 104.4, 103.8, 107.2, 105.2, 108.6,\n",
       "        106.4],\n",
       "       [107.8, 106. , 108.2, 102.8, 105.8, 107.2, 107. , 104.6, 105.6,\n",
       "        105. ],\n",
       "       [104.4, 105.2, 104. , 105. , 107.4, 103.6, 104. , 106.6, 105. ,\n",
       "        104.2],\n",
       "       [106. , 107.8, 104.6, 103.8, 101.6, 108.8, 104.8, 105.8, 107.2,\n",
       "        107.2],\n",
       "       [105.4, 106. , 108. , 106. , 106. , 103.2, 109.8, 105.2, 105.6,\n",
       "        113.4],\n",
       "       [104.6, 103.8, 104.8, 106.8, 102. , 104.2, 102.6, 104.6, 107. ,\n",
       "        106.6]])"
      ]
     },
     "execution_count": 145,
     "metadata": {},
     "output_type": "execute_result"
    }
   ],
   "source": [
    "max_scooter_loc_list_grid"
   ]
  },
  {
   "cell_type": "code",
   "execution_count": 146,
   "id": "f4b1d750",
   "metadata": {},
   "outputs": [
    {
     "name": "stdout",
     "output_type": "stream",
     "text": [
      "End: 2025-07-12 20:39:35\n",
      "Plotting resulting graph...\n",
      "Plotting baseline 1...\n",
      "End: 2025-07-12 20:39:35\n"
     ]
    },
    {
     "data": {
      "image/png": "[encoded data removed]",
      "text/plain": [
       "<Figure size 432x288 with 1 Axes>"
      ]
     },
     "metadata": {
      "needs_background": "light"
     },
     "output_type": "display_data"
    }
   ],
   "source": [
    "# Plot the graphs of average rewards during testing phases of the policy\n",
    "# gradient method and the hand-crafted policies\n",
    "\n",
    "print(\"End: \" + datetime.now().strftime('%Y-%m-%d %H:%M:%S'))\n",
    "\n",
    "max_scooter_loc_list_grid = [np.array(avg_scooter_loc_max_2)[sel_index_2],\n",
    "                        np.array(avg_scooter_loc_max_3)[sel_index_3],\n",
    "                        np.array(avg_scooter_loc_max_4)[sel_index_4],\n",
    "                        np.array(avg_scooter_loc_max_5)[sel_index_5],\n",
    "                        np.array(avg_scooter_loc_max_6)[sel_index_6],\n",
    "                        np.array(avg_scooter_loc_max_7)[sel_index_7],\n",
    "                        np.array(avg_scooter_loc_max_8)[sel_index_8],\n",
    "                        np.array(avg_scooter_loc_max_9)[sel_index_9],\n",
    "                        np.array(avg_scooter_loc_max_10)[sel_index_10],\n",
    "                        np.array(avg_scooter_loc_max_11)[sel_index_11],\n",
    "                        np.array(avg_scooter_loc_max_12)[sel_index_12]]\n",
    "max_scooter_loc_mean_grid = []\n",
    "max_scooter_loc_std_grid = []\n",
    "for ii in range(len(trip_reward_unit_list)):\n",
    "    max_scooter_loc_mean_grid.append(np.mean(max_scooter_loc_list_grid[ii]))\n",
    "    max_scooter_loc_std_grid.append(np.std(max_scooter_loc_list_grid[ii]))\n",
    "\n",
    "print(\"Plotting resulting graph...\")\n",
    "# plt.figure(figsize = (12, 9))\n",
    "l1 = plt.errorbar(trip_reward_unit_list, max_scooter_loc_mean_grid, yerr=max_scooter_loc_std_grid, fmt='o-', capsize=5) # ecolor='gray', \n",
    "\n",
    "print(\"Plotting baseline 1...\")\n",
    "# plt.legend(loc='best',prop={'size': 10})\n",
    "plt.ylabel(\"Count of scooter locations\")\n",
    "plt.xlabel(\"trip_reward_unit\")\n",
    "\n",
    "print(\"End: \" + datetime.now().strftime('%Y-%m-%d %H:%M:%S'))"
   ]
  },
  {
   "cell_type": "code",
   "execution_count": 147,
   "id": "395b0814",
   "metadata": {},
   "outputs": [
    {
     "name": "stdout",
     "output_type": "stream",
     "text": [
      "End: 2025-07-12 20:39:36\n",
      "Plotting resulting graph...\n",
      "Plotting baseline 1...\n",
      "End: 2025-07-12 20:39:36\n"
     ]
    },
    {
     "data": {
      "image/png": "[encoded data removed]",
      "text/plain": [
       "<Figure size 432x288 with 1 Axes>"
      ]
     },
     "metadata": {
      "needs_background": "light"
     },
     "output_type": "display_data"
    }
   ],
   "source": [
    "# Plot the graphs of average rewards during testing phases of the policy\n",
    "# gradient method and the hand-crafted policies\n",
    "\n",
    "print(\"End: \" + datetime.now().strftime('%Y-%m-%d %H:%M:%S'))\n",
    "\n",
    "max_wANNR_list_grid = np.array([avg_wANNR_max_2,\n",
    "                                avg_wANNR_max_3,\n",
    "                                avg_wANNR_max_4,\n",
    "                                avg_wANNR_max_5,\n",
    "                                avg_wANNR_max_6,\n",
    "                                avg_wANNR_max_7,\n",
    "                                avg_wANNR_max_8,\n",
    "                                avg_wANNR_max_9,\n",
    "                                avg_wANNR_max_10,\n",
    "                                avg_wANNR_max_11,\n",
    "                                avg_wANNR_max_12])\n",
    "max_wANNR_mean_grid = np.mean(max_wANNR_list_grid, axis=1)\n",
    "max_wANNR_std_grid = np.std(max_wANNR_list_grid, axis=1)\n",
    "\n",
    "print(\"Plotting resulting graph...\")\n",
    "# plt.figure(figsize = (12, 9))\n",
    "l1 = plt.errorbar(trip_reward_unit_list, max_wANNR_mean_grid, yerr=max_wANNR_std_grid, fmt='o-', capsize=5) # ecolor='gray', \n",
    "\n",
    "print(\"Plotting baseline 1...\")\n",
    "# plt.legend(loc='best',prop={'size': 10})\n",
    "plt.ylabel(\"wANNR\")\n",
    "plt.xlabel(\"trip_reward_unit\")\n",
    "\n",
    "print(\"End: \" + datetime.now().strftime('%Y-%m-%d %H:%M:%S'))"
   ]
  },
  {
   "cell_type": "code",
   "execution_count": 148,
   "id": "3aafeb84",
   "metadata": {},
   "outputs": [
    {
     "data": {
      "text/plain": [
       "array([[0.47482798, 0.47136085, 0.4714657 , 0.50434861, 0.46316045,\n",
       "        0.47293572, 0.44797175, 0.45221351, 0.45221351, 0.47158278],\n",
       "       [0.47228192, 0.47362819, 0.46668707, 0.4676607 , 0.47403703,\n",
       "        0.46200837, 0.46941423, 0.45811864, 0.49141789, 0.48253371],\n",
       "       [0.48042196, 0.47250541, 0.46806602, 0.47649242, 0.47566724,\n",
       "        0.48489931, 0.47427421, 0.46892154, 0.48781822, 0.47527997],\n",
       "       [0.48595865, 0.48385394, 0.4843633 , 0.48089799, 0.47773587,\n",
       "        0.48360174, 0.47605544, 0.476257  , 0.47789474, 0.48027085],\n",
       "       [0.47471672, 0.47687688, 0.47899609, 0.46217226, 0.48543631,\n",
       "        0.48403934, 0.48643803, 0.47416976, 0.47407823, 0.47716622],\n",
       "       [0.4819577 , 0.47995339, 0.48117907, 0.47980339, 0.48060838,\n",
       "        0.47901179, 0.47854945, 0.47626114, 0.48382899, 0.47762926],\n",
       "       [0.48435355, 0.48252235, 0.47639244, 0.47379393, 0.47793039,\n",
       "        0.48516225, 0.48062884, 0.4800262 , 0.47793286, 0.47784795],\n",
       "       [0.48060096, 0.48121079, 0.47321432, 0.47352769, 0.48088819,\n",
       "        0.47386583, 0.47401281, 0.48117315, 0.48597624, 0.47948797],\n",
       "       [0.48036144, 0.4816449 , 0.47787225, 0.47414459, 0.46727549,\n",
       "        0.48962939, 0.47982043, 0.48385101, 0.48517232, 0.48440405],\n",
       "       [0.48090301, 0.48225884, 0.48404637, 0.48491482, 0.47297133,\n",
       "        0.47625155, 0.4817564 , 0.48117935, 0.47980273, 0.47318224],\n",
       "       [0.46799286, 0.47427025, 0.47738889, 0.47658659, 0.47569751,\n",
       "        0.48356028, 0.47519098, 0.47423365, 0.48622334, 0.48144846]])"
      ]
     },
     "execution_count": 148,
     "metadata": {},
     "output_type": "execute_result"
    }
   ],
   "source": [
    "max_wANNR_list_grid"
   ]
  },
  {
   "cell_type": "code",
   "execution_count": 149,
   "id": "66db0af5",
   "metadata": {},
   "outputs": [
    {
     "name": "stdout",
     "output_type": "stream",
     "text": [
      "End: 2025-07-12 20:39:37\n",
      "Plotting resulting graph...\n",
      "Plotting baseline 1...\n",
      "End: 2025-07-12 20:39:37\n"
     ]
    },
    {
     "data": {
      "image/png": "[encoded data removed]",
      "text/plain": [
       "<Figure size 432x288 with 1 Axes>"
      ]
     },
     "metadata": {
      "needs_background": "light"
     },
     "output_type": "display_data"
    }
   ],
   "source": [
    "# Plot the graphs of average rewards during testing phases of the policy\n",
    "# gradient method and the hand-crafted policies\n",
    "\n",
    "print(\"End: \" + datetime.now().strftime('%Y-%m-%d %H:%M:%S'))\n",
    "\n",
    "max_wANNR_list_grid = [np.array(avg_wANNR_max_2)[sel_index_2],\n",
    "                        np.array(avg_wANNR_max_3)[sel_index_3],\n",
    "                        np.array(avg_wANNR_max_4)[sel_index_4],\n",
    "                        np.array(avg_wANNR_max_5)[sel_index_5],\n",
    "                        np.array(avg_wANNR_max_6)[sel_index_6],\n",
    "                        np.array(avg_wANNR_max_7)[sel_index_7],\n",
    "                        np.array(avg_wANNR_max_8)[sel_index_8],\n",
    "                        np.array(avg_wANNR_max_9)[sel_index_9],\n",
    "                        np.array(avg_wANNR_max_10)[sel_index_10],\n",
    "                        np.array(avg_wANNR_max_11)[sel_index_11],\n",
    "                        np.array(avg_wANNR_max_12)[sel_index_12]]\n",
    "max_wANNR_mean_grid = []\n",
    "max_wANNR_std_grid = []\n",
    "for ii in range(len(trip_reward_unit_list)):\n",
    "    max_wANNR_mean_grid.append(np.mean(max_wANNR_list_grid[ii]))\n",
    "    max_wANNR_std_grid.append(np.std(max_wANNR_list_grid[ii]))\n",
    "\n",
    "print(\"Plotting resulting graph...\")\n",
    "# plt.figure(figsize = (12, 9))\n",
    "l1 = plt.errorbar(trip_reward_unit_list, max_wANNR_mean_grid, yerr=max_wANNR_std_grid, fmt='o-', capsize=5) # ecolor='gray', \n",
    "\n",
    "print(\"Plotting baseline 1...\")\n",
    "# plt.legend(loc='best',prop={'size': 10})\n",
    "plt.ylabel(\"wANNR\")\n",
    "plt.xlabel(\"trip_reward_unit\")\n",
    "\n",
    "print(\"End: \" + datetime.now().strftime('%Y-%m-%d %H:%M:%S'))"
   ]
  },
  {
   "cell_type": "code",
   "execution_count": 150,
   "id": "1995c33d",
   "metadata": {},
   "outputs": [
    {
     "name": "stdout",
     "output_type": "stream",
     "text": [
      "End: 2025-07-12 20:39:38\n",
      "Plotting resulting graph...\n",
      "Plotting baseline 1...\n",
      "End: 2025-07-12 20:39:38\n"
     ]
    },
    {
     "data": {
      "image/png": "[encoded data removed]",
      "text/plain": [
       "<Figure size 432x288 with 1 Axes>"
      ]
     },
     "metadata": {
      "needs_background": "light"
     },
     "output_type": "display_data"
    }
   ],
   "source": [
    "# Plot the graphs of average rewards during testing phases of the policy\n",
    "# gradient method and the hand-crafted policies\n",
    "\n",
    "print(\"End: \" + datetime.now().strftime('%Y-%m-%d %H:%M:%S'))\n",
    "\n",
    "max_moran_list_grid = np.array([avg_moran_max_2,\n",
    "                                avg_moran_max_3,\n",
    "                                avg_moran_max_4,\n",
    "                                avg_moran_max_5,\n",
    "                                avg_moran_max_6,\n",
    "                                avg_moran_max_7,\n",
    "                                avg_moran_max_8,\n",
    "                                avg_moran_max_9,\n",
    "                                avg_moran_max_10,\n",
    "                                avg_moran_max_11,\n",
    "                                avg_moran_max_12])\n",
    "max_moran_mean_grid = np.mean(max_moran_list_grid, axis=1)\n",
    "max_moran_std_grid = np.std(max_moran_list_grid, axis=1)\n",
    "\n",
    "print(\"Plotting resulting graph...\")\n",
    "# plt.figure(figsize = (12, 9))\n",
    "l1 = plt.errorbar(trip_reward_unit_list, max_moran_mean_grid, yerr=max_moran_std_grid, fmt='o-', capsize=5) # ecolor='gray', \n",
    "\n",
    "print(\"Plotting baseline 1...\")\n",
    "# plt.legend(loc='best',prop={'size': 10})\n",
    "plt.ylabel(\"Moran's I\")\n",
    "plt.xlabel(\"trip_reward_unit\")\n",
    "\n",
    "print(\"End: \" + datetime.now().strftime('%Y-%m-%d %H:%M:%S'))"
   ]
  },
  {
   "cell_type": "code",
   "execution_count": 151,
   "id": "c15474f8",
   "metadata": {},
   "outputs": [
    {
     "data": {
      "text/plain": [
       "array([[0.04177553, 0.03706411, 0.03856175, 0.04274772, 0.03950408,\n",
       "        0.04284404, 0.03526771, 0.04903811, 0.04903811, 0.04319124],\n",
       "       [0.03697338, 0.03671284, 0.03610565, 0.04109194, 0.03769325,\n",
       "        0.04215929, 0.03571071, 0.03382134, 0.03827933, 0.03986768],\n",
       "       [0.03957578, 0.03650531, 0.03620111, 0.03609158, 0.03721955,\n",
       "        0.03785921, 0.04093226, 0.03833987, 0.03943958, 0.03662078],\n",
       "       [0.03721103, 0.03724668, 0.03775838, 0.03768913, 0.03969977,\n",
       "        0.03916619, 0.03703964, 0.03869789, 0.03922805, 0.03703922],\n",
       "       [0.03925149, 0.03824159, 0.03771926, 0.03468343, 0.03817504,\n",
       "        0.036912  , 0.03890514, 0.04028236, 0.03704006, 0.03813359],\n",
       "       [0.03842262, 0.03848827, 0.0387827 , 0.03784297, 0.03982574,\n",
       "        0.03835529, 0.03834434, 0.03741258, 0.03944957, 0.03945949],\n",
       "       [0.0388386 , 0.03667933, 0.03898389, 0.03956777, 0.03987672,\n",
       "        0.03735679, 0.03800509, 0.03947546, 0.03737216, 0.03885242],\n",
       "       [0.03740514, 0.03917983, 0.03899264, 0.03680945, 0.03975432,\n",
       "        0.03526802, 0.03923597, 0.03889351, 0.0369889 , 0.03766091],\n",
       "       [0.03692707, 0.03764013, 0.03829299, 0.03581661, 0.03685345,\n",
       "        0.03720916, 0.03863136, 0.03793481, 0.03751445, 0.03812652],\n",
       "       [0.03778545, 0.0390911 , 0.03913027, 0.0405838 , 0.0370152 ,\n",
       "        0.03595672, 0.03998152, 0.03578693, 0.03970473, 0.03569724],\n",
       "       [0.04149492, 0.03830117, 0.03537916, 0.04025369, 0.0373929 ,\n",
       "        0.03654101, 0.03695257, 0.03679006, 0.03754181, 0.04082723]])"
      ]
     },
     "execution_count": 151,
     "metadata": {},
     "output_type": "execute_result"
    }
   ],
   "source": [
    "max_moran_list_grid"
   ]
  },
  {
   "cell_type": "code",
   "execution_count": 152,
   "id": "bbec88e4",
   "metadata": {},
   "outputs": [
    {
     "name": "stdout",
     "output_type": "stream",
     "text": [
      "End: 2025-07-12 20:39:39\n",
      "Plotting resulting graph...\n",
      "Plotting baseline 1...\n",
      "End: 2025-07-12 20:39:39\n"
     ]
    },
    {
     "data": {
      "image/png": "[encoded data removed]",
      "text/plain": [
       "<Figure size 432x288 with 1 Axes>"
      ]
     },
     "metadata": {
      "needs_background": "light"
     },
     "output_type": "display_data"
    }
   ],
   "source": [
    "# Plot the graphs of average rewards during testing phases of the policy\n",
    "# gradient method and the hand-crafted policies\n",
    "\n",
    "print(\"End: \" + datetime.now().strftime('%Y-%m-%d %H:%M:%S'))\n",
    "\n",
    "max_moran_list_grid = [np.array(avg_moran_max_2)[sel_index_2],\n",
    "                        np.array(avg_moran_max_3)[sel_index_3],\n",
    "                        np.array(avg_moran_max_4)[sel_index_4],\n",
    "                        np.array(avg_moran_max_5)[sel_index_5],\n",
    "                        np.array(avg_moran_max_6)[sel_index_6],\n",
    "                        np.array(avg_moran_max_7)[sel_index_7],\n",
    "                        np.array(avg_moran_max_8)[sel_index_8],\n",
    "                        np.array(avg_moran_max_9)[sel_index_9],\n",
    "                        np.array(avg_moran_max_10)[sel_index_10],\n",
    "                        np.array(avg_moran_max_11)[sel_index_11],\n",
    "                        np.array(avg_moran_max_12)[sel_index_12]]\n",
    "max_moran_mean_grid = []\n",
    "max_moran_std_grid = []\n",
    "for ii in range(len(trip_reward_unit_list)):\n",
    "    max_moran_mean_grid.append(np.mean(max_moran_list_grid[ii]))\n",
    "    max_moran_std_grid.append(np.std(max_moran_list_grid[ii]))\n",
    "\n",
    "print(\"Plotting resulting graph...\")\n",
    "# plt.figure(figsize = (12, 9))\n",
    "l1 = plt.errorbar(trip_reward_unit_list, max_moran_mean_grid, yerr=max_moran_std_grid, fmt='o-', capsize=5) # ecolor='gray', \n",
    "\n",
    "print(\"Plotting baseline 1...\")\n",
    "# plt.legend(loc='best',prop={'size': 10})\n",
    "plt.ylabel(\"Moran's I\")\n",
    "plt.xlabel(\"trip_reward_unit\")\n",
    "\n",
    "print(\"End: \" + datetime.now().strftime('%Y-%m-%d %H:%M:%S'))"
   ]
  },
  {
   "cell_type": "code",
   "execution_count": 153,
   "id": "622617ec",
   "metadata": {},
   "outputs": [
    {
     "name": "stdout",
     "output_type": "stream",
     "text": [
      "End: 2025-07-12 20:39:40\n",
      "Plotting resulting graph...\n",
      "Plotting baseline 1...\n",
      "End: 2025-07-12 20:39:40\n"
     ]
    },
    {
     "data": {
      "image/png": "[encoded data removed]",
      "text/plain": [
       "<Figure size 432x288 with 1 Axes>"
      ]
     },
     "metadata": {
      "needs_background": "light"
     },
     "output_type": "display_data"
    }
   ],
   "source": [
    "# Plot the graphs of average rewards during testing phases of the policy\n",
    "# gradient method and the hand-crafted policies\n",
    "\n",
    "print(\"End: \" + datetime.now().strftime('%Y-%m-%d %H:%M:%S'))\n",
    "\n",
    "max_gini_list_grid = np.array([avg_gini_max_2,\n",
    "                                avg_gini_max_3,\n",
    "                                avg_gini_max_4,\n",
    "                                avg_gini_max_5,\n",
    "                                avg_gini_max_6,\n",
    "                                avg_gini_max_7,\n",
    "                                avg_gini_max_8,\n",
    "                                avg_gini_max_9,\n",
    "                                avg_gini_max_10,\n",
    "                                avg_gini_max_11,\n",
    "                                avg_gini_max_12])\n",
    "max_gini_mean_grid = np.mean(max_gini_list_grid, axis=1)\n",
    "max_gini_std_grid = np.std(max_gini_list_grid, axis=1)\n",
    "\n",
    "print(\"Plotting resulting graph...\")\n",
    "# plt.figure(figsize = (12, 9))\n",
    "l1 = plt.errorbar(trip_reward_unit_list, max_gini_mean_grid, yerr=max_gini_std_grid, fmt='o-', capsize=5) # ecolor='gray', \n",
    "\n",
    "print(\"Plotting baseline 1...\")\n",
    "# plt.legend(loc='best',prop={'size': 10})\n",
    "plt.ylabel(\"Gini index\")\n",
    "plt.xlabel(\"trip_reward_unit\")\n",
    "\n",
    "print(\"End: \" + datetime.now().strftime('%Y-%m-%d %H:%M:%S'))"
   ]
  },
  {
   "cell_type": "code",
   "execution_count": 154,
   "id": "b8a3ecb2",
   "metadata": {},
   "outputs": [
    {
     "data": {
      "text/plain": [
       "array([[0.94391786, 0.94738148, 0.94440701, 0.93773261, 0.94950301,\n",
       "        0.94501853, 0.94624993, 0.94804575, 0.94804575, 0.93673192],\n",
       "       [0.94967975, 0.94974299, 0.94745022, 0.94779585, 0.94760163,\n",
       "        0.9451371 , 0.94369966, 0.94597568, 0.94050797, 0.94801442],\n",
       "       [0.94702637, 0.94760107, 0.94942225, 0.94888082, 0.94908857,\n",
       "        0.94853835, 0.94673348, 0.94699019, 0.94749135, 0.94559337],\n",
       "       [0.94965574, 0.95014278, 0.94851468, 0.94827699, 0.94594068,\n",
       "        0.94751206, 0.94873688, 0.94820777, 0.94841899, 0.94987898],\n",
       "       [0.94753143, 0.94598148, 0.94975768, 0.94868365, 0.94853364,\n",
       "        0.94977473, 0.94631432, 0.94712289, 0.95113633, 0.95086493],\n",
       "       [0.94903299, 0.94938544, 0.94723073, 0.94762794, 0.94895591,\n",
       "        0.94943503, 0.94684962, 0.94785404, 0.94611429, 0.94704896],\n",
       "       [0.94675905, 0.94834593, 0.94552867, 0.94928987, 0.94751325,\n",
       "        0.94770776, 0.94713252, 0.94901484, 0.94780398, 0.94840182],\n",
       "       [0.94936659, 0.94916598, 0.94809011, 0.9477596 , 0.94680404,\n",
       "        0.94958843, 0.94841949, 0.94744897, 0.94955058, 0.94939133],\n",
       "       [0.94783989, 0.94632762, 0.94879432, 0.94896322, 0.9497853 ,\n",
       "        0.94688186, 0.94853992, 0.94872895, 0.94766509, 0.94759709],\n",
       "       [0.94828173, 0.94804045, 0.94663562, 0.94866384, 0.94661914,\n",
       "        0.94957743, 0.94549826, 0.94845081, 0.94799838, 0.94127546],\n",
       "       [0.94664129, 0.94881144, 0.94881771, 0.9466169 , 0.95029835,\n",
       "        0.94990507, 0.9498861 , 0.94887095, 0.94801375, 0.94730048]])"
      ]
     },
     "execution_count": 154,
     "metadata": {},
     "output_type": "execute_result"
    }
   ],
   "source": [
    "max_gini_list_grid"
   ]
  },
  {
   "cell_type": "code",
   "execution_count": 155,
   "id": "3331d0c3",
   "metadata": {},
   "outputs": [
    {
     "name": "stdout",
     "output_type": "stream",
     "text": [
      "End: 2025-07-12 20:39:41\n",
      "Plotting resulting graph...\n",
      "Plotting baseline 1...\n",
      "End: 2025-07-12 20:39:41\n"
     ]
    },
    {
     "data": {
      "image/png": "[encoded data removed]",
      "text/plain": [
       "<Figure size 432x288 with 1 Axes>"
      ]
     },
     "metadata": {
      "needs_background": "light"
     },
     "output_type": "display_data"
    }
   ],
   "source": [
    "# Plot the graphs of average rewards during testing phases of the policy\n",
    "# gradient method and the hand-crafted policies\n",
    "\n",
    "print(\"End: \" + datetime.now().strftime('%Y-%m-%d %H:%M:%S'))\n",
    "\n",
    "max_gini_list_grid = [np.array(avg_gini_max_2)[sel_index_2],\n",
    "                        np.array(avg_gini_max_3)[sel_index_3],\n",
    "                        np.array(avg_gini_max_4)[sel_index_4],\n",
    "                        np.array(avg_gini_max_5)[sel_index_5],\n",
    "                        np.array(avg_gini_max_6)[sel_index_6],\n",
    "                        np.array(avg_gini_max_7)[sel_index_7],\n",
    "                        np.array(avg_gini_max_8)[sel_index_8],\n",
    "                        np.array(avg_gini_max_9)[sel_index_9],\n",
    "                        np.array(avg_gini_max_10)[sel_index_10],\n",
    "                        np.array(avg_gini_max_11)[sel_index_11],\n",
    "                        np.array(avg_gini_max_12)[sel_index_12]]\n",
    "max_gini_mean_grid = []\n",
    "max_gini_std_grid = []\n",
    "for ii in range(len(trip_reward_unit_list)):\n",
    "    max_gini_mean_grid.append(np.mean(max_gini_list_grid[ii]))\n",
    "    max_gini_std_grid.append(np.std(max_gini_list_grid[ii]))\n",
    "\n",
    "print(\"Plotting resulting graph...\")\n",
    "# plt.figure(figsize = (12, 9))\n",
    "l1 = plt.errorbar(trip_reward_unit_list, max_gini_mean_grid, yerr=max_gini_std_grid, fmt='o-', capsize=5) # ecolor='gray', \n",
    "\n",
    "print(\"Plotting baseline 1...\")\n",
    "# plt.legend(loc='best',prop={'size': 10})\n",
    "plt.ylabel(\"Gini index\")\n",
    "plt.xlabel(\"trip_reward_unit\")\n",
    "\n",
    "print(\"End: \" + datetime.now().strftime('%Y-%m-%d %H:%M:%S'))"
   ]
  },
  {
   "cell_type": "code",
   "execution_count": 156,
   "id": "9399863c",
   "metadata": {},
   "outputs": [
    {
     "name": "stdout",
     "output_type": "stream",
     "text": [
      "End: 2025-07-12 20:39:42\n",
      "Plotting resulting graph...\n",
      "Plotting baseline 1...\n",
      "End: 2025-07-12 20:39:42\n"
     ]
    },
    {
     "data": {
      "image/png": "[encoded data removed]",
      "text/plain": [
       "<Figure size 432x288 with 1 Axes>"
      ]
     },
     "metadata": {
      "needs_background": "light"
     },
     "output_type": "display_data"
    }
   ],
   "source": [
    "# Plot the graphs of average rewards during testing phases of the policy\n",
    "# gradient method and the hand-crafted policies\n",
    "\n",
    "print(\"End: \" + datetime.now().strftime('%Y-%m-%d %H:%M:%S'))\n",
    "\n",
    "max_theil_list_grid = np.array([avg_theil_max_2,\n",
    "                                avg_theil_max_3,\n",
    "                                avg_theil_max_4,\n",
    "                                avg_theil_max_5,\n",
    "                                avg_theil_max_6,\n",
    "                                avg_theil_max_7,\n",
    "                                avg_theil_max_8,\n",
    "                                avg_theil_max_9,\n",
    "                                avg_theil_max_10,\n",
    "                                avg_theil_max_11,\n",
    "                                avg_theil_max_12])\n",
    "max_theil_mean_grid = np.mean(max_theil_list_grid, axis=1)\n",
    "max_theil_std_grid = np.std(max_theil_list_grid, axis=1)\n",
    "\n",
    "print(\"Plotting resulting graph...\")\n",
    "# plt.figure(figsize = (12, 9))\n",
    "l1 = plt.errorbar(trip_reward_unit_list, max_theil_mean_grid, yerr=max_theil_std_grid, fmt='o-', capsize=5) # ecolor='gray', \n",
    "\n",
    "print(\"Plotting baseline 1...\")\n",
    "# plt.legend(loc='best',prop={'size': 10})\n",
    "plt.ylabel(\"Theil index\")\n",
    "plt.xlabel(\"trip_reward_unit\")\n",
    "\n",
    "print(\"End: \" + datetime.now().strftime('%Y-%m-%d %H:%M:%S'))"
   ]
  },
  {
   "cell_type": "code",
   "execution_count": 157,
   "id": "18efe939",
   "metadata": {},
   "outputs": [
    {
     "data": {
      "text/plain": [
       "array([[0.18452424, 0.21076829, 0.18508398, 0.20552952, 0.214146  ,\n",
       "        0.19373678, 0.17655451, 0.17163572, 0.17163572, 0.17002516],\n",
       "       [0.2114812 , 0.22013865, 0.20841701, 0.20469061, 0.21082262,\n",
       "        0.18908544, 0.20537093, 0.21507295, 0.19110455, 0.21964836],\n",
       "       [0.20659764, 0.21113728, 0.21480702, 0.22123665, 0.21817182,\n",
       "        0.2232112 , 0.19105269, 0.19028411, 0.22156664, 0.20219222],\n",
       "       [0.23929442, 0.23007281, 0.22554105, 0.21942602, 0.2080369 ,\n",
       "        0.2295309 , 0.21530739, 0.21113037, 0.21816628, 0.22848748],\n",
       "       [0.20633951, 0.20176048, 0.21910053, 0.2054039 , 0.23434748,\n",
       "        0.23621034, 0.20824852, 0.19577444, 0.22800129, 0.22468075],\n",
       "       [0.21842613, 0.22255039, 0.20845907, 0.21066315, 0.21502653,\n",
       "        0.21998041, 0.21145006, 0.21418571, 0.20989551, 0.20866804],\n",
       "       [0.21041203, 0.22737354, 0.19461886, 0.20802441, 0.20600974,\n",
       "        0.22191279, 0.21339464, 0.2221911 , 0.21195934, 0.21853665],\n",
       "       [0.23093889, 0.23390362, 0.19740784, 0.20990673, 0.21106869,\n",
       "        0.23305456, 0.20288133, 0.21557703, 0.23313596, 0.22722393],\n",
       "       [0.2155539 , 0.20562387, 0.22231704, 0.21986927, 0.21398197,\n",
       "        0.2278908 , 0.21072093, 0.23132366, 0.22374054, 0.22161627],\n",
       "       [0.21390028, 0.21453219, 0.21033913, 0.22638742, 0.1981431 ,\n",
       "        0.21808692, 0.2140664 , 0.21811255, 0.21144934, 0.18409852],\n",
       "       [0.1799303 , 0.21506862, 0.22654172, 0.1999658 , 0.21632713,\n",
       "        0.2344333 , 0.21951787, 0.2305415 , 0.22405799, 0.20715408]])"
      ]
     },
     "execution_count": 157,
     "metadata": {},
     "output_type": "execute_result"
    }
   ],
   "source": [
    "max_theil_list_grid"
   ]
  },
  {
   "cell_type": "code",
   "execution_count": 158,
   "id": "e57faad4",
   "metadata": {
    "scrolled": true
   },
   "outputs": [
    {
     "name": "stdout",
     "output_type": "stream",
     "text": [
      "End: 2025-07-12 20:39:43\n",
      "Plotting resulting graph...\n",
      "Plotting baseline 1...\n",
      "End: 2025-07-12 20:39:43\n"
     ]
    },
    {
     "data": {
      "image/png": "[encoded data removed]",
      "text/plain": [
       "<Figure size 432x288 with 1 Axes>"
      ]
     },
     "metadata": {
      "needs_background": "light"
     },
     "output_type": "display_data"
    }
   ],
   "source": [
    "# Plot the graphs of average rewards during testing phases of the policy\n",
    "# gradient method and the hand-crafted policies\n",
    "\n",
    "print(\"End: \" + datetime.now().strftime('%Y-%m-%d %H:%M:%S'))\n",
    "\n",
    "max_theil_list_grid = [np.array(avg_theil_max_2)[sel_index_2],\n",
    "                        np.array(avg_theil_max_3)[sel_index_3],\n",
    "                        np.array(avg_theil_max_4)[sel_index_4],\n",
    "                        np.array(avg_theil_max_5)[sel_index_5],\n",
    "                        np.array(avg_theil_max_6)[sel_index_6],\n",
    "                        np.array(avg_theil_max_7)[sel_index_7],\n",
    "                        np.array(avg_theil_max_8)[sel_index_8],\n",
    "                        np.array(avg_theil_max_9)[sel_index_9],\n",
    "                        np.array(avg_theil_max_10)[sel_index_10],\n",
    "                        np.array(avg_theil_max_11)[sel_index_11],\n",
    "                        np.array(avg_theil_max_12)[sel_index_12]]\n",
    "max_theil_mean_grid = []\n",
    "max_theil_std_grid = []\n",
    "for ii in range(len(trip_reward_unit_list)):\n",
    "    max_theil_mean_grid.append(np.mean(max_theil_list_grid[ii]))\n",
    "    max_theil_std_grid.append(np.std(max_theil_list_grid[ii]))\n",
    "\n",
    "print(\"Plotting resulting graph...\")\n",
    "# plt.figure(figsize = (12, 9))\n",
    "l1 = plt.errorbar(trip_reward_unit_list, max_theil_mean_grid, yerr=max_theil_std_grid, fmt='o-', capsize=5) # ecolor='gray', \n",
    "\n",
    "print(\"Plotting baseline 1...\")\n",
    "# plt.legend(loc='best',prop={'size': 10})\n",
    "plt.ylabel(\"Theil index\")\n",
    "plt.xlabel(\"trip_reward_unit\")\n",
    "\n",
    "print(\"End: \" + datetime.now().strftime('%Y-%m-%d %H:%M:%S'))"
   ]
  },
  {
   "cell_type": "code",
   "execution_count": 159,
   "id": "5d0636e8",
   "metadata": {},
   "outputs": [
    {
     "name": "stdout",
     "output_type": "stream",
     "text": [
      "End: 2025-07-12 20:39:44\n",
      "Plotting resulting graph...\n",
      "Plotting baseline 1...\n",
      "End: 2025-07-12 20:39:44\n"
     ]
    },
    {
     "data": {
      "image/png": "[encoded data removed]",
      "text/plain": [
       "<Figure size 432x288 with 1 Axes>"
      ]
     },
     "metadata": {
      "needs_background": "light"
     },
     "output_type": "display_data"
    }
   ],
   "source": [
    "# Plot the graphs of average rewards during testing phases of the policy\n",
    "# gradient method and the hand-crafted policies\n",
    "\n",
    "print(\"End: \" + datetime.now().strftime('%Y-%m-%d %H:%M:%S'))\n",
    "\n",
    "max_EMD_list_grid = np.array([avg_EMD_max_2,\n",
    "                                avg_EMD_max_3,\n",
    "                                avg_EMD_max_4,\n",
    "                                avg_EMD_max_5,\n",
    "                                avg_EMD_max_6,\n",
    "                                avg_EMD_max_7,\n",
    "                                avg_EMD_max_8,\n",
    "                                avg_EMD_max_9,\n",
    "                                avg_EMD_max_10,\n",
    "                                avg_EMD_max_11,\n",
    "                                avg_EMD_max_12])\n",
    "max_EMD_mean_grid = np.mean(max_EMD_list_grid, axis=1)\n",
    "max_EMD_std_grid = np.std(max_EMD_list_grid, axis=1)\n",
    "\n",
    "print(\"Plotting resulting graph...\")\n",
    "# plt.figure(figsize = (12, 9))\n",
    "l1 = plt.errorbar(trip_reward_unit_list, max_EMD_mean_grid, yerr=max_EMD_std_grid, fmt='o-', capsize=5) # ecolor='gray', \n",
    "\n",
    "print(\"Plotting baseline 1...\")\n",
    "# plt.legend(loc='best',prop={'size': 10})\n",
    "plt.ylabel(\"EMD\")\n",
    "plt.xlabel(\"trip_reward_unit\")\n",
    "\n",
    "print(\"End: \" + datetime.now().strftime('%Y-%m-%d %H:%M:%S'))"
   ]
  },
  {
   "cell_type": "code",
   "execution_count": 160,
   "id": "88c0520f",
   "metadata": {},
   "outputs": [
    {
     "data": {
      "text/plain": [
       "array([[1.97769278, 1.98754527, 1.91469862, 1.91296202, 2.07895306,\n",
       "        2.04814197, 1.94468425, 2.07169223, 2.07169223, 1.96163339],\n",
       "       [2.01628028, 2.00008931, 1.93031614, 2.03062324, 1.99463702,\n",
       "        1.97725178, 1.94260329, 1.94668948, 1.8689827 , 2.00026515],\n",
       "       [1.99722358, 1.97775918, 1.9885799 , 1.99818974, 2.01020316,\n",
       "        1.9950775 , 2.00254227, 1.93647985, 2.00702626, 1.94199597],\n",
       "       [2.02432098, 2.0031823 , 1.98795453, 2.00581622, 1.9971939 ,\n",
       "        2.00117279, 1.98206333, 2.02001076, 2.03234373, 2.00426714],\n",
       "       [1.99213865, 1.97852065, 2.01092957, 1.94203114, 2.03642416,\n",
       "        2.02656755, 1.97894304, 1.99994229, 2.04262871, 2.04520247],\n",
       "       [2.01232196, 2.02713752, 1.99118317, 1.9826903 , 2.03376662,\n",
       "        2.0230709 , 1.98829009, 1.98123794, 1.97211574, 1.99921325],\n",
       "       [1.99302104, 1.98340039, 1.96190611, 2.03771362, 2.01527015,\n",
       "        2.00158436, 1.98023976, 2.04683268, 1.99278159, 2.00772045],\n",
       "       [2.03126321, 2.02438992, 1.98552541, 1.96540669, 1.97999316,\n",
       "        1.99250122, 1.99058464, 1.99608583, 2.00920213, 2.02484169],\n",
       "       [1.96465378, 1.9707074 , 2.01956704, 1.99255212, 2.01323552,\n",
       "        2.00354871, 1.99301019, 2.0193274 , 1.99621375, 2.00367745],\n",
       "       [1.9698696 , 2.00473578, 1.97137486, 2.0283903 , 1.9684513 ,\n",
       "        1.98512487, 2.00859025, 1.95017996, 2.01032545, 1.8689312 ],\n",
       "       [1.99609073, 2.00846778, 1.99387368, 2.03132376, 2.02236178,\n",
       "        2.00869893, 2.01257661, 2.01222259, 1.98943106, 2.03210263]])"
      ]
     },
     "execution_count": 160,
     "metadata": {},
     "output_type": "execute_result"
    }
   ],
   "source": [
    "max_EMD_list_grid"
   ]
  },
  {
   "cell_type": "code",
   "execution_count": 161,
   "id": "8b10664d",
   "metadata": {},
   "outputs": [
    {
     "name": "stdout",
     "output_type": "stream",
     "text": [
      "End: 2025-07-12 20:39:46\n",
      "Plotting resulting graph...\n",
      "Plotting baseline 1...\n",
      "End: 2025-07-12 20:39:46\n"
     ]
    },
    {
     "data": {
      "image/png": "[encoded data removed]",
      "text/plain": [
       "<Figure size 432x288 with 1 Axes>"
      ]
     },
     "metadata": {
      "needs_background": "light"
     },
     "output_type": "display_data"
    }
   ],
   "source": [
    "# Plot the graphs of average rewards during testing phases of the policy\n",
    "# gradient method and the hand-crafted policies\n",
    "\n",
    "print(\"End: \" + datetime.now().strftime('%Y-%m-%d %H:%M:%S'))\n",
    "\n",
    "max_EMD_list_grid = [np.array(avg_EMD_max_2)[sel_index_2],\n",
    "                        np.array(avg_EMD_max_3)[sel_index_3],\n",
    "                        np.array(avg_EMD_max_4)[sel_index_4],\n",
    "                        np.array(avg_EMD_max_5)[sel_index_5],\n",
    "                        np.array(avg_EMD_max_6)[sel_index_6],\n",
    "                        np.array(avg_EMD_max_7)[sel_index_7],\n",
    "                        np.array(avg_EMD_max_8)[sel_index_8],\n",
    "                        np.array(avg_EMD_max_9)[sel_index_9],\n",
    "                        np.array(avg_EMD_max_10)[sel_index_10],\n",
    "                        np.array(avg_EMD_max_11)[sel_index_11],\n",
    "                        np.array(avg_EMD_max_12)[sel_index_12]]\n",
    "max_EMD_mean_grid = []\n",
    "max_EMD_std_grid = []\n",
    "for ii in range(len(trip_reward_unit_list)):\n",
    "    max_EMD_mean_grid.append(np.mean(max_EMD_list_grid[ii]))\n",
    "    max_EMD_std_grid.append(np.std(max_EMD_list_grid[ii]))\n",
    "\n",
    "print(\"Plotting resulting graph...\")\n",
    "# plt.figure(figsize = (12, 9))\n",
    "l1 = plt.errorbar(trip_reward_unit_list, max_EMD_mean_grid, yerr=max_EMD_std_grid, fmt='o-', capsize=5) # ecolor='gray', \n",
    "\n",
    "print(\"Plotting baseline 1...\")\n",
    "# plt.legend(loc='best',prop={'size': 10})\n",
    "plt.ylabel(\"EMD\")\n",
    "plt.xlabel(\"trip_reward_unit\")\n",
    "\n",
    "print(\"End: \" + datetime.now().strftime('%Y-%m-%d %H:%M:%S'))"
   ]
  },
  {
   "cell_type": "code",
   "execution_count": 162,
   "id": "b5f1eb35",
   "metadata": {},
   "outputs": [
    {
     "name": "stdout",
     "output_type": "stream",
     "text": [
      "End: 2025-07-12 20:39:46\n",
      "Plotting resulting graph...\n",
      "Plotting baseline 1...\n",
      "End: 2025-07-12 20:39:46\n"
     ]
    },
    {
     "data": {
      "image/png": "[encoded data removed]",
      "text/plain": [
       "<Figure size 432x288 with 1 Axes>"
      ]
     },
     "metadata": {
      "needs_background": "light"
     },
     "output_type": "display_data"
    }
   ],
   "source": [
    "# Plot the graphs of average rewards during testing phases of the policy\n",
    "# gradient method and the hand-crafted policies\n",
    "\n",
    "print(\"End: \" + datetime.now().strftime('%Y-%m-%d %H:%M:%S'))\n",
    "\n",
    "max_centroid_list_grid = np.array([avg_centroid_max_2,\n",
    "                                avg_centroid_max_3,\n",
    "                                avg_centroid_max_4,\n",
    "                                avg_centroid_max_5,\n",
    "                                avg_centroid_max_6,\n",
    "                                avg_centroid_max_7,\n",
    "                                avg_centroid_max_8,\n",
    "                                avg_centroid_max_9,\n",
    "                                avg_centroid_max_10,\n",
    "                                avg_centroid_max_11,\n",
    "                                avg_centroid_max_12])\n",
    "max_centroid_mean_grid = np.mean(max_centroid_list_grid, axis=1)\n",
    "max_centroid_std_grid = np.std(max_centroid_list_grid, axis=1)\n",
    "\n",
    "print(\"Plotting resulting graph...\")\n",
    "# plt.figure(figsize = (12, 9))\n",
    "l1 = plt.errorbar(trip_reward_unit_list, max_centroid_mean_grid, yerr=max_centroid_std_grid, fmt='o-', capsize=5) # ecolor='gray', \n",
    "\n",
    "print(\"Plotting baseline 1...\")\n",
    "# plt.legend(loc='best',prop={'size': 10})\n",
    "plt.ylabel(\"Centroid shift\")\n",
    "plt.xlabel(\"trip_reward_unit\")\n",
    "\n",
    "print(\"End: \" + datetime.now().strftime('%Y-%m-%d %H:%M:%S'))"
   ]
  },
  {
   "cell_type": "code",
   "execution_count": 163,
   "id": "9e54b365",
   "metadata": {},
   "outputs": [
    {
     "data": {
      "text/plain": [
       "array([[0.97520551, 0.94219942, 0.92312102, 0.94847486, 0.8479948 ,\n",
       "        0.98652338, 0.95514992, 0.82173886, 0.82173886, 0.93367014],\n",
       "       [0.96678082, 0.87917396, 1.05238056, 0.90932905, 0.92905819,\n",
       "        0.84661705, 0.95063993, 0.94228729, 0.86665811, 0.91510076],\n",
       "       [0.91807406, 0.94794396, 0.92841492, 0.94373051, 0.918969  ,\n",
       "        0.91660526, 1.00207279, 0.93650633, 0.93697976, 0.97535263],\n",
       "       [0.9156081 , 0.9508224 , 0.9539183 , 0.94896594, 0.98686098,\n",
       "        0.90397011, 0.92778716, 0.9234885 , 0.89381133, 0.90319303],\n",
       "       [0.90096926, 0.97672724, 0.9243548 , 0.91913902, 0.9309307 ,\n",
       "        0.92969818, 0.96465447, 0.97669547, 0.91605068, 0.92283144],\n",
       "       [0.92625368, 0.93661663, 0.90374545, 0.92602052, 0.90549165,\n",
       "        0.93828901, 0.95877985, 0.94003836, 0.95331291, 0.95401085],\n",
       "       [0.92427542, 0.94401422, 0.91526799, 0.93846919, 0.94774694,\n",
       "        0.94190047, 0.90667045, 0.93743714, 0.94411051, 0.90653396],\n",
       "       [0.92608893, 0.94139785, 0.91820704, 0.92728264, 0.93135803,\n",
       "        0.92957689, 0.91370391, 0.93144009, 0.9191034 , 0.93457361],\n",
       "       [0.92024023, 0.94196714, 0.91495937, 0.93477686, 0.92998665,\n",
       "        0.92426609, 0.9061418 , 0.9054743 , 0.94120536, 0.93908044],\n",
       "       [0.94984971, 0.92687396, 0.93548069, 0.914255  , 0.959541  ,\n",
       "        0.92791963, 0.898363  , 0.94505181, 0.94670512, 0.91175625],\n",
       "       [0.94257544, 0.92636373, 0.94533472, 0.97167331, 0.94300583,\n",
       "        0.91846228, 0.9026573 , 0.90358675, 0.95154051, 0.9586641 ]])"
      ]
     },
     "execution_count": 163,
     "metadata": {},
     "output_type": "execute_result"
    }
   ],
   "source": [
    "max_centroid_list_grid"
   ]
  },
  {
   "cell_type": "code",
   "execution_count": 164,
   "id": "5deb1d7c",
   "metadata": {},
   "outputs": [
    {
     "name": "stdout",
     "output_type": "stream",
     "text": [
      "End: 2025-07-12 20:39:48\n",
      "Plotting resulting graph...\n",
      "Plotting baseline 1...\n",
      "End: 2025-07-12 20:39:48\n"
     ]
    },
    {
     "data": {
      "image/png": "[encoded data removed]",
      "text/plain": [
       "<Figure size 432x288 with 1 Axes>"
      ]
     },
     "metadata": {
      "needs_background": "light"
     },
     "output_type": "display_data"
    }
   ],
   "source": [
    "# Plot the graphs of average rewards during testing phases of the policy\n",
    "# gradient method and the hand-crafted policies\n",
    "\n",
    "print(\"End: \" + datetime.now().strftime('%Y-%m-%d %H:%M:%S'))\n",
    "\n",
    "max_centroid_list_grid = [np.array(avg_centroid_max_2)[sel_index_2],\n",
    "                        np.array(avg_centroid_max_3)[sel_index_3],\n",
    "                        np.array(avg_centroid_max_4)[sel_index_4],\n",
    "                        np.array(avg_centroid_max_5)[sel_index_5],\n",
    "                        np.array(avg_centroid_max_6)[sel_index_6],\n",
    "                        np.array(avg_centroid_max_7)[sel_index_7],\n",
    "                        np.array(avg_centroid_max_8)[sel_index_8],\n",
    "                        np.array(avg_centroid_max_9)[sel_index_9],\n",
    "                        np.array(avg_centroid_max_10)[sel_index_10],\n",
    "                        np.array(avg_centroid_max_11)[sel_index_11],\n",
    "                        np.array(avg_centroid_max_12)[sel_index_12]]\n",
    "max_centroid_mean_grid = []\n",
    "max_centroid_std_grid = []\n",
    "for ii in range(len(trip_reward_unit_list)):\n",
    "    max_centroid_mean_grid.append(np.mean(max_centroid_list_grid[ii]))\n",
    "    max_centroid_std_grid.append(np.std(max_centroid_list_grid[ii]))\n",
    "\n",
    "print(\"Plotting resulting graph...\")\n",
    "# plt.figure(figsize = (12, 9))\n",
    "l1 = plt.errorbar(trip_reward_unit_list, max_centroid_mean_grid, yerr=max_centroid_std_grid, fmt='o-', capsize=5) # ecolor='gray', \n",
    "\n",
    "print(\"Plotting baseline 1...\")\n",
    "# plt.legend(loc='best',prop={'size': 10})\n",
    "plt.ylabel(\"Centroid shift\")\n",
    "plt.xlabel(\"trip_reward_unit\")\n",
    "\n",
    "print(\"End: \" + datetime.now().strftime('%Y-%m-%d %H:%M:%S'))"
   ]
  },
  {
   "cell_type": "code",
   "execution_count": 165,
   "id": "21e988a6",
   "metadata": {},
   "outputs": [
    {
     "name": "stdout",
     "output_type": "stream",
     "text": [
      "End: 2025-07-12 20:39:49\n",
      "Plotting resulting graph...\n",
      "Plotting baseline 1...\n",
      "End: 2025-07-12 20:39:49\n"
     ]
    },
    {
     "data": {
      "image/png": "[encoded data removed]",
      "text/plain": [
       "<Figure size 432x288 with 1 Axes>"
      ]
     },
     "metadata": {
      "needs_background": "light"
     },
     "output_type": "display_data"
    }
   ],
   "source": [
    "# Plot the graphs of average rewards during testing phases of the policy\n",
    "# gradient method and the hand-crafted policies\n",
    "\n",
    "print(\"End: \" + datetime.now().strftime('%Y-%m-%d %H:%M:%S'))\n",
    "\n",
    "max_dispersion_list_grid = np.array([avg_dispersion_max_2,\n",
    "                                avg_dispersion_max_3,\n",
    "                                avg_dispersion_max_4,\n",
    "                                avg_dispersion_max_5,\n",
    "                                avg_dispersion_max_6,\n",
    "                                avg_dispersion_max_7,\n",
    "                                avg_dispersion_max_8,\n",
    "                                avg_dispersion_max_9,\n",
    "                                avg_dispersion_max_10,\n",
    "                                avg_dispersion_max_11,\n",
    "                                avg_dispersion_max_12])\n",
    "max_dispersion_mean_grid = np.mean(max_dispersion_list_grid, axis=1)\n",
    "max_dispersion_std_grid = np.std(max_dispersion_list_grid, axis=1)\n",
    "\n",
    "print(\"Plotting resulting graph...\")\n",
    "# plt.figure(figsize = (12, 9))\n",
    "l1 = plt.errorbar(trip_reward_unit_list, max_dispersion_mean_grid, yerr=max_dispersion_std_grid, fmt='o-', capsize=5) # ecolor='gray', \n",
    "\n",
    "print(\"Plotting baseline 1...\")\n",
    "# plt.legend(loc='best',prop={'size': 10})\n",
    "plt.ylabel(\"Dispersion shift\")\n",
    "plt.xlabel(\"trip_reward_unit\")\n",
    "\n",
    "print(\"End: \" + datetime.now().strftime('%Y-%m-%d %H:%M:%S'))"
   ]
  },
  {
   "cell_type": "code",
   "execution_count": 166,
   "id": "54f7cb21",
   "metadata": {},
   "outputs": [
    {
     "data": {
      "text/plain": [
       "array([[-1.70709226, -1.7247907 , -1.64361446, -1.66841373, -1.93636811,\n",
       "        -1.84843395, -1.71567375, -1.83203258, -1.83203258, -1.74375591],\n",
       "       [-1.76742101, -1.76836043, -1.61123167, -1.76037491, -1.70673523,\n",
       "        -1.73901617, -1.66845607, -1.68021348, -1.6195531 , -1.71403061],\n",
       "       [-1.72679069, -1.69980577, -1.710375  , -1.72207848, -1.74767259,\n",
       "        -1.72506413, -1.75494436, -1.63205704, -1.72748236, -1.65543083],\n",
       "       [-1.7570328 , -1.71197582, -1.69201195, -1.72737585, -1.72777588,\n",
       "        -1.72571334, -1.70269301, -1.75905705, -1.78198984, -1.7122217 ],\n",
       "       [-1.70459791, -1.6711509 , -1.73917126, -1.65258875, -1.7715565 ,\n",
       "        -1.75768788, -1.68711133, -1.71653575, -1.7784806 , -1.78552763],\n",
       "       [-1.74308203, -1.75517684, -1.71962357, -1.70474525, -1.77583038,\n",
       "        -1.75277637, -1.71550807, -1.68534466, -1.67554951, -1.70769822],\n",
       "       [-1.72798476, -1.69965938, -1.6997013 , -1.75473841, -1.7406284 ,\n",
       "        -1.73645823, -1.70967413, -1.78434159, -1.70654473, -1.73375662],\n",
       "       [-1.77474151, -1.73018501, -1.7144226 , -1.66845982, -1.68923028,\n",
       "        -1.71135288, -1.70948702, -1.72881478, -1.732148  , -1.74798875],\n",
       "       [-1.67957572, -1.69687046, -1.74783414, -1.70727948, -1.76316038,\n",
       "        -1.73828414, -1.7317541 , -1.74346319, -1.72349365, -1.73284034],\n",
       "       [-1.68149574, -1.72126206, -1.69787204, -1.75308118, -1.67374102,\n",
       "        -1.70920481, -1.75619721, -1.65960793, -1.73341449, -1.58032533],\n",
       "       [-1.70404933, -1.73801782, -1.72225337, -1.75814505, -1.76223815,\n",
       "        -1.73270628, -1.74953639, -1.72650445, -1.71740817, -1.75504867]])"
      ]
     },
     "execution_count": 166,
     "metadata": {},
     "output_type": "execute_result"
    }
   ],
   "source": [
    "max_dispersion_list_grid"
   ]
  },
  {
   "cell_type": "code",
   "execution_count": 167,
   "id": "e7eadbf8",
   "metadata": {},
   "outputs": [
    {
     "name": "stdout",
     "output_type": "stream",
     "text": [
      "End: 2025-07-12 20:39:51\n",
      "Plotting resulting graph...\n",
      "Plotting baseline 1...\n",
      "End: 2025-07-12 20:39:52\n"
     ]
    },
    {
     "data": {
      "image/png": "[encoded data removed]",
      "text/plain": [
       "<Figure size 432x288 with 1 Axes>"
      ]
     },
     "metadata": {
      "needs_background": "light"
     },
     "output_type": "display_data"
    }
   ],
   "source": [
    "# Plot the graphs of average rewards during testing phases of the policy\n",
    "# gradient method and the hand-crafted policies\n",
    "\n",
    "print(\"End: \" + datetime.now().strftime('%Y-%m-%d %H:%M:%S'))\n",
    "\n",
    "max_dispersion_list_grid = [np.array(avg_dispersion_max_2)[sel_index_2],\n",
    "                        np.array(avg_dispersion_max_3)[sel_index_3],\n",
    "                        np.array(avg_dispersion_max_4)[sel_index_4],\n",
    "                        np.array(avg_dispersion_max_5)[sel_index_5],\n",
    "                        np.array(avg_dispersion_max_6)[sel_index_6],\n",
    "                        np.array(avg_dispersion_max_7)[sel_index_7],\n",
    "                        np.array(avg_dispersion_max_8)[sel_index_8],\n",
    "                        np.array(avg_dispersion_max_9)[sel_index_9],\n",
    "                        np.array(avg_dispersion_max_10)[sel_index_10],\n",
    "                        np.array(avg_dispersion_max_11)[sel_index_11],\n",
    "                        np.array(avg_dispersion_max_12)[sel_index_12]]\n",
    "max_dispersion_mean_grid = []\n",
    "max_dispersion_std_grid = []\n",
    "for ii in range(len(trip_reward_unit_list)):\n",
    "    max_dispersion_mean_grid.append(np.mean(max_dispersion_list_grid[ii]))\n",
    "    max_dispersion_std_grid.append(np.std(max_dispersion_list_grid[ii]))\n",
    "\n",
    "print(\"Plotting resulting graph...\")\n",
    "# plt.figure(figsize = (12, 9))\n",
    "l1 = plt.errorbar(trip_reward_unit_list, max_dispersion_mean_grid, yerr=max_dispersion_std_grid, fmt='o-', capsize=5) # ecolor='gray', \n",
    "\n",
    "print(\"Plotting baseline 1...\")\n",
    "# plt.legend(loc='best',prop={'size': 10})\n",
    "plt.ylabel(\"Dispersion shift\")\n",
    "plt.xlabel(\"trip_reward_unit\")\n",
    "\n",
    "print(\"End: \" + datetime.now().strftime('%Y-%m-%d %H:%M:%S'))"
   ]
  },
  {
   "cell_type": "code",
   "execution_count": 168,
   "id": "3462e67e",
   "metadata": {},
   "outputs": [
    {
     "name": "stdout",
     "output_type": "stream",
     "text": [
      "End: 2025-07-12 20:39:52\n",
      "Plotting resulting graph...\n",
      "Plotting baseline 1...\n",
      "End: 2025-07-12 20:39:52\n"
     ]
    },
    {
     "data": {
      "image/png": "[encoded data removed]",
      "text/plain": [
       "<Figure size 432x288 with 1 Axes>"
      ]
     },
     "metadata": {
      "needs_background": "light"
     },
     "output_type": "display_data"
    }
   ],
   "source": [
    "# Plot the graphs of average rewards during testing phases of the policy\n",
    "# gradient method and the hand-crafted policies\n",
    "\n",
    "print(\"End: \" + datetime.now().strftime('%Y-%m-%d %H:%M:%S'))\n",
    "\n",
    "max_kl_list_grid = np.array([avg_kl_max_2,\n",
    "                                avg_kl_max_3,\n",
    "                                avg_kl_max_4,\n",
    "                                avg_kl_max_5,\n",
    "                                avg_kl_max_6,\n",
    "                                avg_kl_max_7,\n",
    "                                avg_kl_max_8,\n",
    "                                avg_kl_max_9,\n",
    "                                avg_kl_max_10,\n",
    "                                avg_kl_max_11,\n",
    "                                avg_kl_max_12])\n",
    "max_kl_mean_grid = np.mean(max_kl_list_grid, axis=1)\n",
    "max_kl_std_grid = np.std(max_kl_list_grid, axis=1)\n",
    "\n",
    "print(\"Plotting resulting graph...\")\n",
    "# plt.figure(figsize = (12, 9))\n",
    "l1 = plt.errorbar(trip_reward_unit_list, max_kl_mean_grid, yerr=max_kl_std_grid, fmt='o-', capsize=5) # ecolor='gray', \n",
    "\n",
    "print(\"Plotting baseline 1...\")\n",
    "# plt.legend(loc='best',prop={'size': 10})\n",
    "plt.ylabel(\"KL divergence\")\n",
    "plt.xlabel(\"trip_reward_unit\")\n",
    "\n",
    "print(\"End: \" + datetime.now().strftime('%Y-%m-%d %H:%M:%S'))"
   ]
  },
  {
   "cell_type": "code",
   "execution_count": 169,
   "id": "de88d769",
   "metadata": {},
   "outputs": [
    {
     "data": {
      "text/plain": [
       "array([[0.74789787, 0.82966851, 0.8116067 , 0.7811041 , 0.70622318,\n",
       "        0.83749251, 0.83715983, 0.81737733, 0.81737733, 0.88029456],\n",
       "       [0.79662645, 0.80177654, 0.80584524, 0.82621519, 0.8654596 ,\n",
       "        0.80145987, 0.85917275, 0.83689064, 0.82791343, 0.85370491],\n",
       "       [0.83540551, 0.78767231, 0.85486698, 0.83443143, 0.86304434,\n",
       "        0.8157854 , 0.77875492, 0.85645312, 0.82501394, 0.82930939],\n",
       "       [0.82759613, 0.83780916, 0.83859721, 0.83684535, 0.83254057,\n",
       "        0.80613624, 0.84216668, 0.84211333, 0.8477157 , 0.83706989],\n",
       "       [0.85891803, 0.84603144, 0.85899471, 0.88457983, 0.82508996,\n",
       "        0.84022681, 0.8230539 , 0.7994273 , 0.84469973, 0.80895053],\n",
       "       [0.81921239, 0.8454535 , 0.85278126, 0.84806068, 0.81451224,\n",
       "        0.80711319, 0.81425316, 0.86511962, 0.84333721, 0.85323722],\n",
       "       [0.86168526, 0.82279887, 0.83396037, 0.83124409, 0.81618977,\n",
       "        0.8216173 , 0.85837183, 0.81203488, 0.86347942, 0.8361628 ],\n",
       "       [0.82441897, 0.81731412, 0.84262906, 0.85934634, 0.85097085,\n",
       "        0.84991472, 0.84896365, 0.83698953, 0.80644531, 0.82957496],\n",
       "       [0.85012534, 0.86498177, 0.8389047 , 0.83168709, 0.8603439 ,\n",
       "        0.82547071, 0.85112287, 0.83120503, 0.84164161, 0.83201441],\n",
       "       [0.84321331, 0.85140002, 0.81209759, 0.83129914, 0.85562263,\n",
       "        0.84658513, 0.83214319, 0.8379408 , 0.82283834, 0.86149412],\n",
       "       [0.84151703, 0.84344157, 0.84730533, 0.81668213, 0.84973836,\n",
       "        0.8213183 , 0.85669172, 0.80719238, 0.78658175, 0.79240305]])"
      ]
     },
     "execution_count": 169,
     "metadata": {},
     "output_type": "execute_result"
    }
   ],
   "source": [
    "max_kl_list_grid"
   ]
  },
  {
   "cell_type": "code",
   "execution_count": 170,
   "id": "5c7576f9",
   "metadata": {},
   "outputs": [
    {
     "name": "stdout",
     "output_type": "stream",
     "text": [
      "End: 2025-07-12 20:39:53\n",
      "Plotting resulting graph...\n",
      "Plotting baseline 1...\n",
      "End: 2025-07-12 20:39:53\n"
     ]
    },
    {
     "data": {
      "image/png": "[encoded data removed]",
      "text/plain": [
       "<Figure size 432x288 with 1 Axes>"
      ]
     },
     "metadata": {
      "needs_background": "light"
     },
     "output_type": "display_data"
    }
   ],
   "source": [
    "# Plot the graphs of average rewards during testing phases of the policy\n",
    "# gradient method and the hand-crafted policies\n",
    "\n",
    "print(\"End: \" + datetime.now().strftime('%Y-%m-%d %H:%M:%S'))\n",
    "\n",
    "max_kl_list_grid = [np.array(avg_kl_max_2)[sel_index_2],\n",
    "                        np.array(avg_kl_max_3)[sel_index_3],\n",
    "                        np.array(avg_kl_max_4)[sel_index_4],\n",
    "                        np.array(avg_kl_max_5)[sel_index_5],\n",
    "                        np.array(avg_kl_max_6)[sel_index_6],\n",
    "                        np.array(avg_kl_max_7)[sel_index_7],\n",
    "                        np.array(avg_kl_max_8)[sel_index_8],\n",
    "                        np.array(avg_kl_max_9)[sel_index_9],\n",
    "                        np.array(avg_kl_max_10)[sel_index_10],\n",
    "                        np.array(avg_kl_max_11)[sel_index_11],\n",
    "                        np.array(avg_kl_max_12)[sel_index_12]]\n",
    "max_kl_mean_grid = []\n",
    "max_kl_std_grid = []\n",
    "for ii in range(len(trip_reward_unit_list)):\n",
    "    max_kl_mean_grid.append(np.mean(max_kl_list_grid[ii]))\n",
    "    max_kl_std_grid.append(np.std(max_kl_list_grid[ii]))\n",
    "\n",
    "print(\"Plotting resulting graph...\")\n",
    "# plt.figure(figsize = (12, 9))\n",
    "l1 = plt.errorbar(trip_reward_unit_list, max_kl_mean_grid, yerr=max_kl_std_grid, fmt='o-', capsize=5) # ecolor='gray', \n",
    "\n",
    "print(\"Plotting baseline 1...\")\n",
    "# plt.legend(loc='best',prop={'size': 10})\n",
    "plt.ylabel(\"KL divergence\")\n",
    "plt.xlabel(\"trip_reward_unit\")\n",
    "\n",
    "print(\"End: \" + datetime.now().strftime('%Y-%m-%d %H:%M:%S'))"
   ]
  },
  {
   "cell_type": "code",
   "execution_count": null,
   "id": "c153d57c",
   "metadata": {},
   "outputs": [],
   "source": []
  }
 ],
 "metadata": {
  "kernelspec": {
   "display_name": "Python 3 (ipykernel)",
   "language": "python",
   "name": "python3"
  },
  "language_info": {
   "codemirror_mode": {
    "name": "ipython",
    "version": 3
   },
   "file_extension": ".py",
   "mimetype": "text/x-python",
   "name": "python",
   "nbconvert_exporter": "python",
   "pygments_lexer": "ipython3",
   "version": "3.9.12"
  }
 },
 "nbformat": 4,
 "nbformat_minor": 5
}

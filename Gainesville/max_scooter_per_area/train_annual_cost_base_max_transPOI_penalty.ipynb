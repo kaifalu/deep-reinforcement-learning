{
 "cells": [
  {
   "cell_type": "markdown",
   "id": "203270d1",
   "metadata": {},
   "source": [
    "### Import"
   ]
  },
  {
   "cell_type": "code",
   "execution_count": 1,
   "id": "3f4333d3",
   "metadata": {},
   "outputs": [
    {
     "name": "stdout",
     "output_type": "stream",
     "text": [
      "Start: 2025-07-13 00:29:40\n"
     ]
    }
   ],
   "source": [
    "import sys\n",
    "import os\n",
    "import matplotlib.pyplot as plt\n",
    "from datetime import datetime, timedelta\n",
    "import pandas as pd\n",
    "import geopandas as gpd\n",
    "import numpy as np\n",
    "import matplotlib.pyplot as plt\n",
    "from shapely.geometry import Point, shape\n",
    "import seaborn as sns\n",
    "import random\n",
    "from mpl_toolkits.axes_grid1 import make_axes_locatable\n",
    "# import datetime\n",
    "\n",
    "sys.path.insert(0, '../..')\n",
    "\n",
    "print(\"Start: \" + datetime.now().strftime('%Y-%m-%d %H:%M:%S'))\n",
    "\n",
    "from network_v12_13_max import *\n",
    "from helper_v12_13_max import *"
   ]
  },
  {
   "cell_type": "markdown",
   "id": "a0dd7f1e",
   "metadata": {},
   "source": [
    "### Initialization"
   ]
  },
  {
   "cell_type": "markdown",
   "id": "ac6bac25",
   "metadata": {},
   "source": [
    "#### define agent and gnv boundary"
   ]
  },
  {
   "cell_type": "code",
   "execution_count": 2,
   "id": "f7d075cd",
   "metadata": {},
   "outputs": [
    {
     "data": {
      "text/html": [
       "<div>\n",
       "<style scoped>\n",
       "    .dataframe tbody tr th:only-of-type {\n",
       "        vertical-align: middle;\n",
       "    }\n",
       "\n",
       "    .dataframe tbody tr th {\n",
       "        vertical-align: top;\n",
       "    }\n",
       "\n",
       "    .dataframe thead th {\n",
       "        text-align: right;\n",
       "    }\n",
       "</style>\n",
       "<table border=\"1\" class=\"dataframe\">\n",
       "  <thead>\n",
       "    <tr style=\"text-align: right;\">\n",
       "      <th></th>\n",
       "      <th>level_0</th>\n",
       "      <th>index</th>\n",
       "      <th>latitude</th>\n",
       "      <th>longitude</th>\n",
       "      <th>departure_rate</th>\n",
       "      <th>arrival_rate</th>\n",
       "      <th>dist_transPOI</th>\n",
       "      <th>num_transPOI</th>\n",
       "      <th>dist_bus_stop</th>\n",
       "      <th>num_bus_stop</th>\n",
       "      <th>rider_test_list</th>\n",
       "      <th>geometry</th>\n",
       "    </tr>\n",
       "  </thead>\n",
       "  <tbody>\n",
       "    <tr>\n",
       "      <th>0</th>\n",
       "      <td>0</td>\n",
       "      <td>29</td>\n",
       "      <td>29.658570</td>\n",
       "      <td>-82.415016</td>\n",
       "      <td>0.022484</td>\n",
       "      <td>0.038544</td>\n",
       "      <td>0.081538</td>\n",
       "      <td>1.0</td>\n",
       "      <td>0.030854</td>\n",
       "      <td>1.0</td>\n",
       "      <td>0</td>\n",
       "      <td>POINT (-82.41501609853275 29.65857013179353)</td>\n",
       "    </tr>\n",
       "    <tr>\n",
       "      <th>1</th>\n",
       "      <td>1</td>\n",
       "      <td>30</td>\n",
       "      <td>29.660371</td>\n",
       "      <td>-82.414990</td>\n",
       "      <td>0.002141</td>\n",
       "      <td>0.005353</td>\n",
       "      <td>1.000000</td>\n",
       "      <td>0.0</td>\n",
       "      <td>1.000000</td>\n",
       "      <td>0.0</td>\n",
       "      <td>0</td>\n",
       "      <td>POINT (-82.4149895039865 29.660371378494247)</td>\n",
       "    </tr>\n",
       "    <tr>\n",
       "      <th>2</th>\n",
       "      <td>2</td>\n",
       "      <td>47</td>\n",
       "      <td>29.654944</td>\n",
       "      <td>-82.413000</td>\n",
       "      <td>0.001071</td>\n",
       "      <td>0.002141</td>\n",
       "      <td>1.000000</td>\n",
       "      <td>0.0</td>\n",
       "      <td>1.000000</td>\n",
       "      <td>0.0</td>\n",
       "      <td>0</td>\n",
       "      <td>POINT (-82.41300040184892 29.654944475167262)</td>\n",
       "    </tr>\n",
       "    <tr>\n",
       "      <th>3</th>\n",
       "      <td>3</td>\n",
       "      <td>48</td>\n",
       "      <td>29.656746</td>\n",
       "      <td>-82.412974</td>\n",
       "      <td>0.004283</td>\n",
       "      <td>0.008565</td>\n",
       "      <td>1.000000</td>\n",
       "      <td>0.0</td>\n",
       "      <td>1.000000</td>\n",
       "      <td>0.0</td>\n",
       "      <td>0</td>\n",
       "      <td>POINT (-82.41297377438231 29.65674571873145)</td>\n",
       "    </tr>\n",
       "    <tr>\n",
       "      <th>4</th>\n",
       "      <td>4</td>\n",
       "      <td>49</td>\n",
       "      <td>29.658547</td>\n",
       "      <td>-82.412947</td>\n",
       "      <td>0.078158</td>\n",
       "      <td>0.100642</td>\n",
       "      <td>1.000000</td>\n",
       "      <td>0.0</td>\n",
       "      <td>1.000000</td>\n",
       "      <td>0.0</td>\n",
       "      <td>1</td>\n",
       "      <td>POINT (-82.41294714602218 29.6585469636598)</td>\n",
       "    </tr>\n",
       "  </tbody>\n",
       "</table>\n",
       "</div>"
      ],
      "text/plain": [
       "   level_0  index   latitude  longitude  departure_rate  arrival_rate  \\\n",
       "0        0     29  29.658570 -82.415016        0.022484      0.038544   \n",
       "1        1     30  29.660371 -82.414990        0.002141      0.005353   \n",
       "2        2     47  29.654944 -82.413000        0.001071      0.002141   \n",
       "3        3     48  29.656746 -82.412974        0.004283      0.008565   \n",
       "4        4     49  29.658547 -82.412947        0.078158      0.100642   \n",
       "\n",
       "   dist_transPOI  num_transPOI  dist_bus_stop  num_bus_stop  rider_test_list  \\\n",
       "0       0.081538           1.0       0.030854           1.0                0   \n",
       "1       1.000000           0.0       1.000000           0.0                0   \n",
       "2       1.000000           0.0       1.000000           0.0                0   \n",
       "3       1.000000           0.0       1.000000           0.0                0   \n",
       "4       1.000000           0.0       1.000000           0.0                1   \n",
       "\n",
       "                                        geometry  \n",
       "0   POINT (-82.41501609853275 29.65857013179353)  \n",
       "1   POINT (-82.4149895039865 29.660371378494247)  \n",
       "2  POINT (-82.41300040184892 29.654944475167262)  \n",
       "3   POINT (-82.41297377438231 29.65674571873145)  \n",
       "4    POINT (-82.41294714602218 29.6585469636598)  "
      ]
     },
     "execution_count": 2,
     "metadata": {},
     "output_type": "execute_result"
    }
   ],
   "source": [
    "fl_city_boundary = gpd.read_file('Map/fl_city_boundary.shp')\n",
    "Gainesville_boundary = fl_city_boundary.loc[fl_city_boundary['NAME'] == 'GAINESVILLE'].reset_index(drop=True)\n",
    "Gainesville_boundary['geometry'] = Gainesville_boundary['geometry'].to_crs('epsg:4326')\n",
    "\n",
    "grid_centroid_gdf = pd.read_csv('grid_centroid_gdf.csv')\n",
    "grid_centroid_gdf = grid_centroid_gdf.drop(columns = {'geometry'}, axis = 1)\n",
    "grid_centroid_gdf['geometry'] = grid_centroid_gdf[['longitude', 'latitude']].values.tolist()\n",
    "grid_centroid_gdf['geometry'] = grid_centroid_gdf['geometry'].apply(Point)\n",
    "\n",
    "grid_centroid_gdf = grid_centroid_gdf.loc[grid_centroid_gdf['departure_rate'] > 0].reset_index()\n",
    "\n",
    "grid_centroid_gdf.head()"
   ]
  },
  {
   "cell_type": "markdown",
   "id": "eb76019d",
   "metadata": {},
   "source": [
    "#### scooter-sharing system configure"
   ]
  },
  {
   "cell_type": "code",
   "execution_count": 3,
   "id": "380e0ff5",
   "metadata": {},
   "outputs": [],
   "source": [
    "service_areas = [] # replace stations\n",
    "for i in range (len(grid_centroid_gdf)):\n",
    "    service_areas.append((i, grid_centroid_gdf.geometry.iloc[i], grid_centroid_gdf.departure_rate.iloc[i], grid_centroid_gdf.arrival_rate.iloc[i], grid_centroid_gdf.dist_transPOI.iloc[i], grid_centroid_gdf.num_transPOI.iloc[i]))\n",
    "\n",
    "# Parameter setups for the reward system and elements of the environment.\n",
    "docked_cost_per_deploy = 50/365 # each dock cost 500\n",
    "scooter_cost_per_deploy = 25/365 # each scooter 250\n",
    "no_scooter_penalty = 0.5 # 0.5\n",
    "reward_per_rider = 0.2 # 0.2\n",
    "max_scooter_per_area = 8\n",
    "nS = len(service_areas)\n",
    "equity_penalty = 100.0\n",
    "logistics_car_cost_per_mile = 1.0\n",
    "\n",
    "reward_num_transPOI = 0.01\n",
    "# penalty_dist_transPOI = 0.1\n",
    "\n",
    "# dist_transPOI_penalty = 0.5\n",
    "# low_usage_penalty = 1\n",
    "# dist_bus_stop_penalty = 0.2\n",
    "# reward_bus_scooter_coverage = 0.2"
   ]
  },
  {
   "cell_type": "markdown",
   "id": "09b4e97b",
   "metadata": {},
   "source": [
    "#### RL model configure"
   ]
  },
  {
   "cell_type": "code",
   "execution_count": 4,
   "id": "09e74ce5",
   "metadata": {},
   "outputs": [],
   "source": [
    "# Parameter setups for the network and training process.\n",
    "learning_rate = 0.01\n",
    "n_iters = 25\n",
    "n_epochs = 500 # 2000\n",
    "display_step = 50 # 50\n",
    "batch_size = 256\n",
    "gamma = 0.9\n",
    "\n",
    "# The size of the state vector.\n",
    "nS = len(service_areas) # the number of service areas"
   ]
  },
  {
   "cell_type": "markdown",
   "id": "2ce3bd64",
   "metadata": {},
   "source": [
    "## penalty_dist_transPOI = 0.0"
   ]
  },
  {
   "cell_type": "code",
   "execution_count": 5,
   "id": "59b3076c",
   "metadata": {},
   "outputs": [
    {
     "name": "stdout",
     "output_type": "stream",
     "text": [
      "Starting policy gradient...\n",
      "Training in progress...\n",
      "Epoch 50, Average reward, unmet demand, met demand, scooter num, scooter loc, gini index unmet, gini index met, wANNR, moran, gini, theil, EMD, centroid change, dispersion change, kl divergence = -0.586, 34.200, 156.800, 174.200, 103.800, 0.988, 0.954, 0.472, 0.037, 0.948, 0.210, 1.988, 0.930, -1.722, 0.854\n",
      "Epoch 100, Average reward, unmet demand, met demand, scooter num, scooter loc, gini index unmet, gini index met, wANNR, moran, gini, theil, EMD, centroid change, dispersion change, kl divergence = -11.805, 52.200, 138.800, 168.600, 107.000, 0.981, 0.959, 0.464, 0.038, 0.945, 0.185, 1.935, 0.875, -1.649, 0.901\n",
      "Epoch 150, Average reward, unmet demand, met demand, scooter num, scooter loc, gini index unmet, gini index met, wANNR, moran, gini, theil, EMD, centroid change, dispersion change, kl divergence = 0.892, 31.000, 160.000, 178.400, 105.200, 0.989, 0.954, 0.477, 0.038, 0.948, 0.212, 1.981, 0.933, -1.707, 0.850\n",
      "Epoch 200, Average reward, unmet demand, met demand, scooter num, scooter loc, gini index unmet, gini index met, wANNR, moran, gini, theil, EMD, centroid change, dispersion change, kl divergence = 1.903, 30.400, 160.600, 174.400, 102.000, 0.988, 0.956, 0.472, 0.037, 0.950, 0.216, 2.027, 0.936, -1.776, 0.848\n",
      "Epoch 250, Average reward, unmet demand, met demand, scooter num, scooter loc, gini index unmet, gini index met, wANNR, moran, gini, theil, EMD, centroid change, dispersion change, kl divergence = 3.329, 25.400, 165.600, 186.600, 108.000, 0.990, 0.955, 0.488, 0.040, 0.947, 0.221, 2.016, 0.924, -1.745, 0.832\n",
      "Epoch 300, Average reward, unmet demand, met demand, scooter num, scooter loc, gini index unmet, gini index met, wANNR, moran, gini, theil, EMD, centroid change, dispersion change, kl divergence = 2.088, 29.400, 161.600, 177.400, 103.400, 0.988, 0.955, 0.476, 0.038, 0.949, 0.218, 2.016, 0.912, -1.757, 0.840\n",
      "Epoch 350, Average reward, unmet demand, met demand, scooter num, scooter loc, gini index unmet, gini index met, wANNR, moran, gini, theil, EMD, centroid change, dispersion change, kl divergence = 2.128, 28.800, 162.200, 179.600, 104.400, 0.989, 0.955, 0.479, 0.039, 0.949, 0.224, 2.021, 0.906, -1.749, 0.822\n",
      "Epoch 400, Average reward, unmet demand, met demand, scooter num, scooter loc, gini index unmet, gini index met, wANNR, moran, gini, theil, EMD, centroid change, dispersion change, kl divergence = 2.035, 29.800, 161.200, 175.800, 102.000, 0.989, 0.955, 0.474, 0.038, 0.950, 0.211, 2.024, 0.917, -1.757, 0.816\n",
      "Epoch 450, Average reward, unmet demand, met demand, scooter num, scooter loc, gini index unmet, gini index met, wANNR, moran, gini, theil, EMD, centroid change, dispersion change, kl divergence = 3.924, 25.400, 165.600, 183.000, 106.000, 0.989, 0.955, 0.484, 0.037, 0.948, 0.225, 2.002, 0.948, -1.721, 0.845\n",
      "Epoch 500, Average reward, unmet demand, met demand, scooter num, scooter loc, gini index unmet, gini index met, wANNR, moran, gini, theil, EMD, centroid change, dispersion change, kl divergence = -12.563, 50.800, 140.200, 177.200, 107.400, 0.979, 0.959, 0.476, 0.037, 0.947, 0.222, 1.965, 0.940, -1.702, 0.780\n"
     ]
    }
   ],
   "source": [
    "## tf.reset_default_graph() only works under tf 1.0\n",
    "penalty_dist_transPOI = 0.0\n",
    "\n",
    "# Set up the state-value estimator and policy estimator\n",
    "estimator_policy = PolicyEstimator(learning_rate, nS)\n",
    "estimator_value = StateValueEstimator(learning_rate, nS)\n",
    "\n",
    "rider_test_list = np.array(grid_centroid_gdf['rider_test_list'])\n",
    "\n",
    "# Initialize study area\n",
    "study_area = create_study_area(service_areas, max_scooter_per_area, scooter_cost_per_deploy, docked_cost_per_deploy, \\\n",
    "                   nS, no_scooter_penalty, reward_per_rider, equity_penalty, rider_test_list, logistics_car_cost_per_mile, \\\n",
    "                              penalty_dist_transPOI, reward_num_transPOI)\n",
    "\n",
    "# Add ops to save and restore all the variables\n",
    "\n",
    "print(\"Starting policy gradient...\")\n",
    "\n",
    "# Start training\n",
    "print(\"Training in progress...\")\n",
    "avg_reward_max_2, avg_unmet_demand_max_2, avg_met_demand_max_2, avg_scooter_num_max_2, avg_scooter_loc_max_2, avg_wANNR_max_2, avg_moran_max_2, avg_gini_max_2, avg_theil_max_2, avg_EMD_max_2, avg_centroid_max_2, avg_dispersion_max_2, avg_kl_max_2, scooter_list_max_2 = reinforce(study_area, nS, estimator_policy, estimator_value, n_epochs, n_iters, batch_size, display_step)"
   ]
  },
  {
   "cell_type": "markdown",
   "id": "d19ab151",
   "metadata": {},
   "source": [
    "## penalty_dist_transPOI = 0.1"
   ]
  },
  {
   "cell_type": "code",
   "execution_count": 6,
   "id": "ff1854b9",
   "metadata": {},
   "outputs": [
    {
     "name": "stdout",
     "output_type": "stream",
     "text": [
      "Starting policy gradient...\n",
      "Training in progress...\n",
      "Epoch 50, Average reward, unmet demand, met demand, scooter num, scooter loc, gini index unmet, gini index met, wANNR, moran, gini, theil, EMD, centroid change, dispersion change, kl divergence = -158.786, 98.000, 93.000, 176.000, 112.000, 0.964, 0.974, 0.474, 0.041, 0.943, 0.193, 2.012, 1.070, -1.769, 0.771\n",
      "Epoch 100, Average reward, unmet demand, met demand, scooter num, scooter loc, gini index unmet, gini index met, wANNR, moran, gini, theil, EMD, centroid change, dispersion change, kl divergence = -158.786, 98.000, 93.000, 176.000, 112.000, 0.964, 0.974, 0.474, 0.041, 0.943, 0.193, 2.012, 1.070, -1.769, 0.771\n",
      "Epoch 150, Average reward, unmet demand, met demand, scooter num, scooter loc, gini index unmet, gini index met, wANNR, moran, gini, theil, EMD, centroid change, dispersion change, kl divergence = -158.786, 98.000, 93.000, 176.000, 112.000, 0.964, 0.974, 0.474, 0.041, 0.943, 0.193, 2.012, 1.070, -1.769, 0.771\n",
      "Epoch 200, Average reward, unmet demand, met demand, scooter num, scooter loc, gini index unmet, gini index met, wANNR, moran, gini, theil, EMD, centroid change, dispersion change, kl divergence = -158.786, 98.000, 93.000, 176.000, 112.000, 0.964, 0.974, 0.474, 0.041, 0.943, 0.193, 2.012, 1.070, -1.769, 0.771\n",
      "Epoch 250, Average reward, unmet demand, met demand, scooter num, scooter loc, gini index unmet, gini index met, wANNR, moran, gini, theil, EMD, centroid change, dispersion change, kl divergence = -158.786, 98.000, 93.000, 176.000, 112.000, 0.964, 0.974, 0.474, 0.041, 0.943, 0.193, 2.012, 1.070, -1.769, 0.771\n",
      "Epoch 300, Average reward, unmet demand, met demand, scooter num, scooter loc, gini index unmet, gini index met, wANNR, moran, gini, theil, EMD, centroid change, dispersion change, kl divergence = -158.786, 98.000, 93.000, 176.000, 112.000, 0.964, 0.974, 0.474, 0.041, 0.943, 0.193, 2.012, 1.070, -1.769, 0.771\n",
      "Epoch 350, Average reward, unmet demand, met demand, scooter num, scooter loc, gini index unmet, gini index met, wANNR, moran, gini, theil, EMD, centroid change, dispersion change, kl divergence = -158.786, 98.000, 93.000, 176.000, 112.000, 0.964, 0.974, 0.474, 0.041, 0.943, 0.193, 2.012, 1.070, -1.769, 0.771\n",
      "Epoch 400, Average reward, unmet demand, met demand, scooter num, scooter loc, gini index unmet, gini index met, wANNR, moran, gini, theil, EMD, centroid change, dispersion change, kl divergence = -161.053, 103.000, 88.000, 170.000, 112.000, 0.961, 0.974, 0.466, 0.039, 0.942, 0.191, 1.951, 0.815, -1.698, 0.922\n",
      "Epoch 450, Average reward, unmet demand, met demand, scooter num, scooter loc, gini index unmet, gini index met, wANNR, moran, gini, theil, EMD, centroid change, dispersion change, kl divergence = -161.053, 103.000, 88.000, 170.000, 112.000, 0.961, 0.974, 0.466, 0.039, 0.942, 0.191, 1.951, 0.815, -1.698, 0.922\n",
      "Epoch 500, Average reward, unmet demand, met demand, scooter num, scooter loc, gini index unmet, gini index met, wANNR, moran, gini, theil, EMD, centroid change, dispersion change, kl divergence = -161.053, 103.000, 88.000, 170.000, 112.000, 0.961, 0.974, 0.466, 0.039, 0.942, 0.191, 1.951, 0.815, -1.698, 0.922\n"
     ]
    }
   ],
   "source": [
    "## tf.reset_default_graph() only works under tf 1.0\n",
    "penalty_dist_transPOI = 0.1\n",
    "\n",
    "# Set up the state-value estimator and policy estimator\n",
    "estimator_policy = PolicyEstimator(learning_rate, nS)\n",
    "estimator_value = StateValueEstimator(learning_rate, nS)\n",
    "\n",
    "rider_test_list = np.array(grid_centroid_gdf['rider_test_list'])\n",
    "\n",
    "# Initialize study area\n",
    "study_area = create_study_area(service_areas, max_scooter_per_area, scooter_cost_per_deploy, docked_cost_per_deploy, \\\n",
    "                   nS, no_scooter_penalty, reward_per_rider, equity_penalty, rider_test_list, logistics_car_cost_per_mile, \\\n",
    "                              penalty_dist_transPOI, reward_num_transPOI)\n",
    "\n",
    "# Add ops to save and restore all the variables\n",
    "\n",
    "print(\"Starting policy gradient...\")\n",
    "\n",
    "# Start training\n",
    "print(\"Training in progress...\")\n",
    "avg_reward_max_3, avg_unmet_demand_max_3, avg_met_demand_max_3, avg_scooter_num_max_3, avg_scooter_loc_max_3, avg_wANNR_max_3, avg_moran_max_3, avg_gini_max_3, avg_theil_max_3, avg_EMD_max_3, avg_centroid_max_3, avg_dispersion_max_3, avg_kl_max_3, scooter_list_max_3 = reinforce(study_area, nS, estimator_policy, estimator_value, n_epochs, n_iters, batch_size, display_step)"
   ]
  },
  {
   "cell_type": "markdown",
   "id": "327c6bf5",
   "metadata": {},
   "source": [
    "## penalty_dist_transPOI = 0.2"
   ]
  },
  {
   "cell_type": "code",
   "execution_count": 7,
   "id": "64b7497f",
   "metadata": {},
   "outputs": [
    {
     "name": "stdout",
     "output_type": "stream",
     "text": [
      "Starting policy gradient...\n",
      "Training in progress...\n",
      "Epoch 50, Average reward, unmet demand, met demand, scooter num, scooter loc, gini index unmet, gini index met, wANNR, moran, gini, theil, EMD, centroid change, dispersion change, kl divergence = -225.654, 28.600, 162.400, 182.600, 107.400, 0.989, 0.955, 0.484, 0.036, 0.947, 0.224, 1.954, 0.942, -1.664, 0.843\n",
      "Epoch 100, Average reward, unmet demand, met demand, scooter num, scooter loc, gini index unmet, gini index met, wANNR, moran, gini, theil, EMD, centroid change, dispersion change, kl divergence = -224.004, 25.600, 165.400, 185.000, 108.000, 0.989, 0.955, 0.487, 0.038, 0.947, 0.227, 2.004, 0.927, -1.724, 0.848\n",
      "Epoch 150, Average reward, unmet demand, met demand, scooter num, scooter loc, gini index unmet, gini index met, wANNR, moran, gini, theil, EMD, centroid change, dispersion change, kl divergence = -225.822, 29.600, 161.400, 179.800, 106.800, 0.989, 0.954, 0.480, 0.042, 0.947, 0.204, 2.029, 0.924, -1.765, 0.823\n",
      "Epoch 200, Average reward, unmet demand, met demand, scooter num, scooter loc, gini index unmet, gini index met, wANNR, moran, gini, theil, EMD, centroid change, dispersion change, kl divergence = -225.979, 29.800, 161.200, 179.600, 106.000, 0.988, 0.954, 0.479, 0.042, 0.947, 0.202, 2.025, 0.925, -1.756, 0.809\n",
      "Epoch 250, Average reward, unmet demand, met demand, scooter num, scooter loc, gini index unmet, gini index met, wANNR, moran, gini, theil, EMD, centroid change, dispersion change, kl divergence = -236.959, 46.000, 145.000, 178.200, 107.000, 0.982, 0.959, 0.477, 0.043, 0.947, 0.205, 2.036, 0.926, -1.763, 0.845\n",
      "Epoch 300, Average reward, unmet demand, met demand, scooter num, scooter loc, gini index unmet, gini index met, wANNR, moran, gini, theil, EMD, centroid change, dispersion change, kl divergence = -224.994, 28.200, 162.800, 180.400, 106.400, 0.989, 0.955, 0.480, 0.037, 0.947, 0.212, 1.963, 0.957, -1.670, 0.861\n",
      "Epoch 350, Average reward, unmet demand, met demand, scooter num, scooter loc, gini index unmet, gini index met, wANNR, moran, gini, theil, EMD, centroid change, dispersion change, kl divergence = -238.403, 49.000, 142.000, 176.200, 110.400, 0.983, 0.958, 0.475, 0.036, 0.944, 0.203, 1.942, 0.929, -1.682, 0.839\n",
      "Epoch 400, Average reward, unmet demand, met demand, scooter num, scooter loc, gini index unmet, gini index met, wANNR, moran, gini, theil, EMD, centroid change, dispersion change, kl divergence = -225.838, 27.800, 163.200, 185.800, 106.200, 0.989, 0.955, 0.487, 0.039, 0.948, 0.213, 2.002, 0.936, -1.726, 0.840\n",
      "Epoch 450, Average reward, unmet demand, met demand, scooter num, scooter loc, gini index unmet, gini index met, wANNR, moran, gini, theil, EMD, centroid change, dispersion change, kl divergence = -224.706, 27.800, 163.200, 179.800, 104.800, 0.989, 0.956, 0.479, 0.039, 0.949, 0.225, 2.013, 0.909, -1.727, 0.836\n",
      "Epoch 500, Average reward, unmet demand, met demand, scooter num, scooter loc, gini index unmet, gini index met, wANNR, moran, gini, theil, EMD, centroid change, dispersion change, kl divergence = -225.963, 30.400, 160.600, 177.200, 105.200, 0.989, 0.954, 0.476, 0.041, 0.948, 0.199, 1.999, 0.906, -1.738, 0.876\n"
     ]
    }
   ],
   "source": [
    "## tf.reset_default_graph() only works under tf 1.0\n",
    "penalty_dist_transPOI = 0.2\n",
    "\n",
    "# Set up the state-value estimator and policy estimator\n",
    "estimator_policy = PolicyEstimator(learning_rate, nS)\n",
    "estimator_value = StateValueEstimator(learning_rate, nS)\n",
    "\n",
    "rider_test_list = np.array(grid_centroid_gdf['rider_test_list'])\n",
    "\n",
    "# Initialize study area\n",
    "study_area = create_study_area(service_areas, max_scooter_per_area, scooter_cost_per_deploy, docked_cost_per_deploy, \\\n",
    "                   nS, no_scooter_penalty, reward_per_rider, equity_penalty, rider_test_list, logistics_car_cost_per_mile, \\\n",
    "                              penalty_dist_transPOI, reward_num_transPOI)\n",
    "\n",
    "# Add ops to save and restore all the variables\n",
    "\n",
    "print(\"Starting policy gradient...\")\n",
    "\n",
    "# Start training\n",
    "print(\"Training in progress...\")\n",
    "avg_reward_max_4, avg_unmet_demand_max_4, avg_met_demand_max_4, avg_scooter_num_max_4, avg_scooter_loc_max_4, avg_wANNR_max_4, avg_moran_max_4, avg_gini_max_4, avg_theil_max_4, avg_EMD_max_4, avg_centroid_max_4, avg_dispersion_max_4, avg_kl_max_4, scooter_list_max_4 = reinforce(study_area, nS, estimator_policy, estimator_value, n_epochs, n_iters, batch_size, display_step)"
   ]
  },
  {
   "cell_type": "markdown",
   "id": "c37f7c91",
   "metadata": {},
   "source": [
    "## penalty_dist_transPOI = 0.3"
   ]
  },
  {
   "cell_type": "code",
   "execution_count": 8,
   "id": "88fdef7a",
   "metadata": {
    "scrolled": false
   },
   "outputs": [
    {
     "name": "stdout",
     "output_type": "stream",
     "text": [
      "Starting policy gradient...\n",
      "Training in progress...\n",
      "Epoch 50, Average reward, unmet demand, met demand, scooter num, scooter loc, gini index unmet, gini index met, wANNR, moran, gini, theil, EMD, centroid change, dispersion change, kl divergence = -337.836, 26.000, 165.000, 183.000, 105.200, 0.989, 0.955, 0.484, 0.040, 0.949, 0.226, 2.007, 0.910, -1.712, 0.824\n",
      "Epoch 100, Average reward, unmet demand, met demand, scooter num, scooter loc, gini index unmet, gini index met, wANNR, moran, gini, theil, EMD, centroid change, dispersion change, kl divergence = -341.693, 32.800, 158.200, 179.800, 108.600, 0.987, 0.955, 0.479, 0.040, 0.946, 0.211, 2.017, 0.964, -1.759, 0.808\n",
      "Epoch 150, Average reward, unmet demand, met demand, scooter num, scooter loc, gini index unmet, gini index met, wANNR, moran, gini, theil, EMD, centroid change, dispersion change, kl divergence = -338.237, 26.800, 164.200, 183.000, 107.400, 0.990, 0.955, 0.484, 0.041, 0.947, 0.210, 2.021, 0.930, -1.755, 0.820\n",
      "Epoch 200, Average reward, unmet demand, met demand, scooter num, scooter loc, gini index unmet, gini index met, wANNR, moran, gini, theil, EMD, centroid change, dispersion change, kl divergence = -337.448, 25.200, 165.800, 184.400, 106.800, 0.990, 0.954, 0.485, 0.039, 0.948, 0.216, 2.011, 0.919, -1.738, 0.812\n",
      "Epoch 250, Average reward, unmet demand, met demand, scooter num, scooter loc, gini index unmet, gini index met, wANNR, moran, gini, theil, EMD, centroid change, dispersion change, kl divergence = -339.039, 28.600, 162.400, 180.000, 105.200, 0.989, 0.954, 0.480, 0.038, 0.948, 0.214, 2.007, 0.946, -1.731, 0.832\n",
      "Epoch 300, Average reward, unmet demand, met demand, scooter num, scooter loc, gini index unmet, gini index met, wANNR, moran, gini, theil, EMD, centroid change, dispersion change, kl divergence = -338.230, 26.400, 164.600, 184.400, 107.600, 0.989, 0.955, 0.485, 0.039, 0.947, 0.222, 2.020, 0.923, -1.745, 0.808\n",
      "Epoch 350, Average reward, unmet demand, met demand, scooter num, scooter loc, gini index unmet, gini index met, wANNR, moran, gini, theil, EMD, centroid change, dispersion change, kl divergence = -339.663, 29.600, 161.400, 179.000, 103.400, 0.989, 0.955, 0.479, 0.038, 0.950, 0.223, 2.021, 0.935, -1.743, 0.835\n",
      "Epoch 400, Average reward, unmet demand, met demand, scooter num, scooter loc, gini index unmet, gini index met, wANNR, moran, gini, theil, EMD, centroid change, dispersion change, kl divergence = -339.290, 28.600, 162.400, 180.800, 104.000, 0.989, 0.955, 0.481, 0.042, 0.949, 0.218, 2.056, 0.914, -1.787, 0.801\n",
      "Epoch 450, Average reward, unmet demand, met demand, scooter num, scooter loc, gini index unmet, gini index met, wANNR, moran, gini, theil, EMD, centroid change, dispersion change, kl divergence = -338.565, 28.600, 162.400, 177.200, 103.800, 0.989, 0.956, 0.476, 0.037, 0.949, 0.232, 2.002, 0.896, -1.714, 0.849\n",
      "Epoch 500, Average reward, unmet demand, met demand, scooter num, scooter loc, gini index unmet, gini index met, wANNR, moran, gini, theil, EMD, centroid change, dispersion change, kl divergence = -338.674, 27.400, 163.600, 182.800, 106.600, 0.988, 0.955, 0.483, 0.038, 0.948, 0.223, 2.013, 0.941, -1.742, 0.852\n"
     ]
    }
   ],
   "source": [
    "## tf.reset_default_graph() only works under tf 1.0\n",
    "penalty_dist_transPOI = 0.3\n",
    "\n",
    "# Set up the state-value estimator and policy estimator\n",
    "estimator_policy = PolicyEstimator(learning_rate, nS)\n",
    "estimator_value = StateValueEstimator(learning_rate, nS)\n",
    "\n",
    "rider_test_list = np.array(grid_centroid_gdf['rider_test_list'])\n",
    "\n",
    "# Initialize study area\n",
    "study_area = create_study_area(service_areas, max_scooter_per_area, scooter_cost_per_deploy, docked_cost_per_deploy, \\\n",
    "                   nS, no_scooter_penalty, reward_per_rider, equity_penalty, rider_test_list, logistics_car_cost_per_mile, \\\n",
    "                              penalty_dist_transPOI, reward_num_transPOI)\n",
    "\n",
    "# Add ops to save and restore all the variables\n",
    "\n",
    "print(\"Starting policy gradient...\")\n",
    "\n",
    "# Start training\n",
    "print(\"Training in progress...\")\n",
    "avg_reward_max_5, avg_unmet_demand_max_5, avg_met_demand_max_5, avg_scooter_num_max_5, avg_scooter_loc_max_5, avg_wANNR_max_5, avg_moran_max_5, avg_gini_max_5, avg_theil_max_5, avg_EMD_max_5, avg_centroid_max_5, avg_dispersion_max_5, avg_kl_max_5, scooter_list_max_5 = reinforce(study_area, nS, estimator_policy, estimator_value, n_epochs, n_iters, batch_size, display_step)"
   ]
  },
  {
   "cell_type": "markdown",
   "id": "1ba3f84b",
   "metadata": {},
   "source": [
    "## penalty_dist_transPOI = 0.4"
   ]
  },
  {
   "cell_type": "code",
   "execution_count": 9,
   "id": "5de8377d",
   "metadata": {},
   "outputs": [
    {
     "name": "stdout",
     "output_type": "stream",
     "text": [
      "Starting policy gradient...\n",
      "Training in progress...\n",
      "Epoch 50, Average reward, unmet demand, met demand, scooter num, scooter loc, gini index unmet, gini index met, wANNR, moran, gini, theil, EMD, centroid change, dispersion change, kl divergence = -457.507, 36.400, 154.600, 177.600, 108.800, 0.987, 0.953, 0.476, 0.039, 0.945, 0.189, 1.972, 0.971, -1.705, 0.828\n",
      "Epoch 100, Average reward, unmet demand, met demand, scooter num, scooter loc, gini index unmet, gini index met, wANNR, moran, gini, theil, EMD, centroid change, dispersion change, kl divergence = -496.796, 94.000, 97.000, 173.000, 110.000, 0.966, 0.973, 0.470, 0.041, 0.944, 0.191, 1.953, 1.005, -1.676, 0.866\n",
      "Epoch 150, Average reward, unmet demand, met demand, scooter num, scooter loc, gini index unmet, gini index met, wANNR, moran, gini, theil, EMD, centroid change, dispersion change, kl divergence = -496.796, 94.000, 97.000, 173.000, 110.000, 0.966, 0.973, 0.470, 0.041, 0.944, 0.191, 1.953, 1.005, -1.676, 0.866\n",
      "Epoch 200, Average reward, unmet demand, met demand, scooter num, scooter loc, gini index unmet, gini index met, wANNR, moran, gini, theil, EMD, centroid change, dispersion change, kl divergence = -496.767, 95.000, 96.000, 167.000, 103.000, 0.959, 0.977, 0.462, 0.041, 0.948, 0.204, 2.095, 1.001, -1.910, 0.729\n",
      "Epoch 250, Average reward, unmet demand, met demand, scooter num, scooter loc, gini index unmet, gini index met, wANNR, moran, gini, theil, EMD, centroid change, dispersion change, kl divergence = -496.767, 95.000, 96.000, 167.000, 103.000, 0.959, 0.977, 0.462, 0.041, 0.948, 0.204, 2.095, 1.001, -1.910, 0.729\n",
      "Epoch 300, Average reward, unmet demand, met demand, scooter num, scooter loc, gini index unmet, gini index met, wANNR, moran, gini, theil, EMD, centroid change, dispersion change, kl divergence = -496.767, 95.000, 96.000, 167.000, 103.000, 0.959, 0.977, 0.462, 0.041, 0.948, 0.204, 2.095, 1.001, -1.910, 0.729\n",
      "Epoch 350, Average reward, unmet demand, met demand, scooter num, scooter loc, gini index unmet, gini index met, wANNR, moran, gini, theil, EMD, centroid change, dispersion change, kl divergence = -496.767, 95.000, 96.000, 167.000, 103.000, 0.959, 0.977, 0.462, 0.041, 0.948, 0.204, 2.095, 1.001, -1.910, 0.729\n",
      "Epoch 400, Average reward, unmet demand, met demand, scooter num, scooter loc, gini index unmet, gini index met, wANNR, moran, gini, theil, EMD, centroid change, dispersion change, kl divergence = -496.767, 95.000, 96.000, 167.000, 103.000, 0.959, 0.977, 0.462, 0.041, 0.948, 0.204, 2.095, 1.001, -1.910, 0.729\n",
      "Epoch 450, Average reward, unmet demand, met demand, scooter num, scooter loc, gini index unmet, gini index met, wANNR, moran, gini, theil, EMD, centroid change, dispersion change, kl divergence = -496.767, 95.000, 96.000, 167.000, 103.000, 0.959, 0.977, 0.462, 0.041, 0.948, 0.204, 2.095, 1.001, -1.910, 0.729\n",
      "Epoch 500, Average reward, unmet demand, met demand, scooter num, scooter loc, gini index unmet, gini index met, wANNR, moran, gini, theil, EMD, centroid change, dispersion change, kl divergence = -496.767, 95.000, 96.000, 167.000, 103.000, 0.959, 0.977, 0.462, 0.041, 0.948, 0.204, 2.095, 1.001, -1.910, 0.729\n"
     ]
    }
   ],
   "source": [
    "## tf.reset_default_graph() only works under tf 1.0\n",
    "penalty_dist_transPOI = 0.4\n",
    "\n",
    "# Set up the state-value estimator and policy estimator\n",
    "estimator_policy = PolicyEstimator(learning_rate, nS)\n",
    "estimator_value = StateValueEstimator(learning_rate, nS)\n",
    "\n",
    "rider_test_list = np.array(grid_centroid_gdf['rider_test_list'])\n",
    "\n",
    "# Initialize study area\n",
    "study_area = create_study_area(service_areas, max_scooter_per_area, scooter_cost_per_deploy, docked_cost_per_deploy, \\\n",
    "                   nS, no_scooter_penalty, reward_per_rider, equity_penalty, rider_test_list, logistics_car_cost_per_mile, \\\n",
    "                              penalty_dist_transPOI, reward_num_transPOI)\n",
    "\n",
    "# Add ops to save and restore all the variables\n",
    "\n",
    "print(\"Starting policy gradient...\")\n",
    "\n",
    "# Start training\n",
    "print(\"Training in progress...\")\n",
    "avg_reward_max_6, avg_unmet_demand_max_6, avg_met_demand_max_6, avg_scooter_num_max_6, avg_scooter_loc_max_6, avg_wANNR_max_6, avg_moran_max_6, avg_gini_max_6, avg_theil_max_6, avg_EMD_max_6, avg_centroid_max_6, avg_dispersion_max_6, avg_kl_max_6, scooter_list_max_6 = reinforce(study_area, nS, estimator_policy, estimator_value, n_epochs, n_iters, batch_size, display_step)"
   ]
  },
  {
   "cell_type": "markdown",
   "id": "0c0df756",
   "metadata": {},
   "source": [
    "## penalty_dist_transPOI = 0.5"
   ]
  },
  {
   "cell_type": "code",
   "execution_count": 10,
   "id": "7927ff81",
   "metadata": {},
   "outputs": [
    {
     "name": "stdout",
     "output_type": "stream",
     "text": [
      "Starting policy gradient...\n",
      "Training in progress...\n",
      "Epoch 50, Average reward, unmet demand, met demand, scooter num, scooter loc, gini index unmet, gini index met, wANNR, moran, gini, theil, EMD, centroid change, dispersion change, kl divergence = -568.553, 32.800, 158.200, 175.600, 105.800, 0.989, 0.954, 0.474, 0.039, 0.947, 0.188, 1.973, 0.973, -1.679, 0.871\n",
      "Epoch 100, Average reward, unmet demand, met demand, scooter num, scooter loc, gini index unmet, gini index met, wANNR, moran, gini, theil, EMD, centroid change, dispersion change, kl divergence = -616.561, 104.000, 87.000, 165.000, 101.000, 0.961, 0.974, 0.459, 0.042, 0.950, 0.203, 2.104, 0.952, -1.926, 0.709\n",
      "Epoch 150, Average reward, unmet demand, met demand, scooter num, scooter loc, gini index unmet, gini index met, wANNR, moran, gini, theil, EMD, centroid change, dispersion change, kl divergence = -607.479, 92.000, 99.000, 165.400, 111.600, 0.968, 0.969, 0.460, 0.037, 0.942, 0.191, 1.904, 0.870, -1.668, 0.841\n",
      "Epoch 200, Average reward, unmet demand, met demand, scooter num, scooter loc, gini index unmet, gini index met, wANNR, moran, gini, theil, EMD, centroid change, dispersion change, kl divergence = -614.362, 98.000, 93.000, 180.000, 116.000, 0.963, 0.974, 0.480, 0.044, 0.940, 0.173, 1.940, 0.846, -1.718, 0.817\n",
      "Epoch 250, Average reward, unmet demand, met demand, scooter num, scooter loc, gini index unmet, gini index met, wANNR, moran, gini, theil, EMD, centroid change, dispersion change, kl divergence = -615.196, 99.000, 92.000, 181.000, 117.000, 0.958, 0.976, 0.481, 0.043, 0.940, 0.199, 1.948, 0.906, -1.723, 0.873\n",
      "Epoch 300, Average reward, unmet demand, met demand, scooter num, scooter loc, gini index unmet, gini index met, wANNR, moran, gini, theil, EMD, centroid change, dispersion change, kl divergence = -574.539, 43.800, 147.200, 167.400, 106.200, 0.985, 0.953, 0.463, 0.039, 0.946, 0.207, 1.978, 0.903, -1.724, 0.809\n",
      "Epoch 350, Average reward, unmet demand, met demand, scooter num, scooter loc, gini index unmet, gini index met, wANNR, moran, gini, theil, EMD, centroid change, dispersion change, kl divergence = -612.657, 91.000, 100.000, 198.000, 123.000, 0.963, 0.971, 0.503, 0.051, 0.937, 0.181, 2.015, 1.030, -1.782, 0.763\n",
      "Epoch 400, Average reward, unmet demand, met demand, scooter num, scooter loc, gini index unmet, gini index met, wANNR, moran, gini, theil, EMD, centroid change, dispersion change, kl divergence = -605.033, 84.200, 106.800, 182.800, 119.400, 0.968, 0.967, 0.483, 0.045, 0.937, 0.155, 1.941, 0.891, -1.740, 0.842\n",
      "Epoch 450, Average reward, unmet demand, met demand, scooter num, scooter loc, gini index unmet, gini index met, wANNR, moran, gini, theil, EMD, centroid change, dispersion change, kl divergence = -605.107, 89.200, 101.800, 160.800, 104.200, 0.965, 0.970, 0.453, 0.042, 0.947, 0.196, 2.065, 0.837, -1.896, 0.772\n",
      "Epoch 500, Average reward, unmet demand, met demand, scooter num, scooter loc, gini index unmet, gini index met, wANNR, moran, gini, theil, EMD, centroid change, dispersion change, kl divergence = -604.503, 87.400, 103.600, 164.200, 104.800, 0.965, 0.970, 0.458, 0.043, 0.947, 0.193, 2.072, 0.935, -1.840, 0.819\n"
     ]
    }
   ],
   "source": [
    "## tf.reset_default_graph() only works under tf 1.0\n",
    "penalty_dist_transPOI = 0.5\n",
    "\n",
    "# Set up the state-value estimator and policy estimator\n",
    "estimator_policy = PolicyEstimator(learning_rate, nS)\n",
    "estimator_value = StateValueEstimator(learning_rate, nS)\n",
    "\n",
    "rider_test_list = np.array(grid_centroid_gdf['rider_test_list'])\n",
    "\n",
    "# Initialize study area\n",
    "study_area = create_study_area(service_areas, max_scooter_per_area, scooter_cost_per_deploy, docked_cost_per_deploy, \\\n",
    "                   nS, no_scooter_penalty, reward_per_rider, equity_penalty, rider_test_list, logistics_car_cost_per_mile, \\\n",
    "                              penalty_dist_transPOI, reward_num_transPOI)\n",
    "\n",
    "# Add ops to save and restore all the variables\n",
    "\n",
    "print(\"Starting policy gradient...\")\n",
    "\n",
    "# Start training\n",
    "print(\"Training in progress...\")\n",
    "avg_reward_max_7, avg_unmet_demand_max_7, avg_met_demand_max_7, avg_scooter_num_max_7, avg_scooter_loc_max_7, avg_wANNR_max_7, avg_moran_max_7, avg_gini_max_7, avg_theil_max_7, avg_EMD_max_7, avg_centroid_max_7, avg_dispersion_max_7, avg_kl_max_7, scooter_list_max_7 = reinforce(study_area, nS, estimator_policy, estimator_value, n_epochs, n_iters, batch_size, display_step)"
   ]
  },
  {
   "cell_type": "markdown",
   "id": "93e0783a",
   "metadata": {},
   "source": [
    "## penalty_dist_transPOI = 0.6"
   ]
  },
  {
   "cell_type": "code",
   "execution_count": 11,
   "id": "36be398b",
   "metadata": {},
   "outputs": [
    {
     "name": "stdout",
     "output_type": "stream",
     "text": [
      "Starting policy gradient...\n",
      "Training in progress...\n",
      "Epoch 50, Average reward, unmet demand, met demand, scooter num, scooter loc, gini index unmet, gini index met, wANNR, moran, gini, theil, EMD, centroid change, dispersion change, kl divergence = -681.203, 30.200, 160.800, 179.400, 106.800, 0.988, 0.955, 0.479, 0.037, 0.947, 0.212, 1.972, 0.958, -1.694, 0.850\n",
      "Epoch 100, Average reward, unmet demand, met demand, scooter num, scooter loc, gini index unmet, gini index met, wANNR, moran, gini, theil, EMD, centroid change, dispersion change, kl divergence = -688.072, 40.000, 151.000, 181.200, 111.800, 0.982, 0.959, 0.481, 0.038, 0.944, 0.210, 1.972, 0.949, -1.682, 0.856\n",
      "Epoch 150, Average reward, unmet demand, met demand, scooter num, scooter loc, gini index unmet, gini index met, wANNR, moran, gini, theil, EMD, centroid change, dispersion change, kl divergence = -679.440, 27.400, 163.600, 179.800, 105.200, 0.989, 0.955, 0.479, 0.037, 0.948, 0.224, 2.022, 0.937, -1.767, 0.834\n",
      "Epoch 200, Average reward, unmet demand, met demand, scooter num, scooter loc, gini index unmet, gini index met, wANNR, moran, gini, theil, EMD, centroid change, dispersion change, kl divergence = -681.309, 29.600, 161.400, 181.400, 105.200, 0.988, 0.955, 0.481, 0.039, 0.948, 0.211, 2.010, 0.940, -1.737, 0.820\n",
      "Epoch 250, Average reward, unmet demand, met demand, scooter num, scooter loc, gini index unmet, gini index met, wANNR, moran, gini, theil, EMD, centroid change, dispersion change, kl divergence = -682.453, 32.000, 159.000, 179.000, 105.800, 0.988, 0.954, 0.478, 0.038, 0.948, 0.208, 1.991, 0.967, -1.712, 0.832\n",
      "Epoch 300, Average reward, unmet demand, met demand, scooter num, scooter loc, gini index unmet, gini index met, wANNR, moran, gini, theil, EMD, centroid change, dispersion change, kl divergence = -680.386, 29.200, 161.800, 178.200, 105.000, 0.989, 0.954, 0.477, 0.038, 0.948, 0.208, 1.992, 0.929, -1.715, 0.823\n",
      "Epoch 350, Average reward, unmet demand, met demand, scooter num, scooter loc, gini index unmet, gini index met, wANNR, moran, gini, theil, EMD, centroid change, dispersion change, kl divergence = -680.050, 28.400, 162.600, 178.800, 103.600, 0.988, 0.956, 0.478, 0.038, 0.950, 0.228, 2.032, 0.919, -1.759, 0.836\n",
      "Epoch 400, Average reward, unmet demand, met demand, scooter num, scooter loc, gini index unmet, gini index met, wANNR, moran, gini, theil, EMD, centroid change, dispersion change, kl divergence = -678.504, 25.000, 166.000, 184.400, 108.000, 0.990, 0.954, 0.486, 0.039, 0.947, 0.221, 2.004, 0.898, -1.729, 0.836\n",
      "Epoch 450, Average reward, unmet demand, met demand, scooter num, scooter loc, gini index unmet, gini index met, wANNR, moran, gini, theil, EMD, centroid change, dispersion change, kl divergence = -680.680, 29.800, 161.200, 177.800, 105.600, 0.989, 0.955, 0.477, 0.037, 0.948, 0.214, 1.997, 0.931, -1.708, 0.857\n",
      "Epoch 500, Average reward, unmet demand, met demand, scooter num, scooter loc, gini index unmet, gini index met, wANNR, moran, gini, theil, EMD, centroid change, dispersion change, kl divergence = -679.078, 25.400, 165.600, 185.200, 106.200, 0.989, 0.955, 0.487, 0.039, 0.949, 0.229, 2.017, 0.917, -1.734, 0.829\n"
     ]
    }
   ],
   "source": [
    "## tf.reset_default_graph() only works under tf 1.0\n",
    "penalty_dist_transPOI = 0.6\n",
    "\n",
    "# Set up the state-value estimator and policy estimator\n",
    "estimator_policy = PolicyEstimator(learning_rate, nS)\n",
    "estimator_value = StateValueEstimator(learning_rate, nS)\n",
    "\n",
    "rider_test_list = np.array(grid_centroid_gdf['rider_test_list'])\n",
    "\n",
    "# Initialize study area\n",
    "study_area = create_study_area(service_areas, max_scooter_per_area, scooter_cost_per_deploy, docked_cost_per_deploy, \\\n",
    "                   nS, no_scooter_penalty, reward_per_rider, equity_penalty, rider_test_list, logistics_car_cost_per_mile, \\\n",
    "                              penalty_dist_transPOI, reward_num_transPOI)\n",
    "\n",
    "# Add ops to save and restore all the variables\n",
    "\n",
    "print(\"Starting policy gradient...\")\n",
    "\n",
    "# Start training\n",
    "print(\"Training in progress...\")\n",
    "avg_reward_max_8, avg_unmet_demand_max_8, avg_met_demand_max_8, avg_scooter_num_max_8, avg_scooter_loc_max_8, avg_wANNR_max_8, avg_moran_max_8, avg_gini_max_8, avg_theil_max_8, avg_EMD_max_8, avg_centroid_max_8, avg_dispersion_max_8, avg_kl_max_8, scooter_list_max_8 = reinforce(study_area, nS, estimator_policy, estimator_value, n_epochs, n_iters, batch_size, display_step)"
   ]
  },
  {
   "cell_type": "markdown",
   "id": "e083ec22",
   "metadata": {},
   "source": [
    "## penalty_dist_transPOI = 0.7"
   ]
  },
  {
   "cell_type": "code",
   "execution_count": 12,
   "id": "19adfab7",
   "metadata": {},
   "outputs": [
    {
     "name": "stdout",
     "output_type": "stream",
     "text": [
      "Starting policy gradient...\n",
      "Training in progress...\n",
      "Epoch 50, Average reward, unmet demand, met demand, scooter num, scooter loc, gini index unmet, gini index met, wANNR, moran, gini, theil, EMD, centroid change, dispersion change, kl divergence = -801.552, 42.800, 148.200, 168.400, 106.400, 0.987, 0.953, 0.464, 0.040, 0.945, 0.174, 1.953, 0.959, -1.667, 0.858\n",
      "Epoch 100, Average reward, unmet demand, met demand, scooter num, scooter loc, gini index unmet, gini index met, wANNR, moran, gini, theil, EMD, centroid change, dispersion change, kl divergence = -817.535, 66.600, 124.400, 163.000, 100.400, 0.971, 0.964, 0.456, 0.043, 0.949, 0.192, 2.072, 0.954, -1.801, 0.781\n",
      "Epoch 150, Average reward, unmet demand, met demand, scooter num, scooter loc, gini index unmet, gini index met, wANNR, moran, gini, theil, EMD, centroid change, dispersion change, kl divergence = -839.421, 99.000, 92.000, 159.000, 100.000, 0.960, 0.974, 0.451, 0.039, 0.949, 0.174, 1.941, 0.860, -1.630, 0.806\n",
      "Epoch 200, Average reward, unmet demand, met demand, scooter num, scooter loc, gini index unmet, gini index met, wANNR, moran, gini, theil, EMD, centroid change, dispersion change, kl divergence = -814.216, 58.600, 132.400, 178.800, 113.800, 0.978, 0.958, 0.487, 0.039, 0.942, 0.200, 1.948, 0.916, -1.653, 0.811\n",
      "Epoch 250, Average reward, unmet demand, met demand, scooter num, scooter loc, gini index unmet, gini index met, wANNR, moran, gini, theil, EMD, centroid change, dispersion change, kl divergence = -795.091, 32.000, 159.000, 173.400, 105.400, 0.989, 0.953, 0.471, 0.039, 0.947, 0.196, 1.996, 0.916, -1.746, 0.808\n",
      "Epoch 300, Average reward, unmet demand, met demand, scooter num, scooter loc, gini index unmet, gini index met, wANNR, moran, gini, theil, EMD, centroid change, dispersion change, kl divergence = -838.473, 97.000, 94.000, 164.000, 108.000, 0.960, 0.974, 0.458, 0.041, 0.944, 0.198, 2.020, 0.955, -1.816, 0.887\n",
      "Epoch 350, Average reward, unmet demand, met demand, scooter num, scooter loc, gini index unmet, gini index met, wANNR, moran, gini, theil, EMD, centroid change, dispersion change, kl divergence = -841.828, 101.000, 90.000, 166.000, 106.000, 0.959, 0.977, 0.461, 0.036, 0.946, 0.207, 1.975, 1.169, -1.711, 0.806\n",
      "Epoch 400, Average reward, unmet demand, met demand, scooter num, scooter loc, gini index unmet, gini index met, wANNR, moran, gini, theil, EMD, centroid change, dispersion change, kl divergence = -841.366, 95.000, 96.000, 187.000, 114.000, 0.962, 0.974, 0.491, 0.038, 0.943, 0.209, 1.928, 0.913, -1.738, 0.819\n",
      "Epoch 450, Average reward, unmet demand, met demand, scooter num, scooter loc, gini index unmet, gini index met, wANNR, moran, gini, theil, EMD, centroid change, dispersion change, kl divergence = -827.578, 77.000, 114.000, 178.200, 105.400, 0.969, 0.969, 0.477, 0.041, 0.948, 0.202, 1.994, 0.838, -1.763, 0.662\n",
      "Epoch 500, Average reward, unmet demand, met demand, scooter num, scooter loc, gini index unmet, gini index met, wANNR, moran, gini, theil, EMD, centroid change, dispersion change, kl divergence = -829.154, 83.200, 107.800, 164.400, 104.400, 0.968, 0.969, 0.458, 0.041, 0.947, 0.186, 2.000, 0.921, -1.789, 0.811\n"
     ]
    }
   ],
   "source": [
    "## tf.reset_default_graph() only works under tf 1.0\n",
    "penalty_dist_transPOI = 0.7\n",
    "\n",
    "# Set up the state-value estimator and policy estimator\n",
    "estimator_policy = PolicyEstimator(learning_rate, nS)\n",
    "estimator_value = StateValueEstimator(learning_rate, nS)\n",
    "\n",
    "rider_test_list = np.array(grid_centroid_gdf['rider_test_list'])\n",
    "\n",
    "# Initialize study area\n",
    "study_area = create_study_area(service_areas, max_scooter_per_area, scooter_cost_per_deploy, docked_cost_per_deploy, \\\n",
    "                   nS, no_scooter_penalty, reward_per_rider, equity_penalty, rider_test_list, logistics_car_cost_per_mile, \\\n",
    "                              penalty_dist_transPOI, reward_num_transPOI)\n",
    "\n",
    "# Add ops to save and restore all the variables\n",
    "\n",
    "print(\"Starting policy gradient...\")\n",
    "\n",
    "# Start training\n",
    "print(\"Training in progress...\")\n",
    "avg_reward_max_9, avg_unmet_demand_max_9, avg_met_demand_max_9, avg_scooter_num_max_9, avg_scooter_loc_max_9, avg_wANNR_max_9, avg_moran_max_9, avg_gini_max_9, avg_theil_max_9, avg_EMD_max_9, avg_centroid_max_9, avg_dispersion_max_9, avg_kl_max_9, scooter_list_max_9 = reinforce(study_area, nS, estimator_policy, estimator_value, n_epochs, n_iters, batch_size, display_step)"
   ]
  },
  {
   "cell_type": "markdown",
   "id": "c16ce03b",
   "metadata": {},
   "source": [
    "## penalty_dist_transPOI = 0.8"
   ]
  },
  {
   "cell_type": "code",
   "execution_count": 13,
   "id": "3683cc27",
   "metadata": {},
   "outputs": [
    {
     "name": "stdout",
     "output_type": "stream",
     "text": [
      "Starting policy gradient...\n",
      "Training in progress...\n",
      "Epoch 50, Average reward, unmet demand, met demand, scooter num, scooter loc, gini index unmet, gini index met, wANNR, moran, gini, theil, EMD, centroid change, dispersion change, kl divergence = -955.860, 104.000, 87.000, 155.000, 100.000, 0.961, 0.973, 0.445, 0.036, 0.948, 0.173, 1.894, 0.903, -1.646, 0.854\n",
      "Epoch 100, Average reward, unmet demand, met demand, scooter num, scooter loc, gini index unmet, gini index met, wANNR, moran, gini, theil, EMD, centroid change, dispersion change, kl divergence = -955.860, 104.000, 87.000, 155.000, 100.000, 0.961, 0.973, 0.445, 0.036, 0.948, 0.173, 1.894, 0.903, -1.646, 0.854\n",
      "Epoch 150, Average reward, unmet demand, met demand, scooter num, scooter loc, gini index unmet, gini index met, wANNR, moran, gini, theil, EMD, centroid change, dispersion change, kl divergence = -953.993, 99.000, 92.000, 164.000, 103.000, 0.960, 0.975, 0.458, 0.045, 0.948, 0.199, 2.066, 0.842, -1.847, 0.882\n",
      "Epoch 200, Average reward, unmet demand, met demand, scooter num, scooter loc, gini index unmet, gini index met, wANNR, moran, gini, theil, EMD, centroid change, dispersion change, kl divergence = -958.042, 106.000, 85.000, 156.000, 92.000, 0.954, 0.979, 0.447, 0.036, 0.955, 0.219, 2.050, 0.963, -1.829, 0.825\n",
      "Epoch 250, Average reward, unmet demand, met demand, scooter num, scooter loc, gini index unmet, gini index met, wANNR, moran, gini, theil, EMD, centroid change, dispersion change, kl divergence = -958.042, 106.000, 85.000, 156.000, 92.000, 0.954, 0.979, 0.447, 0.036, 0.955, 0.219, 2.050, 0.963, -1.829, 0.825\n",
      "Epoch 300, Average reward, unmet demand, met demand, scooter num, scooter loc, gini index unmet, gini index met, wANNR, moran, gini, theil, EMD, centroid change, dispersion change, kl divergence = -958.042, 106.000, 85.000, 156.000, 92.000, 0.954, 0.979, 0.447, 0.036, 0.955, 0.219, 2.050, 0.963, -1.829, 0.825\n",
      "Epoch 350, Average reward, unmet demand, met demand, scooter num, scooter loc, gini index unmet, gini index met, wANNR, moran, gini, theil, EMD, centroid change, dispersion change, kl divergence = -958.042, 106.000, 85.000, 156.000, 92.000, 0.954, 0.979, 0.447, 0.036, 0.955, 0.219, 2.050, 0.963, -1.829, 0.825\n",
      "Epoch 400, Average reward, unmet demand, met demand, scooter num, scooter loc, gini index unmet, gini index met, wANNR, moran, gini, theil, EMD, centroid change, dispersion change, kl divergence = -958.042, 106.000, 85.000, 156.000, 92.000, 0.954, 0.979, 0.447, 0.036, 0.955, 0.219, 2.050, 0.963, -1.829, 0.825\n",
      "Epoch 450, Average reward, unmet demand, met demand, scooter num, scooter loc, gini index unmet, gini index met, wANNR, moran, gini, theil, EMD, centroid change, dispersion change, kl divergence = -958.042, 106.000, 85.000, 156.000, 92.000, 0.954, 0.979, 0.447, 0.036, 0.955, 0.219, 2.050, 0.963, -1.829, 0.825\n",
      "Epoch 500, Average reward, unmet demand, met demand, scooter num, scooter loc, gini index unmet, gini index met, wANNR, moran, gini, theil, EMD, centroid change, dispersion change, kl divergence = -958.042, 106.000, 85.000, 156.000, 92.000, 0.954, 0.979, 0.447, 0.036, 0.955, 0.219, 2.050, 0.963, -1.829, 0.825\n"
     ]
    }
   ],
   "source": [
    "## tf.reset_default_graph() only works under tf 1.0\n",
    "penalty_dist_transPOI = 0.8\n",
    "\n",
    "# Set up the state-value estimator and policy estimator\n",
    "estimator_policy = PolicyEstimator(learning_rate, nS)\n",
    "estimator_value = StateValueEstimator(learning_rate, nS)\n",
    "\n",
    "rider_test_list = np.array(grid_centroid_gdf['rider_test_list'])\n",
    "\n",
    "# Initialize study area\n",
    "study_area = create_study_area(service_areas, max_scooter_per_area, scooter_cost_per_deploy, docked_cost_per_deploy, \\\n",
    "                   nS, no_scooter_penalty, reward_per_rider, equity_penalty, rider_test_list, logistics_car_cost_per_mile, \\\n",
    "                              penalty_dist_transPOI, reward_num_transPOI)\n",
    "\n",
    "# Add ops to save and restore all the variables\n",
    "\n",
    "print(\"Starting policy gradient...\")\n",
    "\n",
    "# Start training\n",
    "print(\"Training in progress...\")\n",
    "avg_reward_max_10, avg_unmet_demand_max_10, avg_met_demand_max_10, avg_scooter_num_max_10, avg_scooter_loc_max_10, avg_wANNR_max_10, avg_moran_max_10, avg_gini_max_10, avg_theil_max_10, avg_EMD_max_10, avg_centroid_max_10, avg_dispersion_max_10, avg_kl_max_10, scooter_list_max_10 = reinforce(study_area, nS, estimator_policy, estimator_value, n_epochs, n_iters, batch_size, display_step)"
   ]
  },
  {
   "cell_type": "markdown",
   "id": "dad374e2",
   "metadata": {},
   "source": [
    "## penalty_dist_transPOI = 0.9"
   ]
  },
  {
   "cell_type": "code",
   "execution_count": 14,
   "id": "693564e0",
   "metadata": {},
   "outputs": [
    {
     "name": "stdout",
     "output_type": "stream",
     "text": [
      "Starting policy gradient...\n",
      "Training in progress...\n",
      "Epoch 50, Average reward, unmet demand, met demand, scooter num, scooter loc, gini index unmet, gini index met, wANNR, moran, gini, theil, EMD, centroid change, dispersion change, kl divergence = -1022.047, 28.400, 162.600, 183.400, 106.800, 0.988, 0.955, 0.484, 0.038, 0.948, 0.222, 1.975, 0.932, -1.683, 0.842\n",
      "Epoch 100, Average reward, unmet demand, met demand, scooter num, scooter loc, gini index unmet, gini index met, wANNR, moran, gini, theil, EMD, centroid change, dispersion change, kl divergence = -1021.716, 28.400, 162.600, 180.600, 103.400, 0.989, 0.955, 0.480, 0.041, 0.950, 0.214, 2.049, 0.910, -1.780, 0.813\n",
      "Epoch 150, Average reward, unmet demand, met demand, scooter num, scooter loc, gini index unmet, gini index met, wANNR, moran, gini, theil, EMD, centroid change, dispersion change, kl divergence = -1022.274, 29.200, 161.800, 180.800, 104.000, 0.988, 0.955, 0.481, 0.041, 0.949, 0.216, 2.035, 0.907, -1.762, 0.836\n",
      "Epoch 200, Average reward, unmet demand, met demand, scooter num, scooter loc, gini index unmet, gini index met, wANNR, moran, gini, theil, EMD, centroid change, dispersion change, kl divergence = -1023.040, 30.600, 160.400, 180.600, 106.400, 0.989, 0.954, 0.480, 0.040, 0.947, 0.207, 2.001, 0.906, -1.738, 0.833\n",
      "Epoch 250, Average reward, unmet demand, met demand, scooter num, scooter loc, gini index unmet, gini index met, wANNR, moran, gini, theil, EMD, centroid change, dispersion change, kl divergence = -1020.601, 26.000, 165.000, 184.400, 106.400, 0.989, 0.955, 0.486, 0.041, 0.948, 0.216, 2.029, 0.932, -1.754, 0.825\n",
      "Epoch 300, Average reward, unmet demand, met demand, scooter num, scooter loc, gini index unmet, gini index met, wANNR, moran, gini, theil, EMD, centroid change, dispersion change, kl divergence = -1021.820, 29.000, 162.000, 179.200, 103.800, 0.989, 0.955, 0.478, 0.038, 0.949, 0.218, 2.013, 0.902, -1.754, 0.820\n",
      "Epoch 350, Average reward, unmet demand, met demand, scooter num, scooter loc, gini index unmet, gini index met, wANNR, moran, gini, theil, EMD, centroid change, dispersion change, kl divergence = -1021.278, 28.000, 163.000, 180.600, 105.600, 0.990, 0.954, 0.481, 0.039, 0.948, 0.213, 2.015, 0.954, -1.738, 0.825\n",
      "Epoch 400, Average reward, unmet demand, met demand, scooter num, scooter loc, gini index unmet, gini index met, wANNR, moran, gini, theil, EMD, centroid change, dispersion change, kl divergence = -1020.032, 26.000, 165.000, 181.000, 104.600, 0.990, 0.955, 0.481, 0.038, 0.949, 0.224, 2.032, 0.950, -1.766, 0.827\n",
      "Epoch 450, Average reward, unmet demand, met demand, scooter num, scooter loc, gini index unmet, gini index met, wANNR, moran, gini, theil, EMD, centroid change, dispersion change, kl divergence = -1022.977, 31.000, 160.000, 179.000, 106.600, 0.989, 0.954, 0.478, 0.040, 0.947, 0.199, 2.003, 0.955, -1.728, 0.825\n",
      "Epoch 500, Average reward, unmet demand, met demand, scooter num, scooter loc, gini index unmet, gini index met, wANNR, moran, gini, theil, EMD, centroid change, dispersion change, kl divergence = -1025.287, 34.400, 156.600, 178.800, 107.000, 0.988, 0.952, 0.478, 0.039, 0.946, 0.191, 1.966, 0.961, -1.691, 0.824\n"
     ]
    }
   ],
   "source": [
    "## tf.reset_default_graph() only works under tf 1.0\n",
    "penalty_dist_transPOI = 0.9\n",
    "\n",
    "# Set up the state-value estimator and policy estimator\n",
    "estimator_policy = PolicyEstimator(learning_rate, nS)\n",
    "estimator_value = StateValueEstimator(learning_rate, nS)\n",
    "\n",
    "rider_test_list = np.array(grid_centroid_gdf['rider_test_list'])\n",
    "\n",
    "# Initialize study area\n",
    "study_area = create_study_area(service_areas, max_scooter_per_area, scooter_cost_per_deploy, docked_cost_per_deploy, \\\n",
    "                   nS, no_scooter_penalty, reward_per_rider, equity_penalty, rider_test_list, logistics_car_cost_per_mile, \\\n",
    "                              penalty_dist_transPOI, reward_num_transPOI)\n",
    "\n",
    "# Add ops to save and restore all the variables\n",
    "\n",
    "print(\"Starting policy gradient...\")\n",
    "\n",
    "# Start training\n",
    "print(\"Training in progress...\")\n",
    "avg_reward_max_11, avg_unmet_demand_max_11, avg_met_demand_max_11, avg_scooter_num_max_11, avg_scooter_loc_max_11, avg_wANNR_max_11, avg_moran_max_11, avg_gini_max_11, avg_theil_max_11, avg_EMD_max_11, avg_centroid_max_11, avg_dispersion_max_11, avg_kl_max_11, scooter_list_max_11 = reinforce(study_area, nS, estimator_policy, estimator_value, n_epochs, n_iters, batch_size, display_step)"
   ]
  },
  {
   "cell_type": "markdown",
   "id": "0572be87",
   "metadata": {},
   "source": [
    "## penalty_dist_transPOI = 1.0"
   ]
  },
  {
   "cell_type": "code",
   "execution_count": 15,
   "id": "d93d482c",
   "metadata": {},
   "outputs": [
    {
     "name": "stdout",
     "output_type": "stream",
     "text": [
      "Starting policy gradient...\n",
      "Training in progress...\n",
      "Epoch 50, Average reward, unmet demand, met demand, scooter num, scooter loc, gini index unmet, gini index met, wANNR, moran, gini, theil, EMD, centroid change, dispersion change, kl divergence = -1138.108, 32.200, 158.800, 182.000, 107.800, 0.987, 0.954, 0.482, 0.039, 0.947, 0.217, 2.006, 0.939, -1.737, 0.781\n",
      "Epoch 100, Average reward, unmet demand, met demand, scooter num, scooter loc, gini index unmet, gini index met, wANNR, moran, gini, theil, EMD, centroid change, dispersion change, kl divergence = -1146.907, 47.400, 143.600, 170.800, 101.400, 0.981, 0.960, 0.467, 0.039, 0.950, 0.219, 2.059, 0.922, -1.786, 0.808\n",
      "Epoch 150, Average reward, unmet demand, met demand, scooter num, scooter loc, gini index unmet, gini index met, wANNR, moran, gini, theil, EMD, centroid change, dispersion change, kl divergence = -1160.511, 63.600, 127.400, 184.200, 108.200, 0.972, 0.965, 0.485, 0.038, 0.947, 0.202, 2.023, 0.970, -1.825, 0.786\n",
      "Epoch 200, Average reward, unmet demand, met demand, scooter num, scooter loc, gini index unmet, gini index met, wANNR, moran, gini, theil, EMD, centroid change, dispersion change, kl divergence = -1133.505, 25.600, 165.400, 180.400, 103.000, 0.989, 0.955, 0.481, 0.039, 0.950, 0.220, 2.034, 0.918, -1.758, 0.841\n",
      "Epoch 250, Average reward, unmet demand, met demand, scooter num, scooter loc, gini index unmet, gini index met, wANNR, moran, gini, theil, EMD, centroid change, dispersion change, kl divergence = -1143.858, 44.800, 146.200, 165.800, 104.200, 0.982, 0.953, 0.460, 0.038, 0.947, 0.194, 1.986, 0.937, -1.706, 0.794\n",
      "Epoch 300, Average reward, unmet demand, met demand, scooter num, scooter loc, gini index unmet, gini index met, wANNR, moran, gini, theil, EMD, centroid change, dispersion change, kl divergence = -1173.544, 84.400, 106.600, 177.400, 110.000, 0.965, 0.969, 0.476, 0.042, 0.944, 0.175, 1.966, 1.023, -1.724, 0.756\n",
      "Epoch 350, Average reward, unmet demand, met demand, scooter num, scooter loc, gini index unmet, gini index met, wANNR, moran, gini, theil, EMD, centroid change, dispersion change, kl divergence = -1135.590, 29.800, 161.200, 176.800, 104.600, 0.988, 0.955, 0.475, 0.038, 0.948, 0.218, 2.024, 0.935, -1.758, 0.869\n",
      "Epoch 400, Average reward, unmet demand, met demand, scooter num, scooter loc, gini index unmet, gini index met, wANNR, moran, gini, theil, EMD, centroid change, dispersion change, kl divergence = -1134.863, 28.600, 162.400, 177.000, 103.600, 0.988, 0.954, 0.476, 0.039, 0.949, 0.211, 2.008, 0.907, -1.732, 0.853\n",
      "Epoch 450, Average reward, unmet demand, met demand, scooter num, scooter loc, gini index unmet, gini index met, wANNR, moran, gini, theil, EMD, centroid change, dispersion change, kl divergence = -1135.538, 29.400, 161.600, 178.400, 106.000, 0.989, 0.954, 0.477, 0.038, 0.947, 0.208, 1.993, 0.912, -1.719, 0.822\n",
      "Epoch 500, Average reward, unmet demand, met demand, scooter num, scooter loc, gini index unmet, gini index met, wANNR, moran, gini, theil, EMD, centroid change, dispersion change, kl divergence = -1158.844, 64.400, 126.600, 172.800, 106.600, 0.973, 0.962, 0.470, 0.038, 0.946, 0.204, 2.030, 1.018, -1.798, 0.765\n"
     ]
    }
   ],
   "source": [
    "## tf.reset_default_graph() only works under tf 1.0\n",
    "penalty_dist_transPOI = 1.0\n",
    "\n",
    "# Set up the state-value estimator and policy estimator\n",
    "estimator_policy = PolicyEstimator(learning_rate, nS)\n",
    "estimator_value = StateValueEstimator(learning_rate, nS)\n",
    "\n",
    "rider_test_list = np.array(grid_centroid_gdf['rider_test_list'])\n",
    "\n",
    "# Initialize study area\n",
    "study_area = create_study_area(service_areas, max_scooter_per_area, scooter_cost_per_deploy, docked_cost_per_deploy, \\\n",
    "                   nS, no_scooter_penalty, reward_per_rider, equity_penalty, rider_test_list, logistics_car_cost_per_mile, \\\n",
    "                              penalty_dist_transPOI, reward_num_transPOI)\n",
    "\n",
    "# Add ops to save and restore all the variables\n",
    "\n",
    "print(\"Starting policy gradient...\")\n",
    "\n",
    "# Start training\n",
    "print(\"Training in progress...\")\n",
    "avg_reward_max_12, avg_unmet_demand_max_12, avg_met_demand_max_12, avg_scooter_num_max_12, avg_scooter_loc_max_12, avg_wANNR_max_12, avg_moran_max_12, avg_gini_max_12, avg_theil_max_12, avg_EMD_max_12, avg_centroid_max_12, avg_dispersion_max_12, avg_kl_max_12, scooter_list_max_12 = reinforce(study_area, nS, estimator_policy, estimator_value, n_epochs, n_iters, batch_size, display_step)"
   ]
  },
  {
   "cell_type": "markdown",
   "id": "cf6babdd",
   "metadata": {},
   "source": [
    "# Illustration"
   ]
  },
  {
   "cell_type": "code",
   "execution_count": 16,
   "id": "218b3462",
   "metadata": {},
   "outputs": [
    {
     "name": "stdout",
     "output_type": "stream",
     "text": [
      "[array([ True, False,  True,  True,  True,  True,  True,  True,  True,\n",
      "       False]), array([False, False, False, False, False, False, False, False, False,\n",
      "       False]), array([ True,  True,  True,  True, False,  True, False,  True,  True,\n",
      "        True]), array([ True, False,  True,  True,  True,  True,  True,  True,  True,\n",
      "        True]), array([False, False, False, False, False, False, False, False, False,\n",
      "       False]), array([False,  True,  True,  True,  True,  True,  True,  True,  True,\n",
      "        True]), array([ True, False,  True,  True,  True,  True,  True,  True,  True,\n",
      "        True]), array([ True,  True,  True,  True,  True,  True,  True,  True,  True,\n",
      "        True]), array([False, False, False, False, False, False, False, False, False,\n",
      "       False]), array([ True,  True,  True,  True,  True,  True,  True,  True,  True,\n",
      "        True]), array([ True,  True,  True,  True,  True, False,  True,  True,  True,\n",
      "        True])]\n"
     ]
    },
    {
     "name": "stderr",
     "output_type": "stream",
     "text": [
      "C:\\Users\\Kaifa Lu\\AppData\\Local\\Temp\\ipykernel_17436\\3902648579.py:7: RuntimeWarning: divide by zero encountered in divide\n",
      "  modified_z_scores = 0.6745 * (arr - median) / mad\n",
      "C:\\Users\\Kaifa Lu\\AppData\\Local\\Temp\\ipykernel_17436\\3902648579.py:7: RuntimeWarning: invalid value encountered in divide\n",
      "  modified_z_scores = 0.6745 * (arr - median) / mad\n"
     ]
    }
   ],
   "source": [
    "def modified_z_score(arr):\n",
    "\n",
    "    median = np.median(arr)\n",
    "    mad = np.median(np.abs(arr - median))  # Median Absolute Deviation\n",
    "\n",
    "    # Modified Z-score\n",
    "    modified_z_scores = 0.6745 * (arr - median) / mad\n",
    "    threshold = 3\n",
    "    # filtered_arr = arr[np.abs(modified_z_scores) < threshold]\n",
    "    sel_index = np.abs(modified_z_scores) < threshold\n",
    "    \n",
    "    return sel_index # filtered_arr\n",
    "\n",
    "sel_index_2 = modified_z_score(avg_reward_max_2)\n",
    "sel_index_3 = modified_z_score(avg_reward_max_3)\n",
    "sel_index_4 = modified_z_score(avg_reward_max_4)\n",
    "sel_index_5 = modified_z_score(avg_reward_max_5)\n",
    "sel_index_6 = modified_z_score(avg_reward_max_6)\n",
    "sel_index_7 = modified_z_score(avg_reward_max_7)\n",
    "sel_index_8 = modified_z_score(avg_reward_max_8)\n",
    "sel_index_9 = modified_z_score(avg_reward_max_9)\n",
    "sel_index_10 = modified_z_score(avg_reward_max_10)\n",
    "sel_index_11 = modified_z_score(avg_reward_max_11)\n",
    "sel_index_12 = modified_z_score(avg_reward_max_12)\n",
    "print([sel_index_2, sel_index_3, sel_index_4, sel_index_5, sel_index_6, sel_index_7, sel_index_8, sel_index_9, \n",
    "      sel_index_10, sel_index_11, sel_index_12])"
   ]
  },
  {
   "cell_type": "code",
   "execution_count": 17,
   "id": "91bd3d33",
   "metadata": {},
   "outputs": [
    {
     "name": "stdout",
     "output_type": "stream",
     "text": [
      "End: 2025-07-13 03:42:45\n",
      "Plotting resulting graph...\n",
      "Plotting baseline 1...\n",
      "End: 2025-07-13 03:42:46\n"
     ]
    },
    {
     "data": {
      "image/png": "[encoded data removed]",
      "text/plain": [
       "<Figure size 432x288 with 1 Axes>"
      ]
     },
     "metadata": {
      "needs_background": "light"
     },
     "output_type": "display_data"
    }
   ],
   "source": [
    "# Plot the graphs of average rewards during testing phases of the policy\n",
    "# gradient method and the hand-crafted policies\n",
    "\n",
    "print(\"End: \" + datetime.now().strftime('%Y-%m-%d %H:%M:%S'))\n",
    "\n",
    "dist_transPOI_penalty_unit_list = np.array([0.0,0.1,0.2,0.3,0.4,0.5,0.6,0.7,0.8,0.9,1.0])\n",
    "max_reward_list_grid = np.array([avg_reward_max_2,\n",
    "                                avg_reward_max_3,\n",
    "                                avg_reward_max_4,\n",
    "                                avg_reward_max_5,\n",
    "                                avg_reward_max_6,\n",
    "                                avg_reward_max_7,\n",
    "                                avg_reward_max_8,\n",
    "                                avg_reward_max_9,\n",
    "                                avg_reward_max_10,\n",
    "                                avg_reward_max_11,\n",
    "                                avg_reward_max_12])\n",
    "max_reward_mean_grid = np.mean(max_reward_list_grid, axis=1)\n",
    "max_reward_std_grid = np.std(max_reward_list_grid, axis=1)\n",
    "\n",
    "print(\"Plotting resulting graph...\")\n",
    "# plt.figure(figsize = (12, 9))\n",
    "l1 = plt.errorbar(dist_transPOI_penalty_unit_list, max_reward_mean_grid, yerr=max_reward_std_grid, fmt='o-', capsize=5) # ecolor='gray', \n",
    "\n",
    "print(\"Plotting baseline 1...\")\n",
    "# plt.legend(loc='best',prop={'size': 10})\n",
    "plt.ylabel(\"Reward function value\")\n",
    "plt.xlabel(\"dist_transPOI_penalty_unit\")\n",
    "\n",
    "print(\"End: \" + datetime.now().strftime('%Y-%m-%d %H:%M:%S'))"
   ]
  },
  {
   "cell_type": "code",
   "execution_count": 18,
   "id": "88cb6330",
   "metadata": {},
   "outputs": [
    {
     "data": {
      "text/plain": [
       "array([[-5.86134381e-01, -1.18049019e+01,  8.91716474e-01,\n",
       "         1.90308673e+00,  3.32851407e+00,  2.08751293e+00,\n",
       "         2.12750424e+00,  2.03541550e+00,  3.92414788e+00,\n",
       "        -1.25632067e+01],\n",
       "       [-1.58785914e+02, -1.58785914e+02, -1.58785914e+02,\n",
       "        -1.58785914e+02, -1.58785914e+02, -1.58785914e+02,\n",
       "        -1.58785914e+02, -1.61053037e+02, -1.61053037e+02,\n",
       "        -1.61053037e+02],\n",
       "       [-2.25654186e+02, -2.24004109e+02, -2.25822071e+02,\n",
       "        -2.25978612e+02, -2.36958894e+02, -2.24994177e+02,\n",
       "        -2.38402979e+02, -2.25838175e+02, -2.24706163e+02,\n",
       "        -2.25963098e+02],\n",
       "       [-3.37835574e+02, -3.41693083e+02, -3.38237072e+02,\n",
       "        -3.37447971e+02, -3.39039135e+02, -3.38230334e+02,\n",
       "        -3.39663339e+02, -3.39289974e+02, -3.38564657e+02,\n",
       "        -3.38673613e+02],\n",
       "       [-4.57507313e+02, -4.96795653e+02, -4.96795653e+02,\n",
       "        -4.96767099e+02, -4.96767099e+02, -4.96767099e+02,\n",
       "        -4.96767099e+02, -4.96767099e+02, -4.96767099e+02,\n",
       "        -4.96767099e+02],\n",
       "       [-5.68553188e+02, -6.16560927e+02, -6.07479430e+02,\n",
       "        -6.14362427e+02, -6.15195860e+02, -5.74539438e+02,\n",
       "        -6.12656734e+02, -6.05032813e+02, -6.05107366e+02,\n",
       "        -6.04502768e+02],\n",
       "       [-6.81202658e+02, -6.88072291e+02, -6.79440124e+02,\n",
       "        -6.81308891e+02, -6.82452513e+02, -6.80385766e+02,\n",
       "        -6.80049918e+02, -6.78503600e+02, -6.80680347e+02,\n",
       "        -6.79077667e+02],\n",
       "       [-8.01551898e+02, -8.17534585e+02, -8.39421486e+02,\n",
       "        -8.14215743e+02, -7.95091341e+02, -8.38472514e+02,\n",
       "        -8.41827566e+02, -8.41366265e+02, -8.27577643e+02,\n",
       "        -8.29154072e+02],\n",
       "       [-9.55860263e+02, -9.55860263e+02, -9.53993440e+02,\n",
       "        -9.58042111e+02, -9.58042111e+02, -9.58042111e+02,\n",
       "        -9.58042111e+02, -9.58042111e+02, -9.58042111e+02,\n",
       "        -9.58042111e+02],\n",
       "       [-1.02204666e+03, -1.02171628e+03, -1.02227414e+03,\n",
       "        -1.02304014e+03, -1.02060096e+03, -1.02181979e+03,\n",
       "        -1.02127777e+03, -1.02003201e+03, -1.02297696e+03,\n",
       "        -1.02528705e+03],\n",
       "       [-1.13810764e+03, -1.14690736e+03, -1.16051087e+03,\n",
       "        -1.13350469e+03, -1.14385824e+03, -1.17354393e+03,\n",
       "        -1.13558969e+03, -1.13486283e+03, -1.13553760e+03,\n",
       "        -1.15884368e+03]])"
      ]
     },
     "execution_count": 18,
     "metadata": {},
     "output_type": "execute_result"
    }
   ],
   "source": [
    "max_reward_list_grid"
   ]
  },
  {
   "cell_type": "code",
   "execution_count": 19,
   "id": "5be10874",
   "metadata": {},
   "outputs": [
    {
     "name": "stdout",
     "output_type": "stream",
     "text": [
      "End: 2025-07-13 03:42:46\n",
      "Plotting resulting graph...\n",
      "Plotting baseline 1...\n",
      "End: 2025-07-13 03:42:46\n"
     ]
    },
    {
     "name": "stderr",
     "output_type": "stream",
     "text": [
      "D:\\Software\\Anaconda\\Install\\envs\\gpd_env\\lib\\site-packages\\numpy\\core\\fromnumeric.py:3464: RuntimeWarning: Mean of empty slice.\n",
      "  return _methods._mean(a, axis=axis, dtype=dtype,\n",
      "D:\\Software\\Anaconda\\Install\\envs\\gpd_env\\lib\\site-packages\\numpy\\core\\_methods.py:192: RuntimeWarning: invalid value encountered in scalar divide\n",
      "  ret = ret.dtype.type(ret / rcount)\n",
      "D:\\Software\\Anaconda\\Install\\envs\\gpd_env\\lib\\site-packages\\numpy\\core\\_methods.py:269: RuntimeWarning: Degrees of freedom <= 0 for slice\n",
      "  ret = _var(a, axis=axis, dtype=dtype, out=out, ddof=ddof,\n",
      "D:\\Software\\Anaconda\\Install\\envs\\gpd_env\\lib\\site-packages\\numpy\\core\\_methods.py:226: RuntimeWarning: invalid value encountered in divide\n",
      "  arrmean = um.true_divide(arrmean, div, out=arrmean,\n",
      "D:\\Software\\Anaconda\\Install\\envs\\gpd_env\\lib\\site-packages\\numpy\\core\\_methods.py:261: RuntimeWarning: invalid value encountered in scalar divide\n",
      "  ret = ret.dtype.type(ret / rcount)\n"
     ]
    },
    {
     "data": {
      "image/png": "[encoded data removed]",
      "text/plain": [
       "<Figure size 432x288 with 1 Axes>"
      ]
     },
     "metadata": {
      "needs_background": "light"
     },
     "output_type": "display_data"
    }
   ],
   "source": [
    "# Plot the graphs of average rewards during testing phases of the policy\n",
    "# gradient method and the hand-crafted policies\n",
    "\n",
    "print(\"End: \" + datetime.now().strftime('%Y-%m-%d %H:%M:%S'))\n",
    "\n",
    "max_reward_list_grid = [np.array(avg_reward_max_2)[sel_index_2],\n",
    "                        np.array(avg_reward_max_3)[sel_index_3],\n",
    "                        np.array(avg_reward_max_4)[sel_index_4],\n",
    "                        np.array(avg_reward_max_5)[sel_index_5],\n",
    "                        np.array(avg_reward_max_6)[sel_index_6],\n",
    "                        np.array(avg_reward_max_7)[sel_index_7],\n",
    "                        np.array(avg_reward_max_8)[sel_index_8],\n",
    "                        np.array(avg_reward_max_9)[sel_index_9],\n",
    "                        np.array(avg_reward_max_10)[sel_index_10],\n",
    "                        np.array(avg_reward_max_11)[sel_index_11],\n",
    "                        np.array(avg_reward_max_12)[sel_index_12]]\n",
    "max_reward_mean_grid = []\n",
    "max_reward_std_grid = []\n",
    "for ii in range(len(dist_transPOI_penalty_unit_list)):\n",
    "    max_reward_mean_grid.append(np.mean(max_reward_list_grid[ii]))\n",
    "    max_reward_std_grid.append(np.std(max_reward_list_grid[ii]))\n",
    "\n",
    "print(\"Plotting resulting graph...\")\n",
    "# plt.figure(figsize = (12, 9))\n",
    "l1 = plt.errorbar(dist_transPOI_penalty_unit_list, max_reward_mean_grid, yerr=max_reward_std_grid, fmt='o-', capsize=5) # ecolor='gray', \n",
    "\n",
    "print(\"Plotting baseline 1...\")\n",
    "# plt.legend(loc='best',prop={'size': 10})\n",
    "plt.ylabel(\"Reward function value\")\n",
    "plt.xlabel(\"dist_transPOI_penalty_unit\")\n",
    "\n",
    "print(\"End: \" + datetime.now().strftime('%Y-%m-%d %H:%M:%S'))"
   ]
  },
  {
   "cell_type": "code",
   "execution_count": 20,
   "id": "29eceb93",
   "metadata": {},
   "outputs": [
    {
     "name": "stdout",
     "output_type": "stream",
     "text": [
      "End: 2025-07-13 03:42:46\n",
      "Plotting resulting graph...\n",
      "Plotting baseline 1...\n",
      "End: 2025-07-13 03:42:46\n"
     ]
    },
    {
     "data": {
      "image/png": "[encoded data removed]",
      "text/plain": [
       "<Figure size 432x288 with 1 Axes>"
      ]
     },
     "metadata": {
      "needs_background": "light"
     },
     "output_type": "display_data"
    }
   ],
   "source": [
    "# Plot the graphs of average rewards during testing phases of the policy\n",
    "# gradient method and the hand-crafted policies\n",
    "\n",
    "print(\"End: \" + datetime.now().strftime('%Y-%m-%d %H:%M:%S'))\n",
    "\n",
    "max_unmet_demand_list_grid = np.array([avg_unmet_demand_max_2,\n",
    "                                avg_unmet_demand_max_3,\n",
    "                                avg_unmet_demand_max_4,\n",
    "                                avg_unmet_demand_max_5,\n",
    "                                avg_unmet_demand_max_6,\n",
    "                                avg_unmet_demand_max_7,\n",
    "                                avg_unmet_demand_max_8,\n",
    "                                avg_unmet_demand_max_9,\n",
    "                                avg_unmet_demand_max_10,\n",
    "                                avg_unmet_demand_max_11,\n",
    "                                avg_unmet_demand_max_12])\n",
    "max_unmet_demand_mean_grid = np.mean(max_unmet_demand_list_grid, axis=1)\n",
    "max_unmet_demand_std_grid = np.std(max_unmet_demand_list_grid, axis=1)\n",
    "\n",
    "print(\"Plotting resulting graph...\")\n",
    "# plt.figure(figsize = (12, 9))\n",
    "l1 = plt.errorbar(dist_transPOI_penalty_unit_list, max_unmet_demand_mean_grid, yerr=max_unmet_demand_std_grid, fmt='o-', capsize=5) # ecolor='gray', \n",
    "\n",
    "print(\"Plotting baseline 1...\")\n",
    "# plt.legend(loc='best',prop={'size': 10})\n",
    "plt.ylabel(\"Count of unmet demands\")\n",
    "plt.xlabel(\"dist_transPOI_penalty_unit\")\n",
    "\n",
    "print(\"End: \" + datetime.now().strftime('%Y-%m-%d %H:%M:%S'))"
   ]
  },
  {
   "cell_type": "code",
   "execution_count": 21,
   "id": "3efe0717",
   "metadata": {},
   "outputs": [
    {
     "data": {
      "text/plain": [
       "array([[ 34.2,  52.2,  31. ,  30.4,  25.4,  29.4,  28.8,  29.8,  25.4,\n",
       "         50.8],\n",
       "       [ 98. ,  98. ,  98. ,  98. ,  98. ,  98. ,  98. , 103. , 103. ,\n",
       "        103. ],\n",
       "       [ 28.6,  25.6,  29.6,  29.8,  46. ,  28.2,  49. ,  27.8,  27.8,\n",
       "         30.4],\n",
       "       [ 26. ,  32.8,  26.8,  25.2,  28.6,  26.4,  29.6,  28.6,  28.6,\n",
       "         27.4],\n",
       "       [ 36.4,  94. ,  94. ,  95. ,  95. ,  95. ,  95. ,  95. ,  95. ,\n",
       "         95. ],\n",
       "       [ 32.8, 104. ,  92. ,  98. ,  99. ,  43.8,  91. ,  84.2,  89.2,\n",
       "         87.4],\n",
       "       [ 30.2,  40. ,  27.4,  29.6,  32. ,  29.2,  28.4,  25. ,  29.8,\n",
       "         25.4],\n",
       "       [ 42.8,  66.6,  99. ,  58.6,  32. ,  97. , 101. ,  95. ,  77. ,\n",
       "         83.2],\n",
       "       [104. , 104. ,  99. , 106. , 106. , 106. , 106. , 106. , 106. ,\n",
       "        106. ],\n",
       "       [ 28.4,  28.4,  29.2,  30.6,  26. ,  29. ,  28. ,  26. ,  31. ,\n",
       "         34.4],\n",
       "       [ 32.2,  47.4,  63.6,  25.6,  44.8,  84.4,  29.8,  28.6,  29.4,\n",
       "         64.4]])"
      ]
     },
     "execution_count": 21,
     "metadata": {},
     "output_type": "execute_result"
    }
   ],
   "source": [
    "max_unmet_demand_list_grid"
   ]
  },
  {
   "cell_type": "code",
   "execution_count": 22,
   "id": "4da57be1",
   "metadata": {},
   "outputs": [
    {
     "name": "stdout",
     "output_type": "stream",
     "text": [
      "End: 2025-07-13 03:42:46\n",
      "Plotting resulting graph...\n",
      "Plotting baseline 1...\n",
      "End: 2025-07-13 03:42:46\n"
     ]
    },
    {
     "data": {
      "image/png": "[encoded data removed]",
      "text/plain": [
       "<Figure size 432x288 with 1 Axes>"
      ]
     },
     "metadata": {
      "needs_background": "light"
     },
     "output_type": "display_data"
    }
   ],
   "source": [
    "# Plot the graphs of average rewards during testing phases of the policy\n",
    "# gradient method and the hand-crafted policies\n",
    "\n",
    "print(\"End: \" + datetime.now().strftime('%Y-%m-%d %H:%M:%S'))\n",
    "\n",
    "max_unmet_demand_list_grid = [np.array(avg_unmet_demand_max_2)[sel_index_2],\n",
    "                        np.array(avg_unmet_demand_max_3)[sel_index_3],\n",
    "                        np.array(avg_unmet_demand_max_4)[sel_index_4],\n",
    "                        np.array(avg_unmet_demand_max_5)[sel_index_5],\n",
    "                        np.array(avg_unmet_demand_max_6)[sel_index_6],\n",
    "                        np.array(avg_unmet_demand_max_7)[sel_index_7],\n",
    "                        np.array(avg_unmet_demand_max_8)[sel_index_8],\n",
    "                        np.array(avg_unmet_demand_max_9)[sel_index_9],\n",
    "                        np.array(avg_unmet_demand_max_10)[sel_index_10],\n",
    "                        np.array(avg_unmet_demand_max_11)[sel_index_11],\n",
    "                        np.array(avg_unmet_demand_max_12)[sel_index_12]]\n",
    "max_unmet_demand_mean_grid = []\n",
    "max_unmet_demand_std_grid = []\n",
    "for ii in range(len(dist_transPOI_penalty_unit_list)):\n",
    "    max_unmet_demand_mean_grid.append(np.mean(max_unmet_demand_list_grid[ii]))\n",
    "    max_unmet_demand_std_grid.append(np.std(max_unmet_demand_list_grid[ii]))\n",
    "\n",
    "print(\"Plotting resulting graph...\")\n",
    "# plt.figure(figsize = (12, 9))\n",
    "l1 = plt.errorbar(dist_transPOI_penalty_unit_list, max_unmet_demand_mean_grid, yerr=max_unmet_demand_std_grid, fmt='o-', capsize=5) # ecolor='gray', \n",
    "\n",
    "print(\"Plotting baseline 1...\")\n",
    "# plt.legend(loc='best',prop={'size': 10})\n",
    "plt.ylabel(\"Count of unmet demands\")\n",
    "plt.xlabel(\"dist_transPOI_penalty_unit\")\n",
    "\n",
    "print(\"End: \" + datetime.now().strftime('%Y-%m-%d %H:%M:%S'))"
   ]
  },
  {
   "cell_type": "code",
   "execution_count": 23,
   "id": "41ea18e5",
   "metadata": {},
   "outputs": [
    {
     "name": "stdout",
     "output_type": "stream",
     "text": [
      "End: 2025-07-13 03:42:46\n",
      "Plotting resulting graph...\n",
      "Plotting baseline 1...\n",
      "End: 2025-07-13 03:42:46\n"
     ]
    },
    {
     "data": {
      "image/png": "[encoded data removed]",
      "text/plain": [
       "<Figure size 432x288 with 1 Axes>"
      ]
     },
     "metadata": {
      "needs_background": "light"
     },
     "output_type": "display_data"
    }
   ],
   "source": [
    "# Plot the graphs of average rewards during testing phases of the policy\n",
    "# gradient method and the hand-crafted policies\n",
    "\n",
    "print(\"End: \" + datetime.now().strftime('%Y-%m-%d %H:%M:%S'))\n",
    "\n",
    "max_met_demand_list_grid = np.array([avg_met_demand_max_2,\n",
    "                                avg_met_demand_max_3,\n",
    "                                avg_met_demand_max_4,\n",
    "                                avg_met_demand_max_5,\n",
    "                                avg_met_demand_max_6,\n",
    "                                avg_met_demand_max_7,\n",
    "                                avg_met_demand_max_8,\n",
    "                                avg_met_demand_max_9,\n",
    "                                avg_met_demand_max_10,\n",
    "                                avg_met_demand_max_11,\n",
    "                                avg_met_demand_max_12])\n",
    "max_met_demand_mean_grid = np.mean(max_met_demand_list_grid, axis=1)\n",
    "max_met_demand_std_grid = np.std(max_met_demand_list_grid, axis=1)\n",
    "\n",
    "print(\"Plotting resulting graph...\")\n",
    "# plt.figure(figsize = (12, 9))\n",
    "l1 = plt.errorbar(dist_transPOI_penalty_unit_list, max_met_demand_mean_grid, yerr=max_met_demand_std_grid, fmt='o-', capsize=5) # ecolor='gray', \n",
    "\n",
    "print(\"Plotting baseline 1...\")\n",
    "# plt.legend(loc='best',prop={'size': 10})\n",
    "plt.ylabel(\"Count of met demands\")\n",
    "plt.xlabel(\"dist_transPOI_penalty_unit\")\n",
    "\n",
    "print(\"End: \" + datetime.now().strftime('%Y-%m-%d %H:%M:%S'))"
   ]
  },
  {
   "cell_type": "code",
   "execution_count": 24,
   "id": "4e8f1897",
   "metadata": {
    "scrolled": true
   },
   "outputs": [
    {
     "data": {
      "text/plain": [
       "array([[156.8, 138.8, 160. , 160.6, 165.6, 161.6, 162.2, 161.2, 165.6,\n",
       "        140.2],\n",
       "       [ 93. ,  93. ,  93. ,  93. ,  93. ,  93. ,  93. ,  88. ,  88. ,\n",
       "         88. ],\n",
       "       [162.4, 165.4, 161.4, 161.2, 145. , 162.8, 142. , 163.2, 163.2,\n",
       "        160.6],\n",
       "       [165. , 158.2, 164.2, 165.8, 162.4, 164.6, 161.4, 162.4, 162.4,\n",
       "        163.6],\n",
       "       [154.6,  97. ,  97. ,  96. ,  96. ,  96. ,  96. ,  96. ,  96. ,\n",
       "         96. ],\n",
       "       [158.2,  87. ,  99. ,  93. ,  92. , 147.2, 100. , 106.8, 101.8,\n",
       "        103.6],\n",
       "       [160.8, 151. , 163.6, 161.4, 159. , 161.8, 162.6, 166. , 161.2,\n",
       "        165.6],\n",
       "       [148.2, 124.4,  92. , 132.4, 159. ,  94. ,  90. ,  96. , 114. ,\n",
       "        107.8],\n",
       "       [ 87. ,  87. ,  92. ,  85. ,  85. ,  85. ,  85. ,  85. ,  85. ,\n",
       "         85. ],\n",
       "       [162.6, 162.6, 161.8, 160.4, 165. , 162. , 163. , 165. , 160. ,\n",
       "        156.6],\n",
       "       [158.8, 143.6, 127.4, 165.4, 146.2, 106.6, 161.2, 162.4, 161.6,\n",
       "        126.6]])"
      ]
     },
     "execution_count": 24,
     "metadata": {},
     "output_type": "execute_result"
    }
   ],
   "source": [
    "max_met_demand_list_grid"
   ]
  },
  {
   "cell_type": "code",
   "execution_count": 25,
   "id": "1947f7a4",
   "metadata": {},
   "outputs": [
    {
     "name": "stdout",
     "output_type": "stream",
     "text": [
      "End: 2025-07-13 03:42:46\n",
      "Plotting resulting graph...\n",
      "Plotting baseline 1...\n",
      "End: 2025-07-13 03:42:46\n"
     ]
    },
    {
     "data": {
      "image/png": "[encoded data removed]",
      "text/plain": [
       "<Figure size 432x288 with 1 Axes>"
      ]
     },
     "metadata": {
      "needs_background": "light"
     },
     "output_type": "display_data"
    }
   ],
   "source": [
    "# Plot the graphs of average rewards during testing phases of the policy\n",
    "# gradient method and the hand-crafted policies\n",
    "\n",
    "print(\"End: \" + datetime.now().strftime('%Y-%m-%d %H:%M:%S'))\n",
    "\n",
    "max_met_demand_list_grid = [np.array(avg_met_demand_max_2)[sel_index_2],\n",
    "                        np.array(avg_met_demand_max_3)[sel_index_3],\n",
    "                        np.array(avg_met_demand_max_4)[sel_index_4],\n",
    "                        np.array(avg_met_demand_max_5)[sel_index_5],\n",
    "                        np.array(avg_met_demand_max_6)[sel_index_6],\n",
    "                        np.array(avg_met_demand_max_7)[sel_index_7],\n",
    "                        np.array(avg_met_demand_max_8)[sel_index_8],\n",
    "                        np.array(avg_met_demand_max_9)[sel_index_9],\n",
    "                        np.array(avg_met_demand_max_10)[sel_index_10],\n",
    "                        np.array(avg_met_demand_max_11)[sel_index_11],\n",
    "                        np.array(avg_met_demand_max_12)[sel_index_12]]\n",
    "max_met_demand_mean_grid = []\n",
    "max_met_demand_std_grid = []\n",
    "for ii in range(len(dist_transPOI_penalty_unit_list)):\n",
    "    max_met_demand_mean_grid.append(np.mean(max_met_demand_list_grid[ii]))\n",
    "    max_met_demand_std_grid.append(np.std(max_met_demand_list_grid[ii]))\n",
    "\n",
    "print(\"Plotting resulting graph...\")\n",
    "# plt.figure(figsize = (12, 9))\n",
    "l1 = plt.errorbar(dist_transPOI_penalty_unit_list, max_met_demand_mean_grid, yerr=max_met_demand_std_grid, fmt='o-', capsize=5) # ecolor='gray', \n",
    "\n",
    "print(\"Plotting baseline 1...\")\n",
    "# plt.legend(loc='best',prop={'size': 10})\n",
    "plt.ylabel(\"Count of met demands\")\n",
    "plt.xlabel(\"dist_transPOI_penalty_unit\")\n",
    "\n",
    "print(\"End: \" + datetime.now().strftime('%Y-%m-%d %H:%M:%S'))"
   ]
  },
  {
   "cell_type": "code",
   "execution_count": 26,
   "id": "2f1350b0",
   "metadata": {
    "scrolled": false
   },
   "outputs": [
    {
     "name": "stdout",
     "output_type": "stream",
     "text": [
      "End: 2025-07-13 03:42:46\n",
      "Plotting resulting graph...\n",
      "Plotting baseline 1...\n",
      "End: 2025-07-13 03:42:46\n"
     ]
    },
    {
     "data": {
      "image/png": "[encoded data removed]",
      "text/plain": [
       "<Figure size 432x288 with 1 Axes>"
      ]
     },
     "metadata": {
      "needs_background": "light"
     },
     "output_type": "display_data"
    }
   ],
   "source": [
    "# Plot the graphs of average rewards during testing phases of the policy\n",
    "# gradient method and the hand-crafted policies\n",
    "\n",
    "print(\"End: \" + datetime.now().strftime('%Y-%m-%d %H:%M:%S'))\n",
    "\n",
    "max_scooter_num_list_grid = np.array([avg_scooter_num_max_2,\n",
    "                                avg_scooter_num_max_3,\n",
    "                                avg_scooter_num_max_4,\n",
    "                                avg_scooter_num_max_5,\n",
    "                                avg_scooter_num_max_6,\n",
    "                                avg_scooter_num_max_7,\n",
    "                                avg_scooter_num_max_8,\n",
    "                                avg_scooter_num_max_9,\n",
    "                                avg_scooter_num_max_10,\n",
    "                                avg_scooter_num_max_11,\n",
    "                                avg_scooter_num_max_12])\n",
    "max_scooter_num_mean_grid = np.mean(max_scooter_num_list_grid, axis=1)\n",
    "max_scooter_num_std_grid = np.std(max_scooter_num_list_grid, axis=1)\n",
    "\n",
    "print(\"Plotting resulting graph...\")\n",
    "# plt.figure(figsize = (12, 9))\n",
    "l1 = plt.errorbar(dist_transPOI_penalty_unit_list, max_scooter_num_mean_grid, yerr=max_scooter_num_std_grid, fmt='o-', capsize=5) # ecolor='gray', \n",
    "\n",
    "print(\"Plotting baseline 1...\")\n",
    "# plt.legend(loc='best',prop={'size': 10})\n",
    "plt.ylabel(\"Count of scooter numbers\")\n",
    "plt.xlabel(\"dist_transPOI_penalty_unit\")\n",
    "\n",
    "print(\"End: \" + datetime.now().strftime('%Y-%m-%d %H:%M:%S'))"
   ]
  },
  {
   "cell_type": "code",
   "execution_count": 27,
   "id": "7134e208",
   "metadata": {},
   "outputs": [
    {
     "data": {
      "text/plain": [
       "array([[174.2, 168.6, 178.4, 174.4, 186.6, 177.4, 179.6, 175.8, 183. ,\n",
       "        177.2],\n",
       "       [176. , 176. , 176. , 176. , 176. , 176. , 176. , 170. , 170. ,\n",
       "        170. ],\n",
       "       [182.6, 185. , 179.8, 179.6, 178.2, 180.4, 176.2, 185.8, 179.8,\n",
       "        177.2],\n",
       "       [183. , 179.8, 183. , 184.4, 180. , 184.4, 179. , 180.8, 177.2,\n",
       "        182.8],\n",
       "       [177.6, 173. , 173. , 167. , 167. , 167. , 167. , 167. , 167. ,\n",
       "        167. ],\n",
       "       [175.6, 165. , 165.4, 180. , 181. , 167.4, 198. , 182.8, 160.8,\n",
       "        164.2],\n",
       "       [179.4, 181.2, 179.8, 181.4, 179. , 178.2, 178.8, 184.4, 177.8,\n",
       "        185.2],\n",
       "       [168.4, 163. , 159. , 178.8, 173.4, 164. , 166. , 187. , 178.2,\n",
       "        164.4],\n",
       "       [155. , 155. , 164. , 156. , 156. , 156. , 156. , 156. , 156. ,\n",
       "        156. ],\n",
       "       [183.4, 180.6, 180.8, 180.6, 184.4, 179.2, 180.6, 181. , 179. ,\n",
       "        178.8],\n",
       "       [182. , 170.8, 184.2, 180.4, 165.8, 177.4, 176.8, 177. , 178.4,\n",
       "        172.8]])"
      ]
     },
     "execution_count": 27,
     "metadata": {},
     "output_type": "execute_result"
    }
   ],
   "source": [
    "max_scooter_num_list_grid"
   ]
  },
  {
   "cell_type": "code",
   "execution_count": 28,
   "id": "f6957f55",
   "metadata": {},
   "outputs": [
    {
     "name": "stdout",
     "output_type": "stream",
     "text": [
      "End: 2025-07-13 03:42:46\n",
      "Plotting resulting graph...\n",
      "Plotting baseline 1...\n",
      "End: 2025-07-13 03:42:46\n"
     ]
    },
    {
     "data": {
      "image/png": "[encoded data removed]",
      "text/plain": [
       "<Figure size 432x288 with 1 Axes>"
      ]
     },
     "metadata": {
      "needs_background": "light"
     },
     "output_type": "display_data"
    }
   ],
   "source": [
    "# Plot the graphs of average rewards during testing phases of the policy\n",
    "# gradient method and the hand-crafted policies\n",
    "\n",
    "print(\"End: \" + datetime.now().strftime('%Y-%m-%d %H:%M:%S'))\n",
    "\n",
    "max_scooter_num_list_grid = [np.array(avg_scooter_num_max_2)[sel_index_2],\n",
    "                        np.array(avg_scooter_num_max_3)[sel_index_3],\n",
    "                        np.array(avg_scooter_num_max_4)[sel_index_4],\n",
    "                        np.array(avg_scooter_num_max_5)[sel_index_5],\n",
    "                        np.array(avg_scooter_num_max_6)[sel_index_6],\n",
    "                        np.array(avg_scooter_num_max_7)[sel_index_7],\n",
    "                        np.array(avg_scooter_num_max_8)[sel_index_8],\n",
    "                        np.array(avg_scooter_num_max_9)[sel_index_9],\n",
    "                        np.array(avg_scooter_num_max_10)[sel_index_10],\n",
    "                        np.array(avg_scooter_num_max_11)[sel_index_11],\n",
    "                        np.array(avg_scooter_num_max_12)[sel_index_12]]\n",
    "max_scooter_num_mean_grid = []\n",
    "max_scooter_num_std_grid = []\n",
    "for ii in range(len(dist_transPOI_penalty_unit_list)):\n",
    "    max_scooter_num_mean_grid.append(np.mean(max_scooter_num_list_grid[ii]))\n",
    "    max_scooter_num_std_grid.append(np.std(max_scooter_num_list_grid[ii]))\n",
    "\n",
    "print(\"Plotting resulting graph...\")\n",
    "# plt.figure(figsize = (12, 9))\n",
    "l1 = plt.errorbar(dist_transPOI_penalty_unit_list, max_scooter_num_mean_grid, yerr=max_scooter_num_std_grid, fmt='o-', capsize=5) # ecolor='gray', \n",
    "\n",
    "print(\"Plotting baseline 1...\")\n",
    "# plt.legend(loc='best',prop={'size': 10})\n",
    "plt.ylabel(\"Count of scooter numbers\")\n",
    "plt.xlabel(\"dist_transPOI_penalty_unit\")\n",
    "\n",
    "print(\"End: \" + datetime.now().strftime('%Y-%m-%d %H:%M:%S'))"
   ]
  },
  {
   "cell_type": "code",
   "execution_count": 29,
   "id": "e1c54dee",
   "metadata": {},
   "outputs": [
    {
     "name": "stdout",
     "output_type": "stream",
     "text": [
      "End: 2025-07-13 03:42:46\n",
      "Plotting resulting graph...\n",
      "Plotting baseline 1...\n",
      "End: 2025-07-13 03:42:46\n"
     ]
    },
    {
     "data": {
      "image/png": "[encoded data removed]",
      "text/plain": [
       "<Figure size 432x288 with 1 Axes>"
      ]
     },
     "metadata": {
      "needs_background": "light"
     },
     "output_type": "display_data"
    }
   ],
   "source": [
    "# Plot the graphs of average rewards during testing phases of the policy\n",
    "# gradient method and the hand-crafted policies\n",
    "\n",
    "print(\"End: \" + datetime.now().strftime('%Y-%m-%d %H:%M:%S'))\n",
    "\n",
    "max_scooter_loc_list_grid = np.array([avg_scooter_loc_max_2,\n",
    "                                avg_scooter_loc_max_3,\n",
    "                                avg_scooter_loc_max_4,\n",
    "                                avg_scooter_loc_max_5,\n",
    "                                avg_scooter_loc_max_6,\n",
    "                                avg_scooter_loc_max_7,\n",
    "                                avg_scooter_loc_max_8,\n",
    "                                avg_scooter_loc_max_9,\n",
    "                                avg_scooter_loc_max_10,\n",
    "                                avg_scooter_loc_max_11,\n",
    "                                avg_scooter_loc_max_12])\n",
    "max_scooter_loc_mean_grid = np.mean(max_scooter_loc_list_grid, axis=1)\n",
    "max_scooter_loc_std_grid = np.std(max_scooter_loc_list_grid, axis=1)\n",
    "\n",
    "print(\"Plotting resulting graph...\")\n",
    "# plt.figure(figsize = (12, 9))\n",
    "l1 = plt.errorbar(dist_transPOI_penalty_unit_list, max_scooter_loc_mean_grid, yerr=max_scooter_loc_std_grid, fmt='o-', capsize=5) # ecolor='gray', \n",
    "\n",
    "print(\"Plotting baseline 1...\")\n",
    "# plt.legend(loc='best',prop={'size': 10})\n",
    "plt.ylabel(\"Count of scooter locations\")\n",
    "plt.xlabel(\"dist_transPOI_penalty_unit\")\n",
    "\n",
    "print(\"End: \" + datetime.now().strftime('%Y-%m-%d %H:%M:%S'))"
   ]
  },
  {
   "cell_type": "code",
   "execution_count": 30,
   "id": "909b5738",
   "metadata": {
    "scrolled": true
   },
   "outputs": [
    {
     "data": {
      "text/plain": [
       "array([[103.8, 107. , 105.2, 102. , 108. , 103.4, 104.4, 102. , 106. ,\n",
       "        107.4],\n",
       "       [112. , 112. , 112. , 112. , 112. , 112. , 112. , 112. , 112. ,\n",
       "        112. ],\n",
       "       [107.4, 108. , 106.8, 106. , 107. , 106.4, 110.4, 106.2, 104.8,\n",
       "        105.2],\n",
       "       [105.2, 108.6, 107.4, 106.8, 105.2, 107.6, 103.4, 104. , 103.8,\n",
       "        106.6],\n",
       "       [108.8, 110. , 110. , 103. , 103. , 103. , 103. , 103. , 103. ,\n",
       "        103. ],\n",
       "       [105.8, 101. , 111.6, 116. , 117. , 106.2, 123. , 119.4, 104.2,\n",
       "        104.8],\n",
       "       [106.8, 111.8, 105.2, 105.2, 105.8, 105. , 103.6, 108. , 105.6,\n",
       "        106.2],\n",
       "       [106.4, 100.4, 100. , 113.8, 105.4, 108. , 106. , 114. , 105.4,\n",
       "        104.4],\n",
       "       [100. , 100. , 103. ,  92. ,  92. ,  92. ,  92. ,  92. ,  92. ,\n",
       "         92. ],\n",
       "       [106.8, 103.4, 104. , 106.4, 106.4, 103.8, 105.6, 104.6, 106.6,\n",
       "        107. ],\n",
       "       [107.8, 101.4, 108.2, 103. , 104.2, 110. , 104.6, 103.6, 106. ,\n",
       "        106.6]])"
      ]
     },
     "execution_count": 30,
     "metadata": {},
     "output_type": "execute_result"
    }
   ],
   "source": [
    "max_scooter_loc_list_grid"
   ]
  },
  {
   "cell_type": "code",
   "execution_count": 31,
   "id": "f4b1d750",
   "metadata": {},
   "outputs": [
    {
     "name": "stdout",
     "output_type": "stream",
     "text": [
      "End: 2025-07-13 03:42:47\n",
      "Plotting resulting graph...\n",
      "Plotting baseline 1...\n",
      "End: 2025-07-13 03:42:47\n"
     ]
    },
    {
     "data": {
      "image/png": "[encoded data removed]",
      "text/plain": [
       "<Figure size 432x288 with 1 Axes>"
      ]
     },
     "metadata": {
      "needs_background": "light"
     },
     "output_type": "display_data"
    }
   ],
   "source": [
    "# Plot the graphs of average rewards during testing phases of the policy\n",
    "# gradient method and the hand-crafted policies\n",
    "\n",
    "print(\"End: \" + datetime.now().strftime('%Y-%m-%d %H:%M:%S'))\n",
    "\n",
    "max_scooter_loc_list_grid = [np.array(avg_scooter_loc_max_2)[sel_index_2],\n",
    "                        np.array(avg_scooter_loc_max_3)[sel_index_3],\n",
    "                        np.array(avg_scooter_loc_max_4)[sel_index_4],\n",
    "                        np.array(avg_scooter_loc_max_5)[sel_index_5],\n",
    "                        np.array(avg_scooter_loc_max_6)[sel_index_6],\n",
    "                        np.array(avg_scooter_loc_max_7)[sel_index_7],\n",
    "                        np.array(avg_scooter_loc_max_8)[sel_index_8],\n",
    "                        np.array(avg_scooter_loc_max_9)[sel_index_9],\n",
    "                        np.array(avg_scooter_loc_max_10)[sel_index_10],\n",
    "                        np.array(avg_scooter_loc_max_11)[sel_index_11],\n",
    "                        np.array(avg_scooter_loc_max_12)[sel_index_12]]\n",
    "max_scooter_loc_mean_grid = []\n",
    "max_scooter_loc_std_grid = []\n",
    "for ii in range(len(dist_transPOI_penalty_unit_list)):\n",
    "    max_scooter_loc_mean_grid.append(np.mean(max_scooter_loc_list_grid[ii]))\n",
    "    max_scooter_loc_std_grid.append(np.std(max_scooter_loc_list_grid[ii]))\n",
    "\n",
    "print(\"Plotting resulting graph...\")\n",
    "# plt.figure(figsize = (12, 9))\n",
    "l1 = plt.errorbar(dist_transPOI_penalty_unit_list, max_scooter_loc_mean_grid, yerr=max_scooter_loc_std_grid, fmt='o-', capsize=5) # ecolor='gray', \n",
    "\n",
    "print(\"Plotting baseline 1...\")\n",
    "# plt.legend(loc='best',prop={'size': 10})\n",
    "plt.ylabel(\"Count of scooter locations\")\n",
    "plt.xlabel(\"dist_transPOI_penalty_unit\")\n",
    "\n",
    "print(\"End: \" + datetime.now().strftime('%Y-%m-%d %H:%M:%S'))"
   ]
  },
  {
   "cell_type": "code",
   "execution_count": 32,
   "id": "395b0814",
   "metadata": {},
   "outputs": [
    {
     "name": "stdout",
     "output_type": "stream",
     "text": [
      "End: 2025-07-13 03:42:47\n",
      "Plotting resulting graph...\n",
      "Plotting baseline 1...\n",
      "End: 2025-07-13 03:42:47\n"
     ]
    },
    {
     "data": {
      "image/png": "[encoded data removed]",
      "text/plain": [
       "<Figure size 432x288 with 1 Axes>"
      ]
     },
     "metadata": {
      "needs_background": "light"
     },
     "output_type": "display_data"
    }
   ],
   "source": [
    "# Plot the graphs of average rewards during testing phases of the policy\n",
    "# gradient method and the hand-crafted policies\n",
    "\n",
    "print(\"End: \" + datetime.now().strftime('%Y-%m-%d %H:%M:%S'))\n",
    "\n",
    "max_wANNR_list_grid = np.array([avg_wANNR_max_2,\n",
    "                                avg_wANNR_max_3,\n",
    "                                avg_wANNR_max_4,\n",
    "                                avg_wANNR_max_5,\n",
    "                                avg_wANNR_max_6,\n",
    "                                avg_wANNR_max_7,\n",
    "                                avg_wANNR_max_8,\n",
    "                                avg_wANNR_max_9,\n",
    "                                avg_wANNR_max_10,\n",
    "                                avg_wANNR_max_11,\n",
    "                                avg_wANNR_max_12])\n",
    "max_wANNR_mean_grid = np.mean(max_wANNR_list_grid, axis=1)\n",
    "max_wANNR_std_grid = np.std(max_wANNR_list_grid, axis=1)\n",
    "\n",
    "print(\"Plotting resulting graph...\")\n",
    "# plt.figure(figsize = (12, 9))\n",
    "l1 = plt.errorbar(dist_transPOI_penalty_unit_list, max_wANNR_mean_grid, yerr=max_wANNR_std_grid, fmt='o-', capsize=5) # ecolor='gray', \n",
    "\n",
    "print(\"Plotting baseline 1...\")\n",
    "# plt.legend(loc='best',prop={'size': 10})\n",
    "plt.ylabel(\"wANNR\")\n",
    "plt.xlabel(\"dist_transPOI_penalty_unit\")\n",
    "\n",
    "print(\"End: \" + datetime.now().strftime('%Y-%m-%d %H:%M:%S'))"
   ]
  },
  {
   "cell_type": "code",
   "execution_count": 33,
   "id": "3aafeb84",
   "metadata": {},
   "outputs": [
    {
     "data": {
      "text/plain": [
       "array([[0.47164252, 0.46397663, 0.47737106, 0.47170909, 0.4883503 ,\n",
       "        0.47596198, 0.47900422, 0.47372565, 0.48358431, 0.47586229],\n",
       "       [0.47430256, 0.47430256, 0.47430256, 0.47430256, 0.47430256,\n",
       "        0.47430256, 0.47430256, 0.4661484 , 0.4661484 , 0.4661484 ],\n",
       "       [0.48433259, 0.48684914, 0.47988165, 0.47906025, 0.47717505,\n",
       "        0.48006933, 0.47450251, 0.48728306, 0.4792626 , 0.47571852],\n",
       "       [0.48358438, 0.47934043, 0.48360235, 0.48542714, 0.47952874,\n",
       "        0.48544389, 0.47872755, 0.48061644, 0.47569672, 0.48331773],\n",
       "       [0.47642912, 0.47022567, 0.47022567, 0.46199931, 0.46199931,\n",
       "        0.46199931, 0.46199931, 0.46199931, 0.46199931, 0.46199931],\n",
       "       [0.47363718, 0.45923345, 0.4597869 , 0.47966165, 0.48098355,\n",
       "        0.46250233, 0.50307994, 0.48335576, 0.45333103, 0.45807854],\n",
       "       [0.47873579, 0.4812146 , 0.47924225, 0.4814384 , 0.47819255,\n",
       "        0.47708184, 0.4784099 , 0.48598261, 0.47683679, 0.48650781],\n",
       "       [0.46408736, 0.45603546, 0.45080682, 0.48688973, 0.47126983,\n",
       "        0.45783068, 0.46063208, 0.49149614, 0.47723131, 0.45838876],\n",
       "       [0.44510053, 0.44510053, 0.45784923, 0.44653399, 0.44653399,\n",
       "        0.44653399, 0.44653399, 0.44653399, 0.44653399, 0.44653399],\n",
       "       [0.48411472, 0.4803375 , 0.48126777, 0.48037601, 0.48599521,\n",
       "        0.47838452, 0.4809077 , 0.48087582, 0.47826602, 0.47804273],\n",
       "       [0.48228401, 0.46684106, 0.4852096 , 0.48061018, 0.4601918 ,\n",
       "        0.47616823, 0.47514036, 0.47593143, 0.47740851, 0.46997463]])"
      ]
     },
     "execution_count": 33,
     "metadata": {},
     "output_type": "execute_result"
    }
   ],
   "source": [
    "max_wANNR_list_grid"
   ]
  },
  {
   "cell_type": "code",
   "execution_count": 34,
   "id": "66db0af5",
   "metadata": {},
   "outputs": [
    {
     "name": "stdout",
     "output_type": "stream",
     "text": [
      "End: 2025-07-13 03:42:47\n",
      "Plotting resulting graph...\n",
      "Plotting baseline 1...\n",
      "End: 2025-07-13 03:42:47\n"
     ]
    },
    {
     "data": {
      "image/png": "[encoded data removed]",
      "text/plain": [
       "<Figure size 432x288 with 1 Axes>"
      ]
     },
     "metadata": {
      "needs_background": "light"
     },
     "output_type": "display_data"
    }
   ],
   "source": [
    "# Plot the graphs of average rewards during testing phases of the policy\n",
    "# gradient method and the hand-crafted policies\n",
    "\n",
    "print(\"End: \" + datetime.now().strftime('%Y-%m-%d %H:%M:%S'))\n",
    "\n",
    "max_wANNR_list_grid = [np.array(avg_wANNR_max_2)[sel_index_2],\n",
    "                        np.array(avg_wANNR_max_3)[sel_index_3],\n",
    "                        np.array(avg_wANNR_max_4)[sel_index_4],\n",
    "                        np.array(avg_wANNR_max_5)[sel_index_5],\n",
    "                        np.array(avg_wANNR_max_6)[sel_index_6],\n",
    "                        np.array(avg_wANNR_max_7)[sel_index_7],\n",
    "                        np.array(avg_wANNR_max_8)[sel_index_8],\n",
    "                        np.array(avg_wANNR_max_9)[sel_index_9],\n",
    "                        np.array(avg_wANNR_max_10)[sel_index_10],\n",
    "                        np.array(avg_wANNR_max_11)[sel_index_11],\n",
    "                        np.array(avg_wANNR_max_12)[sel_index_12]]\n",
    "max_wANNR_mean_grid = []\n",
    "max_wANNR_std_grid = []\n",
    "for ii in range(len(dist_transPOI_penalty_unit_list)):\n",
    "    max_wANNR_mean_grid.append(np.mean(max_wANNR_list_grid[ii]))\n",
    "    max_wANNR_std_grid.append(np.std(max_wANNR_list_grid[ii]))\n",
    "\n",
    "print(\"Plotting resulting graph...\")\n",
    "# plt.figure(figsize = (12, 9))\n",
    "l1 = plt.errorbar(dist_transPOI_penalty_unit_list, max_wANNR_mean_grid, yerr=max_wANNR_std_grid, fmt='o-', capsize=5) # ecolor='gray', \n",
    "\n",
    "print(\"Plotting baseline 1...\")\n",
    "# plt.legend(loc='best',prop={'size': 10})\n",
    "plt.ylabel(\"wANNR\")\n",
    "plt.xlabel(\"dist_transPOI_penalty_unit\")\n",
    "\n",
    "print(\"End: \" + datetime.now().strftime('%Y-%m-%d %H:%M:%S'))"
   ]
  },
  {
   "cell_type": "code",
   "execution_count": 35,
   "id": "1995c33d",
   "metadata": {},
   "outputs": [
    {
     "name": "stdout",
     "output_type": "stream",
     "text": [
      "End: 2025-07-13 03:42:47\n",
      "Plotting resulting graph...\n",
      "Plotting baseline 1...\n",
      "End: 2025-07-13 03:42:47\n"
     ]
    },
    {
     "data": {
      "image/png": "[encoded data removed]",
      "text/plain": [
       "<Figure size 432x288 with 1 Axes>"
      ]
     },
     "metadata": {
      "needs_background": "light"
     },
     "output_type": "display_data"
    }
   ],
   "source": [
    "# Plot the graphs of average rewards during testing phases of the policy\n",
    "# gradient method and the hand-crafted policies\n",
    "\n",
    "print(\"End: \" + datetime.now().strftime('%Y-%m-%d %H:%M:%S'))\n",
    "\n",
    "max_moran_list_grid = np.array([avg_moran_max_2,\n",
    "                                avg_moran_max_3,\n",
    "                                avg_moran_max_4,\n",
    "                                avg_moran_max_5,\n",
    "                                avg_moran_max_6,\n",
    "                                avg_moran_max_7,\n",
    "                                avg_moran_max_8,\n",
    "                                avg_moran_max_9,\n",
    "                                avg_moran_max_10,\n",
    "                                avg_moran_max_11,\n",
    "                                avg_moran_max_12])\n",
    "max_moran_mean_grid = np.mean(max_moran_list_grid, axis=1)\n",
    "max_moran_std_grid = np.std(max_moran_list_grid, axis=1)\n",
    "\n",
    "print(\"Plotting resulting graph...\")\n",
    "# plt.figure(figsize = (12, 9))\n",
    "l1 = plt.errorbar(dist_transPOI_penalty_unit_list, max_moran_mean_grid, yerr=max_moran_std_grid, fmt='o-', capsize=5) # ecolor='gray', \n",
    "\n",
    "print(\"Plotting baseline 1...\")\n",
    "# plt.legend(loc='best',prop={'size': 10})\n",
    "plt.ylabel(\"Moran's I\")\n",
    "plt.xlabel(\"dist_transPOI_penalty_unit\")\n",
    "\n",
    "print(\"End: \" + datetime.now().strftime('%Y-%m-%d %H:%M:%S'))"
   ]
  },
  {
   "cell_type": "code",
   "execution_count": 36,
   "id": "c15474f8",
   "metadata": {},
   "outputs": [
    {
     "data": {
      "text/plain": [
       "array([[0.03662729, 0.03787454, 0.03772617, 0.0369309 , 0.03995744,\n",
       "        0.03819781, 0.03912607, 0.03831887, 0.03706082, 0.03737394],\n",
       "       [0.04061837, 0.04061837, 0.04061837, 0.04061837, 0.04061837,\n",
       "        0.04061837, 0.04061837, 0.03861877, 0.03861877, 0.03861877],\n",
       "       [0.03597072, 0.03777501, 0.04193765, 0.04166238, 0.04263926,\n",
       "        0.0366693 , 0.03632259, 0.03903585, 0.03873235, 0.0405228 ],\n",
       "       [0.03951931, 0.04003197, 0.04055814, 0.03920149, 0.03820985,\n",
       "        0.03931501, 0.03803882, 0.04154014, 0.03651324, 0.03784383],\n",
       "       [0.03897047, 0.0409525 , 0.0409525 , 0.0412534 , 0.0412534 ,\n",
       "        0.0412534 , 0.0412534 , 0.0412534 , 0.0412534 , 0.0412534 ],\n",
       "       [0.03886479, 0.0419368 , 0.03681146, 0.04434591, 0.04316209,\n",
       "        0.03873649, 0.05104492, 0.04539764, 0.04238595, 0.04251052],\n",
       "       [0.03720952, 0.03818398, 0.03716621, 0.03897871, 0.03784233,\n",
       "        0.03781824, 0.03829982, 0.03947516, 0.03701417, 0.03891716],\n",
       "       [0.04024845, 0.04253978, 0.03859997, 0.03866964, 0.03894347,\n",
       "        0.04112654, 0.03550237, 0.03790717, 0.04052536, 0.04124498],\n",
       "       [0.03582875, 0.03582875, 0.04516688, 0.03641469, 0.03641469,\n",
       "        0.03641469, 0.03641469, 0.03641469, 0.03641469, 0.03641469],\n",
       "       [0.03776381, 0.04124284, 0.04070108, 0.03975203, 0.04056038,\n",
       "        0.03836868, 0.03940881, 0.03751017, 0.04004919, 0.03916257],\n",
       "       [0.03878099, 0.03899357, 0.0382825 , 0.03946398, 0.0379368 ,\n",
       "        0.04206343, 0.03842871, 0.03903522, 0.0384302 , 0.03776096]])"
      ]
     },
     "execution_count": 36,
     "metadata": {},
     "output_type": "execute_result"
    }
   ],
   "source": [
    "max_moran_list_grid"
   ]
  },
  {
   "cell_type": "code",
   "execution_count": 37,
   "id": "bbec88e4",
   "metadata": {},
   "outputs": [
    {
     "name": "stdout",
     "output_type": "stream",
     "text": [
      "End: 2025-07-13 03:42:47\n",
      "Plotting resulting graph...\n",
      "Plotting baseline 1...\n",
      "End: 2025-07-13 03:42:47\n"
     ]
    },
    {
     "data": {
      "image/png": "[encoded data removed]",
      "text/plain": [
       "<Figure size 432x288 with 1 Axes>"
      ]
     },
     "metadata": {
      "needs_background": "light"
     },
     "output_type": "display_data"
    }
   ],
   "source": [
    "# Plot the graphs of average rewards during testing phases of the policy\n",
    "# gradient method and the hand-crafted policies\n",
    "\n",
    "print(\"End: \" + datetime.now().strftime('%Y-%m-%d %H:%M:%S'))\n",
    "\n",
    "max_moran_list_grid = [np.array(avg_moran_max_2)[sel_index_2],\n",
    "                        np.array(avg_moran_max_3)[sel_index_3],\n",
    "                        np.array(avg_moran_max_4)[sel_index_4],\n",
    "                        np.array(avg_moran_max_5)[sel_index_5],\n",
    "                        np.array(avg_moran_max_6)[sel_index_6],\n",
    "                        np.array(avg_moran_max_7)[sel_index_7],\n",
    "                        np.array(avg_moran_max_8)[sel_index_8],\n",
    "                        np.array(avg_moran_max_9)[sel_index_9],\n",
    "                        np.array(avg_moran_max_10)[sel_index_10],\n",
    "                        np.array(avg_moran_max_11)[sel_index_11],\n",
    "                        np.array(avg_moran_max_12)[sel_index_12]]\n",
    "max_moran_mean_grid = []\n",
    "max_moran_std_grid = []\n",
    "for ii in range(len(dist_transPOI_penalty_unit_list)):\n",
    "    max_moran_mean_grid.append(np.mean(max_moran_list_grid[ii]))\n",
    "    max_moran_std_grid.append(np.std(max_moran_list_grid[ii]))\n",
    "\n",
    "print(\"Plotting resulting graph...\")\n",
    "# plt.figure(figsize = (12, 9))\n",
    "l1 = plt.errorbar(dist_transPOI_penalty_unit_list, max_moran_mean_grid, yerr=max_moran_std_grid, fmt='o-', capsize=5) # ecolor='gray', \n",
    "\n",
    "print(\"Plotting baseline 1...\")\n",
    "# plt.legend(loc='best',prop={'size': 10})\n",
    "plt.ylabel(\"Moran's I\")\n",
    "plt.xlabel(\"dist_transPOI_penalty_unit\")\n",
    "\n",
    "print(\"End: \" + datetime.now().strftime('%Y-%m-%d %H:%M:%S'))"
   ]
  },
  {
   "cell_type": "code",
   "execution_count": 38,
   "id": "622617ec",
   "metadata": {},
   "outputs": [
    {
     "name": "stdout",
     "output_type": "stream",
     "text": [
      "End: 2025-07-13 03:42:47\n",
      "Plotting resulting graph...\n",
      "Plotting baseline 1...\n",
      "End: 2025-07-13 03:42:47\n"
     ]
    },
    {
     "data": {
      "image/png": "[encoded data removed]",
      "text/plain": [
       "<Figure size 432x288 with 1 Axes>"
      ]
     },
     "metadata": {
      "needs_background": "light"
     },
     "output_type": "display_data"
    }
   ],
   "source": [
    "# Plot the graphs of average rewards during testing phases of the policy\n",
    "# gradient method and the hand-crafted policies\n",
    "\n",
    "print(\"End: \" + datetime.now().strftime('%Y-%m-%d %H:%M:%S'))\n",
    "\n",
    "max_gini_list_grid = np.array([avg_gini_max_2,\n",
    "                                avg_gini_max_3,\n",
    "                                avg_gini_max_4,\n",
    "                                avg_gini_max_5,\n",
    "                                avg_gini_max_6,\n",
    "                                avg_gini_max_7,\n",
    "                                avg_gini_max_8,\n",
    "                                avg_gini_max_9,\n",
    "                                avg_gini_max_10,\n",
    "                                avg_gini_max_11,\n",
    "                                avg_gini_max_12])\n",
    "max_gini_mean_grid = np.mean(max_gini_list_grid, axis=1)\n",
    "max_gini_std_grid = np.std(max_gini_list_grid, axis=1)\n",
    "\n",
    "print(\"Plotting resulting graph...\")\n",
    "# plt.figure(figsize = (12, 9))\n",
    "l1 = plt.errorbar(dist_transPOI_penalty_unit_list, max_gini_mean_grid, yerr=max_gini_std_grid, fmt='o-', capsize=5) # ecolor='gray', \n",
    "\n",
    "print(\"Plotting baseline 1...\")\n",
    "# plt.legend(loc='best',prop={'size': 10})\n",
    "plt.ylabel(\"Gini index\")\n",
    "plt.xlabel(\"dist_transPOI_penalty_unit\")\n",
    "\n",
    "print(\"End: \" + datetime.now().strftime('%Y-%m-%d %H:%M:%S'))"
   ]
  },
  {
   "cell_type": "code",
   "execution_count": 39,
   "id": "b8a3ecb2",
   "metadata": {},
   "outputs": [
    {
     "data": {
      "text/plain": [
       "array([[0.94848681, 0.94479136, 0.94808291, 0.94998033, 0.94736647,\n",
       "        0.94942154, 0.94902797, 0.94998234, 0.94843647, 0.94704281],\n",
       "       [0.94303445, 0.94303445, 0.94303445, 0.94303445, 0.94303445,\n",
       "        0.94303445, 0.94303445, 0.94212578, 0.94212578, 0.94212578],\n",
       "       [0.94735876, 0.94725298, 0.9469361 , 0.94744421, 0.94674335,\n",
       "        0.94742874, 0.94394683, 0.94822361, 0.94885508, 0.94753802],\n",
       "       [0.94907318, 0.94603051, 0.94711307, 0.94775474, 0.94834847,\n",
       "        0.9473207 , 0.94970127, 0.94931867, 0.94936428, 0.94793236],\n",
       "       [0.94493855, 0.9440081 , 0.9440081 , 0.94838996, 0.94838996,\n",
       "        0.94838996, 0.94838996, 0.94838996, 0.94838996, 0.94838996],\n",
       "       [0.94660857, 0.94968562, 0.94170368, 0.93991354, 0.9402893 ,\n",
       "        0.9463706 , 0.93747271, 0.93719312, 0.94667112, 0.9465065 ],\n",
       "       [0.94702584, 0.9436592 , 0.94846467, 0.94836516, 0.94756306,\n",
       "        0.94806012, 0.94968811, 0.94694042, 0.94771319, 0.94860075],\n",
       "       [0.94509147, 0.94929565, 0.94855726, 0.94218312, 0.94697549,\n",
       "        0.94447178, 0.94645151, 0.94344573, 0.94799568, 0.94665662],\n",
       "       [0.94828949, 0.94828949, 0.94809166, 0.9551282 , 0.9551282 ,\n",
       "        0.9551282 , 0.9551282 , 0.9551282 , 0.9551282 , 0.9551282 ],\n",
       "       [0.94785214, 0.94961784, 0.94925273, 0.94737118, 0.94804272,\n",
       "        0.94934853, 0.94813099, 0.94910533, 0.94664328, 0.94637368],\n",
       "       [0.94698225, 0.95020725, 0.94655912, 0.95007936, 0.94705886,\n",
       "        0.9438657 , 0.94839411, 0.94899397, 0.94736927, 0.9462489 ]])"
      ]
     },
     "execution_count": 39,
     "metadata": {},
     "output_type": "execute_result"
    }
   ],
   "source": [
    "max_gini_list_grid"
   ]
  },
  {
   "cell_type": "code",
   "execution_count": 40,
   "id": "3331d0c3",
   "metadata": {},
   "outputs": [
    {
     "name": "stdout",
     "output_type": "stream",
     "text": [
      "End: 2025-07-13 03:42:47\n",
      "Plotting resulting graph...\n",
      "Plotting baseline 1...\n",
      "End: 2025-07-13 03:42:47\n"
     ]
    },
    {
     "data": {
      "image/png": "[encoded data removed]",
      "text/plain": [
       "<Figure size 432x288 with 1 Axes>"
      ]
     },
     "metadata": {
      "needs_background": "light"
     },
     "output_type": "display_data"
    }
   ],
   "source": [
    "# Plot the graphs of average rewards during testing phases of the policy\n",
    "# gradient method and the hand-crafted policies\n",
    "\n",
    "print(\"End: \" + datetime.now().strftime('%Y-%m-%d %H:%M:%S'))\n",
    "\n",
    "max_gini_list_grid = [np.array(avg_gini_max_2)[sel_index_2],\n",
    "                        np.array(avg_gini_max_3)[sel_index_3],\n",
    "                        np.array(avg_gini_max_4)[sel_index_4],\n",
    "                        np.array(avg_gini_max_5)[sel_index_5],\n",
    "                        np.array(avg_gini_max_6)[sel_index_6],\n",
    "                        np.array(avg_gini_max_7)[sel_index_7],\n",
    "                        np.array(avg_gini_max_8)[sel_index_8],\n",
    "                        np.array(avg_gini_max_9)[sel_index_9],\n",
    "                        np.array(avg_gini_max_10)[sel_index_10],\n",
    "                        np.array(avg_gini_max_11)[sel_index_11],\n",
    "                        np.array(avg_gini_max_12)[sel_index_12]]\n",
    "max_gini_mean_grid = []\n",
    "max_gini_std_grid = []\n",
    "for ii in range(len(dist_transPOI_penalty_unit_list)):\n",
    "    max_gini_mean_grid.append(np.mean(max_gini_list_grid[ii]))\n",
    "    max_gini_std_grid.append(np.std(max_gini_list_grid[ii]))\n",
    "\n",
    "print(\"Plotting resulting graph...\")\n",
    "# plt.figure(figsize = (12, 9))\n",
    "l1 = plt.errorbar(dist_transPOI_penalty_unit_list, max_gini_mean_grid, yerr=max_gini_std_grid, fmt='o-', capsize=5) # ecolor='gray', \n",
    "\n",
    "print(\"Plotting baseline 1...\")\n",
    "# plt.legend(loc='best',prop={'size': 10})\n",
    "plt.ylabel(\"Gini index\")\n",
    "plt.xlabel(\"dist_transPOI_penalty_unit\")\n",
    "\n",
    "print(\"End: \" + datetime.now().strftime('%Y-%m-%d %H:%M:%S'))"
   ]
  },
  {
   "cell_type": "code",
   "execution_count": 41,
   "id": "9399863c",
   "metadata": {},
   "outputs": [
    {
     "name": "stdout",
     "output_type": "stream",
     "text": [
      "End: 2025-07-13 03:42:47\n",
      "Plotting resulting graph...\n",
      "Plotting baseline 1...\n",
      "End: 2025-07-13 03:42:47\n"
     ]
    },
    {
     "data": {
      "image/png": "[encoded data removed]",
      "text/plain": [
       "<Figure size 432x288 with 1 Axes>"
      ]
     },
     "metadata": {
      "needs_background": "light"
     },
     "output_type": "display_data"
    }
   ],
   "source": [
    "# Plot the graphs of average rewards during testing phases of the policy\n",
    "# gradient method and the hand-crafted policies\n",
    "\n",
    "print(\"End: \" + datetime.now().strftime('%Y-%m-%d %H:%M:%S'))\n",
    "\n",
    "max_theil_list_grid = np.array([avg_theil_max_2,\n",
    "                                avg_theil_max_3,\n",
    "                                avg_theil_max_4,\n",
    "                                avg_theil_max_5,\n",
    "                                avg_theil_max_6,\n",
    "                                avg_theil_max_7,\n",
    "                                avg_theil_max_8,\n",
    "                                avg_theil_max_9,\n",
    "                                avg_theil_max_10,\n",
    "                                avg_theil_max_11,\n",
    "                                avg_theil_max_12])\n",
    "max_theil_mean_grid = np.mean(max_theil_list_grid, axis=1)\n",
    "max_theil_std_grid = np.std(max_theil_list_grid, axis=1)\n",
    "\n",
    "print(\"Plotting resulting graph...\")\n",
    "# plt.figure(figsize = (12, 9))\n",
    "l1 = plt.errorbar(dist_transPOI_penalty_unit_list, max_theil_mean_grid, yerr=max_theil_std_grid, fmt='o-', capsize=5) # ecolor='gray', \n",
    "\n",
    "print(\"Plotting baseline 1...\")\n",
    "# plt.legend(loc='best',prop={'size': 10})\n",
    "plt.ylabel(\"Theil index\")\n",
    "plt.xlabel(\"dist_transPOI_penalty_unit\")\n",
    "\n",
    "print(\"End: \" + datetime.now().strftime('%Y-%m-%d %H:%M:%S'))"
   ]
  },
  {
   "cell_type": "code",
   "execution_count": 42,
   "id": "18efe939",
   "metadata": {},
   "outputs": [
    {
     "data": {
      "text/plain": [
       "array([[0.20987804, 0.18528683, 0.21204798, 0.21637606, 0.22119235,\n",
       "        0.21759599, 0.22391429, 0.21064635, 0.22496301, 0.22245063],\n",
       "       [0.19347005, 0.19347005, 0.19347005, 0.19347005, 0.19347005,\n",
       "        0.19347005, 0.19347005, 0.19093516, 0.19093516, 0.19093516],\n",
       "       [0.2237939 , 0.22671758, 0.20414182, 0.20200089, 0.20473314,\n",
       "        0.21159156, 0.20345199, 0.21250734, 0.22523499, 0.19928158],\n",
       "       [0.22592601, 0.21127415, 0.2104253 , 0.21624621, 0.21394228,\n",
       "        0.22211652, 0.22272133, 0.21797288, 0.23189804, 0.22299237],\n",
       "       [0.18850611, 0.19149512, 0.19149512, 0.2043403 , 0.2043403 ,\n",
       "        0.2043403 , 0.2043403 , 0.2043403 , 0.2043403 , 0.2043403 ],\n",
       "       [0.18772624, 0.20298813, 0.19081925, 0.17256626, 0.1989504 ,\n",
       "        0.20665251, 0.18087385, 0.15519379, 0.19572378, 0.19267088],\n",
       "       [0.21169267, 0.20969097, 0.22396046, 0.2106731 , 0.20774823,\n",
       "        0.20820844, 0.22797051, 0.22078156, 0.21428408, 0.22870077],\n",
       "       [0.17436149, 0.19200895, 0.17413479, 0.20022221, 0.19613571,\n",
       "        0.19816315, 0.20746439, 0.20862947, 0.20242465, 0.18608718],\n",
       "       [0.17336095, 0.17336095, 0.19898498, 0.21852887, 0.21852887,\n",
       "        0.21852887, 0.21852887, 0.21852887, 0.21852887, 0.21852887],\n",
       "       [0.22240392, 0.21362694, 0.21555915, 0.20746662, 0.21603255,\n",
       "        0.21765404, 0.21345856, 0.22375023, 0.19925462, 0.19077736],\n",
       "       [0.21707164, 0.2190971 , 0.20163639, 0.2197873 , 0.19432796,\n",
       "        0.1754046 , 0.21758685, 0.21061066, 0.20808616, 0.20413749]])"
      ]
     },
     "execution_count": 42,
     "metadata": {},
     "output_type": "execute_result"
    }
   ],
   "source": [
    "max_theil_list_grid"
   ]
  },
  {
   "cell_type": "code",
   "execution_count": 43,
   "id": "e57faad4",
   "metadata": {
    "scrolled": true
   },
   "outputs": [
    {
     "name": "stdout",
     "output_type": "stream",
     "text": [
      "End: 2025-07-13 03:42:47\n",
      "Plotting resulting graph...\n",
      "Plotting baseline 1...\n",
      "End: 2025-07-13 03:42:47\n"
     ]
    },
    {
     "data": {
      "image/png": "[encoded data removed]",
      "text/plain": [
       "<Figure size 432x288 with 1 Axes>"
      ]
     },
     "metadata": {
      "needs_background": "light"
     },
     "output_type": "display_data"
    }
   ],
   "source": [
    "# Plot the graphs of average rewards during testing phases of the policy\n",
    "# gradient method and the hand-crafted policies\n",
    "\n",
    "print(\"End: \" + datetime.now().strftime('%Y-%m-%d %H:%M:%S'))\n",
    "\n",
    "max_theil_list_grid = [np.array(avg_theil_max_2)[sel_index_2],\n",
    "                        np.array(avg_theil_max_3)[sel_index_3],\n",
    "                        np.array(avg_theil_max_4)[sel_index_4],\n",
    "                        np.array(avg_theil_max_5)[sel_index_5],\n",
    "                        np.array(avg_theil_max_6)[sel_index_6],\n",
    "                        np.array(avg_theil_max_7)[sel_index_7],\n",
    "                        np.array(avg_theil_max_8)[sel_index_8],\n",
    "                        np.array(avg_theil_max_9)[sel_index_9],\n",
    "                        np.array(avg_theil_max_10)[sel_index_10],\n",
    "                        np.array(avg_theil_max_11)[sel_index_11],\n",
    "                        np.array(avg_theil_max_12)[sel_index_12]]\n",
    "max_theil_mean_grid = []\n",
    "max_theil_std_grid = []\n",
    "for ii in range(len(dist_transPOI_penalty_unit_list)):\n",
    "    max_theil_mean_grid.append(np.mean(max_theil_list_grid[ii]))\n",
    "    max_theil_std_grid.append(np.std(max_theil_list_grid[ii]))\n",
    "\n",
    "print(\"Plotting resulting graph...\")\n",
    "# plt.figure(figsize = (12, 9))\n",
    "l1 = plt.errorbar(dist_transPOI_penalty_unit_list, max_theil_mean_grid, yerr=max_theil_std_grid, fmt='o-', capsize=5) # ecolor='gray', \n",
    "\n",
    "print(\"Plotting baseline 1...\")\n",
    "# plt.legend(loc='best',prop={'size': 10})\n",
    "plt.ylabel(\"Theil index\")\n",
    "plt.xlabel(\"dist_transPOI_penalty_unit\")\n",
    "\n",
    "print(\"End: \" + datetime.now().strftime('%Y-%m-%d %H:%M:%S'))"
   ]
  },
  {
   "cell_type": "code",
   "execution_count": 44,
   "id": "5d0636e8",
   "metadata": {},
   "outputs": [
    {
     "name": "stdout",
     "output_type": "stream",
     "text": [
      "End: 2025-07-13 03:42:47\n",
      "Plotting resulting graph...\n",
      "Plotting baseline 1...\n",
      "End: 2025-07-13 03:42:47\n"
     ]
    },
    {
     "data": {
      "image/png": "[encoded data removed]",
      "text/plain": [
       "<Figure size 432x288 with 1 Axes>"
      ]
     },
     "metadata": {
      "needs_background": "light"
     },
     "output_type": "display_data"
    }
   ],
   "source": [
    "# Plot the graphs of average rewards during testing phases of the policy\n",
    "# gradient method and the hand-crafted policies\n",
    "\n",
    "print(\"End: \" + datetime.now().strftime('%Y-%m-%d %H:%M:%S'))\n",
    "\n",
    "max_EMD_list_grid = np.array([avg_EMD_max_2,\n",
    "                                avg_EMD_max_3,\n",
    "                                avg_EMD_max_4,\n",
    "                                avg_EMD_max_5,\n",
    "                                avg_EMD_max_6,\n",
    "                                avg_EMD_max_7,\n",
    "                                avg_EMD_max_8,\n",
    "                                avg_EMD_max_9,\n",
    "                                avg_EMD_max_10,\n",
    "                                avg_EMD_max_11,\n",
    "                                avg_EMD_max_12])\n",
    "max_EMD_mean_grid = np.mean(max_EMD_list_grid, axis=1)\n",
    "max_EMD_std_grid = np.std(max_EMD_list_grid, axis=1)\n",
    "\n",
    "print(\"Plotting resulting graph...\")\n",
    "# plt.figure(figsize = (12, 9))\n",
    "l1 = plt.errorbar(dist_transPOI_penalty_unit_list, max_EMD_mean_grid, yerr=max_EMD_std_grid, fmt='o-', capsize=5) # ecolor='gray', \n",
    "\n",
    "print(\"Plotting baseline 1...\")\n",
    "# plt.legend(loc='best',prop={'size': 10})\n",
    "plt.ylabel(\"EMD\")\n",
    "plt.xlabel(\"dist_transPOI_penalty_unit\")\n",
    "\n",
    "print(\"End: \" + datetime.now().strftime('%Y-%m-%d %H:%M:%S'))"
   ]
  },
  {
   "cell_type": "code",
   "execution_count": 45,
   "id": "88c0520f",
   "metadata": {},
   "outputs": [
    {
     "data": {
      "text/plain": [
       "array([[1.98751409, 1.93524014, 1.98096289, 2.02664629, 2.01590594,\n",
       "        2.01602415, 2.0212867 , 2.02413609, 2.00198094, 1.96545213],\n",
       "       [2.01213854, 2.01213854, 2.01213854, 2.01213854, 2.01213854,\n",
       "        2.01213854, 2.01213854, 1.95114537, 1.95114537, 1.95114537],\n",
       "       [1.95401444, 2.00393828, 2.02928016, 2.0253028 , 2.03597788,\n",
       "        1.96330615, 1.94164701, 2.00229595, 2.01291899, 1.99945697],\n",
       "       [2.00738265, 2.01704693, 2.02144671, 2.01130952, 2.00701761,\n",
       "        2.02000199, 2.02081866, 2.05633908, 2.00190091, 2.01339387],\n",
       "       [1.97169602, 1.95266581, 1.95266581, 2.09540208, 2.09540208,\n",
       "        2.09540208, 2.09540208, 2.09540208, 2.09540208, 2.09540208],\n",
       "       [1.97334687, 2.10447572, 1.90436439, 1.94000858, 1.94839347,\n",
       "        1.97758638, 2.01548982, 1.94085455, 2.0645561 , 2.07189406],\n",
       "       [1.97249551, 1.97226632, 2.02243138, 2.0104226 , 1.99129507,\n",
       "        1.99213981, 2.03247326, 2.00411362, 1.99749327, 2.01728747],\n",
       "       [1.95253998, 2.07221224, 1.94073846, 1.94819568, 1.99600577,\n",
       "        2.02045868, 1.97527138, 1.92815422, 1.99397499, 1.99953364],\n",
       "       [1.89360107, 1.89360107, 2.06573165, 2.04986201, 2.04986201,\n",
       "        2.04986201, 2.04986201, 2.04986201, 2.04986201, 2.04986201],\n",
       "       [1.97466686, 2.04882141, 2.03459616, 2.00110447, 2.0291619 ,\n",
       "        2.01266688, 2.01477479, 2.03194005, 2.00298597, 1.96606473],\n",
       "       [2.00577284, 2.05924338, 2.02328107, 2.03354911, 1.98591461,\n",
       "        1.96581467, 2.02440505, 2.00820942, 1.99252499, 2.03000213]])"
      ]
     },
     "execution_count": 45,
     "metadata": {},
     "output_type": "execute_result"
    }
   ],
   "source": [
    "max_EMD_list_grid"
   ]
  },
  {
   "cell_type": "code",
   "execution_count": 46,
   "id": "8b10664d",
   "metadata": {},
   "outputs": [
    {
     "name": "stdout",
     "output_type": "stream",
     "text": [
      "End: 2025-07-13 03:42:48\n",
      "Plotting resulting graph...\n",
      "Plotting baseline 1...\n",
      "End: 2025-07-13 03:42:48\n"
     ]
    },
    {
     "data": {
      "image/png": "[encoded data removed]",
      "text/plain": [
       "<Figure size 432x288 with 1 Axes>"
      ]
     },
     "metadata": {
      "needs_background": "light"
     },
     "output_type": "display_data"
    }
   ],
   "source": [
    "# Plot the graphs of average rewards during testing phases of the policy\n",
    "# gradient method and the hand-crafted policies\n",
    "\n",
    "print(\"End: \" + datetime.now().strftime('%Y-%m-%d %H:%M:%S'))\n",
    "\n",
    "max_EMD_list_grid = [np.array(avg_EMD_max_2)[sel_index_2],\n",
    "                        np.array(avg_EMD_max_3)[sel_index_3],\n",
    "                        np.array(avg_EMD_max_4)[sel_index_4],\n",
    "                        np.array(avg_EMD_max_5)[sel_index_5],\n",
    "                        np.array(avg_EMD_max_6)[sel_index_6],\n",
    "                        np.array(avg_EMD_max_7)[sel_index_7],\n",
    "                        np.array(avg_EMD_max_8)[sel_index_8],\n",
    "                        np.array(avg_EMD_max_9)[sel_index_9],\n",
    "                        np.array(avg_EMD_max_10)[sel_index_10],\n",
    "                        np.array(avg_EMD_max_11)[sel_index_11],\n",
    "                        np.array(avg_EMD_max_12)[sel_index_12]]\n",
    "max_EMD_mean_grid = []\n",
    "max_EMD_std_grid = []\n",
    "for ii in range(len(dist_transPOI_penalty_unit_list)):\n",
    "    max_EMD_mean_grid.append(np.mean(max_EMD_list_grid[ii]))\n",
    "    max_EMD_std_grid.append(np.std(max_EMD_list_grid[ii]))\n",
    "\n",
    "print(\"Plotting resulting graph...\")\n",
    "# plt.figure(figsize = (12, 9))\n",
    "l1 = plt.errorbar(dist_transPOI_penalty_unit_list, max_EMD_mean_grid, yerr=max_EMD_std_grid, fmt='o-', capsize=5) # ecolor='gray', \n",
    "\n",
    "print(\"Plotting baseline 1...\")\n",
    "# plt.legend(loc='best',prop={'size': 10})\n",
    "plt.ylabel(\"EMD\")\n",
    "plt.xlabel(\"dist_transPOI_penalty_unit\")\n",
    "\n",
    "print(\"End: \" + datetime.now().strftime('%Y-%m-%d %H:%M:%S'))"
   ]
  },
  {
   "cell_type": "code",
   "execution_count": 47,
   "id": "b5f1eb35",
   "metadata": {},
   "outputs": [
    {
     "name": "stdout",
     "output_type": "stream",
     "text": [
      "End: 2025-07-13 03:42:48\n",
      "Plotting resulting graph...\n",
      "Plotting baseline 1...\n",
      "End: 2025-07-13 03:42:48\n"
     ]
    },
    {
     "data": {
      "image/png": "[encoded data removed]",
      "text/plain": [
       "<Figure size 432x288 with 1 Axes>"
      ]
     },
     "metadata": {
      "needs_background": "light"
     },
     "output_type": "display_data"
    }
   ],
   "source": [
    "# Plot the graphs of average rewards during testing phases of the policy\n",
    "# gradient method and the hand-crafted policies\n",
    "\n",
    "print(\"End: \" + datetime.now().strftime('%Y-%m-%d %H:%M:%S'))\n",
    "\n",
    "max_centroid_list_grid = np.array([avg_centroid_max_2,\n",
    "                                avg_centroid_max_3,\n",
    "                                avg_centroid_max_4,\n",
    "                                avg_centroid_max_5,\n",
    "                                avg_centroid_max_6,\n",
    "                                avg_centroid_max_7,\n",
    "                                avg_centroid_max_8,\n",
    "                                avg_centroid_max_9,\n",
    "                                avg_centroid_max_10,\n",
    "                                avg_centroid_max_11,\n",
    "                                avg_centroid_max_12])\n",
    "max_centroid_mean_grid = np.mean(max_centroid_list_grid, axis=1)\n",
    "max_centroid_std_grid = np.std(max_centroid_list_grid, axis=1)\n",
    "\n",
    "print(\"Plotting resulting graph...\")\n",
    "# plt.figure(figsize = (12, 9))\n",
    "l1 = plt.errorbar(dist_transPOI_penalty_unit_list, max_centroid_mean_grid, yerr=max_centroid_std_grid, fmt='o-', capsize=5) # ecolor='gray', \n",
    "\n",
    "print(\"Plotting baseline 1...\")\n",
    "# plt.legend(loc='best',prop={'size': 10})\n",
    "plt.ylabel(\"Centroid shift\")\n",
    "plt.xlabel(\"dist_transPOI_penalty_unit\")\n",
    "\n",
    "print(\"End: \" + datetime.now().strftime('%Y-%m-%d %H:%M:%S'))"
   ]
  },
  {
   "cell_type": "code",
   "execution_count": 48,
   "id": "9e54b365",
   "metadata": {},
   "outputs": [
    {
     "data": {
      "text/plain": [
       "array([[0.93048523, 0.8753432 , 0.93349994, 0.93570934, 0.92411396,\n",
       "        0.91237829, 0.90582656, 0.91700952, 0.94767386, 0.94001667],\n",
       "       [1.07016289, 1.07016289, 1.07016289, 1.07016289, 1.07016289,\n",
       "        1.07016289, 1.07016289, 0.81508793, 0.81508793, 0.81508793],\n",
       "       [0.94176718, 0.92671779, 0.92369731, 0.92527224, 0.92649244,\n",
       "        0.95709579, 0.92939191, 0.93563285, 0.90933536, 0.90593687],\n",
       "       [0.90969504, 0.96401028, 0.92975296, 0.9194731 , 0.94570642,\n",
       "        0.9229644 , 0.93535227, 0.91396866, 0.89583403, 0.94110765],\n",
       "       [0.97053397, 1.00549766, 1.00549766, 1.00072092, 1.00072092,\n",
       "        1.00072092, 1.00072092, 1.00072092, 1.00072092, 1.00072092],\n",
       "       [0.9725678 , 0.95193856, 0.86962595, 0.84640009, 0.90629522,\n",
       "        0.90315879, 1.03027481, 0.89108819, 0.83721304, 0.93467102],\n",
       "       [0.95821804, 0.94855249, 0.93669048, 0.939921  , 0.96716796,\n",
       "        0.92904486, 0.91925393, 0.89787566, 0.93065617, 0.91664374],\n",
       "       [0.95949126, 0.95406065, 0.8595368 , 0.91584664, 0.91563088,\n",
       "        0.95462594, 1.16856979, 0.91283994, 0.83768634, 0.92116536],\n",
       "       [0.90334313, 0.90334313, 0.84224423, 0.96345696, 0.96345696,\n",
       "        0.96345696, 0.96345696, 0.96345696, 0.96345696, 0.96345696],\n",
       "       [0.93185051, 0.91038433, 0.90696382, 0.9058121 , 0.93246753,\n",
       "        0.90230652, 0.95422979, 0.95031425, 0.95457856, 0.96119889],\n",
       "       [0.93885228, 0.92240077, 0.96975797, 0.91825466, 0.93720863,\n",
       "        1.02335312, 0.93458366, 0.90711795, 0.91213689, 1.01791513]])"
      ]
     },
     "execution_count": 48,
     "metadata": {},
     "output_type": "execute_result"
    }
   ],
   "source": [
    "max_centroid_list_grid"
   ]
  },
  {
   "cell_type": "code",
   "execution_count": 49,
   "id": "5deb1d7c",
   "metadata": {},
   "outputs": [
    {
     "name": "stdout",
     "output_type": "stream",
     "text": [
      "End: 2025-07-13 03:42:48\n",
      "Plotting resulting graph...\n",
      "Plotting baseline 1...\n",
      "End: 2025-07-13 03:42:48\n"
     ]
    },
    {
     "data": {
      "image/png": "[encoded data removed]",
      "text/plain": [
       "<Figure size 432x288 with 1 Axes>"
      ]
     },
     "metadata": {
      "needs_background": "light"
     },
     "output_type": "display_data"
    }
   ],
   "source": [
    "# Plot the graphs of average rewards during testing phases of the policy\n",
    "# gradient method and the hand-crafted policies\n",
    "\n",
    "print(\"End: \" + datetime.now().strftime('%Y-%m-%d %H:%M:%S'))\n",
    "\n",
    "max_centroid_list_grid = [np.array(avg_centroid_max_2)[sel_index_2],\n",
    "                        np.array(avg_centroid_max_3)[sel_index_3],\n",
    "                        np.array(avg_centroid_max_4)[sel_index_4],\n",
    "                        np.array(avg_centroid_max_5)[sel_index_5],\n",
    "                        np.array(avg_centroid_max_6)[sel_index_6],\n",
    "                        np.array(avg_centroid_max_7)[sel_index_7],\n",
    "                        np.array(avg_centroid_max_8)[sel_index_8],\n",
    "                        np.array(avg_centroid_max_9)[sel_index_9],\n",
    "                        np.array(avg_centroid_max_10)[sel_index_10],\n",
    "                        np.array(avg_centroid_max_11)[sel_index_11],\n",
    "                        np.array(avg_centroid_max_12)[sel_index_12]]\n",
    "max_centroid_mean_grid = []\n",
    "max_centroid_std_grid = []\n",
    "for ii in range(len(dist_transPOI_penalty_unit_list)):\n",
    "    max_centroid_mean_grid.append(np.mean(max_centroid_list_grid[ii]))\n",
    "    max_centroid_std_grid.append(np.std(max_centroid_list_grid[ii]))\n",
    "\n",
    "print(\"Plotting resulting graph...\")\n",
    "# plt.figure(figsize = (12, 9))\n",
    "l1 = plt.errorbar(dist_transPOI_penalty_unit_list, max_centroid_mean_grid, yerr=max_centroid_std_grid, fmt='o-', capsize=5) # ecolor='gray', \n",
    "\n",
    "print(\"Plotting baseline 1...\")\n",
    "# plt.legend(loc='best',prop={'size': 10})\n",
    "plt.ylabel(\"Centroid shift\")\n",
    "plt.xlabel(\"dist_transPOI_penalty_unit\")\n",
    "\n",
    "print(\"End: \" + datetime.now().strftime('%Y-%m-%d %H:%M:%S'))"
   ]
  },
  {
   "cell_type": "code",
   "execution_count": 50,
   "id": "21e988a6",
   "metadata": {},
   "outputs": [
    {
     "name": "stdout",
     "output_type": "stream",
     "text": [
      "End: 2025-07-13 03:42:48\n",
      "Plotting resulting graph...\n",
      "Plotting baseline 1...\n",
      "End: 2025-07-13 03:42:48\n"
     ]
    },
    {
     "data": {
      "image/png": "[encoded data removed]",
      "text/plain": [
       "<Figure size 432x288 with 1 Axes>"
      ]
     },
     "metadata": {
      "needs_background": "light"
     },
     "output_type": "display_data"
    }
   ],
   "source": [
    "# Plot the graphs of average rewards during testing phases of the policy\n",
    "# gradient method and the hand-crafted policies\n",
    "\n",
    "print(\"End: \" + datetime.now().strftime('%Y-%m-%d %H:%M:%S'))\n",
    "\n",
    "max_dispersion_list_grid = np.array([avg_dispersion_max_2,\n",
    "                                avg_dispersion_max_3,\n",
    "                                avg_dispersion_max_4,\n",
    "                                avg_dispersion_max_5,\n",
    "                                avg_dispersion_max_6,\n",
    "                                avg_dispersion_max_7,\n",
    "                                avg_dispersion_max_8,\n",
    "                                avg_dispersion_max_9,\n",
    "                                avg_dispersion_max_10,\n",
    "                                avg_dispersion_max_11,\n",
    "                                avg_dispersion_max_12])\n",
    "max_dispersion_mean_grid = np.mean(max_dispersion_list_grid, axis=1)\n",
    "max_dispersion_std_grid = np.std(max_dispersion_list_grid, axis=1)\n",
    "\n",
    "print(\"Plotting resulting graph...\")\n",
    "# plt.figure(figsize = (12, 9))\n",
    "l1 = plt.errorbar(dist_transPOI_penalty_unit_list, max_dispersion_mean_grid, yerr=max_dispersion_std_grid, fmt='o-', capsize=5) # ecolor='gray', \n",
    "\n",
    "print(\"Plotting baseline 1...\")\n",
    "# plt.legend(loc='best',prop={'size': 10})\n",
    "plt.ylabel(\"Dispersion shift\")\n",
    "plt.xlabel(\"dist_transPOI_penalty_unit\")\n",
    "\n",
    "print(\"End: \" + datetime.now().strftime('%Y-%m-%d %H:%M:%S'))"
   ]
  },
  {
   "cell_type": "code",
   "execution_count": 51,
   "id": "54f7cb21",
   "metadata": {},
   "outputs": [
    {
     "data": {
      "text/plain": [
       "array([[-1.72216354, -1.64920733, -1.70733752, -1.77644318, -1.74492456,\n",
       "        -1.75698769, -1.74869476, -1.75678858, -1.72108892, -1.70249333],\n",
       "       [-1.76926438, -1.76926438, -1.76926438, -1.76926438, -1.76926438,\n",
       "        -1.76926438, -1.76926438, -1.69780608, -1.69780608, -1.69780608],\n",
       "       [-1.66428347, -1.72372744, -1.76534918, -1.75629833, -1.76290928,\n",
       "        -1.6704632 , -1.68160928, -1.72620676, -1.72705582, -1.73783801],\n",
       "       [-1.71184576, -1.75907946, -1.75466785, -1.73810281, -1.73075661,\n",
       "        -1.74545078, -1.74252159, -1.78667785, -1.71354188, -1.74150951],\n",
       "       [-1.70549762, -1.67582474, -1.67582474, -1.91027013, -1.91027013,\n",
       "        -1.91027013, -1.91027013, -1.91027013, -1.91027013, -1.91027013],\n",
       "       [-1.67887836, -1.92617596, -1.66768427, -1.71765851, -1.72348127,\n",
       "        -1.72402889, -1.78224615, -1.74046667, -1.89625622, -1.84020135],\n",
       "       [-1.69384554, -1.68164606, -1.76679823, -1.73705189, -1.71238744,\n",
       "        -1.71460871, -1.75850317, -1.7291468 , -1.70758791, -1.73413494],\n",
       "       [-1.66737059, -1.80080316, -1.63033969, -1.65298775, -1.74573671,\n",
       "        -1.81646577, -1.7106801 , -1.73845527, -1.76307716, -1.78944767],\n",
       "       [-1.64646561, -1.64646561, -1.8466332 , -1.82926584, -1.82926584,\n",
       "        -1.82926584, -1.82926584, -1.82926584, -1.82926584, -1.82926584],\n",
       "       [-1.68275642, -1.78034898, -1.7624724 , -1.73775227, -1.75357759,\n",
       "        -1.75428102, -1.73831048, -1.76601234, -1.72776549, -1.69053887],\n",
       "       [-1.73693905, -1.78634352, -1.82480423, -1.75815846, -1.70637576,\n",
       "        -1.7240268 , -1.75832923, -1.7316289 , -1.71927859, -1.79771277]])"
      ]
     },
     "execution_count": 51,
     "metadata": {},
     "output_type": "execute_result"
    }
   ],
   "source": [
    "max_dispersion_list_grid"
   ]
  },
  {
   "cell_type": "code",
   "execution_count": 52,
   "id": "e7eadbf8",
   "metadata": {},
   "outputs": [
    {
     "name": "stdout",
     "output_type": "stream",
     "text": [
      "End: 2025-07-13 03:42:48\n",
      "Plotting resulting graph...\n",
      "Plotting baseline 1...\n",
      "End: 2025-07-13 03:42:48\n"
     ]
    },
    {
     "data": {
      "image/png": "[encoded data removed]",
      "text/plain": [
       "<Figure size 432x288 with 1 Axes>"
      ]
     },
     "metadata": {
      "needs_background": "light"
     },
     "output_type": "display_data"
    }
   ],
   "source": [
    "# Plot the graphs of average rewards during testing phases of the policy\n",
    "# gradient method and the hand-crafted policies\n",
    "\n",
    "print(\"End: \" + datetime.now().strftime('%Y-%m-%d %H:%M:%S'))\n",
    "\n",
    "max_dispersion_list_grid = [np.array(avg_dispersion_max_2)[sel_index_2],\n",
    "                        np.array(avg_dispersion_max_3)[sel_index_3],\n",
    "                        np.array(avg_dispersion_max_4)[sel_index_4],\n",
    "                        np.array(avg_dispersion_max_5)[sel_index_5],\n",
    "                        np.array(avg_dispersion_max_6)[sel_index_6],\n",
    "                        np.array(avg_dispersion_max_7)[sel_index_7],\n",
    "                        np.array(avg_dispersion_max_8)[sel_index_8],\n",
    "                        np.array(avg_dispersion_max_9)[sel_index_9],\n",
    "                        np.array(avg_dispersion_max_10)[sel_index_10],\n",
    "                        np.array(avg_dispersion_max_11)[sel_index_11],\n",
    "                        np.array(avg_dispersion_max_12)[sel_index_12]]\n",
    "max_dispersion_mean_grid = []\n",
    "max_dispersion_std_grid = []\n",
    "for ii in range(len(dist_transPOI_penalty_unit_list)):\n",
    "    max_dispersion_mean_grid.append(np.mean(max_dispersion_list_grid[ii]))\n",
    "    max_dispersion_std_grid.append(np.std(max_dispersion_list_grid[ii]))\n",
    "\n",
    "print(\"Plotting resulting graph...\")\n",
    "# plt.figure(figsize = (12, 9))\n",
    "l1 = plt.errorbar(dist_transPOI_penalty_unit_list, max_dispersion_mean_grid, yerr=max_dispersion_std_grid, fmt='o-', capsize=5) # ecolor='gray', \n",
    "\n",
    "print(\"Plotting baseline 1...\")\n",
    "# plt.legend(loc='best',prop={'size': 10})\n",
    "plt.ylabel(\"Dispersion shift\")\n",
    "plt.xlabel(\"dist_transPOI_penalty_unit\")\n",
    "\n",
    "print(\"End: \" + datetime.now().strftime('%Y-%m-%d %H:%M:%S'))"
   ]
  },
  {
   "cell_type": "code",
   "execution_count": 53,
   "id": "3462e67e",
   "metadata": {},
   "outputs": [
    {
     "name": "stdout",
     "output_type": "stream",
     "text": [
      "End: 2025-07-13 03:42:48\n",
      "Plotting resulting graph...\n",
      "Plotting baseline 1...\n",
      "End: 2025-07-13 03:42:48\n"
     ]
    },
    {
     "data": {
      "image/png": "[encoded data removed]",
      "text/plain": [
       "<Figure size 432x288 with 1 Axes>"
      ]
     },
     "metadata": {
      "needs_background": "light"
     },
     "output_type": "display_data"
    }
   ],
   "source": [
    "# Plot the graphs of average rewards during testing phases of the policy\n",
    "# gradient method and the hand-crafted policies\n",
    "\n",
    "print(\"End: \" + datetime.now().strftime('%Y-%m-%d %H:%M:%S'))\n",
    "\n",
    "max_kl_list_grid = np.array([avg_kl_max_2,\n",
    "                                avg_kl_max_3,\n",
    "                                avg_kl_max_4,\n",
    "                                avg_kl_max_5,\n",
    "                                avg_kl_max_6,\n",
    "                                avg_kl_max_7,\n",
    "                                avg_kl_max_8,\n",
    "                                avg_kl_max_9,\n",
    "                                avg_kl_max_10,\n",
    "                                avg_kl_max_11,\n",
    "                                avg_kl_max_12])\n",
    "max_kl_mean_grid = np.mean(max_kl_list_grid, axis=1)\n",
    "max_kl_std_grid = np.std(max_kl_list_grid, axis=1)\n",
    "\n",
    "print(\"Plotting resulting graph...\")\n",
    "# plt.figure(figsize = (12, 9))\n",
    "l1 = plt.errorbar(dist_transPOI_penalty_unit_list, max_kl_mean_grid, yerr=max_kl_std_grid, fmt='o-', capsize=5) # ecolor='gray', \n",
    "\n",
    "print(\"Plotting baseline 1...\")\n",
    "# plt.legend(loc='best',prop={'size': 10})\n",
    "plt.ylabel(\"KL divergence\")\n",
    "plt.xlabel(\"dist_transPOI_penalty_unit\")\n",
    "\n",
    "print(\"End: \" + datetime.now().strftime('%Y-%m-%d %H:%M:%S'))"
   ]
  },
  {
   "cell_type": "code",
   "execution_count": 54,
   "id": "de88d769",
   "metadata": {},
   "outputs": [
    {
     "data": {
      "text/plain": [
       "array([[0.85353463, 0.90131431, 0.85023566, 0.84828408, 0.83174694,\n",
       "        0.83990849, 0.82214841, 0.81617478, 0.84536486, 0.78024579],\n",
       "       [0.77119695, 0.77119695, 0.77119695, 0.77119695, 0.77119695,\n",
       "        0.77119695, 0.77119695, 0.92205311, 0.92205311, 0.92205311],\n",
       "       [0.84256005, 0.84793652, 0.82301683, 0.80911068, 0.84511398,\n",
       "        0.86148514, 0.83911243, 0.84007544, 0.83630655, 0.87647393],\n",
       "       [0.82385803, 0.80754082, 0.81982887, 0.81176229, 0.83230393,\n",
       "        0.80759289, 0.83455054, 0.80106897, 0.84889977, 0.85156278],\n",
       "       [0.82779032, 0.86580447, 0.86580447, 0.72905486, 0.72905486,\n",
       "        0.72905486, 0.72905486, 0.72905486, 0.72905486, 0.72905486],\n",
       "       [0.87125592, 0.70872092, 0.84084704, 0.8165734 , 0.87339343,\n",
       "        0.8088688 , 0.76280567, 0.8418955 , 0.77186446, 0.81859215],\n",
       "       [0.85044739, 0.85565795, 0.83352248, 0.81983087, 0.83244453,\n",
       "        0.82340383, 0.83574691, 0.83622444, 0.85717816, 0.82944596],\n",
       "       [0.85832462, 0.78118658, 0.80594111, 0.81119974, 0.80768179,\n",
       "        0.88736059, 0.80605403, 0.81922099, 0.66156357, 0.81119858],\n",
       "       [0.85397897, 0.85397897, 0.8824275 , 0.82453345, 0.82453345,\n",
       "        0.82453345, 0.82453345, 0.82453345, 0.82453345, 0.82453345],\n",
       "       [0.84222855, 0.81276658, 0.83640014, 0.83278814, 0.82470348,\n",
       "        0.81961945, 0.82457675, 0.82652485, 0.82529903, 0.82390409],\n",
       "       [0.78110793, 0.80752662, 0.78643828, 0.84050839, 0.79383607,\n",
       "        0.75586348, 0.86867632, 0.85323693, 0.82155838, 0.76477312]])"
      ]
     },
     "execution_count": 54,
     "metadata": {},
     "output_type": "execute_result"
    }
   ],
   "source": [
    "max_kl_list_grid"
   ]
  },
  {
   "cell_type": "code",
   "execution_count": 55,
   "id": "5c7576f9",
   "metadata": {},
   "outputs": [
    {
     "name": "stdout",
     "output_type": "stream",
     "text": [
      "End: 2025-07-13 03:42:48\n",
      "Plotting resulting graph...\n",
      "Plotting baseline 1...\n",
      "End: 2025-07-13 03:42:48\n"
     ]
    },
    {
     "data": {
      "image/png": "[encoded data removed]",
      "text/plain": [
       "<Figure size 432x288 with 1 Axes>"
      ]
     },
     "metadata": {
      "needs_background": "light"
     },
     "output_type": "display_data"
    }
   ],
   "source": [
    "# Plot the graphs of average rewards during testing phases of the policy\n",
    "# gradient method and the hand-crafted policies\n",
    "\n",
    "print(\"End: \" + datetime.now().strftime('%Y-%m-%d %H:%M:%S'))\n",
    "\n",
    "max_kl_list_grid = [np.array(avg_kl_max_2)[sel_index_2],\n",
    "                        np.array(avg_kl_max_3)[sel_index_3],\n",
    "                        np.array(avg_kl_max_4)[sel_index_4],\n",
    "                        np.array(avg_kl_max_5)[sel_index_5],\n",
    "                        np.array(avg_kl_max_6)[sel_index_6],\n",
    "                        np.array(avg_kl_max_7)[sel_index_7],\n",
    "                        np.array(avg_kl_max_8)[sel_index_8],\n",
    "                        np.array(avg_kl_max_9)[sel_index_9],\n",
    "                        np.array(avg_kl_max_10)[sel_index_10],\n",
    "                        np.array(avg_kl_max_11)[sel_index_11],\n",
    "                        np.array(avg_kl_max_12)[sel_index_12]]\n",
    "max_kl_mean_grid = []\n",
    "max_kl_std_grid = []\n",
    "for ii in range(len(dist_transPOI_penalty_unit_list)):\n",
    "    max_kl_mean_grid.append(np.mean(max_kl_list_grid[ii]))\n",
    "    max_kl_std_grid.append(np.std(max_kl_list_grid[ii]))\n",
    "\n",
    "print(\"Plotting resulting graph...\")\n",
    "# plt.figure(figsize = (12, 9))\n",
    "l1 = plt.errorbar(dist_transPOI_penalty_unit_list, max_kl_mean_grid, yerr=max_kl_std_grid, fmt='o-', capsize=5) # ecolor='gray', \n",
    "\n",
    "print(\"Plotting baseline 1...\")\n",
    "# plt.legend(loc='best',prop={'size': 10})\n",
    "plt.ylabel(\"KL divergence\")\n",
    "plt.xlabel(\"dist_transPOI_penalty_unit\")\n",
    "\n",
    "print(\"End: \" + datetime.now().strftime('%Y-%m-%d %H:%M:%S'))"
   ]
  },
  {
   "cell_type": "code",
   "execution_count": null,
   "id": "c153d57c",
   "metadata": {},
   "outputs": [],
   "source": []
  }
 ],
 "metadata": {
  "kernelspec": {
   "display_name": "Python 3 (ipykernel)",
   "language": "python",
   "name": "python3"
  },
  "language_info": {
   "codemirror_mode": {
    "name": "ipython",
    "version": 3
   },
   "file_extension": ".py",
   "mimetype": "text/x-python",
   "name": "python",
   "nbconvert_exporter": "python",
   "pygments_lexer": "ipython3",
   "version": "3.9.12"
  }
 },
 "nbformat": 4,
 "nbformat_minor": 5
}

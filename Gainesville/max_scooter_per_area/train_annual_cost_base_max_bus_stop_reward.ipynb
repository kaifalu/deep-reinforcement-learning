{
 "cells": [
  {
   "cell_type": "markdown",
   "id": "203270d1",
   "metadata": {},
   "source": [
    "### Import"
   ]
  },
  {
   "cell_type": "code",
   "execution_count": 1,
   "id": "3f4333d3",
   "metadata": {},
   "outputs": [
    {
     "name": "stdout",
     "output_type": "stream",
     "text": [
      "Start: 2025-07-13 13:09:38\n"
     ]
    }
   ],
   "source": [
    "import sys\n",
    "import os\n",
    "import matplotlib.pyplot as plt\n",
    "from datetime import datetime, timedelta\n",
    "import pandas as pd\n",
    "import geopandas as gpd\n",
    "import numpy as np\n",
    "import matplotlib.pyplot as plt\n",
    "from shapely.geometry import Point, shape\n",
    "import seaborn as sns\n",
    "import random\n",
    "from mpl_toolkits.axes_grid1 import make_axes_locatable\n",
    "# import datetime\n",
    "\n",
    "sys.path.insert(0, '../..')\n",
    "\n",
    "print(\"Start: \" + datetime.now().strftime('%Y-%m-%d %H:%M:%S'))\n",
    "\n",
    "from network_v12_13_max import *\n",
    "from helper_v12_13_max import *"
   ]
  },
  {
   "cell_type": "markdown",
   "id": "a0dd7f1e",
   "metadata": {},
   "source": [
    "### Initialization"
   ]
  },
  {
   "cell_type": "markdown",
   "id": "ac6bac25",
   "metadata": {},
   "source": [
    "#### define agent and gnv boundary"
   ]
  },
  {
   "cell_type": "code",
   "execution_count": 2,
   "id": "f7d075cd",
   "metadata": {},
   "outputs": [
    {
     "data": {
      "text/html": [
       "<div>\n",
       "<style scoped>\n",
       "    .dataframe tbody tr th:only-of-type {\n",
       "        vertical-align: middle;\n",
       "    }\n",
       "\n",
       "    .dataframe tbody tr th {\n",
       "        vertical-align: top;\n",
       "    }\n",
       "\n",
       "    .dataframe thead th {\n",
       "        text-align: right;\n",
       "    }\n",
       "</style>\n",
       "<table border=\"1\" class=\"dataframe\">\n",
       "  <thead>\n",
       "    <tr style=\"text-align: right;\">\n",
       "      <th></th>\n",
       "      <th>level_0</th>\n",
       "      <th>index</th>\n",
       "      <th>latitude</th>\n",
       "      <th>longitude</th>\n",
       "      <th>departure_rate</th>\n",
       "      <th>arrival_rate</th>\n",
       "      <th>dist_transPOI</th>\n",
       "      <th>num_transPOI</th>\n",
       "      <th>dist_bus_stop</th>\n",
       "      <th>num_bus_stop</th>\n",
       "      <th>rider_test_list</th>\n",
       "      <th>geometry</th>\n",
       "    </tr>\n",
       "  </thead>\n",
       "  <tbody>\n",
       "    <tr>\n",
       "      <th>0</th>\n",
       "      <td>0</td>\n",
       "      <td>29</td>\n",
       "      <td>29.658570</td>\n",
       "      <td>-82.415016</td>\n",
       "      <td>0.022484</td>\n",
       "      <td>0.038544</td>\n",
       "      <td>0.081538</td>\n",
       "      <td>1.0</td>\n",
       "      <td>0.030854</td>\n",
       "      <td>1.0</td>\n",
       "      <td>0</td>\n",
       "      <td>POINT (-82.41501609853275 29.65857013179353)</td>\n",
       "    </tr>\n",
       "    <tr>\n",
       "      <th>1</th>\n",
       "      <td>1</td>\n",
       "      <td>30</td>\n",
       "      <td>29.660371</td>\n",
       "      <td>-82.414990</td>\n",
       "      <td>0.002141</td>\n",
       "      <td>0.005353</td>\n",
       "      <td>1.000000</td>\n",
       "      <td>0.0</td>\n",
       "      <td>1.000000</td>\n",
       "      <td>0.0</td>\n",
       "      <td>0</td>\n",
       "      <td>POINT (-82.4149895039865 29.660371378494247)</td>\n",
       "    </tr>\n",
       "    <tr>\n",
       "      <th>2</th>\n",
       "      <td>2</td>\n",
       "      <td>47</td>\n",
       "      <td>29.654944</td>\n",
       "      <td>-82.413000</td>\n",
       "      <td>0.001071</td>\n",
       "      <td>0.002141</td>\n",
       "      <td>1.000000</td>\n",
       "      <td>0.0</td>\n",
       "      <td>1.000000</td>\n",
       "      <td>0.0</td>\n",
       "      <td>0</td>\n",
       "      <td>POINT (-82.41300040184892 29.654944475167262)</td>\n",
       "    </tr>\n",
       "    <tr>\n",
       "      <th>3</th>\n",
       "      <td>3</td>\n",
       "      <td>48</td>\n",
       "      <td>29.656746</td>\n",
       "      <td>-82.412974</td>\n",
       "      <td>0.004283</td>\n",
       "      <td>0.008565</td>\n",
       "      <td>1.000000</td>\n",
       "      <td>0.0</td>\n",
       "      <td>1.000000</td>\n",
       "      <td>0.0</td>\n",
       "      <td>0</td>\n",
       "      <td>POINT (-82.41297377438231 29.65674571873145)</td>\n",
       "    </tr>\n",
       "    <tr>\n",
       "      <th>4</th>\n",
       "      <td>4</td>\n",
       "      <td>49</td>\n",
       "      <td>29.658547</td>\n",
       "      <td>-82.412947</td>\n",
       "      <td>0.078158</td>\n",
       "      <td>0.100642</td>\n",
       "      <td>1.000000</td>\n",
       "      <td>0.0</td>\n",
       "      <td>1.000000</td>\n",
       "      <td>0.0</td>\n",
       "      <td>1</td>\n",
       "      <td>POINT (-82.41294714602218 29.6585469636598)</td>\n",
       "    </tr>\n",
       "  </tbody>\n",
       "</table>\n",
       "</div>"
      ],
      "text/plain": [
       "   level_0  index   latitude  longitude  departure_rate  arrival_rate  \\\n",
       "0        0     29  29.658570 -82.415016        0.022484      0.038544   \n",
       "1        1     30  29.660371 -82.414990        0.002141      0.005353   \n",
       "2        2     47  29.654944 -82.413000        0.001071      0.002141   \n",
       "3        3     48  29.656746 -82.412974        0.004283      0.008565   \n",
       "4        4     49  29.658547 -82.412947        0.078158      0.100642   \n",
       "\n",
       "   dist_transPOI  num_transPOI  dist_bus_stop  num_bus_stop  rider_test_list  \\\n",
       "0       0.081538           1.0       0.030854           1.0                0   \n",
       "1       1.000000           0.0       1.000000           0.0                0   \n",
       "2       1.000000           0.0       1.000000           0.0                0   \n",
       "3       1.000000           0.0       1.000000           0.0                0   \n",
       "4       1.000000           0.0       1.000000           0.0                1   \n",
       "\n",
       "                                        geometry  \n",
       "0   POINT (-82.41501609853275 29.65857013179353)  \n",
       "1   POINT (-82.4149895039865 29.660371378494247)  \n",
       "2  POINT (-82.41300040184892 29.654944475167262)  \n",
       "3   POINT (-82.41297377438231 29.65674571873145)  \n",
       "4    POINT (-82.41294714602218 29.6585469636598)  "
      ]
     },
     "execution_count": 2,
     "metadata": {},
     "output_type": "execute_result"
    }
   ],
   "source": [
    "fl_city_boundary = gpd.read_file('Map/fl_city_boundary.shp')\n",
    "Gainesville_boundary = fl_city_boundary.loc[fl_city_boundary['NAME'] == 'GAINESVILLE'].reset_index(drop=True)\n",
    "Gainesville_boundary['geometry'] = Gainesville_boundary['geometry'].to_crs('epsg:4326')\n",
    "\n",
    "grid_centroid_gdf = pd.read_csv('grid_centroid_gdf.csv')\n",
    "grid_centroid_gdf = grid_centroid_gdf.drop(columns = {'geometry'}, axis = 1)\n",
    "grid_centroid_gdf['geometry'] = grid_centroid_gdf[['longitude', 'latitude']].values.tolist()\n",
    "grid_centroid_gdf['geometry'] = grid_centroid_gdf['geometry'].apply(Point)\n",
    "\n",
    "grid_centroid_gdf = grid_centroid_gdf.loc[grid_centroid_gdf['departure_rate'] > 0].reset_index()\n",
    "\n",
    "grid_centroid_gdf.head()"
   ]
  },
  {
   "cell_type": "markdown",
   "id": "eb76019d",
   "metadata": {},
   "source": [
    "#### scooter-sharing system configure"
   ]
  },
  {
   "cell_type": "code",
   "execution_count": 3,
   "id": "380e0ff5",
   "metadata": {},
   "outputs": [],
   "source": [
    "service_areas = [] # replace stations\n",
    "for i in range (len(grid_centroid_gdf)):\n",
    "    service_areas.append((i, grid_centroid_gdf.geometry.iloc[i], grid_centroid_gdf.departure_rate.iloc[i], grid_centroid_gdf.arrival_rate.iloc[i], grid_centroid_gdf.dist_bus_stop.iloc[i], grid_centroid_gdf.num_bus_stop.iloc[i]))\n",
    "\n",
    "# Parameter setups for the reward system and elements of the environment.\n",
    "docked_cost_per_deploy = 50/365 # each dock cost 500\n",
    "scooter_cost_per_deploy = 25/365 # each scooter 250\n",
    "no_scooter_penalty = 0.5 # 0.5\n",
    "reward_per_rider = 0.2 # 0.2\n",
    "max_scooter_per_area = 8\n",
    "nS = len(service_areas)\n",
    "equity_penalty = 100.0\n",
    "logistics_car_cost_per_mile = 1.0\n",
    "\n",
    "# reward_num_transPOI = 0.01\n",
    "penalty_dist_transPOI = 0.1\n",
    "\n",
    "# dist_transPOI_penalty = 0.5\n",
    "# low_usage_penalty = 1\n",
    "# dist_bus_stop_penalty = 0.2\n",
    "# reward_bus_scooter_coverage = 0.2"
   ]
  },
  {
   "cell_type": "markdown",
   "id": "09b4e97b",
   "metadata": {},
   "source": [
    "#### RL model configure"
   ]
  },
  {
   "cell_type": "code",
   "execution_count": 4,
   "id": "09e74ce5",
   "metadata": {},
   "outputs": [],
   "source": [
    "# Parameter setups for the network and training process.\n",
    "learning_rate = 0.01\n",
    "n_iters = 25\n",
    "n_epochs = 500 # 2000\n",
    "display_step = 50 # 50\n",
    "batch_size = 256\n",
    "gamma = 0.9\n",
    "\n",
    "# The size of the state vector.\n",
    "nS = len(service_areas) # the number of service areas"
   ]
  },
  {
   "cell_type": "markdown",
   "id": "2ce3bd64",
   "metadata": {},
   "source": [
    "## reward_num_transPOI = 0.0"
   ]
  },
  {
   "cell_type": "code",
   "execution_count": 199,
   "id": "59b3076c",
   "metadata": {},
   "outputs": [
    {
     "name": "stdout",
     "output_type": "stream",
     "text": [
      "Starting policy gradient...\n",
      "Training in progress...\n",
      "Epoch 50, Average reward, unmet demand, met demand, scooter num, scooter loc, gini index unmet, gini index met, wANNR, moran, gini, theil, EMD, centroid change, dispersion change, kl divergence = -117.425, 28.400, 162.600, 178.000, 104.600, 0.989, 0.954, 0.477, 0.037, 0.948, 0.212, 1.987, 0.929, -1.699, 0.834\n",
      "Epoch 100, Average reward, unmet demand, met demand, scooter num, scooter loc, gini index unmet, gini index met, wANNR, moran, gini, theil, EMD, centroid change, dispersion change, kl divergence = -116.448, 25.400, 165.600, 184.800, 108.400, 0.990, 0.955, 0.486, 0.037, 0.947, 0.225, 1.999, 0.920, -1.723, 0.844\n",
      "Epoch 150, Average reward, unmet demand, met demand, scooter num, scooter loc, gini index unmet, gini index met, wANNR, moran, gini, theil, EMD, centroid change, dispersion change, kl divergence = -116.223, 25.400, 165.600, 183.000, 106.400, 0.990, 0.955, 0.484, 0.037, 0.948, 0.225, 2.003, 0.916, -1.740, 0.825\n",
      "Epoch 200, Average reward, unmet demand, met demand, scooter num, scooter loc, gini index unmet, gini index met, wANNR, moran, gini, theil, EMD, centroid change, dispersion change, kl divergence = -116.833, 26.600, 164.400, 181.600, 105.600, 0.990, 0.955, 0.482, 0.036, 0.949, 0.227, 1.991, 0.930, -1.715, 0.832\n",
      "Epoch 250, Average reward, unmet demand, met demand, scooter num, scooter loc, gini index unmet, gini index met, wANNR, moran, gini, theil, EMD, centroid change, dispersion change, kl divergence = -119.701, 32.000, 159.000, 176.600, 104.000, 0.988, 0.955, 0.475, 0.038, 0.949, 0.217, 2.015, 0.918, -1.737, 0.841\n",
      "Epoch 300, Average reward, unmet demand, met demand, scooter num, scooter loc, gini index unmet, gini index met, wANNR, moran, gini, theil, EMD, centroid change, dispersion change, kl divergence = -117.979, 28.000, 163.000, 182.200, 105.000, 0.989, 0.955, 0.482, 0.039, 0.949, 0.222, 2.032, 0.939, -1.762, 0.829\n",
      "Epoch 350, Average reward, unmet demand, met demand, scooter num, scooter loc, gini index unmet, gini index met, wANNR, moran, gini, theil, EMD, centroid change, dispersion change, kl divergence = -119.357, 32.000, 159.000, 175.000, 104.200, 0.989, 0.954, 0.473, 0.036, 0.948, 0.208, 1.969, 0.945, -1.695, 0.840\n",
      "Epoch 400, Average reward, unmet demand, met demand, scooter num, scooter loc, gini index unmet, gini index met, wANNR, moran, gini, theil, EMD, centroid change, dispersion change, kl divergence = -117.657, 28.200, 162.800, 179.600, 104.000, 0.989, 0.955, 0.479, 0.038, 0.949, 0.225, 2.019, 0.922, -1.750, 0.824\n",
      "Epoch 450, Average reward, unmet demand, met demand, scooter num, scooter loc, gini index unmet, gini index met, wANNR, moran, gini, theil, EMD, centroid change, dispersion change, kl divergence = -117.167, 26.200, 164.800, 184.800, 106.200, 0.989, 0.955, 0.486, 0.039, 0.949, 0.230, 2.021, 0.941, -1.749, 0.819\n",
      "Epoch 500, Average reward, unmet demand, met demand, scooter num, scooter loc, gini index unmet, gini index met, wANNR, moran, gini, theil, EMD, centroid change, dispersion change, kl divergence = -131.993, 50.600, 140.400, 173.200, 104.400, 0.981, 0.960, 0.473, 0.035, 0.948, 0.209, 1.940, 0.934, -1.671, 0.905\n"
     ]
    }
   ],
   "source": [
    "## tf.reset_default_graph() only works under tf 1.0\n",
    "reward_num_transPOI = 0.0\n",
    "\n",
    "# Set up the state-value estimator and policy estimator\n",
    "estimator_policy = PolicyEstimator(learning_rate, nS)\n",
    "estimator_value = StateValueEstimator(learning_rate, nS)\n",
    "\n",
    "rider_test_list = np.array(grid_centroid_gdf['rider_test_list'])\n",
    "\n",
    "# Initialize study area\n",
    "study_area = create_study_area(service_areas, max_scooter_per_area, scooter_cost_per_deploy, docked_cost_per_deploy, \\\n",
    "                   nS, no_scooter_penalty, reward_per_rider, equity_penalty, rider_test_list, logistics_car_cost_per_mile, \\\n",
    "                              penalty_dist_transPOI, reward_num_transPOI)\n",
    "\n",
    "# Add ops to save and restore all the variables\n",
    "\n",
    "print(\"Starting policy gradient...\")\n",
    "\n",
    "# Start training\n",
    "print(\"Training in progress...\")\n",
    "avg_reward_max_2, avg_unmet_demand_max_2, avg_met_demand_max_2, avg_scooter_num_max_2, avg_scooter_loc_max_2, avg_wANNR_max_2, avg_moran_max_2, avg_gini_max_2, avg_theil_max_2, avg_EMD_max_2, avg_centroid_max_2, avg_dispersion_max_2, avg_kl_max_2, scooter_list_max_2 = reinforce(study_area, nS, estimator_policy, estimator_value, n_epochs, n_iters, batch_size, display_step)"
   ]
  },
  {
   "cell_type": "markdown",
   "id": "d19ab151",
   "metadata": {},
   "source": [
    "## reward_num_transPOI = 0.1"
   ]
  },
  {
   "cell_type": "code",
   "execution_count": 6,
   "id": "ff1854b9",
   "metadata": {},
   "outputs": [
    {
     "name": "stdout",
     "output_type": "stream",
     "text": [
      "Starting policy gradient...\n",
      "Training in progress...\n",
      "Epoch 50, Average reward, unmet demand, met demand, scooter num, scooter loc, gini index unmet, gini index met, wANNR, moran, gini, theil, EMD, centroid change, dispersion change, kl divergence = -61.249, 26.800, 164.200, 181.000, 105.600, 0.989, 0.955, 0.481, 0.039, 0.948, 0.224, 2.022, 0.941, -1.740, 0.840\n",
      "Epoch 100, Average reward, unmet demand, met demand, scooter num, scooter loc, gini index unmet, gini index met, wANNR, moran, gini, theil, EMD, centroid change, dispersion change, kl divergence = -61.332, 25.800, 165.200, 184.600, 105.000, 0.988, 0.956, 0.486, 0.038, 0.950, 0.237, 2.029, 0.929, -1.762, 0.819\n",
      "Epoch 150, Average reward, unmet demand, met demand, scooter num, scooter loc, gini index unmet, gini index met, wANNR, moran, gini, theil, EMD, centroid change, dispersion change, kl divergence = -60.897, 26.000, 165.000, 181.800, 105.000, 0.989, 0.955, 0.482, 0.036, 0.949, 0.235, 2.015, 0.942, -1.738, 0.829\n",
      "Epoch 200, Average reward, unmet demand, met demand, scooter num, scooter loc, gini index unmet, gini index met, wANNR, moran, gini, theil, EMD, centroid change, dispersion change, kl divergence = -61.779, 28.000, 163.000, 179.000, 104.200, 0.989, 0.955, 0.478, 0.040, 0.949, 0.213, 2.030, 0.909, -1.765, 0.823\n",
      "Epoch 250, Average reward, unmet demand, met demand, scooter num, scooter loc, gini index unmet, gini index met, wANNR, moran, gini, theil, EMD, centroid change, dispersion change, kl divergence = -64.712, 32.800, 158.200, 177.200, 105.000, 0.987, 0.954, 0.476, 0.040, 0.948, 0.210, 2.020, 0.944, -1.727, 0.823\n",
      "Epoch 300, Average reward, unmet demand, met demand, scooter num, scooter loc, gini index unmet, gini index met, wANNR, moran, gini, theil, EMD, centroid change, dispersion change, kl divergence = -62.343, 29.600, 161.400, 175.800, 102.800, 0.989, 0.955, 0.474, 0.039, 0.949, 0.211, 2.019, 0.907, -1.749, 0.815\n",
      "Epoch 350, Average reward, unmet demand, met demand, scooter num, scooter loc, gini index unmet, gini index met, wANNR, moran, gini, theil, EMD, centroid change, dispersion change, kl divergence = -60.339, 25.400, 165.600, 181.200, 105.200, 0.989, 0.955, 0.481, 0.038, 0.949, 0.217, 1.996, 0.927, -1.707, 0.850\n",
      "Epoch 400, Average reward, unmet demand, met demand, scooter num, scooter loc, gini index unmet, gini index met, wANNR, moran, gini, theil, EMD, centroid change, dispersion change, kl divergence = -64.982, 32.400, 158.600, 181.000, 108.200, 0.988, 0.954, 0.481, 0.040, 0.946, 0.202, 1.999, 0.964, -1.722, 0.826\n",
      "Epoch 450, Average reward, unmet demand, met demand, scooter num, scooter loc, gini index unmet, gini index met, wANNR, moran, gini, theil, EMD, centroid change, dispersion change, kl divergence = -60.869, 24.000, 167.000, 189.600, 108.200, 0.989, 0.955, 0.492, 0.040, 0.948, 0.227, 2.029, 0.937, -1.761, 0.799\n",
      "Epoch 500, Average reward, unmet demand, met demand, scooter num, scooter loc, gini index unmet, gini index met, wANNR, moran, gini, theil, EMD, centroid change, dispersion change, kl divergence = -60.885, 26.200, 164.800, 181.200, 105.400, 0.989, 0.955, 0.481, 0.040, 0.948, 0.212, 2.010, 0.926, -1.726, 0.826\n"
     ]
    }
   ],
   "source": [
    "## tf.reset_default_graph() only works under tf 1.0\n",
    "reward_num_transPOI = 0.1\n",
    "\n",
    "# Set up the state-value estimator and policy estimator\n",
    "estimator_policy = PolicyEstimator(learning_rate, nS)\n",
    "estimator_value = StateValueEstimator(learning_rate, nS)\n",
    "\n",
    "rider_test_list = np.array(grid_centroid_gdf['rider_test_list'])\n",
    "\n",
    "# Initialize study area\n",
    "study_area = create_study_area(service_areas, max_scooter_per_area, scooter_cost_per_deploy, docked_cost_per_deploy, \\\n",
    "                   nS, no_scooter_penalty, reward_per_rider, equity_penalty, rider_test_list, logistics_car_cost_per_mile, \\\n",
    "                              penalty_dist_transPOI, reward_num_transPOI)\n",
    "\n",
    "# Add ops to save and restore all the variables\n",
    "\n",
    "print(\"Starting policy gradient...\")\n",
    "\n",
    "# Start training\n",
    "print(\"Training in progress...\")\n",
    "avg_reward_max_3, avg_unmet_demand_max_3, avg_met_demand_max_3, avg_scooter_num_max_3, avg_scooter_loc_max_3, avg_wANNR_max_3, avg_moran_max_3, avg_gini_max_3, avg_theil_max_3, avg_EMD_max_3, avg_centroid_max_3, avg_dispersion_max_3, avg_kl_max_3, scooter_list_max_3 = reinforce(study_area, nS, estimator_policy, estimator_value, n_epochs, n_iters, batch_size, display_step)"
   ]
  },
  {
   "cell_type": "markdown",
   "id": "327c6bf5",
   "metadata": {},
   "source": [
    "## reward_num_transPOI = 0.2"
   ]
  },
  {
   "cell_type": "code",
   "execution_count": 180,
   "id": "64b7497f",
   "metadata": {},
   "outputs": [
    {
     "name": "stdout",
     "output_type": "stream",
     "text": [
      "Starting policy gradient...\n",
      "Training in progress...\n",
      "Epoch 50, Average reward, unmet demand, met demand, scooter num, scooter loc, gini index unmet, gini index met, wANNR, moran, gini, theil, EMD, centroid change, dispersion change, kl divergence = -6.968, 27.800, 163.200, 183.800, 105.000, 0.989, 0.955, 0.485, 0.038, 0.949, 0.229, 2.013, 0.920, -1.756, 0.803\n",
      "Epoch 100, Average reward, unmet demand, met demand, scooter num, scooter loc, gini index unmet, gini index met, wANNR, moran, gini, theil, EMD, centroid change, dispersion change, kl divergence = -5.487, 26.800, 164.200, 180.000, 105.000, 0.989, 0.955, 0.480, 0.039, 0.948, 0.215, 2.017, 0.942, -1.734, 0.828\n",
      "Epoch 150, Average reward, unmet demand, met demand, scooter num, scooter loc, gini index unmet, gini index met, wANNR, moran, gini, theil, EMD, centroid change, dispersion change, kl divergence = -5.059, 25.200, 165.800, 184.000, 106.800, 0.990, 0.954, 0.485, 0.040, 0.948, 0.219, 2.025, 0.937, -1.765, 0.805\n",
      "Epoch 200, Average reward, unmet demand, met demand, scooter num, scooter loc, gini index unmet, gini index met, wANNR, moran, gini, theil, EMD, centroid change, dispersion change, kl divergence = -6.107, 27.600, 163.400, 179.800, 103.600, 0.989, 0.955, 0.479, 0.039, 0.950, 0.220, 2.018, 0.922, -1.735, 0.834\n",
      "Epoch 250, Average reward, unmet demand, met demand, scooter num, scooter loc, gini index unmet, gini index met, wANNR, moran, gini, theil, EMD, centroid change, dispersion change, kl divergence = -20.794, 50.000, 141.000, 177.000, 109.400, 0.981, 0.959, 0.476, 0.042, 0.944, 0.184, 1.987, 1.004, -1.715, 0.842\n",
      "Epoch 300, Average reward, unmet demand, met demand, scooter num, scooter loc, gini index unmet, gini index met, wANNR, moran, gini, theil, EMD, centroid change, dispersion change, kl divergence = -10.304, 35.000, 156.000, 176.000, 106.400, 0.985, 0.955, 0.474, 0.038, 0.947, 0.211, 1.975, 0.914, -1.693, 0.823\n",
      "Epoch 350, Average reward, unmet demand, met demand, scooter num, scooter loc, gini index unmet, gini index met, wANNR, moran, gini, theil, EMD, centroid change, dispersion change, kl divergence = -7.771, 30.200, 160.800, 179.600, 105.200, 0.989, 0.954, 0.480, 0.040, 0.948, 0.212, 2.012, 0.887, -1.752, 0.825\n",
      "Epoch 400, Average reward, unmet demand, met demand, scooter num, scooter loc, gini index unmet, gini index met, wANNR, moran, gini, theil, EMD, centroid change, dispersion change, kl divergence = -4.858, 25.000, 166.000, 183.000, 104.800, 0.989, 0.955, 0.484, 0.038, 0.949, 0.223, 2.032, 0.937, -1.769, 0.830\n",
      "Epoch 450, Average reward, unmet demand, met demand, scooter num, scooter loc, gini index unmet, gini index met, wANNR, moran, gini, theil, EMD, centroid change, dispersion change, kl divergence = -4.303, 24.600, 166.400, 181.800, 105.200, 0.989, 0.955, 0.482, 0.038, 0.949, 0.224, 2.025, 0.926, -1.751, 0.825\n",
      "Epoch 500, Average reward, unmet demand, met demand, scooter num, scooter loc, gini index unmet, gini index met, wANNR, moran, gini, theil, EMD, centroid change, dispersion change, kl divergence = -5.691, 27.200, 163.800, 179.000, 103.200, 0.989, 0.955, 0.478, 0.036, 0.950, 0.222, 1.999, 0.929, -1.725, 0.852\n"
     ]
    }
   ],
   "source": [
    "## tf.reset_default_graph() only works under tf 1.0\n",
    "reward_num_transPOI = 0.2\n",
    "\n",
    "# Set up the state-value estimator and policy estimator\n",
    "estimator_policy = PolicyEstimator(learning_rate, nS)\n",
    "estimator_value = StateValueEstimator(learning_rate, nS)\n",
    "\n",
    "rider_test_list = np.array(grid_centroid_gdf['rider_test_list'])\n",
    "\n",
    "# Initialize study area\n",
    "study_area = create_study_area(service_areas, max_scooter_per_area, scooter_cost_per_deploy, docked_cost_per_deploy, \\\n",
    "                   nS, no_scooter_penalty, reward_per_rider, equity_penalty, rider_test_list, logistics_car_cost_per_mile, \\\n",
    "                              penalty_dist_transPOI, reward_num_transPOI)\n",
    "\n",
    "# Add ops to save and restore all the variables\n",
    "\n",
    "print(\"Starting policy gradient...\")\n",
    "\n",
    "# Start training\n",
    "print(\"Training in progress...\")\n",
    "avg_reward_max_4, avg_unmet_demand_max_4, avg_met_demand_max_4, avg_scooter_num_max_4, avg_scooter_loc_max_4, avg_wANNR_max_4, avg_moran_max_4, avg_gini_max_4, avg_theil_max_4, avg_EMD_max_4, avg_centroid_max_4, avg_dispersion_max_4, avg_kl_max_4, scooter_list_max_4 = reinforce(study_area, nS, estimator_policy, estimator_value, n_epochs, n_iters, batch_size, display_step)"
   ]
  },
  {
   "cell_type": "markdown",
   "id": "c37f7c91",
   "metadata": {},
   "source": [
    "## reward_num_transPOI = 0.3"
   ]
  },
  {
   "cell_type": "code",
   "execution_count": 166,
   "id": "88fdef7a",
   "metadata": {
    "scrolled": false
   },
   "outputs": [
    {
     "name": "stdout",
     "output_type": "stream",
     "text": [
      "Starting policy gradient...\n",
      "Training in progress...\n",
      "Epoch 50, Average reward, unmet demand, met demand, scooter num, scooter loc, gini index unmet, gini index met, wANNR, moran, gini, theil, EMD, centroid change, dispersion change, kl divergence = 49.356, 27.200, 163.800, 182.600, 105.800, 0.988, 0.955, 0.483, 0.037, 0.948, 0.223, 2.005, 0.917, -1.727, 0.838\n",
      "Epoch 100, Average reward, unmet demand, met demand, scooter num, scooter loc, gini index unmet, gini index met, wANNR, moran, gini, theil, EMD, centroid change, dispersion change, kl divergence = 49.814, 27.400, 163.600, 179.200, 104.400, 0.988, 0.955, 0.478, 0.038, 0.949, 0.234, 2.017, 0.912, -1.730, 0.866\n",
      "Epoch 150, Average reward, unmet demand, met demand, scooter num, scooter loc, gini index unmet, gini index met, wANNR, moran, gini, theil, EMD, centroid change, dispersion change, kl divergence = 51.265, 22.800, 168.200, 189.000, 107.800, 0.990, 0.955, 0.491, 0.037, 0.948, 0.236, 2.002, 0.913, -1.736, 0.821\n",
      "Epoch 200, Average reward, unmet demand, met demand, scooter num, scooter loc, gini index unmet, gini index met, wANNR, moran, gini, theil, EMD, centroid change, dispersion change, kl divergence = 50.300, 25.200, 165.800, 184.400, 104.600, 0.988, 0.955, 0.486, 0.038, 0.950, 0.227, 2.024, 0.942, -1.747, 0.820\n",
      "Epoch 250, Average reward, unmet demand, met demand, scooter num, scooter loc, gini index unmet, gini index met, wANNR, moran, gini, theil, EMD, centroid change, dispersion change, kl divergence = 50.227, 26.200, 164.800, 182.400, 107.600, 0.990, 0.954, 0.483, 0.038, 0.947, 0.209, 1.993, 0.949, -1.712, 0.837\n",
      "Epoch 300, Average reward, unmet demand, met demand, scooter num, scooter loc, gini index unmet, gini index met, wANNR, moran, gini, theil, EMD, centroid change, dispersion change, kl divergence = 50.727, 25.400, 165.600, 182.200, 106.200, 0.989, 0.955, 0.482, 0.037, 0.948, 0.230, 2.009, 0.935, -1.740, 0.816\n",
      "Epoch 350, Average reward, unmet demand, met demand, scooter num, scooter loc, gini index unmet, gini index met, wANNR, moran, gini, theil, EMD, centroid change, dispersion change, kl divergence = 47.777, 30.600, 160.400, 178.000, 103.800, 0.989, 0.955, 0.477, 0.039, 0.949, 0.206, 2.017, 0.923, -1.756, 0.832\n",
      "Epoch 400, Average reward, unmet demand, met demand, scooter num, scooter loc, gini index unmet, gini index met, wANNR, moran, gini, theil, EMD, centroid change, dispersion change, kl divergence = 49.247, 27.200, 163.800, 183.200, 106.000, 0.989, 0.955, 0.484, 0.039, 0.948, 0.214, 2.003, 0.929, -1.730, 0.830\n",
      "Epoch 450, Average reward, unmet demand, met demand, scooter num, scooter loc, gini index unmet, gini index met, wANNR, moran, gini, theil, EMD, centroid change, dispersion change, kl divergence = 39.930, 41.000, 150.000, 180.200, 102.200, 0.980, 0.961, 0.480, 0.036, 0.951, 0.235, 2.030, 0.878, -1.767, 0.787\n",
      "Epoch 500, Average reward, unmet demand, met demand, scooter num, scooter loc, gini index unmet, gini index met, wANNR, moran, gini, theil, EMD, centroid change, dispersion change, kl divergence = 49.514, 28.600, 162.400, 175.800, 102.200, 0.989, 0.955, 0.474, 0.037, 0.950, 0.219, 2.007, 0.926, -1.734, 0.838\n"
     ]
    }
   ],
   "source": [
    "## tf.reset_default_graph() only works under tf 1.0\n",
    "reward_num_transPOI = 0.3\n",
    "\n",
    "# Set up the state-value estimator and policy estimator\n",
    "estimator_policy = PolicyEstimator(learning_rate, nS)\n",
    "estimator_value = StateValueEstimator(learning_rate, nS)\n",
    "\n",
    "rider_test_list = np.array(grid_centroid_gdf['rider_test_list'])\n",
    "\n",
    "# Initialize study area\n",
    "study_area = create_study_area(service_areas, max_scooter_per_area, scooter_cost_per_deploy, docked_cost_per_deploy, \\\n",
    "                   nS, no_scooter_penalty, reward_per_rider, equity_penalty, rider_test_list, logistics_car_cost_per_mile, \\\n",
    "                              penalty_dist_transPOI, reward_num_transPOI)\n",
    "\n",
    "# Add ops to save and restore all the variables\n",
    "\n",
    "print(\"Starting policy gradient...\")\n",
    "\n",
    "# Start training\n",
    "print(\"Training in progress...\")\n",
    "avg_reward_max_5, avg_unmet_demand_max_5, avg_met_demand_max_5, avg_scooter_num_max_5, avg_scooter_loc_max_5, avg_wANNR_max_5, avg_moran_max_5, avg_gini_max_5, avg_theil_max_5, avg_EMD_max_5, avg_centroid_max_5, avg_dispersion_max_5, avg_kl_max_5, scooter_list_max_5 = reinforce(study_area, nS, estimator_policy, estimator_value, n_epochs, n_iters, batch_size, display_step)"
   ]
  },
  {
   "cell_type": "markdown",
   "id": "1ba3f84b",
   "metadata": {},
   "source": [
    "## reward_num_transPOI = 0.4"
   ]
  },
  {
   "cell_type": "code",
   "execution_count": 153,
   "id": "5de8377d",
   "metadata": {},
   "outputs": [
    {
     "name": "stdout",
     "output_type": "stream",
     "text": [
      "Starting policy gradient...\n",
      "Training in progress...\n",
      "Epoch 50, Average reward, unmet demand, met demand, scooter num, scooter loc, gini index unmet, gini index met, wANNR, moran, gini, theil, EMD, centroid change, dispersion change, kl divergence = 93.976, 45.200, 145.800, 175.000, 106.600, 0.983, 0.958, 0.473, 0.040, 0.947, 0.205, 2.021, 0.953, -1.757, 0.831\n",
      "Epoch 100, Average reward, unmet demand, met demand, scooter num, scooter loc, gini index unmet, gini index met, wANNR, moran, gini, theil, EMD, centroid change, dispersion change, kl divergence = 105.212, 27.800, 163.200, 178.400, 103.200, 0.989, 0.955, 0.478, 0.038, 0.950, 0.222, 2.019, 0.891, -1.749, 0.844\n",
      "Epoch 150, Average reward, unmet demand, met demand, scooter num, scooter loc, gini index unmet, gini index met, wANNR, moran, gini, theil, EMD, centroid change, dispersion change, kl divergence = 105.698, 25.800, 165.200, 184.600, 108.200, 0.989, 0.955, 0.486, 0.039, 0.947, 0.218, 2.001, 0.928, -1.726, 0.822\n",
      "Epoch 200, Average reward, unmet demand, met demand, scooter num, scooter loc, gini index unmet, gini index met, wANNR, moran, gini, theil, EMD, centroid change, dispersion change, kl divergence = 104.703, 27.800, 163.200, 182.000, 106.400, 0.989, 0.955, 0.483, 0.038, 0.948, 0.225, 1.993, 0.915, -1.705, 0.840\n",
      "Epoch 250, Average reward, unmet demand, met demand, scooter num, scooter loc, gini index unmet, gini index met, wANNR, moran, gini, theil, EMD, centroid change, dispersion change, kl divergence = 104.226, 29.000, 162.000, 179.600, 104.600, 0.989, 0.955, 0.479, 0.039, 0.949, 0.216, 2.003, 0.916, -1.735, 0.835\n",
      "Epoch 300, Average reward, unmet demand, met demand, scooter num, scooter loc, gini index unmet, gini index met, wANNR, moran, gini, theil, EMD, centroid change, dispersion change, kl divergence = 101.763, 33.200, 157.800, 177.000, 103.800, 0.987, 0.954, 0.475, 0.040, 0.949, 0.211, 2.025, 0.926, -1.750, 0.807\n",
      "Epoch 350, Average reward, unmet demand, met demand, scooter num, scooter loc, gini index unmet, gini index met, wANNR, moran, gini, theil, EMD, centroid change, dispersion change, kl divergence = 105.021, 27.600, 163.400, 179.800, 102.600, 0.989, 0.956, 0.479, 0.038, 0.950, 0.221, 2.020, 0.919, -1.747, 0.826\n",
      "Epoch 400, Average reward, unmet demand, met demand, scooter num, scooter loc, gini index unmet, gini index met, wANNR, moran, gini, theil, EMD, centroid change, dispersion change, kl divergence = 104.775, 27.600, 163.400, 182.400, 106.600, 0.989, 0.955, 0.483, 0.038, 0.947, 0.207, 1.975, 0.960, -1.670, 0.847\n",
      "Epoch 450, Average reward, unmet demand, met demand, scooter num, scooter loc, gini index unmet, gini index met, wANNR, moran, gini, theil, EMD, centroid change, dispersion change, kl divergence = 92.219, 47.400, 143.600, 175.000, 103.600, 0.980, 0.960, 0.473, 0.037, 0.949, 0.215, 2.007, 0.928, -1.744, 0.794\n",
      "Epoch 500, Average reward, unmet demand, met demand, scooter num, scooter loc, gini index unmet, gini index met, wANNR, moran, gini, theil, EMD, centroid change, dispersion change, kl divergence = 105.918, 25.800, 165.200, 182.200, 104.400, 0.990, 0.955, 0.483, 0.039, 0.949, 0.218, 2.025, 0.920, -1.755, 0.834\n"
     ]
    }
   ],
   "source": [
    "## tf.reset_default_graph() only works under tf 1.0\n",
    "reward_num_transPOI = 0.4\n",
    "\n",
    "# Set up the state-value estimator and policy estimator\n",
    "estimator_policy = PolicyEstimator(learning_rate, nS)\n",
    "estimator_value = StateValueEstimator(learning_rate, nS)\n",
    "\n",
    "rider_test_list = np.array(grid_centroid_gdf['rider_test_list'])\n",
    "\n",
    "# Initialize study area\n",
    "study_area = create_study_area(service_areas, max_scooter_per_area, scooter_cost_per_deploy, docked_cost_per_deploy, \\\n",
    "                   nS, no_scooter_penalty, reward_per_rider, equity_penalty, rider_test_list, logistics_car_cost_per_mile, \\\n",
    "                              penalty_dist_transPOI, reward_num_transPOI)\n",
    "\n",
    "# Add ops to save and restore all the variables\n",
    "\n",
    "print(\"Starting policy gradient...\")\n",
    "\n",
    "# Start training\n",
    "print(\"Training in progress...\")\n",
    "avg_reward_max_6, avg_unmet_demand_max_6, avg_met_demand_max_6, avg_scooter_num_max_6, avg_scooter_loc_max_6, avg_wANNR_max_6, avg_moran_max_6, avg_gini_max_6, avg_theil_max_6, avg_EMD_max_6, avg_centroid_max_6, avg_dispersion_max_6, avg_kl_max_6, scooter_list_max_6 = reinforce(study_area, nS, estimator_policy, estimator_value, n_epochs, n_iters, batch_size, display_step)"
   ]
  },
  {
   "cell_type": "markdown",
   "id": "0c0df756",
   "metadata": {},
   "source": [
    "## reward_num_transPOI = 0.5"
   ]
  },
  {
   "cell_type": "code",
   "execution_count": 10,
   "id": "7927ff81",
   "metadata": {},
   "outputs": [
    {
     "name": "stdout",
     "output_type": "stream",
     "text": [
      "Starting policy gradient...\n",
      "Training in progress...\n",
      "Epoch 50, Average reward, unmet demand, met demand, scooter num, scooter loc, gini index unmet, gini index met, wANNR, moran, gini, theil, EMD, centroid change, dispersion change, kl divergence = 160.779, 26.800, 164.200, 182.600, 105.000, 0.990, 0.955, 0.484, 0.039, 0.949, 0.220, 2.015, 0.915, -1.750, 0.814\n",
      "Epoch 100, Average reward, unmet demand, met demand, scooter num, scooter loc, gini index unmet, gini index met, wANNR, moran, gini, theil, EMD, centroid change, dispersion change, kl divergence = 162.000, 24.800, 166.200, 183.400, 104.800, 0.989, 0.955, 0.484, 0.038, 0.949, 0.233, 2.027, 0.905, -1.753, 0.812\n",
      "Epoch 150, Average reward, unmet demand, met demand, scooter num, scooter loc, gini index unmet, gini index met, wANNR, moran, gini, theil, EMD, centroid change, dispersion change, kl divergence = 160.575, 27.400, 163.600, 182.600, 108.000, 0.989, 0.954, 0.483, 0.038, 0.947, 0.209, 1.978, 0.938, -1.685, 0.866\n",
      "Epoch 200, Average reward, unmet demand, met demand, scooter num, scooter loc, gini index unmet, gini index met, wANNR, moran, gini, theil, EMD, centroid change, dispersion change, kl divergence = 158.909, 31.000, 160.000, 177.600, 105.600, 0.989, 0.955, 0.476, 0.037, 0.948, 0.211, 1.982, 0.943, -1.716, 0.845\n",
      "Epoch 250, Average reward, unmet demand, met demand, scooter num, scooter loc, gini index unmet, gini index met, wANNR, moran, gini, theil, EMD, centroid change, dispersion change, kl divergence = 158.114, 31.200, 159.800, 181.000, 106.200, 0.988, 0.954, 0.481, 0.039, 0.948, 0.213, 2.001, 0.921, -1.735, 0.809\n",
      "Epoch 300, Average reward, unmet demand, met demand, scooter num, scooter loc, gini index unmet, gini index met, wANNR, moran, gini, theil, EMD, centroid change, dispersion change, kl divergence = 156.142, 35.000, 156.000, 178.000, 107.200, 0.989, 0.953, 0.477, 0.040, 0.946, 0.186, 1.944, 0.939, -1.654, 0.876\n",
      "Epoch 350, Average reward, unmet demand, met demand, scooter num, scooter loc, gini index unmet, gini index met, wANNR, moran, gini, theil, EMD, centroid change, dispersion change, kl divergence = 160.901, 27.800, 163.200, 178.600, 105.000, 0.989, 0.954, 0.478, 0.038, 0.948, 0.214, 2.017, 0.946, -1.754, 0.823\n",
      "Epoch 400, Average reward, unmet demand, met demand, scooter num, scooter loc, gini index unmet, gini index met, wANNR, moran, gini, theil, EMD, centroid change, dispersion change, kl divergence = 160.387, 27.400, 163.600, 182.600, 105.400, 0.989, 0.955, 0.483, 0.038, 0.949, 0.219, 1.998, 0.911, -1.715, 0.829\n",
      "Epoch 450, Average reward, unmet demand, met demand, scooter num, scooter loc, gini index unmet, gini index met, wANNR, moran, gini, theil, EMD, centroid change, dispersion change, kl divergence = 149.372, 45.000, 146.000, 175.200, 102.400, 0.981, 0.960, 0.473, 0.038, 0.950, 0.217, 2.013, 0.875, -1.718, 0.827\n",
      "Epoch 500, Average reward, unmet demand, met demand, scooter num, scooter loc, gini index unmet, gini index met, wANNR, moran, gini, theil, EMD, centroid change, dispersion change, kl divergence = 158.437, 32.200, 158.800, 175.600, 105.000, 0.988, 0.955, 0.474, 0.037, 0.948, 0.210, 2.006, 0.947, -1.735, 0.872\n"
     ]
    }
   ],
   "source": [
    "## tf.reset_default_graph() only works under tf 1.0\n",
    "reward_num_transPOI = 0.5\n",
    "\n",
    "# Set up the state-value estimator and policy estimator\n",
    "estimator_policy = PolicyEstimator(learning_rate, nS)\n",
    "estimator_value = StateValueEstimator(learning_rate, nS)\n",
    "\n",
    "rider_test_list = np.array(grid_centroid_gdf['rider_test_list'])\n",
    "\n",
    "# Initialize study area\n",
    "study_area = create_study_area(service_areas, max_scooter_per_area, scooter_cost_per_deploy, docked_cost_per_deploy, \\\n",
    "                   nS, no_scooter_penalty, reward_per_rider, equity_penalty, rider_test_list, logistics_car_cost_per_mile, \\\n",
    "                              penalty_dist_transPOI, reward_num_transPOI)\n",
    "\n",
    "# Add ops to save and restore all the variables\n",
    "\n",
    "print(\"Starting policy gradient...\")\n",
    "\n",
    "# Start training\n",
    "print(\"Training in progress...\")\n",
    "avg_reward_max_7, avg_unmet_demand_max_7, avg_met_demand_max_7, avg_scooter_num_max_7, avg_scooter_loc_max_7, avg_wANNR_max_7, avg_moran_max_7, avg_gini_max_7, avg_theil_max_7, avg_EMD_max_7, avg_centroid_max_7, avg_dispersion_max_7, avg_kl_max_7, scooter_list_max_7 = reinforce(study_area, nS, estimator_policy, estimator_value, n_epochs, n_iters, batch_size, display_step)"
   ]
  },
  {
   "cell_type": "markdown",
   "id": "93e0783a",
   "metadata": {},
   "source": [
    "## reward_num_transPOI = 0.6"
   ]
  },
  {
   "cell_type": "code",
   "execution_count": 11,
   "id": "36be398b",
   "metadata": {},
   "outputs": [
    {
     "name": "stdout",
     "output_type": "stream",
     "text": [
      "Starting policy gradient...\n",
      "Training in progress...\n",
      "Epoch 50, Average reward, unmet demand, met demand, scooter num, scooter loc, gini index unmet, gini index met, wANNR, moran, gini, theil, EMD, centroid change, dispersion change, kl divergence = 212.487, 34.200, 156.800, 176.400, 105.200, 0.986, 0.955, 0.475, 0.038, 0.948, 0.208, 1.985, 0.937, -1.690, 0.841\n",
      "Epoch 100, Average reward, unmet demand, met demand, scooter num, scooter loc, gini index unmet, gini index met, wANNR, moran, gini, theil, EMD, centroid change, dispersion change, kl divergence = 214.695, 29.800, 161.200, 179.800, 102.800, 0.989, 0.955, 0.479, 0.036, 0.950, 0.224, 1.978, 0.917, -1.704, 0.834\n",
      "Epoch 150, Average reward, unmet demand, met demand, scooter num, scooter loc, gini index unmet, gini index met, wANNR, moran, gini, theil, EMD, centroid change, dispersion change, kl divergence = 215.616, 29.600, 161.400, 176.000, 102.800, 0.989, 0.955, 0.474, 0.036, 0.950, 0.214, 1.985, 0.946, -1.718, 0.836\n",
      "Epoch 200, Average reward, unmet demand, met demand, scooter num, scooter loc, gini index unmet, gini index met, wANNR, moran, gini, theil, EMD, centroid change, dispersion change, kl divergence = 217.295, 25.200, 165.800, 183.800, 105.600, 0.990, 0.954, 0.485, 0.038, 0.949, 0.233, 2.020, 0.941, -1.753, 0.818\n",
      "Epoch 250, Average reward, unmet demand, met demand, scooter num, scooter loc, gini index unmet, gini index met, wANNR, moran, gini, theil, EMD, centroid change, dispersion change, kl divergence = 217.435, 24.200, 166.800, 188.000, 109.800, 0.990, 0.955, 0.490, 0.038, 0.946, 0.226, 1.980, 0.898, -1.704, 0.824\n",
      "Epoch 300, Average reward, unmet demand, met demand, scooter num, scooter loc, gini index unmet, gini index met, wANNR, moran, gini, theil, EMD, centroid change, dispersion change, kl divergence = 216.075, 28.200, 162.800, 179.800, 106.400, 0.989, 0.955, 0.479, 0.038, 0.947, 0.212, 1.984, 0.939, -1.710, 0.841\n",
      "Epoch 350, Average reward, unmet demand, met demand, scooter num, scooter loc, gini index unmet, gini index met, wANNR, moran, gini, theil, EMD, centroid change, dispersion change, kl divergence = 215.875, 28.400, 162.600, 179.600, 105.000, 0.989, 0.955, 0.479, 0.040, 0.948, 0.207, 2.009, 0.919, -1.741, 0.844\n",
      "Epoch 400, Average reward, unmet demand, met demand, scooter num, scooter loc, gini index unmet, gini index met, wANNR, moran, gini, theil, EMD, centroid change, dispersion change, kl divergence = 214.380, 30.600, 160.400, 179.800, 106.200, 0.988, 0.955, 0.479, 0.041, 0.947, 0.210, 2.049, 0.939, -1.775, 0.843\n",
      "Epoch 450, Average reward, unmet demand, met demand, scooter num, scooter loc, gini index unmet, gini index met, wANNR, moran, gini, theil, EMD, centroid change, dispersion change, kl divergence = 216.606, 25.800, 165.200, 185.600, 107.000, 0.990, 0.955, 0.487, 0.039, 0.948, 0.218, 2.009, 0.936, -1.745, 0.790\n",
      "Epoch 500, Average reward, unmet demand, met demand, scooter num, scooter loc, gini index unmet, gini index met, wANNR, moran, gini, theil, EMD, centroid change, dispersion change, kl divergence = 216.784, 26.600, 164.400, 181.800, 106.400, 0.989, 0.955, 0.482, 0.038, 0.948, 0.219, 2.003, 0.941, -1.737, 0.838\n"
     ]
    }
   ],
   "source": [
    "## tf.reset_default_graph() only works under tf 1.0\n",
    "reward_num_transPOI = 0.6\n",
    "\n",
    "# Set up the state-value estimator and policy estimator\n",
    "estimator_policy = PolicyEstimator(learning_rate, nS)\n",
    "estimator_value = StateValueEstimator(learning_rate, nS)\n",
    "\n",
    "rider_test_list = np.array(grid_centroid_gdf['rider_test_list'])\n",
    "\n",
    "# Initialize study area\n",
    "study_area = create_study_area(service_areas, max_scooter_per_area, scooter_cost_per_deploy, docked_cost_per_deploy, \\\n",
    "                   nS, no_scooter_penalty, reward_per_rider, equity_penalty, rider_test_list, logistics_car_cost_per_mile, \\\n",
    "                              penalty_dist_transPOI, reward_num_transPOI)\n",
    "\n",
    "# Add ops to save and restore all the variables\n",
    "\n",
    "print(\"Starting policy gradient...\")\n",
    "\n",
    "# Start training\n",
    "print(\"Training in progress...\")\n",
    "avg_reward_max_8, avg_unmet_demand_max_8, avg_met_demand_max_8, avg_scooter_num_max_8, avg_scooter_loc_max_8, avg_wANNR_max_8, avg_moran_max_8, avg_gini_max_8, avg_theil_max_8, avg_EMD_max_8, avg_centroid_max_8, avg_dispersion_max_8, avg_kl_max_8, scooter_list_max_8 = reinforce(study_area, nS, estimator_policy, estimator_value, n_epochs, n_iters, batch_size, display_step)"
   ]
  },
  {
   "cell_type": "markdown",
   "id": "e083ec22",
   "metadata": {},
   "source": [
    "## reward_num_transPOI = 0.7"
   ]
  },
  {
   "cell_type": "code",
   "execution_count": 118,
   "id": "19adfab7",
   "metadata": {},
   "outputs": [
    {
     "name": "stdout",
     "output_type": "stream",
     "text": [
      "Starting policy gradient...\n",
      "Training in progress...\n",
      "Epoch 50, Average reward, unmet demand, met demand, scooter num, scooter loc, gini index unmet, gini index met, wANNR, moran, gini, theil, EMD, centroid change, dispersion change, kl divergence = 269.593, 31.600, 159.400, 179.400, 109.400, 0.987, 0.954, 0.479, 0.039, 0.945, 0.205, 1.974, 0.936, -1.690, 0.839\n",
      "Epoch 100, Average reward, unmet demand, met demand, scooter num, scooter loc, gini index unmet, gini index met, wANNR, moran, gini, theil, EMD, centroid change, dispersion change, kl divergence = 272.656, 27.000, 164.000, 178.200, 103.800, 0.990, 0.955, 0.478, 0.038, 0.949, 0.224, 2.030, 0.906, -1.757, 0.836\n",
      "Epoch 150, Average reward, unmet demand, met demand, scooter num, scooter loc, gini index unmet, gini index met, wANNR, moran, gini, theil, EMD, centroid change, dispersion change, kl divergence = 271.318, 29.000, 162.000, 178.600, 105.800, 0.990, 0.954, 0.478, 0.039, 0.947, 0.207, 1.993, 0.934, -1.724, 0.838\n",
      "Epoch 200, Average reward, unmet demand, met demand, scooter num, scooter loc, gini index unmet, gini index met, wANNR, moran, gini, theil, EMD, centroid change, dispersion change, kl divergence = 270.869, 29.600, 161.400, 178.600, 105.400, 0.990, 0.954, 0.478, 0.038, 0.948, 0.205, 1.980, 0.929, -1.698, 0.857\n",
      "Epoch 250, Average reward, unmet demand, met demand, scooter num, scooter loc, gini index unmet, gini index met, wANNR, moran, gini, theil, EMD, centroid change, dispersion change, kl divergence = 270.623, 29.400, 161.600, 180.200, 104.600, 0.989, 0.955, 0.480, 0.037, 0.949, 0.214, 1.987, 0.924, -1.726, 0.827\n",
      "Epoch 300, Average reward, unmet demand, met demand, scooter num, scooter loc, gini index unmet, gini index met, wANNR, moran, gini, theil, EMD, centroid change, dispersion change, kl divergence = 270.263, 31.200, 159.800, 175.400, 103.400, 0.989, 0.955, 0.473, 0.036, 0.949, 0.223, 2.008, 0.920, -1.759, 0.857\n",
      "Epoch 350, Average reward, unmet demand, met demand, scooter num, scooter loc, gini index unmet, gini index met, wANNR, moran, gini, theil, EMD, centroid change, dispersion change, kl divergence = 272.333, 27.400, 163.600, 178.200, 103.200, 0.989, 0.956, 0.477, 0.039, 0.950, 0.222, 2.031, 0.891, -1.774, 0.830\n",
      "Epoch 400, Average reward, unmet demand, met demand, scooter num, scooter loc, gini index unmet, gini index met, wANNR, moran, gini, theil, EMD, centroid change, dispersion change, kl divergence = 272.649, 25.400, 165.600, 184.600, 106.400, 0.989, 0.955, 0.486, 0.037, 0.949, 0.235, 2.005, 0.918, -1.736, 0.824\n",
      "Epoch 450, Average reward, unmet demand, met demand, scooter num, scooter loc, gini index unmet, gini index met, wANNR, moran, gini, theil, EMD, centroid change, dispersion change, kl divergence = 265.936, 37.400, 153.600, 176.600, 107.000, 0.984, 0.954, 0.475, 0.037, 0.947, 0.226, 1.969, 0.938, -1.679, 0.823\n",
      "Epoch 500, Average reward, unmet demand, met demand, scooter num, scooter loc, gini index unmet, gini index met, wANNR, moran, gini, theil, EMD, centroid change, dispersion change, kl divergence = 270.732, 29.400, 161.600, 179.600, 104.400, 0.989, 0.955, 0.479, 0.037, 0.949, 0.223, 2.012, 0.925, -1.745, 0.833\n"
     ]
    }
   ],
   "source": [
    "## tf.reset_default_graph() only works under tf 1.0\n",
    "reward_num_transPOI = 0.7\n",
    "\n",
    "# Set up the state-value estimator and policy estimator\n",
    "estimator_policy = PolicyEstimator(learning_rate, nS)\n",
    "estimator_value = StateValueEstimator(learning_rate, nS)\n",
    "\n",
    "rider_test_list = np.array(grid_centroid_gdf['rider_test_list'])\n",
    "\n",
    "# Initialize study area\n",
    "study_area = create_study_area(service_areas, max_scooter_per_area, scooter_cost_per_deploy, docked_cost_per_deploy, \\\n",
    "                   nS, no_scooter_penalty, reward_per_rider, equity_penalty, rider_test_list, logistics_car_cost_per_mile, \\\n",
    "                              penalty_dist_transPOI, reward_num_transPOI)\n",
    "\n",
    "# Add ops to save and restore all the variables\n",
    "\n",
    "print(\"Starting policy gradient...\")\n",
    "\n",
    "# Start training\n",
    "print(\"Training in progress...\")\n",
    "avg_reward_max_9, avg_unmet_demand_max_9, avg_met_demand_max_9, avg_scooter_num_max_9, avg_scooter_loc_max_9, avg_wANNR_max_9, avg_moran_max_9, avg_gini_max_9, avg_theil_max_9, avg_EMD_max_9, avg_centroid_max_9, avg_dispersion_max_9, avg_kl_max_9, scooter_list_max_9 = reinforce(study_area, nS, estimator_policy, estimator_value, n_epochs, n_iters, batch_size, display_step)"
   ]
  },
  {
   "cell_type": "markdown",
   "id": "c16ce03b",
   "metadata": {},
   "source": [
    "## reward_num_transPOI = 0.8"
   ]
  },
  {
   "cell_type": "code",
   "execution_count": 62,
   "id": "3683cc27",
   "metadata": {},
   "outputs": [
    {
     "name": "stdout",
     "output_type": "stream",
     "text": [
      "Starting policy gradient...\n",
      "Training in progress...\n",
      "Epoch 50, Average reward, unmet demand, met demand, scooter num, scooter loc, gini index unmet, gini index met, wANNR, moran, gini, theil, EMD, centroid change, dispersion change, kl divergence = 323.379, 35.400, 155.600, 173.600, 104.600, 0.988, 0.954, 0.471, 0.037, 0.947, 0.191, 1.972, 0.945, -1.699, 0.865\n",
      "Epoch 100, Average reward, unmet demand, met demand, scooter num, scooter loc, gini index unmet, gini index met, wANNR, moran, gini, theil, EMD, centroid change, dispersion change, kl divergence = 327.351, 27.800, 163.200, 181.000, 107.000, 0.990, 0.954, 0.481, 0.040, 0.947, 0.203, 1.996, 0.953, -1.715, 0.831\n",
      "Epoch 150, Average reward, unmet demand, met demand, scooter num, scooter loc, gini index unmet, gini index met, wANNR, moran, gini, theil, EMD, centroid change, dispersion change, kl divergence = 327.172, 28.400, 162.600, 179.200, 105.200, 0.989, 0.955, 0.478, 0.038, 0.948, 0.216, 2.011, 0.930, -1.738, 0.837\n",
      "Epoch 200, Average reward, unmet demand, met demand, scooter num, scooter loc, gini index unmet, gini index met, wANNR, moran, gini, theil, EMD, centroid change, dispersion change, kl divergence = 326.650, 27.200, 163.800, 186.600, 107.400, 0.989, 0.955, 0.489, 0.038, 0.948, 0.230, 2.002, 0.919, -1.728, 0.813\n",
      "Epoch 250, Average reward, unmet demand, met demand, scooter num, scooter loc, gini index unmet, gini index met, wANNR, moran, gini, theil, EMD, centroid change, dispersion change, kl divergence = 323.207, 34.200, 156.800, 180.000, 108.800, 0.987, 0.954, 0.480, 0.042, 0.946, 0.206, 2.027, 0.936, -1.758, 0.791\n",
      "Epoch 300, Average reward, unmet demand, met demand, scooter num, scooter loc, gini index unmet, gini index met, wANNR, moran, gini, theil, EMD, centroid change, dispersion change, kl divergence = 328.827, 25.600, 165.400, 180.400, 104.400, 0.990, 0.955, 0.481, 0.037, 0.949, 0.232, 1.982, 0.889, -1.694, 0.833\n",
      "Epoch 350, Average reward, unmet demand, met demand, scooter num, scooter loc, gini index unmet, gini index met, wANNR, moran, gini, theil, EMD, centroid change, dispersion change, kl divergence = 327.320, 28.200, 162.800, 178.600, 103.600, 0.990, 0.954, 0.478, 0.038, 0.949, 0.210, 2.008, 0.934, -1.735, 0.831\n",
      "Epoch 400, Average reward, unmet demand, met demand, scooter num, scooter loc, gini index unmet, gini index met, wANNR, moran, gini, theil, EMD, centroid change, dispersion change, kl divergence = 325.492, 30.800, 160.200, 179.200, 105.200, 0.988, 0.955, 0.478, 0.037, 0.948, 0.212, 1.988, 0.944, -1.705, 0.857\n",
      "Epoch 450, Average reward, unmet demand, met demand, scooter num, scooter loc, gini index unmet, gini index met, wANNR, moran, gini, theil, EMD, centroid change, dispersion change, kl divergence = 326.417, 28.800, 162.200, 182.000, 106.600, 0.989, 0.955, 0.482, 0.038, 0.948, 0.220, 2.006, 0.908, -1.734, 0.860\n",
      "Epoch 500, Average reward, unmet demand, met demand, scooter num, scooter loc, gini index unmet, gini index met, wANNR, moran, gini, theil, EMD, centroid change, dispersion change, kl divergence = 325.838, 30.200, 160.800, 179.000, 103.600, 0.988, 0.956, 0.478, 0.038, 0.949, 0.221, 2.015, 0.913, -1.752, 0.836\n"
     ]
    }
   ],
   "source": [
    "## tf.reset_default_graph() only works under tf 1.0\n",
    "reward_num_transPOI = 0.8\n",
    "\n",
    "# Set up the state-value estimator and policy estimator\n",
    "estimator_policy = PolicyEstimator(learning_rate, nS)\n",
    "estimator_value = StateValueEstimator(learning_rate, nS)\n",
    "\n",
    "rider_test_list = np.array(grid_centroid_gdf['rider_test_list'])\n",
    "\n",
    "# Initialize study area\n",
    "study_area = create_study_area(service_areas, max_scooter_per_area, scooter_cost_per_deploy, docked_cost_per_deploy, \\\n",
    "                   nS, no_scooter_penalty, reward_per_rider, equity_penalty, rider_test_list, logistics_car_cost_per_mile, \\\n",
    "                              penalty_dist_transPOI, reward_num_transPOI)\n",
    "\n",
    "# Add ops to save and restore all the variables\n",
    "\n",
    "print(\"Starting policy gradient...\")\n",
    "\n",
    "# Start training\n",
    "print(\"Training in progress...\")\n",
    "avg_reward_max_10, avg_unmet_demand_max_10, avg_met_demand_max_10, avg_scooter_num_max_10, avg_scooter_loc_max_10, avg_wANNR_max_10, avg_moran_max_10, avg_gini_max_10, avg_theil_max_10, avg_EMD_max_10, avg_centroid_max_10, avg_dispersion_max_10, avg_kl_max_10, scooter_list_max_10 = reinforce(study_area, nS, estimator_policy, estimator_value, n_epochs, n_iters, batch_size, display_step)"
   ]
  },
  {
   "cell_type": "markdown",
   "id": "dad374e2",
   "metadata": {},
   "source": [
    "## reward_num_transPOI = 0.9"
   ]
  },
  {
   "cell_type": "code",
   "execution_count": 138,
   "id": "693564e0",
   "metadata": {},
   "outputs": [
    {
     "name": "stdout",
     "output_type": "stream",
     "text": [
      "Starting policy gradient...\n",
      "Training in progress...\n",
      "Epoch 50, Average reward, unmet demand, met demand, scooter num, scooter loc, gini index unmet, gini index met, wANNR, moran, gini, theil, EMD, centroid change, dispersion change, kl divergence = 382.743, 28.200, 162.800, 179.600, 104.000, 0.989, 0.954, 0.479, 0.039, 0.949, 0.221, 2.039, 0.941, -1.768, 0.829\n",
      "Epoch 100, Average reward, unmet demand, met demand, scooter num, scooter loc, gini index unmet, gini index met, wANNR, moran, gini, theil, EMD, centroid change, dispersion change, kl divergence = 383.872, 26.200, 164.800, 181.200, 104.800, 0.989, 0.955, 0.481, 0.039, 0.949, 0.220, 2.001, 0.899, -1.721, 0.849\n",
      "Epoch 150, Average reward, unmet demand, met demand, scooter num, scooter loc, gini index unmet, gini index met, wANNR, moran, gini, theil, EMD, centroid change, dispersion change, kl divergence = 381.074, 30.400, 160.600, 181.000, 106.200, 0.987, 0.955, 0.481, 0.038, 0.948, 0.219, 2.000, 0.921, -1.733, 0.825\n",
      "Epoch 200, Average reward, unmet demand, met demand, scooter num, scooter loc, gini index unmet, gini index met, wANNR, moran, gini, theil, EMD, centroid change, dispersion change, kl divergence = 380.886, 32.400, 158.600, 174.400, 104.200, 0.987, 0.955, 0.473, 0.038, 0.948, 0.211, 1.995, 0.946, -1.726, 0.852\n",
      "Epoch 250, Average reward, unmet demand, met demand, scooter num, scooter loc, gini index unmet, gini index met, wANNR, moran, gini, theil, EMD, centroid change, dispersion change, kl divergence = 384.059, 24.800, 166.200, 185.200, 105.200, 0.989, 0.956, 0.486, 0.038, 0.950, 0.238, 2.049, 0.925, -1.797, 0.801\n",
      "Epoch 300, Average reward, unmet demand, met demand, scooter num, scooter loc, gini index unmet, gini index met, wANNR, moran, gini, theil, EMD, centroid change, dispersion change, kl divergence = 380.327, 33.400, 157.600, 172.800, 101.600, 0.988, 0.955, 0.469, 0.037, 0.950, 0.214, 2.004, 0.954, -1.732, 0.852\n",
      "Epoch 350, Average reward, unmet demand, met demand, scooter num, scooter loc, gini index unmet, gini index met, wANNR, moran, gini, theil, EMD, centroid change, dispersion change, kl divergence = 379.782, 34.000, 157.000, 174.600, 105.000, 0.989, 0.954, 0.472, 0.039, 0.947, 0.193, 1.988, 0.922, -1.715, 0.829\n",
      "Epoch 400, Average reward, unmet demand, met demand, scooter num, scooter loc, gini index unmet, gini index met, wANNR, moran, gini, theil, EMD, centroid change, dispersion change, kl divergence = 382.467, 27.600, 163.400, 183.200, 104.600, 0.989, 0.955, 0.484, 0.039, 0.949, 0.218, 2.032, 0.936, -1.774, 0.826\n",
      "Epoch 450, Average reward, unmet demand, met demand, scooter num, scooter loc, gini index unmet, gini index met, wANNR, moran, gini, theil, EMD, centroid change, dispersion change, kl divergence = 378.699, 34.200, 156.800, 179.400, 105.600, 0.986, 0.955, 0.479, 0.039, 0.948, 0.221, 2.016, 0.933, -1.762, 0.793\n",
      "Epoch 500, Average reward, unmet demand, met demand, scooter num, scooter loc, gini index unmet, gini index met, wANNR, moran, gini, theil, EMD, centroid change, dispersion change, kl divergence = 381.632, 30.800, 160.200, 175.800, 103.000, 0.989, 0.955, 0.474, 0.036, 0.950, 0.222, 2.002, 0.963, -1.717, 0.855\n"
     ]
    }
   ],
   "source": [
    "## tf.reset_default_graph() only works under tf 1.0\n",
    "reward_num_transPOI = 0.9\n",
    "\n",
    "# Set up the state-value estimator and policy estimator\n",
    "estimator_policy = PolicyEstimator(learning_rate, nS)\n",
    "estimator_value = StateValueEstimator(learning_rate, nS)\n",
    "\n",
    "rider_test_list = np.array(grid_centroid_gdf['rider_test_list'])\n",
    "\n",
    "# Initialize study area\n",
    "study_area = create_study_area(service_areas, max_scooter_per_area, scooter_cost_per_deploy, docked_cost_per_deploy, \\\n",
    "                   nS, no_scooter_penalty, reward_per_rider, equity_penalty, rider_test_list, logistics_car_cost_per_mile, \\\n",
    "                              penalty_dist_transPOI, reward_num_transPOI)\n",
    "\n",
    "# Add ops to save and restore all the variables\n",
    "\n",
    "print(\"Starting policy gradient...\")\n",
    "\n",
    "# Start training\n",
    "print(\"Training in progress...\")\n",
    "avg_reward_max_11, avg_unmet_demand_max_11, avg_met_demand_max_11, avg_scooter_num_max_11, avg_scooter_loc_max_11, avg_wANNR_max_11, avg_moran_max_11, avg_gini_max_11, avg_theil_max_11, avg_EMD_max_11, avg_centroid_max_11, avg_dispersion_max_11, avg_kl_max_11, scooter_list_max_11 = reinforce(study_area, nS, estimator_policy, estimator_value, n_epochs, n_iters, batch_size, display_step)"
   ]
  },
  {
   "cell_type": "markdown",
   "id": "0572be87",
   "metadata": {},
   "source": [
    "## reward_num_transPOI = 1.0"
   ]
  },
  {
   "cell_type": "code",
   "execution_count": 15,
   "id": "d93d482c",
   "metadata": {},
   "outputs": [
    {
     "name": "stdout",
     "output_type": "stream",
     "text": [
      "Starting policy gradient...\n",
      "Training in progress...\n",
      "Epoch 50, Average reward, unmet demand, met demand, scooter num, scooter loc, gini index unmet, gini index met, wANNR, moran, gini, theil, EMD, centroid change, dispersion change, kl divergence = 437.568, 28.800, 162.200, 182.800, 108.200, 0.989, 0.954, 0.483, 0.039, 0.946, 0.208, 1.997, 0.941, -1.720, 0.838\n",
      "Epoch 100, Average reward, unmet demand, met demand, scooter num, scooter loc, gini index unmet, gini index met, wANNR, moran, gini, theil, EMD, centroid change, dispersion change, kl divergence = 438.417, 29.200, 161.800, 175.200, 102.200, 0.988, 0.956, 0.473, 0.036, 0.950, 0.221, 2.029, 0.941, -1.767, 0.856\n",
      "Epoch 150, Average reward, unmet demand, met demand, scooter num, scooter loc, gini index unmet, gini index met, wANNR, moran, gini, theil, EMD, centroid change, dispersion change, kl divergence = 439.492, 25.600, 165.400, 184.200, 107.800, 0.989, 0.955, 0.485, 0.038, 0.947, 0.227, 2.003, 0.924, -1.720, 0.837\n",
      "Epoch 200, Average reward, unmet demand, met demand, scooter num, scooter loc, gini index unmet, gini index met, wANNR, moran, gini, theil, EMD, centroid change, dispersion change, kl divergence = 434.970, 33.400, 157.600, 179.000, 106.000, 0.989, 0.954, 0.478, 0.041, 0.947, 0.204, 2.015, 0.952, -1.738, 0.830\n",
      "Epoch 250, Average reward, unmet demand, met demand, scooter num, scooter loc, gini index unmet, gini index met, wANNR, moran, gini, theil, EMD, centroid change, dispersion change, kl divergence = 438.117, 28.400, 162.600, 179.600, 102.800, 0.988, 0.956, 0.479, 0.037, 0.950, 0.224, 2.015, 0.890, -1.743, 0.855\n",
      "Epoch 300, Average reward, unmet demand, met demand, scooter num, scooter loc, gini index unmet, gini index met, wANNR, moran, gini, theil, EMD, centroid change, dispersion change, kl divergence = 427.978, 43.600, 147.400, 178.000, 105.200, 0.982, 0.959, 0.478, 0.040, 0.948, 0.214, 2.024, 0.954, -1.776, 0.783\n",
      "Epoch 350, Average reward, unmet demand, met demand, scooter num, scooter loc, gini index unmet, gini index met, wANNR, moran, gini, theil, EMD, centroid change, dispersion change, kl divergence = 439.545, 25.400, 165.600, 184.200, 106.600, 0.989, 0.955, 0.485, 0.038, 0.948, 0.228, 2.005, 0.909, -1.721, 0.827\n",
      "Epoch 400, Average reward, unmet demand, met demand, scooter num, scooter loc, gini index unmet, gini index met, wANNR, moran, gini, theil, EMD, centroid change, dispersion change, kl divergence = 423.100, 51.000, 140.000, 176.600, 105.400, 0.979, 0.961, 0.475, 0.040, 0.948, 0.204, 2.005, 0.955, -1.731, 0.821\n",
      "Epoch 450, Average reward, unmet demand, met demand, scooter num, scooter loc, gini index unmet, gini index met, wANNR, moran, gini, theil, EMD, centroid change, dispersion change, kl divergence = 437.821, 28.600, 162.400, 181.200, 105.200, 0.989, 0.954, 0.481, 0.040, 0.948, 0.210, 2.018, 0.940, -1.752, 0.823\n",
      "Epoch 500, Average reward, unmet demand, met demand, scooter num, scooter loc, gini index unmet, gini index met, wANNR, moran, gini, theil, EMD, centroid change, dispersion change, kl divergence = 436.963, 29.400, 161.600, 183.000, 106.200, 0.989, 0.955, 0.484, 0.038, 0.948, 0.219, 2.004, 0.955, -1.732, 0.825\n"
     ]
    }
   ],
   "source": [
    "## tf.reset_default_graph() only works under tf 1.0\n",
    "reward_num_transPOI = 1.0\n",
    "\n",
    "# Set up the state-value estimator and policy estimator\n",
    "estimator_policy = PolicyEstimator(learning_rate, nS)\n",
    "estimator_value = StateValueEstimator(learning_rate, nS)\n",
    "\n",
    "rider_test_list = np.array(grid_centroid_gdf['rider_test_list'])\n",
    "\n",
    "# Initialize study area\n",
    "study_area = create_study_area(service_areas, max_scooter_per_area, scooter_cost_per_deploy, docked_cost_per_deploy, \\\n",
    "                   nS, no_scooter_penalty, reward_per_rider, equity_penalty, rider_test_list, logistics_car_cost_per_mile, \\\n",
    "                              penalty_dist_transPOI, reward_num_transPOI)\n",
    "\n",
    "# Add ops to save and restore all the variables\n",
    "\n",
    "print(\"Starting policy gradient...\")\n",
    "\n",
    "# Start training\n",
    "print(\"Training in progress...\")\n",
    "avg_reward_max_12, avg_unmet_demand_max_12, avg_met_demand_max_12, avg_scooter_num_max_12, avg_scooter_loc_max_12, avg_wANNR_max_12, avg_moran_max_12, avg_gini_max_12, avg_theil_max_12, avg_EMD_max_12, avg_centroid_max_12, avg_dispersion_max_12, avg_kl_max_12, scooter_list_max_12 = reinforce(study_area, nS, estimator_policy, estimator_value, n_epochs, n_iters, batch_size, display_step)"
   ]
  },
  {
   "cell_type": "markdown",
   "id": "cf6babdd",
   "metadata": {},
   "source": [
    "# Illustration"
   ]
  },
  {
   "cell_type": "code",
   "execution_count": 200,
   "id": "218b3462",
   "metadata": {},
   "outputs": [
    {
     "name": "stdout",
     "output_type": "stream",
     "text": [
      "[array([ True,  True,  True,  True,  True,  True,  True,  True,  True,\n",
      "       False]), array([ True,  True,  True,  True, False,  True,  True, False,  True,\n",
      "        True]), array([ True,  True,  True,  True, False,  True,  True,  True,  True,\n",
      "        True]), array([ True,  True,  True,  True,  True,  True,  True,  True, False,\n",
      "        True]), array([False,  True,  True,  True,  True,  True,  True,  True, False,\n",
      "        True]), array([ True,  True,  True,  True,  True,  True,  True,  True, False,\n",
      "        True]), array([ True,  True,  True,  True,  True,  True,  True,  True,  True,\n",
      "        True]), array([ True,  True,  True,  True,  True,  True,  True,  True, False,\n",
      "        True]), array([ True,  True,  True,  True,  True,  True,  True,  True,  True,\n",
      "        True]), array([ True,  True,  True,  True,  True,  True,  True,  True,  True,\n",
      "        True]), array([ True,  True,  True,  True,  True, False,  True, False,  True,\n",
      "        True])]\n"
     ]
    }
   ],
   "source": [
    "def modified_z_score(arr):\n",
    "\n",
    "    median = np.median(arr)\n",
    "    mad = np.median(np.abs(arr - median))  # Median Absolute Deviation\n",
    "\n",
    "    # Modified Z-score\n",
    "    modified_z_scores = 0.6745 * (arr - median) / mad\n",
    "    threshold = 3\n",
    "    # filtered_arr = arr[np.abs(modified_z_scores) < threshold]\n",
    "    sel_index = np.abs(modified_z_scores) < threshold\n",
    "    \n",
    "    return sel_index # filtered_arr\n",
    "\n",
    "sel_index_2 = modified_z_score(avg_reward_max_2)\n",
    "sel_index_3 = modified_z_score(avg_reward_max_3)\n",
    "sel_index_4 = modified_z_score(avg_reward_max_4)\n",
    "sel_index_5 = modified_z_score(avg_reward_max_5)\n",
    "sel_index_6 = modified_z_score(avg_reward_max_6)\n",
    "sel_index_7 = modified_z_score(avg_reward_max_7)\n",
    "sel_index_8 = modified_z_score(avg_reward_max_8)\n",
    "sel_index_9 = modified_z_score(avg_reward_max_9)\n",
    "sel_index_10 = modified_z_score(avg_reward_max_10)\n",
    "sel_index_11 = modified_z_score(avg_reward_max_11)\n",
    "sel_index_12 = modified_z_score(avg_reward_max_12)\n",
    "print([sel_index_2, sel_index_3, sel_index_4, sel_index_5, sel_index_6, sel_index_7, sel_index_8, sel_index_9, \n",
    "      sel_index_10, sel_index_11, sel_index_12])"
   ]
  },
  {
   "cell_type": "code",
   "execution_count": 201,
   "id": "91bd3d33",
   "metadata": {},
   "outputs": [
    {
     "name": "stdout",
     "output_type": "stream",
     "text": [
      "End: 2025-07-14 00:50:19\n",
      "Plotting resulting graph...\n",
      "Plotting baseline 1...\n",
      "End: 2025-07-14 00:50:19\n"
     ]
    },
    {
     "data": {
      "image/png": "[encoded data removed]",
      "text/plain": [
       "<Figure size 432x288 with 1 Axes>"
      ]
     },
     "metadata": {
      "needs_background": "light"
     },
     "output_type": "display_data"
    }
   ],
   "source": [
    "# Plot the graphs of average rewards during testing phases of the policy\n",
    "# gradient method and the hand-crafted policies\n",
    "\n",
    "print(\"End: \" + datetime.now().strftime('%Y-%m-%d %H:%M:%S'))\n",
    "\n",
    "num_transPOI_reward_unit_list = np.array([0.0,0.1,0.2,0.3,0.4,0.5,0.6,0.7,0.8,0.9,1.0])\n",
    "max_reward_list_grid = np.array([avg_reward_max_2,\n",
    "                                avg_reward_max_3,\n",
    "                                avg_reward_max_4,\n",
    "                                avg_reward_max_5,\n",
    "                                avg_reward_max_6,\n",
    "                                avg_reward_max_7,\n",
    "                                avg_reward_max_8,\n",
    "                                avg_reward_max_9,\n",
    "                                avg_reward_max_10,\n",
    "                                avg_reward_max_11,\n",
    "                                avg_reward_max_12])\n",
    "max_reward_mean_grid = np.mean(max_reward_list_grid, axis=1)\n",
    "max_reward_std_grid = np.std(max_reward_list_grid, axis=1)\n",
    "\n",
    "print(\"Plotting resulting graph...\")\n",
    "# plt.figure(figsize = (12, 9))\n",
    "l1 = plt.errorbar(num_transPOI_reward_unit_list, max_reward_mean_grid, yerr=max_reward_std_grid, fmt='o-', capsize=5) # ecolor='gray', \n",
    "\n",
    "print(\"Plotting baseline 1...\")\n",
    "# plt.legend(loc='best',prop={'size': 10})\n",
    "plt.ylabel(\"Reward function value\")\n",
    "plt.xlabel(\"num_bus_stop_reward_unit\")\n",
    "\n",
    "print(\"End: \" + datetime.now().strftime('%Y-%m-%d %H:%M:%S'))"
   ]
  },
  {
   "cell_type": "code",
   "execution_count": 202,
   "id": "88cb6330",
   "metadata": {},
   "outputs": [
    {
     "data": {
      "text/plain": [
       "array([[-117.42497278, -116.44845784, -116.22268705, -116.8326527 ,\n",
       "        -119.70052922, -117.97916804, -119.35735287, -117.65696757,\n",
       "        -117.16695928, -131.99308064],\n",
       "       [ -61.24936503,  -61.33231872,  -60.89697626,  -61.77927068,\n",
       "         -64.71177078,  -62.34260099,  -60.33927937,  -64.98204515,\n",
       "         -60.86916843,  -60.88487014],\n",
       "       [  -6.96793516,   -5.48711325,   -5.05934806,   -6.10688191,\n",
       "         -20.79367201,  -10.30433088,   -7.77051224,   -4.85796082,\n",
       "          -4.30256704,   -5.69131679],\n",
       "       [  49.35627707,   49.81404265,   51.26530079,   50.29995872,\n",
       "          50.22705595,   50.72728729,   47.77739033,   49.24739862,\n",
       "          39.93006176,   49.51417135],\n",
       "       [  93.97555779,  105.21197088,  105.69822883,  104.7027924 ,\n",
       "         104.22626009,  101.76286978,  105.02107198,  104.77500985,\n",
       "          92.21941946,  105.91760429],\n",
       "       [ 160.77864018,  161.9998474 ,  160.57477851,  158.90926511,\n",
       "         158.11386263,  156.1423471 ,  160.90055799,  160.38745862,\n",
       "         149.37186824,  158.43699634],\n",
       "       [ 212.487022  ,  214.6954812 ,  215.61630312,  217.2952925 ,\n",
       "         217.43487246,  216.0748472 ,  215.87507854,  214.38043798,\n",
       "         216.60629404,  216.78388829],\n",
       "       [ 269.59317731,  272.65629444,  271.31819488,  270.86937643,\n",
       "         270.62297242,  270.26281846,  272.33306677,  272.64854583,\n",
       "         265.93560911,  270.73185087],\n",
       "       [ 323.3791368 ,  327.35149952,  327.17167954,  326.64963303,\n",
       "         323.20666197,  328.82746731,  327.31969343,  325.49167954,\n",
       "         326.41720163,  325.83750165],\n",
       "       [ 382.74303243,  383.87190219,  381.07386263,  380.8859348 ,\n",
       "         384.05880283,  380.32738204,  379.7824758 ,  382.46653406,\n",
       "         378.69940209,  381.63180823],\n",
       "       [ 437.56809184,  438.41745902,  439.49160216,  434.97041232,\n",
       "         438.11657709,  427.97825488,  439.54514683,  423.10033534,\n",
       "         437.82072063,  436.96290373]])"
      ]
     },
     "execution_count": 202,
     "metadata": {},
     "output_type": "execute_result"
    }
   ],
   "source": [
    "max_reward_list_grid"
   ]
  },
  {
   "cell_type": "code",
   "execution_count": 203,
   "id": "5be10874",
   "metadata": {},
   "outputs": [
    {
     "name": "stdout",
     "output_type": "stream",
     "text": [
      "End: 2025-07-14 00:50:24\n",
      "Plotting resulting graph...\n",
      "Plotting baseline 1...\n",
      "End: 2025-07-14 00:50:24\n"
     ]
    },
    {
     "data": {
      "image/png": "[encoded data removed]",
      "text/plain": [
       "<Figure size 432x288 with 1 Axes>"
      ]
     },
     "metadata": {
      "needs_background": "light"
     },
     "output_type": "display_data"
    }
   ],
   "source": [
    "# Plot the graphs of average rewards during testing phases of the policy\n",
    "# gradient method and the hand-crafted policies\n",
    "\n",
    "print(\"End: \" + datetime.now().strftime('%Y-%m-%d %H:%M:%S'))\n",
    "\n",
    "max_reward_list_grid = [np.array(avg_reward_max_2)[sel_index_2],\n",
    "                        np.array(avg_reward_max_3)[sel_index_3],\n",
    "                        np.array(avg_reward_max_4)[sel_index_4],\n",
    "                        np.array(avg_reward_max_5)[sel_index_5],\n",
    "                        np.array(avg_reward_max_6)[sel_index_6],\n",
    "                        np.array(avg_reward_max_7)[sel_index_7],\n",
    "                        np.array(avg_reward_max_8)[sel_index_8],\n",
    "                        np.array(avg_reward_max_9)[sel_index_9],\n",
    "                        np.array(avg_reward_max_10)[sel_index_10],\n",
    "                        np.array(avg_reward_max_11)[sel_index_11],\n",
    "                        np.array(avg_reward_max_12)[sel_index_12]]\n",
    "max_reward_mean_grid = []\n",
    "max_reward_std_grid = []\n",
    "for ii in range(len(num_transPOI_reward_unit_list)):\n",
    "    max_reward_mean_grid.append(np.mean(max_reward_list_grid[ii]))\n",
    "    max_reward_std_grid.append(np.std(max_reward_list_grid[ii]))\n",
    "\n",
    "print(\"Plotting resulting graph...\")\n",
    "# plt.figure(figsize = (12, 9))\n",
    "l1 = plt.errorbar(num_transPOI_reward_unit_list, max_reward_mean_grid, yerr=max_reward_std_grid, fmt='o-', capsize=5) # ecolor='gray', \n",
    "\n",
    "print(\"Plotting baseline 1...\")\n",
    "# plt.legend(loc='best',prop={'size': 10})\n",
    "plt.ylabel(\"Reward function value\")\n",
    "plt.xlabel(\"num_bus_stop_reward_unit\")\n",
    "\n",
    "print(\"End: \" + datetime.now().strftime('%Y-%m-%d %H:%M:%S'))"
   ]
  },
  {
   "cell_type": "code",
   "execution_count": 204,
   "id": "29eceb93",
   "metadata": {},
   "outputs": [
    {
     "name": "stdout",
     "output_type": "stream",
     "text": [
      "End: 2025-07-14 00:50:25\n",
      "Plotting resulting graph...\n",
      "Plotting baseline 1...\n",
      "End: 2025-07-14 00:50:25\n"
     ]
    },
    {
     "data": {
      "image/png": "[encoded data removed]",
      "text/plain": [
       "<Figure size 432x288 with 1 Axes>"
      ]
     },
     "metadata": {
      "needs_background": "light"
     },
     "output_type": "display_data"
    }
   ],
   "source": [
    "# Plot the graphs of average rewards during testing phases of the policy\n",
    "# gradient method and the hand-crafted policies\n",
    "\n",
    "print(\"End: \" + datetime.now().strftime('%Y-%m-%d %H:%M:%S'))\n",
    "\n",
    "max_unmet_demand_list_grid = np.array([avg_unmet_demand_max_2,\n",
    "                                avg_unmet_demand_max_3,\n",
    "                                avg_unmet_demand_max_4,\n",
    "                                avg_unmet_demand_max_5,\n",
    "                                avg_unmet_demand_max_6,\n",
    "                                avg_unmet_demand_max_7,\n",
    "                                avg_unmet_demand_max_8,\n",
    "                                avg_unmet_demand_max_9,\n",
    "                                avg_unmet_demand_max_10,\n",
    "                                avg_unmet_demand_max_11,\n",
    "                                avg_unmet_demand_max_12])\n",
    "max_unmet_demand_mean_grid = np.mean(max_unmet_demand_list_grid, axis=1)\n",
    "max_unmet_demand_std_grid = np.std(max_unmet_demand_list_grid, axis=1)\n",
    "\n",
    "print(\"Plotting resulting graph...\")\n",
    "# plt.figure(figsize = (12, 9))\n",
    "l1 = plt.errorbar(num_transPOI_reward_unit_list, max_unmet_demand_mean_grid, yerr=max_unmet_demand_std_grid, fmt='o-', capsize=5) # ecolor='gray', \n",
    "\n",
    "print(\"Plotting baseline 1...\")\n",
    "# plt.legend(loc='best',prop={'size': 10})\n",
    "plt.ylabel(\"Count of unmet demands\")\n",
    "plt.xlabel(\"num_bus_stop_reward_unit\")\n",
    "\n",
    "print(\"End: \" + datetime.now().strftime('%Y-%m-%d %H:%M:%S'))"
   ]
  },
  {
   "cell_type": "code",
   "execution_count": 205,
   "id": "3efe0717",
   "metadata": {},
   "outputs": [
    {
     "data": {
      "text/plain": [
       "array([[28.4, 25.4, 25.4, 26.6, 32. , 28. , 32. , 28.2, 26.2, 50.6],\n",
       "       [26.8, 25.8, 26. , 28. , 32.8, 29.6, 25.4, 32.4, 24. , 26.2],\n",
       "       [27.8, 26.8, 25.2, 27.6, 50. , 35. , 30.2, 25. , 24.6, 27.2],\n",
       "       [27.2, 27.4, 22.8, 25.2, 26.2, 25.4, 30.6, 27.2, 41. , 28.6],\n",
       "       [45.2, 27.8, 25.8, 27.8, 29. , 33.2, 27.6, 27.6, 47.4, 25.8],\n",
       "       [26.8, 24.8, 27.4, 31. , 31.2, 35. , 27.8, 27.4, 45. , 32.2],\n",
       "       [34.2, 29.8, 29.6, 25.2, 24.2, 28.2, 28.4, 30.6, 25.8, 26.6],\n",
       "       [31.6, 27. , 29. , 29.6, 29.4, 31.2, 27.4, 25.4, 37.4, 29.4],\n",
       "       [35.4, 27.8, 28.4, 27.2, 34.2, 25.6, 28.2, 30.8, 28.8, 30.2],\n",
       "       [28.2, 26.2, 30.4, 32.4, 24.8, 33.4, 34. , 27.6, 34.2, 30.8],\n",
       "       [28.8, 29.2, 25.6, 33.4, 28.4, 43.6, 25.4, 51. , 28.6, 29.4]])"
      ]
     },
     "execution_count": 205,
     "metadata": {},
     "output_type": "execute_result"
    }
   ],
   "source": [
    "max_unmet_demand_list_grid"
   ]
  },
  {
   "cell_type": "code",
   "execution_count": 206,
   "id": "4da57be1",
   "metadata": {},
   "outputs": [
    {
     "name": "stdout",
     "output_type": "stream",
     "text": [
      "End: 2025-07-14 00:50:31\n",
      "Plotting resulting graph...\n",
      "Plotting baseline 1...\n",
      "End: 2025-07-14 00:50:31\n"
     ]
    },
    {
     "data": {
      "image/png": "[encoded data removed]",
      "text/plain": [
       "<Figure size 432x288 with 1 Axes>"
      ]
     },
     "metadata": {
      "needs_background": "light"
     },
     "output_type": "display_data"
    }
   ],
   "source": [
    "# Plot the graphs of average rewards during testing phases of the policy\n",
    "# gradient method and the hand-crafted policies\n",
    "\n",
    "print(\"End: \" + datetime.now().strftime('%Y-%m-%d %H:%M:%S'))\n",
    "\n",
    "max_unmet_demand_list_grid = [np.array(avg_unmet_demand_max_2)[sel_index_2],\n",
    "                        np.array(avg_unmet_demand_max_3)[sel_index_3],\n",
    "                        np.array(avg_unmet_demand_max_4)[sel_index_4],\n",
    "                        np.array(avg_unmet_demand_max_5)[sel_index_5],\n",
    "                        np.array(avg_unmet_demand_max_6)[sel_index_6],\n",
    "                        np.array(avg_unmet_demand_max_7)[sel_index_7],\n",
    "                        np.array(avg_unmet_demand_max_8)[sel_index_8],\n",
    "                        np.array(avg_unmet_demand_max_9)[sel_index_9],\n",
    "                        np.array(avg_unmet_demand_max_10)[sel_index_10],\n",
    "                        np.array(avg_unmet_demand_max_11)[sel_index_11],\n",
    "                        np.array(avg_unmet_demand_max_12)[sel_index_12]]\n",
    "max_unmet_demand_mean_grid = []\n",
    "max_unmet_demand_std_grid = []\n",
    "for ii in range(len(num_transPOI_reward_unit_list)):\n",
    "    max_unmet_demand_mean_grid.append(np.mean(max_unmet_demand_list_grid[ii]))\n",
    "    max_unmet_demand_std_grid.append(np.std(max_unmet_demand_list_grid[ii]))\n",
    "\n",
    "print(\"Plotting resulting graph...\")\n",
    "# plt.figure(figsize = (12, 9))\n",
    "l1 = plt.errorbar(num_transPOI_reward_unit_list, max_unmet_demand_mean_grid, yerr=max_unmet_demand_std_grid, fmt='o-', capsize=5) # ecolor='gray', \n",
    "\n",
    "print(\"Plotting baseline 1...\")\n",
    "# plt.legend(loc='best',prop={'size': 10})\n",
    "plt.ylabel(\"Count of unmet demands\")\n",
    "plt.xlabel(\"num_bus_stop_reward_unit\")\n",
    "\n",
    "print(\"End: \" + datetime.now().strftime('%Y-%m-%d %H:%M:%S'))"
   ]
  },
  {
   "cell_type": "code",
   "execution_count": 207,
   "id": "41ea18e5",
   "metadata": {},
   "outputs": [
    {
     "name": "stdout",
     "output_type": "stream",
     "text": [
      "End: 2025-07-14 00:50:51\n",
      "Plotting resulting graph...\n",
      "Plotting baseline 1...\n",
      "End: 2025-07-14 00:50:51\n"
     ]
    },
    {
     "data": {
      "image/png": "[encoded data removed]",
      "text/plain": [
       "<Figure size 432x288 with 1 Axes>"
      ]
     },
     "metadata": {
      "needs_background": "light"
     },
     "output_type": "display_data"
    }
   ],
   "source": [
    "# Plot the graphs of average rewards during testing phases of the policy\n",
    "# gradient method and the hand-crafted policies\n",
    "\n",
    "print(\"End: \" + datetime.now().strftime('%Y-%m-%d %H:%M:%S'))\n",
    "\n",
    "max_met_demand_list_grid = np.array([avg_met_demand_max_2,\n",
    "                                avg_met_demand_max_3,\n",
    "                                avg_met_demand_max_4,\n",
    "                                avg_met_demand_max_5,\n",
    "                                avg_met_demand_max_6,\n",
    "                                avg_met_demand_max_7,\n",
    "                                avg_met_demand_max_8,\n",
    "                                avg_met_demand_max_9,\n",
    "                                avg_met_demand_max_10,\n",
    "                                avg_met_demand_max_11,\n",
    "                                avg_met_demand_max_12])\n",
    "max_met_demand_mean_grid = np.mean(max_met_demand_list_grid, axis=1)\n",
    "max_met_demand_std_grid = np.std(max_met_demand_list_grid, axis=1)\n",
    "\n",
    "print(\"Plotting resulting graph...\")\n",
    "# plt.figure(figsize = (12, 9))\n",
    "l1 = plt.errorbar(num_transPOI_reward_unit_list, max_met_demand_mean_grid, yerr=max_met_demand_std_grid, fmt='o-', capsize=5) # ecolor='gray', \n",
    "\n",
    "print(\"Plotting baseline 1...\")\n",
    "# plt.legend(loc='best',prop={'size': 10})\n",
    "plt.ylabel(\"Count of met demands\")\n",
    "plt.xlabel(\"num_bus_stop_reward_unit\")\n",
    "\n",
    "print(\"End: \" + datetime.now().strftime('%Y-%m-%d %H:%M:%S'))"
   ]
  },
  {
   "cell_type": "code",
   "execution_count": 208,
   "id": "4e8f1897",
   "metadata": {
    "scrolled": true
   },
   "outputs": [
    {
     "data": {
      "text/plain": [
       "array([[162.6, 165.6, 165.6, 164.4, 159. , 163. , 159. , 162.8, 164.8,\n",
       "        140.4],\n",
       "       [164.2, 165.2, 165. , 163. , 158.2, 161.4, 165.6, 158.6, 167. ,\n",
       "        164.8],\n",
       "       [163.2, 164.2, 165.8, 163.4, 141. , 156. , 160.8, 166. , 166.4,\n",
       "        163.8],\n",
       "       [163.8, 163.6, 168.2, 165.8, 164.8, 165.6, 160.4, 163.8, 150. ,\n",
       "        162.4],\n",
       "       [145.8, 163.2, 165.2, 163.2, 162. , 157.8, 163.4, 163.4, 143.6,\n",
       "        165.2],\n",
       "       [164.2, 166.2, 163.6, 160. , 159.8, 156. , 163.2, 163.6, 146. ,\n",
       "        158.8],\n",
       "       [156.8, 161.2, 161.4, 165.8, 166.8, 162.8, 162.6, 160.4, 165.2,\n",
       "        164.4],\n",
       "       [159.4, 164. , 162. , 161.4, 161.6, 159.8, 163.6, 165.6, 153.6,\n",
       "        161.6],\n",
       "       [155.6, 163.2, 162.6, 163.8, 156.8, 165.4, 162.8, 160.2, 162.2,\n",
       "        160.8],\n",
       "       [162.8, 164.8, 160.6, 158.6, 166.2, 157.6, 157. , 163.4, 156.8,\n",
       "        160.2],\n",
       "       [162.2, 161.8, 165.4, 157.6, 162.6, 147.4, 165.6, 140. , 162.4,\n",
       "        161.6]])"
      ]
     },
     "execution_count": 208,
     "metadata": {},
     "output_type": "execute_result"
    }
   ],
   "source": [
    "max_met_demand_list_grid"
   ]
  },
  {
   "cell_type": "code",
   "execution_count": 209,
   "id": "1947f7a4",
   "metadata": {},
   "outputs": [
    {
     "name": "stdout",
     "output_type": "stream",
     "text": [
      "End: 2025-07-14 00:51:00\n",
      "Plotting resulting graph...\n",
      "Plotting baseline 1...\n",
      "End: 2025-07-14 00:51:00\n"
     ]
    },
    {
     "data": {
      "image/png": "[encoded data removed]",
      "text/plain": [
       "<Figure size 432x288 with 1 Axes>"
      ]
     },
     "metadata": {
      "needs_background": "light"
     },
     "output_type": "display_data"
    }
   ],
   "source": [
    "# Plot the graphs of average rewards during testing phases of the policy\n",
    "# gradient method and the hand-crafted policies\n",
    "\n",
    "print(\"End: \" + datetime.now().strftime('%Y-%m-%d %H:%M:%S'))\n",
    "\n",
    "max_met_demand_list_grid = [np.array(avg_met_demand_max_2)[sel_index_2],\n",
    "                        np.array(avg_met_demand_max_3)[sel_index_3],\n",
    "                        np.array(avg_met_demand_max_4)[sel_index_4],\n",
    "                        np.array(avg_met_demand_max_5)[sel_index_5],\n",
    "                        np.array(avg_met_demand_max_6)[sel_index_6],\n",
    "                        np.array(avg_met_demand_max_7)[sel_index_7],\n",
    "                        np.array(avg_met_demand_max_8)[sel_index_8],\n",
    "                        np.array(avg_met_demand_max_9)[sel_index_9],\n",
    "                        np.array(avg_met_demand_max_10)[sel_index_10],\n",
    "                        np.array(avg_met_demand_max_11)[sel_index_11],\n",
    "                        np.array(avg_met_demand_max_12)[sel_index_12]]\n",
    "max_met_demand_mean_grid = []\n",
    "max_met_demand_std_grid = []\n",
    "for ii in range(len(num_transPOI_reward_unit_list)):\n",
    "    max_met_demand_mean_grid.append(np.mean(max_met_demand_list_grid[ii]))\n",
    "    max_met_demand_std_grid.append(np.std(max_met_demand_list_grid[ii]))\n",
    "\n",
    "print(\"Plotting resulting graph...\")\n",
    "# plt.figure(figsize = (12, 9))\n",
    "l1 = plt.errorbar(num_transPOI_reward_unit_list, max_met_demand_mean_grid, yerr=max_met_demand_std_grid, fmt='o-', capsize=5) # ecolor='gray', \n",
    "\n",
    "print(\"Plotting baseline 1...\")\n",
    "# plt.legend(loc='best',prop={'size': 10})\n",
    "plt.ylabel(\"Count of met demands\")\n",
    "plt.xlabel(\"num_bus_stop_reward_unit\")\n",
    "\n",
    "print(\"End: \" + datetime.now().strftime('%Y-%m-%d %H:%M:%S'))"
   ]
  },
  {
   "cell_type": "code",
   "execution_count": 210,
   "id": "2f1350b0",
   "metadata": {
    "scrolled": false
   },
   "outputs": [
    {
     "name": "stdout",
     "output_type": "stream",
     "text": [
      "End: 2025-07-14 00:51:06\n",
      "Plotting resulting graph...\n",
      "Plotting baseline 1...\n",
      "End: 2025-07-14 00:51:06\n"
     ]
    },
    {
     "data": {
      "image/png": "[encoded data removed]",
      "text/plain": [
       "<Figure size 432x288 with 1 Axes>"
      ]
     },
     "metadata": {
      "needs_background": "light"
     },
     "output_type": "display_data"
    }
   ],
   "source": [
    "# Plot the graphs of average rewards during testing phases of the policy\n",
    "# gradient method and the hand-crafted policies\n",
    "\n",
    "print(\"End: \" + datetime.now().strftime('%Y-%m-%d %H:%M:%S'))\n",
    "\n",
    "max_scooter_num_list_grid = np.array([avg_scooter_num_max_2,\n",
    "                                avg_scooter_num_max_3,\n",
    "                                avg_scooter_num_max_4,\n",
    "                                avg_scooter_num_max_5,\n",
    "                                avg_scooter_num_max_6,\n",
    "                                avg_scooter_num_max_7,\n",
    "                                avg_scooter_num_max_8,\n",
    "                                avg_scooter_num_max_9,\n",
    "                                avg_scooter_num_max_10,\n",
    "                                avg_scooter_num_max_11,\n",
    "                                avg_scooter_num_max_12])\n",
    "max_scooter_num_mean_grid = np.mean(max_scooter_num_list_grid, axis=1)\n",
    "max_scooter_num_std_grid = np.std(max_scooter_num_list_grid, axis=1)\n",
    "\n",
    "print(\"Plotting resulting graph...\")\n",
    "# plt.figure(figsize = (12, 9))\n",
    "l1 = plt.errorbar(num_transPOI_reward_unit_list, max_scooter_num_mean_grid, yerr=max_scooter_num_std_grid, fmt='o-', capsize=5) # ecolor='gray', \n",
    "\n",
    "print(\"Plotting baseline 1...\")\n",
    "# plt.legend(loc='best',prop={'size': 10})\n",
    "plt.ylabel(\"Count of scooter numbers\")\n",
    "plt.xlabel(\"num_bus_stop_reward_unit\")\n",
    "\n",
    "print(\"End: \" + datetime.now().strftime('%Y-%m-%d %H:%M:%S'))"
   ]
  },
  {
   "cell_type": "code",
   "execution_count": 211,
   "id": "7134e208",
   "metadata": {},
   "outputs": [
    {
     "data": {
      "text/plain": [
       "array([[178. , 184.8, 183. , 181.6, 176.6, 182.2, 175. , 179.6, 184.8,\n",
       "        173.2],\n",
       "       [181. , 184.6, 181.8, 179. , 177.2, 175.8, 181.2, 181. , 189.6,\n",
       "        181.2],\n",
       "       [183.8, 180. , 184. , 179.8, 177. , 176. , 179.6, 183. , 181.8,\n",
       "        179. ],\n",
       "       [182.6, 179.2, 189. , 184.4, 182.4, 182.2, 178. , 183.2, 180.2,\n",
       "        175.8],\n",
       "       [175. , 178.4, 184.6, 182. , 179.6, 177. , 179.8, 182.4, 175. ,\n",
       "        182.2],\n",
       "       [182.6, 183.4, 182.6, 177.6, 181. , 178. , 178.6, 182.6, 175.2,\n",
       "        175.6],\n",
       "       [176.4, 179.8, 176. , 183.8, 188. , 179.8, 179.6, 179.8, 185.6,\n",
       "        181.8],\n",
       "       [179.4, 178.2, 178.6, 178.6, 180.2, 175.4, 178.2, 184.6, 176.6,\n",
       "        179.6],\n",
       "       [173.6, 181. , 179.2, 186.6, 180. , 180.4, 178.6, 179.2, 182. ,\n",
       "        179. ],\n",
       "       [179.6, 181.2, 181. , 174.4, 185.2, 172.8, 174.6, 183.2, 179.4,\n",
       "        175.8],\n",
       "       [182.8, 175.2, 184.2, 179. , 179.6, 178. , 184.2, 176.6, 181.2,\n",
       "        183. ]])"
      ]
     },
     "execution_count": 211,
     "metadata": {},
     "output_type": "execute_result"
    }
   ],
   "source": [
    "max_scooter_num_list_grid"
   ]
  },
  {
   "cell_type": "code",
   "execution_count": 212,
   "id": "f6957f55",
   "metadata": {},
   "outputs": [
    {
     "name": "stdout",
     "output_type": "stream",
     "text": [
      "End: 2025-07-14 00:51:19\n",
      "Plotting resulting graph...\n",
      "Plotting baseline 1...\n",
      "End: 2025-07-14 00:51:19\n"
     ]
    },
    {
     "data": {
      "image/png": "[encoded data removed]",
      "text/plain": [
       "<Figure size 432x288 with 1 Axes>"
      ]
     },
     "metadata": {
      "needs_background": "light"
     },
     "output_type": "display_data"
    }
   ],
   "source": [
    "# Plot the graphs of average rewards during testing phases of the policy\n",
    "# gradient method and the hand-crafted policies\n",
    "\n",
    "print(\"End: \" + datetime.now().strftime('%Y-%m-%d %H:%M:%S'))\n",
    "\n",
    "max_scooter_num_list_grid = [np.array(avg_scooter_num_max_2)[sel_index_2],\n",
    "                        np.array(avg_scooter_num_max_3)[sel_index_3],\n",
    "                        np.array(avg_scooter_num_max_4)[sel_index_4],\n",
    "                        np.array(avg_scooter_num_max_5)[sel_index_5],\n",
    "                        np.array(avg_scooter_num_max_6)[sel_index_6],\n",
    "                        np.array(avg_scooter_num_max_7)[sel_index_7],\n",
    "                        np.array(avg_scooter_num_max_8)[sel_index_8],\n",
    "                        np.array(avg_scooter_num_max_9)[sel_index_9],\n",
    "                        np.array(avg_scooter_num_max_10)[sel_index_10],\n",
    "                        np.array(avg_scooter_num_max_11)[sel_index_11],\n",
    "                        np.array(avg_scooter_num_max_12)[sel_index_12]]\n",
    "max_scooter_num_mean_grid = []\n",
    "max_scooter_num_std_grid = []\n",
    "for ii in range(len(num_transPOI_reward_unit_list)):\n",
    "    max_scooter_num_mean_grid.append(np.mean(max_scooter_num_list_grid[ii]))\n",
    "    max_scooter_num_std_grid.append(np.std(max_scooter_num_list_grid[ii]))\n",
    "\n",
    "print(\"Plotting resulting graph...\")\n",
    "# plt.figure(figsize = (12, 9))\n",
    "l1 = plt.errorbar(num_transPOI_reward_unit_list, max_scooter_num_mean_grid, yerr=max_scooter_num_std_grid, fmt='o-', capsize=5) # ecolor='gray', \n",
    "\n",
    "print(\"Plotting baseline 1...\")\n",
    "# plt.legend(loc='best',prop={'size': 10})\n",
    "plt.ylabel(\"Count of scooter numbers\")\n",
    "plt.xlabel(\"num_bus_stop_reward_unit\")\n",
    "\n",
    "print(\"End: \" + datetime.now().strftime('%Y-%m-%d %H:%M:%S'))"
   ]
  },
  {
   "cell_type": "code",
   "execution_count": 213,
   "id": "e1c54dee",
   "metadata": {},
   "outputs": [
    {
     "name": "stdout",
     "output_type": "stream",
     "text": [
      "End: 2025-07-14 00:51:25\n",
      "Plotting resulting graph...\n",
      "Plotting baseline 1...\n",
      "End: 2025-07-14 00:51:25\n"
     ]
    },
    {
     "data": {
      "image/png": "[encoded data removed]",
      "text/plain": [
       "<Figure size 432x288 with 1 Axes>"
      ]
     },
     "metadata": {
      "needs_background": "light"
     },
     "output_type": "display_data"
    }
   ],
   "source": [
    "# Plot the graphs of average rewards during testing phases of the policy\n",
    "# gradient method and the hand-crafted policies\n",
    "\n",
    "print(\"End: \" + datetime.now().strftime('%Y-%m-%d %H:%M:%S'))\n",
    "\n",
    "max_scooter_loc_list_grid = np.array([avg_scooter_loc_max_2,\n",
    "                                avg_scooter_loc_max_3,\n",
    "                                avg_scooter_loc_max_4,\n",
    "                                avg_scooter_loc_max_5,\n",
    "                                avg_scooter_loc_max_6,\n",
    "                                avg_scooter_loc_max_7,\n",
    "                                avg_scooter_loc_max_8,\n",
    "                                avg_scooter_loc_max_9,\n",
    "                                avg_scooter_loc_max_10,\n",
    "                                avg_scooter_loc_max_11,\n",
    "                                avg_scooter_loc_max_12])\n",
    "max_scooter_loc_mean_grid = np.mean(max_scooter_loc_list_grid, axis=1)\n",
    "max_scooter_loc_std_grid = np.std(max_scooter_loc_list_grid, axis=1)\n",
    "\n",
    "print(\"Plotting resulting graph...\")\n",
    "# plt.figure(figsize = (12, 9))\n",
    "l1 = plt.errorbar(num_transPOI_reward_unit_list, max_scooter_loc_mean_grid, yerr=max_scooter_loc_std_grid, fmt='o-', capsize=5) # ecolor='gray', \n",
    "\n",
    "print(\"Plotting baseline 1...\")\n",
    "# plt.legend(loc='best',prop={'size': 10})\n",
    "plt.ylabel(\"Count of scooter locations\")\n",
    "plt.xlabel(\"num_bus_stop_reward_unit\")\n",
    "\n",
    "print(\"End: \" + datetime.now().strftime('%Y-%m-%d %H:%M:%S'))"
   ]
  },
  {
   "cell_type": "code",
   "execution_count": 214,
   "id": "909b5738",
   "metadata": {
    "scrolled": true
   },
   "outputs": [
    {
     "data": {
      "text/plain": [
       "array([[104.6, 108.4, 106.4, 105.6, 104. , 105. , 104.2, 104. , 106.2,\n",
       "        104.4],\n",
       "       [105.6, 105. , 105. , 104.2, 105. , 102.8, 105.2, 108.2, 108.2,\n",
       "        105.4],\n",
       "       [105. , 105. , 106.8, 103.6, 109.4, 106.4, 105.2, 104.8, 105.2,\n",
       "        103.2],\n",
       "       [105.8, 104.4, 107.8, 104.6, 107.6, 106.2, 103.8, 106. , 102.2,\n",
       "        102.2],\n",
       "       [106.6, 103.2, 108.2, 106.4, 104.6, 103.8, 102.6, 106.6, 103.6,\n",
       "        104.4],\n",
       "       [105. , 104.8, 108. , 105.6, 106.2, 107.2, 105. , 105.4, 102.4,\n",
       "        105. ],\n",
       "       [105.2, 102.8, 102.8, 105.6, 109.8, 106.4, 105. , 106.2, 107. ,\n",
       "        106.4],\n",
       "       [109.4, 103.8, 105.8, 105.4, 104.6, 103.4, 103.2, 106.4, 107. ,\n",
       "        104.4],\n",
       "       [104.6, 107. , 105.2, 107.4, 108.8, 104.4, 103.6, 105.2, 106.6,\n",
       "        103.6],\n",
       "       [104. , 104.8, 106.2, 104.2, 105.2, 101.6, 105. , 104.6, 105.6,\n",
       "        103. ],\n",
       "       [108.2, 102.2, 107.8, 106. , 102.8, 105.2, 106.6, 105.4, 105.2,\n",
       "        106.2]])"
      ]
     },
     "execution_count": 214,
     "metadata": {},
     "output_type": "execute_result"
    }
   ],
   "source": [
    "max_scooter_loc_list_grid"
   ]
  },
  {
   "cell_type": "code",
   "execution_count": 215,
   "id": "f4b1d750",
   "metadata": {},
   "outputs": [
    {
     "name": "stdout",
     "output_type": "stream",
     "text": [
      "End: 2025-07-14 00:51:28\n",
      "Plotting resulting graph...\n",
      "Plotting baseline 1...\n",
      "End: 2025-07-14 00:51:28\n"
     ]
    },
    {
     "data": {
      "image/png": "[encoded data removed]",
      "text/plain": [
       "<Figure size 432x288 with 1 Axes>"
      ]
     },
     "metadata": {
      "needs_background": "light"
     },
     "output_type": "display_data"
    }
   ],
   "source": [
    "# Plot the graphs of average rewards during testing phases of the policy\n",
    "# gradient method and the hand-crafted policies\n",
    "\n",
    "print(\"End: \" + datetime.now().strftime('%Y-%m-%d %H:%M:%S'))\n",
    "\n",
    "max_scooter_loc_list_grid = [np.array(avg_scooter_loc_max_2)[sel_index_2],\n",
    "                        np.array(avg_scooter_loc_max_3)[sel_index_3],\n",
    "                        np.array(avg_scooter_loc_max_4)[sel_index_4],\n",
    "                        np.array(avg_scooter_loc_max_5)[sel_index_5],\n",
    "                        np.array(avg_scooter_loc_max_6)[sel_index_6],\n",
    "                        np.array(avg_scooter_loc_max_7)[sel_index_7],\n",
    "                        np.array(avg_scooter_loc_max_8)[sel_index_8],\n",
    "                        np.array(avg_scooter_loc_max_9)[sel_index_9],\n",
    "                        np.array(avg_scooter_loc_max_10)[sel_index_10],\n",
    "                        np.array(avg_scooter_loc_max_11)[sel_index_11],\n",
    "                        np.array(avg_scooter_loc_max_12)[sel_index_12]]\n",
    "max_scooter_loc_mean_grid = []\n",
    "max_scooter_loc_std_grid = []\n",
    "for ii in range(len(num_transPOI_reward_unit_list)):\n",
    "    max_scooter_loc_mean_grid.append(np.mean(max_scooter_loc_list_grid[ii]))\n",
    "    max_scooter_loc_std_grid.append(np.std(max_scooter_loc_list_grid[ii]))\n",
    "\n",
    "print(\"Plotting resulting graph...\")\n",
    "# plt.figure(figsize = (12, 9))\n",
    "l1 = plt.errorbar(num_transPOI_reward_unit_list, max_scooter_loc_mean_grid, yerr=max_scooter_loc_std_grid, fmt='o-', capsize=5) # ecolor='gray', \n",
    "\n",
    "print(\"Plotting baseline 1...\")\n",
    "# plt.legend(loc='best',prop={'size': 10})\n",
    "plt.ylabel(\"Count of scooter locations\")\n",
    "plt.xlabel(\"num_bus_stop_reward_unit\")\n",
    "\n",
    "print(\"End: \" + datetime.now().strftime('%Y-%m-%d %H:%M:%S'))"
   ]
  },
  {
   "cell_type": "code",
   "execution_count": 216,
   "id": "395b0814",
   "metadata": {},
   "outputs": [
    {
     "name": "stdout",
     "output_type": "stream",
     "text": [
      "End: 2025-07-14 00:51:32\n",
      "Plotting resulting graph...\n",
      "Plotting baseline 1...\n",
      "End: 2025-07-14 00:51:32\n"
     ]
    },
    {
     "data": {
      "image/png": "[encoded data removed]",
      "text/plain": [
       "<Figure size 432x288 with 1 Axes>"
      ]
     },
     "metadata": {
      "needs_background": "light"
     },
     "output_type": "display_data"
    }
   ],
   "source": [
    "# Plot the graphs of average rewards during testing phases of the policy\n",
    "# gradient method and the hand-crafted policies\n",
    "\n",
    "print(\"End: \" + datetime.now().strftime('%Y-%m-%d %H:%M:%S'))\n",
    "\n",
    "max_wANNR_list_grid = np.array([avg_wANNR_max_2,\n",
    "                                avg_wANNR_max_3,\n",
    "                                avg_wANNR_max_4,\n",
    "                                avg_wANNR_max_5,\n",
    "                                avg_wANNR_max_6,\n",
    "                                avg_wANNR_max_7,\n",
    "                                avg_wANNR_max_8,\n",
    "                                avg_wANNR_max_9,\n",
    "                                avg_wANNR_max_10,\n",
    "                                avg_wANNR_max_11,\n",
    "                                avg_wANNR_max_12])\n",
    "max_wANNR_mean_grid = np.mean(max_wANNR_list_grid, axis=1)\n",
    "max_wANNR_std_grid = np.std(max_wANNR_list_grid, axis=1)\n",
    "\n",
    "print(\"Plotting resulting graph...\")\n",
    "# plt.figure(figsize = (12, 9))\n",
    "l1 = plt.errorbar(num_transPOI_reward_unit_list, max_wANNR_mean_grid, yerr=max_wANNR_std_grid, fmt='o-', capsize=5) # ecolor='gray', \n",
    "\n",
    "print(\"Plotting baseline 1...\")\n",
    "# plt.legend(loc='best',prop={'size': 10})\n",
    "plt.ylabel(\"wANNR\")\n",
    "plt.xlabel(\"num_bus_stop_reward_unit\")\n",
    "\n",
    "print(\"End: \" + datetime.now().strftime('%Y-%m-%d %H:%M:%S'))"
   ]
  },
  {
   "cell_type": "code",
   "execution_count": 217,
   "id": "3aafeb84",
   "metadata": {},
   "outputs": [
    {
     "data": {
      "text/plain": [
       "array([[0.47689135, 0.48595563, 0.48411787, 0.48170829, 0.47544084,\n",
       "        0.4824954 , 0.47266889, 0.47902441, 0.48598143, 0.47257738],\n",
       "       [0.48089992, 0.48570405, 0.48196519, 0.47820748, 0.47603757,\n",
       "        0.47370076, 0.48115837, 0.48094967, 0.4922534 , 0.48117983],\n",
       "       [0.48461108, 0.47955377, 0.48490595, 0.47918902, 0.47557387,\n",
       "        0.47418613, 0.48027894, 0.48359072, 0.48217125, 0.47816597],\n",
       "       [0.48303854, 0.47838271, 0.49147295, 0.48596846, 0.48278408,\n",
       "        0.48248943, 0.47688071, 0.48387419, 0.47983089, 0.47365845],\n",
       "       [0.47283578, 0.47810716, 0.48570235, 0.48276671, 0.47900116,\n",
       "        0.47549328, 0.47922708, 0.48283519, 0.47277012, 0.48251203],\n",
       "       [0.48359582, 0.48410175, 0.48302819, 0.47629645, 0.48096797,\n",
       "        0.47692118, 0.47819675, 0.4830606 , 0.47309002, 0.47353855],\n",
       "       [0.47465722, 0.47922236, 0.47398595, 0.48464139, 0.4901614 ,\n",
       "        0.47926931, 0.47901442, 0.47927216, 0.48705284, 0.48198858],\n",
       "       [0.47877901, 0.47828446, 0.47766423, 0.47765582, 0.47982055,\n",
       "        0.4732409 , 0.47697908, 0.48625958, 0.47506334, 0.47900047],\n",
       "       [0.47099012, 0.481428  , 0.47848001, 0.48884245, 0.47962373,\n",
       "        0.4805825 , 0.47765919, 0.47847891, 0.48220398, 0.47813729],\n",
       "       [0.47898545, 0.48116857, 0.48092933, 0.47253034, 0.48648685,\n",
       "        0.46947245, 0.47226134, 0.48382985, 0.47876449, 0.47385553],\n",
       "       [0.48332932, 0.47281803, 0.485172  , 0.4782664 , 0.47897771,\n",
       "        0.47796688, 0.48516042, 0.47497689, 0.48121434, 0.48360641]])"
      ]
     },
     "execution_count": 217,
     "metadata": {},
     "output_type": "execute_result"
    }
   ],
   "source": [
    "max_wANNR_list_grid"
   ]
  },
  {
   "cell_type": "code",
   "execution_count": 218,
   "id": "66db0af5",
   "metadata": {},
   "outputs": [
    {
     "name": "stdout",
     "output_type": "stream",
     "text": [
      "End: 2025-07-14 00:51:35\n",
      "Plotting resulting graph...\n",
      "Plotting baseline 1...\n",
      "End: 2025-07-14 00:51:35\n"
     ]
    },
    {
     "data": {
      "image/png": "[encoded data removed]",
      "text/plain": [
       "<Figure size 432x288 with 1 Axes>"
      ]
     },
     "metadata": {
      "needs_background": "light"
     },
     "output_type": "display_data"
    }
   ],
   "source": [
    "# Plot the graphs of average rewards during testing phases of the policy\n",
    "# gradient method and the hand-crafted policies\n",
    "\n",
    "print(\"End: \" + datetime.now().strftime('%Y-%m-%d %H:%M:%S'))\n",
    "\n",
    "max_wANNR_list_grid = [np.array(avg_wANNR_max_2)[sel_index_2],\n",
    "                        np.array(avg_wANNR_max_3)[sel_index_3],\n",
    "                        np.array(avg_wANNR_max_4)[sel_index_4],\n",
    "                        np.array(avg_wANNR_max_5)[sel_index_5],\n",
    "                        np.array(avg_wANNR_max_6)[sel_index_6],\n",
    "                        np.array(avg_wANNR_max_7)[sel_index_7],\n",
    "                        np.array(avg_wANNR_max_8)[sel_index_8],\n",
    "                        np.array(avg_wANNR_max_9)[sel_index_9],\n",
    "                        np.array(avg_wANNR_max_10)[sel_index_10],\n",
    "                        np.array(avg_wANNR_max_11)[sel_index_11],\n",
    "                        np.array(avg_wANNR_max_12)[sel_index_12]]\n",
    "max_wANNR_mean_grid = []\n",
    "max_wANNR_std_grid = []\n",
    "for ii in range(len(num_transPOI_reward_unit_list)):\n",
    "    max_wANNR_mean_grid.append(np.mean(max_wANNR_list_grid[ii]))\n",
    "    max_wANNR_std_grid.append(np.std(max_wANNR_list_grid[ii]))\n",
    "\n",
    "print(\"Plotting resulting graph...\")\n",
    "# plt.figure(figsize = (12, 9))\n",
    "l1 = plt.errorbar(num_transPOI_reward_unit_list, max_wANNR_mean_grid, yerr=max_wANNR_std_grid, fmt='o-', capsize=5) # ecolor='gray', \n",
    "\n",
    "print(\"Plotting baseline 1...\")\n",
    "# plt.legend(loc='best',prop={'size': 10})\n",
    "plt.ylabel(\"wANNR\")\n",
    "plt.xlabel(\"num_bus_stop_reward_unit\")\n",
    "\n",
    "print(\"End: \" + datetime.now().strftime('%Y-%m-%d %H:%M:%S'))"
   ]
  },
  {
   "cell_type": "code",
   "execution_count": 219,
   "id": "1995c33d",
   "metadata": {},
   "outputs": [
    {
     "name": "stdout",
     "output_type": "stream",
     "text": [
      "End: 2025-07-14 00:51:39\n",
      "Plotting resulting graph...\n",
      "Plotting baseline 1...\n",
      "End: 2025-07-14 00:51:39\n"
     ]
    },
    {
     "data": {
      "image/png": "[encoded data removed]",
      "text/plain": [
       "<Figure size 432x288 with 1 Axes>"
      ]
     },
     "metadata": {
      "needs_background": "light"
     },
     "output_type": "display_data"
    }
   ],
   "source": [
    "# Plot the graphs of average rewards during testing phases of the policy\n",
    "# gradient method and the hand-crafted policies\n",
    "\n",
    "print(\"End: \" + datetime.now().strftime('%Y-%m-%d %H:%M:%S'))\n",
    "\n",
    "max_moran_list_grid = np.array([avg_moran_max_2,\n",
    "                                avg_moran_max_3,\n",
    "                                avg_moran_max_4,\n",
    "                                avg_moran_max_5,\n",
    "                                avg_moran_max_6,\n",
    "                                avg_moran_max_7,\n",
    "                                avg_moran_max_8,\n",
    "                                avg_moran_max_9,\n",
    "                                avg_moran_max_10,\n",
    "                                avg_moran_max_11,\n",
    "                                avg_moran_max_12])\n",
    "max_moran_mean_grid = np.mean(max_moran_list_grid, axis=1)\n",
    "max_moran_std_grid = np.std(max_moran_list_grid, axis=1)\n",
    "\n",
    "print(\"Plotting resulting graph...\")\n",
    "# plt.figure(figsize = (12, 9))\n",
    "l1 = plt.errorbar(num_transPOI_reward_unit_list, max_moran_mean_grid, yerr=max_moran_std_grid, fmt='o-', capsize=5) # ecolor='gray', \n",
    "\n",
    "print(\"Plotting baseline 1...\")\n",
    "# plt.legend(loc='best',prop={'size': 10})\n",
    "plt.ylabel(\"Moran's I\")\n",
    "plt.xlabel(\"num_bus_stop_reward_unit\")\n",
    "\n",
    "print(\"End: \" + datetime.now().strftime('%Y-%m-%d %H:%M:%S'))"
   ]
  },
  {
   "cell_type": "code",
   "execution_count": 220,
   "id": "c15474f8",
   "metadata": {},
   "outputs": [
    {
     "data": {
      "text/plain": [
       "array([[0.03733514, 0.03739121, 0.03727721, 0.03644897, 0.03846895,\n",
       "        0.0393669 , 0.03635122, 0.03780963, 0.03861469, 0.03547118],\n",
       "       [0.03885581, 0.03796903, 0.03642698, 0.0398472 , 0.03966044,\n",
       "        0.03891772, 0.03840756, 0.04015585, 0.03978494, 0.03956463],\n",
       "       [0.03762143, 0.03895773, 0.03977344, 0.03880055, 0.04172441,\n",
       "        0.0380158 , 0.04022737, 0.03769959, 0.03849267, 0.03612269],\n",
       "       [0.03734443, 0.03763494, 0.0371205 , 0.03770853, 0.03796096,\n",
       "        0.03658799, 0.03885501, 0.03924246, 0.03627553, 0.03656135],\n",
       "       [0.04022317, 0.03785646, 0.03883184, 0.03783807, 0.03887075,\n",
       "        0.04024531, 0.0384687 , 0.03846597, 0.0370248 , 0.03918333],\n",
       "       [0.03916931, 0.03790491, 0.03826159, 0.0366038 , 0.03858389,\n",
       "        0.03956401, 0.03801631, 0.03840469, 0.03822215, 0.03693617],\n",
       "       [0.03822486, 0.03636227, 0.03612571, 0.03766777, 0.03823807,\n",
       "        0.03774919, 0.03952999, 0.04125812, 0.03885572, 0.0382854 ],\n",
       "       [0.03870884, 0.03809127, 0.03935992, 0.03829488, 0.03714973,\n",
       "        0.03604271, 0.03868946, 0.03683018, 0.03660811, 0.03727293],\n",
       "       [0.03744513, 0.04023284, 0.03817553, 0.03773424, 0.04167831,\n",
       "        0.03659189, 0.03785127, 0.03658824, 0.03834877, 0.03799407],\n",
       "       [0.03949198, 0.03890389, 0.03827642, 0.03778791, 0.03842238,\n",
       "        0.03661219, 0.03941276, 0.03944162, 0.0387093 , 0.03576015],\n",
       "       [0.03928507, 0.03618798, 0.03824742, 0.04103055, 0.0370413 ,\n",
       "        0.03974208, 0.0382212 , 0.0398612 , 0.03992881, 0.03839103]])"
      ]
     },
     "execution_count": 220,
     "metadata": {},
     "output_type": "execute_result"
    }
   ],
   "source": [
    "max_moran_list_grid"
   ]
  },
  {
   "cell_type": "code",
   "execution_count": 221,
   "id": "bbec88e4",
   "metadata": {},
   "outputs": [
    {
     "name": "stdout",
     "output_type": "stream",
     "text": [
      "End: 2025-07-14 00:51:42\n",
      "Plotting resulting graph...\n",
      "Plotting baseline 1...\n",
      "End: 2025-07-14 00:51:42\n"
     ]
    },
    {
     "data": {
      "image/png": "[encoded data removed]",
      "text/plain": [
       "<Figure size 432x288 with 1 Axes>"
      ]
     },
     "metadata": {
      "needs_background": "light"
     },
     "output_type": "display_data"
    }
   ],
   "source": [
    "# Plot the graphs of average rewards during testing phases of the policy\n",
    "# gradient method and the hand-crafted policies\n",
    "\n",
    "print(\"End: \" + datetime.now().strftime('%Y-%m-%d %H:%M:%S'))\n",
    "\n",
    "max_moran_list_grid = [np.array(avg_moran_max_2)[sel_index_2],\n",
    "                        np.array(avg_moran_max_3)[sel_index_3],\n",
    "                        np.array(avg_moran_max_4)[sel_index_4],\n",
    "                        np.array(avg_moran_max_5)[sel_index_5],\n",
    "                        np.array(avg_moran_max_6)[sel_index_6],\n",
    "                        np.array(avg_moran_max_7)[sel_index_7],\n",
    "                        np.array(avg_moran_max_8)[sel_index_8],\n",
    "                        np.array(avg_moran_max_9)[sel_index_9],\n",
    "                        np.array(avg_moran_max_10)[sel_index_10],\n",
    "                        np.array(avg_moran_max_11)[sel_index_11],\n",
    "                        np.array(avg_moran_max_12)[sel_index_12]]\n",
    "max_moran_mean_grid = []\n",
    "max_moran_std_grid = []\n",
    "for ii in range(len(num_transPOI_reward_unit_list)):\n",
    "    max_moran_mean_grid.append(np.mean(max_moran_list_grid[ii]))\n",
    "    max_moran_std_grid.append(np.std(max_moran_list_grid[ii]))\n",
    "\n",
    "print(\"Plotting resulting graph...\")\n",
    "# plt.figure(figsize = (12, 9))\n",
    "l1 = plt.errorbar(num_transPOI_reward_unit_list, max_moran_mean_grid, yerr=max_moran_std_grid, fmt='o-', capsize=5) # ecolor='gray', \n",
    "\n",
    "print(\"Plotting baseline 1...\")\n",
    "# plt.legend(loc='best',prop={'size': 10})\n",
    "plt.ylabel(\"Moran's I\")\n",
    "plt.xlabel(\"num_bus_stop_reward_unit\")\n",
    "\n",
    "print(\"End: \" + datetime.now().strftime('%Y-%m-%d %H:%M:%S'))"
   ]
  },
  {
   "cell_type": "code",
   "execution_count": 222,
   "id": "622617ec",
   "metadata": {},
   "outputs": [
    {
     "name": "stdout",
     "output_type": "stream",
     "text": [
      "End: 2025-07-14 00:51:47\n",
      "Plotting resulting graph...\n",
      "Plotting baseline 1...\n",
      "End: 2025-07-14 00:51:47\n"
     ]
    },
    {
     "data": {
      "image/png": "[encoded data removed]",
      "text/plain": [
       "<Figure size 432x288 with 1 Axes>"
      ]
     },
     "metadata": {
      "needs_background": "light"
     },
     "output_type": "display_data"
    }
   ],
   "source": [
    "# Plot the graphs of average rewards during testing phases of the policy\n",
    "# gradient method and the hand-crafted policies\n",
    "\n",
    "print(\"End: \" + datetime.now().strftime('%Y-%m-%d %H:%M:%S'))\n",
    "\n",
    "max_gini_list_grid = np.array([avg_gini_max_2,\n",
    "                                avg_gini_max_3,\n",
    "                                avg_gini_max_4,\n",
    "                                avg_gini_max_5,\n",
    "                                avg_gini_max_6,\n",
    "                                avg_gini_max_7,\n",
    "                                avg_gini_max_8,\n",
    "                                avg_gini_max_9,\n",
    "                                avg_gini_max_10,\n",
    "                                avg_gini_max_11,\n",
    "                                avg_gini_max_12])\n",
    "max_gini_mean_grid = np.mean(max_gini_list_grid, axis=1)\n",
    "max_gini_std_grid = np.std(max_gini_list_grid, axis=1)\n",
    "\n",
    "print(\"Plotting resulting graph...\")\n",
    "# plt.figure(figsize = (12, 9))\n",
    "l1 = plt.errorbar(num_transPOI_reward_unit_list, max_gini_mean_grid, yerr=max_gini_std_grid, fmt='o-', capsize=5) # ecolor='gray', \n",
    "\n",
    "print(\"Plotting baseline 1...\")\n",
    "# plt.legend(loc='best',prop={'size': 10})\n",
    "plt.ylabel(\"Gini index\")\n",
    "plt.xlabel(\"num_bus_stop_reward_unit\")\n",
    "\n",
    "print(\"End: \" + datetime.now().strftime('%Y-%m-%d %H:%M:%S'))"
   ]
  },
  {
   "cell_type": "code",
   "execution_count": 223,
   "id": "b8a3ecb2",
   "metadata": {},
   "outputs": [
    {
     "data": {
      "text/plain": [
       "array([[0.94847184, 0.94691825, 0.94814155, 0.9486178 , 0.94882644,\n",
       "        0.94882943, 0.94826559, 0.94938914, 0.94872798, 0.94815535],\n",
       "       [0.948437  , 0.94963413, 0.94923432, 0.94886316, 0.94816644,\n",
       "        0.94933418, 0.94858176, 0.94605   , 0.94780305, 0.94827859],\n",
       "       [0.94937423, 0.94847353, 0.94783519, 0.94955107, 0.94422141,\n",
       "        0.94699815, 0.94821294, 0.9491708 , 0.94878587, 0.94980655],\n",
       "       [0.94847079, 0.94927515, 0.94819737, 0.94955068, 0.94668149,\n",
       "        0.94825797, 0.94881059, 0.94819252, 0.95106875, 0.95002478],\n",
       "       [0.94662976, 0.9497577 , 0.9468766 , 0.94800764, 0.94881324,\n",
       "        0.94889564, 0.95031479, 0.94743862, 0.94898877, 0.94921544],\n",
       "       [0.94893808, 0.94949536, 0.94652663, 0.94761601, 0.94779465,\n",
       "        0.94588676, 0.94823129, 0.94857611, 0.94985226, 0.94774412],\n",
       "       [0.9479258 , 0.95030911, 0.94953372, 0.94904315, 0.94638409,\n",
       "        0.94734179, 0.94823622, 0.94741297, 0.94781358, 0.94787409],\n",
       "       [0.94505491, 0.94932145, 0.94745399, 0.94775756, 0.94868942,\n",
       "        0.94928526, 0.94974862, 0.94858051, 0.94725742, 0.94911912],\n",
       "       [0.94724898, 0.94683175, 0.94825676, 0.94804715, 0.94571896,\n",
       "        0.94936352, 0.9491276 , 0.94819924, 0.94776933, 0.94947113],\n",
       "       [0.94928795, 0.94887344, 0.94785624, 0.94838188, 0.94958659,\n",
       "        0.94989521, 0.94730023, 0.94919105, 0.94823989, 0.94950021],\n",
       "       [0.94633213, 0.94998867, 0.94725104, 0.94742102, 0.95017687,\n",
       "        0.94827854, 0.94817556, 0.94753173, 0.94837244, 0.94816853]])"
      ]
     },
     "execution_count": 223,
     "metadata": {},
     "output_type": "execute_result"
    }
   ],
   "source": [
    "max_gini_list_grid"
   ]
  },
  {
   "cell_type": "code",
   "execution_count": 224,
   "id": "3331d0c3",
   "metadata": {},
   "outputs": [
    {
     "name": "stdout",
     "output_type": "stream",
     "text": [
      "End: 2025-07-14 00:51:49\n",
      "Plotting resulting graph...\n",
      "Plotting baseline 1...\n",
      "End: 2025-07-14 00:51:49\n"
     ]
    },
    {
     "data": {
      "image/png": "[encoded data removed]",
      "text/plain": [
       "<Figure size 432x288 with 1 Axes>"
      ]
     },
     "metadata": {
      "needs_background": "light"
     },
     "output_type": "display_data"
    }
   ],
   "source": [
    "# Plot the graphs of average rewards during testing phases of the policy\n",
    "# gradient method and the hand-crafted policies\n",
    "\n",
    "print(\"End: \" + datetime.now().strftime('%Y-%m-%d %H:%M:%S'))\n",
    "\n",
    "max_gini_list_grid = [np.array(avg_gini_max_2)[sel_index_2],\n",
    "                        np.array(avg_gini_max_3)[sel_index_3],\n",
    "                        np.array(avg_gini_max_4)[sel_index_4],\n",
    "                        np.array(avg_gini_max_5)[sel_index_5],\n",
    "                        np.array(avg_gini_max_6)[sel_index_6],\n",
    "                        np.array(avg_gini_max_7)[sel_index_7],\n",
    "                        np.array(avg_gini_max_8)[sel_index_8],\n",
    "                        np.array(avg_gini_max_9)[sel_index_9],\n",
    "                        np.array(avg_gini_max_10)[sel_index_10],\n",
    "                        np.array(avg_gini_max_11)[sel_index_11],\n",
    "                        np.array(avg_gini_max_12)[sel_index_12]]\n",
    "max_gini_mean_grid = []\n",
    "max_gini_std_grid = []\n",
    "for ii in range(len(num_transPOI_reward_unit_list)):\n",
    "    max_gini_mean_grid.append(np.mean(max_gini_list_grid[ii]))\n",
    "    max_gini_std_grid.append(np.std(max_gini_list_grid[ii]))\n",
    "\n",
    "print(\"Plotting resulting graph...\")\n",
    "# plt.figure(figsize = (12, 9))\n",
    "l1 = plt.errorbar(num_transPOI_reward_unit_list, max_gini_mean_grid, yerr=max_gini_std_grid, fmt='o-', capsize=5) # ecolor='gray', \n",
    "\n",
    "print(\"Plotting baseline 1...\")\n",
    "# plt.legend(loc='best',prop={'size': 10})\n",
    "plt.ylabel(\"Gini index\")\n",
    "plt.xlabel(\"num_bus_stop_reward_unit\")\n",
    "\n",
    "print(\"End: \" + datetime.now().strftime('%Y-%m-%d %H:%M:%S'))"
   ]
  },
  {
   "cell_type": "code",
   "execution_count": 225,
   "id": "9399863c",
   "metadata": {},
   "outputs": [
    {
     "name": "stdout",
     "output_type": "stream",
     "text": [
      "End: 2025-07-14 00:52:07\n",
      "Plotting resulting graph...\n",
      "Plotting baseline 1...\n",
      "End: 2025-07-14 00:52:07\n"
     ]
    },
    {
     "data": {
      "image/png": "[encoded data removed]",
      "text/plain": [
       "<Figure size 432x288 with 1 Axes>"
      ]
     },
     "metadata": {
      "needs_background": "light"
     },
     "output_type": "display_data"
    }
   ],
   "source": [
    "# Plot the graphs of average rewards during testing phases of the policy\n",
    "# gradient method and the hand-crafted policies\n",
    "\n",
    "print(\"End: \" + datetime.now().strftime('%Y-%m-%d %H:%M:%S'))\n",
    "\n",
    "max_theil_list_grid = np.array([avg_theil_max_2,\n",
    "                                avg_theil_max_3,\n",
    "                                avg_theil_max_4,\n",
    "                                avg_theil_max_5,\n",
    "                                avg_theil_max_6,\n",
    "                                avg_theil_max_7,\n",
    "                                avg_theil_max_8,\n",
    "                                avg_theil_max_9,\n",
    "                                avg_theil_max_10,\n",
    "                                avg_theil_max_11,\n",
    "                                avg_theil_max_12])\n",
    "max_theil_mean_grid = np.mean(max_theil_list_grid, axis=1)\n",
    "max_theil_std_grid = np.std(max_theil_list_grid, axis=1)\n",
    "\n",
    "print(\"Plotting resulting graph...\")\n",
    "# plt.figure(figsize = (12, 9))\n",
    "l1 = plt.errorbar(num_transPOI_reward_unit_list, max_theil_mean_grid, yerr=max_theil_std_grid, fmt='o-', capsize=5) # ecolor='gray', \n",
    "\n",
    "print(\"Plotting baseline 1...\")\n",
    "# plt.legend(loc='best',prop={'size': 10})\n",
    "plt.ylabel(\"Theil index\")\n",
    "plt.xlabel(\"num_bus_stop_reward_unit\")\n",
    "\n",
    "print(\"End: \" + datetime.now().strftime('%Y-%m-%d %H:%M:%S'))"
   ]
  },
  {
   "cell_type": "code",
   "execution_count": 226,
   "id": "18efe939",
   "metadata": {},
   "outputs": [
    {
     "data": {
      "text/plain": [
       "array([[0.21227645, 0.22463607, 0.22536632, 0.22652044, 0.21685353,\n",
       "        0.22189464, 0.20815127, 0.22489044, 0.22990668, 0.20945543],\n",
       "       [0.22430027, 0.23651495, 0.23473925, 0.21263536, 0.21032815,\n",
       "        0.21149399, 0.21728625, 0.20226842, 0.22738364, 0.2116099 ],\n",
       "       [0.22930615, 0.21517769, 0.21937827, 0.22001917, 0.18411666,\n",
       "        0.21141686, 0.21166784, 0.22324769, 0.22377795, 0.22231694],\n",
       "       [0.2232921 , 0.23356559, 0.23587796, 0.22703186, 0.20941824,\n",
       "        0.22973567, 0.20632544, 0.21363081, 0.23461844, 0.21945942],\n",
       "       [0.20466434, 0.2222413 , 0.21822579, 0.22461878, 0.21590902,\n",
       "        0.21144398, 0.22067622, 0.20732294, 0.21521066, 0.21841234],\n",
       "       [0.22009214, 0.23282689, 0.20942279, 0.2107935 , 0.21327465,\n",
       "        0.18640522, 0.21393272, 0.21889575, 0.21682174, 0.21025669],\n",
       "       [0.20784961, 0.22410698, 0.21352095, 0.23315171, 0.22635897,\n",
       "        0.21223521, 0.20686295, 0.20953515, 0.21824041, 0.21945921],\n",
       "       [0.2052585 , 0.22391013, 0.20656558, 0.20540728, 0.21407081,\n",
       "        0.22255243, 0.2222814 , 0.23455956, 0.22597804, 0.22262925],\n",
       "       [0.19121383, 0.20339154, 0.21588108, 0.22991969, 0.20639972,\n",
       "        0.23210104, 0.20997702, 0.2122495 , 0.2200762 , 0.2209095 ],\n",
       "       [0.22126196, 0.21993162, 0.21886173, 0.21095021, 0.2377575 ,\n",
       "        0.21429629, 0.19328923, 0.21786273, 0.22066789, 0.22232579],\n",
       "       [0.20783138, 0.22083631, 0.22650874, 0.20419442, 0.22396029,\n",
       "        0.2140996 , 0.22809831, 0.20443085, 0.20974785, 0.21887969]])"
      ]
     },
     "execution_count": 226,
     "metadata": {},
     "output_type": "execute_result"
    }
   ],
   "source": [
    "max_theil_list_grid"
   ]
  },
  {
   "cell_type": "code",
   "execution_count": 227,
   "id": "e57faad4",
   "metadata": {
    "scrolled": true
   },
   "outputs": [
    {
     "name": "stdout",
     "output_type": "stream",
     "text": [
      "End: 2025-07-14 00:52:10\n",
      "Plotting resulting graph...\n",
      "Plotting baseline 1...\n",
      "End: 2025-07-14 00:52:10\n"
     ]
    },
    {
     "data": {
      "image/png": "[encoded data removed]",
      "text/plain": [
       "<Figure size 432x288 with 1 Axes>"
      ]
     },
     "metadata": {
      "needs_background": "light"
     },
     "output_type": "display_data"
    }
   ],
   "source": [
    "# Plot the graphs of average rewards during testing phases of the policy\n",
    "# gradient method and the hand-crafted policies\n",
    "\n",
    "print(\"End: \" + datetime.now().strftime('%Y-%m-%d %H:%M:%S'))\n",
    "\n",
    "max_theil_list_grid = [np.array(avg_theil_max_2)[sel_index_2],\n",
    "                        np.array(avg_theil_max_3)[sel_index_3],\n",
    "                        np.array(avg_theil_max_4)[sel_index_4],\n",
    "                        np.array(avg_theil_max_5)[sel_index_5],\n",
    "                        np.array(avg_theil_max_6)[sel_index_6],\n",
    "                        np.array(avg_theil_max_7)[sel_index_7],\n",
    "                        np.array(avg_theil_max_8)[sel_index_8],\n",
    "                        np.array(avg_theil_max_9)[sel_index_9],\n",
    "                        np.array(avg_theil_max_10)[sel_index_10],\n",
    "                        np.array(avg_theil_max_11)[sel_index_11],\n",
    "                        np.array(avg_theil_max_12)[sel_index_12]]\n",
    "max_theil_mean_grid = []\n",
    "max_theil_std_grid = []\n",
    "for ii in range(len(num_transPOI_reward_unit_list)):\n",
    "    max_theil_mean_grid.append(np.mean(max_theil_list_grid[ii]))\n",
    "    max_theil_std_grid.append(np.std(max_theil_list_grid[ii]))\n",
    "\n",
    "print(\"Plotting resulting graph...\")\n",
    "# plt.figure(figsize = (12, 9))\n",
    "l1 = plt.errorbar(num_transPOI_reward_unit_list, max_theil_mean_grid, yerr=max_theil_std_grid, fmt='o-', capsize=5) # ecolor='gray', \n",
    "\n",
    "print(\"Plotting baseline 1...\")\n",
    "# plt.legend(loc='best',prop={'size': 10})\n",
    "plt.ylabel(\"Theil index\")\n",
    "plt.xlabel(\"num_bus_stop_reward_unit\")\n",
    "\n",
    "print(\"End: \" + datetime.now().strftime('%Y-%m-%d %H:%M:%S'))"
   ]
  },
  {
   "cell_type": "code",
   "execution_count": 228,
   "id": "5d0636e8",
   "metadata": {},
   "outputs": [
    {
     "name": "stdout",
     "output_type": "stream",
     "text": [
      "End: 2025-07-14 00:52:16\n",
      "Plotting resulting graph...\n",
      "Plotting baseline 1...\n",
      "End: 2025-07-14 00:52:16\n"
     ]
    },
    {
     "data": {
      "image/png": "[encoded data removed]",
      "text/plain": [
       "<Figure size 432x288 with 1 Axes>"
      ]
     },
     "metadata": {
      "needs_background": "light"
     },
     "output_type": "display_data"
    }
   ],
   "source": [
    "# Plot the graphs of average rewards during testing phases of the policy\n",
    "# gradient method and the hand-crafted policies\n",
    "\n",
    "print(\"End: \" + datetime.now().strftime('%Y-%m-%d %H:%M:%S'))\n",
    "\n",
    "max_EMD_list_grid = np.array([avg_EMD_max_2,\n",
    "                                avg_EMD_max_3,\n",
    "                                avg_EMD_max_4,\n",
    "                                avg_EMD_max_5,\n",
    "                                avg_EMD_max_6,\n",
    "                                avg_EMD_max_7,\n",
    "                                avg_EMD_max_8,\n",
    "                                avg_EMD_max_9,\n",
    "                                avg_EMD_max_10,\n",
    "                                avg_EMD_max_11,\n",
    "                                avg_EMD_max_12])\n",
    "max_EMD_mean_grid = np.mean(max_EMD_list_grid, axis=1)\n",
    "max_EMD_std_grid = np.std(max_EMD_list_grid, axis=1)\n",
    "\n",
    "print(\"Plotting resulting graph...\")\n",
    "# plt.figure(figsize = (12, 9))\n",
    "l1 = plt.errorbar(num_transPOI_reward_unit_list, max_EMD_mean_grid, yerr=max_EMD_std_grid, fmt='o-', capsize=5) # ecolor='gray', \n",
    "\n",
    "print(\"Plotting baseline 1...\")\n",
    "# plt.legend(loc='best',prop={'size': 10})\n",
    "plt.ylabel(\"EMD\")\n",
    "plt.xlabel(\"num_bus_stop_reward_unit\")\n",
    "\n",
    "print(\"End: \" + datetime.now().strftime('%Y-%m-%d %H:%M:%S'))"
   ]
  },
  {
   "cell_type": "code",
   "execution_count": 229,
   "id": "88c0520f",
   "metadata": {},
   "outputs": [
    {
     "data": {
      "text/plain": [
       "array([[1.98733106, 1.99884791, 2.00309451, 1.99089888, 2.01485073,\n",
       "        2.03210253, 1.96861934, 2.01938261, 2.02079092, 1.94046941],\n",
       "       [2.02215892, 2.02885921, 2.01523615, 2.03031043, 2.02025638,\n",
       "        2.01947495, 1.9961734 , 1.99850417, 2.02892195, 2.00966237],\n",
       "       [2.01292736, 2.01660597, 2.02488228, 2.0180205 , 1.98684715,\n",
       "        1.97464057, 2.01245802, 2.03247697, 2.025377  , 1.99856503],\n",
       "       [2.00460849, 2.01679998, 2.00173392, 2.02412319, 1.99256465,\n",
       "        2.00872761, 2.01745881, 2.00280933, 2.02989279, 2.00676264],\n",
       "       [2.0211366 , 2.01866234, 2.00117925, 1.99300035, 2.0033559 ,\n",
       "        2.02523241, 2.02000975, 1.97462649, 2.00732102, 2.02522105],\n",
       "       [2.01539469, 2.02737366, 1.97820709, 1.98195677, 2.00060217,\n",
       "        1.94431684, 2.01664763, 1.99845431, 2.01295869, 2.0056689 ],\n",
       "       [1.98472385, 1.97821256, 1.98487618, 2.01996692, 1.98040946,\n",
       "        1.98395692, 2.00853042, 2.04869053, 2.00893474, 2.00309546],\n",
       "       [1.97395277, 2.02955272, 1.99309825, 1.98006333, 1.98651788,\n",
       "        2.00794025, 2.03132115, 2.00478668, 1.96881684, 2.01162985],\n",
       "       [1.97198744, 1.99597501, 2.01055505, 2.00248702, 2.02744485,\n",
       "        1.98223694, 2.00827257, 1.9883489 , 2.00589609, 2.01542588],\n",
       "       [2.03851158, 2.00097079, 2.00046091, 1.99534152, 2.04875385,\n",
       "        2.00405265, 1.98834988, 2.03204188, 2.01600549, 2.00204151],\n",
       "       [1.9974867 , 2.02926958, 2.00315561, 2.01533264, 2.01478375,\n",
       "        2.02432816, 2.00484408, 2.00472551, 2.01794618, 2.00398158]])"
      ]
     },
     "execution_count": 229,
     "metadata": {},
     "output_type": "execute_result"
    }
   ],
   "source": [
    "max_EMD_list_grid"
   ]
  },
  {
   "cell_type": "code",
   "execution_count": 230,
   "id": "8b10664d",
   "metadata": {},
   "outputs": [
    {
     "name": "stdout",
     "output_type": "stream",
     "text": [
      "End: 2025-07-14 00:52:17\n",
      "Plotting resulting graph...\n",
      "Plotting baseline 1...\n",
      "End: 2025-07-14 00:52:18\n"
     ]
    },
    {
     "data": {
      "image/png": "[encoded data removed]",
      "text/plain": [
       "<Figure size 432x288 with 1 Axes>"
      ]
     },
     "metadata": {
      "needs_background": "light"
     },
     "output_type": "display_data"
    }
   ],
   "source": [
    "# Plot the graphs of average rewards during testing phases of the policy\n",
    "# gradient method and the hand-crafted policies\n",
    "\n",
    "print(\"End: \" + datetime.now().strftime('%Y-%m-%d %H:%M:%S'))\n",
    "\n",
    "max_EMD_list_grid = [np.array(avg_EMD_max_2)[sel_index_2],\n",
    "                        np.array(avg_EMD_max_3)[sel_index_3],\n",
    "                        np.array(avg_EMD_max_4)[sel_index_4],\n",
    "                        np.array(avg_EMD_max_5)[sel_index_5],\n",
    "                        np.array(avg_EMD_max_6)[sel_index_6],\n",
    "                        np.array(avg_EMD_max_7)[sel_index_7],\n",
    "                        np.array(avg_EMD_max_8)[sel_index_8],\n",
    "                        np.array(avg_EMD_max_9)[sel_index_9],\n",
    "                        np.array(avg_EMD_max_10)[sel_index_10],\n",
    "                        np.array(avg_EMD_max_11)[sel_index_11],\n",
    "                        np.array(avg_EMD_max_12)[sel_index_12]]\n",
    "max_EMD_mean_grid = []\n",
    "max_EMD_std_grid = []\n",
    "for ii in range(len(num_transPOI_reward_unit_list)):\n",
    "    max_EMD_mean_grid.append(np.mean(max_EMD_list_grid[ii]))\n",
    "    max_EMD_std_grid.append(np.std(max_EMD_list_grid[ii]))\n",
    "\n",
    "print(\"Plotting resulting graph...\")\n",
    "# plt.figure(figsize = (12, 9))\n",
    "l1 = plt.errorbar(num_transPOI_reward_unit_list, max_EMD_mean_grid, yerr=max_EMD_std_grid, fmt='o-', capsize=5) # ecolor='gray', \n",
    "\n",
    "print(\"Plotting baseline 1...\")\n",
    "# plt.legend(loc='best',prop={'size': 10})\n",
    "plt.ylabel(\"EMD\")\n",
    "plt.xlabel(\"num_bus_stop_reward_unit\")\n",
    "\n",
    "print(\"End: \" + datetime.now().strftime('%Y-%m-%d %H:%M:%S'))"
   ]
  },
  {
   "cell_type": "code",
   "execution_count": 231,
   "id": "b5f1eb35",
   "metadata": {},
   "outputs": [
    {
     "name": "stdout",
     "output_type": "stream",
     "text": [
      "End: 2025-07-14 00:52:22\n",
      "Plotting resulting graph...\n",
      "Plotting baseline 1...\n",
      "End: 2025-07-14 00:52:22\n"
     ]
    },
    {
     "data": {
      "image/png": "[encoded data removed]",
      "text/plain": [
       "<Figure size 432x288 with 1 Axes>"
      ]
     },
     "metadata": {
      "needs_background": "light"
     },
     "output_type": "display_data"
    }
   ],
   "source": [
    "# Plot the graphs of average rewards during testing phases of the policy\n",
    "# gradient method and the hand-crafted policies\n",
    "\n",
    "print(\"End: \" + datetime.now().strftime('%Y-%m-%d %H:%M:%S'))\n",
    "\n",
    "max_centroid_list_grid = np.array([avg_centroid_max_2,\n",
    "                                avg_centroid_max_3,\n",
    "                                avg_centroid_max_4,\n",
    "                                avg_centroid_max_5,\n",
    "                                avg_centroid_max_6,\n",
    "                                avg_centroid_max_7,\n",
    "                                avg_centroid_max_8,\n",
    "                                avg_centroid_max_9,\n",
    "                                avg_centroid_max_10,\n",
    "                                avg_centroid_max_11,\n",
    "                                avg_centroid_max_12])\n",
    "max_centroid_mean_grid = np.mean(max_centroid_list_grid, axis=1)\n",
    "max_centroid_std_grid = np.std(max_centroid_list_grid, axis=1)\n",
    "\n",
    "print(\"Plotting resulting graph...\")\n",
    "# plt.figure(figsize = (12, 9))\n",
    "l1 = plt.errorbar(num_transPOI_reward_unit_list, max_centroid_mean_grid, yerr=max_centroid_std_grid, fmt='o-', capsize=5) # ecolor='gray', \n",
    "\n",
    "print(\"Plotting baseline 1...\")\n",
    "# plt.legend(loc='best',prop={'size': 10})\n",
    "plt.ylabel(\"Centroid shift\")\n",
    "plt.xlabel(\"num_bus_stop_reward_unit\")\n",
    "\n",
    "print(\"End: \" + datetime.now().strftime('%Y-%m-%d %H:%M:%S'))"
   ]
  },
  {
   "cell_type": "code",
   "execution_count": 232,
   "id": "9e54b365",
   "metadata": {},
   "outputs": [
    {
     "data": {
      "text/plain": [
       "array([[0.92881737, 0.91978739, 0.91598604, 0.93042921, 0.91806179,\n",
       "        0.93903414, 0.94542461, 0.92182832, 0.94149106, 0.93427966],\n",
       "       [0.94051813, 0.9289115 , 0.94236508, 0.90889735, 0.94376816,\n",
       "        0.90721571, 0.9271109 , 0.96412167, 0.93741436, 0.92611513],\n",
       "       [0.91999604, 0.94151501, 0.93727629, 0.92162267, 1.00411058,\n",
       "        0.91351321, 0.8868032 , 0.93667439, 0.9263876 , 0.92949618],\n",
       "       [0.91693389, 0.91236871, 0.91255694, 0.94175881, 0.94929698,\n",
       "        0.93511408, 0.92317143, 0.92883399, 0.87841677, 0.92629901],\n",
       "       [0.95273141, 0.89116496, 0.9282403 , 0.91532209, 0.91615754,\n",
       "        0.92556174, 0.91861034, 0.96030991, 0.92767441, 0.91969486],\n",
       "       [0.91534975, 0.90506675, 0.93807099, 0.94314089, 0.92129743,\n",
       "        0.9390002 , 0.94607588, 0.91122577, 0.87458616, 0.94662921],\n",
       "       [0.9370486 , 0.91661036, 0.94584474, 0.94127063, 0.89764679,\n",
       "        0.93854304, 0.91920066, 0.93913934, 0.93600826, 0.94099733],\n",
       "       [0.93646582, 0.90646818, 0.93361806, 0.92930679, 0.92444456,\n",
       "        0.91957425, 0.89118318, 0.9177904 , 0.93808727, 0.92527301],\n",
       "       [0.94512529, 0.95326594, 0.93024221, 0.91869102, 0.93616355,\n",
       "        0.88920581, 0.93432345, 0.94421695, 0.90762032, 0.91256008],\n",
       "       [0.94081322, 0.89899038, 0.9206612 , 0.94591363, 0.92525071,\n",
       "        0.95354044, 0.92180292, 0.93585495, 0.93299842, 0.9632694 ],\n",
       "       [0.94073854, 0.94065168, 0.9237786 , 0.95184327, 0.88951792,\n",
       "        0.95412868, 0.90887443, 0.95494973, 0.94022484, 0.95546812]])"
      ]
     },
     "execution_count": 232,
     "metadata": {},
     "output_type": "execute_result"
    }
   ],
   "source": [
    "max_centroid_list_grid"
   ]
  },
  {
   "cell_type": "code",
   "execution_count": 233,
   "id": "5deb1d7c",
   "metadata": {},
   "outputs": [
    {
     "name": "stdout",
     "output_type": "stream",
     "text": [
      "End: 2025-07-14 00:52:24\n",
      "Plotting resulting graph...\n",
      "Plotting baseline 1...\n",
      "End: 2025-07-14 00:52:24\n"
     ]
    },
    {
     "data": {
      "image/png": "[encoded data removed]",
      "text/plain": [
       "<Figure size 432x288 with 1 Axes>"
      ]
     },
     "metadata": {
      "needs_background": "light"
     },
     "output_type": "display_data"
    }
   ],
   "source": [
    "# Plot the graphs of average rewards during testing phases of the policy\n",
    "# gradient method and the hand-crafted policies\n",
    "\n",
    "print(\"End: \" + datetime.now().strftime('%Y-%m-%d %H:%M:%S'))\n",
    "\n",
    "max_centroid_list_grid = [np.array(avg_centroid_max_2)[sel_index_2],\n",
    "                        np.array(avg_centroid_max_3)[sel_index_3],\n",
    "                        np.array(avg_centroid_max_4)[sel_index_4],\n",
    "                        np.array(avg_centroid_max_5)[sel_index_5],\n",
    "                        np.array(avg_centroid_max_6)[sel_index_6],\n",
    "                        np.array(avg_centroid_max_7)[sel_index_7],\n",
    "                        np.array(avg_centroid_max_8)[sel_index_8],\n",
    "                        np.array(avg_centroid_max_9)[sel_index_9],\n",
    "                        np.array(avg_centroid_max_10)[sel_index_10],\n",
    "                        np.array(avg_centroid_max_11)[sel_index_11],\n",
    "                        np.array(avg_centroid_max_12)[sel_index_12]]\n",
    "max_centroid_mean_grid = []\n",
    "max_centroid_std_grid = []\n",
    "for ii in range(len(num_transPOI_reward_unit_list)):\n",
    "    max_centroid_mean_grid.append(np.mean(max_centroid_list_grid[ii]))\n",
    "    max_centroid_std_grid.append(np.std(max_centroid_list_grid[ii]))\n",
    "\n",
    "print(\"Plotting resulting graph...\")\n",
    "# plt.figure(figsize = (12, 9))\n",
    "l1 = plt.errorbar(num_transPOI_reward_unit_list, max_centroid_mean_grid, yerr=max_centroid_std_grid, fmt='o-', capsize=5) # ecolor='gray', \n",
    "\n",
    "print(\"Plotting baseline 1...\")\n",
    "# plt.legend(loc='best',prop={'size': 10})\n",
    "plt.ylabel(\"Centroid shift\")\n",
    "plt.xlabel(\"num_bus_stop_reward_unit\")\n",
    "\n",
    "print(\"End: \" + datetime.now().strftime('%Y-%m-%d %H:%M:%S'))"
   ]
  },
  {
   "cell_type": "code",
   "execution_count": 234,
   "id": "21e988a6",
   "metadata": {},
   "outputs": [
    {
     "name": "stdout",
     "output_type": "stream",
     "text": [
      "End: 2025-07-14 00:52:28\n",
      "Plotting resulting graph...\n",
      "Plotting baseline 1...\n",
      "End: 2025-07-14 00:52:28\n"
     ]
    },
    {
     "data": {
      "image/png": "[encoded data removed]",
      "text/plain": [
       "<Figure size 432x288 with 1 Axes>"
      ]
     },
     "metadata": {
      "needs_background": "light"
     },
     "output_type": "display_data"
    }
   ],
   "source": [
    "# Plot the graphs of average rewards during testing phases of the policy\n",
    "# gradient method and the hand-crafted policies\n",
    "\n",
    "print(\"End: \" + datetime.now().strftime('%Y-%m-%d %H:%M:%S'))\n",
    "\n",
    "max_dispersion_list_grid = np.array([avg_dispersion_max_2,\n",
    "                                avg_dispersion_max_3,\n",
    "                                avg_dispersion_max_4,\n",
    "                                avg_dispersion_max_5,\n",
    "                                avg_dispersion_max_6,\n",
    "                                avg_dispersion_max_7,\n",
    "                                avg_dispersion_max_8,\n",
    "                                avg_dispersion_max_9,\n",
    "                                avg_dispersion_max_10,\n",
    "                                avg_dispersion_max_11,\n",
    "                                avg_dispersion_max_12])\n",
    "max_dispersion_mean_grid = np.mean(max_dispersion_list_grid, axis=1)\n",
    "max_dispersion_std_grid = np.std(max_dispersion_list_grid, axis=1)\n",
    "\n",
    "print(\"Plotting resulting graph...\")\n",
    "# plt.figure(figsize = (12, 9))\n",
    "l1 = plt.errorbar(num_transPOI_reward_unit_list, max_dispersion_mean_grid, yerr=max_dispersion_std_grid, fmt='o-', capsize=5) # ecolor='gray', \n",
    "\n",
    "print(\"Plotting baseline 1...\")\n",
    "# plt.legend(loc='best',prop={'size': 10})\n",
    "plt.ylabel(\"Dispersion shift\")\n",
    "plt.xlabel(\"num_bus_stop_reward_unit\")\n",
    "\n",
    "print(\"End: \" + datetime.now().strftime('%Y-%m-%d %H:%M:%S'))"
   ]
  },
  {
   "cell_type": "code",
   "execution_count": 235,
   "id": "54f7cb21",
   "metadata": {},
   "outputs": [
    {
     "data": {
      "text/plain": [
       "array([[-1.69879537, -1.72330839, -1.73987596, -1.71453986, -1.7371489 ,\n",
       "        -1.76232248, -1.69490344, -1.74987724, -1.74893748, -1.67088341],\n",
       "       [-1.73992371, -1.76237806, -1.73833869, -1.76516156, -1.72698361,\n",
       "        -1.74934088, -1.70688006, -1.72223827, -1.76129361, -1.72551876],\n",
       "       [-1.75610365, -1.73353529, -1.76528971, -1.73475808, -1.71544979,\n",
       "        -1.69260493, -1.75191696, -1.76899023, -1.7507812 , -1.72549737],\n",
       "       [-1.72664204, -1.73007271, -1.73606201, -1.74673164, -1.71189024,\n",
       "        -1.74030754, -1.75605609, -1.73003824, -1.76669072, -1.73411042],\n",
       "       [-1.75676743, -1.74884806, -1.7263261 , -1.70518154, -1.73500481,\n",
       "        -1.74983615, -1.74650178, -1.670102  , -1.74441719, -1.75466043],\n",
       "       [-1.74975279, -1.75253968, -1.68479352, -1.71584002, -1.73518189,\n",
       "        -1.65353848, -1.75365813, -1.71535944, -1.71829635, -1.7354829 ],\n",
       "       [-1.69010231, -1.7039344 , -1.71795348, -1.75290416, -1.70367412,\n",
       "        -1.71040672, -1.7408692 , -1.77540419, -1.744705  , -1.73704754],\n",
       "       [-1.6902399 , -1.75685403, -1.72398749, -1.69806408, -1.72619934,\n",
       "        -1.75884081, -1.77377127, -1.73570501, -1.67922162, -1.74488817],\n",
       "       [-1.6988471 , -1.71525553, -1.7382166 , -1.72777997, -1.75790253,\n",
       "        -1.69405162, -1.7351678 , -1.70477261, -1.73388267, -1.75176278],\n",
       "       [-1.76788395, -1.72144547, -1.73302382, -1.72598566, -1.79685015,\n",
       "        -1.73184079, -1.71538147, -1.77429604, -1.76172859, -1.71695939],\n",
       "       [-1.71956404, -1.7672323 , -1.71969845, -1.7384355 , -1.74276948,\n",
       "        -1.77609776, -1.72115331, -1.73078014, -1.75190463, -1.73170067]])"
      ]
     },
     "execution_count": 235,
     "metadata": {},
     "output_type": "execute_result"
    }
   ],
   "source": [
    "max_dispersion_list_grid"
   ]
  },
  {
   "cell_type": "code",
   "execution_count": 236,
   "id": "e7eadbf8",
   "metadata": {},
   "outputs": [
    {
     "name": "stdout",
     "output_type": "stream",
     "text": [
      "End: 2025-07-14 00:52:33\n",
      "Plotting resulting graph...\n",
      "Plotting baseline 1...\n",
      "End: 2025-07-14 00:52:33\n"
     ]
    },
    {
     "data": {
      "image/png": "[encoded data removed]",
      "text/plain": [
       "<Figure size 432x288 with 1 Axes>"
      ]
     },
     "metadata": {
      "needs_background": "light"
     },
     "output_type": "display_data"
    }
   ],
   "source": [
    "# Plot the graphs of average rewards during testing phases of the policy\n",
    "# gradient method and the hand-crafted policies\n",
    "\n",
    "print(\"End: \" + datetime.now().strftime('%Y-%m-%d %H:%M:%S'))\n",
    "\n",
    "max_dispersion_list_grid = [np.array(avg_dispersion_max_2)[sel_index_2],\n",
    "                        np.array(avg_dispersion_max_3)[sel_index_3],\n",
    "                        np.array(avg_dispersion_max_4)[sel_index_4],\n",
    "                        np.array(avg_dispersion_max_5)[sel_index_5],\n",
    "                        np.array(avg_dispersion_max_6)[sel_index_6],\n",
    "                        np.array(avg_dispersion_max_7)[sel_index_7],\n",
    "                        np.array(avg_dispersion_max_8)[sel_index_8],\n",
    "                        np.array(avg_dispersion_max_9)[sel_index_9],\n",
    "                        np.array(avg_dispersion_max_10)[sel_index_10],\n",
    "                        np.array(avg_dispersion_max_11)[sel_index_11],\n",
    "                        np.array(avg_dispersion_max_12)[sel_index_12]]\n",
    "max_dispersion_mean_grid = []\n",
    "max_dispersion_std_grid = []\n",
    "for ii in range(len(num_transPOI_reward_unit_list)):\n",
    "    max_dispersion_mean_grid.append(np.mean(max_dispersion_list_grid[ii]))\n",
    "    max_dispersion_std_grid.append(np.std(max_dispersion_list_grid[ii]))\n",
    "\n",
    "print(\"Plotting resulting graph...\")\n",
    "# plt.figure(figsize = (12, 9))\n",
    "l1 = plt.errorbar(num_transPOI_reward_unit_list, max_dispersion_mean_grid, yerr=max_dispersion_std_grid, fmt='o-', capsize=5) # ecolor='gray', \n",
    "\n",
    "print(\"Plotting baseline 1...\")\n",
    "# plt.legend(loc='best',prop={'size': 10})\n",
    "plt.ylabel(\"Dispersion shift\")\n",
    "plt.xlabel(\"num_bus_stop_reward_unit\")\n",
    "\n",
    "print(\"End: \" + datetime.now().strftime('%Y-%m-%d %H:%M:%S'))"
   ]
  },
  {
   "cell_type": "code",
   "execution_count": 237,
   "id": "3462e67e",
   "metadata": {},
   "outputs": [
    {
     "name": "stdout",
     "output_type": "stream",
     "text": [
      "End: 2025-07-14 00:52:37\n",
      "Plotting resulting graph...\n",
      "Plotting baseline 1...\n",
      "End: 2025-07-14 00:52:37\n"
     ]
    },
    {
     "data": {
      "image/png": "[encoded data removed]",
      "text/plain": [
       "<Figure size 432x288 with 1 Axes>"
      ]
     },
     "metadata": {
      "needs_background": "light"
     },
     "output_type": "display_data"
    }
   ],
   "source": [
    "# Plot the graphs of average rewards during testing phases of the policy\n",
    "# gradient method and the hand-crafted policies\n",
    "\n",
    "print(\"End: \" + datetime.now().strftime('%Y-%m-%d %H:%M:%S'))\n",
    "\n",
    "max_kl_list_grid = np.array([avg_kl_max_2,\n",
    "                                avg_kl_max_3,\n",
    "                                avg_kl_max_4,\n",
    "                                avg_kl_max_5,\n",
    "                                avg_kl_max_6,\n",
    "                                avg_kl_max_7,\n",
    "                                avg_kl_max_8,\n",
    "                                avg_kl_max_9,\n",
    "                                avg_kl_max_10,\n",
    "                                avg_kl_max_11,\n",
    "                                avg_kl_max_12])\n",
    "max_kl_mean_grid = np.mean(max_kl_list_grid, axis=1)\n",
    "max_kl_std_grid = np.std(max_kl_list_grid, axis=1)\n",
    "\n",
    "print(\"Plotting resulting graph...\")\n",
    "# plt.figure(figsize = (12, 9))\n",
    "l1 = plt.errorbar(num_transPOI_reward_unit_list, max_kl_mean_grid, yerr=max_kl_std_grid, fmt='o-', capsize=5) # ecolor='gray', \n",
    "\n",
    "print(\"Plotting baseline 1...\")\n",
    "# plt.legend(loc='best',prop={'size': 10})\n",
    "plt.ylabel(\"KL divergence\")\n",
    "plt.xlabel(\"num_bus_stop_reward_unit\")\n",
    "\n",
    "print(\"End: \" + datetime.now().strftime('%Y-%m-%d %H:%M:%S'))"
   ]
  },
  {
   "cell_type": "code",
   "execution_count": 238,
   "id": "de88d769",
   "metadata": {},
   "outputs": [
    {
     "data": {
      "text/plain": [
       "array([[0.83436565, 0.84417931, 0.82492268, 0.8317271 , 0.84060116,\n",
       "        0.82925952, 0.84047377, 0.82416538, 0.81897092, 0.90545046],\n",
       "       [0.84001767, 0.81948986, 0.82893827, 0.82283604, 0.82316381,\n",
       "        0.81495801, 0.85001068, 0.82626013, 0.79902205, 0.82617878],\n",
       "       [0.80274082, 0.82811492, 0.80533189, 0.83395949, 0.8420341 ,\n",
       "        0.82317559, 0.82534003, 0.8299501 , 0.82499179, 0.85198484],\n",
       "       [0.83784072, 0.86628566, 0.82097315, 0.81950476, 0.83733151,\n",
       "        0.81627458, 0.83188363, 0.82955934, 0.78728583, 0.83787769],\n",
       "       [0.83053201, 0.84441108, 0.82241595, 0.84033637, 0.8346995 ,\n",
       "        0.80742576, 0.82557905, 0.84689764, 0.7944502 , 0.83383725],\n",
       "       [0.81445131, 0.8120141 , 0.86561818, 0.84471994, 0.80878949,\n",
       "        0.87575741, 0.82346321, 0.82939962, 0.82655921, 0.87231901],\n",
       "       [0.841324  , 0.834334  , 0.8357894 , 0.81778537, 0.82409612,\n",
       "        0.84119821, 0.84351563, 0.84333411, 0.78965671, 0.8379232 ],\n",
       "       [0.83910485, 0.83626305, 0.83824126, 0.85743283, 0.82687045,\n",
       "        0.85661208, 0.82974439, 0.82427365, 0.8226007 , 0.83279418],\n",
       "       [0.86507998, 0.83057653, 0.83728574, 0.8128503 , 0.79086648,\n",
       "        0.83269646, 0.83073296, 0.85650699, 0.85978176, 0.83611471],\n",
       "       [0.82944902, 0.84912243, 0.82519881, 0.85195688, 0.80082598,\n",
       "        0.85203156, 0.82893664, 0.82561581, 0.79262659, 0.85453028],\n",
       "       [0.83796692, 0.85640486, 0.83684949, 0.82970012, 0.85522967,\n",
       "        0.78324528, 0.82738336, 0.82058783, 0.82291708, 0.82537027]])"
      ]
     },
     "execution_count": 238,
     "metadata": {},
     "output_type": "execute_result"
    }
   ],
   "source": [
    "max_kl_list_grid"
   ]
  },
  {
   "cell_type": "code",
   "execution_count": 239,
   "id": "5c7576f9",
   "metadata": {},
   "outputs": [
    {
     "name": "stdout",
     "output_type": "stream",
     "text": [
      "End: 2025-07-14 00:52:39\n",
      "Plotting resulting graph...\n",
      "Plotting baseline 1...\n",
      "End: 2025-07-14 00:52:39\n"
     ]
    },
    {
     "data": {
      "image/png": "[encoded data removed]",
      "text/plain": [
       "<Figure size 432x288 with 1 Axes>"
      ]
     },
     "metadata": {
      "needs_background": "light"
     },
     "output_type": "display_data"
    }
   ],
   "source": [
    "# Plot the graphs of average rewards during testing phases of the policy\n",
    "# gradient method and the hand-crafted policies\n",
    "\n",
    "print(\"End: \" + datetime.now().strftime('%Y-%m-%d %H:%M:%S'))\n",
    "\n",
    "max_kl_list_grid = [np.array(avg_kl_max_2)[sel_index_2],\n",
    "                        np.array(avg_kl_max_3)[sel_index_3],\n",
    "                        np.array(avg_kl_max_4)[sel_index_4],\n",
    "                        np.array(avg_kl_max_5)[sel_index_5],\n",
    "                        np.array(avg_kl_max_6)[sel_index_6],\n",
    "                        np.array(avg_kl_max_7)[sel_index_7],\n",
    "                        np.array(avg_kl_max_8)[sel_index_8],\n",
    "                        np.array(avg_kl_max_9)[sel_index_9],\n",
    "                        np.array(avg_kl_max_10)[sel_index_10],\n",
    "                        np.array(avg_kl_max_11)[sel_index_11],\n",
    "                        np.array(avg_kl_max_12)[sel_index_12]]\n",
    "max_kl_mean_grid = []\n",
    "max_kl_std_grid = []\n",
    "for ii in range(len(num_transPOI_reward_unit_list)):\n",
    "    max_kl_mean_grid.append(np.mean(max_kl_list_grid[ii]))\n",
    "    max_kl_std_grid.append(np.std(max_kl_list_grid[ii]))\n",
    "\n",
    "print(\"Plotting resulting graph...\")\n",
    "# plt.figure(figsize = (12, 9))\n",
    "l1 = plt.errorbar(num_transPOI_reward_unit_list, max_kl_mean_grid, yerr=max_kl_std_grid, fmt='o-', capsize=5) # ecolor='gray', \n",
    "\n",
    "print(\"Plotting baseline 1...\")\n",
    "# plt.legend(loc='best',prop={'size': 10})\n",
    "plt.ylabel(\"KL divergence\")\n",
    "plt.xlabel(\"num_bus_stop_reward_unit\")\n",
    "\n",
    "print(\"End: \" + datetime.now().strftime('%Y-%m-%d %H:%M:%S'))"
   ]
  },
  {
   "cell_type": "code",
   "execution_count": null,
   "id": "c153d57c",
   "metadata": {},
   "outputs": [],
   "source": []
  }
 ],
 "metadata": {
  "kernelspec": {
   "display_name": "Python 3 (ipykernel)",
   "language": "python",
   "name": "python3"
  },
  "language_info": {
   "codemirror_mode": {
    "name": "ipython",
    "version": 3
   },
   "file_extension": ".py",
   "mimetype": "text/x-python",
   "name": "python",
   "nbconvert_exporter": "python",
   "pygments_lexer": "ipython3",
   "version": "3.9.12"
  }
 },
 "nbformat": 4,
 "nbformat_minor": 5
}
